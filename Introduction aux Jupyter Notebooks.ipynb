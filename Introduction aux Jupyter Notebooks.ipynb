{
 "cells": [
  {
   "cell_type": "markdown",
   "id": "231a8095-e40e-4f46-a8f2-b2eca84108f9",
   "metadata": {},
   "source": [
    "# Introduction aux Notebooks Jupyter"
   ]
  },
  {
   "cell_type": "markdown",
   "id": "53ef510d-3f80-4e8f-9069-3882657428f4",
   "metadata": {},
   "source": [
    "# Contents\n",
    "\n",
    "- [Data Analysis with Jupyter Notebooks](#intro)\n",
    "    - [Why analyse data with computer code?](#why)\n",
    "- [Getting Started with Jupyter Notebooks](#getting_started)\n",
    "- [Running Code](#running_code)\n",
    "- [Saving Notebooks](#saving_notebooks)\n",
    "- [Comments and Markdown cells](#comments)\n",
    "- [Using assert Statements for Interactive Feedback](#assert_statements)"
   ]
  },
  {
   "cell_type": "code",
   "execution_count": null,
   "id": "dae12e6b-27a3-4ef7-ab67-69a86c78662e",
   "metadata": {},
   "outputs": [],
   "source": []
  }
 ],
 "metadata": {
  "kernelspec": {
   "display_name": "Python 3 (ipykernel)",
   "language": "python",
   "name": "python3"
  },
  "language_info": {
   "codemirror_mode": {
    "name": "ipython",
    "version": 3
   },
   "file_extension": ".py",
   "mimetype": "text/x-python",
   "name": "python",
   "nbconvert_exporter": "python",
   "pygments_lexer": "ipython3",
   "version": "3.10.0rc1"
  }
 },
 "nbformat": 4,
 "nbformat_minor": 5
}
