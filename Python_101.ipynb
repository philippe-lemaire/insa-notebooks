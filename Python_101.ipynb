{
 "cells": [
  {
   "cell_type": "markdown",
   "id": "9afd47c8",
   "metadata": {
    "toc": true
   },
   "source": [
    "<h1>Table des matières<span class=\"tocSkip\"></span></h1>\n",
    "<div class=\"toc\"><ul class=\"toc-item\"><li><span><a href=\"#Les-variables\" data-toc-modified-id=\"Les-variables-1\"><span class=\"toc-item-num\">1&nbsp;&nbsp;</span>Les variables</a></span></li><li><span><a href=\"#Les-types-de-données-fournis\" data-toc-modified-id=\"Les-types-de-données-fournis-2\"><span class=\"toc-item-num\">2&nbsp;&nbsp;</span>Les types de données fournis</a></span><ul class=\"toc-item\"><li><span><a href=\"#Les-Chaînes-de-caractères-(strings)\" data-toc-modified-id=\"Les-Chaînes-de-caractères-(strings)-2.1\"><span class=\"toc-item-num\">2.1&nbsp;&nbsp;</span>Les Chaînes de caractères (strings)</a></span></li><li><span><a href=\"#Les-Nombres-et-opérateurs\" data-toc-modified-id=\"Les-Nombres-et-opérateurs-2.2\"><span class=\"toc-item-num\">2.2&nbsp;&nbsp;</span>Les Nombres et opérateurs</a></span></li><li><span><a href=\"#Les-variables-et-opérateurs-booléens\" data-toc-modified-id=\"Les-variables-et-opérateurs-booléens-2.3\"><span class=\"toc-item-num\">2.3&nbsp;&nbsp;</span>Les variables et opérateurs booléens</a></span></li><li><span><a href=\"#Les-Collections-:-listes,-tuples,-ensembles-et-dictionnaires\" data-toc-modified-id=\"Les-Collections-:-listes,-tuples,-ensembles-et-dictionnaires-2.4\"><span class=\"toc-item-num\">2.4&nbsp;&nbsp;</span>Les Collections : listes, tuples, ensembles et dictionnaires</a></span></li></ul></li></ul></div>"
   ]
  },
  {
   "cell_type": "markdown",
   "id": "bccadeb4",
   "metadata": {
    "ExecuteTime": {
     "end_time": "2022-01-18T08:22:26.693572Z",
     "start_time": "2022-01-18T08:22:26.686858Z"
    }
   },
   "source": [
    "<div class=\"alert alert-success\">Ce document est un Notebook Jupyter. Il est concu pour que vous exécutiez les cellules pour faire apparaître leur résultat juste en dessous. \n",
    "Le raccourci clavier pour exécuter une cellule et passer le contrôle à la suivante est <b>Shift + Entrée</b></div>"
   ]
  },
  {
   "cell_type": "markdown",
   "id": "9f6a3eec",
   "metadata": {
    "ExecuteTime": {
     "end_time": "2022-01-17T16:26:08.455525Z",
     "start_time": "2022-01-17T16:26:08.450289Z"
    }
   },
   "source": [
    "# Python - Les bases"
   ]
  },
  {
   "cell_type": "markdown",
   "id": "45ecfb09",
   "metadata": {},
   "source": [
    "## Les variables"
   ]
  },
  {
   "cell_type": "markdown",
   "id": "7896661c",
   "metadata": {},
   "source": [
    "<div class='alert alert-info'>Une variable est un nom que l’on donne pour capturer le résultat d’une expression pour le réemployer par la suite.</div>"
   ]
  },
  {
   "cell_type": "markdown",
   "id": "111fe539",
   "metadata": {},
   "source": [
    "<div class='alert alert-info'>En Python, créer et assigner une valeur à une variable se fait d'un coup, avec le symbole <strong>=</strong></div>"
   ]
  },
  {
   "cell_type": "code",
   "execution_count": null,
   "id": "04a8454e",
   "metadata": {
    "ExecuteTime": {
     "end_time": "2022-01-18T08:07:11.539309Z",
     "start_time": "2022-01-18T08:07:11.534928Z"
    }
   },
   "outputs": [],
   "source": [
    "a = 2 + 2"
   ]
  },
  {
   "cell_type": "code",
   "execution_count": null,
   "id": "b4a9af91",
   "metadata": {
    "ExecuteTime": {
     "end_time": "2022-01-18T08:07:11.692101Z",
     "start_time": "2022-01-18T08:07:11.686356Z"
    }
   },
   "outputs": [],
   "source": [
    "a"
   ]
  },
  {
   "cell_type": "markdown",
   "id": "b37e98a0",
   "metadata": {},
   "source": [
    "<div class='alert alert-info'>La variable peut ensuite être mise à jour librement :</div>"
   ]
  },
  {
   "cell_type": "code",
   "execution_count": null,
   "id": "79ef80f2",
   "metadata": {
    "ExecuteTime": {
     "end_time": "2022-01-18T08:07:12.152266Z",
     "start_time": "2022-01-18T08:07:12.141150Z"
    }
   },
   "outputs": [],
   "source": [
    "a = a + 1 # Le nouveau a devient l’ancien a + 1\n",
    "a"
   ]
  },
  {
   "cell_type": "markdown",
   "id": "b40787fa",
   "metadata": {},
   "source": [
    "<div class='alert alert-info'>Ce genre d'opérations de mise à jour étant très fréquent il existe un raccourci </div>"
   ]
  },
  {
   "cell_type": "code",
   "execution_count": null,
   "id": "92d74626",
   "metadata": {
    "ExecuteTime": {
     "end_time": "2022-01-18T08:07:12.434987Z",
     "start_time": "2022-01-18T08:07:12.428523Z"
    }
   },
   "outputs": [],
   "source": [
    "a += 1\n",
    "a"
   ]
  },
  {
   "cell_type": "markdown",
   "id": "d9fafd8e",
   "metadata": {},
   "source": [
    "<div class='alert alert-success'><strong>Bonnes pratiques</strong>\n",
    "\n",
    "Il est en général préférable d'utiliser des noms de variables ayant du sens, même s'ils sont un peu plus longs à tapper.\n",
    "\n",
    "La convention est d’utiliser des noms de variables en minuscules, en séparant au besoin un groupe de mot par des underscores.\n",
    "    \n",
    "Utiliser une variable d'une seule lettre est en général à éviter, sauf si c'est évident ou bien une convention du domaine, par exemple :\n",
    "    \n",
    "- i (pour index)\n",
    "- n (pour un entier naturel)\n",
    "- X (pour une matrice)\n",
    "\n",
    "</div>"
   ]
  },
  {
   "cell_type": "markdown",
   "id": "d938ee62",
   "metadata": {
    "ExecuteTime": {
     "end_time": "2022-01-18T08:24:34.487922Z",
     "start_time": "2022-01-18T08:24:34.479057Z"
    }
   },
   "source": [
    "<div class='alert alert-danger'>Certains mots sont des termes réservés dans la syntaxe Python, ne les utilisez pas comme noms de variables (liste non exhaustive) :\n",
    "\n",
    "- class\n",
    "- list\n",
    "- type\n",
    "- dict\n",
    "- str\n",
    "</div>"
   ]
  },
  {
   "cell_type": "markdown",
   "id": "983a2d53",
   "metadata": {
    "ExecuteTime": {
     "end_time": "2022-01-18T08:24:34.487922Z",
     "start_time": "2022-01-18T08:24:34.479057Z"
    }
   },
   "source": [
    "<div class='alert alert-warning'>\n",
    "Vous pouvez en revanche parfaitement utiliser class_ ou le franciser en classe par exemple.\n",
    "</div>"
   ]
  },
  {
   "cell_type": "markdown",
   "id": "485e8b63",
   "metadata": {},
   "source": [
    "## Les types de données fournis"
   ]
  },
  {
   "cell_type": "markdown",
   "id": "3d1c6a88",
   "metadata": {
    "ExecuteTime": {
     "end_time": "2022-01-17T16:27:28.316439Z",
     "start_time": "2022-01-17T16:27:28.312519Z"
    }
   },
   "source": [
    "### Les Chaînes de caractères (strings)"
   ]
  },
  {
   "cell_type": "markdown",
   "id": "cee33243",
   "metadata": {},
   "source": [
    "<div class='alert alert-info'>Une chaîne de caractères est une simple série de lettres et de symboles, autrement dit du texte brut, à ne pas confondre avec des instructions Python.\n",
    "\n",
    "Pour créer une chaîne de caractères, on encadre le texte d'apostrophes simples 'comme ceci' (simple quote) ou bien de \"guillements\" (double quote). \n",
    "\n",
    "Une longue chaîne de caractères s'étalant sur plusieurs lignes doit être encadrée par triple apostrophe, simple ou double.</div>"
   ]
  },
  {
   "cell_type": "code",
   "execution_count": null,
   "id": "b37e0deb",
   "metadata": {
    "ExecuteTime": {
     "end_time": "2022-01-18T08:10:50.974603Z",
     "start_time": "2022-01-18T08:10:50.968938Z"
    }
   },
   "outputs": [],
   "source": [
    "# exemple de string multilignes avec triple simple-quote\n",
    "print('''\n",
    "comme\n",
    "ceci\n",
    "''')"
   ]
  },
  {
   "cell_type": "code",
   "execution_count": null,
   "id": "a7f54265",
   "metadata": {
    "ExecuteTime": {
     "end_time": "2022-01-18T08:10:54.542851Z",
     "start_time": "2022-01-18T08:10:54.537532Z"
    }
   },
   "outputs": [],
   "source": [
    "# exemple de string multilignes avec triple double-quote\n",
    "print(\"\"\"\n",
    "comme\n",
    "cela\n",
    "\"\"\")"
   ]
  },
  {
   "cell_type": "markdown",
   "id": "74885c37",
   "metadata": {
    "ExecuteTime": {
     "end_time": "2022-01-17T16:35:36.685752Z",
     "start_time": "2022-01-17T16:35:36.680620Z"
    }
   },
   "source": [
    "### Les Nombres et opérateurs"
   ]
  },
  {
   "cell_type": "markdown",
   "id": "248d7f21",
   "metadata": {},
   "source": [
    "<div class='alert alert-info'>\n",
    "    De base, vous avez accès à trois types de nombres : \n",
    "\n",
    "1. les entiers (integers), \n",
    "1. les nombres à virgule (float)\n",
    "1. les complexes\n",
    "    \n",
    "</div>"
   ]
  },
  {
   "cell_type": "code",
   "execution_count": null,
   "id": "7b7a8239",
   "metadata": {
    "ExecuteTime": {
     "end_time": "2022-01-18T08:06:43.804774Z",
     "start_time": "2022-01-18T08:06:43.801701Z"
    }
   },
   "outputs": [],
   "source": [
    "type(42)"
   ]
  },
  {
   "cell_type": "code",
   "execution_count": null,
   "id": "b9347739",
   "metadata": {
    "ExecuteTime": {
     "end_time": "2022-01-18T08:06:43.808937Z",
     "start_time": "2022-01-18T08:06:43.806038Z"
    }
   },
   "outputs": [],
   "source": [
    "type(42.0)"
   ]
  },
  {
   "cell_type": "code",
   "execution_count": null,
   "id": "42c76e9c",
   "metadata": {
    "ExecuteTime": {
     "end_time": "2022-01-18T08:06:43.812786Z",
     "start_time": "2022-01-18T08:06:43.810231Z"
    }
   },
   "outputs": [],
   "source": [
    "type(4 + 2j)"
   ]
  },
  {
   "cell_type": "markdown",
   "id": "aa804185",
   "metadata": {},
   "source": [
    "Les opérations usuelles sont évidemment présentes :"
   ]
  },
  {
   "cell_type": "code",
   "execution_count": null,
   "id": "3a2ae04c",
   "metadata": {
    "ExecuteTime": {
     "end_time": "2022-01-18T08:06:43.817582Z",
     "start_time": "2022-01-18T08:06:43.814702Z"
    }
   },
   "outputs": [],
   "source": [
    "2 + 2 * 3"
   ]
  },
  {
   "cell_type": "code",
   "execution_count": null,
   "id": "62b2f3f8",
   "metadata": {
    "ExecuteTime": {
     "end_time": "2022-01-18T08:12:28.937632Z",
     "start_time": "2022-01-18T08:12:28.929510Z"
    }
   },
   "outputs": [],
   "source": [
    "(2 + 2) * 3.0 # les parenthèses permettent naturellement de forcer l'ordre des opérations"
   ]
  },
  {
   "cell_type": "code",
   "execution_count": null,
   "id": "27c00219",
   "metadata": {
    "ExecuteTime": {
     "end_time": "2022-01-18T08:12:41.801660Z",
     "start_time": "2022-01-18T08:12:41.794281Z"
    }
   },
   "outputs": [],
   "source": [
    "2 ** 8 # 2 puissance 8, double étoile"
   ]
  },
  {
   "cell_type": "code",
   "execution_count": null,
   "id": "ab423743",
   "metadata": {
    "ExecuteTime": {
     "end_time": "2022-01-18T08:06:43.829125Z",
     "start_time": "2022-01-18T08:06:43.826283Z"
    }
   },
   "outputs": [],
   "source": [
    "8 / 2 # la division donne toujours un float, même quand elle tombe juste"
   ]
  },
  {
   "cell_type": "code",
   "execution_count": null,
   "id": "287403f3",
   "metadata": {
    "ExecuteTime": {
     "end_time": "2022-01-18T08:06:43.832972Z",
     "start_time": "2022-01-18T08:06:43.830291Z"
    }
   },
   "outputs": [],
   "source": [
    "16 // 12 # la division entière se fait avec double slash, et donne un entier"
   ]
  },
  {
   "cell_type": "code",
   "execution_count": null,
   "id": "a15efb93",
   "metadata": {
    "ExecuteTime": {
     "end_time": "2022-01-18T08:06:43.836862Z",
     "start_time": "2022-01-18T08:06:43.834234Z"
    }
   },
   "outputs": [],
   "source": [
    "16 % 12 # le reste (ou modulo) se fait avec le symbole %"
   ]
  },
  {
   "cell_type": "code",
   "execution_count": null,
   "id": "3ee6d815",
   "metadata": {
    "ExecuteTime": {
     "end_time": "2022-01-18T08:14:50.867889Z",
     "start_time": "2022-01-18T08:14:50.863488Z"
    }
   },
   "outputs": [],
   "source": [
    "# l’opérateur modulo est souvent utilisé pour tester la divisibilité, en comparant n % p à 0\n",
    "13 % 3 == 0 # la comparaison se fait avec un double ==, le simple = est pour l'assignation de variables"
   ]
  },
  {
   "cell_type": "code",
   "execution_count": null,
   "id": "fd9339b5",
   "metadata": {
    "ExecuteTime": {
     "end_time": "2022-01-18T08:15:11.024711Z",
     "start_time": "2022-01-18T08:15:11.017706Z"
    }
   },
   "outputs": [],
   "source": [
    "# Pour avoir le quotient et le reste d’un coup, sous la forme d'un tuple de 2 valeurs\n",
    "divmod(16,12)"
   ]
  },
  {
   "cell_type": "code",
   "execution_count": null,
   "id": "8dda06e4",
   "metadata": {
    "ExecuteTime": {
     "end_time": "2022-01-18T08:15:28.843190Z",
     "start_time": "2022-01-18T08:15:28.834404Z"
    }
   },
   "outputs": [],
   "source": [
    "(3+1j) * (4+2j) # addition et multiplication de nombres complexes, gratuitement :)"
   ]
  },
  {
   "cell_type": "markdown",
   "id": "57a2106d",
   "metadata": {},
   "source": [
    "<div class = \"alert alert-info\">Pour aller plus loin, le module math est là, il suffit de l'importer</div>"
   ]
  },
  {
   "cell_type": "code",
   "execution_count": null,
   "id": "9aeeb9b9",
   "metadata": {
    "ExecuteTime": {
     "end_time": "2022-01-18T08:06:43.849434Z",
     "start_time": "2022-01-18T08:06:43.847026Z"
    }
   },
   "outputs": [],
   "source": [
    "import math"
   ]
  },
  {
   "cell_type": "code",
   "execution_count": null,
   "id": "1cb97f74",
   "metadata": {
    "ExecuteTime": {
     "end_time": "2022-01-18T08:17:01.986677Z",
     "start_time": "2022-01-18T08:17:01.976908Z"
    }
   },
   "outputs": [],
   "source": [
    "math.e**(math.pi*1j) #avec approximations inévitables"
   ]
  },
  {
   "cell_type": "markdown",
   "id": "a1412c34",
   "metadata": {},
   "source": [
    "<div class=\"alert alert-info\">Quand on importe un module comme math, on a accès aux objets définis dedans avec la syntaxe nom_du_module.nom_de_l_objet</div>"
   ]
  },
  {
   "cell_type": "code",
   "execution_count": null,
   "id": "52bdfb4a",
   "metadata": {
    "ExecuteTime": {
     "end_time": "2022-01-18T08:19:34.359580Z",
     "start_time": "2022-01-18T08:19:34.353430Z"
    }
   },
   "outputs": [],
   "source": [
    "math.log(10)"
   ]
  },
  {
   "cell_type": "markdown",
   "id": "e0cabef2",
   "metadata": {
    "ExecuteTime": {
     "end_time": "2022-01-17T16:56:15.859856Z",
     "start_time": "2022-01-17T16:56:15.856021Z"
    }
   },
   "source": [
    "### Les variables et opérateurs booléens"
   ]
  },
  {
   "cell_type": "code",
   "execution_count": null,
   "id": "89b8d543",
   "metadata": {
    "ExecuteTime": {
     "end_time": "2022-01-18T08:06:43.863588Z",
     "start_time": "2022-01-18T08:06:43.861012Z"
    }
   },
   "outputs": [],
   "source": [
    "True"
   ]
  },
  {
   "cell_type": "code",
   "execution_count": null,
   "id": "cf8b0b45",
   "metadata": {
    "ExecuteTime": {
     "end_time": "2022-01-18T08:06:43.869648Z",
     "start_time": "2022-01-18T08:06:43.866708Z"
    }
   },
   "outputs": [],
   "source": [
    "False"
   ]
  },
  {
   "cell_type": "code",
   "execution_count": null,
   "id": "127abcf6",
   "metadata": {
    "ExecuteTime": {
     "end_time": "2022-01-18T08:06:43.876464Z",
     "start_time": "2022-01-18T08:06:43.871465Z"
    }
   },
   "outputs": [],
   "source": [
    "True and False"
   ]
  },
  {
   "cell_type": "code",
   "execution_count": null,
   "id": "c58e723e",
   "metadata": {
    "ExecuteTime": {
     "end_time": "2022-01-18T08:06:43.882197Z",
     "start_time": "2022-01-18T08:06:43.878579Z"
    }
   },
   "outputs": [],
   "source": [
    "True or False"
   ]
  },
  {
   "cell_type": "code",
   "execution_count": null,
   "id": "bf8ba329",
   "metadata": {
    "ExecuteTime": {
     "end_time": "2022-01-18T08:06:43.889147Z",
     "start_time": "2022-01-18T08:06:43.884434Z"
    }
   },
   "outputs": [],
   "source": [
    "not False"
   ]
  },
  {
   "cell_type": "markdown",
   "id": "d5bcd5a2",
   "metadata": {},
   "source": [
    "### Les Collections : listes, tuples, ensembles et dictionnaires"
   ]
  },
  {
   "cell_type": "markdown",
   "id": "ebbd1d6d",
   "metadata": {},
   "source": [
    "<div class=\"alert alert-info\">Une liste est une collection ordonnée d'éléments de types, \n",
    "# encadrés par des crochets [ ] et séparés par des virgules</div>"
   ]
  },
  {
   "cell_type": "code",
   "execution_count": null,
   "id": "b462cdf4",
   "metadata": {
    "ExecuteTime": {
     "end_time": "2022-01-18T08:27:13.515176Z",
     "start_time": "2022-01-18T08:27:13.491083Z"
    }
   },
   "outputs": [],
   "source": [
    "my_list = ['Ceci', 'est', 'une', 'liste', 'de', 'strings', 'et', 'de', 'nombres', 3, 0.0]\n",
    "type(my_list)"
   ]
  },
  {
   "cell_type": "code",
   "execution_count": null,
   "id": "31a82806",
   "metadata": {
    "ExecuteTime": {
     "end_time": "2022-01-18T08:27:31.156994Z",
     "start_time": "2022-01-18T08:27:31.149772Z"
    }
   },
   "outputs": [],
   "source": [
    "len(my_list) # La fonction len() donne la longueur (length) d'une collection, ie le nombre d'éléments inclus"
   ]
  },
  {
   "cell_type": "markdown",
   "id": "a428bdf7",
   "metadata": {},
   "source": [
    "<div class=\"alert alert-info\">un tuple est similaire à une liste, et créé avec des parenthèses. Contrairement à une liste, un tuple est immuable.</div>"
   ]
  },
  {
   "cell_type": "code",
   "execution_count": null,
   "id": "c22f485d",
   "metadata": {
    "ExecuteTime": {
     "end_time": "2022-01-18T08:28:31.753544Z",
     "start_time": "2022-01-18T08:28:31.746759Z"
    }
   },
   "outputs": [],
   "source": [
    "type((1,2))"
   ]
  },
  {
   "cell_type": "markdown",
   "id": "c08fe3cd",
   "metadata": {},
   "source": [
    "<div class=\"alert alert-info\">Les listes et les tuples sont ordonnés, on peut accéder à un élément interne grâce à sa position (son index)</div>"
   ]
  },
  {
   "cell_type": "code",
   "execution_count": null,
   "id": "68231682",
   "metadata": {
    "ExecuteTime": {
     "end_time": "2022-01-18T08:29:33.578107Z",
     "start_time": "2022-01-18T08:29:33.573417Z"
    }
   },
   "outputs": [],
   "source": [
    "beatles = ['Philippe', 'George', 'Paul', 'Ringo']"
   ]
  },
  {
   "cell_type": "code",
   "execution_count": null,
   "id": "33a3cff0",
   "metadata": {
    "ExecuteTime": {
     "end_time": "2022-01-18T08:29:33.699508Z",
     "start_time": "2022-01-18T08:29:33.693115Z"
    }
   },
   "outputs": [],
   "source": [
    "beatles[0] # l'index commence à 0"
   ]
  },
  {
   "cell_type": "code",
   "execution_count": null,
   "id": "e05e9441",
   "metadata": {
    "ExecuteTime": {
     "end_time": "2022-01-18T08:29:33.853164Z",
     "start_time": "2022-01-18T08:29:33.848997Z"
    }
   },
   "outputs": [],
   "source": [
    "beatles[-1] # les index négatifs partent de la fin"
   ]
  },
  {
   "cell_type": "code",
   "execution_count": null,
   "id": "9b089b1a",
   "metadata": {
    "ExecuteTime": {
     "end_time": "2022-01-18T08:29:33.979286Z",
     "start_time": "2022-01-18T08:29:33.973770Z"
    }
   },
   "outputs": [],
   "source": [
    "beatles[0] = 'John' # mise à jour d’un élément dans la liste\n",
    "beatles"
   ]
  },
  {
   "cell_type": "markdown",
   "id": "8f0ae696",
   "metadata": {},
   "source": [
    "<div class=\"alert alert-info\">On peut créer une nouvelle liste en \"tranchant\" dans une liste, il suffit d'indiquer la position de départ (incluse) et celle d’arrêt (exclue)</div>"
   ]
  },
  {
   "cell_type": "code",
   "execution_count": null,
   "id": "6a263e33",
   "metadata": {
    "ExecuteTime": {
     "end_time": "2022-01-18T08:30:02.809611Z",
     "start_time": "2022-01-18T08:30:02.803158Z"
    }
   },
   "outputs": [],
   "source": [
    "beatles[1:3] # de la position 1 à la position 3 (sans prendre la 3ème)"
   ]
  },
  {
   "cell_type": "code",
   "execution_count": null,
   "id": "b6780949",
   "metadata": {
    "ExecuteTime": {
     "end_time": "2022-01-18T08:30:04.771985Z",
     "start_time": "2022-01-18T08:30:04.764433Z"
    }
   },
   "outputs": [],
   "source": [
    "beatles[-2:] # de l'avant-dernier à la fin"
   ]
  },
  {
   "cell_type": "code",
   "execution_count": null,
   "id": "936b5354",
   "metadata": {
    "ExecuteTime": {
     "end_time": "2022-01-18T08:30:22.331936Z",
     "start_time": "2022-01-18T08:30:22.324408Z"
    }
   },
   "outputs": [],
   "source": [
    "beatles[::-1] # du début à la fin, avec des \"pas\" de -1, ce qui revient à une copie inversée de la liste"
   ]
  },
  {
   "cell_type": "code",
   "execution_count": null,
   "id": "7141c67d",
   "metadata": {
    "ExecuteTime": {
     "end_time": "2022-01-18T08:30:45.197691Z",
     "start_time": "2022-01-18T08:30:45.185096Z"
    }
   },
   "outputs": [],
   "source": [
    "{0, 1, 1, 1, 2} # un ensemble (set) est une collection d'objets uniques. On peut le créer avec deux accolades."
   ]
  },
  {
   "cell_type": "code",
   "execution_count": null,
   "id": "c546bbab",
   "metadata": {
    "ExecuteTime": {
     "end_time": "2022-01-18T08:31:02.209324Z",
     "start_time": "2022-01-18T08:31:02.201660Z"
    }
   },
   "outputs": [],
   "source": [
    "set([0,1,1,1,2]) # on peut aussi créer un ensemble à partir d'une liste, d'un tuple, ou même d'un string"
   ]
  },
  {
   "cell_type": "code",
   "execution_count": null,
   "id": "833a8805",
   "metadata": {
    "ExecuteTime": {
     "end_time": "2022-01-18T08:31:21.924947Z",
     "start_time": "2022-01-18T08:31:21.914263Z"
    }
   },
   "outputs": [],
   "source": [
    "set('Python is easy') # les objets dans un set n'ont pas vraiment d'ordre, même s'ils sont présentés alphabétiquement"
   ]
  },
  {
   "cell_type": "markdown",
   "id": "c1ee7a97",
   "metadata": {},
   "source": [
    "<div class=\"alert alert-info\">Un dictionnaire est une collection de couples de clés:valeurs.</div>"
   ]
  },
  {
   "cell_type": "code",
   "execution_count": null,
   "id": "69b126e0",
   "metadata": {
    "ExecuteTime": {
     "end_time": "2022-01-18T08:36:34.520566Z",
     "start_time": "2022-01-18T08:36:34.512976Z"
    }
   },
   "outputs": [],
   "source": [
    "p1 = {'first_name': 'Leonardo', 'last_name': 'da Vinci'}\n",
    "\n",
    "type(p1)"
   ]
  },
  {
   "cell_type": "code",
   "execution_count": null,
   "id": "9fa06849",
   "metadata": {
    "ExecuteTime": {
     "end_time": "2022-01-18T08:36:34.655344Z",
     "start_time": "2022-01-18T08:36:34.649054Z"
    }
   },
   "outputs": [],
   "source": [
    "p1['first_name']"
   ]
  },
  {
   "cell_type": "code",
   "execution_count": null,
   "id": "64fac1b2",
   "metadata": {
    "ExecuteTime": {
     "end_time": "2022-01-18T08:36:34.763940Z",
     "start_time": "2022-01-18T08:36:34.759698Z"
    }
   },
   "outputs": [],
   "source": [
    "p1['last_name']"
   ]
  },
  {
   "cell_type": "markdown",
   "id": "758b8f87",
   "metadata": {},
   "source": [
    "<div class=\"alert alert-info\">La mise à jour d'une clé existante se fait par réassignation.</div>"
   ]
  },
  {
   "cell_type": "code",
   "execution_count": null,
   "id": "2095a1ab",
   "metadata": {
    "ExecuteTime": {
     "end_time": "2022-01-18T08:38:00.261944Z",
     "start_time": "2022-01-18T08:38:00.253349Z"
    }
   },
   "outputs": [],
   "source": [
    "p1['first_name'] = 'John'\n",
    "p1['last_name'] = 'Doe'\n",
    "p1"
   ]
  },
  {
   "cell_type": "markdown",
   "id": "7ec99bb9",
   "metadata": {},
   "source": [
    "<div class=\"alert alert-info\">L'ajout d'une nouvelle paire clé:valeur se fait de la même manière.</div>"
   ]
  },
  {
   "cell_type": "code",
   "execution_count": null,
   "id": "1ae56df3",
   "metadata": {
    "ExecuteTime": {
     "end_time": "2022-01-18T08:38:57.477634Z",
     "start_time": "2022-01-18T08:38:57.467674Z"
    }
   },
   "outputs": [],
   "source": [
    "p1['birth_place'] = 'Lyon'\n",
    "p1"
   ]
  },
  {
   "cell_type": "markdown",
   "id": "209452d1",
   "metadata": {},
   "source": [
    "<div class=\"alert alert-warning\">Les clés d'un dictionnaires doivent être uniques et d'un type hashable. \n",
    "    \n",
    "En pratique, on utilise généralement des strings comme clés, et parfois des entiers.</div>"
   ]
  },
  {
   "cell_type": "code",
   "execution_count": null,
   "id": "3c1bf7b7",
   "metadata": {},
   "outputs": [],
   "source": []
  }
 ],
 "metadata": {
  "kernelspec": {
   "display_name": "Python 3 (ipykernel)",
   "language": "python",
   "name": "python3"
  },
  "language_info": {
   "codemirror_mode": {
    "name": "ipython",
    "version": 3
   },
   "file_extension": ".py",
   "mimetype": "text/x-python",
   "name": "python",
   "nbconvert_exporter": "python",
   "pygments_lexer": "ipython3",
   "version": "3.10.0rc1"
  },
  "toc": {
   "base_numbering": 1,
   "nav_menu": {},
   "number_sections": true,
   "sideBar": true,
   "skip_h1_title": true,
   "title_cell": "Table des matières",
   "title_sidebar": "Contenu",
   "toc_cell": true,
   "toc_position": {},
   "toc_section_display": true,
   "toc_window_display": true
  }
 },
 "nbformat": 4,
 "nbformat_minor": 5
}
