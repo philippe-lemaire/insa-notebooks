{
 "cells": [
  {
   "cell_type": "markdown",
   "id": "4fbf14dc-4456-49c0-ba90-412aa0576ad2",
   "metadata": {},
   "source": [
    "# Atomes pythoniques - une démo de la simplicité des classes construites avec dataclass"
   ]
  },
  {
   "cell_type": "code",
   "execution_count": null,
   "id": "a151e440-1d91-49f4-9c7b-efc8cd454d76",
   "metadata": {
    "ExecuteTime": {
     "end_time": "2022-04-26T12:22:31.112536Z",
     "start_time": "2022-04-26T12:22:30.899065Z"
    }
   },
   "outputs": [],
   "source": [
    "import os\n",
    "import re\n",
    "import pandas as pd\n",
    "from dataclasses import dataclass"
   ]
  },
  {
   "cell_type": "markdown",
   "id": "6e43f6ac",
   "metadata": {},
   "source": [
    "Nous allons nous amuser à créer des objets personnalisés `Atom` et à les structurer de différentes manières.\n",
    "\n",
    "Pour référence\n",
    "\n",
    "![une table périodique des éléments](https://upload.wikimedia.org/wikipedia/commons/thumb/9/91/Tableau_p%C3%A9riodique_des_%C3%A9l%C3%A9ments.svg/1920px-Tableau_p%C3%A9riodique_des_%C3%A9l%C3%A9ments.svg.png)"
   ]
  },
  {
   "cell_type": "markdown",
   "id": "762a42f9-1242-4ceb-af08-ce04c4de11a8",
   "metadata": {},
   "source": [
    "## récupération et lecture des données"
   ]
  },
  {
   "cell_type": "code",
   "execution_count": null,
   "id": "d5bb024a-d64d-49c2-b083-e9c51a660674",
   "metadata": {
    "ExecuteTime": {
     "end_time": "2022-04-26T12:22:31.116211Z",
     "start_time": "2022-04-26T12:22:31.114142Z"
    }
   },
   "outputs": [],
   "source": [
    "periodic_table_url = \"https://inventwithpython.com/periodictable.csv\"\n",
    "periodic_table_filename = \"periodic_table.csv\""
   ]
  },
  {
   "cell_type": "code",
   "execution_count": null,
   "id": "e2024a75-520e-42a4-820e-9a79a48633c4",
   "metadata": {
    "ExecuteTime": {
     "end_time": "2022-04-26T12:22:31.272294Z",
     "start_time": "2022-04-26T12:22:31.117488Z"
    }
   },
   "outputs": [],
   "source": [
    "# téléchargement du fichier CSV et enregistrement dans le même sous dossier. Nécessite curl.\n",
    "os.system(f\"curl -sS {periodic_table_url} > {periodic_table_filename}\")"
   ]
  },
  {
   "cell_type": "code",
   "execution_count": null,
   "id": "9d1806e6-39cc-44bc-92d4-35ac16dac25e",
   "metadata": {
    "ExecuteTime": {
     "end_time": "2022-04-26T12:22:31.288628Z",
     "start_time": "2022-04-26T12:22:31.276914Z"
    }
   },
   "outputs": [],
   "source": [
    "def get_table():\n",
    "    \"\"\"Fonction qui charge le fichier CSV et renvoie une DataFrame \n",
    "    avec uniquement les colonnes qui nous intéressent.\"\"\"\n",
    "    \n",
    "    # on charge le fichier, sans header car les entêtes de colonnes sont manquants\n",
    "    table = pd.read_csv(periodic_table_filename, header=None)\n",
    "    # liste de noms des colonnes\n",
    "    columns = [\n",
    "        \"Atomic Number\",\n",
    "        \"Symbol\",\n",
    "        \"Element\",\n",
    "        \"Origin of name\",\n",
    "        \"Group\",\n",
    "        \"Period\",\n",
    "        \"Atomic_weight\",\n",
    "        \"Density\",\n",
    "        \"Melting point\",\n",
    "        \"Boiling point\",\n",
    "        \"Specific heat capacity\",\n",
    "        \"Electronegativity\",\n",
    "        \"Abundance in earth's crust\",\n",
    "    ]\n",
    "\n",
    "    # ajout des noms de colonne à la DataFrame\n",
    "    table.columns = columns\n",
    "\n",
    "    # Sélection des colonnes qui nous intéressent en réalité\n",
    "    selection = [\"Atomic Number\", \"Symbol\", \"Element\", \"Group\", \"Period\", \"Atomic_weight\"]\n",
    "    table = table[selection]\n",
    "    \n",
    "    # retirer tous les nombres romains entre crochets issus du copier coller de wikipedia dans les poids\n",
    "    clean_up_roman = lambda value: re.sub(r'\\[(I|V|X)+\\]', '', value)\n",
    "    table.Atomic_weight = table.Atomic_weight.apply(clean_up_roman)\n",
    "\n",
    "    # changer la colonne group de float à int\n",
    "    table.Group = table.Group.astype(\"Int32\")\n",
    "\n",
    "    # régler l'index sur le numéro atomique et renvoyer la DataFrame\n",
    "    return table.set_index(columns[0])"
   ]
  },
  {
   "cell_type": "code",
   "execution_count": null,
   "id": "bb553c8e-5e95-46ae-bccb-4c5622972895",
   "metadata": {
    "ExecuteTime": {
     "end_time": "2022-04-26T12:22:31.300549Z",
     "start_time": "2022-04-26T12:22:31.292710Z"
    }
   },
   "outputs": [],
   "source": [
    "table = get_table()"
   ]
  },
  {
   "cell_type": "code",
   "execution_count": null,
   "id": "2806b662-66c8-42cc-8a53-fdc094105d95",
   "metadata": {
    "ExecuteTime": {
     "end_time": "2022-04-26T12:22:31.314737Z",
     "start_time": "2022-04-26T12:22:31.301961Z"
    }
   },
   "outputs": [],
   "source": [
    "table.head()  # juste pour vérifier les 5 premières lignes"
   ]
  },
  {
   "cell_type": "code",
   "execution_count": null,
   "id": "8004664f-65e3-4d90-8fb0-fd40d2d7cb6a",
   "metadata": {
    "ExecuteTime": {
     "end_time": "2022-04-26T12:22:31.324754Z",
     "start_time": "2022-04-26T12:22:31.316365Z"
    }
   },
   "outputs": [],
   "source": [
    "table[table.Symbol.str.startswith(\"C\")] # atomes dont le symbole commence par C"
   ]
  },
  {
   "cell_type": "markdown",
   "id": "33ef7c36-283e-4d50-bae8-f9b7a06e8a9b",
   "metadata": {},
   "source": [
    "## Création d'une classe pour stocker les informations d'un atome.\n",
    "Ici nous allons utiliser le décorateur `dataclass` que nous avons importé au début pour simplifier grandement la définition de cette classe.\n",
    "\n",
    "Avec `dataclass`, nous n'avons qu'à lister les attributs que l'on veut, et leur type. Les méthodes magiques `__init__()`, `__repr__()` et `__eq__()` vont être automatiquement construites pour nous.\n",
    "\n",
    "L'argument `frozen=True` dans le décorateur fera en sorte que nos atomes soient immuables une fois créés, ce qui évitera des réassignations de valeurs hasardeuses post instanciation.\n",
    "\n",
    "Enfin l'argument `order=True` indique que nos atomes seront automatiquement classables, ils seront comparés dans l'ordre de leurs attributs (ici `number` est le premier attribut, et comme chaque valeur est unique, ce sera effectivement le seul critère pour classer une liste d'atomes.). Ainsi on évite d'avoir à implémenter des méthodes de comparaison classiques comme `__lt__()`, `__le__()`, `__gt__()`, et `__ge__()`, c'est fait automatiquement. Magie pure."
   ]
  },
  {
   "cell_type": "code",
   "execution_count": null,
   "id": "e98ca760-c6f6-48f4-b989-42df0b2a2bc7",
   "metadata": {
    "ExecuteTime": {
     "end_time": "2022-04-26T12:22:31.330090Z",
     "start_time": "2022-04-26T12:22:31.326294Z"
    }
   },
   "outputs": [],
   "source": [
    "@dataclass(frozen=True, order=True)\n",
    "class Atom:\n",
    "    \"\"\"Une micro classe pour représenter un atome.\"\"\"\n",
    "    number: int\n",
    "    name: str\n",
    "    symbol: str\n",
    "    group: int\n",
    "    period: int\n",
    "    weight: float"
   ]
  },
  {
   "cell_type": "code",
   "execution_count": null,
   "id": "11ce0964-3bf5-4429-bb3c-a182a320d19b",
   "metadata": {
    "ExecuteTime": {
     "end_time": "2022-04-26T12:22:31.335091Z",
     "start_time": "2022-04-26T12:22:31.331673Z"
    }
   },
   "outputs": [],
   "source": [
    "C = Atom(6, \"Carbon\", \"C\", 14, 2, 0.0)  # simple test d'instanciation de la classe"
   ]
  },
  {
   "cell_type": "code",
   "execution_count": null,
   "id": "8d7573a8-21f5-4928-9c6c-0756cb7cad6a",
   "metadata": {
    "ExecuteTime": {
     "end_time": "2022-04-26T12:22:31.344907Z",
     "start_time": "2022-04-26T12:22:31.339664Z"
    }
   },
   "outputs": [],
   "source": [
    "C  # la méthode __repr__() automatique fonctionne, merci dataclass"
   ]
  },
  {
   "cell_type": "markdown",
   "id": "5f7ecfcc-47fc-46d8-8e47-6bfe5f662471",
   "metadata": {},
   "source": [
    "## Création d'une instance d'atome pour chaque atome listé dans notre table, dans une liste apelée `atoms`."
   ]
  },
  {
   "cell_type": "code",
   "execution_count": null,
   "id": "07adc627-ba2d-4080-b30c-dd3b365624f9",
   "metadata": {
    "ExecuteTime": {
     "end_time": "2022-04-26T12:23:02.317003Z",
     "start_time": "2022-04-26T12:23:02.310611Z"
    }
   },
   "outputs": [],
   "source": [
    "atoms = [\n",
    "    Atom(number, name, symbol, group, period, weight)\n",
    "    for number, name, symbol, group, period, weight in zip(\n",
    "        table.index, table.Element, table.Symbol, table.Group, table.Period, table.Atomic_weight\n",
    "    )\n",
    "]"
   ]
  },
  {
   "cell_type": "code",
   "execution_count": null,
   "id": "277666e7-8b3e-4500-b719-52e3de0d62b7",
   "metadata": {
    "ExecuteTime": {
     "end_time": "2022-04-26T12:23:03.171835Z",
     "start_time": "2022-04-26T12:23:03.164818Z"
    }
   },
   "outputs": [],
   "source": [
    "atoms[50:60] # petit contrôle sure une tranche de 10 atomes"
   ]
  },
  {
   "cell_type": "markdown",
   "id": "b66e7450-138a-4c23-b8de-e47c37a0d662",
   "metadata": {},
   "source": [
    "À ce stade on réalise que certains atomes n’ont pas d'information de groupe.\n",
    "\n",
    "## Création d'un dictionnaire des différents groupes\n",
    "Nous allons créer un dictionnaire avec en clé les numéros de groupe et en valeurs une liste des atomes correspondants, mais nous devons traiter les atomes non groupés à part.\n",
    "\n",
    "Commençons par isoler ceux qui ont un groupe différent de `pd.NA`."
   ]
  },
  {
   "cell_type": "code",
   "execution_count": null,
   "id": "335bf275-fafc-4a9b-aa68-2184f89c2300",
   "metadata": {
    "ExecuteTime": {
     "end_time": "2022-04-26T12:23:04.794551Z",
     "start_time": "2022-04-26T12:23:04.789425Z"
    }
   },
   "outputs": [],
   "source": [
    "grouped = [atom for atom in atoms if not atom.group is pd.NA]"
   ]
  },
  {
   "cell_type": "code",
   "execution_count": null,
   "id": "2bf1ef92-f8d8-46c5-b5e3-6ee82932488a",
   "metadata": {
    "ExecuteTime": {
     "end_time": "2022-04-26T12:23:04.938354Z",
     "start_time": "2022-04-26T12:23:04.932283Z"
    }
   },
   "outputs": [],
   "source": [
    "len(atoms) - len(grouped)"
   ]
  },
  {
   "cell_type": "markdown",
   "id": "74a989fd-9399-48e1-b98b-92b292709bff",
   "metadata": {},
   "source": [
    "Il y a 28 atomes sans groupe apparemment.\n",
    "\n",
    "On crée notre dictionnaire de la forme `{numéro_de_groupe : [atomes du groupe]}`, avec cette dictionary comprehension."
   ]
  },
  {
   "cell_type": "code",
   "execution_count": null,
   "id": "013e6d7c-d2ba-4319-a515-a63c348c406f",
   "metadata": {
    "ExecuteTime": {
     "end_time": "2022-04-26T12:23:05.258283Z",
     "start_time": "2022-04-26T12:23:05.244581Z"
    }
   },
   "outputs": [],
   "source": [
    "groups = {\n",
    "    n: [atom for atom in grouped if atom.group == n] # format des clés et des valeurs\n",
    "    for n in range(1, table.Group.max() + 1) # listes des valeurs : entiers entre 1 et le plus grand numéro de groupe +1 car range s'arrête toujours avant le max.\n",
    "}"
   ]
  },
  {
   "cell_type": "code",
   "execution_count": null,
   "id": "6d52c344-14f5-4dff-a014-a71832f5206f",
   "metadata": {
    "ExecuteTime": {
     "end_time": "2022-04-26T12:23:05.394178Z",
     "start_time": "2022-04-26T12:23:05.387600Z"
    }
   },
   "outputs": [],
   "source": [
    "groups.get(1) # on regarde rapidement le premier groupe, une liste d'atomes ayant group==1"
   ]
  },
  {
   "cell_type": "code",
   "execution_count": null,
   "id": "3784638d-075a-47a5-bb3d-fad424ce9bf5",
   "metadata": {
    "ExecuteTime": {
     "end_time": "2022-04-26T12:23:05.899416Z",
     "start_time": "2022-04-26T12:23:05.892292Z"
    }
   },
   "outputs": [],
   "source": [
    "# pour faire une liste des atomes sans groupe, on peut faire\n",
    "# la différence entre l'ensemble des atomes et l'ensemble des atomes groupés, et reconstruire une liste\n",
    "ungrouped = list(set(atoms) - set(grouped))\n",
    "len(ungrouped)"
   ]
  },
  {
   "cell_type": "code",
   "execution_count": null,
   "id": "eeab2998-2231-4813-96a5-32a5c869906c",
   "metadata": {
    "ExecuteTime": {
     "end_time": "2022-04-26T12:23:05.927023Z",
     "start_time": "2022-04-26T12:23:05.920593Z"
    }
   },
   "outputs": [],
   "source": [
    "# alternative, avec une list-comprehension\n",
    "ungrouped = [atom for atom in atoms if atom.group is pd.NA]\n",
    "len(ungrouped)"
   ]
  },
  {
   "cell_type": "code",
   "execution_count": null,
   "id": "d963ac7b-9622-4a71-a410-2796b9d47b7e",
   "metadata": {
    "ExecuteTime": {
     "end_time": "2022-04-26T12:23:05.952432Z",
     "start_time": "2022-04-26T12:23:05.946847Z"
    }
   },
   "outputs": [],
   "source": [
    "ungrouped"
   ]
  },
  {
   "cell_type": "code",
   "execution_count": null,
   "id": "36969c7c-f269-486c-84c0-19198b57d0e1",
   "metadata": {
    "ExecuteTime": {
     "end_time": "2022-04-26T12:23:05.987532Z",
     "start_time": "2022-04-26T12:23:05.984292Z"
    }
   },
   "outputs": [],
   "source": [
    "# finalement on les ajoute avec une nouvelle clé dans notre dictionnaire des groupes\n",
    "groups[0] = ungrouped"
   ]
  },
  {
   "cell_type": "code",
   "execution_count": null,
   "id": "3eca5def-7d34-4b9a-8516-d5eba3d12449",
   "metadata": {
    "ExecuteTime": {
     "end_time": "2022-04-26T12:23:06.015899Z",
     "start_time": "2022-04-26T12:23:06.010114Z"
    }
   },
   "outputs": [],
   "source": [
    "groups.get(2) # maintenant c'est très facile d'obtenir un groupe dans notre dictionnaire"
   ]
  },
  {
   "cell_type": "code",
   "execution_count": null,
   "id": "b6c2e1f2-475f-44ff-9efe-eac9fd3142fe",
   "metadata": {
    "ExecuteTime": {
     "end_time": "2022-04-26T12:23:06.042695Z",
     "start_time": "2022-04-26T12:23:06.036306Z"
    }
   },
   "outputs": [],
   "source": [
    "groups.get(12)"
   ]
  },
  {
   "cell_type": "markdown",
   "id": "3d8127df",
   "metadata": {},
   "source": [
    "## Création d'un dictionnaire des périodes\n",
    "\n",
    "Dans le même esprit que notre dictionnaire des groupes, faisons en un avec les périodes"
   ]
  },
  {
   "cell_type": "code",
   "execution_count": null,
   "id": "53d85a2d",
   "metadata": {
    "ExecuteTime": {
     "end_time": "2022-04-26T12:23:06.122664Z",
     "start_time": "2022-04-26T12:23:06.110418Z"
    }
   },
   "outputs": [],
   "source": [
    "# test pour voir s'il y a des éléments sans période dans notre table initiale \n",
    "table[table.Period.isna()]"
   ]
  },
  {
   "cell_type": "markdown",
   "id": "83032d11",
   "metadata": {},
   "source": [
    "Bonne nouvelle, tous nos atomes ont une période dans le jeu de données initial, et donc dans tous les objets de classe `Atom` que nous avons créés. La création du dictionnaire de forme `{période: [atomes avec cette période]}` se fait très simplement :"
   ]
  },
  {
   "cell_type": "code",
   "execution_count": null,
   "id": "e20206f8",
   "metadata": {
    "ExecuteTime": {
     "end_time": "2022-04-26T12:23:06.181084Z",
     "start_time": "2022-04-26T12:23:06.174035Z"
    }
   },
   "outputs": [],
   "source": [
    "periods = {\n",
    "    p: [atom for atom in atoms if atom.period == p] # format de notre paire clé : valeur. \n",
    "    for p in range(1, table.Period.max() +1) # on itère sur la liste des valeurs possibles pour les périodes\n",
    "}"
   ]
  },
  {
   "cell_type": "markdown",
   "id": "fdaaf9dc",
   "metadata": {},
   "source": [
    "Maintenant c'est très pratique d'attraper tous les atomes d'une période donnée !"
   ]
  },
  {
   "cell_type": "code",
   "execution_count": null,
   "id": "14254c97",
   "metadata": {
    "ExecuteTime": {
     "end_time": "2022-04-26T12:23:06.730123Z",
     "start_time": "2022-04-26T12:23:06.723834Z"
    }
   },
   "outputs": [],
   "source": [
    "periods.get(1)"
   ]
  },
  {
   "cell_type": "code",
   "execution_count": null,
   "id": "1275e394",
   "metadata": {
    "ExecuteTime": {
     "end_time": "2022-04-26T12:23:06.881226Z",
     "start_time": "2022-04-26T12:23:06.874125Z"
    }
   },
   "outputs": [],
   "source": [
    "periods.get(2)"
   ]
  },
  {
   "cell_type": "code",
   "execution_count": null,
   "id": "23244fd3",
   "metadata": {},
   "outputs": [],
   "source": []
  },
  {
   "cell_type": "code",
   "execution_count": null,
   "id": "faa22c19",
   "metadata": {},
   "outputs": [],
   "source": []
  }
 ],
 "metadata": {
  "kernelspec": {
   "display_name": "Python 3 (ipykernel)",
   "language": "python",
   "name": "python3"
  },
  "language_info": {
   "codemirror_mode": {
    "name": "ipython",
    "version": 3
   },
   "file_extension": ".py",
   "mimetype": "text/x-python",
   "name": "python",
   "nbconvert_exporter": "python",
   "pygments_lexer": "ipython3",
   "version": "3.10.0rc1"
  },
  "toc": {
   "base_numbering": 1,
   "nav_menu": {},
   "number_sections": true,
   "sideBar": true,
   "skip_h1_title": true,
   "title_cell": "Table of Contents",
   "title_sidebar": "Contents",
   "toc_cell": false,
   "toc_position": {
    "height": "calc(100% - 180px)",
    "left": "10px",
    "top": "150px",
    "width": "165px"
   },
   "toc_section_display": true,
   "toc_window_display": true
  }
 },
 "nbformat": 4,
 "nbformat_minor": 5
}
