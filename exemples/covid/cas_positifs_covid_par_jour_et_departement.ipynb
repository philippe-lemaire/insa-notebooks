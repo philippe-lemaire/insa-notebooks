{
 "cells": [
  {
   "cell_type": "markdown",
   "id": "99a690ae-c2ac-4f11-90e6-575a7bdf19ea",
   "metadata": {},
   "source": [
    "# Nombre de cas positifs COVID 19 en France par jour et par département"
   ]
  },
  {
   "cell_type": "markdown",
   "id": "dc743208-c7a7-4353-8c7c-5fc0783118fd",
   "metadata": {},
   "source": [
    "## Imports"
   ]
  },
  {
   "cell_type": "code",
   "execution_count": null,
   "id": "f8596af5-0797-4573-8394-7547038639cc",
   "metadata": {},
   "outputs": [],
   "source": [
    "import requests\n",
    "import pandas as pd\n",
    "import matplotlib.pyplot as plt\n",
    "import os"
   ]
  },
  {
   "cell_type": "markdown",
   "id": "78723171-e13c-4ec1-9ac6-d3e28bea1cf5",
   "metadata": {},
   "source": [
    "## Téléchargement et sauvegarde du fichier csv des nouvelles contaminations (les données sont mises à jour au quotidien)"
   ]
  },
  {
   "cell_type": "code",
   "execution_count": null,
   "id": "a765b6a6-1b1b-45f0-91b3-50e04d37d998",
   "metadata": {},
   "outputs": [],
   "source": [
    "url = \"https://www.data.gouv.fr/fr/datasets/r/426bab53-e3f5-4c6a-9d54-dba4442b3dbc\"\n",
    "file_name = \"incidence.csv\""
   ]
  },
  {
   "cell_type": "code",
   "execution_count": null,
   "id": "29a542cd-089e-4154-8fbb-46b79650a163",
   "metadata": {},
   "outputs": [],
   "source": [
    "response = requests.get(url)\n",
    "if response.status_code == 200:\n",
    "    print(\"Requête OK\")"
   ]
  },
  {
   "cell_type": "markdown",
   "id": "b49ab556-94c8-4d35-91f9-4fe720094705",
   "metadata": {},
   "source": [
    "### Écriture du fichier sur le disque"
   ]
  },
  {
   "cell_type": "code",
   "execution_count": null,
   "id": "89826064-2652-4322-b79d-afc67ea37c6d",
   "metadata": {},
   "outputs": [],
   "source": [
    "with open(file_name, \"w\") as csv_file:\n",
    "    csv_file.write(response.text)"
   ]
  },
  {
   "cell_type": "markdown",
   "id": "489d16cf-30b0-452b-8f64-d6771db49be5",
   "metadata": {},
   "source": [
    "### Fonction qui va créer la DataFrame propre"
   ]
  },
  {
   "cell_type": "code",
   "execution_count": null,
   "id": "7a878970-8623-4aff-b3af-cba226d53dfa",
   "metadata": {},
   "outputs": [],
   "source": [
    "def get_data():\n",
    "    data = pd.read_csv(file_name, sep=\";\", dtype={'dep': str})\n",
    "\n",
    "    # mettre la colonne jour en datetime\n",
    "    data.jour = pd.to_datetime(data.jour)\n",
    "    \n",
    "    columns_to_numerize = ['pop', 'P', 'T', 'Ti']\n",
    "  \n",
    "    \n",
    "    for col in columns_to_numerize:\n",
    "        data[col] = data[col].apply(lambda s: float(f\"{s[:-3]}.{s[-2:]}\"))\n",
    "\n",
    "    # Garder uniquement cl_age90 0 qui est la somme des positifs de toutes les classes d'âge\n",
    "    data = data.loc[data.cl_age90 == 0]\n",
    "    return data.reset_index().drop(columns=['index', 'cl_age90'])"
   ]
  },
  {
   "cell_type": "code",
   "execution_count": null,
   "id": "0439070d-1015-407a-8aec-7e07a56d55fb",
   "metadata": {},
   "outputs": [],
   "source": [
    "data = get_data()"
   ]
  },
  {
   "cell_type": "code",
   "execution_count": null,
   "id": "41b0562a-a90e-4903-96ea-34fa3785a4e5",
   "metadata": {},
   "outputs": [],
   "source": [
    "data.sample(5)"
   ]
  },
  {
   "cell_type": "code",
   "execution_count": null,
   "id": "ec85cc1b-8806-424f-a701-36c88c082f2d",
   "metadata": {},
   "outputs": [],
   "source": [
    "data[data.dep == '69']"
   ]
  },
  {
   "cell_type": "markdown",
   "id": "c45915cc-56f0-4ff9-ad58-d0f80bea2cde",
   "metadata": {},
   "source": [
    "## On regroupe par département et par jour"
   ]
  },
  {
   "cell_type": "code",
   "execution_count": null,
   "id": "5ee64460-654c-47c3-bfe8-f6fa3edb79c4",
   "metadata": {},
   "outputs": [],
   "source": [
    "sum_by_day = data.groupby([\"dep\", \"jour\"]).sum().drop(columns=[\"pop\"])"
   ]
  },
  {
   "cell_type": "markdown",
   "id": "2185a908-68d5-4b1e-a70a-f3c9fab37b18",
   "metadata": {},
   "source": [
    "## Graphe. Changer le numéro de département pour celui que vou voulez."
   ]
  },
  {
   "cell_type": "code",
   "execution_count": null,
   "id": "3cb84ca8-d6b3-4b56-aa6b-64cf73dfd666",
   "metadata": {},
   "outputs": [],
   "source": [
    "fig, ax = plt.subplots(figsize=(20, 10))\n",
    "\n",
    "sum_by_day.loc[\"75\", \"P\"].plot(c='r', ax=ax)\n",
    "sum_by_day.loc[\"69\", \"P\"].plot(c='b', ax=ax);"
   ]
  },
  {
   "cell_type": "markdown",
   "id": "c3fd191f-1e00-49d7-98b3-0b60af4a824a",
   "metadata": {},
   "source": [
    "## On efface les fichiers csv dans le dossier"
   ]
  },
  {
   "cell_type": "code",
   "execution_count": null,
   "id": "d28cf77c-a1a2-43cb-bfde-716eac592a04",
   "metadata": {},
   "outputs": [],
   "source": [
    "csv_files = [f for f in os.listdir() if f.endswith('csv')]\n",
    "\n",
    "for f in csv_files:\n",
    "    os.remove(f)"
   ]
  }
 ],
 "metadata": {
  "kernelspec": {
   "display_name": "Python 3 (ipykernel)",
   "language": "python",
   "name": "python3"
  },
  "language_info": {
   "codemirror_mode": {
    "name": "ipython",
    "version": 3
   },
   "file_extension": ".py",
   "mimetype": "text/x-python",
   "name": "python",
   "nbconvert_exporter": "python",
   "pygments_lexer": "ipython3",
   "version": "3.10.3"
  }
 },
 "nbformat": 4,
 "nbformat_minor": 5
}
