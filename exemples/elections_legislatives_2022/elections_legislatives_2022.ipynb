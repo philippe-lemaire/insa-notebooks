{
 "cells": [
  {
   "cell_type": "markdown",
   "id": "d61b7729-1e5e-4f5d-a383-efbb11ce4f32",
   "metadata": {},
   "source": [
    "# Tracé des résultats élections législatives 2022 ville par ville"
   ]
  },
  {
   "cell_type": "markdown",
   "id": "8105df3f-7763-4b24-bd18-c41d7ee287f4",
   "metadata": {},
   "source": [
    "## Imports"
   ]
  },
  {
   "cell_type": "code",
   "execution_count": null,
   "id": "05170a3c-5965-404c-a282-e1870ad4dcc5",
   "metadata": {},
   "outputs": [],
   "source": [
    "import os\n",
    "import pandas as pd\n",
    "import matplotlib.pyplot as plt\n",
    "import requests"
   ]
  },
  {
   "cell_type": "markdown",
   "id": "d1a561a4-edfc-4431-9e18-200cfae0935b",
   "metadata": {},
   "source": [
    "## 1er tour"
   ]
  },
  {
   "cell_type": "markdown",
   "id": "d5d7da06-2fea-4a11-b4da-7a8477a5fc3d",
   "metadata": {
    "tags": []
   },
   "source": [
    "### Acquisition des données"
   ]
  },
  {
   "cell_type": "code",
   "execution_count": null,
   "id": "6e5ab4f4-4a42-44a2-af66-8156d13f7b0b",
   "metadata": {},
   "outputs": [],
   "source": [
    "def get_data(url):\n",
    "    \"\"\"Fonction qui télécharge le jeu de données, le sauve sur le disque, et renvoie une pandas.DataFrame avec les données chargées.\n",
    "    Prend plus de 30s à lire les données, soyez patients\"\"\"\n",
    "    \n",
    "    print('Téléchargement du fichier de données')\n",
    "    response = requests.get(url)\n",
    "\n",
    "    data_file = 'data.xlsx'\n",
    "\n",
    "    with open(data_file, 'wb') as file:\n",
    "        file.write(response.content)\n",
    "    print('Données écrites sur le disque')\n",
    "    print('Création de la DataFrame, soyez patient…')\n",
    "    data =  pd.read_excel(data_file)\n",
    "    print(\"Ajout des noms de colonnes sur tous les candidats\")\n",
    "    # adding column names to unnamed columns\n",
    "    unnamed_cols = [col for col in data.columns if col.startswith('Unnamed')]\n",
    "    missing_column_names = data.columns[21:29].tolist() # taking col names from cols 21 to 29. Changes from 1er tour to 2nd tour :(\n",
    "    # dict with all the unnamed columns names : proper name\n",
    "    renamming_cols_dict = dict(\n",
    "    zip(unnamed_cols, missing_column_names*(len(unnamed_cols)//8))\n",
    "    )\n",
    "    # updating column names with the dict\n",
    "    data = data.rename(columns=renamming_cols_dict)\n",
    "    print(\"Données prêtes\")\n",
    "    return data"
   ]
  },
  {
   "cell_type": "code",
   "execution_count": null,
   "id": "b482f737-825d-4e8d-ac16-992451ed014f",
   "metadata": {},
   "outputs": [],
   "source": [
    "url = \"https://www.data.gouv.fr/fr/datasets/r/3cf49bf4-c171-4328-b002-fea995cb85d8\""
   ]
  },
  {
   "cell_type": "code",
   "execution_count": null,
   "id": "6ae2dc5b-492b-41d4-bb0b-65526d224be1",
   "metadata": {},
   "outputs": [],
   "source": [
    "data = get_data(url)"
   ]
  },
  {
   "cell_type": "code",
   "execution_count": null,
   "id": "f1e1cc2d-f472-42dd-8b26-59e8bb7d5857",
   "metadata": {},
   "outputs": [],
   "source": [
    "data.head()"
   ]
  },
  {
   "cell_type": "markdown",
   "id": "7859300e-126b-4208-8b47-da681edbe1a0",
   "metadata": {},
   "source": [
    "### Élaboration du graphe par ville"
   ]
  },
  {
   "cell_type": "code",
   "execution_count": null,
   "id": "e8cb99f6-2b19-4f93-be68-8cd81a158872",
   "metadata": {},
   "outputs": [],
   "source": [
    "def plot_city(city_name):\n",
    "\n",
    "    commune = 'Libellé de la commune'\n",
    "    département = 'Libellé du département'\n",
    "    \n",
    "    # on prend les lignes correspondant à la ville city_name\n",
    "    df = data[data[commune] == city_name].dropna(axis=1)\n",
    "    \n",
    "    # on stocke le nom du département\n",
    "    dep_name = df[département].iloc[0]\n",
    "    # on garde les numéros de circonscription\n",
    "    circo_codes = df['Code de la circonscription'].to_list()\n",
    "    \n",
    "    # on se concentre maintenant juste sur les colonnes avec les résultats des candidats (les dernières à partir de la 21\n",
    "    city = df.iloc[:,21:]\n",
    "    \n",
    "    # pour les grandes villes qui ont plusieurs circonscriptions, on fait une liste de dataframes\n",
    "    circos = [pd.DataFrame(city.iloc[i, :]).T for i in range(0, city.shape[0])]\n",
    "\n",
    "    circos_clean = []\n",
    "    # là on doit pour chaque circo remodeler les données : on a une seule ligne avec les différents candidats et leurs scores en colonnes\n",
    "    # mais on veut empiler les données des candidats les uns sous les autres. On découpe les lignes toutes les 8 colonnes et on empile\n",
    "    # avec un slicing glissant et un pd.concat()\n",
    "    for circo in circos:\n",
    "        frames = []\n",
    "        for i in range(0, circo.shape[1], 8):\n",
    "            frames.append(circo.iloc[:, i: i+8])\n",
    "        circo_df = pd.concat(frames)\n",
    "        circos_clean.append(circo_df)\n",
    "\n",
    "    # on prépare un graph avec subplots, une ligne par circonscription, la taille globale dépend du nbre de circonscription\n",
    "    fig, axs = plt.subplots(len(circos), 1, figsize=(16,10*len(circos)))\n",
    "    \n",
    "    # pour traiter les villes avec une seule circonspection comme celles avec plusieurs\n",
    "    if len(circos_clean) == 1:\n",
    "        axs = [axs,]\n",
    "    metric1, metric2 = data.columns[27:29].tolist() # on récupère les métrics % voix/ins et % voix/exp. \n",
    "    # On prend via les noms de colonnes 27 et 28 parce que bien sûr entre le 1er tour et le 2nd tour ils ont changé le nom des colonnes\n",
    "    \n",
    "    # on fait le même plot pour chaque circonscription\n",
    "    for num, circo, ax in zip(circo_codes, circos_clean, axs):\n",
    "        circo[[\"Nom\", \"Prénom\", \"Nuance\", metric1, metric2]].sort_values(\n",
    "            metric1, \n",
    "            ascending=False\n",
    "        ).plot(\n",
    "            x='Nuance',\n",
    "            kind='bar',\n",
    "            title=f\"{city_name} circonspection n°{num} du département {dep_name}\",\n",
    "            ax=ax\n",
    "        );\n",
    "        "
   ]
  },
  {
   "cell_type": "code",
   "execution_count": null,
   "id": "0bc51815-05cb-4b2d-9737-631164287b95",
   "metadata": {},
   "outputs": [],
   "source": [
    "plot_city('Toulon')"
   ]
  },
  {
   "cell_type": "code",
   "execution_count": null,
   "id": "7d8606be-d495-4879-871b-d4a5d586a609",
   "metadata": {},
   "outputs": [],
   "source": [
    "plot_city('Lyon')"
   ]
  },
  {
   "cell_type": "markdown",
   "id": "9d6bccaf-f23c-4592-8878-adcc88e1e550",
   "metadata": {},
   "source": [
    "## Second Tour"
   ]
  },
  {
   "cell_type": "code",
   "execution_count": null,
   "id": "5051a13d-b873-4fc7-ad14-0acd0c7a0fd3",
   "metadata": {},
   "outputs": [],
   "source": [
    "url_second_tour = \"https://www.data.gouv.fr/fr/datasets/r/a3c524fd-eed6-4be2-99ca-bc3920824953\""
   ]
  },
  {
   "cell_type": "code",
   "execution_count": null,
   "id": "0b103836-6d9b-462c-87c8-f1e619728af5",
   "metadata": {},
   "outputs": [],
   "source": [
    "data = get_data(url_second_tour)"
   ]
  },
  {
   "cell_type": "code",
   "execution_count": null,
   "id": "7f73568e-e9b8-409d-a7bc-5883d6f7d1b5",
   "metadata": {},
   "outputs": [],
   "source": [
    "data.head()"
   ]
  },
  {
   "cell_type": "code",
   "execution_count": null,
   "id": "d884f888-4d92-4666-8965-b4e6adccf63a",
   "metadata": {},
   "outputs": [],
   "source": [
    "plot_city('Chuelles')"
   ]
  },
  {
   "cell_type": "code",
   "execution_count": null,
   "id": "c480aa8a-5d38-45cd-b233-4933df5144bd",
   "metadata": {},
   "outputs": [],
   "source": [
    "plot_city('Marseille')"
   ]
  },
  {
   "cell_type": "markdown",
   "id": "a7a175a0-8e1a-42c2-aeb7-176430cc4a1f",
   "metadata": {},
   "source": [
    "## Nettoyage (suppression du fichier excel)"
   ]
  },
  {
   "cell_type": "code",
   "execution_count": null,
   "id": "559162ba-29aa-41cf-bc72-ea68de0cf7f2",
   "metadata": {},
   "outputs": [],
   "source": [
    "os.remove(\"data.xlsx\")"
   ]
  }
 ],
 "metadata": {
  "kernelspec": {
   "display_name": "Python 3 (ipykernel)",
   "language": "python",
   "name": "python3"
  },
  "language_info": {
   "codemirror_mode": {
    "name": "ipython",
    "version": 3
   },
   "file_extension": ".py",
   "mimetype": "text/x-python",
   "name": "python",
   "nbconvert_exporter": "python",
   "pygments_lexer": "ipython3",
   "version": "3.10.4"
  }
 },
 "nbformat": 4,
 "nbformat_minor": 5
}
