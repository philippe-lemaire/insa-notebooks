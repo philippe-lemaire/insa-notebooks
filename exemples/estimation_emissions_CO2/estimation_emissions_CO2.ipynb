{
 "cells": [
  {
   "cell_type": "markdown",
   "id": "b4a4ed11-ba50-4b5c-b4f0-d494e2b95169",
   "metadata": {},
   "source": [
    "# Explorons l'API [Carbon Interface](https://www.carboninterface.com)"
   ]
  },
  {
   "cell_type": "markdown",
   "id": "3b528e55-439b-4f04-9a91-8535a32d6f53",
   "metadata": {},
   "source": [
    "## Obtenir une clé pour l'API"
   ]
  },
  {
   "cell_type": "markdown",
   "id": "9f02ca1e-029c-486d-9819-e00623154d08",
   "metadata": {},
   "source": [
    "Allez sur [https://www.carboninterface.com/users/sign_up](https://www.carboninterface.com/users/sign_up) et inscrivez-vous pour obtenir votre clé.\n",
    "\n",
    "Créez un fichier nommé `.env` (le point au début du nom de fichier est important) et dedans écrivez :\n",
    "\n",
    "> APIKEY=<votre clé api>"
   ]
  },
  {
   "cell_type": "markdown",
   "id": "ca05d4aa-7aeb-47b6-ae31-24c6abb2981e",
   "metadata": {},
   "source": [
    "## Installer les modules python nécessaires"
   ]
  },
  {
   "cell_type": "code",
   "execution_count": 1,
   "id": "6c81fb21-018e-4eb6-987c-adbae0d7b8c7",
   "metadata": {},
   "outputs": [],
   "source": [
    "import os"
   ]
  },
  {
   "cell_type": "code",
   "execution_count": null,
   "id": "4f000014-e147-4e97-b29c-f39944aa9adb",
   "metadata": {},
   "outputs": [],
   "source": [
    "os.system(\"pip install requests python-dotenv\")"
   ]
  },
  {
   "cell_type": "markdown",
   "id": "0b7b44e8-6f64-4cff-8216-09ed3be0bc42",
   "metadata": {},
   "source": [
    "## Imports"
   ]
  },
  {
   "cell_type": "code",
   "execution_count": 2,
   "id": "01b17a1b-cc13-445a-b3cd-5f812aed3415",
   "metadata": {},
   "outputs": [],
   "source": [
    "import requests\n",
    "from dotenv import load_dotenv"
   ]
  },
  {
   "cell_type": "markdown",
   "id": "0e3d8f6f-a761-47af-a96b-136695d6e591",
   "metadata": {},
   "source": [
    "## Charger la clé API grâce à python-dotenv"
   ]
  },
  {
   "cell_type": "code",
   "execution_count": 3,
   "id": "86048519-8519-49ca-bbae-1b184b7c4da2",
   "metadata": {},
   "outputs": [],
   "source": [
    "load_dotenv()\n",
    "# cette ligne lit votre clé depuis le fichier.env\n",
    "key = os.getenv('APIKEY')"
   ]
  },
  {
   "cell_type": "markdown",
   "id": "bed6b851-c245-4c9d-af5f-63066e90e4be",
   "metadata": {},
   "source": [
    "## Test de la clé avec `requests.get()`"
   ]
  },
  {
   "cell_type": "code",
   "execution_count": 4,
   "id": "4ae5aca0-fa46-4e86-a364-57ef9cfeb004",
   "metadata": {},
   "outputs": [],
   "source": [
    "url = \"https://www.carboninterface.com/api/v1/\"\n",
    "auth_endpoint = \"auth\"\n",
    "\n",
    "headers = {'Authorization': f\"Bearer {key}\", \"Content-Type\": \"application/json\"}"
   ]
  },
  {
   "cell_type": "markdown",
   "id": "642dbfb0-db51-40c4-8aea-7228efc390fd",
   "metadata": {},
   "source": [
    "La cellule ci-dessous doit sortir `{'message': 'auth successful'}`"
   ]
  },
  {
   "cell_type": "code",
   "execution_count": 5,
   "id": "49d40b4e-cc20-40ea-aa16-67752195a7b8",
   "metadata": {},
   "outputs": [
    {
     "data": {
      "text/plain": [
       "{'message': 'auth successful'}"
      ]
     },
     "execution_count": 5,
     "metadata": {},
     "output_type": "execute_result"
    }
   ],
   "source": [
    "response = requests.get(url+auth_endpoint, headers=headers)\n",
    "response.json()"
   ]
  },
  {
   "cell_type": "markdown",
   "id": "186f727e-cddf-4771-b8ed-f1b8f6f3a349",
   "metadata": {},
   "source": [
    "## Test de la partie `estimates` de l'API avec `requests.post()`\n",
    "\n",
    "Pour trouver les codes à trois lettres des différents aéroports, vous pouvez chercher sur cette page [https://www.iata.org/en/publications/directories/code-search/](https://www.iata.org/en/publications/directories/code-search/), dans la section **Search Location Codes**."
   ]
  },
  {
   "cell_type": "code",
   "execution_count": 6,
   "id": "b8ce3a87-ca1f-4b2a-9e82-b086a37c6463",
   "metadata": {},
   "outputs": [],
   "source": [
    "endpoint = 'estimates'\n",
    "json = {\n",
    "        \"type\": \"flight\",\n",
    "        \"passengers\": 2,\n",
    "        \"legs\": [\n",
    "          {\"departure_airport\": \"lys\", \"destination_airport\": \"atl\"},\n",
    "          {\"departure_airport\": \"atl\", \"destination_airport\": \"lys\"}\n",
    "        ]\n",
    "      }"
   ]
  },
  {
   "cell_type": "code",
   "execution_count": 7,
   "id": "a8e46b72-067b-4627-8ff3-ebaf2f18ef09",
   "metadata": {},
   "outputs": [
    {
     "data": {
      "text/plain": [
       "{'data': {'id': '74e2a273-bb20-497a-ab9f-a59bda525c3c',\n",
       "  'type': 'estimate',\n",
       "  'attributes': {'passengers': 2,\n",
       "   'legs': [{'departure_airport': 'LYS', 'destination_airport': 'ATL'},\n",
       "    {'departure_airport': 'ATL', 'destination_airport': 'LYS'}],\n",
       "   'distance_value': 14990.81,\n",
       "   'distance_unit': 'km',\n",
       "   'estimated_at': '2022-05-09T12:04:04.221Z',\n",
       "   'carbon_g': 4405779,\n",
       "   'carbon_lb': 9713.08,\n",
       "   'carbon_kg': 4405.78,\n",
       "   'carbon_mt': 4.41}}}"
      ]
     },
     "execution_count": 7,
     "metadata": {},
     "output_type": "execute_result"
    }
   ],
   "source": [
    "response = requests.post(url+endpoint, json=json, headers=headers)\n",
    "response.json()"
   ]
  },
  {
   "cell_type": "code",
   "execution_count": 8,
   "id": "dd0e199f-7a39-43c5-a2e1-27e9ebe6ced7",
   "metadata": {},
   "outputs": [],
   "source": [
    "data = response.json()['data']"
   ]
  },
  {
   "cell_type": "code",
   "execution_count": 9,
   "id": "dbe0f636-3a5a-4dcd-a991-4395761eb724",
   "metadata": {},
   "outputs": [
    {
     "data": {
      "text/plain": [
       "4405.78"
      ]
     },
     "execution_count": 9,
     "metadata": {},
     "output_type": "execute_result"
    }
   ],
   "source": [
    "data['attributes']['carbon_kg']"
   ]
  },
  {
   "cell_type": "markdown",
   "id": "bdc3c9be-a268-4553-8a2a-718d67adfcf4",
   "metadata": {},
   "source": [
    "## Test de la partie `vehicle_makes`\n",
    "\n",
    "### Trouver la marque de mon véhicule"
   ]
  },
  {
   "cell_type": "code",
   "execution_count": 10,
   "id": "8e6377d5-1a16-4557-96ed-e22f173568b4",
   "metadata": {},
   "outputs": [],
   "source": [
    "vehicle_makes_endpoint = 'vehicle_makes/'\n",
    "\n",
    "makes = requests.get(url+vehicle_makes_endpoint, headers=headers)"
   ]
  },
  {
   "cell_type": "code",
   "execution_count": 11,
   "id": "e874e2f9-d431-42e3-a456-a2f2fdbf5fdf",
   "metadata": {},
   "outputs": [
    {
     "data": {
      "text/plain": [
       "[{'data': {'id': '5f266411-5bb1-4b91-b044-9707426df630',\n",
       "   'type': 'vehicle_make',\n",
       "   'attributes': {'name': 'Alfa Romeo', 'number_of_models': 69}}},\n",
       " {'data': {'id': '4c1e16e1-7967-4394-b3cb-15f4577dffa1',\n",
       "   'type': 'vehicle_make',\n",
       "   'attributes': {'name': 'Ferrari', 'number_of_models': 243}}},\n",
       " {'data': {'id': 'c0d79b67-76e8-442d-b105-2c73501948a9',\n",
       "   'type': 'vehicle_make',\n",
       "   'attributes': {'name': 'Dodge', 'number_of_models': 2608}}}]"
      ]
     },
     "execution_count": 11,
     "metadata": {},
     "output_type": "execute_result"
    }
   ],
   "source": [
    "makes.json()[:3]"
   ]
  },
  {
   "cell_type": "markdown",
   "id": "25ba63ad-27d8-4d6d-b6bf-9f6af613de16",
   "metadata": {},
   "source": [
    "Les données de la réponse sont une longue liste de dictionnaires, contenant chacun un dictionnaire :)\n",
    "\n",
    "### Définissons une fonction qui va chercher l'`id` d'un constructeur automobile à partir de son nom."
   ]
  },
  {
   "cell_type": "code",
   "execution_count": 15,
   "id": "d7485f7d-afe4-4241-b6dc-d01881aba735",
   "metadata": {},
   "outputs": [],
   "source": [
    "def find_make_or_car_id(name, response):\n",
    "    if not response.status_code == 200:\n",
    "        return None\n",
    "    for elem in response.json():\n",
    "        if elem['data']['attributes']['name'] == name:\n",
    "            return elem['data']['id']\n",
    "    \n"
   ]
  },
  {
   "cell_type": "code",
   "execution_count": 13,
   "id": "35939c79-b567-4d98-92af-3d9a73c0abd4",
   "metadata": {},
   "outputs": [],
   "source": [
    "make_name = 'Renault'"
   ]
  },
  {
   "cell_type": "code",
   "execution_count": 14,
   "id": "40bcef65-3ffd-4b92-b44b-30d0772f3747",
   "metadata": {},
   "outputs": [
    {
     "data": {
      "text/plain": [
       "'6e8ef1b4-3714-4024-85f5-c7f5a35b0e0c'"
      ]
     },
     "execution_count": 14,
     "metadata": {},
     "output_type": "execute_result"
    }
   ],
   "source": [
    "find_make_or_car_id(make_name, makes)"
   ]
  },
  {
   "cell_type": "markdown",
   "id": "4bfb110f-58d0-40db-923e-393b85a0581d",
   "metadata": {},
   "source": [
    "### Trouver mon véhicule à partir du constructeur"
   ]
  },
  {
   "cell_type": "code",
   "execution_count": 16,
   "id": "d68ea0e5-22ff-4d60-991e-d14f7efc0ca3",
   "metadata": {},
   "outputs": [],
   "source": [
    "vehicles_endpoint = find_make_or_car_id(make_name, makes) + \"/vehicle_models\""
   ]
  },
  {
   "cell_type": "code",
   "execution_count": 17,
   "id": "3200301d-9517-4b61-b823-6622fcc6ff69",
   "metadata": {},
   "outputs": [],
   "source": [
    "cars = requests.get(url+vehicle_makes_endpoint+vehicles_endpoint, headers=headers)"
   ]
  },
  {
   "cell_type": "code",
   "execution_count": 18,
   "id": "fd873d6a-3f80-4e0e-a3d4-7663e48f2d8a",
   "metadata": {},
   "outputs": [
    {
     "data": {
      "text/plain": [
       "[{'data': {'id': 'ff4b4c0f-d26f-4ed2-9b14-f1fb4e44e629',\n",
       "   'type': 'vehicle_model',\n",
       "   'attributes': {'name': 'Alliance Convertible',\n",
       "    'year': 1986,\n",
       "    'vehicle_make': 'Renault'}}},\n",
       " {'data': {'id': 'a2603423-c451-48e2-a8f7-929efa5a1d54',\n",
       "   'type': 'vehicle_model',\n",
       "   'attributes': {'name': 'Alliance Convertible',\n",
       "    'year': 1986,\n",
       "    'vehicle_make': 'Renault'}}},\n",
       " {'data': {'id': '58d0f6c2-40c8-4553-8ed7-dcdaa93f7cfb',\n",
       "   'type': 'vehicle_model',\n",
       "   'attributes': {'name': 'Fuego', 'year': 1986, 'vehicle_make': 'Renault'}}}]"
      ]
     },
     "execution_count": 18,
     "metadata": {},
     "output_type": "execute_result"
    }
   ],
   "source": [
    "cars.json()[:3]"
   ]
  },
  {
   "cell_type": "markdown",
   "id": "ef924fba-38b6-4949-b9a3-28ad5db5b811",
   "metadata": {},
   "source": [
    "**NB** : On réutilise la fonction qui cherche une marque de constructeur dans la réponse, la structure des listes de dictionnaires est identique."
   ]
  },
  {
   "cell_type": "code",
   "execution_count": 19,
   "id": "929157a3-37c4-4d33-aa56-fd0383c0290c",
   "metadata": {},
   "outputs": [
    {
     "data": {
      "text/plain": [
       "'58d0f6c2-40c8-4553-8ed7-dcdaa93f7cfb'"
      ]
     },
     "execution_count": 19,
     "metadata": {},
     "output_type": "execute_result"
    }
   ],
   "source": [
    "find_make_or_car_id('Fuego', cars) "
   ]
  },
  {
   "cell_type": "markdown",
   "id": "5fc5ee5e-b7fb-4744-be32-97e2964fc9d4",
   "metadata": {},
   "source": [
    "### Définissions une fonction qui fait la requête des véhicules d'une marque à partir de son nom"
   ]
  },
  {
   "cell_type": "code",
   "execution_count": 21,
   "id": "ad0aa3c8-068c-446f-afb0-14954bd54a9e",
   "metadata": {},
   "outputs": [],
   "source": [
    "def get_car_maker_response(make_name):\n",
    "    vehicle_makes_endpoint = 'vehicle_makes/'\n",
    "    makes = requests.get(url+vehicle_makes_endpoint, headers=headers)\n",
    "    maker_id = find_make_or_car_id(make_name, makes)\n",
    "    if not maker_id:\n",
    "        return None\n",
    "   \n",
    "    vehicles_endpoint = maker_id + \"/vehicle_models\"\n",
    "    cars = requests.get(url+vehicle_makes_endpoint+vehicles_endpoint, headers=headers)\n",
    "    return cars\n",
    "  \n",
    "        \n",
    "    "
   ]
  },
  {
   "cell_type": "code",
   "execution_count": 23,
   "id": "a9d2ce2e-48f7-4394-9861-d87c98fcbb9a",
   "metadata": {},
   "outputs": [],
   "source": [
    "exemple = get_car_maker_response('Dacia')"
   ]
  },
  {
   "cell_type": "code",
   "execution_count": 24,
   "id": "db8df36c-9253-4a6b-81d9-66e2cfa5fe3b",
   "metadata": {},
   "outputs": [
    {
     "data": {
      "text/plain": [
       "[{'data': {'id': '477b5e49-6886-4925-aabb-36f1c433e09d',\n",
       "   'type': 'vehicle_model',\n",
       "   'attributes': {'name': 'Coupe', 'year': 1988, 'vehicle_make': 'Dacia'}}},\n",
       " {'data': {'id': '5b214d6e-df9d-497a-a44b-1b82852cad15',\n",
       "   'type': 'vehicle_model',\n",
       "   'attributes': {'name': 'Sedan', 'year': 1988, 'vehicle_make': 'Dacia'}}},\n",
       " {'data': {'id': '058c049e-c211-43b3-90e0-bf518c7f605a',\n",
       "   'type': 'vehicle_model',\n",
       "   'attributes': {'name': 'Station Wagon',\n",
       "    'year': 1988,\n",
       "    'vehicle_make': 'Dacia'}}}]"
      ]
     },
     "execution_count": 24,
     "metadata": {},
     "output_type": "execute_result"
    }
   ],
   "source": [
    "exemple.json()"
   ]
  },
  {
   "cell_type": "markdown",
   "id": "2f09b6f5-651a-429a-9b44-8b3de79854bf",
   "metadata": {},
   "source": [
    "## Lister les noms de modèles pour une marque"
   ]
  },
  {
   "cell_type": "code",
   "execution_count": 25,
   "id": "7eb6fc12-87e5-4291-a713-a9cef0fdfb3d",
   "metadata": {},
   "outputs": [],
   "source": [
    "def get_car_names(make_name):\n",
    "    car_maker_response = get_car_maker_response(make_name)\n",
    "    car_names = [car['data']['attributes']['name'] for car in car_maker_response.json()]\n",
    "    return list(set(car_names))"
   ]
  },
  {
   "cell_type": "code",
   "execution_count": 27,
   "id": "18e43161-a651-4e5e-b4ff-6fcd87a5bc15",
   "metadata": {},
   "outputs": [
    {
     "data": {
      "text/plain": [
       "['Truck 2WD',\n",
       " 'Endeavor',\n",
       " 'Diamante',\n",
       " 'Diamante Wagon',\n",
       " 'Precis',\n",
       " 'Space Wagon',\n",
       " 'Endeavor AWD',\n",
       " 'Lancer Sportback',\n",
       " 'Starion',\n",
       " 'Endeavor 4WD',\n",
       " 'Raider Pickup 4WD',\n",
       " 'Mirage Wagon',\n",
       " 'Lancer AWD',\n",
       " 'Wagon',\n",
       " 'Nativa 2WD (Puerto Rico Only)',\n",
       " 'Expo.LRV',\n",
       " 'Nativa 2WD(Puerto Rico Only)',\n",
       " 'Endeavor 2WD',\n",
       " 'Montero Sport 4WD',\n",
       " 'Outlander Sport 2WD',\n",
       " 'Nativa 2WD',\n",
       " 'Outlander PHEV',\n",
       " 'Eclipse Spyder',\n",
       " 'Eclipse Cross 4WD',\n",
       " 'Sigma',\n",
       " 'Eclipse',\n",
       " 'Montero',\n",
       " 'Eclipse Cross ES 2WD',\n",
       " 'Mirage',\n",
       " '3000 GT Spyder',\n",
       " 'Galant',\n",
       " 'Montero 4WD',\n",
       " 'Truck 4WD',\n",
       " 'Outlander Sport 4WD',\n",
       " 'Expo',\n",
       " 'Montero Sport 2WD',\n",
       " 'Outlander 4WD',\n",
       " 'Mirage G4',\n",
       " 'Tredia',\n",
       " 'Nativa 4WD (Puerto Rico Only)',\n",
       " 'Galant Sigma',\n",
       " 'Cordia',\n",
       " 'Diamante Sedan',\n",
       " 'Outlander 2WD',\n",
       " 'Eclipse Cross 2WD',\n",
       " 'Space Wagon 4WD',\n",
       " 'Lancer Evolution',\n",
       " 'i-MiEV',\n",
       " 'Lancer 4WD',\n",
       " 'Lancer',\n",
       " 'Raider Pickup 2WD',\n",
       " 'Eclipse Cross ES 4WD',\n",
       " 'Van',\n",
       " 'Nativa 4WD',\n",
       " '3000 GT',\n",
       " 'Eclipse Convertible']"
      ]
     },
     "execution_count": 27,
     "metadata": {},
     "output_type": "execute_result"
    }
   ],
   "source": [
    "get_car_names('Mitsubishi')"
   ]
  },
  {
   "cell_type": "markdown",
   "id": "4d9472f8-cb26-4e11-a78d-bacc28d7a775",
   "metadata": {},
   "source": [
    "## Requête pour trouver l'estimation des emissions d'un trajet en voiture"
   ]
  },
  {
   "cell_type": "code",
   "execution_count": 28,
   "id": "5b27dbff-8830-4a51-b2cc-b842525253b7",
   "metadata": {},
   "outputs": [],
   "source": [
    "def estimate_trip(make_name, car_name, distance):\n",
    "    estimates_endpoint = 'estimates'\n",
    "    car_maker_response = get_car_maker_response(make_name)\n",
    "        \n",
    "    if not car_maker_response:\n",
    "        return None\n",
    "    \n",
    "    request_body = {\n",
    "            \"type\": \"vehicle\",\n",
    "            \"distance_unit\": \"km\",\n",
    "            \"distance_value\": distance,\n",
    "            \"vehicle_model_id\": find_make_or_car_id(car_name, car_maker_response)\n",
    "          }\n",
    "\n",
    "    response = requests.post(url+estimates_endpoint, json=request_body, headers=headers)\n",
    "    emission = response.json()['data']['attributes']['carbon_kg']\n",
    "    result = f\"Carbon emissions for a {distance} km trip driving a {make_name} {car_name}: {emission} kg of CO2.\"\n",
    "    print(result)"
   ]
  },
  {
   "cell_type": "code",
   "execution_count": 29,
   "id": "288574e6-cdfe-4081-bc58-49f402ce9ca0",
   "metadata": {},
   "outputs": [
    {
     "name": "stdout",
     "output_type": "stream",
     "text": [
      "Carbon emissions for a 100 km trip driving a Renault Fuego: 29.06 kg of CO2.\n"
     ]
    }
   ],
   "source": [
    "estimate_trip(\"Renault\", \"Fuego\", 100)"
   ]
  },
  {
   "cell_type": "code",
   "execution_count": 30,
   "id": "d443705f-01b7-45a4-a16a-40797f41ce20",
   "metadata": {},
   "outputs": [
    {
     "name": "stdout",
     "output_type": "stream",
     "text": [
      "Carbon emissions for a 100 km trip driving a Tesla Model S AWD - P100D: 0.0 kg of CO2.\n"
     ]
    }
   ],
   "source": [
    "estimate_trip(\"Tesla\", \"Model S AWD - P100D\", 100)"
   ]
  },
  {
   "cell_type": "code",
   "execution_count": 31,
   "id": "30050aa4-6601-4fb2-8b51-6898e90a4cde",
   "metadata": {},
   "outputs": [
    {
     "name": "stdout",
     "output_type": "stream",
     "text": [
      "Carbon emissions for a 300 km trip driving a Dacia Sedan: 72.03 kg of CO2.\n"
     ]
    }
   ],
   "source": [
    "estimate_trip('Dacia', 'Sedan', 300)"
   ]
  },
  {
   "cell_type": "markdown",
   "id": "ef55bc7d-296b-4cb6-a594-0add06b3207f",
   "metadata": {},
   "source": [
    "<div class='alert alert-success'>\n",
    "    \n",
    "Si vous voulez échanger sur cette API et comment l'intégrer à votre enseignement ou recherche, n’hésitez pas à me solliciter philippe.lemaire@insa-lyon.fr\n",
    "\n",
    "</div>"
   ]
  }
 ],
 "metadata": {
  "kernelspec": {
   "display_name": "Python 3 (ipykernel)",
   "language": "python",
   "name": "python3"
  },
  "language_info": {
   "codemirror_mode": {
    "name": "ipython",
    "version": 3
   },
   "file_extension": ".py",
   "mimetype": "text/x-python",
   "name": "python",
   "nbconvert_exporter": "python",
   "pygments_lexer": "ipython3",
   "version": "3.10.0rc1"
  }
 },
 "nbformat": 4,
 "nbformat_minor": 5
}
