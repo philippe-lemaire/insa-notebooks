{
 "cells": [
  {
   "cell_type": "markdown",
   "id": "5dabbbd1-06bc-4308-8db7-d8d65107ce09",
   "metadata": {},
   "source": [
    "# Résonance"
   ]
  },
  {
   "cell_type": "code",
   "execution_count": null,
   "id": "85041cc9-3f8a-4d91-a450-9edc6a03de25",
   "metadata": {},
   "outputs": [],
   "source": [
    "import numpy as np\n",
    "import matplotlib.pyplot as plt"
   ]
  },
  {
   "cell_type": "code",
   "execution_count": null,
   "id": "c1325487-5af7-4ef6-b4e6-3e68a4bb8cd5",
   "metadata": {},
   "outputs": [],
   "source": [
    "# Définition des paramètres\n",
    "F0surM =1 # Amplitude\n",
    "delta = 0.1 # amortissement\n",
    "w0 = 1 # Pulsation propre\n",
    "\n",
    "# Définition de la fonction à tracer\n",
    "def amp(W):\n",
    "    expr = ((w0**2 - W**2)**2 + 4*(delta*W)**2)\n",
    "    return F0surM/np.sqrt(expr)\n",
    "\n",
    "# Calcul des coordonnées des points à tracer\n",
    "W = np.linspace(0, 10, 100)\n",
    "A = amp(W)\n",
    "\n",
    "# Création de la figure\n",
    "fig, (ax1, ax2) = plt.subplots(1, 2, figsize=(20,7))#2 sous-figures sur 1 ligne et 2 colonnes\n",
    "ax1.plot(W, A) #sous-figure 1 : A(W)\n",
    "ax2.loglog(W, A) #sous-figure 2 idem en échelle loglog\n",
    "\n",
    "# Cosmétique\n",
    "for ax in (ax1, ax2):\n",
    "    ax.set_xlabel('Fréquence')\n",
    "    ax.set_ylabel('Amplitude')\n",
    "    \n",
    "ax1.set_title('Résonance en échelle linéaire')\n",
    "ax2.set_title('Résonance en échelle loglog');"
   ]
  },
  {
   "cell_type": "code",
   "execution_count": null,
   "id": "b11d3c3c",
   "metadata": {},
   "outputs": [],
   "source": []
  }
 ],
 "metadata": {
  "kernelspec": {
   "display_name": "Python 3 (ipykernel)",
   "language": "python",
   "name": "python3"
  },
  "language_info": {
   "codemirror_mode": {
    "name": "ipython",
    "version": 3
   },
   "file_extension": ".py",
   "mimetype": "text/x-python",
   "name": "python",
   "nbconvert_exporter": "python",
   "pygments_lexer": "ipython3",
   "version": "3.10.0rc1"
  }
 },
 "nbformat": 4,
 "nbformat_minor": 5
}
