{
 "cells": [
  {
   "cell_type": "markdown",
   "id": "8c272626-daae-4b68-b91f-7c5800eea1b1",
   "metadata": {},
   "source": [
    "# Fun with images"
   ]
  },
  {
   "cell_type": "code",
   "execution_count": null,
   "id": "842b0be1-7170-4f02-a6d2-172120fed569",
   "metadata": {},
   "outputs": [],
   "source": [
    "import os"
   ]
  },
  {
   "cell_type": "code",
   "execution_count": null,
   "id": "fdfd64c3-3e50-41a4-81d0-5e6a13e9fef2",
   "metadata": {},
   "outputs": [],
   "source": [
    "os.system('pip install -r pillow')"
   ]
  },
  {
   "cell_type": "code",
   "execution_count": null,
   "id": "2ada44eb-3fe9-4fbf-8717-d4dd9d815ce5",
   "metadata": {},
   "outputs": [],
   "source": [
    "import random\n",
    "from PIL import Image\n",
    "from PIL.ImageFilter import GaussianBlur"
   ]
  },
  {
   "cell_type": "markdown",
   "id": "5d155927-4a19-4ec8-a91e-a745d0fa2e9c",
   "metadata": {},
   "source": [
    "## Commençons par télécharger une poignée d'images d'animaux"
   ]
  },
  {
   "cell_type": "code",
   "execution_count": null,
   "id": "756a9da4-05f8-4ee6-b32a-e64a39fe4889",
   "metadata": {},
   "outputs": [],
   "source": [
    "n_images = 5\n",
    "min_dim, max_dim = (100, 400)\n",
    "\n",
    "\n",
    "for animal in ['dog', 'cat', 'bear']:\n",
    "    if animal == 'dog':\n",
    "        url = 'https://place.dog'\n",
    "    if animal == 'cat':\n",
    "        url = \"https://placekitten.com/g\"\n",
    "    if animal == 'bear':\n",
    "        url = \"https://placebear.com/g\"\n",
    "    \n",
    "    for i in range(1, n_images+1):\n",
    "        width = random.randint(min_dim, max_dim)\n",
    "        height = random.randint(min_dim, max_dim)\n",
    "        download_command = f\"curl -s {url}/{width}/{height} -o {animal}_{i}.jpeg\"\n",
    "        os.system(download_command)\n"
   ]
  },
  {
   "cell_type": "markdown",
   "id": "919d06a2-3403-436b-a0f7-8a8e11214511",
   "metadata": {},
   "source": [
    "## Convertir en png\n",
    "### Faisons le sur une image pour commencer"
   ]
  },
  {
   "cell_type": "code",
   "execution_count": null,
   "id": "45ce9934-b641-44ae-aa23-ecb0d391edca",
   "metadata": {},
   "outputs": [],
   "source": [
    "dir_name = 'pngs'\n",
    "os.makedirs(dir_name, exist_ok=True)"
   ]
  },
  {
   "cell_type": "code",
   "execution_count": null,
   "id": "a69498ae-38fb-4d91-bc3b-7f330f98c56e",
   "metadata": {},
   "outputs": [],
   "source": [
    "image_names = [name for name in os.listdir() if name.endswith('jpeg')]"
   ]
  },
  {
   "cell_type": "code",
   "execution_count": null,
   "id": "c144a344-9b76-4013-ba67-deb89e1742d6",
   "metadata": {},
   "outputs": [],
   "source": [
    "im_name1 = image_names[0]\n",
    "im_name1"
   ]
  },
  {
   "cell_type": "code",
   "execution_count": null,
   "id": "f2f90363-c867-4672-a7bd-9ed3dc5689c1",
   "metadata": {},
   "outputs": [],
   "source": [
    "im1 = Image.open(im_name1)"
   ]
  },
  {
   "cell_type": "code",
   "execution_count": null,
   "id": "42020fd4-1c0d-4bab-b12d-29ad49bc94e6",
   "metadata": {},
   "outputs": [],
   "source": [
    "im1.size"
   ]
  },
  {
   "cell_type": "code",
   "execution_count": null,
   "id": "43279bca-ba18-428d-af35-7cea9a2ffbc6",
   "metadata": {},
   "outputs": [],
   "source": [
    "name, extension = os.path.splitext(im_name1)\n",
    "extension"
   ]
  },
  {
   "cell_type": "code",
   "execution_count": null,
   "id": "ad0619ae-9c80-4afd-bc3d-4144ea9b24fd",
   "metadata": {},
   "outputs": [],
   "source": [
    "im1.save(f\"pngs/{name}.png\")"
   ]
  },
  {
   "cell_type": "markdown",
   "id": "ceea0a62-0e7f-4cbf-819d-a00c447e2739",
   "metadata": {},
   "source": [
    "### Maintenant sur toutes nos images"
   ]
  },
  {
   "cell_type": "code",
   "execution_count": null,
   "id": "9a77708c-fe67-4f6f-a23b-010b4cea89fd",
   "metadata": {},
   "outputs": [],
   "source": [
    "image_names"
   ]
  },
  {
   "cell_type": "code",
   "execution_count": null,
   "id": "72fb2021-b1c1-4bd6-afdb-7406435f51a5",
   "metadata": {},
   "outputs": [],
   "source": [
    "for file_name in image_names:\n",
    "    with Image.open(file_name) as im_object:\n",
    "        name, ext = os.path.splitext(file_name)\n",
    "        im_object.save(f\"{dir_name}/{name}.png\")\n",
    "    "
   ]
  },
  {
   "cell_type": "markdown",
   "id": "4b68a729-dd7a-4123-b2cc-6f71cd96f018",
   "metadata": {},
   "source": [
    "## Modifions un peu plus les images avant de les sauvegarder"
   ]
  },
  {
   "cell_type": "markdown",
   "id": "0e9c54c8-2303-4422-8064-b3f419a0a324",
   "metadata": {},
   "source": [
    "### Rotation"
   ]
  },
  {
   "cell_type": "code",
   "execution_count": null,
   "id": "3d3d897e-d5c9-4b14-9f99-f898de069cab",
   "metadata": {},
   "outputs": [],
   "source": [
    "dir_name = \"rotated\"\n",
    "os.makedirs(dir_name, exist_ok=True)\n",
    "\n",
    "for file_name in image_names:\n",
    "    with Image.open(file_name) as im:\n",
    "        im.rotate(180).save(f\"{dir_name}/{file_name}\")"
   ]
  },
  {
   "cell_type": "markdown",
   "id": "3921aee7-7cb0-455c-8ec3-5a976b27facd",
   "metadata": {},
   "source": [
    "### Filtres"
   ]
  },
  {
   "cell_type": "code",
   "execution_count": null,
   "id": "bec6b0a4-fe6a-4989-ad5b-6691ae4deaba",
   "metadata": {},
   "outputs": [],
   "source": [
    "dir_name = \"blurred\"\n",
    "os.makedirs(dir_name, exist_ok=True)\n",
    "\n",
    "for file_name in image_names:\n",
    "    with Image.open(file_name) as im:\n",
    "        im.filter(GaussianBlur(radius=5)).save(f\"{dir_name}/{file_name}\")"
   ]
  },
  {
   "cell_type": "markdown",
   "id": "85c14244-c0ec-479d-9f77-b59e654c3bf4",
   "metadata": {},
   "source": [
    "### Convertir en N&B"
   ]
  },
  {
   "cell_type": "code",
   "execution_count": null,
   "id": "cce67b4c-8ffd-449c-945b-b85d8bc10210",
   "metadata": {},
   "outputs": [],
   "source": [
    "dir_name = \"black_and_white\"\n",
    "os.makedirs(dir_name, exist_ok=True)\n",
    "\n",
    "for file_name in image_names:\n",
    "    with Image.open(file_name) as im:\n",
    "        im.convert(\"L\").save(f\"{dir_name}/{file_name}\")"
   ]
  },
  {
   "cell_type": "markdown",
   "id": "96465745-34ac-422b-bf79-90749de6a639",
   "metadata": {},
   "source": [
    "<div class=\"alert alert-success\">\n",
    "\n",
    "Plus d’infos sur la [documentation officielle](https://pillow.readthedocs.io/en/stable/handbook/tutorial.html#).\n",
    "    \n",
    "</div>"
   ]
  },
  {
   "cell_type": "markdown",
   "id": "360a9c2b-6933-4877-acba-73b7870f62ee",
   "metadata": {},
   "source": [
    "## Nettoyage"
   ]
  },
  {
   "cell_type": "markdown",
   "id": "610478fb-eb06-4caf-865e-753bec66fb52",
   "metadata": {},
   "source": [
    "<div class=\"alert alert-danger\">\n",
    "\n",
    "Pour effacer toutes ces images et ces dossiers qui traînent\n",
    "    \n",
    "</div>"
   ]
  },
  {
   "cell_type": "code",
   "execution_count": 1,
   "id": "42916758-bd67-4416-8b83-dd4967e704c8",
   "metadata": {},
   "outputs": [],
   "source": [
    "import shutil\n",
    "import os"
   ]
  },
  {
   "cell_type": "code",
   "execution_count": 7,
   "id": "85e12cd2-584b-4a2f-8a41-18a86816c4d4",
   "metadata": {},
   "outputs": [],
   "source": [
    "for file in os.listdir():\n",
    "    if \".jpeg\" in file:\n",
    "        os.remove(file)\n",
    "    elif \".\" not in file:\n",
    "        shutil.rmtree(file)"
   ]
  }
 ],
 "metadata": {
  "kernelspec": {
   "display_name": "Python 3 (ipykernel)",
   "language": "python",
   "name": "python3"
  },
  "language_info": {
   "codemirror_mode": {
    "name": "ipython",
    "version": 3
   },
   "file_extension": ".py",
   "mimetype": "text/x-python",
   "name": "python",
   "nbconvert_exporter": "python",
   "pygments_lexer": "ipython3",
   "version": "3.10.0rc1"
  }
 },
 "nbformat": 4,
 "nbformat_minor": 5
}
