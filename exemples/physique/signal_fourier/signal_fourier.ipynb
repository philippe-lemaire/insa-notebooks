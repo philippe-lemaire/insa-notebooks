{
 "cells": [
  {
   "cell_type": "markdown",
   "id": "edbb33e0-e896-4a50-a933-3756ee110d4b",
   "metadata": {
    "tags": []
   },
   "source": [
    "# Transformations de Fourier avec Scipy"
   ]
  },
  {
   "cell_type": "markdown",
   "id": "b2f81f1a-7677-4a6f-8c6a-02d64a720678",
   "metadata": {},
   "source": [
    "La transformation de Fourier est un outil mathématique utilisé pour analyser les signaux. Elle décompose un signal et renvoie son spectre, qui révèle les différentes fréquences qui composent le signal et leurs puissances respectives."
   ]
  },
  {
   "cell_type": "markdown",
   "id": "e6d857fa-8836-4b3b-afda-c99d2ac80019",
   "metadata": {},
   "source": [
    "Nous allons utiliser le module `scipy.fft`. Il existe d'autres implémentations de la transformation de Fourier."
   ]
  },
  {
   "cell_type": "code",
   "execution_count": null,
   "id": "9f6d901a-5fca-4709-bbdf-d2c00062acb1",
   "metadata": {},
   "outputs": [],
   "source": [
    "import numpy as np\n",
    "import matplotlib.pyplot as plt\n",
    "import scipy\n",
    "from scipy.fft import fft, fftfreq\n",
    "from scipy.io import wavfile\n",
    "from IPython.display import Audio"
   ]
  },
  {
   "cell_type": "markdown",
   "id": "8547effd-ea01-4be5-8a54-8a2339146d14",
   "metadata": {},
   "source": [
    "Nous allons nous amuser à créer des signaux sonores et à les faire jouer par le notebook.\n",
    "\n",
    "Typiquement, un signal sonore est enregistré par echantillonnage à une certaine fréquence, ce qui signifie que du signal analogique initial, on prélève un certain nombre de valeurs numériques chaque seconde.\n",
    "\n",
    "Un CD Audio par exemple utilise un échantillonnage à 44 100 Hz, autrement dit 44 100 valeurs numériques par seconde sont utilisées pour enregistrer puis relire le signal.\n",
    "\n",
    "Nous allons écrire une fonction `note(f)` qui va créer un signal sinusoidal (un array numpy) à partir d'une fréquence donnée, avec comme constantes un taux d'echantillonnage en Hz `R` et une durée du signal en secondes `D`"
   ]
  },
  {
   "cell_type": "code",
   "execution_count": null,
   "id": "daba7d00-f3b2-4899-82a6-273e4126eb1e",
   "metadata": {},
   "outputs": [],
   "source": [
    "D = 3  # durée du signal produit\n",
    "R = 44100  # échantillonnage en Hz\n",
    "\n",
    "\n",
    "def note(f):\n",
    "    # t représente le temps, de 0 à la durée D, avec R*D points\n",
    "    t = np.linspace(0, D, R * D)\n",
    "    signal = np.sin(2 * np.pi * f * t)\n",
    "    return signal"
   ]
  },
  {
   "cell_type": "markdown",
   "id": "0179c989-dbbc-4c9d-a2d2-69db3b5ac4bb",
   "metadata": {},
   "source": [
    "Regardons les 1000 premiers points d’une note produite avec une fréquence de 440 Hz.\n",
    "\n",
    "Comme nous allons reproduire le même type de graphe plusieurs fois, c'est une bonne idée de définir une fonction qui nous évitera de répéter les mêmes réglages à plusieurs reprises."
   ]
  },
  {
   "cell_type": "code",
   "execution_count": null,
   "id": "415a884f-c11f-4f4d-8702-266dfb37f106",
   "metadata": {},
   "outputs": [],
   "source": [
    "def plot_signal(signal, samples=1000):\n",
    "    plt.plot(signal[:samples])\n",
    "    plt.xlabel(\"temps\")\n",
    "    plt.ylabel(\"amplitude\")"
   ]
  },
  {
   "cell_type": "code",
   "execution_count": null,
   "id": "d1a879dc-8851-4f6f-bc18-dd67db9db8e8",
   "metadata": {},
   "outputs": [],
   "source": [
    "plot_signal(note(440))"
   ]
  },
  {
   "cell_type": "markdown",
   "id": "a672e610-698f-437a-a7d9-37f552cc8234",
   "metadata": {},
   "source": [
    "Maintenant nous allons stocker ce signal dans une variable et le jouer !"
   ]
  },
  {
   "cell_type": "code",
   "execution_count": null,
   "id": "fb3c651e-257c-415c-af92-097823425e0b",
   "metadata": {},
   "outputs": [],
   "source": [
    "la = note(440)\n",
    "Audio(la, rate=R)"
   ]
  },
  {
   "cell_type": "markdown",
   "id": "5f6c4a18-9392-4a31-876e-aed46b2f3648",
   "metadata": {},
   "source": [
    "On peut aussi créer plusieurs notes et les combiner en un accord.\n",
    "Par exemple :\n",
    "- une note de base comme notre `la` à 440 Hz, \n",
    "- combinée à sa tierce majeure, dont la fréquence est  $\\frac{5}{4}$ fois plus grande\n",
    "- et sa quinte, dont la fréquence est $\\frac{3}{2}$ fois plus grande\n",
    "\n",
    "On donnera à chaque note un coefficient pour que notre note de base domine l'accord, que la quinte ait son amplitude diminuée de moitiée, et ne garder qu'un quart de l'amplitude de la tierce."
   ]
  },
  {
   "cell_type": "code",
   "execution_count": null,
   "id": "ec1215c9-bd42-441e-81bd-b78a0366e42b",
   "metadata": {},
   "outputs": [],
   "source": [
    "base_freq = 440\n",
    "\n",
    "base_note = note(base_freq)\n",
    "fifth_note = note(base_freq * 3 / 2)\n",
    "major_third = note(base_freq * 5 / 4)\n",
    "\n",
    "chord = base_note + 0.5 * fifth_note + 0.25 * major_third\n",
    "\n",
    "Audio(chord, rate=R)"
   ]
  },
  {
   "cell_type": "markdown",
   "id": "12ca491a-7a8d-4793-9f68-dccded9eabcf",
   "metadata": {},
   "source": [
    "Regardons les 1000 premiers échantillons de notre accord"
   ]
  },
  {
   "cell_type": "code",
   "execution_count": null,
   "id": "cf7f0066-bff0-42b4-aedb-edad5977fa1a",
   "metadata": {},
   "outputs": [],
   "source": [
    "plot_signal(chord)"
   ]
  },
  {
   "cell_type": "markdown",
   "id": "285e7c7a-e27e-454e-b318-8fd311999cfc",
   "metadata": {},
   "source": [
    "## [Transformation de Fourier rapide](https://fr.wikipedia.org/wiki/Transformation_de_Fourier_rapide)"
   ]
  },
  {
   "cell_type": "markdown",
   "id": "f84828fd-f0b7-422a-a781-e453911a15db",
   "metadata": {},
   "source": [
    "> Cet algorithme est couramment utilisé en traitement numérique du signal pour transformer des données discrètes du domaine temporel dans le domaine fréquentiel […]\n",
    "\n",
    "![](fft.png)\n",
    "\n",
    "Utilisons le module `scipy.fft` pour analyser les signaux que nous avons créés plus haut.\n",
    "\n",
    "Exécutez la cellule ci-dessous puis remontez, modifiez votre accord, et essayez à nouveau la cellule ci-dessous ?\n",
    "\n",
    "Que constatez-vous ?"
   ]
  },
  {
   "cell_type": "code",
   "execution_count": null,
   "id": "0a2d155d-15fd-4826-bb5e-bc1d8c58857d",
   "metadata": {},
   "outputs": [],
   "source": [
    "def plot_fft(signal, rate, freq_max):\n",
    "    Y = np.abs(fft(signal))\n",
    "    X = np.abs(fftfreq(Y.size) * rate)\n",
    "    plt.xlim(0, freq_max)\n",
    "    plt.xlabel(\"Fréquence\")\n",
    "    plt.ylabel(\"Amplitude\")\n",
    "    plt.plot(X, Y)\n",
    "\n",
    "\n",
    "plot_fft(chord, R, 2000)"
   ]
  },
  {
   "cell_type": "markdown",
   "id": "44e45787-85f6-4b9d-9b79-11a4c3ca03de",
   "metadata": {},
   "source": [
    "## Exemples de signaux réels\n",
    "\n",
    "Essayons de reproduire cette décomposition sur des signaux moins artifiels.\n",
    "\n",
    "Un certain nombre de fichiers `.wav` sont fournis dans ce dossier."
   ]
  },
  {
   "cell_type": "code",
   "execution_count": null,
   "id": "88b4d3f7-bed8-4457-babe-77250d5763b2",
   "metadata": {},
   "outputs": [],
   "source": [
    "!ls -lh *.wav"
   ]
  },
  {
   "cell_type": "markdown",
   "id": "c5c4b0e0-55e4-4b43-91b4-e0a7f9479f35",
   "metadata": {},
   "source": [
    "Commeçons par regarder à quoi ressemble le contenu du fichier `bird.wav`."
   ]
  },
  {
   "cell_type": "code",
   "execution_count": null,
   "id": "07bdb713-1498-4bff-9ffe-f273c13c9b57",
   "metadata": {},
   "outputs": [],
   "source": [
    "rate, audio = wavfile.read(\"bird.wav\")"
   ]
  },
  {
   "cell_type": "code",
   "execution_count": null,
   "id": "8e482aca-66e8-437c-b741-1395791029de",
   "metadata": {},
   "outputs": [],
   "source": [
    "audio"
   ]
  },
  {
   "cell_type": "markdown",
   "id": "9b920590-50ca-4e09-8154-60e443064504",
   "metadata": {},
   "source": [
    "`audio` contient un array à 2 dimensions. Chaque ligne représente un échantillonnage dans le temps. \n",
    "\n",
    "Le signal est stéréo, les deux colonnes représentent les côtés gauche et droit.\n",
    "\n",
    "Pour donner au signal la forme qui nous intéresse, nous allons simplement transposer cet array (chaque colonne devient une ligne) puis sélectionner arbitrairement la première ligne, soit le signal côté gauche, avec `audio.T[0]`.\n",
    "\n",
    "Regardons le contenu d'une tranche de 10 échantillons."
   ]
  },
  {
   "cell_type": "code",
   "execution_count": null,
   "id": "e4fef409-1d9d-45e9-abad-7fc2923fae7b",
   "metadata": {},
   "outputs": [],
   "source": [
    "audio.T[0][R : (R + 10)]"
   ]
  },
  {
   "cell_type": "code",
   "execution_count": null,
   "id": "d251149c-6a9b-4b3d-95ec-6dea47a4aa33",
   "metadata": {},
   "outputs": [],
   "source": [
    "plot_signal(audio.T[0], len(audio))"
   ]
  },
  {
   "cell_type": "markdown",
   "id": "501206ab-06cf-4991-90c9-ad1dff910819",
   "metadata": {},
   "source": [
    "Écoutez ce signal. Est-ce que ce l'amplitude dans le temps correspond bien ?"
   ]
  },
  {
   "cell_type": "code",
   "execution_count": null,
   "id": "78d66ef5-d0b4-46d3-9935-e76309a3238a",
   "metadata": {},
   "outputs": [],
   "source": [
    "Audio(data=audio.T[0], rate=rate)"
   ]
  },
  {
   "cell_type": "markdown",
   "id": "e169fb56-126c-44ce-af11-03f177bad793",
   "metadata": {},
   "source": [
    "Quelles sont les fréquences dominantes ?"
   ]
  },
  {
   "cell_type": "code",
   "execution_count": null,
   "id": "41977279-5161-4acb-9750-a99c89691828",
   "metadata": {},
   "outputs": [],
   "source": [
    "plot_fft(audio.T[0], rate, 7500)"
   ]
  },
  {
   "cell_type": "markdown",
   "id": "c15c5834-5632-4274-8841-19afdff52d09",
   "metadata": {},
   "source": [
    "---\n",
    "À vous maintenant !\n",
    "Reproduisez cette analyse et cette écoute avec les autres fichiers `.wav` fournis."
   ]
  },
  {
   "cell_type": "code",
   "execution_count": null,
   "id": "9139cbc2-463c-4bf7-9274-ed4be02846a1",
   "metadata": {},
   "outputs": [],
   "source": []
  }
 ],
 "metadata": {
  "kernelspec": {
   "display_name": "Python 3 (ipykernel)",
   "language": "python",
   "name": "python3"
  },
  "language_info": {
   "codemirror_mode": {
    "name": "ipython",
    "version": 3
   },
   "file_extension": ".py",
   "mimetype": "text/x-python",
   "name": "python",
   "nbconvert_exporter": "python",
   "pygments_lexer": "ipython3",
   "version": "3.10.0rc1"
  }
 },
 "nbformat": 4,
 "nbformat_minor": 5
}
