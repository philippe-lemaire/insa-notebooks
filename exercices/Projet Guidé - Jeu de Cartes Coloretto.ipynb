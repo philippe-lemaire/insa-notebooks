{
 "cells": [
  {
   "cell_type": "markdown",
   "id": "aa75774c",
   "metadata": {},
   "source": [
    "# Projet guidé - Jeu de cartes Coloretto"
   ]
  },
  {
   "cell_type": "markdown",
   "id": "ea48409f",
   "metadata": {},
   "source": [
    "Ce projet guidé va vous faire utiliser la plupart des concepts vus jusqu’à présent.\n",
    "\n",
    "Nous allons implémenter ensemble un jeu de cartes appelé Coloretto.\n",
    "\n",
    "Les règles du jeu :\n",
    "\n",
    "- [en français](https://ludos.brussels/ludo-cocof/opac_css/doc_num.php?explnum_id=105)\n",
    "- [en anglais](https://www.riograndegames.com/wp-content/uploads/2013/02/Coloretto-Rules.pdf)"
   ]
  },
  {
   "cell_type": "markdown",
   "id": "ff98de88",
   "metadata": {},
   "source": [
    "## Créer une classe représentant un joueur"
   ]
  },
  {
   "cell_type": "code",
   "execution_count": 76,
   "id": "1fa37f84",
   "metadata": {
    "ExecuteTime": {
     "end_time": "2022-02-04T16:27:47.743996Z",
     "start_time": "2022-02-04T16:27:47.726985Z"
    }
   },
   "outputs": [],
   "source": [
    "from collections import Counter\n",
    "\n",
    "class Player():\n",
    "    def __init__(self, name, cpu=True):\n",
    "        self.name = name\n",
    "        self.cpu = cpu\n",
    "        self.cards = []\n",
    "    \n",
    "    def take(self, cards):\n",
    "        \"\"\"method to take a card stack and add them to the player's cards\"\"\"\n",
    "        self.cards.extend(cards)\n",
    "    \n",
    "    def score(self, cards):\n",
    "        \"\"\"With a list of cards, compute the score.\"\"\"\n",
    "        quantities = range(1,7)\n",
    "        scores = [1,3,6,10,15,21]\n",
    "        score_table = dict(zip(quantities, scores))\n",
    "        print(score_table)\n",
    "        \n",
    "        score = cards.count('+2') * 2\n",
    "        jokers = cards.count('Joker')\n",
    "        # remove +2s\n",
    "        cards_to_score = [card for card in cards if card != '+2' and card != 'Joker']\n",
    "        \n",
    "        # Count each color\n",
    "        counter = Counter(cards_to_score)\n",
    "        \n",
    "        # add jokers where they help the most\n",
    "        for j in range(jokers):\n",
    "            for color, qty in counter.most_common():\n",
    "                if qty < 6:\n",
    "                    counter[color] += 1\n",
    "                    break\n",
    "        # set positives and negatives\n",
    "        if len(counter) >= 3:\n",
    "            positives = counter.most_common()[:3]\n",
    "        else:\n",
    "            positives = counter.most_common()\n",
    "        \n",
    "        if len(counter) > 3:\n",
    "            negatives = counter.most_common()[3:]\n",
    "        else:\n",
    "            negatives = None\n",
    "        \n",
    "        # trim quantities above 6\n",
    "        for color, qty in counter.most_common():\n",
    "            if qty > 6:\n",
    "                counter[color] = 6\n",
    "                \n",
    "        # compute positives and negatives contribution\n",
    "        print(f\"{score=}\")\n",
    "        for color, qty in positives:\n",
    "            score += score_table.get(qty)\n",
    "        print(f\"Après compte des positifs, {score=}\")\n",
    "        print(f\"{negatives=}\")\n",
    "        for color, qty in negatives:\n",
    "            score -= score_table.get(qty)\n",
    "        print(f\"Après compte des négatifs, {score=}\")\n",
    "        return score\n",
    "        \n",
    "    def __repr__(self):\n",
    "        return f\"Player('{self.name}')\""
   ]
  },
  {
   "cell_type": "code",
   "execution_count": 77,
   "id": "d502d2e1",
   "metadata": {
    "ExecuteTime": {
     "end_time": "2022-02-04T16:27:48.212656Z",
     "start_time": "2022-02-04T16:27:48.207631Z"
    }
   },
   "outputs": [],
   "source": [
    "p1= Player(name='Phil')"
   ]
  },
  {
   "cell_type": "code",
   "execution_count": 78,
   "id": "4af40286",
   "metadata": {
    "ExecuteTime": {
     "end_time": "2022-02-04T16:27:48.441271Z",
     "start_time": "2022-02-04T16:27:48.434682Z"
    }
   },
   "outputs": [],
   "source": [
    "p1.cards = ['Red'] * 3 + ['Orange'] * 6 + ['Blue'] * 2 + ['Yellow'] * 4 + ['Purple'] * 1 + ['Joker']*2"
   ]
  },
  {
   "cell_type": "code",
   "execution_count": 79,
   "id": "7b30a487",
   "metadata": {
    "ExecuteTime": {
     "end_time": "2022-02-04T16:27:49.089124Z",
     "start_time": "2022-02-04T16:27:49.082663Z"
    }
   },
   "outputs": [
    {
     "data": {
      "text/plain": [
       "Player('Phil')"
      ]
     },
     "execution_count": 79,
     "metadata": {},
     "output_type": "execute_result"
    }
   ],
   "source": [
    "p1"
   ]
  },
  {
   "cell_type": "code",
   "execution_count": 80,
   "id": "ab0e391f",
   "metadata": {
    "ExecuteTime": {
     "end_time": "2022-02-04T16:27:49.347750Z",
     "start_time": "2022-02-04T16:27:49.341553Z"
    }
   },
   "outputs": [
    {
     "name": "stdout",
     "output_type": "stream",
     "text": [
      "{1: 1, 2: 3, 3: 6, 4: 10, 5: 15, 6: 21}\n",
      "score=0\n",
      "Après compte des positifs, score=48\n",
      "negatives=[('Blue', 2), ('Purple', 1)]\n",
      "Après compte des négatifs, score=44\n"
     ]
    },
    {
     "data": {
      "text/plain": [
       "44"
      ]
     },
     "execution_count": 80,
     "metadata": {},
     "output_type": "execute_result"
    }
   ],
   "source": [
    "p1.score(p1.cards)"
   ]
  },
  {
   "cell_type": "markdown",
   "id": "1edde555",
   "metadata": {},
   "source": [
    "## Demander au joueur le nombre de joueurs (entre 3 et 5)\n",
    "\n",
    "Nous allons demander à l’utilisateur le nombre de joueurs souhaités.\n",
    "\n",
    "Si le nombre de joueurs est de 3, nous retirons une des couleurs.\n",
    "\n",
    "Enfin nous allons constituer le paquet de cartes."
   ]
  },
  {
   "cell_type": "code",
   "execution_count": 9,
   "id": "32005e25",
   "metadata": {
    "ExecuteTime": {
     "end_time": "2022-02-04T15:28:29.977381Z",
     "start_time": "2022-02-04T15:28:28.610680Z"
    }
   },
   "outputs": [
    {
     "name": "stdout",
     "output_type": "stream",
     "text": [
      "Choisissez un nombre de joueurs entre 3 et 5…\n",
      "3\n"
     ]
    }
   ],
   "source": [
    "num_players = 0\n",
    "while num_players not in range(3,6):\n",
    "    answer = input('Choisissez un nombre de joueurs entre 3 et 5…\\n')\n",
    "    try: \n",
    "        num_players = int(answer)\n",
    "        if num_players < 3:\n",
    "            print('Nombre de joueurs trop petit.')\n",
    "        if num_players > 5:\n",
    "            print('Nombre de joueurs trop grand.')\n",
    "    except:\n",
    "        print('Votre réponse n’est pas valide.')\n",
    "        num_players = 0"
   ]
  },
  {
   "cell_type": "code",
   "execution_count": 6,
   "id": "5693af2a",
   "metadata": {
    "ExecuteTime": {
     "end_time": "2022-02-04T15:28:20.972825Z",
     "start_time": "2022-02-04T15:28:20.962724Z"
    }
   },
   "outputs": [],
   "source": [
    "import random"
   ]
  },
  {
   "cell_type": "code",
   "execution_count": 19,
   "id": "3ad2ed39",
   "metadata": {
    "ExecuteTime": {
     "end_time": "2022-02-04T15:29:05.884538Z",
     "start_time": "2022-02-04T15:29:05.880168Z"
    }
   },
   "outputs": [],
   "source": [
    "colors = ['Red', 'Green', 'Blue', 'Orange', 'Yellow', 'Gray','Purple']\n",
    "\n",
    "if num_players == 3:\n",
    "    colors.remove(random.choice(colors))"
   ]
  },
  {
   "cell_type": "code",
   "execution_count": 20,
   "id": "4893ddfa",
   "metadata": {
    "ExecuteTime": {
     "end_time": "2022-02-04T15:29:06.234097Z",
     "start_time": "2022-02-04T15:29:06.229178Z"
    }
   },
   "outputs": [
    {
     "data": {
      "text/plain": [
       "['Red', 'Green', 'Orange', 'Yellow', 'Gray', 'Purple']"
      ]
     },
     "execution_count": 20,
     "metadata": {},
     "output_type": "execute_result"
    }
   ],
   "source": [
    "colors"
   ]
  },
  {
   "cell_type": "code",
   "execution_count": 22,
   "id": "96f5b258",
   "metadata": {
    "ExecuteTime": {
     "end_time": "2022-02-04T15:31:22.655953Z",
     "start_time": "2022-02-04T15:31:22.643584Z"
    }
   },
   "outputs": [
    {
     "data": {
      "text/plain": [
       "['Purple',\n",
       " 'Green',\n",
       " 'Red',\n",
       " '+2',\n",
       " 'Purple',\n",
       " 'Orange',\n",
       " '+2',\n",
       " 'Purple',\n",
       " 'Purple',\n",
       " 'Yellow',\n",
       " 'Gray',\n",
       " '+2',\n",
       " 'Orange',\n",
       " '+2',\n",
       " 'Gray',\n",
       " '+2',\n",
       " 'Purple',\n",
       " 'Yellow',\n",
       " 'Gray',\n",
       " 'Green',\n",
       " 'Green',\n",
       " '+2',\n",
       " 'Red',\n",
       " '+2',\n",
       " 'Orange',\n",
       " 'Gray',\n",
       " 'Gray',\n",
       " 'Gray',\n",
       " 'Orange',\n",
       " 'Yellow',\n",
       " 'Purple',\n",
       " 'Purple',\n",
       " 'Gray',\n",
       " 'Yellow',\n",
       " 'Green',\n",
       " 'Red',\n",
       " 'Red',\n",
       " 'Yellow',\n",
       " 'Yellow',\n",
       " 'Green',\n",
       " 'Orange',\n",
       " 'Green',\n",
       " 'Orange',\n",
       " 'Red',\n",
       " 'Purple',\n",
       " 'Red',\n",
       " 'Green',\n",
       " 'Joker',\n",
       " 'Yellow',\n",
       " 'Joker',\n",
       " 'Yellow',\n",
       " '+2',\n",
       " 'Orange',\n",
       " 'Joker',\n",
       " 'Purple',\n",
       " 'Gray',\n",
       " '+2',\n",
       " '+2',\n",
       " 'Green',\n",
       " 'Green',\n",
       " 'Orange',\n",
       " 'Red',\n",
       " 'Gray',\n",
       " 'Red',\n",
       " 'Yellow',\n",
       " 'Orange',\n",
       " 'Red']"
      ]
     },
     "execution_count": 22,
     "metadata": {},
     "output_type": "execute_result"
    }
   ],
   "source": [
    "deck = colors*9 + ['+2']*10 + ['Joker']*3\n",
    "random.shuffle(deck)\n",
    "deck"
   ]
  },
  {
   "cell_type": "code",
   "execution_count": 23,
   "id": "4bfe06b7",
   "metadata": {
    "ExecuteTime": {
     "end_time": "2022-02-04T16:02:05.860983Z",
     "start_time": "2022-02-04T16:02:05.829798Z"
    }
   },
   "outputs": [
    {
     "data": {
      "text/plain": [
       "Counter({'Red': 3, 'Orange': 6, 'Blue': 2, 'Yellow': 4, 'Purple': 1})"
      ]
     },
     "execution_count": 23,
     "metadata": {},
     "output_type": "execute_result"
    }
   ],
   "source": [
    "from collections import Counter\n",
    "cards = ['Red'] * 3 + ['Orange'] * 6 + ['Blue'] * 2 + ['Yellow'] * 4 + ['Purple'] * 1\n",
    "\n",
    "c = Counter(cards)\n",
    "c"
   ]
  },
  {
   "cell_type": "code",
   "execution_count": 31,
   "id": "eb387c43",
   "metadata": {
    "ExecuteTime": {
     "end_time": "2022-02-04T16:10:41.955187Z",
     "start_time": "2022-02-04T16:10:41.945666Z"
    }
   },
   "outputs": [
    {
     "data": {
      "text/plain": [
       "[('Orange', 6), ('Yellow', 4), ('Red', 3)]"
      ]
     },
     "execution_count": 31,
     "metadata": {},
     "output_type": "execute_result"
    }
   ],
   "source": [
    "positives = c.most_common()[:3]\n",
    "positives"
   ]
  },
  {
   "cell_type": "code",
   "execution_count": 27,
   "id": "b813c572",
   "metadata": {
    "ExecuteTime": {
     "end_time": "2022-02-04T16:05:57.648781Z",
     "start_time": "2022-02-04T16:05:57.641569Z"
    }
   },
   "outputs": [
    {
     "data": {
      "text/plain": [
       "[('Blue', 2), ('Purple', 1)]"
      ]
     },
     "execution_count": 27,
     "metadata": {},
     "output_type": "execute_result"
    }
   ],
   "source": [
    "c.most_common()[3:]"
   ]
  },
  {
   "cell_type": "code",
   "execution_count": 32,
   "id": "56d8e988",
   "metadata": {
    "ExecuteTime": {
     "end_time": "2022-02-04T16:13:00.987229Z",
     "start_time": "2022-02-04T16:13:00.971637Z"
    }
   },
   "outputs": [
    {
     "data": {
      "text/plain": [
       "Counter({'Red': 3, 'Orange': 6, 'Blue': 2, 'Yellow': 6, 'Purple': 1})"
      ]
     },
     "execution_count": 32,
     "metadata": {},
     "output_type": "execute_result"
    }
   ],
   "source": [
    "jokers = 2\n",
    "for j in range(jokers):\n",
    "    for pos in positives:\n",
    "        if pos[1] < 6:\n",
    "            c[pos[0]] += 1\n",
    "            break\n",
    "c\n",
    "    "
   ]
  },
  {
   "cell_type": "code",
   "execution_count": null,
   "id": "cf2ff4fe",
   "metadata": {},
   "outputs": [],
   "source": []
  }
 ],
 "metadata": {
  "kernelspec": {
   "display_name": "Python 3 (ipykernel)",
   "language": "python",
   "name": "python3"
  },
  "language_info": {
   "codemirror_mode": {
    "name": "ipython",
    "version": 3
   },
   "file_extension": ".py",
   "mimetype": "text/x-python",
   "name": "python",
   "nbconvert_exporter": "python",
   "pygments_lexer": "ipython3",
   "version": "3.10.0rc1"
  },
  "toc": {
   "base_numbering": 1,
   "nav_menu": {},
   "number_sections": true,
   "sideBar": true,
   "skip_h1_title": true,
   "title_cell": "Table of Contents",
   "title_sidebar": "Contents",
   "toc_cell": false,
   "toc_position": {},
   "toc_section_display": true,
   "toc_window_display": false
  }
 },
 "nbformat": 4,
 "nbformat_minor": 5
}
