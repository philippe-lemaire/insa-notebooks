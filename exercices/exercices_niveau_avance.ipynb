{
 "cells": [
  {
   "cell_type": "markdown",
   "id": "423b2e92",
   "metadata": {},
   "source": [
    "# Exercices Python niveau Avancé"
   ]
  },
  {
   "cell_type": "markdown",
   "id": "6a1cf388",
   "metadata": {},
   "source": [
    "## Self, self, self\n",
    "\n",
    "\n"
   ]
  },
  {
   "cell_type": "markdown",
   "id": "2d5f561c",
   "metadata": {
    "ExecuteTime": {
     "end_time": "2022-02-03T09:52:00.645717Z",
     "start_time": "2022-02-03T09:52:00.641140Z"
    }
   },
   "source": [
    "### Contexte et objectif\n",
    "\n",
    "`self` est un concept que vous devez comprendre quand vous travaillez sur vos **classes**.\n",
    "En utilisant le mot-clé `self` nous pouvons accéder aux attributs et méthodes de la classe. `self` représente l’instance qui utilise la méthode.\n",
    "\n",
    "Ci-dessous, nous avons créé une classe `Cat` mais sa définition contient des erreurs.\n",
    "\n",
    "La classe contient 3 méthodes dont le but est de modifier des attributs de l'instance qui les utilise.\n",
    "\n",
    "- `age_10_years()`\n",
    "- `gain_weight()`\n",
    "- `turn_grey()`\n",
    "\n",
    "### Votre mission\n",
    "\n",
    "Get the winning combination\n",
    "\n",
    "- Corrigez la classe `Cat` en plaçant le mot clé `self` à bon escient\n",
    "- Pas besoin de créer de nouvelles méthodes\n",
    "- La classe est correcte si quand vous exécutez la cellule située en dessous de la définition de clases vous obtenez bien :\n",
    "\n",
    "\n",
    "    \"My 1 year old cat weighs 5 pounds and is brown.  Come back in a few years and see how he is doing\"\n",
    "    --------------------10 years later----------------------\n",
    "    \"My 10 year old cat now weighs 20 pounds and is grey \"\n",
    "    \n",
    "\n",
    "**Astuce** Notez bien que les méthodes sont enchaînées dans le test 🤔\n",
    "    \n",
    "    cat.age_10_years().gain_weight().turn_grey()\n",
    "    \n",
    "La possibilité d’enchaîner des méthodes est souvent un plus. Mais pour que cela fonctionne, il faut faire quelque chose à la fin de chaque méthode. Essayez de trouver quoi par vous-même.\n",
    "\n"
   ]
  },
  {
   "cell_type": "code",
   "execution_count": null,
   "id": "a75bc64a",
   "metadata": {},
   "outputs": [],
   "source": [
    "class Cat:\n",
    "    def __init__():\n",
    "        age = 1\n",
    "        color = 'brown'\n",
    "        weight = 5\n",
    "\n",
    "    def age_10_years():\n",
    "        age = 10\n",
    "\n",
    "    def gain_weight():\n",
    "        weight = 20\n",
    "\n",
    "    def turn_grey():\n",
    "        color = 'grey'"
   ]
  },
  {
   "cell_type": "code",
   "execution_count": null,
   "id": "33e69b32",
   "metadata": {},
   "outputs": [],
   "source": [
    "# Do not modify the code below:\n",
    "cat = Cat()\n",
    "print(f\"My {cat.age} year old cat weighs {cat.weight} pounds and is {cat.color}.  Come back in a few years and see how he is doing.\")\n",
    "\n",
    "\n",
    "cat.age_10_years().gain_weight().turn_grey()\n",
    "print(\"--------------------10 years later----------------------\")\n",
    "print(f\"My {cat.age} year old cat now weighs {cat.weight} pounds and is {cat.color}\")"
   ]
  },
  {
   "cell_type": "markdown",
   "id": "3095d342",
   "metadata": {},
   "source": [
    "## Potions"
   ]
  },
  {
   "cell_type": "markdown",
   "id": "d5436651",
   "metadata": {},
   "source": [
    "### Contexte\n",
    "\n",
    "C'est votre premier cours de potions à *Poudlard Lyon*. Le professeur vous a donné des devoirs : \n",
    "vous devez déterminer quelle sera la couleur d’une potion résultant du mélange de deux potions.\n",
    "\n",
    "Chaque potion a une couleur, qui est enregistrée comme une liste de 3 valeurs entre `0` et `255`, représentant respectivement l’intensité des couleurs primaires rouge, vert et bleu.\n",
    "\n",
    "Pour corser l'exercice, le professeur va mélanger successivement plusieurs potions et vous demander la couleur du résultat. Qui plus est, les potions n’ont pas toutes le même volume, vous devrez prendre en compte le volume des potions dans le calcul des couleurs après mélange, et donner le volume de la nouvelle potion après mélange (en supposant qu'aucune goutte n’est perdue dans l'opération).\n",
    "\n",
    "\n",
    "### Votre mission\n",
    "\n",
    "Avec vos notions d’alchimie, vous savez que la couleur d’un mélange revient à déterminer la force de chaque couleur primaire en additionnant et pondérant les couleurs venant des deux potions mélangées.\n",
    "\n",
    "Par exemple, si vous mélangez une potion ayant pour couleur `[255, 255, 0]` et pour volume `10` avec une potion ayant pour  \n",
    "couleur `[0, 254, 0]` et pour volume `5`, vous obtiendrez une potion ayant pour couleur `[170, 255, 0]` et pour volume `15`\n",
    "\n",
    "Vous avez donc décidé de créer une classe `Potion` qui aura 2 attributs: `color` (une liste avec 3 entiers) et `volume` (un entier) et une méthode `.mix()` qui acceptera une autre potion comme argument et renverra la potion résultante du mélange.\n",
    "\n"
   ]
  },
  {
   "cell_type": "code",
   "execution_count": null,
   "id": "2e4cf478",
   "metadata": {
    "ExecuteTime": {
     "end_time": "2022-02-03T09:52:00.686195Z",
     "start_time": "2022-02-03T09:52:00.682892Z"
    }
   },
   "outputs": [],
   "source": [
    "class Potion:\n",
    "    '''\n",
    "    Une classe représentant une potion, avec sa couleur et son volume.\n",
    "    NB : dans le calcul des couleurs mélangées, arrondissez à l'entier supérieur.\n",
    "    '''\n",
    "    \n",
    "    def __init__(self, color, volume):    \n",
    "        # à vous \n",
    "        pass\n",
    "    \n",
    "    \n",
    "    def mix(self, other):\n",
    "        # à vous \n",
    "        pass    "
   ]
  },
  {
   "cell_type": "code",
   "execution_count": null,
   "id": "05b92809",
   "metadata": {
    "ExecuteTime": {
     "end_time": "2022-02-03T09:52:00.720652Z",
     "start_time": "2022-02-03T09:52:00.688567Z"
    }
   },
   "outputs": [],
   "source": [
    "# Cellule de tests unitaires, exécutez-là et vérifier que tous les tests sont ok.\n",
    "# Si un test échoue, retravaillez votre fonction, puis exécutez à nouveau la cellule\n",
    "# hébergeant la définition de votre fonction et cette cellule de tests\n",
    "\n",
    "felix_felicis       =  Potion([255, 255, 255],  7)\n",
    "shrinking_solution  =  Potion([ 51, 102,  51], 12)\n",
    "\n",
    "potions = [\n",
    "    Potion((153, 210, 199), 32),\n",
    "    Potion((135,  34,   0), 17),\n",
    "    Potion((18,   19,  20), 25),\n",
    "    Potion((174, 211,  13),  4),\n",
    "    Potion((255,  23, 148), 19),\n",
    "    Potion((51,  102,  51),  6)\n",
    "]\n",
    "\n",
    "a = potions[0].mix(potions[1])\n",
    "b = potions[0].mix(potions[2]).mix(potions[4])\n",
    "c = potions[1].mix(potions[2]).mix(potions[3]).mix(potions[5])\n",
    "d = potions[0].mix(potions[1]).mix(potions[2]).mix(potions[4]).mix(potions[5])\n",
    "e = potions[0].mix(potions[1]).mix(potions[2]).mix(potions[3]).mix(potions[4]).mix(potions[5])\n",
    "\n",
    "import unittest\n",
    "\n",
    "\n",
    "class TestNotebook(unittest.TestCase):\n",
    "\n",
    "    def test_exemple_1(self):\n",
    "        new_potion          =  felix_felicis.mix(shrinking_solution)\n",
    "        self.assertEqual(new_potion.color, [127, 159, 127])\n",
    "        self.assertEqual(new_potion.volume, 19)\n",
    "\n",
    "    def test_a(self):\n",
    "        self.assertEqual(a.color, [147, 149, 130])\n",
    "        self.assertEqual(a.volume, 49)\n",
    "    def test_b(self):\n",
    "        self.assertEqual(b.color, [135, 101, 128])\n",
    "        self.assertEqual(b.volume, 76)\n",
    "    def test_c(self):\n",
    "        self.assertEqual(c.color, [74, 50, 18])\n",
    "        self.assertEqual(c.volume, 52)\n",
    "    def test_d(self):\n",
    "        self.assertEqual(d.color, [130, 91, 102])\n",
    "        self.assertEqual(d.volume, 99)\n",
    "    def test_e(self):\n",
    "        self.assertEqual(e.color, [132, 96, 99])\n",
    "        self.assertEqual(e.volume, 103)\n",
    "\n",
    "\n",
    "\n",
    "unittest.main(argv=[''], verbosity=2, exit=False);"
   ]
  },
  {
   "cell_type": "markdown",
   "id": "cb20d2ff",
   "metadata": {},
   "source": [
    "## UnBanque Python"
   ]
  },
  {
   "cell_type": "markdown",
   "id": "90ce2640",
   "metadata": {},
   "source": []
  },
  {
   "cell_type": "code",
   "execution_count": null,
   "id": "4bebc113",
   "metadata": {
    "ExecuteTime": {
     "end_time": "2022-02-07T08:56:27.845581Z",
     "start_time": "2022-02-07T08:56:27.840039Z"
    }
   },
   "outputs": [],
   "source": []
  },
  {
   "cell_type": "code",
   "execution_count": null,
   "id": "eea3415e",
   "metadata": {},
   "outputs": [],
   "source": []
  },
  {
   "cell_type": "code",
   "execution_count": null,
   "id": "8c1aacc9",
   "metadata": {
    "ExecuteTime": {
     "end_time": "2022-02-07T08:38:09.521627Z",
     "start_time": "2022-02-07T08:38:09.493226Z"
    }
   },
   "outputs": [],
   "source": [
    "# Cellule de tests unitaires, exécutez-là et vérifier que tous les tests sont ok.\n",
    "# Si un test échoue, retravaillez votre fonction, puis exécutez à nouveau la cellule\n",
    "# hébergeant la définition de votre fonction et cette cellule de tests\n",
    "\n",
    "import unittest\n",
    "\n",
    "\n",
    "class TestNotebook(unittest.TestCase):\n",
    "\n",
    "    def test_4(self):\n",
    "        self.assertEqual(roman_to_int('IV'), 4)\n",
    "\n",
    "\n",
    "unittest.main(argv=[''], verbosity=2, exit=False);"
   ]
  },
  {
   "cell_type": "code",
   "execution_count": null,
   "id": "844360e1",
   "metadata": {
    "ExecuteTime": {
     "end_time": "2022-02-07T12:16:26.080982Z",
     "start_time": "2022-02-07T12:16:26.076261Z"
    }
   },
   "outputs": [],
   "source": []
  },
  {
   "cell_type": "markdown",
   "id": "2e8b08ee",
   "metadata": {},
   "source": [
    "<div class='alert alert-success'>\n",
    "    \n",
    "🎉 Vous êtes arrivé·e au bout de ces exercices, j’espère qu’ils vous ont amusé·e ! 🎉\n",
    "    \n",
    "</div>"
   ]
  },
  {
   "cell_type": "code",
   "execution_count": null,
   "id": "38f40fc1",
   "metadata": {},
   "outputs": [],
   "source": []
  }
 ],
 "metadata": {
  "kernelspec": {
   "display_name": "Python 3 (ipykernel)",
   "language": "python",
   "name": "python3"
  },
  "language_info": {
   "codemirror_mode": {
    "name": "ipython",
    "version": 3
   },
   "file_extension": ".py",
   "mimetype": "text/x-python",
   "name": "python",
   "nbconvert_exporter": "python",
   "pygments_lexer": "ipython3",
   "version": "3.10.0rc1"
  },
  "toc": {
   "base_numbering": 1,
   "nav_menu": {},
   "number_sections": true,
   "sideBar": true,
   "skip_h1_title": true,
   "title_cell": "Table of Contents",
   "title_sidebar": "Contents",
   "toc_cell": false,
   "toc_position": {},
   "toc_section_display": true,
   "toc_window_display": false
  }
 },
 "nbformat": 4,
 "nbformat_minor": 5
}
