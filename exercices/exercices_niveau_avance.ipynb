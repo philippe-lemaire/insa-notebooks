{
 "cells": [
  {
   "cell_type": "markdown",
   "id": "423b2e92",
   "metadata": {},
   "source": [
    "# Exercices Python niveau Avancé"
   ]
  },
  {
   "cell_type": "markdown",
   "id": "6a1cf388",
   "metadata": {},
   "source": [
    "## Self, self, self\n",
    "\n",
    "\n"
   ]
  },
  {
   "cell_type": "markdown",
   "id": "b3e0a562",
   "metadata": {
    "ExecuteTime": {
     "end_time": "2022-02-03T09:52:00.645717Z",
     "start_time": "2022-02-03T09:52:00.641140Z"
    }
   },
   "source": [
    "### Contexte et objectif\n",
    "\n",
    "`self` est un concept que vous devez comprendre quand vous travaillez sur vos **classes**.\n",
    "En utilisant le mot-clé `self` nous pouvons accéder aux attributs et méthodes de la classe. `self` représente l’instance qui utilise la méthode.\n",
    "\n",
    "Ci-dessous, nous avons créé une classe `Cat` mais sa définition contient des erreurs.\n",
    "\n",
    "La classe contient 3 méthodes dont le but est de modifier des attributs de l'instance qui les utilise.\n",
    "\n",
    "- `age_10_years()`\n",
    "- `gain_weight()`\n",
    "- `turn_grey()`\n",
    "\n",
    "### Votre mission\n",
    "\n",
    "Get the winning combination\n",
    "\n",
    "- Corrigez la classe `Cat` en plaçant le mot clé `self` à bon escient\n",
    "- Pas besoin de créer de nouvelles méthodes\n",
    "- La classe est correcte si quand vous exécutez la cellule située en dessous de la définition de clases vous obtenez bien :\n",
    "\n",
    "\n",
    "    \"My 1 year old cat weighs 5 pounds and is brown.  Come back in a few years and see how he is doing\"\n",
    "    --------------------10 years later----------------------\n",
    "    \"My 10 year old cat now weighs 20 pounds and is grey \"\n",
    "    \n",
    "\n",
    "**Astuce** Notez bien que les méthodes sont enchaînées dans le test 🤔\n",
    "    \n",
    "    cat.age_10_years().gain_weight().turn_grey()\n",
    "    \n",
    "La possibilité d’enchaîner des méthodes est souvent un plus. Mais pour que cela fonctionne, il faut faire quelque chose à la fin de chaque méthode. Essayez de trouver quoi par vous-même.\n",
    "\n"
   ]
  },
  {
   "cell_type": "code",
   "execution_count": null,
   "id": "f647c99f",
   "metadata": {},
   "outputs": [],
   "source": [
    "class Cat:\n",
    "    def __init__():\n",
    "        age = 1\n",
    "        color = 'brown'\n",
    "        weight = 5\n",
    "\n",
    "    def age_10_years():\n",
    "        age = 10\n",
    "\n",
    "    def gain_weight():\n",
    "        weight = 20\n",
    "\n",
    "    def turn_grey():\n",
    "        color = 'grey'"
   ]
  },
  {
   "cell_type": "code",
   "execution_count": null,
   "id": "d1ad174c",
   "metadata": {},
   "outputs": [],
   "source": [
    "# Do not modify the code below:\n",
    "cat = Cat()\n",
    "print(f\"My {cat.age} year old cat weighs {cat.weight} pounds and is {cat.color}.  Come back in a few years and see how he is doing.\")\n",
    "\n",
    "\n",
    "cat.age_10_years().gain_weight().turn_grey()\n",
    "print(\"--------------------10 years later----------------------\")\n",
    "print(f\"My {cat.age} year old cat now weighs {cat.weight} pounds and is {cat.color}\")"
   ]
  },
  {
   "cell_type": "markdown",
   "id": "3095d342",
   "metadata": {},
   "source": [
    "## Potions"
   ]
  },
  {
   "cell_type": "markdown",
   "id": "d5436651",
   "metadata": {},
   "source": [
    "\n"
   ]
  },
  {
   "cell_type": "code",
   "execution_count": null,
   "id": "2e4cf478",
   "metadata": {
    "ExecuteTime": {
     "end_time": "2022-02-03T09:52:00.686195Z",
     "start_time": "2022-02-03T09:52:00.682892Z"
    }
   },
   "outputs": [],
   "source": [
    "class Potion():\n",
    "    '''\n",
    "    doc string\n",
    "    '''\n",
    "    \n",
    "    # à vous \n",
    "    pass"
   ]
  },
  {
   "cell_type": "code",
   "execution_count": null,
   "id": "2bc5793c",
   "metadata": {},
   "outputs": [],
   "source": []
  },
  {
   "cell_type": "code",
   "execution_count": null,
   "id": "05b92809",
   "metadata": {
    "ExecuteTime": {
     "end_time": "2022-02-03T09:52:00.720652Z",
     "start_time": "2022-02-03T09:52:00.688567Z"
    }
   },
   "outputs": [],
   "source": [
    "# Cellule de tests unitaires, exécutez-là et vérifier que tous les tests sont ok.\n",
    "# Si un test échoue, retravaillez votre fonction, puis exécutez à nouveau la cellule\n",
    "# hébergeant la définition de votre fonction et cette cellule de tests\n",
    "\n",
    "import unittest\n",
    "\n",
    "\n",
    "class TestNotebook(unittest.TestCase):\n",
    "\n",
    "    def test_exemple_1(self):\n",
    "        self.assertEqual(temps_attente([5, 3, 4], 1), 12)\n",
    "\n",
    "\n",
    "\n",
    "\n",
    "unittest.main(argv=[''], verbosity=2, exit=False)"
   ]
  },
  {
   "cell_type": "markdown",
   "id": "cb20d2ff",
   "metadata": {},
   "source": [
    "## Banque"
   ]
  },
  {
   "cell_type": "markdown",
   "id": "90ce2640",
   "metadata": {},
   "source": []
  },
  {
   "cell_type": "code",
   "execution_count": null,
   "id": "4bebc113",
   "metadata": {
    "ExecuteTime": {
     "end_time": "2022-02-07T08:56:27.845581Z",
     "start_time": "2022-02-07T08:56:27.840039Z"
    }
   },
   "outputs": [],
   "source": []
  },
  {
   "cell_type": "code",
   "execution_count": null,
   "id": "eea3415e",
   "metadata": {},
   "outputs": [],
   "source": []
  },
  {
   "cell_type": "code",
   "execution_count": null,
   "id": "8c1aacc9",
   "metadata": {
    "ExecuteTime": {
     "end_time": "2022-02-07T08:38:09.521627Z",
     "start_time": "2022-02-07T08:38:09.493226Z"
    }
   },
   "outputs": [],
   "source": [
    "# Cellule de tests unitaires, exécutez-là et vérifier que tous les tests sont ok.\n",
    "# Si un test échoue, retravaillez votre fonction, puis exécutez à nouveau la cellule\n",
    "# hébergeant la définition de votre fonction et cette cellule de tests\n",
    "\n",
    "import unittest\n",
    "\n",
    "\n",
    "class TestNotebook(unittest.TestCase):\n",
    "\n",
    "    def test_4(self):\n",
    "        self.assertEqual(roman_to_int('IV'), 4)\n",
    "\n",
    "\n",
    "unittest.main(argv=[''], verbosity=2, exit=False);"
   ]
  },
  {
   "cell_type": "code",
   "execution_count": null,
   "id": "844360e1",
   "metadata": {
    "ExecuteTime": {
     "end_time": "2022-02-07T12:16:26.080982Z",
     "start_time": "2022-02-07T12:16:26.076261Z"
    }
   },
   "outputs": [],
   "source": []
  },
  {
   "cell_type": "markdown",
   "id": "2e8b08ee",
   "metadata": {},
   "source": [
    "<div class='alert alert-success'>\n",
    "    \n",
    "🎉 Vous êtes arrivé·e au bout de ces exercices, j’espère qu’ils vous ont amusé·e ! 🎉\n",
    "    \n",
    "</div>"
   ]
  },
  {
   "cell_type": "code",
   "execution_count": null,
   "id": "df360f9b",
   "metadata": {},
   "outputs": [],
   "source": []
  }
 ],
 "metadata": {
  "kernelspec": {
   "display_name": "Python 3 (ipykernel)",
   "language": "python",
   "name": "python3"
  },
  "language_info": {
   "codemirror_mode": {
    "name": "ipython",
    "version": 3
   },
   "file_extension": ".py",
   "mimetype": "text/x-python",
   "name": "python",
   "nbconvert_exporter": "python",
   "pygments_lexer": "ipython3",
   "version": "3.10.0rc1"
  },
  "toc": {
   "base_numbering": 1,
   "nav_menu": {},
   "number_sections": true,
   "sideBar": true,
   "skip_h1_title": true,
   "title_cell": "Table of Contents",
   "title_sidebar": "Contents",
   "toc_cell": false,
   "toc_position": {},
   "toc_section_display": true,
   "toc_window_display": false
  }
 },
 "nbformat": 4,
 "nbformat_minor": 5
}
