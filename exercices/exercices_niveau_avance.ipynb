{
 "cells": [
  {
   "cell_type": "markdown",
   "id": "423b2e92",
   "metadata": {},
   "source": [
    "# Exercices Python niveau Avancé"
   ]
  },
  {
   "cell_type": "markdown",
   "id": "6a1cf388",
   "metadata": {},
   "source": [
    "## Self, self, self\n",
    "\n",
    "\n"
   ]
  },
  {
   "cell_type": "markdown",
   "id": "f158bb8e",
   "metadata": {
    "ExecuteTime": {
     "end_time": "2022-02-03T09:52:00.645717Z",
     "start_time": "2022-02-03T09:52:00.641140Z"
    }
   },
   "source": [
    "### Contexte et objectif\n",
    "\n",
    "`self` est un concept que vous devez comprendre quand vous travaillez sur vos **classes**.\n",
    "En utilisant le mot-clé `self` nous pouvons accéder aux attributs et méthodes de la classe. `self` représente l’instance qui utilise la méthode.\n",
    "\n",
    "Ci-dessous, nous avons créé une classe `Cat` mais sa définition contient des erreurs.\n",
    "\n",
    "La classe contient 3 méthodes dont le but est de modifier des attributs de l'instance qui les utilise.\n",
    "\n",
    "- `age_10_years()`\n",
    "- `gain_weight()`\n",
    "- `turn_grey()`\n",
    "\n",
    "### Votre mission\n",
    "\n",
    "Get the winning combination\n",
    "\n",
    "- Corrigez la classe `Cat` en plaçant le mot clé `self` à bon escient\n",
    "- Pas besoin de créer de nouvelles méthodes\n",
    "- La classe est correcte si quand vous exécutez la cellule située en dessous de la définition de clases vous obtenez bien :\n",
    "\n",
    "\n",
    "    \"My 1 year old cat weighs 5 pounds and is brown.  Come back in a few years and see how he is doing\"\n",
    "    --------------------10 years later----------------------\n",
    "    \"My 10 year old cat now weighs 20 pounds and is grey \"\n",
    "    \n",
    "\n",
    "**Astuce** Notez bien que les méthodes sont enchaînées dans le test 🤔\n",
    "    \n",
    "    cat.age_10_years().gain_weight().turn_grey()\n",
    "    \n",
    "La possibilité d’enchaîner des méthodes est souvent un plus. Mais pour que cela fonctionne, il faut faire quelque chose à la fin de chaque méthode. Essayez de trouver quoi par vous-même.\n",
    "\n"
   ]
  },
  {
   "cell_type": "code",
   "execution_count": null,
   "id": "8f6878aa",
   "metadata": {},
   "outputs": [],
   "source": [
    "class Cat:\n",
    "    def __init__():\n",
    "        age = 1\n",
    "        color = 'brown'\n",
    "        weight = 5\n",
    "\n",
    "    def age_10_years():\n",
    "        age = 10\n",
    "\n",
    "    def gain_weight():\n",
    "        weight = 20\n",
    "\n",
    "    def turn_grey():\n",
    "        color = 'grey'"
   ]
  },
  {
   "cell_type": "code",
   "execution_count": null,
   "id": "bd35e05e",
   "metadata": {},
   "outputs": [],
   "source": [
    "# Do not modify the code below:\n",
    "cat = Cat()\n",
    "print(f\"My {cat.age} year old cat weighs {cat.weight} pounds and is {cat.color}.  Come back in a few years and see how he is doing.\")\n",
    "\n",
    "\n",
    "cat.age_10_years().gain_weight().turn_grey()\n",
    "print(\"--------------------10 years later----------------------\")\n",
    "print(f\"My {cat.age} year old cat now weighs {cat.weight} pounds and is {cat.color}\")"
   ]
  },
  {
   "cell_type": "markdown",
   "id": "3095d342",
   "metadata": {},
   "source": [
    "## Potions"
   ]
  },
  {
   "cell_type": "markdown",
   "id": "d5436651",
   "metadata": {},
   "source": [
    "### Contexte\n",
    "\n",
    "C'est votre premier cours de potions à *Poudlard Lyon*. Le professeur vous a donné des devoirs : \n",
    "vous devez déterminer quelle sera la couleur d’une potion résultant du mélange de deux potions.\n",
    "\n",
    "Chaque potion a une couleur, qui est enregistrée comme une liste de 3 valeurs entre `0` et `255`, représentant respectivement l’intensité des couleurs primaires rouge, vert et bleu.\n",
    "\n",
    "Pour corser l'exercice, le professeur va mélanger successivement plusieurs potions et vous demander la couleur du résultat. Qui plus est, les potions n’ont pas toutes le même volume, vous devrez prendre en compte le volume des potions dans le calcul des couleurs après mélange, et donner le volume de la nouvelle potion après mélange (en supposant qu'aucune goutte n’est perdue dans l'opération).\n",
    "\n",
    "\n",
    "### Votre mission\n",
    "\n",
    "Avec vos notions d’alchimie, vous savez que la couleur d’un mélange revient à déterminer la force de chaque couleur primaire en additionnant et pondérant les couleurs venant des deux potions mélangées.\n",
    "\n",
    "Par exemple, si vous mélangez une potion ayant pour couleur `[255, 255, 0]` et pour volume `10` avec une potion ayant pour  \n",
    "couleur `[0, 254, 0]` et pour volume `5`, vous obtiendrez une potion ayant pour couleur `[170, 255, 0]` et pour volume `15`\n",
    "\n",
    "Vous avez donc décidé de créer une classe `Potion` qui aura 2 attributs: `color` (une liste avec 3 entiers) et `volume` (un entier) et une méthode `.mix()` qui acceptera une autre potion comme argument et renverra la potion résultante du mélange.\n",
    "\n"
   ]
  },
  {
   "cell_type": "code",
   "execution_count": null,
   "id": "2e4cf478",
   "metadata": {
    "ExecuteTime": {
     "end_time": "2022-02-03T09:52:00.686195Z",
     "start_time": "2022-02-03T09:52:00.682892Z"
    }
   },
   "outputs": [],
   "source": [
    "class Potion:\n",
    "    '''\n",
    "    Une classe représentant une potion, avec sa couleur et son volume.\n",
    "    NB : dans le calcul des couleurs mélangées, arrondissez à l'entier supérieur.\n",
    "    '''\n",
    "    \n",
    "    def __init__(self, color, volume):    \n",
    "        # à vous \n",
    "        pass\n",
    "    \n",
    "    \n",
    "    def mix(self, other):\n",
    "        # à vous \n",
    "        pass    "
   ]
  },
  {
   "cell_type": "code",
   "execution_count": null,
   "id": "05b92809",
   "metadata": {
    "ExecuteTime": {
     "end_time": "2022-02-03T09:52:00.720652Z",
     "start_time": "2022-02-03T09:52:00.688567Z"
    }
   },
   "outputs": [],
   "source": [
    "# Cellule de tests unitaires, exécutez-là et vérifier que tous les tests sont ok.\n",
    "# Si un test échoue, retravaillez votre fonction, puis exécutez à nouveau la cellule\n",
    "# hébergeant la définition de votre fonction et cette cellule de tests\n",
    "\n",
    "felix_felicis       =  Potion([255, 255, 255],  7)\n",
    "shrinking_solution  =  Potion([ 51, 102,  51], 12)\n",
    "\n",
    "potions = [\n",
    "    Potion((153, 210, 199), 32),\n",
    "    Potion((135,  34,   0), 17),\n",
    "    Potion((18,   19,  20), 25),\n",
    "    Potion((174, 211,  13),  4),\n",
    "    Potion((255,  23, 148), 19),\n",
    "    Potion((51,  102,  51),  6)\n",
    "]\n",
    "\n",
    "a = potions[0].mix(potions[1])\n",
    "b = potions[0].mix(potions[2]).mix(potions[4])\n",
    "c = potions[1].mix(potions[2]).mix(potions[3]).mix(potions[5])\n",
    "d = potions[0].mix(potions[1]).mix(potions[2]).mix(potions[4]).mix(potions[5])\n",
    "e = potions[0].mix(potions[1]).mix(potions[2]).mix(potions[3]).mix(potions[4]).mix(potions[5])\n",
    "\n",
    "import unittest\n",
    "\n",
    "\n",
    "class TestNotebook(unittest.TestCase):\n",
    "\n",
    "    def test_exemple_1(self):\n",
    "        new_potion          =  felix_felicis.mix(shrinking_solution)\n",
    "        self.assertEqual(new_potion.color, [127, 159, 127])\n",
    "        self.assertEqual(new_potion.volume, 19)\n",
    "\n",
    "    def test_a(self):\n",
    "        self.assertEqual(a.color, [147, 149, 130])\n",
    "        self.assertEqual(a.volume, 49)\n",
    "    def test_b(self):\n",
    "        self.assertEqual(b.color, [135, 101, 128])\n",
    "        self.assertEqual(b.volume, 76)\n",
    "    def test_c(self):\n",
    "        self.assertEqual(c.color, [74, 50, 18])\n",
    "        self.assertEqual(c.volume, 52)\n",
    "    def test_d(self):\n",
    "        self.assertEqual(d.color, [130, 91, 102])\n",
    "        self.assertEqual(d.volume, 99)\n",
    "    def test_e(self):\n",
    "        self.assertEqual(e.color, [132, 96, 99])\n",
    "        self.assertEqual(e.volume, 103)\n",
    "\n",
    "\n",
    "\n",
    "unittest.main(argv=[''], verbosity=2, exit=False);"
   ]
  },
  {
   "cell_type": "markdown",
   "id": "cb20d2ff",
   "metadata": {},
   "source": [
    "## Une Banque Pythonique"
   ]
  },
  {
   "cell_type": "markdown",
   "id": "90ce2640",
   "metadata": {},
   "source": [
    "### Contexte\n",
    "\n",
    "L'INSA veut offrir un service bancaire à ses étudiants.\n",
    "\n",
    "Malheureusement, le développeur en charge de l'implémentation du système de dépôts / retraits est parti sans avoir terminé son travail. Vous allez devoir le remplacer et terminer cette classe.\n",
    "\n",
    "Vous devez ajouter les fonctionnalités suivantes (NB, ce ne sont pas nécessairement les étapes à suivre dans l'ordre, mais plutôt un cahier des charges) :\n",
    "\n",
    "\n",
    "1. Une méthode de retrait appelée `withdraw()` :\n",
    "    - Retire un certain montant du compte\n",
    "    - Un paramètre, le montant à retirer\n",
    "    - lève une ValueError s'il n’y a pas assez d’argent sur le compte\n",
    "    - après retrait renvoie une chaîne de charactères avec le nom de l’utilisateur et son solde (voir exemples)\n",
    "\n",
    "1. Une méthode de dépôt de chèque appelée `check()`:\n",
    "\n",
    "    - ajoute un certain montant sur le compte\n",
    "    - 2 paramètres : l'auteur du chèque qui est un autre utilisateur et un montant\n",
    "    - lève une ValueError si l'auteur du chèque n’a pas les fonds\n",
    "    - lève une ValueError si l’auteur du chèque n'a pas `checking_account` à `True`\n",
    "    - renvoie une chaîne de caractères ave le nom de l'utilisateur et son solde plus le nom de l’autre utilisateur et son solde (voir exemples)\n",
    "\n",
    "1. Une méthode de dépôt `add_cash`:\n",
    "    - Ajoute un certain montant sur le compte\n",
    "    - Un paramètre : le montant\n",
    "    - Renvoie une chaîne de caractères avec le nom de l'utilisateur et son solde (voir exemples)\n",
    "\n",
    "\n",
    "Notes complémentaires:\n",
    "\n",
    "- checking_account devra être un attribut booléen (`True` ou `False`)\n",
    "- dans les tests, aucun montant négatif ne sera utilisé\n",
    "- Les chaînes renvoyées par les méthodes se terminent par un point.\n",
    "- Dans les tests, aucun nombre à virgule ne sera utilisé, utilisez des nombres entiers\n",
    "- aucun symbole de monnaie ne sera passé, les argements passés seront de vrais nombres\n",
    "\n",
    "### Exemples:"
   ]
  },
  {
   "cell_type": "markdown",
   "id": "3ceb5bee",
   "metadata": {
    "ExecuteTime": {
     "end_time": "2022-02-07T08:56:27.845581Z",
     "start_time": "2022-02-07T08:56:27.840039Z"
    }
   },
   "source": [
    "`Jeff = User('Jeff', 70, True)\n",
    "Joe = User('Joe', 70, False)`\n",
    "\n",
    "`Jeff.withdraw(2)` # Renvoie 'Jeff has 68.'\n",
    "\n",
    "`Joe.check(Jeff, 50)` # Renvoie 'Joe has 120 and Jeff has 18.'\n",
    "\n",
    "`Jeff.check(Joe, 80)` # Lève une ValueError\n",
    "\n",
    "`Joe.checking_account = True` # Autorise Joe a faire des chèques\n",
    "\n",
    "`Jeff.check(Joe, 80)` # Renvoie 'Jeff has 98 and Joe has 40.'\n",
    "\n",
    "`Joe.check(Jeff, 100)` # Lève une ValueError\n",
    "\n",
    "`Jeff.add_cash(20.00)` # Renvoie 'Jeff has 118.'\n"
   ]
  },
  {
   "cell_type": "code",
   "execution_count": null,
   "id": "eea3415e",
   "metadata": {},
   "outputs": [],
   "source": [
    "class User(object):\n",
    "    def __init__(self, name, balance, checking_account):\n",
    "        self.name = name\n",
    "        self.balance = balance\n",
    "        self.checking_account = checking_account\n",
    "    # À vous de jouer"
   ]
  },
  {
   "cell_type": "code",
   "execution_count": null,
   "id": "fe762f01",
   "metadata": {},
   "outputs": [],
   "source": []
  },
  {
   "cell_type": "code",
   "execution_count": null,
   "id": "8c1aacc9",
   "metadata": {
    "ExecuteTime": {
     "end_time": "2022-02-07T08:38:09.521627Z",
     "start_time": "2022-02-07T08:38:09.493226Z"
    }
   },
   "outputs": [],
   "source": [
    "# Cellule de tests unitaires, exécutez-là et vérifier que tous les tests sont ok.\n",
    "# Si un test échoue, retravaillez votre fonction, puis exécutez à nouveau la cellule\n",
    "# hébergeant la définition de votre fonction et cette cellule de tests\n",
    "\n",
    "import unittest\n",
    "Jeff = User('Jeff', 70, True)\n",
    "Joe = User('Joe', 70, True)\n",
    "\n",
    "class TestNotebook(unittest.TestCase):\n",
    "\n",
    "    \n",
    "    def test1_withdraw(self):\n",
    "        self.assertEqual(Jeff.withdraw(2), 'Jeff has 68.')\n",
    "    def test2_check(self):\n",
    "        self.assertEqual(Joe.check(Jeff, 50), 'Joe has 120 and Jeff has 18.')\n",
    "    def test3_check2(self):\n",
    "        self.assertEqual(Jeff.check(Joe, 80), 'Jeff has 98 and Joe has 40.')\n",
    "    def test4_add_cash(self):\n",
    "        self.assertEqual(Jeff.add_cash(20), 'Jeff has 118.')\n",
    "\n",
    " \n",
    "unittest.main(argv=[''], verbosity=2, exit=False);"
   ]
  },
  {
   "cell_type": "markdown",
   "id": "2e8b08ee",
   "metadata": {},
   "source": [
    "<div class='alert alert-success'>\n",
    "    \n",
    "🎉 Vous êtes arrivé·e au bout de ces exercices, j’espère qu’ils vous ont amusé·e ! 🎉\n",
    "    \n",
    "</div>"
   ]
  }
 ],
 "metadata": {
  "kernelspec": {
   "display_name": "Python 3 (ipykernel)",
   "language": "python",
   "name": "python3"
  },
  "language_info": {
   "codemirror_mode": {
    "name": "ipython",
    "version": 3
   },
   "file_extension": ".py",
   "mimetype": "text/x-python",
   "name": "python",
   "nbconvert_exporter": "python",
   "pygments_lexer": "ipython3",
   "version": "3.10.0rc1"
  },
  "toc": {
   "base_numbering": 1,
   "nav_menu": {},
   "number_sections": true,
   "sideBar": true,
   "skip_h1_title": true,
   "title_cell": "Table of Contents",
   "title_sidebar": "Contents",
   "toc_cell": false,
   "toc_position": {},
   "toc_section_display": true,
   "toc_window_display": false
  }
 },
 "nbformat": 4,
 "nbformat_minor": 5
}
