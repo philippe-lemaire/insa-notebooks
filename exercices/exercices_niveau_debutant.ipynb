{
 "cells": [
  {
   "cell_type": "markdown",
   "id": "16257ea3",
   "metadata": {},
   "source": [
    "# Exercices d'échauffement pythonique"
   ]
  },
  {
   "cell_type": "markdown",
   "id": "0a4ca88b",
   "metadata": {},
   "source": [
    "## Suite de Fibonacci"
   ]
  },
  {
   "cell_type": "markdown",
   "id": "9309e844",
   "metadata": {},
   "source": [
    "\n",
    "\n",
    "La suite de Fibonacci est la séquence de nombres :\n",
    "\n",
    "$\\{F_n\\}_{n=1}^\\infty$\n",
    "\n",
    "Définie par l’équation récurrente suivante :\n",
    "\n",
    "$$F_n = F_{n-1} + F_{n-2}$$\n",
    "\n",
    "avec $F_1 = F_2 = 1$, et par convention $F_0 = 0$.\n",
    "\n",
    "Créez une boucle qui affiche les termes de la suite de Fibonacci inférieurs à 1 000.\n"
   ]
  },
  {
   "cell_type": "code",
   "execution_count": null,
   "id": "33acbc5d",
   "metadata": {
    "ExecuteTime": {
     "end_time": "2022-02-04T09:49:02.785142Z",
     "start_time": "2022-02-04T09:49:02.779761Z"
    }
   },
   "outputs": [],
   "source": [
    "def fibo(n):\n",
    "    \"\"\"Renvoie le Nième terme de la suite de Fibonacci.\"\"\"\n",
    "    # Votre code ici. Retirez le pass et assurez vous que votre fonction\n",
    "    # return la bonne valeur. Utilisez une boucle pour répéter les opérations\n",
    "    # nécessaires au calcul du nième terme. Ne changez pas le nom de la fonction.\n",
    "    pass"
   ]
  },
  {
   "cell_type": "code",
   "execution_count": null,
   "id": "4c7d8700",
   "metadata": {
    "ExecuteTime": {
     "end_time": "2022-02-04T09:49:03.023045Z",
     "start_time": "2022-02-04T09:49:02.978818Z"
    }
   },
   "outputs": [],
   "source": [
    "# Cellule de tests unitaires, exécutez-là et vérifiez que tous les tests sont ok.\n",
    "# Si un test échoue, retravaillez votre fonction, puis exécutez à nouveau la cellule\n",
    "# hébergeant la définition de votre fonction et cette cellule de tests\n",
    "\n",
    "import unittest\n",
    "\n",
    "\n",
    "class TestNotebook(unittest.TestCase):\n",
    "\n",
    "    def test_fibo_10(self):\n",
    "        self.assertEqual(fibo(10), 55)\n",
    "    def test_fibo_0(self):\n",
    "        self.assertEqual(fibo(0), 0)\n",
    "    def test_fibo_1(self):\n",
    "        self.assertEqual(fibo(1), 1)\n",
    "   \n",
    "\n",
    "\n",
    "unittest.main(argv=[''], verbosity=2, exit=False)"
   ]
  },
  {
   "cell_type": "markdown",
   "id": "e258acc9",
   "metadata": {},
   "source": [
    "## FizzBuzz"
   ]
  },
  {
   "cell_type": "markdown",
   "id": "4e713fa3",
   "metadata": {},
   "source": [
    ">After a fair bit of trial and error I've discovered that people who struggle to code don't just struggle on big problems, or even smallish problems (i.e. write a implementation of a linked list). They struggle with tiny problems.\n",
    "\n",
    ">    So I set out to develop questions that can identify this kind of developer and came up with a class of questions I call \"FizzBuzz Questions\" named after a game children often play (or are made to play) in schools in the UK. An example of a Fizz-Buzz question is the following:\n",
    "\n",
    ">    Write a program that prints the numbers from 1 to 100. But for multiples of three print \"Fizz\" instead of the number and for the multiples of five print \"Buzz\". For numbers which are multiples of both three and five print \"FizzBuzz\".\n",
    "\n",
    ">    Most good programmers should be able to write out on paper a program which does this in a under a couple of minutes. Want to know something scary? The majority of comp sci graduates can't. I've also seen self-proclaimed senior programmers take more than 10-15 minutes to write a solution.\n",
    "\n",
    "\n",
    "Reginald Braithwaite"
   ]
  },
  {
   "cell_type": "markdown",
   "id": "c0a8bbe3",
   "metadata": {},
   "source": [
    "Écrivez une fonction `fizz_buzz()` qui renvoie une liste des nombres de 1 à 100, mais remplace les nombres multiples de 3 par \"Fizz\", les nombres multiples de 5 par \"Buzz\", et les nombres multiples de 3 et de 5 par \"FizzBuzz\"."
   ]
  },
  {
   "cell_type": "code",
   "execution_count": null,
   "id": "f6127973",
   "metadata": {
    "ExecuteTime": {
     "end_time": "2022-02-04T09:57:53.302336Z",
     "start_time": "2022-02-04T09:57:53.287933Z"
    }
   },
   "outputs": [],
   "source": [
    "def fizz_buzz():\n",
    "    \"\"\"\n",
    "    Renvoie une liste des nombres de 1 à 100, mais substitue les multiples de 3 par 'Fizz'\n",
    "    les multiples de 5 par 'Buzz', et les nombres satisfaisant les deux condition par 'FizzBuzz'.\n",
    "    \"\"\"\n",
    "    # votre code ici\n",
    "    pass"
   ]
  },
  {
   "cell_type": "code",
   "execution_count": null,
   "id": "b246c0a5",
   "metadata": {
    "ExecuteTime": {
     "end_time": "2022-02-04T09:58:35.820475Z",
     "start_time": "2022-02-04T09:58:35.795829Z"
    }
   },
   "outputs": [],
   "source": [
    "# Cellule de tests unitaires, exécutez-là et vérifiez que tous les tests sont ok.\n",
    "# Si un test échoue, retravaillez votre fonction, puis exécutez à nouveau la cellule\n",
    "# hébergeant la définition de votre fonction et cette cellule de tests\n",
    "\n",
    "import unittest\n",
    "\n",
    "\n",
    "class TestNotebook(unittest.TestCase):\n",
    "\n",
    "    def test_fizz_buzz_is_a_list(self):\n",
    "        self.assertIsInstance(fizz_buzz(), list)\n",
    "\n",
    "    def test_fizz_buzz_length_is_100(self):\n",
    "        self.assertEqual(len(fizz_buzz()), 100)\n",
    "\n",
    "    def test_fizz_buzz_30(self):\n",
    "        self.assertEqual(fizz_buzz()[29], 'FizzBuzz')\n",
    "\n",
    "    def test_fizz_buzz_3(self):\n",
    "        self.assertEqual(fizz_buzz()[2], 'Fizz')\n",
    "\n",
    "    def test_fizz_buzz_5(self):\n",
    "        self.assertEqual(fizz_buzz()[19], 'Buzz')\n",
    "\n",
    "\n",
    "unittest.main(argv=[''], verbosity=2, exit=False)"
   ]
  },
  {
   "cell_type": "markdown",
   "id": "4c6c8a7e",
   "metadata": {},
   "source": [
    "## La conjecture de Syracuse"
   ]
  },
  {
   "cell_type": "markdown",
   "id": "97183b61",
   "metadata": {},
   "source": [
    "Assignez un nombre entier positif à une variable et jouez à ce petit jeu :\n",
    "    \n",
    "- Si le nombre dans la variable est impair, multipliez le contenu de la variable par 3 et ajoutez-y ensuite 1\n",
    "- Si le nombre dans la variable est pair, divisez le contenu de la variable par 2\n",
    "- Répétez ce processus aussi longtemps que vous le pouvez, mais si vous arrivez à la valeur 1, arrêtez-vous car c’est une boucle sans fin  \n",
    "1 -> 4 -> 2 -> 1 etc…\n",
    "\n",
    "Plus d'infos sur cette conjecture par ici : https://fr.wikipedia.org/wiki/Conjecture_de_Syracuse si vous êtes intrigué·e.\n",
    "\n",
    "Questions : \n",
    "\n",
    "- Combien d’étapes sont nécessaires pour aller de 39 à 1 ? Stockez la réponse dans une variable appelée `steps_39`\n",
    "- Pouvez-vous trouver un nombre entier positif de départ qui ne descende pas jusqu'à 1 ? (ne cherchez pas trop longtemps)"
   ]
  },
  {
   "cell_type": "code",
   "execution_count": null,
   "id": "5fdc086c",
   "metadata": {
    "ExecuteTime": {
     "end_time": "2022-02-04T10:04:36.864794Z",
     "start_time": "2022-02-04T10:04:36.862090Z"
    }
   },
   "outputs": [],
   "source": [
    "# votre code ici  \n"
   ]
  },
  {
   "cell_type": "code",
   "execution_count": null,
   "id": "655189ea",
   "metadata": {
    "ExecuteTime": {
     "end_time": "2022-02-04T10:04:50.981939Z",
     "start_time": "2022-02-04T10:04:50.958590Z"
    }
   },
   "outputs": [],
   "source": [
    "# Cellule de tests unitaires, exécutez-là et vérifiez que tous les tests sont ok.\n",
    "# Si un test échoue, retravaillez votre fonction, puis exécutez à nouveau la cellule\n",
    "# hébergeant la définition de votre fonction et cette cellule de tests\n",
    "\n",
    "import unittest\n",
    "\n",
    "\n",
    "class TestNotebook(unittest.TestCase):\n",
    "\n",
    "    def test_steps_39(self):\n",
    "        self.assertEqual(steps_39, 34)\n",
    "\n",
    "    \n",
    "\n",
    "\n",
    "unittest.main(argv=[''], verbosity=2, exit=False)"
   ]
  },
  {
   "cell_type": "markdown",
   "id": "a6631dcb",
   "metadata": {},
   "source": [
    "## Inverser les valeurs de deux variables sans faire intervenir une troisième"
   ]
  },
  {
   "cell_type": "markdown",
   "id": "91c28114",
   "metadata": {},
   "source": [
    "### 2 variables numériques"
   ]
  },
  {
   "cell_type": "code",
   "execution_count": null,
   "id": "3003c088",
   "metadata": {},
   "outputs": [],
   "source": [
    "a = 5\n",
    "b = 3"
   ]
  },
  {
   "cell_type": "code",
   "execution_count": null,
   "id": "782f95c1",
   "metadata": {},
   "outputs": [],
   "source": [
    "# votre code ici"
   ]
  },
  {
   "cell_type": "markdown",
   "id": "d74f36cb",
   "metadata": {},
   "source": [
    "### 2 variables textuelles"
   ]
  },
  {
   "cell_type": "code",
   "execution_count": null,
   "id": "4fb35829",
   "metadata": {},
   "outputs": [],
   "source": [
    "c = 'INSA'\n",
    "d = 'Lyon'"
   ]
  },
  {
   "cell_type": "code",
   "execution_count": null,
   "id": "80260036",
   "metadata": {},
   "outputs": [],
   "source": [
    "# votre code ici"
   ]
  },
  {
   "cell_type": "markdown",
   "id": "b5961e21",
   "metadata": {},
   "source": [
    "## Écrivez une fonction `is_anagram()` qui prend 2 chaînes de caractères en entrée et vérifie si ce sont des anagrammes. Ignorez la casse."
   ]
  },
  {
   "cell_type": "code",
   "execution_count": null,
   "id": "9e1297de",
   "metadata": {
    "ExecuteTime": {
     "end_time": "2022-02-04T10:10:01.947818Z",
     "start_time": "2022-02-04T10:10:01.939077Z"
    }
   },
   "outputs": [],
   "source": [
    "from collections import Counter\n",
    "def is_anagram(str1, str2):\n",
    "    # enlevez le mot clé pass et écrivez votre fonction ici\n",
    "    pass"
   ]
  },
  {
   "cell_type": "code",
   "execution_count": null,
   "id": "da3e70f9",
   "metadata": {
    "ExecuteTime": {
     "end_time": "2022-02-04T10:10:04.023653Z",
     "start_time": "2022-02-04T10:10:04.019013Z"
    }
   },
   "outputs": [],
   "source": [
    "is_anagram('Chien', 'Niche')"
   ]
  },
  {
   "cell_type": "code",
   "execution_count": null,
   "id": "823ca31d",
   "metadata": {
    "ExecuteTime": {
     "end_time": "2022-02-04T10:10:04.302191Z",
     "start_time": "2022-02-04T10:10:04.298537Z"
    }
   },
   "outputs": [],
   "source": [
    "is_anagram('INSA', 'Lyon')"
   ]
  },
  {
   "cell_type": "code",
   "execution_count": null,
   "id": "ecb17887",
   "metadata": {
    "ExecuteTime": {
     "end_time": "2022-02-04T10:10:04.849626Z",
     "start_time": "2022-02-04T10:10:04.827687Z"
    }
   },
   "outputs": [],
   "source": [
    "# Cellule de tests unitaires, exécutez-là et vérifiez que tous les tests sont ok.\n",
    "# Si un test échoue, retravaillez votre fonction, puis exécutez à nouveau la cellule\n",
    "# hébergeant la définition de votre fonction et cette cellule de tests\n",
    "\n",
    "import unittest\n",
    "\n",
    "\n",
    "class TestNotebook(unittest.TestCase):\n",
    "\n",
    "    def test_true_same_case(self):\n",
    "        self.assertTrue(is_anagram('chien', 'niche') )\n",
    "        \n",
    "    def test_true_different_case(self):\n",
    "        self.assertTrue(is_anagram('Chien', 'Niche') )\n",
    "        \n",
    "    def test_false(self):\n",
    "        self.assertFalse(is_anagram('INSA', 'Lyon'))\n",
    "    \n",
    "\n",
    "\n",
    "unittest.main(argv=[''], verbosity=2, exit=False)"
   ]
  },
  {
   "cell_type": "markdown",
   "id": "6436e8ae",
   "metadata": {},
   "source": [
    "### Écrivez une fonction `is_palindrome()` qui prend un chaîne de caractères en entrée et vérifie si c'est un palindrome ou non.\n",
    "*ignorez la casse (majuscule ou minuscule) et les espaces. Votre fonction doit renvoyer True ou False*"
   ]
  },
  {
   "cell_type": "code",
   "execution_count": null,
   "id": "777d786c",
   "metadata": {
    "ExecuteTime": {
     "end_time": "2022-02-04T10:11:58.462749Z",
     "start_time": "2022-02-04T10:11:58.454559Z"
    }
   },
   "outputs": [],
   "source": [
    "def is_palindrome(s):\n",
    "    # enlevez le mot clé pass et écrivez votre fonction ici\n",
    "    my_string = s.lower().replace(' ', '')\n",
    "    return my_string.lower()[::-1] == my_string.lower()\n",
    "    "
   ]
  },
  {
   "cell_type": "code",
   "execution_count": null,
   "id": "736b26e8",
   "metadata": {},
   "outputs": [],
   "source": []
  },
  {
   "cell_type": "code",
   "execution_count": null,
   "id": "f1d7655b",
   "metadata": {
    "ExecuteTime": {
     "end_time": "2022-02-04T10:14:10.180844Z",
     "start_time": "2022-02-04T10:14:10.150815Z"
    }
   },
   "outputs": [],
   "source": [
    "# Cellule de tests unitaires, exécutez-là et vérifiez que tous les tests sont ok.\n",
    "# Si un test échoue, retravaillez votre fonction, puis exécutez à nouveau la cellule\n",
    "# hébergeant la définition de votre fonction et cette cellule de tests\n",
    "\n",
    "import unittest\n",
    "\n",
    "\n",
    "class TestNotebook(unittest.TestCase):\n",
    "\n",
    "    def test_true_same_case_no_space(self):\n",
    "        self.assertTrue(is_palindrome('gag'))\n",
    "\n",
    "    def test_true_different_case_no_space(self):\n",
    "        self.assertTrue(is_palindrome('EluparCettecrapule'))\n",
    "\n",
    "    def test_true_different_case_with_spaces(self):\n",
    "        self.assertTrue(is_palindrome('Elu par Cette crapule'))\n",
    "\n",
    "    def test_false(self):\n",
    "        self.assertFalse(is_palindrome('INSA'))\n",
    "\n",
    "\n",
    "unittest.main(argv=[''], verbosity=2, exit=False)"
   ]
  },
  {
   "cell_type": "markdown",
   "id": "29f1b21b",
   "metadata": {},
   "source": [
    "## Écriver une fonction qui compte les calories d'une commande dans ce fast food"
   ]
  },
  {
   "cell_type": "markdown",
   "id": "34fdd7a5",
   "metadata": {},
   "source": [
    "|      Item     | Calories |\n",
    "|:-------------:|---------:|\n",
    "| Hamburger     |      250 |\n",
    "| Cheese Burger |      300 |\n",
    "| Big Mac       |      540 |\n",
    "| McChicken     |      350 |\n",
    "| French Fries  |      230 |\n",
    "| Salad         |       15 |\n",
    "| Coca Cola     |      150 |\n",
    "| Sprite        |      150 |"
   ]
  },
  {
   "cell_type": "markdown",
   "id": "6173c8f8",
   "metadata": {},
   "source": [
    "Créez une fonction `calories_counter` qui prendra une commande (une liste de chaînes de caractères (str)) comme argument et renverra la somme des calories des items de la commande. \n",
    "\n",
    "Par exemple :\n",
    "\n",
    "`calories_counter([\"McChicken\", \"French Fries\", \"Sprite\"])`  \n",
    "`#=> 730`\n",
    "\n",
    "Votre fonction devra renvoyer `\"item_name non trouvé\"` si un item de la commande n'est pas dans la carte du restaurant :\n",
    "\n",
    "`calories_counter([\"Big Mac\", \"Salad\", \"Shrimp Po Boy\"])`  \n",
    "`#=> \"Shrimp Po Boy non trouvé\"`\n",
    "\n"
   ]
  },
  {
   "cell_type": "code",
   "execution_count": null,
   "id": "5a92c54d",
   "metadata": {},
   "outputs": [],
   "source": [
    "# votre code et vos tests ici"
   ]
  },
  {
   "cell_type": "code",
   "execution_count": null,
   "id": "e9b637c8",
   "metadata": {},
   "outputs": [],
   "source": []
  },
  {
   "cell_type": "code",
   "execution_count": null,
   "id": "5fe26be6",
   "metadata": {},
   "outputs": [],
   "source": []
  }
 ],
 "metadata": {
  "kernelspec": {
   "display_name": "Python 3 (ipykernel)",
   "language": "python",
   "name": "python3"
  },
  "language_info": {
   "codemirror_mode": {
    "name": "ipython",
    "version": 3
   },
   "file_extension": ".py",
   "mimetype": "text/x-python",
   "name": "python",
   "nbconvert_exporter": "python",
   "pygments_lexer": "ipython3",
   "version": "3.10.0rc1"
  },
  "toc": {
   "base_numbering": 1,
   "nav_menu": {},
   "number_sections": true,
   "sideBar": true,
   "skip_h1_title": true,
   "title_cell": "Table of Contents",
   "title_sidebar": "Contents",
   "toc_cell": false,
   "toc_position": {},
   "toc_section_display": true,
   "toc_window_display": true
  }
 },
 "nbformat": 4,
 "nbformat_minor": 5
}
