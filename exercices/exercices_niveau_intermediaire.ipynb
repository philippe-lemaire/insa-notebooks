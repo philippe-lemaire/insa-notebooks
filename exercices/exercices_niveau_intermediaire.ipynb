{
 "cells": [
  {
   "cell_type": "markdown",
   "id": "423b2e92",
   "metadata": {},
   "source": [
    "# Exercices Python niveau Intermédiaire"
   ]
  },
  {
   "cell_type": "markdown",
   "id": "6a1cf388",
   "metadata": {},
   "source": [
    "## Piecettes\n",
    "\n",
    "\n",
    "Bienvenue !\n",
    "\n",
    "Dans cet exercice nous allons créer une fonction `loose_change()` qui doit premettre d’exprimer un montant donné en cents américains ¢ en un <b>minimum</b> de petites pièces. \n",
    "\n",
    "Vous devez contruire un dictionnaire avec comme clés le noms des pièces, et comme valeur le nombre de pièces de ce type à utiliser, et renvoyer le dictionnaire.\n",
    "\n",
    "Les nom des pièces et leurs valeurs sont : Pennies (1¢), Nickels (5¢), Dimes (10¢) et Quarters (25¢).\n",
    "\n",
    "\n",
    "\n",
    "Notes:\n",
    "\n",
    "- Si on passe un nombre nul ou négatif à la fonction, retourner le dictionnaire complet avec les 4 valeurs à 0.\n",
    "- Si on passe un nombre à virgule à la fonction, l'arrondir à l'entier inférieur. Donner une fraction de piecette n'a pas de sens.\n",
    "\n",
    "Exemples de résultats attendus :\n",
    "```\n",
    "loose_change(56)    ==>  {'Nickels': 1, 'Pennies': 1, 'Dimes': 0, 'Quarters': 2}  \n",
    "loose_change(-435)  ==>  {'Nickels': 0, 'Pennies': 0, 'Dimes': 0, 'Quarters': 0}  \n",
    "loose_change(4.935) ==>  {'Nickels': 0, 'Pennies': 4, 'Dimes': 0, 'Quarters': 0}  \n",
    "``` \n",
    "\n",
    "NB : l'ordre des clés dans le dictionnaire est sans importance"
   ]
  },
  {
   "cell_type": "code",
   "execution_count": null,
   "id": "68df7d86",
   "metadata": {},
   "outputs": [],
   "source": [
    "def loose_change(amount):\n",
    "    # votre code ici\n",
    "    pass"
   ]
  },
  {
   "cell_type": "code",
   "execution_count": null,
   "id": "ac85cb77",
   "metadata": {},
   "outputs": [],
   "source": [
    "loose_change(56)"
   ]
  },
  {
   "cell_type": "code",
   "execution_count": null,
   "id": "acb2015f",
   "metadata": {},
   "outputs": [],
   "source": [
    "loose_change(-435)"
   ]
  },
  {
   "cell_type": "code",
   "execution_count": null,
   "id": "c6efefc9",
   "metadata": {},
   "outputs": [],
   "source": [
    "loose_change(4.935)"
   ]
  }
 ],
 "metadata": {
  "kernelspec": {
   "display_name": "Python 3 (ipykernel)",
   "language": "python",
   "name": "python3"
  },
  "language_info": {
   "codemirror_mode": {
    "name": "ipython",
    "version": 3
   },
   "file_extension": ".py",
   "mimetype": "text/x-python",
   "name": "python",
   "nbconvert_exporter": "python",
   "pygments_lexer": "ipython3",
   "version": "3.10.0rc1"
  },
  "toc": {
   "base_numbering": 1,
   "nav_menu": {},
   "number_sections": true,
   "sideBar": true,
   "skip_h1_title": true,
   "title_cell": "Table of Contents",
   "title_sidebar": "Contents",
   "toc_cell": false,
   "toc_position": {},
   "toc_section_display": true,
   "toc_window_display": true
  }
 },
 "nbformat": 4,
 "nbformat_minor": 5
}
