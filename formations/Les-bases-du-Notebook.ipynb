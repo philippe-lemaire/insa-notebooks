{
 "cells": [
  {
   "cell_type": "markdown",
   "metadata": {},
   "source": [
    "# Les Bases du Notebook\n",
    "---"
   ]
  },
  {
   "cell_type": "markdown",
   "metadata": {},
   "source": [
    "Pour utiliser Jupyter Notebook 3 options :\n",
    "\n",
    "- la voie de la simplicité : installez python + les modules nécessaires dont jupyter notebook d'un coup d'un seul en installant anaconda : [https://www.anaconda.com/products/individual](https://www.anaconda.com/products/individual)\n",
    "- la voie de la délégation : utilisez une des machines virtuelles de l'INSA à votre disposition, anaconda y est installé\n",
    "- la voie du minimalisme : si vous avez déjà un environnement Python 3 installé sur votre poste, un simple `pip install notebook`dans un terminal vous installera le nécessaire.\n",
    "\n",
    "Ensuite, vous pouvez utiliser le raccourci dans Anaconda qui lance le serveur jupyter notebook, ou bien dans un terminal, utiliser la commande `jupyter notebook`"
   ]
  },
  {
   "cell_type": "markdown",
   "metadata": {},
   "source": [
    "## Le Tableau de bord\n",
    "---"
   ]
  },
  {
   "cell_type": "markdown",
   "metadata": {},
   "source": [
    "Quand le serveur notebook est démarré, votre navigateur par défaut va s'ouvrir sur le Tableau de bord Jupyter.\n",
    "Ce tableau de bord sert de page de démarrage pour vos notebooks. Son rôle principal est de vous afficher la partie de votre système de fichiers accessible à jupyter, de les parcourir et de créer ou lancer un notebook.\n",
    "\n",
    "Il est préférable de laisser cet onglet ouvert.\n"
   ]
  },
  {
   "cell_type": "markdown",
   "metadata": {},
   "source": [
    "### L'onglet Files ou Fichiers\n",
    "\n",
    "L’onglet **`Files`** du Tableau de bord montre une vue interactive de la partie du système de fichiers accessibles à l'utilisateur. Typiquement la racine ici est le dossier dans lequel le serveur jupyter a été lancé (le dossier personnel pour ceux qui lancent jupyter notebook via le bouton dans Anaconda).\n",
    "\n",
    "En haut de la liste des fichiers vous avez un fil d’Ariane du dossier courant. Vous pouvez descendre dans vos dossiers en cliquant sur les dossiers, et remonter via le fil d’Ariane.\n",
    "\n",
    "Un nouveau notebook peut être créé en cliquant sur le bouton **`New`** en haut à droite, puis en choisissant Python 3.\n",
    "\n",
    "Vous pouvez ouvrir un notebook existant en naviguant jusqu'à sa position dans le système de fichiers et en cliquant ensuite dessus. Les notebooks sont des fichiers à l'extension **`.ipynb`**\n",
    "\n",
    "\n",
    "<img src=\"https://nbviewer.org/github/ipython/ipython-in-depth/blob/HEAD/examples/Notebook/images/dashboard_notebooks_tab_5_0.png\" />"
   ]
  },
  {
   "cell_type": "markdown",
   "metadata": {},
   "source": [
    "### L'onglet Running \n",
    "\n",
    "L’onglet **Running** affiche les notebooks en cours d'exécution. Pratique quand la session de travail a été longue…\n",
    "\n",
    "\n",
    "Chaque notebook a un bouton orange **`Shutdown`** qui peut être utilisé pour l’éteindre, en coupant son noyaux d'exécution associé. Fermer l’onglet du navigateur dans lequel se trouvait le notebook n'est pas suffisant pour effectivement fermer le noyau.\n",
    "\n",
    "\n",
    "<img src=\"https://nbviewer.org/github/ipython/ipython-in-depth/blob/HEAD/examples/Notebook/images/dashboard_running_tab_4_0.png\" />"
   ]
  },
  {
   "cell_type": "markdown",
   "metadata": {},
   "source": [
    "## Le Notebook\n",
    "---"
   ]
  },
  {
   "cell_type": "markdown",
   "metadata": {},
   "source": [
    "Quand un notebook est ouvert, un nouvel onglet de votre navigateur va être créé pour l’accueillir. Cet onglet est une application web avec une interface qui permet d’exécuter et de modifier directement le notebook.\n",
    "\n",
    "Rappel, on peut créer un notebook depuis l’onglet **`Files`** du Tableau de bord Jupyter."
   ]
  },
  {
   "cell_type": "markdown",
   "metadata": {},
   "source": [
    "### En-tête\n",
    "\n",
    "En haut d’un notebook il y a un en-tête qui contient le titre du Notebook (le nom du fichier sans l’extension .ipynb), une barre de menu et une barre d'outils.\n",
    "\n",
    "Cet en-tête reste fixé en haut de l'écran, même quand on défile le notebook. Le titre peut être modifié directement (ce qui a pour effet également de renommer le fichier du notebook), et les barres de menu et d'outils contiennent de nombreuses actions pour la navigation et la modification du notebook.\n",
    "\n",
    "\n",
    "<img src=\"https://nbviewer.org/github/ipython/ipython-in-depth/blob/HEAD/examples/Notebook/images/notebook_header_4_0.png\" />"
   ]
  },
  {
   "cell_type": "markdown",
   "metadata": {},
   "source": [
    "### Corps du Notebook\n",
    "\n",
    "Le corps d’un notebook est constitué de cellules. Chaque cellule contient soit du texte (markdown, html, LaTeX, texte brut) ou du code Python à exécuter. Les cellules peuvent être insérées à n’importe quelle position dans la structure, être réordonnées, scindées, fusionnées, modifiées et réexécutées à volonté, ce qui donne une très grande flexibilité dans l’élaboration d’un document complet, et dans la rédaction d’un algorithme.\n",
    "\n",
    "\n",
    "- **Les cellules Markdown** - Elles sont utilisée pour construire votre cours ou votre énoncé avec du texte mis en forme. La plupart des cellules de ce document sont de ce type. Vous pouvez utiliser la syntaxe Markdown (de l'html simplifié), de l’html pur et dur, et même du LaTeX.\n",
    "\n",
    "- **Les cellules de Code** - Elles servent à rédiger du code Python à exécuter. Il y en a de deux sortes : les cellules d'entrée où vous saisissez votre code Python, et les cellules de sortie qui représentent la valeur de sortie de la dernière instruction de la cellule de code immédiatement au dessus. Cela peut être un simple nombre, ou un graphique, ou même un widget interactif.\n",
    "\n",
    "- **Les cellules raw** - Elles servent à mettre du texte brut, qui n’est ni formaté ni exécuter. Passer une cellule de code ou de markdown en mode raw permet de la neutraliser tout en la conservant.\n",
    "\n",
    "<img src=\"https://nbviewer.org/github/ipython/ipython-in-depth/blob/HEAD/examples/Notebook/images/notebook_body_4_0.png\" />"
   ]
  },
  {
   "cell_type": "markdown",
   "metadata": {},
   "source": [
    "#### Les modes \n",
    "\n",
    "L’interface notebook est *modale*. Cela veut dire que le clavier a des effets différents selon le mode en cours.\n",
    "Il y a deux modes : **édition** et **commande**\n",
    "\n",
    "\n",
    "**Le mode édition** est indiqué par une bordure de cellule active de couleur verte et un curseur clignotant dans la cellule, comme dans un éditeur de texte.\n",
    "\n",
    "\n",
    "<img src=\"https://nbviewer.org/github/ipython/ipython-in-depth/blob/HEAD/examples/Notebook/images/edit_mode.png\">\n",
    "\n",
    "**Le mode Commande** est indiqué par une bordure de cellule grise (et bleue sur la gauche) Dans ce mode, la structure du notebook peut-être modifiée, mais le texte contenu dans une cellule en particulier n’est pas modifiable.\n",
    "\n",
    "Plus important, dans le mode Commande, les touches du clavier sont asociées à des commandes. Par exemple **`c`** va copier une cellule entière, **`v`** va coller la ou les cellules copiées.\n",
    "\n",
    "\n",
    "<img src=\"https://nbviewer.org/github/ipython/ipython-in-depth/blob/HEAD/examples/Notebook/images/command_mode.png\">\n",
    "\n",
    "<br>\n",
    "<div class=\"alert alert-success\">\n",
    "Pour entrer en mode édition, appuyez sur la touche Entrée du clavier ou cliquez dans la zone de texte de la cellule.\n",
    "</div>\n",
    "<div class=\"alert alert-success\">\n",
    "Entrez en mode commande en utilisant Échap sur le clavier ou en cliquant en dehors de la zone de texte de la cellule.\n",
    "</div>\n",
    "<div class=\"alert alert-warning\">\n",
    "N'essayez pas de tapper du texte si vous n’êtes pas en mode édition, vous allez avoir des surprises parce que vous risquez d’activer des raccourcis claviers sans vous en rendre compte. Par exemple, <b>dd</b> efface la cellule sélectionnée.\n",
    "</div>"
   ]
  },
  {
   "cell_type": "markdown",
   "metadata": {},
   "source": [
    "#### Navigation à la souris\n",
    "\n",
    "\n",
    "Le premier concept à comprendre dans la navigation à la souris est que les cellules peuvent être sélectionnées en cliquant dedans. La cellule sélectionnée est encadrée d'une bordure grise ou verte, selon le mode commande ou édition. Cliquer dans la zone de texte de la cellule va passer en mode édition. Cliquer dans la zone à gauche de la cellule ou dans sa sortie située en dessous va passer en mode commande.\n",
    "\n",
    "Le second concept à comprendre est que **les actions de cellules s'appliquent à la cellule sélectionnée**. Par exemple, pour exécuter le code dans une cellule, on la sélectionne et on clique sur le bouton Exécuter <button class='btn btn-default btn-xs'><i class=\"fa fa-play icon-play\"></i></button> dans la barre d'outils ou bien dans le menu on va dans **`Cell -> Run`**. Idem pour copier / coller une cellule, avec les boutons de la barre d'outil ou les commandes dans le menu Edit.\n",
    "Avec ce simple usage, vous devriez pouvoir réaliser toutes les actions voulues à la souris.\n",
    "\n",
    "Les cellules Markdown ont un autre état : elles peuvent être en mode rendu ou non-rendu. Quand elles sont en mode rendu, une jolie présentation de leur contenu (html ou formules LaTeX) est affiché. En mode non rendu, vous verrez les instructions LaTeX ou la syntaxe Markdown.\n",
    "\n",
    "Pour avoir le beau rendu, il suffit d'exécuter la cellule Markdown avec les mêmes actions que pour une cellule de code. Pour repasser en mode pré-rendu, on double clique dans la zone de texte de la celulle Markdown.\n"
   ]
  },
  {
   "cell_type": "markdown",
   "metadata": {},
   "source": [
    "#### La navigation au clavier\n",
    "\n",
    "L’interface modale est optimisée pour le clavier, et largement inspirée par Vim.\n",
    "\n",
    "Cela est rendu possible par deux jeux de raccourcis clavier distincts pour les modes édition et commande.\n",
    "\n",
    "Les deux raccourcis les plus importants sont **`Entrée`** qui entre en mode édition et **`Échap`** qui passe en mode commande.\n",
    "\n",
    "En mode édition, la majorité du clavier est dédiée à la saisie de texte dans la cellule, donc il y a relativement peu de raccourcis clavier. En mode commande, c'est le contraire.\n",
    "\n",
    "L’image qui suit donne un aperçu des raccourcis clavier disponibles. Vous pouvez les voir dans le notebook dans le menu **`Help -> Keyboard Shortcuts`**.\n",
    "\n",
    "<img src=\"https://nbviewer.org/github/ipython/ipython-in-depth/blob/HEAD/examples/Notebook/images/notebook_shortcuts_4_0.png\">\n",
    "\n",
    "Les raccourcis suivants sont les plus utiles au quotidien :\n",
    "\n",
    "- Navigation de base: **`entrée`**, **`maj-entrée`**, **`haut/k`**, **`bas/j`**\n",
    "- Sauvegarder le notebook: **`s`**\n",
    "- Changer le type de cellule: **`y`**, **`m`**, **`1-6`**, **`r`**\n",
    "- Créer des cellules : **`a`**, **`b`** (pour above et below)\n",
    "- Éditer des cellules: **`x`**, **`c`**, **`v`**, **`d`**, **`z`**, **`ctrl+shift+-`**\n",
    "- Opérations du noyau: **`i`**, **`.`**"
   ]
  },
  {
   "cell_type": "markdown",
   "metadata": {},
   "source": [
    "## L’éditeur de texte\n",
    "---"
   ]
  },
  {
   "cell_type": "markdown",
   "metadata": {},
   "source": [
    "La webapp notebook peut modifier des fichiers textes en plus des notebooks.\n",
    "\n",
    "N’importe quel fichier de texte basique (code python, csv, ou autre) peut être modifié directement avec l’éditeur de texte intégré.\n",
    "\n",
    "L’éditeur de texte s’ouvre automatiquement dans un onglet du navigateur web quand un fichier texte est ouvert depuis le tableau de bord Jupyter.\n",
    "\n",
    "L’éditeur de texte a un en-tête similaire à celui des notebooks, et inclus un titre et une barre de menu. La coloration de syntaxe est déterminée automatiquement de par l’extension du fichier (.py, .html…) ou peut être choisie manuellement dans le menu **`Langage`**\n",
    "\n",
    "<img src=\"https://nbviewer.org/github/ipython/ipython-in-depth/blob/HEAD/examples/Notebook/images/text_editor_4_0.png\">"
   ]
  },
  {
   "cell_type": "code",
   "execution_count": null,
   "metadata": {},
   "outputs": [],
   "source": []
  }
 ],
 "metadata": {
  "kernelspec": {
   "display_name": "Python 3 (ipykernel)",
   "language": "python",
   "name": "python3"
  },
  "language_info": {
   "codemirror_mode": {
    "name": "ipython",
    "version": 3
   },
   "file_extension": ".py",
   "mimetype": "text/x-python",
   "name": "python",
   "nbconvert_exporter": "python",
   "pygments_lexer": "ipython3",
   "version": "3.10.0rc1"
  },
  "toc": {
   "base_numbering": 1,
   "nav_menu": {},
   "number_sections": true,
   "sideBar": true,
   "skip_h1_title": true,
   "title_cell": "Table of Contents",
   "title_sidebar": "Contents",
   "toc_cell": false,
   "toc_position": {},
   "toc_section_display": true,
   "toc_window_display": true
  }
 },
 "nbformat": 4,
 "nbformat_minor": 1
}
