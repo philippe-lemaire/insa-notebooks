{
 "cells": [
  {
   "cell_type": "markdown",
   "id": "adf0fef5",
   "metadata": {},
   "source": [
    "# La Syntaxe Markdown"
   ]
  },
  {
   "cell_type": "markdown",
   "id": "e0942166",
   "metadata": {},
   "source": [
    "La syntaxe Markdown est une version simplifiée de la syntaxe HTML que vous pouvez utiliser pour formater le texte dans les cellules de vos notebooks.\n",
    "\n",
    "Le nom **Markdown** est un jeu de mot basé sur le sens de HTML : *Hyper Text **Markup** Language*.\n",
    "\n",
    "Là où la syntaxe HTML peut être très lourde et verbeuse, Markdown se fait le plus léger et naturel possible. Vous faites déjà probablement un peu de **Markdown** sans le savoir…\n",
    "\n",
    "La syntaxe **Markdown** est transformée automatiquement en HTML lorsque vous exécutez la cellule."
   ]
  },
  {
   "cell_type": "markdown",
   "id": "b6bb766d",
   "metadata": {},
   "source": [
    "## Structures"
   ]
  },
  {
   "cell_type": "markdown",
   "id": "5c790263",
   "metadata": {},
   "source": [
    "### Titres"
   ]
  },
  {
   "cell_type": "markdown",
   "id": "50ad9e5e",
   "metadata": {},
   "source": [
    "Pour les titres de sections et sous sections dans vos Notebook, il suffit de démarrer une ligne par un ou plusieurs #\n",
    "\n",
    "- `#` Titre du rang le plus haut, normalement 1 seul par document. Une fois transformée en html, devient la balise `<h1>`\n",
    "- `##` Titre de rang 2. Devient `<h2>` une fois rendu. Astuce : dans les réglages de la table des matières de votre notebook, cochez la case pour laisser la balise `<h1>` en dehors de la numérotation. Votre titre principal ne sera plus numéroté, et les `##` deviennent vos sections numérotées\n",
    "- `###` Titre de rang 3, etc jusqu’à 6 #"
   ]
  },
  {
   "cell_type": "markdown",
   "id": "0dbb11b2",
   "metadata": {},
   "source": [
    "### Listes"
   ]
  },
  {
   "cell_type": "markdown",
   "id": "45914533",
   "metadata": {},
   "source": [
    "Il existe 2 types de listes :\n",
    "\n",
    "- les listes non ordonnées (items précédés d’un point, comme cette liste). Équivalent d'itemize en LaTeX.\n",
    "- les listes ordonnées (items précédés d'une énumération, commençant à 1).  Équivalent d'enumerate en LaTeX."
   ]
  },
  {
   "cell_type": "markdown",
   "id": "544d43a3",
   "metadata": {},
   "source": [
    "#### Liste non ordonnée"
   ]
  },
  {
   "cell_type": "raw",
   "id": "1bc73607",
   "metadata": {},
   "source": [
    "Version brute (version rendue en dessous)\n",
    "\n",
    "Paragraphe précédent la liste\n",
    "    \n",
    "- item 1\n",
    "- item 2\n",
    "\n",
    "Paragraphe suivant la liste. Il est important de sauter une ligne avant et après les items de la liste.\n",
    "\n",
    "Deuxième option pour le même rendu :\n",
    "\n",
    "* item 1\n",
    "* item 2\n"
   ]
  },
  {
   "cell_type": "markdown",
   "id": "d6af2424",
   "metadata": {},
   "source": [
    "Paragraphe précédent la liste\n",
    "    \n",
    "- item 1\n",
    "- item 2\n",
    "\n",
    "Paragraphe suivant la liste. Il est important de sauter une ligne avant et après les items de la liste.\n",
    "\n",
    "Deuxième option pour le même rendu :\n",
    "\n",
    "* item 1\n",
    "* item 2\n"
   ]
  },
  {
   "cell_type": "markdown",
   "id": "222979eb",
   "metadata": {},
   "source": [
    "#### Liste ordonnée"
   ]
  },
  {
   "cell_type": "raw",
   "id": "079067a9",
   "metadata": {},
   "source": [
    "Version brute (version rendue en dessous)\n",
    "\n",
    "Paragraphe précédent la liste\n",
    "    \n",
    "1. item 1\n",
    "2. item 2\n",
    "3. item 3\n",
    "\n",
    "Paragraphe suivant la liste. Il est important de sauter une ligne avant et après les items de la liste.\n",
    "\n",
    "Deuxième option pour le même rendu :\n",
    "\n",
    "1. item 1\n",
    "1. item 2\n",
    "1. item 3\n",
    "\n",
    "Ce qui compte, c'est bien de commencer à 1., et que toutes les lignes items de la liste ordonnées commencent par un chiffre. En général c'est plus simple de tout faire avec 1., ça permet de changer l’ordre des lignes à volonté."
   ]
  },
  {
   "cell_type": "markdown",
   "id": "9d166852",
   "metadata": {},
   "source": [
    "Paragraphe précédent la liste\n",
    "    \n",
    "1. item 1\n",
    "2. item 2\n",
    "3. item 3\n",
    "\n",
    "Paragraphe suivant la liste. Il est important de sauter une ligne avant et après les items de la liste.\n",
    "\n",
    "Deuxième option pour le même rendu :\n",
    "\n",
    "1. item 1\n",
    "1. item 2\n",
    "1. item 3\n",
    "\n",
    "Ce qui compte, c'est bien de commencer à 1., et que toutes les lignes items de la liste ordonnées commencent par un chiffre. En général c'est plus simple de tout faire avec 1., ça permet de changer l’ordre des lignes à volonté."
   ]
  },
  {
   "cell_type": "markdown",
   "id": "954ec517",
   "metadata": {},
   "source": [
    "## Paragraphes"
   ]
  },
  {
   "cell_type": "raw",
   "id": "ef2950c8",
   "metadata": {},
   "source": [
    "Les paragraphes doivent être séparés par une ligne vide.\n",
    "\n",
    "Un simple saut de\n",
    "ligne serait ignoré et remplacé par une espace.\n",
    "\n",
    "Si vous voulez faire un simple saut de ligne,  \n",
    "terminez la première ligne par 2 espaces."
   ]
  },
  {
   "cell_type": "markdown",
   "id": "975f46c2",
   "metadata": {},
   "source": [
    "Les paragraphes doivent être séparés par une ligne vide.\n",
    "\n",
    "Un simple saut de\n",
    "ligne serait ignoré et remplacé par une espace.\n",
    "\n",
    "Si vous voulez faire un simple saut de ligne,  \n",
    "terminez la première ligne par 2 espaces."
   ]
  },
  {
   "cell_type": "markdown",
   "id": "38ac5d6e",
   "metadata": {},
   "source": [
    "### Tables"
   ]
  },
  {
   "cell_type": "raw",
   "id": "ea44c1c9",
   "metadata": {},
   "source": [
    "Vous pouvez créer des tables avec la syntaxe suivante :\n",
    "\n",
    "| Syntax      | Description |\n",
    "| ----------- | ----------- |\n",
    "| Header      | Title       |\n",
    "| Paragraph   | Text        |\n",
    "\n",
    "Comme la chose est un peu hardue pour une table plus vaste,  \n",
    "je vous recommande d'utiliser l’outil en ligne https://www.tablesgenerator.com/markdown_tables dans lequel vous pouvez coller des tables issues du web, de Word ou Excel, et les convertir en syntaxe markdown."
   ]
  },
  {
   "cell_type": "markdown",
   "id": "9d059493",
   "metadata": {},
   "source": [
    "Vous pouvez créer des tables avec la syntaxe suivante :\n",
    "\n",
    "| Syntax      | Description |\n",
    "| ----------- | ----------- |\n",
    "| Header      | Title       |\n",
    "| Paragraph   | Text        |\n",
    "\n",
    "Comme la chose est un peu hardue pour une table plus vaste,  \n",
    "je vous recommande d'utiliser l’outil en ligne https://www.tablesgenerator.com/markdown_tables dans lequel vous pouvez coller des tables issues du web, de Word ou Excel, et les convertir en syntaxe markdown."
   ]
  },
  {
   "cell_type": "markdown",
   "id": "9a529e2c",
   "metadata": {},
   "source": [
    "Par exemple :\n",
    "\n",
    "|       Operation      |                                      Result                                      |  Notes |\n",
    "|:--------------------:|:--------------------------------------------------------------------------------:|:------:|\n",
    "| x in s               | True if an item of s is equal to x, else False                                   | (1)    |\n",
    "| x not in s           | False if an item of s is equal to x, else True                                   | (1)    |\n",
    "| s + t                | the concatenation of s and t                                                     | (6)(7) |\n",
    "| s * n or n * s       | equivalent to adding s to itself n times                                         | (2)(7) |\n",
    "| s[i]                 | ith item of s, origin 0                                                          | (3)    |\n",
    "| s[i:j]               | slice of s from i to j                                                           | (3)(4) |\n",
    "| s[i:j:k]             | slice of s from i to j with step k                                               | (3)(5) |\n",
    "| len(s)               | length of s                                                                      |        |\n",
    "| min(s)               | smallest item of s                                                               |        |\n",
    "| max(s)               | largest item of s                                                                |        |\n",
    "| s.index(x[, i[, j]]) | index of the first occurrence of x in s (at or after index i and before index j) | (8)    |\n",
    "| s.count(x)           | total number of occurrences of x in s                                            |        |"
   ]
  },
  {
   "cell_type": "markdown",
   "id": "eb8d4cba",
   "metadata": {},
   "source": [
    "## Mise en forme du texte"
   ]
  },
  {
   "cell_type": "markdown",
   "id": "57203d50",
   "metadata": {},
   "source": [
    "### Italique et Gras"
   ]
  },
  {
   "cell_type": "raw",
   "id": "0ce5c0f0",
   "metadata": {},
   "source": [
    "(Version brute, la version rendue est juste en dessous.)\n",
    "\n",
    "L’italique se fait en encadrant le texte par une astérisque.\n",
    "\n",
    "*Ce texte est en italique.*\n",
    "\n",
    "Le gras se fait en utilisant 2 astérisques pour encadrer.\n",
    "\n",
    "Ce **texte est en gras**."
   ]
  },
  {
   "cell_type": "markdown",
   "id": "1be797bd",
   "metadata": {},
   "source": [
    "L’italique se fait en encadrant le texte par une astérisque.\n",
    "\n",
    "*Ce texte est en italique.*\n",
    "\n",
    "Le gras se fait en utilisant 2 astérisques pour encadrer.\n",
    "\n",
    "Ce **texte est en gras**."
   ]
  },
  {
   "cell_type": "markdown",
   "id": "8affbd1c",
   "metadata": {},
   "source": [
    "### Code"
   ]
  },
  {
   "cell_type": "raw",
   "id": "d974577f",
   "metadata": {},
   "source": [
    "Pour mettre une partie du texte dans un formatage code (police à chasse fixe, pour indiquer un nom de fonction ou de variable par exemple), encadre le texte par des back ticks (accents grave).\n",
    "\n",
    "Ex: Vous pouvez utiliser la méthode `lst.append(item)`."
   ]
  },
  {
   "cell_type": "markdown",
   "id": "5e791f7f",
   "metadata": {},
   "source": [
    "Pour mettre une partie du texte dans un formatage code (police à chasse fixe, pour indiquer un nom de fonction ou de variable par exemple), encadre le texte par des back ticks (accents grave).\n",
    "\n",
    "Ex: Vous pouvez utiliser la méthode `lst.append(item)`."
   ]
  },
  {
   "cell_type": "markdown",
   "id": "230153fd",
   "metadata": {},
   "source": [
    "### Citation"
   ]
  },
  {
   "cell_type": "raw",
   "id": "52f0d350",
   "metadata": {},
   "source": [
    "Les citations de texte se font comme dans les emails en texte brut, en démarrant les lignes citées par un >\n",
    "\n",
    "> Amor mundum fecit"
   ]
  },
  {
   "cell_type": "markdown",
   "id": "0ffc2df2",
   "metadata": {},
   "source": [
    "Les citations de texte se font comme dans les emails en texte brut, en démarrant les lignes citées par un >\n",
    "\n",
    "> Amor mundum fecit"
   ]
  },
  {
   "cell_type": "raw",
   "id": "8b8435f4",
   "metadata": {},
   "source": [
    "Si vous avez plusieurs lignes à citer, incluant des lignes vides, vous devez faire précéder chaque ligne par >\n",
    "\n",
    "\n",
    "> Lorem ipsum dolor sit amet, consectetur adipiscing elit. Sed in tempus lorem. Vestibulum ultrices magna sit amet lectus semper mollis.\n",
    ">\n",
    "> Integer in libero eu lectus consequat commodo. Morbi ullamcorper accumsan erat, at aliquet orci convallis vel. Vivamus ultricies orci nisl, non fringilla augue rhoncus nec. In ornare blandit enim, vulputate auctor nisi cursus eget.\n",
    ">\n",
    "> Proin ac turpis at dui consequat vestibulum nec eu elit. \n"
   ]
  },
  {
   "cell_type": "markdown",
   "id": "44d828ca",
   "metadata": {},
   "source": [
    "Si vous avez plusieurs lignes à citer, incluant des lignes vides, vous devez faire précéder chaque ligne par >\n",
    "\n",
    "\n",
    "> Lorem ipsum dolor sit amet, consectetur adipiscing elit. Sed in tempus lorem. Vestibulum ultrices magna sit amet lectus semper mollis. \n",
    ">\n",
    "> Integer in libero eu lectus consequat commodo. Morbi ullamcorper accumsan erat, at aliquet orci convallis vel. Vivamus ultricies orci nisl, non fringilla augue rhoncus nec. In ornare blandit enim, vulputate auctor nisi cursus eget. \n",
    ">\n",
    "> Proin ac turpis at dui consequat vestibulum nec eu elit. \n"
   ]
  },
  {
   "cell_type": "markdown",
   "id": "54b7b131",
   "metadata": {},
   "source": [
    "## Liens hyper-texte et images"
   ]
  },
  {
   "cell_type": "raw",
   "id": "00d86230",
   "metadata": {},
   "source": [
    "Les liens hyper-texte se font avec [texte](url).\n",
    "\n",
    "Exemple : [insa-lyon.fr](https://www.insa-lyon.fr)"
   ]
  },
  {
   "cell_type": "markdown",
   "id": "fe9b8b45",
   "metadata": {},
   "source": [
    "Les liens hyper-texte se font avec `[texte](url)`.\n",
    "\n",
    "Exemple : [insa-lyon.fr](https://www.insa-lyon.fr)"
   ]
  },
  {
   "cell_type": "raw",
   "id": "e906b764",
   "metadata": {},
   "source": [
    "Les images sont insérées avec presque la même syntaxe, il suffit d'ajouter un !\n",
    "\n",
    "![texte alternatif](image_url)\n",
    "\n",
    "Exemple : ![logo INSA Lyon](https://www.insa-lyon.fr/sites/all/themes/insa/logo.png)"
   ]
  },
  {
   "cell_type": "markdown",
   "id": "0e682313",
   "metadata": {},
   "source": [
    "Les images sont insérées avec presque la même syntaxe, il suffit d'ajouter un !\n",
    "\n",
    "`![texte alternatif](image_url)`\n",
    "\n",
    "Exemple : ![logo INSA Lyon](https://www.insa-lyon.fr/sites/all/themes/insa/logo.png)"
   ]
  },
  {
   "cell_type": "code",
   "execution_count": null,
   "id": "0304eb4a",
   "metadata": {},
   "outputs": [],
   "source": []
  }
 ],
 "metadata": {
  "kernelspec": {
   "display_name": "Python 3 (ipykernel)",
   "language": "python",
   "name": "python3"
  },
  "language_info": {
   "codemirror_mode": {
    "name": "ipython",
    "version": 3
   },
   "file_extension": ".py",
   "mimetype": "text/x-python",
   "name": "python",
   "nbconvert_exporter": "python",
   "pygments_lexer": "ipython3",
   "version": "3.10.0rc1"
  },
  "toc": {
   "base_numbering": 1,
   "nav_menu": {},
   "number_sections": true,
   "sideBar": true,
   "skip_h1_title": true,
   "title_cell": "Table of Contents",
   "title_sidebar": "Contents",
   "toc_cell": false,
   "toc_position": {},
   "toc_section_display": true,
   "toc_window_display": true
  }
 },
 "nbformat": 4,
 "nbformat_minor": 5
}
