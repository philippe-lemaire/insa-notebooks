{
 "cells": [
  {
   "cell_type": "markdown",
   "id": "adf0fef5",
   "metadata": {},
   "source": [
    "# La Syntaxe Markdown"
   ]
  },
  {
   "cell_type": "markdown",
   "id": "e0942166",
   "metadata": {},
   "source": [
    "La syntaxe Markdown est une version simplifiée de la syntaxe HTML que vous pouvez utiliser pour formater le texte dans les cellules de vos notebooks.\n",
    "\n",
    "Le nom **Markdown** est un jeu de mot basé sur le sens de HTML : *Hyper Text **Markup** Language*.\n",
    "\n",
    "Là où la syntaxe HTML peut être très lourde et verbeuse, Markdown se fait le plus léger et naturel possible. Vous faites déjà probablement un peu de **Markdown** sans le savoir…\n",
    "\n",
    "Dans une cellule de type *Markdown* La syntaxe **Markdown** est transformée automatiquement en HTML lorsque vous exécutez la cellule."
   ]
  },
  {
   "cell_type": "markdown",
   "id": "bf39325b",
   "metadata": {
    "toc": true
   },
   "source": [
    "<h1>Table des Matières<span class=\"tocSkip\"></span></h1>\n",
    "<div class=\"toc\"><ul class=\"toc-item\"><li><span><a href=\"#Structures\" data-toc-modified-id=\"Structures-1\"><span class=\"toc-item-num\">1&nbsp;&nbsp;</span>Structures</a></span><ul class=\"toc-item\"><li><span><a href=\"#Titres\" data-toc-modified-id=\"Titres-1.1\"><span class=\"toc-item-num\">1.1&nbsp;&nbsp;</span>Titres</a></span></li><li><span><a href=\"#Listes\" data-toc-modified-id=\"Listes-1.2\"><span class=\"toc-item-num\">1.2&nbsp;&nbsp;</span>Listes</a></span><ul class=\"toc-item\"><li><span><a href=\"#Liste-non-ordonnée\" data-toc-modified-id=\"Liste-non-ordonnée-1.2.1\"><span class=\"toc-item-num\">1.2.1&nbsp;&nbsp;</span>Liste non ordonnée</a></span></li><li><span><a href=\"#Liste-ordonnée\" data-toc-modified-id=\"Liste-ordonnée-1.2.2\"><span class=\"toc-item-num\">1.2.2&nbsp;&nbsp;</span>Liste ordonnée</a></span></li></ul></li><li><span><a href=\"#Listes-dans-des-listes\" data-toc-modified-id=\"Listes-dans-des-listes-1.3\"><span class=\"toc-item-num\">1.3&nbsp;&nbsp;</span>Listes dans des listes</a></span></li></ul></li><li><span><a href=\"#Paragraphes\" data-toc-modified-id=\"Paragraphes-2\"><span class=\"toc-item-num\">2&nbsp;&nbsp;</span>Paragraphes</a></span><ul class=\"toc-item\"><li><span><a href=\"#Tables\" data-toc-modified-id=\"Tables-2.1\"><span class=\"toc-item-num\">2.1&nbsp;&nbsp;</span>Tables</a></span></li></ul></li><li><span><a href=\"#Mise-en-forme-du-texte\" data-toc-modified-id=\"Mise-en-forme-du-texte-3\"><span class=\"toc-item-num\">3&nbsp;&nbsp;</span>Mise en forme du texte</a></span><ul class=\"toc-item\"><li><span><a href=\"#Italique-et-Gras\" data-toc-modified-id=\"Italique-et-Gras-3.1\"><span class=\"toc-item-num\">3.1&nbsp;&nbsp;</span>Italique et Gras</a></span></li><li><span><a href=\"#Code\" data-toc-modified-id=\"Code-3.2\"><span class=\"toc-item-num\">3.2&nbsp;&nbsp;</span>Code</a></span></li><li><span><a href=\"#Citation\" data-toc-modified-id=\"Citation-3.3\"><span class=\"toc-item-num\">3.3&nbsp;&nbsp;</span>Citation</a></span></li></ul></li><li><span><a href=\"#Liens-hyper-texte-et-images\" data-toc-modified-id=\"Liens-hyper-texte-et-images-4\"><span class=\"toc-item-num\">4&nbsp;&nbsp;</span>Liens hyper-texte et images</a></span></li><li><span><a href=\"#$\\LaTeX$-dans-les-cellules-Markdown\" data-toc-modified-id=\"$\\LaTeX$-dans-les-cellules-Markdown-5\"><span class=\"toc-item-num\">5&nbsp;&nbsp;</span>$\\LaTeX$ dans les cellules Markdown</a></span></li></ul></div>"
   ]
  },
  {
   "cell_type": "markdown",
   "id": "b6bb766d",
   "metadata": {},
   "source": [
    "## Structures"
   ]
  },
  {
   "cell_type": "markdown",
   "id": "5c790263",
   "metadata": {},
   "source": [
    "### Titres"
   ]
  },
  {
   "cell_type": "markdown",
   "id": "50ad9e5e",
   "metadata": {},
   "source": [
    "Pour les titres de sections et sous sections dans vos Notebook, il suffit de démarrer une ligne par un ou plusieurs #\n",
    "\n",
    "- `#` Titre du rang le plus haut, normalement 1 seul par document. Une fois transformée en html, devient la balise `<h1>`\n",
    "- `##` Titre de rang 2. Devient `<h2>` une fois rendu. Astuce : dans les réglages de la table des matières de votre notebook, cochez la case pour laisser la balise `<h1>` en dehors de la numérotation. Votre titre principal ne sera plus numéroté, et les `##` deviennent vos sections numérotées\n",
    "- `###` Titre de rang 3, etc jusqu’à 6 #"
   ]
  },
  {
   "cell_type": "markdown",
   "id": "258ca89d",
   "metadata": {},
   "source": [
    "<div class='alert alert-info'>\n",
    "    \n",
    "Il est souvent préférable de ne pas numéroter le titre principal du document. Dans les options de votre table des matières, vous pouvez exclure le h1 de la numérotation, qui démarrera donc aux h2, c'est à dire aux sections commençant par ## en Markdown.\n",
    "    \n",
    "<div>"
   ]
  },
  {
   "cell_type": "markdown",
   "id": "0dbb11b2",
   "metadata": {},
   "source": [
    "### Listes"
   ]
  },
  {
   "cell_type": "markdown",
   "id": "45914533",
   "metadata": {},
   "source": [
    "Il existe 2 types de listes :\n",
    "\n",
    "- les listes non ordonnées (items précédés d’un point, comme cette liste). Équivalent d'itemize en LaTeX.\n",
    "- les listes ordonnées (items précédés d'une énumération, commençant à 1).  Équivalent d'enumerate en LaTeX."
   ]
  },
  {
   "cell_type": "markdown",
   "id": "544d43a3",
   "metadata": {},
   "source": [
    "#### Liste non ordonnée"
   ]
  },
  {
   "cell_type": "raw",
   "id": "1bc73607",
   "metadata": {},
   "source": [
    "Version brute (version rendue en dessous)\n",
    "\n",
    "Paragraphe précédent la liste\n",
    "    \n",
    "- item 1\n",
    "- item 2\n",
    "\n",
    "Paragraphe suivant la liste. Il est important de sauter une ligne avant et après les items de la liste.\n",
    "\n",
    "Deuxième option pour le même rendu :\n",
    "\n",
    "* item 1\n",
    "* item 2\n"
   ]
  },
  {
   "cell_type": "markdown",
   "id": "d6af2424",
   "metadata": {},
   "source": [
    "Paragraphe précédent la liste\n",
    "    \n",
    "- item 1\n",
    "- item 2\n",
    "\n",
    "Paragraphe suivant la liste. Il est important de sauter une ligne avant et après les items de la liste.\n",
    "\n",
    "Deuxième option pour le même rendu :\n",
    "\n",
    "* item 1\n",
    "* item 2\n"
   ]
  },
  {
   "cell_type": "markdown",
   "id": "222979eb",
   "metadata": {},
   "source": [
    "#### Liste ordonnée"
   ]
  },
  {
   "cell_type": "raw",
   "id": "079067a9",
   "metadata": {},
   "source": [
    "Version brute (version rendue en dessous)\n",
    "\n",
    "Paragraphe précédent la liste\n",
    "    \n",
    "1. item 1\n",
    "2. item 2\n",
    "3. item 3\n",
    "\n",
    "Paragraphe suivant la liste. Il est important de sauter une ligne avant et après les items de la liste.\n",
    "\n",
    "Deuxième option pour le même rendu :\n",
    "\n",
    "1. item 1\n",
    "1. item 2\n",
    "1. item 3\n",
    "\n",
    "Ce qui compte, c'est bien de commencer à 1., et que toutes les lignes items de la liste ordonnées commencent par un chiffre. En général c'est plus simple de tout faire avec 1., ça permet de changer l’ordre des lignes à volonté."
   ]
  },
  {
   "cell_type": "markdown",
   "id": "9d166852",
   "metadata": {},
   "source": [
    "Paragraphe précédent la liste\n",
    "    \n",
    "1. item 1\n",
    "2. item 2\n",
    "3. item 3\n",
    "\n",
    "Paragraphe suivant la liste. Il est important de sauter une ligne avant et après les items de la liste.\n",
    "\n",
    "Deuxième option pour le même rendu :\n",
    "\n",
    "1. item 1\n",
    "1. item 2\n",
    "1. item 3\n",
    "\n",
    "Ce qui compte, c'est bien de commencer à 1., et que toutes les lignes items de la liste ordonnées commencent par un chiffre. En général c'est plus simple de tout faire avec 1., ça permet de changer l’ordre des lignes à volonté."
   ]
  },
  {
   "cell_type": "markdown",
   "id": "ed39da55",
   "metadata": {},
   "source": [
    "### Listes dans des listes"
   ]
  },
  {
   "cell_type": "markdown",
   "id": "b6bdc140",
   "metadata": {},
   "source": [
    "<div class='alert alert-info'>\n",
    "\n",
    "Vous pouvez avoir des sous-listes dans vos listes, il suffit d’ajouter une indentation d'un certain nombre d’espace devant les items de la sous liste.\n",
    "\n",
    "</div>"
   ]
  },
  {
   "cell_type": "raw",
   "id": "c6ad8b0c",
   "metadata": {},
   "source": [
    "Version brute, version rendue ci-dessous\n",
    "\n",
    "- item 1\n",
    "- item 2\n",
    "  - sous item 1\n",
    "  - sous item 2\n",
    "- item 3"
   ]
  },
  {
   "cell_type": "markdown",
   "id": "21510bbe",
   "metadata": {},
   "source": [
    "- item 1\n",
    "- item 2\n",
    "  - sous item 1\n",
    "  - sous item 2\n",
    "- item 3"
   ]
  },
  {
   "cell_type": "markdown",
   "id": "954ec517",
   "metadata": {},
   "source": [
    "## Paragraphes"
   ]
  },
  {
   "cell_type": "raw",
   "id": "ef2950c8",
   "metadata": {},
   "source": [
    "Les paragraphes doivent être séparés par une ligne vide.\n",
    "\n",
    "Un simple saut de\n",
    "ligne serait ignoré et remplacé par une espace.\n",
    "\n",
    "Si vous voulez faire un simple saut de ligne,  \n",
    "terminez la première ligne par 2 espaces."
   ]
  },
  {
   "cell_type": "markdown",
   "id": "975f46c2",
   "metadata": {},
   "source": [
    "Les paragraphes doivent être séparés par une ligne vide.\n",
    "\n",
    "Un simple saut de\n",
    "ligne serait ignoré et remplacé par une espace.\n",
    "\n",
    "Si vous voulez faire un simple saut de ligne,  \n",
    "terminez la première ligne par 2 espaces."
   ]
  },
  {
   "cell_type": "markdown",
   "id": "38ac5d6e",
   "metadata": {},
   "source": [
    "### Tables"
   ]
  },
  {
   "cell_type": "raw",
   "id": "ea44c1c9",
   "metadata": {},
   "source": [
    "Vous pouvez créer des tables avec la syntaxe suivante :\n",
    "\n",
    "| Syntax      | Description |\n",
    "| ----------- | ----------- |\n",
    "| Header      | Title       |\n",
    "| Paragraph   | Text        |\n",
    "\n",
    "Comme la chose est un peu hardue pour une table plus vaste,  \n",
    "je vous recommande d'utiliser l’outil en ligne https://www.tablesgenerator.com/markdown_tables dans lequel vous pouvez coller des tables issues du web, de Word ou Excel, et les convertir en syntaxe markdown."
   ]
  },
  {
   "cell_type": "markdown",
   "id": "9d059493",
   "metadata": {},
   "source": [
    "Vous pouvez créer des tables avec la syntaxe suivante :\n",
    "\n",
    "| Syntax      | Description |\n",
    "| ----------- | ----------- |\n",
    "| Header      | Title       |\n",
    "| Paragraph   | Text        |\n",
    "\n",
    "Comme la chose est un peu hardue pour une table plus vaste,  \n",
    "je vous recommande d'utiliser l’outil en ligne https://www.tablesgenerator.com/markdown_tables dans lequel vous pouvez coller des tables issues du web, de Word ou Excel, et les convertir en syntaxe markdown."
   ]
  },
  {
   "cell_type": "markdown",
   "id": "9a529e2c",
   "metadata": {},
   "source": [
    "Par exemple :\n",
    "\n",
    "|       Operation      |                                      Result                                      |  Notes |\n",
    "|:--------------------:|:--------------------------------------------------------------------------------:|:------:|\n",
    "| x in s               | True if an item of s is equal to x, else False                                   | (1)    |\n",
    "| x not in s           | False if an item of s is equal to x, else True                                   | (1)    |\n",
    "| s + t                | the concatenation of s and t                                                     | (6)(7) |\n",
    "| s * n or n * s       | equivalent to adding s to itself n times                                         | (2)(7) |\n",
    "| s[i]                 | ith item of s, origin 0                                                          | (3)    |\n",
    "| s[i:j]               | slice of s from i to j                                                           | (3)(4) |\n",
    "| s[i:j:k]             | slice of s from i to j with step k                                               | (3)(5) |\n",
    "| len(s)               | length of s                                                                      |        |\n",
    "| min(s)               | smallest item of s                                                               |        |\n",
    "| max(s)               | largest item of s                                                                |        |\n",
    "| s.index(x[, i[, j]]) | index of the first occurrence of x in s (at or after index i and before index j) | (8)    |\n",
    "| s.count(x)           | total number of occurrences of x in s                                            |        |"
   ]
  },
  {
   "cell_type": "markdown",
   "id": "eb8d4cba",
   "metadata": {},
   "source": [
    "## Mise en forme du texte"
   ]
  },
  {
   "cell_type": "markdown",
   "id": "57203d50",
   "metadata": {},
   "source": [
    "### Italique et Gras"
   ]
  },
  {
   "cell_type": "raw",
   "id": "0ce5c0f0",
   "metadata": {},
   "source": [
    "(Version brute, la version rendue est juste en dessous.)\n",
    "\n",
    "L’italique se fait en encadrant le texte par une astérisque.\n",
    "\n",
    "*Ce texte est en italique.*\n",
    "\n",
    "Le gras se fait en utilisant 2 astérisques pour encadrer.\n",
    "\n",
    "Ce **texte est en gras**."
   ]
  },
  {
   "cell_type": "markdown",
   "id": "1be797bd",
   "metadata": {},
   "source": [
    "L’italique se fait en encadrant le texte par une astérisque.\n",
    "\n",
    "*Ce texte est en italique.*\n",
    "\n",
    "Le gras se fait en utilisant 2 astérisques pour encadrer.\n",
    "\n",
    "Ce **texte est en gras**."
   ]
  },
  {
   "cell_type": "markdown",
   "id": "8affbd1c",
   "metadata": {},
   "source": [
    "### Code"
   ]
  },
  {
   "cell_type": "raw",
   "id": "d974577f",
   "metadata": {},
   "source": [
    "Pour mettre une partie du texte dans un formatage code (police à chasse fixe, pour indiquer un nom de fonction ou de variable par exemple), encadre le texte par des back ticks (accents grave).\n",
    "\n",
    "Ex: Vous pouvez utiliser la méthode `lst.append(item)`."
   ]
  },
  {
   "cell_type": "markdown",
   "id": "5e791f7f",
   "metadata": {},
   "source": [
    "Pour mettre une partie du texte dans un formatage code (police à chasse fixe, pour indiquer un nom de fonction ou de variable par exemple), encadre le texte par des back ticks (accents grave).\n",
    "\n",
    "Ex: Vous pouvez utiliser la méthode `lst.append(item)`."
   ]
  },
  {
   "cell_type": "markdown",
   "id": "230153fd",
   "metadata": {},
   "source": [
    "### Citation"
   ]
  },
  {
   "cell_type": "raw",
   "id": "52f0d350",
   "metadata": {},
   "source": [
    "Les citations de texte se font comme dans les emails en texte brut, en démarrant les lignes citées par un >\n",
    "\n",
    "> Amor mundum fecit"
   ]
  },
  {
   "cell_type": "markdown",
   "id": "0ffc2df2",
   "metadata": {},
   "source": [
    "Les citations de texte se font comme dans les emails en texte brut, en démarrant les lignes citées par un >\n",
    "\n",
    "> Amor mundum fecit"
   ]
  },
  {
   "cell_type": "raw",
   "id": "8b8435f4",
   "metadata": {},
   "source": [
    "Si vous avez plusieurs lignes à citer, incluant des lignes vides, vous devez faire précéder chaque ligne par >\n",
    "\n",
    "\n",
    "> Lorem ipsum dolor sit amet, consectetur adipiscing elit. Sed in tempus lorem. Vestibulum ultrices magna sit amet lectus semper mollis.\n",
    ">\n",
    "> Integer in libero eu lectus consequat commodo. Morbi ullamcorper accumsan erat, at aliquet orci convallis vel. Vivamus ultricies orci nisl, non fringilla augue rhoncus nec. In ornare blandit enim, vulputate auctor nisi cursus eget.\n",
    ">\n",
    "> Proin ac turpis at dui consequat vestibulum nec eu elit. \n"
   ]
  },
  {
   "cell_type": "markdown",
   "id": "44d828ca",
   "metadata": {},
   "source": [
    "Si vous avez plusieurs lignes à citer, incluant des lignes vides, vous devez faire précéder chaque ligne par >\n",
    "\n",
    "\n",
    "> Lorem ipsum dolor sit amet, consectetur adipiscing elit. Sed in tempus lorem. Vestibulum ultrices magna sit amet lectus semper mollis. \n",
    ">\n",
    "> Integer in libero eu lectus consequat commodo. Morbi ullamcorper accumsan erat, at aliquet orci convallis vel. Vivamus ultricies orci nisl, non fringilla augue rhoncus nec. In ornare blandit enim, vulputate auctor nisi cursus eget. \n",
    ">\n",
    "> Proin ac turpis at dui consequat vestibulum nec eu elit. \n"
   ]
  },
  {
   "cell_type": "markdown",
   "id": "54b7b131",
   "metadata": {},
   "source": [
    "## Liens hyper-texte et images"
   ]
  },
  {
   "cell_type": "raw",
   "id": "00d86230",
   "metadata": {},
   "source": [
    "Les liens hyper-texte se font avec [texte](url).\n",
    "\n",
    "Exemple : [insa-lyon.fr](https://www.insa-lyon.fr)"
   ]
  },
  {
   "cell_type": "markdown",
   "id": "fe9b8b45",
   "metadata": {},
   "source": [
    "Les liens hyper-texte se font avec `[texte](url)`.\n",
    "\n",
    "Exemple : [insa-lyon.fr](https://www.insa-lyon.fr)"
   ]
  },
  {
   "cell_type": "raw",
   "id": "e906b764",
   "metadata": {},
   "source": [
    "Les images sont insérées avec presque la même syntaxe, il suffit d'ajouter un !\n",
    "\n",
    "![texte alternatif](image_url)\n",
    "\n",
    "Exemple : ![logo INSA Lyon](https://www.insa-lyon.fr/sites/all/themes/insa/logo.png)"
   ]
  },
  {
   "cell_type": "markdown",
   "id": "0e682313",
   "metadata": {},
   "source": [
    "Les images sont insérées avec presque la même syntaxe, il suffit d'ajouter un !\n",
    "\n",
    "`![texte alternatif](image_url)`\n",
    "\n",
    "Exemple : ![logo INSA Lyon](https://www.insa-lyon.fr/sites/all/themes/insa/logo.png)"
   ]
  },
  {
   "cell_type": "markdown",
   "id": "248c58ef",
   "metadata": {},
   "source": [
    "## $\\LaTeX$ dans les cellules Markdown\n",
    "\n",
    "Les cellules markdown peuvent exécuter du $\\LaTeX$, il suffit d'encadrer les expression en $\\LaTeX$ par des $"
   ]
  },
  {
   "cell_type": "raw",
   "id": "abf0110c",
   "metadata": {},
   "source": [
    "(Cellule en mode brut, code identique dans cellule Markdown rendue juste en dessous)\n",
    "$(\\int_{-\\infty}^\\infty \\sin{(x^2)}\\,dx)$"
   ]
  },
  {
   "cell_type": "markdown",
   "id": "6f99efda",
   "metadata": {},
   "source": [
    "$(\\int_{-\\infty}^\\infty \\sin{(x^2)}\\,dx)$"
   ]
  },
  {
   "cell_type": "markdown",
   "id": "e7b4ef3e",
   "metadata": {},
   "source": [
    "<div class='alert alert-warning'>\n",
    "\n",
    "\n",
    "Attention cependant, les commandes $\\LaTeX$ utilisées pour faire de la mise en forme de texte (`enumerate`, `itemize`, `textbf`…) devront être remplacée par leux équivalents `Markdown` vus plus haut.\n",
    "</div>"
   ]
  },
  {
   "cell_type": "code",
   "execution_count": null,
   "id": "48e4d9ee",
   "metadata": {},
   "outputs": [],
   "source": []
  }
 ],
 "metadata": {
  "kernelspec": {
   "display_name": "Python 3 (ipykernel)",
   "language": "python",
   "name": "python3"
  },
  "language_info": {
   "codemirror_mode": {
    "name": "ipython",
    "version": 3
   },
   "file_extension": ".py",
   "mimetype": "text/x-python",
   "name": "python",
   "nbconvert_exporter": "python",
   "pygments_lexer": "ipython3",
   "version": "3.10.0rc1"
  },
  "toc": {
   "base_numbering": 1,
   "nav_menu": {},
   "number_sections": true,
   "sideBar": true,
   "skip_h1_title": true,
   "title_cell": "Table des Matières",
   "title_sidebar": "Contents",
   "toc_cell": true,
   "toc_position": {},
   "toc_section_display": true,
   "toc_window_display": true
  }
 },
 "nbformat": 4,
 "nbformat_minor": 5
}
