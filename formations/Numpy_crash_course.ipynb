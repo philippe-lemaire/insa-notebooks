{
 "cells": [
  {
   "cell_type": "markdown",
   "id": "dcbeb16f",
   "metadata": {},
   "source": [
    "# Numpy - Calcul Numérique en Python"
   ]
  },
  {
   "cell_type": "markdown",
   "id": "cee897e1",
   "metadata": {
    "toc": true
   },
   "source": [
    "<h1>Table des Matières<span class=\"tocSkip\"></span></h1>\n",
    "<div class=\"toc\"><ul class=\"toc-item\"><li><span><a href=\"#Prérequis\" data-toc-modified-id=\"Prérequis-1\">Prérequis</a></span><ul class=\"toc-item\"><li><span><a href=\"#Profil-ciblé-par-ce-notebook\" data-toc-modified-id=\"Profil-ciblé-par-ce-notebook-1.1\">Profil ciblé par ce notebook</a></span></li><li><span><a href=\"#Objectifs-pédagogiques\" data-toc-modified-id=\"Objectifs-pédagogiques-1.2\">Objectifs pédagogiques</a></span></li><li><span><a href=\"#Les-bases\" data-toc-modified-id=\"Les-bases-1.3\">Les bases</a></span></li></ul></li><li><span><a href=\"#Exemple\" data-toc-modified-id=\"Exemple-2\">Exemple</a></span></li><li><span><a href=\"#Création-d’Array\" data-toc-modified-id=\"Création-d’Array-3\">Création d’Array</a></span></li><li><span><a href=\"#Afficher-des-Arrays-avec-print()\" data-toc-modified-id=\"Afficher-des-Arrays-avec-print()-4\">Afficher des Arrays avec print()</a></span></li><li><span><a href=\"#Opérations-de-base\" data-toc-modified-id=\"Opérations-de-base-5\">Opérations de base</a></span></li><li><span><a href=\"#Fonctions-universelles\" data-toc-modified-id=\"Fonctions-universelles-6\">Fonctions universelles</a></span></li><li><span><a href=\"#Indexer,-Trancher-et-Itérer\" data-toc-modified-id=\"Indexer,-Trancher-et-Itérer-7\">Indexer, Trancher et Itérer</a></span></li><li><span><a href=\"#Shape-Manipulation\" data-toc-modified-id=\"Shape-Manipulation-8\">Shape Manipulation</a></span></li><li><span><a href=\"#Stacking-together-different-arrays\" data-toc-modified-id=\"Stacking-together-different-arrays-9\">Stacking together different arrays</a></span></li><li><span><a href=\"#Splitting-one-array-into-several-smaller-ones\" data-toc-modified-id=\"Splitting-one-array-into-several-smaller-ones-10\">Splitting one array into several smaller ones</a></span></li><li><span><a href=\"#Copies-and-Views\" data-toc-modified-id=\"Copies-and-Views-11\">Copies and Views</a></span><ul class=\"toc-item\"><li><span><a href=\"#No-Copy-at-All\" data-toc-modified-id=\"No-Copy-at-All-11.1\">No Copy at All</a></span></li><li><span><a href=\"#View-or-Shallow-Copy\" data-toc-modified-id=\"View-or-Shallow-Copy-11.2\">View or Shallow Copy</a></span></li><li><span><a href=\"#Deep-Copy\" data-toc-modified-id=\"Deep-Copy-11.3\">Deep Copy</a></span></li></ul></li><li><span><a href=\"#Functions-and-Methods-Overview\" data-toc-modified-id=\"Functions-and-Methods-Overview-12\">Functions and Methods Overview</a></span></li><li><span><a href=\"#Less-Basic\" data-toc-modified-id=\"Less-Basic-13\">Less Basic</a></span><ul class=\"toc-item\"><li><span><a href=\"#Broadcasting-rules\" data-toc-modified-id=\"Broadcasting-rules-13.1\">Broadcasting rules</a></span></li></ul></li><li><span><a href=\"#Advanced-indexing-and-index-tricks\" data-toc-modified-id=\"Advanced-indexing-and-index-tricks-14\">Advanced indexing and index tricks</a></span><ul class=\"toc-item\"><li><span><a href=\"#Indexing-with-Arrays-of-Indices¶\" data-toc-modified-id=\"Indexing-with-Arrays-of-Indices¶-14.1\">Indexing with Arrays of Indices¶</a></span></li><li><span><a href=\"#Indexing-with-Boolean-Arrays\" data-toc-modified-id=\"Indexing-with-Boolean-Arrays-14.2\">Indexing with Boolean Arrays</a></span></li><li><span><a href=\"#The-ix_()-function\" data-toc-modified-id=\"The-ix_()-function-14.3\">The ix_() function</a></span></li></ul></li><li><span><a href=\"#Tricks-and-Tips\" data-toc-modified-id=\"Tricks-and-Tips-15\">Tricks and Tips</a></span><ul class=\"toc-item\"><li><span><a href=\"#“Automatic”-Reshaping\" data-toc-modified-id=\"“Automatic”-Reshaping-15.1\">“Automatic” Reshaping</a></span></li><li><span><a href=\"#Histograms\" data-toc-modified-id=\"Histograms-15.2\">Histograms</a></span></li></ul></li></ul></div>"
   ]
  },
  {
   "cell_type": "markdown",
   "id": "de536700",
   "metadata": {},
   "source": [
    "La bibliothèque `Numpy` est la bibliothèque centrale du calcul scientifique pour `Python`.\n",
    "\n",
    "Elle vous procure des tableaux de nombres multidimensionnels à haute performance, et des outils pour travailler sur ces tableaux.\n",
    "\n",
    "\n",
    "Quand vous importez numpy, par convention utilisez\n",
    "\n",
    "`import numpy as np`"
   ]
  },
  {
   "cell_type": "markdown",
   "id": "2cbc9001",
   "metadata": {},
   "source": [
    "## Prérequis"
   ]
  },
  {
   "cell_type": "markdown",
   "id": "48b784fb",
   "metadata": {},
   "source": [
    "Pour suivre ce guide vous devrez connaître un minimum de Python.\n",
    "\n",
    "Si vous avez besoin de quelques révisions, vous pouvez partir de ce [guide Python](Python_101_niveau_debutant.ipynb).\n",
    "\n",
    "Certains exemples nécessitent d'avoir `matplotlib` installé en complément de Numpy.\n",
    "\n",
    "\n",
    "\n",
    "### Profil ciblé par ce notebook\n",
    "\n",
    "Ceci est un tour d'horizon de Numpy, qui montre comment les tableaux à n-dimensions — à partir de maintenant appelés `arrays` pour faire simple — sont représentés et peuvent être manipulés.\n",
    "\n",
    "En particulier, si vous ne savez pas comment appliquer des fonctions aux arrays à n dimensions, (sans utiliser de boucles for), ou si vous voulez comprendre les axes et les formes des arrays, ce notebook est pour vous.\n",
    "\n",
    "### Objectifs pédagogiques\n",
    "\n",
    "Après lecture, vous devriez être en mesure de :\n",
    "\n",
    "\n",
    "- connaître la différence entre les arrays à 1, 2, et n dimensions dans NumPy ;\n",
    "- comprendre comment appliquer des opérations d'algèbre linéaire à des arrays à n dimensions sans utiliser de boucle for ;\n",
    "- comprendre les axes et la forme des arrays à n dimensions.\n",
    "\n",
    "\n",
    "### Les bases\n",
    "\n",
    "L'objet principal fourni par Numpy est le tableau à n dimensions appelé `ndarray` ou `array` pour faire court.\n",
    "\n",
    "C'est un tableau contenant des éléments du même type (généralement des nombres, parfois des booléens), indexés par un tuple de nombre non négatifs. Dans Numpy les dimensions sont appelés les axes.\n",
    "\n",
    "Par exemple, l'array des coordonnées d'un point dans l’espace 3D, `[1, 2, 1]` a 1 axe. Cet axe a 3 éléments, on dit que sa longueur est 3. Dans l'exemple ci-dessous, l'array a 2 axes. Le premier axe a une longueur de 2, le second une longueur de 3.\n"
   ]
  },
  {
   "cell_type": "raw",
   "id": "29f0b4c0",
   "metadata": {},
   "source": [
    "[[1., 0., 0.],\n",
    " [0., 1., 2.]]"
   ]
  },
  {
   "cell_type": "markdown",
   "id": "10c557bb",
   "metadata": {},
   "source": [
    "La classe venant de Numpy s'appelle `ndarray`. À ne pas confondre avec l'objet `array` qui vient du module `array` dans la bibliothèque de base Python, qui gère des tableaux à 1 dimension mais offre moins de fonctionnalités.\n",
    "\n",
    "Les attributs les plus importants d’un `ndarray` sont :\n",
    "\n",
    "\n",
    "`ndarray.ndim`\n",
    "\n",
    "Le nombre d'axes, ie les dimensions de l’array.\n",
    "\n",
    "`ndarray.shape`\n",
    "\n",
    "Les dimensions de l’array. C'est un tuple d'entiens, indicant la taille de l'array dans chaque dimension. Pour une matrice avec n lignes et m colonnes, la shape sera (n, m). La longueur de la shape est le nombre d'axes, ie `ndim`\n",
    "    \n",
    "    \n",
    "`ndarray.size`\n",
    "\n",
    "Le nombre total d’éléments dans l’array. Autrement dit le produit les différentes parties de la shape. \n",
    "\n",
    "`ndarray.dtype`\n",
    "\n",
    "Un objet décrivant le type d'élément dans l’array, par exemple `numpy.int32` (entier sur 32 bits), `numpy.float64` (nombre à virgule sur 64 bits)\n",
    "    \n",
    "   \n",
    "\n",
    "## Exemple"
   ]
  },
  {
   "cell_type": "code",
   "execution_count": null,
   "id": "54419973",
   "metadata": {},
   "outputs": [],
   "source": [
    "import numpy as np\n",
    "\n",
    "a = np.arange(15).reshape(3, 5) # .reshape(3, 5) redimensionne l’array passé en 3 lignes 5 colonnes\n",
    "a"
   ]
  },
  {
   "cell_type": "code",
   "execution_count": null,
   "id": "838c7329",
   "metadata": {},
   "outputs": [],
   "source": [
    "a.shape # forme, (nombre de lignes, nombre de colonnes)"
   ]
  },
  {
   "cell_type": "code",
   "execution_count": null,
   "id": "33dbc249",
   "metadata": {},
   "outputs": [],
   "source": [
    "a.ndim # nombre de dimensions"
   ]
  },
  {
   "cell_type": "code",
   "execution_count": null,
   "id": "196ce1b5",
   "metadata": {},
   "outputs": [],
   "source": [
    "a.dtype.name # type de données dans l'array"
   ]
  },
  {
   "cell_type": "code",
   "execution_count": null,
   "id": "737b49c6",
   "metadata": {},
   "outputs": [],
   "source": [
    "a.size # nombre total d'éléments"
   ]
  },
  {
   "cell_type": "code",
   "execution_count": null,
   "id": "1c5ca0d1",
   "metadata": {},
   "outputs": [],
   "source": [
    "type(a)"
   ]
  },
  {
   "cell_type": "code",
   "execution_count": null,
   "id": "0a8f6dd4",
   "metadata": {},
   "outputs": [],
   "source": [
    "b = np.array([6, 7, 8])\n",
    "b"
   ]
  },
  {
   "cell_type": "code",
   "execution_count": null,
   "id": "9abdd81c",
   "metadata": {},
   "outputs": [],
   "source": [
    "type(b)"
   ]
  },
  {
   "cell_type": "markdown",
   "id": "efb1f121",
   "metadata": {},
   "source": [
    "##  Création d’Array\n",
    "\n",
    "Il existe plusieurs moyens pour créer des arrays.\n",
    "\n",
    "Vous pouvez passer une liste ou un tuple Python à la fonction `np.array()`. Le type de données à utiliser est choisi automatiquement en fonction du contenu de la liste ou du tuple passé."
   ]
  },
  {
   "cell_type": "code",
   "execution_count": null,
   "id": "a001f427",
   "metadata": {},
   "outputs": [],
   "source": [
    "import numpy as np\n",
    "\n",
    "a = np.array([2, 3, 4])\n",
    "a"
   ]
  },
  {
   "cell_type": "code",
   "execution_count": null,
   "id": "27ed510b",
   "metadata": {},
   "outputs": [],
   "source": [
    "a.dtype"
   ]
  },
  {
   "cell_type": "code",
   "execution_count": null,
   "id": "a1f8f18b",
   "metadata": {},
   "outputs": [],
   "source": [
    "b = np.array([1.2, 3.5, 5.1])\n",
    "\n",
    "b.dtype"
   ]
  },
  {
   "cell_type": "markdown",
   "id": "dce1ce1b",
   "metadata": {},
   "source": [
    "Un erreur qui revient souvent est de passer plusieurs arguments à la fonction `np.array()` plutôt que de fournir une séquence comme argument.\n",
    "\n"
   ]
  },
  {
   "cell_type": "code",
   "execution_count": null,
   "id": "5d470b74",
   "metadata": {},
   "outputs": [],
   "source": [
    "a = np.array(1, 2, 3, 4)    # ERREUR"
   ]
  },
  {
   "cell_type": "code",
   "execution_count": null,
   "id": "c3e3a5c6",
   "metadata": {},
   "outputs": [],
   "source": [
    "a = np.array([1, 2, 3, 4])  # CORRECT"
   ]
  },
  {
   "cell_type": "markdown",
   "id": "a71ed361",
   "metadata": {},
   "source": [
    "`np.array()` transforme une liste de liste en un `array` de deux dimensions, et une liste de listes de listes en un `array` de 3 dimensions, etc…\n"
   ]
  },
  {
   "cell_type": "code",
   "execution_count": null,
   "id": "5d566613",
   "metadata": {},
   "outputs": [],
   "source": [
    "b = np.array([(1.5, 2, 3), (4, 5, 6)])\n",
    "\n",
    "b"
   ]
  },
  {
   "cell_type": "markdown",
   "id": "c45bf186",
   "metadata": {},
   "source": [
    "Le type de données à utiliser dans l’array peut être spécifié lors de sa création :"
   ]
  },
  {
   "cell_type": "code",
   "execution_count": null,
   "id": "481860c1",
   "metadata": {},
   "outputs": [],
   "source": [
    "c = np.array([[1, 2], [3, 4]], dtype=complex)\n",
    "c"
   ]
  },
  {
   "cell_type": "markdown",
   "id": "027703ed",
   "metadata": {},
   "source": [
    "Souvent, les éléments de l’array que l’on désire sont initialement inconnus, mais la taille voulue est connue.\n",
    "\n",
    "Numpy a plusieurs fonctions pour créer des arrays avec du contenu initial neutre. Ces fonctions réduise le besoin d’étendre un array, une opération coûteuse.\n",
    "\n",
    "La fonction `zeros()` crée un array plein de zéros, la fonction `ones()` crée un array plein de 1, et la fonction `empty()` crée un array dont le contenu initial est aléatoire et dépend de l’état de la mémoire de votre machine. Par défaut, le type utilisé est `float64` mais vous pouvez spéficier un autre type avec l'argument `dtype`."
   ]
  },
  {
   "cell_type": "code",
   "execution_count": null,
   "id": "a73a9f71",
   "metadata": {},
   "outputs": [],
   "source": [
    "np.zeros((3, 4))"
   ]
  },
  {
   "cell_type": "code",
   "execution_count": null,
   "id": "ee079683",
   "metadata": {},
   "outputs": [],
   "source": [
    "np.ones((2, 3, 4), dtype=np.int16)"
   ]
  },
  {
   "cell_type": "code",
   "execution_count": null,
   "id": "ca28f2af",
   "metadata": {},
   "outputs": [],
   "source": [
    "np.empty((2, 3)) "
   ]
  },
  {
   "cell_type": "markdown",
   "id": "67998d7a",
   "metadata": {},
   "source": [
    "Pour créer un array contenant une séquence de nombres, Numpy contient la fonction `arange()` , qui est similaire à la fonction `range()` de Python, mais renvoie un array."
   ]
  },
  {
   "cell_type": "code",
   "execution_count": null,
   "id": "85c6b67d",
   "metadata": {},
   "outputs": [],
   "source": [
    "np.arange(10, 30, 5) # de 10 à 30 (exclus) à pas de 5"
   ]
  },
  {
   "cell_type": "code",
   "execution_count": null,
   "id": "76e1c223",
   "metadata": {},
   "outputs": [],
   "source": [
    "np.arange(0, 2, 0.3)  # fonctionne aussi avec des pas décimaux"
   ]
  },
  {
   "cell_type": "markdown",
   "id": "d2e19c43",
   "metadata": {},
   "source": [
    "Quand `arange()` est utilisé avec des pas en `float`, il est généralement difficile de prédire le nombre exact d’éléments obtenus dans l'array créé, en raison de la précision des nombres `float` qui a ses limites. Pour cette raison, il est préférable d’utiliser plutôt la fonction `linspace()` qui prend comme argument le nombre d’éléments voulus, et non pas la taille des pas."
   ]
  },
  {
   "cell_type": "code",
   "execution_count": null,
   "id": "1d3237cf",
   "metadata": {},
   "outputs": [],
   "source": [
    "from numpy import pi\n",
    "\n",
    "np.linspace(0, 2, 9)     # 9 nombres à intervalles réguliers entre 0 et 2"
   ]
  },
  {
   "cell_type": "code",
   "execution_count": null,
   "id": "861e6439",
   "metadata": {},
   "outputs": [],
   "source": [
    "x = np.linspace(0, 2 * pi, 100)  # Très pratique pour évaluer une fonction sur un échantillon de points\n",
    "\n",
    "f = np.sin(x) # f est un array contenant le sinus de chaque point de x"
   ]
  },
  {
   "cell_type": "code",
   "execution_count": null,
   "id": "8ca31401",
   "metadata": {},
   "outputs": [],
   "source": [
    "import matplotlib.pyplot as plt\n",
    "plt.plot(x, f);"
   ]
  },
  {
   "cell_type": "markdown",
   "id": "bc7b4668",
   "metadata": {},
   "source": [
    "## Afficher des Arrays avec print()\n",
    "\n",
    "Quand vous passez un array à `print()`, Numpy l’affiche d’une manière similaire à des listes imbriquées, mais avec la disposition suivante :\n",
    "\n",
    "- le dernier axe est affiché de gauche à droite,\n",
    "- l’avant dernier axe est affiché de haut en bas,\n",
    "- les éventuels autres axes sont aussi affichés de haut en bas, chaque tranche séparée de la suivante par une ligne vide.\n",
    "\n",
    "Les arrays à 1 dimension sont affichées comme des lignes, les arrays 2D sont représentés comme des matrices, et les arrays 3D comme des listes de matrices."
   ]
  },
  {
   "cell_type": "code",
   "execution_count": null,
   "id": "772d72b0",
   "metadata": {},
   "outputs": [],
   "source": [
    "a = np.arange(6)                    # 1d array\n",
    "a"
   ]
  },
  {
   "cell_type": "code",
   "execution_count": null,
   "id": "19e5501b",
   "metadata": {},
   "outputs": [],
   "source": [
    "b = np.arange(12).reshape(4, 3)     # 2d array\n",
    "\n",
    "print(b)"
   ]
  },
  {
   "cell_type": "code",
   "execution_count": null,
   "id": "c3b6e503",
   "metadata": {},
   "outputs": [],
   "source": [
    "c = np.arange(24).reshape(2, 3, 4)  # 3d array\n",
    "c"
   ]
  },
  {
   "cell_type": "markdown",
   "id": "afc659f2",
   "metadata": {},
   "source": [
    "Si un array est trop grand pour être affiché, Numpy fait saute automatiquement la partie centrale et affiche uniquement les coins de l’array.\n"
   ]
  },
  {
   "cell_type": "code",
   "execution_count": null,
   "id": "93db9921",
   "metadata": {},
   "outputs": [],
   "source": [
    "print(np.arange(10000)) # 1D"
   ]
  },
  {
   "cell_type": "code",
   "execution_count": null,
   "id": "f49961cc",
   "metadata": {},
   "outputs": [],
   "source": [
    "print(np.arange(10000).reshape(100, 100)) #2D 100x100"
   ]
  },
  {
   "cell_type": "markdown",
   "id": "f0c23ae9",
   "metadata": {},
   "source": [
    "Pour désactiver ce comportement et forcer Numpy à afficher l’array intégralement, vous pouvze changer les options d'affichage avec `numpy.set_printoptions()` \n"
   ]
  },
  {
   "cell_type": "code",
   "execution_count": null,
   "id": "bcf9cc7e",
   "metadata": {},
   "outputs": [],
   "source": [
    "import sys\n",
    "np.set_printoptions(threshold=sys.maxsize)  # sys module doit être importé avant"
   ]
  },
  {
   "cell_type": "code",
   "execution_count": null,
   "id": "610eb25c",
   "metadata": {
    "scrolled": true
   },
   "outputs": [],
   "source": [
    "np.arange(10000) # 1D"
   ]
  },
  {
   "cell_type": "markdown",
   "id": "d139a9b7",
   "metadata": {},
   "source": [
    "## Opérations de base\n",
    "\n",
    "Les opérateurs arithmétiques sont appliqués sur les array élément par élément. Un nouvel array est créé et est rempli par les résultats de ces opérations."
   ]
  },
  {
   "cell_type": "code",
   "execution_count": null,
   "id": "8feb4dba",
   "metadata": {},
   "outputs": [],
   "source": [
    "a = np.array([20, 30, 40, 50])\n",
    "\n",
    "b = np.arange(4)\n",
    "\n",
    "b"
   ]
  },
  {
   "cell_type": "code",
   "execution_count": null,
   "id": "98cae4f7",
   "metadata": {},
   "outputs": [],
   "source": [
    "c = a - b\n",
    "\n",
    "c"
   ]
  },
  {
   "cell_type": "code",
   "execution_count": null,
   "id": "06dc11f7",
   "metadata": {},
   "outputs": [],
   "source": [
    "b**2"
   ]
  },
  {
   "cell_type": "code",
   "execution_count": null,
   "id": "42160881",
   "metadata": {},
   "outputs": [],
   "source": [
    "10 * np.sin(a)"
   ]
  },
  {
   "cell_type": "code",
   "execution_count": null,
   "id": "eb2384bb",
   "metadata": {},
   "outputs": [],
   "source": [
    "a < 35"
   ]
  },
  {
   "cell_type": "markdown",
   "id": "75d90e61",
   "metadata": {},
   "source": [
    "Contrairement à d’autres languages, l’opérateur de multiplication s’applique lui aussi élément par élément à un array.\n",
    "\n",
    "Pour réaliser un produit matriciel, vous devez utiliser l’opérateur `@` ou bien la méthode .dot() sur une matrice en passant l’autre comme argument :"
   ]
  },
  {
   "cell_type": "code",
   "execution_count": null,
   "id": "b68b6ddf",
   "metadata": {},
   "outputs": [],
   "source": [
    "A = np.array([[1, 1],\n",
    "\n",
    "              [0, 1]])\n",
    "\n",
    "B = np.array([[2, 0],\n",
    "\n",
    "              [3, 4]])\n",
    "\n",
    "A * B     # produit élément par élément"
   ]
  },
  {
   "cell_type": "code",
   "execution_count": null,
   "id": "53e4ee19",
   "metadata": {},
   "outputs": [],
   "source": [
    "A @ B  # produit matriciel"
   ]
  },
  {
   "cell_type": "code",
   "execution_count": null,
   "id": "df11d483",
   "metadata": {},
   "outputs": [],
   "source": [
    "A.dot(B)  # autre syntaxe pour obtenir le produit matriciel A·B"
   ]
  },
  {
   "cell_type": "markdown",
   "id": "7be14f43",
   "metadata": {},
   "source": [
    "Certains opérateurs, comme  `+=` et `*=`, agissent \"en place\", c'est à dire qu'ils modifient l’array existant plutôt que d’en créer un autre."
   ]
  },
  {
   "cell_type": "code",
   "execution_count": null,
   "id": "6de921e7",
   "metadata": {},
   "outputs": [],
   "source": [
    "rg = np.random.default_rng(1)  # crée une instance du générateur de nombres aléatoires\n",
    "\n",
    "a = np.ones((2, 3), dtype=int) # a est une matrice (2,3) remplie de 1\n",
    "\n",
    "b = rg.random((2, 3)) # b est une matrice (2,3) remplie de nombres aléatoires entre 0 et 1\n",
    "\n",
    "a *= 3 # *=3 modifie a directement\n",
    "\n",
    "a"
   ]
  },
  {
   "cell_type": "code",
   "execution_count": null,
   "id": "0814be1f",
   "metadata": {},
   "outputs": [],
   "source": [
    "b # b est une matrice (2,3) remplie de nombres aléatoires entre 0 et 1"
   ]
  },
  {
   "cell_type": "code",
   "execution_count": null,
   "id": "d14b4f6b",
   "metadata": {},
   "outputs": [],
   "source": [
    "b += a # modifie b en place\n",
    "\n",
    "b"
   ]
  },
  {
   "cell_type": "code",
   "execution_count": null,
   "id": "964fe902",
   "metadata": {},
   "outputs": [],
   "source": [
    "a += b  # b n’est pas automatiquement transformée en array d’entiers"
   ]
  },
  {
   "cell_type": "markdown",
   "id": "61092cfa",
   "metadata": {},
   "source": [
    "Quand on travaille avec des arrays contenant différents types de nombres, le type utilisé dans les résultats correspond au type le plus général ou le plus précis, un comportement qu’on appelle l’upcasting."
   ]
  },
  {
   "cell_type": "code",
   "execution_count": null,
   "id": "930bb4c4",
   "metadata": {},
   "outputs": [],
   "source": [
    "a = np.ones(3, dtype=np.int32) # a contient des entiers\n",
    "\n",
    "b = np.linspace(0, np.pi, 3) # b des flottants\n",
    "\n",
    "b.dtype.name"
   ]
  },
  {
   "cell_type": "code",
   "execution_count": null,
   "id": "88a8d31f",
   "metadata": {},
   "outputs": [],
   "source": [
    "c = a + b\n",
    "\n",
    "c"
   ]
  },
  {
   "cell_type": "code",
   "execution_count": null,
   "id": "8a191f18",
   "metadata": {},
   "outputs": [],
   "source": [
    "c.dtype.name # int + float #=> float"
   ]
  },
  {
   "cell_type": "code",
   "execution_count": null,
   "id": "45c212fa",
   "metadata": {},
   "outputs": [],
   "source": [
    "d = np.exp(c * 1j)\n",
    "\n",
    "d"
   ]
  },
  {
   "cell_type": "code",
   "execution_count": null,
   "id": "79070269",
   "metadata": {},
   "outputs": [],
   "source": [
    "d.dtype.name"
   ]
  },
  {
   "cell_type": "markdown",
   "id": "10a7c4f9",
   "metadata": {},
   "source": [
    "Beaucoup d'opération unaires, comme calculer la somme de tous les éléments d'un array sont disponibles sous la forme de méthodes de la classe `ndarray`.\n"
   ]
  },
  {
   "cell_type": "code",
   "execution_count": null,
   "id": "e3525b52",
   "metadata": {},
   "outputs": [],
   "source": [
    "a = rg.random((2, 3))\n",
    "\n",
    "a"
   ]
  },
  {
   "cell_type": "code",
   "execution_count": null,
   "id": "c3c42c69",
   "metadata": {},
   "outputs": [],
   "source": [
    "a.sum()"
   ]
  },
  {
   "cell_type": "code",
   "execution_count": null,
   "id": "105ed2f7",
   "metadata": {},
   "outputs": [],
   "source": [
    "a.min()"
   ]
  },
  {
   "cell_type": "code",
   "execution_count": null,
   "id": "3c900218",
   "metadata": {},
   "outputs": [],
   "source": [
    "a.max()"
   ]
  },
  {
   "cell_type": "markdown",
   "id": "8a5f0ae6",
   "metadata": {},
   "source": [
    "Par défaut, ces opérations s'appliquent à l'array comme si c’était une liste de nombres, sans tenir compte de sa forme.\n",
    "Cependant, en spécifiant l’axe, vous pouvez réaliser ces opérations sur un axe spécifique.\n"
   ]
  },
  {
   "cell_type": "code",
   "execution_count": null,
   "id": "9620acd7",
   "metadata": {},
   "outputs": [],
   "source": [
    "b = np.arange(12).reshape(3, 4)\n",
    "b"
   ]
  },
  {
   "cell_type": "code",
   "execution_count": null,
   "id": "df2841d2",
   "metadata": {},
   "outputs": [],
   "source": [
    "b.sum(axis=0)     # somme sur le premier axe ie somme des colonnes"
   ]
  },
  {
   "cell_type": "code",
   "execution_count": null,
   "id": "ad9c6f9e",
   "metadata": {},
   "outputs": [],
   "source": [
    "b.min(axis=1)     # min sur le deuxième axe, ie le min de chaque ligne"
   ]
  },
  {
   "cell_type": "code",
   "execution_count": null,
   "id": "abdd96ea",
   "metadata": {},
   "outputs": [],
   "source": [
    "b.cumsum(axis=1)  # somme cumulée sur chaque ligne\n"
   ]
  },
  {
   "cell_type": "markdown",
   "id": "b21bc847",
   "metadata": {},
   "source": [
    "## Fonctions universelles\n",
    "\n",
    "Numpy contient les fonctions habituelles comme `sin`, `cos`, et `exp`. Dans Numpy, elles sont appelées des fonctions universelles (`ufunc`). Dans Numpy, ces fonctions s’appliquent élément par élément dans un array, et leur résultat est un nouvel array."
   ]
  },
  {
   "cell_type": "code",
   "execution_count": null,
   "id": "ca2e8407",
   "metadata": {},
   "outputs": [],
   "source": [
    "B = np.arange(3)\n",
    "\n",
    "B"
   ]
  },
  {
   "cell_type": "code",
   "execution_count": null,
   "id": "8f5670db",
   "metadata": {},
   "outputs": [],
   "source": [
    "np.exp(B)"
   ]
  },
  {
   "cell_type": "code",
   "execution_count": null,
   "id": "eb4d3282",
   "metadata": {},
   "outputs": [],
   "source": [
    "np.sqrt(B)"
   ]
  },
  {
   "cell_type": "code",
   "execution_count": null,
   "id": "2f4317ff",
   "metadata": {},
   "outputs": [],
   "source": [
    "C = np.array([2., -1., 4.])\n",
    "\n",
    "np.add(B, C)\n"
   ]
  },
  {
   "cell_type": "markdown",
   "id": "a1a065d6",
   "metadata": {},
   "source": [
    "## Indexer, Trancher et Itérer\n",
    "\n",
    "Les arrays 1D se comportent comme des listes Python pour l’indexation, les tranches et l'itération."
   ]
  },
  {
   "cell_type": "code",
   "execution_count": null,
   "id": "4bb7d520",
   "metadata": {},
   "outputs": [],
   "source": [
    "a = np.arange(10)**3\n",
    "\n",
    "a"
   ]
  },
  {
   "cell_type": "code",
   "execution_count": null,
   "id": "a4ba62b4",
   "metadata": {},
   "outputs": [],
   "source": [
    "a[2]"
   ]
  },
  {
   "cell_type": "code",
   "execution_count": null,
   "id": "57914485",
   "metadata": {},
   "outputs": [],
   "source": [
    "a[2:5]"
   ]
  },
  {
   "cell_type": "code",
   "execution_count": null,
   "id": "f0710443",
   "metadata": {},
   "outputs": [],
   "source": [
    "a[:6:2] = 1000\n",
    "# équivalent à a[0:6:2] = 1000;\n",
    "# du début à la position 6 (sans la prendre), donne à un élément sur 2 la valeur 1000\n",
    "a"
   ]
  },
  {
   "cell_type": "code",
   "execution_count": null,
   "id": "f9e75f09",
   "metadata": {},
   "outputs": [],
   "source": [
    "a[::-1]  # a inversé"
   ]
  },
  {
   "cell_type": "code",
   "execution_count": null,
   "id": "4a251523",
   "metadata": {},
   "outputs": [],
   "source": [
    "for i in a: # itération classique\n",
    "\n",
    "    print(i**(1 / 3.))"
   ]
  },
  {
   "cell_type": "markdown",
   "id": "3908362b",
   "metadata": {},
   "source": [
    "Les arrays multi-dimensionnels peuvent avoir un index par axe. Ces indices sont donnés dans un tuple, séparés par des virgules. "
   ]
  },
  {
   "cell_type": "code",
   "execution_count": null,
   "id": "13653fa5",
   "metadata": {},
   "outputs": [],
   "source": [
    "def f(x, y):\n",
    "    return 10 * x + y\n",
    "\n",
    "\n",
    "b = np.fromfunction(f, (5, 4), dtype=int)\n",
    "b"
   ]
  },
  {
   "cell_type": "code",
   "execution_count": null,
   "id": "90b2eb71",
   "metadata": {},
   "outputs": [],
   "source": [
    "b[2, 3]"
   ]
  },
  {
   "cell_type": "code",
   "execution_count": null,
   "id": "1941b28d",
   "metadata": {},
   "outputs": [],
   "source": [
    "b[0:5, 1]  # chaque ligne dans la seconde colonne"
   ]
  },
  {
   "cell_type": "code",
   "execution_count": null,
   "id": "50abeb30",
   "metadata": {},
   "outputs": [],
   "source": [
    "b[:, 1]    # Équivalent à l'exemple prédécent : du début à la fin (toutes les lignes), sur la seconde colonne."
   ]
  },
  {
   "cell_type": "code",
   "execution_count": null,
   "id": "5b319868",
   "metadata": {},
   "outputs": [],
   "source": [
    "b[1:3, :]  # les deuxième et 3ème lignes, sur toutes les colonnes"
   ]
  },
  {
   "cell_type": "markdown",
   "id": "489cccac",
   "metadata": {},
   "source": [
    "Quand on fournit moins d’indices que d'axes, les indices manquants sont considérés comme des tranches complètes des axes concernés."
   ]
  },
  {
   "cell_type": "code",
   "execution_count": null,
   "id": "a377cb3b",
   "metadata": {},
   "outputs": [],
   "source": [
    "b[-1]   # la dernière ligne, équivalent à b[-1, :]"
   ]
  },
  {
   "cell_type": "markdown",
   "id": "8c1d3e38",
   "metadata": {},
   "source": [
    "L’expression à l'intérieur des crochets dans `b[i]` est traitée comme `i` suivi par autant de `:` que nécessaire pour que chaque axe ait son indice. Numpy permet aussi d’écrire cela avec 3 points `...`, par exemple `b[i, ...]`.\n",
    "\n",
    "Les 3 points `...` représentent autant de `:` que nécessaires pour produire un tuple d'indexation complet.\n",
    "\n",
    "Par exemple, si x est un array avec 5 axes, alors\n",
    "\n",
    "\n",
    "- `x[1, 2, ...]` est equivalent à `x[1, 2, :, :, :]`,\n",
    "- `x[..., 3]` à `x[:, :, :, :, 3]` et\n",
    "- `x[4, ..., 5, :]` à `x[4, :, :, 5, :]`.\n"
   ]
  },
  {
   "cell_type": "code",
   "execution_count": null,
   "id": "f62f0fcf",
   "metadata": {},
   "outputs": [],
   "source": [
    "c = np.array([[[  0,  1,  2],  # un array 3D (2 arrays 2D empilés)\n",
    "\n",
    "               [ 10, 12, 13]],\n",
    "\n",
    "              [[100, 101, 102],\n",
    "\n",
    "               [110, 112, 113]]])\n",
    "\n",
    "c.shape"
   ]
  },
  {
   "cell_type": "code",
   "execution_count": null,
   "id": "3bedecf0",
   "metadata": {},
   "outputs": [],
   "source": [
    "c[1, ...]  # idem que c[1, :, :] ou même c[1]"
   ]
  },
  {
   "cell_type": "code",
   "execution_count": null,
   "id": "3edbc74d",
   "metadata": {},
   "outputs": [],
   "source": [
    "c[..., 2]  # idem que c[:, :, 2]"
   ]
  },
  {
   "cell_type": "markdown",
   "id": "42a23c72",
   "metadata": {},
   "source": [
    "L’itération dans un array à plusieurs dimension se fait sur le premier axe :"
   ]
  },
  {
   "cell_type": "code",
   "execution_count": null,
   "id": "23ceba97",
   "metadata": {},
   "outputs": [],
   "source": [
    "for row in b:\n",
    "\n",
    "    print(row)"
   ]
  },
  {
   "cell_type": "markdown",
   "id": "5757efce",
   "metadata": {},
   "source": [
    "Cependant, si l’on veut effectuer une opération sur chaque élément de l’array, on peut utiliser l’attribut `.flat` pour itérer sur tous les éléments un à un :"
   ]
  },
  {
   "cell_type": "code",
   "execution_count": null,
   "id": "a68dc5a1",
   "metadata": {},
   "outputs": [],
   "source": [
    "for element in b.flat:\n",
    "\n",
    "    print(element)"
   ]
  },
  {
   "cell_type": "markdown",
   "id": "185dcc9b",
   "metadata": {},
   "source": [
    "## Shape Manipulation\n",
    "Changing the shape of an array\n",
    "\n",
    "An array has a shape given by the number of elements along each axis:"
   ]
  },
  {
   "cell_type": "code",
   "execution_count": null,
   "id": "151c5595",
   "metadata": {},
   "outputs": [],
   "source": [
    "a = np.floor(10 * rg.random((3, 4)))\n",
    "\n",
    "a"
   ]
  },
  {
   "cell_type": "code",
   "execution_count": null,
   "id": "1747f5d9",
   "metadata": {},
   "outputs": [],
   "source": [
    "a.shape"
   ]
  },
  {
   "cell_type": "markdown",
   "id": "6a2fecf2",
   "metadata": {},
   "source": [
    "The shape of an array can be changed with various commands. Note that the following three commands all return a modified array, but do not change the original array:"
   ]
  },
  {
   "cell_type": "code",
   "execution_count": null,
   "id": "0146f942",
   "metadata": {},
   "outputs": [],
   "source": [
    "a.ravel()  # returns the array, flattened"
   ]
  },
  {
   "cell_type": "code",
   "execution_count": null,
   "id": "81d8c590",
   "metadata": {},
   "outputs": [],
   "source": [
    "a.reshape(6, 2)  # returns the array with a modified shape"
   ]
  },
  {
   "cell_type": "code",
   "execution_count": null,
   "id": "1b188f95",
   "metadata": {},
   "outputs": [],
   "source": [
    "a.T  # returns the array, transposed"
   ]
  },
  {
   "cell_type": "code",
   "execution_count": null,
   "id": "63b570d1",
   "metadata": {},
   "outputs": [],
   "source": [
    "a.T.shape"
   ]
  },
  {
   "cell_type": "code",
   "execution_count": null,
   "id": "9f86145f",
   "metadata": {},
   "outputs": [],
   "source": [
    "a.shape"
   ]
  },
  {
   "cell_type": "markdown",
   "id": "5510ba29",
   "metadata": {},
   "source": [
    "The order of the elements in the array resulting from ravel is normally “C-style”, that is, the rightmost index “changes the fastest”, so the element after a[0, 0] is a[0, 1]. If the array is reshaped to some other shape, again the array is treated as “C-style”. NumPy normally creates arrays stored in this order, so ravel will usually not need to copy its argument, but if the array was made by taking slices of another array or created with unusual options, it may need to be copied. The functions ravel and reshape can also be instructed, using an optional argument, to use FORTRAN-style arrays, in which the leftmost index changes the fastest.\n",
    "\n",
    "The reshape function returns its argument with a modified shape, whereas the ndarray.resize method modifies the array itself:"
   ]
  },
  {
   "cell_type": "code",
   "execution_count": null,
   "id": "d0d528bf",
   "metadata": {},
   "outputs": [],
   "source": [
    "a"
   ]
  },
  {
   "cell_type": "code",
   "execution_count": null,
   "id": "96dde636",
   "metadata": {},
   "outputs": [],
   "source": [
    "a.resize((2, 6))\n",
    "\n",
    "a"
   ]
  },
  {
   "cell_type": "markdown",
   "id": "870a80b1",
   "metadata": {},
   "source": [
    "If a dimension is given as -1 in a reshaping operation, the other dimensions are automatically calculated:"
   ]
  },
  {
   "cell_type": "code",
   "execution_count": null,
   "id": "f5b55f52",
   "metadata": {},
   "outputs": [],
   "source": [
    "a.reshape(3, -1)"
   ]
  },
  {
   "cell_type": "markdown",
   "id": "1876902c",
   "metadata": {},
   "source": [
    "## Stacking together different arrays\n",
    "\n",
    "Several arrays can be stacked together along different axes:"
   ]
  },
  {
   "cell_type": "code",
   "execution_count": null,
   "id": "b5a9e963",
   "metadata": {},
   "outputs": [],
   "source": [
    "a = np.floor(10 * rg.random((2, 2)))\n",
    "\n",
    "a"
   ]
  },
  {
   "cell_type": "code",
   "execution_count": null,
   "id": "dfa87b06",
   "metadata": {},
   "outputs": [],
   "source": [
    "b = np.floor(10 * rg.random((2, 2)))\n",
    "\n",
    "b"
   ]
  },
  {
   "cell_type": "code",
   "execution_count": null,
   "id": "a6905e67",
   "metadata": {},
   "outputs": [],
   "source": [
    "np.vstack((a, b))"
   ]
  },
  {
   "cell_type": "code",
   "execution_count": null,
   "id": "4eb093f1",
   "metadata": {},
   "outputs": [],
   "source": [
    "np.hstack((a, b))"
   ]
  },
  {
   "cell_type": "markdown",
   "id": "5a39ecdd",
   "metadata": {},
   "source": [
    "The function `column_stack` stacks 1D arrays as columns into a 2D array. It is equivalent to `hstack` only for 2D arrays:"
   ]
  },
  {
   "cell_type": "code",
   "execution_count": null,
   "id": "82e8148b",
   "metadata": {},
   "outputs": [],
   "source": [
    "from numpy import newaxis\n",
    "\n",
    "np.column_stack((a, b))  # with 2D arrays"
   ]
  },
  {
   "cell_type": "code",
   "execution_count": null,
   "id": "fce2ad11",
   "metadata": {},
   "outputs": [],
   "source": [
    "a = np.array([4., 2.])\n",
    "\n",
    "b = np.array([3., 8.])\n",
    "\n",
    "np.column_stack((a, b))  # returns a 2D array"
   ]
  },
  {
   "cell_type": "code",
   "execution_count": null,
   "id": "74e42457",
   "metadata": {},
   "outputs": [],
   "source": [
    "np.hstack((a, b))        # the result is different"
   ]
  },
  {
   "cell_type": "code",
   "execution_count": null,
   "id": "58e8d575",
   "metadata": {},
   "outputs": [],
   "source": [
    "a[:, newaxis]  # view `a` as a 2D column vector"
   ]
  },
  {
   "cell_type": "code",
   "execution_count": null,
   "id": "23632f8b",
   "metadata": {},
   "outputs": [],
   "source": [
    "np.column_stack((a[:, newaxis], b[:, newaxis]))"
   ]
  },
  {
   "cell_type": "code",
   "execution_count": null,
   "id": "46c9d383",
   "metadata": {},
   "outputs": [],
   "source": [
    "np.hstack((a[:, newaxis], b[:, newaxis]))  # the result is the same\n"
   ]
  },
  {
   "cell_type": "markdown",
   "id": "b4b477f7",
   "metadata": {},
   "source": [
    "On the other hand, the function `row_stack` is equivalent to `vstack` for any input arrays. In fact, `row_stack` is an alias for `vstack`:"
   ]
  },
  {
   "cell_type": "code",
   "execution_count": null,
   "id": "51caf4bf",
   "metadata": {},
   "outputs": [],
   "source": [
    "np.column_stack is np.hstack"
   ]
  },
  {
   "cell_type": "code",
   "execution_count": null,
   "id": "f4404680",
   "metadata": {},
   "outputs": [],
   "source": [
    "np.row_stack is np.vstack"
   ]
  },
  {
   "cell_type": "markdown",
   "id": "42ba5297",
   "metadata": {},
   "source": [
    "In general, for arrays with more than two dimensions, `hstack` stacks along their second axes, `vstack` stacks along their first axes, and concatenate allows for an optional arguments giving the number of the axis along which the concatenation should happen.\n",
    "\n",
    "**Note**\n",
    "\n",
    "In complex cases, `r_` and `c_` are useful for creating arrays by stacking numbers along one axis. They allow the use of range literals :."
   ]
  },
  {
   "cell_type": "code",
   "execution_count": null,
   "id": "557238f0",
   "metadata": {},
   "outputs": [],
   "source": [
    "np.r_[1:4, 0, 4]"
   ]
  },
  {
   "cell_type": "markdown",
   "id": "5db7201b",
   "metadata": {},
   "source": [
    "When used with arrays as arguments, `r_` and `c_` are similar to `vstack` and `hstack` in their default behavior, but allow for an optional argument giving the number of the axis along which to concatenate."
   ]
  },
  {
   "cell_type": "markdown",
   "id": "46d14ebf",
   "metadata": {},
   "source": [
    "## Splitting one array into several smaller ones\n",
    "\n",
    "Using `hsplit`, you can split an array along its horizontal axis, either by specifying the number of equally shaped arrays to return, or by specifying the columns after which the division should occur:"
   ]
  },
  {
   "cell_type": "code",
   "execution_count": null,
   "id": "06bf5993",
   "metadata": {},
   "outputs": [],
   "source": [
    "a = np.floor(10 * rg.random((2, 12)))\n",
    "\n",
    "a"
   ]
  },
  {
   "cell_type": "code",
   "execution_count": null,
   "id": "344b9fdd",
   "metadata": {},
   "outputs": [],
   "source": [
    "# Split `a` into 3\n",
    "\n",
    "np.hsplit(a, 3)"
   ]
  },
  {
   "cell_type": "code",
   "execution_count": null,
   "id": "3854c86c",
   "metadata": {},
   "outputs": [],
   "source": [
    "# Split `a` after the third and the fourth column\n",
    "\n",
    "np.hsplit(a, (3, 4))"
   ]
  },
  {
   "cell_type": "markdown",
   "id": "f4512e85",
   "metadata": {},
   "source": [
    "`vsplit` splits along the vertical axis, and `array_split` allows one to specify along which axis to split."
   ]
  },
  {
   "cell_type": "markdown",
   "id": "6bf6519b",
   "metadata": {},
   "source": [
    "## Copies and Views\n",
    "\n",
    "When operating and manipulating arrays, their data is sometimes copied into a new array and sometimes not. This is often a source of confusion for beginners. There are three cases:\n",
    "\n",
    "### No Copy at All\n",
    "\n",
    "Simple assignments make no copy of objects or their data."
   ]
  },
  {
   "cell_type": "code",
   "execution_count": null,
   "id": "5972650b",
   "metadata": {},
   "outputs": [],
   "source": [
    "a = np.array([[ 0,  1,  2,  3],\n",
    "\n",
    "              [ 4,  5,  6,  7],\n",
    "\n",
    "              [ 8,  9, 10, 11]])\n",
    "\n",
    "b = a            # no new object is created\n",
    "\n",
    "b is a           # a and b are two names for the same ndarray object"
   ]
  },
  {
   "cell_type": "markdown",
   "id": "a9981314",
   "metadata": {},
   "source": [
    "Python passes mutable objects as references, so function calls make no copy."
   ]
  },
  {
   "cell_type": "code",
   "execution_count": null,
   "id": "3b5f7c69",
   "metadata": {},
   "outputs": [],
   "source": [
    "def f(x):\n",
    "\n",
    "    print(id(x))\n",
    "\n",
    "\n",
    "id(a)  # id is a unique identifier of an object "
   ]
  },
  {
   "cell_type": "code",
   "execution_count": null,
   "id": "400f6e73",
   "metadata": {},
   "outputs": [],
   "source": [
    "f(a)   "
   ]
  },
  {
   "cell_type": "markdown",
   "id": "b040fd4a",
   "metadata": {},
   "source": [
    "### View or Shallow Copy\n",
    "\n",
    "Different array objects can share the same data. The view method creates a new array object that looks at the same data."
   ]
  },
  {
   "cell_type": "code",
   "execution_count": null,
   "id": "55a08df8",
   "metadata": {},
   "outputs": [],
   "source": [
    "c = a.view()\n",
    "\n",
    "c is a"
   ]
  },
  {
   "cell_type": "code",
   "execution_count": null,
   "id": "5d5d6b3b",
   "metadata": {},
   "outputs": [],
   "source": [
    "c.base is a            # c is a view of the data owned by a"
   ]
  },
  {
   "cell_type": "code",
   "execution_count": null,
   "id": "74b30045",
   "metadata": {},
   "outputs": [],
   "source": [
    "c.flags.owndata"
   ]
  },
  {
   "cell_type": "code",
   "execution_count": null,
   "id": "44e80540",
   "metadata": {},
   "outputs": [],
   "source": [
    "c = c.reshape((2, 6))  # a's shape doesn't change\n",
    "\n",
    "a.shape"
   ]
  },
  {
   "cell_type": "code",
   "execution_count": null,
   "id": "74a6b90d",
   "metadata": {},
   "outputs": [],
   "source": [
    "c[0, 4] = 1234         # a's data changes\n",
    "\n",
    "a"
   ]
  },
  {
   "cell_type": "markdown",
   "id": "0eb8bdb6",
   "metadata": {},
   "source": [
    "Slicing an array returns a view of it:"
   ]
  },
  {
   "cell_type": "code",
   "execution_count": null,
   "id": "53670d43",
   "metadata": {},
   "outputs": [],
   "source": [
    "s = a[:, 1:3]\n",
    "\n",
    "s[:] = 10  # s[:] is a view of s. Note the difference between s = 10 and s[:] = 10\n",
    "\n",
    "a"
   ]
  },
  {
   "cell_type": "markdown",
   "id": "46368a1f",
   "metadata": {},
   "source": [
    "### Deep Copy\n",
    "\n",
    "The copy method makes a complete copy of the array and its data."
   ]
  },
  {
   "cell_type": "code",
   "execution_count": null,
   "id": "cd76934c",
   "metadata": {},
   "outputs": [],
   "source": [
    "d = a.copy()  # a new array object with new data is created\n",
    "\n",
    "d is a"
   ]
  },
  {
   "cell_type": "code",
   "execution_count": null,
   "id": "0b4d4218",
   "metadata": {},
   "outputs": [],
   "source": [
    "d.base is a  # d doesn't share anything with a"
   ]
  },
  {
   "cell_type": "code",
   "execution_count": null,
   "id": "c0ee1821",
   "metadata": {},
   "outputs": [],
   "source": [
    "d[0, 0] = 9999\n",
    "\n",
    "a"
   ]
  },
  {
   "cell_type": "markdown",
   "id": "18d3bb32",
   "metadata": {},
   "source": [
    "Sometimes copy should be called after slicing if the original array is not required anymore. For example, suppose a is a huge intermediate result and the final result b only contains a small fraction of a, a deep copy should be made when constructing b with slicing:"
   ]
  },
  {
   "cell_type": "code",
   "execution_count": null,
   "id": "a1f7dadc",
   "metadata": {},
   "outputs": [],
   "source": [
    "a = np.arange(int(1e8))\n",
    "\n",
    "b = a[:100].copy()\n",
    "\n",
    "del a  # the memory of ``a`` can be released."
   ]
  },
  {
   "cell_type": "markdown",
   "id": "eafe36b9",
   "metadata": {},
   "source": [
    "If `b = a[:100]` is used instead, a is referenced by b and will persist in memory even if del a is executed."
   ]
  },
  {
   "cell_type": "markdown",
   "id": "5067b70a",
   "metadata": {},
   "source": [
    "\n",
    "\n",
    "## Functions and Methods Overview\n",
    "\n",
    "<p>Here is a list of some useful NumPy functions and methods names\n",
    "ordered in categories. See <a class=\"reference internal\" href=\"https://numpy.org/devdocs/reference/routines.html#routines\"><span class=\"std std-ref\">Routines</span></a> for the full list.</p>\n",
    "<dl class=\"simple\">\n",
    "<dt>Array Creation</dt><dd><p><a class=\"reference internal\" href=\"https://numpy.org/devdocs/reference/generated/numpy.arange.html#numpy.arange\" title=\"numpy.arange\"><code class=\"xref py py-obj docutils literal notranslate\"><span class=\"pre\">arange</span></code></a>,\n",
    "<a class=\"reference internal\" href=\"https://numpy.org/devdocs/reference/generated/numpy.array.html#numpy.array\" title=\"numpy.array\"><code class=\"xref py py-obj docutils literal notranslate\"><span class=\"pre\">array</span></code></a>,\n",
    "<a class=\"reference internal\" href=\"https://numpy.org/devdocs/reference/generated/numpy.copy.html#numpy.copy\" title=\"numpy.copy\"><code class=\"xref py py-obj docutils literal notranslate\"><span class=\"pre\">copy</span></code></a>,\n",
    "<a class=\"reference internal\" href=\"https://numpy.org/devdocs/reference/generated/numpy.empty.html#numpy.empty\" title=\"numpy.empty\"><code class=\"xref py py-obj docutils literal notranslate\"><span class=\"pre\">empty</span></code></a>,\n",
    "<a class=\"reference internal\" href=\"https://numpy.org/devdocs/reference/generated/numpy.empty_like.html#numpy.empty_like\" title=\"numpy.empty_like\"><code class=\"xref py py-obj docutils literal notranslate\"><span class=\"pre\">empty_like</span></code></a>,\n",
    "<a class=\"reference internal\" href=\"https://numpy.org/devdocs/reference/generated/numpy.eye.html#numpy.eye\" title=\"numpy.eye\"><code class=\"xref py py-obj docutils literal notranslate\"><span class=\"pre\">eye</span></code></a>,\n",
    "<a class=\"reference internal\" href=\"https://numpy.org/devdocs/reference/generated/numpy.fromfile.html#numpy.fromfile\" title=\"numpy.fromfile\"><code class=\"xref py py-obj docutils literal notranslate\"><span class=\"pre\">fromfile</span></code></a>,\n",
    "<a class=\"reference internal\" href=\"https://numpy.org/devdocs/reference/generated/numpy.fromfunction.html#numpy.fromfunction\" title=\"numpy.fromfunction\"><code class=\"xref py py-obj docutils literal notranslate\"><span class=\"pre\">fromfunction</span></code></a>,\n",
    "<a class=\"reference internal\" href=\"https://numpy.org/devdocs/reference/generated/numpy.identity.html#numpy.identity\" title=\"numpy.identity\"><code class=\"xref py py-obj docutils literal notranslate\"><span class=\"pre\">identity</span></code></a>,\n",
    "<a class=\"reference internal\" href=\"https://numpy.org/devdocs/reference/generated/numpy.linspace.html#numpy.linspace\" title=\"numpy.linspace\"><code class=\"xref py py-obj docutils literal notranslate\"><span class=\"pre\">linspace</span></code></a>,\n",
    "<a class=\"reference internal\" href=\"https://numpy.org/devdocs/reference/generated/numpy.logspace.html#numpy.logspace\" title=\"numpy.logspace\"><code class=\"xref py py-obj docutils literal notranslate\"><span class=\"pre\">logspace</span></code></a>,\n",
    "<a class=\"reference internal\" href=\"https://numpy.org/devdocs/reference/generated/numpy.mgrid.html#numpy.mgrid\" title=\"numpy.mgrid\"><code class=\"xref py py-obj docutils literal notranslate\"><span class=\"pre\">mgrid</span></code></a>,\n",
    "<a class=\"reference internal\" href=\"https://numpy.org/devdocs/reference/generated/numpy.ogrid.html#numpy.ogrid\" title=\"numpy.ogrid\"><code class=\"xref py py-obj docutils literal notranslate\"><span class=\"pre\">ogrid</span></code></a>,\n",
    "<a class=\"reference internal\" href=\"https://numpy.org/devdocs/reference/generated/numpy.ones.html#numpy.ones\" title=\"numpy.ones\"><code class=\"xref py py-obj docutils literal notranslate\"><span class=\"pre\">ones</span></code></a>,\n",
    "<a class=\"reference internal\" href=\"https://numpy.org/devdocs/reference/generated/numpy.ones_like.html#numpy.ones_like\" title=\"numpy.ones_like\"><code class=\"xref py py-obj docutils literal notranslate\"><span class=\"pre\">ones_like</span></code></a>,\n",
    "<a class=\"reference internal\" href=\"https://numpy.org/devdocs/reference/generated/numpy.r_.html#numpy.r_\" title=\"numpy.r_\"><code class=\"xref py py-obj docutils literal notranslate\"><span class=\"pre\">r_</span></code></a>,\n",
    "<a class=\"reference internal\" href=\"https://numpy.org/devdocs/reference/generated/numpy.zeros.html#numpy.zeros\" title=\"numpy.zeros\"><code class=\"xref py py-obj docutils literal notranslate\"><span class=\"pre\">zeros</span></code></a>,\n",
    "<a class=\"reference internal\" href=\"https://numpy.org/devdocs/reference/generated/numpy.zeros_like.html#numpy.zeros_like\" title=\"numpy.zeros_like\"><code class=\"xref py py-obj docutils literal notranslate\"><span class=\"pre\">zeros_like</span></code></a></p>\n",
    "</dd>\n",
    "<dt>Conversions</dt><dd><p><a class=\"reference internal\" href=\"https://numpy.org/devdocs/reference/generated/numpy.ndarray.astype.html#numpy.ndarray.astype\" title=\"numpy.ndarray.astype\"><code class=\"xref py py-obj docutils literal notranslate\"><span class=\"pre\">ndarray.astype</span></code></a>,\n",
    "<a class=\"reference internal\" href=\"https://numpy.org/devdocs/reference/generated/numpy.atleast_1d.html#numpy.atleast_1d\" title=\"numpy.atleast_1d\"><code class=\"xref py py-obj docutils literal notranslate\"><span class=\"pre\">atleast_1d</span></code></a>,\n",
    "<a class=\"reference internal\" href=\"https://numpy.org/devdocs/reference/generated/numpy.atleast_2d.html#numpy.atleast_2d\" title=\"numpy.atleast_2d\"><code class=\"xref py py-obj docutils literal notranslate\"><span class=\"pre\">atleast_2d</span></code></a>,\n",
    "<a class=\"reference internal\" href=\"https://numpy.org/devdocs/reference/generated/numpy.atleast_3d.html#numpy.atleast_3d\" title=\"numpy.atleast_3d\"><code class=\"xref py py-obj docutils literal notranslate\"><span class=\"pre\">atleast_3d</span></code></a>,\n",
    "<a class=\"reference internal\" href=\"https://numpy.org/devdocs/reference/generated/numpy.mat.html#numpy.mat\" title=\"numpy.mat\"><code class=\"xref py py-obj docutils literal notranslate\"><span class=\"pre\">mat</span></code></a></p>\n",
    "</dd>\n",
    "<dt>Manipulations</dt><dd><p><a class=\"reference internal\" href=\"https://numpy.org/devdocs/reference/generated/numpy.array_split.html#numpy.array_split\" title=\"numpy.array_split\"><code class=\"xref py py-obj docutils literal notranslate\"><span class=\"pre\">array_split</span></code></a>,\n",
    "<a class=\"reference internal\" href=\"https://numpy.org/devdocs/reference/generated/numpy.column_stack.html#numpy.column_stack\" title=\"numpy.column_stack\"><code class=\"xref py py-obj docutils literal notranslate\"><span class=\"pre\">column_stack</span></code></a>,\n",
    "<a class=\"reference internal\" href=\"https://numpy.org/devdocs/reference/generated/numpy.concatenate.html#numpy.concatenate\" title=\"numpy.concatenate\"><code class=\"xref py py-obj docutils literal notranslate\"><span class=\"pre\">concatenate</span></code></a>,\n",
    "<a class=\"reference internal\" href=\"https://numpy.org/devdocs/reference/generated/numpy.diagonal.html#numpy.diagonal\" title=\"numpy.diagonal\"><code class=\"xref py py-obj docutils literal notranslate\"><span class=\"pre\">diagonal</span></code></a>,\n",
    "<a class=\"reference internal\" href=\"https://numpy.org/devdocs/reference/generated/numpy.dsplit.html#numpy.dsplit\" title=\"numpy.dsplit\"><code class=\"xref py py-obj docutils literal notranslate\"><span class=\"pre\">dsplit</span></code></a>,\n",
    "<a class=\"reference internal\" href=\"https://numpy.org/devdocs/reference/generated/numpy.dstack.html#numpy.dstack\" title=\"numpy.dstack\"><code class=\"xref py py-obj docutils literal notranslate\"><span class=\"pre\">dstack</span></code></a>,\n",
    "<a class=\"reference internal\" href=\"https://numpy.org/devdocs/reference/generated/numpy.hsplit.html#numpy.hsplit\" title=\"numpy.hsplit\"><code class=\"xref py py-obj docutils literal notranslate\"><span class=\"pre\">hsplit</span></code></a>,\n",
    "<a class=\"reference internal\" href=\"https://numpy.org/devdocs/reference/generated/numpy.hstack.html#numpy.hstack\" title=\"numpy.hstack\"><code class=\"xref py py-obj docutils literal notranslate\"><span class=\"pre\">hstack</span></code></a>,\n",
    "<a class=\"reference internal\" href=\"https://numpy.org/devdocs/reference/generated/numpy.ndarray.item.html#numpy.ndarray.item\" title=\"numpy.ndarray.item\"><code class=\"xref py py-obj docutils literal notranslate\"><span class=\"pre\">ndarray.item</span></code></a>,\n",
    "<a class=\"reference internal\" href=\"https://numpy.org/devdocs/reference/constants.html#numpy.newaxis\" title=\"numpy.newaxis\"><code class=\"xref py py-obj docutils literal notranslate\"><span class=\"pre\">newaxis</span></code></a>,\n",
    "<a class=\"reference internal\" href=\"https://numpy.org/devdocs/reference/generated/numpy.ravel.html#numpy.ravel\" title=\"numpy.ravel\"><code class=\"xref py py-obj docutils literal notranslate\"><span class=\"pre\">ravel</span></code></a>,\n",
    "<a class=\"reference internal\" href=\"https://numpy.org/devdocs/reference/generated/numpy.repeat.html#numpy.repeat\" title=\"numpy.repeat\"><code class=\"xref py py-obj docutils literal notranslate\"><span class=\"pre\">repeat</span></code></a>,\n",
    "<a class=\"reference internal\" href=\"https://numpy.org/devdocs/reference/generated/numpy.reshape.html#numpy.reshape\" title=\"numpy.reshape\"><code class=\"xref py py-obj docutils literal notranslate\"><span class=\"pre\">reshape</span></code></a>,\n",
    "<a class=\"reference internal\" href=\"https://numpy.org/devdocs/reference/generated/numpy.resize.html#numpy.resize\" title=\"numpy.resize\"><code class=\"xref py py-obj docutils literal notranslate\"><span class=\"pre\">resize</span></code></a>,\n",
    "<a class=\"reference internal\" href=\"https://numpy.org/devdocs/reference/generated/numpy.squeeze.html#numpy.squeeze\" title=\"numpy.squeeze\"><code class=\"xref py py-obj docutils literal notranslate\"><span class=\"pre\">squeeze</span></code></a>,\n",
    "<a class=\"reference internal\" href=\"https://numpy.org/devdocs/reference/generated/numpy.swapaxes.html#numpy.swapaxes\" title=\"numpy.swapaxes\"><code class=\"xref py py-obj docutils literal notranslate\"><span class=\"pre\">swapaxes</span></code></a>,\n",
    "<a class=\"reference internal\" href=\"https://numpy.org/devdocs/reference/generated/numpy.take.html#numpy.take\" title=\"numpy.take\"><code class=\"xref py py-obj docutils literal notranslate\"><span class=\"pre\">take</span></code></a>,\n",
    "<a class=\"reference internal\" href=\"https://numpy.org/devdocs/reference/generated/numpy.transpose.html#numpy.transpose\" title=\"numpy.transpose\"><code class=\"xref py py-obj docutils literal notranslate\"><span class=\"pre\">transpose</span></code></a>,\n",
    "<a class=\"reference internal\" href=\"https://numpy.org/devdocs/reference/generated/numpy.vsplit.html#numpy.vsplit\" title=\"numpy.vsplit\"><code class=\"xref py py-obj docutils literal notranslate\"><span class=\"pre\">vsplit</span></code></a>,\n",
    "<a class=\"reference internal\" href=\"https://numpy.org/devdocs/reference/generated/numpy.vstack.html#numpy.vstack\" title=\"numpy.vstack\"><code class=\"xref py py-obj docutils literal notranslate\"><span class=\"pre\">vstack</span></code></a></p>\n",
    "</dd>\n",
    "<dt>Questions</dt><dd><p><a class=\"reference internal\" href=\"https://numpy.org/devdocs/reference/generated/numpy.all.html#numpy.all\" title=\"numpy.all\"><code class=\"xref py py-obj docutils literal notranslate\"><span class=\"pre\">all</span></code></a>,\n",
    "<a class=\"reference internal\" href=\"https://numpy.org/devdocs/reference/generated/numpy.any.html#numpy.any\" title=\"numpy.any\"><code class=\"xref py py-obj docutils literal notranslate\"><span class=\"pre\">any</span></code></a>,\n",
    "<a class=\"reference internal\" href=\"https://numpy.org/devdocs/reference/generated/numpy.nonzero.html#numpy.nonzero\" title=\"numpy.nonzero\"><code class=\"xref py py-obj docutils literal notranslate\"><span class=\"pre\">nonzero</span></code></a>,\n",
    "<a class=\"reference internal\" href=\"https://numpy.org/devdocs/reference/generated/numpy.where.html#numpy.where\" title=\"numpy.where\"><code class=\"xref py py-obj docutils literal notranslate\"><span class=\"pre\">where</span></code></a></p>\n",
    "</dd>\n",
    "<dt>Ordering</dt><dd><p><a class=\"reference internal\" href=\"https://numpy.org/devdocs/reference/generated/numpy.argmax.html#numpy.argmax\" title=\"numpy.argmax\"><code class=\"xref py py-obj docutils literal notranslate\"><span class=\"pre\">argmax</span></code></a>,\n",
    "<a class=\"reference internal\" href=\"https://numpy.org/devdocs/reference/generated/numpy.argmin.html#numpy.argmin\" title=\"numpy.argmin\"><code class=\"xref py py-obj docutils literal notranslate\"><span class=\"pre\">argmin</span></code></a>,\n",
    "<a class=\"reference internal\" href=\"https://numpy.org/devdocs/reference/generated/numpy.argsort.html#numpy.argsort\" title=\"numpy.argsort\"><code class=\"xref py py-obj docutils literal notranslate\"><span class=\"pre\">argsort</span></code></a>,\n",
    "<a class=\"reference external\" href=\"https://docs.python.org/3/library/functions.html#max\" title=\"(in Python v3.10)\"><code class=\"xref py py-obj docutils literal notranslate\"><span class=\"pre\">max</span></code></a>,\n",
    "<a class=\"reference external\" href=\"https://docs.python.org/3/library/functions.html#min\" title=\"(in Python v3.10)\"><code class=\"xref py py-obj docutils literal notranslate\"><span class=\"pre\">min</span></code></a>,\n",
    "<a class=\"reference internal\" href=\"https://numpy.org/devdocs/reference/generated/numpy.ptp.html#numpy.ptp\" title=\"numpy.ptp\"><code class=\"xref py py-obj docutils literal notranslate\"><span class=\"pre\">ptp</span></code></a>,\n",
    "<a class=\"reference internal\" href=\"https://numpy.org/devdocs/reference/generated/numpy.searchsorted.html#numpy.searchsorted\" title=\"numpy.searchsorted\"><code class=\"xref py py-obj docutils literal notranslate\"><span class=\"pre\">searchsorted</span></code></a>,\n",
    "<a class=\"reference internal\" href=\"https://numpy.org/devdocs/reference/generated/numpy.sort.html#numpy.sort\" title=\"numpy.sort\"><code class=\"xref py py-obj docutils literal notranslate\"><span class=\"pre\">sort</span></code></a></p>\n",
    "</dd>\n",
    "<dt>Operations</dt><dd><p><a class=\"reference internal\" href=\"https://numpy.org/devdocs/reference/generated/numpy.choose.html#numpy.choose\" title=\"numpy.choose\"><code class=\"xref py py-obj docutils literal notranslate\"><span class=\"pre\">choose</span></code></a>,\n",
    "<a class=\"reference internal\" href=\"https://numpy.org/devdocs/reference/generated/numpy.compress.html#numpy.compress\" title=\"numpy.compress\"><code class=\"xref py py-obj docutils literal notranslate\"><span class=\"pre\">compress</span></code></a>,\n",
    "<a class=\"reference internal\" href=\"https://numpy.org/devdocs/reference/generated/numpy.cumprod.html#numpy.cumprod\" title=\"numpy.cumprod\"><code class=\"xref py py-obj docutils literal notranslate\"><span class=\"pre\">cumprod</span></code></a>,\n",
    "<a class=\"reference internal\" href=\"https://numpy.org/devdocs/reference/generated/numpy.cumsum.html#numpy.cumsum\" title=\"numpy.cumsum\"><code class=\"xref py py-obj docutils literal notranslate\"><span class=\"pre\">cumsum</span></code></a>,\n",
    "<a class=\"reference internal\" href=\"https://numpy.org/devdocs/reference/generated/numpy.inner.html#numpy.inner\" title=\"numpy.inner\"><code class=\"xref py py-obj docutils literal notranslate\"><span class=\"pre\">inner</span></code></a>,\n",
    "<a class=\"reference internal\" href=\"https://numpy.org/devdocs/reference/generated/numpy.ndarray.fill.html#numpy.ndarray.fill\" title=\"numpy.ndarray.fill\"><code class=\"xref py py-obj docutils literal notranslate\"><span class=\"pre\">ndarray.fill</span></code></a>,\n",
    "<a class=\"reference internal\" href=\"https://numpy.org/devdocs/reference/generated/numpy.imag.html#numpy.imag\" title=\"numpy.imag\"><code class=\"xref py py-obj docutils literal notranslate\"><span class=\"pre\">imag</span></code></a>,\n",
    "<a class=\"reference internal\" href=\"https://numpy.org/devdocs/reference/generated/numpy.prod.html#numpy.prod\" title=\"numpy.prod\"><code class=\"xref py py-obj docutils literal notranslate\"><span class=\"pre\">prod</span></code></a>,\n",
    "<a class=\"reference internal\" href=\"https://numpy.org/devdocs/reference/generated/numpy.put.html#numpy.put\" title=\"numpy.put\"><code class=\"xref py py-obj docutils literal notranslate\"><span class=\"pre\">put</span></code></a>,\n",
    "<a class=\"reference internal\" href=\"https://numpy.org/devdocs/reference/generated/numpy.putmask.html#numpy.putmask\" title=\"numpy.putmask\"><code class=\"xref py py-obj docutils literal notranslate\"><span class=\"pre\">putmask</span></code></a>,\n",
    "<a class=\"reference internal\" href=\"https://numpy.org/devdocs/reference/generated/numpy.real.html#numpy.real\" title=\"numpy.real\"><code class=\"xref py py-obj docutils literal notranslate\"><span class=\"pre\">real</span></code></a>,\n",
    "<a class=\"reference internal\" href=\"https://numpy.org/devdocs/reference/generated/numpy.sum.html#numpy.sum\" title=\"numpy.sum\"><code class=\"xref py py-obj docutils literal notranslate\"><span class=\"pre\">sum</span></code></a></p>\n",
    "</dd>\n",
    "<dt>Basic Statistics</dt><dd><p><a class=\"reference internal\" href=\"https://numpy.org/devdocs/reference/generated/numpy.cov.html#numpy.cov\" title=\"numpy.cov\"><code class=\"xref py py-obj docutils literal notranslate\"><span class=\"pre\">cov</span></code></a>,\n",
    "<a class=\"reference internal\" href=\"https://numpy.org/devdocs/reference/generated/numpy.mean.html#numpy.mean\" title=\"numpy.mean\"><code class=\"xref py py-obj docutils literal notranslate\"><span class=\"pre\">mean</span></code></a>,\n",
    "<a class=\"reference internal\" href=\"https://numpy.org/devdocs/reference/generated/numpy.std.html#numpy.std\" title=\"numpy.std\"><code class=\"xref py py-obj docutils literal notranslate\"><span class=\"pre\">std</span></code></a>,\n",
    "<a class=\"reference internal\" href=\"https://numpy.org/devdocs/reference/generated/numpy.var.html#numpy.var\" title=\"numpy.var\"><code class=\"xref py py-obj docutils literal notranslate\"><span class=\"pre\">var</span></code></a></p>\n",
    "</dd>\n",
    "<dt>Basic Linear Algebra</dt><dd><p><a class=\"reference internal\" href=\"https://numpy.org/devdocs/reference/generated/numpy.cross.html#numpy.cross\" title=\"numpy.cross\"><code class=\"xref py py-obj docutils literal notranslate\"><span class=\"pre\">cross</span></code></a>,\n",
    "<a class=\"reference internal\" href=\"https://numpy.org/devdocs/reference/generated/numpy.dot.html#numpy.dot\" title=\"numpy.dot\"><code class=\"xref py py-obj docutils literal notranslate\"><span class=\"pre\">dot</span></code></a>,\n",
    "<a class=\"reference internal\" href=\"https://numpy.org/devdocs/reference/generated/numpy.outer.html#numpy.outer\" title=\"numpy.outer\"><code class=\"xref py py-obj docutils literal notranslate\"><span class=\"pre\">outer</span></code></a>,\n",
    "<a class=\"reference internal\" href=\"https://numpy.org/devdocs/reference/generated/numpy.linalg.svd.html#numpy.linalg.svd\" title=\"numpy.linalg.svd\"><code class=\"xref py py-obj docutils literal notranslate\"><span class=\"pre\">linalg.svd</span></code></a>,\n",
    "<a class=\"reference internal\" href=\"https://numpy.org/devdocs/reference/generated/numpy.vdot.html#numpy.vdot\" title=\"numpy.vdot\"><code class=\"xref py py-obj docutils literal notranslate\"><span class=\"pre\">vdot</span></code></a></p>\n",
    "</dd>\n",
    "</dl>\n"
   ]
  },
  {
   "cell_type": "markdown",
   "id": "4c6c895b",
   "metadata": {},
   "source": [
    "## Less Basic\n",
    "### Broadcasting rules\n",
    "\n",
    "Broadcasting allows universal functions to deal in a meaningful way with inputs that do not have exactly the same shape.\n",
    "\n",
    "The first rule of broadcasting is that if all input arrays do not have the same number of dimensions, a “1” will be repeatedly prepended to the shapes of the smaller arrays until all the arrays have the same number of dimensions.\n",
    "\n",
    "The second rule of broadcasting ensures that arrays with a size of 1 along a particular dimension act as if they had the size of the array with the largest shape along that dimension. The value of the array element is assumed to be the same along that dimension for the “broadcast” array.\n",
    "\n",
    "After application of the broadcasting rules, the sizes of all arrays must match. More details can be found in Broadcasting.\n",
    "\n",
    "## Advanced indexing and index tricks\n",
    "\n",
    "NumPy offers more indexing facilities than regular Python sequences. In addition to indexing by integers and slices, as we saw before, arrays can be indexed by arrays of integers and arrays of booleans.\n",
    "\n",
    "### Indexing with Arrays of Indices¶"
   ]
  },
  {
   "cell_type": "code",
   "execution_count": null,
   "id": "74903e89",
   "metadata": {},
   "outputs": [],
   "source": [
    "a = np.arange(12)**2  # the first 12 square numbers\n",
    "\n",
    "i = np.array([1, 1, 3, 8, 5])  # an array of indices\n",
    "\n",
    "a[i]  # the elements of `a` at the positions `i`"
   ]
  },
  {
   "cell_type": "code",
   "execution_count": null,
   "id": "70e27159",
   "metadata": {},
   "outputs": [],
   "source": [
    "j = np.array([[3, 4], [9, 7]])  # a bidimensional array of indices\n",
    "\n",
    "a[j]  # the same shape as `j`"
   ]
  },
  {
   "cell_type": "markdown",
   "id": "94783cc3",
   "metadata": {},
   "source": [
    "When the indexed array a is multidimensional, a single array of indices refers to the first dimension of a. The following example shows this behavior by converting an image of labels into a color image using a palette."
   ]
  },
  {
   "cell_type": "code",
   "execution_count": null,
   "id": "c0e58133",
   "metadata": {},
   "outputs": [],
   "source": [
    "palette = np.array([[0, 0, 0],         # black\n",
    "\n",
    "                    [255, 0, 0],       # red\n",
    "\n",
    "                    [0, 255, 0],       # green\n",
    "\n",
    "                    [0, 0, 255],       # blue\n",
    "\n",
    "                    [255, 255, 255]])  # white\n",
    "\n",
    "image = np.array([[0, 1, 2, 0],  # each value corresponds to a color in the palette\n",
    "\n",
    "                  [0, 3, 4, 0]])\n",
    "\n",
    "palette[image]  # the (2, 4, 3) color image\n"
   ]
  },
  {
   "cell_type": "markdown",
   "id": "ba40006f",
   "metadata": {},
   "source": [
    "We can also give indexes for more than one dimension. The arrays of indices for each dimension must have the same shape."
   ]
  },
  {
   "cell_type": "code",
   "execution_count": null,
   "id": "1be2a002",
   "metadata": {},
   "outputs": [],
   "source": [
    "a = np.arange(12).reshape(3, 4)\n",
    "\n",
    "a"
   ]
  },
  {
   "cell_type": "code",
   "execution_count": null,
   "id": "9d3fa74d",
   "metadata": {},
   "outputs": [],
   "source": [
    "i = np.array([[0, 1],  # indices for the first dim of `a`\n",
    "\n",
    "              [1, 2]])\n",
    "\n",
    "j = np.array([[2, 1],  # indices for the second dim\n",
    "\n",
    "              [3, 3]])\n",
    "\n",
    "\n",
    "a[i, j]  # i and j must have equal shape"
   ]
  },
  {
   "cell_type": "code",
   "execution_count": null,
   "id": "a8f1cc6e",
   "metadata": {},
   "outputs": [],
   "source": [
    "a[i, 2]"
   ]
  },
  {
   "cell_type": "code",
   "execution_count": null,
   "id": "36287e52",
   "metadata": {},
   "outputs": [],
   "source": [
    "a[:, j]"
   ]
  },
  {
   "cell_type": "markdown",
   "id": "182ad687",
   "metadata": {},
   "source": [
    "In Python, `arr[i, j]` is exactly the same as `arr[(i, j)]` —so we can put `i` and `j` in a tuple and then do the indexing with that."
   ]
  },
  {
   "cell_type": "code",
   "execution_count": null,
   "id": "c55483b6",
   "metadata": {},
   "outputs": [],
   "source": [
    "l = (i, j)\n",
    "\n",
    "# equivalent to a[i, j]\n",
    "\n",
    "a[l]"
   ]
  },
  {
   "cell_type": "markdown",
   "id": "42b0edaf",
   "metadata": {},
   "source": [
    "However, we can not do this by putting `i` and `j` into an array, because this array will be interpreted as indexing the first dimension of a."
   ]
  },
  {
   "cell_type": "code",
   "execution_count": null,
   "id": "37b894ac",
   "metadata": {},
   "outputs": [],
   "source": [
    "s = np.array([i, j])\n",
    "\n",
    "# not what we want\n",
    "\n",
    "a[s]"
   ]
  },
  {
   "cell_type": "markdown",
   "id": "f601ad76",
   "metadata": {},
   "source": [
    "Another common use of indexing with arrays is the search of the maximum value of time-dependent series:"
   ]
  },
  {
   "cell_type": "code",
   "execution_count": null,
   "id": "09779568",
   "metadata": {},
   "outputs": [],
   "source": [
    "time = np.linspace(20, 145, 5)  # time scale\n",
    "\n",
    "data = np.sin(np.arange(20)).reshape(5, 4)  # 4 time-dependent series\n",
    "\n",
    "time"
   ]
  },
  {
   "cell_type": "code",
   "execution_count": null,
   "id": "ca6da902",
   "metadata": {},
   "outputs": [],
   "source": [
    "data"
   ]
  },
  {
   "cell_type": "code",
   "execution_count": null,
   "id": "05e6d3c5",
   "metadata": {},
   "outputs": [],
   "source": [
    "# index of the maxima for each series\n",
    "\n",
    "ind = data.argmax(axis=0)"
   ]
  },
  {
   "cell_type": "code",
   "execution_count": null,
   "id": "22e03280",
   "metadata": {},
   "outputs": [],
   "source": [
    "ind"
   ]
  },
  {
   "cell_type": "code",
   "execution_count": null,
   "id": "4b89a2e3",
   "metadata": {},
   "outputs": [],
   "source": [
    "# times corresponding to the maxima\n",
    "\n",
    "time_max = time[ind]\n",
    "\n",
    "data_max = data[ind, range(data.shape[1])]  # => data[ind[0], 0], data[ind[1], 1]...\n",
    "\n",
    "time_max"
   ]
  },
  {
   "cell_type": "code",
   "execution_count": null,
   "id": "ea9c3d9c",
   "metadata": {},
   "outputs": [],
   "source": [
    "data_max"
   ]
  },
  {
   "cell_type": "code",
   "execution_count": null,
   "id": "5080d6e5",
   "metadata": {},
   "outputs": [],
   "source": [
    "np.all(data_max == data.max(axis=0))"
   ]
  },
  {
   "cell_type": "markdown",
   "id": "e232638e",
   "metadata": {},
   "source": [
    "You can also use indexing with arrays as a target to assign to:"
   ]
  },
  {
   "cell_type": "code",
   "execution_count": null,
   "id": "5317fb51",
   "metadata": {},
   "outputs": [],
   "source": [
    "a = np.arange(5)\n",
    "\n",
    "a"
   ]
  },
  {
   "cell_type": "code",
   "execution_count": null,
   "id": "5afe046c",
   "metadata": {},
   "outputs": [],
   "source": [
    "a[[1, 3, 4]] = 0\n",
    "\n",
    "a\n"
   ]
  },
  {
   "cell_type": "markdown",
   "id": "b7f14835",
   "metadata": {},
   "source": [
    "However, when the list of indices contains repetitions, the assignment is done several times, leaving behind the last value:"
   ]
  },
  {
   "cell_type": "code",
   "execution_count": null,
   "id": "225f010e",
   "metadata": {},
   "outputs": [],
   "source": [
    "a = np.arange(5)\n",
    "\n",
    "a[[0, 0, 2]] = [1, 2, 3] # on assigne 1 puis 2 à la position 0\n",
    "\n",
    "a\n"
   ]
  },
  {
   "cell_type": "markdown",
   "id": "242a13b1",
   "metadata": {},
   "source": [
    "This is reasonable enough, but watch out if you want to use Python’s += construct, as it may not do what you expect:"
   ]
  },
  {
   "cell_type": "code",
   "execution_count": null,
   "id": "8aeb1ca4",
   "metadata": {},
   "outputs": [],
   "source": [
    "a = np.arange(5)\n",
    "\n",
    "a[[0, 0, 2]] += 1\n",
    "\n",
    "a"
   ]
  },
  {
   "cell_type": "markdown",
   "id": "cc3591c1",
   "metadata": {},
   "source": [
    "Even though 0 occurs twice in the list of indices, the 0th element is only incremented once. This is because Python requires a += 1 to be equivalent to a = a + 1."
   ]
  },
  {
   "cell_type": "markdown",
   "id": "d7ee38e1",
   "metadata": {},
   "source": [
    "### Indexing with Boolean Arrays\n",
    "\n",
    "When we index arrays with arrays of (integer) indices we are providing the list of indices to pick. With boolean indices the approach is different; we explicitly choose which items in the array we want and which ones we don’t.\n",
    "\n",
    "The most natural way one can think of for boolean indexing is to use boolean arrays that have the same shape as the original array:"
   ]
  },
  {
   "cell_type": "code",
   "execution_count": null,
   "id": "230d230a",
   "metadata": {},
   "outputs": [],
   "source": [
    "a = np.arange(12).reshape(3, 4)\n",
    "\n",
    "b = a > 4\n",
    "\n",
    "b  # `b` is a boolean with `a`'s shape"
   ]
  },
  {
   "cell_type": "code",
   "execution_count": null,
   "id": "6b4ba41d",
   "metadata": {},
   "outputs": [],
   "source": [
    "a[b]  # 1d array with the selected elements"
   ]
  },
  {
   "cell_type": "markdown",
   "id": "90701e4a",
   "metadata": {},
   "source": [
    "This property can be very useful in assignments:"
   ]
  },
  {
   "cell_type": "code",
   "execution_count": null,
   "id": "63859fbd",
   "metadata": {},
   "outputs": [],
   "source": [
    "a[b] = 0  # All elements of `a` higher than 4 become 0\n",
    "\n",
    "a"
   ]
  },
  {
   "cell_type": "markdown",
   "id": "391d7d43",
   "metadata": {},
   "source": [
    "You can look at the following example to see how to use boolean indexing to generate an image of the Mandelbrot set:"
   ]
  },
  {
   "cell_type": "code",
   "execution_count": null,
   "id": "3669d37b",
   "metadata": {},
   "outputs": [],
   "source": [
    "import numpy as np\n",
    "\n",
    "import matplotlib.pyplot as plt\n",
    "\n",
    "\n",
    "def mandelbrot(h, w, maxit=20, r=2):\n",
    "    \"\"\"Returns an image of the Mandelbrot fractal of size (h,w).\"\"\"\n",
    "\n",
    "    x = np.linspace(-2.5, 1.5, 4 * h + 1)\n",
    "\n",
    "    y = np.linspace(-1.5, 1.5, 3 * w + 1)\n",
    "\n",
    "    A, B = np.meshgrid(x, y)\n",
    "\n",
    "    C = A + B * 1j\n",
    "\n",
    "    z = np.zeros_like(C)\n",
    "\n",
    "    divtime = maxit + np.zeros(z.shape, dtype=int)\n",
    "\n",
    "    for i in range(maxit):\n",
    "\n",
    "        z = z**2 + C\n",
    "\n",
    "        diverge = abs(z) > r  # who is diverging\n",
    "\n",
    "        div_now = diverge & (divtime == maxit)  # who is diverging now\n",
    "\n",
    "        divtime[div_now] = i  # note when\n",
    "\n",
    "        z[diverge] = r  # avoid diverging too much\n",
    "\n",
    "    return divtime\n",
    "\n",
    "\n",
    "plt.clf()\n",
    "\n",
    "plt.imshow(mandelbrot(400, 400))\n",
    "plt.show()"
   ]
  },
  {
   "cell_type": "markdown",
   "id": "9868eab4",
   "metadata": {},
   "source": [
    "The second way of indexing with booleans is more similar to integer indexing; for each dimension of the array we give a 1D boolean array selecting the slices we want:"
   ]
  },
  {
   "cell_type": "code",
   "execution_count": null,
   "id": "06a42808",
   "metadata": {},
   "outputs": [],
   "source": [
    "a = np.arange(12).reshape(3, 4)\n",
    "\n",
    "b1 = np.array([False, True, True])         # first dim selection\n",
    "\n",
    "b2 = np.array([True, False, True, False])  # second dim selection\n",
    "\n",
    "\n",
    "a[b1, :]     # selecting rows"
   ]
  },
  {
   "cell_type": "code",
   "execution_count": null,
   "id": "adf519c1",
   "metadata": {},
   "outputs": [],
   "source": [
    "a[b1]                                      # same thing"
   ]
  },
  {
   "cell_type": "code",
   "execution_count": null,
   "id": "90ce031e",
   "metadata": {},
   "outputs": [],
   "source": [
    "a[:, b2]                                   # selecting columns"
   ]
  },
  {
   "cell_type": "code",
   "execution_count": null,
   "id": "33459649",
   "metadata": {},
   "outputs": [],
   "source": [
    "a[b1, b2]                                  # a weird thing to do"
   ]
  },
  {
   "cell_type": "markdown",
   "id": "2ae9ba3c",
   "metadata": {},
   "source": [
    "Note that the length of the 1D boolean array must coincide with the length of the dimension (or axis) you want to slice. In the previous example, b1 has length 3 (the number of rows in a), and b2 (of length 4) is suitable to index the 2nd axis (columns) of a.\n",
    "\n",
    "### The ix_() function\n",
    "\n",
    "The ix_ function can be used to combine different vectors so as to obtain the result for each n-uplet. For example, if you want to compute all the a+b*c for all the triplets taken from each of the vectors a, b and c:"
   ]
  },
  {
   "cell_type": "code",
   "execution_count": null,
   "id": "2f09241d",
   "metadata": {},
   "outputs": [],
   "source": [
    "a = np.array([2, 3, 4, 5])\n",
    "\n",
    "b = np.array([8, 5, 4])\n",
    "\n",
    "c = np.array([5, 4, 6, 8, 3])\n",
    "\n",
    "ax, bx, cx = np.ix_(a, b, c)\n",
    "\n",
    "ax"
   ]
  },
  {
   "cell_type": "code",
   "execution_count": null,
   "id": "86f9f75c",
   "metadata": {},
   "outputs": [],
   "source": [
    "bx"
   ]
  },
  {
   "cell_type": "code",
   "execution_count": null,
   "id": "e4a7622e",
   "metadata": {},
   "outputs": [],
   "source": [
    "cx"
   ]
  },
  {
   "cell_type": "code",
   "execution_count": null,
   "id": "89929ecc",
   "metadata": {},
   "outputs": [],
   "source": [
    "ax.shape, bx.shape, cx.shape"
   ]
  },
  {
   "cell_type": "code",
   "execution_count": null,
   "id": "ab35eebf",
   "metadata": {},
   "outputs": [],
   "source": [
    "result = ax + bx * cx\n",
    "\n",
    "result"
   ]
  },
  {
   "cell_type": "code",
   "execution_count": null,
   "id": "aa0ec470",
   "metadata": {},
   "outputs": [],
   "source": [
    "result[3, 2, 4]"
   ]
  },
  {
   "cell_type": "code",
   "execution_count": null,
   "id": "913d8f90",
   "metadata": {},
   "outputs": [],
   "source": [
    "a[3] + b[2] * c[4]"
   ]
  },
  {
   "cell_type": "markdown",
   "id": "80a1be92",
   "metadata": {},
   "source": [
    "You could also implement the reduce as follows:"
   ]
  },
  {
   "cell_type": "code",
   "execution_count": null,
   "id": "21f697e3",
   "metadata": {},
   "outputs": [],
   "source": [
    "def ufunc_reduce(ufct, *vectors):\n",
    "\n",
    "    vs = np.ix_(*vectors)\n",
    "\n",
    "    r = ufct.identity\n",
    "\n",
    "    for v in vs:\n",
    "\n",
    "       r = ufct(r, v)\n",
    "\n",
    "    return r"
   ]
  },
  {
   "cell_type": "markdown",
   "id": "739e079f",
   "metadata": {},
   "source": [
    "and then use it as:"
   ]
  },
  {
   "cell_type": "code",
   "execution_count": null,
   "id": "c3101faa",
   "metadata": {},
   "outputs": [],
   "source": [
    "ufunc_reduce(np.add, a, b, c)"
   ]
  },
  {
   "cell_type": "markdown",
   "id": "f59399b2",
   "metadata": {},
   "source": [
    "The advantage of this version of reduce compared to the normal ufunc.reduce is that it makes use of the broadcasting rules in order to avoid creating an argument array the size of the output times the number of vectors."
   ]
  },
  {
   "cell_type": "markdown",
   "id": "fa275e0b",
   "metadata": {},
   "source": [
    "## Tricks and Tips\n",
    "\n",
    "Here we give a list of short and useful tips.\n",
    "### “Automatic” Reshaping\n",
    "\n",
    "To change the dimensions of an array, you can omit one of the sizes which will then be deduced automatically:"
   ]
  },
  {
   "cell_type": "code",
   "execution_count": null,
   "id": "aa30575d",
   "metadata": {},
   "outputs": [],
   "source": [
    "a = np.arange(30)\n",
    "\n",
    "b = a.reshape((2, -1, 3))  # -1 means \"whatever is needed\"\n",
    "\n",
    "b.shape"
   ]
  },
  {
   "cell_type": "code",
   "execution_count": null,
   "id": "5a0f2ed3",
   "metadata": {},
   "outputs": [],
   "source": [
    "b"
   ]
  },
  {
   "cell_type": "markdown",
   "id": "ee677e16",
   "metadata": {},
   "source": [
    "Vector Stacking\n",
    "\n",
    "How do we construct a 2D array from a list of equally-sized row vectors? In MATLAB this is quite easy: if x and y are two vectors of the same length you only need do m=[x;y]. In NumPy this works via the functions column_stack, dstack, hstack and vstack, depending on the dimension in which the stacking is to be done. For example:"
   ]
  },
  {
   "cell_type": "code",
   "execution_count": null,
   "id": "e2b24449",
   "metadata": {},
   "outputs": [],
   "source": [
    "x = np.arange(0, 10, 2)\n",
    "\n",
    "y = np.arange(5)\n",
    "\n",
    "m = np.vstack([x, y])\n",
    "\n",
    "m"
   ]
  },
  {
   "cell_type": "code",
   "execution_count": null,
   "id": "1624a600",
   "metadata": {},
   "outputs": [],
   "source": [
    "xy = np.hstack([x, y])\n",
    "\n",
    "xy"
   ]
  },
  {
   "cell_type": "markdown",
   "id": "c41b6ad9",
   "metadata": {},
   "source": [
    "The logic behind those functions in more than two dimensions can be strange."
   ]
  },
  {
   "cell_type": "markdown",
   "id": "4b8f85c1",
   "metadata": {},
   "source": [
    "### Histograms\n",
    "\n",
    "The NumPy histogram function applied to an array returns a pair of vectors: the histogram of the array and a vector of the bin edges. Beware: matplotlib also has a function to build histograms (called hist, as in Matlab) that differs from the one in NumPy. The main difference is that pylab.hist plots the histogram automatically, while numpy.histogram only generates the data."
   ]
  },
  {
   "cell_type": "code",
   "execution_count": null,
   "id": "03b982d6",
   "metadata": {},
   "outputs": [],
   "source": [
    "import numpy as np\n",
    "\n",
    "rg = np.random.default_rng(1)\n",
    "\n",
    "import matplotlib.pyplot as plt\n",
    "\n",
    "# Build a vector of 10000 normal deviates with variance 0.5^2 and mean 2\n",
    "\n",
    "mu, sigma = 2, 0.5\n",
    "\n",
    "v = rg.normal(mu, sigma, 10000)\n",
    "\n",
    "# Plot a normalized histogram with 50 bins\n",
    "\n",
    "plt.hist(v, bins=50, density=True)  # matplotlib version (plot)\n",
    "\n",
    "# Compute the histogram with numpy and then plot it\n",
    "\n",
    "(n, bins) = np.histogram(v, bins=50, density=True)  # NumPy version (no plot)\n",
    "\n",
    "plt.plot(.5 * (bins[1:] + bins[:-1]), n);"
   ]
  },
  {
   "cell_type": "code",
   "execution_count": null,
   "id": "653f2ada",
   "metadata": {},
   "outputs": [],
   "source": []
  }
 ],
 "metadata": {
  "kernelspec": {
   "display_name": "Python 3 (ipykernel)",
   "language": "python",
   "name": "python3"
  },
  "language_info": {
   "codemirror_mode": {
    "name": "ipython",
    "version": 3
   },
   "file_extension": ".py",
   "mimetype": "text/x-python",
   "name": "python",
   "nbconvert_exporter": "python",
   "pygments_lexer": "ipython3",
   "version": "3.10.0rc1"
  },
  "toc": {
   "base_numbering": 1,
   "nav_menu": {},
   "number_sections": false,
   "sideBar": true,
   "skip_h1_title": true,
   "title_cell": "Table des Matières",
   "title_sidebar": "Contents",
   "toc_cell": true,
   "toc_position": {},
   "toc_section_display": true,
   "toc_window_display": false
  }
 },
 "nbformat": 4,
 "nbformat_minor": 5
}
