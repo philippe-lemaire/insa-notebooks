{
 "cells": [
  {
   "cell_type": "markdown",
   "id": "dcbeb16f",
   "metadata": {},
   "source": [
    "# Numpy - Calcul Numérique en Python"
   ]
  },
  {
   "cell_type": "markdown",
   "id": "cee897e1",
   "metadata": {
    "toc": true
   },
   "source": [
    "<h1>Table des Matières<span class=\"tocSkip\"></span></h1>\n",
    "<div class=\"toc\"><ul class=\"toc-item\"><li><span><a href=\"#Prérequis\" data-toc-modified-id=\"Prérequis-1\">Prérequis</a></span><ul class=\"toc-item\"><li><span><a href=\"#Learner-profile\" data-toc-modified-id=\"Learner-profile-1.1\">Learner profile</a></span></li><li><span><a href=\"#Learning-Objectives\" data-toc-modified-id=\"Learning-Objectives-1.2\">Learning Objectives</a></span></li><li><span><a href=\"#The-Basics\" data-toc-modified-id=\"The-Basics-1.3\">The Basics</a></span></li></ul></li><li><span><a href=\"#An-example\" data-toc-modified-id=\"An-example-2\">An example</a></span></li><li><span><a href=\"#Array-Creation\" data-toc-modified-id=\"Array-Creation-3\">Array Creation</a></span></li><li><span><a href=\"#Printing-Arrays\" data-toc-modified-id=\"Printing-Arrays-4\">Printing Arrays</a></span></li><li><span><a href=\"#Basic-Operations\" data-toc-modified-id=\"Basic-Operations-5\">Basic Operations</a></span></li><li><span><a href=\"#Universal-Functions\" data-toc-modified-id=\"Universal-Functions-6\">Universal Functions</a></span></li><li><span><a href=\"#Indexing,-Slicing-and-Iterating\" data-toc-modified-id=\"Indexing,-Slicing-and-Iterating-7\">Indexing, Slicing and Iterating</a></span></li><li><span><a href=\"#Shape-Manipulation\" data-toc-modified-id=\"Shape-Manipulation-8\">Shape Manipulation</a></span></li><li><span><a href=\"#Stacking-together-different-arrays\" data-toc-modified-id=\"Stacking-together-different-arrays-9\">Stacking together different arrays</a></span></li><li><span><a href=\"#Splitting-one-array-into-several-smaller-ones\" data-toc-modified-id=\"Splitting-one-array-into-several-smaller-ones-10\">Splitting one array into several smaller ones</a></span></li><li><span><a href=\"#Copies-and-Views\" data-toc-modified-id=\"Copies-and-Views-11\">Copies and Views</a></span><ul class=\"toc-item\"><li><span><a href=\"#No-Copy-at-All\" data-toc-modified-id=\"No-Copy-at-All-11.1\">No Copy at All</a></span></li><li><span><a href=\"#View-or-Shallow-Copy\" data-toc-modified-id=\"View-or-Shallow-Copy-11.2\">View or Shallow Copy</a></span></li><li><span><a href=\"#Deep-Copy\" data-toc-modified-id=\"Deep-Copy-11.3\">Deep Copy</a></span></li></ul></li><li><span><a href=\"#Functions-and-Methods-Overview\" data-toc-modified-id=\"Functions-and-Methods-Overview-12\">Functions and Methods Overview</a></span></li><li><span><a href=\"#Less-Basic\" data-toc-modified-id=\"Less-Basic-13\">Less Basic</a></span><ul class=\"toc-item\"><li><span><a href=\"#Broadcasting-rules\" data-toc-modified-id=\"Broadcasting-rules-13.1\">Broadcasting rules</a></span></li></ul></li><li><span><a href=\"#Advanced-indexing-and-index-tricks\" data-toc-modified-id=\"Advanced-indexing-and-index-tricks-14\">Advanced indexing and index tricks</a></span><ul class=\"toc-item\"><li><span><a href=\"#Indexing-with-Arrays-of-Indices¶\" data-toc-modified-id=\"Indexing-with-Arrays-of-Indices¶-14.1\">Indexing with Arrays of Indices¶</a></span></li><li><span><a href=\"#The-ix_()-function\" data-toc-modified-id=\"The-ix_()-function-14.2\">The ix_() function</a></span></li></ul></li><li><span><a href=\"#Tricks-and-Tips\" data-toc-modified-id=\"Tricks-and-Tips-15\">Tricks and Tips</a></span><ul class=\"toc-item\"><li><span><a href=\"#“Automatic”-Reshaping\" data-toc-modified-id=\"“Automatic”-Reshaping-15.1\">“Automatic” Reshaping</a></span></li><li><span><a href=\"#Histograms\" data-toc-modified-id=\"Histograms-15.2\">Histograms</a></span></li></ul></li></ul></div>"
   ]
  },
  {
   "cell_type": "markdown",
   "id": "de536700",
   "metadata": {},
   "source": [
    "La bibliothèque `Numpy` est la bibliothèque centrale du calcul scientifique pour `Python`.\n",
    "\n",
    "Elle vous procure des tableaux de nombres multidimensionnels à haute performance, et des outils pour travailler sur ces tableaux.\n",
    "\n",
    "\n",
    "Quand vous importez numpy, par convention utilisez\n",
    "\n",
    "`import numpy as np`"
   ]
  },
  {
   "cell_type": "markdown",
   "id": "2cbc9001",
   "metadata": {},
   "source": [
    "## Prérequis"
   ]
  },
  {
   "cell_type": "markdown",
   "id": "48b784fb",
   "metadata": {},
   "source": [
    "You’ll need to know a bit of Python. For a refresher, see the Python tutorial.\n",
    "\n",
    "To work the examples, you’ll need matplotlib installed in addition to NumPy.\n",
    "\n",
    "### Learner profile\n",
    "\n",
    "This is a quick overview of arrays in NumPy. It demonstrates how n-dimensional (\n",
    "\n",
    ") arrays are represented and can be manipulated. In particular, if you don’t know how to apply common functions to n-dimensional arrays (without using for-loops), or if you want to understand axis and shape properties for n-dimensional arrays, this article might be of help.\n",
    "\n",
    "### Learning Objectives\n",
    "\n",
    "After reading, you should be able to:\n",
    "\n",
    "    Understand the difference between one-, two- and n-dimensional arrays in NumPy;\n",
    "\n",
    "    Understand how to apply some linear algebra operations to n-dimensional arrays without using for-loops;\n",
    "\n",
    "    Understand axis and shape properties for n-dimensional arrays.\n",
    "\n",
    "### The Basics\n",
    "\n",
    "NumPy’s main object is the homogeneous multidimensional array. It is a table of elements (usually numbers), all of the same type, indexed by a tuple of non-negative integers. In NumPy dimensions are called axes.\n",
    "\n",
    "For example, the array for the coordinates of a point in 3D space, [1, 2, 1], has one axis. That axis has 3 elements in it, so we say it has a length of 3. In the example pictured below, the array has 2 axes. The first axis has a length of 2, the second axis has a length of 3."
   ]
  },
  {
   "cell_type": "raw",
   "id": "29f0b4c0",
   "metadata": {},
   "source": [
    "[[1., 0., 0.],\n",
    " [0., 1., 2.]]"
   ]
  },
  {
   "cell_type": "markdown",
   "id": "10c557bb",
   "metadata": {},
   "source": [
    "NumPy’s array class is called ndarray. It is also known by the alias array. Note that numpy.array is not the same as the Standard Python Library class array.array, which only handles one-dimensional arrays and offers less functionality. The more important attributes of an ndarray object are:\n",
    "\n",
    "ndarray.ndim\n",
    "\n",
    "    the number of axes (dimensions) of the array.\n",
    "ndarray.shape\n",
    "\n",
    "    the dimensions of the array. This is a tuple of integers indicating the size of the array in each dimension. For a matrix with n rows and m columns, shape will be (n,m). The length of the shape tuple is therefore the number of axes, ndim.\n",
    "ndarray.size\n",
    "\n",
    "    the total number of elements of the array. This is equal to the product of the elements of shape.\n",
    "ndarray.dtype\n",
    "\n",
    "    an object describing the type of the elements in the array. One can create or specify dtype’s using standard Python types. Additionally NumPy provides types of its own. numpy.int32, numpy.int16, and numpy.float64 are some examples.\n",
    "ndarray.itemsize\n",
    "\n",
    "    the size in bytes of each element of the array. For example, an array of elements of type float64 has itemsize 8 (=64/8), while one of type complex32 has itemsize 4 (=32/8). It is equivalent to ndarray.dtype.itemsize.\n",
    "ndarray.data\n",
    "\n",
    "    the buffer containing the actual elements of the array. Normally, we won’t need to use this attribute because we will access the elements in an array using indexing facilities.\n",
    "\n",
    "## An example"
   ]
  },
  {
   "cell_type": "code",
   "execution_count": null,
   "id": "54419973",
   "metadata": {},
   "outputs": [],
   "source": [
    "import numpy as np\n",
    "\n",
    "a = np.arange(15).reshape(3, 5)\n",
    "a"
   ]
  },
  {
   "cell_type": "code",
   "execution_count": null,
   "id": "838c7329",
   "metadata": {},
   "outputs": [],
   "source": [
    "a.shape"
   ]
  },
  {
   "cell_type": "code",
   "execution_count": null,
   "id": "33dbc249",
   "metadata": {},
   "outputs": [],
   "source": [
    "a.ndim"
   ]
  },
  {
   "cell_type": "code",
   "execution_count": null,
   "id": "196ce1b5",
   "metadata": {},
   "outputs": [],
   "source": [
    "a.dtype.name"
   ]
  },
  {
   "cell_type": "code",
   "execution_count": null,
   "id": "e0f72345",
   "metadata": {},
   "outputs": [],
   "source": [
    "a.itemsize"
   ]
  },
  {
   "cell_type": "code",
   "execution_count": null,
   "id": "737b49c6",
   "metadata": {},
   "outputs": [],
   "source": [
    "a.size"
   ]
  },
  {
   "cell_type": "code",
   "execution_count": null,
   "id": "1c5ca0d1",
   "metadata": {},
   "outputs": [],
   "source": [
    "type(a)"
   ]
  },
  {
   "cell_type": "code",
   "execution_count": null,
   "id": "0a8f6dd4",
   "metadata": {},
   "outputs": [],
   "source": [
    "b = np.array([6, 7, 8])\n",
    "b"
   ]
  },
  {
   "cell_type": "code",
   "execution_count": null,
   "id": "9abdd81c",
   "metadata": {},
   "outputs": [],
   "source": [
    "type(b)"
   ]
  },
  {
   "cell_type": "markdown",
   "id": "efb1f121",
   "metadata": {},
   "source": [
    "## Array Creation\n",
    "\n",
    "There are several ways to create arrays.\n",
    "\n",
    "For example, you can create an array from a regular Python list or tuple using the array function. The type of the resulting array is deduced from the type of the elements in the sequences.\n",
    "\n"
   ]
  },
  {
   "cell_type": "code",
   "execution_count": null,
   "id": "a001f427",
   "metadata": {},
   "outputs": [],
   "source": [
    "import numpy as np\n",
    "\n",
    "a = np.array([2, 3, 4])\n",
    "a"
   ]
  },
  {
   "cell_type": "code",
   "execution_count": null,
   "id": "27ed510b",
   "metadata": {},
   "outputs": [],
   "source": [
    "a.dtype"
   ]
  },
  {
   "cell_type": "code",
   "execution_count": null,
   "id": "a1f8f18b",
   "metadata": {},
   "outputs": [],
   "source": [
    "b = np.array([1.2, 3.5, 5.1])\n",
    "\n",
    "b.dtype"
   ]
  },
  {
   "cell_type": "markdown",
   "id": "dce1ce1b",
   "metadata": {},
   "source": [
    "A frequent error consists in calling array with multiple arguments, rather than providing a single sequence as an argument."
   ]
  },
  {
   "cell_type": "code",
   "execution_count": null,
   "id": "5d470b74",
   "metadata": {},
   "outputs": [],
   "source": [
    "a = np.array(1, 2, 3, 4)    # WRONG"
   ]
  },
  {
   "cell_type": "code",
   "execution_count": null,
   "id": "c3e3a5c6",
   "metadata": {},
   "outputs": [],
   "source": [
    "a = np.array([1, 2, 3, 4])  # RIGHT"
   ]
  },
  {
   "cell_type": "markdown",
   "id": "a71ed361",
   "metadata": {},
   "source": [
    "\n",
    "\n",
    "array transforms sequences of sequences into two-dimensional arrays, sequences of sequences of sequences into three-dimensional arrays, and so on."
   ]
  },
  {
   "cell_type": "code",
   "execution_count": null,
   "id": "5d566613",
   "metadata": {},
   "outputs": [],
   "source": [
    "b = np.array([(1.5, 2, 3), (4, 5, 6)])\n",
    "\n",
    "b"
   ]
  },
  {
   "cell_type": "markdown",
   "id": "c45bf186",
   "metadata": {},
   "source": [
    "The type of the array can also be explicitly specified at creation time:"
   ]
  },
  {
   "cell_type": "code",
   "execution_count": null,
   "id": "481860c1",
   "metadata": {},
   "outputs": [],
   "source": [
    "c = np.array([[1, 2], [3, 4]], dtype=complex)\n",
    "c"
   ]
  },
  {
   "cell_type": "markdown",
   "id": "027703ed",
   "metadata": {},
   "source": [
    "Often, the elements of an array are originally unknown, but its size is known. Hence, NumPy offers several functions to create arrays with initial placeholder content. These minimize the necessity of growing arrays, an expensive operation.\n",
    "\n",
    "The function zeros creates an array full of zeros, the function ones creates an array full of ones, and the function empty creates an array whose initial content is random and depends on the state of the memory. By default, the dtype of the created array is float64, but it can be specified via the key word argument dtype."
   ]
  },
  {
   "cell_type": "code",
   "execution_count": null,
   "id": "a73a9f71",
   "metadata": {},
   "outputs": [],
   "source": [
    "np.zeros((3, 4))"
   ]
  },
  {
   "cell_type": "code",
   "execution_count": null,
   "id": "ee079683",
   "metadata": {},
   "outputs": [],
   "source": [
    "np.ones((2, 3, 4), dtype=np.int16)"
   ]
  },
  {
   "cell_type": "code",
   "execution_count": null,
   "id": "ca28f2af",
   "metadata": {},
   "outputs": [],
   "source": [
    "np.empty((2, 3)) "
   ]
  },
  {
   "cell_type": "markdown",
   "id": "67998d7a",
   "metadata": {},
   "source": [
    "To create sequences of numbers, NumPy provides the arange function which is analogous to the Python built-in range, but returns an array."
   ]
  },
  {
   "cell_type": "code",
   "execution_count": null,
   "id": "85c6b67d",
   "metadata": {},
   "outputs": [],
   "source": [
    "np.arange(10, 30, 5)"
   ]
  },
  {
   "cell_type": "code",
   "execution_count": null,
   "id": "76e1c223",
   "metadata": {},
   "outputs": [],
   "source": [
    "np.arange(0, 2, 0.3)  # it accepts float arguments"
   ]
  },
  {
   "cell_type": "markdown",
   "id": "d2e19c43",
   "metadata": {},
   "source": [
    "When arange is used with floating point arguments, it is generally not possible to predict the number of elements obtained, due to the finite floating point precision. For this reason, it is usually better to use the function linspace that receives as an argument the number of elements that we want, instead of the step:"
   ]
  },
  {
   "cell_type": "code",
   "execution_count": null,
   "id": "1d3237cf",
   "metadata": {},
   "outputs": [],
   "source": [
    "from numpy import pi\n",
    "\n",
    "np.linspace(0, 2, 9)     # 9 numbers from 0 to 2"
   ]
  },
  {
   "cell_type": "code",
   "execution_count": null,
   "id": "861e6439",
   "metadata": {},
   "outputs": [],
   "source": [
    "x = np.linspace(0, 2 * pi, 100)        # useful to evaluate function at lots of points\n",
    "\n",
    "f = np.sin(x)"
   ]
  },
  {
   "cell_type": "markdown",
   "id": "bc7b4668",
   "metadata": {},
   "source": [
    "## Printing Arrays\n",
    "\n",
    "When you print an array, NumPy displays it in a similar way to nested lists, but with the following layout:\n",
    "\n",
    "- the last axis is printed from left to right,\n",
    "- the second-to-last is printed from top to bottom,\n",
    "- the rest are also printed from top to bottom, with each slice separated from the next by an empty line.\n",
    "\n",
    "One-dimensional arrays are then printed as rows, bidimensionals as matrices and tridimensionals as lists of matrices."
   ]
  },
  {
   "cell_type": "code",
   "execution_count": null,
   "id": "772d72b0",
   "metadata": {},
   "outputs": [],
   "source": [
    "a = np.arange(6)                    # 1d array\n",
    "a"
   ]
  },
  {
   "cell_type": "code",
   "execution_count": null,
   "id": "19e5501b",
   "metadata": {},
   "outputs": [],
   "source": [
    "b = np.arange(12).reshape(4, 3)     # 2d array\n",
    "\n",
    "print(b)"
   ]
  },
  {
   "cell_type": "code",
   "execution_count": null,
   "id": "c3b6e503",
   "metadata": {},
   "outputs": [],
   "source": [
    "c = np.arange(24).reshape(2, 3, 4)  # 3d array\n",
    "c"
   ]
  },
  {
   "cell_type": "markdown",
   "id": "afc659f2",
   "metadata": {},
   "source": [
    "See below to get more details on reshape.\n",
    "\n",
    "If an array is too large to be printed, NumPy automatically skips the central part of the array and only prints the corners:"
   ]
  },
  {
   "cell_type": "code",
   "execution_count": null,
   "id": "93db9921",
   "metadata": {},
   "outputs": [],
   "source": [
    "print(np.arange(10000)) # 1D"
   ]
  },
  {
   "cell_type": "code",
   "execution_count": null,
   "id": "f49961cc",
   "metadata": {},
   "outputs": [],
   "source": [
    "print(np.arange(10000).reshape(100, 100)) #2D 100x100"
   ]
  },
  {
   "cell_type": "markdown",
   "id": "f0c23ae9",
   "metadata": {},
   "source": [
    "To disable this behaviour and force NumPy to print the entire array, you can change the printing options using set_printoptions."
   ]
  },
  {
   "cell_type": "code",
   "execution_count": null,
   "id": "bcf9cc7e",
   "metadata": {},
   "outputs": [],
   "source": [
    "import sys\n",
    "np.set_printoptions(threshold=sys.maxsize)  # sys module should be imported"
   ]
  },
  {
   "cell_type": "code",
   "execution_count": null,
   "id": "610eb25c",
   "metadata": {},
   "outputs": [],
   "source": [
    "print(np.arange(10000)) # 1D"
   ]
  },
  {
   "cell_type": "markdown",
   "id": "d139a9b7",
   "metadata": {},
   "source": [
    "## Basic Operations\n",
    "\n",
    "Arithmetic operators on arrays apply elementwise. A new array is created and filled with the result."
   ]
  },
  {
   "cell_type": "code",
   "execution_count": null,
   "id": "8feb4dba",
   "metadata": {},
   "outputs": [],
   "source": [
    "a = np.array([20, 30, 40, 50])\n",
    "\n",
    "b = np.arange(4)\n",
    "\n",
    "b"
   ]
  },
  {
   "cell_type": "code",
   "execution_count": null,
   "id": "98cae4f7",
   "metadata": {},
   "outputs": [],
   "source": [
    "c = a - b\n",
    "\n",
    "c"
   ]
  },
  {
   "cell_type": "code",
   "execution_count": null,
   "id": "06dc11f7",
   "metadata": {},
   "outputs": [],
   "source": [
    "b**2"
   ]
  },
  {
   "cell_type": "code",
   "execution_count": null,
   "id": "42160881",
   "metadata": {},
   "outputs": [],
   "source": [
    "10 * np.sin(a)"
   ]
  },
  {
   "cell_type": "code",
   "execution_count": null,
   "id": "eb2384bb",
   "metadata": {},
   "outputs": [],
   "source": [
    "a < 35"
   ]
  },
  {
   "cell_type": "markdown",
   "id": "75d90e61",
   "metadata": {},
   "source": [
    "Unlike in many matrix languages, the product operator * operates elementwise in NumPy arrays. The matrix product can be performed using the @ operator (in python >=3.5) or the dot function or method:"
   ]
  },
  {
   "cell_type": "code",
   "execution_count": null,
   "id": "b68b6ddf",
   "metadata": {},
   "outputs": [],
   "source": [
    "A = np.array([[1, 1],\n",
    "\n",
    "              [0, 1]])\n",
    "\n",
    "B = np.array([[2, 0],\n",
    "\n",
    "              [3, 4]])\n",
    "\n",
    "A * B     # elementwise product\n"
   ]
  },
  {
   "cell_type": "code",
   "execution_count": null,
   "id": "53e4ee19",
   "metadata": {},
   "outputs": [],
   "source": [
    "A @ B  # matrix product"
   ]
  },
  {
   "cell_type": "code",
   "execution_count": null,
   "id": "df11d483",
   "metadata": {},
   "outputs": [],
   "source": [
    "A.dot(B)  # another matrix product"
   ]
  },
  {
   "cell_type": "markdown",
   "id": "7be14f43",
   "metadata": {},
   "source": [
    "Some operations, such as `+=` and `*=`, act in place to modify an existing array rather than create a new one."
   ]
  },
  {
   "cell_type": "code",
   "execution_count": null,
   "id": "6de921e7",
   "metadata": {},
   "outputs": [],
   "source": [
    "rg = np.random.default_rng(1)  # create instance of default random number generator\n",
    "\n",
    "a = np.ones((2, 3), dtype=int)\n",
    "\n",
    "b = rg.random((2, 3))\n",
    "\n",
    "a *= 3\n",
    "\n",
    "a"
   ]
  },
  {
   "cell_type": "code",
   "execution_count": null,
   "id": "d14b4f6b",
   "metadata": {},
   "outputs": [],
   "source": [
    "b += a\n",
    "\n",
    "b"
   ]
  },
  {
   "cell_type": "code",
   "execution_count": null,
   "id": "964fe902",
   "metadata": {},
   "outputs": [],
   "source": [
    "a += b  # b is not automatically converted to integer type"
   ]
  },
  {
   "cell_type": "markdown",
   "id": "61092cfa",
   "metadata": {},
   "source": [
    "When operating with arrays of different types, the type of the resulting array corresponds to the more general or precise one (a behavior known as upcasting)."
   ]
  },
  {
   "cell_type": "code",
   "execution_count": null,
   "id": "930bb4c4",
   "metadata": {},
   "outputs": [],
   "source": [
    "a = np.ones(3, dtype=np.int32)\n",
    "\n",
    "b = np.linspace(0, pi, 3)\n",
    "\n",
    "b.dtype.name"
   ]
  },
  {
   "cell_type": "code",
   "execution_count": null,
   "id": "88a8d31f",
   "metadata": {},
   "outputs": [],
   "source": [
    "c = a + b\n",
    "\n",
    "c"
   ]
  },
  {
   "cell_type": "code",
   "execution_count": null,
   "id": "8a191f18",
   "metadata": {},
   "outputs": [],
   "source": [
    "c.dtype.name"
   ]
  },
  {
   "cell_type": "code",
   "execution_count": null,
   "id": "45c212fa",
   "metadata": {},
   "outputs": [],
   "source": [
    "d = np.exp(c * 1j)\n",
    "\n",
    "d"
   ]
  },
  {
   "cell_type": "code",
   "execution_count": null,
   "id": "79070269",
   "metadata": {},
   "outputs": [],
   "source": [
    "d.dtype.name"
   ]
  },
  {
   "cell_type": "markdown",
   "id": "10a7c4f9",
   "metadata": {},
   "source": [
    "Many unary operations, such as computing the sum of all the elements in the array, are implemented as methods of the ndarray class."
   ]
  },
  {
   "cell_type": "code",
   "execution_count": null,
   "id": "e3525b52",
   "metadata": {},
   "outputs": [],
   "source": [
    "a = rg.random((2, 3))\n",
    "\n",
    "a"
   ]
  },
  {
   "cell_type": "code",
   "execution_count": null,
   "id": "c3c42c69",
   "metadata": {},
   "outputs": [],
   "source": [
    "a.sum()"
   ]
  },
  {
   "cell_type": "code",
   "execution_count": null,
   "id": "105ed2f7",
   "metadata": {},
   "outputs": [],
   "source": [
    "a.min()"
   ]
  },
  {
   "cell_type": "code",
   "execution_count": null,
   "id": "3c900218",
   "metadata": {},
   "outputs": [],
   "source": [
    "a.max()"
   ]
  },
  {
   "cell_type": "markdown",
   "id": "8a5f0ae6",
   "metadata": {},
   "source": [
    "By default, these operations apply to the array as though it were a list of numbers, regardless of its shape. However, by specifying the axis parameter you can apply an operation along the specified axis of an array:"
   ]
  },
  {
   "cell_type": "code",
   "execution_count": null,
   "id": "9620acd7",
   "metadata": {},
   "outputs": [],
   "source": [
    "b = np.arange(12).reshape(3, 4)\n",
    "b"
   ]
  },
  {
   "cell_type": "code",
   "execution_count": null,
   "id": "df2841d2",
   "metadata": {},
   "outputs": [],
   "source": [
    "b.sum(axis=0)     # sum of each column"
   ]
  },
  {
   "cell_type": "code",
   "execution_count": null,
   "id": "ad9c6f9e",
   "metadata": {},
   "outputs": [],
   "source": [
    "b.min(axis=1)     # min of each row"
   ]
  },
  {
   "cell_type": "code",
   "execution_count": null,
   "id": "abdd96ea",
   "metadata": {},
   "outputs": [],
   "source": [
    "b.cumsum(axis=1)  # cumulative sum along each row\n"
   ]
  },
  {
   "cell_type": "markdown",
   "id": "b21bc847",
   "metadata": {},
   "source": [
    "## Universal Functions\n",
    "\n",
    "NumPy provides familiar mathematical functions such as sin, cos, and exp. In NumPy, these are called “universal functions” (ufunc). Within NumPy, these functions operate elementwise on an array, producing an array as output."
   ]
  },
  {
   "cell_type": "code",
   "execution_count": null,
   "id": "ca2e8407",
   "metadata": {},
   "outputs": [],
   "source": [
    "B = np.arange(3)\n",
    "\n",
    "B"
   ]
  },
  {
   "cell_type": "code",
   "execution_count": null,
   "id": "8f5670db",
   "metadata": {},
   "outputs": [],
   "source": [
    "np.exp(B)"
   ]
  },
  {
   "cell_type": "code",
   "execution_count": null,
   "id": "eb4d3282",
   "metadata": {},
   "outputs": [],
   "source": [
    "np.sqrt(B)"
   ]
  },
  {
   "cell_type": "code",
   "execution_count": null,
   "id": "2f4317ff",
   "metadata": {},
   "outputs": [],
   "source": [
    "C = np.array([2., -1., 4.])\n",
    "\n",
    "np.add(B, C)\n"
   ]
  },
  {
   "cell_type": "markdown",
   "id": "a1a065d6",
   "metadata": {},
   "source": [
    "## Indexing, Slicing and Iterating\n",
    "\n",
    "One-dimensional arrays can be indexed, sliced and iterated over, much like lists and other Python sequences."
   ]
  },
  {
   "cell_type": "code",
   "execution_count": null,
   "id": "4bb7d520",
   "metadata": {},
   "outputs": [],
   "source": [
    "a = np.arange(10)**3\n",
    "\n",
    "a"
   ]
  },
  {
   "cell_type": "code",
   "execution_count": null,
   "id": "a4ba62b4",
   "metadata": {},
   "outputs": [],
   "source": [
    "a[2]"
   ]
  },
  {
   "cell_type": "code",
   "execution_count": null,
   "id": "57914485",
   "metadata": {},
   "outputs": [],
   "source": [
    "a[2:5]"
   ]
  },
  {
   "cell_type": "code",
   "execution_count": null,
   "id": "f0710443",
   "metadata": {},
   "outputs": [],
   "source": [
    "# equivalent to a[0:6:2] = 1000;\n",
    "\n",
    "# from start to position 6, exclusive, set every 2nd element to 1000\n",
    "\n",
    "a[:6:2] = 1000\n",
    "\n",
    "a"
   ]
  },
  {
   "cell_type": "code",
   "execution_count": null,
   "id": "f9e75f09",
   "metadata": {},
   "outputs": [],
   "source": [
    "a[::-1]  # reversed a"
   ]
  },
  {
   "cell_type": "code",
   "execution_count": null,
   "id": "4a251523",
   "metadata": {},
   "outputs": [],
   "source": [
    "for i in a:\n",
    "\n",
    "    print(i**(1 / 3.))"
   ]
  },
  {
   "cell_type": "markdown",
   "id": "3908362b",
   "metadata": {},
   "source": [
    "Multidimensional arrays can have one index per axis. These indices are given in a tuple separated by commas:"
   ]
  },
  {
   "cell_type": "code",
   "execution_count": null,
   "id": "13653fa5",
   "metadata": {},
   "outputs": [],
   "source": [
    "def f(x, y):\n",
    "\n",
    "    return 10 * x + y\n",
    "\n",
    "\n",
    "b = np.fromfunction(f, (5, 4), dtype=int)\n",
    "\n",
    "b"
   ]
  },
  {
   "cell_type": "code",
   "execution_count": null,
   "id": "90b2eb71",
   "metadata": {},
   "outputs": [],
   "source": [
    "b[2, 3]"
   ]
  },
  {
   "cell_type": "code",
   "execution_count": null,
   "id": "1941b28d",
   "metadata": {},
   "outputs": [],
   "source": [
    "b[0:5, 1]  # each row in the second column of b"
   ]
  },
  {
   "cell_type": "code",
   "execution_count": null,
   "id": "50abeb30",
   "metadata": {},
   "outputs": [],
   "source": [
    "b[:, 1]    # equivalent to the previous example"
   ]
  },
  {
   "cell_type": "code",
   "execution_count": null,
   "id": "5b319868",
   "metadata": {},
   "outputs": [],
   "source": [
    "b[1:3, :]  # each column in the second and third row of b"
   ]
  },
  {
   "cell_type": "markdown",
   "id": "489cccac",
   "metadata": {},
   "source": [
    "When fewer indices are provided than the number of axes, the missing indices are considered complete slices:"
   ]
  },
  {
   "cell_type": "code",
   "execution_count": null,
   "id": "a377cb3b",
   "metadata": {},
   "outputs": [],
   "source": [
    "b[-1]   # the last row. Equivalent to b[-1, :]"
   ]
  },
  {
   "cell_type": "markdown",
   "id": "8c1d3e38",
   "metadata": {},
   "source": [
    "The expression within brackets in `b[i]` is treated as an `i` followed by as many instances of : as needed to represent the remaining axes. NumPy also allows you to write this using dots as `b[i, ...]`.\n",
    "\n",
    "The dots (`...`) represent as many colons as needed to produce a complete indexing tuple. For example, if x is an array with 5 axes, then\n",
    "\n",
    "- `x[1, 2, ...]` is equivalent to `x[1, 2, :, :, :]`,\n",
    "- `x[..., 3]` to `x[:, :, :, :, 3]` and\n",
    "- `x[4, ..., 5, :]` to `x[4, :, :, 5, :]`.\n"
   ]
  },
  {
   "cell_type": "code",
   "execution_count": null,
   "id": "f62f0fcf",
   "metadata": {},
   "outputs": [],
   "source": [
    "c = np.array([[[  0,  1,  2],  # a 3D array (two stacked 2D arrays)\n",
    "\n",
    "               [ 10, 12, 13]],\n",
    "\n",
    "              [[100, 101, 102],\n",
    "\n",
    "               [110, 112, 113]]])\n",
    "\n",
    "c.shape"
   ]
  },
  {
   "cell_type": "code",
   "execution_count": null,
   "id": "3bedecf0",
   "metadata": {},
   "outputs": [],
   "source": [
    "c[1, ...]  # same as c[1, :, :] or c[1]"
   ]
  },
  {
   "cell_type": "code",
   "execution_count": null,
   "id": "3edbc74d",
   "metadata": {},
   "outputs": [],
   "source": [
    "c[..., 2]  # same as c[:, :, 2]"
   ]
  },
  {
   "cell_type": "markdown",
   "id": "42a23c72",
   "metadata": {},
   "source": [
    "Iterating over multidimensional arrays is done with respect to the first axis:"
   ]
  },
  {
   "cell_type": "code",
   "execution_count": null,
   "id": "23ceba97",
   "metadata": {},
   "outputs": [],
   "source": [
    "for row in b:\n",
    "\n",
    "    print(row)"
   ]
  },
  {
   "cell_type": "markdown",
   "id": "5757efce",
   "metadata": {},
   "source": [
    "However, if one wants to perform an operation on each element in the array, one can use the flat attribute which is an iterator over all the elements of the array:"
   ]
  },
  {
   "cell_type": "code",
   "execution_count": null,
   "id": "a68dc5a1",
   "metadata": {},
   "outputs": [],
   "source": [
    "for element in b.flat:\n",
    "\n",
    "    print(element)"
   ]
  },
  {
   "cell_type": "markdown",
   "id": "185dcc9b",
   "metadata": {},
   "source": [
    "## Shape Manipulation\n",
    "Changing the shape of an array\n",
    "\n",
    "An array has a shape given by the number of elements along each axis:"
   ]
  },
  {
   "cell_type": "code",
   "execution_count": null,
   "id": "151c5595",
   "metadata": {},
   "outputs": [],
   "source": [
    "a = np.floor(10 * rg.random((3, 4)))\n",
    "\n",
    "a"
   ]
  },
  {
   "cell_type": "code",
   "execution_count": null,
   "id": "1747f5d9",
   "metadata": {},
   "outputs": [],
   "source": [
    "a.shape"
   ]
  },
  {
   "cell_type": "markdown",
   "id": "6a2fecf2",
   "metadata": {},
   "source": [
    "The shape of an array can be changed with various commands. Note that the following three commands all return a modified array, but do not change the original array:"
   ]
  },
  {
   "cell_type": "code",
   "execution_count": null,
   "id": "0146f942",
   "metadata": {},
   "outputs": [],
   "source": [
    "a.ravel()  # returns the array, flattened"
   ]
  },
  {
   "cell_type": "code",
   "execution_count": null,
   "id": "81d8c590",
   "metadata": {},
   "outputs": [],
   "source": [
    "a.reshape(6, 2)  # returns the array with a modified shape"
   ]
  },
  {
   "cell_type": "code",
   "execution_count": null,
   "id": "1b188f95",
   "metadata": {},
   "outputs": [],
   "source": [
    "a.T  # returns the array, transposed"
   ]
  },
  {
   "cell_type": "code",
   "execution_count": null,
   "id": "63b570d1",
   "metadata": {},
   "outputs": [],
   "source": [
    "a.T.shape"
   ]
  },
  {
   "cell_type": "code",
   "execution_count": null,
   "id": "9f86145f",
   "metadata": {},
   "outputs": [],
   "source": [
    "a.shape"
   ]
  },
  {
   "cell_type": "markdown",
   "id": "5510ba29",
   "metadata": {},
   "source": [
    "The order of the elements in the array resulting from ravel is normally “C-style”, that is, the rightmost index “changes the fastest”, so the element after a[0, 0] is a[0, 1]. If the array is reshaped to some other shape, again the array is treated as “C-style”. NumPy normally creates arrays stored in this order, so ravel will usually not need to copy its argument, but if the array was made by taking slices of another array or created with unusual options, it may need to be copied. The functions ravel and reshape can also be instructed, using an optional argument, to use FORTRAN-style arrays, in which the leftmost index changes the fastest.\n",
    "\n",
    "The reshape function returns its argument with a modified shape, whereas the ndarray.resize method modifies the array itself:"
   ]
  },
  {
   "cell_type": "code",
   "execution_count": null,
   "id": "d0d528bf",
   "metadata": {},
   "outputs": [],
   "source": [
    "a"
   ]
  },
  {
   "cell_type": "code",
   "execution_count": null,
   "id": "96dde636",
   "metadata": {},
   "outputs": [],
   "source": [
    "a.resize((2, 6))\n",
    "\n",
    "a"
   ]
  },
  {
   "cell_type": "markdown",
   "id": "870a80b1",
   "metadata": {},
   "source": [
    "If a dimension is given as -1 in a reshaping operation, the other dimensions are automatically calculated:"
   ]
  },
  {
   "cell_type": "code",
   "execution_count": null,
   "id": "f5b55f52",
   "metadata": {},
   "outputs": [],
   "source": [
    "a.reshape(3, -1)"
   ]
  },
  {
   "cell_type": "markdown",
   "id": "1876902c",
   "metadata": {},
   "source": [
    "## Stacking together different arrays\n",
    "\n",
    "Several arrays can be stacked together along different axes:"
   ]
  },
  {
   "cell_type": "code",
   "execution_count": null,
   "id": "b5a9e963",
   "metadata": {},
   "outputs": [],
   "source": [
    "a = np.floor(10 * rg.random((2, 2)))\n",
    "\n",
    "a"
   ]
  },
  {
   "cell_type": "code",
   "execution_count": null,
   "id": "dfa87b06",
   "metadata": {},
   "outputs": [],
   "source": [
    "b = np.floor(10 * rg.random((2, 2)))\n",
    "\n",
    "b"
   ]
  },
  {
   "cell_type": "code",
   "execution_count": null,
   "id": "a6905e67",
   "metadata": {},
   "outputs": [],
   "source": [
    "np.vstack((a, b))"
   ]
  },
  {
   "cell_type": "code",
   "execution_count": null,
   "id": "4eb093f1",
   "metadata": {},
   "outputs": [],
   "source": [
    "np.hstack((a, b))"
   ]
  },
  {
   "cell_type": "markdown",
   "id": "5a39ecdd",
   "metadata": {},
   "source": [
    "The function `column_stack` stacks 1D arrays as columns into a 2D array. It is equivalent to `hstack` only for 2D arrays:"
   ]
  },
  {
   "cell_type": "code",
   "execution_count": null,
   "id": "82e8148b",
   "metadata": {},
   "outputs": [],
   "source": [
    "from numpy import newaxis\n",
    "\n",
    "np.column_stack((a, b))  # with 2D arrays"
   ]
  },
  {
   "cell_type": "code",
   "execution_count": null,
   "id": "fce2ad11",
   "metadata": {},
   "outputs": [],
   "source": [
    "a = np.array([4., 2.])\n",
    "\n",
    "b = np.array([3., 8.])\n",
    "\n",
    "np.column_stack((a, b))  # returns a 2D array"
   ]
  },
  {
   "cell_type": "code",
   "execution_count": null,
   "id": "74e42457",
   "metadata": {},
   "outputs": [],
   "source": [
    "np.hstack((a, b))        # the result is different"
   ]
  },
  {
   "cell_type": "code",
   "execution_count": null,
   "id": "58e8d575",
   "metadata": {},
   "outputs": [],
   "source": [
    "a[:, newaxis]  # view `a` as a 2D column vector"
   ]
  },
  {
   "cell_type": "code",
   "execution_count": null,
   "id": "23632f8b",
   "metadata": {},
   "outputs": [],
   "source": [
    "np.column_stack((a[:, newaxis], b[:, newaxis]))"
   ]
  },
  {
   "cell_type": "code",
   "execution_count": null,
   "id": "46c9d383",
   "metadata": {},
   "outputs": [],
   "source": [
    "np.hstack((a[:, newaxis], b[:, newaxis]))  # the result is the same\n"
   ]
  },
  {
   "cell_type": "markdown",
   "id": "b4b477f7",
   "metadata": {},
   "source": [
    "On the other hand, the function `row_stack` is equivalent to `vstack` for any input arrays. In fact, `row_stack` is an alias for `vstack`:"
   ]
  },
  {
   "cell_type": "code",
   "execution_count": null,
   "id": "51caf4bf",
   "metadata": {},
   "outputs": [],
   "source": [
    "np.column_stack is np.hstack"
   ]
  },
  {
   "cell_type": "code",
   "execution_count": null,
   "id": "f4404680",
   "metadata": {},
   "outputs": [],
   "source": [
    "np.row_stack is np.vstack"
   ]
  },
  {
   "cell_type": "markdown",
   "id": "42ba5297",
   "metadata": {},
   "source": [
    "In general, for arrays with more than two dimensions, `hstack` stacks along their second axes, `vstack` stacks along their first axes, and concatenate allows for an optional arguments giving the number of the axis along which the concatenation should happen.\n",
    "\n",
    "**Note**\n",
    "\n",
    "In complex cases, `r_` and `c_` are useful for creating arrays by stacking numbers along one axis. They allow the use of range literals :."
   ]
  },
  {
   "cell_type": "code",
   "execution_count": null,
   "id": "557238f0",
   "metadata": {},
   "outputs": [],
   "source": [
    "np.r_[1:4, 0, 4]"
   ]
  },
  {
   "cell_type": "markdown",
   "id": "5db7201b",
   "metadata": {},
   "source": [
    "When used with arrays as arguments, `r_` and `c_` are similar to `vstack` and `hstack` in their default behavior, but allow for an optional argument giving the number of the axis along which to concatenate."
   ]
  },
  {
   "cell_type": "markdown",
   "id": "46d14ebf",
   "metadata": {},
   "source": [
    "## Splitting one array into several smaller ones\n",
    "\n",
    "Using `hsplit`, you can split an array along its horizontal axis, either by specifying the number of equally shaped arrays to return, or by specifying the columns after which the division should occur:"
   ]
  },
  {
   "cell_type": "code",
   "execution_count": null,
   "id": "06bf5993",
   "metadata": {},
   "outputs": [],
   "source": [
    "a = np.floor(10 * rg.random((2, 12)))\n",
    "\n",
    "a"
   ]
  },
  {
   "cell_type": "code",
   "execution_count": null,
   "id": "344b9fdd",
   "metadata": {},
   "outputs": [],
   "source": [
    "# Split `a` into 3\n",
    "\n",
    "np.hsplit(a, 3)"
   ]
  },
  {
   "cell_type": "code",
   "execution_count": null,
   "id": "3854c86c",
   "metadata": {},
   "outputs": [],
   "source": [
    "# Split `a` after the third and the fourth column\n",
    "\n",
    "np.hsplit(a, (3, 4))"
   ]
  },
  {
   "cell_type": "markdown",
   "id": "f4512e85",
   "metadata": {},
   "source": [
    "`vsplit` splits along the vertical axis, and `array_split` allows one to specify along which axis to split."
   ]
  },
  {
   "cell_type": "markdown",
   "id": "6bf6519b",
   "metadata": {},
   "source": [
    "## Copies and Views\n",
    "\n",
    "When operating and manipulating arrays, their data is sometimes copied into a new array and sometimes not. This is often a source of confusion for beginners. There are three cases:\n",
    "\n",
    "### No Copy at All\n",
    "\n",
    "Simple assignments make no copy of objects or their data."
   ]
  },
  {
   "cell_type": "code",
   "execution_count": null,
   "id": "5972650b",
   "metadata": {},
   "outputs": [],
   "source": [
    "a = np.array([[ 0,  1,  2,  3],\n",
    "\n",
    "              [ 4,  5,  6,  7],\n",
    "\n",
    "              [ 8,  9, 10, 11]])\n",
    "\n",
    "b = a            # no new object is created\n",
    "\n",
    "b is a           # a and b are two names for the same ndarray object"
   ]
  },
  {
   "cell_type": "markdown",
   "id": "a9981314",
   "metadata": {},
   "source": [
    "Python passes mutable objects as references, so function calls make no copy."
   ]
  },
  {
   "cell_type": "code",
   "execution_count": null,
   "id": "3b5f7c69",
   "metadata": {},
   "outputs": [],
   "source": [
    "def f(x):\n",
    "\n",
    "    print(id(x))\n",
    "\n",
    "\n",
    "id(a)  # id is a unique identifier of an object "
   ]
  },
  {
   "cell_type": "code",
   "execution_count": null,
   "id": "400f6e73",
   "metadata": {},
   "outputs": [],
   "source": [
    "f(a)   "
   ]
  },
  {
   "cell_type": "markdown",
   "id": "b040fd4a",
   "metadata": {},
   "source": [
    "### View or Shallow Copy\n",
    "\n",
    "Different array objects can share the same data. The view method creates a new array object that looks at the same data."
   ]
  },
  {
   "cell_type": "code",
   "execution_count": null,
   "id": "55a08df8",
   "metadata": {},
   "outputs": [],
   "source": [
    "c = a.view()\n",
    "\n",
    "c is a"
   ]
  },
  {
   "cell_type": "code",
   "execution_count": null,
   "id": "5d5d6b3b",
   "metadata": {},
   "outputs": [],
   "source": [
    "c.base is a            # c is a view of the data owned by a"
   ]
  },
  {
   "cell_type": "code",
   "execution_count": null,
   "id": "74b30045",
   "metadata": {},
   "outputs": [],
   "source": [
    "c.flags.owndata"
   ]
  },
  {
   "cell_type": "code",
   "execution_count": null,
   "id": "44e80540",
   "metadata": {},
   "outputs": [],
   "source": [
    "c = c.reshape((2, 6))  # a's shape doesn't change\n",
    "\n",
    "a.shape"
   ]
  },
  {
   "cell_type": "code",
   "execution_count": null,
   "id": "74a6b90d",
   "metadata": {},
   "outputs": [],
   "source": [
    "c[0, 4] = 1234         # a's data changes\n",
    "\n",
    "a"
   ]
  },
  {
   "cell_type": "markdown",
   "id": "0eb8bdb6",
   "metadata": {},
   "source": [
    "Slicing an array returns a view of it:"
   ]
  },
  {
   "cell_type": "code",
   "execution_count": null,
   "id": "53670d43",
   "metadata": {},
   "outputs": [],
   "source": [
    "s = a[:, 1:3]\n",
    "\n",
    "s[:] = 10  # s[:] is a view of s. Note the difference between s = 10 and s[:] = 10\n",
    "\n",
    "a"
   ]
  },
  {
   "cell_type": "markdown",
   "id": "46368a1f",
   "metadata": {},
   "source": [
    "### Deep Copy\n",
    "\n",
    "The copy method makes a complete copy of the array and its data."
   ]
  },
  {
   "cell_type": "code",
   "execution_count": null,
   "id": "cd76934c",
   "metadata": {},
   "outputs": [],
   "source": [
    "d = a.copy()  # a new array object with new data is created\n",
    "\n",
    "d is a"
   ]
  },
  {
   "cell_type": "code",
   "execution_count": null,
   "id": "0b4d4218",
   "metadata": {},
   "outputs": [],
   "source": [
    "d.base is a  # d doesn't share anything with a"
   ]
  },
  {
   "cell_type": "code",
   "execution_count": null,
   "id": "c0ee1821",
   "metadata": {},
   "outputs": [],
   "source": [
    "d[0, 0] = 9999\n",
    "\n",
    "a"
   ]
  },
  {
   "cell_type": "markdown",
   "id": "18d3bb32",
   "metadata": {},
   "source": [
    "Sometimes copy should be called after slicing if the original array is not required anymore. For example, suppose a is a huge intermediate result and the final result b only contains a small fraction of a, a deep copy should be made when constructing b with slicing:"
   ]
  },
  {
   "cell_type": "code",
   "execution_count": null,
   "id": "a1f7dadc",
   "metadata": {},
   "outputs": [],
   "source": [
    "a = np.arange(int(1e8))\n",
    "\n",
    "b = a[:100].copy()\n",
    "\n",
    "del a  # the memory of ``a`` can be released."
   ]
  },
  {
   "cell_type": "markdown",
   "id": "eafe36b9",
   "metadata": {},
   "source": [
    "If `b = a[:100]` is used instead, a is referenced by b and will persist in memory even if del a is executed."
   ]
  },
  {
   "cell_type": "markdown",
   "id": "5067b70a",
   "metadata": {},
   "source": [
    "\n",
    "\n",
    "## Functions and Methods Overview\n",
    "\n",
    "<p>Here is a list of some useful NumPy functions and methods names\n",
    "ordered in categories. See <a class=\"reference internal\" href=\"https://numpy.org/devdocs/reference/routines.html#routines\"><span class=\"std std-ref\">Routines</span></a> for the full list.</p>\n",
    "<dl class=\"simple\">\n",
    "<dt>Array Creation</dt><dd><p><a class=\"reference internal\" href=\"https://numpy.org/devdocs/reference/generated/numpy.arange.html#numpy.arange\" title=\"numpy.arange\"><code class=\"xref py py-obj docutils literal notranslate\"><span class=\"pre\">arange</span></code></a>,\n",
    "<a class=\"reference internal\" href=\"https://numpy.org/devdocs/reference/generated/numpy.array.html#numpy.array\" title=\"numpy.array\"><code class=\"xref py py-obj docutils literal notranslate\"><span class=\"pre\">array</span></code></a>,\n",
    "<a class=\"reference internal\" href=\"https://numpy.org/devdocs/reference/generated/numpy.copy.html#numpy.copy\" title=\"numpy.copy\"><code class=\"xref py py-obj docutils literal notranslate\"><span class=\"pre\">copy</span></code></a>,\n",
    "<a class=\"reference internal\" href=\"https://numpy.org/devdocs/reference/generated/numpy.empty.html#numpy.empty\" title=\"numpy.empty\"><code class=\"xref py py-obj docutils literal notranslate\"><span class=\"pre\">empty</span></code></a>,\n",
    "<a class=\"reference internal\" href=\"https://numpy.org/devdocs/reference/generated/numpy.empty_like.html#numpy.empty_like\" title=\"numpy.empty_like\"><code class=\"xref py py-obj docutils literal notranslate\"><span class=\"pre\">empty_like</span></code></a>,\n",
    "<a class=\"reference internal\" href=\"https://numpy.org/devdocs/reference/generated/numpy.eye.html#numpy.eye\" title=\"numpy.eye\"><code class=\"xref py py-obj docutils literal notranslate\"><span class=\"pre\">eye</span></code></a>,\n",
    "<a class=\"reference internal\" href=\"https://numpy.org/devdocs/reference/generated/numpy.fromfile.html#numpy.fromfile\" title=\"numpy.fromfile\"><code class=\"xref py py-obj docutils literal notranslate\"><span class=\"pre\">fromfile</span></code></a>,\n",
    "<a class=\"reference internal\" href=\"https://numpy.org/devdocs/reference/generated/numpy.fromfunction.html#numpy.fromfunction\" title=\"numpy.fromfunction\"><code class=\"xref py py-obj docutils literal notranslate\"><span class=\"pre\">fromfunction</span></code></a>,\n",
    "<a class=\"reference internal\" href=\"https://numpy.org/devdocs/reference/generated/numpy.identity.html#numpy.identity\" title=\"numpy.identity\"><code class=\"xref py py-obj docutils literal notranslate\"><span class=\"pre\">identity</span></code></a>,\n",
    "<a class=\"reference internal\" href=\"https://numpy.org/devdocs/reference/generated/numpy.linspace.html#numpy.linspace\" title=\"numpy.linspace\"><code class=\"xref py py-obj docutils literal notranslate\"><span class=\"pre\">linspace</span></code></a>,\n",
    "<a class=\"reference internal\" href=\"https://numpy.org/devdocs/reference/generated/numpy.logspace.html#numpy.logspace\" title=\"numpy.logspace\"><code class=\"xref py py-obj docutils literal notranslate\"><span class=\"pre\">logspace</span></code></a>,\n",
    "<a class=\"reference internal\" href=\"https://numpy.org/devdocs/reference/generated/numpy.mgrid.html#numpy.mgrid\" title=\"numpy.mgrid\"><code class=\"xref py py-obj docutils literal notranslate\"><span class=\"pre\">mgrid</span></code></a>,\n",
    "<a class=\"reference internal\" href=\"https://numpy.org/devdocs/reference/generated/numpy.ogrid.html#numpy.ogrid\" title=\"numpy.ogrid\"><code class=\"xref py py-obj docutils literal notranslate\"><span class=\"pre\">ogrid</span></code></a>,\n",
    "<a class=\"reference internal\" href=\"https://numpy.org/devdocs/reference/generated/numpy.ones.html#numpy.ones\" title=\"numpy.ones\"><code class=\"xref py py-obj docutils literal notranslate\"><span class=\"pre\">ones</span></code></a>,\n",
    "<a class=\"reference internal\" href=\"https://numpy.org/devdocs/reference/generated/numpy.ones_like.html#numpy.ones_like\" title=\"numpy.ones_like\"><code class=\"xref py py-obj docutils literal notranslate\"><span class=\"pre\">ones_like</span></code></a>,\n",
    "<a class=\"reference internal\" href=\"https://numpy.org/devdocs/reference/generated/numpy.r_.html#numpy.r_\" title=\"numpy.r_\"><code class=\"xref py py-obj docutils literal notranslate\"><span class=\"pre\">r_</span></code></a>,\n",
    "<a class=\"reference internal\" href=\"https://numpy.org/devdocs/reference/generated/numpy.zeros.html#numpy.zeros\" title=\"numpy.zeros\"><code class=\"xref py py-obj docutils literal notranslate\"><span class=\"pre\">zeros</span></code></a>,\n",
    "<a class=\"reference internal\" href=\"https://numpy.org/devdocs/reference/generated/numpy.zeros_like.html#numpy.zeros_like\" title=\"numpy.zeros_like\"><code class=\"xref py py-obj docutils literal notranslate\"><span class=\"pre\">zeros_like</span></code></a></p>\n",
    "</dd>\n",
    "<dt>Conversions</dt><dd><p><a class=\"reference internal\" href=\"https://numpy.org/devdocs/reference/generated/numpy.ndarray.astype.html#numpy.ndarray.astype\" title=\"numpy.ndarray.astype\"><code class=\"xref py py-obj docutils literal notranslate\"><span class=\"pre\">ndarray.astype</span></code></a>,\n",
    "<a class=\"reference internal\" href=\"https://numpy.org/devdocs/reference/generated/numpy.atleast_1d.html#numpy.atleast_1d\" title=\"numpy.atleast_1d\"><code class=\"xref py py-obj docutils literal notranslate\"><span class=\"pre\">atleast_1d</span></code></a>,\n",
    "<a class=\"reference internal\" href=\"https://numpy.org/devdocs/reference/generated/numpy.atleast_2d.html#numpy.atleast_2d\" title=\"numpy.atleast_2d\"><code class=\"xref py py-obj docutils literal notranslate\"><span class=\"pre\">atleast_2d</span></code></a>,\n",
    "<a class=\"reference internal\" href=\"https://numpy.org/devdocs/reference/generated/numpy.atleast_3d.html#numpy.atleast_3d\" title=\"numpy.atleast_3d\"><code class=\"xref py py-obj docutils literal notranslate\"><span class=\"pre\">atleast_3d</span></code></a>,\n",
    "<a class=\"reference internal\" href=\"https://numpy.org/devdocs/reference/generated/numpy.mat.html#numpy.mat\" title=\"numpy.mat\"><code class=\"xref py py-obj docutils literal notranslate\"><span class=\"pre\">mat</span></code></a></p>\n",
    "</dd>\n",
    "<dt>Manipulations</dt><dd><p><a class=\"reference internal\" href=\"https://numpy.org/devdocs/reference/generated/numpy.array_split.html#numpy.array_split\" title=\"numpy.array_split\"><code class=\"xref py py-obj docutils literal notranslate\"><span class=\"pre\">array_split</span></code></a>,\n",
    "<a class=\"reference internal\" href=\"https://numpy.org/devdocs/reference/generated/numpy.column_stack.html#numpy.column_stack\" title=\"numpy.column_stack\"><code class=\"xref py py-obj docutils literal notranslate\"><span class=\"pre\">column_stack</span></code></a>,\n",
    "<a class=\"reference internal\" href=\"https://numpy.org/devdocs/reference/generated/numpy.concatenate.html#numpy.concatenate\" title=\"numpy.concatenate\"><code class=\"xref py py-obj docutils literal notranslate\"><span class=\"pre\">concatenate</span></code></a>,\n",
    "<a class=\"reference internal\" href=\"https://numpy.org/devdocs/reference/generated/numpy.diagonal.html#numpy.diagonal\" title=\"numpy.diagonal\"><code class=\"xref py py-obj docutils literal notranslate\"><span class=\"pre\">diagonal</span></code></a>,\n",
    "<a class=\"reference internal\" href=\"https://numpy.org/devdocs/reference/generated/numpy.dsplit.html#numpy.dsplit\" title=\"numpy.dsplit\"><code class=\"xref py py-obj docutils literal notranslate\"><span class=\"pre\">dsplit</span></code></a>,\n",
    "<a class=\"reference internal\" href=\"https://numpy.org/devdocs/reference/generated/numpy.dstack.html#numpy.dstack\" title=\"numpy.dstack\"><code class=\"xref py py-obj docutils literal notranslate\"><span class=\"pre\">dstack</span></code></a>,\n",
    "<a class=\"reference internal\" href=\"https://numpy.org/devdocs/reference/generated/numpy.hsplit.html#numpy.hsplit\" title=\"numpy.hsplit\"><code class=\"xref py py-obj docutils literal notranslate\"><span class=\"pre\">hsplit</span></code></a>,\n",
    "<a class=\"reference internal\" href=\"https://numpy.org/devdocs/reference/generated/numpy.hstack.html#numpy.hstack\" title=\"numpy.hstack\"><code class=\"xref py py-obj docutils literal notranslate\"><span class=\"pre\">hstack</span></code></a>,\n",
    "<a class=\"reference internal\" href=\"https://numpy.org/devdocs/reference/generated/numpy.ndarray.item.html#numpy.ndarray.item\" title=\"numpy.ndarray.item\"><code class=\"xref py py-obj docutils literal notranslate\"><span class=\"pre\">ndarray.item</span></code></a>,\n",
    "<a class=\"reference internal\" href=\"https://numpy.org/devdocs/reference/constants.html#numpy.newaxis\" title=\"numpy.newaxis\"><code class=\"xref py py-obj docutils literal notranslate\"><span class=\"pre\">newaxis</span></code></a>,\n",
    "<a class=\"reference internal\" href=\"https://numpy.org/devdocs/reference/generated/numpy.ravel.html#numpy.ravel\" title=\"numpy.ravel\"><code class=\"xref py py-obj docutils literal notranslate\"><span class=\"pre\">ravel</span></code></a>,\n",
    "<a class=\"reference internal\" href=\"https://numpy.org/devdocs/reference/generated/numpy.repeat.html#numpy.repeat\" title=\"numpy.repeat\"><code class=\"xref py py-obj docutils literal notranslate\"><span class=\"pre\">repeat</span></code></a>,\n",
    "<a class=\"reference internal\" href=\"https://numpy.org/devdocs/reference/generated/numpy.reshape.html#numpy.reshape\" title=\"numpy.reshape\"><code class=\"xref py py-obj docutils literal notranslate\"><span class=\"pre\">reshape</span></code></a>,\n",
    "<a class=\"reference internal\" href=\"https://numpy.org/devdocs/reference/generated/numpy.resize.html#numpy.resize\" title=\"numpy.resize\"><code class=\"xref py py-obj docutils literal notranslate\"><span class=\"pre\">resize</span></code></a>,\n",
    "<a class=\"reference internal\" href=\"https://numpy.org/devdocs/reference/generated/numpy.squeeze.html#numpy.squeeze\" title=\"numpy.squeeze\"><code class=\"xref py py-obj docutils literal notranslate\"><span class=\"pre\">squeeze</span></code></a>,\n",
    "<a class=\"reference internal\" href=\"https://numpy.org/devdocs/reference/generated/numpy.swapaxes.html#numpy.swapaxes\" title=\"numpy.swapaxes\"><code class=\"xref py py-obj docutils literal notranslate\"><span class=\"pre\">swapaxes</span></code></a>,\n",
    "<a class=\"reference internal\" href=\"https://numpy.org/devdocs/reference/generated/numpy.take.html#numpy.take\" title=\"numpy.take\"><code class=\"xref py py-obj docutils literal notranslate\"><span class=\"pre\">take</span></code></a>,\n",
    "<a class=\"reference internal\" href=\"https://numpy.org/devdocs/reference/generated/numpy.transpose.html#numpy.transpose\" title=\"numpy.transpose\"><code class=\"xref py py-obj docutils literal notranslate\"><span class=\"pre\">transpose</span></code></a>,\n",
    "<a class=\"reference internal\" href=\"https://numpy.org/devdocs/reference/generated/numpy.vsplit.html#numpy.vsplit\" title=\"numpy.vsplit\"><code class=\"xref py py-obj docutils literal notranslate\"><span class=\"pre\">vsplit</span></code></a>,\n",
    "<a class=\"reference internal\" href=\"https://numpy.org/devdocs/reference/generated/numpy.vstack.html#numpy.vstack\" title=\"numpy.vstack\"><code class=\"xref py py-obj docutils literal notranslate\"><span class=\"pre\">vstack</span></code></a></p>\n",
    "</dd>\n",
    "<dt>Questions</dt><dd><p><a class=\"reference internal\" href=\"https://numpy.org/devdocs/reference/generated/numpy.all.html#numpy.all\" title=\"numpy.all\"><code class=\"xref py py-obj docutils literal notranslate\"><span class=\"pre\">all</span></code></a>,\n",
    "<a class=\"reference internal\" href=\"https://numpy.org/devdocs/reference/generated/numpy.any.html#numpy.any\" title=\"numpy.any\"><code class=\"xref py py-obj docutils literal notranslate\"><span class=\"pre\">any</span></code></a>,\n",
    "<a class=\"reference internal\" href=\"https://numpy.org/devdocs/reference/generated/numpy.nonzero.html#numpy.nonzero\" title=\"numpy.nonzero\"><code class=\"xref py py-obj docutils literal notranslate\"><span class=\"pre\">nonzero</span></code></a>,\n",
    "<a class=\"reference internal\" href=\"https://numpy.org/devdocs/reference/generated/numpy.where.html#numpy.where\" title=\"numpy.where\"><code class=\"xref py py-obj docutils literal notranslate\"><span class=\"pre\">where</span></code></a></p>\n",
    "</dd>\n",
    "<dt>Ordering</dt><dd><p><a class=\"reference internal\" href=\"https://numpy.org/devdocs/reference/generated/numpy.argmax.html#numpy.argmax\" title=\"numpy.argmax\"><code class=\"xref py py-obj docutils literal notranslate\"><span class=\"pre\">argmax</span></code></a>,\n",
    "<a class=\"reference internal\" href=\"https://numpy.org/devdocs/reference/generated/numpy.argmin.html#numpy.argmin\" title=\"numpy.argmin\"><code class=\"xref py py-obj docutils literal notranslate\"><span class=\"pre\">argmin</span></code></a>,\n",
    "<a class=\"reference internal\" href=\"https://numpy.org/devdocs/reference/generated/numpy.argsort.html#numpy.argsort\" title=\"numpy.argsort\"><code class=\"xref py py-obj docutils literal notranslate\"><span class=\"pre\">argsort</span></code></a>,\n",
    "<a class=\"reference external\" href=\"https://docs.python.org/3/library/functions.html#max\" title=\"(in Python v3.10)\"><code class=\"xref py py-obj docutils literal notranslate\"><span class=\"pre\">max</span></code></a>,\n",
    "<a class=\"reference external\" href=\"https://docs.python.org/3/library/functions.html#min\" title=\"(in Python v3.10)\"><code class=\"xref py py-obj docutils literal notranslate\"><span class=\"pre\">min</span></code></a>,\n",
    "<a class=\"reference internal\" href=\"https://numpy.org/devdocs/reference/generated/numpy.ptp.html#numpy.ptp\" title=\"numpy.ptp\"><code class=\"xref py py-obj docutils literal notranslate\"><span class=\"pre\">ptp</span></code></a>,\n",
    "<a class=\"reference internal\" href=\"https://numpy.org/devdocs/reference/generated/numpy.searchsorted.html#numpy.searchsorted\" title=\"numpy.searchsorted\"><code class=\"xref py py-obj docutils literal notranslate\"><span class=\"pre\">searchsorted</span></code></a>,\n",
    "<a class=\"reference internal\" href=\"https://numpy.org/devdocs/reference/generated/numpy.sort.html#numpy.sort\" title=\"numpy.sort\"><code class=\"xref py py-obj docutils literal notranslate\"><span class=\"pre\">sort</span></code></a></p>\n",
    "</dd>\n",
    "<dt>Operations</dt><dd><p><a class=\"reference internal\" href=\"https://numpy.org/devdocs/reference/generated/numpy.choose.html#numpy.choose\" title=\"numpy.choose\"><code class=\"xref py py-obj docutils literal notranslate\"><span class=\"pre\">choose</span></code></a>,\n",
    "<a class=\"reference internal\" href=\"https://numpy.org/devdocs/reference/generated/numpy.compress.html#numpy.compress\" title=\"numpy.compress\"><code class=\"xref py py-obj docutils literal notranslate\"><span class=\"pre\">compress</span></code></a>,\n",
    "<a class=\"reference internal\" href=\"https://numpy.org/devdocs/reference/generated/numpy.cumprod.html#numpy.cumprod\" title=\"numpy.cumprod\"><code class=\"xref py py-obj docutils literal notranslate\"><span class=\"pre\">cumprod</span></code></a>,\n",
    "<a class=\"reference internal\" href=\"https://numpy.org/devdocs/reference/generated/numpy.cumsum.html#numpy.cumsum\" title=\"numpy.cumsum\"><code class=\"xref py py-obj docutils literal notranslate\"><span class=\"pre\">cumsum</span></code></a>,\n",
    "<a class=\"reference internal\" href=\"https://numpy.org/devdocs/reference/generated/numpy.inner.html#numpy.inner\" title=\"numpy.inner\"><code class=\"xref py py-obj docutils literal notranslate\"><span class=\"pre\">inner</span></code></a>,\n",
    "<a class=\"reference internal\" href=\"https://numpy.org/devdocs/reference/generated/numpy.ndarray.fill.html#numpy.ndarray.fill\" title=\"numpy.ndarray.fill\"><code class=\"xref py py-obj docutils literal notranslate\"><span class=\"pre\">ndarray.fill</span></code></a>,\n",
    "<a class=\"reference internal\" href=\"https://numpy.org/devdocs/reference/generated/numpy.imag.html#numpy.imag\" title=\"numpy.imag\"><code class=\"xref py py-obj docutils literal notranslate\"><span class=\"pre\">imag</span></code></a>,\n",
    "<a class=\"reference internal\" href=\"https://numpy.org/devdocs/reference/generated/numpy.prod.html#numpy.prod\" title=\"numpy.prod\"><code class=\"xref py py-obj docutils literal notranslate\"><span class=\"pre\">prod</span></code></a>,\n",
    "<a class=\"reference internal\" href=\"https://numpy.org/devdocs/reference/generated/numpy.put.html#numpy.put\" title=\"numpy.put\"><code class=\"xref py py-obj docutils literal notranslate\"><span class=\"pre\">put</span></code></a>,\n",
    "<a class=\"reference internal\" href=\"https://numpy.org/devdocs/reference/generated/numpy.putmask.html#numpy.putmask\" title=\"numpy.putmask\"><code class=\"xref py py-obj docutils literal notranslate\"><span class=\"pre\">putmask</span></code></a>,\n",
    "<a class=\"reference internal\" href=\"https://numpy.org/devdocs/reference/generated/numpy.real.html#numpy.real\" title=\"numpy.real\"><code class=\"xref py py-obj docutils literal notranslate\"><span class=\"pre\">real</span></code></a>,\n",
    "<a class=\"reference internal\" href=\"https://numpy.org/devdocs/reference/generated/numpy.sum.html#numpy.sum\" title=\"numpy.sum\"><code class=\"xref py py-obj docutils literal notranslate\"><span class=\"pre\">sum</span></code></a></p>\n",
    "</dd>\n",
    "<dt>Basic Statistics</dt><dd><p><a class=\"reference internal\" href=\"https://numpy.org/devdocs/reference/generated/numpy.cov.html#numpy.cov\" title=\"numpy.cov\"><code class=\"xref py py-obj docutils literal notranslate\"><span class=\"pre\">cov</span></code></a>,\n",
    "<a class=\"reference internal\" href=\"https://numpy.org/devdocs/reference/generated/numpy.mean.html#numpy.mean\" title=\"numpy.mean\"><code class=\"xref py py-obj docutils literal notranslate\"><span class=\"pre\">mean</span></code></a>,\n",
    "<a class=\"reference internal\" href=\"https://numpy.org/devdocs/reference/generated/numpy.std.html#numpy.std\" title=\"numpy.std\"><code class=\"xref py py-obj docutils literal notranslate\"><span class=\"pre\">std</span></code></a>,\n",
    "<a class=\"reference internal\" href=\"https://numpy.org/devdocs/reference/generated/numpy.var.html#numpy.var\" title=\"numpy.var\"><code class=\"xref py py-obj docutils literal notranslate\"><span class=\"pre\">var</span></code></a></p>\n",
    "</dd>\n",
    "<dt>Basic Linear Algebra</dt><dd><p><a class=\"reference internal\" href=\"https://numpy.org/devdocs/reference/generated/numpy.cross.html#numpy.cross\" title=\"numpy.cross\"><code class=\"xref py py-obj docutils literal notranslate\"><span class=\"pre\">cross</span></code></a>,\n",
    "<a class=\"reference internal\" href=\"https://numpy.org/devdocs/reference/generated/numpy.dot.html#numpy.dot\" title=\"numpy.dot\"><code class=\"xref py py-obj docutils literal notranslate\"><span class=\"pre\">dot</span></code></a>,\n",
    "<a class=\"reference internal\" href=\"https://numpy.org/devdocs/reference/generated/numpy.outer.html#numpy.outer\" title=\"numpy.outer\"><code class=\"xref py py-obj docutils literal notranslate\"><span class=\"pre\">outer</span></code></a>,\n",
    "<a class=\"reference internal\" href=\"https://numpy.org/devdocs/reference/generated/numpy.linalg.svd.html#numpy.linalg.svd\" title=\"numpy.linalg.svd\"><code class=\"xref py py-obj docutils literal notranslate\"><span class=\"pre\">linalg.svd</span></code></a>,\n",
    "<a class=\"reference internal\" href=\"https://numpy.org/devdocs/reference/generated/numpy.vdot.html#numpy.vdot\" title=\"numpy.vdot\"><code class=\"xref py py-obj docutils literal notranslate\"><span class=\"pre\">vdot</span></code></a></p>\n",
    "</dd>\n",
    "</dl>\n"
   ]
  },
  {
   "cell_type": "markdown",
   "id": "4c6c895b",
   "metadata": {},
   "source": [
    "## Less Basic\n",
    "### Broadcasting rules\n",
    "\n",
    "Broadcasting allows universal functions to deal in a meaningful way with inputs that do not have exactly the same shape.\n",
    "\n",
    "The first rule of broadcasting is that if all input arrays do not have the same number of dimensions, a “1” will be repeatedly prepended to the shapes of the smaller arrays until all the arrays have the same number of dimensions.\n",
    "\n",
    "The second rule of broadcasting ensures that arrays with a size of 1 along a particular dimension act as if they had the size of the array with the largest shape along that dimension. The value of the array element is assumed to be the same along that dimension for the “broadcast” array.\n",
    "\n",
    "After application of the broadcasting rules, the sizes of all arrays must match. More details can be found in Broadcasting.\n",
    "\n",
    "## Advanced indexing and index tricks\n",
    "\n",
    "NumPy offers more indexing facilities than regular Python sequences. In addition to indexing by integers and slices, as we saw before, arrays can be indexed by arrays of integers and arrays of booleans.\n",
    "\n",
    "### Indexing with Arrays of Indices¶"
   ]
  },
  {
   "cell_type": "code",
   "execution_count": null,
   "id": "74903e89",
   "metadata": {},
   "outputs": [],
   "source": [
    "a = np.arange(12)**2  # the first 12 square numbers\n",
    "\n",
    "i = np.array([1, 1, 3, 8, 5])  # an array of indices\n",
    "\n",
    "a[i]  # the elements of `a` at the positions `i`"
   ]
  },
  {
   "cell_type": "code",
   "execution_count": null,
   "id": "70e27159",
   "metadata": {},
   "outputs": [],
   "source": [
    "j = np.array([[3, 4], [9, 7]])  # a bidimensional array of indices\n",
    "\n",
    "a[j]  # the same shape as `j`"
   ]
  },
  {
   "cell_type": "markdown",
   "id": "94783cc3",
   "metadata": {},
   "source": [
    "When the indexed array a is multidimensional, a single array of indices refers to the first dimension of a. The following example shows this behavior by converting an image of labels into a color image using a palette."
   ]
  },
  {
   "cell_type": "code",
   "execution_count": null,
   "id": "c0e58133",
   "metadata": {},
   "outputs": [],
   "source": [
    "palette = np.array([[0, 0, 0],         # black\n",
    "\n",
    "                    [255, 0, 0],       # red\n",
    "\n",
    "                    [0, 255, 0],       # green\n",
    "\n",
    "                    [0, 0, 255],       # blue\n",
    "\n",
    "                    [255, 255, 255]])  # white\n",
    "\n",
    "image = np.array([[0, 1, 2, 0],  # each value corresponds to a color in the palette\n",
    "\n",
    "                  [0, 3, 4, 0]])\n",
    "\n",
    "palette[image]  # the (2, 4, 3) color image\n"
   ]
  },
  {
   "cell_type": "markdown",
   "id": "ba40006f",
   "metadata": {},
   "source": [
    "We can also give indexes for more than one dimension. The arrays of indices for each dimension must have the same shape."
   ]
  },
  {
   "cell_type": "code",
   "execution_count": null,
   "id": "1be2a002",
   "metadata": {},
   "outputs": [],
   "source": [
    "a = np.arange(12).reshape(3, 4)\n",
    "\n",
    "a"
   ]
  },
  {
   "cell_type": "code",
   "execution_count": null,
   "id": "9d3fa74d",
   "metadata": {},
   "outputs": [],
   "source": [
    "i = np.array([[0, 1],  # indices for the first dim of `a`\n",
    "\n",
    "              [1, 2]])\n",
    "\n",
    "j = np.array([[2, 1],  # indices for the second dim\n",
    "\n",
    "              [3, 3]])\n",
    "\n",
    "\n",
    "a[i, j]  # i and j must have equal shape"
   ]
  },
  {
   "cell_type": "code",
   "execution_count": null,
   "id": "a8f1cc6e",
   "metadata": {},
   "outputs": [],
   "source": [
    "a[i, 2]"
   ]
  },
  {
   "cell_type": "code",
   "execution_count": null,
   "id": "36287e52",
   "metadata": {},
   "outputs": [],
   "source": [
    "a[:, j]"
   ]
  },
  {
   "cell_type": "markdown",
   "id": "182ad687",
   "metadata": {},
   "source": [
    "In Python, `arr[i, j]` is exactly the same as `arr[(i, j)]` —so we can put `i` and `j` in a tuple and then do the indexing with that."
   ]
  },
  {
   "cell_type": "code",
   "execution_count": null,
   "id": "c55483b6",
   "metadata": {},
   "outputs": [],
   "source": [
    "l = (i, j)\n",
    "\n",
    "# equivalent to a[i, j]\n",
    "\n",
    "a[l]"
   ]
  },
  {
   "cell_type": "markdown",
   "id": "42b0edaf",
   "metadata": {},
   "source": [
    "However, we can not do this by putting `i` and `j` into an array, because this array will be interpreted as indexing the first dimension of a."
   ]
  },
  {
   "cell_type": "code",
   "execution_count": null,
   "id": "37b894ac",
   "metadata": {},
   "outputs": [],
   "source": [
    "s = np.array([i, j])\n",
    "\n",
    "# not what we want\n",
    "\n",
    "a[s]"
   ]
  },
  {
   "cell_type": "markdown",
   "id": "f601ad76",
   "metadata": {},
   "source": [
    "Another common use of indexing with arrays is the search of the maximum value of time-dependent series:"
   ]
  },
  {
   "cell_type": "code",
   "execution_count": null,
   "id": "09779568",
   "metadata": {},
   "outputs": [],
   "source": [
    "time = np.linspace(20, 145, 5)  # time scale\n",
    "\n",
    "data = np.sin(np.arange(20)).reshape(5, 4)  # 4 time-dependent series\n",
    "\n",
    "time"
   ]
  },
  {
   "cell_type": "code",
   "execution_count": null,
   "id": "ca6da902",
   "metadata": {},
   "outputs": [],
   "source": [
    "data"
   ]
  },
  {
   "cell_type": "code",
   "execution_count": null,
   "id": "05e6d3c5",
   "metadata": {},
   "outputs": [],
   "source": [
    "# index of the maxima for each series\n",
    "\n",
    "ind = data.argmax(axis=0)"
   ]
  },
  {
   "cell_type": "code",
   "execution_count": null,
   "id": "22e03280",
   "metadata": {},
   "outputs": [],
   "source": [
    "ind"
   ]
  },
  {
   "cell_type": "code",
   "execution_count": null,
   "id": "4b89a2e3",
   "metadata": {},
   "outputs": [],
   "source": [
    "# times corresponding to the maxima\n",
    "\n",
    "time_max = time[ind]\n",
    "\n",
    "data_max = data[ind, range(data.shape[1])]  # => data[ind[0], 0], data[ind[1], 1]...\n",
    "\n",
    "time_max"
   ]
  },
  {
   "cell_type": "code",
   "execution_count": null,
   "id": "ea9c3d9c",
   "metadata": {},
   "outputs": [],
   "source": [
    "data_max"
   ]
  },
  {
   "cell_type": "code",
   "execution_count": null,
   "id": "5080d6e5",
   "metadata": {},
   "outputs": [],
   "source": [
    "np.all(data_max == data.max(axis=0))"
   ]
  },
  {
   "cell_type": "markdown",
   "id": "e232638e",
   "metadata": {},
   "source": [
    "You can also use indexing with arrays as a target to assign to:"
   ]
  },
  {
   "cell_type": "code",
   "execution_count": null,
   "id": "5317fb51",
   "metadata": {},
   "outputs": [],
   "source": [
    "a = np.arange(5)\n",
    "\n",
    "a"
   ]
  },
  {
   "cell_type": "code",
   "execution_count": null,
   "id": "5afe046c",
   "metadata": {},
   "outputs": [],
   "source": [
    "a[[1, 3, 4]] = 0\n",
    "\n",
    "a\n"
   ]
  },
  {
   "cell_type": "markdown",
   "id": "b7f14835",
   "metadata": {},
   "source": [
    "However, when the list of indices contains repetitions, the assignment is done several times, leaving behind the last value:"
   ]
  },
  {
   "cell_type": "code",
   "execution_count": null,
   "id": "225f010e",
   "metadata": {},
   "outputs": [],
   "source": [
    "a = np.arange(5)\n",
    "\n",
    "a[[0, 0, 2]] = [1, 2, 3] # on assigne 1 puis 2 à la position 0\n",
    "\n",
    "a\n"
   ]
  },
  {
   "cell_type": "markdown",
   "id": "242a13b1",
   "metadata": {},
   "source": [
    "This is reasonable enough, but watch out if you want to use Python’s += construct, as it may not do what you expect:"
   ]
  },
  {
   "cell_type": "code",
   "execution_count": null,
   "id": "8aeb1ca4",
   "metadata": {},
   "outputs": [],
   "source": [
    "a = np.arange(5)\n",
    "\n",
    "a[[0, 0, 2]] += 1\n",
    "\n",
    "a"
   ]
  },
  {
   "cell_type": "markdown",
   "id": "cc3591c1",
   "metadata": {},
   "source": [
    "Even though 0 occurs twice in the list of indices, the 0th element is only incremented once. This is because Python requires a += 1 to be equivalent to a = a + 1."
   ]
  },
  {
   "cell_type": "markdown",
   "id": "e00d7dc3",
   "metadata": {},
   "source": [
    "### Indexing with Boolean Arrays\n",
    "\n",
    "When we index arrays with arrays of (integer) indices we are providing the list of indices to pick. With boolean indices the approach is different; we explicitly choose which items in the array we want and which ones we don’t.\n",
    "\n",
    "The most natural way one can think of for boolean indexing is to use boolean arrays that have the same shape as the original array:"
   ]
  },
  {
   "cell_type": "code",
   "execution_count": null,
   "id": "415a944c",
   "metadata": {},
   "outputs": [],
   "source": [
    "a = np.arange(12).reshape(3, 4)\n",
    "\n",
    "b = a > 4\n",
    "\n",
    "b  # `b` is a boolean with `a`'s shape"
   ]
  },
  {
   "cell_type": "code",
   "execution_count": null,
   "id": "cf3f21ef",
   "metadata": {},
   "outputs": [],
   "source": [
    "a[b]  # 1d array with the selected elements"
   ]
  },
  {
   "cell_type": "markdown",
   "id": "e6a6b1ab",
   "metadata": {},
   "source": [
    "This property can be very useful in assignments:"
   ]
  },
  {
   "cell_type": "code",
   "execution_count": null,
   "id": "32fceb26",
   "metadata": {},
   "outputs": [],
   "source": [
    "a[b] = 0  # All elements of `a` higher than 4 become 0\n",
    "\n",
    "a"
   ]
  },
  {
   "cell_type": "markdown",
   "id": "0f2f8b2f",
   "metadata": {},
   "source": [
    "You can look at the following example to see how to use boolean indexing to generate an image of the Mandelbrot set:"
   ]
  },
  {
   "cell_type": "code",
   "execution_count": null,
   "id": "3669d37b",
   "metadata": {},
   "outputs": [],
   "source": [
    "import numpy as np\n",
    "\n",
    "import matplotlib.pyplot as plt\n",
    "\n",
    "\n",
    "def mandelbrot(h, w, maxit=20, r=2):\n",
    "    \"\"\"Returns an image of the Mandelbrot fractal of size (h,w).\"\"\"\n",
    "\n",
    "    x = np.linspace(-2.5, 1.5, 4 * h + 1)\n",
    "\n",
    "    y = np.linspace(-1.5, 1.5, 3 * w + 1)\n",
    "\n",
    "    A, B = np.meshgrid(x, y)\n",
    "\n",
    "    C = A + B * 1j\n",
    "\n",
    "    z = np.zeros_like(C)\n",
    "\n",
    "    divtime = maxit + np.zeros(z.shape, dtype=int)\n",
    "\n",
    "    for i in range(maxit):\n",
    "\n",
    "        z = z**2 + C\n",
    "\n",
    "        diverge = abs(z) > r  # who is diverging\n",
    "\n",
    "        div_now = diverge & (divtime == maxit)  # who is diverging now\n",
    "\n",
    "        divtime[div_now] = i  # note when\n",
    "\n",
    "        z[diverge] = r  # avoid diverging too much\n",
    "\n",
    "    return divtime\n",
    "\n",
    "\n",
    "plt.clf()\n",
    "\n",
    "plt.imshow(mandelbrot(400, 400))\n",
    "plt.show()"
   ]
  },
  {
   "cell_type": "markdown",
   "id": "edcb4d33",
   "metadata": {},
   "source": [
    "The second way of indexing with booleans is more similar to integer indexing; for each dimension of the array we give a 1D boolean array selecting the slices we want:"
   ]
  },
  {
   "cell_type": "code",
   "execution_count": null,
   "id": "734e90bf",
   "metadata": {},
   "outputs": [],
   "source": [
    "a = np.arange(12).reshape(3, 4)\n",
    "\n",
    "b1 = np.array([False, True, True])         # first dim selection\n",
    "\n",
    "b2 = np.array([True, False, True, False])  # second dim selection\n",
    "\n",
    "\n",
    "a[b1, :]     # selecting rows"
   ]
  },
  {
   "cell_type": "code",
   "execution_count": null,
   "id": "2a7b71d1",
   "metadata": {},
   "outputs": [],
   "source": [
    "a[b1]                                      # same thing"
   ]
  },
  {
   "cell_type": "code",
   "execution_count": null,
   "id": "ec9c498f",
   "metadata": {},
   "outputs": [],
   "source": [
    "a[:, b2]                                   # selecting columns"
   ]
  },
  {
   "cell_type": "code",
   "execution_count": null,
   "id": "d323adaf",
   "metadata": {},
   "outputs": [],
   "source": [
    "a[b1, b2]                                  # a weird thing to do"
   ]
  },
  {
   "cell_type": "markdown",
   "id": "86fe7673",
   "metadata": {},
   "source": [
    "Note that the length of the 1D boolean array must coincide with the length of the dimension (or axis) you want to slice. In the previous example, b1 has length 3 (the number of rows in a), and b2 (of length 4) is suitable to index the 2nd axis (columns) of a.\n",
    "\n",
    "### The ix_() function\n",
    "\n",
    "The ix_ function can be used to combine different vectors so as to obtain the result for each n-uplet. For example, if you want to compute all the a+b*c for all the triplets taken from each of the vectors a, b and c:"
   ]
  },
  {
   "cell_type": "code",
   "execution_count": null,
   "id": "b37f46ac",
   "metadata": {},
   "outputs": [],
   "source": [
    "a = np.array([2, 3, 4, 5])\n",
    "\n",
    "b = np.array([8, 5, 4])\n",
    "\n",
    "c = np.array([5, 4, 6, 8, 3])\n",
    "\n",
    "ax, bx, cx = np.ix_(a, b, c)\n",
    "\n",
    "ax"
   ]
  },
  {
   "cell_type": "code",
   "execution_count": null,
   "id": "81adb0f9",
   "metadata": {},
   "outputs": [],
   "source": [
    "bx"
   ]
  },
  {
   "cell_type": "code",
   "execution_count": null,
   "id": "2e6374a8",
   "metadata": {},
   "outputs": [],
   "source": [
    "cx"
   ]
  },
  {
   "cell_type": "code",
   "execution_count": null,
   "id": "d84ce897",
   "metadata": {},
   "outputs": [],
   "source": [
    "ax.shape, bx.shape, cx.shape"
   ]
  },
  {
   "cell_type": "code",
   "execution_count": null,
   "id": "d4afdb7c",
   "metadata": {},
   "outputs": [],
   "source": [
    "result = ax + bx * cx\n",
    "\n",
    "result"
   ]
  },
  {
   "cell_type": "code",
   "execution_count": null,
   "id": "a1e4ce24",
   "metadata": {},
   "outputs": [],
   "source": [
    "result[3, 2, 4]"
   ]
  },
  {
   "cell_type": "code",
   "execution_count": null,
   "id": "55330241",
   "metadata": {},
   "outputs": [],
   "source": [
    "a[3] + b[2] * c[4]"
   ]
  },
  {
   "cell_type": "markdown",
   "id": "61256137",
   "metadata": {},
   "source": [
    "You could also implement the reduce as follows:"
   ]
  },
  {
   "cell_type": "code",
   "execution_count": null,
   "id": "248cdf20",
   "metadata": {},
   "outputs": [],
   "source": [
    "def ufunc_reduce(ufct, *vectors):\n",
    "\n",
    "    vs = np.ix_(*vectors)\n",
    "\n",
    "    r = ufct.identity\n",
    "\n",
    "    for v in vs:\n",
    "\n",
    "       r = ufct(r, v)\n",
    "\n",
    "    return r"
   ]
  },
  {
   "cell_type": "markdown",
   "id": "0bb5c185",
   "metadata": {},
   "source": [
    "and then use it as:"
   ]
  },
  {
   "cell_type": "code",
   "execution_count": null,
   "id": "fdfbc37f",
   "metadata": {},
   "outputs": [],
   "source": [
    "ufunc_reduce(np.add, a, b, c)"
   ]
  },
  {
   "cell_type": "markdown",
   "id": "e812765b",
   "metadata": {},
   "source": [
    "The advantage of this version of reduce compared to the normal ufunc.reduce is that it makes use of the broadcasting rules in order to avoid creating an argument array the size of the output times the number of vectors."
   ]
  },
  {
   "cell_type": "markdown",
   "id": "7d09ee7f",
   "metadata": {},
   "source": [
    "## Tricks and Tips\n",
    "\n",
    "Here we give a list of short and useful tips.\n",
    "### “Automatic” Reshaping\n",
    "\n",
    "To change the dimensions of an array, you can omit one of the sizes which will then be deduced automatically:"
   ]
  },
  {
   "cell_type": "code",
   "execution_count": null,
   "id": "fbb22450",
   "metadata": {},
   "outputs": [],
   "source": [
    "a = np.arange(30)\n",
    "\n",
    "b = a.reshape((2, -1, 3))  # -1 means \"whatever is needed\"\n",
    "\n",
    "b.shape"
   ]
  },
  {
   "cell_type": "code",
   "execution_count": null,
   "id": "d42fa585",
   "metadata": {},
   "outputs": [],
   "source": [
    "b"
   ]
  },
  {
   "cell_type": "markdown",
   "id": "58cab941",
   "metadata": {},
   "source": [
    "Vector Stacking\n",
    "\n",
    "How do we construct a 2D array from a list of equally-sized row vectors? In MATLAB this is quite easy: if x and y are two vectors of the same length you only need do m=[x;y]. In NumPy this works via the functions column_stack, dstack, hstack and vstack, depending on the dimension in which the stacking is to be done. For example:"
   ]
  },
  {
   "cell_type": "code",
   "execution_count": null,
   "id": "107d18c2",
   "metadata": {},
   "outputs": [],
   "source": [
    "x = np.arange(0, 10, 2)\n",
    "\n",
    "y = np.arange(5)\n",
    "\n",
    "m = np.vstack([x, y])\n",
    "\n",
    "m"
   ]
  },
  {
   "cell_type": "code",
   "execution_count": null,
   "id": "105aed82",
   "metadata": {},
   "outputs": [],
   "source": [
    "xy = np.hstack([x, y])\n",
    "\n",
    "xy"
   ]
  },
  {
   "cell_type": "markdown",
   "id": "bb4e07ac",
   "metadata": {},
   "source": [
    "The logic behind those functions in more than two dimensions can be strange."
   ]
  },
  {
   "cell_type": "markdown",
   "id": "d0890b59",
   "metadata": {},
   "source": [
    "### Histograms\n",
    "\n",
    "The NumPy histogram function applied to an array returns a pair of vectors: the histogram of the array and a vector of the bin edges. Beware: matplotlib also has a function to build histograms (called hist, as in Matlab) that differs from the one in NumPy. The main difference is that pylab.hist plots the histogram automatically, while numpy.histogram only generates the data."
   ]
  },
  {
   "cell_type": "code",
   "execution_count": null,
   "id": "937fbb25",
   "metadata": {},
   "outputs": [],
   "source": [
    "import numpy as np\n",
    "\n",
    "rg = np.random.default_rng(1)\n",
    "\n",
    "import matplotlib.pyplot as plt\n",
    "\n",
    "# Build a vector of 10000 normal deviates with variance 0.5^2 and mean 2\n",
    "\n",
    "mu, sigma = 2, 0.5\n",
    "\n",
    "v = rg.normal(mu, sigma, 10000)\n",
    "\n",
    "# Plot a normalized histogram with 50 bins\n",
    "\n",
    "plt.hist(v, bins=50, density=True)  # matplotlib version (plot)\n",
    "\n",
    "# Compute the histogram with numpy and then plot it\n",
    "\n",
    "(n, bins) = np.histogram(v, bins=50, density=True)  # NumPy version (no plot)\n",
    "\n",
    "plt.plot(.5 * (bins[1:] + bins[:-1]), n);"
   ]
  },
  {
   "cell_type": "code",
   "execution_count": null,
   "id": "ee00961c",
   "metadata": {},
   "outputs": [],
   "source": []
  }
 ],
 "metadata": {
  "kernelspec": {
   "display_name": "Python 3 (ipykernel)",
   "language": "python",
   "name": "python3"
  },
  "language_info": {
   "codemirror_mode": {
    "name": "ipython",
    "version": 3
   },
   "file_extension": ".py",
   "mimetype": "text/x-python",
   "name": "python",
   "nbconvert_exporter": "python",
   "pygments_lexer": "ipython3",
   "version": "3.10.0rc1"
  },
  "toc": {
   "base_numbering": 1,
   "nav_menu": {},
   "number_sections": false,
   "sideBar": true,
   "skip_h1_title": true,
   "title_cell": "Table des Matières",
   "title_sidebar": "Contents",
   "toc_cell": true,
   "toc_position": {},
   "toc_section_display": true,
   "toc_window_display": true
  }
 },
 "nbformat": 4,
 "nbformat_minor": 5
}
