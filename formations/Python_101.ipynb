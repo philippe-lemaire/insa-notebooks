{
 "cells": [
  {
   "cell_type": "markdown",
   "id": "9afd47c8",
   "metadata": {
    "toc": true
   },
   "source": [
    "<h1>Table des matières<span class=\"tocSkip\"></span></h1>\n",
    "<div class=\"toc\"><ul class=\"toc-item\"><li><span><a href=\"#Introduction-à-Python\" data-toc-modified-id=\"Introduction-à-Python-1\"><span class=\"toc-item-num\">1&nbsp;&nbsp;</span>Introduction à Python</a></span></li><li><span><a href=\"#Installation-:-Miniconda\" data-toc-modified-id=\"Installation-:-Miniconda-2\"><span class=\"toc-item-num\">2&nbsp;&nbsp;</span>Installation : Miniconda</a></span></li><li><span><a href=\"#Les-variables\" data-toc-modified-id=\"Les-variables-3\"><span class=\"toc-item-num\">3&nbsp;&nbsp;</span>Les variables</a></span></li><li><span><a href=\"#Les-types-de-données-fournis\" data-toc-modified-id=\"Les-types-de-données-fournis-4\"><span class=\"toc-item-num\">4&nbsp;&nbsp;</span>Les types de données fournis</a></span><ul class=\"toc-item\"><li><span><a href=\"#Les-Chaînes-de-caractères-(strings)\" data-toc-modified-id=\"Les-Chaînes-de-caractères-(strings)-4.1\"><span class=\"toc-item-num\">4.1&nbsp;&nbsp;</span>Les Chaînes de caractères (strings)</a></span></li><li><span><a href=\"#Les-Nombres-et-opérateurs\" data-toc-modified-id=\"Les-Nombres-et-opérateurs-4.2\"><span class=\"toc-item-num\">4.2&nbsp;&nbsp;</span>Les Nombres et opérateurs</a></span></li><li><span><a href=\"#Les-variables-et-opérateurs-booléens\" data-toc-modified-id=\"Les-variables-et-opérateurs-booléens-4.3\"><span class=\"toc-item-num\">4.3&nbsp;&nbsp;</span>Les variables et opérateurs booléens</a></span></li><li><span><a href=\"#La-constante-None\" data-toc-modified-id=\"La-constante-None-4.4\"><span class=\"toc-item-num\">4.4&nbsp;&nbsp;</span>La constante None</a></span></li><li><span><a href=\"#Les-Collections-:-listes,-tuples,-ensembles-et-dictionnaires\" data-toc-modified-id=\"Les-Collections-:-listes,-tuples,-ensembles-et-dictionnaires-4.5\"><span class=\"toc-item-num\">4.5&nbsp;&nbsp;</span>Les Collections : listes, tuples, ensembles et dictionnaires</a></span></li></ul></li><li><span><a href=\"#Exécution-conditionnelle-et-boucles\" data-toc-modified-id=\"Exécution-conditionnelle-et-boucles-5\"><span class=\"toc-item-num\">5&nbsp;&nbsp;</span>Exécution conditionnelle et boucles</a></span><ul class=\"toc-item\"><li><span><a href=\"#Exécution-conditionnelle\" data-toc-modified-id=\"Exécution-conditionnelle-5.1\"><span class=\"toc-item-num\">5.1&nbsp;&nbsp;</span>Exécution conditionnelle</a></span></li><li><span><a href=\"#Boucles\" data-toc-modified-id=\"Boucles-5.2\"><span class=\"toc-item-num\">5.2&nbsp;&nbsp;</span>Boucles</a></span><ul class=\"toc-item\"><li><span><a href=\"#La-boucle-for\" data-toc-modified-id=\"La-boucle-for-5.2.1\"><span class=\"toc-item-num\">5.2.1&nbsp;&nbsp;</span>La boucle for</a></span></li><li><span><a href=\"#La-boucle-while\" data-toc-modified-id=\"La-boucle-while-5.2.2\"><span class=\"toc-item-num\">5.2.2&nbsp;&nbsp;</span>La boucle while</a></span></li></ul></li></ul></li><li><span><a href=\"#Les-fonctions\" data-toc-modified-id=\"Les-fonctions-6\"><span class=\"toc-item-num\">6&nbsp;&nbsp;</span>Les fonctions</a></span></li></ul></div>"
   ]
  },
  {
   "cell_type": "markdown",
   "id": "bccadeb4",
   "metadata": {
    "ExecuteTime": {
     "end_time": "2022-01-18T08:22:26.693572Z",
     "start_time": "2022-01-18T08:22:26.686858Z"
    }
   },
   "source": [
    "<div class=\"alert alert-success\">Ce document est un Notebook Jupyter. Il est concu pour que vous exécutiez les cellules pour faire apparaître leur résultat juste en dessous. \n",
    "Le raccourci clavier pour exécuter une cellule et passer le contrôle à la suivante est <b>Shift + Entrée</b></div>"
   ]
  },
  {
   "cell_type": "markdown",
   "id": "9f6a3eec",
   "metadata": {
    "ExecuteTime": {
     "end_time": "2022-01-17T16:26:08.455525Z",
     "start_time": "2022-01-17T16:26:08.450289Z"
    }
   },
   "source": [
    "# Python - Les bases"
   ]
  },
  {
   "cell_type": "markdown",
   "id": "9f6843e1",
   "metadata": {},
   "source": [
    "## Introduction à Python"
   ]
  },
  {
   "cell_type": "markdown",
   "id": "92f56293",
   "metadata": {},
   "source": [
    "Le langage de programmation Python a été créé en 1989 par Guido van Rossum, aux Pays-Bas. Le nom Python vient d'un hommage à la série télévisée Monty Python's Flying Circus dont Guido van Rossum est fan. La première version publique de ce langage a été publiée en 1991.\n",
    "\n",
    "La dernière version de Python est la version 3. Plus précisément, la version 3.10 a été publiée en octobre 2021. La version 2 de Python est désormais obsolète et n’est plus maintenue. N'utilisez pas la version 2."
   ]
  },
  {
   "cell_type": "markdown",
   "id": "93e879d2",
   "metadata": {},
   "source": [
    "\n",
    "Ce langage de programmation présente de nombreuses caractéristiques intéressantes :\n",
    "\n",
    "- Il est multiplateforme. C'est-à-dire qu'il fonctionne sur de nombreux systèmes d'exploitation : Windows, Mac OS X, Linux, Android, iOS, depuis les mini-ordinateurs Raspberry Pi jusqu'aux supercalculateurs.\n",
    "- Il est gratuit. Vous pouvez l'installer sur autant d'ordinateurs que vous voulez (même sur votre téléphone !).\n",
    "- C'est un langage de haut niveau. Il demande relativement peu de connaissance sur le fonctionnement d'un ordinateur pour être utilisé.\n",
    "- C'est un langage interprété. Un script Python n'a pas besoin d'être compilé pour être exécuté, contrairement à des langages comme le C ou le C++.\n",
    "- Il est orienté objet. C'est-à-dire qu'il est possible de concevoir en Python des entités qui miment celles du monde réel (une cellule, une protéine, un atome, etc.) avec un certain nombre de règles de fonctionnement et d'interactions.\n",
    "- Il est relativement *simple* à prendre en main.\n",
    "- Enfin, il est très utilisé en sciences et plus généralement en analyse de données.\n"
   ]
  },
  {
   "cell_type": "markdown",
   "id": "4c3e7081",
   "metadata": {},
   "source": [
    "## Installation : Miniconda\n",
    "\n",
    "Nous vous conseillons d'installer [Miniconda](https://conda.io/miniconda.html), logiciel gratuit, disponible pour Windows, Mac OS X et Linux, et qui installera pour vous Python 3.\n",
    "\n",
    "Avec le gestionnaire de paquets conda, fourni avec Miniconda, vous pourrez installer des modules supplémentaires qui sont très utiles pour toutes les disciplines (NumPy, scipy, matplotlib, pandas, Biopython), mais également les notebooks Jupyter. "
   ]
  },
  {
   "cell_type": "markdown",
   "id": "45ecfb09",
   "metadata": {},
   "source": [
    "## Les variables"
   ]
  },
  {
   "cell_type": "markdown",
   "id": "7896661c",
   "metadata": {},
   "source": [
    "<div class='alert alert-info'>\n",
    "    <p>Une <b>variable</b> est une zone de la mémoire de l'ordinateur dans laquelle une valeur est stockée. Aux yeux du programmeur, cette variable est définie par un <b>nom</b>, alors que pour l'ordinateur, il s'agit en fait d'une adresse, c'est-à-dire d'une zone particulière de la mémoire.</p>\n",
    "</div>"
   ]
  },
  {
   "cell_type": "markdown",
   "id": "111fe539",
   "metadata": {},
   "source": [
    "<div class='alert alert-info'>    \n",
    "<p>En Python, la déclaration d'une variable et son initialisation (c'est-à-dire la première valeur que l'on va stocker dedans) se font en même temps. Pour vous en convaincre, testez les instructions suivantes en exécutant les 2 cellules ci-dessous (bouton exécuter dans la barre d'outils du notebook ou bien raccourci clavier <b>Ctrl + Maj</b></p></div>"
   ]
  },
  {
   "cell_type": "code",
   "execution_count": null,
   "id": "04a8454e",
   "metadata": {
    "ExecuteTime": {
     "end_time": "2022-01-18T08:07:11.539309Z",
     "start_time": "2022-01-18T08:07:11.534928Z"
    }
   },
   "outputs": [],
   "source": [
    "a = 2 + 2"
   ]
  },
  {
   "cell_type": "code",
   "execution_count": null,
   "id": "b4a9af91",
   "metadata": {
    "ExecuteTime": {
     "end_time": "2022-01-18T08:07:11.692101Z",
     "start_time": "2022-01-18T08:07:11.686356Z"
    }
   },
   "outputs": [],
   "source": [
    "a"
   ]
  },
  {
   "cell_type": "markdown",
   "id": "b37e98a0",
   "metadata": {},
   "source": [
    "<div class='alert alert-info'>La variable peut ensuite être mise à jour librement :</div>"
   ]
  },
  {
   "cell_type": "code",
   "execution_count": null,
   "id": "79ef80f2",
   "metadata": {
    "ExecuteTime": {
     "end_time": "2022-01-18T08:07:12.152266Z",
     "start_time": "2022-01-18T08:07:12.141150Z"
    }
   },
   "outputs": [],
   "source": [
    "a = a + 1 # Le nouveau a devient l’ancien a + 1. NB : ceci n'est pas une équation\n",
    "a"
   ]
  },
  {
   "cell_type": "markdown",
   "id": "b40787fa",
   "metadata": {},
   "source": [
    "<div class='alert alert-info'>Ce genre d'opérations de mise à jour étant très fréquent il existe un raccourci </div>"
   ]
  },
  {
   "cell_type": "code",
   "execution_count": null,
   "id": "92d74626",
   "metadata": {
    "ExecuteTime": {
     "end_time": "2022-01-18T08:07:12.434987Z",
     "start_time": "2022-01-18T08:07:12.428523Z"
    }
   },
   "outputs": [],
   "source": [
    "a += 1\n",
    "a"
   ]
  },
  {
   "cell_type": "markdown",
   "id": "d9fafd8e",
   "metadata": {},
   "source": [
    "<div class='alert alert-success'><strong>Bonnes pratiques</strong>\n",
    "\n",
    "Il est en général préférable d'utiliser des noms de variables ayant du sens, même s'ils sont un peu plus longs à tapper.\n",
    "\n",
    "La convention est d’utiliser des noms de variables en minuscules, en séparant au besoin un groupe de mot par des underscores.\n",
    "    \n",
    "Utiliser une variable d'une seule lettre est en général à éviter, sauf si c'est évident ou bien une convention du domaine, par exemple :\n",
    "    \n",
    "- i (pour index)\n",
    "- n (pour un entier naturel)\n",
    "- X (pour une matrice)\n",
    "\n",
    "</div>"
   ]
  },
  {
   "cell_type": "markdown",
   "id": "d938ee62",
   "metadata": {
    "ExecuteTime": {
     "end_time": "2022-01-18T08:24:34.487922Z",
     "start_time": "2022-01-18T08:24:34.479057Z"
    }
   },
   "source": [
    "<div class='alert alert-danger'>Certains mots sont des termes réservés dans la syntaxe Python, ne les utilisez pas comme noms de variables (liste non exhaustive) :\n",
    "\n",
    "- class\n",
    "- list\n",
    "- type\n",
    "- dict\n",
    "- str\n",
    "- range\n",
    "- print\n",
    "</div>"
   ]
  },
  {
   "cell_type": "markdown",
   "id": "983a2d53",
   "metadata": {
    "ExecuteTime": {
     "end_time": "2022-01-18T08:24:34.487922Z",
     "start_time": "2022-01-18T08:24:34.479057Z"
    }
   },
   "source": [
    "<div class='alert alert-warning'>\n",
    "    Vous pouvez en revanche parfaitement utiliser class_ ou le franciser en classe par exemple.\n",
    "</div>"
   ]
  },
  {
   "cell_type": "markdown",
   "id": "770e06e2",
   "metadata": {},
   "source": [
    "<div class='alert alert-info'>Le type d’une variable correspond à la nature de celle-ci. Il existe un certain nombre de types d'objets implémentés de base, qui couvrent la plupart des besoins. Vous pourrez également à un niveau  plus avancé créer vos propres types d'objets pour modéliser des objets réels comme une cellule ou une molécule. </div>"
   ]
  },
  {
   "cell_type": "markdown",
   "id": "00de02e8",
   "metadata": {},
   "source": [
    "<div class='alert alert-info'>La fonction <b>type()</b> permet d'afficher le type d'une variable ou d’une expression. </div>"
   ]
  },
  {
   "cell_type": "code",
   "execution_count": null,
   "id": "714881c7",
   "metadata": {},
   "outputs": [],
   "source": [
    "type(a)"
   ]
  },
  {
   "cell_type": "markdown",
   "id": "485e8b63",
   "metadata": {},
   "source": [
    "## Les types de données fournis"
   ]
  },
  {
   "cell_type": "markdown",
   "id": "3d1c6a88",
   "metadata": {
    "ExecuteTime": {
     "end_time": "2022-01-17T16:27:28.316439Z",
     "start_time": "2022-01-17T16:27:28.312519Z"
    }
   },
   "source": [
    "### Les Chaînes de caractères (strings)"
   ]
  },
  {
   "cell_type": "markdown",
   "id": "cee33243",
   "metadata": {},
   "source": [
    "<div class='alert alert-info'>Une chaîne de caractères est une simple série de lettres et de symboles, autrement dit du texte brut, à ne pas confondre avec des instructions Python.\n",
    "\n",
    "Pour créer une chaîne de caractères, on encadre le texte d'apostrophes simples 'comme ceci' (simple quote) ou bien de \"guillements\" (double quote). \n",
    "\n",
    "Une longue chaîne de caractères s'étalant sur plusieurs lignes doit être encadrée par triple apostrophe, simple ou double.</div>"
   ]
  },
  {
   "cell_type": "code",
   "execution_count": null,
   "id": "b37e0deb",
   "metadata": {
    "ExecuteTime": {
     "end_time": "2022-01-18T08:10:50.974603Z",
     "start_time": "2022-01-18T08:10:50.968938Z"
    }
   },
   "outputs": [],
   "source": [
    "# exemple de string multilignes avec triple simple-quote\n",
    "print('''\n",
    "comme\n",
    "ceci\n",
    "''')"
   ]
  },
  {
   "cell_type": "code",
   "execution_count": null,
   "id": "a7f54265",
   "metadata": {
    "ExecuteTime": {
     "end_time": "2022-01-18T08:10:54.542851Z",
     "start_time": "2022-01-18T08:10:54.537532Z"
    }
   },
   "outputs": [],
   "source": [
    "# exemple de string multilignes avec triple double-quote\n",
    "print(\"\"\"\n",
    "comme\n",
    "cela\n",
    "\"\"\")"
   ]
  },
  {
   "cell_type": "markdown",
   "id": "74885c37",
   "metadata": {
    "ExecuteTime": {
     "end_time": "2022-01-17T16:35:36.685752Z",
     "start_time": "2022-01-17T16:35:36.680620Z"
    }
   },
   "source": [
    "### Les Nombres et opérateurs"
   ]
  },
  {
   "cell_type": "markdown",
   "id": "248d7f21",
   "metadata": {},
   "source": [
    "<div class='alert alert-info'>\n",
    "    De base, vous avez accès à trois types de nombres : \n",
    "\n",
    "1. les entiers (integers), \n",
    "1. les nombres à virgule (float)\n",
    "1. les nombres complexes\n",
    "    \n",
    "</div>"
   ]
  },
  {
   "cell_type": "code",
   "execution_count": null,
   "id": "7b7a8239",
   "metadata": {
    "ExecuteTime": {
     "end_time": "2022-01-18T08:06:43.804774Z",
     "start_time": "2022-01-18T08:06:43.801701Z"
    }
   },
   "outputs": [],
   "source": [
    "type(42)"
   ]
  },
  {
   "cell_type": "code",
   "execution_count": null,
   "id": "b9347739",
   "metadata": {
    "ExecuteTime": {
     "end_time": "2022-01-18T08:06:43.808937Z",
     "start_time": "2022-01-18T08:06:43.806038Z"
    }
   },
   "outputs": [],
   "source": [
    "type(42.0) # notez le point . et non pas la virgule comme séparateur des décimales"
   ]
  },
  {
   "cell_type": "code",
   "execution_count": null,
   "id": "42c76e9c",
   "metadata": {
    "ExecuteTime": {
     "end_time": "2022-01-18T08:06:43.812786Z",
     "start_time": "2022-01-18T08:06:43.810231Z"
    }
   },
   "outputs": [],
   "source": [
    "type(4 + 2j)"
   ]
  },
  {
   "cell_type": "markdown",
   "id": "aa804185",
   "metadata": {},
   "source": [
    "Les opérations usuelles sont évidemment présentes :"
   ]
  },
  {
   "cell_type": "code",
   "execution_count": null,
   "id": "3a2ae04c",
   "metadata": {
    "ExecuteTime": {
     "end_time": "2022-01-18T08:06:43.817582Z",
     "start_time": "2022-01-18T08:06:43.814702Z"
    }
   },
   "outputs": [],
   "source": [
    "2 + 2 * 3"
   ]
  },
  {
   "cell_type": "code",
   "execution_count": null,
   "id": "62b2f3f8",
   "metadata": {
    "ExecuteTime": {
     "end_time": "2022-01-18T08:12:28.937632Z",
     "start_time": "2022-01-18T08:12:28.929510Z"
    }
   },
   "outputs": [],
   "source": [
    "(2 + 2) * 3.0 # les parenthèses permettent naturellement de forcer l'ordre des opérations"
   ]
  },
  {
   "cell_type": "code",
   "execution_count": null,
   "id": "27c00219",
   "metadata": {
    "ExecuteTime": {
     "end_time": "2022-01-18T08:12:41.801660Z",
     "start_time": "2022-01-18T08:12:41.794281Z"
    }
   },
   "outputs": [],
   "source": [
    "2 ** 8 # 2 puissance 8, double étoile"
   ]
  },
  {
   "cell_type": "code",
   "execution_count": null,
   "id": "ab423743",
   "metadata": {
    "ExecuteTime": {
     "end_time": "2022-01-18T08:06:43.829125Z",
     "start_time": "2022-01-18T08:06:43.826283Z"
    }
   },
   "outputs": [],
   "source": [
    "8 / 2 # la division donne toujours un float, même quand elle tombe juste"
   ]
  },
  {
   "cell_type": "code",
   "execution_count": null,
   "id": "287403f3",
   "metadata": {
    "ExecuteTime": {
     "end_time": "2022-01-18T08:06:43.832972Z",
     "start_time": "2022-01-18T08:06:43.830291Z"
    }
   },
   "outputs": [],
   "source": [
    "16 // 12 # la division entière se fait avec double slash, et donne un entier"
   ]
  },
  {
   "cell_type": "code",
   "execution_count": null,
   "id": "a15efb93",
   "metadata": {
    "ExecuteTime": {
     "end_time": "2022-01-18T08:06:43.836862Z",
     "start_time": "2022-01-18T08:06:43.834234Z"
    }
   },
   "outputs": [],
   "source": [
    "16 % 12 # le reste (ou modulo) s’obtient avec le symbole %"
   ]
  },
  {
   "cell_type": "code",
   "execution_count": null,
   "id": "3ee6d815",
   "metadata": {
    "ExecuteTime": {
     "end_time": "2022-01-18T08:14:50.867889Z",
     "start_time": "2022-01-18T08:14:50.863488Z"
    }
   },
   "outputs": [],
   "source": [
    "# l’opérateur modulo est souvent utilisé pour tester la divisibilité, en comparant n % p à 0\n",
    "13 % 3 == 0 # la comparaison se fait avec un double ==, le simple = est pour l'assignation de variables"
   ]
  },
  {
   "cell_type": "code",
   "execution_count": null,
   "id": "fd9339b5",
   "metadata": {
    "ExecuteTime": {
     "end_time": "2022-01-18T08:15:11.024711Z",
     "start_time": "2022-01-18T08:15:11.017706Z"
    }
   },
   "outputs": [],
   "source": [
    "# Pour avoir le quotient et le reste d’un coup, sous la forme d'un tuple de 2 valeurs\n",
    "divmod(16,12)"
   ]
  },
  {
   "cell_type": "code",
   "execution_count": null,
   "id": "8dda06e4",
   "metadata": {
    "ExecuteTime": {
     "end_time": "2022-01-18T08:15:28.843190Z",
     "start_time": "2022-01-18T08:15:28.834404Z"
    }
   },
   "outputs": [],
   "source": [
    "(3+1j) * (4+2j) # addition et multiplication de nombres complexes, gratuitement :)"
   ]
  },
  {
   "cell_type": "markdown",
   "id": "57a2106d",
   "metadata": {},
   "source": [
    "<div class = \"alert alert-info\">Pour aller plus loin, le module math est là, il suffit de l'importer</div>"
   ]
  },
  {
   "cell_type": "code",
   "execution_count": null,
   "id": "9aeeb9b9",
   "metadata": {
    "ExecuteTime": {
     "end_time": "2022-01-18T08:06:43.849434Z",
     "start_time": "2022-01-18T08:06:43.847026Z"
    }
   },
   "outputs": [],
   "source": [
    "import math"
   ]
  },
  {
   "cell_type": "code",
   "execution_count": null,
   "id": "1cb97f74",
   "metadata": {
    "ExecuteTime": {
     "end_time": "2022-01-18T08:17:01.986677Z",
     "start_time": "2022-01-18T08:17:01.976908Z"
    }
   },
   "outputs": [],
   "source": [
    "math.e**(math.pi*1j) #avec approximations inévitables"
   ]
  },
  {
   "cell_type": "markdown",
   "id": "a1412c34",
   "metadata": {},
   "source": [
    "<div class=\"alert alert-info\">Quand on importe un module comme math, on a accès aux objets définis dedans avec la syntaxe nom_du_module.nom_de_l_objet</div>"
   ]
  },
  {
   "cell_type": "code",
   "execution_count": null,
   "id": "52bdfb4a",
   "metadata": {
    "ExecuteTime": {
     "end_time": "2022-01-18T08:19:34.359580Z",
     "start_time": "2022-01-18T08:19:34.353430Z"
    }
   },
   "outputs": [],
   "source": [
    "math.log(10)"
   ]
  },
  {
   "cell_type": "markdown",
   "id": "e0cabef2",
   "metadata": {
    "ExecuteTime": {
     "end_time": "2022-01-17T16:56:15.859856Z",
     "start_time": "2022-01-17T16:56:15.856021Z"
    }
   },
   "source": [
    "### Les variables et opérateurs booléens"
   ]
  },
  {
   "cell_type": "code",
   "execution_count": null,
   "id": "89b8d543",
   "metadata": {
    "ExecuteTime": {
     "end_time": "2022-01-18T08:06:43.863588Z",
     "start_time": "2022-01-18T08:06:43.861012Z"
    }
   },
   "outputs": [],
   "source": [
    "True"
   ]
  },
  {
   "cell_type": "code",
   "execution_count": null,
   "id": "cf8b0b45",
   "metadata": {
    "ExecuteTime": {
     "end_time": "2022-01-18T08:06:43.869648Z",
     "start_time": "2022-01-18T08:06:43.866708Z"
    }
   },
   "outputs": [],
   "source": [
    "False"
   ]
  },
  {
   "cell_type": "code",
   "execution_count": null,
   "id": "127abcf6",
   "metadata": {
    "ExecuteTime": {
     "end_time": "2022-01-18T08:06:43.876464Z",
     "start_time": "2022-01-18T08:06:43.871465Z"
    }
   },
   "outputs": [],
   "source": [
    "True and False"
   ]
  },
  {
   "cell_type": "code",
   "execution_count": null,
   "id": "c58e723e",
   "metadata": {
    "ExecuteTime": {
     "end_time": "2022-01-18T08:06:43.882197Z",
     "start_time": "2022-01-18T08:06:43.878579Z"
    }
   },
   "outputs": [],
   "source": [
    "True or False"
   ]
  },
  {
   "cell_type": "code",
   "execution_count": null,
   "id": "bf8ba329",
   "metadata": {
    "ExecuteTime": {
     "end_time": "2022-01-18T08:06:43.889147Z",
     "start_time": "2022-01-18T08:06:43.884434Z"
    }
   },
   "outputs": [],
   "source": [
    "not False"
   ]
  },
  {
   "cell_type": "markdown",
   "id": "9021349d",
   "metadata": {},
   "source": [
    "### La constante None"
   ]
  },
  {
   "cell_type": "markdown",
   "id": "e83c9c83",
   "metadata": {},
   "source": [
    "<div class=\"alert alert-info\"><b>None</b> est une constante qui représente l'absence, le vide.</div>"
   ]
  },
  {
   "cell_type": "code",
   "execution_count": null,
   "id": "e2a56ef7",
   "metadata": {
    "ExecuteTime": {
     "end_time": "2022-01-18T09:02:10.278383Z",
     "start_time": "2022-01-18T09:02:10.274045Z"
    }
   },
   "outputs": [],
   "source": [
    "phone_number = None"
   ]
  },
  {
   "cell_type": "markdown",
   "id": "d5bcd5a2",
   "metadata": {},
   "source": [
    "### Les Collections : listes, tuples, ensembles et dictionnaires"
   ]
  },
  {
   "cell_type": "markdown",
   "id": "ebbd1d6d",
   "metadata": {},
   "source": [
    "<div class=\"alert alert-info\">Une liste est une collection ordonnée d'éléments de types pouvant êtres variés, encadrés par des crochets [ ] et séparés par des virgules</div>"
   ]
  },
  {
   "cell_type": "code",
   "execution_count": null,
   "id": "b462cdf4",
   "metadata": {
    "ExecuteTime": {
     "end_time": "2022-01-18T08:27:13.515176Z",
     "start_time": "2022-01-18T08:27:13.491083Z"
    }
   },
   "outputs": [],
   "source": [
    "my_list = ['Ceci', 'est', 'une', 'liste', 'de', 'strings', 'et', 'de', 'nombres', 3, 0.0]\n",
    "type(my_list)"
   ]
  },
  {
   "cell_type": "code",
   "execution_count": null,
   "id": "31a82806",
   "metadata": {
    "ExecuteTime": {
     "end_time": "2022-01-18T08:27:31.156994Z",
     "start_time": "2022-01-18T08:27:31.149772Z"
    }
   },
   "outputs": [],
   "source": [
    "len(my_list) # La fonction len() donne la longueur (length) d'une collection, ie le nombre d'éléments inclus"
   ]
  },
  {
   "cell_type": "markdown",
   "id": "a428bdf7",
   "metadata": {},
   "source": [
    "<div class=\"alert alert-info\">un tuple est similaire à une liste, et créé avec des parenthèses. Contrairement à une liste, un tuple est immuable.</div>"
   ]
  },
  {
   "cell_type": "code",
   "execution_count": null,
   "id": "c22f485d",
   "metadata": {
    "ExecuteTime": {
     "end_time": "2022-01-18T08:28:31.753544Z",
     "start_time": "2022-01-18T08:28:31.746759Z"
    }
   },
   "outputs": [],
   "source": [
    "type((1,2))"
   ]
  },
  {
   "cell_type": "markdown",
   "id": "c08fe3cd",
   "metadata": {},
   "source": [
    "<div class=\"alert alert-info\">Les listes et les tuples sont ordonnés, on peut accéder à un élément interne grâce à sa position (son index)</div>"
   ]
  },
  {
   "cell_type": "code",
   "execution_count": null,
   "id": "68231682",
   "metadata": {
    "ExecuteTime": {
     "end_time": "2022-01-18T08:29:33.578107Z",
     "start_time": "2022-01-18T08:29:33.573417Z"
    }
   },
   "outputs": [],
   "source": [
    "beatles = ['Philippe', 'George', 'Paul', 'Ringo']"
   ]
  },
  {
   "cell_type": "code",
   "execution_count": null,
   "id": "33a3cff0",
   "metadata": {
    "ExecuteTime": {
     "end_time": "2022-01-18T08:29:33.699508Z",
     "start_time": "2022-01-18T08:29:33.693115Z"
    }
   },
   "outputs": [],
   "source": [
    "beatles[0] # l'indexation commence à 0"
   ]
  },
  {
   "cell_type": "code",
   "execution_count": null,
   "id": "e05e9441",
   "metadata": {
    "ExecuteTime": {
     "end_time": "2022-01-18T08:29:33.853164Z",
     "start_time": "2022-01-18T08:29:33.848997Z"
    }
   },
   "outputs": [],
   "source": [
    "beatles[-1] # les index négatifs partent de la fin"
   ]
  },
  {
   "cell_type": "code",
   "execution_count": null,
   "id": "9b089b1a",
   "metadata": {
    "ExecuteTime": {
     "end_time": "2022-01-18T08:29:33.979286Z",
     "start_time": "2022-01-18T08:29:33.973770Z"
    }
   },
   "outputs": [],
   "source": [
    "beatles[0] = 'John' # mise à jour d’un élément dans la liste\n",
    "beatles"
   ]
  },
  {
   "cell_type": "markdown",
   "id": "8f0ae696",
   "metadata": {},
   "source": [
    "<div class=\"alert alert-info\">On peut créer une nouvelle liste en \"tranchant\" dans une liste, il suffit d'indiquer la position de départ (incluse) et celle d’arrêt (exclue)</div>"
   ]
  },
  {
   "cell_type": "code",
   "execution_count": null,
   "id": "6a263e33",
   "metadata": {
    "ExecuteTime": {
     "end_time": "2022-01-18T08:30:02.809611Z",
     "start_time": "2022-01-18T08:30:02.803158Z"
    }
   },
   "outputs": [],
   "source": [
    "beatles[1:3] # de la position 1 à la position 3 (sans prendre la 3ème)"
   ]
  },
  {
   "cell_type": "code",
   "execution_count": null,
   "id": "b6780949",
   "metadata": {
    "ExecuteTime": {
     "end_time": "2022-01-18T08:30:04.771985Z",
     "start_time": "2022-01-18T08:30:04.764433Z"
    }
   },
   "outputs": [],
   "source": [
    "beatles[-2:] # de l'avant-dernier à la fin"
   ]
  },
  {
   "cell_type": "code",
   "execution_count": null,
   "id": "936b5354",
   "metadata": {
    "ExecuteTime": {
     "end_time": "2022-01-18T08:30:22.331936Z",
     "start_time": "2022-01-18T08:30:22.324408Z"
    }
   },
   "outputs": [],
   "source": [
    "beatles[::-1] # du début à la fin, avec des \"pas\" de -1, ce qui revient à une copie inversée de la liste"
   ]
  },
  {
   "cell_type": "markdown",
   "id": "a618aedb",
   "metadata": {},
   "source": [
    "<div class='alert alert-info'>Un ensemble (set) est une collection d'objets uniques. On peut le créer avec deux accolades.</div>"
   ]
  },
  {
   "cell_type": "code",
   "execution_count": null,
   "id": "7141c67d",
   "metadata": {
    "ExecuteTime": {
     "end_time": "2022-01-18T08:30:45.197691Z",
     "start_time": "2022-01-18T08:30:45.185096Z"
    }
   },
   "outputs": [],
   "source": [
    "{0, 1, 1, 1, 2} "
   ]
  },
  {
   "cell_type": "code",
   "execution_count": null,
   "id": "c546bbab",
   "metadata": {
    "ExecuteTime": {
     "end_time": "2022-01-18T08:31:02.209324Z",
     "start_time": "2022-01-18T08:31:02.201660Z"
    }
   },
   "outputs": [],
   "source": [
    "set([0,1,1,1,2]) # on peut aussi créer un ensemble à partir d'une liste, d'un tuple, ou même d'un string"
   ]
  },
  {
   "cell_type": "markdown",
   "id": "2488c2d2",
   "metadata": {},
   "source": [
    "<div class='alert alert-warning'>Les objets dans un ensemble n'ont pas vraiment d'ordre, même s'ils sont présentés alphabétiquement.</div>"
   ]
  },
  {
   "cell_type": "code",
   "execution_count": null,
   "id": "833a8805",
   "metadata": {
    "ExecuteTime": {
     "end_time": "2022-01-18T08:31:21.924947Z",
     "start_time": "2022-01-18T08:31:21.914263Z"
    }
   },
   "outputs": [],
   "source": [
    "set('Python is easy') "
   ]
  },
  {
   "cell_type": "markdown",
   "id": "c1ee7a97",
   "metadata": {},
   "source": [
    "<div class=\"alert alert-info\">Un dictionnaire est une collection de couples de clés: valeurs.</div>"
   ]
  },
  {
   "cell_type": "code",
   "execution_count": null,
   "id": "69b126e0",
   "metadata": {
    "ExecuteTime": {
     "end_time": "2022-01-18T08:36:34.520566Z",
     "start_time": "2022-01-18T08:36:34.512976Z"
    }
   },
   "outputs": [],
   "source": [
    "p1 = {'first_name': 'Leonardo', 'last_name': 'da Vinci'}\n",
    "\n",
    "type(p1)"
   ]
  },
  {
   "cell_type": "code",
   "execution_count": null,
   "id": "9fa06849",
   "metadata": {
    "ExecuteTime": {
     "end_time": "2022-01-18T08:36:34.655344Z",
     "start_time": "2022-01-18T08:36:34.649054Z"
    }
   },
   "outputs": [],
   "source": [
    "p1['first_name']"
   ]
  },
  {
   "cell_type": "code",
   "execution_count": null,
   "id": "64fac1b2",
   "metadata": {
    "ExecuteTime": {
     "end_time": "2022-01-18T08:36:34.763940Z",
     "start_time": "2022-01-18T08:36:34.759698Z"
    }
   },
   "outputs": [],
   "source": [
    "p1['last_name']"
   ]
  },
  {
   "cell_type": "markdown",
   "id": "03018880",
   "metadata": {},
   "source": [
    "<div class=\"alert alert-info\">La mise à jour d'une clé existante se fait par réassignation.</div>"
   ]
  },
  {
   "cell_type": "code",
   "execution_count": null,
   "id": "2095a1ab",
   "metadata": {
    "ExecuteTime": {
     "end_time": "2022-01-18T08:38:00.261944Z",
     "start_time": "2022-01-18T08:38:00.253349Z"
    }
   },
   "outputs": [],
   "source": [
    "p1['first_name'] = 'John'\n",
    "p1['last_name'] = 'Doe'\n",
    "p1"
   ]
  },
  {
   "cell_type": "markdown",
   "id": "d27e6c0f",
   "metadata": {},
   "source": [
    "<div class=\"alert alert-info\">L'ajout d'une nouvelle paire clé:valeur se fait de la même manière.</div>"
   ]
  },
  {
   "cell_type": "code",
   "execution_count": null,
   "id": "f3ccbbb4",
   "metadata": {
    "ExecuteTime": {
     "end_time": "2022-01-18T08:38:57.477634Z",
     "start_time": "2022-01-18T08:38:57.467674Z"
    }
   },
   "outputs": [],
   "source": [
    "p1['birth_place'] = 'Lyon'\n",
    "p1"
   ]
  },
  {
   "cell_type": "markdown",
   "id": "01d96101",
   "metadata": {},
   "source": [
    "<div class=\"alert alert-warning\">Les clés d'un dictionnaire doivent être uniques et d'un type hashable. \n",
    "    \n",
    "En pratique, on utilise généralement des strings comme clés, et parfois des entiers.</div>"
   ]
  },
  {
   "cell_type": "markdown",
   "id": "de375242",
   "metadata": {
    "ExecuteTime": {
     "end_time": "2022-01-18T08:44:35.274936Z",
     "start_time": "2022-01-18T08:44:35.267332Z"
    }
   },
   "source": [
    "## Exécution conditionnelle et boucles"
   ]
  },
  {
   "cell_type": "markdown",
   "id": "adab82e9",
   "metadata": {},
   "source": [
    "### Exécution conditionnelle"
   ]
  },
  {
   "cell_type": "markdown",
   "id": "609879b2",
   "metadata": {},
   "source": [
    "<div class=\"alert alert-info\">Les comparaisons et expressions logiques sont réduites après évaluation à des variables booléennes True ou False.</div>"
   ]
  },
  {
   "cell_type": "code",
   "execution_count": null,
   "id": "e3e7308d",
   "metadata": {
    "ExecuteTime": {
     "end_time": "2022-01-18T08:46:15.652249Z",
     "start_time": "2022-01-18T08:46:15.632757Z"
    }
   },
   "outputs": [],
   "source": [
    "3 > 1"
   ]
  },
  {
   "cell_type": "code",
   "execution_count": null,
   "id": "3916acdd",
   "metadata": {
    "ExecuteTime": {
     "end_time": "2022-01-18T08:46:25.167104Z",
     "start_time": "2022-01-18T08:46:25.160519Z"
    }
   },
   "outputs": [],
   "source": [
    "4 + 4 == 0"
   ]
  },
  {
   "cell_type": "code",
   "execution_count": null,
   "id": "f5858e66",
   "metadata": {
    "ExecuteTime": {
     "end_time": "2022-01-18T08:47:09.195280Z",
     "start_time": "2022-01-18T08:47:09.185055Z"
    }
   },
   "outputs": [],
   "source": [
    "3 > 1 or 4 + 4 == 8"
   ]
  },
  {
   "cell_type": "markdown",
   "id": "45e7d175",
   "metadata": {},
   "source": [
    "<div class=\"alert alert-info\">Le mot clé <b>if</b> permet de n'exécuter un bloc de code que si la condition qui le suit est vraie.</div>"
   ]
  },
  {
   "cell_type": "code",
   "execution_count": null,
   "id": "c1908b91",
   "metadata": {
    "ExecuteTime": {
     "end_time": "2022-01-18T08:52:05.385361Z",
     "start_time": "2022-01-18T08:52:05.376354Z"
    }
   },
   "outputs": [],
   "source": [
    "name = 'Philippe'\n",
    "if len(name) >= 8: # if condition: Notez bien le : qui suit la condition\n",
    "    print(\"Le nom \" + name + ' a au moins 8 caractères.') "
   ]
  },
  {
   "cell_type": "markdown",
   "id": "897cb983",
   "metadata": {},
   "source": [
    "<div class=\"alert alert-warning\">Notez bien l'indentation du bloc d'instructions à réaliser. \n",
    "    \n",
    "Vous pouvez utiliser des espaces ou des tabulations pour indenter, mais la convention est d'utiliser 4 espaces par niveau d'indentation.\n",
    "\n",
    "Le retour au niveau antérieur d'indentation indique la fin d’un bloc.</div>"
   ]
  },
  {
   "cell_type": "markdown",
   "id": "e0d203bf",
   "metadata": {},
   "source": [
    "<div class=\"alert alert-info\">Le mot clé <b>else</b> permet de n'exécuter un bloc de code que si la condition testée par le if précédent s'est avérée False.</div>"
   ]
  },
  {
   "cell_type": "code",
   "execution_count": null,
   "id": "63b58491",
   "metadata": {
    "ExecuteTime": {
     "end_time": "2022-01-18T08:56:28.924928Z",
     "start_time": "2022-01-18T08:56:28.915071Z"
    }
   },
   "outputs": [],
   "source": [
    "name = 'Phil'\n",
    "if len(name) >= 8:\n",
    "    print(\"Le nom \" + name + ' a au moins 8 caractères.') \n",
    "else:\n",
    "    print(\"Le nom \" + name + ' a moins de 8 caractères.')"
   ]
  },
  {
   "cell_type": "markdown",
   "id": "1f52dd0a",
   "metadata": {},
   "source": [
    "<div class=\"alert alert-info\">Si vous avez plusieurs conditions à tester une à une, utilisez <b>if</b> suivi de 1 ou plusieurs <b>elif</b>.</div>"
   ]
  },
  {
   "cell_type": "code",
   "execution_count": null,
   "id": "1f72cfd7",
   "metadata": {
    "ExecuteTime": {
     "end_time": "2022-01-18T08:59:46.702575Z",
     "start_time": "2022-01-18T08:59:46.694898Z"
    }
   },
   "outputs": [],
   "source": [
    "age = 17"
   ]
  },
  {
   "cell_type": "code",
   "execution_count": null,
   "id": "360dd62c",
   "metadata": {
    "ExecuteTime": {
     "end_time": "2022-01-18T08:59:44.229761Z",
     "start_time": "2022-01-18T08:59:44.222281Z"
    }
   },
   "outputs": [],
   "source": [
    "if age >= 18:\n",
    "    print('Peut voter et conduire.')\n",
    "elif age >= 16:\n",
    "    print('Peut conduire.')\n",
    "else:\n",
    "    print('Trop jeune pour voter ou conduire.')"
   ]
  },
  {
   "cell_type": "markdown",
   "id": "34f5e0be",
   "metadata": {},
   "source": [
    "<div class=\"alert alert-info\">Dans le contexte de tests logiques :\n",
    "    \n",
    "- les nombres non-nuls, les strings et collections non-vides sont considérés comme True\n",
    "- les nombres nuls, les strings et collections vides et la constante None sont considérés comme False\n",
    "</div>"
   ]
  },
  {
   "cell_type": "code",
   "execution_count": null,
   "id": "bf555746",
   "metadata": {
    "ExecuteTime": {
     "end_time": "2022-01-18T09:05:25.103072Z",
     "start_time": "2022-01-18T09:05:25.096836Z"
    }
   },
   "outputs": [],
   "source": [
    "customers = ['Pierre', 'Paul', 'Jacques']\n",
    "if len(customers) > 0:\n",
    "    print(customers)"
   ]
  },
  {
   "cell_type": "markdown",
   "id": "0503ee57",
   "metadata": {},
   "source": [
    "<div class='alert alert-info'><p>Le test sur la longueur de la liste n'est pas nécessaire.\n",
    "<p/>\n",
    "    <p>if customers: est équivalent</p> </div>"
   ]
  },
  {
   "cell_type": "code",
   "execution_count": null,
   "id": "01df5a70",
   "metadata": {
    "ExecuteTime": {
     "end_time": "2022-01-18T09:05:38.618417Z",
     "start_time": "2022-01-18T09:05:38.613153Z"
    }
   },
   "outputs": [],
   "source": [
    "if customers:\n",
    "    print(customers)"
   ]
  },
  {
   "cell_type": "markdown",
   "id": "3a8fee56",
   "metadata": {},
   "source": [
    "### Boucles"
   ]
  },
  {
   "cell_type": "markdown",
   "id": "c0b2adcc",
   "metadata": {},
   "source": [
    "<div class='alert alert-info'>En programmation, on est souvent amené à répéter plusieurs fois une instruction. Incontournables à tout langage de programmation, les boucles vont nous aider à réaliser cette tâche de manière compacte et efficace. </div>"
   ]
  },
  {
   "cell_type": "markdown",
   "id": "2f2abee5",
   "metadata": {},
   "source": [
    "<div class='alert alert-info'>Imaginez que nous voulions afficher un à un les éléments d'une liste. Sans boucle, ça ressemblerait à ça :</div>"
   ]
  },
  {
   "cell_type": "code",
   "execution_count": null,
   "id": "80d90ee5",
   "metadata": {},
   "outputs": [],
   "source": [
    "beatles = ['John', 'George', 'Paul', 'Ringo']\n",
    "\n",
    "print(beatles[0])\n",
    "print(beatles[1])\n",
    "print(beatles[2])\n",
    "print(beatles[3])"
   ]
  },
  {
   "cell_type": "markdown",
   "id": "33817805",
   "metadata": {},
   "source": [
    "<div class='alert alert-info'>Évidemment, c'est ingérable si la liste est longue ou si on ne connait pas sa longueur à l'avance. Heureusement, les boucles sont là pour ça.</div>"
   ]
  },
  {
   "cell_type": "markdown",
   "id": "b3924cf5",
   "metadata": {},
   "source": [
    "#### La boucle for "
   ]
  },
  {
   "cell_type": "code",
   "execution_count": null,
   "id": "a82351b3",
   "metadata": {},
   "outputs": [],
   "source": [
    "for member in beatles:\n",
    "    print(member)"
   ]
  },
  {
   "cell_type": "markdown",
   "id": "cfecac20",
   "metadata": {},
   "source": [
    "<div class='alert alert-info'>\n",
    "La variable member est appelée variable d'itération, elle prend successivement les différentes valeurs de la liste beatles à chaque itération de la boucle. On peut choisir le nom que l’on veut pour cette variable. Celle-ci est créée par Python la première fois que la ligne contenant le for est exécutée (si elle existait déjà son contenu serait écrasé). Une fois la boucle terminée, cette variable d'itération member ne sera pas détruite et contiendra ainsi la dernière valeur de la liste animaux (ici la chaîne de caractères 'Ringo').\n",
    "</div>"
   ]
  },
  {
   "cell_type": "markdown",
   "id": "4e0fe227",
   "metadata": {},
   "source": [
    "<div class='alert alert-info'>\n",
    "\n",
    "Dans la pratique vous pouvez considérer cette variable d'itération comme jetable : elle ne sert que lors de la boucle for.</div>"
   ]
  },
  {
   "cell_type": "markdown",
   "id": "2ee3b5e4",
   "metadata": {},
   "source": [
    "<div class='alert alert-success'>\n",
    "\n",
    "<p>Pour mieux comprendre le sens du mot clé <b>for</b>, vous pouvez l’interpréter plutôt comme \"for each\". </p>\n",
    "    <p>Pour chaque élément de la collection suivante, exécute ceci.</p>\n",
    "</div>"
   ]
  },
  {
   "cell_type": "markdown",
   "id": "eefecc93",
   "metadata": {},
   "source": [
    "<div class='alert alert-info'>\n",
    "\n",
    "On peut utiliser une boucle for pour itérer caractère par caractère sur une chaîne de caractères :</div>"
   ]
  },
  {
   "cell_type": "code",
   "execution_count": null,
   "id": "8367330f",
   "metadata": {},
   "outputs": [],
   "source": [
    "for letter in 'INSA Lyon':\n",
    "    print(letter)"
   ]
  },
  {
   "cell_type": "markdown",
   "id": "d9c1ec4f",
   "metadata": {},
   "source": [
    "<div class='alert alert-info'>\n",
    "\n",
    "Sur un dictionnaire, la boucle for itère sur les clés :</div>"
   ]
  },
  {
   "cell_type": "code",
   "execution_count": null,
   "id": "7d21cad4",
   "metadata": {},
   "outputs": [],
   "source": [
    "insa = {\n",
    "    'nom': 'INSA Lyon',\n",
    "    'adresse': '20 Av. Albert Einstein, 69100 Villeurbanne',\n",
    "    'tel': '04 72 43 83 83',\n",
    "}\n",
    "\n",
    "for k in insa:\n",
    "    print(k)"
   ]
  },
  {
   "cell_type": "markdown",
   "id": "929050f4",
   "metadata": {},
   "source": [
    "#### La boucle while "
   ]
  },
  {
   "cell_type": "markdown",
   "id": "9b478d29",
   "metadata": {},
   "source": [
    "<div class='alert alert-info'>\n",
    "<p>La boucle <b>while</b> sert à répéter des instructions <b>tant qu'une condition est vraie.</b></p>\n",
    "</div>"
   ]
  },
  {
   "cell_type": "code",
   "execution_count": null,
   "id": "b5dddc93",
   "metadata": {},
   "outputs": [],
   "source": [
    "a = 0\n",
    "b = 1\n",
    "while a < 1000:\n",
    "    print(a, end=' ')\n",
    "    a, b = b, a + b\n",
    "    "
   ]
  },
  {
   "cell_type": "markdown",
   "id": "2114e90d",
   "metadata": {},
   "source": [
    "<div class='alert alert-danger'>\n",
    "\n",
    "Il faut faire attention à avoir une condition qui va devenir fausse au bout d'un moment, sinon, la boucle while est répétée indéfiniment.</div>"
   ]
  },
  {
   "cell_type": "code",
   "execution_count": null,
   "id": "94226476",
   "metadata": {},
   "outputs": [],
   "source": [
    "# exemple de boucle while dont la condition ne devient jamais fausse :\n",
    "a = 0\n",
    "\n",
    "while a >=0:\n",
    "    a = a + 1\n",
    "    print(a)"
   ]
  },
  {
   "cell_type": "markdown",
   "id": "850053bc",
   "metadata": {},
   "source": [
    "<div class='alert alert-danger'>\n",
    "Dans ces cas là, le seul moyen d'arrêter l’exécution est de cliquer sur le bouton stop (carré noir) dans la barre d'outil du notebook. Dans un script Python interprété directement, le raccourci clavier Ctrl + C arrête l’exécution.</div>"
   ]
  },
  {
   "cell_type": "markdown",
   "id": "a03f4d64",
   "metadata": {},
   "source": [
    "## Les fonctions"
   ]
  },
  {
   "cell_type": "markdown",
   "id": "9b65efad",
   "metadata": {},
   "source": [
    "<div class='alert alert-info'>\n",
    "<p>En programmation, les fonctions sont très utiles pour réaliser plusieurs fois une même série d'instructions au sein d'un programme.</p>\n",
    "    \n",
    "<p>Elles rendent également le code plus lisible et plus clair en le fractionnant en blocs logiques.</p>\n",
    "    \n",
    "<p>Elles évitent de se répéter : un certain comportement utilisé plusieurs fois est défini à un seul endroit.</p>\n",
    "\n",
    "<p>Vous connaissez déjà certaines fonctions Python. Par exemple math.log(nombre) du module math renvoie le logarithme néperien d'un nombre. Vous connaissez aussi des fonctions internes à Python comme print(), type() ou len(). Pour l'instant, une fonction est à vos yeux une sorte de « boîte noire ».</p>\n",
    "</div>"
   ]
  },
  {
   "cell_type": "markdown",
   "id": "8bfa9de4",
   "metadata": {},
   "source": [
    "<div class='alert alert-info'>\n",
    "Pour créer vos propres fonctions vous avez besoin de 2 nouveaux mots clés :\n",
    "    \n",
    "- <b>def</b> démarre un bloc et définit le nom de la fonction et ses paramètres\n",
    "- <b>return</b> déclare la ou les valeurs qui sont renvoyées en sortie de la fonction. C’est un point de sortie de la fonction. Si une instruction return est exécutée, les instructions suivantes de la fonction ne sont pas exécutées.\n",
    "</div>"
   ]
  },
  {
   "cell_type": "code",
   "execution_count": null,
   "id": "43fe4739",
   "metadata": {},
   "outputs": [],
   "source": [
    "# exemple de fonction : calcul du Nième terme de la suite de Fibonacci\n",
    "\n",
    "\n",
    "def fibo(n):  # définition de la fonction. n est appelé un paramètre\n",
    "    '''Calcule le Nième terme de la suite de Fibonacci. n est un entier naturel.'''\n",
    "    a = 0\n",
    "    b = 1\n",
    "\n",
    "    for _ in range(n):  # on répète cette intruction n fois. La variable d'itération n’est pas utilisée.\n",
    "        a, b = b, a + b\n",
    "\n",
    "    return a  # après itération, la valeur que la fonction doit renvoyer"
   ]
  },
  {
   "cell_type": "markdown",
   "id": "9261e315",
   "metadata": {},
   "source": [
    "<div class='alert alert-success'>\n",
    "<p>Utilisation de la fonction. Ici 10 est appelé l’argument.</p>\n",
    "   \n",
    "</div>"
   ]
  },
  {
   "cell_type": "code",
   "execution_count": null,
   "id": "eef4ad9c",
   "metadata": {},
   "outputs": [],
   "source": [
    "fibo(10)"
   ]
  },
  {
   "cell_type": "markdown",
   "id": "1c60dbb2",
   "metadata": {},
   "source": [
    "<div class='alert alert-info'>\n",
    "<p>On peut également passer les arguments à la fonction dans l'ordre où ils ont été définis, ou passer leur nom et la valeur voulue explicitement.</p>\n",
    "</div>"
   ]
  },
  {
   "cell_type": "code",
   "execution_count": null,
   "id": "15426c4f",
   "metadata": {},
   "outputs": [],
   "source": [
    "fibo(n=12)"
   ]
  },
  {
   "cell_type": "markdown",
   "id": "b1df9f18",
   "metadata": {},
   "source": [
    "<div class='alert alert-info'>\n",
    "<p>On peut rendre un paramètre optionnel en lui donnant une valeur par défaut lors de définition de la fonction.</p>\n",
    "</div>"
   ]
  },
  {
   "cell_type": "code",
   "execution_count": null,
   "id": "0c87bc05",
   "metadata": {},
   "outputs": [],
   "source": [
    "def politesse(nom, titre='Madame'):\n",
    "    return f\"{titre} {nom}\""
   ]
  },
  {
   "cell_type": "code",
   "execution_count": null,
   "id": "00ab02ef",
   "metadata": {},
   "outputs": [],
   "source": [
    "politesse(nom='Capelle', titre='Monsieur')"
   ]
  },
  {
   "cell_type": "code",
   "execution_count": null,
   "id": "2748d0be",
   "metadata": {},
   "outputs": [],
   "source": [
    "politesse(nom='Jivago', titre='Docteur')"
   ]
  },
  {
   "cell_type": "markdown",
   "id": "9dd915c8",
   "metadata": {},
   "source": [
    "<div class='alert alert-warning'>\n",
    "<p>Ci-dessous aucune valeur n'est fournie pour l'argument titre, la valeur par défaut assignée à la définition de la fonction est utilisée.</p>\n",
    "</div>"
   ]
  },
  {
   "cell_type": "code",
   "execution_count": null,
   "id": "d49450ba",
   "metadata": {},
   "outputs": [],
   "source": [
    "politesse('Michu')"
   ]
  },
  {
   "cell_type": "code",
   "execution_count": null,
   "id": "a38bec4f",
   "metadata": {},
   "outputs": [],
   "source": []
  }
 ],
 "metadata": {
  "kernelspec": {
   "display_name": "Python 3 (ipykernel)",
   "language": "python",
   "name": "python3"
  },
  "language_info": {
   "codemirror_mode": {
    "name": "ipython",
    "version": 3
   },
   "file_extension": ".py",
   "mimetype": "text/x-python",
   "name": "python",
   "nbconvert_exporter": "python",
   "pygments_lexer": "ipython3",
   "version": "3.10.0rc1"
  },
  "toc": {
   "base_numbering": 1,
   "nav_menu": {},
   "number_sections": true,
   "sideBar": true,
   "skip_h1_title": true,
   "title_cell": "Table des matières",
   "title_sidebar": "Contenu",
   "toc_cell": true,
   "toc_position": {
    "height": "calc(100% - 180px)",
    "left": "10px",
    "top": "150px",
    "width": "225.2px"
   },
   "toc_section_display": true,
   "toc_window_display": true
  }
 },
 "nbformat": 4,
 "nbformat_minor": 5
}
