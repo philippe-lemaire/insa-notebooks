{
 "cells": [
  {
   "cell_type": "markdown",
   "id": "9afd47c8",
   "metadata": {
    "toc": true
   },
   "source": [
    "<h1>Table des matières<span class=\"tocSkip\"></span></h1>\n",
    "<div class=\"toc\"><ul class=\"toc-item\"><li><span><a href=\"#Introduction-à-Python\" data-toc-modified-id=\"Introduction-à-Python-1\"><span class=\"toc-item-num\">1&nbsp;&nbsp;</span>Introduction à Python</a></span></li><li><span><a href=\"#Les-variables\" data-toc-modified-id=\"Les-variables-2\"><span class=\"toc-item-num\">2&nbsp;&nbsp;</span>Les variables</a></span></li><li><span><a href=\"#Les-types-de-données-fournis\" data-toc-modified-id=\"Les-types-de-données-fournis-3\"><span class=\"toc-item-num\">3&nbsp;&nbsp;</span>Les types de données fournis</a></span><ul class=\"toc-item\"><li><span><a href=\"#Les-Chaînes-de-caractères-(strings)\" data-toc-modified-id=\"Les-Chaînes-de-caractères-(strings)-3.1\"><span class=\"toc-item-num\">3.1&nbsp;&nbsp;</span>Les Chaînes de caractères (strings)</a></span></li><li><span><a href=\"#Les-Nombres-et-opérateurs\" data-toc-modified-id=\"Les-Nombres-et-opérateurs-3.2\"><span class=\"toc-item-num\">3.2&nbsp;&nbsp;</span>Les Nombres et opérateurs</a></span></li><li><span><a href=\"#Les-variables-et-opérateurs-booléens\" data-toc-modified-id=\"Les-variables-et-opérateurs-booléens-3.3\"><span class=\"toc-item-num\">3.3&nbsp;&nbsp;</span>Les variables et opérateurs booléens</a></span></li><li><span><a href=\"#La-constante-None\" data-toc-modified-id=\"La-constante-None-3.4\"><span class=\"toc-item-num\">3.4&nbsp;&nbsp;</span>La constante None</a></span></li><li><span><a href=\"#Les-Collections-:-listes,-tuples,-ensembles-et-dictionnaires\" data-toc-modified-id=\"Les-Collections-:-listes,-tuples,-ensembles-et-dictionnaires-3.5\"><span class=\"toc-item-num\">3.5&nbsp;&nbsp;</span>Les Collections : listes, tuples, ensembles et dictionnaires</a></span></li></ul></li><li><span><a href=\"#Exécution-conditionnelle-et-boucles\" data-toc-modified-id=\"Exécution-conditionnelle-et-boucles-4\"><span class=\"toc-item-num\">4&nbsp;&nbsp;</span>Exécution conditionnelle et boucles</a></span><ul class=\"toc-item\"><li><span><a href=\"#Exécution-conditionnelle\" data-toc-modified-id=\"Exécution-conditionnelle-4.1\"><span class=\"toc-item-num\">4.1&nbsp;&nbsp;</span>Exécution conditionnelle</a></span></li><li><span><a href=\"#Boucles\" data-toc-modified-id=\"Boucles-4.2\"><span class=\"toc-item-num\">4.2&nbsp;&nbsp;</span>Boucles</a></span><ul class=\"toc-item\"><li><span><a href=\"#La-boucle-for\" data-toc-modified-id=\"La-boucle-for-4.2.1\"><span class=\"toc-item-num\">4.2.1&nbsp;&nbsp;</span>La boucle for</a></span></li><li><span><a href=\"#La-boucle-while\" data-toc-modified-id=\"La-boucle-while-4.2.2\"><span class=\"toc-item-num\">4.2.2&nbsp;&nbsp;</span>La boucle while</a></span></li></ul></li></ul></li><li><span><a href=\"#Les-fonctions\" data-toc-modified-id=\"Les-fonctions-5\"><span class=\"toc-item-num\">5&nbsp;&nbsp;</span>Les fonctions</a></span></li><li><span><a href=\"#Les-opérations-usuelles-et-méthodes-des-types-de-base\" data-toc-modified-id=\"Les-opérations-usuelles-et-méthodes-des-types-de-base-6\"><span class=\"toc-item-num\">6&nbsp;&nbsp;</span>Les opérations usuelles et méthodes des types de base</a></span><ul class=\"toc-item\"><li><span><a href=\"#Opérations-communes-sur-toutes-les-séquences-(listes,-tuples,-chaînes-de-caractères)\" data-toc-modified-id=\"Opérations-communes-sur-toutes-les-séquences-(listes,-tuples,-chaînes-de-caractères)-6.1\"><span class=\"toc-item-num\">6.1&nbsp;&nbsp;</span>Opérations communes sur toutes les séquences (listes, tuples, chaînes de caractères)</a></span></li><li><span><a href=\"#Méthodes-des-chaînes-de-caractères\" data-toc-modified-id=\"Méthodes-des-chaînes-de-caractères-6.2\"><span class=\"toc-item-num\">6.2&nbsp;&nbsp;</span>Méthodes des chaînes de caractères</a></span></li><li><span><a href=\"#Méthodes-des-listes\" data-toc-modified-id=\"Méthodes-des-listes-6.3\"><span class=\"toc-item-num\">6.3&nbsp;&nbsp;</span>Méthodes des listes</a></span></li><li><span><a href=\"#Méthodes-des-dictionnaires\" data-toc-modified-id=\"Méthodes-des-dictionnaires-6.4\"><span class=\"toc-item-num\">6.4&nbsp;&nbsp;</span>Méthodes des dictionnaires</a></span></li></ul></li></ul></div>"
   ]
  },
  {
   "cell_type": "markdown",
   "id": "bccadeb4",
   "metadata": {
    "ExecuteTime": {
     "end_time": "2022-01-18T08:22:26.693572Z",
     "start_time": "2022-01-18T08:22:26.686858Z"
    }
   },
   "source": [
    "<div class=\"alert alert-success\">Ce document est un Notebook Jupyter. Il est concu pour que vous exécutiez les cellules pour faire apparaître leur résultat juste en dessous. \n",
    "Le raccourci clavier pour exécuter une cellule et passer le contrôle à la suivante est <b>Shift + Entrée</b></div>"
   ]
  },
  {
   "cell_type": "markdown",
   "id": "9f6a3eec",
   "metadata": {
    "ExecuteTime": {
     "end_time": "2022-01-17T16:26:08.455525Z",
     "start_time": "2022-01-17T16:26:08.450289Z"
    }
   },
   "source": [
    "# Python - Les bases"
   ]
  },
  {
   "cell_type": "markdown",
   "id": "947f3e0d",
   "metadata": {},
   "source": [
    "## Introduction à Python"
   ]
  },
  {
   "cell_type": "markdown",
   "id": "285e1d61",
   "metadata": {},
   "source": [
    "Le langage de programmation Python a été créé en 1989 par Guido van Rossum, aux Pays-Bas. Le nom Python vient d'un hommage à la série télévisée Monty Python's Flying Circus dont Guido van Rossum est fan. La première version publique de ce langage a été publiée en 1991.\n",
    "\n",
    "La dernière version de Python est la version 3. Plus précisément, la version 3.10 a été publiée en octobre 2021. La version 2 de Python est désormais obsolète et n’est plus maintenue. N'utilisez pas la version 2."
   ]
  },
  {
   "cell_type": "markdown",
   "id": "7983b605",
   "metadata": {},
   "source": [
    "\n",
    "Ce langage de programmation présente de nombreuses caractéristiques intéressantes :\n",
    "\n",
    "- Il est multiplateforme. C'est-à-dire qu'il fonctionne sur de nombreux systèmes d'exploitation : Windows, Mac OS X, Linux, Android, iOS, depuis les mini-ordinateurs Raspberry Pi jusqu'aux supercalculateurs.\n",
    "- Il est gratuit. Vous pouvez l'installer sur autant d'ordinateurs que vous voulez (même sur votre téléphone !).\n",
    "- C'est un langage de haut niveau. Il demande relativement peu de connaissance sur le fonctionnement d'un ordinateur pour être utilisé.\n",
    "- C'est un langage interprété. Un script Python n'a pas besoin d'être compilé pour être exécuté, contrairement à des langages comme le C ou le C++.\n",
    "- Il est orienté objet. C'est-à-dire qu'il est possible de concevoir en Python des entités qui miment celles du monde réel (une cellule, une protéine, un atome, etc.) avec un certain nombre de règles de fonctionnement et d'interactions.\n",
    "- Il est relativement *simple* à prendre en main.\n",
    "- Enfin, il est très utilisé en sciences et plus généralement en analyse de données.\n"
   ]
  },
  {
   "cell_type": "markdown",
   "id": "45ecfb09",
   "metadata": {},
   "source": [
    "## Les variables"
   ]
  },
  {
   "cell_type": "markdown",
   "id": "7896661c",
   "metadata": {},
   "source": [
    "<div class='alert alert-info'>\n",
    "    <p>Une <b>variable</b> est une zone de la mémoire de l'ordinateur dans laquelle une valeur est stockée. Aux yeux du programmeur, cette variable est définie par un <b>nom</b>, alors que pour l'ordinateur, il s'agit en fait d'une adresse, c'est-à-dire d'une zone particulière de la mémoire.</p>\n",
    "</div>"
   ]
  },
  {
   "cell_type": "markdown",
   "id": "111fe539",
   "metadata": {},
   "source": [
    "<div class='alert alert-info'>    \n",
    "<p>En Python, la déclaration d'une variable et son initialisation (c'est-à-dire la première valeur que l'on va stocker dedans) se font en même temps. Pour vous en convaincre, testez les instructions suivantes en exécutant les 2 cellules ci-dessous (bouton exécuter dans la barre d'outils du notebook ou bien raccourci clavier <b>Ctrl + Maj</b></p></div>"
   ]
  },
  {
   "cell_type": "code",
   "execution_count": null,
   "id": "04a8454e",
   "metadata": {
    "ExecuteTime": {
     "end_time": "2022-02-02T14:15:03.213328Z",
     "start_time": "2022-02-02T14:15:03.207917Z"
    }
   },
   "outputs": [],
   "source": [
    "a = 2 + 2"
   ]
  },
  {
   "cell_type": "code",
   "execution_count": null,
   "id": "b4a9af91",
   "metadata": {
    "ExecuteTime": {
     "end_time": "2022-02-02T14:15:03.241832Z",
     "start_time": "2022-02-02T14:15:03.216497Z"
    }
   },
   "outputs": [],
   "source": [
    "a"
   ]
  },
  {
   "cell_type": "markdown",
   "id": "b37e98a0",
   "metadata": {},
   "source": [
    "<div class='alert alert-info'>La variable peut ensuite être mise à jour librement :</div>"
   ]
  },
  {
   "cell_type": "code",
   "execution_count": null,
   "id": "79ef80f2",
   "metadata": {
    "ExecuteTime": {
     "end_time": "2022-02-02T14:15:03.252592Z",
     "start_time": "2022-02-02T14:15:03.246613Z"
    }
   },
   "outputs": [],
   "source": [
    "a = a + 1 # Le nouveau a devient l’ancien a + 1. NB : ceci n'est pas une équation\n",
    "a"
   ]
  },
  {
   "cell_type": "markdown",
   "id": "b40787fa",
   "metadata": {},
   "source": [
    "<div class='alert alert-info'>Ce genre d'opérations de mise à jour étant très fréquent il existe un raccourci </div>"
   ]
  },
  {
   "cell_type": "code",
   "execution_count": null,
   "id": "92d74626",
   "metadata": {
    "ExecuteTime": {
     "end_time": "2022-02-02T14:15:03.261297Z",
     "start_time": "2022-02-02T14:15:03.255308Z"
    }
   },
   "outputs": [],
   "source": [
    "a += 1\n",
    "a"
   ]
  },
  {
   "cell_type": "markdown",
   "id": "fe630207",
   "metadata": {},
   "source": [
    "<div class='alert alert-info'>Il est possible d'assigner plusieurs variables simultanément : </div>"
   ]
  },
  {
   "cell_type": "code",
   "execution_count": null,
   "id": "c98473e1",
   "metadata": {
    "ExecuteTime": {
     "end_time": "2022-02-07T08:16:28.344701Z",
     "start_time": "2022-02-07T08:16:28.339626Z"
    }
   },
   "outputs": [],
   "source": [
    "a, b = 0, 1"
   ]
  },
  {
   "cell_type": "code",
   "execution_count": null,
   "id": "cc7483bc",
   "metadata": {
    "ExecuteTime": {
     "end_time": "2022-02-07T08:16:29.670357Z",
     "start_time": "2022-02-07T08:16:29.650614Z"
    }
   },
   "outputs": [],
   "source": [
    "a"
   ]
  },
  {
   "cell_type": "code",
   "execution_count": null,
   "id": "5889f0bc",
   "metadata": {
    "ExecuteTime": {
     "end_time": "2022-02-07T08:16:33.341480Z",
     "start_time": "2022-02-07T08:16:33.335553Z"
    }
   },
   "outputs": [],
   "source": [
    "b"
   ]
  },
  {
   "cell_type": "markdown",
   "id": "d9fafd8e",
   "metadata": {},
   "source": [
    "<div class='alert alert-success'><strong>Bonnes pratiques</strong>\n",
    "\n",
    "Il est en général préférable d'utiliser des noms de variables ayant du sens, même s'ils sont un peu plus longs à tapper.\n",
    "\n",
    "La convention est d’utiliser des noms de variables en minuscules, en séparant au besoin un groupe de mots par des underscores.\n",
    "    \n",
    "Utiliser une variable d'une seule lettre est en général à éviter, sauf si c'est évident ou bien une convention du domaine, par exemple :\n",
    "    \n",
    "- i (pour index)\n",
    "- n (pour un entier naturel)\n",
    "- X (pour une matrice)\n",
    "\n",
    "</div>"
   ]
  },
  {
   "cell_type": "markdown",
   "id": "d938ee62",
   "metadata": {
    "ExecuteTime": {
     "end_time": "2022-01-18T08:24:34.487922Z",
     "start_time": "2022-01-18T08:24:34.479057Z"
    }
   },
   "source": [
    "<div class='alert alert-danger'>Certains mots sont des termes réservés dans la syntaxe Python, ne les utilisez pas comme noms de variables (liste non exhaustive) :\n",
    "\n",
    "- class\n",
    "- list\n",
    "- type\n",
    "- dict\n",
    "- str\n",
    "- range\n",
    "- print\n",
    "</div>"
   ]
  },
  {
   "cell_type": "markdown",
   "id": "983a2d53",
   "metadata": {
    "ExecuteTime": {
     "end_time": "2022-01-18T08:24:34.487922Z",
     "start_time": "2022-01-18T08:24:34.479057Z"
    }
   },
   "source": [
    "<div class='alert alert-warning'>\n",
    "    Vous pouvez en revanche parfaitement utiliser class_ ou le franciser en classe par exemple.\n",
    "</div>"
   ]
  },
  {
   "cell_type": "markdown",
   "id": "10ff42e3",
   "metadata": {},
   "source": [
    "<div class='alert alert-info'>Le type d’une variable correspond à la nature de celle-ci. Il existe un certain nombre de types d'objets implémentés de base, qui couvrent la plupart des besoins. Vous pourrez également à un niveau  plus avancé créer vos propres types d'objets pour modéliser des objets réels comme une cellule ou une molécule. </div>"
   ]
  },
  {
   "cell_type": "markdown",
   "id": "9e145e81",
   "metadata": {},
   "source": [
    "<div class='alert alert-info'>La fonction <b>type()</b> permet d'afficher le type d'une variable ou d’une expression. </div>"
   ]
  },
  {
   "cell_type": "code",
   "execution_count": null,
   "id": "10791d37",
   "metadata": {
    "ExecuteTime": {
     "end_time": "2022-02-02T14:15:03.272529Z",
     "start_time": "2022-02-02T14:15:03.265960Z"
    }
   },
   "outputs": [],
   "source": [
    "type(a)"
   ]
  },
  {
   "cell_type": "markdown",
   "id": "485e8b63",
   "metadata": {},
   "source": [
    "## Les types de données fournis"
   ]
  },
  {
   "cell_type": "markdown",
   "id": "3d1c6a88",
   "metadata": {
    "ExecuteTime": {
     "end_time": "2022-01-17T16:27:28.316439Z",
     "start_time": "2022-01-17T16:27:28.312519Z"
    }
   },
   "source": [
    "### Les Chaînes de caractères (strings)"
   ]
  },
  {
   "cell_type": "markdown",
   "id": "cee33243",
   "metadata": {},
   "source": [
    "<div class='alert alert-info'>Une chaîne de caractères est une simple série de lettres et de symboles, autrement dit du texte brut, à ne pas confondre avec des instructions Python.\n",
    "\n",
    "Pour créer une chaîne de caractères, on encadre le texte d'apostrophes simples 'comme ceci' (simple quote) ou bien de \"guillements\" (double quote). \n",
    "\n",
    "Une longue chaîne de caractères s'étalant sur plusieurs lignes doit être encadrée par triple apostrophe, simple ou double.</div>"
   ]
  },
  {
   "cell_type": "code",
   "execution_count": null,
   "id": "b37e0deb",
   "metadata": {
    "ExecuteTime": {
     "end_time": "2022-02-02T14:15:03.280836Z",
     "start_time": "2022-02-02T14:15:03.276698Z"
    }
   },
   "outputs": [],
   "source": [
    "# exemple de string multilignes avec triple simple-quote\n",
    "print('''\n",
    "comme\n",
    "ceci\n",
    "''')"
   ]
  },
  {
   "cell_type": "code",
   "execution_count": null,
   "id": "a7f54265",
   "metadata": {
    "ExecuteTime": {
     "end_time": "2022-02-02T14:15:03.287355Z",
     "start_time": "2022-02-02T14:15:03.283447Z"
    }
   },
   "outputs": [],
   "source": [
    "# exemple de string multilignes avec triple double-quote\n",
    "print(\"\"\"\n",
    "comme\n",
    "cela\n",
    "\"\"\")"
   ]
  },
  {
   "cell_type": "markdown",
   "id": "74885c37",
   "metadata": {
    "ExecuteTime": {
     "end_time": "2022-01-17T16:35:36.685752Z",
     "start_time": "2022-01-17T16:35:36.680620Z"
    }
   },
   "source": [
    "### Les Nombres et opérateurs"
   ]
  },
  {
   "cell_type": "markdown",
   "id": "248d7f21",
   "metadata": {},
   "source": [
    "<div class='alert alert-info'>\n",
    "    De base, vous avez accès à trois types de nombres : \n",
    "\n",
    "1. les entiers (integers), \n",
    "1. les nombres à virgule (float)\n",
    "1. les nombres complexes\n",
    "    \n",
    "</div>"
   ]
  },
  {
   "cell_type": "code",
   "execution_count": null,
   "id": "7b7a8239",
   "metadata": {
    "ExecuteTime": {
     "end_time": "2022-02-02T14:15:03.293544Z",
     "start_time": "2022-02-02T14:15:03.289495Z"
    }
   },
   "outputs": [],
   "source": [
    "type(42)"
   ]
  },
  {
   "cell_type": "code",
   "execution_count": null,
   "id": "b9347739",
   "metadata": {
    "ExecuteTime": {
     "end_time": "2022-02-02T14:15:03.301534Z",
     "start_time": "2022-02-02T14:15:03.296532Z"
    }
   },
   "outputs": [],
   "source": [
    "type(42.0) # notez le point . et non pas la virgule comme séparateur des décimales"
   ]
  },
  {
   "cell_type": "code",
   "execution_count": null,
   "id": "42c76e9c",
   "metadata": {
    "ExecuteTime": {
     "end_time": "2022-02-02T14:15:03.306346Z",
     "start_time": "2022-02-02T14:15:03.303556Z"
    }
   },
   "outputs": [],
   "source": [
    "type(4 + 2j) # les nombres complexes s’écrivent avec j et pas i"
   ]
  },
  {
   "cell_type": "markdown",
   "id": "69954c98",
   "metadata": {},
   "source": [
    "<div class='alert alert-info'>\n",
    "Les opérations usuelles sont évidemment présentes :\n",
    "</div>"
   ]
  },
  {
   "cell_type": "code",
   "execution_count": null,
   "id": "3a2ae04c",
   "metadata": {
    "ExecuteTime": {
     "end_time": "2022-02-02T14:15:03.311473Z",
     "start_time": "2022-02-02T14:15:03.307335Z"
    }
   },
   "outputs": [],
   "source": [
    "2 + 2 * 3"
   ]
  },
  {
   "cell_type": "code",
   "execution_count": null,
   "id": "62b2f3f8",
   "metadata": {
    "ExecuteTime": {
     "end_time": "2022-02-02T14:15:03.316996Z",
     "start_time": "2022-02-02T14:15:03.312498Z"
    }
   },
   "outputs": [],
   "source": [
    "(2 + 2) * 3.0 # les parenthèses permettent naturellement de forcer l'ordre des opérations"
   ]
  },
  {
   "cell_type": "code",
   "execution_count": null,
   "id": "27c00219",
   "metadata": {
    "ExecuteTime": {
     "end_time": "2022-02-02T14:15:03.321816Z",
     "start_time": "2022-02-02T14:15:03.319010Z"
    }
   },
   "outputs": [],
   "source": [
    "2 ** 8 # 2 puissance 8, double étoile"
   ]
  },
  {
   "cell_type": "code",
   "execution_count": null,
   "id": "ab423743",
   "metadata": {
    "ExecuteTime": {
     "end_time": "2022-02-02T14:15:03.325739Z",
     "start_time": "2022-02-02T14:15:03.322902Z"
    }
   },
   "outputs": [],
   "source": [
    "8 / 2 # la division donne toujours un float, même quand elle tombe juste"
   ]
  },
  {
   "cell_type": "code",
   "execution_count": null,
   "id": "287403f3",
   "metadata": {
    "ExecuteTime": {
     "end_time": "2022-02-02T14:15:03.330559Z",
     "start_time": "2022-02-02T14:15:03.327087Z"
    }
   },
   "outputs": [],
   "source": [
    "16 // 12 # la division entière se fait avec double slash, et donne un entier"
   ]
  },
  {
   "cell_type": "code",
   "execution_count": null,
   "id": "a15efb93",
   "metadata": {
    "ExecuteTime": {
     "end_time": "2022-02-02T14:15:03.336344Z",
     "start_time": "2022-02-02T14:15:03.331551Z"
    }
   },
   "outputs": [],
   "source": [
    "16 % 12 # le reste (ou modulo) s’obtient avec le symbole %"
   ]
  },
  {
   "cell_type": "code",
   "execution_count": null,
   "id": "3ee6d815",
   "metadata": {
    "ExecuteTime": {
     "end_time": "2022-02-02T14:15:03.340452Z",
     "start_time": "2022-02-02T14:15:03.337448Z"
    }
   },
   "outputs": [],
   "source": [
    "# l’opérateur modulo est souvent utilisé pour tester la divisibilité, en comparant n % p à 0\n",
    "13 % 3 == 0 # la comparaison se fait avec un double ==, le simple = est pour l'assignation de variables"
   ]
  },
  {
   "cell_type": "code",
   "execution_count": null,
   "id": "fd9339b5",
   "metadata": {
    "ExecuteTime": {
     "end_time": "2022-02-02T14:15:03.345101Z",
     "start_time": "2022-02-02T14:15:03.342108Z"
    }
   },
   "outputs": [],
   "source": [
    "# Pour avoir le quotient et le reste d’un coup, sous la forme d'un tuple de 2 valeurs\n",
    "divmod(16,12)"
   ]
  },
  {
   "cell_type": "code",
   "execution_count": null,
   "id": "8dda06e4",
   "metadata": {
    "ExecuteTime": {
     "end_time": "2022-02-02T14:15:03.351568Z",
     "start_time": "2022-02-02T14:15:03.346554Z"
    }
   },
   "outputs": [],
   "source": [
    "(3+1j) * (4+2j) # opérations sur les nombres complexes, qui fonctionnent naturellement :)"
   ]
  },
  {
   "cell_type": "markdown",
   "id": "57a2106d",
   "metadata": {},
   "source": [
    "<div class = \"alert alert-info\">Pour aller plus loin, le module math est là, il suffit de l'importer</div>"
   ]
  },
  {
   "cell_type": "code",
   "execution_count": null,
   "id": "9aeeb9b9",
   "metadata": {
    "ExecuteTime": {
     "end_time": "2022-02-02T14:15:03.354890Z",
     "start_time": "2022-02-02T14:15:03.352799Z"
    }
   },
   "outputs": [],
   "source": [
    "import math"
   ]
  },
  {
   "cell_type": "code",
   "execution_count": null,
   "id": "1cb97f74",
   "metadata": {
    "ExecuteTime": {
     "end_time": "2022-02-02T14:15:03.363948Z",
     "start_time": "2022-02-02T14:15:03.359342Z"
    }
   },
   "outputs": [],
   "source": [
    "math.e**(math.pi*1j) #avec approximations inévitables"
   ]
  },
  {
   "cell_type": "markdown",
   "id": "a1412c34",
   "metadata": {},
   "source": [
    "<div class=\"alert alert-info\">Quand on importe un module comme math, on a accès aux objets définis dedans avec la syntaxe nom_du_module.nom_de_l_objet</div>"
   ]
  },
  {
   "cell_type": "code",
   "execution_count": null,
   "id": "52bdfb4a",
   "metadata": {
    "ExecuteTime": {
     "end_time": "2022-02-02T14:15:03.371768Z",
     "start_time": "2022-02-02T14:15:03.367599Z"
    }
   },
   "outputs": [],
   "source": [
    "math.log(10)"
   ]
  },
  {
   "cell_type": "markdown",
   "id": "e0cabef2",
   "metadata": {
    "ExecuteTime": {
     "end_time": "2022-01-17T16:56:15.859856Z",
     "start_time": "2022-01-17T16:56:15.856021Z"
    }
   },
   "source": [
    "### Les variables et opérateurs booléens"
   ]
  },
  {
   "cell_type": "code",
   "execution_count": null,
   "id": "89b8d543",
   "metadata": {
    "ExecuteTime": {
     "end_time": "2022-02-02T14:15:03.377179Z",
     "start_time": "2022-02-02T14:15:03.373787Z"
    }
   },
   "outputs": [],
   "source": [
    "True"
   ]
  },
  {
   "cell_type": "code",
   "execution_count": null,
   "id": "cf8b0b45",
   "metadata": {
    "ExecuteTime": {
     "end_time": "2022-02-02T14:15:03.381738Z",
     "start_time": "2022-02-02T14:15:03.378794Z"
    }
   },
   "outputs": [],
   "source": [
    "False"
   ]
  },
  {
   "cell_type": "code",
   "execution_count": null,
   "id": "127abcf6",
   "metadata": {
    "ExecuteTime": {
     "end_time": "2022-02-02T14:15:03.388007Z",
     "start_time": "2022-02-02T14:15:03.384191Z"
    }
   },
   "outputs": [],
   "source": [
    "True and False # et logique"
   ]
  },
  {
   "cell_type": "code",
   "execution_count": null,
   "id": "c58e723e",
   "metadata": {
    "ExecuteTime": {
     "end_time": "2022-02-02T14:15:03.393336Z",
     "start_time": "2022-02-02T14:15:03.389313Z"
    }
   },
   "outputs": [],
   "source": [
    "True or False # ou logique"
   ]
  },
  {
   "cell_type": "code",
   "execution_count": null,
   "id": "bf8ba329",
   "metadata": {
    "ExecuteTime": {
     "end_time": "2022-02-02T14:15:03.398714Z",
     "start_time": "2022-02-02T14:15:03.394512Z"
    }
   },
   "outputs": [],
   "source": [
    "not False # not inverse une expression booléenne"
   ]
  },
  {
   "cell_type": "markdown",
   "id": "9021349d",
   "metadata": {},
   "source": [
    "### La constante None"
   ]
  },
  {
   "cell_type": "markdown",
   "id": "e83c9c83",
   "metadata": {},
   "source": [
    "<div class=\"alert alert-info\"><b>None</b> est une constante qui représente l'absence, le vide.</div>"
   ]
  },
  {
   "cell_type": "code",
   "execution_count": null,
   "id": "e2a56ef7",
   "metadata": {
    "ExecuteTime": {
     "end_time": "2022-02-02T14:15:03.401717Z",
     "start_time": "2022-02-02T14:15:03.399966Z"
    }
   },
   "outputs": [],
   "source": [
    "phone_number = None"
   ]
  },
  {
   "cell_type": "markdown",
   "id": "d5bcd5a2",
   "metadata": {},
   "source": [
    "### Les Collections : listes, tuples, ensembles et dictionnaires"
   ]
  },
  {
   "cell_type": "markdown",
   "id": "ebbd1d6d",
   "metadata": {},
   "source": [
    "<div class=\"alert alert-info\">Une liste est une collection ordonnée d'éléments de types pouvant êtres variés, encadrés par des crochets [ ] et séparés par des virgules</div>"
   ]
  },
  {
   "cell_type": "code",
   "execution_count": null,
   "id": "b462cdf4",
   "metadata": {
    "ExecuteTime": {
     "end_time": "2022-02-02T14:15:03.407075Z",
     "start_time": "2022-02-02T14:15:03.402841Z"
    }
   },
   "outputs": [],
   "source": [
    "my_list = ['Ceci', 'est', 'une', 'liste', 'de', 'strings', 'et', 'de', 'nombres', 3, 0.0]\n",
    "type(my_list)"
   ]
  },
  {
   "cell_type": "code",
   "execution_count": null,
   "id": "31a82806",
   "metadata": {
    "ExecuteTime": {
     "end_time": "2022-02-02T14:15:03.412469Z",
     "start_time": "2022-02-02T14:15:03.409222Z"
    }
   },
   "outputs": [],
   "source": [
    "len(my_list) # La fonction len() donne la longueur (length) d'une collection, ie le nombre d'éléments inclus"
   ]
  },
  {
   "cell_type": "markdown",
   "id": "a428bdf7",
   "metadata": {},
   "source": [
    "<div class=\"alert alert-info\">un tuple est similaire à une liste, et créé avec des parenthèses. Contrairement à une liste, un tuple est immuable. Une fois créé, on ne peut pas le modifier.</div>"
   ]
  },
  {
   "cell_type": "code",
   "execution_count": null,
   "id": "c22f485d",
   "metadata": {
    "ExecuteTime": {
     "end_time": "2022-02-02T14:15:03.418024Z",
     "start_time": "2022-02-02T14:15:03.413722Z"
    }
   },
   "outputs": [],
   "source": [
    "type((1,2))"
   ]
  },
  {
   "cell_type": "markdown",
   "id": "c08fe3cd",
   "metadata": {},
   "source": [
    "<div class=\"alert alert-info\">Les listes et les tuples sont ordonnés, on peut accéder à un élément interne grâce à sa position (aussi appelée son index).</div>"
   ]
  },
  {
   "cell_type": "code",
   "execution_count": null,
   "id": "68231682",
   "metadata": {
    "ExecuteTime": {
     "end_time": "2022-02-02T14:15:03.421858Z",
     "start_time": "2022-02-02T14:15:03.418984Z"
    }
   },
   "outputs": [],
   "source": [
    "beatles = ['Philippe', 'George', 'Paul', 'Ringo']"
   ]
  },
  {
   "cell_type": "code",
   "execution_count": null,
   "id": "33a3cff0",
   "metadata": {
    "ExecuteTime": {
     "end_time": "2022-02-02T14:15:03.426174Z",
     "start_time": "2022-02-02T14:15:03.423474Z"
    }
   },
   "outputs": [],
   "source": [
    "beatles[0] # l'indexation commence à 0"
   ]
  },
  {
   "cell_type": "code",
   "execution_count": null,
   "id": "e05e9441",
   "metadata": {
    "ExecuteTime": {
     "end_time": "2022-02-02T14:15:03.431495Z",
     "start_time": "2022-02-02T14:15:03.428705Z"
    }
   },
   "outputs": [],
   "source": [
    "beatles[-1] # les index négatifs partent de la fin"
   ]
  },
  {
   "cell_type": "code",
   "execution_count": null,
   "id": "9b089b1a",
   "metadata": {
    "ExecuteTime": {
     "end_time": "2022-02-02T14:15:03.436650Z",
     "start_time": "2022-02-02T14:15:03.432507Z"
    }
   },
   "outputs": [],
   "source": [
    "beatles[0] = 'John' # mise à jour d’un élément dans la liste\n",
    "beatles"
   ]
  },
  {
   "cell_type": "markdown",
   "id": "8f0ae696",
   "metadata": {},
   "source": [
    "<div class=\"alert alert-info\">On peut créer une nouvelle liste en \"tranchant\" dans une liste, il suffit d'indiquer la position de départ (incluse) et celle d’arrêt (exclue)</div>"
   ]
  },
  {
   "cell_type": "code",
   "execution_count": null,
   "id": "6a263e33",
   "metadata": {
    "ExecuteTime": {
     "end_time": "2022-02-02T14:15:03.444095Z",
     "start_time": "2022-02-02T14:15:03.438492Z"
    }
   },
   "outputs": [],
   "source": [
    "beatles[1:3] # de la position 1 à la position 3 (sans prendre la 3ème)"
   ]
  },
  {
   "cell_type": "code",
   "execution_count": null,
   "id": "b6780949",
   "metadata": {
    "ExecuteTime": {
     "end_time": "2022-02-02T14:15:03.450658Z",
     "start_time": "2022-02-02T14:15:03.446711Z"
    }
   },
   "outputs": [],
   "source": [
    "beatles[-2:] # de l'avant-dernier à la fin"
   ]
  },
  {
   "cell_type": "code",
   "execution_count": null,
   "id": "936b5354",
   "metadata": {
    "ExecuteTime": {
     "end_time": "2022-02-02T14:15:03.456386Z",
     "start_time": "2022-02-02T14:15:03.451669Z"
    }
   },
   "outputs": [],
   "source": [
    "beatles[::-1] # du début à la fin, avec des \"pas\" de -1, ce qui revient à une copie inversée de la liste"
   ]
  },
  {
   "cell_type": "markdown",
   "id": "63516c5e",
   "metadata": {},
   "source": [
    "<div class='alert alert-info'>Un ensemble (set) est une collection d'objets uniques. On peut le créer avec deux accolades.</div>"
   ]
  },
  {
   "cell_type": "code",
   "execution_count": null,
   "id": "7141c67d",
   "metadata": {
    "ExecuteTime": {
     "end_time": "2022-02-02T14:15:03.463012Z",
     "start_time": "2022-02-02T14:15:03.457995Z"
    }
   },
   "outputs": [],
   "source": [
    "{0, 1, 1, 1, 2} "
   ]
  },
  {
   "cell_type": "code",
   "execution_count": null,
   "id": "c546bbab",
   "metadata": {
    "ExecuteTime": {
     "end_time": "2022-02-02T14:15:03.467974Z",
     "start_time": "2022-02-02T14:15:03.464626Z"
    }
   },
   "outputs": [],
   "source": [
    "set([0,1,1,1,2]) # on peut aussi créer un ensemble à partir d'une liste, d'un tuple, ou même d'un string"
   ]
  },
  {
   "cell_type": "markdown",
   "id": "ea92607f",
   "metadata": {},
   "source": [
    "<div class='alert alert-warning'>Les objets dans un ensemble n'ont pas vraiment d'ordre, même s'ils sont présentés alphabétiquement.</div>"
   ]
  },
  {
   "cell_type": "code",
   "execution_count": null,
   "id": "833a8805",
   "metadata": {
    "ExecuteTime": {
     "end_time": "2022-02-02T14:15:03.474614Z",
     "start_time": "2022-02-02T14:15:03.470190Z"
    }
   },
   "outputs": [],
   "source": [
    "set('Python is easy') "
   ]
  },
  {
   "cell_type": "markdown",
   "id": "c1ee7a97",
   "metadata": {},
   "source": [
    "<div class=\"alert alert-info\">Un dictionnaire est une collection de couples de clés: valeurs.</div>"
   ]
  },
  {
   "cell_type": "code",
   "execution_count": null,
   "id": "69b126e0",
   "metadata": {
    "ExecuteTime": {
     "end_time": "2022-02-02T14:15:03.481308Z",
     "start_time": "2022-02-02T14:15:03.476631Z"
    }
   },
   "outputs": [],
   "source": [
    "p1 = {'first_name': 'Leonardo', 'last_name': 'da Vinci'}\n",
    "\n",
    "type(p1)"
   ]
  },
  {
   "cell_type": "code",
   "execution_count": null,
   "id": "9fa06849",
   "metadata": {
    "ExecuteTime": {
     "end_time": "2022-02-02T14:15:03.486411Z",
     "start_time": "2022-02-02T14:15:03.482754Z"
    }
   },
   "outputs": [],
   "source": [
    "p1['first_name']"
   ]
  },
  {
   "cell_type": "code",
   "execution_count": null,
   "id": "64fac1b2",
   "metadata": {
    "ExecuteTime": {
     "end_time": "2022-02-02T14:15:03.490802Z",
     "start_time": "2022-02-02T14:15:03.487526Z"
    }
   },
   "outputs": [],
   "source": [
    "p1['last_name']"
   ]
  },
  {
   "cell_type": "markdown",
   "id": "03018880",
   "metadata": {},
   "source": [
    "<div class=\"alert alert-info\">La mise à jour de la valeur associée à une clé existante se fait par réassignation.</div>"
   ]
  },
  {
   "cell_type": "code",
   "execution_count": null,
   "id": "2095a1ab",
   "metadata": {
    "ExecuteTime": {
     "end_time": "2022-02-02T14:15:03.495748Z",
     "start_time": "2022-02-02T14:15:03.492062Z"
    }
   },
   "outputs": [],
   "source": [
    "p1['first_name'] = 'John'\n",
    "p1['last_name'] = 'Doe'\n",
    "p1"
   ]
  },
  {
   "cell_type": "markdown",
   "id": "d27e6c0f",
   "metadata": {},
   "source": [
    "<div class=\"alert alert-info\">L'ajout d'une nouvelle paire clé:valeur se fait de la même manière.</div>"
   ]
  },
  {
   "cell_type": "code",
   "execution_count": null,
   "id": "f3ccbbb4",
   "metadata": {
    "ExecuteTime": {
     "end_time": "2022-02-02T14:15:03.501254Z",
     "start_time": "2022-02-02T14:15:03.497129Z"
    }
   },
   "outputs": [],
   "source": [
    "p1['birth_place'] = 'Lyon'\n",
    "p1"
   ]
  },
  {
   "cell_type": "markdown",
   "id": "01d96101",
   "metadata": {},
   "source": [
    "<div class=\"alert alert-warning\">Les clés d'un dictionnaire doivent être uniques et d'un type hashable. \n",
    "    \n",
    "En pratique, on utilise généralement des strings comme clés, et parfois des entiers.</div>"
   ]
  },
  {
   "cell_type": "markdown",
   "id": "de375242",
   "metadata": {
    "ExecuteTime": {
     "end_time": "2022-01-18T08:44:35.274936Z",
     "start_time": "2022-01-18T08:44:35.267332Z"
    }
   },
   "source": [
    "## Exécution conditionnelle et boucles"
   ]
  },
  {
   "cell_type": "markdown",
   "id": "b9e897b0",
   "metadata": {},
   "source": [
    "### Exécution conditionnelle"
   ]
  },
  {
   "cell_type": "markdown",
   "id": "609879b2",
   "metadata": {},
   "source": [
    "<div class=\"alert alert-info\">Les comparaisons et expressions logiques sont réduites après évaluation à des variables booléennes True ou False.</div>"
   ]
  },
  {
   "cell_type": "code",
   "execution_count": null,
   "id": "e3e7308d",
   "metadata": {
    "ExecuteTime": {
     "end_time": "2022-02-02T14:15:03.506067Z",
     "start_time": "2022-02-02T14:15:03.502222Z"
    }
   },
   "outputs": [],
   "source": [
    "3 > 1"
   ]
  },
  {
   "cell_type": "code",
   "execution_count": null,
   "id": "3916acdd",
   "metadata": {
    "ExecuteTime": {
     "end_time": "2022-02-02T14:15:03.511303Z",
     "start_time": "2022-02-02T14:15:03.507256Z"
    }
   },
   "outputs": [],
   "source": [
    "4 + 4 == 0"
   ]
  },
  {
   "cell_type": "code",
   "execution_count": null,
   "id": "f5858e66",
   "metadata": {
    "ExecuteTime": {
     "end_time": "2022-02-02T14:15:03.516279Z",
     "start_time": "2022-02-02T14:15:03.512314Z"
    }
   },
   "outputs": [],
   "source": [
    "3 > 1 or 4 + 4 == 8"
   ]
  },
  {
   "cell_type": "markdown",
   "id": "45e7d175",
   "metadata": {},
   "source": [
    "<div class=\"alert alert-info\">Le mot clé <b>if</b> permet de n'exécuter un bloc de code que si la condition qui le suit est vraie.</div>"
   ]
  },
  {
   "cell_type": "code",
   "execution_count": null,
   "id": "c1908b91",
   "metadata": {
    "ExecuteTime": {
     "end_time": "2022-02-02T14:15:03.521405Z",
     "start_time": "2022-02-02T14:15:03.519289Z"
    }
   },
   "outputs": [],
   "source": [
    "name = 'Philippe'\n",
    "if len(name) >= 8: # if condition: Notez bien le : qui suit la condition\n",
    "    print(\"Le nom \" + name + ' a au moins 8 caractères.') "
   ]
  },
  {
   "cell_type": "markdown",
   "id": "897cb983",
   "metadata": {},
   "source": [
    "<div class=\"alert alert-warning\">Notez bien l'indentation du bloc d'instructions à réaliser. \n",
    "    \n",
    "Vous pouvez utiliser des espaces ou des tabulations pour indenter, mais la convention est d'utiliser 4 espaces par niveau d'indentation.\n",
    "\n",
    "Le retour au niveau antérieur d'indentation indique la fin d’un bloc.</div>"
   ]
  },
  {
   "cell_type": "markdown",
   "id": "e0d203bf",
   "metadata": {},
   "source": [
    "<div class=\"alert alert-info\">Le mot clé <b>else</b> permet de n'exécuter un bloc de code que si la condition testée par le if précédent s'est avérée False.</div>"
   ]
  },
  {
   "cell_type": "code",
   "execution_count": null,
   "id": "63b58491",
   "metadata": {
    "ExecuteTime": {
     "end_time": "2022-02-02T14:15:03.525648Z",
     "start_time": "2022-02-02T14:15:03.522698Z"
    }
   },
   "outputs": [],
   "source": [
    "name = 'Phil'\n",
    "if len(name) >= 8:\n",
    "    print(\"Le nom \" + name + ' a au moins 8 caractères.') \n",
    "else:\n",
    "    print(\"Le nom \" + name + ' a moins de 8 caractères.')"
   ]
  },
  {
   "cell_type": "markdown",
   "id": "1f52dd0a",
   "metadata": {},
   "source": [
    "<div class=\"alert alert-info\">Si vous avez plusieurs conditions à tester une à une, utilisez <b>if</b> suivi de 1 ou plusieurs <b>elif</b>.</div>"
   ]
  },
  {
   "cell_type": "code",
   "execution_count": null,
   "id": "1f72cfd7",
   "metadata": {
    "ExecuteTime": {
     "end_time": "2022-02-02T14:15:03.530265Z",
     "start_time": "2022-02-02T14:15:03.527901Z"
    }
   },
   "outputs": [],
   "source": [
    "age = 17"
   ]
  },
  {
   "cell_type": "code",
   "execution_count": null,
   "id": "360dd62c",
   "metadata": {
    "ExecuteTime": {
     "end_time": "2022-02-02T14:15:03.534850Z",
     "start_time": "2022-02-02T14:15:03.531523Z"
    }
   },
   "outputs": [],
   "source": [
    "if age >= 18:\n",
    "    print('Peut voter et conduire.')\n",
    "elif age >= 16:\n",
    "    print('Peut conduire.')\n",
    "else:\n",
    "    print('Trop jeune pour voter ou conduire.')"
   ]
  },
  {
   "cell_type": "markdown",
   "id": "34f5e0be",
   "metadata": {},
   "source": [
    "<div class=\"alert alert-info\">Dans le contexte de tests logiques :\n",
    "    \n",
    "- les nombres non-nuls, les strings et collections non-vides sont considérés comme `True`\n",
    "- les nombres nuls (`0` et `0.0`, les strings et collections **vides** et la constante `None` sont considérés comme `False`\n",
    "</div>"
   ]
  },
  {
   "cell_type": "code",
   "execution_count": null,
   "id": "bf555746",
   "metadata": {
    "ExecuteTime": {
     "end_time": "2022-02-02T14:15:03.538757Z",
     "start_time": "2022-02-02T14:15:03.535878Z"
    }
   },
   "outputs": [],
   "source": [
    "customers = ['Pierre', 'Paul', 'Jacques']\n",
    "if len(customers) > 0:\n",
    "    print(customers)"
   ]
  },
  {
   "cell_type": "markdown",
   "id": "14c019da",
   "metadata": {},
   "source": [
    "<div class='alert alert-info'>\n",
    "Le test sur la longueur de la liste n'est pas nécessaire.\n",
    "    \n",
    "`if customers:` est équivalent. `customers` sera évalué comme `False` s'il est vide. \n",
    "</div>"
   ]
  },
  {
   "cell_type": "code",
   "execution_count": null,
   "id": "01df5a70",
   "metadata": {
    "ExecuteTime": {
     "end_time": "2022-02-02T14:15:03.543577Z",
     "start_time": "2022-02-02T14:15:03.540668Z"
    }
   },
   "outputs": [],
   "source": [
    "if customers:\n",
    "    print(customers)"
   ]
  },
  {
   "cell_type": "markdown",
   "id": "8d848154",
   "metadata": {},
   "source": [
    "### Boucles"
   ]
  },
  {
   "cell_type": "markdown",
   "id": "69c14214",
   "metadata": {},
   "source": [
    "<div class='alert alert-info'>En programmation, on est souvent amené à répéter plusieurs fois une instruction. Incontournables à tout langage de programmation, les boucles vont nous aider à réaliser cette tâche de manière compacte et efficace. </div>"
   ]
  },
  {
   "cell_type": "markdown",
   "id": "7e42aa37",
   "metadata": {},
   "source": [
    "<div class='alert alert-info'>Imaginez que nous voulions afficher un à un les éléments d'une liste. Sans boucle, ça ressemblerait à ça :</div>"
   ]
  },
  {
   "cell_type": "code",
   "execution_count": null,
   "id": "80d90ee5",
   "metadata": {
    "ExecuteTime": {
     "end_time": "2022-02-02T14:15:03.548406Z",
     "start_time": "2022-02-02T14:15:03.545016Z"
    }
   },
   "outputs": [],
   "source": [
    "beatles = ['John', 'George', 'Paul', 'Ringo']\n",
    "\n",
    "print(beatles[0])\n",
    "print(beatles[1])\n",
    "print(beatles[2])\n",
    "print(beatles[3])"
   ]
  },
  {
   "cell_type": "markdown",
   "id": "f6194745",
   "metadata": {},
   "source": [
    "<div class='alert alert-success'>Évidemment, c'est ingérable si la liste est longue ou si on ne connait pas sa longueur à l'avance. Heureusement, les boucles sont là pour ça.</div>"
   ]
  },
  {
   "cell_type": "markdown",
   "id": "8042f0cd",
   "metadata": {},
   "source": [
    "#### La boucle for "
   ]
  },
  {
   "cell_type": "code",
   "execution_count": null,
   "id": "d35386ad",
   "metadata": {
    "ExecuteTime": {
     "end_time": "2022-02-02T14:15:03.552078Z",
     "start_time": "2022-02-02T14:15:03.549510Z"
    }
   },
   "outputs": [],
   "source": [
    "for member in beatles:\n",
    "    print(member)"
   ]
  },
  {
   "cell_type": "markdown",
   "id": "e64c775e",
   "metadata": {},
   "source": [
    "<div class='alert alert-info'>\n",
    "    \n",
    "La variable `member` est appelée variable d'itération, elle prend successivement les différentes valeurs de la liste `beatles` à chaque itération de la boucle. On peut choisir le nom que l’on veut pour cette variable. Celle-ci est créée par Python la première fois que la ligne contenant le for est exécutée (si elle existait déjà son contenu serait écrasé). Une fois la boucle terminée, cette variable d'itération member ne sera pas détruite et contiendra ainsi la dernière valeur de la liste beatles (ici la chaîne de caractères `'Ringo'`).\n",
    "    \n",
    "</div>"
   ]
  },
  {
   "cell_type": "markdown",
   "id": "e91794ce",
   "metadata": {},
   "source": [
    "<div class='alert alert-info'>\n",
    "\n",
    "Dans la pratique vous pouvez considérer cette variable d'itération comme jetable : elle ne sert que lors de la boucle for.</div>"
   ]
  },
  {
   "cell_type": "markdown",
   "id": "c4351610",
   "metadata": {},
   "source": [
    "<div class='alert alert-success'>\n",
    "\n",
    "<p>Pour mieux comprendre le sens du mot clé <b>for</b>, vous pouvez l’interpréter plutôt comme \"for each\". </p>\n",
    "    <p>Pour chaque élément de la collection suivante, exécute ceci.</p>\n",
    "</div>"
   ]
  },
  {
   "cell_type": "markdown",
   "id": "728f9658",
   "metadata": {},
   "source": [
    "<div class='alert alert-info'>\n",
    "\n",
    "On peut utiliser une boucle for pour itérer caractère par caractère sur une chaîne de caractères :</div>"
   ]
  },
  {
   "cell_type": "code",
   "execution_count": null,
   "id": "f7ac78db",
   "metadata": {
    "ExecuteTime": {
     "end_time": "2022-02-02T14:15:03.556769Z",
     "start_time": "2022-02-02T14:15:03.553504Z"
    }
   },
   "outputs": [],
   "source": [
    "for letter in 'INSA Lyon':\n",
    "    print(letter)"
   ]
  },
  {
   "cell_type": "markdown",
   "id": "b48d5e58",
   "metadata": {},
   "source": [
    "<div class='alert alert-info'>\n",
    "\n",
    "Sur un dictionnaire, la boucle for itère sur les clés :</div>"
   ]
  },
  {
   "cell_type": "code",
   "execution_count": null,
   "id": "8a15d8b1",
   "metadata": {
    "ExecuteTime": {
     "end_time": "2022-02-02T14:15:03.561259Z",
     "start_time": "2022-02-02T14:15:03.557866Z"
    }
   },
   "outputs": [],
   "source": [
    "insa = {\n",
    "    'nom': 'INSA Lyon',\n",
    "    'adresse': '20 Av. Albert Einstein, 69100 Villeurbanne',\n",
    "    'tel': '04 72 43 83 83',\n",
    "}\n",
    "\n",
    "for k in insa:\n",
    "    print(k)"
   ]
  },
  {
   "cell_type": "markdown",
   "id": "d44b90a1",
   "metadata": {},
   "source": [
    "#### La boucle while "
   ]
  },
  {
   "cell_type": "markdown",
   "id": "9f97e872",
   "metadata": {},
   "source": [
    "<div class='alert alert-info'>\n",
    "<p>La boucle <b>while</b> sert à répéter des instructions <b>tant qu'une condition est vraie.</b></p>\n",
    "</div>"
   ]
  },
  {
   "cell_type": "code",
   "execution_count": null,
   "id": "d3a07bfd",
   "metadata": {
    "ExecuteTime": {
     "end_time": "2022-02-02T14:15:03.566474Z",
     "start_time": "2022-02-02T14:15:03.562475Z"
    }
   },
   "outputs": [],
   "source": [
    "a = 0\n",
    "b = 1\n",
    "while a < 1000:\n",
    "    print(a, end=' ') # le paramètre end spécifie que faire après avoir affiché a. Sans lui, on sauterait une ligne.\n",
    "    a, b = b, a + b\n",
    "    "
   ]
  },
  {
   "cell_type": "markdown",
   "id": "dca17bbb",
   "metadata": {},
   "source": [
    "<div class='alert alert-danger'>\n",
    "\n",
    "Il faut faire attention à avoir une condition qui va devenir fausse au bout d'un moment, sinon, la boucle while est répétée indéfiniment.</div>"
   ]
  },
  {
   "cell_type": "code",
   "execution_count": null,
   "id": "707bd453",
   "metadata": {
    "ExecuteTime": {
     "end_time": "2022-02-02T14:15:36.361773Z",
     "start_time": "2022-02-02T14:15:36.361761Z"
    }
   },
   "outputs": [],
   "source": [
    "# exemple de boucle while dont la condition ne devient jamais fausse :\n",
    "a = 0\n",
    "\n",
    "while a >=0:\n",
    "    a = a + 1\n",
    "    print(a, end=' ')"
   ]
  },
  {
   "cell_type": "markdown",
   "id": "d1b9dd67",
   "metadata": {},
   "source": [
    "<div class='alert alert-danger'>\n",
    "Dans ces cas là, le seul moyen d'arrêter l’exécution est de cliquer sur le bouton stop (carré noir) dans la barre d'outil du notebook. Dans un script Python interprété directement, le raccourci clavier Ctrl + C arrête l’exécution.</div>"
   ]
  },
  {
   "cell_type": "markdown",
   "id": "0c7626d2",
   "metadata": {},
   "source": [
    "## Les fonctions"
   ]
  },
  {
   "cell_type": "markdown",
   "id": "90e963ef",
   "metadata": {},
   "source": [
    "<div class='alert alert-info'>\n",
    "\n",
    "En programmation, les fonctions sont très utiles pour réaliser plusieurs fois une même série d'instructions au sein d'un programme.\n",
    "    \n",
    "Elles rendent également le code plus lisible et plus clair en le fractionnant en blocs logiques.\n",
    "  \n",
    "Elles évitent de se répéter : un certain comportement utilisé plusieurs fois est défini à un seul endroit.\n",
    "\n",
    "Vous connaissez déjà certaines fonctions Python. Par exemple `math.log(nombre)` du module math renvoie le logarithme néperien d'un nombre. Vous connaissez aussi des fonctions internes à Python comme `print()`, `type()` ou `len()`. \n",
    "    \n",
    "Pour l'instant, une fonction est une sorte de « boîte noire ».\n",
    "    \n",
    "</div>"
   ]
  },
  {
   "cell_type": "markdown",
   "id": "6d177e62",
   "metadata": {},
   "source": [
    "<div class='alert alert-info'>\n",
    "    \n",
    "Pour créer vos propres fonctions vous avez besoin de 2 nouveaux mots clés :\n",
    "    \n",
    "- `def` démarre un bloc et définit le nom de la fonction et ses paramètres\n",
    "- `return` déclare la ou les valeurs qui sont renvoyées en sortie de la fonction. Si une instruction return est exécutée, les éventuelles instructions suivantes de la fonction ne sont alors pas exécutées. Considérez un passage par une instruction `return` comme une sortie définitive. Si la fonction s'achève sans `return`,  alors la fonction renvoie tout de même `None`, implicitement\n",
    "\n",
    "</div>"
   ]
  },
  {
   "cell_type": "code",
   "execution_count": null,
   "id": "ce9f6b80",
   "metadata": {
    "ExecuteTime": {
     "end_time": "2022-02-02T14:15:45.744073Z",
     "start_time": "2022-02-02T14:15:45.738452Z"
    }
   },
   "outputs": [],
   "source": [
    "# exemple de fonction : calcul du Nième terme de la suite de Fibonacci\n",
    "\n",
    "\n",
    "def fibo(n):  # définition de la fonction. n est appelé un paramètre\n",
    "    '''Calcule le Nième terme de la suite de Fibonacci. n est un entier naturel.\n",
    "    Exemple : fibo(10) -> 55'''\n",
    "\n",
    "    a = 0\n",
    "    b = 1\n",
    "\n",
    "    for _ in range(n):  # on répète le bloc suivant n fois. \n",
    "        a, b = b, a + b\n",
    "\n",
    "    return a  # après itération, la valeur que la fonction doit renvoyer"
   ]
  },
  {
   "cell_type": "markdown",
   "id": "8c33e9c8",
   "metadata": {},
   "source": [
    "<div class='alert alert-success'>\n",
    "<p>Utilisation de la fonction. Ici 10 est appelé l’argument.</p>\n",
    "   \n",
    "</div>"
   ]
  },
  {
   "cell_type": "code",
   "execution_count": null,
   "id": "9129023f",
   "metadata": {
    "ExecuteTime": {
     "end_time": "2022-02-02T14:15:45.786886Z",
     "start_time": "2022-02-02T14:15:45.752950Z"
    }
   },
   "outputs": [],
   "source": [
    "fibo(10)"
   ]
  },
  {
   "cell_type": "markdown",
   "id": "5f335591",
   "metadata": {},
   "source": [
    "<div class='alert alert-info'>\n",
    "<p>On peut passer les arguments à la fonction dans l'ordre où ils ont été définis, ou passer leur nom et la valeur voulue explicitement.</p>\n",
    "</div>"
   ]
  },
  {
   "cell_type": "code",
   "execution_count": null,
   "id": "c2097cd8",
   "metadata": {
    "ExecuteTime": {
     "end_time": "2022-02-02T14:15:45.793874Z",
     "start_time": "2022-02-02T14:15:45.789672Z"
    }
   },
   "outputs": [],
   "source": [
    "fibo(n=12)"
   ]
  },
  {
   "cell_type": "markdown",
   "id": "2bc80dfa",
   "metadata": {},
   "source": [
    "<div class='alert alert-info'>\n",
    "<p>On peut rendre un paramètre optionnel en lui donnant une valeur par défaut lors de définition de la fonction.</p>\n",
    "</div>"
   ]
  },
  {
   "cell_type": "code",
   "execution_count": null,
   "id": "5d84e899",
   "metadata": {
    "ExecuteTime": {
     "end_time": "2022-02-02T14:15:45.797104Z",
     "start_time": "2022-02-02T14:15:45.795117Z"
    }
   },
   "outputs": [],
   "source": [
    "def politesse(nom, titre='Madame'):\n",
    "    return f\"{titre} {nom}\""
   ]
  },
  {
   "cell_type": "code",
   "execution_count": null,
   "id": "e20c50a4",
   "metadata": {
    "ExecuteTime": {
     "end_time": "2022-02-02T14:15:45.802323Z",
     "start_time": "2022-02-02T14:15:45.799309Z"
    }
   },
   "outputs": [],
   "source": [
    "politesse(nom='Capelle', titre='Monsieur')"
   ]
  },
  {
   "cell_type": "code",
   "execution_count": null,
   "id": "d8510576",
   "metadata": {
    "ExecuteTime": {
     "end_time": "2022-02-02T14:15:45.807842Z",
     "start_time": "2022-02-02T14:15:45.804034Z"
    }
   },
   "outputs": [],
   "source": [
    "politesse(titre='Docteur', nom='Jivago') # si on passe les arguments avec leur nom, l'ordre importe peu"
   ]
  },
  {
   "cell_type": "markdown",
   "id": "1c3ca06d",
   "metadata": {},
   "source": [
    "<div class='alert alert-warning'>\n",
    "<p>Ci-dessous aucune valeur n'est fournie pour l'argument titre, la valeur par défaut assignée à la définition de la fonction est utilisée.</p>\n",
    "</div>"
   ]
  },
  {
   "cell_type": "code",
   "execution_count": null,
   "id": "9f7fe77d",
   "metadata": {
    "ExecuteTime": {
     "end_time": "2022-02-02T14:15:45.812218Z",
     "start_time": "2022-02-02T14:15:45.809240Z"
    }
   },
   "outputs": [],
   "source": [
    "politesse('Michu') # pas d'argument fourni pour titre, la valeur par défaut sera utilisée"
   ]
  },
  {
   "cell_type": "markdown",
   "id": "cdabe0da",
   "metadata": {},
   "source": [
    "## Les opérations usuelles et méthodes des types de base"
   ]
  },
  {
   "cell_type": "markdown",
   "id": "2ce2235f",
   "metadata": {},
   "source": [
    "<div class='alert alert-info'>\n",
    "<p>Une méthode est une fonction interne d'un objet.</p>\n",
    "</div>"
   ]
  },
  {
   "cell_type": "markdown",
   "id": "83ec06c2",
   "metadata": {},
   "source": [
    "<div class='alert alert-info'>\n",
    "<p>Les objets usuels comme les listes, chaînes de caractères, ensembles et dictionnaires possèdent de nombreuses méthodes utiles.</p>\n",
    "</div>"
   ]
  },
  {
   "cell_type": "markdown",
   "id": "f39eac1d",
   "metadata": {},
   "source": [
    "<div class='alert alert-info'>\n",
    "Nous allons en voir quelques unes ci-dessous. Vous pouvez trouver toute la documentation sur <a href=\"https://docs.python.org\">https://docs.python.org</a>.\n",
    "</div>"
   ]
  },
  {
   "cell_type": "markdown",
   "id": "76675cce",
   "metadata": {},
   "source": [
    "<div class='alert alert-warning'>\n",
    "<p>Ne réinventez pas la roue : toutes les actions basiques que vous pouvez imaginer sur un objet ont très souvent une méthode pré-codée, qui ne demande qu'à être utilisée.</p>\n",
    "</div>"
   ]
  },
  {
   "cell_type": "markdown",
   "id": "643449ac",
   "metadata": {},
   "source": [
    "### Opérations communes sur toutes les séquences (listes, tuples, chaînes de caractères)"
   ]
  },
  {
   "cell_type": "markdown",
   "id": "ce2dfb3b",
   "metadata": {},
   "source": [
    "|       Operation      |                                      Résultat                                      |\n",
    "|:--------------------:|:----------------------------------------------------------------------------------:|\n",
    "| `x in s`               | True is un élément de s est égal à x, sinon False                                |\n",
    "| `x not in s`           | False is un élément de s est égal à x, sinon True                                |\n",
    "| `s + t`                | Concaténation de  s and t                                                        |\n",
    "| `s * n or n * s`       | Équivalent à ajouter s à elle-même n fois                                        |\n",
    "| `s[i]`                 | ième objet de s, en comptant à partir le 0                                       |\n",
    "| `s[i:j]`               | tranche de s depuis i jusqu'à j (jième position exclue)                          |\n",
    "| `s[i:j:k]`             | tranche de s depuis i jusqu'à j (jième position exclue) par pas de  k            |\n",
    "| `len(s)`               | longeur de s                                                                     |\n",
    "| `min(s)`               | plus petit élément de s                                                          |\n",
    "| `max(s)`               | plus grand élément de s                                                          |\n",
    "| `s.index(x)`           | position de la première occurence de x dans s                                    |\n",
    "| `s.count(x)`           | nombre d'occurrence de x dans s                                                  |\n"
   ]
  },
  {
   "cell_type": "code",
   "execution_count": null,
   "id": "edc7de51",
   "metadata": {
    "ExecuteTime": {
     "end_time": "2022-02-02T14:15:45.816403Z",
     "start_time": "2022-02-02T14:15:45.813600Z"
    }
   },
   "outputs": [],
   "source": [
    "'a' in 'abc'"
   ]
  },
  {
   "cell_type": "code",
   "execution_count": null,
   "id": "7a196677",
   "metadata": {
    "ExecuteTime": {
     "end_time": "2022-02-02T14:15:45.820643Z",
     "start_time": "2022-02-02T14:15:45.817700Z"
    }
   },
   "outputs": [],
   "source": [
    "'d' not in 'abc'"
   ]
  },
  {
   "cell_type": "code",
   "execution_count": null,
   "id": "48f77bc0",
   "metadata": {
    "ExecuteTime": {
     "end_time": "2022-02-02T14:15:45.825387Z",
     "start_time": "2022-02-02T14:15:45.822574Z"
    }
   },
   "outputs": [],
   "source": [
    "'a' + 'bc'"
   ]
  },
  {
   "cell_type": "code",
   "execution_count": null,
   "id": "b63240c4",
   "metadata": {
    "ExecuteTime": {
     "end_time": "2022-02-02T14:15:45.830928Z",
     "start_time": "2022-02-02T14:15:45.827791Z"
    }
   },
   "outputs": [],
   "source": [
    "'a' * 5"
   ]
  },
  {
   "cell_type": "code",
   "execution_count": null,
   "id": "ffc84432",
   "metadata": {
    "ExecuteTime": {
     "end_time": "2022-02-02T14:15:45.835341Z",
     "start_time": "2022-02-02T14:15:45.832299Z"
    }
   },
   "outputs": [],
   "source": [
    "'Python'[0]"
   ]
  },
  {
   "cell_type": "code",
   "execution_count": null,
   "id": "e421ab90",
   "metadata": {
    "ExecuteTime": {
     "end_time": "2022-02-02T14:15:45.840432Z",
     "start_time": "2022-02-02T14:15:45.837532Z"
    }
   },
   "outputs": [],
   "source": [
    "'Python'[0:2]"
   ]
  },
  {
   "cell_type": "code",
   "execution_count": null,
   "id": "109a290d",
   "metadata": {
    "ExecuteTime": {
     "end_time": "2022-02-02T14:15:45.844504Z",
     "start_time": "2022-02-02T14:15:45.841748Z"
    }
   },
   "outputs": [],
   "source": [
    "'Python'[::-1]"
   ]
  },
  {
   "cell_type": "code",
   "execution_count": null,
   "id": "b8cfb0db",
   "metadata": {
    "ExecuteTime": {
     "end_time": "2022-02-02T14:15:45.849195Z",
     "start_time": "2022-02-02T14:15:45.845568Z"
    }
   },
   "outputs": [],
   "source": [
    "len('Python')"
   ]
  },
  {
   "cell_type": "code",
   "execution_count": null,
   "id": "bfd70043",
   "metadata": {
    "ExecuteTime": {
     "end_time": "2022-02-02T14:15:45.854176Z",
     "start_time": "2022-02-02T14:15:45.851079Z"
    }
   },
   "outputs": [],
   "source": [
    "min([0, 1, 3, 3, 2, -1])"
   ]
  },
  {
   "cell_type": "code",
   "execution_count": null,
   "id": "62efcbab",
   "metadata": {
    "ExecuteTime": {
     "end_time": "2022-02-02T14:15:45.858116Z",
     "start_time": "2022-02-02T14:15:45.855342Z"
    }
   },
   "outputs": [],
   "source": [
    "max([0, 4, 2, 1])"
   ]
  },
  {
   "cell_type": "code",
   "execution_count": null,
   "id": "967c50f9",
   "metadata": {
    "ExecuteTime": {
     "end_time": "2022-02-02T14:15:45.862019Z",
     "start_time": "2022-02-02T14:15:45.859322Z"
    }
   },
   "outputs": [],
   "source": [
    "'Python'.index('n')"
   ]
  },
  {
   "cell_type": "code",
   "execution_count": null,
   "id": "30d38c67",
   "metadata": {
    "ExecuteTime": {
     "end_time": "2022-02-02T14:15:45.866323Z",
     "start_time": "2022-02-02T14:15:45.863272Z"
    }
   },
   "outputs": [],
   "source": [
    "'indivisibilité'.count('i')"
   ]
  },
  {
   "cell_type": "markdown",
   "id": "fb633a13",
   "metadata": {},
   "source": [
    "### Méthodes des chaînes de caractères"
   ]
  },
  {
   "cell_type": "code",
   "execution_count": null,
   "id": "c64bf33c",
   "metadata": {
    "ExecuteTime": {
     "end_time": "2022-02-02T14:15:45.870297Z",
     "start_time": "2022-02-02T14:15:45.867605Z"
    }
   },
   "outputs": [],
   "source": [
    "s = 'ceci eSt uNe chaîne de caractères' "
   ]
  },
  {
   "cell_type": "code",
   "execution_count": null,
   "id": "233a7673",
   "metadata": {
    "ExecuteTime": {
     "end_time": "2022-02-02T14:15:45.874731Z",
     "start_time": "2022-02-02T14:15:45.871524Z"
    }
   },
   "outputs": [],
   "source": [
    "s.upper() # retourne une version tout en majuscules de la string"
   ]
  },
  {
   "cell_type": "code",
   "execution_count": null,
   "id": "806aa4ed",
   "metadata": {
    "ExecuteTime": {
     "end_time": "2022-02-02T14:15:45.879172Z",
     "start_time": "2022-02-02T14:15:45.875934Z"
    }
   },
   "outputs": [],
   "source": [
    "s.lower() # retourne une version tout en minuscules"
   ]
  },
  {
   "cell_type": "code",
   "execution_count": null,
   "id": "882164d6",
   "metadata": {
    "ExecuteTime": {
     "end_time": "2022-02-02T14:15:45.884076Z",
     "start_time": "2022-02-02T14:15:45.881132Z"
    }
   },
   "outputs": [],
   "source": [
    "s.capitalize() # Retourne une version en minuscules avec le premier caractères en majuscule"
   ]
  },
  {
   "cell_type": "code",
   "execution_count": null,
   "id": "7f359685",
   "metadata": {
    "ExecuteTime": {
     "end_time": "2022-02-02T14:15:45.889175Z",
     "start_time": "2022-02-02T14:15:45.885737Z"
    }
   },
   "outputs": [],
   "source": [
    "s.title() # chaque mot est capitalisé, comme dans le titre d'un article de presse"
   ]
  },
  {
   "cell_type": "code",
   "execution_count": null,
   "id": "4a7d7178",
   "metadata": {
    "ExecuteTime": {
     "end_time": "2022-02-02T14:15:45.893147Z",
     "start_time": "2022-02-02T14:15:45.890236Z"
    }
   },
   "outputs": [],
   "source": [
    "s.islower() # est-ce que cette chaîne est entièrement en minuscules"
   ]
  },
  {
   "cell_type": "code",
   "execution_count": null,
   "id": "a4714f6e",
   "metadata": {
    "ExecuteTime": {
     "end_time": "2022-02-02T14:15:45.897872Z",
     "start_time": "2022-02-02T14:15:45.894727Z"
    }
   },
   "outputs": [],
   "source": [
    "s.isupper() # est-ce que cette chaîne est entièrement en majuscules"
   ]
  },
  {
   "cell_type": "code",
   "execution_count": null,
   "id": "f333ebb4",
   "metadata": {
    "ExecuteTime": {
     "end_time": "2022-02-02T14:15:45.902774Z",
     "start_time": "2022-02-02T14:15:45.899073Z"
    }
   },
   "outputs": [],
   "source": [
    "s.upper().isupper() # on peut enchaîner plusieurs méthodes, exécution de gauche à droite"
   ]
  },
  {
   "cell_type": "code",
   "execution_count": null,
   "id": "019573f1",
   "metadata": {
    "ExecuteTime": {
     "end_time": "2022-02-02T14:15:45.907870Z",
     "start_time": "2022-02-02T14:15:45.904060Z"
    }
   },
   "outputs": [],
   "source": [
    "s.split(' ') # sépare la chaîne de caractères en une liste, en scindant là où l’argument est trouvé"
   ]
  },
  {
   "cell_type": "code",
   "execution_count": null,
   "id": "394c8480",
   "metadata": {
    "ExecuteTime": {
     "end_time": "2022-02-02T14:15:45.912674Z",
     "start_time": "2022-02-02T14:15:45.909079Z"
    }
   },
   "outputs": [],
   "source": [
    "beatles = ['John', 'George', 'Paul', 'Ringo']\n",
    "\" \".join(beatles) # réunit une liste en une chaîne, avec un certain séparateur entre les éléments de la liste"
   ]
  },
  {
   "cell_type": "code",
   "execution_count": null,
   "id": "c1de93cf",
   "metadata": {
    "ExecuteTime": {
     "end_time": "2022-02-02T14:15:45.917057Z",
     "start_time": "2022-02-02T14:15:45.913712Z"
    }
   },
   "outputs": [],
   "source": [
    "' Chaîne '.strip() # retire les espaces aux extrémités"
   ]
  },
  {
   "cell_type": "code",
   "execution_count": null,
   "id": "d337ead5",
   "metadata": {
    "ExecuteTime": {
     "end_time": "2022-02-02T14:15:45.922399Z",
     "start_time": "2022-02-02T14:15:45.919068Z"
    }
   },
   "outputs": [],
   "source": [
    "'Jupiter'.replace('i', 'y') # crée une nouvelle chaîne avec une substitution de caractères"
   ]
  },
  {
   "cell_type": "code",
   "execution_count": null,
   "id": "201dbe87",
   "metadata": {
    "ExecuteTime": {
     "end_time": "2022-02-02T14:15:45.927109Z",
     "start_time": "2022-02-02T14:15:45.923814Z"
    }
   },
   "outputs": [],
   "source": [
    "'Jupyter'.startswith('Ju') # teste si la chaîne commence par une autre chaîne"
   ]
  },
  {
   "cell_type": "code",
   "execution_count": null,
   "id": "a79ae2c1",
   "metadata": {
    "ExecuteTime": {
     "end_time": "2022-02-02T14:15:45.931976Z",
     "start_time": "2022-02-02T14:15:45.928732Z"
    }
   },
   "outputs": [],
   "source": [
    "'Jupyter'.endswith('er') # teste si la chaîne se termine par une autre chaîne"
   ]
  },
  {
   "cell_type": "markdown",
   "id": "68d0ee7a",
   "metadata": {},
   "source": [
    "<div class='alert alert-info'>\n",
    "<p>Interpolation de chaînes de caractères.</p>\n",
    "<p>Notez bien le f juste avant le double quote qui ouvre la chaîne.</p>\n",
    "</div>"
   ]
  },
  {
   "cell_type": "code",
   "execution_count": null,
   "id": "841e7fc8",
   "metadata": {
    "ExecuteTime": {
     "end_time": "2022-02-02T14:15:45.936352Z",
     "start_time": "2022-02-02T14:15:45.933044Z"
    }
   },
   "outputs": [],
   "source": [
    "nom = 'John'\n",
    "age = 40\n",
    "\n",
    "f\"Je m'appelle {nom} et j'ai {age} ans.\""
   ]
  },
  {
   "cell_type": "markdown",
   "id": "6919c560",
   "metadata": {},
   "source": [
    "<div class='alert alert-info'>\n",
    "<p>Il existe d'autres méthodes que celles montrées plus haut, vous pouvez trouver une documentation exhaustive ici : </p>\n",
    "    <p><a target=\"blank_\" href=\"https://docs.python.org/3/library/stdtypes.html#string-methods\">https://docs.python.org/3/library/stdtypes.html#string-methods</a>.</p>\n",
    "</div>"
   ]
  },
  {
   "cell_type": "markdown",
   "id": "0c7b8dfb",
   "metadata": {},
   "source": [
    "### Méthodes des listes"
   ]
  },
  {
   "cell_type": "code",
   "execution_count": null,
   "id": "5ba1d56f",
   "metadata": {
    "ExecuteTime": {
     "end_time": "2022-02-02T14:15:45.940632Z",
     "start_time": "2022-02-02T14:15:45.937475Z"
    }
   },
   "outputs": [],
   "source": [
    "beatles = ['John', 'George', 'Paul']\n",
    "beatles"
   ]
  },
  {
   "cell_type": "code",
   "execution_count": null,
   "id": "3a01d484",
   "metadata": {
    "ExecuteTime": {
     "end_time": "2022-02-02T14:15:45.945780Z",
     "start_time": "2022-02-02T14:15:45.942182Z"
    }
   },
   "outputs": [],
   "source": [
    "beatles.append('Ringo') # .append(element) ajoute un élément à la fin de la liste\n",
    "beatles"
   ]
  },
  {
   "cell_type": "code",
   "execution_count": null,
   "id": "68bbb29a",
   "metadata": {
    "ExecuteTime": {
     "end_time": "2022-02-02T14:15:45.950449Z",
     "start_time": "2022-02-02T14:15:45.946884Z"
    }
   },
   "outputs": [],
   "source": [
    "# .extend(iterable) ajoute les éléments d'un itérable à la fin de la liste\n",
    "pairs = [0, 2, 4, 6]\n",
    "pairs.extend([8, 10])\n",
    "pairs"
   ]
  },
  {
   "cell_type": "code",
   "execution_count": null,
   "id": "ef1e4489",
   "metadata": {
    "ExecuteTime": {
     "end_time": "2022-02-02T14:15:45.954812Z",
     "start_time": "2022-02-02T14:15:45.951956Z"
    }
   },
   "outputs": [],
   "source": [
    "# .insert(position, element) ajoute un élément à une certaine position\n",
    "beatles.insert(0, 'Yoko')\n",
    "beatles"
   ]
  },
  {
   "cell_type": "code",
   "execution_count": null,
   "id": "eccef942",
   "metadata": {
    "ExecuteTime": {
     "end_time": "2022-02-02T14:15:45.959323Z",
     "start_time": "2022-02-02T14:15:45.956240Z"
    }
   },
   "outputs": [],
   "source": [
    "# .remove(element) retire la première occurence trouvée de l'élément\n",
    "beatles.remove('John') # RIP\n",
    "beatles"
   ]
  },
  {
   "cell_type": "code",
   "execution_count": null,
   "id": "1cc88ce5",
   "metadata": {
    "ExecuteTime": {
     "end_time": "2022-02-02T14:15:45.964937Z",
     "start_time": "2022-02-02T14:15:45.961259Z"
    }
   },
   "outputs": [],
   "source": [
    "# del liste[position] retire l'élément à la position indiquée\n",
    "del beatles[0]\n",
    "beatles"
   ]
  },
  {
   "cell_type": "code",
   "execution_count": null,
   "id": "f937183b",
   "metadata": {
    "ExecuteTime": {
     "end_time": "2022-02-02T14:15:45.969940Z",
     "start_time": "2022-02-02T14:15:45.966367Z"
    }
   },
   "outputs": [],
   "source": [
    "# .pop(position) retire l'élément et en plus le retourne, ce qui permet de le capturer dans une variable. \n",
    "# Par défaut le dernier élément est retiré\n",
    "\n",
    "last = beatles.pop()\n",
    "print(f\"{last} a été retiré de la liste qui est maintenant {beatles}.\")\n"
   ]
  },
  {
   "cell_type": "code",
   "execution_count": null,
   "id": "69651866",
   "metadata": {
    "ExecuteTime": {
     "end_time": "2022-02-02T14:15:45.975399Z",
     "start_time": "2022-02-02T14:15:45.971275Z"
    }
   },
   "outputs": [],
   "source": [
    "# .reverse() inverse l'ordre actuel de la liste en place\n",
    "pairs.reverse()\n",
    "pairs"
   ]
  },
  {
   "cell_type": "code",
   "execution_count": null,
   "id": "7809b468",
   "metadata": {
    "ExecuteTime": {
     "end_time": "2022-02-02T14:15:45.981324Z",
     "start_time": "2022-02-02T14:15:45.976638Z"
    }
   },
   "outputs": [],
   "source": [
    "# .sort() classe la liste, par défaut de par ordre croissant (nombre) ou alphabétique (chaînes)\n",
    "pairs.sort()\n",
    "pairs"
   ]
  },
  {
   "cell_type": "code",
   "execution_count": null,
   "id": "1b8a24d8",
   "metadata": {
    "ExecuteTime": {
     "end_time": "2022-02-02T14:15:45.985993Z",
     "start_time": "2022-02-02T14:15:45.982385Z"
    }
   },
   "outputs": [],
   "source": [
    "pairs.sort(reverse=True) # on peut passer l'argument reverse=True pour classer à l'envers\n",
    "pairs"
   ]
  },
  {
   "cell_type": "markdown",
   "id": "cd97e851",
   "metadata": {},
   "source": [
    "<div class='alert alert-info'>\n",
    "<p>Il existe d'autres méthodes que celles montrées plus haut, vous pouvez trouver une documentation exhaustive ici : </p>\n",
    "    <p><a target=\"blank_\" href=\"https://docs.python.org/3/library/stdtypes.html#mutable-sequence-types\">https://docs.python.org/3/library/stdtypes.html#mutable-sequence-types</a>.</p>\n",
    "</div>"
   ]
  },
  {
   "cell_type": "markdown",
   "id": "a504e709",
   "metadata": {},
   "source": [
    "### Méthodes des dictionnaires"
   ]
  },
  {
   "cell_type": "code",
   "execution_count": null,
   "id": "4a0adc02",
   "metadata": {
    "ExecuteTime": {
     "end_time": "2022-02-02T14:15:45.989952Z",
     "start_time": "2022-02-02T14:15:45.987381Z"
    }
   },
   "outputs": [],
   "source": [
    "menu = {\n",
    "    'œufs': 3,\n",
    "    'saucisses ': 2,\n",
    "    'tranche de bacon': 1,\n",
    "    'SPAM': 500,\n",
    "}"
   ]
  },
  {
   "cell_type": "markdown",
   "id": "ab11108c",
   "metadata": {},
   "source": [
    "<div class='alert alert-info'>\n",
    "    <p>Obtenir un iterable des clés : <b>dict.keys()</b></p>\n",
    "</div>"
   ]
  },
  {
   "cell_type": "code",
   "execution_count": null,
   "id": "3606a07f",
   "metadata": {
    "ExecuteTime": {
     "end_time": "2022-02-02T14:15:45.995456Z",
     "start_time": "2022-02-02T14:15:45.991203Z"
    }
   },
   "outputs": [],
   "source": [
    "menu.keys()"
   ]
  },
  {
   "cell_type": "markdown",
   "id": "d58382fb",
   "metadata": {},
   "source": [
    "<div class='alert alert-info'>\n",
    "<p>Obtenir un iterable des valeurs : <b>dict.values()</b></p>\n",
    "</div>"
   ]
  },
  {
   "cell_type": "code",
   "execution_count": null,
   "id": "ad55688a",
   "metadata": {
    "ExecuteTime": {
     "end_time": "2022-02-02T14:15:46.001038Z",
     "start_time": "2022-02-02T14:15:45.996674Z"
    }
   },
   "outputs": [],
   "source": [
    "menu.values() # obtenir un iterable des valeurs"
   ]
  },
  {
   "cell_type": "markdown",
   "id": "17764e2e",
   "metadata": {},
   "source": [
    "<div class='alert alert-info'>\n",
    "<p>Obtenir un iterable des clés et des valeurs, par paires : <b>dict.items()</b></p>\n",
    "</div>"
   ]
  },
  {
   "cell_type": "code",
   "execution_count": null,
   "id": "708b7fd0",
   "metadata": {
    "ExecuteTime": {
     "end_time": "2022-02-02T14:15:46.004925Z",
     "start_time": "2022-02-02T14:15:46.002193Z"
    }
   },
   "outputs": [],
   "source": [
    "menu.items() # itérable des paires clés, valeurs (par tuples)"
   ]
  },
  {
   "cell_type": "markdown",
   "id": "c8f5eb28",
   "metadata": {},
   "source": [
    "<div class='alert alert-info'>\n",
    "<p>Il existe d'autres méthodes que celles montrées plus haut, vous pouvez trouver une documentation exhaustive ici : </p>\n",
    "    <p><a target=\"blank_\" href=\"https://docs.python.org/3/library/stdtypes.html#mutable-sequence-types\">https://docs.python.org/3/library/stdtypes.html#mutable-sequence-types</a>.</p>\n",
    "</div>"
   ]
  },
  {
   "cell_type": "code",
   "execution_count": null,
   "id": "46e6e5a1",
   "metadata": {
    "ExecuteTime": {
     "end_time": "2022-02-02T14:15:46.010646Z",
     "start_time": "2022-02-02T14:15:46.007858Z"
    }
   },
   "outputs": [],
   "source": [
    "# exemple d'itération:\n",
    "for key, value in menu.items(): # notez bien les deux variables d'itération\n",
    "    print(f\"{value} {key}\")"
   ]
  },
  {
   "cell_type": "markdown",
   "id": "6a5ac75c",
   "metadata": {},
   "source": [
    "<div class='alert alert-danger'>\n",
    "<p>Demander une clé non existante dans le dictionnaire provoque une erreur qui va interrompre votre programme.</p>\n",
    "</div>"
   ]
  },
  {
   "cell_type": "code",
   "execution_count": null,
   "id": "288b69de",
   "metadata": {
    "ExecuteTime": {
     "end_time": "2022-02-02T14:15:46.027479Z",
     "start_time": "2022-02-02T14:15:46.011981Z"
    }
   },
   "outputs": [],
   "source": [
    "menu['salade']"
   ]
  },
  {
   "cell_type": "markdown",
   "id": "df70f975",
   "metadata": {},
   "source": [
    "<div class='alert alert-success'>\n",
    "    Si vous n’êtes pas sûr·e de la présence d'une clé, utilisez la méthode <b>dict.get(key)</b>.\n",
    "</div>"
   ]
  },
  {
   "cell_type": "code",
   "execution_count": null,
   "id": "22180dea",
   "metadata": {
    "ExecuteTime": {
     "end_time": "2022-02-02T14:15:54.278834Z",
     "start_time": "2022-02-02T14:15:54.275791Z"
    }
   },
   "outputs": [],
   "source": [
    "menu.get('salade')"
   ]
  },
  {
   "cell_type": "markdown",
   "id": "c64bdc7c",
   "metadata": {},
   "source": [
    "<div class='alert alert-warning'>\n",
    "    \n",
    "Par défaut, la méthode <b>.get(key)</b> renvoie <b>None</b> si la clé n'est pas trouvée dans le dictionnaire.\n",
    "    \n",
    "Si une autre valeur vous arrange plutôt que <b>None</b>, vous pouvez le spécifier en deuxième argument.\n",
    "    \n",
    "Par exemple, si vous êtes en train de faire une somme de valeurs issues du dictionnaire, obtenir un `0` plutôt que `None` pour une clé manquante est préférable.\n",
    "    \n",
    "</div>"
   ]
  },
  {
   "cell_type": "code",
   "execution_count": null,
   "id": "53f8dd16",
   "metadata": {
    "ExecuteTime": {
     "end_time": "2022-02-02T14:15:54.325552Z",
     "start_time": "2022-02-02T14:15:54.286120Z"
    }
   },
   "outputs": [],
   "source": [
    "menu.get('salade', 0) "
   ]
  },
  {
   "cell_type": "markdown",
   "id": "7fd19e33",
   "metadata": {},
   "source": [
    "<div class='alert alert-success'>\n",
    "    \n",
    "🎉 Vous êtes arrivé·e au bout de cette initiation, félicitations ! 🎉\n",
    "    \n",
    "</div>"
   ]
  },
  {
   "cell_type": "markdown",
   "id": "7f48a393",
   "metadata": {},
   "source": [
    "<div class='alert alert-success'>\n",
    "    \n",
    "Vous pouvez passer au [notebook d'exercices](../exercices/exercices_niveau_debutant.ipynb) pour mettre toutes ces connaissances en pratique… 💪\n",
    "\n",
    "</div>"
   ]
  }
 ],
 "metadata": {
  "kernelspec": {
   "display_name": "Python 3 (ipykernel)",
   "language": "python",
   "name": "python3"
  },
  "language_info": {
   "codemirror_mode": {
    "name": "ipython",
    "version": 3
   },
   "file_extension": ".py",
   "mimetype": "text/x-python",
   "name": "python",
   "nbconvert_exporter": "python",
   "pygments_lexer": "ipython3",
   "version": "3.10.0rc1"
  },
  "toc": {
   "base_numbering": 1,
   "nav_menu": {},
   "number_sections": true,
   "sideBar": true,
   "skip_h1_title": true,
   "title_cell": "Table des matières",
   "title_sidebar": "Contenu",
   "toc_cell": true,
   "toc_position": {
    "height": "calc(100% - 180px)",
    "left": "10px",
    "top": "150px",
    "width": "225.2px"
   },
   "toc_section_display": true,
   "toc_window_display": true
  }
 },
 "nbformat": 4,
 "nbformat_minor": 5
}
