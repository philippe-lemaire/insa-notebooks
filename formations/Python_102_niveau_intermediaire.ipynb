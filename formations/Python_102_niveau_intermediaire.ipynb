{
 "cells": [
  {
   "cell_type": "markdown",
   "id": "9afd47c8",
   "metadata": {
    "toc": true
   },
   "source": [
    "<h1>Table des matières<span class=\"tocSkip\"></span></h1>\n",
    "<div class=\"toc\"><ul class=\"toc-item\"><li><span><a href=\"#Récapitulatif-des-notions-vues-dans-le-module-précédent\" data-toc-modified-id=\"Récapitulatif-des-notions-vues-dans-le-module-précédent-1\"><span class=\"toc-item-num\">1&nbsp;&nbsp;</span>Récapitulatif des notions vues dans le module précédent</a></span></li><li><span><a href=\"#Les-listes-en-compréhension\" data-toc-modified-id=\"Les-listes-en-compréhension-2\"><span class=\"toc-item-num\">2&nbsp;&nbsp;</span>Les listes en compréhension</a></span></li><li><span><a href=\"#Les-dictionnaires-en-compréhension\" data-toc-modified-id=\"Les-dictionnaires-en-compréhension-3\"><span class=\"toc-item-num\">3&nbsp;&nbsp;</span>Les dictionnaires en compréhension</a></span></li><li><span><a href=\"#Lire-et-écrire-dans-des-fichiers\" data-toc-modified-id=\"Lire-et-écrire-dans-des-fichiers-4\"><span class=\"toc-item-num\">4&nbsp;&nbsp;</span>Lire et écrire dans des fichiers</a></span><ul class=\"toc-item\"><li><span><a href=\"#Ouvrir-un-fichier-et-écrire-dedans\" data-toc-modified-id=\"Ouvrir-un-fichier-et-écrire-dedans-4.1\"><span class=\"toc-item-num\">4.1&nbsp;&nbsp;</span>Ouvrir un fichier et écrire dedans</a></span></li><li><span><a href=\"#Ouvrir-un-fichier-et-lire-son-contenu\" data-toc-modified-id=\"Ouvrir-un-fichier-et-lire-son-contenu-4.2\"><span class=\"toc-item-num\">4.2&nbsp;&nbsp;</span>Ouvrir un fichier et lire son contenu</a></span></li></ul></li><li><span><a href=\"#Imports-et-exemples-de-modules-utiles\" data-toc-modified-id=\"Imports-et-exemples-de-modules-utiles-5\"><span class=\"toc-item-num\">5&nbsp;&nbsp;</span>Imports et exemples de modules utiles</a></span><ul class=\"toc-item\"><li><span><a href=\"#Importer-des-modules-ou-des-objets-inclus-dans-des-modules\" data-toc-modified-id=\"Importer-des-modules-ou-des-objets-inclus-dans-des-modules-5.1\"><span class=\"toc-item-num\">5.1&nbsp;&nbsp;</span>Importer des modules ou des objets inclus dans des modules</a></span></li><li><span><a href=\"#Modules-utiles\" data-toc-modified-id=\"Modules-utiles-5.2\"><span class=\"toc-item-num\">5.2&nbsp;&nbsp;</span>Modules utiles</a></span><ul class=\"toc-item\"><li><span><a href=\"#dans-la-bibliothèque-standard-(préinstallée-avec-Python)\" data-toc-modified-id=\"dans-la-bibliothèque-standard-(préinstallée-avec-Python)-5.2.1\"><span class=\"toc-item-num\">5.2.1&nbsp;&nbsp;</span>dans la bibliothèque standard (préinstallée avec Python)</a></span></li><li><span><a href=\"#dans-des-modules-supplémentaires-(normalement-déjà-installés-via-anaconda)\" data-toc-modified-id=\"dans-des-modules-supplémentaires-(normalement-déjà-installés-via-anaconda)-5.2.2\"><span class=\"toc-item-num\">5.2.2&nbsp;&nbsp;</span>dans des modules supplémentaires (normalement déjà installés via anaconda)</a></span></li></ul></li></ul></li></ul></div>"
   ]
  },
  {
   "cell_type": "markdown",
   "id": "bccadeb4",
   "metadata": {
    "ExecuteTime": {
     "end_time": "2022-01-18T08:22:26.693572Z",
     "start_time": "2022-01-18T08:22:26.686858Z"
    }
   },
   "source": [
    "<div class=\"alert alert-success\">Ce document est un Notebook Jupyter. Il est concu pour que vous exécutiez les cellules pour faire apparaître leur résultat juste en dessous. \n",
    "Le raccourci clavier pour exécuter une cellule et passer le contrôle à la suivante est <b>Shift + Entrée</b></div>"
   ]
  },
  {
   "cell_type": "markdown",
   "id": "9f6a3eec",
   "metadata": {
    "ExecuteTime": {
     "end_time": "2022-01-17T16:26:08.455525Z",
     "start_time": "2022-01-17T16:26:08.450289Z"
    }
   },
   "source": [
    "# Python - Niveau Intermédiaire"
   ]
  },
  {
   "cell_type": "markdown",
   "id": "947f3e0d",
   "metadata": {},
   "source": [
    "## Récapitulatif des notions vues dans le module précédent"
   ]
  },
  {
   "cell_type": "markdown",
   "id": "7983b605",
   "metadata": {},
   "source": [
    "\n",
    "Dans le module d’introduction à Python, nous avons vu les notions suivantes :\n",
    "\n",
    "- les variables\n",
    "- les types de base : str, lst, tuple, dict, int, float, complex\n",
    "- l’exécution conditionnelle\n",
    "- les boucles for et while\n",
    "- les fonctions\n",
    "- les principales méthodes des types de base\n",
    "\n"
   ]
  },
  {
   "cell_type": "markdown",
   "id": "85a67f9a",
   "metadata": {},
   "source": [
    "Dans ce module, nous allons étendre cet arsenal avec :\n",
    "\n",
    "- les listes en compréhension\n",
    "- les dictionnaires en compréhension\n",
    "- lire et écrire dans des fichiers\n",
    "- importer des fonctions et objets à partir de modules et quelques exemples de modules utiles"
   ]
  },
  {
   "cell_type": "markdown",
   "id": "25fb1ae9",
   "metadata": {},
   "source": [
    "## Les listes en compréhension"
   ]
  },
  {
   "cell_type": "markdown",
   "id": "c15e15f0",
   "metadata": {},
   "source": [
    "<div class='alert alert-info'>\n",
    "Il est très fréquent d’avoir à créer une liste à partir d’un objet itérable, en :\n",
    "    \n",
    "1. créant une liste vide\n",
    "2. itérant sur la première séquence\n",
    "3. transformant ou sélectionnant les objets issus de l'itération\n",
    "4. ajoutant les objets voulus au fur et à mesure dans la nouvelle liste\n",
    " \n",
    "Par exemple, pour créer une liste d'entiers pairs de 0 à 40 :\n",
    "</div>"
   ]
  },
  {
   "cell_type": "code",
   "execution_count": null,
   "id": "35d53b54",
   "metadata": {},
   "outputs": [],
   "source": [
    "pairs = [] # on crée une liste vide\n",
    "for n in range(21): # on itère sur range(0, 21)\n",
    "    pairs.append(n*2) # on double le nombre itéré et on l'ajoute à la fin de notre nouvelle liste\n",
    "pairs"
   ]
  },
  {
   "cell_type": "markdown",
   "id": "08d53635",
   "metadata": {},
   "source": [
    "<div class='alert alert-info'>\n",
    "<p>Une liste en compréhension est un raccourci pour créer une nouvelle liste à partir d'un itérable sans expliciter toute ces étapes.</p>\n",
    "    \n",
    "<p>Le résultat de la cellule ci-dessous est strictement identique à celle du dessus. Le temps d'exécution est essentiellement le même, seule la syntaxe change.</p>\n",
    "</div>"
   ]
  },
  {
   "cell_type": "code",
   "execution_count": null,
   "id": "5e1d29bc",
   "metadata": {},
   "outputs": [],
   "source": [
    "[n * 2 for n in range(21)]"
   ]
  },
  {
   "cell_type": "markdown",
   "id": "bbfc14b6",
   "metadata": {},
   "source": [
    "<div class='alert alert-info'>\n",
    "    <p> La syntaxe peut se généraliser en :</p>\n",
    "  \n",
    "<p><b>[ transformation1(item) for item in iterable if condition ]</b> si la condition doit filtrer les items du premier itérable qui sont considérés</p>\n",
    "    \n",
    "<p><b>[ transformation1(item) if condition else transformation2(item) for item in iterable ]</b> si on applique une transformation ou une autre, en prenant tous les objets de l'itérable.</p>\n",
    "    \n",
    "<p><b>transformation1</b> et <b>transformation2</b> représentent toute opération que l'on peut appliquer à notre variable d'itération avant de l’ajouter à notre nouvelle liste.</p>\n",
    "</div>"
   ]
  },
  {
   "cell_type": "markdown",
   "id": "0be8d077",
   "metadata": {},
   "source": [
    "<div class='alert alert-info'>\n",
    "    <p> Exemple du premier cas :</p>\n",
    "  \n",
    "<p><b>[ transformation1(item) for item in iterable if condition ]</b> si la condition doit filtrer les items du premier itérable qui sont considérés.</p>\n",
    "    \n",
    "<p>Je veux créer une liste des doubles de mon premier itérable, mais seulement si le terme initial est impair :</p>\n",
    "</div>"
   ]
  },
  {
   "cell_type": "code",
   "execution_count": null,
   "id": "1d5b1c34",
   "metadata": {},
   "outputs": [],
   "source": [
    "[n * 2 for n in range(20) if n % 2 == 1]"
   ]
  },
  {
   "cell_type": "markdown",
   "id": "31a1df94",
   "metadata": {},
   "source": [
    "<div class='alert alert-info'>\n",
    "    <p> Exemple du second cas :</p>\n",
    "    \n",
    "<p><b>[ transformation1(item) if condition else transformation2(item) for item in iterable ]</b> si on applique une transformation ou une autre, en prenant tous les objets de l'itérable.</p>\n",
    "\n",
    "<p>Imaginons que dans une chaîne de caractères représentant une phrase, je veuille inverser les mots de 3 lettres ou plus, et laisser tels quels les mots de 2 lettres ou moins. \n",
    "    </p>\n",
    "</div>"
   ]
  },
  {
   "cell_type": "code",
   "execution_count": null,
   "id": "d5be39b6",
   "metadata": {},
   "outputs": [],
   "source": [
    "phrase = 'Je suis mon cher ami très heureux de te voir'\n",
    "\n",
    "mots = phrase.split()  # transformation de la phrase en liste de mots\n",
    "\n",
    "liste = [mot[::-1] if len(mot) >= 3 else mot for mot in mots]  # compréhension de liste avec une transformation\n",
    "\" \".join(liste)  # on rassemble notre liste de mots en une seule chaîne de caractères"
   ]
  },
  {
   "cell_type": "markdown",
   "id": "45ecfb09",
   "metadata": {},
   "source": [
    "## Les dictionnaires en compréhension"
   ]
  },
  {
   "cell_type": "markdown",
   "id": "dfadb7da",
   "metadata": {},
   "source": [
    "<div class='alert alert-info'>\n",
    "   \n",
    "<p> Le concept est similaire aux listes en compréhension, mais l’objectif est de créer un dictionnaire à partir de deux itérables, contenant respectivement les clés et les valeurs.</p>\n",
    "  \n",
    "<p><b>{key: value for k, v in zip(iterable1, iterable2}</b> </p>\n",
    "   \n",
    "<p>Ici la fonction zip parcourt les 2 itérables pour nous et nous renvoie chaque clé et chaque valeur ensemble dans un tuple.</p>\n",
    "  \n",
    "</div>"
   ]
  },
  {
   "cell_type": "code",
   "execution_count": null,
   "id": "491c1033",
   "metadata": {},
   "outputs": [],
   "source": [
    "clés = ['Nom', 'Prénom', 'Titre', 'Résidence']\n",
    "valeurs = ['pendragon', 'arthur', 'roi des bretons', 'camelot' ]\n",
    "\n",
    "{k: v for k, v in zip(clés, valeurs)}"
   ]
  },
  {
   "cell_type": "markdown",
   "id": "97034ecc",
   "metadata": {},
   "source": [
    "<div class='alert alert-warning'>\n",
    "    <p> Si l’on a aucune transformation à faire comme dans l'exemple simple vu ci-dessus, on peut se contenter d’utiliser le contructeur de dictionnaire <b>dict()</b> en lui passant le <b>zip()</b> des deux listes.</p>\n",
    "  \n",
    "</div>"
   ]
  },
  {
   "cell_type": "code",
   "execution_count": null,
   "id": "b78149a1",
   "metadata": {
    "scrolled": true
   },
   "outputs": [],
   "source": [
    "dict(zip(clés, valeurs))"
   ]
  },
  {
   "cell_type": "markdown",
   "id": "b5d1ef59",
   "metadata": {},
   "source": [
    "<div class='alert alert-warning'>\n",
    "<p> Mais si au contraire on veut modifier les éléments venant des listes d'origine tout en constituant notre dico, la compréhension s’impose :</p>\n",
    "  \n",
    "</div>"
   ]
  },
  {
   "cell_type": "code",
   "execution_count": null,
   "id": "54d3a7f0",
   "metadata": {},
   "outputs": [],
   "source": [
    "{k.lower(): v.title() for k,v in zip(clés, valeurs)}"
   ]
  },
  {
   "cell_type": "markdown",
   "id": "b61c8076",
   "metadata": {},
   "source": [
    "## Lire et écrire dans des fichiers"
   ]
  },
  {
   "cell_type": "markdown",
   "id": "e5fd6e35",
   "metadata": {},
   "source": [
    "### Ouvrir un fichier et écrire dedans"
   ]
  },
  {
   "cell_type": "markdown",
   "id": "ff01e086",
   "metadata": {},
   "source": [
    "<div class='alert alert-info'>\n",
    "Parfois les données qui nous intéressent sont dans des fichiers, ou bien nous souhaitons écrire le résultat de nos calculs dans un fichier.\n",
    "    \n",
    "Pour ouvrir un fichier existant, ou un créer un nouveau, nous utilisons la fonction open(), qui prend **2 arguments** : \n",
    "    \n",
    "- un nom de fichier (str) \n",
    "- et un mode (str)\n",
    "\n",
    "Le nom de fichier est une chaîne de caractère qui représente le chemin relatif ou absolu depuis le notebook jusqu’au fichier. Pour un fichier situé dans le même dossier que le notebook, un simple nom de fichier suffit.\n",
    "    \n",
    "Le mode peut avoir 3 valeurs : \n",
    "    \n",
    "- **'r'** pour read-only, \n",
    "- **'a'** pour append (ajouter à la fin d'un fichier existant), \n",
    "- **'w'** pour write : réécrire complètement le contenu d'un fichier existant.\n",
    "    \n",
    "</div>"
   ]
  },
  {
   "cell_type": "markdown",
   "id": "ca040fba",
   "metadata": {},
   "source": [
    "<div class='alert alert-info'>\n",
    "Vous devriez avoir un onglet de votre navigateur ouvert à côté de celui-ci, qui liste les différents fichiers qui se trouvent dans le même dossier que ce notebook.\n",
    "\n",
    "Normalement, ce dossier ne contient aucun fichier se terminant en '.txt'\n",
    "</div>"
   ]
  },
  {
   "cell_type": "markdown",
   "id": "a16ebd43",
   "metadata": {},
   "source": [
    "<div class='alert alert-info'>\n",
    "    \n",
    "Avec la fonction `open()` , on ouvre un fichier, ou on le crée s'il n’existait pas.\n",
    "    \n",
    "NB : la fonction `open()` renvoie un objet de type fichier, il faut le stocker dans une variable puis utiliser ses méthodes.\n",
    "\n",
    "</div>"
   ]
  },
  {
   "cell_type": "code",
   "execution_count": null,
   "id": "4eb52033",
   "metadata": {},
   "outputs": [],
   "source": [
    "fichier = open(file='mon_fichier.txt', mode='w') # on ouvre un fichier et on stocke l'objet dans une variable\n"
   ]
  },
  {
   "cell_type": "markdown",
   "id": "72eb22ad",
   "metadata": {},
   "source": [
    "<div class='alert alert-info'>\n",
    "    \n",
    "La méthode `.write()` de l'objet fichier permet d'écrire dans le fichier.\n",
    "    \n",
    "</div>"
   ]
  },
  {
   "cell_type": "code",
   "execution_count": null,
   "id": "8025680f",
   "metadata": {},
   "outputs": [],
   "source": [
    "fichier.write('Hello World!') # on écrit une chaîne de caractères dans l'objet\n",
    "# La fonction renvoie un nombre entier : le nombre de caractères écrits. On peut l'ignorer."
   ]
  },
  {
   "cell_type": "markdown",
   "id": "725ab5f1",
   "metadata": {},
   "source": [
    "<div class='alert alert-info'>\n",
    "    \n",
    "Enfin on ferme notre fichier avec la méthode `.close()` sur l'objet fichier. \n",
    "    \n",
    "NB : l’écriture sur le disque dur a vraiment lieu à ce moment là.\n",
    "    \n",
    "</div>"
   ]
  },
  {
   "cell_type": "code",
   "execution_count": null,
   "id": "f0cba410",
   "metadata": {},
   "outputs": [],
   "source": [
    "fichier.close()"
   ]
  },
  {
   "cell_type": "markdown",
   "id": "83cfee72",
   "metadata": {},
   "source": [
    "<div class='alert alert-info'>\n",
    "Retournez dans l'onglet de Jupyter qui liste les fichiers et vous devriez y trouver le fichier que vous venez d’ouvrir puis fermer. Vous pouvez cliquer dessus pour l’ouvrir dans le navigateur et voir son contenu.\n",
    "</div>"
   ]
  },
  {
   "cell_type": "markdown",
   "id": "b5a130a4",
   "metadata": {},
   "source": [
    "### Ouvrir un fichier et lire son contenu"
   ]
  },
  {
   "cell_type": "markdown",
   "id": "268b55db",
   "metadata": {},
   "source": [
    "<div class='alert alert-info'>\n",
    "Nous allons télécharger un petit fichier texte, qui va se mettre dans le même dossier que ce notebook.\n",
    "\n",
    "Le point d'exclamation en début de cellule fait exécuter la commande qui suit directement au système, et non pas à Python.\n",
    "</div>\n"
   ]
  },
  {
   "cell_type": "code",
   "execution_count": null,
   "id": "9ddbf204",
   "metadata": {},
   "outputs": [],
   "source": [
    "!wget https://python.sdv.univ-paris-diderot.fr/data-files/english-common-words.txt"
   ]
  },
  {
   "cell_type": "markdown",
   "id": "ffed1679",
   "metadata": {},
   "source": [
    "<div class='alert alert-info'>\n",
    "    \n",
    "Avec la fonction `open()` , on ouvre un fichier et on stocke l’objet fichier dans une variable.\n",
    "\n",
    "</div>"
   ]
  },
  {
   "cell_type": "code",
   "execution_count": null,
   "id": "04821d47",
   "metadata": {},
   "outputs": [],
   "source": [
    "english_word_file = open('english-common-words.txt') "
   ]
  },
  {
   "cell_type": "markdown",
   "id": "84f18e74",
   "metadata": {},
   "source": [
    "<div class='alert alert-info'>\n",
    "    \n",
    "La méthode `.readlines()`, appelée sur l'objet fichier, va lire les lignes du fichier, et nous renvoyer une liste de chaînes de caractères.\n",
    "    \n",
    "Chaque élément de la liste représente une ligne du fichier lu.\n",
    "\n",
    "</div>"
   ]
  },
  {
   "cell_type": "code",
   "execution_count": null,
   "id": "444f40b4",
   "metadata": {},
   "outputs": [],
   "source": [
    "english_words = english_word_file.readlines()"
   ]
  },
  {
   "cell_type": "markdown",
   "id": "1203c659",
   "metadata": {},
   "source": [
    "<div class='alert alert-info'>\n",
    "    \n",
    "Bien penser à fermer le fichier pour libérer la mémoire.\n",
    "\n",
    "</div>"
   ]
  },
  {
   "cell_type": "code",
   "execution_count": null,
   "id": "5d7f99db",
   "metadata": {},
   "outputs": [],
   "source": [
    "english_word_file.close()"
   ]
  },
  {
   "cell_type": "code",
   "execution_count": null,
   "id": "563672ed",
   "metadata": {},
   "outputs": [],
   "source": [
    "english_words[:10] # visualisation des 10 premiers éléments de la liste, pour jeter un œil"
   ]
  },
  {
   "cell_type": "markdown",
   "id": "68f98922",
   "metadata": {},
   "source": [
    "<div class='alert alert-info'>\n",
    "    \n",
    "Chaque chaîne se termine par un caratère spécial `\\n` qui représente la fin d’une ligne.\n",
    "\n",
    "Ce caractère spécial peut nous gêner dans la suite de notre tâche, mais nous pouvons le retirer facilement avec la méthode str.replace() et une compréhension de liste.\n",
    "\n",
    "</div>"
   ]
  },
  {
   "cell_type": "code",
   "execution_count": null,
   "id": "c076ac8d",
   "metadata": {},
   "outputs": [],
   "source": [
    "english_words = [word.replace('\\n', '') for word in english_words]\n",
    "english_words[:10] # visualisation des 10 premiers éléments"
   ]
  },
  {
   "cell_type": "markdown",
   "id": "992e2f83",
   "metadata": {},
   "source": [
    "## Imports et exemples de modules utiles"
   ]
  },
  {
   "cell_type": "markdown",
   "id": "4f24905e",
   "metadata": {},
   "source": [
    "<div class='alert alert-info'>\n",
    "    \n",
    "Importer consiste à rendre accessibles des objets ou fonctions pré-écrits dans des modules.\n",
    "    \n",
    "Un module est un fichier python (.py).\n",
    "    \n",
    "Nous allons importer des modules issus de :\n",
    "    \n",
    "- la bibliothèque Python standard : des modules pour les besoins courants, automatiquement installés avec Python\n",
    "- des bibliotèques spécialisées, qui devraient déjà être installées sur votre poste via Anaconda\n",
    "\n",
    "</div>"
   ]
  },
  {
   "cell_type": "markdown",
   "id": "d1b6339a",
   "metadata": {},
   "source": [
    "### Importer des modules ou des objets inclus dans des modules "
   ]
  },
  {
   "cell_type": "markdown",
   "id": "b4de16b3",
   "metadata": {},
   "source": [
    "<div class='alert alert-info'>\n",
    "    \n",
    "La syntaxe d'import peut s'utiliser de 2 façons :\n",
    "    \n",
    "- `import module` : on importe l’ensemble des fonctions et objets du module, accessibles ensuite via module.objet\n",
    "- `from module import objet` : on importe un objet spécifique du module, ensuite on peut l'utiliser directement sans préfixer avec le nom du module\n",
    "\n",
    "</div>"
   ]
  },
  {
   "cell_type": "code",
   "execution_count": null,
   "id": "c1723dd6",
   "metadata": {},
   "outputs": [],
   "source": [
    "import math # import du module math entier\n",
    "math.log(10) # accès à la fonction log via math.log()"
   ]
  },
  {
   "cell_type": "code",
   "execution_count": null,
   "id": "2991ddfa",
   "metadata": {},
   "outputs": [],
   "source": [
    "from math import pi # import spécifique de la constante pi depuis math\n",
    "pi"
   ]
  },
  {
   "cell_type": "markdown",
   "id": "96a0583b",
   "metadata": {},
   "source": [
    "<div class='alert alert-danger'>\n",
    "    \n",
    "Vous verrez parfois des imports faits ainsi :\n",
    "\n",
    "`from module import *` \n",
    "\n",
    "C'est à éviter pour plusieurs raisons. Vous importez tout le module, et avez accès à tous ses objets sans préfixer avec le nom du module. Mais :\n",
    "    \n",
    "- vous écrasez potentiellement vous propres variables ou fonctions qui auraient le même nom que des objets définis dans le module importé\n",
    "- comme vous n'avez plus à préfixer les objets importés, vous ne voyez plus d’où viennent les objets manipulés, ce qui peut rendre la recherche de documentation plus compliquée\n",
    "</div>"
   ]
  },
  {
   "cell_type": "markdown",
   "id": "fd4745b8",
   "metadata": {},
   "source": [
    "<div class='alert alert-success'>\n",
    "    \n",
    "Utilisez donc plutôt l'une ou l'autre de ces méthodes :\n",
    "    \n",
    "- `import module` : pour tout importer, accès via le préfixe module.\n",
    "- `from module import objet` : import d'un objet spécifique, accès direct par la suite\n",
    "\n",
    "</div>"
   ]
  },
  {
   "cell_type": "markdown",
   "id": "bc3faa0b",
   "metadata": {},
   "source": [
    "<div class='alert alert-info'>\n",
    "    \n",
    "Si un module a un nom un peu long, vous pouvez changer son préfixe au moment de l'import, en faisant :\n",
    "    \n",
    "`import module as alias`\n",
    "\n",
    "Ou alias est un nom plus commode. Exemple :\n",
    "</div>"
   ]
  },
  {
   "cell_type": "code",
   "execution_count": null,
   "id": "312c5265",
   "metadata": {},
   "outputs": [],
   "source": [
    "import matplotlib.pyplot as plt # plt est un nom beaucoup plus court pour la suite que matplotlib.pyplot.\n",
    "import numpy as np # numpy est typiquement importé avec ce nom raccourci.\n",
    "\n",
    "\n",
    "x = np.linspace(-np.pi, np.pi, 50) # on génère une série de 50 valeurs pour x comprises entre -π et π\n",
    "y = np.sin(x) # chaque valeur dans x est passée à la fonction sinus, le tout est stocké dans y\n",
    "\n",
    "plt.plot(x,y); # on trace x et y"
   ]
  },
  {
   "cell_type": "markdown",
   "id": "651fe000",
   "metadata": {},
   "source": [
    "### Modules utiles\n",
    "\n",
    "#### dans la bibliothèque standard (préinstallée avec Python)\n",
    "\n",
    "La bibliothèque standard est très vaste. Vous pouvez trouver une liste et documentation exhaustive ici : [https://docs.python.org/fr/3/library/](https://docs.python.org/fr/3/library/)\n",
    "\n",
    "Nous allons simplement évoquer certaines d'entre elles et montrer quelques exemples d'usage courant sur les bibliothèques :\n",
    "\n",
    "- [math](https://docs.python.org/fr/3/library/math.html) : fonctions et constantes mathématiques\n",
    "- [datetime](https://docs.python.org/fr/3/library/datetime.html) : fonctions et objets pour les dates et les horaires\n",
    "- [random](https://docs.python.org/fr/3/library/random.html) : fonctions et génération de nombres pseudo-aléatoires\n",
    "- [collections](https://docs.python.org/fr/3/library/collections.html) \n",
    "- [string](https://docs.python.org/fr/3/library/string.html) : manipulations usuelles sur les chaînes de caractères\n",
    "- [os](https://docs.python.org/fr/3/library/os.html) et [os.path](https://docs.python.org/fr/3/library/os.path.html) : interfaces avec le système d'exploitation et cheminement dans l'arborescence des fichiers\n",
    "- [csv](https://docs.python.org/fr/3/library/csv.html)\n",
    "\n",
    "#### dans des modules supplémentaires (normalement déjà installés via anaconda)\n",
    "- [numpy](https://numpy.org/) : calcul scientifique\n",
    "- [scipy](https://scipy.org/) : algorithmes de calculs scientifiques\n",
    "- [pandas](https://pandas.pydata.org/) : tableaux et analyse de données\n",
    "- [matplotlib](https://matplotlib.org/) : Visualisations et graphes\n"
   ]
  },
  {
   "cell_type": "markdown",
   "id": "f1b60487",
   "metadata": {},
   "source": [
    "<div class='alert alert-info'>\n",
    "    \n",
    "Nous avons déjà un peu manipulé des objets issus du module **math.**\n",
    "    \n",
    "Vous y trouverez entre autres des fonctions et constantes telles que :\n",
    "    \n",
    "</div>"
   ]
  },
  {
   "cell_type": "code",
   "execution_count": null,
   "id": "2395585d",
   "metadata": {},
   "outputs": [],
   "source": [
    "import math\n",
    "\n",
    "math.cos(math.pi)"
   ]
  },
  {
   "cell_type": "code",
   "execution_count": null,
   "id": "15a08d93",
   "metadata": {},
   "outputs": [],
   "source": [
    "math.exp(1)"
   ]
  },
  {
   "cell_type": "code",
   "execution_count": null,
   "id": "49130a09",
   "metadata": {},
   "outputs": [],
   "source": [
    "math.log(1)"
   ]
  },
  {
   "cell_type": "code",
   "execution_count": null,
   "id": "e11415e5",
   "metadata": {},
   "outputs": [],
   "source": [
    "math.factorial(5)"
   ]
  },
  {
   "cell_type": "code",
   "execution_count": null,
   "id": "8709cd5c",
   "metadata": {},
   "outputs": [],
   "source": [
    "math.exp(math.log(5))"
   ]
  },
  {
   "cell_type": "code",
   "execution_count": null,
   "id": "039ec88f",
   "metadata": {},
   "outputs": [],
   "source": [
    "x = 5\n",
    "math.isclose(math.exp(math.log(x)), x)"
   ]
  },
  {
   "cell_type": "code",
   "execution_count": null,
   "id": "d7f5c9b4",
   "metadata": {},
   "outputs": [],
   "source": [
    "math.e "
   ]
  },
  {
   "cell_type": "code",
   "execution_count": null,
   "id": "fadfbeff",
   "metadata": {},
   "outputs": [],
   "source": [
    "math.tau # voir https://tauday.com/tau-manifesto"
   ]
  },
  {
   "cell_type": "markdown",
   "id": "eb87292d",
   "metadata": {},
   "source": [
    "<div class='alert alert-info'>\n",
    "    \n",
    "**datetime** contient des objets utiles pour manipuler des dates, des heures et des laps de temps.\n",
    "    \n",
    "</div>"
   ]
  },
  {
   "cell_type": "code",
   "execution_count": null,
   "id": "de8df3f1",
   "metadata": {},
   "outputs": [],
   "source": [
    "import datetime"
   ]
  },
  {
   "cell_type": "code",
   "execution_count": null,
   "id": "06197f90",
   "metadata": {},
   "outputs": [],
   "source": [
    "datetime.datetime.now()"
   ]
  },
  {
   "cell_type": "code",
   "execution_count": null,
   "id": "d4cf0d2a",
   "metadata": {
    "scrolled": true
   },
   "outputs": [],
   "source": [
    "demain = datetime.date.today() + datetime.timedelta(days=1)\n",
    "demain"
   ]
  },
  {
   "cell_type": "markdown",
   "id": "eda6e295",
   "metadata": {},
   "source": [
    "<div class='alert alert-info'>\n",
    "    \n",
    "**random** permet de générer des nombres aléatoires, de mélanger des listes, de simuler des tirages aléatoires…\n",
    "    \n",
    "</div>"
   ]
  },
  {
   "cell_type": "code",
   "execution_count": null,
   "id": "64e0c8d2",
   "metadata": {},
   "outputs": [],
   "source": [
    "import random \n",
    "\n",
    "def roll_dice(n):\n",
    "    return random.randint(1, n) # nombre au hasard entre 2 bornes incluses\n",
    "\n",
    "roll_dice(20)"
   ]
  },
  {
   "cell_type": "code",
   "execution_count": null,
   "id": "cbc6ba87",
   "metadata": {},
   "outputs": [],
   "source": [
    "departements = [\n",
    "    'Biosciences', \n",
    "    'Génie Électrique', \n",
    "    'Génie Industriel',\n",
    "    'Génie Civil et Urbanisme', \n",
    "    'Génie Énergétique et environnement',\n",
    "    'Informatique', 'Génie mécanique', \n",
    "    'Science et génie des matériaux',\n",
    "    'Télécommunications, services & usages',\n",
    "]\n",
    "\n",
    "random.shuffle(departements) # mélange d'une liste\n",
    "departements"
   ]
  },
  {
   "cell_type": "code",
   "execution_count": null,
   "id": "cc89cc6f",
   "metadata": {},
   "outputs": [],
   "source": [
    "random.choice(departements) # choix d'un élément au hasard"
   ]
  },
  {
   "cell_type": "code",
   "execution_count": null,
   "id": "9ddb4ce1",
   "metadata": {},
   "outputs": [],
   "source": [
    "random.sample(departements, 3) # tirage de 3 éléments sans remise"
   ]
  },
  {
   "cell_type": "markdown",
   "id": "7fd19e33",
   "metadata": {},
   "source": [
    "<div class='alert alert-success'><h1>\n",
    "Vous êtes arrivé·e au bout de ce module, félicitations ! 🎉</h1>\n",
    "</div>"
   ]
  },
  {
   "cell_type": "markdown",
   "id": "7f48a393",
   "metadata": {},
   "source": [
    "<div class='alert alert-success'><h1>Vous pouvez passer au notebook d'exercices pour mettre toutes ces connaissances en pratique… 💪</h1>\n",
    "</div>"
   ]
  }
 ],
 "metadata": {
  "kernelspec": {
   "display_name": "Python 3 (ipykernel)",
   "language": "python",
   "name": "python3"
  },
  "language_info": {
   "codemirror_mode": {
    "name": "ipython",
    "version": 3
   },
   "file_extension": ".py",
   "mimetype": "text/x-python",
   "name": "python",
   "nbconvert_exporter": "python",
   "pygments_lexer": "ipython3",
   "version": "3.10.0rc1"
  },
  "toc": {
   "base_numbering": 1,
   "nav_menu": {},
   "number_sections": true,
   "sideBar": true,
   "skip_h1_title": true,
   "title_cell": "Table des matières",
   "title_sidebar": "Contenu",
   "toc_cell": true,
   "toc_position": {
    "height": "calc(100% - 180px)",
    "left": "10px",
    "top": "150px",
    "width": "225.2px"
   },
   "toc_section_display": true,
   "toc_window_display": false
  }
 },
 "nbformat": 4,
 "nbformat_minor": 5
}
