{
 "cells": [
  {
   "cell_type": "markdown",
   "id": "9afd47c8",
   "metadata": {
    "toc": true
   },
   "source": [
    "<h1>Table des matières<span class=\"tocSkip\"></span></h1>\n",
    "<div class=\"toc\"><ul class=\"toc-item\"><li><span><a href=\"#Récapitulatif-des-notions-vues-dans-le-module-précédent\" data-toc-modified-id=\"Récapitulatif-des-notions-vues-dans-le-module-précédent-1\"><span class=\"toc-item-num\">1&nbsp;&nbsp;</span>Récapitulatif des notions vues dans le module précédent</a></span></li><li><span><a href=\"#Les-fonctions-en-une-ligne-avec-lambda\" data-toc-modified-id=\"Les-fonctions-en-une-ligne-avec-lambda-2\"><span class=\"toc-item-num\">2&nbsp;&nbsp;</span>Les fonctions en une ligne avec <code>lambda</code></a></span></li><li><span><a href=\"#Les-list-comprehensions\" data-toc-modified-id=\"Les-list-comprehensions-3\"><span class=\"toc-item-num\">3&nbsp;&nbsp;</span>Les list comprehensions</a></span></li><li><span><a href=\"#Les-dictionary-comprehensions\" data-toc-modified-id=\"Les-dictionary-comprehensions-4\"><span class=\"toc-item-num\">4&nbsp;&nbsp;</span>Les dictionary comprehensions</a></span></li><li><span><a href=\"#Lire-et-écrire-dans-des-fichiers\" data-toc-modified-id=\"Lire-et-écrire-dans-des-fichiers-5\"><span class=\"toc-item-num\">5&nbsp;&nbsp;</span>Lire et écrire dans des fichiers</a></span><ul class=\"toc-item\"><li><span><a href=\"#Ouvrir-un-fichier-et-écrire-dedans\" data-toc-modified-id=\"Ouvrir-un-fichier-et-écrire-dedans-5.1\"><span class=\"toc-item-num\">5.1&nbsp;&nbsp;</span>Ouvrir un fichier et écrire dedans</a></span></li><li><span><a href=\"#Ouvrir-un-fichier-et-lire-son-contenu\" data-toc-modified-id=\"Ouvrir-un-fichier-et-lire-son-contenu-5.2\"><span class=\"toc-item-num\">5.2&nbsp;&nbsp;</span>Ouvrir un fichier et lire son contenu</a></span></li></ul></li><li><span><a href=\"#Imports-et-exemples-de-modules-utiles\" data-toc-modified-id=\"Imports-et-exemples-de-modules-utiles-6\"><span class=\"toc-item-num\">6&nbsp;&nbsp;</span>Imports et exemples de modules utiles</a></span><ul class=\"toc-item\"><li><span><a href=\"#Importer-des-modules-ou-des-objets-inclus-dans-des-modules\" data-toc-modified-id=\"Importer-des-modules-ou-des-objets-inclus-dans-des-modules-6.1\"><span class=\"toc-item-num\">6.1&nbsp;&nbsp;</span>Importer des modules ou des objets inclus dans des modules</a></span></li><li><span><a href=\"#Modules-utiles\" data-toc-modified-id=\"Modules-utiles-6.2\"><span class=\"toc-item-num\">6.2&nbsp;&nbsp;</span>Modules utiles</a></span><ul class=\"toc-item\"><li><span><a href=\"#dans-la-bibliothèque-standard-(préinstallée-avec-Python)\" data-toc-modified-id=\"dans-la-bibliothèque-standard-(préinstallée-avec-Python)-6.2.1\"><span class=\"toc-item-num\">6.2.1&nbsp;&nbsp;</span>dans la bibliothèque standard (préinstallée avec Python)</a></span></li><li><span><a href=\"#dans-des-modules-supplémentaires-(normalement-déjà-installés-via-anaconda)\" data-toc-modified-id=\"dans-des-modules-supplémentaires-(normalement-déjà-installés-via-anaconda)-6.2.2\"><span class=\"toc-item-num\">6.2.2&nbsp;&nbsp;</span>dans des modules supplémentaires (normalement déjà installés via anaconda)</a></span><ul class=\"toc-item\"><li><span><a href=\"#Numpy-et-Matplotlib-:-Sinus-et-Cosinus\" data-toc-modified-id=\"Numpy-et-Matplotlib-:-Sinus-et-Cosinus-6.2.2.1\"><span class=\"toc-item-num\">6.2.2.1&nbsp;&nbsp;</span>Numpy et Matplotlib : Sinus et Cosinus</a></span></li><li><span><a href=\"#Sympy---Calcul-symbolique\" data-toc-modified-id=\"Sympy---Calcul-symbolique-6.2.2.2\"><span class=\"toc-item-num\">6.2.2.2&nbsp;&nbsp;</span>Sympy - Calcul symbolique</a></span></li><li><span><a href=\"#Scipy---Calcul-Scientifique\" data-toc-modified-id=\"Scipy---Calcul-Scientifique-6.2.2.3\"><span class=\"toc-item-num\">6.2.2.3&nbsp;&nbsp;</span>Scipy - Calcul Scientifique</a></span></li><li><span><a href=\"#Tableaux-et-analyse-de-données-avec-Pandas\" data-toc-modified-id=\"Tableaux-et-analyse-de-données-avec-Pandas-6.2.2.4\"><span class=\"toc-item-num\">6.2.2.4&nbsp;&nbsp;</span>Tableaux et analyse de données avec Pandas</a></span></li></ul></li></ul></li></ul></li></ul></div>"
   ]
  },
  {
   "cell_type": "markdown",
   "id": "bccadeb4",
   "metadata": {
    "ExecuteTime": {
     "end_time": "2022-01-18T08:22:26.693572Z",
     "start_time": "2022-01-18T08:22:26.686858Z"
    }
   },
   "source": [
    "<div class=\"alert alert-success\">Ce document est un Notebook Jupyter. Il est concu pour que vous exécutiez les cellules pour faire apparaître leur résultat juste en dessous. \n",
    "Le raccourci clavier pour exécuter une cellule et passer le contrôle à la suivante est <b>Shift + Entrée</b></div>"
   ]
  },
  {
   "cell_type": "markdown",
   "id": "9f6a3eec",
   "metadata": {
    "ExecuteTime": {
     "end_time": "2022-01-17T16:26:08.455525Z",
     "start_time": "2022-01-17T16:26:08.450289Z"
    }
   },
   "source": [
    "# Python - Niveau Intermédiaire"
   ]
  },
  {
   "cell_type": "markdown",
   "id": "947f3e0d",
   "metadata": {},
   "source": [
    "## Récapitulatif des notions vues dans le module précédent"
   ]
  },
  {
   "cell_type": "markdown",
   "id": "7983b605",
   "metadata": {},
   "source": [
    "\n",
    "Dans le module d’introduction à Python, nous avons vu les notions suivantes :\n",
    "\n",
    "- les variables\n",
    "- les types de base : str, lst, tuple, dict, int, float, complex\n",
    "- l’exécution conditionnelle\n",
    "- les boucles for et while\n",
    "- les fonctions\n",
    "- les principales méthodes des types de base\n",
    "\n"
   ]
  },
  {
   "cell_type": "markdown",
   "id": "85a67f9a",
   "metadata": {},
   "source": [
    "Dans ce module, nous allons étendre cet arsenal avec :\n",
    "\n",
    "- les fonctions \"jetables\" avec lambda\n",
    "- les listes en compréhension\n",
    "- les dictionnaires en compréhension\n",
    "- lire et écrire dans des fichiers\n",
    "- importer des fonctions et objets à partir de modules et quelques exemples de modules utiles"
   ]
  },
  {
   "cell_type": "markdown",
   "id": "d20991f1",
   "metadata": {},
   "source": [
    "## Les fonctions en une ligne avec `lambda`"
   ]
  },
  {
   "cell_type": "markdown",
   "id": "14cbb6a6",
   "metadata": {},
   "source": [
    "<div class ='alert alert-info'>\n",
    "    \n",
    "Parfois on a besoin d'une fonction toute simple, comme argument d’une méthode ou d’une autre fonction.\n",
    "\n",
    "Par exemple, la fonction `sorted(iterable)` permet de créer un nouvel itérable classé à partir d'un premier itérable.\n",
    "    \n",
    "</div>"
   ]
  },
  {
   "cell_type": "code",
   "execution_count": null,
   "id": "7bfc9c65",
   "metadata": {
    "ExecuteTime": {
     "end_time": "2022-02-03T12:48:38.567314Z",
     "start_time": "2022-02-03T12:48:38.519242Z"
    }
   },
   "outputs": [],
   "source": [
    "étudiants = ['Stéphanie', 'Karima', 'John', 'Pietro']\n",
    "sorted(étudiants)"
   ]
  },
  {
   "cell_type": "markdown",
   "id": "aaf98146",
   "metadata": {},
   "source": [
    "<div class ='alert alert-info'>\n",
    "    \n",
    "Cette fonction `sorted(itérable)` a un argument `key` très puissant, qui permet de faire le classement non pas sur les éléments de l'itérable directement, mais sur la sortie des éléments passés à une fonction.\n",
    "\n",
    "Prenons une liste d'objets un peu plus complexes que des chaînes.\n",
    "    \n",
    "</div>"
   ]
  },
  {
   "cell_type": "code",
   "execution_count": null,
   "id": "e3c85db5",
   "metadata": {
    "ExecuteTime": {
     "end_time": "2022-02-03T13:25:44.141850Z",
     "start_time": "2022-02-03T13:25:44.135195Z"
    }
   },
   "outputs": [],
   "source": [
    "p1 = {'nom': 'Stéphanie', 'âge': 19}\n",
    "p2 = {'nom': 'Karima', 'âge': 18}\n",
    "p3 = {'nom': 'John', 'âge': 22}\n",
    "p4 = {'nom': 'Pietro', 'âge': 17}\n",
    "étudiants = [p1, p2, p3, p4]\n",
    "étudiants"
   ]
  },
  {
   "cell_type": "markdown",
   "id": "89bf4db2",
   "metadata": {},
   "source": [
    "<div class ='alert alert-info'>\n",
    "    \n",
    "L’argument `key` de `sorted()` va faire le classement pour nous, mais il faut lui passer une fonction qui prend un étudiant et renvoie une valeur sur laquelle le classement pourra se faire. Ici simplement extraire l’âge de chaque dictionnaire.\n",
    "\n",
    "</div>"
   ]
  },
  {
   "cell_type": "markdown",
   "id": "188941be",
   "metadata": {},
   "source": [
    "<div class ='alert alert-info'>\n",
    "    \n",
    "Je dois donc définir une fonction. Classiquement ça donnerait ça :\n",
    "\n",
    "</div>"
   ]
  },
  {
   "cell_type": "code",
   "execution_count": null,
   "id": "eab43df6",
   "metadata": {
    "ExecuteTime": {
     "end_time": "2022-02-03T13:31:28.632045Z",
     "start_time": "2022-02-03T13:31:28.629004Z"
    }
   },
   "outputs": [],
   "source": [
    "def get_age(étudiant):\n",
    "    return étudiant.get('âge')"
   ]
  },
  {
   "cell_type": "code",
   "execution_count": null,
   "id": "7a6e2b90",
   "metadata": {
    "ExecuteTime": {
     "end_time": "2022-02-03T13:31:37.849570Z",
     "start_time": "2022-02-03T13:31:37.841133Z"
    }
   },
   "outputs": [],
   "source": [
    "sorted(étudiants, key=get_age)"
   ]
  },
  {
   "cell_type": "markdown",
   "id": "91ec6317",
   "metadata": {},
   "source": [
    "<div class ='alert alert-info'>\n",
    "    \n",
    "Ça fonctionne très bien, mais cette fonction `get_age` qui est absolument triviale prend tout de même 2 lignes à définir.\n",
    "    \n",
    "la commande `lambda` va nous permettre de définir une fonction anonyme et jetable beaucoup plus rapidement pour la passer comme argument `key` de la fonction `sorted`.\n",
    "\n",
    "</div>"
   ]
  },
  {
   "cell_type": "code",
   "execution_count": null,
   "id": "0518854e",
   "metadata": {
    "ExecuteTime": {
     "end_time": "2022-02-03T13:34:13.304142Z",
     "start_time": "2022-02-03T13:34:13.296900Z"
    }
   },
   "outputs": [],
   "source": [
    "sorted(étudiants, key=lambda e: e.get('âge'))"
   ]
  },
  {
   "cell_type": "markdown",
   "id": "0bead4fb",
   "metadata": {},
   "source": [
    "<div class ='alert alert-info'>\n",
    "    \n",
    "La syntaxe à retenir\n",
    "    \n",
    "    lambda x: expression_de_x\n",
    "\n",
    "à tout x, associe une expression donnée.\n",
    "\n",
    "</div>"
   ]
  },
  {
   "cell_type": "markdown",
   "id": "73d88c46",
   "metadata": {},
   "source": [
    "<div class ='alert alert-info'>\n",
    "    \n",
    "On peut passer la fonction issue de lambda comme argument directement comme avec `sorted(itérable, key=fonction)`.\n",
    "    \n",
    "On peut aussi \"capturer\" notre fonction lamdba dans une variable, pour la réutiliser ensuite.\n",
    "    \n",
    "\n",
    "</div>"
   ]
  },
  {
   "cell_type": "code",
   "execution_count": null,
   "id": "5f9486b7",
   "metadata": {
    "ExecuteTime": {
     "end_time": "2022-02-03T13:38:20.562225Z",
     "start_time": "2022-02-03T13:38:20.558631Z"
    }
   },
   "outputs": [],
   "source": [
    "square = lambda x: x**2\n",
    "square(5)"
   ]
  },
  {
   "cell_type": "markdown",
   "id": "ac370e28",
   "metadata": {},
   "source": [
    "<div class ='alert alert-success'>\n",
    "    \n",
    "Retenez que `lambda` est un raccourci syntaxique pour créer une fonction rapidement, utile quand la fonction voulue est très simple à exprimer. \n",
    "    \n",
    "Vous pouvez très bien créer une fonction `lambda` à plusieurs variables.\n",
    "\n",
    "</div>"
   ]
  },
  {
   "cell_type": "code",
   "execution_count": null,
   "id": "7a18a773",
   "metadata": {
    "ExecuteTime": {
     "end_time": "2022-02-03T13:43:52.092922Z",
     "start_time": "2022-02-03T13:43:52.088537Z"
    }
   },
   "outputs": [],
   "source": [
    "somme = lambda x, y: x + y\n",
    "somme(2, 3)"
   ]
  },
  {
   "cell_type": "markdown",
   "id": "25fb1ae9",
   "metadata": {},
   "source": [
    "## Les list comprehensions"
   ]
  },
  {
   "cell_type": "markdown",
   "id": "c15e15f0",
   "metadata": {},
   "source": [
    "<div class='alert alert-info'>\n",
    "Il est très fréquent d’avoir à créer une liste à partir d’un objet itérable, en :\n",
    "    \n",
    "1. créant une liste vide\n",
    "2. itérant sur la première séquence\n",
    "3. transformant ou sélectionnant les objets issus de l'itération\n",
    "4. ajoutant les objets voulus au fur et à mesure dans la nouvelle liste\n",
    " \n",
    "Par exemple, pour créer une liste d'entiers pairs de 0 à 40 :\n",
    "</div>"
   ]
  },
  {
   "cell_type": "code",
   "execution_count": null,
   "id": "35d53b54",
   "metadata": {},
   "outputs": [],
   "source": [
    "pairs = [] # on crée une liste vide\n",
    "for n in range(21): # on itère sur range(0, 21)\n",
    "    pairs.append(n*2) # on double le nombre itéré et on l'ajoute à la fin de notre nouvelle liste\n",
    "pairs"
   ]
  },
  {
   "cell_type": "markdown",
   "id": "08d53635",
   "metadata": {},
   "source": [
    "<div class='alert alert-info'>\n",
    "<p>Une list comprehension est un raccourci pour créer une nouvelle liste à partir d'un itérable sans expliciter toutes ces étapes.</p>\n",
    "    \n",
    "<p>Le résultat de la cellule ci-dessous est strictement identique à celle du dessus. Le temps d'exécution est essentiellement le même, seule la syntaxe change.</p>\n",
    "</div>"
   ]
  },
  {
   "cell_type": "code",
   "execution_count": null,
   "id": "5e1d29bc",
   "metadata": {},
   "outputs": [],
   "source": [
    "[n * 2 for n in range(21)]"
   ]
  },
  {
   "cell_type": "markdown",
   "id": "bbfc14b6",
   "metadata": {},
   "source": [
    "<div class='alert alert-info'>\n",
    "    <p> La syntaxe peut se généraliser en :</p>\n",
    "  \n",
    "<p><b>[ transformation1(item) for item in iterable if condition ]</b> si la condition doit filtrer les items du premier itérable qui sont considérés</p>\n",
    "    \n",
    "<p><b>[ transformation1(item) if condition else transformation2(item) for item in iterable ]</b> si on applique une transformation ou une autre, en prenant tous les objets de l'itérable.</p>\n",
    "    \n",
    "<p><b>transformation1</b> et <b>transformation2</b> représentent toute opération que l'on peut appliquer à notre variable d'itération avant de l’ajouter à notre nouvelle liste.</p>\n",
    "</div>"
   ]
  },
  {
   "cell_type": "markdown",
   "id": "0be8d077",
   "metadata": {},
   "source": [
    "<div class='alert alert-info'>\n",
    "    <p> Exemple du premier cas :</p>\n",
    "  \n",
    "<p><b>[ transformation1(item) for item in iterable if condition ]</b> si la condition doit filtrer les items du premier itérable qui sont considérés.</p>\n",
    "    \n",
    "<p>Je veux créer une liste des doubles de mon premier itérable, mais seulement si le terme initial est impair :</p>\n",
    "</div>"
   ]
  },
  {
   "cell_type": "code",
   "execution_count": null,
   "id": "1d5b1c34",
   "metadata": {},
   "outputs": [],
   "source": [
    "[n * 2 for n in range(20) if n % 2 == 1]"
   ]
  },
  {
   "cell_type": "markdown",
   "id": "31a1df94",
   "metadata": {},
   "source": [
    "<div class='alert alert-info'>\n",
    "    <p> Exemple du second cas :</p>\n",
    "    \n",
    "<p><b>[ transformation1(item) if condition else transformation2(item) for item in iterable ]</b> si on applique une transformation ou une autre, en prenant tous les objets de l'itérable.</p>\n",
    "\n",
    "<p>Imaginons que dans une chaîne de caractères représentant une phrase, je veuille inverser les mots de 3 lettres ou plus, et laisser tels quels les mots de 2 lettres ou moins. \n",
    "    </p>\n",
    "</div>"
   ]
  },
  {
   "cell_type": "code",
   "execution_count": null,
   "id": "d5be39b6",
   "metadata": {},
   "outputs": [],
   "source": [
    "phrase = 'Je suis mon cher ami très heureux de te voir'\n",
    "\n",
    "mots = phrase.split()  # transformation de la phrase en liste de mots\n",
    "\n",
    "liste = [mot[::-1] if len(mot) >= 3 else mot for mot in mots]  # comprehension avec une transformation ou pas, selon\n",
    "\" \".join(liste)  # on rassemble notre liste de mots en une seule chaîne de caractères"
   ]
  },
  {
   "cell_type": "markdown",
   "id": "45ecfb09",
   "metadata": {},
   "source": [
    "## Les dictionary comprehensions"
   ]
  },
  {
   "cell_type": "markdown",
   "id": "dfadb7da",
   "metadata": {},
   "source": [
    "<div class='alert alert-info'>\n",
    "   \n",
    "<p> Le concept est similaire aux list comprehension, mais l’objectif est de créer un dictionnaire à partir de deux itérables, contenant respectivement les clés et les valeurs.</p>\n",
    "  \n",
    "<p><b>{key: value for key, value in zip(iterable1, iterable2}</b> </p>\n",
    "   \n",
    "<p>Ici la fonction zip parcourt les 2 itérables pour nous et nous renvoie chaque clé et chaque valeur ensemble dans un tuple.</p>\n",
    "  \n",
    "</div>"
   ]
  },
  {
   "cell_type": "code",
   "execution_count": null,
   "id": "491c1033",
   "metadata": {
    "ExecuteTime": {
     "end_time": "2022-02-03T13:54:19.568127Z",
     "start_time": "2022-02-03T13:54:19.555443Z"
    }
   },
   "outputs": [],
   "source": [
    "clés = ['Nom', 'Prénom', 'Titre', 'Résidence']\n",
    "valeurs = ['pendragon', 'arthur', 'roi des bretons', 'camelot' ]\n",
    "\n",
    "{k: v for k, v in zip(clés, valeurs)}"
   ]
  },
  {
   "cell_type": "markdown",
   "id": "97034ecc",
   "metadata": {},
   "source": [
    "<div class='alert alert-info'>\n",
    "    <p> Si l’on a aucune transformation à faire comme dans l'exemple simple vu ci-dessus, on peut se contenter d’utiliser le contructeur de dictionnaire <b>dict()</b> en lui passant le <b>zip()</b> des deux listes.</p>\n",
    "  \n",
    "</div>"
   ]
  },
  {
   "cell_type": "code",
   "execution_count": null,
   "id": "b78149a1",
   "metadata": {
    "ExecuteTime": {
     "end_time": "2022-02-03T13:54:38.110112Z",
     "start_time": "2022-02-03T13:54:38.105305Z"
    },
    "scrolled": true
   },
   "outputs": [],
   "source": [
    "dict(zip(clés, valeurs))"
   ]
  },
  {
   "cell_type": "markdown",
   "id": "b5d1ef59",
   "metadata": {},
   "source": [
    "<div class='alert alert-info'>\n",
    "<p> Mais si au contraire on veut modifier les éléments venant des listes d'origine tout en constituant notre dico, la compréhension s’impose :</p>\n",
    "  \n",
    "</div>"
   ]
  },
  {
   "cell_type": "code",
   "execution_count": null,
   "id": "54d3a7f0",
   "metadata": {
    "ExecuteTime": {
     "end_time": "2022-02-03T13:55:04.444822Z",
     "start_time": "2022-02-03T13:55:04.436525Z"
    }
   },
   "outputs": [],
   "source": [
    "{k.lower(): v.title() for k,v in zip(clés, valeurs)}"
   ]
  },
  {
   "cell_type": "markdown",
   "id": "a2872e80",
   "metadata": {},
   "source": [
    "<div class='alert alert-success'>\n",
    "    \n",
    "Un exemple d’usage des dictionnaires en compréhension est de créer un dictionnaire qui est l'inverse du dictionnaire d'origine, pour trouver une clé en fonction de sa valeur, ce qui est l'inverse du fonctionnement classique d'un dictionnaire.\n",
    "    \n",
    " \n",
    "</div>"
   ]
  },
  {
   "cell_type": "code",
   "execution_count": null,
   "id": "1929d0de",
   "metadata": {
    "ExecuteTime": {
     "end_time": "2022-02-03T13:55:31.484150Z",
     "start_time": "2022-02-03T13:55:31.478723Z"
    }
   },
   "outputs": [],
   "source": [
    "notes = {\"Pierre\": 10, 'Paul':8, 'Jacques':18}\n",
    "\n",
    "# on cherche la valeur maximale dans les valeurs avec max() appelée sur dict.values()\n",
    "meilleure_note = max(notes.values())\n",
    "\n",
    "# on crée un dico inversé. L'inversion est faite par l’inversion des variables  v et k dans la compréhension\n",
    "inv_notes = {v:k for k, v in notes.items()}\n",
    "\n",
    "# on peut aller chercher l'élève avec la meilleure note dans le dico inversé\n",
    "meilleur_eleve = inv_notes.get(meilleure_note) \n",
    "\n",
    "f\"{meilleur_eleve} a eu la meilleure note avec {meilleure_note}.\""
   ]
  },
  {
   "cell_type": "markdown",
   "id": "a3cb9f8d",
   "metadata": {},
   "source": [
    "<div class='alert alert-warning'>\n",
    "    \n",
    "Attention cependant, notre dictionnaire inversé ne sera pas aussi long que l'original si certaines valeurs sont dupliquées, car les clés du dictionnaire inversé ne seront pas uniques.\n",
    "  \n",
    "</div>"
   ]
  },
  {
   "cell_type": "code",
   "execution_count": null,
   "id": "1944eb8f",
   "metadata": {
    "ExecuteTime": {
     "end_time": "2022-02-03T13:56:22.322341Z",
     "start_time": "2022-02-03T13:56:22.316194Z"
    }
   },
   "outputs": [],
   "source": [
    "notes = {\"Pierre\": 18, 'Paul':18, 'Jacques': 18}\n",
    "\n",
    "# on cherche la valeur maximale dans les valeurs avec max() appelée sur dict.values()\n",
    "meilleure_note = max(notes.values())\n",
    "\n",
    "# on crée un dico inversé. L'inversion est faite par les variables  v:k for k,v dans la compréhension\n",
    "inv_notes = {v:k for k, v in notes.items()}\n",
    "\n",
    "# on peut aller chercher l'élève avec la meilleure note dans le dico inversé\n",
    "meilleur_eleve = inv_notes.get(meilleure_note) \n",
    "\n",
    "print(f\"{meilleur_eleve} a eu la meilleure note avec {meilleure_note}.\")\n",
    "print(f\"{inv_notes=}\")\n"
   ]
  },
  {
   "cell_type": "markdown",
   "id": "612a679d",
   "metadata": {},
   "source": [
    "## Lire et écrire dans des fichiers"
   ]
  },
  {
   "cell_type": "markdown",
   "id": "975b7c34",
   "metadata": {},
   "source": [
    "### Ouvrir un fichier et écrire dedans"
   ]
  },
  {
   "cell_type": "markdown",
   "id": "3f7da2dc",
   "metadata": {},
   "source": [
    "<div class='alert alert-info'>\n",
    "Parfois les données qui nous intéressent sont dans des fichiers, ou bien nous souhaitons écrire le résultat de nos calculs dans un fichier.\n",
    "    \n",
    "Pour ouvrir un fichier existant, ou un créer un nouveau, nous utilisons la fonction open(), qui prend **2 arguments** : \n",
    "    \n",
    "- un nom de fichier (str) \n",
    "- et un mode (str)\n",
    "\n",
    "Le nom de fichier est une chaîne de caractère qui représente le chemin relatif ou absolu depuis le notebook jusqu’au fichier. Pour un fichier situé dans le même dossier que le notebook, un simple nom de fichier suffit.\n",
    "    \n",
    "Le mode peut avoir 3 valeurs : \n",
    "    \n",
    "- **'r'** pour read-only, \n",
    "- **'a'** pour append (ajouter à la fin d'un fichier existant), \n",
    "- **'w'** pour write : réécrire complètement le contenu d'un fichier existant.\n",
    "    \n",
    "</div>"
   ]
  },
  {
   "cell_type": "markdown",
   "id": "edfc9591",
   "metadata": {},
   "source": [
    "<div class='alert alert-info'>\n",
    "Vous devriez avoir un onglet de votre navigateur ouvert à côté de celui-ci, qui liste les différents fichiers qui se trouvent dans le même dossier que ce notebook.\n",
    "\n",
    "Normalement, ce dossier ne contient aucun fichier se terminant en '.txt'\n",
    "</div>"
   ]
  },
  {
   "cell_type": "markdown",
   "id": "86ef25bc",
   "metadata": {},
   "source": [
    "<div class='alert alert-info'>\n",
    "    \n",
    "Avec la fonction `open()` , on ouvre un fichier, ou on le crée s'il n’existait pas.\n",
    "    \n",
    "NB : la fonction `open()` renvoie un objet de type fichier, il faut le stocker dans une variable puis utiliser ses méthodes.\n",
    "\n",
    "</div>"
   ]
  },
  {
   "cell_type": "code",
   "execution_count": null,
   "id": "fad804b9",
   "metadata": {},
   "outputs": [],
   "source": [
    "fichier = open(file='mon_fichier.txt', mode='w') # on ouvre un fichier et on stocke l'objet dans une variable\n"
   ]
  },
  {
   "cell_type": "markdown",
   "id": "ca9565cf",
   "metadata": {},
   "source": [
    "<div class='alert alert-info'>\n",
    "    \n",
    "La méthode `.write()` de l'objet fichier permet d'écrire dans le fichier.\n",
    "    \n",
    "</div>"
   ]
  },
  {
   "cell_type": "code",
   "execution_count": null,
   "id": "b7ac0d4e",
   "metadata": {},
   "outputs": [],
   "source": [
    "fichier.write('Hello World!') # on écrit une chaîne de caractères dans l'objet\n",
    "# La fonction renvoie un nombre entier : le nombre de caractères écrits. On peut l'ignorer."
   ]
  },
  {
   "cell_type": "markdown",
   "id": "3f5295ca",
   "metadata": {},
   "source": [
    "<div class='alert alert-info'>\n",
    "    \n",
    "Enfin on ferme notre fichier avec la méthode `.close()` sur l'objet fichier. \n",
    "    \n",
    "NB : l’écriture sur le disque dur a vraiment lieu à ce moment là.\n",
    "    \n",
    "</div>"
   ]
  },
  {
   "cell_type": "code",
   "execution_count": null,
   "id": "514a453c",
   "metadata": {},
   "outputs": [],
   "source": [
    "fichier.close()"
   ]
  },
  {
   "cell_type": "markdown",
   "id": "c61cab86",
   "metadata": {},
   "source": [
    "<div class='alert alert-info'>\n",
    "Retournez dans l'onglet de Jupyter qui liste les fichiers et vous devriez y trouver le fichier que vous venez d’ouvrir puis fermer. Vous pouvez cliquer dessus pour l’ouvrir dans le navigateur et voir son contenu.\n",
    "</div>"
   ]
  },
  {
   "cell_type": "markdown",
   "id": "3502d148",
   "metadata": {},
   "source": [
    "### Ouvrir un fichier et lire son contenu"
   ]
  },
  {
   "cell_type": "markdown",
   "id": "fc3a5e3a",
   "metadata": {},
   "source": [
    "<div class='alert alert-info'>\n",
    "Nous allons télécharger un petit fichier texte, qui va se mettre dans le même dossier que ce notebook.\n",
    "\n",
    "Le point d'exclamation en début de cellule fait exécuter la commande qui suit directement au système, et non pas à Python.\n",
    "</div>\n"
   ]
  },
  {
   "cell_type": "code",
   "execution_count": null,
   "id": "96e19fd4",
   "metadata": {
    "ExecuteTime": {
     "end_time": "2022-02-03T10:32:51.500690Z",
     "start_time": "2022-02-03T10:32:50.678317Z"
    }
   },
   "outputs": [],
   "source": [
    "!wget https://python.sdv.univ-paris-diderot.fr/data-files/english-common-words.txt"
   ]
  },
  {
   "cell_type": "markdown",
   "id": "b8d175ea",
   "metadata": {},
   "source": [
    "<div class='alert alert-info'>\n",
    "    \n",
    "Avec la fonction `open()` , on ouvre un fichier et on stocke l’objet fichier dans une variable.\n",
    "\n",
    "</div>"
   ]
  },
  {
   "cell_type": "code",
   "execution_count": null,
   "id": "c70831af",
   "metadata": {
    "ExecuteTime": {
     "end_time": "2022-02-03T10:32:53.112991Z",
     "start_time": "2022-02-03T10:32:53.110329Z"
    }
   },
   "outputs": [],
   "source": [
    "english_word_file = open('english-common-words.txt') "
   ]
  },
  {
   "cell_type": "markdown",
   "id": "d45f81d0",
   "metadata": {},
   "source": [
    "<div class='alert alert-info'>\n",
    "    \n",
    "La méthode `.readlines()`, appelée sur l'objet fichier, va lire les lignes du fichier, et nous renvoyer une liste de chaînes de caractères.\n",
    "    \n",
    "Chaque élément de la liste correspond à une ligne du fichier lu.\n",
    "\n",
    "</div>"
   ]
  },
  {
   "cell_type": "code",
   "execution_count": null,
   "id": "cdcdde31",
   "metadata": {
    "ExecuteTime": {
     "end_time": "2022-02-03T10:32:54.201164Z",
     "start_time": "2022-02-03T10:32:54.196670Z"
    }
   },
   "outputs": [],
   "source": [
    "english_words = english_word_file.readlines()"
   ]
  },
  {
   "cell_type": "markdown",
   "id": "c6beb26c",
   "metadata": {},
   "source": [
    "<div class='alert alert-info'>\n",
    "    \n",
    "Bien penser à fermer le fichier pour libérer la mémoire.\n",
    "\n",
    "</div>"
   ]
  },
  {
   "cell_type": "code",
   "execution_count": null,
   "id": "b241882c",
   "metadata": {
    "ExecuteTime": {
     "end_time": "2022-02-03T10:32:55.065722Z",
     "start_time": "2022-02-03T10:32:55.060767Z"
    }
   },
   "outputs": [],
   "source": [
    "english_word_file.close()"
   ]
  },
  {
   "cell_type": "code",
   "execution_count": null,
   "id": "9ba53ef8",
   "metadata": {
    "ExecuteTime": {
     "end_time": "2022-02-03T10:32:55.581018Z",
     "start_time": "2022-02-03T10:32:55.561218Z"
    }
   },
   "outputs": [],
   "source": [
    "english_words[:10] # visualisation des 10 premiers éléments de la liste, pour jeter un œil"
   ]
  },
  {
   "cell_type": "markdown",
   "id": "1e128c9f",
   "metadata": {},
   "source": [
    "<div class='alert alert-info'>\n",
    "    \n",
    "Chaque chaîne se termine par un caratère spécial `\\n` qui représente la fin d’une ligne.\n",
    "\n",
    "Ce caractère spécial peut nous gêner dans la suite de notre tâche, mais nous pouvons le retirer facilement avec la méthode str.replace() et une compréhension de liste.\n",
    "\n",
    "</div>"
   ]
  },
  {
   "cell_type": "code",
   "execution_count": null,
   "id": "aa97b310",
   "metadata": {
    "ExecuteTime": {
     "end_time": "2022-02-03T10:33:18.053963Z",
     "start_time": "2022-02-03T10:33:18.045094Z"
    }
   },
   "outputs": [],
   "source": [
    "english_words = [word.replace('\\n', '') for word in english_words]\n",
    "english_words[:10] # visualisation des 10 premiers éléments"
   ]
  },
  {
   "cell_type": "markdown",
   "id": "af3850ae",
   "metadata": {},
   "source": [
    "## Imports et exemples de modules utiles"
   ]
  },
  {
   "cell_type": "markdown",
   "id": "737a67e3",
   "metadata": {},
   "source": [
    "<div class='alert alert-info'>\n",
    "    \n",
    "Importer consiste à rendre accessibles des objets ou fonctions pré-écrits dans des modules.\n",
    "    \n",
    "Un module est un fichier python (.py).\n",
    "    \n",
    "Nous allons importer des modules issus de :\n",
    "    \n",
    "- la bibliothèque Python standard : des modules pour les besoins courants, automatiquement installés avec Python\n",
    "- des bibliotèques spécialisées, qui devraient déjà être installées sur votre poste via Anaconda\n",
    "\n",
    "</div>"
   ]
  },
  {
   "cell_type": "markdown",
   "id": "a7bedd5c",
   "metadata": {},
   "source": [
    "### Importer des modules ou des objets inclus dans des modules "
   ]
  },
  {
   "cell_type": "markdown",
   "id": "3a30544d",
   "metadata": {},
   "source": [
    "<div class='alert alert-info'>\n",
    "    \n",
    "La syntaxe d'import peut s'utiliser de 2 façons :\n",
    "    \n",
    "- `import module` : on importe l’ensemble des fonctions et objets du module, accessibles ensuite via `module.objet`\n",
    "- `from module import objet` : on importe un objet spécifique du module, ensuite on peut l'utiliser directement sans préfixer avec le nom du module\n",
    "\n",
    "</div>"
   ]
  },
  {
   "cell_type": "code",
   "execution_count": null,
   "id": "df9f8f06",
   "metadata": {
    "ExecuteTime": {
     "end_time": "2022-02-03T10:34:36.332784Z",
     "start_time": "2022-02-03T10:34:36.326813Z"
    }
   },
   "outputs": [],
   "source": [
    "import math # import du module math entier\n",
    "math.log(10) # accès à la fonction log via math.log()"
   ]
  },
  {
   "cell_type": "code",
   "execution_count": null,
   "id": "9e6b1bf2",
   "metadata": {
    "ExecuteTime": {
     "end_time": "2022-02-03T10:34:37.106883Z",
     "start_time": "2022-02-03T10:34:37.099440Z"
    }
   },
   "outputs": [],
   "source": [
    "from math import pi # import spécifique de la constante pi depuis math\n",
    "pi"
   ]
  },
  {
   "cell_type": "markdown",
   "id": "34067927",
   "metadata": {},
   "source": [
    "<div class='alert alert-danger'>\n",
    "    \n",
    "Vous verrez parfois des imports faits ainsi :\n",
    "\n",
    "`from module import *` \n",
    "\n",
    "C'est à éviter pour plusieurs raisons. Vous importez tout le module, et avez accès à tous ses objets sans préfixer avec le nom du module. Mais :\n",
    "    \n",
    "- vous écrasez potentiellement vous propres variables ou fonctions qui auraient le même nom que des objets définis dans le module importé,\n",
    "- comme vous n'avez plus à préfixer les objets importés, vous ne voyez plus d’où viennent les objets manipulés, ce qui peut rendre la recherche de documentation plus compliquée.\n",
    "</div>"
   ]
  },
  {
   "cell_type": "markdown",
   "id": "151494a4",
   "metadata": {},
   "source": [
    "<div class='alert alert-success'>\n",
    "    \n",
    "Utilisez donc plutôt l'une ou l'autre de ces méthodes :\n",
    "    \n",
    "- `import module` : pour tout importer, accès via le préfixe module.\n",
    "- `from module import objet` : import d'un objet spécifique, accès direct par la suite\n",
    "\n",
    "</div>"
   ]
  },
  {
   "cell_type": "markdown",
   "id": "dc24fee4",
   "metadata": {},
   "source": [
    "<div class='alert alert-info'>\n",
    "    \n",
    "Si un module a un nom un peu long, vous pouvez changer son préfixe au moment de l'import, en faisant :\n",
    "    \n",
    "`import nom_du_module_super_long_et_penible_comme_préfixe as alias`\n",
    "\n",
    "Ou alias est un nom plus commode. Exemple :\n",
    "</div>"
   ]
  },
  {
   "cell_type": "code",
   "execution_count": null,
   "id": "f80e81db",
   "metadata": {
    "ExecuteTime": {
     "end_time": "2022-02-03T10:36:21.666449Z",
     "start_time": "2022-02-03T10:36:20.599276Z"
    }
   },
   "outputs": [],
   "source": [
    "import matplotlib.pyplot as plt # plt est un nom beaucoup plus court pour la suite que matplotlib.pyplot.\n",
    "import numpy as np # numpy est typiquement importé avec ce nom raccourci.\n",
    "\n",
    "\n",
    "x = np.linspace(-np.pi, np.pi, 50) # on génère une série de 50 valeurs pour x comprises entre -π et π\n",
    "y = np.sin(x) # chaque valeur dans x est passée à la fonction sinus, le tout est stocké dans y\n",
    "\n",
    "plt.plot(x,y); # on trace x et y"
   ]
  },
  {
   "cell_type": "markdown",
   "id": "7fe098ba",
   "metadata": {},
   "source": [
    "### Modules utiles\n",
    "\n",
    "#### dans la bibliothèque standard (préinstallée avec Python)\n",
    "\n",
    "La bibliothèque standard est très vaste. Vous pouvez trouver une liste et documentation exhaustive ici : [https://docs.python.org/fr/3/library/](https://docs.python.org/fr/3/library/)\n",
    "\n",
    "Nous allons simplement évoquer certaines d'entre elles et montrer quelques exemples d'usage courant sur les bibliothèques :\n",
    "\n",
    "- [math](https://docs.python.org/fr/3/library/math.html) : fonctions et constantes mathématiques\n",
    "- [datetime](https://docs.python.org/fr/3/library/datetime.html) : fonctions et objets pour les dates et les horaires\n",
    "- [random](https://docs.python.org/fr/3/library/random.html) : fonctions et génération de nombres pseudo-aléatoires\n",
    "- [string](https://docs.python.org/fr/3/library/string.html) : manipulations usuelles sur les chaînes de caractères\n",
    "- [os](https://docs.python.org/fr/3/library/os.html) et [os.path](https://docs.python.org/fr/3/library/os.path.html) : interfaces avec le système d'exploitation et cheminement dans l'arborescence des fichiers\n",
    "- [csv](https://docs.python.org/fr/3/library/csv.html)"
   ]
  },
  {
   "cell_type": "markdown",
   "id": "bb4dc4ca",
   "metadata": {},
   "source": [
    "<div class='alert alert-info'>\n",
    "    \n",
    "Nous avons déjà un peu manipulé des objets issus du module **math.**\n",
    "    \n",
    "Vous y trouverez entre autres des fonctions et constantes telles que :\n",
    "    \n",
    "</div>"
   ]
  },
  {
   "cell_type": "code",
   "execution_count": null,
   "id": "d396ac00",
   "metadata": {},
   "outputs": [],
   "source": [
    "import math\n",
    "\n",
    "math.cos(math.pi)"
   ]
  },
  {
   "cell_type": "code",
   "execution_count": null,
   "id": "27a94dec",
   "metadata": {},
   "outputs": [],
   "source": [
    "math.exp(1)"
   ]
  },
  {
   "cell_type": "code",
   "execution_count": null,
   "id": "207df989",
   "metadata": {},
   "outputs": [],
   "source": [
    "math.log(1)"
   ]
  },
  {
   "cell_type": "code",
   "execution_count": null,
   "id": "f60c1b8f",
   "metadata": {},
   "outputs": [],
   "source": [
    "math.factorial(5)"
   ]
  },
  {
   "cell_type": "code",
   "execution_count": null,
   "id": "25e52a45",
   "metadata": {},
   "outputs": [],
   "source": [
    "math.exp(math.log(5))"
   ]
  },
  {
   "cell_type": "code",
   "execution_count": null,
   "id": "63e96509",
   "metadata": {},
   "outputs": [],
   "source": [
    "x = 5\n",
    "math.isclose(math.exp(math.log(x)), x)"
   ]
  },
  {
   "cell_type": "code",
   "execution_count": null,
   "id": "79bab0fa",
   "metadata": {},
   "outputs": [],
   "source": [
    "math.e "
   ]
  },
  {
   "cell_type": "code",
   "execution_count": null,
   "id": "811a91d7",
   "metadata": {},
   "outputs": [],
   "source": [
    "math.tau # voir https://tauday.com/tau-manifesto"
   ]
  },
  {
   "cell_type": "markdown",
   "id": "bc1181f9",
   "metadata": {},
   "source": [
    "<div class='alert alert-info'>\n",
    "    \n",
    "**datetime** contient des objets utiles pour manipuler des dates, des heures et des laps de temps.\n",
    "    \n",
    "</div>"
   ]
  },
  {
   "cell_type": "code",
   "execution_count": null,
   "id": "c69e657d",
   "metadata": {
    "ExecuteTime": {
     "end_time": "2022-02-03T10:36:45.341966Z",
     "start_time": "2022-02-03T10:36:45.337150Z"
    }
   },
   "outputs": [],
   "source": [
    "import datetime"
   ]
  },
  {
   "cell_type": "code",
   "execution_count": null,
   "id": "68f8abdd",
   "metadata": {
    "ExecuteTime": {
     "end_time": "2022-02-03T10:36:45.728586Z",
     "start_time": "2022-02-03T10:36:45.722137Z"
    }
   },
   "outputs": [],
   "source": [
    "datetime.datetime.now()"
   ]
  },
  {
   "cell_type": "code",
   "execution_count": null,
   "id": "eb881313",
   "metadata": {
    "ExecuteTime": {
     "end_time": "2022-02-03T10:36:46.157903Z",
     "start_time": "2022-02-03T10:36:46.151651Z"
    },
    "scrolled": true
   },
   "outputs": [],
   "source": [
    "demain = datetime.date.today() + datetime.timedelta(days=1)\n",
    "demain"
   ]
  },
  {
   "cell_type": "markdown",
   "id": "b80011e6",
   "metadata": {},
   "source": [
    "<div class='alert alert-info'>\n",
    "    \n",
    "**random** permet de générer des nombres aléatoires, de mélanger des listes, de simuler des tirages aléatoires…\n",
    "    \n",
    "</div>"
   ]
  },
  {
   "cell_type": "code",
   "execution_count": null,
   "id": "a38b6a29",
   "metadata": {
    "ExecuteTime": {
     "end_time": "2022-02-03T10:37:27.365895Z",
     "start_time": "2022-02-03T10:37:27.351154Z"
    }
   },
   "outputs": [],
   "source": [
    "import random \n",
    "\n",
    "def roll_dice(n):\n",
    "    return random.randint(1, n) # nombre au hasard entre 2 bornes incluses\n",
    "\n",
    "roll_dice(20)"
   ]
  },
  {
   "cell_type": "code",
   "execution_count": null,
   "id": "69b120b7",
   "metadata": {
    "ExecuteTime": {
     "end_time": "2022-02-03T10:37:27.645578Z",
     "start_time": "2022-02-03T10:37:27.637253Z"
    }
   },
   "outputs": [],
   "source": [
    "departements = [\n",
    "    'Biosciences', \n",
    "    'Génie Électrique', \n",
    "    'Génie Industriel',\n",
    "    'Génie Civil et Urbanisme', \n",
    "    'Génie Énergétique et environnement',\n",
    "    'Informatique', 'Génie mécanique', \n",
    "    'Science et génie des matériaux',\n",
    "    'Télécommunications, services & usages',\n",
    "]\n",
    "\n",
    "random.shuffle(departements) # mélange d'une liste\n",
    "departements"
   ]
  },
  {
   "cell_type": "code",
   "execution_count": null,
   "id": "583f61aa",
   "metadata": {
    "ExecuteTime": {
     "end_time": "2022-02-03T10:37:32.821784Z",
     "start_time": "2022-02-03T10:37:32.814102Z"
    }
   },
   "outputs": [],
   "source": [
    "random.choice(departements) # choix d'un élément au hasard"
   ]
  },
  {
   "cell_type": "code",
   "execution_count": null,
   "id": "65030ccc",
   "metadata": {
    "ExecuteTime": {
     "end_time": "2022-02-03T10:37:34.386664Z",
     "start_time": "2022-02-03T10:37:34.380272Z"
    }
   },
   "outputs": [],
   "source": [
    "random.sample(departements, 3) # tirage de 3 éléments sans remise"
   ]
  },
  {
   "cell_type": "markdown",
   "id": "636ce926",
   "metadata": {},
   "source": [
    "<div class='alert alert-info'>\n",
    "    \n",
    "**string** contient des constantes et fonctions poussées pour la manipulation et le nettoyage de chaînes de caractères\n",
    "    \n",
    "</div>"
   ]
  },
  {
   "cell_type": "code",
   "execution_count": null,
   "id": "2c45c22b",
   "metadata": {
    "ExecuteTime": {
     "end_time": "2022-02-03T10:37:45.320368Z",
     "start_time": "2022-02-03T10:37:45.315637Z"
    }
   },
   "outputs": [],
   "source": [
    "import string"
   ]
  },
  {
   "cell_type": "code",
   "execution_count": null,
   "id": "fba2a2a3",
   "metadata": {
    "ExecuteTime": {
     "end_time": "2022-02-03T10:37:46.168158Z",
     "start_time": "2022-02-03T10:37:46.162416Z"
    }
   },
   "outputs": [],
   "source": [
    "string.punctuation # chaîne de l'ensemble des caractères considérés comme de la ponctuation"
   ]
  },
  {
   "cell_type": "code",
   "execution_count": null,
   "id": "b42fe740",
   "metadata": {
    "ExecuteTime": {
     "end_time": "2022-02-03T10:37:50.120251Z",
     "start_time": "2022-02-03T10:37:50.115638Z"
    }
   },
   "outputs": [],
   "source": [
    "phrase = 'Cette phrase ; contient des signes, de : ponctuation [parasites! que nous/ souhaitons <= retirer.'"
   ]
  },
  {
   "cell_type": "code",
   "execution_count": null,
   "id": "9ef78167",
   "metadata": {
    "ExecuteTime": {
     "end_time": "2022-02-03T10:39:04.095653Z",
     "start_time": "2022-02-03T10:39:04.088152Z"
    }
   },
   "outputs": [],
   "source": [
    "for punc in string.punctuation:\n",
    "    phrase = phrase.replace(punc, '')\n",
    "phrase.replace('  ', ' ') # remplacement des doubles espaces éventuels"
   ]
  },
  {
   "cell_type": "markdown",
   "id": "7eb431fe",
   "metadata": {},
   "source": [
    "<div class='alert alert-info'>\n",
    "    \n",
    "**os** et **os.path** contiennent des outils pour intéragir avec le système d'exploitation et pour construire et manipuler des chemins d’un fichier à l'autre.\n",
    "    \n",
    "</div>"
   ]
  },
  {
   "cell_type": "code",
   "execution_count": null,
   "id": "37ab1d84",
   "metadata": {
    "ExecuteTime": {
     "end_time": "2022-02-03T10:39:13.115067Z",
     "start_time": "2022-02-03T10:39:13.112706Z"
    }
   },
   "outputs": [],
   "source": [
    "import os"
   ]
  },
  {
   "cell_type": "code",
   "execution_count": null,
   "id": "f2b0961b",
   "metadata": {
    "ExecuteTime": {
     "end_time": "2022-02-03T10:39:13.307576Z",
     "start_time": "2022-02-03T10:39:13.300353Z"
    }
   },
   "outputs": [],
   "source": [
    "os.getcwd() # getcwd = get current working directory : affiche le chemin absolu du dossier où se trouve le notebook"
   ]
  },
  {
   "cell_type": "code",
   "execution_count": null,
   "id": "222557c0",
   "metadata": {
    "ExecuteTime": {
     "end_time": "2022-02-03T10:39:14.000376Z",
     "start_time": "2022-02-03T10:39:13.996605Z"
    }
   },
   "outputs": [],
   "source": [
    "import os.path"
   ]
  },
  {
   "cell_type": "markdown",
   "id": "bee9e26c",
   "metadata": {},
   "source": [
    "<div class='alert alert-info'>\n",
    "La cellule suivante exécute une commande spéciale en JavaScript pour récupérer le nom du notebook et la mettre dans la variable python <b>nb_name</b> .\n",
    "    \n",
    "</div>"
   ]
  },
  {
   "cell_type": "code",
   "execution_count": null,
   "id": "b0dc9499",
   "metadata": {
    "ExecuteTime": {
     "end_time": "2022-02-03T10:39:26.611695Z",
     "start_time": "2022-02-03T10:39:26.602554Z"
    }
   },
   "outputs": [],
   "source": [
    "%%javascript\n",
    "IPython.notebook.kernel.execute('nb_name = \"' + IPython.notebook.notebook_name + '\"')"
   ]
  },
  {
   "cell_type": "markdown",
   "id": "e947796a",
   "metadata": {},
   "source": [
    "<div class='alert alert-info'>\n",
    "    \n",
    "os.path.abspath construit un chemin absolu à partir d'un chemin relatif, ici le nom du notebook lui-même.\n",
    "    \n",
    "</div>"
   ]
  },
  {
   "cell_type": "code",
   "execution_count": null,
   "id": "efc04174",
   "metadata": {
    "ExecuteTime": {
     "end_time": "2022-02-03T10:39:40.875800Z",
     "start_time": "2022-02-03T10:39:40.864281Z"
    }
   },
   "outputs": [],
   "source": [
    "os.path.abspath(nb_name) # chemin absolu du notebook sur votre disque"
   ]
  },
  {
   "cell_type": "markdown",
   "id": "c808662d",
   "metadata": {},
   "source": [
    "#### dans des modules supplémentaires (normalement déjà installés via anaconda)\n",
    "- [numpy](https://numpy.org/) : calcul scientifique\n",
    "- [matplotlib](https://matplotlib.org/) : Visualisations et graphes\n",
    "- [sympy](https://www.sympy.org/en/index.html) : calcul symbolique\n",
    "- [scipy](https://scipy.org/) : algorithmes de calculs scientifiques\n",
    "- [pandas](https://pandas.pydata.org/) : tableaux et analyse de données\n",
    "\n",
    "\n",
    "Ces modules sont vastes et feront l'objet de formations spécifiques.\n",
    "\n",
    "Cependant avec des bases en Python, vous êtes parfaitement capables de creuser leurs documentations pour les utiliser. (Ou de poser votre question dans *Google* puis naviguer les différentes réponses sur *Stack OverFlow* pour trouver une réponse qui fonctionne pour vous).\n",
    "\n",
    "Voici cependant quelques exemples."
   ]
  },
  {
   "cell_type": "markdown",
   "id": "a0ac110e",
   "metadata": {},
   "source": [
    "##### Numpy et Matplotlib : Sinus et Cosinus"
   ]
  },
  {
   "cell_type": "code",
   "execution_count": null,
   "id": "e4f7bea6",
   "metadata": {
    "ExecuteTime": {
     "end_time": "2022-02-03T14:12:52.998926Z",
     "start_time": "2022-02-03T14:12:51.768720Z"
    }
   },
   "outputs": [],
   "source": [
    "import numpy as np\n",
    "import matplotlib.pyplot as plt\n",
    "from matplotlib.ticker import FuncFormatter, MultipleLocator\n",
    "\n",
    "plt.figure(figsize=(16,9))\n",
    "\n",
    "x = np.linspace(-2*np.pi, 2*np.pi, 1000) # on créen un tableau d'échantillons pour x entre 2 bornes\n",
    "\n",
    "plt.plot(x, np.sin(x), label='sin(x)') # on trace x et une fonction appliquée à x\n",
    "\n",
    "plt.plot(x, np.cos(x), label='cos(x)') # la valeur de label sera utilisée dans la légende\n",
    "\n",
    "ax = plt.gca() # récupération de l'axe courant pour accéder ensuite à ses méthodes\n",
    "\n",
    "# pour faire apparaître les axes cartésiens\n",
    "ax.spines['top'].set_color('none')\n",
    "ax.spines['bottom'].set_position('zero')\n",
    "ax.spines['left'].set_position('zero')\n",
    "ax.spines['right'].set_color('none')\n",
    "\n",
    "# garder les axes à la même échelle\n",
    "#plt.axis('equal')\n",
    "\n",
    "plt.ylim(-1.1,1.1)\n",
    "\n",
    "## réduction du nombre de ticks\n",
    "plt.locator_params(axis='x', nbins=3)\n",
    "plt.locator_params(axis='y', nbins=3)\n",
    "\n",
    "# mettre les ticks des abscisses en multiples de π\n",
    "ax.xaxis.set_major_formatter(FuncFormatter(\n",
    "   lambda val,pos: '{:.0g}$\\pi$'.format(val/np.pi) if val !=0 else '0'\n",
    "))\n",
    "ax.xaxis.set_major_locator(MultipleLocator(base=np.pi))\n",
    "\n",
    "plt.legend()\n",
    "plt.show()\n"
   ]
  },
  {
   "cell_type": "markdown",
   "id": "33fc36ca",
   "metadata": {},
   "source": [
    "##### Sympy - Calcul symbolique"
   ]
  },
  {
   "cell_type": "code",
   "execution_count": null,
   "id": "4b2c4317",
   "metadata": {
    "ExecuteTime": {
     "end_time": "2022-02-03T14:14:20.730263Z",
     "start_time": "2022-02-03T14:14:20.224614Z"
    }
   },
   "outputs": [],
   "source": [
    "import sympy\n",
    "sympy.sqrt(3)"
   ]
  },
  {
   "cell_type": "code",
   "execution_count": null,
   "id": "37057404",
   "metadata": {
    "ExecuteTime": {
     "end_time": "2022-02-03T14:14:27.926613Z",
     "start_time": "2022-02-03T14:14:27.713416Z"
    }
   },
   "outputs": [],
   "source": [
    "sympy.sqrt(8)"
   ]
  },
  {
   "cell_type": "code",
   "execution_count": null,
   "id": "266e8394",
   "metadata": {
    "ExecuteTime": {
     "end_time": "2022-02-03T14:14:44.736427Z",
     "start_time": "2022-02-03T14:14:44.728101Z"
    },
    "scrolled": true
   },
   "outputs": [],
   "source": [
    "from sympy import symbols\n",
    "x, y = symbols('x y')\n",
    "expr = x + 2*y\n",
    "expr"
   ]
  },
  {
   "cell_type": "markdown",
   "id": "90360276",
   "metadata": {},
   "source": [
    "<div class ='alert alert-info'>\n",
    "    \n",
    "bla bla\n",
    "    \n",
    "\n",
    "</div>"
   ]
  },
  {
   "cell_type": "code",
   "execution_count": null,
   "id": "02c15b80",
   "metadata": {
    "ExecuteTime": {
     "end_time": "2022-02-03T14:15:24.134008Z",
     "start_time": "2022-02-03T14:15:24.124801Z"
    }
   },
   "outputs": [],
   "source": [
    "expr + 1"
   ]
  },
  {
   "cell_type": "code",
   "execution_count": null,
   "id": "50b16b05",
   "metadata": {
    "ExecuteTime": {
     "end_time": "2022-02-03T14:15:29.292023Z",
     "start_time": "2022-02-03T14:15:29.281713Z"
    }
   },
   "outputs": [],
   "source": [
    "expr * x"
   ]
  },
  {
   "cell_type": "code",
   "execution_count": null,
   "id": "7355c81a",
   "metadata": {
    "ExecuteTime": {
     "end_time": "2022-02-03T14:15:46.367230Z",
     "start_time": "2022-02-03T14:15:46.350175Z"
    }
   },
   "outputs": [],
   "source": [
    "from sympy import expand, factor\n",
    "\n",
    "expanded_expr = expand(x * expr)\n",
    "expanded_expr"
   ]
  },
  {
   "cell_type": "code",
   "execution_count": null,
   "id": "b75e99cb",
   "metadata": {
    "ExecuteTime": {
     "end_time": "2022-02-03T14:16:17.745021Z",
     "start_time": "2022-02-03T14:16:17.732486Z"
    }
   },
   "outputs": [],
   "source": [
    "factor(expanded_expr)"
   ]
  },
  {
   "cell_type": "markdown",
   "id": "220b4c7d",
   "metadata": {},
   "source": [
    "###### Transformation d'une expression symbolique en fonction de calcul"
   ]
  },
  {
   "cell_type": "code",
   "execution_count": null,
   "id": "ca123552",
   "metadata": {
    "ExecuteTime": {
     "end_time": "2022-02-03T15:37:04.798425Z",
     "start_time": "2022-02-03T15:37:04.776939Z"
    }
   },
   "outputs": [],
   "source": [
    "from sympy import sin, cos, symbols, lambdify\n",
    "\n",
    "import numpy as np\n",
    "\n",
    "x = symbols('x')\n",
    "\n",
    "expr = sin(x) + cos(x)\n",
    "expr"
   ]
  },
  {
   "cell_type": "code",
   "execution_count": null,
   "id": "eef0e12e",
   "metadata": {
    "ExecuteTime": {
     "end_time": "2022-02-03T15:37:24.783923Z",
     "start_time": "2022-02-03T15:37:24.723939Z"
    }
   },
   "outputs": [],
   "source": [
    "f = lambdify(x, expr, 'numpy')\n",
    "\n",
    "a = np.array([np.pi, 2*np.pi])\n",
    "\n",
    "f(a)\n"
   ]
  },
  {
   "cell_type": "markdown",
   "id": "760aff09",
   "metadata": {
    "ExecuteTime": {
     "end_time": "2022-02-03T14:16:58.087849Z",
     "start_time": "2022-02-03T14:16:58.083905Z"
    }
   },
   "source": [
    "##### Scipy - Calcul Scientifique"
   ]
  },
  {
   "cell_type": "markdown",
   "id": "091d8f3d",
   "metadata": {},
   "source": [
    "The function quad is provided to integrate a function of one variable between two points. The points can be ( inf) to indicate infinite limits. For example, suppose you wish to integrate a bessel function jv(2.5, x) along the interval "
   ]
  },
  {
   "cell_type": "markdown",
   "id": "bb31f1db",
   "metadata": {},
   "source": [
    "<p>The function <a class=\"reference internal\" href=\"../reference/generated/scipy.integrate.quad.html#scipy.integrate.quad\" title=\"scipy.integrate.quad\"><code class=\"xref py py-obj docutils literal notranslate\"><span class=\"pre\">quad</span></code></a> is provided to integrate a function of one\n",
    "variable between two points. The points can be <span class=\"math notranslate nohighlight\">\\(\\pm\\infty\\)</span>\n",
    "(<span class=\"math notranslate nohighlight\">\\(\\pm\\)</span> <code class=\"docutils literal notranslate\"><span class=\"pre\">inf</span></code>) to indicate infinite limits. For example,\n",
    "suppose you wish to integrate a bessel function <code class=\"docutils literal notranslate\"><span class=\"pre\">jv(2.5,</span> <span class=\"pre\">x)</span></code> along\n",
    "the interval <span class=\"math notranslate nohighlight\">\\([0, 4.5].\\)</span></p>\n",
    "\n",
    "\n",
    "<div class=\"math notranslate nohighlight\">\n",
    "\\[I=\\int_{0}^{4.5}J_{2.5}\\left(x\\right)\\, dx.\\]</div>\n",
    "<p>This could be computed using <a class=\"reference internal\" href=\"../reference/generated/scipy.integrate.quad.html#scipy.integrate.quad\" title=\"scipy.integrate.quad\"><code class=\"xref py py-obj docutils literal notranslate\"><span class=\"pre\">quad</span></code></a>:</p>"
   ]
  },
  {
   "cell_type": "markdown",
   "id": "f1e5b964",
   "metadata": {
    "ExecuteTime": {
     "end_time": "2022-02-03T15:32:05.232079Z",
     "start_time": "2022-02-03T15:32:05.227019Z"
    }
   },
   "source": [
    "###### Intégration"
   ]
  },
  {
   "cell_type": "code",
   "execution_count": null,
   "id": "18e41ae1",
   "metadata": {
    "ExecuteTime": {
     "end_time": "2022-02-03T14:42:54.295624Z",
     "start_time": "2022-02-03T14:42:53.864413Z"
    }
   },
   "outputs": [],
   "source": [
    "import scipy.integrate as integrate\n",
    "\n",
    "import scipy.special as special\n",
    "\n",
    "result = integrate.quad(lambda x: special.jv(2.5,x), 0, 4.5)\n",
    "\n",
    "result\n",
    "(1.1178179380783249, 7.8663172481899801e-09)\n"
   ]
  },
  {
   "cell_type": "code",
   "execution_count": null,
   "id": "9093e553",
   "metadata": {
    "ExecuteTime": {
     "end_time": "2022-02-03T15:12:14.313625Z",
     "start_time": "2022-02-03T15:12:14.301644Z"
    }
   },
   "outputs": [],
   "source": [
    "from scipy.integrate import solve_ivp\n",
    "\n",
    "from scipy.special import gamma, airy\n",
    "\n",
    "y1_0 = +1 / 3**(2 / 3) / gamma(2 / 3)\n",
    "y0_0 = -1 / 3**(1 / 3) / gamma(1 / 3)\n",
    "\n",
    "y0 = [y0_0, y1_0]\n",
    "\n",
    "def func(t, y):\n",
    "\n",
    "    return [t * y[1], y[0]]\n",
    "\n",
    "\n",
    "t_span = [0, 4]\n",
    "sol1 = solve_ivp(func, t_span, y0)\n",
    "\n",
    "print(\"sol1.t: {}\".format(sol1.t))"
   ]
  },
  {
   "cell_type": "markdown",
   "id": "08a4e14c",
   "metadata": {},
   "source": [
    "###### Fast Fourier Transform"
   ]
  },
  {
   "cell_type": "markdown",
   "id": "df29d43e",
   "metadata": {
    "ExecuteTime": {
     "end_time": "2022-02-03T15:16:22.032965Z",
     "start_time": "2022-02-03T15:16:22.026303Z"
    }
   },
   "source": [
    "The FFT $y[k]$ of length of the length-$N$ sequence $x[n]$ is defined as\n",
    "\n",
    "<div class=\"math notranslate nohighlight\">\n",
    "\\[y[k] = \\sum_{n=0}^{N-1} e^{-2 \\pi j \\frac{k n}{N} } x[n] \\, ,\\]</div>\n",
    "\n",
    "and the inverse transform is defined as follows\n",
    "\n",
    "<div class=\"math notranslate nohighlight\">\n",
    "\\[x[n] = \\frac{1}{N} \\sum_{k=0}^{N-1} e^{2 \\pi j \\frac{k n}{N} } y[k] \\, .\\]</div>\n",
    "\n",
    "These transforms can be calculated by means of `fft` and `ifft`, respectively, as shown in the following example."
   ]
  },
  {
   "cell_type": "code",
   "execution_count": null,
   "id": "29f16d87",
   "metadata": {
    "ExecuteTime": {
     "end_time": "2022-02-03T15:19:53.388632Z",
     "start_time": "2022-02-03T15:19:53.374704Z"
    }
   },
   "outputs": [],
   "source": [
    "from scipy.fft import fft, ifft\n",
    "\n",
    "x = np.array([1.0, 2.0, 1.0, -1.0, 1.5])\n",
    "\n",
    "y = fft(x)\n",
    "\n",
    "y"
   ]
  },
  {
   "cell_type": "markdown",
   "id": "18de5728",
   "metadata": {},
   "source": [
    "###### Intégrales multiples"
   ]
  },
  {
   "cell_type": "markdown",
   "id": "546a87f8",
   "metadata": {},
   "source": [
    "<p>The integral from above</p>\n",
    "<div class=\"math notranslate nohighlight\">\n",
    "\\[I_{n}=\\int_{0}^{\\infty}\\int_{1}^{\\infty}\\frac{e^{-xt}}{t^{n}}\\, dt\\, dx=\\frac{1}{n}\\]</div>\n",
    "<p>can be calculated as</p>"
   ]
  },
  {
   "cell_type": "code",
   "execution_count": null,
   "id": "a7d28499",
   "metadata": {
    "ExecuteTime": {
     "end_time": "2022-02-03T15:26:21.685788Z",
     "start_time": "2022-02-03T15:26:21.628992Z"
    }
   },
   "outputs": [],
   "source": [
    "from scipy import integrate\n",
    "\n",
    "N = 5\n",
    "\n",
    "\n",
    "def f(t, x):\n",
    "    return np.exp(-x * t) / t**N\n",
    "\n",
    "\n",
    "integrate.nquad(f, [[1, np.inf], [0, np.inf]])"
   ]
  },
  {
   "cell_type": "markdown",
   "id": "0627403c",
   "metadata": {
    "ExecuteTime": {
     "end_time": "2022-02-03T15:34:18.410887Z",
     "start_time": "2022-02-03T15:34:18.407606Z"
    }
   },
   "source": [
    "##### Tableaux et analyse de données avec Pandas"
   ]
  },
  {
   "cell_type": "code",
   "execution_count": null,
   "id": "a0fc2458",
   "metadata": {
    "ExecuteTime": {
     "end_time": "2022-02-03T15:34:35.025701Z",
     "start_time": "2022-02-03T15:34:34.599078Z"
    }
   },
   "outputs": [],
   "source": [
    "import pandas as pd"
   ]
  },
  {
   "cell_type": "code",
   "execution_count": null,
   "id": "fe7baaba",
   "metadata": {
    "ExecuteTime": {
     "end_time": "2022-02-03T15:44:10.634583Z",
     "start_time": "2022-02-03T15:44:09.568192Z"
    }
   },
   "outputs": [],
   "source": [
    "!wget https://raw.githubusercontent.com/pandas-dev/pandas/main/doc/data/titanic.csv"
   ]
  },
  {
   "cell_type": "code",
   "execution_count": null,
   "id": "9e102f13",
   "metadata": {
    "ExecuteTime": {
     "end_time": "2022-02-03T15:44:11.464181Z",
     "start_time": "2022-02-03T15:44:11.406066Z"
    }
   },
   "outputs": [],
   "source": [
    "csv_file_path = 'titanic.csv'\n",
    "df = pd.read_csv(csv_file_path)\n",
    "df.head()"
   ]
  },
  {
   "cell_type": "code",
   "execution_count": null,
   "id": "5bdf866c",
   "metadata": {
    "ExecuteTime": {
     "end_time": "2022-02-03T15:45:26.438835Z",
     "start_time": "2022-02-03T15:45:26.410526Z"
    }
   },
   "outputs": [],
   "source": [
    "df[['Age', 'Fare']].describe()"
   ]
  },
  {
   "cell_type": "code",
   "execution_count": null,
   "id": "c40db2d7",
   "metadata": {
    "ExecuteTime": {
     "end_time": "2022-02-03T15:44:34.546333Z",
     "start_time": "2022-02-03T15:44:34.538893Z"
    }
   },
   "outputs": [],
   "source": [
    "df.Fare.mean()"
   ]
  },
  {
   "cell_type": "code",
   "execution_count": null,
   "id": "cc9c4e61",
   "metadata": {
    "ExecuteTime": {
     "end_time": "2022-02-03T15:44:44.444540Z",
     "start_time": "2022-02-03T15:44:44.436320Z"
    }
   },
   "outputs": [],
   "source": [
    "df.Age.std()"
   ]
  },
  {
   "cell_type": "markdown",
   "id": "7fd19e33",
   "metadata": {},
   "source": [
    "<div class='alert alert-success'>\n",
    "    \n",
    "🎉 Vous êtes arrivé·e au bout de ce module, félicitations ! 🎉\n",
    "\n",
    "</div>"
   ]
  },
  {
   "cell_type": "markdown",
   "id": "7f48a393",
   "metadata": {},
   "source": [
    "<div class='alert alert-success'>\n",
    "    \n",
    "Vous pouvez passer au [notebook d'exercices](../exercices/exercices_niveau_intermediaire.ipynb) pour mettre toutes ces connaissances en pratique… 💪\n",
    "    \n",
    "</div>"
   ]
  }
 ],
 "metadata": {
  "kernelspec": {
   "display_name": "Python 3 (ipykernel)",
   "language": "python",
   "name": "python3"
  },
  "language_info": {
   "codemirror_mode": {
    "name": "ipython",
    "version": 3
   },
   "file_extension": ".py",
   "mimetype": "text/x-python",
   "name": "python",
   "nbconvert_exporter": "python",
   "pygments_lexer": "ipython3",
   "version": "3.10.0rc1"
  },
  "toc": {
   "base_numbering": 1,
   "nav_menu": {},
   "number_sections": true,
   "sideBar": true,
   "skip_h1_title": true,
   "title_cell": "Table des matières",
   "title_sidebar": "Contenu",
   "toc_cell": true,
   "toc_position": {
    "height": "calc(100% - 180px)",
    "left": "10px",
    "top": "150px",
    "width": "225.2px"
   },
   "toc_section_display": true,
   "toc_window_display": true
  }
 },
 "nbformat": 4,
 "nbformat_minor": 5
}
