{
 "cells": [
  {
   "cell_type": "markdown",
   "id": "9afd47c8",
   "metadata": {
    "toc": true
   },
   "source": [
    "<h1>Table des matières<span class=\"tocSkip\"></span></h1>\n",
    "<div class=\"toc\"><ul class=\"toc-item\"><li><span><a href=\"#Récapitulatif-des-notions-vues-dans-le-module-précédent\" data-toc-modified-id=\"Récapitulatif-des-notions-vues-dans-le-module-précédent-1\"><span class=\"toc-item-num\">1&nbsp;&nbsp;</span>Récapitulatif des notions vues dans le module précédent</a></span></li><li><span><a href=\"#Les-listes-en-compréhension\" data-toc-modified-id=\"Les-listes-en-compréhension-2\"><span class=\"toc-item-num\">2&nbsp;&nbsp;</span>Les listes en compréhension</a></span></li><li><span><a href=\"#Les-dictionnaires-en-compréhension\" data-toc-modified-id=\"Les-dictionnaires-en-compréhension-3\"><span class=\"toc-item-num\">3&nbsp;&nbsp;</span>Les dictionnaires en compréhension</a></span></li><li><span><a href=\"#Lire-et-écrire-dans-des-fichiers\" data-toc-modified-id=\"Lire-et-écrire-dans-des-fichiers-4\"><span class=\"toc-item-num\">4&nbsp;&nbsp;</span>Lire et écrire dans des fichiers</a></span><ul class=\"toc-item\"><li><span><a href=\"#Ouvrir-un-fichier-et-écrire-dedans\" data-toc-modified-id=\"Ouvrir-un-fichier-et-écrire-dedans-4.1\"><span class=\"toc-item-num\">4.1&nbsp;&nbsp;</span>Ouvrir un fichier et écrire dedans</a></span></li><li><span><a href=\"#Ouvrir-un-fichier-et-lire-son-contenu\" data-toc-modified-id=\"Ouvrir-un-fichier-et-lire-son-contenu-4.2\"><span class=\"toc-item-num\">4.2&nbsp;&nbsp;</span>Ouvrir un fichier et lire son contenu</a></span></li></ul></li><li><span><a href=\"#Imports-et-exemples-de-modules-utiles\" data-toc-modified-id=\"Imports-et-exemples-de-modules-utiles-5\"><span class=\"toc-item-num\">5&nbsp;&nbsp;</span>Imports et exemples de modules utiles</a></span><ul class=\"toc-item\"><li><span><a href=\"#Importer-des-modules-ou-des-objets-inclus-dans-des-modules\" data-toc-modified-id=\"Importer-des-modules-ou-des-objets-inclus-dans-des-modules-5.1\"><span class=\"toc-item-num\">5.1&nbsp;&nbsp;</span>Importer des modules ou des objets inclus dans des modules</a></span></li><li><span><a href=\"#Modules-utiles\" data-toc-modified-id=\"Modules-utiles-5.2\"><span class=\"toc-item-num\">5.2&nbsp;&nbsp;</span>Modules utiles</a></span><ul class=\"toc-item\"><li><span><a href=\"#dans-la-bibliothèque-standard-(préinstallée-avec-Python)\" data-toc-modified-id=\"dans-la-bibliothèque-standard-(préinstallée-avec-Python)-5.2.1\"><span class=\"toc-item-num\">5.2.1&nbsp;&nbsp;</span>dans la bibliothèque standard (préinstallée avec Python)</a></span></li><li><span><a href=\"#dans-des-modules-supplémentaires-(normalement-déjà-installés-via-anaconda)\" data-toc-modified-id=\"dans-des-modules-supplémentaires-(normalement-déjà-installés-via-anaconda)-5.2.2\"><span class=\"toc-item-num\">5.2.2&nbsp;&nbsp;</span>dans des modules supplémentaires (normalement déjà installés via anaconda)</a></span></li></ul></li></ul></li></ul></div>"
   ]
  },
  {
   "cell_type": "markdown",
   "id": "bccadeb4",
   "metadata": {
    "ExecuteTime": {
     "end_time": "2022-01-18T08:22:26.693572Z",
     "start_time": "2022-01-18T08:22:26.686858Z"
    }
   },
   "source": [
    "<div class=\"alert alert-success\">Ce document est un Notebook Jupyter. Il est concu pour que vous exécutiez les cellules pour faire apparaître leur résultat juste en dessous. \n",
    "Le raccourci clavier pour exécuter une cellule et passer le contrôle à la suivante est <b>Shift + Entrée</b></div>"
   ]
  },
  {
   "cell_type": "markdown",
   "id": "9f6a3eec",
   "metadata": {
    "ExecuteTime": {
     "end_time": "2022-01-17T16:26:08.455525Z",
     "start_time": "2022-01-17T16:26:08.450289Z"
    }
   },
   "source": [
    "# Python - Niveau Intermédiaire"
   ]
  },
  {
   "cell_type": "markdown",
   "id": "947f3e0d",
   "metadata": {},
   "source": [
    "## Récapitulatif des notions vues dans le module précédent"
   ]
  },
  {
   "cell_type": "markdown",
   "id": "7983b605",
   "metadata": {},
   "source": [
    "\n",
    "Dans le module d’introduction à Python, nous avons vu les notions suivantes :\n",
    "\n",
    "- les variables\n",
    "- les types de base : str, lst, tuple, dict, int, float, complex\n",
    "- l’exécution conditionnelle\n",
    "- les boucles for et while\n",
    "- les fonctions\n",
    "- les principales méthodes des types de base\n",
    "\n"
   ]
  },
  {
   "cell_type": "markdown",
   "id": "85a67f9a",
   "metadata": {},
   "source": [
    "Dans ce module, nous allons étendre cet arsenal avec :\n",
    "\n",
    "- les listes en compréhension\n",
    "- les dictionnaires en compréhension\n",
    "- lire et écrire dans des fichiers\n",
    "- importer des fonctions et objets à partir de modules et quelques exemples de modules utiles"
   ]
  },
  {
   "cell_type": "markdown",
   "id": "25fb1ae9",
   "metadata": {},
   "source": [
    "## Les listes en compréhension"
   ]
  },
  {
   "cell_type": "markdown",
   "id": "c15e15f0",
   "metadata": {},
   "source": [
    "<div class='alert alert-info'>\n",
    "Il est très fréquent d’avoir à créer une liste à partir d’un objet itérable, en :\n",
    "    \n",
    "1. créant une liste vide\n",
    "2. itérant sur la première séquence\n",
    "3. transformant ou sélectionnant les objets issus de l'itération\n",
    "4. ajoutant les objets voulus au fur et à mesure dans la nouvelle liste\n",
    " \n",
    "Par exemple, pour créer une liste d'entiers pairs de 0 à 40 :\n",
    "</div>"
   ]
  },
  {
   "cell_type": "code",
   "execution_count": null,
   "id": "35d53b54",
   "metadata": {},
   "outputs": [],
   "source": [
    "pairs = [] # on crée une liste vide\n",
    "for n in range(21): # on itère sur range(0, 21)\n",
    "    pairs.append(n*2) # on double le nombre itéré et on l'ajoute à la fin de notre nouvelle liste\n",
    "pairs"
   ]
  },
  {
   "cell_type": "markdown",
   "id": "08d53635",
   "metadata": {},
   "source": [
    "<div class='alert alert-info'>\n",
    "<p>Une liste en compréhension est un raccourci pour créer une nouvelle liste à partir d'un itérable sans expliciter toute ces étapes.</p>\n",
    "    \n",
    "<p>Le résultat de la cellule ci-dessous est strictement identique à celle du dessus. Le temps d'exécution est essentiellement le même, seule la syntaxe change.</p>\n",
    "</div>"
   ]
  },
  {
   "cell_type": "code",
   "execution_count": null,
   "id": "5e1d29bc",
   "metadata": {},
   "outputs": [],
   "source": [
    "[n * 2 for n in range(21)]"
   ]
  },
  {
   "cell_type": "markdown",
   "id": "bbfc14b6",
   "metadata": {},
   "source": [
    "<div class='alert alert-info'>\n",
    "    <p> La syntaxe peut se généraliser en :</p>\n",
    "  \n",
    "<p><b>[ transformation1(item) for item in iterable if condition ]</b> si la condition doit filtrer les items du premier itérable qui sont considérés</p>\n",
    "    \n",
    "<p><b>[ transformation1(item) if condition else transformation2(item) for item in iterable ]</b> si on applique une transformation ou une autre, en prenant tous les objets de l'itérable.</p>\n",
    "    \n",
    "<p><b>transformation1</b> et <b>transformation2</b> représentent toute opération que l'on peut appliquer à notre variable d'itération avant de l’ajouter à notre nouvelle liste.</p>\n",
    "</div>"
   ]
  },
  {
   "cell_type": "markdown",
   "id": "0be8d077",
   "metadata": {},
   "source": [
    "<div class='alert alert-info'>\n",
    "    <p> Exemple du premier cas :</p>\n",
    "  \n",
    "<p><b>[ transformation1(item) for item in iterable if condition ]</b> si la condition doit filtrer les items du premier itérable qui sont considérés.</p>\n",
    "    \n",
    "<p>Je veux créer une liste des doubles de mon premier itérable, mais seulement si le terme initial est impair :</p>\n",
    "</div>"
   ]
  },
  {
   "cell_type": "code",
   "execution_count": null,
   "id": "1d5b1c34",
   "metadata": {},
   "outputs": [],
   "source": [
    "[n * 2 for n in range(20) if n % 2 == 1]"
   ]
  },
  {
   "cell_type": "markdown",
   "id": "31a1df94",
   "metadata": {},
   "source": [
    "<div class='alert alert-info'>\n",
    "    <p> Exemple du second cas :</p>\n",
    "    \n",
    "<p><b>[ transformation1(item) if condition else transformation2(item) for item in iterable ]</b> si on applique une transformation ou une autre, en prenant tous les objets de l'itérable.</p>\n",
    "\n",
    "<p>Imaginons que dans une chaîne de caractères représentant une phrase, je veuille inverser les mots de 3 lettres ou plus, et laisser tels quels les mots de 2 lettres ou moins. \n",
    "    </p>\n",
    "</div>"
   ]
  },
  {
   "cell_type": "code",
   "execution_count": null,
   "id": "d5be39b6",
   "metadata": {},
   "outputs": [],
   "source": [
    "phrase = 'Je suis mon cher ami très heureux de te voir'\n",
    "\n",
    "mots = phrase.split()  # transformation de la phrase en liste de mots\n",
    "\n",
    "liste = [mot[::-1] if len(mot) >= 3 else mot for mot in mots]  # compréhension de liste avec une transformation\n",
    "\" \".join(liste)  # on rassemble notre liste de mots en une seule chaîne de caractères"
   ]
  },
  {
   "cell_type": "markdown",
   "id": "45ecfb09",
   "metadata": {},
   "source": [
    "## Les dictionnaires en compréhension"
   ]
  },
  {
   "cell_type": "markdown",
   "id": "dfadb7da",
   "metadata": {},
   "source": [
    "<div class='alert alert-info'>\n",
    "   \n",
    "<p> Le concept est similaire aux listes en compréhension, mais l’objectif est de créer un dictionnaire à partir de deux itérables, contenant respectivement les clés et les valeurs.</p>\n",
    "  \n",
    "<p><b>{key: value for k, v in zip(iterable1, iterable2}</b> </p>\n",
    "   \n",
    "<p>Ici la fonction zip parcourt les 2 itérables pour nous et nous renvoie chaque clé et chaque valeur ensemble dans un tuple.</p>\n",
    "  \n",
    "</div>"
   ]
  },
  {
   "cell_type": "code",
   "execution_count": null,
   "id": "491c1033",
   "metadata": {},
   "outputs": [],
   "source": [
    "clés = ['Nom', 'Prénom', 'Titre', 'Résidence']\n",
    "valeurs = ['pendragon', 'arthur', 'roi des bretons', 'camelot' ]\n",
    "\n",
    "{k: v for k, v in zip(clés, valeurs)}"
   ]
  },
  {
   "cell_type": "markdown",
   "id": "97034ecc",
   "metadata": {},
   "source": [
    "<div class='alert alert-warning'>\n",
    "    <p> Si l’on a aucune transformation à faire comme dans l'exemple simple vu ci-dessus, on peut se contenter d’utiliser le contructeur de dictionnaire <b>dict()</b> en lui passant le <b>zip()</b> des deux listes.</p>\n",
    "  \n",
    "</div>"
   ]
  },
  {
   "cell_type": "code",
   "execution_count": null,
   "id": "b78149a1",
   "metadata": {
    "scrolled": true
   },
   "outputs": [],
   "source": [
    "dict(zip(clés, valeurs))"
   ]
  },
  {
   "cell_type": "markdown",
   "id": "b5d1ef59",
   "metadata": {},
   "source": [
    "<div class='alert alert-warning'>\n",
    "<p> Mais si au contraire on veut modifier les éléments venant des listes d'origine tout en constituant notre dico, la compréhension s’impose :</p>\n",
    "  \n",
    "</div>"
   ]
  },
  {
   "cell_type": "code",
   "execution_count": null,
   "id": "54d3a7f0",
   "metadata": {},
   "outputs": [],
   "source": [
    "{k.lower(): v.title() for k,v in zip(clés, valeurs)}"
   ]
  },
  {
   "cell_type": "markdown",
   "id": "cb0ad39d",
   "metadata": {},
   "source": [
    "<div class='alert alert-success'>\n",
    "    \n",
    "Un exemple d’usage des dictionnaires en compréhension est de créer un dictionnaire qui est l'inverse du dictionnaire d'origine, pour trouver une clé en fonction de sa valeur, ce qui est l'inverse du fonctionnement classique.\n",
    "    \n",
    " \n",
    "</div>"
   ]
  },
  {
   "cell_type": "code",
   "execution_count": null,
   "id": "236a8c28",
   "metadata": {
    "ExecuteTime": {
     "end_time": "2022-02-03T10:25:23.784751Z",
     "start_time": "2022-02-03T10:25:23.776081Z"
    }
   },
   "outputs": [],
   "source": [
    "notes = {\"Pierre\": 10, 'Paul':8, 'Jacques':18}\n",
    "\n",
    "# on cherche la valeur maximale dans les valeurs avec max() appelée sur dict.values()\n",
    "meilleure_note = max(notes.values())\n",
    "\n",
    "# on crée un dico inversé. L'inversion est faite par les variables  v:k for k,v dans la compréhension\n",
    "inv_notes = {v:k for k, v in notes.items()}\n",
    "\n",
    "# on peut aller chercher l'élève avec la meilleure note dans le dico inversé\n",
    "meilleur_eleve = inv_notes.get(meilleure_note) \n",
    "\n",
    "f\"{meilleur_eleve} a eu la meilleure note avec {meilleure_note}.\""
   ]
  },
  {
   "cell_type": "markdown",
   "id": "ed10fbbd",
   "metadata": {},
   "source": [
    "<div class='alert alert-warning'>\n",
    "    \n",
    "Attention cependant, notre dictionnaire inversé ne sera pas aussi long que l'original si certaines valeurs sont dupliquées, car les clés du dictionnaire inversé ne seront pas uniques.\n",
    "  \n",
    "</div>"
   ]
  },
  {
   "cell_type": "code",
   "execution_count": null,
   "id": "4bcab169",
   "metadata": {
    "ExecuteTime": {
     "end_time": "2022-02-03T10:29:16.345816Z",
     "start_time": "2022-02-03T10:29:16.335880Z"
    }
   },
   "outputs": [],
   "source": [
    "notes = {\"Pierre\": 18, 'Paul':18, 'Jacques': 18}\n",
    "\n",
    "# on cherche la valeur maximale dans les valeurs avec max() appelée sur dict.values()\n",
    "meilleure_note = max(notes.values())\n",
    "\n",
    "# on crée un dico inversé. L'inversion est faite par les variables  v:k for k,v dans la compréhension\n",
    "inv_notes = {v:k for k, v in notes.items()}\n",
    "\n",
    "# on peut aller chercher l'élève avec la meilleure note dans le dico inversé\n",
    "meilleur_eleve = inv_notes.get(meilleure_note) \n",
    "\n",
    "print(f\"{meilleur_eleve} a eu la meilleure note avec {meilleure_note}.\")\n",
    "print(f\"{inv_notes=}\")\n"
   ]
  },
  {
   "cell_type": "markdown",
   "id": "612a679d",
   "metadata": {},
   "source": [
    "## Lire et écrire dans des fichiers"
   ]
  },
  {
   "cell_type": "markdown",
   "id": "975b7c34",
   "metadata": {},
   "source": [
    "### Ouvrir un fichier et écrire dedans"
   ]
  },
  {
   "cell_type": "markdown",
   "id": "3f7da2dc",
   "metadata": {},
   "source": [
    "<div class='alert alert-info'>\n",
    "Parfois les données qui nous intéressent sont dans des fichiers, ou bien nous souhaitons écrire le résultat de nos calculs dans un fichier.\n",
    "    \n",
    "Pour ouvrir un fichier existant, ou un créer un nouveau, nous utilisons la fonction open(), qui prend **2 arguments** : \n",
    "    \n",
    "- un nom de fichier (str) \n",
    "- et un mode (str)\n",
    "\n",
    "Le nom de fichier est une chaîne de caractère qui représente le chemin relatif ou absolu depuis le notebook jusqu’au fichier. Pour un fichier situé dans le même dossier que le notebook, un simple nom de fichier suffit.\n",
    "    \n",
    "Le mode peut avoir 3 valeurs : \n",
    "    \n",
    "- **'r'** pour read-only, \n",
    "- **'a'** pour append (ajouter à la fin d'un fichier existant), \n",
    "- **'w'** pour write : réécrire complètement le contenu d'un fichier existant.\n",
    "    \n",
    "</div>"
   ]
  },
  {
   "cell_type": "markdown",
   "id": "edfc9591",
   "metadata": {},
   "source": [
    "<div class='alert alert-info'>\n",
    "Vous devriez avoir un onglet de votre navigateur ouvert à côté de celui-ci, qui liste les différents fichiers qui se trouvent dans le même dossier que ce notebook.\n",
    "\n",
    "Normalement, ce dossier ne contient aucun fichier se terminant en '.txt'\n",
    "</div>"
   ]
  },
  {
   "cell_type": "markdown",
   "id": "86ef25bc",
   "metadata": {},
   "source": [
    "<div class='alert alert-info'>\n",
    "    \n",
    "Avec la fonction `open()` , on ouvre un fichier, ou on le crée s'il n’existait pas.\n",
    "    \n",
    "NB : la fonction `open()` renvoie un objet de type fichier, il faut le stocker dans une variable puis utiliser ses méthodes.\n",
    "\n",
    "</div>"
   ]
  },
  {
   "cell_type": "code",
   "execution_count": null,
   "id": "fad804b9",
   "metadata": {},
   "outputs": [],
   "source": [
    "fichier = open(file='mon_fichier.txt', mode='w') # on ouvre un fichier et on stocke l'objet dans une variable\n"
   ]
  },
  {
   "cell_type": "markdown",
   "id": "ca9565cf",
   "metadata": {},
   "source": [
    "<div class='alert alert-info'>\n",
    "    \n",
    "La méthode `.write()` de l'objet fichier permet d'écrire dans le fichier.\n",
    "    \n",
    "</div>"
   ]
  },
  {
   "cell_type": "code",
   "execution_count": null,
   "id": "b7ac0d4e",
   "metadata": {},
   "outputs": [],
   "source": [
    "fichier.write('Hello World!') # on écrit une chaîne de caractères dans l'objet\n",
    "# La fonction renvoie un nombre entier : le nombre de caractères écrits. On peut l'ignorer."
   ]
  },
  {
   "cell_type": "markdown",
   "id": "3f5295ca",
   "metadata": {},
   "source": [
    "<div class='alert alert-info'>\n",
    "    \n",
    "Enfin on ferme notre fichier avec la méthode `.close()` sur l'objet fichier. \n",
    "    \n",
    "NB : l’écriture sur le disque dur a vraiment lieu à ce moment là.\n",
    "    \n",
    "</div>"
   ]
  },
  {
   "cell_type": "code",
   "execution_count": null,
   "id": "514a453c",
   "metadata": {},
   "outputs": [],
   "source": [
    "fichier.close()"
   ]
  },
  {
   "cell_type": "markdown",
   "id": "c61cab86",
   "metadata": {},
   "source": [
    "<div class='alert alert-info'>\n",
    "Retournez dans l'onglet de Jupyter qui liste les fichiers et vous devriez y trouver le fichier que vous venez d’ouvrir puis fermer. Vous pouvez cliquer dessus pour l’ouvrir dans le navigateur et voir son contenu.\n",
    "</div>"
   ]
  },
  {
   "cell_type": "markdown",
   "id": "3502d148",
   "metadata": {},
   "source": [
    "### Ouvrir un fichier et lire son contenu"
   ]
  },
  {
   "cell_type": "markdown",
   "id": "fc3a5e3a",
   "metadata": {},
   "source": [
    "<div class='alert alert-info'>\n",
    "Nous allons télécharger un petit fichier texte, qui va se mettre dans le même dossier que ce notebook.\n",
    "\n",
    "Le point d'exclamation en début de cellule fait exécuter la commande qui suit directement au système, et non pas à Python.\n",
    "</div>\n"
   ]
  },
  {
   "cell_type": "code",
   "execution_count": null,
   "id": "96e19fd4",
   "metadata": {
    "ExecuteTime": {
     "end_time": "2022-02-03T10:32:51.500690Z",
     "start_time": "2022-02-03T10:32:50.678317Z"
    }
   },
   "outputs": [],
   "source": [
    "!wget https://python.sdv.univ-paris-diderot.fr/data-files/english-common-words.txt"
   ]
  },
  {
   "cell_type": "markdown",
   "id": "b8d175ea",
   "metadata": {},
   "source": [
    "<div class='alert alert-info'>\n",
    "    \n",
    "Avec la fonction `open()` , on ouvre un fichier et on stocke l’objet fichier dans une variable.\n",
    "\n",
    "</div>"
   ]
  },
  {
   "cell_type": "code",
   "execution_count": null,
   "id": "c70831af",
   "metadata": {
    "ExecuteTime": {
     "end_time": "2022-02-03T10:32:53.112991Z",
     "start_time": "2022-02-03T10:32:53.110329Z"
    }
   },
   "outputs": [],
   "source": [
    "english_word_file = open('english-common-words.txt') "
   ]
  },
  {
   "cell_type": "markdown",
   "id": "d45f81d0",
   "metadata": {},
   "source": [
    "<div class='alert alert-info'>\n",
    "    \n",
    "La méthode `.readlines()`, appelée sur l'objet fichier, va lire les lignes du fichier, et nous renvoyer une liste de chaînes de caractères.\n",
    "    \n",
    "Chaque élément de la liste correspond à une ligne du fichier lu.\n",
    "\n",
    "</div>"
   ]
  },
  {
   "cell_type": "code",
   "execution_count": null,
   "id": "cdcdde31",
   "metadata": {
    "ExecuteTime": {
     "end_time": "2022-02-03T10:32:54.201164Z",
     "start_time": "2022-02-03T10:32:54.196670Z"
    }
   },
   "outputs": [],
   "source": [
    "english_words = english_word_file.readlines()"
   ]
  },
  {
   "cell_type": "markdown",
   "id": "c6beb26c",
   "metadata": {},
   "source": [
    "<div class='alert alert-info'>\n",
    "    \n",
    "Bien penser à fermer le fichier pour libérer la mémoire.\n",
    "\n",
    "</div>"
   ]
  },
  {
   "cell_type": "code",
   "execution_count": null,
   "id": "b241882c",
   "metadata": {
    "ExecuteTime": {
     "end_time": "2022-02-03T10:32:55.065722Z",
     "start_time": "2022-02-03T10:32:55.060767Z"
    }
   },
   "outputs": [],
   "source": [
    "english_word_file.close()"
   ]
  },
  {
   "cell_type": "code",
   "execution_count": null,
   "id": "9ba53ef8",
   "metadata": {
    "ExecuteTime": {
     "end_time": "2022-02-03T10:32:55.581018Z",
     "start_time": "2022-02-03T10:32:55.561218Z"
    }
   },
   "outputs": [],
   "source": [
    "english_words[:10] # visualisation des 10 premiers éléments de la liste, pour jeter un œil"
   ]
  },
  {
   "cell_type": "markdown",
   "id": "1e128c9f",
   "metadata": {},
   "source": [
    "<div class='alert alert-info'>\n",
    "    \n",
    "Chaque chaîne se termine par un caratère spécial `\\n` qui représente la fin d’une ligne.\n",
    "\n",
    "Ce caractère spécial peut nous gêner dans la suite de notre tâche, mais nous pouvons le retirer facilement avec la méthode str.replace() et une compréhension de liste.\n",
    "\n",
    "</div>"
   ]
  },
  {
   "cell_type": "code",
   "execution_count": null,
   "id": "aa97b310",
   "metadata": {
    "ExecuteTime": {
     "end_time": "2022-02-03T10:33:18.053963Z",
     "start_time": "2022-02-03T10:33:18.045094Z"
    }
   },
   "outputs": [],
   "source": [
    "english_words = [word.replace('\\n', '') for word in english_words]\n",
    "english_words[:10] # visualisation des 10 premiers éléments"
   ]
  },
  {
   "cell_type": "markdown",
   "id": "af3850ae",
   "metadata": {},
   "source": [
    "## Imports et exemples de modules utiles"
   ]
  },
  {
   "cell_type": "markdown",
   "id": "737a67e3",
   "metadata": {},
   "source": [
    "<div class='alert alert-info'>\n",
    "    \n",
    "Importer consiste à rendre accessibles des objets ou fonctions pré-écrits dans des modules.\n",
    "    \n",
    "Un module est un fichier python (.py).\n",
    "    \n",
    "Nous allons importer des modules issus de :\n",
    "    \n",
    "- la bibliothèque Python standard : des modules pour les besoins courants, automatiquement installés avec Python\n",
    "- des bibliotèques spécialisées, qui devraient déjà être installées sur votre poste via Anaconda\n",
    "\n",
    "</div>"
   ]
  },
  {
   "cell_type": "markdown",
   "id": "a7bedd5c",
   "metadata": {},
   "source": [
    "### Importer des modules ou des objets inclus dans des modules "
   ]
  },
  {
   "cell_type": "markdown",
   "id": "3a30544d",
   "metadata": {},
   "source": [
    "<div class='alert alert-info'>\n",
    "    \n",
    "La syntaxe d'import peut s'utiliser de 2 façons :\n",
    "    \n",
    "- `import module` : on importe l’ensemble des fonctions et objets du module, accessibles ensuite via `module.objet`\n",
    "- `from module import objet` : on importe un objet spécifique du module, ensuite on peut l'utiliser directement sans préfixer avec le nom du module\n",
    "\n",
    "</div>"
   ]
  },
  {
   "cell_type": "code",
   "execution_count": null,
   "id": "df9f8f06",
   "metadata": {
    "ExecuteTime": {
     "end_time": "2022-02-03T10:34:36.332784Z",
     "start_time": "2022-02-03T10:34:36.326813Z"
    }
   },
   "outputs": [],
   "source": [
    "import math # import du module math entier\n",
    "math.log(10) # accès à la fonction log via math.log()"
   ]
  },
  {
   "cell_type": "code",
   "execution_count": null,
   "id": "9e6b1bf2",
   "metadata": {
    "ExecuteTime": {
     "end_time": "2022-02-03T10:34:37.106883Z",
     "start_time": "2022-02-03T10:34:37.099440Z"
    }
   },
   "outputs": [],
   "source": [
    "from math import pi # import spécifique de la constante pi depuis math\n",
    "pi"
   ]
  },
  {
   "cell_type": "markdown",
   "id": "34067927",
   "metadata": {},
   "source": [
    "<div class='alert alert-danger'>\n",
    "    \n",
    "Vous verrez parfois des imports faits ainsi :\n",
    "\n",
    "`from module import *` \n",
    "\n",
    "C'est à éviter pour plusieurs raisons. Vous importez tout le module, et avez accès à tous ses objets sans préfixer avec le nom du module. Mais :\n",
    "    \n",
    "- vous écrasez potentiellement vous propres variables ou fonctions qui auraient le même nom que des objets définis dans le module importé,\n",
    "- comme vous n'avez plus à préfixer les objets importés, vous ne voyez plus d’où viennent les objets manipulés, ce qui peut rendre la recherche de documentation plus compliquée.\n",
    "</div>"
   ]
  },
  {
   "cell_type": "markdown",
   "id": "151494a4",
   "metadata": {},
   "source": [
    "<div class='alert alert-success'>\n",
    "    \n",
    "Utilisez donc plutôt l'une ou l'autre de ces méthodes :\n",
    "    \n",
    "- `import module` : pour tout importer, accès via le préfixe module.\n",
    "- `from module import objet` : import d'un objet spécifique, accès direct par la suite\n",
    "\n",
    "</div>"
   ]
  },
  {
   "cell_type": "markdown",
   "id": "dc24fee4",
   "metadata": {},
   "source": [
    "<div class='alert alert-info'>\n",
    "    \n",
    "Si un module a un nom un peu long, vous pouvez changer son préfixe au moment de l'import, en faisant :\n",
    "    \n",
    "`import nom_du_module_super_long_et_penible_comme_préfixe as alias`\n",
    "\n",
    "Ou alias est un nom plus commode. Exemple :\n",
    "</div>"
   ]
  },
  {
   "cell_type": "code",
   "execution_count": null,
   "id": "f80e81db",
   "metadata": {
    "ExecuteTime": {
     "end_time": "2022-02-03T10:36:21.666449Z",
     "start_time": "2022-02-03T10:36:20.599276Z"
    }
   },
   "outputs": [],
   "source": [
    "import matplotlib.pyplot as plt # plt est un nom beaucoup plus court pour la suite que matplotlib.pyplot.\n",
    "import numpy as np # numpy est typiquement importé avec ce nom raccourci.\n",
    "\n",
    "\n",
    "x = np.linspace(-np.pi, np.pi, 50) # on génère une série de 50 valeurs pour x comprises entre -π et π\n",
    "y = np.sin(x) # chaque valeur dans x est passée à la fonction sinus, le tout est stocké dans y\n",
    "\n",
    "plt.plot(x,y); # on trace x et y"
   ]
  },
  {
   "cell_type": "markdown",
   "id": "c36c5fa4",
   "metadata": {},
   "source": [
    "### Modules utiles\n",
    "\n",
    "#### dans la bibliothèque standard (préinstallée avec Python)\n",
    "\n",
    "La bibliothèque standard est très vaste. Vous pouvez trouver une liste et documentation exhaustive ici : [https://docs.python.org/fr/3/library/](https://docs.python.org/fr/3/library/)\n",
    "\n",
    "Nous allons simplement évoquer certaines d'entre elles et montrer quelques exemples d'usage courant sur les bibliothèques :\n",
    "\n",
    "- [math](https://docs.python.org/fr/3/library/math.html) : fonctions et constantes mathématiques\n",
    "- [datetime](https://docs.python.org/fr/3/library/datetime.html) : fonctions et objets pour les dates et les horaires\n",
    "- [random](https://docs.python.org/fr/3/library/random.html) : fonctions et génération de nombres pseudo-aléatoires\n",
    "- [string](https://docs.python.org/fr/3/library/string.html) : manipulations usuelles sur les chaînes de caractères\n",
    "- [os](https://docs.python.org/fr/3/library/os.html) et [os.path](https://docs.python.org/fr/3/library/os.path.html) : interfaces avec le système d'exploitation et cheminement dans l'arborescence des fichiers\n",
    "- [csv](https://docs.python.org/fr/3/library/csv.html)"
   ]
  },
  {
   "cell_type": "markdown",
   "id": "bb4dc4ca",
   "metadata": {},
   "source": [
    "<div class='alert alert-info'>\n",
    "    \n",
    "Nous avons déjà un peu manipulé des objets issus du module **math.**\n",
    "    \n",
    "Vous y trouverez entre autres des fonctions et constantes telles que :\n",
    "    \n",
    "</div>"
   ]
  },
  {
   "cell_type": "code",
   "execution_count": null,
   "id": "d396ac00",
   "metadata": {},
   "outputs": [],
   "source": [
    "import math\n",
    "\n",
    "math.cos(math.pi)"
   ]
  },
  {
   "cell_type": "code",
   "execution_count": null,
   "id": "27a94dec",
   "metadata": {},
   "outputs": [],
   "source": [
    "math.exp(1)"
   ]
  },
  {
   "cell_type": "code",
   "execution_count": null,
   "id": "207df989",
   "metadata": {},
   "outputs": [],
   "source": [
    "math.log(1)"
   ]
  },
  {
   "cell_type": "code",
   "execution_count": null,
   "id": "f60c1b8f",
   "metadata": {},
   "outputs": [],
   "source": [
    "math.factorial(5)"
   ]
  },
  {
   "cell_type": "code",
   "execution_count": null,
   "id": "25e52a45",
   "metadata": {},
   "outputs": [],
   "source": [
    "math.exp(math.log(5))"
   ]
  },
  {
   "cell_type": "code",
   "execution_count": null,
   "id": "63e96509",
   "metadata": {},
   "outputs": [],
   "source": [
    "x = 5\n",
    "math.isclose(math.exp(math.log(x)), x)"
   ]
  },
  {
   "cell_type": "code",
   "execution_count": null,
   "id": "79bab0fa",
   "metadata": {},
   "outputs": [],
   "source": [
    "math.e "
   ]
  },
  {
   "cell_type": "code",
   "execution_count": null,
   "id": "811a91d7",
   "metadata": {},
   "outputs": [],
   "source": [
    "math.tau # voir https://tauday.com/tau-manifesto"
   ]
  },
  {
   "cell_type": "markdown",
   "id": "bc1181f9",
   "metadata": {},
   "source": [
    "<div class='alert alert-info'>\n",
    "    \n",
    "**datetime** contient des objets utiles pour manipuler des dates, des heures et des laps de temps.\n",
    "    \n",
    "</div>"
   ]
  },
  {
   "cell_type": "code",
   "execution_count": null,
   "id": "c69e657d",
   "metadata": {
    "ExecuteTime": {
     "end_time": "2022-02-03T10:36:45.341966Z",
     "start_time": "2022-02-03T10:36:45.337150Z"
    }
   },
   "outputs": [],
   "source": [
    "import datetime"
   ]
  },
  {
   "cell_type": "code",
   "execution_count": null,
   "id": "68f8abdd",
   "metadata": {
    "ExecuteTime": {
     "end_time": "2022-02-03T10:36:45.728586Z",
     "start_time": "2022-02-03T10:36:45.722137Z"
    }
   },
   "outputs": [],
   "source": [
    "datetime.datetime.now()"
   ]
  },
  {
   "cell_type": "code",
   "execution_count": null,
   "id": "eb881313",
   "metadata": {
    "ExecuteTime": {
     "end_time": "2022-02-03T10:36:46.157903Z",
     "start_time": "2022-02-03T10:36:46.151651Z"
    },
    "scrolled": true
   },
   "outputs": [],
   "source": [
    "demain = datetime.date.today() + datetime.timedelta(days=1)\n",
    "demain"
   ]
  },
  {
   "cell_type": "markdown",
   "id": "b80011e6",
   "metadata": {},
   "source": [
    "<div class='alert alert-info'>\n",
    "    \n",
    "**random** permet de générer des nombres aléatoires, de mélanger des listes, de simuler des tirages aléatoires…\n",
    "    \n",
    "</div>"
   ]
  },
  {
   "cell_type": "code",
   "execution_count": null,
   "id": "a38b6a29",
   "metadata": {
    "ExecuteTime": {
     "end_time": "2022-02-03T10:37:27.365895Z",
     "start_time": "2022-02-03T10:37:27.351154Z"
    }
   },
   "outputs": [],
   "source": [
    "import random \n",
    "\n",
    "def roll_dice(n):\n",
    "    return random.randint(1, n) # nombre au hasard entre 2 bornes incluses\n",
    "\n",
    "roll_dice(20)"
   ]
  },
  {
   "cell_type": "code",
   "execution_count": null,
   "id": "69b120b7",
   "metadata": {
    "ExecuteTime": {
     "end_time": "2022-02-03T10:37:27.645578Z",
     "start_time": "2022-02-03T10:37:27.637253Z"
    }
   },
   "outputs": [],
   "source": [
    "departements = [\n",
    "    'Biosciences', \n",
    "    'Génie Électrique', \n",
    "    'Génie Industriel',\n",
    "    'Génie Civil et Urbanisme', \n",
    "    'Génie Énergétique et environnement',\n",
    "    'Informatique', 'Génie mécanique', \n",
    "    'Science et génie des matériaux',\n",
    "    'Télécommunications, services & usages',\n",
    "]\n",
    "\n",
    "random.shuffle(departements) # mélange d'une liste\n",
    "departements"
   ]
  },
  {
   "cell_type": "code",
   "execution_count": null,
   "id": "583f61aa",
   "metadata": {
    "ExecuteTime": {
     "end_time": "2022-02-03T10:37:32.821784Z",
     "start_time": "2022-02-03T10:37:32.814102Z"
    }
   },
   "outputs": [],
   "source": [
    "random.choice(departements) # choix d'un élément au hasard"
   ]
  },
  {
   "cell_type": "code",
   "execution_count": null,
   "id": "65030ccc",
   "metadata": {
    "ExecuteTime": {
     "end_time": "2022-02-03T10:37:34.386664Z",
     "start_time": "2022-02-03T10:37:34.380272Z"
    }
   },
   "outputs": [],
   "source": [
    "random.sample(departements, 3) # tirage de 3 éléments sans remise"
   ]
  },
  {
   "cell_type": "markdown",
   "id": "636ce926",
   "metadata": {},
   "source": [
    "<div class='alert alert-info'>\n",
    "    \n",
    "**string** contient des constantes et fonctions poussées pour la manipulation et le nettoyage de chaînes de caractères\n",
    "    \n",
    "</div>"
   ]
  },
  {
   "cell_type": "code",
   "execution_count": null,
   "id": "2c45c22b",
   "metadata": {
    "ExecuteTime": {
     "end_time": "2022-02-03T10:37:45.320368Z",
     "start_time": "2022-02-03T10:37:45.315637Z"
    }
   },
   "outputs": [],
   "source": [
    "import string"
   ]
  },
  {
   "cell_type": "code",
   "execution_count": null,
   "id": "fba2a2a3",
   "metadata": {
    "ExecuteTime": {
     "end_time": "2022-02-03T10:37:46.168158Z",
     "start_time": "2022-02-03T10:37:46.162416Z"
    }
   },
   "outputs": [],
   "source": [
    "string.punctuation # chaîne de l'ensemble des caractères considérés comme de la ponctuation"
   ]
  },
  {
   "cell_type": "code",
   "execution_count": null,
   "id": "b42fe740",
   "metadata": {
    "ExecuteTime": {
     "end_time": "2022-02-03T10:37:50.120251Z",
     "start_time": "2022-02-03T10:37:50.115638Z"
    }
   },
   "outputs": [],
   "source": [
    "phrase = 'Cette phrase ; contient des signes, de : ponctuation [parasites! que nous/ souhaitons <= retirer.'"
   ]
  },
  {
   "cell_type": "code",
   "execution_count": null,
   "id": "9ef78167",
   "metadata": {
    "ExecuteTime": {
     "end_time": "2022-02-03T10:39:04.095653Z",
     "start_time": "2022-02-03T10:39:04.088152Z"
    }
   },
   "outputs": [],
   "source": [
    "for punc in string.punctuation:\n",
    "    phrase = phrase.replace(punc, '')\n",
    "phrase.replace('  ', ' ') # remplacement des doubles espaces éventuels"
   ]
  },
  {
   "cell_type": "markdown",
   "id": "7eb431fe",
   "metadata": {},
   "source": [
    "<div class='alert alert-info'>\n",
    "    \n",
    "**os** et **os.path** contiennent des outils pour intéragir avec le système d'exploitation et pour construire et manipuler des chemins d’un fichier à l'autre.\n",
    "    \n",
    "</div>"
   ]
  },
  {
   "cell_type": "code",
   "execution_count": null,
   "id": "37ab1d84",
   "metadata": {
    "ExecuteTime": {
     "end_time": "2022-02-03T10:39:13.115067Z",
     "start_time": "2022-02-03T10:39:13.112706Z"
    }
   },
   "outputs": [],
   "source": [
    "import os"
   ]
  },
  {
   "cell_type": "code",
   "execution_count": null,
   "id": "f2b0961b",
   "metadata": {
    "ExecuteTime": {
     "end_time": "2022-02-03T10:39:13.307576Z",
     "start_time": "2022-02-03T10:39:13.300353Z"
    }
   },
   "outputs": [],
   "source": [
    "os.getcwd() # getcwd = get current working directory : affiche le chemin absolu du dossier où se trouve le notebook"
   ]
  },
  {
   "cell_type": "code",
   "execution_count": null,
   "id": "222557c0",
   "metadata": {
    "ExecuteTime": {
     "end_time": "2022-02-03T10:39:14.000376Z",
     "start_time": "2022-02-03T10:39:13.996605Z"
    }
   },
   "outputs": [],
   "source": [
    "import os.path"
   ]
  },
  {
   "cell_type": "markdown",
   "id": "bee9e26c",
   "metadata": {},
   "source": [
    "<div class='alert alert-info'>\n",
    "La cellule suivante exécute une commande spéciale en JavaScript pour récupérer le nom du notebook et la mettre dans la variable python <b>nb_name</b> .\n",
    "    \n",
    "</div>"
   ]
  },
  {
   "cell_type": "code",
   "execution_count": null,
   "id": "b0dc9499",
   "metadata": {
    "ExecuteTime": {
     "end_time": "2022-02-03T10:39:26.611695Z",
     "start_time": "2022-02-03T10:39:26.602554Z"
    }
   },
   "outputs": [],
   "source": [
    "%%javascript\n",
    "IPython.notebook.kernel.execute('nb_name = \"' + IPython.notebook.notebook_name + '\"')"
   ]
  },
  {
   "cell_type": "markdown",
   "id": "e947796a",
   "metadata": {},
   "source": [
    "<div class='alert alert-info'>\n",
    "    \n",
    "os.path.abspath construit un chemin absolu à partir d'un chemin relatif, ici le nom du notebook lui-même.\n",
    "    \n",
    "</div>"
   ]
  },
  {
   "cell_type": "code",
   "execution_count": null,
   "id": "efc04174",
   "metadata": {
    "ExecuteTime": {
     "end_time": "2022-02-03T10:39:40.875800Z",
     "start_time": "2022-02-03T10:39:40.864281Z"
    }
   },
   "outputs": [],
   "source": [
    "os.path.abspath(nb_name) # chemin absolu du notebook sur votre disque"
   ]
  },
  {
   "cell_type": "markdown",
   "id": "ebe96961",
   "metadata": {},
   "source": [
    "#### dans des modules supplémentaires (normalement déjà installés via anaconda)\n",
    "- [numpy](https://numpy.org/) : calcul scientifique\n",
    "- [sympy](https://www.sympy.org/en/index.html) : calcul symbolique\n",
    "- [scipy](https://scipy.org/) : algorithmes de calculs scientifiques\n",
    "- [pandas](https://pandas.pydata.org/) : tableaux et analyse de données\n",
    "- [matplotlib](https://matplotlib.org/) : Visualisations et graphes\n",
    "\n",
    "Ces modules sont vastes et feront l'objet de formations spécifiques.\n",
    "\n",
    "Cependant avec des bases solides en Python, vous serez parfaitement à même de creuser leurs documentations pour les utiliser. (Ou de poser votre question dans *Google* puis naviguer les différentes réponses sur *Stack OverFlow* pour trouver une réponse qui fonctionne pour vous).\n",
    "\n",
    "Voici cependant quelques exemples."
   ]
  },
  {
   "cell_type": "code",
   "execution_count": 55,
   "id": "6bc0ece1",
   "metadata": {
    "ExecuteTime": {
     "end_time": "2022-02-03T11:10:29.800587Z",
     "start_time": "2022-02-03T11:10:29.623020Z"
    }
   },
   "outputs": [
    {
     "data": {
      "image/png": "[encoded data removed]",
      "text/plain": [
       "<Figure size 1152x648 with 1 Axes>"
      ]
     },
     "metadata": {
      "needs_background": "light"
     },
     "output_type": "display_data"
    }
   ],
   "source": [
    "import numpy as np\n",
    "import matplotlib.pyplot as plt\n",
    "from matplotlib.ticker import FuncFormatter, MultipleLocator\n",
    "\n",
    "plt.figure(figsize=(16,9))\n",
    "\n",
    "x = np.linspace(-2*np.pi, 2*np.pi, 1000) # on créen un tableau d'échantillons pour x entre 2 bornes\n",
    "\n",
    "plt.plot(x, np.sin(x), label='sin(x)') # on trace x et une fonction appliquée à x\n",
    "\n",
    "plt.plot(x, np.cos(x), label='cos(x)') # la valeur de label sera utilisée dans la légende\n",
    "\n",
    "ax = plt.gca() # récupération de l'axe courant pour accéder ensuite à ses méthodes\n",
    "\n",
    "# pour faire apparaître les axes cartésiens\n",
    "ax.spines['top'].set_color('none')\n",
    "ax.spines['bottom'].set_position('zero')\n",
    "ax.spines['left'].set_position('zero')\n",
    "ax.spines['right'].set_color('none')\n",
    "\n",
    "# garder les axes à la même échelle\n",
    "#plt.axis('equal')\n",
    "\n",
    "plt.ylim(-1.1,1.1)\n",
    "\n",
    "## réduction du nombre de ticks\n",
    "plt.locator_params(axis='x', nbins=3)\n",
    "plt.locator_params(axis='y', nbins=3)\n",
    "\n",
    "# mettre les ticks des abscisses en multiples de π\n",
    "ax.xaxis.set_major_formatter(FuncFormatter(\n",
    "   lambda val,pos: '{:.0g}$\\pi$'.format(val/np.pi) if val !=0 else '0'\n",
    "))\n",
    "ax.xaxis.set_major_locator(MultipleLocator(base=np.pi))\n",
    "\n",
    "plt.legend()\n",
    "plt.show()\n"
   ]
  },
  {
   "cell_type": "code",
   "execution_count": null,
   "id": "d344148a",
   "metadata": {},
   "outputs": [],
   "source": []
  },
  {
   "cell_type": "code",
   "execution_count": null,
   "id": "373faf4a",
   "metadata": {},
   "outputs": [],
   "source": []
  },
  {
   "cell_type": "markdown",
   "id": "7fd19e33",
   "metadata": {},
   "source": [
    "<div class='alert alert-success'><h1>\n",
    "Vous êtes arrivé·e au bout de ce module, félicitations ! 🎉</h1>\n",
    "</div>"
   ]
  },
  {
   "cell_type": "markdown",
   "id": "7f48a393",
   "metadata": {},
   "source": [
    "<div class='alert alert-success'><h1>Vous pouvez passer au notebook d'exercices pour mettre toutes ces connaissances en pratique… 💪</h1>\n",
    "</div>"
   ]
  }
 ],
 "metadata": {
  "kernelspec": {
   "display_name": "Python 3 (ipykernel)",
   "language": "python",
   "name": "python3"
  },
  "language_info": {
   "codemirror_mode": {
    "name": "ipython",
    "version": 3
   },
   "file_extension": ".py",
   "mimetype": "text/x-python",
   "name": "python",
   "nbconvert_exporter": "python",
   "pygments_lexer": "ipython3",
   "version": "3.10.0rc1"
  },
  "toc": {
   "base_numbering": 1,
   "nav_menu": {},
   "number_sections": true,
   "sideBar": true,
   "skip_h1_title": true,
   "title_cell": "Table des matières",
   "title_sidebar": "Contenu",
   "toc_cell": true,
   "toc_position": {
    "height": "calc(100% - 180px)",
    "left": "10px",
    "top": "150px",
    "width": "225.2px"
   },
   "toc_section_display": true,
   "toc_window_display": false
  }
 },
 "nbformat": 4,
 "nbformat_minor": 5
}
