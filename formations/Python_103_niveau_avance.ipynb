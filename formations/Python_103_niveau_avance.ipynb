{
 "cells": [
  {
   "cell_type": "markdown",
   "id": "9afd47c8",
   "metadata": {
    "toc": true
   },
   "source": [
    "<h1>Table des matières<span class=\"tocSkip\"></span></h1>\n",
    "<div class=\"toc\"><ul class=\"toc-item\"><li><span><a href=\"#Récapitulatif-des-notions-vues-dans-le-module-précédent\" data-toc-modified-id=\"Récapitulatif-des-notions-vues-dans-le-module-précédent-1\"><span class=\"toc-item-num\">1&nbsp;&nbsp;</span>Récapitulatif des notions vues dans le module précédent</a></span></li><li><span><a href=\"#Les-Bases-de-la-programmation-orientée-objet\" data-toc-modified-id=\"Les-Bases-de-la-programmation-orientée-objet-2\"><span class=\"toc-item-num\">2&nbsp;&nbsp;</span>Les Bases de la programmation orientée objet</a></span><ul class=\"toc-item\"><li><span><a href=\"#Exemple-simple-:-créer-une-carte-de-jeu\" data-toc-modified-id=\"Exemple-simple-:-créer-une-carte-de-jeu-2.1\"><span class=\"toc-item-num\">2.1&nbsp;&nbsp;</span>Exemple simple : créer une carte de jeu</a></span></li><li><span><a href=\"#Création-d'un-paquet-de-cartes\" data-toc-modified-id=\"Création-d'un-paquet-de-cartes-2.2\"><span class=\"toc-item-num\">2.2&nbsp;&nbsp;</span>Création d'un paquet de cartes</a></span></li></ul></li></ul></div>"
   ]
  },
  {
   "cell_type": "markdown",
   "id": "bccadeb4",
   "metadata": {
    "ExecuteTime": {
     "end_time": "2022-01-18T08:22:26.693572Z",
     "start_time": "2022-01-18T08:22:26.686858Z"
    }
   },
   "source": [
    "<div class=\"alert alert-success\">Ce document est un Notebook Jupyter. Il est concu pour que vous exécutiez les cellules pour faire apparaître leur résultat juste en dessous. \n",
    "Le raccourci clavier pour exécuter une cellule et passer le contrôle à la suivante est <b>Shift + Entrée</b></div>"
   ]
  },
  {
   "cell_type": "markdown",
   "id": "9f6a3eec",
   "metadata": {
    "ExecuteTime": {
     "end_time": "2022-01-17T16:26:08.455525Z",
     "start_time": "2022-01-17T16:26:08.450289Z"
    }
   },
   "source": [
    "# Python - Niveau Avancé"
   ]
  },
  {
   "cell_type": "markdown",
   "id": "947f3e0d",
   "metadata": {},
   "source": [
    "## Récapitulatif des notions vues dans le module précédent"
   ]
  },
  {
   "cell_type": "markdown",
   "id": "7983b605",
   "metadata": {},
   "source": [
    "\n",
    "Dans les deux modules précédents, nous avons vu les notions suivantes :\n",
    "\n",
    "- [Partie 1 - Python 101](Python_101_niveau_debutant.ipynb)\n",
    "    - les variables\n",
    "    - les types de base : str, lst, tuple, dict, int, float, complex\n",
    "    - l’exécution conditionnelle\n",
    "    - les boucles for et while\n",
    "    - les fonctions\n",
    "    - les principales méthodes des types de base\n",
    "- [Partie 2 - Python 102](Python_102_niveau_intermediaire.ipynb)\n",
    "    - les fonctions \"jetables\" avec lambda\n",
    "    - les listes en compréhension\n",
    "    - les dictionnaires en compréhension\n",
    "    - lire et écrire dans des fichiers\n",
    "    - importer des fonctions et objets à partir de modules et quelques exemples de modules utiles\n",
    "\n",
    "Dans ce dernier module, nous allons voir les notions suivantes :\n",
    "\n",
    "- les bases de la programmation orientée objet\n",
    "- la création de scripts et modules python en s’appuyant sur Jupyter Notebook\n"
   ]
  },
  {
   "cell_type": "markdown",
   "id": "d20991f1",
   "metadata": {},
   "source": [
    "## Les Bases de la programmation orientée objet"
   ]
  },
  {
   "cell_type": "markdown",
   "id": "14cbb6a6",
   "metadata": {},
   "source": [
    "<div class ='alert alert-info'>\n",
    "    \n",
    "La programmation orientée objet consiste à encapsuler dans des objets des données et des comportements, dans le but de simuler un objet (au sens très large) de la vie réelle.\n",
    "    \n",
    "Les données internes d'un objet (des variables internes) sont appelée les attributs de l'objet.\n",
    "\n",
    "Les comportements programmés dans un objet (des fonctions internes) sont appelées les méthodes de l'objet.\n",
    "    \n",
    "\n",
    "</div>"
   ]
  },
  {
   "cell_type": "markdown",
   "id": "9c40ceca",
   "metadata": {},
   "source": [
    "<div class ='alert alert-info'>\n",
    "    \n",
    "Commençons par un exemple simple. Imaginons que je veuille représenter un paquet de 52 cartes classique.\n",
    "    \n",
    "Pour créer un paquet de cartes, il faut d’abord créer des cartes.\n",
    "\n",
    "</div>"
   ]
  },
  {
   "cell_type": "markdown",
   "id": "f73eab34",
   "metadata": {},
   "source": [
    "### Exemple simple : créer une carte de jeu"
   ]
  },
  {
   "cell_type": "code",
   "execution_count": 7,
   "id": "a9e8900d",
   "metadata": {
    "ExecuteTime": {
     "end_time": "2022-02-07T14:41:56.465341Z",
     "start_time": "2022-02-07T14:41:56.454872Z"
    }
   },
   "outputs": [],
   "source": [
    "class Card:\n",
    "    def __init__(self, rank, suit): # méthode utilisée à l'initialisation d'une instance\n",
    "        self.rank = rank\n",
    "        self.suit = suit\n",
    "    def __repr__(self): # cette méthode détermine comment une instance sera représentée par print()\n",
    "        return f\"Card('{self.rank}','{self.suit}')\""
   ]
  },
  {
   "cell_type": "code",
   "execution_count": 8,
   "id": "d6a91842",
   "metadata": {
    "ExecuteTime": {
     "end_time": "2022-02-07T14:41:56.666459Z",
     "start_time": "2022-02-07T14:41:56.662875Z"
    }
   },
   "outputs": [
    {
     "data": {
      "text/plain": [
       "Card('As','Pique')"
      ]
     },
     "execution_count": 8,
     "metadata": {},
     "output_type": "execute_result"
    }
   ],
   "source": [
    "as_de_pique = Card('As', 'Pique')\n",
    "as_de_pique"
   ]
  },
  {
   "cell_type": "markdown",
   "id": "9176f678",
   "metadata": {},
   "source": [
    "<div class ='alert alert-info'>\n",
    "    \n",
    "Le mot clé `class` sert à déclarer un nouveau type d'objet.\n",
    "    \n",
    "La convention est de leur donner un nom commençant par une majuscule, par opposition aux variables.\n",
    "    \n",
    "À l'intérieur de la classe, les fonctions internes permettent de définir le comportement.\n",
    "Toutes les fonctions interne de l'objet doivent avoir un premier argument qui représente l'instance de l'objet sur laquelle la méthode est appelée. Par convention, cet argument est toujours appelé `self`.\n",
    "\n",
    "</div>\n",
    "<div class ='alert alert-info'>\n",
    "Certaines méthodes sont dites magiques : \n",
    "    \n",
    "- leur nom commence et se termine par un double underscore (souvent appelé *dunder*)\n",
    "- si elles sont implémentées, elles ont un effet très particulier \n",
    "   \n",
    "La méthode `__init__()` est automatiquement appelée quand une instance de l'objet est initialisée. On l’utilise pour définir les différents attributs d’une instance de l'objet lors de sa création.\n",
    "    \n",
    "La méthode `__repr__()` détermine comment un objet est représenté quand on le passe à `print()`. Par convention, on fait en sorte qu’elle retourne une chaîne de caractères qui correspond à la commande passée pour créer l'objet.\n",
    "    \n",
    "\n",
    "</div>"
   ]
  },
  {
   "cell_type": "markdown",
   "id": "a4b9481a",
   "metadata": {},
   "source": [
    "<div class='alert alert-info'>\n",
    "\n",
    "On peut accéder aux attributs d’une instance avec la syntaxe `objet.attribut`\n",
    "\n",
    "</div>"
   ]
  },
  {
   "cell_type": "code",
   "execution_count": 9,
   "id": "1cf72380",
   "metadata": {
    "ExecuteTime": {
     "end_time": "2022-02-07T14:43:47.282954Z",
     "start_time": "2022-02-07T14:43:47.273496Z"
    }
   },
   "outputs": [
    {
     "data": {
      "text/plain": [
       "'As'"
      ]
     },
     "execution_count": 9,
     "metadata": {},
     "output_type": "execute_result"
    }
   ],
   "source": [
    "as_de_pique.rank"
   ]
  },
  {
   "cell_type": "code",
   "execution_count": 10,
   "id": "7bfc9c65",
   "metadata": {
    "ExecuteTime": {
     "end_time": "2022-02-07T14:43:58.033412Z",
     "start_time": "2022-02-07T14:43:58.026255Z"
    },
    "scrolled": true
   },
   "outputs": [
    {
     "data": {
      "text/plain": [
       "'Pique'"
      ]
     },
     "execution_count": 10,
     "metadata": {},
     "output_type": "execute_result"
    }
   ],
   "source": [
    "as_de_pique.suit"
   ]
  },
  {
   "cell_type": "markdown",
   "id": "235189c1",
   "metadata": {},
   "source": [
    "<div class='alert alert-info'>\n",
    "\n",
    "On peut accéder aux attributs d’une instance avec la syntaxe `objet.attribut`\n",
    "\n",
    "</div>"
   ]
  },
  {
   "cell_type": "markdown",
   "id": "d033dc40",
   "metadata": {},
   "source": [
    "### Création d'un paquet de cartes"
   ]
  },
  {
   "cell_type": "markdown",
   "id": "b79d50e0",
   "metadata": {
    "ExecuteTime": {
     "end_time": "2022-02-07T14:54:19.100865Z",
     "start_time": "2022-02-07T14:54:19.087713Z"
    }
   },
   "source": [
    "<div class = 'alert alert-info'>\n",
    "\n",
    "Maintenant que nous avons un objet `Card`, nous pouvons nous en servir pour créer un objet `Deck`.\n",
    "\n",
    "</div>"
   ]
  },
  {
   "cell_type": "code",
   "execution_count": 13,
   "id": "182a067e",
   "metadata": {
    "ExecuteTime": {
     "end_time": "2022-02-07T14:58:57.555841Z",
     "start_time": "2022-02-07T14:58:57.548742Z"
    }
   },
   "outputs": [],
   "source": [
    "class Deck:\n",
    "    ranks = [str(n) for n in range(2,11)] + list('JQKA')\n",
    "    suits = 'spades hearts diamonds clubs'.split()\n",
    "    \n",
    "    def __init__(self):\n",
    "        self.cards = [Card(rank, suit) for suit in self.suits for rank in self.ranks]\n",
    "\n",
    "    def __repr__(self):\n",
    "        return \"Deck()\""
   ]
  },
  {
   "cell_type": "code",
   "execution_count": 14,
   "id": "903b57b5",
   "metadata": {
    "ExecuteTime": {
     "end_time": "2022-02-07T14:59:02.888989Z",
     "start_time": "2022-02-07T14:59:02.885805Z"
    }
   },
   "outputs": [],
   "source": [
    "deck = Deck()"
   ]
  },
  {
   "cell_type": "code",
   "execution_count": 18,
   "id": "5c392373",
   "metadata": {
    "ExecuteTime": {
     "end_time": "2022-02-07T15:00:53.863746Z",
     "start_time": "2022-02-07T15:00:53.854210Z"
    },
    "scrolled": true
   },
   "outputs": [
    {
     "data": {
      "text/plain": [
       "[Card('2','spades'),\n",
       " Card('3','spades'),\n",
       " Card('4','spades'),\n",
       " Card('5','spades'),\n",
       " Card('6','spades'),\n",
       " Card('7','spades'),\n",
       " Card('8','spades'),\n",
       " Card('9','spades'),\n",
       " Card('10','spades'),\n",
       " Card('J','spades'),\n",
       " Card('Q','spades'),\n",
       " Card('K','spades'),\n",
       " Card('A','spades'),\n",
       " Card('2','hearts'),\n",
       " Card('3','hearts'),\n",
       " Card('4','hearts'),\n",
       " Card('5','hearts'),\n",
       " Card('6','hearts'),\n",
       " Card('7','hearts'),\n",
       " Card('8','hearts'),\n",
       " Card('9','hearts'),\n",
       " Card('10','hearts'),\n",
       " Card('J','hearts'),\n",
       " Card('Q','hearts'),\n",
       " Card('K','hearts'),\n",
       " Card('A','hearts'),\n",
       " Card('2','diamonds'),\n",
       " Card('3','diamonds'),\n",
       " Card('4','diamonds'),\n",
       " Card('5','diamonds'),\n",
       " Card('6','diamonds'),\n",
       " Card('7','diamonds'),\n",
       " Card('8','diamonds'),\n",
       " Card('9','diamonds'),\n",
       " Card('10','diamonds'),\n",
       " Card('J','diamonds'),\n",
       " Card('Q','diamonds'),\n",
       " Card('K','diamonds'),\n",
       " Card('A','diamonds'),\n",
       " Card('2','clubs'),\n",
       " Card('3','clubs'),\n",
       " Card('4','clubs'),\n",
       " Card('5','clubs'),\n",
       " Card('6','clubs'),\n",
       " Card('7','clubs'),\n",
       " Card('8','clubs'),\n",
       " Card('9','clubs'),\n",
       " Card('10','clubs'),\n",
       " Card('J','clubs'),\n",
       " Card('Q','clubs'),\n",
       " Card('K','clubs'),\n",
       " Card('A','clubs')]"
      ]
     },
     "execution_count": 18,
     "metadata": {},
     "output_type": "execute_result"
    }
   ],
   "source": [
    "deck.cards # l'attribut .cards contient une liste de d’objets issus de Card() pour chaque couleur et chaque valeur"
   ]
  },
  {
   "cell_type": "markdown",
   "id": "1ec5ec21",
   "metadata": {},
   "source": [
    "<div class='alert alert-info'>\n",
    "    \n",
    "Notre paquet contient bien nos 52 cartes, mais il lui manque quelques méthodes pour qu’il soit utile.\n",
    "\n",
    "Par exemple :\n",
    "\n",
    "- une méthode pour obtenir la taille du paquet de cartes\n",
    "- une méthode pour obtenir une carte à une position particulière\n",
    "- une méthode pour mélanger le paquet de cartes\n",
    "- une méthode pour piocher un certain nombre de cartes : obtenir une liste de cartes tout en les retirant du paquet.\n",
    "\n",
    "</div>"
   ]
  },
  {
   "cell_type": "markdown",
   "id": "fe309217",
   "metadata": {},
   "source": [
    "<div class='alert alert-info'>\n",
    "    \n",
    "Commençons par les deux premières :\n",
    "    \n",
    "- une méthode pour obtenir la taille du paquet de cartes\n",
    "- une méthode pour obtenir une carte à une position particulière\n",
    "\n",
    "</div>"
   ]
  },
  {
   "cell_type": "code",
   "execution_count": 19,
   "id": "19020019",
   "metadata": {
    "ExecuteTime": {
     "end_time": "2022-02-07T15:10:54.770138Z",
     "start_time": "2022-02-07T15:10:54.762931Z"
    }
   },
   "outputs": [],
   "source": [
    "class Deck:\n",
    "    ranks = [str(n) for n in range(2,11)] + list('JQKA')\n",
    "    suits = 'spades hearts diamonds clubs'.split()\n",
    "        \n",
    "    def __init__(self):\n",
    "        self.cards = [Card(rank, suit) for suit in self.suits for rank in self.ranks]\n",
    "        \n",
    "    def __len__(self):\n",
    "        return len(self.cards)\n",
    "\n",
    "    def __repr__(self):\n",
    "        return \"Deck()\""
   ]
  },
  {
   "cell_type": "markdown",
   "id": "d2cca8c5",
   "metadata": {},
   "source": [
    "<div class='alert alert-info'>\n",
    "    \n",
    "La méthode magique `__len__()` permet de contrôler comment la fonction globale `len()` va se comporter avec notre objet.\n",
    "\n",
    "Comme notre paquet de carte est essentiellement une liste de carte, il suffit de renvoyer la longueur de la liste interne.\n",
    "\n",
    "</div>"
   ]
  },
  {
   "cell_type": "code",
   "execution_count": 20,
   "id": "2b33ebca",
   "metadata": {
    "ExecuteTime": {
     "end_time": "2022-02-07T15:11:02.056722Z",
     "start_time": "2022-02-07T15:11:02.049495Z"
    }
   },
   "outputs": [
    {
     "data": {
      "text/plain": [
       "52"
      ]
     },
     "execution_count": 20,
     "metadata": {},
     "output_type": "execute_result"
    }
   ],
   "source": [
    "deck = Deck()\n",
    "len(deck)"
   ]
  },
  {
   "cell_type": "markdown",
   "id": "5df4c118",
   "metadata": {},
   "source": [
    "<div class='alert alert-info'>\n",
    "    \n",
    "La méthode magique `__getitem__()` permet d’implémenter l'indexation pour notre objet.\n",
    "\n",
    "Comme notre paquet de carte est essentiellement une liste de carte, il suffit de renvoyer la carte à la position donnée dans la liste interne.\n",
    "\n",
    "\n",
    "</div>"
   ]
  },
  {
   "cell_type": "code",
   "execution_count": 24,
   "id": "685c9f0e",
   "metadata": {
    "ExecuteTime": {
     "end_time": "2022-02-07T15:22:34.552424Z",
     "start_time": "2022-02-07T15:22:34.543883Z"
    }
   },
   "outputs": [],
   "source": [
    "class Deck:\n",
    "    ranks = [str(n) for n in range(2,11)] + list('JQKA')\n",
    "    suits = 'spades hearts diamonds clubs'.split()\n",
    "        \n",
    "    def __init__(self):\n",
    "        self.cards = [Card(rank, suit) for suit in self.suits for rank in self.ranks]\n",
    "        \n",
    "    def __len__(self):\n",
    "        return len(self.cards)\n",
    "    \n",
    "    def __getitem__(self, position):\n",
    "        return self.cards[position]\n",
    "\n",
    "    def __repr__(self):\n",
    "        return \"Deck()\""
   ]
  },
  {
   "cell_type": "markdown",
   "id": "328047b4",
   "metadata": {},
   "source": [
    "<div class='alert alert-success'>\n",
    "\n",
    "Implémenter la méthode `.getitem()` donne accès à l’indéxation de notre objet, mais aussi aux tranches, et à l'itération.\n",
    "\n",
    "</div>"
   ]
  },
  {
   "cell_type": "code",
   "execution_count": 25,
   "id": "2e537480",
   "metadata": {
    "ExecuteTime": {
     "end_time": "2022-02-07T15:22:34.681116Z",
     "start_time": "2022-02-07T15:22:34.677927Z"
    }
   },
   "outputs": [],
   "source": [
    "deck = Deck()"
   ]
  },
  {
   "cell_type": "code",
   "execution_count": 26,
   "id": "17204e2d",
   "metadata": {
    "ExecuteTime": {
     "end_time": "2022-02-07T15:22:35.038407Z",
     "start_time": "2022-02-07T15:22:35.032855Z"
    }
   },
   "outputs": [
    {
     "data": {
      "text/plain": [
       "Card('2','spades')"
      ]
     },
     "execution_count": 26,
     "metadata": {},
     "output_type": "execute_result"
    }
   ],
   "source": [
    "deck[0]"
   ]
  },
  {
   "cell_type": "code",
   "execution_count": 27,
   "id": "7879d96a",
   "metadata": {
    "ExecuteTime": {
     "end_time": "2022-02-07T15:30:14.362264Z",
     "start_time": "2022-02-07T15:30:14.355692Z"
    }
   },
   "outputs": [
    {
     "data": {
      "text/plain": [
       "[Card('2','spades'),\n",
       " Card('3','spades'),\n",
       " Card('4','spades'),\n",
       " Card('5','spades'),\n",
       " Card('6','spades'),\n",
       " Card('7','spades'),\n",
       " Card('8','spades'),\n",
       " Card('9','spades'),\n",
       " Card('10','spades'),\n",
       " Card('J','spades'),\n",
       " Card('Q','spades'),\n",
       " Card('K','spades'),\n",
       " Card('A','spades')]"
      ]
     },
     "execution_count": 27,
     "metadata": {},
     "output_type": "execute_result"
    }
   ],
   "source": [
    "deck[0:13]"
   ]
  },
  {
   "cell_type": "code",
   "execution_count": 29,
   "id": "d123f76a",
   "metadata": {
    "ExecuteTime": {
     "end_time": "2022-02-07T15:32:12.193773Z",
     "start_time": "2022-02-07T15:32:12.176714Z"
    },
    "scrolled": true
   },
   "outputs": [
    {
     "name": "stdout",
     "output_type": "stream",
     "text": [
      "Card('2','spades')\n",
      "Card('3','spades')\n",
      "Card('4','spades')\n"
     ]
    }
   ],
   "source": [
    "for card in deck[:3]:\n",
    "    print(card)"
   ]
  },
  {
   "cell_type": "markdown",
   "id": "d486af3f",
   "metadata": {},
   "source": [
    "<div class='alert alert-info'>\n",
    "    \n",
    "Implémentons encore 2 méthodes :\n",
    "    \n",
    "- une méthode pour mélanger le paquet de cartes\n",
    "- une méthode pour piocher un certain nombre de cartes : obtenir une liste de cartes tout en les retirant du paquet.\n",
    "\n",
    "</div>"
   ]
  },
  {
   "cell_type": "code",
   "execution_count": 31,
   "id": "04f1b5cb",
   "metadata": {
    "ExecuteTime": {
     "end_time": "2022-02-07T15:34:12.285583Z",
     "start_time": "2022-02-07T15:34:12.278159Z"
    }
   },
   "outputs": [],
   "source": [
    "import random \n",
    "\n",
    "class Deck:\n",
    "    ranks = [str(n) for n in range(2,11)] + list('JQKA')\n",
    "    suits = 'spades hearts diamonds clubs'.split()\n",
    "        \n",
    "    def __init__(self):\n",
    "        self.cards = [Card(rank, suit) for suit in self.suits for rank in self.ranks]\n",
    "        \n",
    "    def __len__(self):\n",
    "        return len(self.cards)\n",
    "    \n",
    "    def __getitem__(self, position):\n",
    "        return self.cards[position]\n",
    "\n",
    "    def __repr__(self):\n",
    "        return \"Deck()\"\n",
    "    \n",
    "    def shuffle(self):\n",
    "        random.shuffle(self.cards)"
   ]
  },
  {
   "cell_type": "code",
   "execution_count": 33,
   "id": "780311da",
   "metadata": {
    "ExecuteTime": {
     "end_time": "2022-02-07T15:34:32.677461Z",
     "start_time": "2022-02-07T15:34:32.668304Z"
    }
   },
   "outputs": [
    {
     "data": {
      "text/plain": [
       "[Card('9','clubs'),\n",
       " Card('Q','clubs'),\n",
       " Card('6','diamonds'),\n",
       " Card('8','hearts'),\n",
       " Card('5','clubs')]"
      ]
     },
     "execution_count": 33,
     "metadata": {},
     "output_type": "execute_result"
    }
   ],
   "source": [
    "deck = Deck()\n",
    "deck.shuffle()\n",
    "deck[0:5]"
   ]
  },
  {
   "cell_type": "markdown",
   "id": "0bb53400",
   "metadata": {},
   "source": [
    "<div class='alert alert-success'>\n",
    "    \n",
    "Mélanger notre paquet de cartes revient à mélanger la liste des cartes qui le compose, ce que random.shuffle() peut faire pour nous.\n",
    "\n",
    "</div>"
   ]
  },
  {
   "cell_type": "code",
   "execution_count": 35,
   "id": "2be68200",
   "metadata": {
    "ExecuteTime": {
     "end_time": "2022-02-07T15:40:37.919820Z",
     "start_time": "2022-02-07T15:40:37.910637Z"
    }
   },
   "outputs": [],
   "source": [
    "import random \n",
    "\n",
    "class Deck:\n",
    "    ranks = [str(n) for n in range(2,11)] + list('JQKA')\n",
    "    suits = 'spades hearts diamonds clubs'.split()\n",
    "        \n",
    "    def __init__(self):\n",
    "        self.cards = [Card(rank, suit) for suit in self.suits for rank in self.ranks]\n",
    "        \n",
    "    def __len__(self):\n",
    "        return len(self.cards)\n",
    "    \n",
    "    def __getitem__(self, position):\n",
    "        return self.cards[position]\n",
    "\n",
    "    def __repr__(self):\n",
    "        return \"Deck()\"\n",
    "    \n",
    "    def shuffle(self):\n",
    "        random.shuffle(self.cards)\n",
    "    \n",
    "    def draw(self, n):\n",
    "        cards_drawn = []\n",
    "        for _ in range(n):\n",
    "            card = self.cards.pop(0)\n",
    "            cards_drawn.append(card)\n",
    "        return cards_drawn"
   ]
  },
  {
   "cell_type": "markdown",
   "id": "45e220c7",
   "metadata": {},
   "source": [
    "<div class='alert alert-success'>\n",
    "    \n",
    "La méthode `draw()` fait 2 choses : elle retire n  cartes du sommet du paquet, et renvoie une liste de ces cartes (pour l'ajouter à la main d'un joueur dans un programme complet).\n",
    "\n",
    "la méthode .pop() permet de retirer un élément d’une liste, tout en le récupérant dans une variable.  \n",
    "Avec l'argument 0, .pop(0) retire et renvoie le premier objet de la liste de cartes.  \n",
    "Il suffit de répéter l'opération autant de fois que de cartes demandées.\n",
    "    \n",
    "</div>"
   ]
  },
  {
   "cell_type": "code",
   "execution_count": 48,
   "id": "f8102b4d",
   "metadata": {
    "ExecuteTime": {
     "end_time": "2022-02-07T15:42:33.166753Z",
     "start_time": "2022-02-07T15:42:33.162847Z"
    }
   },
   "outputs": [],
   "source": [
    "deck = Deck()\n",
    "deck.shuffle() # mélangeons le paquet"
   ]
  },
  {
   "cell_type": "code",
   "execution_count": 49,
   "id": "92945e5c",
   "metadata": {
    "ExecuteTime": {
     "end_time": "2022-02-07T15:42:33.357362Z",
     "start_time": "2022-02-07T15:42:33.353467Z"
    }
   },
   "outputs": [],
   "source": [
    "hand = deck.draw(5) # on pioche 5 cartes"
   ]
  },
  {
   "cell_type": "code",
   "execution_count": 50,
   "id": "d691a54a",
   "metadata": {
    "ExecuteTime": {
     "end_time": "2022-02-07T15:42:33.707572Z",
     "start_time": "2022-02-07T15:42:33.702992Z"
    }
   },
   "outputs": [
    {
     "data": {
      "text/plain": [
       "[Card('J','spades'),\n",
       " Card('2','hearts'),\n",
       " Card('5','hearts'),\n",
       " Card('J','hearts'),\n",
       " Card('K','spades')]"
      ]
     },
     "execution_count": 50,
     "metadata": {},
     "output_type": "execute_result"
    }
   ],
   "source": [
    "hand # on a bien récupéré 5 cartes"
   ]
  },
  {
   "cell_type": "code",
   "execution_count": 51,
   "id": "4019bda7",
   "metadata": {
    "ExecuteTime": {
     "end_time": "2022-02-07T15:42:34.178716Z",
     "start_time": "2022-02-07T15:42:34.174242Z"
    }
   },
   "outputs": [
    {
     "data": {
      "text/plain": [
       "47"
      ]
     },
     "execution_count": 51,
     "metadata": {},
     "output_type": "execute_result"
    }
   ],
   "source": [
    "len(deck) # le paquet a bien 5 cartes de moins"
   ]
  },
  {
   "cell_type": "code",
   "execution_count": 52,
   "id": "3d5ff2a0",
   "metadata": {
    "ExecuteTime": {
     "end_time": "2022-02-07T15:42:35.011792Z",
     "start_time": "2022-02-07T15:42:35.006646Z"
    }
   },
   "outputs": [
    {
     "data": {
      "text/plain": [
       "52"
      ]
     },
     "execution_count": 52,
     "metadata": {},
     "output_type": "execute_result"
    }
   ],
   "source": [
    "len(deck) + len(hand)"
   ]
  },
  {
   "cell_type": "markdown",
   "id": "7fd19e33",
   "metadata": {},
   "source": [
    "<div class='alert alert-success'>\n",
    "    \n",
    "🎉 Vous êtes arrivé·e au bout de ce module, félicitations ! 🎉\n",
    "\n",
    "</div>"
   ]
  },
  {
   "cell_type": "markdown",
   "id": "7f48a393",
   "metadata": {},
   "source": [
    "<div class='alert alert-success'>\n",
    "    \n",
    "Vous pouvez passer au [notebook d'exercices](../exercices/exercices_niveau_intermediaire.ipynb) pour mettre toutes ces connaissances en pratique… 💪\n",
    "    \n",
    "</div>"
   ]
  }
 ],
 "metadata": {
  "kernelspec": {
   "display_name": "Python 3 (ipykernel)",
   "language": "python",
   "name": "python3"
  },
  "language_info": {
   "codemirror_mode": {
    "name": "ipython",
    "version": 3
   },
   "file_extension": ".py",
   "mimetype": "text/x-python",
   "name": "python",
   "nbconvert_exporter": "python",
   "pygments_lexer": "ipython3",
   "version": "3.10.0rc1"
  },
  "toc": {
   "base_numbering": 1,
   "nav_menu": {},
   "number_sections": true,
   "sideBar": true,
   "skip_h1_title": true,
   "title_cell": "Table des matières",
   "title_sidebar": "Contenu",
   "toc_cell": true,
   "toc_position": {
    "height": "calc(100% - 180px)",
    "left": "10px",
    "top": "150px",
    "width": "225.2px"
   },
   "toc_section_display": true,
   "toc_window_display": true
  }
 },
 "nbformat": 4,
 "nbformat_minor": 5
}
