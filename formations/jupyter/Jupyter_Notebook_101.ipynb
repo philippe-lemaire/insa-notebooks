{
 "cells": [
  {
   "cell_type": "markdown",
   "metadata": {},
   "source": [
    "# Les Bases du Notebook\n",
    "---"
   ]
  },
  {
   "cell_type": "markdown",
   "metadata": {
    "toc": true
   },
   "source": [
    "<h1>Table des Matières<span class=\"tocSkip\"></span></h1>\n",
    "<div class=\"toc\"><ul class=\"toc-item\"><li><span><a href=\"#Le-Tableau-de-bord\" data-toc-modified-id=\"Le-Tableau-de-bord-1\"><span class=\"toc-item-num\">1&nbsp;&nbsp;</span>Le Tableau de bord</a></span><ul class=\"toc-item\"><li><span><a href=\"#L'onglet-Files-ou-Fichiers\" data-toc-modified-id=\"L'onglet-Files-ou-Fichiers-1.1\"><span class=\"toc-item-num\">1.1&nbsp;&nbsp;</span>L'onglet Files ou Fichiers</a></span></li><li><span><a href=\"#L'onglet-Running\" data-toc-modified-id=\"L'onglet-Running-1.2\"><span class=\"toc-item-num\">1.2&nbsp;&nbsp;</span>L'onglet Running</a></span></li></ul></li><li><span><a href=\"#Le-Notebook\" data-toc-modified-id=\"Le-Notebook-2\"><span class=\"toc-item-num\">2&nbsp;&nbsp;</span>Le Notebook</a></span><ul class=\"toc-item\"><li><span><a href=\"#En-tête\" data-toc-modified-id=\"En-tête-2.1\"><span class=\"toc-item-num\">2.1&nbsp;&nbsp;</span>En-tête</a></span></li><li><span><a href=\"#Corps-du-Notebook\" data-toc-modified-id=\"Corps-du-Notebook-2.2\"><span class=\"toc-item-num\">2.2&nbsp;&nbsp;</span>Corps du Notebook</a></span><ul class=\"toc-item\"><li><span><a href=\"#Les-modes\" data-toc-modified-id=\"Les-modes-2.2.1\"><span class=\"toc-item-num\">2.2.1&nbsp;&nbsp;</span>Les modes</a></span></li><li><span><a href=\"#Navigation-à-la-souris\" data-toc-modified-id=\"Navigation-à-la-souris-2.2.2\"><span class=\"toc-item-num\">2.2.2&nbsp;&nbsp;</span>Navigation à la souris</a></span></li><li><span><a href=\"#La-navigation-au-clavier\" data-toc-modified-id=\"La-navigation-au-clavier-2.2.3\"><span class=\"toc-item-num\">2.2.3&nbsp;&nbsp;</span>La navigation au clavier</a></span></li></ul></li></ul></li><li><span><a href=\"#L’éditeur-de-texte\" data-toc-modified-id=\"L’éditeur-de-texte-3\"><span class=\"toc-item-num\">3&nbsp;&nbsp;</span>L’éditeur de texte</a></span></li><li><span><a href=\"#La-syntaxe-Markdown-plus-en-détail\" data-toc-modified-id=\"La-syntaxe-Markdown-plus-en-détail-4\"><span class=\"toc-item-num\">4&nbsp;&nbsp;</span>La syntaxe Markdown plus en détail</a></span></li><li><span><a href=\"#Aujouter-des-tests-unitaires-pour-contrôler-le-résultat-du-code-produit\" data-toc-modified-id=\"Aujouter-des-tests-unitaires-pour-contrôler-le-résultat-du-code-produit-5\"><span class=\"toc-item-num\">5&nbsp;&nbsp;</span>Aujouter des tests unitaires pour contrôler le résultat du code produit</a></span></li><li><span><a href=\"#Bonnes-pratiques\" data-toc-modified-id=\"Bonnes-pratiques-6\"><span class=\"toc-item-num\">6&nbsp;&nbsp;</span>Bonnes pratiques</a></span><ul class=\"toc-item\"><li><span><a href=\"#Redémarrer-le-noyau-et-relancer-toutes-les-cellules-avant-de-considérer-le-code-comme-correct\" data-toc-modified-id=\"Redémarrer-le-noyau-et-relancer-toutes-les-cellules-avant-de-considérer-le-code-comme-correct-6.1\"><span class=\"toc-item-num\">6.1&nbsp;&nbsp;</span>Redémarrer le noyau et relancer toutes les cellules avant de considérer le code comme correct</a></span></li><li><span><a href=\"#Sauvegarder-le-notebook-sans-les-cellules-de-sortie\" data-toc-modified-id=\"Sauvegarder-le-notebook-sans-les-cellules-de-sortie-6.2\"><span class=\"toc-item-num\">6.2&nbsp;&nbsp;</span>Sauvegarder le notebook sans les cellules de sortie</a></span></li></ul></li></ul></div>"
   ]
  },
  {
   "cell_type": "markdown",
   "metadata": {},
   "source": [
    "Pour utiliser Jupyter Notebook 3 options :\n",
    "\n",
    "- la voie de la simplicité : installez python + les modules nécessaires dont jupyter notebook d'un coup d'un seul en installant anaconda&nbsp;: [https://www.anaconda.com/products/individual](https://www.anaconda.com/products/individual)\n",
    "- la voie de la délégation : utilisez une des machines virtuelles de l'INSA à votre disposition, anaconda y est installé\n",
    "- la voie du minimalisme : si vous avez déjà un environnement Python 3 installé sur votre poste, un simple `pip install notebook`dans un terminal vous installera le nécessaire.\n",
    "\n",
    "Ensuite, vous pouvez utiliser le raccourci dans Anaconda qui lance le serveur jupyter notebook, ou bien dans un terminal, utiliser la commande `jupyter notebook`"
   ]
  },
  {
   "cell_type": "markdown",
   "metadata": {},
   "source": [
    "## Le Tableau de bord\n",
    "---"
   ]
  },
  {
   "cell_type": "markdown",
   "metadata": {},
   "source": [
    "Quand le serveur notebook est démarré, votre navigateur par défaut va s'ouvrir sur le Tableau de bord Jupyter.\n",
    "Ce tableau de bord sert de page de démarrage pour vos notebooks. Son rôle principal est de vous afficher la partie de votre système de fichiers accessible à jupyter, de les parcourir et de créer ou lancer un notebook.\n",
    "\n",
    "Il est préférable de laisser cet onglet ouvert. Vous pouvez ajouter un marque page dans votre navigateur sur cette page pour la retrouver si jamais vous avez fermé l’onglet par erreur.\n"
   ]
  },
  {
   "cell_type": "markdown",
   "metadata": {},
   "source": [
    "### L'onglet Files ou Fichiers\n",
    "\n",
    "L’onglet **`Files`** du Tableau de bord montre une vue interactive de la partie du système de fichiers accessibles à l'utilisateur. Typiquement la racine ici est le dossier dans lequel le serveur jupyter a été lancé (le dossier personnel pour ceux qui lancent jupyter notebook via le bouton dans Anaconda).\n",
    "\n",
    "En haut de la liste des fichiers vous avez un fil d’Ariane du dossier courant. Vous pouvez descendre dans vos dossiers en cliquant sur les dossiers, et remonter via le fil d’Ariane.\n",
    "\n",
    "Un nouveau notebook peut être créé en cliquant sur le bouton **`New`** en haut à droite, puis en choisissant Python 3.\n",
    "\n",
    "Vous pouvez ouvrir un notebook existant en naviguant jusqu'à sa position dans le système de fichiers et en cliquant ensuite dessus. Les notebooks sont des fichiers à l'extension **`.ipynb`**\n",
    "\n",
    "\n",
    "<img src=\"https://nbviewer.org/github/ipython/ipython-in-depth/blob/HEAD/examples/Notebook/images/dashboard_notebooks_tab_5_0.png\" />"
   ]
  },
  {
   "cell_type": "markdown",
   "metadata": {},
   "source": [
    "### L'onglet Running \n",
    "\n",
    "L’onglet **Running** affiche les notebooks en cours d'exécution. Pratique quand la session de travail a été longue…\n",
    "\n",
    "\n",
    "Chaque notebook a un bouton orange **`Shutdown`** qui peut être utilisé pour l’éteindre, en coupant son noyaux d'exécution associé. Fermer l’onglet du navigateur dans lequel se trouvait le notebook n'est pas suffisant pour effectivement fermer le noyau.\n",
    "\n",
    "\n",
    "<img src=\"https://nbviewer.org/github/ipython/ipython-in-depth/blob/HEAD/examples/Notebook/images/dashboard_running_tab_4_0.png\" />"
   ]
  },
  {
   "cell_type": "markdown",
   "metadata": {},
   "source": [
    "## Le Notebook\n",
    "---"
   ]
  },
  {
   "cell_type": "markdown",
   "metadata": {},
   "source": [
    "Quand un notebook est ouvert, un nouvel onglet de votre navigateur va être créé pour l’accueillir. Cet onglet est une application web avec une interface qui permet d’exécuter et de modifier directement le notebook.\n",
    "\n",
    "Rappel, on peut créer un notebook depuis l’onglet **`Files`** du Tableau de bord Jupyter."
   ]
  },
  {
   "cell_type": "markdown",
   "metadata": {},
   "source": [
    "### En-tête\n",
    "\n",
    "En haut d’un notebook il y a un en-tête qui contient le titre du Notebook (le nom du fichier sans l’extension .ipynb), une barre de menu et une barre d'outils.\n",
    "\n",
    "Cet en-tête reste fixé en haut de l'écran, même quand on défile le notebook. Le titre peut être modifié directement (ce qui a pour effet également de renommer le fichier du notebook), et les barres de menu et d'outils contiennent de nombreuses actions pour la navigation et la modification du notebook.\n",
    "\n",
    "\n",
    "<img src=\"https://nbviewer.org/github/ipython/ipython-in-depth/blob/HEAD/examples/Notebook/images/notebook_header_4_0.png\" />"
   ]
  },
  {
   "cell_type": "markdown",
   "metadata": {},
   "source": [
    "### Corps du Notebook\n",
    "\n",
    "Le corps d’un notebook est constitué de cellules. Chaque cellule contient soit du texte (markdown, html, LaTeX, texte brut) ou du code Python à exécuter. Les cellules peuvent être insérées à n’importe quelle position dans la structure, être réordonnées, scindées, fusionnées, modifiées et réexécutées à volonté, ce qui donne une très grande flexibilité dans l’élaboration d’un document complet, et dans la rédaction d’un algorithme.\n",
    "\n",
    "\n",
    "- **Les cellules Markdown** - Elles sont utilisée pour construire votre cours ou votre énoncé avec du texte mis en forme. La plupart des cellules de ce document sont de ce type. Vous pouvez utiliser la syntaxe Markdown (de l'html simplifié), de l’html pur et dur, et même du LaTeX.\n",
    "\n",
    "- **Les cellules de Code** - Elles servent à rédiger du code Python à exécuter. Il y en a de deux sortes : les cellules d'entrée où vous saisissez votre code Python, et les cellules de sortie qui représentent la valeur de sortie de la dernière instruction de la cellule de code immédiatement au dessus. Cela peut être un simple nombre, ou un graphique, ou même un widget interactif.\n",
    "\n",
    "- **Les cellules raw** - Elles servent à mettre du texte brut, qui n’est ni formaté ni exécuter. Passer une cellule de code ou de markdown en mode raw permet de la neutraliser tout en la conservant.\n",
    "\n",
    "<img src=\"https://nbviewer.org/github/ipython/ipython-in-depth/blob/HEAD/examples/Notebook/images/notebook_body_4_0.png\" />"
   ]
  },
  {
   "cell_type": "markdown",
   "metadata": {},
   "source": [
    "#### Les modes \n",
    "\n",
    "L’interface notebook est *modale*. Cela veut dire que le clavier a des effets différents selon le mode en cours.\n",
    "Il y a deux modes : **édition** et **commande**\n",
    "\n",
    "\n",
    "**Le mode édition** est indiqué par une bordure de cellule active de couleur verte et un curseur clignotant dans la cellule, comme dans un éditeur de texte.\n",
    "\n",
    "\n",
    "<img src=\"https://nbviewer.org/github/ipython/ipython-in-depth/blob/HEAD/examples/Notebook/images/edit_mode.png\">\n",
    "\n",
    "**Le mode Commande** est indiqué par une bordure de cellule grise (et bleue sur la gauche) Dans ce mode, la structure du notebook peut-être modifiée, mais le texte contenu dans une cellule en particulier n’est pas modifiable.\n",
    "\n",
    "Plus important, dans le mode Commande, les touches du clavier sont asociées à des commandes. Par exemple **`c`** va copier une cellule entière, **`v`** va coller la ou les cellules copiées.\n",
    "\n",
    "\n",
    "<img src=\"https://nbviewer.org/github/ipython/ipython-in-depth/blob/HEAD/examples/Notebook/images/command_mode.png\">\n",
    "\n",
    "<br>\n",
    "<div class=\"alert alert-success\">\n",
    "Pour entrer en mode édition, appuyez sur la touche Entrée du clavier ou cliquez dans la zone de texte de la cellule.\n",
    "</div>\n",
    "<div class=\"alert alert-success\">\n",
    "Entrez en mode commande en utilisant Échap sur le clavier ou en cliquant en dehors de la zone de texte de la cellule.\n",
    "</div>\n",
    "<div class=\"alert alert-warning\">\n",
    "N'essayez pas de tapper du texte si vous n’êtes pas en mode édition, vous allez avoir des surprises parce que vous risquez d’activer des raccourcis claviers sans vous en rendre compte. Par exemple, <b>dd</b> efface la cellule sélectionnée.\n",
    "</div>"
   ]
  },
  {
   "cell_type": "markdown",
   "metadata": {},
   "source": [
    "#### Navigation à la souris\n",
    "\n",
    "\n",
    "Le premier concept à comprendre dans la navigation à la souris est que les cellules peuvent être sélectionnées en cliquant dedans. La cellule sélectionnée est encadrée d'une bordure grise ou verte, selon le mode commande ou édition. Cliquer dans la zone de texte de la cellule va passer en mode édition. Cliquer dans la zone à gauche de la cellule ou dans sa sortie située en dessous va passer en mode commande.\n",
    "\n",
    "Le second concept à comprendre est que **les actions de cellules s'appliquent à la cellule sélectionnée**. Par exemple, pour exécuter le code dans une cellule, on la sélectionne et on clique sur le bouton Exécuter <button class='btn btn-default btn-xs'><i class=\"fa fa-play icon-play\"></i></button> dans la barre d'outils ou bien dans le menu on va dans **`Cell -> Run`**. Idem pour copier / coller une cellule, avec les boutons de la barre d'outil ou les commandes dans le menu Edit.\n",
    "Avec ce simple usage, vous devriez pouvoir réaliser toutes les actions voulues à la souris.\n",
    "\n",
    "Les cellules Markdown ont un autre état : elles peuvent être en mode rendu ou non-rendu. Quand elles sont en mode rendu, une jolie présentation de leur contenu (html ou formules LaTeX) est affiché. En mode non rendu, vous verrez les instructions LaTeX ou la syntaxe Markdown.\n",
    "\n",
    "Pour avoir le beau rendu, il suffit d'exécuter la cellule Markdown avec les mêmes actions que pour une cellule de code. Pour repasser en mode pré-rendu, on double clique dans la zone de texte de la celulle Markdown.\n"
   ]
  },
  {
   "cell_type": "markdown",
   "metadata": {},
   "source": [
    "#### La navigation au clavier\n",
    "\n",
    "L’interface modale est optimisée pour le clavier, et largement inspirée par Vim.\n",
    "\n",
    "Cela est rendu possible par deux jeux de raccourcis clavier distincts pour les modes édition et commande.\n",
    "\n",
    "Les deux raccourcis les plus importants sont **`Entrée`** qui entre en mode édition et **`Échap`** qui passe en mode commande.\n",
    "\n",
    "En mode édition, la majorité du clavier est dédiée à la saisie de texte dans la cellule, donc il y a relativement peu de raccourcis clavier. En mode commande, c'est le contraire.\n",
    "\n",
    "L’image qui suit donne un aperçu des raccourcis clavier disponibles. Vous pouvez les voir dans le notebook dans le menu **`Help -> Keyboard Shortcuts`**.\n",
    "\n",
    "<img src=\"https://nbviewer.org/github/ipython/ipython-in-depth/blob/HEAD/examples/Notebook/images/notebook_shortcuts_4_0.png\">\n",
    "\n",
    "Les raccourcis suivants sont les plus utiles au quotidien :\n",
    "\n",
    "- Navigation de base: **`entrée`**, **`maj-entrée`**, **`haut/k`**, **`bas/j`**\n",
    "- Sauvegarder le notebook: **`s`**\n",
    "- Changer le type de cellule: **`y`**, **`m`**, **`1-6`**, **`r`**\n",
    "- Créer des cellules : **`a`**, **`b`** (pour above et below)\n",
    "- Éditer des cellules: **`x`**, **`c`**, **`v`**, **`d`**, **`z`**, **`ctrl+shift+-`**\n",
    "- Opérations du noyau: **`i`**, **`.`**"
   ]
  },
  {
   "cell_type": "markdown",
   "metadata": {},
   "source": [
    "## L’éditeur de texte\n",
    "---"
   ]
  },
  {
   "cell_type": "markdown",
   "metadata": {},
   "source": [
    "La webapp notebook peut modifier des fichiers textes en plus des notebooks.\n",
    "\n",
    "N’importe quel fichier de texte basique (code python, csv, ou autre) peut être modifié directement avec l’éditeur de texte intégré.\n",
    "\n",
    "L’éditeur de texte s’ouvre automatiquement dans un onglet du navigateur web quand un fichier texte est ouvert depuis le tableau de bord Jupyter.\n",
    "\n",
    "L’éditeur de texte a un en-tête similaire à celui des notebooks, et inclus un titre et une barre de menu. La coloration de syntaxe est déterminée automatiquement de par l’extension du fichier (.py, .html…) ou peut être choisie manuellement dans le menu **`Langage`**\n",
    "\n",
    "<img src=\"https://nbviewer.org/github/ipython/ipython-in-depth/blob/HEAD/examples/Notebook/images/text_editor_4_0.png\">"
   ]
  },
  {
   "cell_type": "markdown",
   "metadata": {},
   "source": [
    "## La syntaxe Markdown plus en détail"
   ]
  },
  {
   "cell_type": "markdown",
   "metadata": {},
   "source": [
    "[](Markdown_101.ipynb)"
   ]
  },
  {
   "cell_type": "markdown",
   "metadata": {},
   "source": [
    "[Un notebook à part](Markdown_101.ipynb) détaille l’usage de la syntaxte Markdown."
   ]
  },
  {
   "cell_type": "markdown",
   "metadata": {},
   "source": [
    "## Aujouter des tests unitaires pour contrôler le résultat du code produit\n",
    "\n",
    "Lorsque vous donnez un exercice à faire sous la forme d’un notebook, vous pouvez y préparer une cellule de tests unitaires qui va permettre au participant de vérifier automatiquement si le code rédigé produit les résultats attendu.\n",
    "\n",
    "NB : si le terme ne vous est pas familier, un test unitaire (unit test en anglais) est une procédure permettant de vérifier le bon fonctionnement d'une partie précise d'un logiciel ou d'une portion d'un programme (appelée « unité » ou « module »). L’idée est de rédiger un test pour chaque petit élément testable du résultat produit par le code.\n",
    "\n",
    "**Exemple d’exercice avec tests unitaires à la fin**\n",
    "\n",
    "La suite de Fibonacci est la séquence de nombres :\n",
    "\n",
    "$\\{F_n\\}_{n=1}^\\infty$\n",
    "\n",
    "Définie par l’équation récurrente suivante :\n",
    "\n",
    "$$F_n = F_{n-1} + F_{n-2}$$\n",
    "\n",
    "avec $F_1 = F_2 = 1$, et par convention $F_0 = 0$.\n",
    "\n",
    "Créez une fonction `fibo(n)` qui renvoie le Nième terme de la suite.\n",
    "\n",
    "*NB :* pour les besoins des tests unitaires, vous devez demander aux étudiants de nommer certains objets (variables, fonctions…) précisément, car les tests vont faire appel à ces objets par leur nom. Ici `fibo()` a été mis en valeur par un balisage en Markdown. Encadré par deux \\` (back-ticks, ou accents graves seuls), il est présenté dans une police \"code\".  \n",
    "\n",
    "Pour des purs débutants, vous pouvez comme ci-dessous donner le squelette de la fonction, pour assurer un peu plus le fait que le nom sera respecté.\n"
   ]
  },
  {
   "cell_type": "code",
   "execution_count": null,
   "metadata": {},
   "outputs": [],
   "source": [
    "def fibo(n):\n",
    "    \"\"\"Renvoie le Nième terme de la suite de Fibonacci.\"\"\"\n",
    "    # Votre code ici. Retirez le pass et assurez vous que votre fonction\n",
    "    # return la bonne valeur. Utilisez une boucle pour répéter les opérations\n",
    "    # nécessaires au calcul du nième terme. Ne changez pas le nom de la fonction.\n",
    "    pass"
   ]
  },
  {
   "cell_type": "code",
   "execution_count": null,
   "metadata": {},
   "outputs": [],
   "source": [
    "# vous pouvez faire vos tests dans cette cellule"
   ]
  },
  {
   "cell_type": "code",
   "execution_count": null,
   "metadata": {},
   "outputs": [],
   "source": [
    "# Cellule de tests unitaires, exécutez-là et vérifiez que tous les tests sont ok.\n",
    "# Si un test échoue, retravaillez votre fonction, puis exécutez à nouveau la cellule\n",
    "# hébergeant la définition de votre fonction et cette cellule de tests\n",
    "\n",
    "import unittest\n",
    "\n",
    "\n",
    "class TestNotebook(unittest.TestCase):\n",
    "\n",
    "    def test_fibo_10(self):\n",
    "        self.assertEqual(fibo(10), 55)\n",
    "    def test_fibo_0(self):\n",
    "        self.assertEqual(fibo(0), 0)\n",
    "    def test_fibo_1(self):\n",
    "        self.assertEqual(fibo(1), 1)\n",
    "   \n",
    "\n",
    "\n",
    "unittest.main(argv=[''], verbosity=2, exit=False);"
   ]
  },
  {
   "cell_type": "markdown",
   "metadata": {},
   "source": [
    "## Bonnes pratiques\n",
    "\n",
    "### Redémarrer le noyau et relancer toutes les cellules avant de considérer le code comme correct\n",
    "\n",
    "Quand vous créez une fonction ou une variable dans une cellule, la fonction ou la variable continue à exister dans la mémoire du noyau, même si la cellule d’origine a été supprimée.\n",
    "\n",
    "Cependant ces objets disparaîtront de la mémoire lors du démarrage d’un nouveau noyau (chez vous, ou évidemment chez une personne utilisant votre notebook).\n",
    "\n",
    "Cela peut causer problème si votre code dépend de ces fonctions ou variables : vous pourriez ne pas vous rendre compte de leur absence.\n",
    "\n",
    "Autre difficulté similaire : parfois lorsqu'on fait des essais, on modifie des variables dans des cellules situées à un endroit, dans le but de faire fonctionner des cellules situées plus haut ! Cela peut fonctionner de vôtre côté, mais la prochaine personne a utiliser votre notebook va faire face à des erreurs, car elle exécutera naturellement les cellules de haut en bas. Vous devez vous assurer que votre notebook fonctionne bien quand on l’exécute dans l’ordre naturel des choses.\n",
    "\n",
    "Pour vérifier que votre notebook fonctionne bien comme voulu, vous pouvez faire un redémarrage du noyau avec le menu **Kernel** / **Restart and Run all**, qui comme le nom l’indique redémarre le noyau, puis exécuter toutes les cellules dans l’ordre.\n",
    "\n",
    "### Sauvegarder le notebook sans les cellules de sortie \n",
    "\n",
    "Il est souvent préférable de fournir des notebooks ne contenant aucune cellule de sortie.\n",
    "\n",
    "Ils sont plus légers, et les utilisateurs pourront réexécuter les cellules une par une et à leur rythme, et voir les sorties. Ce sera également plus facile pour eux de distinguer les cellules déjà exécutées de celles qui ne le sont pas encore.\n",
    "\n",
    "Pour retirer toutes les sorties avant votre ultime sauvegarde, il suffit d’utiliser le menu **Kernel / Restart & Clear output** puis de sauvegarder votre notebook.\n",
    "\n",
    "<div class='alert alert-success'>\n",
    "    \n",
    "🎉 Vous êtes arrivé·e au bout de cette initiation aux Jupyter Notebooks, félicitations ! 🎉\n",
    "    \n",
    "</div>\n",
    "\n",
    "<div class='alert alert-success'>\n",
    "    \n",
    "Vous pouvez passer au [notebook d'exercices](exercices/exercices_jupyter.ipynb) pour mettre toutes ces connaissances en pratique… 💪\n",
    "\n",
    "</div>"
   ]
  }
 ],
 "metadata": {
  "kernelspec": {
   "display_name": "Python 3 (ipykernel)",
   "language": "python",
   "name": "python3"
  },
  "language_info": {
   "codemirror_mode": {
    "name": "ipython",
    "version": 3
   },
   "file_extension": ".py",
   "mimetype": "text/x-python",
   "name": "python",
   "nbconvert_exporter": "python",
   "pygments_lexer": "ipython3",
   "version": "3.10.0rc1"
  },
  "toc": {
   "base_numbering": 1,
   "nav_menu": {},
   "number_sections": true,
   "sideBar": true,
   "skip_h1_title": true,
   "title_cell": "Table des Matières",
   "title_sidebar": "Contents",
   "toc_cell": true,
   "toc_position": {},
   "toc_section_display": true,
   "toc_window_display": true
  }
 },
 "nbformat": 4,
 "nbformat_minor": 1
}
