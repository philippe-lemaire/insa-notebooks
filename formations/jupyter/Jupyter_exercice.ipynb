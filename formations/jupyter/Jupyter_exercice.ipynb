{
 "cells": [
  {
   "cell_type": "markdown",
   "id": "99345c92",
   "metadata": {},
   "source": [
    "# Exercice Jupyter Notebook\n",
    "\n",
    "Ce notebook est un exemple de TP OMSI. Mais il contient des erreurs de mise en forme et de structure que vous aller devoir corriger.\n",
    "\n",
    "1. Une cellule non loin du début provoque une erreur. Son contenu est correct, mais peut-être que son type ne l’est pas.\n",
    "1. Assurez-vous que la structure générale des sections et sous sections est logique. Rappel : \n",
    "    - `#` => Titre du document, \n",
    "    - `##` => Section, \n",
    "    - `###` => Sous-section, etc…\n",
    "1. Dans la section intitulée `Intégrales doubles se ramenant à des intégrales simples en coordonnées cartésiennes et polaires (deuxième exemple guidé)` il y a au début une expression en LaTeX qui ne s’affiche pas correctement. Ajouter ce qu'il manque pour qu’elle soit bien rendue.\n",
    "1. Dans la sous-section intitulée `Utiliser le script ci-dessous qui donne une approximation de la valeur de m.`, on demande aux étudiants de préparer plusieurs variables qui constitueront in fine un tableau de résultats. Insérez une cellule de tests unitaires qui vérifieront que ces variables contiennent les bonnes valeurs avant la cellule qui affiche le tableau (la cellule qui commence par `import pandas as pd`)"
   ]
  },
  {
   "cell_type": "markdown",
   "id": "7ed2bc53",
   "metadata": {},
   "source": [
    "#### OMSI 2021-22 - TP/TD Intégration numérique\n",
    "### Programmation de sommes de Riemann avec Python"
   ]
  },
  {
   "cell_type": "markdown",
   "id": "0d565b52",
   "metadata": {},
   "source": [
    "## Introduction\n",
    "\n",
    "Ce TP s'inscrit dans le cadre de l'utilisation des outils numérique en OMSI et sert d'introduction\n",
    "au chapitre 6 du cours. Il consiste à approximer le calcul d'intégrales simples par la méthode de\n",
    "Riemann avec comme objectif pédagogique d'aider à mieux comprendre les notions de bornes\n",
    "d'intégration et de balayage d'un domaine. Ces bases seront utiles ensuite pour la résolution\n",
    "des intégrales multiples. Un autre aspect est d'aborder la problématique de la convergence des\n",
    "calculs numériques.\n",
    "\n",
    "Ce TP de 2 heures est à effectuer sur PC en utilisant le langage Python. Les scripts (ou programmes) sont très simples et ne font pas appel à un environnement graphique. Des connaissances de base en Python suffisent : définition de variables, affichage d'un résultat, boucles."
   ]
  },
  {
   "cell_type": "code",
   "execution_count": 2,
   "id": "e55335ad",
   "metadata": {},
   "outputs": [
    {
     "ename": "SyntaxError",
     "evalue": "unterminated string literal (detected at line 2) (3540474030.py, line 2)",
     "output_type": "error",
     "traceback": [
      "\u001b[0;36m  Input \u001b[0;32mIn [2]\u001b[0;36m\u001b[0m\n\u001b[0;31m    Une tige métallique de longueur `l` a une section non uniforme, elle est plus épaisse d'un côté que\u001b[0m\n\u001b[0m                                                                                           ^\u001b[0m\n\u001b[0;31mSyntaxError\u001b[0m\u001b[0;31m:\u001b[0m unterminated string literal (detected at line 2)\n"
     ]
    }
   ],
   "source": [
    "### Intégrale simple en coordonnées cartésiennes : masse d’une barre inhomogène (premier exemple guidé)\n",
    "Une tige métallique de longueur `l` a une section non uniforme, elle est plus épaisse d'un côté que\n",
    "de l'autre. La masse linéique `λ` varie en fonction de la distance `x`, par rapport à une extrémité\n",
    "de la tige, selon la loi `λ = λ0 + kx²`, où `λ0` et `k` sont des constantes positives.\n",
    "\n",
    "1. Déterminer analytiquement la masse `m` de cette tige. Indication : `dm = λdx`\n",
    "1. Application numérique : calculer `m` pour `l` = 1,2 m, `λ0 = 0,625 kg * m⁻¹`, `k = 5,0 *10⁻² kg * m⁻³`.\n",
    "1. Utiliser le script 1 qui donne une approximation de la valeur de m. Diminuer petit à petit\n",
    "le pas d'intégration dx : commencer par 1e − 1, par exemple, puis 5e − 2, 1e − 2, 1e − 3...\n",
    "jusqu'à 1e − 6. Dans un logiciel tableur, créer une colonne dx, une colonne m approchée,\n",
    "une colonne m exacte et une colonne dans laquelle vous calculerez l'écart relatif en pourcent\n",
    "entre la valeur approchée et la valeur exacte. Tracer l'évolution de m en fonction du pas\n",
    "d'intégration (utiliser une échelle logarithmique pour l'axe des abscisses). Conclusion ?\n",
    "1. Modifier le script pour utiliser une boucle for"
   ]
  },
  {
   "cell_type": "markdown",
   "id": "c945c96b",
   "metadata": {
    "ExecuteTime": {
     "end_time": "2022-01-18T13:13:50.061661Z",
     "start_time": "2022-01-18T13:13:50.057419Z"
    }
   },
   "source": [
    "#### Déterminer analytiquement la masse `m` de cette tige. Indication : `dm = λdx`"
   ]
  },
  {
   "cell_type": "markdown",
   "id": "e7c74027",
   "metadata": {
    "ExecuteTime": {
     "end_time": "2022-01-18T14:24:16.372299Z",
     "start_time": "2022-01-18T14:24:16.357691Z"
    }
   },
   "source": []
  },
  {
   "cell_type": "markdown",
   "id": "763544ef",
   "metadata": {
    "ExecuteTime": {
     "end_time": "2022-01-18T13:14:29.769858Z",
     "start_time": "2022-01-18T13:14:29.765884Z"
    }
   },
   "source": [
    "### Application numérique : calculer `m` pour `l=1.2 m`, `λ0=0.625 kg*m⁻¹`, `k=0.05 kg*m⁻³`."
   ]
  },
  {
   "cell_type": "code",
   "execution_count": null,
   "id": "869eead3",
   "metadata": {
    "ExecuteTime": {
     "end_time": "2022-02-01T16:57:08.908164Z",
     "start_time": "2022-02-01T16:57:08.906013Z"
    }
   },
   "outputs": [],
   "source": [
    "# votre code ici, insérez des cellules au besoin"
   ]
  },
  {
   "cell_type": "code",
   "execution_count": null,
   "id": "900eb947",
   "metadata": {
    "ExecuteTime": {
     "end_time": "2022-02-01T16:57:08.926201Z",
     "start_time": "2022-02-01T16:57:08.909648Z"
    }
   },
   "outputs": [],
   "source": []
  },
  {
   "cell_type": "markdown",
   "id": "5f0bc148",
   "metadata": {},
   "source": [
    "### Utiliser le script ci-dessous qui donne une approximation de la valeur de m. \n",
    "\n",
    "\n",
    "- Diminuer petit à petit le pas d'intégration dx : commencer par 1e − 1, par exemple, puis 5e−2, 1e−2, 1e−3…\n",
    "jusqu'à 1e-6. \n",
    "- Créez une liste de valeurs pour dx, une liste des valeurs de m approchées correspondantes, une liste de valeurs exactes de m aussi longue, et une liste des écarts entre les valeurs approchées et les valeurs exactes. Créez une DataFrame pandas avec ces 4 listes en colonnes. \n",
    "- Tracer l'évolution de m en fonction du pas d'intégration (utiliser une échelle logarithmique pour l'axe des abscisses). \n",
    "- Conclusion \n"
   ]
  },
  {
   "cell_type": "code",
   "execution_count": null,
   "id": "46e682be",
   "metadata": {
    "ExecuteTime": {
     "end_time": "2022-02-01T16:57:08.937801Z",
     "start_time": "2022-02-01T16:57:08.929803Z"
    }
   },
   "outputs": [],
   "source": [
    "#Script 1\n",
    "longueur = 1.2  # longueur\n",
    "lambda_0 = 0.625\n",
    "k = 5.0e-2\n",
    "\n",
    "m = 0.0  # initialisation du résultat de l’intégrale\n",
    "dx = 1e-2  # pas d’intégration sur x\n",
    "x = 0.0  # initialisation de la variable x à la première borne\n",
    "\n",
    "while x < longueur:  # tant que x < l on répète les instructions suivantes\n",
    "    m = m + (lambda_0 + k * x**2) * dx  # mise à jour de m\n",
    "    x = x + dx  # mise à jour de x, on l’augmente de la valeur du pas\n",
    "\n",
    "print(\" Résultat par la méthode de Riemann : {0:f} \".format(m))\n",
    "print(\" Résultat exact : {0:f} \".format(lambda_0 * longueur + (k * longueur**3) / 3))"
   ]
  },
  {
   "cell_type": "code",
   "execution_count": null,
   "id": "66a21cd4",
   "metadata": {
    "ExecuteTime": {
     "end_time": "2022-02-01T16:57:08.945134Z",
     "start_time": "2022-02-01T16:57:08.940552Z"
    },
    "scrolled": false
   },
   "outputs": [],
   "source": [
    "# préparez dans une variable appelée dxs la liste des différentes valeurs de dx\n",
    "\n",
    "dxs = [10**-k for k in range(1,7)] + [5*10**-k for k in range(1,7)]\n",
    "dxs.sort(reverse=True)\n",
    "dxs"
   ]
  },
  {
   "cell_type": "code",
   "execution_count": null,
   "id": "08635a08",
   "metadata": {
    "ExecuteTime": {
     "end_time": "2022-02-01T16:57:08.951809Z",
     "start_time": "2022-02-01T16:57:08.947217Z"
    }
   },
   "outputs": [],
   "source": [
    "#Script 1\n",
    "longueur = 1.2  # longueur\n",
    "lambda_0 = 0.625\n",
    "k = 5.0e-2\n",
    "\n",
    "def riemann(dx):\n",
    "    m = 0.0  # initialisation du résultat de l’intégrale\n",
    "    \n",
    "    x = 0.0  # initialisation de la variable x à la première borne\n",
    "\n",
    "    while x < longueur:  # tant que x < l on répète les instructions suivantes\n",
    "        m = m + (lambda_0 + k * x**2) * dx  # mise à jour de m\n",
    "        x = x + dx  # mise à jour de x, on l’augmente de la valeur du pas\n",
    "    return m\n"
   ]
  },
  {
   "cell_type": "code",
   "execution_count": null,
   "id": "3fd88966",
   "metadata": {
    "ExecuteTime": {
     "end_time": "2022-02-01T16:57:08.958834Z",
     "start_time": "2022-02-01T16:57:08.953904Z"
    }
   },
   "outputs": [],
   "source": [
    "riemann(0.01)"
   ]
  },
  {
   "cell_type": "code",
   "execution_count": null,
   "id": "cbb3e23f",
   "metadata": {
    "ExecuteTime": {
     "end_time": "2022-02-01T16:57:09.229091Z",
     "start_time": "2022-02-01T16:57:08.961041Z"
    }
   },
   "outputs": [],
   "source": [
    "# préparez dans m_approx une liste de valeurs de m approchée, une pour chaque valeur de la liste dxs.\n",
    "# idéalement utilisez une boucle for pour la constituer à partir du script 1\n",
    "\n",
    "m_approx = [riemann(dx) for dx in dxs]\n",
    "m_approx"
   ]
  },
  {
   "cell_type": "code",
   "execution_count": null,
   "id": "0d8afe8a",
   "metadata": {
    "ExecuteTime": {
     "end_time": "2022-02-01T16:57:09.235375Z",
     "start_time": "2022-02-01T16:57:09.230613Z"
    }
   },
   "outputs": [],
   "source": [
    "# créez une liste m_exacts, aussi longue que les 2 autres, avec pour chaque élément la masse calculée en 2.2\n",
    "m_exacts = [0.7788 for value in dxs]\n",
    "m_exacts"
   ]
  },
  {
   "cell_type": "code",
   "execution_count": null,
   "id": "ced4829c",
   "metadata": {
    "ExecuteTime": {
     "end_time": "2022-02-01T16:57:09.251065Z",
     "start_time": "2022-02-01T16:57:09.238562Z"
    }
   },
   "outputs": [],
   "source": [
    "# créez une liste ecarts, contenant les écarts relatifs entre les valeurs de m_approx et m_exacts\n",
    "\n",
    "ecarts = []\n",
    "\n",
    "\n",
    "for i in range(0, len(m_exacts)):\n",
    "    ecarts.append((m_approx[i] - m_exacts[i])/m_exacts[i])\n",
    "\n",
    "ecarts"
   ]
  },
  {
   "cell_type": "code",
   "execution_count": null,
   "id": "2e80cdde",
   "metadata": {
    "ExecuteTime": {
     "end_time": "2022-02-01T16:57:09.256489Z",
     "start_time": "2022-02-01T16:57:09.252349Z"
    }
   },
   "outputs": [],
   "source": [
    "ecarts = [(approx - exact) / exact for approx, exact in zip(m_approx, m_exacts) ]\n",
    "\n",
    "ecarts\n",
    "    "
   ]
  },
  {
   "cell_type": "code",
   "execution_count": null,
   "id": "f13e4fef",
   "metadata": {
    "ExecuteTime": {
     "end_time": "2022-01-19T14:50:14.973251Z",
     "start_time": "2022-01-19T14:50:14.970339Z"
    }
   },
   "outputs": [],
   "source": []
  },
  {
   "cell_type": "code",
   "execution_count": null,
   "id": "b707a3a6",
   "metadata": {
    "ExecuteTime": {
     "end_time": "2022-01-19T14:50:15.545480Z",
     "start_time": "2022-01-19T14:50:15.539849Z"
    }
   },
   "outputs": [],
   "source": []
  },
  {
   "cell_type": "code",
   "execution_count": null,
   "id": "96fbe110",
   "metadata": {
    "ExecuteTime": {
     "end_time": "2022-02-01T16:57:09.530208Z",
     "start_time": "2022-02-01T16:57:09.258187Z"
    }
   },
   "outputs": [],
   "source": [
    "import pandas as pd # pour faire un tableau dans le notebook plutôt que dans Excel\n",
    "\n",
    "df = pd.DataFrame() # création du DataFrame \n",
    "df['dx'] = dxs\n",
    "df['m_approchée'] = m_approx\n",
    "df['m_exacte'] = m_exacts\n",
    "df['écart relatif'] = ecarts\n",
    "df['dx'] = df['dx'].apply(lambda x: \"{:.1e}\".format(x))\n",
    "df"
   ]
  },
  {
   "cell_type": "markdown",
   "id": "b723c12c",
   "metadata": {
    "ExecuteTime": {
     "end_time": "2022-01-19T14:48:07.972797Z",
     "start_time": "2022-01-19T14:48:07.264462Z"
    }
   },
   "source": [
    "Tracer l'évolution de m en fonction du pas d'intégration (utiliser une échelle logarithmique pour l'axe des abscisses)."
   ]
  },
  {
   "cell_type": "code",
   "execution_count": null,
   "id": "b8698b2c",
   "metadata": {
    "ExecuteTime": {
     "end_time": "2022-02-01T16:57:10.376091Z",
     "start_time": "2022-02-01T16:57:09.532263Z"
    }
   },
   "outputs": [],
   "source": [
    "import matplotlib.pyplot as plt\n",
    "\n",
    "figure, axes = plt.subplots(figsize=(12,6)) \n",
    "\n",
    "plt.plot(df.dx, df.m_approchée, label='masse approchée')\n",
    "plt.plot(df.m_exacte, label='masse exacte')\n",
    "plt.xlabel('dx', labelpad=15)\n",
    "plt.ylabel('m', rotation=0,labelpad=15)\n",
    "plt.legend()\n",
    "plt.show()"
   ]
  },
  {
   "cell_type": "markdown",
   "id": "779a4bdf",
   "metadata": {},
   "source": [
    "Conclusion : …"
   ]
  },
  {
   "cell_type": "markdown",
   "id": "22b5743b",
   "metadata": {},
   "source": [
    "### Modifier le script pour qu'il utilise une boucle for"
   ]
  },
  {
   "cell_type": "code",
   "execution_count": null,
   "id": "d8cbbd78",
   "metadata": {
    "ExecuteTime": {
     "end_time": "2022-02-01T16:57:10.385734Z",
     "start_time": "2022-02-01T16:57:10.378078Z"
    }
   },
   "outputs": [],
   "source": [
    "#Script 1\n",
    "longueur = 1.2  # longueur\n",
    "lambda_0 = 0.625\n",
    "k = 5.0e-2\n",
    "\n",
    "m = 0.0  # initialisation du résultat de l’intégrale\n",
    "dx = 1e-2  # pas d’intégration sur x\n",
    "x = 0.0  # initialisation de la variable x à la première borne\n",
    "\n",
    "n_steps = int(longueur / dx)\n",
    "\n",
    "# boucle for à la place\n",
    "for step in range(n_steps):  # tant que x < l on répète les instructions suivantes\n",
    "    m = m + (lambda_0 + k * x**2) * dx  # mise à jour de m\n",
    "    x = x + dx  # mise à jour de x, on l’augmente de la valeur du pas\n",
    "\n",
    "print(\" Résultat par la méthode de Riemann : {0:f} \".format(m))\n",
    "print(\" Résultat exact : {0:f} \".format(lambda_0 * longueur + (k * longueur**3) / 3))"
   ]
  },
  {
   "cell_type": "markdown",
   "id": "c4d0eebf",
   "metadata": {},
   "source": [
    "## Intégrales doubles se ramenant à des intégrales simples en coordonnées cartésiennes et polaires (deuxième exemple guidé)"
   ]
  },
  {
   "cell_type": "markdown",
   "id": "9ca6c2bd",
   "metadata": {
    "ExecuteTime": {
     "end_time": "2022-01-19T08:37:39.126627Z",
     "start_time": "2022-01-19T08:37:39.103877Z"
    }
   },
   "source": [
    "On propose de calculer l'aire A du domaine D défini par :\n",
    "D =\\Bigl\\{ (x,y) \\in \\mathbb R^2~\\big\\vert\\ x^{2}+y^{2} \\leq 4, x \\geq 0, y \\geq 0 \\Bigr\\}\n",
    "\n",
    "1. Représenter ce domaine. Quel est le résultat attendu ?\n",
    "1. En choisissant judicieusement la surface élémentaire, montrer que l'intégrale permettant de\n",
    "calculer cette aire devient une intégrale simple et la résoudre analytiquement (un changement\n",
    "de variable sera nécessaire).\n",
    "1. Utiliser le script 2 et diminuer petit à petit le pas d'intégration dx. Conclusion ?\n",
    "1. Modifier le script pour utiliser une boucle for\n",
    "1. Réécrire l'intégrale en utilisant les coordonnées polaires. Montrer qu'en choisissant judicieusement la surface élémentaire, on peut ramener l'intégrale à une intégrale simple et la résoudre.\n",
    "1. Écrire un autre script, en vous inspirant du premier, pour calculer cette intégrale."
   ]
  },
  {
   "cell_type": "markdown",
   "id": "03f45068",
   "metadata": {
    "ExecuteTime": {
     "end_time": "2022-01-19T08:55:56.478562Z",
     "start_time": "2022-01-19T08:55:56.472057Z"
    }
   },
   "source": [
    "##### Représenter ce domaine. Quel est le résultat attendu ?"
   ]
  },
  {
   "cell_type": "code",
   "execution_count": null,
   "id": "98acd516",
   "metadata": {
    "ExecuteTime": {
     "end_time": "2022-01-19T15:11:29.300492Z",
     "start_time": "2022-01-19T15:11:29.296303Z"
    }
   },
   "outputs": [],
   "source": []
  },
  {
   "cell_type": "code",
   "execution_count": null,
   "id": "dd1bc828",
   "metadata": {
    "ExecuteTime": {
     "end_time": "2022-01-19T15:03:25.979808Z",
     "start_time": "2022-01-19T15:03:25.876053Z"
    }
   },
   "outputs": [],
   "source": []
  },
  {
   "cell_type": "markdown",
   "id": "01838e7b",
   "metadata": {},
   "source": [
    "Il s'agit de : "
   ]
  },
  {
   "cell_type": "markdown",
   "id": "edbaf8b0",
   "metadata": {
    "ExecuteTime": {
     "end_time": "2022-01-19T08:55:56.478562Z",
     "start_time": "2022-01-19T08:55:56.472057Z"
    }
   },
   "source": [
    "### En choisissant judicieusement la surface élémentaire, montrer que l'intégrale permettant de calculer cette aire devient une intégrale simple et la résoudre analytiquement (un changement de variable sera nécessaire)."
   ]
  },
  {
   "cell_type": "code",
   "execution_count": null,
   "id": "22e2f146",
   "metadata": {
    "ExecuteTime": {
     "end_time": "2022-02-01T16:57:10.699065Z",
     "start_time": "2022-02-01T16:57:10.387919Z"
    }
   },
   "outputs": [],
   "source": [
    "figure, ax = plt.subplots(figsize=(10, 10))\n",
    "import numpy  as np\n",
    "import matplotlib.patches as patches\n",
    "\n",
    "# plot de l'arc de cercle\n",
    "x = np.linspace(0, 2, 1000)\n",
    "y = np.sqrt(4 - x**2)\n",
    "plt.plot(x, y)\n",
    "\n",
    "# plot y1\n",
    "y1 = np.sqrt(4 - 1**2)\n",
    "plt.plot((1, 1), (0, y1), label='$y= \\sqrt{4 - x^{2}} $')\n",
    "\n",
    "\n",
    "# Rectangle dx * y\n",
    "xy = (1, 0)\n",
    "dx = 0.01\n",
    "rect = patches.Rectangle(xy,\n",
    "                         width=dx,\n",
    "                         height=y1,\n",
    "                         linewidth=1,\n",
    "                         edgecolor='gray',\n",
    "                         facecolor='gray',\n",
    "                         alpha=.5,\n",
    "                         label='dA = y·dx')\n",
    "ax.add_patch(rect)\n",
    "\n",
    "# plot dx\n",
    "plt.plot((1, 1+dx),(1,1), label=\"dx\", linewidth=2, color='green')\n",
    "\n",
    "# paramétrage du plot\n",
    "## taille des bornes\n",
    "plt.xlim(0,2.5)\n",
    "plt.ylim(0, 2.5)\n",
    "## labels des axes\n",
    "plt.xlabel('x', loc='right')\n",
    "plt.ylabel('y', loc='top', rotation=0)\n",
    "## réduction du nombre de ticks\n",
    "plt.locator_params(axis='x', nbins=2)\n",
    "plt.locator_params(axis='y', nbins=2)\n",
    "## titre\n",
    "plt.title('$y= \\sqrt{4 - x^{2}} $')\n",
    "# légende\n",
    "plt.legend()\n",
    "## lets's go\n",
    "plt.show()"
   ]
  },
  {
   "cell_type": "code",
   "execution_count": null,
   "id": "94ab1270",
   "metadata": {
    "ExecuteTime": {
     "end_time": "2022-01-19T15:39:42.977742Z",
     "start_time": "2022-01-19T15:39:42.830029Z"
    }
   },
   "outputs": [],
   "source": []
  },
  {
   "cell_type": "markdown",
   "id": "f82908fb",
   "metadata": {
    "ExecuteTime": {
     "end_time": "2022-01-19T08:55:56.478562Z",
     "start_time": "2022-01-19T08:55:56.472057Z"
    }
   },
   "source": [
    "### Utiliser le script ci-dessous et diminuer petit à petit le pas d'intégration dx. Conclusion ?"
   ]
  },
  {
   "cell_type": "code",
   "execution_count": null,
   "id": "ed565402",
   "metadata": {
    "ExecuteTime": {
     "end_time": "2022-02-01T16:57:10.704808Z",
     "start_time": "2022-02-01T16:57:10.700557Z"
    }
   },
   "outputs": [],
   "source": [
    "# Aire d'un quart de disque de rayon 2 : intégrale simple en cartésien\n",
    "from math import pi, sqrt\n",
    "\n",
    "A = 0.0 # initialisation du résultat de l'intégrale\n",
    "dx = 1e-3 # pas d'intégration sur x\n",
    "x = 0.0 # initialisation de la variable x à la première borne\n",
    "\n",
    "while x < 2: # tant que x est inférieur à 2, on répète le bloc indenté ci-dessous\n",
    "    A = A + sqrt(4-x**2)*dx # mise à jour de A\n",
    "    x = x + dx # mise à jour de x, on l'augmente de la valeur du pas\n",
    "    \n",
    "print('Résultat par la méthode de Riemann : {0:f}'.format(A))\n",
    "print('Résultat par un calcul analytique (pi) : {0:f}'.format(pi))"
   ]
  },
  {
   "cell_type": "code",
   "execution_count": null,
   "id": "c48fbed5",
   "metadata": {
    "ExecuteTime": {
     "end_time": "2022-02-01T16:57:10.723042Z",
     "start_time": "2022-02-01T16:57:10.706416Z"
    }
   },
   "outputs": [],
   "source": [
    "def riemann_quarter_circle(dx):\n",
    "    A = 0.0  # initialisation du résultat de l'intégrale\n",
    "\n",
    "    x = 0.0  # initialisation de la variable x à la première borne\n",
    "\n",
    "    while x < 2:  # tant que x est inférieur à 2, on répète le bloc indenté ci-dessous\n",
    "        A = A + sqrt(4 - x**2) * dx  # mise à jour de A\n",
    "        x = x + dx  # mise à jour de x, on l'augmente de la valeur du pas\n",
    "    return A"
   ]
  },
  {
   "cell_type": "code",
   "execution_count": null,
   "id": "d2abd455",
   "metadata": {
    "ExecuteTime": {
     "end_time": "2022-02-01T16:57:10.729763Z",
     "start_time": "2022-02-01T16:57:10.724495Z"
    }
   },
   "outputs": [],
   "source": [
    "riemann_quarter_circle(10**-3)"
   ]
  },
  {
   "cell_type": "code",
   "execution_count": null,
   "id": "bd6cfd7b",
   "metadata": {
    "ExecuteTime": {
     "end_time": "2022-02-01T16:57:11.173405Z",
     "start_time": "2022-02-01T16:57:10.732288Z"
    }
   },
   "outputs": [],
   "source": [
    "dxs = [10**-k for k in range(1,7)]\n",
    "a_approx = [riemann_quarter_circle(dx) for dx in dxs]\n"
   ]
  },
  {
   "cell_type": "code",
   "execution_count": null,
   "id": "fc0f8a3f",
   "metadata": {
    "ExecuteTime": {
     "end_time": "2022-02-01T16:57:11.179426Z",
     "start_time": "2022-02-01T16:57:11.175362Z"
    }
   },
   "outputs": [],
   "source": [
    "a_ecarts = [(approx - np.pi)/np.pi for approx in a_approx]\n",
    "a_ecarts"
   ]
  },
  {
   "cell_type": "code",
   "execution_count": null,
   "id": "a62fbbbc",
   "metadata": {
    "ExecuteTime": {
     "end_time": "2022-02-01T16:57:11.201813Z",
     "start_time": "2022-02-01T16:57:11.181625Z"
    }
   },
   "outputs": [],
   "source": [
    "df2 = pd.DataFrame()\n",
    "df2['dx'] = dxs\n",
    "df2['A_approchée'] = a_approx\n",
    "df2['A_exacte'] = [np.pi]*len(a_approx)\n",
    "df2['ecarts'] = a_ecarts\n",
    "df2"
   ]
  },
  {
   "cell_type": "code",
   "execution_count": null,
   "id": "3a6a693f",
   "metadata": {
    "ExecuteTime": {
     "end_time": "2022-01-19T14:48:09.273737Z",
     "start_time": "2022-01-19T14:48:08.848153Z"
    }
   },
   "outputs": [],
   "source": []
  },
  {
   "cell_type": "code",
   "execution_count": null,
   "id": "f3e7450b",
   "metadata": {
    "ExecuteTime": {
     "end_time": "2022-01-19T14:48:09.363179Z",
     "start_time": "2022-01-19T14:48:09.276189Z"
    }
   },
   "outputs": [],
   "source": [
    "\n"
   ]
  },
  {
   "cell_type": "markdown",
   "id": "b49dd5bb",
   "metadata": {
    "ExecuteTime": {
     "end_time": "2022-01-19T09:35:20.264451Z",
     "start_time": "2022-01-19T09:35:20.254475Z"
    }
   },
   "source": [
    "> Conclusion …"
   ]
  },
  {
   "cell_type": "markdown",
   "id": "0ec8d4fd",
   "metadata": {
    "ExecuteTime": {
     "end_time": "2022-01-19T08:55:56.478562Z",
     "start_time": "2022-01-19T08:55:56.472057Z"
    }
   },
   "source": [
    "### Modifier le script pour utiliser une boucle for"
   ]
  },
  {
   "cell_type": "code",
   "execution_count": null,
   "id": "6ff01a85",
   "metadata": {
    "ExecuteTime": {
     "end_time": "2022-02-01T16:57:11.209221Z",
     "start_time": "2022-02-01T16:57:11.204305Z"
    }
   },
   "outputs": [],
   "source": [
    "# Aire d'un quart de disque de rayon 2 : intégrale simple en cartésien\n",
    "from math import pi, sqrt\n",
    "\n",
    "A = 0.0 # initialisation du résultat de l'intégrale\n",
    "dx = 1e-3 # pas d'intégration sur x\n",
    "x = 0.0 # initialisation de la variable x à la première borne\n",
    "\n",
    "n_steps = int(2/dx)\n",
    "#for\n",
    "for _ in range(n_steps): # tant que x est inférieur à 2, on répète le bloc indenté ci-dessous\n",
    "    A = A + sqrt(4-x**2)*dx # mise à jour de A\n",
    "    x = x + dx # mise à jour de x, on l'augmente de la valeur du pas\n",
    "    \n",
    "print('Résultat par la méthode de Riemann : {0:f}'.format(A))\n",
    "print('Résultat par un calcul analytique (pi) : {0:f}'.format(pi))"
   ]
  },
  {
   "cell_type": "code",
   "execution_count": null,
   "id": "f02a9ccf",
   "metadata": {},
   "outputs": [],
   "source": []
  },
  {
   "cell_type": "code",
   "execution_count": null,
   "id": "ddc1f089",
   "metadata": {},
   "outputs": [],
   "source": []
  },
  {
   "cell_type": "markdown",
   "id": "d0ed3eb5",
   "metadata": {
    "ExecuteTime": {
     "end_time": "2022-01-19T08:55:56.478562Z",
     "start_time": "2022-01-19T08:55:56.472057Z"
    }
   },
   "source": [
    "## Réécrire l'intégrale en utilisant les coordonnées polaires. Montrer qu'en choisissant judicieusement la surface élémentaire, on peut ramener l'intégrale à une intégrale simple et la résoudre."
   ]
  },
  {
   "cell_type": "code",
   "execution_count": null,
   "id": "31ab2dfd",
   "metadata": {},
   "outputs": [],
   "source": []
  },
  {
   "cell_type": "markdown",
   "id": "746c27ad",
   "metadata": {
    "ExecuteTime": {
     "end_time": "2022-01-19T08:55:56.478562Z",
     "start_time": "2022-01-19T08:55:56.472057Z"
    }
   },
   "source": [
    "### Écrire un autre script, en vous inspirant du premier, pour calculer cette intégrale."
   ]
  },
  {
   "cell_type": "markdown",
   "id": "19ef5500",
   "metadata": {},
   "source": [
    "\\begin{equation}\n",
    "A = \\displaystyle\\frac{\\pi}{2}\\displaystyle\\int_{0}^{2}{r\\mathrm{d}r} \n",
    "\\end{equation}"
   ]
  },
  {
   "cell_type": "code",
   "execution_count": null,
   "id": "be22d88e",
   "metadata": {
    "ExecuteTime": {
     "end_time": "2022-02-01T16:57:11.218197Z",
     "start_time": "2022-02-01T16:57:11.211221Z"
    }
   },
   "outputs": [],
   "source": [
    "# Aire d'un quart de disque de rayon 2 : intégrale simple en cartésien\n",
    "\n",
    "\n",
    "A = 0.0 # initialisation du résultat de l'intégrale\n",
    "dr = 1e-3 # pas d'intégration \n",
    "r = 0\n",
    "\n",
    "while r < 2: # tant que r est inférieur à 2, on répète le bloc indenté ci-dessous\n",
    "    A += np.pi / 2 * r * dr\n",
    "    r += dr\n",
    "    \n",
    "    \n",
    "print('Résultat par la méthode de Riemann : {0:f}'.format(A))\n",
    "print('Résultat par un calcul analytique (pi) : {0:f}'.format(pi))"
   ]
  },
  {
   "cell_type": "code",
   "execution_count": null,
   "id": "043f7127",
   "metadata": {},
   "outputs": [],
   "source": []
  },
  {
   "cell_type": "markdown",
   "id": "69241eed",
   "metadata": {},
   "source": [
    "## Extension au cas des intégrales multiples"
   ]
  },
  {
   "cell_type": "markdown",
   "id": "de0aa716",
   "metadata": {},
   "source": [
    "Reprendre l'exemple précédent du calcul de l'aire d'un quart de disque mais écrire cette fois le\n",
    "calcul de l'aire sous la forme d'une intégrale double, en cartésien et en polaire. Puis écrire les\n",
    "scripts correspondant. Indication : il faut écrire deux boucles imbriquées en faisant attention à\n",
    "l'initialisation des variables."
   ]
  },
  {
   "cell_type": "markdown",
   "id": "9ff846a6-65d3-4d58-bdd3-dc95f96cd559",
   "metadata": {},
   "source": [
    "### Surface calculée par une intégrale double en coordonnées cartésiennes"
   ]
  },
  {
   "cell_type": "markdown",
   "id": "4a252d9f",
   "metadata": {},
   "source": [
    "\\begin{equation}\n",
    "A = \\displaystyle\\int_{0}^{2}{\\sqrt{4 - x^{2}} \\mathrm{d}x} = \\displaystyle\\int_{0}^{2}{2 \\sqrt{1 - \\left( \\frac{x}{2} \\right)^{2}} \\mathrm{d}x}\n",
    "\\end{equation}"
   ]
  },
  {
   "cell_type": "markdown",
   "id": "b208b503-342b-4685-8f53-311def3f8dce",
   "metadata": {},
   "source": [
    "### Surface calculée par une intégrale double en coordonnées polaires"
   ]
  },
  {
   "cell_type": "markdown",
   "id": "1da781b4-2276-4624-97c8-1ff60b2e4066",
   "metadata": {},
   "source": [
    "![img](quart_disque_intregration_double.png)"
   ]
  },
  {
   "cell_type": "code",
   "execution_count": null,
   "id": "f648bcc3-de9c-451a-860a-b52a83101112",
   "metadata": {},
   "outputs": [],
   "source": [
    "\n",
    "      "
   ]
  },
  {
   "cell_type": "markdown",
   "id": "a5d98c7a-f931-4641-8ac9-b416e9e3b4b5",
   "metadata": {},
   "source": []
  },
  {
   "cell_type": "markdown",
   "id": "cd208f72",
   "metadata": {},
   "source": [
    "## Intégrale double quelconque à variables liées en coordonnées cartésiennes"
   ]
  },
  {
   "cell_type": "markdown",
   "id": "43653afb",
   "metadata": {},
   "source": [
    "Dans le plan $\\mathbb{R}^{2}$ muni d'un repère orthonormé, on considère le domaine $D$ défini par\n",
    "\n",
    " $D = \\left\\{ (x, y) \\in \\mathbb{R}^{2} / -2 \\leq y \\leq 2, \\displaystyle\\frac{1}{2}y - 1 \\leq x \\leq y^{2}\\right\\}$\n",
    "\n"
   ]
  },
  {
   "cell_type": "markdown",
   "id": "2d276c9f",
   "metadata": {},
   "source": [
    "![](fig_exercice_32.jpg)\n"
   ]
  },
  {
   "cell_type": "code",
   "execution_count": null,
   "id": "4925af77",
   "metadata": {
    "ExecuteTime": {
     "end_time": "2022-02-01T17:00:23.981805Z",
     "start_time": "2022-02-01T17:00:21.116032Z"
    }
   },
   "outputs": [],
   "source": [
    "y = -2\n",
    "S = 0\n",
    "dx = 10**-3\n",
    "dy = 10**-3\n",
    "steps = 0\n",
    "\n",
    "while y < 2:\n",
    "\n",
    "    x = y / 2 - 1\n",
    "    while x < y**2:\n",
    "        S += dx * dy\n",
    "        x += dx\n",
    "        steps += 1\n",
    "    y += dy\n",
    "    steps += 1\n",
    "    \n",
    "f\"{steps=}\""
   ]
  },
  {
   "cell_type": "markdown",
   "id": "2982ab02",
   "metadata": {},
   "source": [
    "### Dessiner ce domaine et calculer son aire. Peut-on inverser l'ordre d'intégration ? Peut-on séparer l'intégrale double en un produit de deux intégrales simples ?"
   ]
  },
  {
   "cell_type": "markdown",
   "id": "873deb51",
   "metadata": {},
   "source": [
    "\n",
    "\n",
    "$\\mathrm{d}S = r \\mathrm{d}r \\mathrm{d}\\theta$ en coordonnées polaires.\n",
    "\n",
    "$S = \\displaystyle\\int_{0}^{1}\\int_{0}^{\\frac{\\pi}{2}} {\\mathrm{d}\\theta r \\mathrm{d}r } = \\int_{0}^{\\frac{\\pi}{2}}\\displaystyle\\int_{0}^{1} {r \\mathrm{d}r \\mathrm{d}\\theta} = \\int_{0}^{\\frac{\\pi}{2}} {\\mathrm{d}\\theta} \\displaystyle\\int_{0}^{1} {r \\mathrm{d}r }$.\n",
    "\n",
    "Peut-on inverser l'ordre d'intégration ? Oui car les variables sont séparées\n",
    "\n",
    "Peut-on séparer l'intégrale double en un produit de deux intégrales simples ? Oui pour la même raison.\n",
    "\n",
    "Résolution : $S =\\displaystyle\\frac{\\pi}{2} \\int_{0}^{1} {r \\mathrm{d}r} = \\displaystyle\\frac{\\pi}{4} \\left[ r^{2} \\right]_{0}^{1} = \\displaystyle\\frac{\\pi}{4}$\n"
   ]
  },
  {
   "cell_type": "code",
   "execution_count": null,
   "id": "157efc25",
   "metadata": {
    "ExecuteTime": {
     "end_time": "2022-02-01T16:57:13.409669Z",
     "start_time": "2022-02-01T16:57:13.404551Z"
    }
   },
   "outputs": [],
   "source": [
    "28/3"
   ]
  },
  {
   "cell_type": "markdown",
   "id": "bece798a",
   "metadata": {},
   "source": [
    "##### Écrire un script Python permettant d'approximer $S$."
   ]
  },
  {
   "cell_type": "code",
   "execution_count": null,
   "id": "b8b4cece",
   "metadata": {},
   "outputs": [],
   "source": []
  },
  {
   "cell_type": "code",
   "execution_count": null,
   "id": "94c475d3",
   "metadata": {},
   "outputs": [],
   "source": []
  },
  {
   "cell_type": "markdown",
   "id": "97d6d1ba",
   "metadata": {},
   "source": [
    "### Soit $f:D \\rightarrow \\mathbb{R}$ définie par $f(x,y) = x+y$. Soit l'intégrale $I = \\displaystyle\\iint_{D} {f(x,y) \\mathrm{d}x\\mathrm{d}y}$.\n",
    "\n",
    "Calculer $I$."
   ]
  },
  {
   "cell_type": "code",
   "execution_count": null,
   "id": "e2f6169f",
   "metadata": {},
   "outputs": [],
   "source": []
  },
  {
   "cell_type": "markdown",
   "id": "e77336e8",
   "metadata": {},
   "source": [
    "## Retrouver ce résultat à l'aide d'un script *Python*"
   ]
  },
  {
   "cell_type": "code",
   "execution_count": null,
   "id": "d814d3f6",
   "metadata": {},
   "outputs": [],
   "source": []
  },
  {
   "cell_type": "code",
   "execution_count": null,
   "id": "83dbe44a-3d4d-48fa-b6d9-5455c9c292ee",
   "metadata": {},
   "outputs": [],
   "source": []
  }
 ],
 "metadata": {
  "kernelspec": {
   "display_name": "Python 3 (ipykernel)",
   "language": "python",
   "name": "python3"
  },
  "language_info": {
   "codemirror_mode": {
    "name": "ipython",
    "version": 3
   },
   "file_extension": ".py",
   "mimetype": "text/x-python",
   "name": "python",
   "nbconvert_exporter": "python",
   "pygments_lexer": "ipython3",
   "version": "3.10.0rc1"
  },
  "toc": {
   "base_numbering": 1,
   "nav_menu": {},
   "number_sections": true,
   "sideBar": true,
   "skip_h1_title": true,
   "title_cell": "Table of Contents",
   "title_sidebar": "Contents",
   "toc_cell": false,
   "toc_position": {
    "height": "calc(100% - 180px)",
    "left": "10px",
    "top": "150px",
    "width": "297px"
   },
   "toc_section_display": true,
   "toc_window_display": true
  }
 },
 "nbformat": 4,
 "nbformat_minor": 5
}
