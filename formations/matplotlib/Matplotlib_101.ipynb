{
 "cells": [
  {
   "cell_type": "markdown",
   "metadata": {},
   "source": [
    "\n",
    "# Matplotlib - Graphes en Python - Initiation\n",
    "\n",
    "Ce didacticiel couvre les usages classiques et les bonnes pratiques pour vous aider à bien démarrer l’utilisation de  **Matplotlib**.\n",
    "\n",
    "Ce document est basé sur [cette page de la doc officielle de Matplotlib](https://matplotlib.org/stable/tutorials/introductory/usage.html#sphx-glr-tutorials-introductory-usage-py)\n",
    "\n",
    "La [documentation officielle de Matplotlib](https://matplotlib.org/stable/index.html) est une vaste ressource que vous pourrez consulter par la suite."
   ]
  },
  {
   "cell_type": "raw",
   "metadata": {},
   "source": [
    "%matplotlib inline"
   ]
  },
  {
   "cell_type": "code",
   "execution_count": null,
   "metadata": {},
   "outputs": [],
   "source": [
    "# imports canoniques\n",
    "import matplotlib as mpl\n",
    "import matplotlib.pyplot as plt\n",
    "import numpy as np\n",
    "from math import pi, tau"
   ]
  },
  {
   "cell_type": "markdown",
   "metadata": {},
   "source": [
    "## Un exemple simple"
   ]
  },
  {
   "cell_type": "markdown",
   "metadata": {},
   "source": [
    "Matplotlib graphe vos données sur une [Figure](https://matplotlib.org/stable/api/figure_api.html#matplotlib.figure.Figure) (une fenêtre, un widget Jupyter, etc…). Chacune de ces Figures peut contenir un ou plusieurs [Axes](https://matplotlib.org/stable/api/axes_api.html#matplotlib.axes.Axes), ie des zones dans lesquelles des points peuvent être spécifiés en termes de coordonnées x et y (ou theta et r dans un graphe en coordonnées polaires, ou encore x,y et z dans un graphe 3D). \n",
    "\n",
    "La manière la plus simple de créer une Figure avec un Axe est d’utiliser `plt.subplots` qui renvoie une figure **et** un Axe, puis d’utiliser la méthode `.plot()` de l’Axe avec deux jeux de données représentant les valeurs en x et les valeurs en y correspondantes.\n"
   ]
  },
  {
   "cell_type": "code",
   "execution_count": null,
   "metadata": {},
   "outputs": [],
   "source": [
    "fig, ax = plt.subplots()  # Crée une figure contenant un unique Axes.\n",
    "ax.plot([1, 2, 3, 4], [1, 4, 2, 3]);  \n",
    "# trace les points fournis. le premier argument est interprété comme une liste de valeurs pour x,\n",
    "# le deuxième une liste de valeurs pour y"
   ]
  },
  {
   "cell_type": "markdown",
   "metadata": {},
   "source": [
    "## Anatomie d’une Figure\n",
    "\n",
    "Voici la nomenclature des composants d’une Figure de Matplotlib.\n",
    "\n",
    "<img src=\"https://matplotlib.org/stable/_images/anatomy.png\">"
   ]
  },
  {
   "cell_type": "markdown",
   "metadata": {},
   "source": [
    "### [`Figure`](https://matplotlib.org/stable/api/figure_api.html#matplotlib.figure.Figure)\n",
    "\n",
    "La Figure est l’image entière générée par Matplotlib. La Figure contient tous les `Axes` enfants, des `Artistes` (les titres, la légende, les barres de couleurs, etc) et même des sous-figures imbriquées.\n",
    "\n",
    "La manière la plus simple de créer une nouvelle Figure est avec `pyplot`:\n",
    "\n",
    "\n",
    "    fig = plt.figure()  # une Figure vide, sans Axes\n",
    "    fig, ax = plt.subplots()  # une Figure avec un unique Axes\n",
    "    fig, axs = plt.subplots(2, 2)  # une Figure avec une grille 2x2 d’Axes\n",
    "    \n",
    "En général, c’est plus pratique de créer les `Axes` conjointement avec la `Figure`, mais on peut aussi ajouter des `Axes` plus tard."
   ]
  },
  {
   "cell_type": "markdown",
   "metadata": {},
   "source": [
    "### [`Axes`](https://matplotlib.org/stable/api/axes_api.html#matplotlib.axes.Axes)\n",
    "\n",
    "Un objet `Axes`est un `Artist` attaché à une `Figure` qui contient une région pour tracer des données, et généralement inclus 2 (ou 3 dans les cas en 3D) objets `Axis` (faites attention à la différence entre **Axes** et **Axis**) qui nous donnent des graduations (`ticks`) et des libellés de graduation pour donner une échelle aux données sur les `Axes`.\n",
    "\n",
    "Chaque `Axes` a également un `title` un `x-label` et un `y-label`.\n",
    "\n",
    "La classe `Axes` et ses méthodes sont le point d’entrée principal pour travailler avec l’interface de Programmation Orientée Objet, et la plupart des méthodes pour tracer sont définies dans cette classe. (par exemple `ax.plot()` montrée plus haut)."
   ]
  },
  {
   "cell_type": "markdown",
   "metadata": {},
   "source": [
    "### [`Axis`](https://matplotlib.org/stable/api/axis_api.html#matplotlib.axis.Axis)\n",
    "\n",
    "Ces objets fixent l’échelle et les limites du graphes, et génèrent les `ticks` (les marques sur les axes) et les `ticks labels` (chaînes de caractères qui donnent un libellé aux marques). La position des marques est déterminée par un objet `matplotlib.ticker.Locator`et le libellé des marques est formaté par un objet `matplotlib.ticker.Formatter`. La combinaison d’un `Locator` et d’un `Formatter` adaptés donne un grand contrôle sur l’emplacement et le texte des marques.\n"
   ]
  },
  {
   "cell_type": "markdown",
   "metadata": {},
   "source": [
    "### [`Artist`](https://matplotlib.org/stable/api/artist_api.html#matplotlib.artist.Artist)\n",
    "\n",
    "Tout ce qui est visible sur une `Figure` est un `Artist` (y compris les objets `Figure`, `Axes` et `Axis`). Cela inclus les objets `Text`, `LineD2`, `collections`, `Patch`, etc…\n",
    "\n",
    "Quand la Figure est affichée, tous les `Artists` sont dessinés sur le **canvas**. La plupart des `Artists` sont liés à un `Axes`, et ne peuvent pas être partagés par plusieurs `Axes`, ou passer de l’un à l’autre."
   ]
  },
  {
   "cell_type": "markdown",
   "metadata": {},
   "source": [
    "## Types d’entrées des fonctions de traçage \n",
    "\n",
    "Les fonctions de traçage attendent un objet `numpy.array` en entrée, ou un objet qui peut être passé à la fonction `numpy.asarray()` qui va le transformer en un array numpy.\n",
    "\n",
    "Les classes qui sont similaires à des `numpy.array` comme les objets `numpy.matrix` peuvent ne pas fonctionner exactement comme attendu. La convention est de les convertir en `numpy.array` avant de les tracer.\n",
    "Par exemple, pour convertir un objet `numpy.matrix` :\n",
    "\n",
    "\n",
    "     b = np.matrix([[1, 2], [3, 4]])\n",
    "     b_asarray = np.asarray(b)\n",
    "\n",
    "La plupart des méthodes de traçage peuvent aussi parcourir un objet `dict`ou similaire comme un \n",
    "`numpy.recarray`, ou une `pandas.DataFrame`.  Matplotlib vous permet de fournir un argument `data=` et de tracer des graphes en passant les chaînes correspondant aux variabes *x* et *y*.\n",
    "\n"
   ]
  },
  {
   "cell_type": "code",
   "execution_count": null,
   "metadata": {},
   "outputs": [],
   "source": [
    "np.random.seed(19680801)  # graine pour le générateur de nombre aléatoire.\n",
    "\n",
    "data = {\n",
    "    'a': np.arange(50),\n",
    "    'c': np.random.randint(0, 50, 50),\n",
    "    'd': np.random.randn(50)\n",
    "}\n",
    "\n",
    "data['b'] = data['a'] + 10 * np.random.randn(50)\n",
    "data['d'] = np.abs(data['d']) * 100\n",
    "\n",
    "fig, ax = plt.subplots(figsize=(10, 5.4), layout='constrained')\n",
    "\n",
    "ax.scatter('a', 'b', c='c', s='d', data=data)\n",
    "ax.set_xlabel('entry a')\n",
    "ax.set_ylabel('entry b')"
   ]
  },
  {
   "cell_type": "markdown",
   "metadata": {},
   "source": [
    "\n",
    "## Styles de Code\n",
    "\n",
    "### L'interface orientée objet et l’interface pyplot\n",
    "\n",
    "Comme vu plus haut, il y a en réalité 2 manières d'utiliser Matplotlib :\n",
    "\n",
    "1. Créer des objets Figure et Axes explicitement, puis appeler leurs méthodes (le style orienté objet)\n",
    "2. Se servir de `pyplot` pour créer automatiquement les Figures et Axes, et utiliser les fonctions de `pyplot` pour tracer\n",
    "\n",
    "Exemple du style OO :"
   ]
  },
  {
   "cell_type": "code",
   "execution_count": null,
   "metadata": {},
   "outputs": [],
   "source": [
    "x = np.linspace(0, 2, 100)  # échantillon pour x.\n",
    "\n",
    "\n",
    "fig, ax = plt.subplots(figsize=(10, 6), layout='constrained') # création de la figure et de l’axes\n",
    "\n",
    "ax.plot(x, x, label='linear')  # méthode plot sur l’axes\n",
    "ax.plot(x, x**2, label='quadratic')  # on plot encore plus de données\n",
    "ax.plot(x, x**3, label='cubic')  # ... et encore.\n",
    "ax.set_xlabel('x label')  # on ajoute un libellé sur l’axe des x.\n",
    "ax.set_ylabel('y label')  # idem pour l’axe des y\n",
    "ax.set_title(\"Simple Plot\")  # on ajoute un titre, toujours avec une méthode sur l’objet Axes.\n",
    "ax.legend();  # enfin, on ajoute la légende, encore et toujours avec une méthode de l’axes."
   ]
  },
  {
   "cell_type": "markdown",
   "metadata": {},
   "source": [
    "Exemple du style `pyplot`, qui utilise des fonctions de pyplot :\n",
    "\n"
   ]
  },
  {
   "cell_type": "code",
   "execution_count": null,
   "metadata": {},
   "outputs": [],
   "source": [
    "x = np.linspace(0, 2, 100)  # échantion pour x.\n",
    "\n",
    "plt.figure(figsize=(10, 6), layout='constrained')\n",
    "plt.plot(x, x, label='linear')  # on plot sur les Axes, mais implicitement\n",
    "plt.plot(x, x**2, label='quadratic')  # etc.\n",
    "plt.plot(x, x**3, label='cubic')\n",
    "plt.xlabel('x label')\n",
    "plt.ylabel('y label')\n",
    "plt.title(\"Simple Plot\")\n",
    "plt.legend();"
   ]
  },
  {
   "cell_type": "markdown",
   "metadata": {},
   "source": [
    "La documentation officielle de **Matplotlib** utilise les deux styles. En général, il est préférable d’utiliser le style OO, particulièrement pour les graphes les plus personnalisés, et au sein de fonctions définies pour être utilisées plusieurs fois au sein d’un projet majeur, mais le style `pyplot` est très pratique pour produire un graphe simple rapidement.\n",
    "\n",
    "\n",
    "<div class=\"alert alert-info\">\n",
    "    \n",
    "#### Note\n",
    "    \n",
    "Vous pouvez tomber sur de vieux exemples qui utilisent l’interface ``pylab``  via ``from pylab import *``. Cette approche est totalement obsolète et n’est plus supportée.\n",
    "\n",
    "</div>"
   ]
  },
  {
   "cell_type": "markdown",
   "metadata": {},
   "source": [
    "### Créer des fonctions \n",
    "\n",
    "Si vous avez besoin de faire le même graphe plusieurs fois, avec des données différentes, vous pouvez partir de l’exemple suivant :"
   ]
  },
  {
   "cell_type": "code",
   "execution_count": null,
   "metadata": {},
   "outputs": [],
   "source": [
    "def my_plotter(ax, data1, data2, param_dict):\n",
    "    \"\"\"\n",
    "    A helper function to make a graph.\n",
    "    \"\"\"\n",
    "    out = ax.plot(data1, data2, **param_dict)\n",
    "    return out"
   ]
  },
  {
   "cell_type": "markdown",
   "metadata": {},
   "source": [
    "que vous pouvez ensuite utiliser plusieurs fois pour peupler des sous-graphes :\n",
    "\n"
   ]
  },
  {
   "cell_type": "code",
   "execution_count": null,
   "metadata": {},
   "outputs": [],
   "source": [
    "data1, data2, data3, data4 = np.random.randn(4, 100)  # 4 jeux de données aléatoires\n",
    "fig, (ax1, ax2) = plt.subplots(1, 2, figsize=(10, 6))\n",
    "\n",
    "# 2 appels à la fonction my_plotter()\n",
    "my_plotter(ax1, data1, data2, {'marker': 'x'})\n",
    "my_plotter(ax2, data3, data4, {'marker': 'o'});"
   ]
  },
  {
   "cell_type": "markdown",
   "metadata": {},
   "source": [
    "## Donner du style aux Artistes\n",
    "\n",
    "La plupart des méthodes on des options de style pour les `Artists` accessibles soit quand une méthode qui trace est appelée, our par un `setter` sur un `Artiste`. Dans le graphe ci-dessous on a manuellement fixé la couleur, largeur de trait et style de ligne des Artistes crées par la méthode `.plot()` puis réglé le style de ligne après coup avec avec `set_linestyle()` sur l’objet `Artiste` lui-même.\n",
    "\n"
   ]
  },
  {
   "cell_type": "code",
   "execution_count": null,
   "metadata": {},
   "outputs": [],
   "source": [
    "fig, ax = plt.subplots(figsize=(10, 6))\n",
    "x = np.arange(len(data1))\n",
    "ax.plot(x, np.cumsum(data1), color='blue', linewidth=3, linestyle='--')\n",
    "l, = ax.plot(x, np.cumsum(data2), color='orange', linewidth=2) # objet artiste ligne capturé dans une variable\n",
    "l.set_linestyle(':'); # utilisation de la méthode sur l’objet artiste"
   ]
  },
  {
   "cell_type": "markdown",
   "metadata": {},
   "source": [
    "### Couleurs\n",
    "\n",
    "Matplotlib a une palette de couleurs très flexible qui est acceptée par la plupart des Artistes, voir [ce didacticiel dédié aux couleurs](https://matplotlib.org/stable/tutorials/colors/colors.html) pour une liste des spécifications.\n",
    "\n",
    "Certains `Artist` peuvent prendre plusieurs couleurs, par exemple dans un graphe `scatter`, l’intérieur et la bordure des marqueurs peuvent être d’une couleur différente :\n",
    "\n"
   ]
  },
  {
   "cell_type": "code",
   "execution_count": null,
   "metadata": {},
   "outputs": [],
   "source": [
    "fig, ax = plt.subplots(figsize=(10, 6))\n",
    "ax.scatter(data1, data2, s=100, facecolor='m', edgecolor='k'); # m = magenta, k = black"
   ]
  },
  {
   "cell_type": "markdown",
   "metadata": {},
   "source": [
    "### Linewidths, linestyles, et markersizes\n",
    "\n",
    "La largeur de ligne est typiquement exprimée en points typographiques (1 pt = 1/72 de pouce, oui ces unités américaines étranges) et l’option est disponible pour les Artistes avec des lignes tracées. De même, les lignes peuvent avoir un `linestyle`, voir [https://matplotlib.org/stable/gallery/lines_bars_and_markers/linestyles.html](https://matplotlib.org/stable/gallery/lines_bars_and_markers/linestyles.html).\n",
    "\n",
    "\n",
    "Les tailles des `marker` dépendent de la méthode utilisées. `Axes.plot()` spécifie la taille des marqueur en points, et il s'agit généralement diamètre, ou de la largeur du marqueur. `Axes.scatter()` spécifie la taille des marqueurs comme approximativement proportionnelle à la zone visuelle du marqueur. Il y a une gamme de style de marqueurs disponible sous la forme de [codes \"string\"](https://matplotlib.org/stable/api/markers_api.html#module-matplotlib.markers) ou bien vous pouvez [définir vos propres styles](https://matplotlib.org/stable/gallery/lines_bars_and_markers/marker_reference.html) :\n"
   ]
  },
  {
   "cell_type": "code",
   "execution_count": null,
   "metadata": {},
   "outputs": [],
   "source": [
    "fig, ax = plt.subplots(figsize=(10, 6))\n",
    "ax.plot(data1, 'o', label='data1')\n",
    "ax.plot(data2, 'd', label='data2')\n",
    "ax.plot(data3, 'v', label='data3')\n",
    "ax.plot(data4, 's', label='data4')\n",
    "ax.legend();"
   ]
  },
  {
   "cell_type": "markdown",
   "metadata": {},
   "source": [
    "## Libeller des graphes\n",
    "\n",
    "### Libellés des Axes et texte\n",
    "\n",
    "`Axes.set_xlabel`, `Axes.set_ylabel`, et `Axes.set_title` sont utilisés pour ajouter du texte aux emplacements indiqués. Du texte peut être directement ajouté sur les graphes avec `Axes.text`:\n",
    "\n"
   ]
  },
  {
   "cell_type": "code",
   "execution_count": null,
   "metadata": {},
   "outputs": [],
   "source": [
    "mu, sigma = 115, 15\n",
    "x = mu + sigma * np.random.randn(10000)\n",
    "fig, ax = plt.subplots(figsize=(10, 6), layout='constrained')\n",
    "# l’histogramme des données\n",
    "\n",
    "n, bins, patches = ax.hist(x, 50, density=1, facecolor='C0', alpha=0.75)\n",
    "\n",
    "ax.set_xlabel('Length [cm]')\n",
    "ax.set_ylabel('Probability')\n",
    "ax.set_title('Longueurs Aardvark \\n (pas vraiment)')\n",
    "ax.text(75, .025, r'$\\mu=115,\\ \\sigma=15$')\n",
    "ax.axis([55, 175, 0, 0.03])\n",
    "ax.grid(True);"
   ]
  },
  {
   "cell_type": "markdown",
   "metadata": {},
   "source": [
    "Toutes les fonctions `Axes.text` renvoient une instance de l’objet `matplotlib.text.Text`. Tout comme les lignes vues plus haut, vous pouvez personnaliser les propriétés en passant des arguments aux fonctions texte :"
   ]
  },
  {
   "cell_type": "code",
   "execution_count": null,
   "metadata": {},
   "outputs": [],
   "source": [
    "t = ax.set_xlabel('my data', fontsize=14, color='red')"
   ]
  },
  {
   "cell_type": "markdown",
   "metadata": {},
   "source": [
    "Ces propriétées sont détaillées dans [https://matplotlib.org/stable/tutorials/text/text_props.html](https://matplotlib.org/stable/tutorials/text/text_props.html).\n",
    "\n",
    "### Utiliser des expressions mathématiques dans les textes\n",
    "\n",
    "Matplotlib accepte des expressions d’équation TeX dans tout objet texte (libellé ou autre).\n",
    "Par exemple pour écrire $sigma_i=15$ dans le titre, vous pouvez écrire l’expression en TeX, encadrée par deux symboles dollar $ :"
   ]
  },
  {
   "cell_type": "markdown",
   "metadata": {},
   "source": [
    "    ax.set_title(r'$\\sigma_i=15$')"
   ]
  },
  {
   "cell_type": "markdown",
   "metadata": {},
   "source": [
    "le `r` qui précède la string du titre signifie que la string est *raw*, est à dire à prendre telle quelle, sans traiter les `\\` comme des caractères d’échappement. Matplotlib a un interpréteur d’expressions TeX et un moteur de rendu, et fourni sa propre police de caractères mathématiques. Vous pouvez égalemenet utiliser LaTeX directement pour formater votre texte et incorporer le résultat directement sur vos Figures.\n",
    "\n",
    "play figures or\n",
    "saved postscript – see :doc:`/tutorials/text/usetex`."
   ]
  },
  {
   "cell_type": "markdown",
   "metadata": {},
   "source": [
    "### Annotations\n",
    "\n",
    "Vous pouvez annoter des points sur un graphe, souvent au moyen d’une flèche allant d’un texte en *xytext* vers un point *xy* :"
   ]
  },
  {
   "cell_type": "code",
   "execution_count": null,
   "metadata": {},
   "outputs": [],
   "source": [
    "fig, ax = plt.subplots(figsize=(10, 6))\n",
    "\n",
    "t = np.arange(0.0, 5.0, 0.01)\n",
    "s = np.cos(2 * np.pi * t)\n",
    "line, = ax.plot(t, s, lw=2)\n",
    "\n",
    "ax.annotate('local max', xy=(2, 1), xytext=(1, 1.8), #xy est la pointe de la flèche, xytext les coordonnées du texte\n",
    "            arrowprops=dict(facecolor='black', shrink=0.05))\n",
    "\n",
    "ax.set_ylim(-2, 2);"
   ]
  },
  {
   "cell_type": "markdown",
   "metadata": {},
   "source": [
    "Dans cet exemple de base, *xy* et *xytext* sont en coordonnées directes.\n",
    "Il y a d’autres systèmes de coordonnées que vous pouvez utiliser voir : [annotations de base](https://matplotlib.org/stable/tutorials/text/annotations.html#annotations-tutorial) et [annotations avancées](https://matplotlib.org/stable/tutorials/text/annotations.html#plotting-guide-annotation)."
   ]
  },
  {
   "cell_type": "markdown",
   "metadata": {},
   "source": [
    "### Légendes\n",
    "\n",
    "Souvent on veut identifier les différentes courbes grâce à une `Axes.legend()` :"
   ]
  },
  {
   "cell_type": "code",
   "execution_count": null,
   "metadata": {},
   "outputs": [],
   "source": [
    "fig, ax = plt.subplots(figsize=(15, 5))\n",
    "ax.plot(np.arange(len(data1)), data1, label='data1')\n",
    "ax.plot(np.arange(len(data2)), data2, label='data2')\n",
    "ax.plot(np.arange(len(data3)), data3, 'd', label='data3')\n",
    "ax.legend();"
   ]
  },
  {
   "cell_type": "markdown",
   "metadata": {},
   "source": [
    "Les Légendes de Matplotlib sont très flexibles dans leur aspect, placement, et les Artistes qu’elles peuvent représenter. Ceci est présenté plus en détail dans [ce guide des légendes](https://matplotlib.org/stable/tutorials/intermediate/legend_guide.html)."
   ]
  },
  {
   "cell_type": "markdown",
   "metadata": {},
   "source": [
    "## Échelles et ticks sur les Axis\n",
    "\n",
    "Chaque Axes a 2 (ou parfois 3) objets `axis.Axis` représentant les axes x et y (et parfois z). Ils contrôlent l’échelle des Axis, les `locators` des ticks et leurs `formatters`. \n",
    "\n",
    "\n",
    "### Échelles\n",
    "\n",
    "En plus de l’échelle linéaire, Matplotlib permet des échelles non-linéaires, comme l’échelle logarithmique. Voir [https://matplotlib.org/stable/gallery/scales/scales.html](https://matplotlib.org/stable/gallery/scales/scales.html) pour plus d’exemples.\n",
    "\n",
    "Ci-dessous nous choisissons l’échelle manuellement :\n",
    "\n"
   ]
  },
  {
   "cell_type": "code",
   "execution_count": null,
   "metadata": {},
   "outputs": [],
   "source": [
    "fig, axs = plt.subplots(1, 2, figsize=(12, 4), layout='constrained')\n",
    "xdata = np.arange(100)  \n",
    "data = 10**data1\n",
    "axs[0].plot(xdata, data)\n",
    "\n",
    "axs[1].set_yscale('log')\n",
    "axs[1].plot(xdata, data); # mêmes données tracées, mais à droite avec échelle log sur les y"
   ]
  },
  {
   "cell_type": "markdown",
   "metadata": {},
   "source": [
    "### Emplacement des `ticks` et `formatters` \n",
    "\n",
    "Chaque `Axis` a un tick `locator` et `formatter` qui déterminent où le long de l’`Axis` mettre la graduation et comment les représenter :\n",
    "\n"
   ]
  },
  {
   "cell_type": "code",
   "execution_count": null,
   "metadata": {},
   "outputs": [],
   "source": [
    "fig, axs = plt.subplots(2, 1, figsize=(10,5), layout='constrained')\n",
    "axs[0].plot(xdata, data1)\n",
    "axs[0].set_title('Ticks automatiques')\n",
    "\n",
    "axs[1].plot(xdata, data1)\n",
    "axs[1].set_xticks(np.arange(0, 100, 30), ['zéro', '30', 'soixante', '90'])\n",
    "axs[1].set_yticks([-1.5, 0, 1.5])  # Pas besoin de spécifier les libellés, les nombres apparaîtront par défaut\n",
    "axs[1].set_title('Ticks faits main');"
   ]
  },
  {
   "cell_type": "markdown",
   "metadata": {},
   "source": [
    "Différentes échelles peuvent avoir différents `locators` et `formatters` ; par exemple l’échelle log au-dessus utilise `LogLocator` et `LogFormatter`. Voir [tick-locators](https://matplotlib.org/stable/gallery/ticks/tick-locators.html) et [tick-formatters](https://matplotlib.org/stable/gallery/ticks/tick-formatters.html) pour voir d’autres `locators` et `formatters`, plus des éléments pour écrire les vôtres si nécessaire.\n",
    "\n",
    "\n",
    "### Grapher des dates et des chaînes de caractères \n",
    "\n",
    "Matplotlib peut tracer des arrays de dates et des arrays de strings, ainsi que de nombres à virgule. Ils ont des `locators` et `formatters` appropriés. Pour les dates :\n",
    "\n"
   ]
  },
  {
   "cell_type": "code",
   "execution_count": null,
   "metadata": {},
   "outputs": [],
   "source": [
    "fig, ax = plt.subplots(figsize=(10, 5), layout='constrained')\n",
    "dates = np.arange(np.datetime64('2022-01-01'), np.datetime64('2022-04-25'),\n",
    "                  np.timedelta64(1, 'h'))\n",
    "data = np.cumsum(np.random.randn(len(dates)))\n",
    "ax.plot(dates, data)\n",
    "# s’adapte automatiquement selon la plage de dates, testez avec une plage plus grande\n",
    "cdf = mpl.dates.ConciseDateFormatter(ax.xaxis.get_major_locator()) \n",
    "ax.xaxis.set_major_formatter(cdf);"
   ]
  },
  {
   "cell_type": "markdown",
   "metadata": {},
   "source": [
    "Voir [plus d’exemples avec des dates](https://matplotlib.org/stable/gallery/text_labels_and_annotations/date.html).\n",
    "\n",
    "Pour les strings, et plus largement [grapher des données catégorielles](https://matplotlib.org/stable/gallery/lines_bars_and_markers/categorical_variables.html)."
   ]
  },
  {
   "cell_type": "code",
   "execution_count": null,
   "metadata": {},
   "outputs": [],
   "source": [
    "fig, ax = plt.subplots(figsize=(5, 2.7), layout='constrained')\n",
    "categories = ['cardons', 'panais', 'blettes', 'potimarrons']\n",
    "\n",
    "ax.bar(\n",
    "    categories,\n",
    "    np.random.rand(len(categories)),\n",
    "    color='violet',\n",
    ");"
   ]
  },
  {
   "cell_type": "markdown",
   "metadata": {},
   "source": [
    "Un écueil possible avec les graphes de catégories est que certaines méthodes de lecture de fichiers\n",
    "texte renvoient une liste de strings, même si ces strings représentent en fait des nombres ou des dates.\n",
    "Si vous lui passez 1 000 strings, Matplotlib pensera que vous aviez 1 000 catégories et affichera 1000 barres\n",
    "dans votre graphe !\n",
    "\n",
    "\n",
    "\n",
    "### Objets `Axis` supplémentaires\n",
    "\n",
    "Tracer des données d’échelle différentes sur un seul graphe\n",
    "peut nécessiter un axe des y supplémetaire. Un tel `Axis` peut\n",
    "être créé en utilisant `Axes.twinx` (x jumeau) pour ajouter un nouvel `Axes` avec \n",
    "des axes x et y invisibles positionnés sur la droite. (idem pour \n",
    "`Axes.twiny`). Voir [la doc pour d’autres exemples avec 2 échelles](https://matplotlib.org/stable/gallery/subplots_axes_and_figures/two_scales.html).\n",
    "\n",
    "De même, vous pouvez ajouter un `Axes.secondary_xaxis` ou un `Axes.secondary_yaxis` ayant une échelle différente de celle de l’`Axis` principal pour représenter des données d’une échelle ou unité différente.\n",
    "\n",
    "[Voir la doc pour d’autres exemples d’axes secondaires](https://matplotlib.org/stable/gallery/subplots_axes_and_figures/secondary_axis.html).\n"
   ]
  },
  {
   "cell_type": "code",
   "execution_count": null,
   "metadata": {},
   "outputs": [],
   "source": [
    "fig, (ax1, ax3) = plt.subplots(1, 2, figsize=(12, 4), layout='constrained')\n",
    "t = np.linspace(0, 10, 100)\n",
    "s = np.sin(t)\n",
    "l1, = ax1.plot(t, s)\n",
    "ax2 = ax1.twinx()\n",
    "l2, = ax2.plot(t, range(len(t)), 'C1')\n",
    "ax2.legend([l1, l2], ['Sinus (axe à gauche)', 'Droite (axe à droite)'])\n",
    "\n",
    "ax3.plot(t, s)\n",
    "ax3.set_xlabel('Angle [radians]')\n",
    "ax4 = ax3.secondary_xaxis('top', functions=(np.rad2deg, np.deg2rad))\n",
    "ax4.set_xlabel('Angle [°]');"
   ]
  },
  {
   "cell_type": "markdown",
   "metadata": {},
   "source": [
    "## Données mappées en couleur\n",
    "\n",
    "Souvent on veut une troisième dimension dans un graphe représentée par un jeu de couleurs.\n",
    "\n",
    "Matplotlib a plusieurs types de graphes qui peuvent faire ça :"
   ]
  },
  {
   "cell_type": "code",
   "execution_count": null,
   "metadata": {},
   "outputs": [],
   "source": [
    "X, Y = np.meshgrid(np.linspace(-3, 3, 128), np.linspace(-3, 3, 128))\n",
    "Z = (1 - X/2 + X**5 + Y**3) * np.exp(-X**2 - Y**2)\n",
    "\n",
    "fig, axs = plt.subplots(2, 2, layout='constrained')\n",
    "pc = axs[0, 0].pcolormesh(X, Y, Z, vmin=-1, vmax=1, cmap='RdBu_r')\n",
    "fig.colorbar(pc, ax=axs[0, 0])\n",
    "axs[0, 0].set_title('pcolormesh()')\n",
    "\n",
    "co = axs[0, 1].contourf(X, Y, Z, levels=np.linspace(-1.25, 1.25, 11))\n",
    "fig.colorbar(co, ax=axs[0, 1])\n",
    "axs[0, 1].set_title('contourf()')\n",
    "\n",
    "pc = axs[1, 0].imshow(Z**2 * 100, cmap='plasma',\n",
    "                          norm=mpl.colors.LogNorm(vmin=0.01, vmax=100))\n",
    "fig.colorbar(pc, ax=axs[1, 0], extend='both')\n",
    "axs[1, 0].set_title('imshow() with LogNorm()')\n",
    "\n",
    "pc = axs[1, 1].scatter(data1, data2, c=data3, cmap='RdBu_r')\n",
    "fig.colorbar(pc, ax=axs[1, 1], extend='both')\n",
    "axs[1, 1].set_title('scatter()');"
   ]
  },
  {
   "cell_type": "markdown",
   "metadata": {},
   "source": [
    "### Colormaps\n",
    "\n",
    "Ci-dessus, des exemples d’Artistes qui héritent de l’objet `ScalarMappable`.\n",
    "Ils peuvent tous établir une association linéaire entre `vmin` et `vmax` d’une part \n",
    "et un jeu de couleurs au choix.\n",
    "\n",
    "Matplotlib dispose de [nombreux jeux de couleurs](https://matplotlib.org/stable/tutorials/colors/colormaps.html), et vous pouvez aussi [créer le vôtre](https://matplotlib.org/stable/tutorials/colors/colormap-manipulation.html) ou [télécharger des jeux de couleurs faits par des tiers](https://matplotlib.org/mpl-third-party/#colormaps-and-styles).\n",
    "\n",
    "### Normalisations\n",
    "\n",
    "Parfois on veut une association non linéaire entre les données et le jeu de couleurs, \n",
    "comme dans l’exemple `LogNorm` ci-dessus. Il faut alors passer à l’objet issu de `ScalarMappable` avec l’argument `norm` à la place de `vmin` et `vmax`. Ces normalisations sont montrées [dans cet exemple](https://matplotlib.org/stable/tutorials/colors/colormapnorms.html).\n",
    "\n",
    "\n",
    "### Barres de couleurs (`colorbar`)\n",
    "\n",
    "Ajouter un `Figure.colorbar` donne une clé pour associer les couleurs aux données sous-jacentes. \n",
    "Les `colorbar` sont des `Artist` au niveau d’une `Figure`, et sont attachées à un `ScalarMappable` (où elles vont puiser leurs informations à propos de la norme et du jeu de couleurs) et habituellement\n",
    "\"volent\" de la place à un `Axes` parent. Placer une `colorbar` peut\n",
    "s’avérer complexe ([voir cet exemple](https://matplotlib.org/stable/gallery/subplots_axes_and_figures/colorbar_placement))\n",
    "Vous pouvez aussi changer l’apparence des barres de couleur avec le mot clé `extend` pour ajouter des flèches\n",
    "aux extrémités, et `shrink` et `aspect` pour contrôler la taille.\n",
    "Enfin, la barre de couleur aura un `locator` et `formatter` par défaut\n",
    "approprié à la norme. Vous pouvez les modifier comme pour les autres \n",
    "objets `Axis`.\n",
    "\n",
    "## Travailler avec plusieurs `Figures` et `Axes`\n",
    "\n",
    "Vous pouvez ouvrir plusieurs `Figures` avec plusieurs appels à `fig = plt.figure()` ou bien `fig2, ax = plt.subplots()`. \n",
    "\n",
    "En utilisant les noms des variables (ici `fig` et `fig2`), vous pouvez ajouter des `Artists` à l’une ou l’autre des figures.\n",
    "\n",
    "Plusieurs `Axes` peuvent être ajoutés de différentes manières, mais le plus simple est la fonction `plt.subplots()` montrée plus haut.\n",
    "\n",
    "On peut obtenir des arrangements plus complexes, avec des `Axes` s’étendant sur plusieurs lignes \n",
    "ou colonnes de l’ensemble, avec `plt.subplot_mosaic()`."
   ]
  },
  {
   "cell_type": "code",
   "execution_count": null,
   "metadata": {},
   "outputs": [],
   "source": [
    "fig, axd = plt.subplot_mosaic([['upleft', 'right'],\n",
    "                               ['lowleft', 'right']], layout='constrained')\n",
    "\n",
    "# axd est un dictionnaire contenant des Axes\n",
    "axd['upleft'].set_title('upleft')\n",
    "axd['lowleft'].set_title('lowleft')\n",
    "axd['right'].set_title('right');"
   ]
  },
  {
   "cell_type": "markdown",
   "metadata": {},
   "source": [
    "Matplotlib a des outils sophistiqués pour disposer des Axes.\n",
    "\n",
    "Voir : \n",
    "\n",
    "- [https://matplotlib.org/stable/tutorials/intermediate/arranging_axes](https://matplotlib.org/stable/tutorials/intermediate/arranging_axes)\n",
    "- [https://matplotlib.org/stable/tutorials/provisional/mosaic](https://matplotlib.org/stable/tutorials/provisional/mosaic)"
   ]
  },
  {
   "cell_type": "markdown",
   "metadata": {},
   "source": [
    "## Projection polaire"
   ]
  },
  {
   "cell_type": "markdown",
   "metadata": {},
   "source": [
    "### Créer le graphe en polaire"
   ]
  },
  {
   "cell_type": "markdown",
   "metadata": {},
   "source": [
    "Matplotlib peut tracer des graphes en coordonnées polaire. Vous avez plusieurs possibilités pour déclarer que vous souhaitez utiliser une projection polaire :\n",
    "\n",
    "- `plt.polar(theta, r)`\n",
    "- `fig.add_subplot(projection=\"polar\")`\n",
    "- `fig, ax = plt.subplots(subplot_kw={'projection': 'polar'})`"
   ]
  },
  {
   "cell_type": "code",
   "execution_count": null,
   "metadata": {},
   "outputs": [],
   "source": [
    "# données pour les exemples qui suivent\n",
    "n_points = 500\n",
    "theta = np.linspace(0, tau, n_points)\n",
    "\n",
    "a = 2\n",
    "n = 5\n",
    "r = a * np.sin(n * theta)"
   ]
  },
  {
   "cell_type": "code",
   "execution_count": null,
   "metadata": {},
   "outputs": [],
   "source": [
    "plt.polar(theta, r); # pour un graphe rapide, mais sans options"
   ]
  },
  {
   "cell_type": "code",
   "execution_count": null,
   "metadata": {},
   "outputs": [],
   "source": [
    "fig = plt.figure(figsize=(8,8)) # création de la figure\n",
    "ax = fig.add_subplot(projection='polar') # ajout d’un subplot en projection polaire, notez l’assignation de variable\n",
    "ax.plot(theta, r); # appel de la méthode plot sur l’Axes polaire\n"
   ]
  },
  {
   "cell_type": "code",
   "execution_count": null,
   "metadata": {},
   "outputs": [],
   "source": [
    "fig, ax = plt.subplots(figsize=(8,8), subplot_kw={'projection': 'polar'}) # idem à l'exemple précédent, raccourci\n",
    "ax.plot(theta, r);"
   ]
  },
  {
   "cell_type": "markdown",
   "metadata": {},
   "source": [
    "### Emplacement de l’angle 0"
   ]
  },
  {
   "cell_type": "markdown",
   "metadata": {},
   "source": [
    "Vous pouvez placer theta_0 où vous le souhaitez dans la projection, avec `ax.set_theta_zero_location(point_cardinal)` où point cardinal est un string comme :\n",
    "\n",
    "- 'N'\n",
    "- 'S'\n",
    "- 'NE'\n",
    "- etc"
   ]
  },
  {
   "cell_type": "code",
   "execution_count": null,
   "metadata": {},
   "outputs": [],
   "source": [
    "fig, ax = plt.subplots(figsize=(8, 8), subplot_kw={'projection': 'polar'})\n",
    "ax.set_theta_zero_location(\"N\")  # theta 0 au Nord\n",
    "ax.grid(False)  # retrait de la grille\n",
    "\n",
    "ax.plot(theta, np.cos(theta)**2, label='$cos^2(θ)$')\n",
    "ax.plot(theta, np.sin(theta)**2, label='$sin^2(θ)$')\n",
    "\n",
    "# moins de ticks, et des libellés en LaTeX\n",
    "ax.set_xticks([0, tau / 4, tau / 2, tau * 3 / 4],\n",
    "              labels=[\n",
    "                  r\"$0\\tau$\", \n",
    "                  r\"$\\frac{\\tau}{4}$\", \n",
    "                  r\"$\\frac{\\tau}{2}$\",\n",
    "                  r\"$\\frac{3}{4}\\tau$\"\n",
    "              ],\n",
    "             fontsize='large')\n",
    "\n",
    "ax.legend();"
   ]
  },
  {
   "cell_type": "markdown",
   "metadata": {},
   "source": [
    "## Aller plus loin\n",
    "\n",
    "\n",
    "Pour davantage de types de graphes, voir [les types de graphes](https://matplotlib.org/stable/plot_types/index.html) et la doc [référence API](https://matplotlib.org/stable/api/index.html), en particulier [la section sur les Axes](https://matplotlib.org/stable/api/axes_api.html)."
   ]
  },
  {
   "cell_type": "markdown",
   "metadata": {},
   "source": [
    "<div class='alert alert-success'>\n",
    "\n",
    "Vous êtes arrivé·e au bout de cette introduction à Matplotlib. Passez à la pratique avec [ce notebook d’exercices](Matplotlib_exercices.ipynb).  \n",
    "    \n",
    "    \n",
    "    \n",
    "\n",
    "</div>"
   ]
  }
 ],
 "metadata": {
  "kernelspec": {
   "display_name": "Python 3 (ipykernel)",
   "language": "python",
   "name": "python3"
  },
  "language_info": {
   "codemirror_mode": {
    "name": "ipython",
    "version": 3
   },
   "file_extension": ".py",
   "mimetype": "text/x-python",
   "name": "python",
   "nbconvert_exporter": "python",
   "pygments_lexer": "ipython3",
   "version": "3.10.0rc1"
  },
  "toc": {
   "base_numbering": 1,
   "nav_menu": {},
   "number_sections": true,
   "sideBar": true,
   "skip_h1_title": true,
   "title_cell": "Table of Contents",
   "title_sidebar": "Contents",
   "toc_cell": false,
   "toc_position": {
    "height": "calc(100% - 180px)",
    "left": "10px",
    "top": "150px",
    "width": "384px"
   },
   "toc_section_display": true,
   "toc_window_display": true
  }
 },
 "nbformat": 4,
 "nbformat_minor": 1
}
