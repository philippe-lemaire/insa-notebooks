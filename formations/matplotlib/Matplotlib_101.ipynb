{
 "cells": [
  {
   "cell_type": "markdown",
   "metadata": {},
   "source": [
    "\n",
    "# Matplotlib - Graphes en Python - Initiation\n",
    "\n",
    "Ce didacticiel couvre les usages classiques et les bonnes pratiques pour vous aider à bien démarrer l’utilisation de  **Matplotlib**.\n",
    "\n",
    "Ce document est basé sur [cette page de la doc officielle de Matplotlib](https://matplotlib.org/stable/tutorials/introductory/usage.html#sphx-glr-tutorials-introductory-usage-py)\n",
    "\n",
    "La [documentation officielle de Matplotlib](https://matplotlib.org/stable/index.html) est une vaste ressource que vous pourrez consulter par la suite."
   ]
  },
  {
   "cell_type": "raw",
   "metadata": {},
   "source": [
    "%matplotlib inline"
   ]
  },
  {
   "cell_type": "code",
   "execution_count": null,
   "metadata": {},
   "outputs": [],
   "source": [
    "# imports canoniques\n",
    "import matplotlib as mpl\n",
    "import matplotlib.pyplot as plt\n",
    "import numpy as np"
   ]
  },
  {
   "cell_type": "markdown",
   "metadata": {},
   "source": [
    "## Un exemple simple"
   ]
  },
  {
   "cell_type": "markdown",
   "metadata": {},
   "source": [
    "Matplotlib graphe vos données sur une [Figure](https://matplotlib.org/stable/api/figure_api.html#matplotlib.figure.Figure) (une fenêtre, un widget Jupyter, etc…). Chacune de ces Figures peut contenir un ou plusieurs [Axes](https://matplotlib.org/stable/api/axes_api.html#matplotlib.axes.Axes), ie des zones dans lesquelles des points peuvent être spécifiés en termes de coordonnées x et y (ou theta et r dans un graphe en coordonnées polaires, ou encore x,y et z dans un graphe 3D). \n",
    "\n",
    "La manière la plus simple de créer une Figure avec un Axe est d’utiliser `plt.subplots` qui renvoie une figure **et** un Axe, puis d’utiliser la méthode `.plot()` de l’Axe avec deux jeux de données représentant les valeurs en x et les valeurs en y correspondantes.\n"
   ]
  },
  {
   "cell_type": "code",
   "execution_count": null,
   "metadata": {},
   "outputs": [],
   "source": [
    "fig, ax = plt.subplots()  # Crée une figure contenant un unique Axe.\n",
    "ax.plot([1, 2, 3, 4], [1, 4, 2, 3]);  \n",
    "# trace les points fournis. le premier argument est interprété comme une liste de valeurs pour x,\n",
    "# le deuxième une liste de valeurs pour y"
   ]
  },
  {
   "cell_type": "markdown",
   "metadata": {},
   "source": [
    "## Anatomie d’une Figure\n",
    "\n",
    "Voici la nomenclature des composants d’une Figure de Matplotlib.\n",
    "\n",
    "<img src=\"https://matplotlib.org/stable/_images/anatomy.png\">"
   ]
  },
  {
   "cell_type": "markdown",
   "metadata": {},
   "source": [
    "### [`Figure`](https://matplotlib.org/stable/api/figure_api.html#matplotlib.figure.Figure)\n",
    "\n",
    "La Figure est l’image entière générée par Matplotlib. La Figure contient tous les `Axes` enfants, des `Artistes` (les titres, la légende, les barres de couleurs, etc) et même des sous-figures imbriquées.\n",
    "\n",
    "La manière la plus simple de créer une nouvelle Figure est avec `pyplot`:\n",
    "\n",
    "\n",
    "    fig = plt.figure()  # une Figure vide, sans Axes\n",
    "    fig, ax = plt.subplots()  # une Figure avec un unique Axes\n",
    "    fig, axs = plt.subplots(2, 2)  # une Figure avec une grille 2x2 d’Axes\n",
    "    \n",
    "En général, c’est plus pratique de créer les `Axes` conjointement avec la `Figure`, mais on peut aussi ajouter des `Axes` plus tard."
   ]
  },
  {
   "cell_type": "markdown",
   "metadata": {},
   "source": [
    "### [`Axes`](https://matplotlib.org/stable/api/axes_api.html#matplotlib.axes.Axes)\n",
    "\n",
    "Un objet `Axes`est un `Artist` attaché à une `Figure` qui contient une région pour tracer des données, et généralement inclus 2 (ou 3 dans les cas en 3D) objets `Axis` (faites attention à la différence entre **Axes** et **Axis**) qui nous donnent des graduations (`ticks`) et des libellés de graduation pour donner une échelle aux données sur les `Axes`.\n",
    "\n",
    "Chaque `Axes` a également un `title` un `x-label` et un `y-label`.\n",
    "\n",
    "La classe `Axes` et ses méthodes sont le point d’entrée principal pour travailler avec l’interface de Programmation Orientée Objet, et la plupart des méthodes pour tracer sont définies dans cette classe. (par exemple `ax.plot()` montrée plus haut)."
   ]
  },
  {
   "cell_type": "markdown",
   "metadata": {},
   "source": [
    "### [`Axis`](https://matplotlib.org/stable/api/axis_api.html#matplotlib.axis.Axis)\n",
    "\n",
    "Ces objets fixent l’échelle et les limites du graphes, et génèrent les `ticks` (les marques sur les axes) et les `ticks labels` (chaînes de caractères qui donnent un libellé aux marques). La position des marques est déterminée par un objet `matplotlib.ticker.Locator`et le libellé des marques est formaté par un objet `matplotlib.ticker.Formatter`. La combinaison d’un `Locator` et d’un `Formatter` adaptés donne un grand contrôle sur l’emplacement et le texte des marques.\n"
   ]
  },
  {
   "cell_type": "markdown",
   "metadata": {},
   "source": [
    "### [`Artist`](https://matplotlib.org/stable/api/artist_api.html#matplotlib.artist.Artist)\n",
    "\n",
    "Tout ce qui est visible sur une `Figure` est un `Artist` (y compris les objets `Figure`, `Axes` et `Axis`). Cela inclus les objets `Text`, `LineD2`, `collections`, `Patch`, etc…\n",
    "\n",
    "Quand la Figure est affichée, tous les `Artists` sont dessinés sur le **canvas**. La plupart des `Artists` sont liés à un `Axes`, et ne peuvent pas être partagés par plusieurs `Axes`, ou passer de l’un à l’autre."
   ]
  },
  {
   "cell_type": "markdown",
   "metadata": {},
   "source": [
    "## Types d’entrées des fonctions de traçage \n",
    "\n",
    "Les fonctions de traçage attendent un objet `numpy.array` en entrée, ou un objet qui peut être passé à la fonction `numpy.asarray()` qui va le transformer en un array numpy.\n",
    "\n",
    "Les classes qui sont similaires à des `numpy.array` comme les objets `numpy.matrix` peuvent ne pas fonctionner exactement comme attendu. La convention est de les convertir en `numpy.array` avant de les tracer.\n",
    "Par exemple, pour convertir un objet `numpy.matrix` :\n",
    "\n",
    "\n",
    "     b = np.matrix([[1, 2], [3, 4]])\n",
    "     b_asarray = np.asarray(b)\n",
    "\n",
    "La plupart des méthodes de traçage peuvent aussi parcourir un objet `dict`ou similaire comme un \n",
    "`numpy.recarray`, ou une `pandas.DataFrame`.  Matplotlib vous permet de fournir un argument `data=` et de tracer des graphes en passant les chaînes correspondant aux variabes *x* et *y*.\n",
    "\n"
   ]
  },
  {
   "cell_type": "code",
   "execution_count": null,
   "metadata": {},
   "outputs": [],
   "source": [
    "np.random.seed(19680801)  # graine pour le générateur de nombre aléatoire.\n",
    "\n",
    "data = {\n",
    "    'a': np.arange(50),\n",
    "    'c': np.random.randint(0, 50, 50),\n",
    "    'd': np.random.randn(50)\n",
    "}\n",
    "\n",
    "data['b'] = data['a'] + 10 * np.random.randn(50)\n",
    "data['d'] = np.abs(data['d']) * 100\n",
    "\n",
    "fig, ax = plt.subplots(figsize=(10, 5.4), layout='constrained')\n",
    "\n",
    "ax.scatter('a', 'b', c='c', s='d', data=data)\n",
    "ax.set_xlabel('entry a')\n",
    "ax.set_ylabel('entry b')"
   ]
  },
  {
   "cell_type": "markdown",
   "metadata": {},
   "source": [
    "\n",
    "## Styles de Code\n",
    "\n",
    "### L'interface orientée objet et l’interface pyplot\n",
    "\n",
    "Comme vu plus haut, il y a en réalité 2 manières d'utiliser Matplotlib :\n",
    "\n",
    "1. Créer des objets Figure et Axes explicitement, puis appeler leurs méthodes (le style orienté objet)\n",
    "2. Se servir de `pyplot` pour créer automatiquement les Figures et Axes, et utiliser les fonctions de `pyplot` pour tracer\n",
    "\n",
    "Exemple du style OO :"
   ]
  },
  {
   "cell_type": "code",
   "execution_count": null,
   "metadata": {},
   "outputs": [],
   "source": [
    "x = np.linspace(0, 2, 100)  # échantillon pour x.\n",
    "\n",
    "\n",
    "fig, ax = plt.subplots(figsize=(10, 6), layout='constrained') # création de la figure et de l’axes\n",
    "\n",
    "ax.plot(x, x, label='linear')  # méthode plot sur l’axes\n",
    "ax.plot(x, x**2, label='quadratic')  # on plot encore plus de données\n",
    "ax.plot(x, x**3, label='cubic')  # ... et encore.\n",
    "ax.set_xlabel('x label')  # on ajoute un libellé sur l’axe des x.\n",
    "ax.set_ylabel('y label')  # idem pour l’axe des y\n",
    "ax.set_title(\"Simple Plot\")  # on ajoute un titre, toujours avec une méthode sur l’objet Axes.\n",
    "ax.legend();  # enfin, on ajoute la légende, encore et toujours avec une méthode de l’axes."
   ]
  },
  {
   "cell_type": "markdown",
   "metadata": {},
   "source": [
    "Exemple du style `pyplot`, qui utilise des fonctions de pyplot :\n",
    "\n"
   ]
  },
  {
   "cell_type": "code",
   "execution_count": null,
   "metadata": {},
   "outputs": [],
   "source": [
    "x = np.linspace(0, 2, 100)  # échantion pour x.\n",
    "\n",
    "plt.figure(figsize=(10, 6), layout='constrained')\n",
    "plt.plot(x, x, label='linear')  # on plot sur les Axes, mais implicitement\n",
    "plt.plot(x, x**2, label='quadratic')  # etc.\n",
    "plt.plot(x, x**3, label='cubic')\n",
    "plt.xlabel('x label')\n",
    "plt.ylabel('y label')\n",
    "plt.title(\"Simple Plot\")\n",
    "plt.legend();"
   ]
  },
  {
   "cell_type": "markdown",
   "metadata": {},
   "source": [
    "La documentation officielle de **Matplotlib** utilise les deux styles. En général, il est préférable d’utiliser le style OO, particulièrement pour les graphes les plus personnalisés, et au sein de fonctions définies pour être utilisées plusieurs fois au sein d’un projet majeur, mais le style `pyplot` est très pratique pour produire un graphe simple rapidement.\n",
    "\n",
    "\n",
    "<div class=\"alert alert-info\">\n",
    "    \n",
    "#### Note\n",
    "    \n",
    "Vous pouvez tomber sur de vieux exemples qui utilisent l’interface ``pylab``  via ``from pylab import *``. Cette approche est totalement obsolète et n’est plus supportée.\n",
    "\n",
    "</div>"
   ]
  },
  {
   "cell_type": "markdown",
   "metadata": {},
   "source": [
    "### Créer des fonctions \n",
    "\n",
    "Si vous avez besoin de faire le même graphe plusieurs fois, avec des données différentes, vous pouvez partir de l’exemple suivant :"
   ]
  },
  {
   "cell_type": "code",
   "execution_count": null,
   "metadata": {},
   "outputs": [],
   "source": [
    "def my_plotter(ax, data1, data2, param_dict):\n",
    "    \"\"\"\n",
    "    A helper function to make a graph.\n",
    "    \"\"\"\n",
    "    out = ax.plot(data1, data2, **param_dict)\n",
    "    return out"
   ]
  },
  {
   "cell_type": "markdown",
   "metadata": {},
   "source": [
    "que vous pouvez ensuite utiliser plusieurs fois pour peupler des sous-graphes :\n",
    "\n"
   ]
  },
  {
   "cell_type": "code",
   "execution_count": null,
   "metadata": {},
   "outputs": [],
   "source": [
    "data1, data2, data3, data4 = np.random.randn(4, 100)  # 4 jeux de données aléatoires\n",
    "fig, (ax1, ax2) = plt.subplots(1, 2, figsize=(10, 6))\n",
    "\n",
    "# 2 appels à la fonction my_plotter()\n",
    "my_plotter(ax1, data1, data2, {'marker': 'x'})\n",
    "my_plotter(ax2, data3, data4, {'marker': 'o'});"
   ]
  },
  {
   "cell_type": "markdown",
   "metadata": {},
   "source": [
    "## Donner du style aux Artistes\n",
    "\n",
    "La plupart des méthodes on des options de style pour les `Artists` accessibles soit quand une méthode qui trace est appelée, our par un `setter` sur un `Artiste`. Dans le graphe ci-dessous on a manuellement fixé la couleur, largeur de trait et style de ligne des Artistes crées par la méthode `.plot()` puis réglé le style de ligne après coup avec avec `set_linestyle()` sur l’objet `Artiste` lui-même.\n",
    "\n"
   ]
  },
  {
   "cell_type": "code",
   "execution_count": null,
   "metadata": {},
   "outputs": [],
   "source": [
    "fig, ax = plt.subplots(figsize=(10, 6))\n",
    "x = np.arange(len(data1))\n",
    "ax.plot(x, np.cumsum(data1), color='blue', linewidth=3, linestyle='--')\n",
    "l, = ax.plot(x, np.cumsum(data2), color='orange', linewidth=2) # objet artiste ligne capturé dans une variable\n",
    "l.set_linestyle(':'); # utilisation de la méthode sur l’objet artiste"
   ]
  },
  {
   "cell_type": "markdown",
   "metadata": {},
   "source": [
    "### Couleurs\n",
    "\n",
    "Matplotlib a une palette de couleurs très flexible qui est acceptée par la plupart des Artistes, voir [ce didacticiel dédié aux couleurs](https://matplotlib.org/stable/tutorials/colors/colors.html) pour une liste des spécifications.\n",
    "\n",
    "Certains `Artist` peuvent prendre plusieurs couleurs, par exemple dans un graphe `scatter`, l’intérieur et la bordure des marqueurs peuvent être d’une couleur différente :\n",
    "\n"
   ]
  },
  {
   "cell_type": "code",
   "execution_count": null,
   "metadata": {},
   "outputs": [],
   "source": [
    "fig, ax = plt.subplots(figsize=(10, 6))\n",
    "ax.scatter(data1, data2, s=100, facecolor='m', edgecolor='k'); # m = magenta, k = black"
   ]
  },
  {
   "cell_type": "markdown",
   "metadata": {},
   "source": [
    "### Linewidths, linestyles, et markersizes\n",
    "\n",
    "La largeur de ligne est typiquement exprimée en points typographiques (1 pt = 1/72 de pouce, oui ces unités américaines étranges) et l’option est disponible pour les Artistes avec des lignes tracées. De même, les lignes peuvent avoir un `linestyle`, voir [https://matplotlib.org/stable/gallery/lines_bars_and_markers/linestyles.html](https://matplotlib.org/stable/gallery/lines_bars_and_markers/linestyles.html).\n",
    "\n",
    "\n",
    "Les tailles des `marker` dépendent de la méthode utilisées. `Axes.plot()` spécifie la taille des marqueur en points, et il s'agit généralement diamètre, ou de la largeur du marqueur. `Axes.scatter()` spécifie la taille des marqueurs comme approximativement proportionnelle à la zone visuelle du marqueur. Il y a une gamme de style de marqueurs disponible sous la forme de [codes \"string\"](https://matplotlib.org/stable/api/markers_api.html#module-matplotlib.markers) ou bien vous pouvez [définir vos propres styles](https://matplotlib.org/stable/gallery/lines_bars_and_markers/marker_reference.html) :\n"
   ]
  },
  {
   "cell_type": "code",
   "execution_count": null,
   "metadata": {},
   "outputs": [],
   "source": [
    "fig, ax = plt.subplots(figsize=(10, 6))\n",
    "ax.plot(data1, 'o', label='data1')\n",
    "ax.plot(data2, 'd', label='data2')\n",
    "ax.plot(data3, 'v', label='data3')\n",
    "ax.plot(data4, 's', label='data4')\n",
    "ax.legend();"
   ]
  },
  {
   "cell_type": "markdown",
   "metadata": {},
   "source": [
    "## Labelling plots\n",
    "\n",
    "### Axes labels and text\n",
    "\n",
    "`~.Axes.set_xlabel`, `~.Axes.set_ylabel`, and `~.Axes.set_title` are used to\n",
    "add text in the indicated locations (see :doc:`/tutorials/text/text_intro`\n",
    "for more discussion).  Text can also be directly added to plots using\n",
    "`~.Axes.text`:\n",
    "\n"
   ]
  },
  {
   "cell_type": "code",
   "execution_count": null,
   "metadata": {},
   "outputs": [],
   "source": [
    "mu, sigma = 115, 15\n",
    "x = mu + sigma * np.random.randn(10000)\n",
    "fig, ax = plt.subplots(figsize=(5, 2.7), layout='constrained')\n",
    "# the histogram of the data\n",
    "n, bins, patches = ax.hist(x, 50, density=1, facecolor='C0', alpha=0.75)\n",
    "\n",
    "ax.set_xlabel('Length [cm]')\n",
    "ax.set_ylabel('Probability')\n",
    "ax.set_title('Aardvark lengths\\n (not really)')\n",
    "ax.text(75, .025, r'$\\mu=115,\\ \\sigma=15$')\n",
    "ax.axis([55, 175, 0, 0.03])\n",
    "ax.grid(True);"
   ]
  },
  {
   "cell_type": "markdown",
   "metadata": {},
   "source": [
    "All of the `~.Axes.text` functions return a `matplotlib.text.Text`\n",
    "instance.  Just as with lines above, you can customize the properties by\n",
    "passing keyword arguments into the text functions::\n",
    "\n",
    "  t = ax.set_xlabel('my data', fontsize=14, color='red')\n",
    "\n",
    "These properties are covered in more detail in\n",
    ":doc:`/tutorials/text/text_props`.\n",
    "\n",
    "### Using mathematical expressions in text\n",
    "\n",
    "Matplotlib accepts TeX equation expressions in any text expression.\n",
    "For example to write the expression $\\sigma_i=15$ in the title,\n",
    "you can write a TeX expression surrounded by dollar signs::\n",
    "\n",
    "    ax.set_title(r'$\\sigma_i=15$')\n",
    "\n",
    "where the ``r`` preceding the title string signifies that the string is a\n",
    "*raw* string and not to treat backslashes as python escapes.\n",
    "Matplotlib has a built-in TeX expression parser and\n",
    "layout engine, and ships its own math fonts – for details see\n",
    ":doc:`/tutorials/text/mathtext`.  You can also use LaTeX directly to format\n",
    "your text and incorporate the output directly into your display figures or\n",
    "saved postscript – see :doc:`/tutorials/text/usetex`.\n",
    "\n",
    "### Annotations\n",
    "\n",
    "We can also annotate points on a plot, often by connecting an arrow pointing\n",
    "to *xy*, to a piece of text at *xytext*:\n",
    "\n"
   ]
  },
  {
   "cell_type": "code",
   "execution_count": null,
   "metadata": {},
   "outputs": [],
   "source": [
    "fig, ax = plt.subplots(figsize=(5, 2.7))\n",
    "\n",
    "t = np.arange(0.0, 5.0, 0.01)\n",
    "s = np.cos(2 * np.pi * t)\n",
    "line, = ax.plot(t, s, lw=2)\n",
    "\n",
    "ax.annotate('local max', xy=(2, 1), xytext=(3, 1.5),\n",
    "            arrowprops=dict(facecolor='black', shrink=0.05))\n",
    "\n",
    "ax.set_ylim(-2, 2);"
   ]
  },
  {
   "cell_type": "markdown",
   "metadata": {},
   "source": [
    "In this basic example, both *xy* and *xytext* are in data coordinates.\n",
    "There are a variety of other coordinate systems one can choose -- see\n",
    "`annotations-tutorial` and `plotting-guide-annotation` for\n",
    "details.  More examples also can be found in\n",
    ":doc:`/gallery/text_labels_and_annotations/annotation_demo`.\n",
    "\n",
    "### Legends\n",
    "\n",
    "Often we want to identify lines or markers with a `.Axes.legend`:\n",
    "\n"
   ]
  },
  {
   "cell_type": "code",
   "execution_count": null,
   "metadata": {},
   "outputs": [],
   "source": [
    "fig, ax = plt.subplots(figsize=(5, 2.7))\n",
    "ax.plot(np.arange(len(data1)), data1, label='data1')\n",
    "ax.plot(np.arange(len(data2)), data2, label='data2')\n",
    "ax.plot(np.arange(len(data3)), data3, 'd', label='data3')\n",
    "ax.legend();"
   ]
  },
  {
   "cell_type": "markdown",
   "metadata": {},
   "source": [
    "Legends in Matplotlib are quite flexible in layout, placement, and what\n",
    "Artists they can represent. They are discussed in detail in\n",
    ":doc:`/tutorials/intermediate/legend_guide`.\n",
    "\n",
    "## Axis scales and ticks\n",
    "\n",
    "Each Axes has two (or three) `~.axis.Axis` objects representing the x- and\n",
    "y-axis. These control the *scale* of the Axis, the tick *locators* and the\n",
    "tick *formatters*. Additional Axes can be attached to display further Axis\n",
    "objects.\n",
    "\n",
    "### Scales\n",
    "\n",
    "In addition to the linear scale, Matplotlib supplies non-linear scales,\n",
    "such as a log-scale.  Since log-scales are used so much there are also\n",
    "direct methods like `~.Axes.loglog`, `~.Axes.semilogx`, and\n",
    "`~.Axes.semilogy`.  There are a number of scales (see\n",
    ":doc:`/gallery/scales/scales` for other examples).  Here we set the scale\n",
    "manually:\n",
    "\n"
   ]
  },
  {
   "cell_type": "code",
   "execution_count": null,
   "metadata": {},
   "outputs": [],
   "source": [
    "fig, axs = plt.subplots(1, 2, figsize=(5, 2.7), layout='constrained')\n",
    "xdata = np.arange(len(data1))  # make an ordinal for this\n",
    "data = 10**data1\n",
    "axs[0].plot(xdata, data)\n",
    "\n",
    "axs[1].set_yscale('log')\n",
    "axs[1].plot(xdata, data);"
   ]
  },
  {
   "cell_type": "markdown",
   "metadata": {},
   "source": [
    "The scale sets the mapping from data values to spacing along the Axis. This\n",
    "happens in both directions, and gets combined into a *transform*, which\n",
    "is the way that Matplotlib maps from data coordinates to Axes, Figure, or\n",
    "screen coordinates.  See :doc:`/tutorials/advanced/transforms_tutorial`.\n",
    "\n",
    "### Tick locators and formatters\n",
    "\n",
    "Each Axis has a tick *locator* and *formatter* that choose where along the\n",
    "Axis objects to put tick marks.  A simple interface to this is\n",
    "`~.Axes.set_xticks`:\n",
    "\n"
   ]
  },
  {
   "cell_type": "code",
   "execution_count": null,
   "metadata": {},
   "outputs": [],
   "source": [
    "fig, axs = plt.subplots(2, 1, layout='constrained')\n",
    "axs[0].plot(xdata, data1)\n",
    "axs[0].set_title('Automatic ticks')\n",
    "\n",
    "axs[1].plot(xdata, data1)\n",
    "axs[1].set_xticks(np.arange(0, 100, 30), ['zero', '30', 'sixty', '90'])\n",
    "axs[1].set_yticks([-1.5, 0, 1.5])  # note that we don't need to specify labels\n",
    "axs[1].set_title('Manual ticks');"
   ]
  },
  {
   "cell_type": "markdown",
   "metadata": {},
   "source": [
    "Different scales can have different locators and formatters; for instance\n",
    "the log-scale above uses `~.LogLocator` and `~.LogFormatter`. See\n",
    ":doc:`/gallery/ticks/tick-locators` and\n",
    ":doc:`/gallery/ticks/tick-formatters` for other formatters and\n",
    "locators and information for writing your own.\n",
    "\n",
    "### Plotting dates and strings\n",
    "\n",
    "Matplotlib can handle plotting arrays of dates and arrays of strings, as\n",
    "well as floating point numbers.  These get special locators and formatters\n",
    "as appropriate.  For dates:\n",
    "\n"
   ]
  },
  {
   "cell_type": "code",
   "execution_count": null,
   "metadata": {},
   "outputs": [],
   "source": [
    "fig, ax = plt.subplots(figsize=(5, 2.7), layout='constrained')\n",
    "dates = np.arange(np.datetime64('2021-11-15'), np.datetime64('2021-12-25'),\n",
    "                  np.timedelta64(1, 'h'))\n",
    "data = np.cumsum(np.random.randn(len(dates)))\n",
    "ax.plot(dates, data)\n",
    "cdf = mpl.dates.ConciseDateFormatter(ax.xaxis.get_major_locator())\n",
    "ax.xaxis.set_major_formatter(cdf);"
   ]
  },
  {
   "cell_type": "markdown",
   "metadata": {},
   "source": [
    "For more information see the date examples\n",
    "(e.g. :doc:`/gallery/text_labels_and_annotations/date`)\n",
    "\n",
    "For strings, we get categorical plotting (see:\n",
    ":doc:`/gallery/lines_bars_and_markers/categorical_variables`).\n",
    "\n"
   ]
  },
  {
   "cell_type": "code",
   "execution_count": null,
   "metadata": {},
   "outputs": [],
   "source": [
    "fig, ax = plt.subplots(figsize=(5, 2.7), layout='constrained')\n",
    "categories = ['turnips', 'rutabaga', 'cucumber', 'pumpkins']\n",
    "\n",
    "ax.bar(categories, np.random.rand(len(categories)));"
   ]
  },
  {
   "cell_type": "markdown",
   "metadata": {},
   "source": [
    "One caveat about categorical plotting is that some methods of parsing\n",
    "text files return a list of strings, even if the strings all represent\n",
    "numbers or dates.  If you pass 1000 strings, Matplotlib will think you\n",
    "meant 1000 categories and will add 1000 ticks to your plot!\n",
    "\n",
    "\n",
    "### Additional Axis objects\n",
    "\n",
    "Plotting data of different magnitude in one chart may require\n",
    "an additional y-axis. Such an Axis can be created by using\n",
    "`~.Axes.twinx` to add a new Axes with an invisible x-axis and a y-axis\n",
    "positioned at the right (analogously for `~.Axes.twiny`). See\n",
    ":doc:`/gallery/subplots_axes_and_figures/two_scales` for another example.\n",
    "\n",
    "Similarly, you can add a `~.Axes.secondary_xaxis` or\n",
    "`~.Axes.secondary_yaxis` having a different scale than the main Axis to\n",
    "represent the data in different scales or units. See\n",
    ":doc:`/gallery/subplots_axes_and_figures/secondary_axis` for further\n",
    "examples.\n",
    "\n"
   ]
  },
  {
   "cell_type": "code",
   "execution_count": null,
   "metadata": {},
   "outputs": [],
   "source": [
    "fig, (ax1, ax3) = plt.subplots(1, 2, figsize=(8, 2.7), layout='constrained')\n",
    "l1, = ax1.plot(t, s)\n",
    "ax2 = ax1.twinx()\n",
    "l2, = ax2.plot(t, range(len(t)), 'C1')\n",
    "ax2.legend([l1, l2], ['Sine (left)', 'Straight (right)'])\n",
    "\n",
    "ax3.plot(t, s)\n",
    "ax3.set_xlabel('Angle [°]')\n",
    "ax4 = ax3.secondary_xaxis('top', functions=(np.rad2deg, np.deg2rad))\n",
    "ax4.set_xlabel('Angle [rad]')"
   ]
  },
  {
   "cell_type": "markdown",
   "metadata": {},
   "source": [
    "## Color mapped data\n",
    "\n",
    "Often we want to have a third dimension in a plot represented by a colors in\n",
    "a colormap. Matplotlib has a number of plot types that do this:\n",
    "\n"
   ]
  },
  {
   "cell_type": "code",
   "execution_count": null,
   "metadata": {},
   "outputs": [],
   "source": [
    "X, Y = np.meshgrid(np.linspace(-3, 3, 128), np.linspace(-3, 3, 128))\n",
    "Z = (1 - X/2 + X**5 + Y**3) * np.exp(-X**2 - Y**2)\n",
    "\n",
    "fig, axs = plt.subplots(2, 2, layout='constrained')\n",
    "pc = axs[0, 0].pcolormesh(X, Y, Z, vmin=-1, vmax=1, cmap='RdBu_r')\n",
    "fig.colorbar(pc, ax=axs[0, 0])\n",
    "axs[0, 0].set_title('pcolormesh()')\n",
    "\n",
    "co = axs[0, 1].contourf(X, Y, Z, levels=np.linspace(-1.25, 1.25, 11))\n",
    "fig.colorbar(co, ax=axs[0, 1])\n",
    "axs[0, 1].set_title('contourf()')\n",
    "\n",
    "pc = axs[1, 0].imshow(Z**2 * 100, cmap='plasma',\n",
    "                          norm=mpl.colors.LogNorm(vmin=0.01, vmax=100))\n",
    "fig.colorbar(pc, ax=axs[1, 0], extend='both')\n",
    "axs[1, 0].set_title('imshow() with LogNorm()')\n",
    "\n",
    "pc = axs[1, 1].scatter(data1, data2, c=data3, cmap='RdBu_r')\n",
    "fig.colorbar(pc, ax=axs[1, 1], extend='both')\n",
    "axs[1, 1].set_title('scatter()');"
   ]
  },
  {
   "cell_type": "markdown",
   "metadata": {},
   "source": [
    "### Colormaps\n",
    "\n",
    "These are all examples of Artists that derive from  `~.ScalarMappable`\n",
    "objects.  They all can set a linear mapping between *vmin* and *vmax* into\n",
    "the colormap specified by *cmap*.  Matplotlib has many colormaps to choose\n",
    "from (:doc:`/tutorials/colors/colormaps`) you can make your\n",
    "own (:doc:`/tutorials/colors/colormap-manipulation`) or download as\n",
    "`third-party packages\n",
    "<https://matplotlib.org/mpl-third-party/#colormaps-and-styles>`_.\n",
    "\n",
    "### Normalizations\n",
    "\n",
    "Sometimes we want a non-linear mapping of the data to the colormap, as\n",
    "in the ``LogNorm`` example above.  We do this by supplying the\n",
    "ScalarMappable with the *norm* argument instead of *vmin* and *vmax*.\n",
    "More normalizations are shown at :doc:`/tutorials/colors/colormapnorms`.\n",
    "\n",
    "### Colorbars\n",
    "\n",
    "Adding a `~.Figure.colorbar` gives a key to relate the color back to the\n",
    "underlying data. Colorbars are figure-level Artists, and are attached to\n",
    "a ScalarMappable (where they get their information about the norm and\n",
    "colormap) and usually steal space from a parent Axes.  Placement of\n",
    "colorbars can be complex: see\n",
    ":doc:`/gallery/subplots_axes_and_figures/colorbar_placement` for\n",
    "details.  You can also change the appearance of colorbars with the\n",
    "*extend* keyword to add arrows to the ends, and *shrink* and *aspect* to\n",
    "control the size.  Finally, the colorbar will have default locators\n",
    "and formatters appropriate to the norm.  These can be changed as for\n",
    "other Axis objects.\n",
    "\n",
    "\n",
    "## Working with multiple Figures and Axes\n",
    "\n",
    "You can open multiple Figures with multiple calls to\n",
    "``fig = plt.figure()`` or ``fig2, ax = plt.subplots()``.  By keeping the\n",
    "object references you can add Artists to either Figure.\n",
    "\n",
    "Multiple Axes can be added a number of ways, but the most basic is\n",
    "``plt.subplots()`` as used above.  One can achieve more complex layouts,\n",
    "with Axes objects spanning columns or rows, using `~.pyplot.subplot_mosaic`.\n",
    "\n"
   ]
  },
  {
   "cell_type": "code",
   "execution_count": null,
   "metadata": {},
   "outputs": [],
   "source": [
    "fig, axd = plt.subplot_mosaic([['upleft', 'right'],\n",
    "                               ['lowleft', 'right']], layout='constrained')\n",
    "axd['upleft'].set_title('upleft')\n",
    "axd['lowleft'].set_title('lowleft')\n",
    "axd['right'].set_title('right');"
   ]
  },
  {
   "cell_type": "markdown",
   "metadata": {},
   "source": [
    "Matplotlib has quite sophisticated tools for arranging Axes: See\n",
    ":doc:`/tutorials/intermediate/arranging_axes` and\n",
    ":doc:`/tutorials/provisional/mosaic`.\n",
    "\n",
    "\n",
    "## More reading\n",
    "\n",
    "For more plot types see :doc:`Plot types </plot_types/index>` and the\n",
    ":doc:`API reference </api/index>`, in particlar the\n",
    ":doc:`Axes API </api/axes_api>`.\n",
    "\n"
   ]
  }
 ],
 "metadata": {
  "kernelspec": {
   "display_name": "Python 3 (ipykernel)",
   "language": "python",
   "name": "python3"
  },
  "language_info": {
   "codemirror_mode": {
    "name": "ipython",
    "version": 3
   },
   "file_extension": ".py",
   "mimetype": "text/x-python",
   "name": "python",
   "nbconvert_exporter": "python",
   "pygments_lexer": "ipython3",
   "version": "3.10.0rc1"
  },
  "toc": {
   "base_numbering": 1,
   "nav_menu": {},
   "number_sections": true,
   "sideBar": true,
   "skip_h1_title": true,
   "title_cell": "Table of Contents",
   "title_sidebar": "Contents",
   "toc_cell": false,
   "toc_position": {},
   "toc_section_display": true,
   "toc_window_display": true
  }
 },
 "nbformat": 4,
 "nbformat_minor": 1
}
