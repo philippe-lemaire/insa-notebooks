{
 "cells": [
  {
   "cell_type": "markdown",
   "metadata": {},
   "source": [
    "\n",
    "# Matplotlib - Graphes en Python - Initiation\n",
    "\n",
    "Ce didacticiel couvre les usages classiques et les bonnes pratiques pour vous aider à bien démarrer l’utilisation de  **Matplotlib**.\n",
    "\n",
    "Ce document est basé sur [cette page de la doc officielle de Matplotlib](https://matplotlib.org/stable/tutorials/introductory/usage.html#sphx-glr-tutorials-introductory-usage-py)\n",
    "\n",
    "La [documentation officielle de Matplotlib](https://matplotlib.org/stable/index.html) est une vaste ressource que vous pourrez consulter par la suite."
   ]
  },
  {
   "cell_type": "raw",
   "metadata": {},
   "source": [
    "%matplotlib inline"
   ]
  },
  {
   "cell_type": "code",
   "execution_count": null,
   "metadata": {},
   "outputs": [],
   "source": [
    "# imports canoniques\n",
    "import matplotlib as mpl\n",
    "import matplotlib.pyplot as plt\n",
    "import numpy as np"
   ]
  },
  {
   "cell_type": "markdown",
   "metadata": {},
   "source": [
    "## Un exemple simple"
   ]
  },
  {
   "cell_type": "markdown",
   "metadata": {},
   "source": [
    "Matplotlib graphe vos données sur une [Figure](https://matplotlib.org/stable/api/figure_api.html#matplotlib.figure.Figure) (une fenêtre, un widget Jupyter, etc…). Chacune de ces Figures peut contenir un ou plusieurs [Axes](https://matplotlib.org/stable/api/axes_api.html#matplotlib.axes.Axes), ie des zones dans lesquelles des points peuvent être spécifiés en termes de coordonnées x et y (ou theta et r dans un graphe en coordonnées polaires, ou encore x,y et z dans un graphe 3D). \n",
    "\n",
    "La manière la plus simple de créer une Figure avec un Axe est d’utiliser `plt.subplots` qui renvoie une figure **et** un Axe, puis d’utiliser la méthode `.plot()` de l’Axe avec deux jeux de données représentant les valeurs en x et les valeurs en y correspondantes.\n"
   ]
  },
  {
   "cell_type": "code",
   "execution_count": null,
   "metadata": {},
   "outputs": [],
   "source": [
    "fig, ax = plt.subplots()  # Crée une figure contenant un unique Axe.\n",
    "ax.plot([1, 2, 3, 4], [1, 4, 2, 3]);  \n",
    "# trace les points fournis. le premier argument est interprété comme une liste de valeurs pour x,\n",
    "# le deuxième une liste de valeurs pour y"
   ]
  },
  {
   "cell_type": "markdown",
   "metadata": {},
   "source": [
    "## Anatomie d’une Figure\n",
    "\n",
    "Voici la nomenclature des composants d’une Figure de Matplotlib.\n",
    "\n",
    "<img src=\"https://matplotlib.org/stable/_images/anatomy.png\">"
   ]
  },
  {
   "cell_type": "markdown",
   "metadata": {},
   "source": [
    "### [`Figure`](https://matplotlib.org/stable/api/figure_api.html#matplotlib.figure.Figure)\n",
    "\n",
    "La Figure est l’image entière générée par Matplotlib. La Figure contient tous les `Axes` enfants, des `Artistes` (les titres, la légende, les barres de couleurs, etc) et même des sous-figures imbriquées.\n",
    "\n",
    "La manière la plus simple de créer une nouvelle Figure est avec `pyplot`:\n",
    "\n",
    "\n",
    "    fig = plt.figure()  # une Figure vide, sans Axes\n",
    "    fig, ax = plt.subplots()  # une Figure avec un unique Axes\n",
    "    fig, axs = plt.subplots(2, 2)  # une Figure avec une grille 2x2 d’Axes\n",
    "    \n",
    "En général, c’est plus pratique de créer les `Axes` conjointement avec la `Figure`, mais on peut aussi ajouter des `Axes` plus tard."
   ]
  },
  {
   "cell_type": "markdown",
   "metadata": {},
   "source": [
    "### [`Axes`](https://matplotlib.org/stable/api/axes_api.html#matplotlib.axes.Axes)\n",
    "\n",
    "Un objet `Axes`est un `Artist` attaché à une `Figure` qui contient une région pour tracer des données, et généralement inclus 2 (ou 3 dans les cas en 3D) objets `Axis` (faites attention à la différence entre **Axes** et **Axis**) qui nous donnent des graduations (`ticks`) et des libellés de graduation pour donner une échelle aux données sur les `Axes`.\n",
    "\n",
    "Chaque `Axes` a également un `title` un `x-label` et un `y-label`.\n",
    "\n",
    "La classe `Axes` et ses méthodes sont le point d’entrée principal pour travailler avec l’interface de Programmation Orientée Objet, et la plupart des méthodes pour tracer sont définies dans cette classe. (par exemple `ax.plot()` montrée plus haut)."
   ]
  },
  {
   "cell_type": "markdown",
   "metadata": {},
   "source": [
    "### [`Axis`](https://matplotlib.org/stable/api/axis_api.html#matplotlib.axis.Axis)\n",
    "\n",
    "Ces objets fixent l’échelle et les limites du graphes, et génèrent les `ticks` (les marques sur les axes) et les `ticks labels` (chaînes de caractères qui donnent un libellé aux marques). La position des marques est déterminée par un objet `matplotlib.ticker.Locator`et le libellé des marques est formaté par un objet `matplotlib.ticker.Formatter`. La combinaison d’un `Locator` et d’un `Formatter` adaptés donne un grand contrôle sur l’emplacement et le texte des marques.\n"
   ]
  },
  {
   "cell_type": "markdown",
   "metadata": {},
   "source": [
    "### [`Artist`](https://matplotlib.org/stable/api/artist_api.html#matplotlib.artist.Artist)\n",
    "\n",
    "Tout ce qui est visible sur une `Figure` est un `Artist` (y compris les objets `Figure`, `Axes` et `Axis`). Cela inclus les objets `Text`, `LineD2`, `collections`, `Patch`, etc…\n",
    "\n",
    "Quand la Figure est affichée, tous les `Artists` sont dessinés sur le **canvas**. La plupart des `Artists` sont liés à un `Axes`, et ne peuvent pas être partagés par plusieurs `Axes`, ou passer de l’un à l’autre."
   ]
  },
  {
   "cell_type": "markdown",
   "metadata": {},
   "source": [
    "## Types d’entrées des fonctions de traçage \n",
    "\n",
    "Les fonctions de traçage attendent un objet `numpy.array` en entrée, ou un objet qui peut être passé à la fonction `numpy.asarray()` qui va le transformer en un array numpy.\n",
    "\n",
    "Les classes qui sont similaires à des `numpy.array` comme les objets `numpy.matrix` peuvent ne pas fonctionner exactement comme attendu. La convention est de les convertir en `numpy.array` avant de les tracer.\n",
    "Par exemple, pour convertir un objet `numpy.matrix` :\n",
    "\n",
    "\n",
    "     b = np.matrix([[1, 2], [3, 4]])\n",
    "     b_asarray = np.asarray(b)\n",
    "\n",
    "La plupart des méthodes de traçage peuvent aussi parcourir un objet `dict`ou similaire comme un \n",
    "`numpy.recarray`, ou une `pandas.DataFrame`.  Matplotlib vous permet de fournir un argument `data=` et de tracer des graphes en passant les chaînes correspondant aux variabes *x* et *y*.\n",
    "\n"
   ]
  },
  {
   "cell_type": "code",
   "execution_count": null,
   "metadata": {},
   "outputs": [],
   "source": [
    "np.random.seed(19680801)  # graine pour le générateur de nombre aléatoire.\n",
    "\n",
    "data = {\n",
    "    'a': np.arange(50),\n",
    "    'c': np.random.randint(0, 50, 50),\n",
    "    'd': np.random.randn(50)\n",
    "}\n",
    "\n",
    "data['b'] = data['a'] + 10 * np.random.randn(50)\n",
    "data['d'] = np.abs(data['d']) * 100\n",
    "\n",
    "fig, ax = plt.subplots(figsize=(10, 5.4), layout='constrained')\n",
    "\n",
    "ax.scatter('a', 'b', c='c', s='d', data=data)\n",
    "ax.set_xlabel('entry a')\n",
    "ax.set_ylabel('entry b')"
   ]
  },
  {
   "cell_type": "markdown",
   "metadata": {},
   "source": [
    "\n",
    "## Coding styles\n",
    "\n",
    "### The object-oriented and the pyplot interfaces\n",
    "\n",
    "As noted above, there are essentially two ways to use Matplotlib:\n",
    "\n",
    "- Explicitly create Figures and Axes, and call methods on them (the\n",
    "  \"object-oriented (OO) style\").\n",
    "- Rely on pyplot to automatically create and manage the Figures and Axes, and\n",
    "  use pyplot functions for plotting.\n",
    "\n",
    "So one can use the OO-style\n",
    "\n"
   ]
  },
  {
   "cell_type": "code",
   "execution_count": null,
   "metadata": {},
   "outputs": [],
   "source": [
    "x = np.linspace(0, 2, 100)  # Sample data.\n",
    "\n",
    "# Note that even in the OO-style, we use `.pyplot.figure` to create the Figure.\n",
    "fig, ax = plt.subplots(figsize=(5, 2.7), layout='constrained')\n",
    "ax.plot(x, x, label='linear')  # Plot some data on the axes.\n",
    "ax.plot(x, x**2, label='quadratic')  # Plot more data on the axes...\n",
    "ax.plot(x, x**3, label='cubic')  # ... and some more.\n",
    "ax.set_xlabel('x label')  # Add an x-label to the axes.\n",
    "ax.set_ylabel('y label')  # Add a y-label to the axes.\n",
    "ax.set_title(\"Simple Plot\")  # Add a title to the axes.\n",
    "ax.legend();  # Add a legend."
   ]
  },
  {
   "cell_type": "markdown",
   "metadata": {},
   "source": [
    "or the pyplot-style:\n",
    "\n"
   ]
  },
  {
   "cell_type": "code",
   "execution_count": null,
   "metadata": {},
   "outputs": [],
   "source": [
    "x = np.linspace(0, 2, 100)  # Sample data.\n",
    "\n",
    "plt.figure(figsize=(5, 2.7), layout='constrained')\n",
    "plt.plot(x, x, label='linear')  # Plot some data on the (implicit) axes.\n",
    "plt.plot(x, x**2, label='quadratic')  # etc.\n",
    "plt.plot(x, x**3, label='cubic')\n",
    "plt.xlabel('x label')\n",
    "plt.ylabel('y label')\n",
    "plt.title(\"Simple Plot\")\n",
    "plt.legend();"
   ]
  },
  {
   "cell_type": "markdown",
   "metadata": {},
   "source": [
    "(In addition, there is a third approach, for the case when embedding\n",
    "Matplotlib in a GUI application, which completely drops pyplot, even for\n",
    "figure creation. See the corresponding section in the gallery for more info:\n",
    "`user_interfaces`.)\n",
    "\n",
    "Matplotlib's documentation and examples use both the OO and the pyplot\n",
    "styles. In general, we suggest using the OO style, particularly for\n",
    "complicated plots, and functions and scripts that are intended to be reused\n",
    "as part of a larger project. However, the pyplot style can be very convenient\n",
    "for quick interactive work.\n",
    "\n",
    "<div class=\"alert alert-info\"><h4>Note</h4><p>You may find older examples that use the ``pylab`` interface,\n",
    "   via ``from pylab import *``. This approach is strongly deprecated.</p></div>\n",
    "\n",
    "### Making a helper functions\n",
    "\n",
    "If you need to make the same plots over and over again with different data\n",
    "sets, or want to easily wrap Matplotlib methods, use the recommended\n",
    "signature function below.\n",
    "\n"
   ]
  },
  {
   "cell_type": "code",
   "execution_count": null,
   "metadata": {},
   "outputs": [],
   "source": [
    "def my_plotter(ax, data1, data2, param_dict):\n",
    "    \"\"\"\n",
    "    A helper function to make a graph.\n",
    "    \"\"\"\n",
    "    out = ax.plot(data1, data2, **param_dict)\n",
    "    return out"
   ]
  },
  {
   "cell_type": "markdown",
   "metadata": {},
   "source": [
    "which you would then use twice to populate two subplots:\n",
    "\n"
   ]
  },
  {
   "cell_type": "code",
   "execution_count": null,
   "metadata": {},
   "outputs": [],
   "source": [
    "data1, data2, data3, data4 = np.random.randn(4, 100)  # make 4 random data sets\n",
    "fig, (ax1, ax2) = plt.subplots(1, 2, figsize=(5, 2.7))\n",
    "my_plotter(ax1, data1, data2, {'marker': 'x'})\n",
    "my_plotter(ax2, data3, data4, {'marker': 'o'});"
   ]
  },
  {
   "cell_type": "markdown",
   "metadata": {},
   "source": [
    "Note that if you want to install these as a python package, or any other\n",
    "customizations you could use one of the many templates on the web;\n",
    "Matplotlib has one at `mpl-cookiecutter\n",
    "<https://github.com/matplotlib/matplotlib-extension-cookiecutter>`_\n",
    "\n",
    "\n",
    "## Styling Artists\n",
    "\n",
    "Most plotting methods have styling options for the Artists, accessible either\n",
    "when a plotting method is called, or from a \"setter\" on the Artist.  In the\n",
    "plot below we manually set the *color*, *linewidth*, and *linestyle* of the\n",
    "Artists created by `~.Axes.plot`, and we set the linestyle of the second line\n",
    "after the fact with `~.Line2D.set_linestyle`.\n",
    "\n"
   ]
  },
  {
   "cell_type": "code",
   "execution_count": null,
   "metadata": {},
   "outputs": [],
   "source": [
    "fig, ax = plt.subplots(figsize=(5, 2.7))\n",
    "x = np.arange(len(data1))\n",
    "ax.plot(x, np.cumsum(data1), color='blue', linewidth=3, linestyle='--')\n",
    "l, = ax.plot(x, np.cumsum(data2), color='orange', linewidth=2)\n",
    "l.set_linestyle(':');"
   ]
  },
  {
   "cell_type": "markdown",
   "metadata": {},
   "source": [
    "### Colors\n",
    "\n",
    "Matplotlib has a very flexible array of colors that are accepted for most\n",
    "Artists; see the :doc:`colors tutorial </tutorials/colors/colors>` for a\n",
    "list of specifications. Some Artists will take multiple colors.  i.e. for\n",
    "a `~.Axes.scatter` plot, the edge of the markers can be different colors\n",
    "from the interior:\n",
    "\n"
   ]
  },
  {
   "cell_type": "code",
   "execution_count": null,
   "metadata": {},
   "outputs": [],
   "source": [
    "fig, ax = plt.subplots(figsize=(5, 2.7))\n",
    "ax.scatter(data1, data2, s=50, facecolor='C0', edgecolor='k');"
   ]
  },
  {
   "cell_type": "markdown",
   "metadata": {},
   "source": [
    "### Linewidths, linestyles, and markersizes\n",
    "\n",
    "Line widths are typically in typographic points (1 pt = 1/72 inch) and\n",
    "available for Artists that have stroked lines.  Similarly, stroked lines\n",
    "can have a linestyle.  See the :doc:`linestyles example\n",
    "</gallery/lines_bars_and_markers/linestyles>`.\n",
    "\n",
    "Marker size depends on the method being used.  `~.Axes.plot` specifies\n",
    "markersize in points, and is generally the \"diameter\" or width of the\n",
    "marker.  `~.Axes.scatter` specifies markersize as approximately\n",
    "proportional to the visual area of the marker.  There is an array of\n",
    "markerstyles available as string codes (see :mod:`~.matplotlib.markers`), or\n",
    "users can define their own `~.MarkerStyle` (see\n",
    ":doc:`/gallery/lines_bars_and_markers/marker_reference`):\n",
    "\n"
   ]
  },
  {
   "cell_type": "code",
   "execution_count": null,
   "metadata": {},
   "outputs": [],
   "source": [
    "fig, ax = plt.subplots(figsize=(5, 2.7))\n",
    "ax.plot(data1, 'o', label='data1')\n",
    "ax.plot(data2, 'd', label='data2')\n",
    "ax.plot(data3, 'v', label='data3')\n",
    "ax.plot(data4, 's', label='data4')\n",
    "ax.legend();"
   ]
  },
  {
   "cell_type": "markdown",
   "metadata": {},
   "source": [
    "## Labelling plots\n",
    "\n",
    "### Axes labels and text\n",
    "\n",
    "`~.Axes.set_xlabel`, `~.Axes.set_ylabel`, and `~.Axes.set_title` are used to\n",
    "add text in the indicated locations (see :doc:`/tutorials/text/text_intro`\n",
    "for more discussion).  Text can also be directly added to plots using\n",
    "`~.Axes.text`:\n",
    "\n"
   ]
  },
  {
   "cell_type": "code",
   "execution_count": null,
   "metadata": {},
   "outputs": [],
   "source": [
    "mu, sigma = 115, 15\n",
    "x = mu + sigma * np.random.randn(10000)\n",
    "fig, ax = plt.subplots(figsize=(5, 2.7), layout='constrained')\n",
    "# the histogram of the data\n",
    "n, bins, patches = ax.hist(x, 50, density=1, facecolor='C0', alpha=0.75)\n",
    "\n",
    "ax.set_xlabel('Length [cm]')\n",
    "ax.set_ylabel('Probability')\n",
    "ax.set_title('Aardvark lengths\\n (not really)')\n",
    "ax.text(75, .025, r'$\\mu=115,\\ \\sigma=15$')\n",
    "ax.axis([55, 175, 0, 0.03])\n",
    "ax.grid(True);"
   ]
  },
  {
   "cell_type": "markdown",
   "metadata": {},
   "source": [
    "All of the `~.Axes.text` functions return a `matplotlib.text.Text`\n",
    "instance.  Just as with lines above, you can customize the properties by\n",
    "passing keyword arguments into the text functions::\n",
    "\n",
    "  t = ax.set_xlabel('my data', fontsize=14, color='red')\n",
    "\n",
    "These properties are covered in more detail in\n",
    ":doc:`/tutorials/text/text_props`.\n",
    "\n",
    "### Using mathematical expressions in text\n",
    "\n",
    "Matplotlib accepts TeX equation expressions in any text expression.\n",
    "For example to write the expression $\\sigma_i=15$ in the title,\n",
    "you can write a TeX expression surrounded by dollar signs::\n",
    "\n",
    "    ax.set_title(r'$\\sigma_i=15$')\n",
    "\n",
    "where the ``r`` preceding the title string signifies that the string is a\n",
    "*raw* string and not to treat backslashes as python escapes.\n",
    "Matplotlib has a built-in TeX expression parser and\n",
    "layout engine, and ships its own math fonts – for details see\n",
    ":doc:`/tutorials/text/mathtext`.  You can also use LaTeX directly to format\n",
    "your text and incorporate the output directly into your display figures or\n",
    "saved postscript – see :doc:`/tutorials/text/usetex`.\n",
    "\n",
    "### Annotations\n",
    "\n",
    "We can also annotate points on a plot, often by connecting an arrow pointing\n",
    "to *xy*, to a piece of text at *xytext*:\n",
    "\n"
   ]
  },
  {
   "cell_type": "code",
   "execution_count": null,
   "metadata": {},
   "outputs": [],
   "source": [
    "fig, ax = plt.subplots(figsize=(5, 2.7))\n",
    "\n",
    "t = np.arange(0.0, 5.0, 0.01)\n",
    "s = np.cos(2 * np.pi * t)\n",
    "line, = ax.plot(t, s, lw=2)\n",
    "\n",
    "ax.annotate('local max', xy=(2, 1), xytext=(3, 1.5),\n",
    "            arrowprops=dict(facecolor='black', shrink=0.05))\n",
    "\n",
    "ax.set_ylim(-2, 2);"
   ]
  },
  {
   "cell_type": "markdown",
   "metadata": {},
   "source": [
    "In this basic example, both *xy* and *xytext* are in data coordinates.\n",
    "There are a variety of other coordinate systems one can choose -- see\n",
    "`annotations-tutorial` and `plotting-guide-annotation` for\n",
    "details.  More examples also can be found in\n",
    ":doc:`/gallery/text_labels_and_annotations/annotation_demo`.\n",
    "\n",
    "### Legends\n",
    "\n",
    "Often we want to identify lines or markers with a `.Axes.legend`:\n",
    "\n"
   ]
  },
  {
   "cell_type": "code",
   "execution_count": null,
   "metadata": {},
   "outputs": [],
   "source": [
    "fig, ax = plt.subplots(figsize=(5, 2.7))\n",
    "ax.plot(np.arange(len(data1)), data1, label='data1')\n",
    "ax.plot(np.arange(len(data2)), data2, label='data2')\n",
    "ax.plot(np.arange(len(data3)), data3, 'd', label='data3')\n",
    "ax.legend();"
   ]
  },
  {
   "cell_type": "markdown",
   "metadata": {},
   "source": [
    "Legends in Matplotlib are quite flexible in layout, placement, and what\n",
    "Artists they can represent. They are discussed in detail in\n",
    ":doc:`/tutorials/intermediate/legend_guide`.\n",
    "\n",
    "## Axis scales and ticks\n",
    "\n",
    "Each Axes has two (or three) `~.axis.Axis` objects representing the x- and\n",
    "y-axis. These control the *scale* of the Axis, the tick *locators* and the\n",
    "tick *formatters*. Additional Axes can be attached to display further Axis\n",
    "objects.\n",
    "\n",
    "### Scales\n",
    "\n",
    "In addition to the linear scale, Matplotlib supplies non-linear scales,\n",
    "such as a log-scale.  Since log-scales are used so much there are also\n",
    "direct methods like `~.Axes.loglog`, `~.Axes.semilogx`, and\n",
    "`~.Axes.semilogy`.  There are a number of scales (see\n",
    ":doc:`/gallery/scales/scales` for other examples).  Here we set the scale\n",
    "manually:\n",
    "\n"
   ]
  },
  {
   "cell_type": "code",
   "execution_count": null,
   "metadata": {},
   "outputs": [],
   "source": [
    "fig, axs = plt.subplots(1, 2, figsize=(5, 2.7), layout='constrained')\n",
    "xdata = np.arange(len(data1))  # make an ordinal for this\n",
    "data = 10**data1\n",
    "axs[0].plot(xdata, data)\n",
    "\n",
    "axs[1].set_yscale('log')\n",
    "axs[1].plot(xdata, data);"
   ]
  },
  {
   "cell_type": "markdown",
   "metadata": {},
   "source": [
    "The scale sets the mapping from data values to spacing along the Axis. This\n",
    "happens in both directions, and gets combined into a *transform*, which\n",
    "is the way that Matplotlib maps from data coordinates to Axes, Figure, or\n",
    "screen coordinates.  See :doc:`/tutorials/advanced/transforms_tutorial`.\n",
    "\n",
    "### Tick locators and formatters\n",
    "\n",
    "Each Axis has a tick *locator* and *formatter* that choose where along the\n",
    "Axis objects to put tick marks.  A simple interface to this is\n",
    "`~.Axes.set_xticks`:\n",
    "\n"
   ]
  },
  {
   "cell_type": "code",
   "execution_count": null,
   "metadata": {},
   "outputs": [],
   "source": [
    "fig, axs = plt.subplots(2, 1, layout='constrained')\n",
    "axs[0].plot(xdata, data1)\n",
    "axs[0].set_title('Automatic ticks')\n",
    "\n",
    "axs[1].plot(xdata, data1)\n",
    "axs[1].set_xticks(np.arange(0, 100, 30), ['zero', '30', 'sixty', '90'])\n",
    "axs[1].set_yticks([-1.5, 0, 1.5])  # note that we don't need to specify labels\n",
    "axs[1].set_title('Manual ticks');"
   ]
  },
  {
   "cell_type": "markdown",
   "metadata": {},
   "source": [
    "Different scales can have different locators and formatters; for instance\n",
    "the log-scale above uses `~.LogLocator` and `~.LogFormatter`. See\n",
    ":doc:`/gallery/ticks/tick-locators` and\n",
    ":doc:`/gallery/ticks/tick-formatters` for other formatters and\n",
    "locators and information for writing your own.\n",
    "\n",
    "### Plotting dates and strings\n",
    "\n",
    "Matplotlib can handle plotting arrays of dates and arrays of strings, as\n",
    "well as floating point numbers.  These get special locators and formatters\n",
    "as appropriate.  For dates:\n",
    "\n"
   ]
  },
  {
   "cell_type": "code",
   "execution_count": null,
   "metadata": {},
   "outputs": [],
   "source": [
    "fig, ax = plt.subplots(figsize=(5, 2.7), layout='constrained')\n",
    "dates = np.arange(np.datetime64('2021-11-15'), np.datetime64('2021-12-25'),\n",
    "                  np.timedelta64(1, 'h'))\n",
    "data = np.cumsum(np.random.randn(len(dates)))\n",
    "ax.plot(dates, data)\n",
    "cdf = mpl.dates.ConciseDateFormatter(ax.xaxis.get_major_locator())\n",
    "ax.xaxis.set_major_formatter(cdf);"
   ]
  },
  {
   "cell_type": "markdown",
   "metadata": {},
   "source": [
    "For more information see the date examples\n",
    "(e.g. :doc:`/gallery/text_labels_and_annotations/date`)\n",
    "\n",
    "For strings, we get categorical plotting (see:\n",
    ":doc:`/gallery/lines_bars_and_markers/categorical_variables`).\n",
    "\n"
   ]
  },
  {
   "cell_type": "code",
   "execution_count": null,
   "metadata": {},
   "outputs": [],
   "source": [
    "fig, ax = plt.subplots(figsize=(5, 2.7), layout='constrained')\n",
    "categories = ['turnips', 'rutabaga', 'cucumber', 'pumpkins']\n",
    "\n",
    "ax.bar(categories, np.random.rand(len(categories)));"
   ]
  },
  {
   "cell_type": "markdown",
   "metadata": {},
   "source": [
    "One caveat about categorical plotting is that some methods of parsing\n",
    "text files return a list of strings, even if the strings all represent\n",
    "numbers or dates.  If you pass 1000 strings, Matplotlib will think you\n",
    "meant 1000 categories and will add 1000 ticks to your plot!\n",
    "\n",
    "\n",
    "### Additional Axis objects\n",
    "\n",
    "Plotting data of different magnitude in one chart may require\n",
    "an additional y-axis. Such an Axis can be created by using\n",
    "`~.Axes.twinx` to add a new Axes with an invisible x-axis and a y-axis\n",
    "positioned at the right (analogously for `~.Axes.twiny`). See\n",
    ":doc:`/gallery/subplots_axes_and_figures/two_scales` for another example.\n",
    "\n",
    "Similarly, you can add a `~.Axes.secondary_xaxis` or\n",
    "`~.Axes.secondary_yaxis` having a different scale than the main Axis to\n",
    "represent the data in different scales or units. See\n",
    ":doc:`/gallery/subplots_axes_and_figures/secondary_axis` for further\n",
    "examples.\n",
    "\n"
   ]
  },
  {
   "cell_type": "code",
   "execution_count": null,
   "metadata": {},
   "outputs": [],
   "source": [
    "fig, (ax1, ax3) = plt.subplots(1, 2, figsize=(8, 2.7), layout='constrained')\n",
    "l1, = ax1.plot(t, s)\n",
    "ax2 = ax1.twinx()\n",
    "l2, = ax2.plot(t, range(len(t)), 'C1')\n",
    "ax2.legend([l1, l2], ['Sine (left)', 'Straight (right)'])\n",
    "\n",
    "ax3.plot(t, s)\n",
    "ax3.set_xlabel('Angle [°]')\n",
    "ax4 = ax3.secondary_xaxis('top', functions=(np.rad2deg, np.deg2rad))\n",
    "ax4.set_xlabel('Angle [rad]')"
   ]
  },
  {
   "cell_type": "markdown",
   "metadata": {},
   "source": [
    "## Color mapped data\n",
    "\n",
    "Often we want to have a third dimension in a plot represented by a colors in\n",
    "a colormap. Matplotlib has a number of plot types that do this:\n",
    "\n"
   ]
  },
  {
   "cell_type": "code",
   "execution_count": null,
   "metadata": {},
   "outputs": [],
   "source": [
    "X, Y = np.meshgrid(np.linspace(-3, 3, 128), np.linspace(-3, 3, 128))\n",
    "Z = (1 - X/2 + X**5 + Y**3) * np.exp(-X**2 - Y**2)\n",
    "\n",
    "fig, axs = plt.subplots(2, 2, layout='constrained')\n",
    "pc = axs[0, 0].pcolormesh(X, Y, Z, vmin=-1, vmax=1, cmap='RdBu_r')\n",
    "fig.colorbar(pc, ax=axs[0, 0])\n",
    "axs[0, 0].set_title('pcolormesh()')\n",
    "\n",
    "co = axs[0, 1].contourf(X, Y, Z, levels=np.linspace(-1.25, 1.25, 11))\n",
    "fig.colorbar(co, ax=axs[0, 1])\n",
    "axs[0, 1].set_title('contourf()')\n",
    "\n",
    "pc = axs[1, 0].imshow(Z**2 * 100, cmap='plasma',\n",
    "                          norm=mpl.colors.LogNorm(vmin=0.01, vmax=100))\n",
    "fig.colorbar(pc, ax=axs[1, 0], extend='both')\n",
    "axs[1, 0].set_title('imshow() with LogNorm()')\n",
    "\n",
    "pc = axs[1, 1].scatter(data1, data2, c=data3, cmap='RdBu_r')\n",
    "fig.colorbar(pc, ax=axs[1, 1], extend='both')\n",
    "axs[1, 1].set_title('scatter()');"
   ]
  },
  {
   "cell_type": "markdown",
   "metadata": {},
   "source": [
    "### Colormaps\n",
    "\n",
    "These are all examples of Artists that derive from  `~.ScalarMappable`\n",
    "objects.  They all can set a linear mapping between *vmin* and *vmax* into\n",
    "the colormap specified by *cmap*.  Matplotlib has many colormaps to choose\n",
    "from (:doc:`/tutorials/colors/colormaps`) you can make your\n",
    "own (:doc:`/tutorials/colors/colormap-manipulation`) or download as\n",
    "`third-party packages\n",
    "<https://matplotlib.org/mpl-third-party/#colormaps-and-styles>`_.\n",
    "\n",
    "### Normalizations\n",
    "\n",
    "Sometimes we want a non-linear mapping of the data to the colormap, as\n",
    "in the ``LogNorm`` example above.  We do this by supplying the\n",
    "ScalarMappable with the *norm* argument instead of *vmin* and *vmax*.\n",
    "More normalizations are shown at :doc:`/tutorials/colors/colormapnorms`.\n",
    "\n",
    "### Colorbars\n",
    "\n",
    "Adding a `~.Figure.colorbar` gives a key to relate the color back to the\n",
    "underlying data. Colorbars are figure-level Artists, and are attached to\n",
    "a ScalarMappable (where they get their information about the norm and\n",
    "colormap) and usually steal space from a parent Axes.  Placement of\n",
    "colorbars can be complex: see\n",
    ":doc:`/gallery/subplots_axes_and_figures/colorbar_placement` for\n",
    "details.  You can also change the appearance of colorbars with the\n",
    "*extend* keyword to add arrows to the ends, and *shrink* and *aspect* to\n",
    "control the size.  Finally, the colorbar will have default locators\n",
    "and formatters appropriate to the norm.  These can be changed as for\n",
    "other Axis objects.\n",
    "\n",
    "\n",
    "## Working with multiple Figures and Axes\n",
    "\n",
    "You can open multiple Figures with multiple calls to\n",
    "``fig = plt.figure()`` or ``fig2, ax = plt.subplots()``.  By keeping the\n",
    "object references you can add Artists to either Figure.\n",
    "\n",
    "Multiple Axes can be added a number of ways, but the most basic is\n",
    "``plt.subplots()`` as used above.  One can achieve more complex layouts,\n",
    "with Axes objects spanning columns or rows, using `~.pyplot.subplot_mosaic`.\n",
    "\n"
   ]
  },
  {
   "cell_type": "code",
   "execution_count": null,
   "metadata": {},
   "outputs": [],
   "source": [
    "fig, axd = plt.subplot_mosaic([['upleft', 'right'],\n",
    "                               ['lowleft', 'right']], layout='constrained')\n",
    "axd['upleft'].set_title('upleft')\n",
    "axd['lowleft'].set_title('lowleft')\n",
    "axd['right'].set_title('right');"
   ]
  },
  {
   "cell_type": "markdown",
   "metadata": {},
   "source": [
    "Matplotlib has quite sophisticated tools for arranging Axes: See\n",
    ":doc:`/tutorials/intermediate/arranging_axes` and\n",
    ":doc:`/tutorials/provisional/mosaic`.\n",
    "\n",
    "\n",
    "## More reading\n",
    "\n",
    "For more plot types see :doc:`Plot types </plot_types/index>` and the\n",
    ":doc:`API reference </api/index>`, in particlar the\n",
    ":doc:`Axes API </api/axes_api>`.\n",
    "\n"
   ]
  }
 ],
 "metadata": {
  "kernelspec": {
   "display_name": "Python 3 (ipykernel)",
   "language": "python",
   "name": "python3"
  },
  "language_info": {
   "codemirror_mode": {
    "name": "ipython",
    "version": 3
   },
   "file_extension": ".py",
   "mimetype": "text/x-python",
   "name": "python",
   "nbconvert_exporter": "python",
   "pygments_lexer": "ipython3",
   "version": "3.10.0rc1"
  },
  "toc": {
   "base_numbering": 1,
   "nav_menu": {},
   "number_sections": true,
   "sideBar": true,
   "skip_h1_title": true,
   "title_cell": "Table of Contents",
   "title_sidebar": "Contents",
   "toc_cell": false,
   "toc_position": {},
   "toc_section_display": true,
   "toc_window_display": true
  }
 },
 "nbformat": 4,
 "nbformat_minor": 1
}
