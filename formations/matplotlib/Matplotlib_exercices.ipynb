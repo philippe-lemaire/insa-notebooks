{
 "cells": [
  {
   "cell_type": "markdown",
   "id": "87e57310",
   "metadata": {},
   "source": [
    "# Matplotlib Exercices"
   ]
  },
  {
   "cell_type": "markdown",
   "id": "264dba47",
   "metadata": {
    "toc": true
   },
   "source": [
    "<h1>Table des Matières<span class=\"tocSkip\"></span></h1>\n",
    "<div class=\"toc\"><ul class=\"toc-item\"><li><span><a href=\"#Courbes-trigonométriques\" data-toc-modified-id=\"Courbes-trigonométriques-1\"><span class=\"toc-item-num\">1&nbsp;&nbsp;</span>Courbes trigonométriques</a></span></li><li><span><a href=\"#Cercles\" data-toc-modified-id=\"Cercles-2\"><span class=\"toc-item-num\">2&nbsp;&nbsp;</span>Cercles</a></span></li><li><span><a href=\"#Grille-de-graphes\" data-toc-modified-id=\"Grille-de-graphes-3\"><span class=\"toc-item-num\">3&nbsp;&nbsp;</span>Grille de graphes</a></span></li><li><span><a href=\"#Moins-de-ticks\" data-toc-modified-id=\"Moins-de-ticks-4\"><span class=\"toc-item-num\">4&nbsp;&nbsp;</span>Moins de ticks</a></span></li><li><span><a href=\"#Plan-Cartésien-classique\" data-toc-modified-id=\"Plan-Cartésien-classique-5\"><span class=\"toc-item-num\">5&nbsp;&nbsp;</span>Plan Cartésien classique</a></span></li></ul></div>"
   ]
  },
  {
   "cell_type": "code",
   "execution_count": null,
   "id": "ac273e58",
   "metadata": {},
   "outputs": [],
   "source": [
    "# imports canoniques\n",
    "import matplotlib.pyplot as plt\n",
    "import numpy as np\n",
    "from math import tau"
   ]
  },
  {
   "cell_type": "markdown",
   "id": "0a3b9ba6",
   "metadata": {},
   "source": [
    "## Courbes trigonométriques"
   ]
  },
  {
   "cell_type": "markdown",
   "id": "6d7c08c5",
   "metadata": {},
   "source": [
    "En utilisant `numpy` et `matplotlib.pyplot`, tracez dans un même graphe \n",
    "\n",
    "- $cos(x)$, en vert\n",
    "- $sin(x)$, en rouge\n",
    "- $2cos²(x)-1$, en bleu\n",
    "\n",
    "pour $x$ compris entre $-\\pi$ et $\\pi$.\n",
    "\n",
    "Pensez à mettre des libellés à vos courbes et à faire apparaître une légende."
   ]
  },
  {
   "cell_type": "code",
   "execution_count": null,
   "id": "a821f838",
   "metadata": {},
   "outputs": [],
   "source": []
  },
  {
   "cell_type": "markdown",
   "id": "28a01433",
   "metadata": {},
   "source": [
    "## Cercles"
   ]
  },
  {
   "cell_type": "markdown",
   "id": "d5fb6b8e",
   "metadata": {},
   "source": [
    "Dans une figure de taille `(8, 8)` tracez :\n",
    "\n",
    "- le cercle unitaire, \n",
    "- le diamètre sur l’axe horizontal\n",
    "- le rayon avec un angle de 30° \n",
    "\n",
    "**NB :** les fonctions `np.cos()` et `np.sin()` fonctionnent en radians. $360°$ = $2\\pi$ radians = $tau$ radians."
   ]
  },
  {
   "cell_type": "code",
   "execution_count": null,
   "id": "eef45c4c",
   "metadata": {},
   "outputs": [],
   "source": []
  },
  {
   "cell_type": "markdown",
   "id": "d3715d7f",
   "metadata": {},
   "source": [
    "## Grille de graphes\n",
    "\n",
    "Créez une grille de 4 graphes (2x2), de taille totale `(20, 12)`. Tracez vos 4 fonctions préférées, une par graphe.\n",
    "\n",
    "Pensez à faire apparaître un libellé et une légende pour chaque `Axes`. \n",
    "\n",
    "Point bonus : essayez d’appeler la méthode `Axes.legend()` sur chaque `Axes` via une boucle `for`, plutôt que de répéter 4 fois la commande.  \n",
    "La méthode `array.flatten()` sera d’une grande aide."
   ]
  },
  {
   "cell_type": "code",
   "execution_count": null,
   "id": "b45a5eac",
   "metadata": {},
   "outputs": [],
   "source": []
  },
  {
   "cell_type": "markdown",
   "id": "597a345a",
   "metadata": {},
   "source": [
    "## Moins de ticks\n",
    "\n",
    "- Créez une figure avec 1 `Axes` de taille `(5, 5)`\n",
    "- Tracez un arc d’un quart de cercle de rayon 2, avec $x$ et $y$ positifs\n",
    "- modifiez les `ticks` pour que seuls `0`, `1` et `2` apparaissent sur les 2 axes"
   ]
  },
  {
   "cell_type": "code",
   "execution_count": null,
   "id": "5813f45e",
   "metadata": {},
   "outputs": [],
   "source": []
  },
  {
   "cell_type": "markdown",
   "id": "8f92013c",
   "metadata": {},
   "source": [
    "## Plan Cartésien classique"
   ]
  },
  {
   "cell_type": "markdown",
   "id": "dbf0a239",
   "metadata": {},
   "source": [
    "Tracez votre fonction de préférée dans $\\mathbb{R}$, mais :\n",
    "- déplacez les axes de manière à les avoir au centre du graphe, et non pas sur les bords comme par défaut.\n",
    "- masquer les `spines` non déplacées\n",
    "- réglez les ticks et leurs libellés selon les points les plus pertinents de votre fonction.\n",
    "\n",
    "Exemple : ![](sinus.png)\n",
    "\n",
    "Spoiler : si vous coincez, inspirez-vous de ce [fil de discussion stack overflow](https://stackoverflow.com/questions/31556446/how-to-draw-axis-in-the-middle-of-the-figure)"
   ]
  },
  {
   "cell_type": "code",
   "execution_count": null,
   "id": "e331982b",
   "metadata": {},
   "outputs": [],
   "source": []
  },
  {
   "cell_type": "code",
   "execution_count": null,
   "id": "10e35eac",
   "metadata": {},
   "outputs": [],
   "source": []
  }
 ],
 "metadata": {
  "kernelspec": {
   "display_name": "Python 3 (ipykernel)",
   "language": "python",
   "name": "python3"
  },
  "language_info": {
   "codemirror_mode": {
    "name": "ipython",
    "version": 3
   },
   "file_extension": ".py",
   "mimetype": "text/x-python",
   "name": "python",
   "nbconvert_exporter": "python",
   "pygments_lexer": "ipython3",
   "version": "3.10.0rc1"
  },
  "toc": {
   "base_numbering": 1,
   "nav_menu": {},
   "number_sections": true,
   "sideBar": true,
   "skip_h1_title": true,
   "title_cell": "Table des Matières",
   "title_sidebar": "Contents",
   "toc_cell": true,
   "toc_position": {},
   "toc_section_display": true,
   "toc_window_display": true
  }
 },
 "nbformat": 4,
 "nbformat_minor": 5
}
