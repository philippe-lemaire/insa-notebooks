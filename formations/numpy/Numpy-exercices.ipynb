{
 "cells": [
  {
   "cell_type": "markdown",
   "id": "e5e091f6",
   "metadata": {},
   "source": [
    "# Exercices Numpy"
   ]
  },
  {
   "cell_type": "code",
   "execution_count": null,
   "id": "24b9fcdc",
   "metadata": {},
   "outputs": [],
   "source": [
    "import numpy as np"
   ]
  },
  {
   "cell_type": "markdown",
   "id": "0b4e4604",
   "metadata": {},
   "source": [
    "## Carré de carrés"
   ]
  },
  {
   "cell_type": "markdown",
   "id": "3cfcb78d",
   "metadata": {},
   "source": [
    "Créez un array 2D ayant 10 lignes et 10 colonnes, contenant les carrés des 100 premiers entiers naturels (incluant 0).\n",
    "Stockez le dans une variable appelée `X`."
   ]
  },
  {
   "cell_type": "code",
   "execution_count": null,
   "id": "6c5bc28f",
   "metadata": {},
   "outputs": [],
   "source": []
  },
  {
   "cell_type": "code",
   "execution_count": null,
   "id": "f093d90a",
   "metadata": {},
   "outputs": [],
   "source": []
  },
  {
   "cell_type": "code",
   "execution_count": null,
   "id": "3a2c2199",
   "metadata": {},
   "outputs": [],
   "source": [
    "# Cellule de tests unitaires, exécutez-là et vérifiez que tous les tests sont ok.\n",
    "# Si un test échoue, retravaillez votre fonction, puis exécutez à nouveau la cellule\n",
    "# hébergeant la définition de votre fonction et cette cellule de tests\n",
    "\n",
    "import unittest\n",
    "\n",
    "\n",
    "class TestNotebook(unittest.TestCase):\n",
    "\n",
    "    def test_shape(self):\n",
    "        self.assertEqual(X.shape, (10, 10))\n",
    "\n",
    "    def test_values(self):\n",
    "        self.assertEqual(X.sum(), sum([n**2 for n in range(100)]))\n",
    "\n",
    "    def test_last_value(self):\n",
    "        self.assertEqual(X[-1, -1], 99**2)\n",
    "\n",
    "\n",
    "unittest.main(argv=[''], verbosity=2, exit=False);"
   ]
  },
  {
   "cell_type": "markdown",
   "id": "d90b474e",
   "metadata": {},
   "source": [
    "## Cosinus Hyperbolique"
   ]
  },
  {
   "cell_type": "markdown",
   "id": "25abb695",
   "metadata": {},
   "source": [
    "La fonction cosinus hyperbolique, notée $\\cosh$ ou $ch$ est la fonction complexe suivante :\n",
    "\n",
    "![](https://wikimedia.org/api/rest_v1/media/math/render/svg/79cc239fd15cce3caf208f520010d64ac77c3033)\n",
    "\n",
    "Nous allons nous intéresser uniquement à la fonction restreinte à $\\mathbb{R}$\n",
    "\n",
    "1. Créez un array `x` de 100 valeurs comprises entre $-3$ et $3$.\n",
    "1. Créez un array `y` contenant les valeurs de cosinus hyperboliques de `x`. Utilisez la fonction `np.exp()` pour les calculer.\n",
    "1. Créez un array `z`contenant les cosinus hyperboliques de `x`, cette fois calculés avec la fonction `np.cosh()`."
   ]
  },
  {
   "cell_type": "code",
   "execution_count": null,
   "id": "6577d855",
   "metadata": {},
   "outputs": [],
   "source": []
  },
  {
   "cell_type": "code",
   "execution_count": null,
   "id": "d41d4bf5",
   "metadata": {},
   "outputs": [],
   "source": []
  },
  {
   "cell_type": "code",
   "execution_count": null,
   "id": "2f9263da",
   "metadata": {},
   "outputs": [],
   "source": []
  },
  {
   "cell_type": "markdown",
   "id": "74159578",
   "metadata": {},
   "source": [
    "La cellule ci-dessous va grapher vos arrays `x` et `y`"
   ]
  },
  {
   "cell_type": "code",
   "execution_count": null,
   "id": "56520f2f",
   "metadata": {},
   "outputs": [],
   "source": [
    "import matplotlib.pyplot as plt\n",
    "\n",
    "fig, ax = plt.subplots()\n",
    "ax.axis('equal')\n",
    "\n",
    "ax.plot(x,y, label='cosh(x)', c = 'red')\n",
    "\n",
    "ax.legend();"
   ]
  },
  {
   "cell_type": "markdown",
   "id": "de7f5d46",
   "metadata": {},
   "source": [
    "Par définition, les valeurs dans `y` et dans `z` devraient être les mêmes, mais ce n’est pas le cas dans nos calculs.\n",
    "\n",
    "Créez un array booléen `d` contenant la comparaison entre les arrays `y` et `z` : `True` quand les valeurs dans `y` et `z` sont évaluées égales, et `False` sinon."
   ]
  },
  {
   "cell_type": "code",
   "execution_count": null,
   "id": "0c530690",
   "metadata": {},
   "outputs": [],
   "source": []
  },
  {
   "cell_type": "markdown",
   "id": "033cc399",
   "metadata": {},
   "source": [
    "Affichez `y` indexé par l’opposé de `d`, ie une vue de `y` là où Python a estimé que les valeurs dans `y` et `z` étaient différentes.\n",
    "\n",
    "NB : vous pouvez obtenir l’opposé de `d` (inversion de chaque booléen) avec `~d` (tilde d).\n",
    "\n",
    "Faites de même pour `z`."
   ]
  },
  {
   "cell_type": "markdown",
   "id": "2536c6b9",
   "metadata": {},
   "source": [
    "Créez un array `error` contenant la différence entre ces deux vues indexées de `y` et`z`. Affichez-le pour vous faire une idée des écarts."
   ]
  },
  {
   "cell_type": "code",
   "execution_count": null,
   "id": "206c6e31",
   "metadata": {},
   "outputs": [],
   "source": []
  },
  {
   "cell_type": "code",
   "execution_count": null,
   "id": "3db6342e",
   "metadata": {},
   "outputs": [],
   "source": [
    "# Cellule de tests unitaires, exécutez-là et vérifiez que tous les tests sont ok.\n",
    "# Si un test échoue, retravaillez votre fonction, puis exécutez à nouveau la cellule\n",
    "# hébergeant la définition de votre fonction et cette cellule de tests\n",
    "\n",
    "import unittest\n",
    "\n",
    "\n",
    "class TestNotebook(unittest.TestCase):\n",
    "\n",
    "    def test_x_shape(self):\n",
    "        self.assertEqual(x.shape, (100,))\n",
    "\n",
    "    def test_d_shape(self):\n",
    "        self.assertEqual(y.shape, d.shape)\n",
    "        \n",
    "    def test_error_size(self):\n",
    "        self.assertAlmostEqual(error.sum(), 0)\n",
    "\n",
    "\n",
    "unittest.main(argv=[''], verbosity=2, exit=False);"
   ]
  },
  {
   "cell_type": "code",
   "execution_count": null,
   "id": "02ad7f63",
   "metadata": {},
   "outputs": [],
   "source": []
  }
 ],
 "metadata": {
  "kernelspec": {
   "display_name": "Python 3 (ipykernel)",
   "language": "python",
   "name": "python3"
  },
  "language_info": {
   "codemirror_mode": {
    "name": "ipython",
    "version": 3
   },
   "file_extension": ".py",
   "mimetype": "text/x-python",
   "name": "python",
   "nbconvert_exporter": "python",
   "pygments_lexer": "ipython3",
   "version": "3.10.0rc1"
  },
  "toc": {
   "base_numbering": 1,
   "nav_menu": {},
   "number_sections": true,
   "sideBar": true,
   "skip_h1_title": true,
   "title_cell": "Table of Contents",
   "title_sidebar": "Contents",
   "toc_cell": false,
   "toc_position": {},
   "toc_section_display": true,
   "toc_window_display": false
  }
 },
 "nbformat": 4,
 "nbformat_minor": 5
}
