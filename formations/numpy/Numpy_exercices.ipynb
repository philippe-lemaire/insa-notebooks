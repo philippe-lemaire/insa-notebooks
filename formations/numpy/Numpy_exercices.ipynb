{
 "cells": [
  {
   "cell_type": "markdown",
   "id": "e5e091f6",
   "metadata": {},
   "source": [
    "# Exercices Numpy"
   ]
  },
  {
   "cell_type": "code",
   "execution_count": null,
   "id": "24b9fcdc",
   "metadata": {},
   "outputs": [],
   "source": [
    "import numpy as np"
   ]
  },
  {
   "cell_type": "markdown",
   "id": "0b4e4604",
   "metadata": {},
   "source": [
    "## Square of squares"
   ]
  },
  {
   "cell_type": "markdown",
   "id": "3cfcb78d",
   "metadata": {},
   "source": [
    "Créez un array 2D ayant 10 lignes et 10 colonnes, contenant les carrés des 100 premiers entiers naturels (incluant 0).\n",
    "Stockez le dans une variable appelée `X`."
   ]
  },
  {
   "cell_type": "code",
   "execution_count": null,
   "id": "6c5bc28f",
   "metadata": {},
   "outputs": [],
   "source": []
  },
  {
   "cell_type": "code",
   "execution_count": null,
   "id": "f093d90a",
   "metadata": {},
   "outputs": [],
   "source": []
  },
  {
   "cell_type": "code",
   "execution_count": null,
   "id": "3a2c2199",
   "metadata": {},
   "outputs": [],
   "source": [
    "# Cellule de tests unitaires, exécutez-là et vérifiez que tous les tests sont ok.\n",
    "# Si un test échoue, retravaillez votre fonction, puis exécutez à nouveau la cellule\n",
    "# hébergeant la définition de votre fonction et cette cellule de tests\n",
    "\n",
    "import unittest\n",
    "\n",
    "\n",
    "class TestNotebook(unittest.TestCase):\n",
    "\n",
    "    def test_shape(self):\n",
    "        self.assertEqual(X.shape, (10, 10))\n",
    "\n",
    "    def test_values(self):\n",
    "        self.assertEqual(X.sum(), sum([n**2 for n in range(100)]))\n",
    "\n",
    "    def test_last_value(self):\n",
    "        self.assertEqual(X[-1, -1], 99**2)\n",
    "\n",
    "\n",
    "unittest.main(argv=[''], verbosity=2, exit=False);"
   ]
  },
  {
   "cell_type": "markdown",
   "id": "3b3c9b31",
   "metadata": {},
   "source": [
    "## Zeros, Ones, Identity"
   ]
  },
  {
   "cell_type": "markdown",
   "id": "117c6953",
   "metadata": {},
   "source": [
    "Créez une matrice `I` de taille 5x5, remplie de `0` (`dtype = 'int32'`).\n",
    "\n",
    "Avec une boucle `for`, transformez-la en matrice identité."
   ]
  },
  {
   "cell_type": "code",
   "execution_count": null,
   "id": "c9adbd82",
   "metadata": {},
   "outputs": [],
   "source": []
  },
  {
   "cell_type": "code",
   "execution_count": null,
   "id": "586f75d3",
   "metadata": {},
   "outputs": [],
   "source": []
  },
  {
   "cell_type": "markdown",
   "id": "db18abcc",
   "metadata": {},
   "source": [
    "💡 Si vous lisez attentivement la cellule de tests de cet exercice, vous verrez un moyen plus direct de créer des matrices identité de la taille voulue 👌."
   ]
  },
  {
   "cell_type": "code",
   "execution_count": null,
   "id": "01b55ab3",
   "metadata": {},
   "outputs": [],
   "source": [
    "# Cellule de tests unitaires, exécutez-là et vérifiez que tous les tests sont ok.\n",
    "# Si un test échoue, retravaillez votre fonction, puis exécutez à nouveau la cellule\n",
    "# hébergeant la définition de votre fonction et cette cellule de tests\n",
    "\n",
    "import unittest\n",
    "\n",
    "\n",
    "class TestNotebook(unittest.TestCase):\n",
    "\n",
    "    def test_I_shape(self):\n",
    "        self.assertEqual(I.shape, (5, 5))\n",
    "\n",
    "    def test_I_content(self):\n",
    "        self.assertEqual((np.identity(5, dtype='int32') == I).sum(), 5**2)\n",
    "\n",
    "    \n",
    "\n",
    "unittest.main(argv=[''], verbosity=2, exit=False);"
   ]
  },
  {
   "cell_type": "markdown",
   "id": "1ecdbdf9",
   "metadata": {},
   "source": [
    "## Slice and dice"
   ]
  },
  {
   "cell_type": "markdown",
   "id": "5fba2dea",
   "metadata": {},
   "source": [
    "Créez un array 2D appelé `a`, de forme carrée de 8 par 8, avec les nombres de 1 à 64, dans l’ordre."
   ]
  },
  {
   "cell_type": "code",
   "execution_count": null,
   "id": "63d8ecde",
   "metadata": {},
   "outputs": [],
   "source": []
  },
  {
   "cell_type": "markdown",
   "id": "54cbdbf6",
   "metadata": {},
   "source": [
    "En utilisant le slicing, créez `sliced_a`, un array représentant le petit carré 2x2 au cœur de `a`. Il devrait contenir les valeurs 28, 29, 36 et 37."
   ]
  },
  {
   "cell_type": "code",
   "execution_count": null,
   "id": "4334ca5e",
   "metadata": {},
   "outputs": [],
   "source": []
  },
  {
   "cell_type": "markdown",
   "id": "c6c4b065",
   "metadata": {},
   "source": [
    "Toujours avec du slicing, \n",
    "\n",
    "1. calculez la somme de la 3ème colonne de `a` et stockez la valeur dans une variable appelée `somme_3eme_colonne`.\n",
    "1. calculez la somme de la 5ème ligne de `a` et stockez la valeur dans une variable appelée `somme_5eme_ligne`."
   ]
  },
  {
   "cell_type": "code",
   "execution_count": null,
   "id": "00d44cf6",
   "metadata": {},
   "outputs": [],
   "source": []
  },
  {
   "cell_type": "code",
   "execution_count": null,
   "id": "2a126f79",
   "metadata": {},
   "outputs": [],
   "source": []
  },
  {
   "cell_type": "code",
   "execution_count": null,
   "id": "8ea6bb47",
   "metadata": {},
   "outputs": [],
   "source": [
    "# Cellule de tests unitaires, exécutez-là et vérifiez que tous les tests sont ok.\n",
    "# Si un test échoue, retravaillez votre fonction, puis exécutez à nouveau la cellule\n",
    "# hébergeant la définition de votre fonction et cette cellule de tests\n",
    "\n",
    "import unittest\n",
    "\n",
    "\n",
    "class TestNotebook(unittest.TestCase):\n",
    "\n",
    "    def test_a_shape(self):\n",
    "        self.assertEqual(a.shape, (8,8))\n",
    "\n",
    "    def test_sliced_a_shape(self):\n",
    "        self.assertEqual(sliced_a.shape, (2,2))\n",
    "        \n",
    "    def test_sliced_a_values(self):\n",
    "        self.assertEqual(sliced_a.sum(), 28+29+36+37)\n",
    "    \n",
    "    def test_somme_3eme_colonne(self):\n",
    "        self.assertEqual(somme_3eme_colonne, 248)\n",
    "    \n",
    "    def test_somme_5eme_ligne(self):\n",
    "        self.assertEqual(somme_5eme_ligne, 292)\n",
    "            \n",
    "\n",
    "\n",
    "unittest.main(argv=[''], verbosity=2, exit=False);"
   ]
  },
  {
   "cell_type": "markdown",
   "id": "4d4d50b3",
   "metadata": {},
   "source": [
    "## Piles of Arrays"
   ]
  },
  {
   "cell_type": "markdown",
   "id": "aa88f764",
   "metadata": {},
   "source": [
    "À partir des matrices `X1` et `X2` définies ci-dessous, créez une matrice `X3` correspondant à une concaténation horizontale des deux matrices initiales.\n",
    "\n",
    "    [[1, 2, 3],    et  [[7, 8, 9],       doivent donner [[ 1, 2 , 3, 7, 8, 9],\n",
    "     [4, 5, 6]]         [10, 11, 12]]                    [ 4, 5, 6, 10, 11, 12]]"
   ]
  },
  {
   "cell_type": "code",
   "execution_count": null,
   "id": "4a42970d",
   "metadata": {},
   "outputs": [],
   "source": [
    "X1 = np.array([[1,2,3],\n",
    "               [4,5,6]])\n",
    "\n",
    "X2 = np.array([[7,8,9],\n",
    "               [10,11,12]])"
   ]
  },
  {
   "cell_type": "code",
   "execution_count": null,
   "id": "043e4c34",
   "metadata": {},
   "outputs": [],
   "source": []
  },
  {
   "cell_type": "markdown",
   "id": "0fcdaa7d",
   "metadata": {},
   "source": [
    "Toujours à partir des matrices `X1` et `X2` définies plus haut, créez une matrice `X4` correspondant à une concaténation verticale des deux matrices initiales.\n",
    "\n",
    "    [[1, 2, 3],  \n",
    "     [4, 5, 6]]\n",
    "     \n",
    "     et\n",
    "     \n",
    "     [[7, 8, 9],\n",
    "      [10, 11, 12]]\n",
    "      \n",
    "      doivent donner :\n",
    "      \n",
    "      [[1, 2, 3],\n",
    "       [4, 5, 6],\n",
    "       [7, 8, 9],\n",
    "       [10, 11, 12]]"
   ]
  },
  {
   "cell_type": "code",
   "execution_count": null,
   "id": "be42b2aa",
   "metadata": {},
   "outputs": [],
   "source": []
  },
  {
   "cell_type": "code",
   "execution_count": null,
   "id": "b20b7242",
   "metadata": {},
   "outputs": [],
   "source": [
    "# Cellule de tests unitaires, exécutez-là et vérifiez que tous les tests sont ok.\n",
    "# Si un test échoue, retravaillez votre fonction, puis exécutez à nouveau la cellule\n",
    "# hébergeant la définition de votre fonction et cette cellule de tests\n",
    "\n",
    "import unittest\n",
    "\n",
    "\n",
    "class TestNotebook(unittest.TestCase):\n",
    "\n",
    "    def test_X3_shape(self):\n",
    "        self.assertEqual(X3.shape, (2, 6))\n",
    "\n",
    "    def test_X3_total(self):\n",
    "        self.assertEqual(X3.sum(), 78)\n",
    "\n",
    "    def test_X3_last_value(self):\n",
    "        self.assertEqual(X3[-1,-1], 12)\n",
    "\n",
    "    def test_X3_first_value(self):\n",
    "        self.assertEqual(X3[0,0], 1)\n",
    "    \n",
    "    def test_X4_shape(self):\n",
    "        self.assertEqual(X4.shape, (4, 3))\n",
    "\n",
    "    def test_X4_total(self):\n",
    "        self.assertEqual(X4.sum(), 78)\n",
    "\n",
    "    def test_X4_first_col_sum(self):\n",
    "        self.assertEqual(X4[:,0].sum(), 22)\n",
    "\n",
    "    def test_X4_last_line_sum(self):\n",
    "        self.assertEqual(X4[-1,:].sum(), 33)\n",
    "    \n",
    "\n",
    "unittest.main(argv=[''], verbosity=2, exit=False);"
   ]
  },
  {
   "cell_type": "markdown",
   "id": "d90b474e",
   "metadata": {},
   "source": [
    "## Cosh me if you can"
   ]
  },
  {
   "cell_type": "markdown",
   "id": "25abb695",
   "metadata": {},
   "source": [
    "La fonction cosinus hyperbolique, notée $\\cosh$ ou $ch$ est la fonction complexe suivante :\n",
    "\n",
    "![](https://wikimedia.org/api/rest_v1/media/math/render/svg/79cc239fd15cce3caf208f520010d64ac77c3033)\n",
    "\n",
    "Nous allons nous intéresser uniquement à la fonction restreinte à $\\mathbb{R}$\n",
    "\n",
    "1. Créez un array `x` de 100 valeurs comprises entre $-3$ et $3$.\n",
    "1. Créez un array `y` contenant les valeurs de cosinus hyperboliques de `x`. Utilisez la fonction `np.exp()` pour les calculer.\n",
    "1. Créez un array `z`contenant les cosinus hyperboliques de `x`, cette fois calculés avec la fonction `np.cosh()`."
   ]
  },
  {
   "cell_type": "code",
   "execution_count": null,
   "id": "6577d855",
   "metadata": {},
   "outputs": [],
   "source": []
  },
  {
   "cell_type": "code",
   "execution_count": null,
   "id": "d41d4bf5",
   "metadata": {},
   "outputs": [],
   "source": []
  },
  {
   "cell_type": "code",
   "execution_count": null,
   "id": "2f9263da",
   "metadata": {},
   "outputs": [],
   "source": []
  },
  {
   "cell_type": "markdown",
   "id": "74159578",
   "metadata": {},
   "source": [
    "La cellule ci-dessous va grapher vos arrays `x` et `y`"
   ]
  },
  {
   "cell_type": "code",
   "execution_count": null,
   "id": "56520f2f",
   "metadata": {},
   "outputs": [],
   "source": [
    "import matplotlib.pyplot as plt\n",
    "\n",
    "fig, ax = plt.subplots()\n",
    "ax.axis('equal')\n",
    "\n",
    "ax.plot(x,y, label='cosh(x)', c = 'red')\n",
    "\n",
    "ax.legend();"
   ]
  },
  {
   "cell_type": "markdown",
   "id": "de7f5d46",
   "metadata": {},
   "source": [
    "Par définition, les valeurs dans `y` et dans `z` devraient être les mêmes, mais ce n’est pas le cas dans nos calculs.\n",
    "\n",
    "Créez un array booléen `d` contenant la comparaison entre les arrays `y` et `z` : `True` quand les valeurs dans `y` et `z` sont évaluées égales, et `False` sinon."
   ]
  },
  {
   "cell_type": "code",
   "execution_count": null,
   "id": "0c530690",
   "metadata": {},
   "outputs": [],
   "source": []
  },
  {
   "cell_type": "markdown",
   "id": "033cc399",
   "metadata": {},
   "source": [
    "Affichez `y` indexé par l’opposé de `d`, ie une vue de `y` là où Python a estimé que les valeurs dans `y` et `z` étaient différentes.\n",
    "\n",
    "NB : vous pouvez obtenir l’opposé de `d` (inversion de chaque booléen) avec `~d` (tilde d).\n",
    "\n",
    "Faites de même pour `z`."
   ]
  },
  {
   "cell_type": "markdown",
   "id": "2536c6b9",
   "metadata": {},
   "source": [
    "Créez un array `error` contenant la différence entre ces deux vues indexées de `y` et`z`. Affichez-le pour vous faire une idée des écarts."
   ]
  },
  {
   "cell_type": "code",
   "execution_count": null,
   "id": "206c6e31",
   "metadata": {},
   "outputs": [],
   "source": []
  },
  {
   "cell_type": "code",
   "execution_count": null,
   "id": "f3fab773",
   "metadata": {},
   "outputs": [],
   "source": []
  },
  {
   "cell_type": "code",
   "execution_count": null,
   "id": "68208a2f",
   "metadata": {},
   "outputs": [],
   "source": []
  },
  {
   "cell_type": "code",
   "execution_count": null,
   "id": "3db6342e",
   "metadata": {},
   "outputs": [],
   "source": [
    "# Cellule de tests unitaires, exécutez-là et vérifiez que tous les tests sont ok.\n",
    "# Si un test échoue, retravaillez votre fonction, puis exécutez à nouveau la cellule\n",
    "# hébergeant la définition de votre fonction et cette cellule de tests\n",
    "\n",
    "import unittest\n",
    "\n",
    "\n",
    "class TestNotebook(unittest.TestCase):\n",
    "\n",
    "    def test_x_shape(self):\n",
    "        self.assertEqual(x.shape, (100,))\n",
    "\n",
    "    def test_d_shape(self):\n",
    "        self.assertEqual(y.shape, d.shape)\n",
    "        \n",
    "    def test_error_size(self):\n",
    "        self.assertAlmostEqual(error.sum(), 0)\n",
    "\n",
    "\n",
    "unittest.main(argv=[''], verbosity=2, exit=False);"
   ]
  },
  {
   "cell_type": "markdown",
   "id": "60f82217",
   "metadata": {},
   "source": [
    "<div class='alert alert-success'>\n",
    "    \n",
    "Si tous les tests sont OK, vous avez fini, bravo !\n",
    "    \n",
    "Une dernière vérification pour être sûr·e : redémarrez le kernel et refaites exécuter toutes les cellules, et vérifiez que vos tests sont bons.\n",
    "    \n",
    "</div>"
   ]
  }
 ],
 "metadata": {
  "kernelspec": {
   "display_name": "Python 3 (ipykernel)",
   "language": "python",
   "name": "python3"
  },
  "language_info": {
   "codemirror_mode": {
    "name": "ipython",
    "version": 3
   },
   "file_extension": ".py",
   "mimetype": "text/x-python",
   "name": "python",
   "nbconvert_exporter": "python",
   "pygments_lexer": "ipython3",
   "version": "3.10.0rc1"
  },
  "toc": {
   "base_numbering": 1,
   "nav_menu": {},
   "number_sections": true,
   "sideBar": true,
   "skip_h1_title": true,
   "title_cell": "Table of Contents",
   "title_sidebar": "Contents",
   "toc_cell": false,
   "toc_position": {},
   "toc_section_display": true,
   "toc_window_display": false
  }
 },
 "nbformat": 4,
 "nbformat_minor": 5
}
