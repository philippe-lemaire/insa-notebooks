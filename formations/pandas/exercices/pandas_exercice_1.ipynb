{
 "cells": [
  {
   "cell_type": "markdown",
   "id": "119c3bf4",
   "metadata": {},
   "source": [
    "# Pandas Exercice 1 : charger des données et apprendre à les connaître"
   ]
  },
  {
   "cell_type": "markdown",
   "id": "4b77f3d1",
   "metadata": {},
   "source": [
    "Nous allons charger un jeu de donné accessible sur internet à cette adresse https://raw.githubusercontent.com/justmarkham/DAT8/master/data/chipotle.tsv\n",
    "\n",
    "Ne téléchargez pas le fichier, nous alons demander à Pandas de le lire directement via son `url`."
   ]
  },
  {
   "cell_type": "markdown",
   "id": "cd74939c",
   "metadata": {},
   "source": [
    "### Importer la bibliothèque Pandas en tant que `pd`"
   ]
  },
  {
   "cell_type": "code",
   "execution_count": null,
   "id": "34bd535a",
   "metadata": {},
   "outputs": [],
   "source": [
    "import pandas as pd"
   ]
  },
  {
   "cell_type": "markdown",
   "id": "057ca430",
   "metadata": {},
   "source": [
    "### Étape 2 : charger le jeu de données depuis son url `https://raw.githubusercontent.com/justmarkham/DAT8/master/data/chipotle.tsv`\n",
    "\n",
    "NB : c'est un fichier `tsv`, c'est à dire *tab separated values*. \n",
    "\n",
    "Les colonnes dans le fichier sont indiquées par le séparateur tabulation. Nous allons utiliser la fonction `pandas.read_csv(url, sep='\\t')`. \n",
    "\n",
    "L’argument `sep='\\t'` sert à indiquer à pandas où commence chaque colonne."
   ]
  },
  {
   "cell_type": "code",
   "execution_count": null,
   "id": "8a26746b",
   "metadata": {},
   "outputs": [],
   "source": [
    "url = \"https://raw.githubusercontent.com/justmarkham/DAT8/master/data/chipotle.tsv\"\n"
   ]
  },
  {
   "cell_type": "markdown",
   "id": "55fa8f7a",
   "metadata": {},
   "source": [
    "### Assignez cette DataFrame à une variable appelée `chipo`"
   ]
  },
  {
   "cell_type": "code",
   "execution_count": null,
   "id": "ce095074",
   "metadata": {},
   "outputs": [],
   "source": []
  },
  {
   "cell_type": "markdown",
   "id": "1f97dfcf",
   "metadata": {},
   "source": [
    "### Affichez les 10 premières lignes"
   ]
  },
  {
   "cell_type": "code",
   "execution_count": null,
   "id": "9087d3a1",
   "metadata": {},
   "outputs": [],
   "source": []
  },
  {
   "cell_type": "markdown",
   "id": "aa069433",
   "metadata": {},
   "source": [
    "### Quel est le nombre d'observation dans ce jeu de données ?"
   ]
  },
  {
   "cell_type": "code",
   "execution_count": null,
   "id": "b95b043d",
   "metadata": {},
   "outputs": [],
   "source": []
  },
  {
   "cell_type": "markdown",
   "id": "1d09d2be",
   "metadata": {},
   "source": [
    "### Combien y-a-t'il de colonnes dans ce jeu de données ?"
   ]
  },
  {
   "cell_type": "code",
   "execution_count": null,
   "id": "0d8b675c",
   "metadata": {},
   "outputs": [],
   "source": []
  },
  {
   "cell_type": "markdown",
   "id": "a45753c0",
   "metadata": {},
   "source": [
    "### Quelles sont les colonnes ?"
   ]
  },
  {
   "cell_type": "code",
   "execution_count": null,
   "id": "522a04e4",
   "metadata": {},
   "outputs": [],
   "source": []
  },
  {
   "cell_type": "markdown",
   "id": "69a967c4",
   "metadata": {},
   "source": [
    "### Quel est l'index de cette DataFrame ?"
   ]
  },
  {
   "cell_type": "code",
   "execution_count": null,
   "id": "ab8d40ac",
   "metadata": {},
   "outputs": [],
   "source": []
  },
  {
   "cell_type": "markdown",
   "id": "4b1339e2",
   "metadata": {},
   "source": [
    "### Quel est l’item commandé le plus souvent ?"
   ]
  },
  {
   "cell_type": "code",
   "execution_count": null,
   "id": "4b755d1f",
   "metadata": {},
   "outputs": [],
   "source": []
  },
  {
   "cell_type": "markdown",
   "id": "3360839e",
   "metadata": {},
   "source": [
    "Essayez d'extraire ce nombre exact en dehors de la DataFrame en sélectionnant la colonne \"quantity\"."
   ]
  },
  {
   "cell_type": "code",
   "execution_count": null,
   "id": "9742ab61",
   "metadata": {},
   "outputs": [],
   "source": []
  },
  {
   "cell_type": "markdown",
   "id": "ede62842",
   "metadata": {},
   "source": [
    "### Quel a été l’objet le plus souvent commandé dans la colonne \"choice_description\" ?"
   ]
  },
  {
   "cell_type": "code",
   "execution_count": null,
   "id": "33c50a7d",
   "metadata": {},
   "outputs": [],
   "source": []
  },
  {
   "cell_type": "markdown",
   "id": "f6f5a4dc",
   "metadata": {},
   "source": [
    "### Combien d'items ont été commandé en tout ?"
   ]
  },
  {
   "cell_type": "code",
   "execution_count": null,
   "id": "436b0493",
   "metadata": {},
   "outputs": [],
   "source": []
  },
  {
   "cell_type": "markdown",
   "id": "b9ba0768",
   "metadata": {},
   "source": [
    "### La colonne \"item_price\" contient des strings à cause du symbole dollar. Essayons de transformer ça en `float`\n",
    "\n",
    "Nous avons besoin d'une fonction qui pour un prix exprimé sous la forme `\"$1.99\"` nous renvoie un nombre float `1.99`.\n",
    "\n",
    "Puis nous allons utiliser la méthode `.apply` sur la colonne des prix pour appliquer cette fonction à tous les éléments de la colonne.\n",
    "\n",
    "Pour pouvez écrire la petite fonction avant, ou l'écrire directement dans l’argument de la méthode .apply avec une lambda.\n",
    "\n",
    "Une fois qu'on a une méthode `apply(function)` qui nous renvoie une Series correcte, on s'en sert pour écraser la colonne `\"item_price\"`."
   ]
  },
  {
   "cell_type": "code",
   "execution_count": null,
   "id": "ecc3903b",
   "metadata": {},
   "outputs": [],
   "source": []
  },
  {
   "cell_type": "markdown",
   "id": "2786adc2",
   "metadata": {},
   "source": [
    "### Quel chiffre d'affaire a été fait dans ce jeu de données ?"
   ]
  },
  {
   "cell_type": "code",
   "execution_count": null,
   "id": "64a60f87",
   "metadata": {},
   "outputs": [],
   "source": []
  },
  {
   "cell_type": "markdown",
   "id": "8721f5e0",
   "metadata": {},
   "source": [
    "### Combien de commandes ont été passées ? Autrement dit combien y-a-t'il de valeurs uniques dans la colonne `order_id` ?"
   ]
  },
  {
   "cell_type": "code",
   "execution_count": null,
   "id": "e759b163",
   "metadata": {},
   "outputs": [],
   "source": []
  },
  {
   "cell_type": "markdown",
   "id": "5c84bad5",
   "metadata": {},
   "source": [
    "### Quelle est le chiffre d'affaires moyen par commande ?"
   ]
  },
  {
   "cell_type": "code",
   "execution_count": null,
   "id": "a4a4e12d",
   "metadata": {},
   "outputs": [],
   "source": []
  },
  {
   "cell_type": "code",
   "execution_count": null,
   "id": "5c6eb0f2",
   "metadata": {},
   "outputs": [],
   "source": []
  },
  {
   "cell_type": "markdown",
   "id": "35f734a4",
   "metadata": {},
   "source": [
    "### Combien d'items différents sont proposés ?"
   ]
  },
  {
   "cell_type": "code",
   "execution_count": null,
   "id": "d4796277",
   "metadata": {},
   "outputs": [],
   "source": []
  },
  {
   "cell_type": "code",
   "execution_count": null,
   "id": "3da885ba-4b02-497d-b284-60630511b6e3",
   "metadata": {},
   "outputs": [],
   "source": []
  },
  {
   "cell_type": "code",
   "execution_count": null,
   "id": "5d36297f-300f-43f1-9175-450aa321b192",
   "metadata": {},
   "outputs": [],
   "source": []
  },
  {
   "cell_type": "markdown",
   "id": "2087f109-8913-48aa-a34d-011c3ddcc636",
   "metadata": {},
   "source": [
    "## Visualisation de données\n",
    "### Données : chargez le tsv à cette url dans une DataFrame appelée `chipo`"
   ]
  },
  {
   "cell_type": "code",
   "execution_count": null,
   "id": "c6894a02-77d1-43b5-a724-a4eec3197d35",
   "metadata": {},
   "outputs": [],
   "source": [
    "url = 'https://raw.githubusercontent.com/justmarkham/DAT8/master/data/chipotle.tsv'\n"
   ]
  },
  {
   "cell_type": "markdown",
   "id": "72f0dc00-e303-4777-8699-1144c56a6aaa",
   "metadata": {},
   "source": [
    "### Affichez les 5 premières lignes"
   ]
  },
  {
   "cell_type": "code",
   "execution_count": null,
   "id": "96d18383-8f20-45e9-9e54-7b89d6fd0092",
   "metadata": {},
   "outputs": [],
   "source": []
  },
  {
   "cell_type": "markdown",
   "id": "7a71dd57-4398-4d94-ac57-c7a50d458fed",
   "metadata": {},
   "source": [
    "### Créez un histogramme des 5 objets les plus commandés"
   ]
  },
  {
   "cell_type": "code",
   "execution_count": null,
   "id": "0f805941-8cc8-4fb4-831a-399be64d0298",
   "metadata": {},
   "outputs": [],
   "source": []
  },
  {
   "cell_type": "code",
   "execution_count": null,
   "id": "f0a9c451-4c3c-4cff-8f20-8881b870cf7d",
   "metadata": {},
   "outputs": [],
   "source": [
    "\n"
   ]
  },
  {
   "cell_type": "markdown",
   "id": "fc7ebb34-85d9-4594-b578-b99484e582cd",
   "metadata": {},
   "source": [
    "### Créez un nuage de points représentant les commandes, avec en x le nombre d'items dans la commande, et en y le chiffre d'affaires total de la commande"
   ]
  },
  {
   "cell_type": "code",
   "execution_count": null,
   "id": "e9fadb68-51f2-4fc4-a39e-cd874d62e216",
   "metadata": {},
   "outputs": [],
   "source": [
    "\n"
   ]
  },
  {
   "cell_type": "code",
   "execution_count": null,
   "id": "3a96a8ae-3548-466f-b9f9-18f6ef7819c8",
   "metadata": {},
   "outputs": [],
   "source": []
  },
  {
   "cell_type": "code",
   "execution_count": null,
   "id": "2de7d252-d797-4ccd-8ddb-a93c05c1ca28",
   "metadata": {},
   "outputs": [],
   "source": []
  },
  {
   "cell_type": "code",
   "execution_count": null,
   "id": "e8bc64de-05bf-48dc-9717-6d8afdfebdbe",
   "metadata": {},
   "outputs": [],
   "source": []
  },
  {
   "cell_type": "markdown",
   "id": "b26025ba-1496-491b-a851-e3579eef806f",
   "metadata": {},
   "source": [
    "<div class='alert alert-success'>\n",
    "\n",
    "\n",
    "Félicitations ! Vous pouvez passer [à l'exercice suivant](pandas_exercice_2.ipynb)\n",
    "    \n",
    "<div>"
   ]
  }
 ],
 "metadata": {
  "kernelspec": {
   "display_name": "Python 3 (ipykernel)",
   "language": "python",
   "name": "python3"
  },
  "language_info": {
   "codemirror_mode": {
    "name": "ipython",
    "version": 3
   },
   "file_extension": ".py",
   "mimetype": "text/x-python",
   "name": "python",
   "nbconvert_exporter": "python",
   "pygments_lexer": "ipython3",
   "version": "3.10.0rc1"
  },
  "toc": {
   "base_numbering": 1,
   "nav_menu": {},
   "number_sections": true,
   "sideBar": true,
   "skip_h1_title": true,
   "title_cell": "Table des Matières",
   "title_sidebar": "Contents",
   "toc_cell": true,
   "toc_position": {
    "height": "calc(100% - 180px)",
    "left": "10px",
    "top": "150px",
    "width": "172.8px"
   },
   "toc_section_display": true,
   "toc_window_display": false
  }
 },
 "nbformat": 4,
 "nbformat_minor": 5
}
