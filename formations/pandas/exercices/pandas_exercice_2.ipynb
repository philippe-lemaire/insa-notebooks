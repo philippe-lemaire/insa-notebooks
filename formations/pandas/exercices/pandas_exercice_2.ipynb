{
 "cells": [
  {
   "cell_type": "markdown",
   "id": "adc280a6-31f6-41fc-a8f6-8b06b07485db",
   "metadata": {},
   "source": [
    "# Pandas Exercice 2 : Classer et filtrer les données "
   ]
  },
  {
   "cell_type": "code",
   "execution_count": null,
   "id": "ec8f5635-c6b5-4ea1-aceb-a3d5aa87ff6c",
   "metadata": {},
   "outputs": [],
   "source": [
    "import pandas as pd\n",
    "import os"
   ]
  },
  {
   "cell_type": "markdown",
   "id": "5c7f0320-feac-49d5-bb14-f7a077d1f520",
   "metadata": {},
   "source": [
    "## Classer et filtrer la donnée\n",
    "Cette fois nous allons lire nos données directement de puis un fichier csv situé dans le même dossier.\n",
    "\n",
    "Mais nous devons d'abord le télécharger."
   ]
  },
  {
   "cell_type": "code",
   "execution_count": null,
   "id": "d23ae4a6-6819-41fe-9d41-d76b8cbe5a5f",
   "metadata": {},
   "outputs": [],
   "source": [
    "os.makedirs('data', exist_ok=True)\n",
    "!curl https://raw.githubusercontent.com/guipsamora/pandas_exercises/master/02_Filtering_%26_Sorting/Euro12/Euro_2012_stats_TEAM.csv > data/euro.csv"
   ]
  },
  {
   "cell_type": "markdown",
   "id": "4001a8c8-a31f-4c8d-82d8-b3c2581712f3",
   "metadata": {},
   "source": [
    "### Chargez le fichier `euro.csv` que nous venons de télécharger dans le sous-dossier `data/` dans une DataFrame appelée `euro12`"
   ]
  },
  {
   "cell_type": "code",
   "execution_count": null,
   "id": "651a7e8b-152e-488f-9aeb-aff43333b78e",
   "metadata": {},
   "outputs": [],
   "source": []
  },
  {
   "cell_type": "markdown",
   "id": "5432724a-faf1-4741-82d8-8c267c0ee28a",
   "metadata": {},
   "source": [
    "### Sélectionnez la colonne 'Goals'"
   ]
  },
  {
   "cell_type": "code",
   "execution_count": null,
   "id": "7f1efad0-0f02-41c2-b4b6-72b09a6b1759",
   "metadata": {},
   "outputs": [],
   "source": []
  },
  {
   "cell_type": "markdown",
   "id": "84d25a37-8ff3-4fe2-99c0-d9bd33cb254d",
   "metadata": {},
   "source": [
    "### Combien y a-t'il d’équipes ?"
   ]
  },
  {
   "cell_type": "code",
   "execution_count": null,
   "id": "f1f52ffa-86e8-4e9d-8f71-7aa794fe6deb",
   "metadata": {},
   "outputs": [],
   "source": []
  },
  {
   "cell_type": "markdown",
   "id": "0e80c576-7c0a-4f9d-ad10-5e4b26c0ec64",
   "metadata": {},
   "source": [
    "### Combien de colonnes ?"
   ]
  },
  {
   "cell_type": "code",
   "execution_count": null,
   "id": "82578107-ddca-44da-9ded-fe2b2089026b",
   "metadata": {},
   "outputs": [],
   "source": []
  },
  {
   "cell_type": "markdown",
   "id": "8fda6737-a195-4e43-8f8c-5fda27263115",
   "metadata": {},
   "source": [
    "### Créer une  DataFrame  `discipline`  contenant les colonnes  `['Team', 'Yellow Cards', 'Red Cards']`"
   ]
  },
  {
   "cell_type": "code",
   "execution_count": null,
   "id": "aaf73031-65ed-482c-a6f0-9f116bb00cd7",
   "metadata": {},
   "outputs": [],
   "source": []
  },
  {
   "cell_type": "markdown",
   "id": "200f14ff-a5a9-4b4f-90c7-c6256ac53d58",
   "metadata": {},
   "source": [
    "### Dans `discipline`, classez les équipes par cartons rouges, puis par cartons jaunes, en décroissant."
   ]
  },
  {
   "cell_type": "code",
   "execution_count": null,
   "id": "4d98884d-de8b-44bb-9768-77a1b1300ad4",
   "metadata": {},
   "outputs": [],
   "source": []
  },
  {
   "cell_type": "code",
   "execution_count": null,
   "id": "36b4998f-2e72-4271-9360-9a70b7585da5",
   "metadata": {},
   "outputs": [],
   "source": []
  },
  {
   "cell_type": "markdown",
   "id": "2de79f97-caea-4646-b62f-cf0bd4180a7a",
   "metadata": {},
   "source": [
    "### Calculez le nombre moyen de Cartons jaunes reçus par équipe"
   ]
  },
  {
   "cell_type": "code",
   "execution_count": null,
   "id": "56abe59b-7cf8-4ff1-aad1-820aab7fdfdd",
   "metadata": {},
   "outputs": [],
   "source": []
  },
  {
   "cell_type": "markdown",
   "id": "4cdd896b-e0f0-4ea9-86f2-1442402fe0a1",
   "metadata": {},
   "source": [
    "### Filtrez la DataFrame `euro12` sur les équipes ayant marqué plus de 6 buts"
   ]
  },
  {
   "cell_type": "code",
   "execution_count": null,
   "id": "b0eab6d3-2734-4f2c-b617-b90ac4606fe5",
   "metadata": {},
   "outputs": [],
   "source": []
  },
  {
   "cell_type": "markdown",
   "id": "8eee1a8c-0fb9-4122-a4f2-051b44a1d075",
   "metadata": {},
   "source": [
    "### Filtrez `euro12` sur les équipes qui commencent par `\"G\"`"
   ]
  },
  {
   "cell_type": "code",
   "execution_count": null,
   "id": "1786683e-0d18-410e-9e78-1c149604b722",
   "metadata": {},
   "outputs": [],
   "source": []
  },
  {
   "cell_type": "markdown",
   "id": "5bbbac71-e964-476e-8388-7a786eb62424",
   "metadata": {},
   "source": [
    "### Sélectionnez dans `euro12` les 7 premières colonnes"
   ]
  },
  {
   "cell_type": "code",
   "execution_count": null,
   "id": "817d2c9c-8055-4dd6-98f1-a3df0d660339",
   "metadata": {},
   "outputs": [],
   "source": []
  },
  {
   "cell_type": "markdown",
   "id": "f4b54d3c-708f-44d6-86bb-04bbe67ad010",
   "metadata": {},
   "source": [
    "### Sélectionnez maintentant toutes les colonnes exceptées les 3 dernières"
   ]
  },
  {
   "cell_type": "code",
   "execution_count": null,
   "id": "b5a71312-a8ee-4fe4-b430-16bd812854ec",
   "metadata": {},
   "outputs": [],
   "source": []
  },
  {
   "cell_type": "markdown",
   "id": "e8fc830c-45d9-4850-b321-01960a6d543f",
   "metadata": {},
   "source": [
    "### Montrez  `[\"Team\", \"Shooting Accuracy\"]`  pour les équipes `['England', 'Italy', 'Russia']`."
   ]
  },
  {
   "cell_type": "code",
   "execution_count": null,
   "id": "0b347e4a-b7d2-4353-a2c3-09cae21d4fd4",
   "metadata": {},
   "outputs": [],
   "source": []
  },
  {
   "cell_type": "markdown",
   "id": "29934117-4bbd-4fc8-b56a-38956982f476",
   "metadata": {},
   "source": [
    "## Calculer des statistiques sur des groupements"
   ]
  },
  {
   "cell_type": "markdown",
   "id": "3369ed23-71d9-4278-8b54-5044f72be43c",
   "metadata": {},
   "source": [
    "Le jeu de données est disponible à cette adresse :"
   ]
  },
  {
   "cell_type": "code",
   "execution_count": null,
   "id": "a27e07c5-d424-4047-a6df-559093b80527",
   "metadata": {},
   "outputs": [],
   "source": [
    "url = 'https://raw.githubusercontent.com/justmarkham/DAT8/master/data/drinks.csv'"
   ]
  },
  {
   "cell_type": "markdown",
   "id": "4c2e4d1e-b70c-46ec-b9fe-be92d8b98f72",
   "metadata": {
    "tags": []
   },
   "source": [
    "### Créez une DataFrame `drinks` à partir de cette url et affichez les 5 premières lignes"
   ]
  },
  {
   "cell_type": "code",
   "execution_count": null,
   "id": "19b8dc45-702b-4655-9302-25efff79f21f",
   "metadata": {},
   "outputs": [],
   "source": []
  },
  {
   "cell_type": "code",
   "execution_count": null,
   "id": "2525f41a-8d8c-426e-bfd6-9877ddf3cf8f",
   "metadata": {},
   "outputs": [],
   "source": []
  },
  {
   "cell_type": "markdown",
   "id": "4c1793c4-bfdd-4d73-ac95-440c275336f0",
   "metadata": {
    "tags": []
   },
   "source": [
    "### Sur quel continent boit-on le plus de bière en moyenne ?"
   ]
  },
  {
   "cell_type": "code",
   "execution_count": null,
   "id": "b0dd4fd9-155d-443a-863a-b7450e8dfdf6",
   "metadata": {},
   "outputs": [],
   "source": []
  },
  {
   "cell_type": "markdown",
   "id": "ec018ff0-7e27-404a-be8f-8659773d7729",
   "metadata": {
    "tags": []
   },
   "source": [
    "### Pour chaque continent affichez les statistiques de la consommation de vin (moyenne, écart-type, min, quartiles et max, en une seule ligne de code)."
   ]
  },
  {
   "cell_type": "code",
   "execution_count": null,
   "id": "0beeb3eb-acb1-4472-8a9a-ddf013cbb839",
   "metadata": {},
   "outputs": [],
   "source": []
  },
  {
   "cell_type": "markdown",
   "id": "8b9019d0-75d1-4da9-9c03-d10c02e530f6",
   "metadata": {
    "tags": []
   },
   "source": [
    "### Affichez la consommation moyenne d'alcool par continent pour chaque colonne"
   ]
  },
  {
   "cell_type": "code",
   "execution_count": null,
   "id": "f83c0465-db31-4681-9869-173706a6ab7e",
   "metadata": {},
   "outputs": [],
   "source": []
  },
  {
   "cell_type": "markdown",
   "id": "101dc777-fce8-465f-8dfb-b754e0619359",
   "metadata": {
    "tags": []
   },
   "source": [
    "### Affichez la consommation médiane d'alcool par continent pour chaque colonne"
   ]
  },
  {
   "cell_type": "code",
   "execution_count": null,
   "id": "e9c784f3-83b3-4b0e-b18a-291ac286d589",
   "metadata": {},
   "outputs": [],
   "source": []
  },
  {
   "cell_type": "markdown",
   "id": "f819cb42-8b95-47b7-b9d3-0a9fdcf08353",
   "metadata": {
    "tags": []
   },
   "source": [
    "### Affichez une DataFrame montrant les valeurs moyenne, minimale, et maximale de consommation de spiritueux, pour chaque continent, et uniquement ces statistiques"
   ]
  },
  {
   "cell_type": "code",
   "execution_count": null,
   "id": "af0d6790-62f5-4dbf-be8c-53e2db024070",
   "metadata": {},
   "outputs": [],
   "source": []
  },
  {
   "cell_type": "code",
   "execution_count": null,
   "id": "fc6875ef-a6c4-41e5-845f-cecfa0ddb2d5",
   "metadata": {},
   "outputs": [],
   "source": [
    "# nettoyage : suppression du dossier data/ et de son contenu\n",
    "import shutil\n",
    "shutil.rmtree('data')"
   ]
  },
  {
   "cell_type": "markdown",
   "id": "878925ab-ab40-4530-85a7-8b96f963b867",
   "metadata": {},
   "source": [
    "<div class='alert alert-success'>\n",
    "\n",
    "Félicitations ! Vous pouvez passer [à l'exercice suivant](pandas_exercice_3.ipynb)\n",
    "\n",
    "<div>"
   ]
  }
 ],
 "metadata": {
  "kernelspec": {
   "display_name": "Python 3 (ipykernel)",
   "language": "python",
   "name": "python3"
  },
  "language_info": {
   "codemirror_mode": {
    "name": "ipython",
    "version": 3
   },
   "file_extension": ".py",
   "mimetype": "text/x-python",
   "name": "python",
   "nbconvert_exporter": "python",
   "pygments_lexer": "ipython3",
   "version": "3.10.4"
  }
 },
 "nbformat": 4,
 "nbformat_minor": 5
}
