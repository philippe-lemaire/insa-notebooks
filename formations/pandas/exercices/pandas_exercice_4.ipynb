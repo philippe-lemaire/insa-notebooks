{
 "cells": [
  {
   "cell_type": "markdown",
   "id": "33f65112-1823-4710-9746-0190decd9937",
   "metadata": {},
   "source": [
    "# Pandas Exercice 4 : Séries Temporelles"
   ]
  },
  {
   "cell_type": "markdown",
   "id": "db145173-2ecd-47a1-9b5a-5c8855e264ee",
   "metadata": {},
   "source": [
    "## Introduction\n",
    "\n",
    "Dans cet exercice nous allons nous intéresser à une série temporelle, avec la valeur de l'action **Apple**\n",
    "\n",
    "\n",
    "## 1. Importez la bibliothèque pandas avec son alias conventionnel"
   ]
  },
  {
   "cell_type": "code",
   "execution_count": null,
   "id": "2ef89606-dd14-4ca7-a87a-0d0750442767",
   "metadata": {
    "collapsed": false,
    "jupyter": {
     "outputs_hidden": false
    }
   },
   "outputs": [],
   "source": [
    "import pandas as pd"
   ]
  },
  {
   "cell_type": "markdown",
   "id": "f96d3925-8aad-4cab-a0a9-bd64626c8866",
   "metadata": {},
   "source": [
    "## 2. Importez le jeu de données depuis l’[url](https://raw.githubusercontent.com/guipsamora/pandas_exercises/master/09_Time_Series/Apple_Stock/appl_1980_2014.csv) ci-dessous, dans une DataFrame appelée `apple`"
   ]
  },
  {
   "cell_type": "code",
   "execution_count": null,
   "id": "7f97f3ff-60de-4a7b-b363-b012e90882fe",
   "metadata": {
    "tags": []
   },
   "outputs": [],
   "source": [
    "url = \"https://raw.githubusercontent.com/guipsamora/pandas_exercises/master/09_Time_Series/Apple_Stock/appl_1980_2014.csv\"\n",
    "\n"
   ]
  },
  {
   "cell_type": "code",
   "execution_count": null,
   "id": "6c5a9f0d-062c-440b-95ef-ee32caa17cd5",
   "metadata": {},
   "outputs": [],
   "source": []
  },
  {
   "cell_type": "code",
   "execution_count": null,
   "id": "bcebc82b-83d9-423c-9410-073284ddf4a9",
   "metadata": {
    "tags": []
   },
   "outputs": [],
   "source": []
  },
  {
   "cell_type": "markdown",
   "id": "60169b0a-364a-4cd4-95ae-dd06fd612efc",
   "metadata": {},
   "source": [
    "## 3. Vérifiez le type des données dans les colonnes avec `.info()`"
   ]
  },
  {
   "cell_type": "code",
   "execution_count": null,
   "id": "b22ce36c-87c2-4da6-bd71-a71efd344a15",
   "metadata": {
    "collapsed": false,
    "jupyter": {
     "outputs_hidden": false
    }
   },
   "outputs": [],
   "source": []
  },
  {
   "cell_type": "markdown",
   "id": "4d0113cd-530d-4df8-81db-6389e78d8d9d",
   "metadata": {},
   "source": [
    "## 4. La colonne `\"Date\"` n'est peut-être pas du type `datetime`. Corrigez cela."
   ]
  },
  {
   "cell_type": "code",
   "execution_count": null,
   "id": "5edf7b3e-05b5-4ee8-9a65-33173a60a28a",
   "metadata": {
    "collapsed": false,
    "jupyter": {
     "outputs_hidden": false
    }
   },
   "outputs": [],
   "source": []
  },
  {
   "cell_type": "code",
   "execution_count": null,
   "id": "488e1601-a00f-483a-9377-479a2d8a6058",
   "metadata": {},
   "outputs": [],
   "source": []
  },
  {
   "cell_type": "markdown",
   "id": "e6047b7c-c172-441a-a52f-5bdc20516e71",
   "metadata": {},
   "source": [
    "## 5. Utilisez la colonne `\"Date\"` comme index"
   ]
  },
  {
   "cell_type": "code",
   "execution_count": null,
   "id": "f7d8fdbb-917c-48dd-a44d-2f1f6977a502",
   "metadata": {},
   "outputs": [],
   "source": []
  },
  {
   "cell_type": "markdown",
   "id": "24fc5850-73ca-4710-9700-b51bc3593a72",
   "metadata": {},
   "source": [
    "## 6. Y-a-t'il des lignes dupliquées ?"
   ]
  },
  {
   "cell_type": "code",
   "execution_count": null,
   "id": "78f07d02-26ce-4404-99f4-430dfe548445",
   "metadata": {
    "collapsed": false,
    "jupyter": {
     "outputs_hidden": false
    }
   },
   "outputs": [],
   "source": []
  },
  {
   "cell_type": "code",
   "execution_count": null,
   "id": "2518f0c5-c649-420d-95c7-25dd61e0b238",
   "metadata": {},
   "outputs": [],
   "source": []
  },
  {
   "cell_type": "markdown",
   "id": "9d82949d-e19e-4c32-b44b-22389400ee96",
   "metadata": {},
   "source": [
    "## 7. Mince, l'index donne les dates les plus récentes en premier. Réordonnez-le pour avoir les dates les plus récentes à la fin."
   ]
  },
  {
   "cell_type": "code",
   "execution_count": null,
   "id": "c8391c87-f155-463a-9fc2-b45357b25a31",
   "metadata": {
    "collapsed": false,
    "jupyter": {
     "outputs_hidden": false
    }
   },
   "outputs": [],
   "source": []
  },
  {
   "cell_type": "markdown",
   "id": "db553298-ead8-4c87-a377-f3eb22cc7cfe",
   "metadata": {},
   "source": [
    "## 8. Affichez la DataFrame ré-échantillonnée mensuellement. Utilisez la moyenne pour aggréger les jours en mois."
   ]
  },
  {
   "cell_type": "code",
   "execution_count": null,
   "id": "ba22200e-7b9c-47ad-a89e-2c909845bd9b",
   "metadata": {},
   "outputs": [],
   "source": []
  },
  {
   "cell_type": "markdown",
   "id": "d723c79c-b838-4c30-aac5-7f0a82018768",
   "metadata": {},
   "source": [
    "## 9.  Quel est l’amplitude de cette série temporelle en jours ?"
   ]
  },
  {
   "cell_type": "code",
   "execution_count": null,
   "id": "12672d96-257e-45ef-a775-782c9c4abae3",
   "metadata": {
    "collapsed": false,
    "jupyter": {
     "outputs_hidden": false
    }
   },
   "outputs": [],
   "source": []
  },
  {
   "cell_type": "markdown",
   "id": "0e653e2d-4b9a-4be8-ba1a-82ff683cc261",
   "metadata": {},
   "source": [
    "### 10. Combien y-a-t'il de mois dans cette série ?"
   ]
  },
  {
   "cell_type": "code",
   "execution_count": null,
   "id": "72ee3ea7-fbe6-45ab-8569-993e549915cb",
   "metadata": {
    "collapsed": false,
    "jupyter": {
     "outputs_hidden": false
    }
   },
   "outputs": [],
   "source": []
  },
  {
   "cell_type": "markdown",
   "id": "ab2fe10f-c584-485c-a38f-69cd3cb3c425",
   "metadata": {},
   "source": [
    "### 11. Tracez la colonne `'Adj Close'`. Réglez la taille du graphe sur 13.5 x 9 pouces. \n",
    "### Faites le même graphe avec et sans le rééchantillonage mensuel"
   ]
  },
  {
   "cell_type": "code",
   "execution_count": null,
   "id": "1235280a-97a4-4a2b-99a2-d3eb413651f0",
   "metadata": {
    "collapsed": false,
    "jupyter": {
     "outputs_hidden": false
    }
   },
   "outputs": [],
   "source": []
  },
  {
   "cell_type": "code",
   "execution_count": null,
   "id": "4d16e078-336f-4ff3-9e90-916a4d7688dc",
   "metadata": {},
   "outputs": [],
   "source": []
  },
  {
   "cell_type": "markdown",
   "id": "fce2a0e7-7a7a-4462-8fa9-9f8b23d25435",
   "metadata": {},
   "source": [
    "## BONUS: Créez votre propre question et répondez-y avec pandas"
   ]
  },
  {
   "cell_type": "code",
   "execution_count": null,
   "id": "3b5dbe30-7adb-4b32-94f3-20ebc31472e5",
   "metadata": {},
   "outputs": [],
   "source": []
  },
  {
   "cell_type": "code",
   "execution_count": null,
   "id": "e07d5733-821e-4e2b-a978-903707271969",
   "metadata": {},
   "outputs": [],
   "source": []
  },
  {
   "cell_type": "markdown",
   "id": "6f8aac4d-a703-43b2-8311-645edebdd32e",
   "metadata": {
    "jupyter": {
     "outputs_hidden": false
    }
   },
   "source": [
    "<div class='alert alert-success'>\n",
    "\n",
    "Félicitations ! C'est tout pour cette fois, mais si vous en voulez davantage, vous pouvez télécharger une grande série d'exercices (avec corrigés, mais en anglais) au bout de ce lien :  \n",
    "    [https://github.com/guipsamora/pandas_exercises/archive/refs/heads/master.zip](https://github.com/guipsamora/pandas_exercises/archive/refs/heads/master.zip)\n",
    "\n",
    "</div>"
   ]
  }
 ],
 "metadata": {
  "kernelspec": {
   "display_name": "Python 3 (ipykernel)",
   "language": "python",
   "name": "python3"
  },
  "language_info": {
   "codemirror_mode": {
    "name": "ipython",
    "version": 3
   },
   "file_extension": ".py",
   "mimetype": "text/x-python",
   "name": "python",
   "nbconvert_exporter": "python",
   "pygments_lexer": "ipython3",
   "version": "3.10.4"
  }
 },
 "nbformat": 4,
 "nbformat_minor": 5
}
