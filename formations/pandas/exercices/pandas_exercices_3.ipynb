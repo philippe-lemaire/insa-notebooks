{
 "cells": [
  {
   "cell_type": "markdown",
   "id": "90e35945-a195-4614-ba10-5b52ae92c9cc",
   "metadata": {},
   "source": [
    "# Pandas Exercice 3 : statitistiques de base"
   ]
  },
  {
   "cell_type": "markdown",
   "id": "b996e1c0-d191-494c-bd99-ddd43155c719",
   "metadata": {},
   "source": [
    "## Introduction\n",
    "\n",
    "Nous allons nous intéresser à un jeu de données des prénoms donnés aux ÉU entre 2004 et 2014.\n",
    "\n",
    "## 1 Importer pandas"
   ]
  },
  {
   "cell_type": "code",
   "execution_count": null,
   "id": "65024c32-9cdf-415e-9cda-ad689fe59cb3",
   "metadata": {},
   "outputs": [],
   "source": []
  },
  {
   "cell_type": "markdown",
   "id": "5893a780-a748-4a4b-a52c-77f01f4895d8",
   "metadata": {},
   "source": [
    "## 2 Importer le jeu de données depuis l'[url](https://raw.githubusercontent.com/guipsamora/pandas_exercises/master/06_Stats/US_Baby_Names/US_Baby_Names_right.csv) ci dessous et nommer la DataFrame `baby_names`."
   ]
  },
  {
   "cell_type": "code",
   "execution_count": null,
   "id": "b835c69a-95f0-47fb-8c47-81d3a68098ee",
   "metadata": {},
   "outputs": [],
   "source": [
    "url = 'https://raw.githubusercontent.com/guipsamora/pandas_exercises/master/06_Stats/US_Baby_Names/US_Baby_Names_right.csv'"
   ]
  },
  {
   "cell_type": "code",
   "execution_count": null,
   "id": "e7f4d39a-adf9-413f-8599-b224ef534f66",
   "metadata": {},
   "outputs": [],
   "source": []
  },
  {
   "cell_type": "markdown",
   "id": "f2dee22e-982e-431e-9d3d-cb6ccf4fe3d0",
   "metadata": {},
   "source": [
    "## 3 Examinez rapidement les colonnes de la DataFrame"
   ]
  },
  {
   "cell_type": "code",
   "execution_count": null,
   "id": "06edbd5d-f3bf-4da6-8b63-4c1153b5fd74",
   "metadata": {},
   "outputs": [],
   "source": []
  },
  {
   "cell_type": "markdown",
   "id": "f52a6660-15e9-4f0f-844b-0ca7c4e0cae7",
   "metadata": {},
   "source": [
    "### 4 Affichez un échantillon aléatoire de 10 lignes"
   ]
  },
  {
   "cell_type": "code",
   "execution_count": null,
   "id": "591c1d1f-6063-4d1f-b7e6-06a4f0dcc77c",
   "metadata": {
    "collapsed": false,
    "jupyter": {
     "outputs_hidden": false
    }
   },
   "outputs": [],
   "source": []
  },
  {
   "cell_type": "markdown",
   "id": "40214214-d152-4c7d-9c49-a212b1545fc1",
   "metadata": {},
   "source": [
    "## 5.1 Filtrer `baby_names` sur votre prénom, en l'adaptant à l'orthographe outre-atlantique. Si jamais vous ne le trouvez pas, filtrez sur un prénom au hasard"
   ]
  },
  {
   "cell_type": "code",
   "execution_count": null,
   "id": "cf9eb91d-0d64-4de5-a8c6-6cf9144d2a15",
   "metadata": {},
   "outputs": [],
   "source": []
  },
  {
   "cell_type": "markdown",
   "id": "f788afe7-0396-44d4-a00f-043de278d4f6",
   "metadata": {},
   "source": [
    "## 5.2 Combien d'enfants ont reçu ce prénom en tout sur la période ?"
   ]
  },
  {
   "cell_type": "code",
   "execution_count": null,
   "id": "2b07d84c-7196-494d-a755-4ab568c1e207",
   "metadata": {},
   "outputs": [],
   "source": []
  },
  {
   "cell_type": "markdown",
   "id": "cf06eae2-e89e-4f33-b37f-b4b6d3f1b977",
   "metadata": {},
   "source": [
    "### 6 Retirez les colonnes `['Unnamed: 0', 'Id']`"
   ]
  },
  {
   "cell_type": "code",
   "execution_count": null,
   "id": "ffe6c0e1-363f-429b-b224-1c728f020cbb",
   "metadata": {
    "collapsed": false,
    "jupyter": {
     "outputs_hidden": false
    }
   },
   "outputs": [],
   "source": []
  },
  {
   "cell_type": "markdown",
   "id": "75badd2f-708d-40b0-8c6a-d68a40707d3b",
   "metadata": {},
   "source": [
    "## 7.1 Quelle est la répartition des sexes dans le jeu de données ? "
   ]
  },
  {
   "cell_type": "code",
   "execution_count": null,
   "id": "df034ff5-e86b-4e04-b5a6-25fba2ce5fa0",
   "metadata": {
    "collapsed": false,
    "jupyter": {
     "outputs_hidden": false
    }
   },
   "outputs": [],
   "source": []
  },
  {
   "cell_type": "markdown",
   "id": "0e230bcd-6432-46f0-bce2-99adc30b691e",
   "metadata": {},
   "source": [
    "## 7.2 Essayez de représenter la répartition des sexes avec un graphe en `bar`"
   ]
  },
  {
   "cell_type": "code",
   "execution_count": null,
   "id": "054f665a-4a31-4bb9-8f1a-eee6752871ad",
   "metadata": {},
   "outputs": [],
   "source": []
  },
  {
   "cell_type": "markdown",
   "id": "02fd100b-3d78-44d1-b69a-3b56bfd20a2e",
   "metadata": {},
   "source": [
    "## 8 Groupez le jeu de données par 'Name', en faisant la somme, et retirez la colonne 'Year'. Assignez le résultat à `names`"
   ]
  },
  {
   "cell_type": "code",
   "execution_count": null,
   "id": "4a05e984-ec80-4170-9008-e9f84ac001ba",
   "metadata": {
    "collapsed": false,
    "jupyter": {
     "outputs_hidden": false
    }
   },
   "outputs": [],
   "source": []
  },
  {
   "cell_type": "markdown",
   "id": "2d5f58ac-af46-4167-a739-02fca3e02520",
   "metadata": {},
   "source": [
    "### 8. Combien de noms différents y-a-t'il ?"
   ]
  },
  {
   "cell_type": "code",
   "execution_count": null,
   "id": "a2bf83f8-e509-4f93-9458-150afecb8cf4",
   "metadata": {
    "collapsed": false,
    "jupyter": {
     "outputs_hidden": false
    }
   },
   "outputs": [],
   "source": []
  },
  {
   "cell_type": "markdown",
   "id": "4f74082e-3c93-46f5-b688-37a11c99221c",
   "metadata": {},
   "source": [
    "### Step 9. Quel est le nom le plus donné  ?"
   ]
  },
  {
   "cell_type": "code",
   "execution_count": null,
   "id": "a6ff9498-00a4-41fc-9df5-41fce233f615",
   "metadata": {
    "collapsed": false,
    "jupyter": {
     "outputs_hidden": false
    }
   },
   "outputs": [],
   "source": []
  },
  {
   "cell_type": "markdown",
   "id": "53e879b0-c869-4e48-a874-5ead35dc68dc",
   "metadata": {},
   "source": [
    "### Step 10. Combien de noms différents sont à égalité comme les moins donnés ?"
   ]
  },
  {
   "cell_type": "code",
   "execution_count": null,
   "id": "dcd27256-1c96-400e-839f-3701d1b2a96e",
   "metadata": {
    "collapsed": false,
    "jupyter": {
     "outputs_hidden": false
    }
   },
   "outputs": [],
   "source": []
  },
  {
   "cell_type": "markdown",
   "id": "96a439bd-d8f8-4c5a-9848-e45ff098c8f5",
   "metadata": {},
   "source": [
    "### Step 11. Quels noms sont médians ?"
   ]
  },
  {
   "cell_type": "code",
   "execution_count": null,
   "id": "19e7be28-6071-4046-bf50-1787af022d7e",
   "metadata": {
    "collapsed": false,
    "jupyter": {
     "outputs_hidden": false
    }
   },
   "outputs": [],
   "source": []
  },
  {
   "cell_type": "markdown",
   "id": "7a8626a1-63da-4f40-9d8d-1fd4eb89b15b",
   "metadata": {},
   "source": [
    "### Step 12. Quel est l'écart type de la distribution des noms ?"
   ]
  },
  {
   "cell_type": "code",
   "execution_count": null,
   "id": "149371b2-896f-415d-8767-4deeefc61fa7",
   "metadata": {
    "collapsed": false,
    "jupyter": {
     "outputs_hidden": false
    }
   },
   "outputs": [],
   "source": []
  },
  {
   "cell_type": "markdown",
   "id": "1f4428b0-42ce-4a8a-b423-22d013d75ce1",
   "metadata": {},
   "source": [
    "### Step 13. Affichez un résumé de `names` avec la moyenne, l'écart-type, le minimum, le maximum, et les quartiles."
   ]
  },
  {
   "cell_type": "code",
   "execution_count": null,
   "id": "c2ae069c-36ce-4623-b555-e5426e57361f",
   "metadata": {},
   "outputs": [],
   "source": []
  },
  {
   "cell_type": "markdown",
   "id": "e9f449e8-e069-49f2-aba9-3fb8d7f25df2",
   "metadata": {
    "jupyter": {
     "outputs_hidden": false
    }
   },
   "source": [
    "<div class='alert alert-success'>\n",
    "\n",
    "Félicitations ! Vous pouvez passer [à l'exercice suivant](pandas_exercice_4.ipynb). On ne va pas s’arrêter en si bon chemin !\n",
    "\n",
    "</div>"
   ]
  }
 ],
 "metadata": {
  "kernelspec": {
   "display_name": "Python 3 (ipykernel)",
   "language": "python",
   "name": "python3"
  },
  "language_info": {
   "codemirror_mode": {
    "name": "ipython",
    "version": 3
   },
   "file_extension": ".py",
   "mimetype": "text/x-python",
   "name": "python",
   "nbconvert_exporter": "python",
   "pygments_lexer": "ipython3",
   "version": "3.10.0rc1"
  }
 },
 "nbformat": 4,
 "nbformat_minor": 5
}
