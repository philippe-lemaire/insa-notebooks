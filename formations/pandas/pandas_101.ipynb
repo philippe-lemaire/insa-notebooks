{
 "cells": [
  {
   "cell_type": "markdown",
   "id": "8322c711-36ef-4dca-91bd-cf691f2ea1cd",
   "metadata": {
    "tags": []
   },
   "source": [
    "# Pandas"
   ]
  },
  {
   "cell_type": "markdown",
   "id": "cfd98247-066b-42b9-9cf5-05aadda39545",
   "metadata": {},
   "source": [
    "## Pandas, pour quel genre de données ?"
   ]
  },
  {
   "cell_type": "code",
   "execution_count": null,
   "id": "15fd6f9b-6a0d-4c7a-b687-aaa293712eff",
   "metadata": {},
   "outputs": [],
   "source": [
    "import pandas as pd"
   ]
  },
  {
   "cell_type": "markdown",
   "id": "42b8fc8b-c9a9-4c22-8b84-1de3ae1117b2",
   "metadata": {},
   "source": [
    "Pour charger le package pandas et commencer à travailler, on l'importe.\n",
    "\n",
    "La convention dans la communauté Python est de l'importer en tant que `pd`, donc toute la documentation présume que c'est ce que vous avez fait."
   ]
  },
  {
   "cell_type": "markdown",
   "id": "079f2c8a-8f7e-431f-b529-cb2fc397ff24",
   "metadata": {},
   "source": [
    "### Représentation d'une table de données pandas"
   ]
  },
  {
   "cell_type": "markdown",
   "id": "2c0e4df2-adc9-433f-8a85-71e4736db71a",
   "metadata": {},
   "source": [
    "![](img/01_table_dataframe.svg)"
   ]
  },
  {
   "cell_type": "markdown",
   "id": "832b68e2-e9eb-4847-ba5f-ffad58436637",
   "metadata": {},
   "source": [
    "Je veux stocker les données à propos des passagers du Titanic. Pour un certain nombre de passagers, je connais leurs noms (du texte), leur âge (des entiers), et leur sexe (M/F)."
   ]
  },
  {
   "cell_type": "code",
   "execution_count": null,
   "id": "8823a98c-a8c1-4c3b-850c-b8f0e0a71b1f",
   "metadata": {},
   "outputs": [],
   "source": [
    "df = pd.DataFrame(\n",
    "    {\n",
    "        \"Name\": [\n",
    "            \"Braund, Mr. Owen Harris\",\n",
    "            \"Allen, Mr. William Henry\",\n",
    "            \"Bonnell, Miss. Elizabeth\",\n",
    "        ],\n",
    "        \"Age\": [22, 35, 58],\n",
    "        \"Sex\": [\"male\", \"male\", \"female\"],\n",
    "    }\n",
    ")\n",
    "\n",
    "\n",
    "df"
   ]
  },
  {
   "cell_type": "markdown",
   "id": "b3dbc1c5-67d5-4eb2-a4fd-7e9ee55843de",
   "metadata": {},
   "source": [
    "Pour créer un tableau de données à la main, on crée une instance de `DataFrame`. Si on lui passe un dictionnaire python contenant des listes, les clés du dictionnaire seront les noms des colonnes, et les valeurs du dictionnaire (des listes) seront le contenu des colonnes.\n",
    "\n",
    "Une `DataFrame` est une structure de données 2D qui peut stocker différents types de données (texte, entiers, réels, catégoriques, dates…) dans des colonnes. C'est similaire à un fichier tableur, une table SQL dans une base de données, ou l'objet `data.frame` du langage R.\n",
    "\n",
    "\n",
    "Dans notre table,\n",
    "- Il y a 3 colonnes, chacune avec son nom. Les noms sont respectivement `Name`, `Age` and `Sex`.\n",
    "- La colonne `Name` contient des données texte, chaque valeur est un string. La colonne `Age` contient des nombres, et la colonne `Sex` contient aussi du texte\n",
    "\n",
    "Dans un logiciel tableur, nos données aurait une représentation très similaire \n",
    "\n",
    "![](img/01_table_spreadsheet.png)"
   ]
  },
  {
   "cell_type": "markdown",
   "id": "84220efd-be05-43c2-be3f-d5c88bbc49ed",
   "metadata": {},
   "source": [
    "### Chaque colonne est une instance de  `Series`"
   ]
  },
  {
   "cell_type": "markdown",
   "id": "5ccfb04c-6b79-4472-88e1-9ea9f2186c13",
   "metadata": {},
   "source": [
    "![](img/01_table_series.svg)"
   ]
  },
  {
   "cell_type": "markdown",
   "id": "105ea7ab-5afe-49b6-a35e-7b2e80e12850",
   "metadata": {},
   "source": [
    "Je m'intéresse uniquement aux données dans la colonne `Age`"
   ]
  },
  {
   "cell_type": "code",
   "execution_count": null,
   "id": "9cc7d65b-bdd9-4d44-88ab-e0defa96c300",
   "metadata": {},
   "outputs": [],
   "source": [
    "df[\"Age\"]"
   ]
  },
  {
   "cell_type": "markdown",
   "id": "5dce4ea7-6aef-497d-b21c-00b3805e3e9d",
   "metadata": {},
   "source": [
    "Quand on sélectionne une seule colonne dans une `DataFrame`, le résultat est une `pandas.Series`. Pour sélectionner une colonne\n",
    "on utilise le nom de la colonne entre crochets `[]`.\n",
    "\n"
   ]
  },
  {
   "cell_type": "markdown",
   "id": "8291768c-d048-4877-8086-899dd3325935",
   "metadata": {},
   "source": [
    "<div class='alert alert-info'>\n",
    "Si vous êtes familiers des dictionnaires Python, la sélection d’une colonne unique est très similaire à la sélection d'une valeur dans un dictionnaire via sa clé.\n",
    "</div>"
   ]
  },
  {
   "cell_type": "markdown",
   "id": "1463c164-bec2-4325-95d3-47e66ebb3ff0",
   "metadata": {},
   "source": [
    "On peut créer une Series ex-nihilo :"
   ]
  },
  {
   "cell_type": "code",
   "execution_count": null,
   "id": "75f50a80-299e-4e49-bfb3-b8abbfb03476",
   "metadata": {},
   "outputs": [],
   "source": [
    "ages = pd.Series([22, 35, 58], name=\"Age\")\n",
    "ages"
   ]
  },
  {
   "cell_type": "markdown",
   "id": "d9ce41c7-e6a1-4c81-84c8-96bc6c1fac59",
   "metadata": {},
   "source": [
    "Une `pandas.Series` n'a pas de libellé de colonne, mais un attribut `.name`. Elle a bien des libellés de ligne (par défaut 0, 1, 2 …)"
   ]
  },
  {
   "cell_type": "markdown",
   "id": "9b5a20e5-47d3-4a21-a324-97c103848d26",
   "metadata": {},
   "source": [
    "### Agir sur une `pandas.Series`\n",
    "Je veux connaître l’âge le plus élevé parmi les passagers.\n",
    "\n",
    "On peut le trouver en sélectionnant la colonne `\"Age\"` dans notre `DataFrame` et en appliquant la méthode `.max()`."
   ]
  },
  {
   "cell_type": "code",
   "execution_count": null,
   "id": "db26a686-83f4-40c9-95ee-1b1a5c4c1ba9",
   "metadata": {},
   "outputs": [],
   "source": [
    "df[\"Age\"].max()"
   ]
  },
  {
   "cell_type": "markdown",
   "id": "cd6cdee1-568b-48be-96da-5c3552d9ee9f",
   "metadata": {},
   "source": [
    "Idem sur une simple `Series` :"
   ]
  },
  {
   "cell_type": "code",
   "execution_count": null,
   "id": "2355d806-8208-4985-a780-5839d6fee189",
   "metadata": {},
   "outputs": [],
   "source": [
    "ages.max()"
   ]
  },
  {
   "cell_type": "markdown",
   "id": "75b761a7-2041-4afe-b054-954d165a0753",
   "metadata": {},
   "source": [
    "Comme illustré par la méthode `.max()`, on peut faire des choses avec une `DataFrame` ou une `Series`. \n",
    "\n",
    "Pandas nous offre plein de fonctionnalités, sous la forme de méthodes à utiliser sur une `DataFrame` ou `Series`. \n",
    "\n",
    "Comme les méthodes sont des fonctions, pensez bien à ajouter les parenthèses après leur nom `()`."
   ]
  },
  {
   "cell_type": "markdown",
   "id": "663e6eac-c2ce-42b6-90bd-3863d13726e5",
   "metadata": {},
   "source": [
    "### Je veux voir des statistiques de base sur mes données numériques "
   ]
  },
  {
   "cell_type": "code",
   "execution_count": null,
   "id": "5d6e000e-f631-4e7a-b5b5-99e9de39caae",
   "metadata": {},
   "outputs": [],
   "source": [
    "df.describe()"
   ]
  },
  {
   "cell_type": "markdown",
   "id": "5ac04371-7098-49b0-a5df-48dcea9cc4a3",
   "metadata": {},
   "source": [
    "La méthode `.describe()` nous donne un aperçu rapide des données numériques dans notre `DataFrame`. Comme les colonnes `Age` et `Sex` sont des données textuelles, elles sont ignorées par la méthode `.describe()`.\n",
    "\n",
    "De nombreuses opérations renvoient une nouvelle `DataFrame` ou `Series`. La méthode `.describe()` est un exemple d’opération qui renvoie une `DataFrame`."
   ]
  },
  {
   "cell_type": "markdown",
   "id": "078f541b-7fd4-41bb-a64f-ac166703d6e4",
   "metadata": {},
   "source": [
    "<div class='alert alert-info'>\n",
    "\n",
    "Ce n'est que le début. Comme dans un tableur, **pandas** représente les données sous la forme d'un tableau avec des colonnes et des lignes. En plus de la représentation, les manipulations de données et les calculs que vous pouvez faire dans un tableur sont également faisables avec **pandas**, et nous allons voir ça dans ce guide.\n",
    "    \n",
    "</div>"
   ]
  },
  {
   "cell_type": "markdown",
   "id": "4e0e59e5-1908-4d1f-b09b-90e96ea0d0e3",
   "metadata": {},
   "source": [
    "<div class='alert alert-success'>\n",
    "\n",
    "    \n",
    "**À retenir:**\n",
    "\n",
    "- On importe la bibliothèque pandas avec `import pandas as pd`\n",
    "- Un tableau de données est stocké dans un objet `pandas.DataFrame`\n",
    "- Chaque colonne dans une `DataFrame` est une `Series`\n",
    "- Vous pouvez réaliser des opérations en appliquant des méthodes à une`DataFrame` ou une`Series`\n",
    "\n",
    "</div>"
   ]
  },
  {
   "cell_type": "markdown",
   "id": "ce5efcf1-eb59-4f4c-9e4a-fbb9c7d85724",
   "metadata": {},
   "source": [
    "## Comment lire et écrire des données tabulaires\n",
    "\n",
    "![](img/02_io_readwrite.svg)"
   ]
  },
  {
   "cell_type": "markdown",
   "id": "dd308f6a-345c-4b6e-b5a4-2d97e381c890",
   "metadata": {},
   "source": [
    "Je veux analyser les données des passagers du Titanic, disponibles sous la forme d'un fichier `csv`."
   ]
  },
  {
   "cell_type": "code",
   "execution_count": null,
   "id": "4d7010a3-63f8-46d5-8793-7982e39572bd",
   "metadata": {},
   "outputs": [],
   "source": [
    "# création d'un sous-dossier data\n",
    "!mkdir data\n",
    "# téléchargement d'un fichier CSV\n",
    "!curl https://raw.githubusercontent.com/pandas-dev/pandas/main/doc/data/titanic.csv > data/titanic.csv"
   ]
  },
  {
   "cell_type": "code",
   "execution_count": null,
   "id": "703f9b00-00d9-4156-82ba-dbb1502e080d",
   "metadata": {},
   "outputs": [],
   "source": [
    "# chargement du CSV dans une DataFrame\n",
    "titanic = pd.read_csv(\"data/titanic.csv\")"
   ]
  },
  {
   "cell_type": "markdown",
   "id": "ea689a6a-2b12-4a8a-b6ef-fc75f68a7e36",
   "metadata": {},
   "source": [
    "Pandas a une fonction `read_csv(path)` qui va lire les données dans un fichier csv et vous renvoie une `DataFrame`. Pandas peut lire la plupart des formats de fichier de données  (csv, excel, sql, json, parquet, …) nativement, chacun de ces formats a sa fonction `read_*`.\n",
    "\n",
    "Prenez le réflexe après avoir chargé un jeu de données de jeter un œil à la `DataFrame`. \n",
    "\n",
    "Appeler la `DataFrame` dans un notebook affiche les 5 premières et les 5 dernières lignes."
   ]
  },
  {
   "cell_type": "code",
   "execution_count": null,
   "id": "64a6ee01-4186-4547-badc-f0baa3710638",
   "metadata": {},
   "outputs": [],
   "source": [
    "titanic"
   ]
  },
  {
   "cell_type": "markdown",
   "id": "b215e67a-51ee-4f31-b4a6-1eebcc6427a7",
   "metadata": {},
   "source": [
    "Je veux voir les 8 premières lignes de la DataFrame :"
   ]
  },
  {
   "cell_type": "code",
   "execution_count": null,
   "id": "1d97e1b2-6c7b-4285-b641-b581cc4095f5",
   "metadata": {},
   "outputs": [],
   "source": [
    "titanic.head(8)"
   ]
  },
  {
   "cell_type": "markdown",
   "id": "711a5620-10b7-4643-927c-526ff91bfb7a",
   "metadata": {},
   "source": [
    "La méthode `DataFrame.head(n)` permet de regarder les `n` premières lignes (par défaut les 5 premières).\n",
    "\n",
    "De même, la méthode `.tail(n)` affiche les `n` dernières lignes, et `.sample(n)` tire `n` lignes au hasard.\n",
    "\n",
    "Pour vérifier comment pandas a interprété les données de chaque colonne, inspectez l'attribut `dtypes`."
   ]
  },
  {
   "cell_type": "code",
   "execution_count": null,
   "id": "03d5c3d6-24a1-465d-b51e-702b5243fbf6",
   "metadata": {},
   "outputs": [],
   "source": [
    "titanic.dtypes"
   ]
  },
  {
   "cell_type": "markdown",
   "id": "2d5d1fd1-ac44-4cc5-906b-b67566a759ed",
   "metadata": {},
   "source": [
    "Pour chaque colonne, le type de données utilisé est affiché.\n",
    "\n",
    "Ici on a : \n",
    "- des entiers (int64), \n",
    "- des réels (float64),\n",
    "- des strings (object)."
   ]
  },
  {
   "cell_type": "markdown",
   "id": "88863f84-33cf-4959-9ba4-9f3b86fc9879",
   "metadata": {},
   "source": [
    "<div class='alert alert-info'>\n",
    "\n",
    "Quand on demande `.dtypes`, il n’y a pas de parenthèses ! `dtypes` est un attribut des DataFrame et Series. Ce sont des variables internes, et non pas des fonctions, donc pas de parenthèses à ajouter à la fin. Les attributs sont des données internes, les méthodes (qui nécessitent des parenthèses) sont des fonctions, ou actions internes.\n",
    "\n",
    "</div>"
   ]
  },
  {
   "cell_type": "markdown",
   "id": "63294b69-c0a6-401b-9e66-08f0b225382a",
   "metadata": {},
   "source": [
    "Mon collègue me demande les données du Titanic, sous la forme d'un fichier tableur. Dans le doute, on va lui faire en Excel et en LibreOffice.\n",
    "\n",
    "On a juste deux petits packages à installer, `openpyxl` et `odfpy`."
   ]
  },
  {
   "cell_type": "code",
   "execution_count": null,
   "id": "2e81c9e1-1e21-43c1-a065-53cc9ed59194",
   "metadata": {},
   "outputs": [],
   "source": [
    "# pour les utilisateurs d'anaconda\n",
    "!conda install -c anaconda openpyxl \n",
    "!conda install -c conda-forge odfpy"
   ]
  },
  {
   "cell_type": "code",
   "execution_count": null,
   "id": "f73ecfe5-98b8-4efe-8d05-eeb1a407d214",
   "metadata": {},
   "outputs": [],
   "source": [
    "# pour ceux qui utilisent pip directement\n",
    "!pip install openpyxl odfpy"
   ]
  },
  {
   "cell_type": "code",
   "execution_count": null,
   "id": "b0cceac3-7533-4dfa-88ad-bf50c7406f74",
   "metadata": {},
   "outputs": [],
   "source": [
    "# création d'un sous-dossier export\n",
    "import os\n",
    "os.makedirs(\"export\", exist_ok=True)\n",
    "\n",
    "# export avec la méthode .to_excel()\n",
    "titanic.to_excel(\"export/titanic.xlsx\", sheet_name=\"passengers\", index=False)  \n",
    "\n",
    "# export vers un fichier LibreOfficeS\n",
    "titanic.to_excel(\"export/titanic.ods\", sheet_name=\"passengers\", index=False, engine=\"odf\")  "
   ]
  },
  {
   "cell_type": "markdown",
   "id": "69186455-a96a-45e7-bfde-f2b4679adba8",
   "metadata": {},
   "source": [
    "Les fonctions `read_*` sont utilisées pour charger des données venant de fichiers vers une DataFrame, les fonctions `to_*` font l'opposé.\n",
    "\n",
    "Dans l'exemple ci-dessus, le nom de la feuille est spécifié (sinon ce serait bêtement \"Sheet1\". L'option `index=False` fait en sorte que le libellé de chaque ligne ne soit pas exporté.\n"
   ]
  },
  {
   "cell_type": "code",
   "execution_count": null,
   "id": "e04bd63f-2df2-47a7-8959-60b43d51d452",
   "metadata": {},
   "outputs": [],
   "source": [
    "# on recharge les données depuis le fichier excel\n",
    "titanic = pd.read_excel(\"export/titanic.xlsx\", sheet_name=\"passengers\")  "
   ]
  },
  {
   "cell_type": "code",
   "execution_count": null,
   "id": "c9bf9b70-6c01-4161-b1b3-f8c01241dac4",
   "metadata": {},
   "outputs": [],
   "source": [
    "titanic.head() # est-ce que tout est bien là ?"
   ]
  },
  {
   "cell_type": "markdown",
   "id": "c203e13b-1178-4554-ac7a-e8ebc8646147",
   "metadata": {},
   "source": [
    "### ❓ Je veux un résumé technique de ma `DataFrame`"
   ]
  },
  {
   "cell_type": "code",
   "execution_count": null,
   "id": "1cf210e2-af14-4d63-8ba9-70288441a8f7",
   "metadata": {},
   "outputs": [],
   "source": [
    "titanic.info()"
   ]
  },
  {
   "cell_type": "markdown",
   "id": "b420a2d0-0620-4b6b-8bb5-23eb9dc919b2",
   "metadata": {},
   "source": [
    "La méthode `.info()` me donne un résumé technique de ma DataFrame, regardons ça plus en détail.\n",
    "\n",
    "- C'est bien une DataFrame.\n",
    "- Il y a 891 entrées, soit 891 lignes. Chaque ligne a un libellé (appelé l'index), avec des valeurs entre 0 et 890.\n",
    "- La table a 12 colonnes. \n",
    "- La plupart des colonnes ont une valeur dans chaque ligne (quand il y a 891 valeurs non-nulles). \n",
    "- Mais certaines colonnes ont moins de 891 valeurs non-nulles, donc il y a des valeurs manquantes par endroits. \n",
    "- Les colonnes `Name`, `Sex`, `Cabin` et `Embarked` sont des données textuelles (strings, ici désigné en tant que \"object\"). \n",
    "- Les autres colonnes sont numériques, certaines sont des entiers, d'autres des réels (float).\n",
    "- Une estimation de l’empreinte mémoire de la DataFrame est indiquée"
   ]
  },
  {
   "cell_type": "markdown",
   "id": "31b50cba-6d5e-4b77-8191-eaebce693319",
   "metadata": {},
   "source": [
    "<div class='alert alert-success'>\n",
    "\n",
    "**À retenir**\n",
    "    \n",
    "- Obtenir des données depuis différents types de fichiers est fait avec les fonctions qui commencent par `read_`.\n",
    "- Exporter les données depuis pandas vers un fichier est fait par les différentes méthodes de DataFrame qui commencent par `to_`.\n",
    "- Les méthodes `head`, `tail`, `info` et l'attribut `dtypes` sont utiles pour faire une première vérification sur les données .\n",
    "\n",
    "</div>"
   ]
  },
  {
   "cell_type": "markdown",
   "id": "7f5483f3-9dba-42fc-bdb7-6aeca0a8f0fc",
   "metadata": {},
   "source": [
    "## Sélectionner un sous-ensemble d'une `DataFrame`"
   ]
  },
  {
   "cell_type": "code",
   "execution_count": null,
   "id": "6bcd3c7c-49a3-4db0-b235-4473ed1a4e26",
   "metadata": {},
   "outputs": [],
   "source": [
    "# création de la dataframe en repartant du CSV titanic\n",
    "titanic = pd.read_csv(\"data/titanic.csv\")\n",
    "titanic.head()"
   ]
  },
  {
   "cell_type": "markdown",
   "id": "51dfc61b-8a89-4bdc-8c9c-99683a0864e4",
   "metadata": {},
   "source": [
    "### ❓ Comment sélectionner certaines colonnes \n",
    "\n",
    "![](img/03_subset_columns.svg)"
   ]
  },
  {
   "cell_type": "markdown",
   "id": "1246301c-4dfe-428d-aef3-17f1d2f1e2ca",
   "metadata": {},
   "source": [
    "Je veux uniquement l'âge des passagers"
   ]
  },
  {
   "cell_type": "code",
   "execution_count": null,
   "id": "60db4efc-f809-4103-b30e-8115160047c2",
   "metadata": {},
   "outputs": [],
   "source": [
    "ages = titanic[\"Age\"]"
   ]
  },
  {
   "cell_type": "code",
   "execution_count": null,
   "id": "d9e21d89-df58-40af-ae35-ac0dcbd6cf67",
   "metadata": {},
   "outputs": [],
   "source": [
    "ages.head()"
   ]
  },
  {
   "cell_type": "markdown",
   "id": "55bb573e-b952-4f9a-8d41-c692cd18d2c0",
   "metadata": {},
   "source": [
    "Pour sélectionner une seul colonne, on utilise des crochets `[]` avec le nom de la colonne.\n",
    "\n",
    "Chaque colonne est un objet `Series`. Quand on sélectionne une seule colonne, l'objet renvoyé est une `Series`. On peut s'en assurer avec la \n",
    "foction `type()`."
   ]
  },
  {
   "cell_type": "code",
   "execution_count": null,
   "id": "80b1d785-27ef-47b3-862f-d17025b4a847",
   "metadata": {},
   "outputs": [],
   "source": [
    "type(titanic[\"Age\"])"
   ]
  },
  {
   "cell_type": "markdown",
   "id": "02aab65e-a431-4767-bbd7-80fe3400f108",
   "metadata": {},
   "source": [
    "Ou regarder la forme de cet objet :"
   ]
  },
  {
   "cell_type": "code",
   "execution_count": null,
   "id": "24419f25-7be5-4ad7-ab21-173576c10cae",
   "metadata": {},
   "outputs": [],
   "source": [
    "titanic[\"Age\"].shape"
   ]
  },
  {
   "cell_type": "markdown",
   "id": "7ca077b0-9e0a-4ca1-b191-91965068a820",
   "metadata": {},
   "source": [
    "`.shape` est un attribut (souvenez-vous, ce n'est pas une méthode, pas de parenthèses) sur une DataFrame ou une Series, qui contient le nombre de lignes et de colonnes. \n",
    "\n",
    "Le résultat est un `tuple` de la forme (n_lignes, n_colonnes). \n",
    "\n",
    "Une Series est un tableau à 1 dimension, donc le tuple ne contient que le nombre de lignes.\n",
    "\n",
    "---\n",
    "Je veux m'intéresser à l'âge et au sexe des passagers du Titanic."
   ]
  },
  {
   "cell_type": "code",
   "execution_count": null,
   "id": "8ef513ab-b1ec-446d-8f85-e35b19445ff0",
   "metadata": {},
   "outputs": [],
   "source": [
    "age_sex = titanic[[\"Age\", \"Sex\"]]"
   ]
  },
  {
   "cell_type": "code",
   "execution_count": null,
   "id": "cb384737-6762-44c3-8106-1221d9f67db2",
   "metadata": {},
   "outputs": [],
   "source": [
    "age_sex.head()"
   ]
  },
  {
   "cell_type": "markdown",
   "id": "4f065ad1-2d43-4947-ae86-fc2b17fd27fc",
   "metadata": {},
   "source": [
    "Pour sélectionner plusieurs colonnes, je passe une liste de noms de colonnes à l'intérieur des crochets de sélection `[]`.\n",
    "\n",
    "\n",
    "\n",
    "<div class='alert alert-info'>\n",
    "\n",
    "La paire de crochets interne définit une liste Python contenant des noms de colonnes, la paire de crochets externe est utilisée pour sélectionner des données dans une DataFrame comme vu précédemment.\n",
    "\n",
    "\n",
    "</div>\n",
    "\n",
    "L'objet renvoyé est une nouvelle DataFrame :"
   ]
  },
  {
   "cell_type": "code",
   "execution_count": null,
   "id": "18100818-8834-4063-835c-688dc1d1fe50",
   "metadata": {},
   "outputs": [],
   "source": [
    "type(titanic[[\"Age\", \"Sex\"]])"
   ]
  },
  {
   "cell_type": "code",
   "execution_count": null,
   "id": "36aed008-55d3-4b4e-978a-f96538794975",
   "metadata": {},
   "outputs": [],
   "source": [
    "titanic[[\"Age\", \"Sex\"]].shape"
   ]
  },
  {
   "cell_type": "markdown",
   "id": "08f2ffdd-7022-449d-87bf-e61ac8227d04",
   "metadata": {},
   "source": [
    "Cette sélection a renvoyé une `DataFrame` avec 891 lignes et 2 colonnes.\n",
    "\n",
    "Souvenez-vous, une `DataFrame` est un objet à 2 dimensions, les lignes et les colonnes."
   ]
  },
  {
   "cell_type": "markdown",
   "id": "81759517-29de-4c3f-9dcd-c78cf04f807d",
   "metadata": {},
   "source": [
    "### ❓ Comment sélectionner certaines lignes dans la `DataFrame` "
   ]
  },
  {
   "cell_type": "markdown",
   "id": "4d9eb735-27d5-4ca6-8a3c-5c026ecd8de5",
   "metadata": {},
   "source": [
    "Je m'intéresse maintenant aux passagers de plus de 35 ans."
   ]
  },
  {
   "cell_type": "code",
   "execution_count": null,
   "id": "80b6270b-5f26-4e25-8340-5b5bd6028e64",
   "metadata": {},
   "outputs": [],
   "source": [
    "above_35 = titanic[titanic[\"Age\"] > 35]"
   ]
  },
  {
   "cell_type": "code",
   "execution_count": null,
   "id": "b5d1d892-f5e5-4d34-862f-dc764aecbe31",
   "metadata": {},
   "outputs": [],
   "source": [
    "above_35.head()"
   ]
  },
  {
   "cell_type": "markdown",
   "id": "0f0164e2-2744-4d6e-bc35-73f965a3ae6f",
   "metadata": {},
   "source": [
    "Pour sélectionner des lignes en fonction d'une expression conditionnelle, on exprime la condition dans les crochets `[]` de sélection."
   ]
  },
  {
   "cell_type": "markdown",
   "id": "e1113833-b6ab-4058-9fcc-31d440625581",
   "metadata": {},
   "source": [
    "La condition dans les crochets `titanic['Age'] > 35` vérifie pour quelle ligne cette condition est vraie."
   ]
  },
  {
   "cell_type": "code",
   "execution_count": null,
   "id": "64fac6b4-cfca-479e-82ae-520093a5416b",
   "metadata": {},
   "outputs": [],
   "source": [
    "titanic[\"Age\"] > 35"
   ]
  },
  {
   "cell_type": "markdown",
   "id": "e3c3e87e-e338-49ba-9aa5-eaa681cb2179",
   "metadata": {},
   "source": [
    "Le retour d'une expression conditionnelle (`>`, mais aussi `==`, `<`, `!=`, `>=` auraient fonctionné) est une `Series` de valeurs booléennes (des `True` ou `False`) avec le même nombre de ligne que la `DataFrame` d'origine. \n",
    "\n",
    "Une telle `Series` de valeurs booléennes peut être utilisée pour filtrer une `DataFrame` en la mettant dans les crochets de sélection `[]`. Seules les lignes pour lesquelles la valeur booléenne est `True` sont sélectionnées.\n",
    "\n",
    "Nous savons que la `DataFrame` complète `titanic` contient 891 lignes. Regardons combien de lignes satisfont la condition `Age > 35` en regardant la forme de notre `DataFrame` filtrée `above_35` :"
   ]
  },
  {
   "cell_type": "code",
   "execution_count": null,
   "id": "6ab54398-d17c-4277-a70e-f1c29a93df04",
   "metadata": {},
   "outputs": [],
   "source": [
    "above_35.shape"
   ]
  },
  {
   "cell_type": "markdown",
   "id": "52ca64d3-b63e-4aee-97fa-fec0185e974c",
   "metadata": {},
   "source": [
    "---\n",
    "Je m'intéresse aux passagers de seconde et 3ème classe."
   ]
  },
  {
   "cell_type": "code",
   "execution_count": null,
   "id": "06f061c0-4400-4878-879b-d46e61f4cb9b",
   "metadata": {},
   "outputs": [],
   "source": [
    "class_23 = titanic[titanic[\"Pclass\"].isin([2, 3])]\n",
    "class_23.head()"
   ]
  },
  {
   "cell_type": "markdown",
   "id": "04d5f237-77da-4df0-9e8f-03561657ffb7",
   "metadata": {},
   "source": [
    "Tout comme une expression conditionnelle, méthode `.isin()` renvoie `True` pour chaque ligne dont la valeur est dans liste passée en argument.\n",
    "\n",
    "À nouveau, pour réduire une DataFrame aux lignes qui satisfont cette condition, on utilise cette méthode conditionnelle dans les crochets `[]` de sélection. \n",
    "Dans ce cas, la condition est d'avoir soit 2 soit 3 dans la colonne `Pclass`.\n",
    "\n",
    "Ça revient, en étant plus concis, à tester l'appartenance à la classe 2, ou à la classe 3 avec l'opérateur ou logique : `|`."
   ]
  },
  {
   "cell_type": "code",
   "execution_count": null,
   "id": "88c5be29-749f-4d74-9235-78283b696dc6",
   "metadata": {},
   "outputs": [],
   "source": [
    "class_23 = titanic[(titanic[\"Pclass\"] == 2) | (titanic[\"Pclass\"] == 3)]\n",
    "\n",
    "class_23.head()"
   ]
  },
  {
   "cell_type": "markdown",
   "id": "2ed8beee-88a2-4889-a3ac-27b332a89a9d",
   "metadata": {},
   "source": [
    "<div class='alert alert-warning'>\n",
    "\n",
    "\n",
    "Quand on combine plusieurs expressions conditionnelles, chaque condition doit être mise entre parenthèses. De plus, vous ne pouvez pas utiliser directement les mots-clés `or`, `and` mais devez faire appel aux opérateurs logiques `|` (ou), `^` (ou exclusif) et `&` (et).\n",
    "\n",
    "\n",
    "</div>"
   ]
  },
  {
   "cell_type": "markdown",
   "id": "29709490-e698-40b3-8f40-c1fa81a3a614",
   "metadata": {},
   "source": [
    "---\n",
    "Je veux travailler uniquement sur les passagers dont l'âge est connu."
   ]
  },
  {
   "cell_type": "code",
   "execution_count": null,
   "id": "fb99a15b-4f6f-4d1b-9645-130083fe258b",
   "metadata": {},
   "outputs": [],
   "source": [
    "age_no_na = titanic[titanic[\"Age\"].notna()]\n",
    "age_no_na.head()"
   ]
  },
  {
   "cell_type": "markdown",
   "id": "8f6c1469-ea9e-445b-abd2-1bdfdf20a198",
   "metadata": {},
   "source": [
    "La méthode conditionnelle `notna()` renvoie `True` pour chaque ligne où la valeur est présente. On peut donc la combiner aux crochets de sélection pour filtrer notre `DataFrame`.\n",
    "\n",
    "On peut se demander ce qui a vraiment changé, vu que les 5 premières lignes sont les mêmes qu’avant. Un bon moyen de vérifier ce qui a changé est de vérifier l’attribut `shape` :"
   ]
  },
  {
   "cell_type": "code",
   "execution_count": null,
   "id": "cf0a4e90-b6a4-42d7-a365-56b6f13d4ee4",
   "metadata": {},
   "outputs": [],
   "source": [
    "age_no_na.shape"
   ]
  },
  {
   "cell_type": "markdown",
   "id": "1eab5c02-91c9-4ba0-8b59-70ce21459c8f",
   "metadata": {},
   "source": [
    "### ❓ Comment sélectionner des lignes et colonnes spécifiques\n",
    "\n",
    "![](img/03_subset_columns_rows.svg)"
   ]
  },
  {
   "cell_type": "markdown",
   "id": "faea1ed6-5a9d-416a-a03b-a102cc604f4d",
   "metadata": {},
   "source": [
    "Je m’intéresse aux noms des passagers de plus de 35 ans."
   ]
  },
  {
   "cell_type": "code",
   "execution_count": null,
   "id": "56e6d91a-feb1-4ff4-882a-a94ab7ea05d9",
   "metadata": {},
   "outputs": [],
   "source": [
    "adult_names = titanic.loc[titanic[\"Age\"] > 35, \"Name\"]"
   ]
  },
  {
   "cell_type": "code",
   "execution_count": null,
   "id": "d2f37160-7e88-44d0-942e-23466d3b65b9",
   "metadata": {},
   "outputs": [],
   "source": [
    "adult_names.head()"
   ]
  },
  {
   "cell_type": "markdown",
   "id": "dde67979-d326-41c1-9b0f-3ef6d98d45f0",
   "metadata": {},
   "source": [
    "Dans ce cas, un sous-ensemble de lignes et colonnes est sélectionné d'un coup, et utiliser simplement les crochets de sélection `[]` n’est pas suffisant.\n",
    "\n",
    "Les opérateurs `loc` et `.iloc` sont nécessaires juste avant les crochets de sélection. \n",
    "\n",
    "Quand on les utilise, la partie avant la virgule désigne la sélection de lignes, la partie après la virgule la sélection de colonnes."
   ]
  },
  {
   "cell_type": "markdown",
   "id": "5d37ebcf-f95d-453b-8863-3452cbe4a38a",
   "metadata": {},
   "source": [
    "Si vous utilisez les noms de colonnes, les noms de lignes, ou des expressions conditionnelles, utilisez l'opérateur `loc` avant les crochets de sélection.\n",
    "\n",
    "On peut utiliser un seul nom de colonnes/ligne, une liste de noms, une expression conditionnelle ou un symbole \"deux-points\" `:`. Un `:` signifie qu'on sélectionne toutes les lignes ou colonnes."
   ]
  },
  {
   "cell_type": "markdown",
   "id": "836a2ddd-a016-4ddb-856a-bab1759a486f",
   "metadata": {},
   "source": [
    "---\n",
    "Je veux sélectionner les lignes 9 à 25, et les colonnes 2 à 5. (La numérotation commence à zéro)."
   ]
  },
  {
   "cell_type": "code",
   "execution_count": null,
   "id": "b6377e5a-261e-489a-a5ce-a0b02b84e707",
   "metadata": {},
   "outputs": [],
   "source": [
    "titanic.iloc[9:25, 2:5]"
   ]
  },
  {
   "cell_type": "markdown",
   "id": "68c354fc-3cc1-4e19-8a6a-7e24db1a4a04",
   "metadata": {},
   "source": [
    "À nouveau, je veux sélectionner un sous-ensemble de lignes et colonnes d'un coup d'un seul, et l'usage direct des crochets de sélection est insuffisant. Comme je m'intéresse aux lignes et colonnes en fonction de leur position (leur index), je vais utiliser l'opérateur `iloc` avant mes crochets de sélection.\n",
    "\n",
    "Quand je sélectionne des lignes et colonnes avec `loc` ou `iloc`, je peux réassigner des valeurs dans ma `DataFrame`.\n",
    "Par exemple, pour assigner le nom \"anonymous\" aux trois premiers éléments de la 3ème colonne :"
   ]
  },
  {
   "cell_type": "code",
   "execution_count": null,
   "id": "af6b655c-5f50-4cbc-904b-106c68424da4",
   "metadata": {},
   "outputs": [],
   "source": [
    "titanic.iloc[0:3, 3] = \"anonymous\""
   ]
  },
  {
   "cell_type": "code",
   "execution_count": null,
   "id": "a5a5ed57-7a29-44e8-b72a-d6282d65ead1",
   "metadata": {},
   "outputs": [],
   "source": [
    "titanic.head()"
   ]
  },
  {
   "cell_type": "markdown",
   "id": "0fc60f22-ec48-4103-9af5-08f79bbcb16d",
   "metadata": {},
   "source": [
    "<div class='alert alert-success'>\n",
    "\n",
    "\n",
    "**À retenir**\n",
    "\n",
    "- Quand on sélection un sous-ensemble de données, on utilise des crochets `[]`.\n",
    "- À l'intérieur, on peut spécifier un simple nom de colonne, une liste de noms de colonnes, un slice de noms, une expression conditionnelle ou un `:`\n",
    "- Pour sélectionner à la fois des lignes et des colonnes, on utilise `loc` si on exprime la sélection avec des noms de lignes / colonnes\n",
    "- Pour sélectionner à la fois des lignes et des colonnes, on utilise `iloc` si on exprime la sélection avec des indices (numéro de position)\n",
    "- On peut réassigner des valeurs à la sélection basée sur `loc`/`iloc`\n",
    "\n",
    "</div>"
   ]
  },
  {
   "cell_type": "markdown",
   "id": "e068a456-5e5a-422b-82a0-b1e25d0ca3dc",
   "metadata": {},
   "source": [
    "## Comment faire des graphes en Pandas"
   ]
  },
  {
   "cell_type": "code",
   "execution_count": null,
   "id": "07dcce9e-a1a3-405a-aa1c-7558e62f3297",
   "metadata": {},
   "outputs": [],
   "source": [
    "import matplotlib.pyplot as plt"
   ]
  },
  {
   "cell_type": "code",
   "execution_count": null,
   "id": "77b58551-5ecf-4fa5-a9de-5ad0755b42c4",
   "metadata": {},
   "outputs": [],
   "source": [
    "# téléchargement d'un fichier CSV\n",
    "!curl https://raw.githubusercontent.com/pandas-dev/pandas/main/doc/data/air_quality_no2.csv > data/air_quality_no2.csv"
   ]
  },
  {
   "cell_type": "code",
   "execution_count": null,
   "id": "d519c8a6-4e2e-4a02-93b9-38ad9f86a10a",
   "metadata": {},
   "outputs": [],
   "source": [
    "air_quality = pd.read_csv(\"data/air_quality_no2.csv\", index_col=0, parse_dates=True)\n",
    "\n",
    "air_quality.head()"
   ]
  },
  {
   "cell_type": "markdown",
   "id": "74510b97-e3fd-45d2-a227-a74874e159d1",
   "metadata": {},
   "source": [
    "<div class='alert alert-info'>\n",
    "\n",
    "Ici on a utilisé les paramètres `index_col` et `parse_dates` de la fonction `read_csv()` pour définir que la première colonne (index 0) du fichier serait notre colonne index de la `DataFrame` à créer, et de convertir son contenu en objets `datetime`.\n",
    "    \n",
    "</div>\n",
    "\n",
    "![](img/04_plot_overview.svg)"
   ]
  },
  {
   "cell_type": "markdown",
   "id": "89c008e7-1ce4-4272-8f54-f5b80c5b3014",
   "metadata": {},
   "source": [
    "Je veux faire une rapide évaluation visuelle de mes données."
   ]
  },
  {
   "cell_type": "code",
   "execution_count": null,
   "id": "3560a82c-df7c-47f1-aa6d-6d741cc79ccd",
   "metadata": {},
   "outputs": [],
   "source": [
    "air_quality.plot();"
   ]
  },
  {
   "cell_type": "markdown",
   "id": "2bcb023f-a505-4ea2-aed1-1bad7ca0d32d",
   "metadata": {},
   "source": [
    "Sur une `DataFrame`, `pandas` crée par défaut une graphe \"ligne\" pour chaque colonne de valeurs numériques."
   ]
  },
  {
   "cell_type": "markdown",
   "id": "60108c6d-a177-4b7e-b72d-f78b5b3f5f14",
   "metadata": {},
   "source": [
    "Je ne veux tracer que la colonne correspondant aux données parisiennes."
   ]
  },
  {
   "cell_type": "code",
   "execution_count": null,
   "id": "5789adcb-3fb9-4877-921e-9f39bf890281",
   "metadata": {},
   "outputs": [],
   "source": [
    "air_quality[\"station_paris\"].plot();"
   ]
  },
  {
   "cell_type": "markdown",
   "id": "aecc3104-24bf-4b76-9af3-712a67579614",
   "metadata": {},
   "source": [
    "Pour tracer une colonne spécifique, on utilise la sélection comme d'habitude, enchaînée avec la méthode `plot()`. On peut en déduire que la méthode `plot()` fonctionne aussi bien sur les `Series` que sur les `DataFrames`."
   ]
  },
  {
   "cell_type": "code",
   "execution_count": null,
   "id": "c8a0adf6-e724-4476-b9ef-d9bec59a13a7",
   "metadata": {},
   "outputs": [],
   "source": [
    "air_quality.plot.scatter(x=\"station_london\", y=\"station_paris\", alpha=0.5);"
   ]
  },
  {
   "cell_type": "markdown",
   "id": "7deaad3a-017a-4a0a-806b-d8177e686c5c",
   "metadata": {},
   "source": [
    "En plus du traçage de ligne part défaut (`plot()`), il y a un certain nombre de fonctions de tracer alternatives. Utilisons un peu de Python pour extraire une liste de ces méthodes :"
   ]
  },
  {
   "cell_type": "code",
   "execution_count": null,
   "id": "55f54c67-f3af-4ddf-a393-87f36bec3fb1",
   "metadata": {},
   "outputs": [],
   "source": [
    "[\n",
    "    method_name\n",
    "    for method_name in dir(air_quality.plot)\n",
    "    if not method_name.startswith(\"_\")\n",
    "]"
   ]
  },
  {
   "cell_type": "markdown",
   "id": "86aea5e3-4b14-4eb5-85b4-80ec8b4f60d3",
   "metadata": {},
   "source": [
    "<div class='alert alert-info'>\n",
    "\n",
    "Dans la plupart des environnments de développement, et dans les notebook Jupyter, utilisez la touche TAB de votre clavier après un nom d'objet pour obtenir une liste des méthodes accessibles. Par exemple `air_quality.plot.` + `⌨️ TAB`\n",
    "\n",
    "</div>"
   ]
  },
  {
   "cell_type": "code",
   "execution_count": null,
   "id": "172aa88f-4340-4075-9dfc-229e7aff99e7",
   "metadata": {},
   "outputs": [],
   "source": [
    "air_quality.plot.box();"
   ]
  },
  {
   "cell_type": "markdown",
   "id": "c530a986-e198-45b8-a08e-f355fbc2a8e9",
   "metadata": {},
   "source": [
    "---\n",
    "Je veux chaque colonne dans un sous-graphe distinct."
   ]
  },
  {
   "cell_type": "code",
   "execution_count": null,
   "id": "44af2869-18c5-4710-8ff2-e06e66efe1b7",
   "metadata": {},
   "outputs": [],
   "source": [
    "axs = air_quality.plot.area(figsize=(12, 4), subplots=True)"
   ]
  },
  {
   "cell_type": "markdown",
   "id": "670ea3e9-b0d2-48e1-bc48-ba712e824689",
   "metadata": {},
   "source": [
    "Un subplot distinct pour chaque colonne est obtenu en passant l'argument `subplots=True` aux fonctions `plot()`."
   ]
  },
  {
   "cell_type": "markdown",
   "id": "54912269-1496-430f-b018-b24dbdb3496b",
   "metadata": {},
   "source": [
    "---\n",
    "Je veux personnaliser encore plus le graphe, y ajouter des éléments, ou sauvegarder l'image créée."
   ]
  },
  {
   "cell_type": "code",
   "execution_count": null,
   "id": "57883a9f-8f3b-4280-96d9-e8162b325f01",
   "metadata": {},
   "outputs": [],
   "source": [
    "fig, ax = plt.subplots(figsize=(12, 4))\n",
    "air_quality.plot.area(ax=ax)\n",
    "ax.set_ylabel(\"NO$_2$ concentration\")\n",
    "fig.savefig(\"export/no2_concentrations.png\")"
   ]
  },
  {
   "cell_type": "markdown",
   "id": "4dcb9e4a-9bb9-4cd4-a7cf-cf9242ea3b3f",
   "metadata": {},
   "source": [
    "Chacun des objets plot créés par `pandas` est un objet `matplotlib`. `Matplotlib` offre énormement d'options pour personnaliser les graphes. Ce lien direct de `pandas` à `matplotlib` vous permet de bénéficier de toute la puissance de `matplotlib`. \n",
    "\n",
    "Regardons plus en détail l’exemple précédent.\n"
   ]
  },
  {
   "cell_type": "code",
   "execution_count": null,
   "id": "fe012046-f3ea-491c-b066-e5f4de898026",
   "metadata": {},
   "outputs": [],
   "source": [
    "fig, ax = plt.subplots(figsize=(12, 4))  # On crée une figure et un objet Axes matplotlib \n",
    "air_quality.plot.area(ax=ax)  # On utilise pandas pour tracer le graphe `area` sur l'objet Axes créé (appelé ax)\n",
    "ax.set_ylabel(\"NO$_2$ concentration\")  # On personnalise comme on veut l'objet ax avec ses méthodes\n",
    "fig.savefig(\"export/no2_concentrations.png\")  # On sauvegarde la figure finale avec la méthode de l'objet Figure (ici appelé fig)"
   ]
  },
  {
   "cell_type": "markdown",
   "id": "282e4f8b-c86a-4aaf-a13c-19237f1f4140",
   "metadata": {},
   "source": [
    "<div class=\"alert alert-success\">\n",
    "\n",
    "**À retenir**\n",
    "- Les méthodes `.plot.*` fonctionnent sur les Series **et** sur les DataFrames\n",
    "- Par défaut, chaque colonne est tracée comme une élément du graphe (une ligne, une boîte à moustaches… selon le type de fonction plot.*)\n",
    "- Tous les graphes faits par pandas sont des objets **Matplotlib**.\n",
    "\n",
    "</div>"
   ]
  },
  {
   "cell_type": "markdown",
   "id": "686de001-13f2-4cba-bba7-7cdcbf4b36e5",
   "metadata": {},
   "source": [
    "## Comment créer de nouvelles colonnes dérivées des colonnes existantes "
   ]
  },
  {
   "cell_type": "markdown",
   "id": "fc0580a7-a8f7-49cf-8cd1-0ac5ca41f094",
   "metadata": {},
   "source": [
    "![](img/05_newcolumn_1.svg)"
   ]
  },
  {
   "cell_type": "code",
   "execution_count": null,
   "id": "e337bf00-d70d-4f5d-b97b-da95ee41d487",
   "metadata": {},
   "outputs": [],
   "source": [
    "air_quality = pd.read_csv(\"data/air_quality_no2.csv\", index_col=0, parse_dates=True)\n",
    "\n",
    "air_quality.head()"
   ]
  },
  {
   "cell_type": "markdown",
   "id": "a52196f6-ead7-427c-a981-89be44f6a0a7",
   "metadata": {},
   "source": [
    "Je veux exprimer la concentration de $NO_2$ de la station de Londre en $mg/m^3$\n",
    "\n",
    "*En présumant une température de 25°C et une pression de 1013 hPa, le facteur de conversion est de 1.882*\n"
   ]
  },
  {
   "cell_type": "code",
   "execution_count": null,
   "id": "87713e7e-6547-469a-8dbb-908255faaa58",
   "metadata": {},
   "outputs": [],
   "source": [
    "air_quality[\"london_mg_per_cubic\"] = (\n",
    "    air_quality[\"station_london\"] * 1.882\n",
    ")  # création d’une nouvelle colonne à partir d'une autre\n",
    "air_quality.head()"
   ]
  },
  {
   "cell_type": "markdown",
   "id": "97b1b82c-0f6c-4f27-9b25-28fe89529e05",
   "metadata": {},
   "source": [
    "<div class='alert alert-info'>\n",
    "\n",
    "Le calcul des valeurs est fait ligne à ligne. Cela signifie que chaque valeur dans la colonne \"station_london\" est multipliée par 1.882.   \n",
    "Pas besoin de faire une boucle sur la colonne pour itérer sur chaque ligne.  \n",
    "Si vous connaissez le module `numpy`, c'est le même principe que la mulplication d'un vecteur par un scalaire. \n",
    "\n",
    "\n",
    "</div>"
   ]
  },
  {
   "cell_type": "markdown",
   "id": "758f3cfc-4deb-400b-b57c-d350a030a2e7",
   "metadata": {},
   "source": [
    "![](img/05_newcolumn_2.svg)"
   ]
  },
  {
   "cell_type": "markdown",
   "id": "b17cda81-a0cb-47d4-b7c4-eee53b2d4e47",
   "metadata": {},
   "source": [
    "---\n",
    "Je veux vérifier le ratio des valeurs de Paris divisées par les valeurs d'Anvers, et conserver le résultat dans une nouvelle colonne."
   ]
  },
  {
   "cell_type": "code",
   "execution_count": null,
   "id": "44803528-186a-4cec-a5db-4d7c47daf5b8",
   "metadata": {},
   "outputs": [],
   "source": [
    "air_quality[\"ratio_paris_antwerp\"] = (\n",
    "    air_quality[\"station_paris\"] / air_quality[\"station_antwerp\"]\n",
    ")\n",
    "\n",
    "\n",
    "air_quality.head()"
   ]
  },
  {
   "cell_type": "markdown",
   "id": "3b203cf3-1841-41e1-8338-df38a53d5095",
   "metadata": {},
   "source": [
    "À nouveau, le calcul se fait ligne à ligne.\n",
    "\n",
    "Toutes les opérations arithmétiques (+, - , \\*, /, …) ou logiques (<, >, ==, …) se font ligne à ligne.\n",
    "\n",
    "Si vous voulez appliquer une fonction plus complexe, vous pouvez utiliser la méthode `.apply()`.\n",
    "\n",
    "\n",
    "---\n",
    "Je veux renommer les colonnes en utilisant les identifiants des stations en vigueur sur openAQ\n"
   ]
  },
  {
   "cell_type": "code",
   "execution_count": null,
   "id": "1bc4b293-0b8d-4aaf-88df-3d54cadf4232",
   "metadata": {},
   "outputs": [],
   "source": [
    "air_quality_renamed = air_quality.rename(\n",
    "    columns={\n",
    "        \"station_antwerp\": \"BETR801\",\n",
    "        \"station_paris\": \"FR04014\",\n",
    "        \"station_london\": \"London Westminster\",\n",
    "    }\n",
    ")"
   ]
  },
  {
   "cell_type": "code",
   "execution_count": null,
   "id": "33727844-9cc8-454b-b1dc-adee98c741f1",
   "metadata": {},
   "outputs": [],
   "source": [
    "air_quality_renamed.head()"
   ]
  },
  {
   "cell_type": "markdown",
   "id": "752922e4-fb2f-469b-9880-88c331491206",
   "metadata": {},
   "source": [
    "la méthode `rename()` peut être utilisée pour les noms des lignes ou des colonnes. Passez au paramètre `columns` ou `rows` un dictionnaire avec comme clé les noms actuels et comme valeurs correspondantes les nouveaux noms à utiliser.\n",
    "    \n",
    "Le mapping n'est pas limité aux noms établis, on peut utiliser une fonction qui renvoie un string également, par exemple, pour convertir les noms de colonnes en minuscule, on peut passer la méthode de string `str.lower`. Comme c'est la fonction elle-même qui est attendue, et pas son exécution, on passe le nom de la méthode seulement, sans parenthèses."
   ]
  },
  {
   "cell_type": "code",
   "execution_count": null,
   "id": "bc43f97d-031a-4f03-8c31-cee8c6e68309",
   "metadata": {},
   "outputs": [],
   "source": [
    "air_quality_renamed = air_quality_renamed.rename(columns=str.lower)\n",
    "\n",
    "air_quality_renamed.head()"
   ]
  },
  {
   "cell_type": "markdown",
   "id": "2a9aa78c-e153-4ab7-a733-0b8ba1d09f50",
   "metadata": {},
   "source": [
    "<div class='alert alert-success'>\n",
    "\n",
    "**À retenir**\n",
    "- on crée une nouvelle colonne en assignant le résultat d'une opération à un nouveau nom de colonne passé entre les crochets `[]`, comme pour assigner une nouvelle paire de clés et valeur dans un dictionnaire python\n",
    "- les calculs sont faits ligne à ligne, pas besoin de faire une boucle sur les lignes\n",
    "- la méthode `rename` combinée à un dictionnaire ou une fonction permet de renommer les lignes ou colonnes.\n",
    "\n",
    "</div>"
   ]
  },
  {
   "cell_type": "markdown",
   "id": "65e78325-5bb0-4363-8f0c-ac023dbad96b",
   "metadata": {},
   "source": [
    "## Comment calculer des statistiques sur mes données \n",
    "On recharge les données pour cette section avec notre csv titanic"
   ]
  },
  {
   "cell_type": "code",
   "execution_count": null,
   "id": "3a47d17a-35eb-47f6-b95d-2c58e59c3008",
   "metadata": {},
   "outputs": [],
   "source": [
    "# recréons notre DataFrame titanic à partir du csv\n",
    "titanic = pd.read_csv(\"data/titanic.csv\")\n",
    "\n",
    "titanic.head()"
   ]
  },
  {
   "cell_type": "markdown",
   "id": "d31bb0b5-360d-4255-94f0-621685fe639e",
   "metadata": {},
   "source": [
    "### stats aggrégées\n",
    "\n",
    "![](img/06_aggregate.svg)\n",
    "\n",
    "Quel est l'âge moyen des passagers du Titanic ?\n"
   ]
  },
  {
   "cell_type": "code",
   "execution_count": null,
   "id": "afc88334-50db-4a5f-a653-c6a2430da816",
   "metadata": {},
   "outputs": [],
   "source": [
    "titanic[\"Age\"].mean()"
   ]
  },
  {
   "cell_type": "markdown",
   "id": "9dab75f2-cfd8-4845-98a6-db9804ba30b6",
   "metadata": {},
   "source": [
    "Différentes statistiques sont disponibles et peuvent être appliquées aux colonnes contenant des valeurs numériques.\n",
    "Ces opérations ignorent les valeurs manquantes et travaillent sur l'ensemble des lignes non-vides en général.\n"
   ]
  },
  {
   "cell_type": "markdown",
   "id": "591e9a9c-09ac-480b-bbe3-d28f8b4939a9",
   "metadata": {},
   "source": [
    "![](img/06_reduction.svg)"
   ]
  },
  {
   "cell_type": "markdown",
   "id": "464d0111-dad9-4cb9-a7e5-7c71d5f12922",
   "metadata": {},
   "source": [
    "---\n",
    "Quel sont l’âge médian et le tarif médian payé par les passagers ?"
   ]
  },
  {
   "cell_type": "code",
   "execution_count": null,
   "id": "06d74570-fa2f-45ea-9d54-45557d3b5a2a",
   "metadata": {},
   "outputs": [],
   "source": [
    "titanic[[\"Age\", \"Fare\"]].median()"
   ]
  },
  {
   "cell_type": "markdown",
   "id": "b1481bc8-e848-4ebf-97b6-6e749f0e0bd9",
   "metadata": {},
   "source": [
    "La méthode statistique appliquée à plusieurs colonnes comme ici est calculée pour chaque colonne numérique.\n",
    "\n",
    "Vous vous rappelez la méthode `describe()` ?"
   ]
  },
  {
   "cell_type": "code",
   "execution_count": null,
   "id": "d3ef1970-365b-4e2b-b783-4223c2c3c77b",
   "metadata": {},
   "outputs": [],
   "source": [
    "titanic[[\"Age\", \"Fare\"]].describe()"
   ]
  },
  {
   "cell_type": "markdown",
   "id": "7758ed1a-4597-4efa-b73f-f72301eb9f9a",
   "metadata": {},
   "source": [
    "À la place de ces statistiques prédéfinies, vous pouvez spécifier les combinaisons de statistiques aggrégées que vous voulez pour chaque colonne avec la méthode `.agg()`."
   ]
  },
  {
   "cell_type": "code",
   "execution_count": null,
   "id": "e0bb2f94-6c7e-4e42-9a71-3f24af9ef353",
   "metadata": {},
   "outputs": [],
   "source": [
    "titanic.agg(\n",
    "    {\n",
    "        \"Age\": [\"min\", \"max\", \"median\", \"skew\"],\n",
    "        \"Fare\": [\"min\", \"max\", \"median\", \"mean\"],\n",
    "    }\n",
    ")"
   ]
  },
  {
   "cell_type": "markdown",
   "id": "2129b9bf-1bb2-4938-8ad0-6d2df6bcfa41",
   "metadata": {},
   "source": [
    "## Statistiques aggrégées groupées par catégorie\n",
    "\n",
    "![](img/06_groupby.svg)\n",
    "\n",
    "❓ Quel est l’âge moyen passagers, en regroupant les hommes et les femmes ?"
   ]
  },
  {
   "cell_type": "code",
   "execution_count": null,
   "id": "0b3b7775-d84c-4a4d-a9a1-820495d0dbab",
   "metadata": {},
   "outputs": [],
   "source": [
    "titanic[[\"Sex\", \"Age\"]].groupby(\"Sex\").mean()"
   ]
  },
  {
   "cell_type": "markdown",
   "id": "508cc6aa-4a32-4238-9fbe-4ad612ef065a",
   "metadata": {},
   "source": [
    "Comme ce qui nous intéresse est l’âge moyen par sexe, une sous-sélection sur ces deux colonnes est faite d'abord, avec `titanic[[\"Sex\", \"Age\"]]`. Ensuite, la méthode `groupby()` est appliquée en indiquant la colonne `\"Sex\"` pour faire un groupe par catégorie. La moyenne des colonnes restantes (ici l'âge) est calculée et renvoyée dans une DataFrame.\n",
    "\n",
    "Calculez une statistique donnée sur chaque catégorie présente dans une colonne (par exemple H/F dans une colonne \"Sexe\") est une pratique courante. La méthode `groupby` est là pour ça. Plus généralement, c’est un exemple du schéma classique \"diviser / appliquer / combiner\" :\n",
    "\n",
    "- diviser les données dans des groupes\n",
    "- appliquer une fonction à chaque groupe indépendamment\n",
    "- combiner les résultats dans une structure de données\n",
    "\n",
    "Les étapes appliquer et combiner sont ici faites automatiquement par pandas.\n",
    "\n",
    "Dans l'exemple précédent, nous avons explicitement sélectionné les deux colonnes en premier lieu. Sans ça, la méthode `mean()` aurait calculé la moyenne sur chaque colonne contenant des données numériques."
   ]
  },
  {
   "cell_type": "code",
   "execution_count": null,
   "id": "8f516028-d1e2-448b-8aa5-5cfa19094f33",
   "metadata": {},
   "outputs": [],
   "source": [
    "titanic.groupby(\"Sex\").mean()"
   ]
  },
  {
   "cell_type": "markdown",
   "id": "221fd981-48fe-4dd5-8be7-d46dcef7b838",
   "metadata": {},
   "source": [
    "Ça n’a pas beaucoup de sens de calculer la moyenne des classes, et encore moins des numéros de passager. Si l’âge est la seule colonne dont la moyenne nous intéresse, on peut également la sélectionner après avoir fait le `groupby('Sex')` : "
   ]
  },
  {
   "cell_type": "code",
   "execution_count": null,
   "id": "0e220c6a-cf82-424c-8fd8-47af02b41428",
   "metadata": {},
   "outputs": [],
   "source": [
    "titanic.groupby(\"Sex\")[[\"Age\"]].mean()"
   ]
  },
  {
   "cell_type": "markdown",
   "id": "2e4a2ba0-6c4a-4482-95f2-bef3fcb06813",
   "metadata": {},
   "source": [
    "![](img/06_groupby_select_detail.svg)"
   ]
  },
  {
   "cell_type": "markdown",
   "id": "4858b8a5-218a-4ecd-9e4f-5d44b1da6a88",
   "metadata": {},
   "source": [
    "<div class='alert alert-warning'>\n",
    "\n",
    "    \n",
    "La colonne **Pclass** contient des nombres, mais qui représentent en réalité 3 catégories, qui s'appellent 1, 2 et 3. Calculer des statistiques avec ces nombres n’a pas beaucoup de sens.\n",
    "\n",
    "Du coup, pandas dispose d'un type de donnée **Categorical** pour gérer ce type de données. Plus d'information sur ce point dans [la documentation du type Categorical](https://pandas.pydata.org/docs/user_guide/categorical.html#categorical).\n",
    "\n",
    "</div>\n",
    "\n",
    "---\n",
    "❓ Quel le ticket moyen payé par chaque combinaison de sexe et classe ?"
   ]
  },
  {
   "cell_type": "code",
   "execution_count": null,
   "id": "32783f9b-6002-404c-990d-add92ba8adfb",
   "metadata": {},
   "outputs": [],
   "source": [
    "titanic.groupby([\"Sex\", \"Pclass\"])[[\"Fare\"]].mean()"
   ]
  },
  {
   "cell_type": "markdown",
   "id": "2cacf940-49b4-4925-8bca-6cc76c75e39c",
   "metadata": {},
   "source": [
    "Le groupement peut se faire sur plusieurs colonnes d'un coup. Donnez les noms des colonnes voulues dans une liste à la méthode `groupby()`.\n",
    "\n",
    "### Compter le nombre d’enregistrements par catégorie\n",
    "\n",
    "![](img/06_valuecounts.svg)"
   ]
  },
  {
   "cell_type": "markdown",
   "id": "bfe72a7c-d78d-42a2-879a-0a8b6587682f",
   "metadata": {},
   "source": [
    "Quel est le nombre de passager pour chaque classe de cabines ?"
   ]
  },
  {
   "cell_type": "code",
   "execution_count": null,
   "id": "650c61d6-c7bd-4ee8-9d9a-3f8cf4d64edc",
   "metadata": {},
   "outputs": [],
   "source": [
    "titanic[\"Pclass\"].value_counts()"
   ]
  },
  {
   "cell_type": "markdown",
   "id": "bd3cf01c-5a7b-4768-aa98-32f2f43c9079",
   "metadata": {},
   "source": [
    "La méthode `value_counts()` dénombre les enregistrements de chaque catégorie dans une colonne.\n",
    "\n",
    "Cette fonction est un raccourci, en réalité elle opère un `groupby` puis compte le nombre de lignes dans chaque groupe.\n",
    "\n",
    "Ça revient à :"
   ]
  },
  {
   "cell_type": "code",
   "execution_count": null,
   "id": "a3f74e3c-3240-47b7-9603-a50b88c1ef32",
   "metadata": {},
   "outputs": [],
   "source": [
    "titanic.groupby(\"Pclass\")[\"Pclass\"].count()"
   ]
  },
  {
   "cell_type": "markdown",
   "id": "e1b87d62-95c5-438e-8a11-f46ef8118eb3",
   "metadata": {},
   "source": [
    "<div class='alert alert-info'>\n",
    "\n",
    "les méthodes `size()` et `count()` peuvent toutes les deux être utilisées sur un `groupby()`. `size()` compte toutes les lignes, y compris celles où les valeurs sont manquantes, tandis que `count()` ne compte que les valeurs présentes. Avec la méthode `value_counts()`, utilisez l'argument `dropna` pour inclure ou pas les valeurs manquantes dans le compte.\n",
    "</div>\n",
    "\n",
    "<div class='alert alert-success'>\n",
    "\n",
    "**À retenir**\n",
    "        \n",
    "\n",
    "- Les statistiques agrégées peuvent être calculées sur des colonnes entières.\n",
    "- **groupby** vous permet d'appliquer le schéma \"diviser / appliquer / combiner\"\n",
    "- **value_counts** est un raccouci pratique pour dénombrer chaque catégorie d'une variable\n",
    "\n",
    "    \n",
    "</div>"
   ]
  },
  {
   "cell_type": "markdown",
   "id": "e2e3d8a8-aa79-4bcd-8b16-793c366f2713",
   "metadata": {},
   "source": [
    "## Comment modifier l'agencement des tables\n",
    "\n",
    "### Données pour cette section"
   ]
  },
  {
   "cell_type": "code",
   "execution_count": null,
   "id": "4b56eede-330c-45a7-aaad-0709f4bec961",
   "metadata": {},
   "outputs": [],
   "source": [
    "titanic = pd.read_csv(\"data/titanic.csv\")"
   ]
  },
  {
   "cell_type": "code",
   "execution_count": null,
   "id": "6e356011-1885-4801-84aa-4dccce5a5e72",
   "metadata": {},
   "outputs": [],
   "source": [
    "# téléchargement d'un fichier CSV\n",
    "!curl https://raw.githubusercontent.com/pandas-dev/pandas/main/doc/data/air_quality_long.csv > data/air_quality_long.csv"
   ]
  },
  {
   "cell_type": "code",
   "execution_count": null,
   "id": "76823c74-190e-4803-9748-bd14192df773",
   "metadata": {},
   "outputs": [],
   "source": [
    "air_quality = pd.read_csv(\n",
    "    \"data/air_quality_long.csv\", index_col=\"date.utc\", parse_dates=True\n",
    ")"
   ]
  },
  {
   "cell_type": "code",
   "execution_count": null,
   "id": "d2e760a8-f669-4c3f-9d98-f68572bcf4f7",
   "metadata": {},
   "outputs": [],
   "source": [
    "air_quality.head()"
   ]
  },
  {
   "cell_type": "markdown",
   "id": "4dbbbd92-6990-4b81-85ec-258563e121a5",
   "metadata": {},
   "source": [
    "### Classer les lignes de la `DataFrame`\n",
    "\n",
    "Je veux ordonner les lignes selon l'âge des passagers."
   ]
  },
  {
   "cell_type": "code",
   "execution_count": null,
   "id": "097dbb26-8948-445b-b61e-bc6b6192a6ad",
   "metadata": {},
   "outputs": [],
   "source": [
    "titanic.sort_values(by=\"Age\").head(10)"
   ]
  },
  {
   "cell_type": "markdown",
   "id": "6706b440-103b-418f-87e0-4d0d2ab3b499",
   "metadata": {},
   "source": [
    "---\n",
    "Je veux classer les données par classe de cabine et âge en ordre décroissant."
   ]
  },
  {
   "cell_type": "code",
   "execution_count": null,
   "id": "d7be69af-f4b4-40ce-9649-d2be318aa22e",
   "metadata": {},
   "outputs": [],
   "source": [
    "titanic.sort_values(by=[\"Pclass\", \"Age\"], ascending=False).head()"
   ]
  },
  {
   "cell_type": "markdown",
   "id": "39883e68-9e01-4764-97e9-f02c6613e4af",
   "metadata": {},
   "source": [
    "Avec `.sort_values()`, les lignes de la table sont réordonnées selon les colonnes passées dans l'argument `by`. L'index des lignes n'est pas modifié, ce qui permet de retrouver l'ordre originel.\n",
    "\n",
    "### D'une table longue à une table large\n",
    "\n",
    "Nous allons utiliser un petit échantillon du jeu de données sur la qualité de l'air. On va réduire nos données et sélectionner seulement les 2 premières mesures de chaque lieu (càd le `head(2)` de chaque groupe). On va appeler ça le `no2_subset`."
   ]
  },
  {
   "cell_type": "code",
   "execution_count": null,
   "id": "c2602611-ad5b-4c4d-bf0c-170d2e7f5d91",
   "metadata": {},
   "outputs": [],
   "source": [
    "# on filtre sur le no2 uniquement\n",
    "\n",
    "no2 = air_quality[air_quality[\"parameter\"] == \"no2\"]"
   ]
  },
  {
   "cell_type": "code",
   "execution_count": null,
   "id": "605e8fcd-605b-41dc-8e09-035a5be63a5d",
   "metadata": {},
   "outputs": [],
   "source": [
    "# on ne prend que deux lignes (head(2)) pour chaque lieu (grâce à groupby)\n",
    "\n",
    "no2_subset = no2.sort_index().groupby([\"location\"]).head(2)"
   ]
  },
  {
   "cell_type": "code",
   "execution_count": null,
   "id": "3414fcff-78e4-4cde-90a9-ac9c98aa085b",
   "metadata": {},
   "outputs": [],
   "source": [
    "no2_subset"
   ]
  },
  {
   "cell_type": "markdown",
   "id": "cf71a453-b0f6-4814-86fe-8f9719ae0113",
   "metadata": {},
   "source": [
    "![](img/07_pivot.svg)\n",
    "\n",
    "Je veux les valeurs des 3 stations en tant que colonnes distinctes."
   ]
  },
  {
   "cell_type": "code",
   "execution_count": null,
   "id": "5cc8f240-23e8-4be1-86d4-c6d264448028",
   "metadata": {},
   "outputs": [],
   "source": [
    "no2_subset.pivot(columns=\"location\", values=\"value\")"
   ]
  },
  {
   "cell_type": "markdown",
   "id": "77653cda-3698-4965-818c-2c38aea2af21",
   "metadata": {},
   "source": [
    "La fonction `pivot()` change juste la forme de nos données : il suffit d'une seule valeur pour chaque combinaison d'index et de colonne.\n",
    "\n",
    "Comme on peut tracer plusieurs colonnes, comme vu précédemment, la conversion d'une table longue à une table large permer de tracer différentes séries temporelles d'un coup."
   ]
  },
  {
   "cell_type": "code",
   "execution_count": null,
   "id": "5a1070ff-cb18-4f28-8714-74bb0c6b1afa",
   "metadata": {},
   "outputs": [],
   "source": [
    "no2.head()"
   ]
  },
  {
   "cell_type": "code",
   "execution_count": null,
   "id": "211b2055-36f2-4111-895a-63c31a123635",
   "metadata": {},
   "outputs": [],
   "source": [
    "no2.pivot(columns=\"location\", values=\"value\").plot();"
   ]
  },
  {
   "cell_type": "markdown",
   "id": "38c2c087-0cff-45d7-9e50-412c65b7b1dd",
   "metadata": {},
   "source": [
    "<div class='alert alert-info'>\n",
    "\n",
    "Si on ne précise pas de paramètre `index` au pivot, l'index existant (le nom des lignes, ici des dates/heures) est maintenu.\n",
    "\n",
    "</div>"
   ]
  },
  {
   "cell_type": "markdown",
   "id": "9de03f31-2473-489e-8f96-cb24fa05947f",
   "metadata": {},
   "source": [
    "### Pivoter la table\n",
    "\n",
    "![](img/07_pivot_table.svg)\n",
    "\n",
    "\n",
    "Je veux les concentrations de  $NO_2$ et $PM_{2.5}$ pour chaque station, sous la forme d'une table."
   ]
  },
  {
   "cell_type": "code",
   "execution_count": null,
   "id": "2e1d941e-af72-4c1a-9f8f-cee92abaff09",
   "metadata": {},
   "outputs": [],
   "source": [
    "air_quality.pivot_table(\n",
    "    values=\"value\", index=\"location\", columns=\"parameter\", aggfunc=\"mean\"\n",
    ")"
   ]
  },
  {
   "cell_type": "markdown",
   "id": "695ddefc-e213-4c44-b070-d6ab9c2e2906",
   "metadata": {},
   "source": [
    "Quand on fait un simple `pivot()`, les données sont simplement réarrangées. Quand plusieurs valeurs doivent être aggrégées (dans ce cas, des valeurs de différentes périodes de temps), on peut utiliser `pivot_table()`, en passant une fonction d'aggrégation (par exemple la moyenne, `mean`) pour préciser comment combiner les valeurs.\n",
    "\n",
    "Pivoter une table est un concept classique dans un tableur. Si on désire aussi avoir le résumé de chaque ligne et chaque colonne, on passe `margin=True`."
   ]
  },
  {
   "cell_type": "code",
   "execution_count": null,
   "id": "14a38928-a8cc-4e68-8c11-1534223efb5d",
   "metadata": {},
   "outputs": [],
   "source": [
    "air_quality.pivot_table(\n",
    "    values=\"value\",\n",
    "    index=\"location\",\n",
    "    columns=\"parameter\",\n",
    "    aggfunc=\"mean\",\n",
    "    margins=True,\n",
    ")"
   ]
  },
  {
   "cell_type": "markdown",
   "id": "04ab4ab3-b908-4a48-9bdf-407a06ff16ab",
   "metadata": {},
   "source": [
    "Au cas où vous vous le demandez, `pivot_table()` est bien sûr basée sur `groupby()`.\n",
    "\n",
    "Le meme résultat peut être obtenu en groupant par paramètre et par lieu.\n",
    "\n",
    "`air_quality.groupby([\"parameter\", \"location\"]).mean()`"
   ]
  },
  {
   "cell_type": "code",
   "execution_count": null,
   "id": "eddc861f-957f-4a67-8f74-39f6cdb48aa0",
   "metadata": {},
   "outputs": [],
   "source": [
    "air_quality.groupby([\"parameter\", \"location\"]).mean()"
   ]
  },
  {
   "cell_type": "markdown",
   "id": "ee930569-a10c-490c-a03f-996a7e681999",
   "metadata": {},
   "source": [
    "### D'une table large à une table longue\n",
    "\n",
    "On repart de notre table large créée dans la section précédente :"
   ]
  },
  {
   "cell_type": "code",
   "execution_count": null,
   "id": "fa0af2d4-9e2f-4e34-8a66-e55cf52bf823",
   "metadata": {},
   "outputs": [],
   "source": [
    "no2_pivoted = no2.pivot(columns=\"location\", values=\"value\").reset_index()\n",
    "\n",
    "no2_pivoted.head()"
   ]
  },
  {
   "cell_type": "markdown",
   "id": "a836a1d9-b426-4ae1-bccb-2a990b87d21d",
   "metadata": {},
   "source": [
    "![](img/07_melt.svg)"
   ]
  },
  {
   "cell_type": "markdown",
   "id": "31a9b1fa-eecf-4d59-a992-edbd16b4b21a",
   "metadata": {},
   "source": [
    "Je veux ramasser toutes mes mesures de $NO_2$ en une seule colonne (format long)."
   ]
  },
  {
   "cell_type": "code",
   "execution_count": null,
   "id": "9a29e98a-076d-4520-80d4-93f00b18db61",
   "metadata": {},
   "outputs": [],
   "source": [
    "no_2 = no2_pivoted.melt(id_vars=\"date.utc\")\n",
    "no_2.head()"
   ]
  },
  {
   "cell_type": "markdown",
   "id": "eb5a1cd5-99fb-4fa8-97ed-a6d2036b3743",
   "metadata": {},
   "source": [
    "La méthode `.melt()` sur une DataFrame converti la table du format large au format long. Les en-têtes de colonne deviennent les noms de variables dans une nouvelle colonne créé.\n",
    "\n",
    "Ci-dessus, on a fait al version courte : la méthode `melt()` va \"fondre\" toutes les colonnes non mentionnées dans l'argement `id_vars` en 2 colonnes : une colonne avec les noms des anciennes colonnes, et une colonne avec les valeurs elles-mêmes. Le nom de cette colonne de valeur est par défaut **value**.\n",
    "\n",
    "Ci-dessous, un appel un peu plus détaillé à la méthode `melt()` qui précise les noms de colonne voulus dans le résultat :"
   ]
  },
  {
   "cell_type": "code",
   "execution_count": null,
   "id": "805fbf87-ad1f-456d-8b7c-b5b7e5d5e4ad",
   "metadata": {},
   "outputs": [],
   "source": [
    "no_2 = no2_pivoted.melt(\n",
    "    id_vars=\"date.utc\",\n",
    "    value_vars=[\"BETR801\", \"FR04014\", \"London Westminster\"],\n",
    "    value_name=\"NO_2\",\n",
    "    var_name=\"id_location\",\n",
    ")\n",
    "\n",
    "no_2.head()"
   ]
  },
  {
   "cell_type": "markdown",
   "id": "01e3d6df-ce4a-482e-a5ba-09eb10d65eb0",
   "metadata": {},
   "source": [
    "Le résultat final est le même, mais défini plus en détail:\n",
    "\n",
    "- **value_vars** définit explicitement quelles colonnes fondre ensemble\n",
    "- **value_name** donne un nom de colonne personnalisé pour la colonne des valeurs, au lieu de **value** par défaut\n",
    "- **var_name** donne un nom de colonne personnalisé pour la colonne qui rassemble les anciens noms de colonnes. Sinon par défaut il prend le nom de l'index.\n",
    "\n",
    "En bref, **value_name** et **var_name** sont des noms aux choix pour les colonnes générées. Les colonnes à fondre sont définies par **id_vars** et **value_vars**."
   ]
  },
  {
   "cell_type": "markdown",
   "id": "02bbaf5d-536c-4917-8cb9-f623b43899e8",
   "metadata": {},
   "source": [
    "<div class='alert alert-success'>\n",
    "\n",
    "**À retenir**\n",
    "\n",
    "- Classer par une ou plusieurs colonnes est fait via **sort_values**\n",
    "- La fonction **pivot()** est une simple restructuration des données, **pivot_table** permet de faire des aggrégations\n",
    "- L'inverse du pivot (de long à large) est **melt** (de large vers long)\n",
    "\n",
    "\n",
    "</div>"
   ]
  },
  {
   "cell_type": "markdown",
   "id": "84b78e94-a358-47ed-89b8-ea0f41be84d5",
   "metadata": {},
   "source": [
    "## Comment combiner les données de plusieurs tables ?\n",
    "\n",
    "Données pour cette section :"
   ]
  },
  {
   "cell_type": "code",
   "execution_count": null,
   "id": "64b3159a-0ca7-4d0e-b165-c660f8cf614e",
   "metadata": {},
   "outputs": [],
   "source": [
    "# téléchargement d'un fichier CSV\n",
    "!curl https://raw.githubusercontent.com/pandas-dev/pandas/main/doc/data/air_quality_no2_long.csv > data/air_quality_no2_long.csv"
   ]
  },
  {
   "cell_type": "markdown",
   "id": "eefcc265-87a1-4866-9276-754705eca244",
   "metadata": {},
   "source": [
    "### Données Nitrate"
   ]
  },
  {
   "cell_type": "code",
   "execution_count": null,
   "id": "8581d59d-ebfa-4661-aedd-42b89e6b8dcf",
   "metadata": {},
   "outputs": [],
   "source": [
    "air_quality_no2 = pd.read_csv(\"data/air_quality_no2_long.csv\", parse_dates=True)\n",
    "air_quality_no2 = air_quality_no2[[\"date.utc\", \"location\", \"parameter\", \"value\"]] # sélection de colonnes\n",
    "\n",
    "air_quality_no2.head()"
   ]
  },
  {
   "cell_type": "markdown",
   "id": "92d9bd1c-d8a3-480f-9606-05bc1398df87",
   "metadata": {},
   "source": [
    "### Données particules\n",
    "\n"
   ]
  },
  {
   "cell_type": "code",
   "execution_count": null,
   "id": "d8136e57-a7d7-4f08-84fa-cac061580f73",
   "metadata": {},
   "outputs": [],
   "source": [
    "# téléchargement d'un fichier CSV\n",
    "!curl https://raw.githubusercontent.com/pandas-dev/pandas/main/doc/data/air_quality_pm25_long.csv > data/air_quality_pm25_long.csv"
   ]
  },
  {
   "cell_type": "code",
   "execution_count": null,
   "id": "bffb3802-8916-48e5-84cc-d56595a7d1e8",
   "metadata": {},
   "outputs": [],
   "source": [
    "air_quality_pm25 = pd.read_csv(\"data/air_quality_pm25_long.csv\", parse_dates=True)\n",
    "air_quality_pm25 = air_quality_pm25[[\"date.utc\", \"location\", \"parameter\", \"value\"]] # sélection de colonnes\n",
    "\n",
    "air_quality_pm25.head()"
   ]
  },
  {
   "cell_type": "markdown",
   "id": "07159e7b-1fc7-4bef-8932-b64929c9df04",
   "metadata": {},
   "source": [
    "### Concatenation d'objets `DataFrame`\n",
    "\n",
    "![](img/08_concat_row.svg)\n",
    "\n",
    "Je veux combiner les mesures de $NO_2$ et de $PM_25$, deux tables ayant une structure similaire, dans une seule table."
   ]
  },
  {
   "cell_type": "code",
   "execution_count": null,
   "id": "647ebb69-d069-4183-a506-67b79193ea89",
   "metadata": {},
   "outputs": [],
   "source": [
    "air_quality = pd.concat([air_quality_pm25, air_quality_no2], axis=0) # axis 0 : concaténation en vertical\n",
    "\n",
    "air_quality.head() "
   ]
  },
  {
   "cell_type": "markdown",
   "id": "821d008a-e275-4120-9cc5-999229b5c411",
   "metadata": {},
   "source": [
    "La fonction `concat()` concatène des tables sur un axe : en vertical (axis=0) ou à l'horizontale (axis=1).\n",
    "\n",
    "Par défaut, la concaténation est sur l'axe 0, c'est à dire en vertical. La concaténation verticale de deux tables ayant les mêmes entêtes de colonnes doit produire une table avec le même nombre de colonnes et le cumul des lignes des tables d'origine.\n",
    "\n",
    "On peut le vérifier en regardant les `shape` des tables d'origine et de la table issue de la concaténation."
   ]
  },
  {
   "cell_type": "code",
   "execution_count": null,
   "id": "c51b738e-9afa-4c17-9254-f8caa6c4c2a4",
   "metadata": {},
   "outputs": [],
   "source": [
    "print(\"Shape of the air_quality_pm25 table: \", air_quality_pm25.shape)\n",
    "\n",
    "print(\"Shape of the air_quality_no2 table: \", air_quality_no2.shape)\n",
    "\n",
    "print(\"Shape of the resulting air_quality table: \", air_quality.shape)"
   ]
  },
  {
   "cell_type": "markdown",
   "id": "118c5541-16eb-49d8-9626-cf7875115f69",
   "metadata": {},
   "source": [
    "😌 La table concaténée a bien 1110 + 2068 soit 3178 lignes."
   ]
  },
  {
   "cell_type": "markdown",
   "id": "301faf2e-2cbc-4fdb-bfc6-ab3261afcc09",
   "metadata": {},
   "source": [
    "<div class='alert alert-success'>\n",
    "\n",
    "Cet argument **axis** va apparaître dans plusieurs méthodes de pandas qui peuvent s'appliquer sur un axe. Une dataframe a deux axes :\n",
    "    \n",
    "- le premier, **axis=0**  est vertical\n",
    "- le second, **axis=1** est horizontal\n",
    "    \n",
    "</div>\n",
    "\n",
    "💡 Classer la table sur la colonne des dates / heures va bien montrer la combinaison des deux jeux de données $NO_2$ et $PM_25$ :\n"
   ]
  },
  {
   "cell_type": "code",
   "execution_count": null,
   "id": "8c809a07-ca04-41b7-9bea-dc562d454b13",
   "metadata": {},
   "outputs": [],
   "source": [
    "air_quality = air_quality.sort_values(\"date.utc\")\n",
    "air_quality.head()"
   ]
  },
  {
   "cell_type": "markdown",
   "id": "3f17b3ea-5bdc-4383-87bd-84075a0ed520",
   "metadata": {},
   "source": [
    "Dans cet exemple en particulier, la colonne **parameter** fournie dans les jeux de données nous permet d'identifier les tables d'origine. Ce n'est pas toujours le cas.\n",
    "\n",
    "La fonction `concat()` a une parade très pratique, avec l'argument `keys`, qui prend une liste de clés à ajouter à chaque ligne, selon sa table d'origine.\n",
    "\n",
    "Par exemple :"
   ]
  },
  {
   "cell_type": "code",
   "execution_count": null,
   "id": "24dd2858-8288-47d8-9ea5-76ddb7093c78",
   "metadata": {},
   "outputs": [],
   "source": [
    "air_quality_ = pd.concat([air_quality_pm25, air_quality_no2], keys=[\"PM25\", \"NO2\"])\n",
    "air_quality_.sample(10)"
   ]
  },
  {
   "cell_type": "markdown",
   "id": "aa23cb31-bc08-48e1-9ac8-5b378a32d346",
   "metadata": {},
   "source": [
    "<div class='alert alert-info'>\n",
    "\n",
    "La possibilité d'avoir plusieurs indices simultanément pour les lignes ou les colonnes n’a pas été mentionnée jusqu’ici, mais c'est une fonctionnalité avancée qui est hors de propos pour cette introduction.\n",
    "    \n",
    "Pour le moment, retenons simplement que la methode **reset_index()** peut être utilisée pour convertir tout niveau d'index en une colonne, par exemple :\n",
    "    \n",
    "    air_quality_.reset_index(level=0)\n",
    "\n",
    "</div>"
   ]
  },
  {
   "cell_type": "code",
   "execution_count": null,
   "id": "6d9c1187-4fca-427a-96cc-bdaf91127cf3",
   "metadata": {},
   "outputs": [],
   "source": [
    "air_quality_.reset_index(level=0)"
   ]
  },
  {
   "cell_type": "markdown",
   "id": "6181c9f6-3d5d-42f0-b5fd-3560e7860674",
   "metadata": {},
   "source": [
    "### Joindre des tables en utilisant un identifiant commun\n",
    "\n",
    "![](img/08_merge_left.svg)\n",
    "\n",
    "❓ Je veux ajouter les coordonnées des stations de mesure, fournies dans un fichier séparé, aux lignes correspondantes dans la table des mesures de qualité.\n"
   ]
  },
  {
   "cell_type": "code",
   "execution_count": null,
   "id": "dee37e67-f718-4c21-99a9-f20b053816ea",
   "metadata": {},
   "outputs": [],
   "source": [
    "# téléchargement d'un fichier CSV\n",
    "!curl https://raw.githubusercontent.com/pandas-dev/pandas/main/doc/data/air_quality_stations.csv  > data/air_quality_stations.csv"
   ]
  },
  {
   "cell_type": "code",
   "execution_count": null,
   "id": "dd1e1ae3-3ebe-4d27-8cbc-8fc866934e6f",
   "metadata": {},
   "outputs": [],
   "source": [
    "stations_coord = pd.read_csv(\"data/air_quality_stations.csv\")\n",
    "\n",
    "stations_coord"
   ]
  },
  {
   "cell_type": "markdown",
   "id": "793fde14-25c2-4bcb-b1b6-dda800738f0c",
   "metadata": {},
   "source": [
    "<div class='alert alert-info'>\n",
    "\n",
    "Les stations utilisées dans cet example (FR04014, BETR801 et London Westminster) sont juste 3 entrées parmi d'autres dans la table des métadonnées ci-dessus. Nous voulons seulement ajouter leur coordonnées dans la table contenant les mesures air_quality_table, sur chaque ligne correspondante.\n",
    "\n",
    "\n",
    "</div>"
   ]
  },
  {
   "cell_type": "code",
   "execution_count": null,
   "id": "4ed96b38-b1fe-424a-8c8a-7500e101f12a",
   "metadata": {},
   "outputs": [],
   "source": [
    "air_quality.head()"
   ]
  },
  {
   "cell_type": "code",
   "execution_count": null,
   "id": "4b56a4bc-48f4-47f3-ad65-191034a820ab",
   "metadata": {},
   "outputs": [],
   "source": [
    "air_quality = pd.merge(air_quality, stations_coord, how=\"left\", on=\"location\")\n",
    "\n",
    "air_quality.head()"
   ]
  },
  {
   "cell_type": "markdown",
   "id": "b610be20-89ee-44f3-b349-2307a602f8cc",
   "metadata": {},
   "source": [
    "En utilisant la fonction `merge()`, pour chaque ligne de la table air_quality, les coordonnées correspondantes sont ajoutées depuis la table des coordonnées. C'est grâce à la colonne **location** qui existe dans les deux tables et est utilisée comme clé pour combiner les données. \n",
    "\n",
    "Le paramètre **how='left'** fait que seules les stations présentes dans la table des mesures (celle de gauche dans notre jointure) finissent dans la table finale. Ces jointures sont similaires aux jointures qu'on peut faire sur des tables dans une base de données relationnelle (left, right, inner, outer).\n",
    "\n",
    "---\n",
    "❓ Je veux ajouter la description et le nom complet de chaque *parameter* (pm25, nO2) qui proviennent d'une autre table "
   ]
  },
  {
   "cell_type": "code",
   "execution_count": null,
   "id": "1d979e45-9ef4-4082-8c64-e55b834c5c87",
   "metadata": {},
   "outputs": [],
   "source": [
    "# téléchargement d'un fichier CSV\n",
    "!curl https://raw.githubusercontent.com/pandas-dev/pandas/main/doc/data/air_quality_parameters.csv  > data/air_quality_parameters.csv"
   ]
  },
  {
   "cell_type": "code",
   "execution_count": null,
   "id": "a4c8c448-8d87-4e37-a7b7-519d6387e2b1",
   "metadata": {},
   "outputs": [],
   "source": [
    "air_quality_parameters = pd.read_csv(\"data/air_quality_parameters.csv\")\n",
    "\n",
    "air_quality_parameters.head()"
   ]
  },
  {
   "cell_type": "code",
   "execution_count": null,
   "id": "a7f0aeef-c86d-40cb-8f90-080b313a9149",
   "metadata": {},
   "outputs": [],
   "source": [
    "air_quality = pd.merge(\n",
    "    air_quality, air_quality_parameters, how=\"left\", left_on=\"parameter\", right_on=\"id\"\n",
    ")\n",
    "\n",
    "air_quality.head()"
   ]
  },
  {
   "cell_type": "markdown",
   "id": "5a7ea34a-d669-48ff-a7c4-0b4f790e6760",
   "metadata": {},
   "source": [
    "Ici contrairement à l'exemple précédent, il n’y a pas de nom de colonne en commun. Cependant, la colonne **parameter** de la table `air_quality` et la colonne **id** dans la table `air_quality_parameters` contiennent en fait le nom du paramètre dans le même format. Les paramètres `left_on` et `right_on` dans la fonction `merge()` nous permettent d'expliciter comment faire le lien entre les deux tables pour la jointure."
   ]
  },
  {
   "cell_type": "markdown",
   "id": "3d3fcb3b-5d80-4927-a025-cf25f77a0a5e",
   "metadata": {},
   "source": [
    "<div class='alert alert-success'>\n",
    "\n",
    "\n",
    "**À retenir**\n",
    "\n",
    "- plusieurs tables peuvent être concaténées verticalement ou horizontalement avec la fonction **concat()**\n",
    "- Pour des opérations de jointures similaire à celles des bases de données, on utilise la fonction **merge()**\n",
    "\n",
    "\n",
    "</div>"
   ]
  },
  {
   "cell_type": "markdown",
   "id": "bbfc9bcf-080c-41cd-8c9c-2f3d35be45e9",
   "metadata": {},
   "source": [
    "## Comment manipuler des données temporelles facilement"
   ]
  },
  {
   "cell_type": "code",
   "execution_count": null,
   "id": "5d8df4ba-774a-46ac-8413-7179036e2eb7",
   "metadata": {},
   "outputs": [],
   "source": [
    "import matplotlib.pyplot as plt"
   ]
  },
  {
   "cell_type": "markdown",
   "id": "af67409a-2ab3-48ea-91a8-41d398f67860",
   "metadata": {},
   "source": [
    "Données utilisées dans cette sections (fichiers déjà téléchargés)"
   ]
  },
  {
   "cell_type": "code",
   "execution_count": null,
   "id": "97e0cfaf-43c4-4e67-8e0d-0ea4fb5abcfb",
   "metadata": {},
   "outputs": [],
   "source": [
    "air_quality = pd.read_csv(\"data/air_quality_no2_long.csv\")\n",
    "\n",
    "air_quality = air_quality.rename(columns={\"date.utc\": \"datetime\"})\n",
    "\n",
    "air_quality.head()"
   ]
  },
  {
   "cell_type": "code",
   "execution_count": null,
   "id": "158c15a4-b640-490f-965f-8f35f8b639ec",
   "metadata": {},
   "outputs": [],
   "source": [
    "air_quality.city.unique()"
   ]
  },
  {
   "cell_type": "markdown",
   "id": "c5247d62-0bdd-4992-be44-da450ed43b4a",
   "metadata": {},
   "source": [
    "### Utiliser les propriétés datetime\n",
    "\n",
    "❓ Je veux travailler avec les dates dans la colonne datetime en tant qu'objets datetime plutôt que du simple texte."
   ]
  },
  {
   "cell_type": "code",
   "execution_count": null,
   "id": "dcc7800f-e50d-4cd3-9900-a82aba7d10fa",
   "metadata": {},
   "outputs": [],
   "source": [
    "air_quality[\"datetime\"] = pd.to_datetime(air_quality[\"datetime\"])\n",
    "\n",
    "air_quality[\"datetime\"]"
   ]
  },
  {
   "cell_type": "markdown",
   "id": "009de10b-b40f-42eb-8c36-aba49b50d0c3",
   "metadata": {},
   "source": [
    "Au départ, les valeurs dans la colonne `datetime` étaient du simple texte, et ne permettaient pas de réaliser d'opérations temporelles (extraire l'année, le jour de la semaine, etc…). En appliquant la fonction `to_datetime()`, pandas interprète le texte et le convertit en objets représentant une date et une heure. Dans pandas, ces objets, qui ressemblent beaucoup à ceux de la bibliothèque standard `datetime`, s’appellent des `pandas.Timestamp`.\n",
    "\n",
    "\n",
    "<div class='alert alert-info'>\n",
    "\n",
    "Comme beaucoup de jeux de données contiennent des informations représentant des dates / heures, les fonctions de lecture de pandas comme `read_csv()` et `read_json()` peuvent tenter de faire la conversion automatiquement de ces colonnes vers des objets Timestamp, il suffit de passer l'argument `parse_date=[['nom de colonne(s) avec les datetime'])` :\n",
    "\n",
    "`pd.read_csv(\"../data/air_quality_no2_long.csv\", parse_dates=[\"datetime\"])`\n",
    "\n",
    "</div>\n",
    "\n",
    "À quoi servent ces objets `Timestamp` ? Nous allons illustrer leur valeur ajoutée avec quelques exemples.\n",
    "\n",
    "---\n",
    "❓ Quelle sont les dates de début et de fin des mesures dont nous disposons ?\n"
   ]
  },
  {
   "cell_type": "code",
   "execution_count": null,
   "id": "89525b61-694c-4076-b82b-05e94e8692f2",
   "metadata": {},
   "outputs": [],
   "source": [
    "air_quality[\"datetime\"].min(), air_quality[\"datetime\"].max()"
   ]
  },
  {
   "cell_type": "markdown",
   "id": "f5f018f5-036d-40f1-9768-ee3dfb05aba3",
   "metadata": {},
   "source": [
    "Ces objets `Timestamp` nous permettent de faire tout calcul sur des dates. Par exemple, nous pouvons déterminer le laps de temps couvert par nos mesures, par une simple soustraction : "
   ]
  },
  {
   "cell_type": "code",
   "execution_count": null,
   "id": "d3da6030-83a3-4bbe-b005-40e4b3e751d4",
   "metadata": {},
   "outputs": [],
   "source": [
    "air_quality[\"datetime\"].max() - air_quality[\"datetime\"].min()"
   ]
  },
  {
   "cell_type": "markdown",
   "id": "c380d289-926b-448f-9fcf-8bce884fc261",
   "metadata": {},
   "source": [
    "Le résultat est un objet `pandas.Timedelta`, similaire aux objets `datetime.timedelta` de la bibliothèque python standard datetime, à nouveau.\n",
    "\n",
    "Un `Timedelta` est simplement la mesure d'un laps de temps."
   ]
  },
  {
   "cell_type": "markdown",
   "id": "6e212858-bfc9-4038-a626-ad1fa26b90c9",
   "metadata": {},
   "source": [
    "---\n",
    "❓ Je veux ajouter une nouvelle colonne dans la DataFrame représentant le mois où la mesure a été prise"
   ]
  },
  {
   "cell_type": "code",
   "execution_count": null,
   "id": "8a7f65fe-7c8b-44e3-973d-b556b28a4e86",
   "metadata": {},
   "outputs": [],
   "source": [
    "air_quality[\"month\"] = air_quality[\"datetime\"].dt.month\n",
    "\n",
    "air_quality.sample(10)"
   ]
  },
  {
   "cell_type": "markdown",
   "id": "c7d2d214-58f6-46e3-827b-e72204a00fbe",
   "metadata": {},
   "source": [
    "Avec les objets Timestamp, de nombreuses propriétés temporelles sont accessible : le mois, l'année, le numéro de la semaine, le trimestre, etc… Toutes ces propriétés sont accessibles via le suffixe d'accès `dt`"
   ]
  },
  {
   "cell_type": "markdown",
   "id": "500213e0-5de6-479b-ab5b-342c4cb81b9a",
   "metadata": {},
   "source": [
    "---\n",
    "❓ Quel est la concentration moyenne pour chaque jour de la semaine pour chaque lieu de mesure ?"
   ]
  },
  {
   "cell_type": "code",
   "execution_count": null,
   "id": "71c5c749-f806-46ae-a448-517ccc3feb70",
   "metadata": {},
   "outputs": [],
   "source": [
    "air_quality.groupby([air_quality[\"datetime\"].dt.weekday, \"location\"])[\"value\"].mean()"
   ]
  },
  {
   "cell_type": "markdown",
   "id": "ca704a90-da47-4bee-8143-9fc211329834",
   "metadata": {},
   "source": [
    "Vous vous souvenez le schéma \"diviser appliquer combiner\" vu plus haut ? Ici nous voulons calculer une statistique (la moyenne) pour chaque jour de la semaine pour chaque lieu de mesure. Pour grouper par jour de la semaine nous utilisons la propriété dt.weekday (où Lundi=0 et Dimanche=6) d'un Timestamp de pandas.\n",
    "\n",
    "Le groupby sur le jour de la semaine et la colonne \"location\" permet de calculer les moyennes sur chaque combinaison de jour et de lieu.\n",
    "\n",
    "\n",
    "\n",
    "\n",
    "\n",
    "<div class='alert alert-danger'>\n",
    "    \n",
    "Comme nous travaillons sur une fenêtre temporelle très courte, cette analyse ne peut pas vraiment être utilisée pour réaliser des prédictions.\n",
    "    \n",
    "    \n",
    "</div>\n",
    "\n",
    "\n",
    "---\n",
    "❓ Je veux tracer la concentration de $NO_2$ durant la journée, en prenant la moyenne de nos 3 stations de mesure. Autrement dit, quelle est la valeur moyenne pour chaque heure de la journée ?"
   ]
  },
  {
   "cell_type": "code",
   "execution_count": null,
   "id": "b85b3359-5519-488a-ac0f-2b8a5adcc8c4",
   "metadata": {},
   "outputs": [],
   "source": [
    "fig, ax = plt.subplots(figsize=(16, 8))\n",
    "\n",
    "air_quality.groupby(air_quality[\"datetime\"].dt.hour)[\"value\"].mean().plot(\n",
    "    kind=\"bar\", rot=0, ax=ax\n",
    ")\n",
    "\n",
    "ax.set_xlabel(\"Heure de la journée\")\n",
    "# Commande matplotlib pour donner un libellé à l'axe des X\n",
    "\n",
    "ax.set_ylabel(\"$NO_2 (µg/m^3)$\");"
   ]
  },
  {
   "cell_type": "markdown",
   "id": "bb49166d-5013-4693-a76a-6c298f32da33",
   "metadata": {},
   "source": [
    "Comme dans le cas précédent, on calcule une statistique (la moyenne du $NO_2$) pour chaque heure de la journée en appliquant notre schéma \"diviser / appliquer / combiner\" à nouveau.\n",
    "\n",
    "La propriété heure est accessible via `dt.hour`."
   ]
  },
  {
   "cell_type": "markdown",
   "id": "417aaa6c-f8f3-43cf-95e5-a08250dd7b9f",
   "metadata": {},
   "source": [
    "## Datetime comme index\n",
    "\n",
    "Dans la section sur la restructuration de données, on a vu la méthode `pivot()` pour mettre en colonnes distinctes les mesures de chaque lieu.\n",
    "\n"
   ]
  },
  {
   "cell_type": "code",
   "execution_count": null,
   "id": "f56616f2-f1bc-41d3-a931-7243ba3316e2",
   "metadata": {},
   "outputs": [],
   "source": [
    "no_2 = air_quality.pivot(index=\"datetime\", columns=\"location\", values=\"value\")\n",
    "\n",
    "no_2.head()"
   ]
  },
  {
   "cell_type": "markdown",
   "id": "e299afb8-c413-4c74-84da-946465207d44",
   "metadata": {},
   "source": [
    "<div class='alert alert-info'>\n",
    "\n",
    "En pivotant les données, les informations de date / heure sont devenues l'index de la table. De manière générale, donner le rôle d'index à une colonne est fait avec la méthode `set_index()`.\n",
    "\n",
    "</div>\n",
    "\n",
    "Travailler avec un index d’objets datetime est très puissant. Par exemple, nous n'avons pas besoin du suffixe `dt` pour obtenir les propriétés temporelles, nous les avons sur l'index directement :"
   ]
  },
  {
   "cell_type": "code",
   "execution_count": null,
   "id": "56279a2c-76b8-427e-b5c3-5b41854bf933",
   "metadata": {},
   "outputs": [],
   "source": [
    "no_2.index.year, no_2.index.weekday"
   ]
  },
  {
   "cell_type": "markdown",
   "id": "368a854a-08cc-4c33-b70e-2a8debd9d358",
   "metadata": {},
   "source": [
    "Il y a d'autres avantages à avoir ces objets datetime en index, comme le slicing par dates, ou la gestion des échelles de temps dans les graphes.\n",
    "\n",
    "❓ Je veux tracer les valeurs de $NO_2$ dans les différentes stations du 20 mai à la fin du 21 mai."
   ]
  },
  {
   "cell_type": "code",
   "execution_count": null,
   "id": "836f9f18-e524-4500-8f3b-2def17ea8629",
   "metadata": {},
   "outputs": [],
   "source": [
    "no_2[\"2019-05-20\":\"2019-05-21\"].plot();"
   ]
  },
  {
   "cell_type": "markdown",
   "id": "2307c3e0-caa0-4b0e-b4a0-acf2d9bab980",
   "metadata": {},
   "source": [
    "> En donnant une string qui peut être interprétée comme une date, un sous-ensemble de la données peut être sélectionné sur un DateTimeIndex."
   ]
  },
  {
   "cell_type": "markdown",
   "id": "3b543f3b-5ebb-4da7-9007-9da96c7ff332",
   "metadata": {},
   "source": [
    "### Récomposer une série temporelle avec une autre fréquence\n",
    "\n",
    "❓ Je veux aggréger la série temporelle (qui a une mesure par heure) en ne retenant que la valeur maximale de chaque mois, pour chaque station."
   ]
  },
  {
   "cell_type": "code",
   "execution_count": null,
   "id": "20903a55-4351-4f49-9b64-69fb79d2ee12",
   "metadata": {},
   "outputs": [],
   "source": [
    "monthly_max = no_2.resample(\"M\").max()\n",
    "\n",
    "monthly_max"
   ]
  },
  {
   "cell_type": "markdown",
   "id": "ef5dc097-8fb6-4ca6-86eb-a5e3b2eedbf5",
   "metadata": {},
   "source": [
    "> Resampler les données sur une autre fréquence temporelle est une des techniques avancées des DataFrames ayant un Index en Datetime. On pourrait par exemple convertir des données saisies toutes les secondes en données considérées toutes les 5 minutes.\n",
    "\n",
    "La méthode `.resample()` est similaire à un `groupby` :\n",
    "\n",
    "- Elle réalise un groupement basé sur le temps, en utilisant un string (ex 'M', '5H', …) qui définit la fréquence voulue\n",
    "- Elle nécessite une fonction d'aggrégation comme prendre la moyenne, prendre le maximum, etc…\n",
    "\n",
    "Quand elle est définie, la fréquence d'une série temporelle est indiquée dans l'attribut `freq` :"
   ]
  },
  {
   "cell_type": "code",
   "execution_count": null,
   "id": "75d4e342-4493-46d9-9c98-9ee6b1c2875c",
   "metadata": {},
   "outputs": [],
   "source": [
    "monthly_max.index.freq"
   ]
  },
  {
   "cell_type": "markdown",
   "id": "4a13dd96-4562-4083-99a7-a16166e97815",
   "metadata": {},
   "source": [
    "---\n",
    "❓ Je veux tracer les valeurs quotidiennes moyennes pour chaque station :"
   ]
  },
  {
   "cell_type": "code",
   "execution_count": null,
   "id": "fff8b207-3349-4324-9083-ca73f7d8e0e8",
   "metadata": {},
   "outputs": [],
   "source": [
    "no_2.resample(\"D\").mean().plot(style=\"-o\", figsize=(10, 5));"
   ]
  },
  {
   "cell_type": "markdown",
   "id": "be5aad97-01b7-49d4-a118-764c27604cce",
   "metadata": {},
   "source": [
    "<div class='alert alert-info'>\n",
    "\n",
    "**À retenir**\n",
    "\n",
    "- des données textes représentant des dates ou des \"dates et heure\" peuvent être converties avec la fonction `to_datetime` ou bien via un argument dans les fonctions `read_*`\n",
    "- Les objets datetime dans pandas permettent des calculs, des opérations logiques, et permettent l’accès à leurs attributs temporels via le suffixe `dt` (mois, jour de la semaine, etc)\n",
    "- Un index en datetime, contient toutes les propriétés temporelles et permet le slicing par dates.\n",
    "- `resample()` est une méthode puissante pour changer la fréquence d'une série temporelle.\n",
    "\n",
    "\n",
    "</div>"
   ]
  },
  {
   "cell_type": "markdown",
   "id": "189e0f04-d9ef-461c-8129-3acb317248ec",
   "metadata": {},
   "source": [
    "## Comment manipuler des données textuelles ?\n",
    "\n",
    "Données utilisée dans cette section : Titanic"
   ]
  },
  {
   "cell_type": "code",
   "execution_count": null,
   "id": "f7be9cb0-5c49-40eb-ad09-70b41f4e5a81",
   "metadata": {},
   "outputs": [],
   "source": [
    "titanic = pd.read_csv(\"data/titanic.csv\")\n",
    "\n",
    "titanic.head()"
   ]
  },
  {
   "cell_type": "markdown",
   "id": "e762d3da-d06b-4c55-adc9-baa0fef1db98",
   "metadata": {},
   "source": [
    "❓ Je veux transformer tous les noms en minuscule"
   ]
  },
  {
   "cell_type": "code",
   "execution_count": null,
   "id": "e20d37c8-2848-4fb3-aba3-82ed7cf457a7",
   "metadata": {},
   "outputs": [],
   "source": [
    "titanic[\"Name\"].str.lower()"
   ]
  },
  {
   "cell_type": "markdown",
   "id": "b511f1fc-22b4-4653-94dc-4fb01a1422e9",
   "metadata": {},
   "source": [
    "> Pour transformer toutes les strings dans la colonne \"Name\" en miniscule, on sélectionne la colonne \"Name\", puis on ajoute le suffixe d'accès `.str` et on applique la methode de string .`lower()`. Chaque de la colonne est convertie, une par une.\n",
    "\n",
    "\n",
    "Tout comme les objets datetime ont leur suffixe d'accès `.dt`, un grand nombre de méthodes pour les strings sont accessible via le suffixe d'accès `.str`. Ces méthodes ont en général des noms qui correspondent aux méthodes de base des strings Python, mais elles sont appliquées élément par élément dans une colonne."
   ]
  },
  {
   "cell_type": "markdown",
   "id": "0d3322df-6fc3-456d-a546-c6cc0894b363",
   "metadata": {},
   "source": [
    "---\n",
    "❓ Je veux créer une nouvelle colonne \"Surname\" qui contienne le nom de famille des passagers en capturant le texte avant la virgule dans la colonne \"Name\""
   ]
  },
  {
   "cell_type": "code",
   "execution_count": null,
   "id": "5b9a3448-cfbe-45f9-b3cb-08ce552b3a99",
   "metadata": {},
   "outputs": [],
   "source": [
    "titanic[\"Name\"].str.split(\",\")"
   ]
  },
  {
   "cell_type": "markdown",
   "id": "8e8c3b3e-652f-4ec0-93b4-82c8fae93f83",
   "metadata": {},
   "source": [
    "En utilisant la méthode `Series.str.split()`, chacune des valeurs est récupérée en tant que liste de 2 éléments. Le premier élément est la partie avant la virgule, et le second la partie qui était après la virgule."
   ]
  },
  {
   "cell_type": "code",
   "execution_count": null,
   "id": "88bec048-169f-49b6-ae05-aea0ee3e7bbb",
   "metadata": {},
   "outputs": [],
   "source": [
    "titanic[\"Surname\"] = titanic[\"Name\"].str.split(\",\").str.get(0)\n",
    "\n",
    "titanic[\"Surname\"]"
   ]
  },
  {
   "cell_type": "markdown",
   "id": "49e6977f-979d-46d7-b88b-76c125253c83",
   "metadata": {},
   "source": [
    "Comme on s'intéresse ici aux premiers éléments de ces listes qui contiennent les noms de famille (l'élément 0), nous pouvons une fois de plus utiliser le suffixe d'accès `.str` et appliquer la méthode `.str.get(n)` pour extraire ce que nous cherchions.\n",
    "\n",
    "Et oui, on peut enchaîner plusieurs méthodes `.str` d'un coup."
   ]
  },
  {
   "cell_type": "markdown",
   "id": "146fa274-736a-4911-9926-8f50e0f79349",
   "metadata": {},
   "source": [
    "---\n",
    "❓ Je veux extraire les données à propos des comtesses à bord du Titanic."
   ]
  },
  {
   "cell_type": "code",
   "execution_count": null,
   "id": "3d5518cf-d016-4847-b9fa-553a4878c366",
   "metadata": {},
   "outputs": [],
   "source": [
    "titanic[\"Name\"].str.contains(\"Countess\")"
   ]
  },
  {
   "cell_type": "code",
   "execution_count": null,
   "id": "847ed3a5-b88c-4db8-9c41-715b8214c60b",
   "metadata": {},
   "outputs": [],
   "source": [
    "titanic[titanic[\"Name\"].str.contains(\"Countess\")]"
   ]
  },
  {
   "cell_type": "markdown",
   "id": "5854c148-fbaa-4025-a202-302448545ebd",
   "metadata": {},
   "source": [
    "🤔 (Vous voulez en savoir plus à propos de cette comtesse ? Voir sa page [Wikipedia](https://fr.wikipedia.org/wiki/Lucy_No%C3%ABl_Leslie_Martha)!)\n",
    "\n",
    "La méthode `Series.str.contains()` vérifie pour chaque valeur dans la colonne si la string contient le mot \"Countess\" et renvoie True ou False selon. Ce retour permet de faire une sélection dans notre DataFrame par indexation booléenne. Comme il n’y avait qu’une seule comtesse à bord, nous obtenons une DataFrame d'une seule ligne.\n",
    "\n",
    "<div class='alert alert-info'>\n",
    "On peut réaliser des extractions encore plus avancées en combinant certaines méthodes avec des expressions régulières, mais c'est un peu trop avancé pour le moment.\n",
    "</div>"
   ]
  },
  {
   "cell_type": "markdown",
   "id": "71f7af4e-feef-4390-bc4d-d55aca22684d",
   "metadata": {},
   "source": [
    "---\n",
    "❓ Quel passager a le nom le plus long ?"
   ]
  },
  {
   "cell_type": "code",
   "execution_count": null,
   "id": "883d49ee-8333-4d89-91d6-4bb598b972d6",
   "metadata": {},
   "outputs": [],
   "source": [
    "titanic[\"Name\"].str.len()"
   ]
  },
  {
   "cell_type": "markdown",
   "id": "308708d3-135f-409b-8415-451659b55c97",
   "metadata": {},
   "source": [
    "Pour obtenir le nom le plus long, il nous faut d'abord calculer les longueurs de chaque nom dans la colonne \"Name\". \n",
    "La méthode `.str.len()` est appliquée à chaque nom et nous envoie une `Series` de valeurs."
   ]
  },
  {
   "cell_type": "code",
   "execution_count": null,
   "id": "20fdf62e-3865-4a52-8ce0-854389ef1856",
   "metadata": {},
   "outputs": [],
   "source": [
    "titanic[\"Name\"].str.len().idxmax()"
   ]
  },
  {
   "cell_type": "markdown",
   "id": "f0fc558d-f360-4833-9654-514ee91d59ed",
   "metadata": {},
   "source": [
    "Ensuite, on veut obtenir le numéro dans l'index correspondant au maximum, avec la méthode `idxmax()`. Ce n'est pas une méthode de string ici, donc pas de `.str`.\n",
    "\n",
    "Enfin on réutilise `.loc[i, colonne]` pour extraire la valeur dans la colonne 'Name' qui était la plus longue."
   ]
  },
  {
   "cell_type": "code",
   "execution_count": null,
   "id": "ae7cecff-8b85-4a43-96da-d37de00ca2b7",
   "metadata": {},
   "outputs": [],
   "source": [
    "titanic.loc[titanic[\"Name\"].str.len().idxmax(), \"Name\"]"
   ]
  },
  {
   "cell_type": "markdown",
   "id": "4b5de507-e261-49ff-9e12-4e51725d3091",
   "metadata": {},
   "source": [
    "---\n",
    "❓ Dans la colonne \"Sex\", je veux remplacer \"male\" par \"M\" et \"female\" par \"F\"."
   ]
  },
  {
   "cell_type": "code",
   "execution_count": null,
   "id": "677d6b31-8808-4ad7-b0bf-f4cab3bcee1d",
   "metadata": {},
   "outputs": [],
   "source": [
    "titanic[\"Sex_short\"] = titanic[\"Sex\"].replace({\"male\": \"M\", \"female\": \"F\"})\n",
    "\n",
    "titanic[\"Sex_short\"]"
   ]
  },
  {
   "cell_type": "markdown",
   "id": "10724850-539d-4e62-9c01-402cf4362871",
   "metadata": {},
   "source": [
    "Ici bien que `.replace()` ne soit pas spécifiquement une méthode pour les strings, elle est très pratique pour opérer des substitutions ou traductions de texte en passant un mapping ou dictionnaire de traduction de la forme {\"depuis\": \"vers\"}.\n",
    "\n",
    "\n",
    "<div class='alert alert-warning'>\n",
    "Il existe également une méthode `str.replace()` pour substituer des ensembles de caractères. Mais si on souhaite faire plusieurs substitutions, comme ici, ça donnerait :\n",
    "\n",
    "`titanic[\"Sex_short\"] = titanic[\"Sex\"].str.replace(\"female\", \"F\")`\n",
    "\n",
    "`titanic[\"Sex_short\"] = titanic[\"Sex_short\"].str.replace(\"male\", \"M\")`\n",
    "\n",
    "Ça peut devenir un peu complexe et facilement entraîner des erreurs. Imaginez ce qui se passerait si on faisait ces deux opérations dans l'ordre inverse ?\n",
    "</div>"
   ]
  },
  {
   "cell_type": "markdown",
   "id": "6a763fe0-5350-48d8-9168-1792dd011ec6",
   "metadata": {},
   "source": [
    "<div class='alert alert-success'>\n",
    "\n",
    "**À retenir**\n",
    "    \n",
    "- Les méthodes de string sont accessibles via le suffixe d'accès `.str`\n",
    "- Les méthodes de string travaillent élément par élément dans les colonnes, et peuvent servir à faire une sélection conditionnelle\n",
    "- la méthode `.replace(dict)` est un moyen pratique de convertir des valeurs textes via un dictionnaire\n",
    "\n",
    "\n",
    "</div>"
   ]
  },
  {
   "cell_type": "code",
   "execution_count": null,
   "id": "5a91c016-b04d-4ab5-ad93-bb03ea4db306",
   "metadata": {},
   "outputs": [],
   "source": [
    "# nettoyage des fichiers téléchargés et exportés\n",
    "import shutil\n",
    "dirs = [\"data\", \"export\"]\n",
    "for d in dirs:\n",
    "    shutil.rmtree(d)"
   ]
  },
  {
   "cell_type": "markdown",
   "id": "537c6a55-d307-454e-9088-48370709f8aa",
   "metadata": {},
   "source": [
    "C'est la fin de cette introduction à Pandas. Pour mettre en pratique, passons au premier [notebook d'exercices](exercices/pandas_exercice_1.ipynb) !"
   ]
  }
 ],
 "metadata": {
  "kernelspec": {
   "display_name": "Python 3 (ipykernel)",
   "language": "python",
   "name": "python3"
  },
  "language_info": {
   "codemirror_mode": {
    "name": "ipython",
    "version": 3
   },
   "file_extension": ".py",
   "mimetype": "text/x-python",
   "name": "python",
   "nbconvert_exporter": "python",
   "pygments_lexer": "ipython3",
   "version": "3.10.4"
  },
  "toc": {
   "base_numbering": 1,
   "nav_menu": {},
   "number_sections": true,
   "sideBar": true,
   "skip_h1_title": false,
   "title_cell": "Table of Contents",
   "title_sidebar": "Contents",
   "toc_cell": false,
   "toc_position": {},
   "toc_section_display": true,
   "toc_window_display": false
  }
 },
 "nbformat": 4,
 "nbformat_minor": 5
}
