{
 "cells": [
  {
   "cell_type": "markdown",
   "id": "119c3bf4",
   "metadata": {},
   "source": [
    "# Pandas Exercices"
   ]
  },
  {
   "cell_type": "markdown",
   "id": "4b77f3d1",
   "metadata": {},
   "source": [
    "## Charger les données et apprendre à les connaître\n",
    "\n",
    "Nous allons charger un jeu de donné accessible sur internet à cette adresse https://raw.githubusercontent.com/justmarkham/DAT8/master/data/chipotle.tsv\n",
    "\n",
    "Ne téléchargez pas le fichier, nous alons demander à Pandas de le lire directement via son `url`."
   ]
  },
  {
   "cell_type": "markdown",
   "id": "cd74939c",
   "metadata": {},
   "source": [
    "### Importer la bibliothèque Pandas en tant que `pd`"
   ]
  },
  {
   "cell_type": "code",
   "execution_count": null,
   "id": "34bd535a",
   "metadata": {},
   "outputs": [],
   "source": []
  },
  {
   "cell_type": "markdown",
   "id": "057ca430",
   "metadata": {},
   "source": [
    "### Étape 2 : charger le jeu de données depuis son url `https://raw.githubusercontent.com/justmarkham/DAT8/master/data/chipotle.tsv`\n",
    "\n",
    "NB : c'est un fichier `tsv`, c'est à dire *tab separated values*. \n",
    "\n",
    "Les colonnes dans le fichier sont indiquées par le séparateur tabulation. Nous allons utiliser la fonction `pandas.read_csv(url, sep='\\t')`. \n",
    "\n",
    "L’argument `sep='\\t'` sert à indiquer à pandas où commence chaque colonne."
   ]
  },
  {
   "cell_type": "code",
   "execution_count": null,
   "id": "8a26746b",
   "metadata": {},
   "outputs": [],
   "source": [
    "url = \"https://raw.githubusercontent.com/justmarkham/DAT8/master/data/chipotle.tsv\"\n"
   ]
  },
  {
   "cell_type": "markdown",
   "id": "55fa8f7a",
   "metadata": {},
   "source": [
    "### Assignez cette DataFrame à une variable appelée `chipo`"
   ]
  },
  {
   "cell_type": "code",
   "execution_count": null,
   "id": "ce095074",
   "metadata": {},
   "outputs": [],
   "source": []
  },
  {
   "cell_type": "markdown",
   "id": "1f97dfcf",
   "metadata": {},
   "source": [
    "### Affichez les 10 premières lignes"
   ]
  },
  {
   "cell_type": "code",
   "execution_count": null,
   "id": "9087d3a1",
   "metadata": {},
   "outputs": [],
   "source": []
  },
  {
   "cell_type": "markdown",
   "id": "aa069433",
   "metadata": {},
   "source": [
    "### Quel est le nombre d'observation dans ce jeu de données ?"
   ]
  },
  {
   "cell_type": "code",
   "execution_count": null,
   "id": "b95b043d",
   "metadata": {},
   "outputs": [],
   "source": []
  },
  {
   "cell_type": "markdown",
   "id": "1d09d2be",
   "metadata": {},
   "source": [
    "### Combien y-a-t'il de colonnes dans ce jeu de données ?"
   ]
  },
  {
   "cell_type": "code",
   "execution_count": null,
   "id": "0d8b675c",
   "metadata": {},
   "outputs": [],
   "source": []
  },
  {
   "cell_type": "markdown",
   "id": "a45753c0",
   "metadata": {},
   "source": [
    "### Quelles sont les colonnes ?"
   ]
  },
  {
   "cell_type": "code",
   "execution_count": null,
   "id": "522a04e4",
   "metadata": {},
   "outputs": [],
   "source": []
  },
  {
   "cell_type": "markdown",
   "id": "69a967c4",
   "metadata": {},
   "source": [
    "### Quel est l'index de cette DataFrame ?"
   ]
  },
  {
   "cell_type": "code",
   "execution_count": null,
   "id": "ab8d40ac",
   "metadata": {},
   "outputs": [],
   "source": []
  },
  {
   "cell_type": "markdown",
   "id": "4b1339e2",
   "metadata": {},
   "source": [
    "### Quel est l’item commandé le plus souvent ?"
   ]
  },
  {
   "cell_type": "code",
   "execution_count": null,
   "id": "4b755d1f",
   "metadata": {},
   "outputs": [],
   "source": []
  },
  {
   "cell_type": "markdown",
   "id": "3360839e",
   "metadata": {},
   "source": [
    "Essayez d'extraire ce nombre exact en dehors de la DataFrame en sélectionnant la colonne \"quantity\"."
   ]
  },
  {
   "cell_type": "code",
   "execution_count": null,
   "id": "9742ab61",
   "metadata": {},
   "outputs": [],
   "source": []
  },
  {
   "cell_type": "markdown",
   "id": "ede62842",
   "metadata": {},
   "source": [
    "### Quel a été l’objet le plus souvent commandé dans la colonne \"choice_description\" ?"
   ]
  },
  {
   "cell_type": "code",
   "execution_count": null,
   "id": "33c50a7d",
   "metadata": {},
   "outputs": [],
   "source": []
  },
  {
   "cell_type": "markdown",
   "id": "f6f5a4dc",
   "metadata": {},
   "source": [
    "### Combien d'items ont été commandé en tout ?"
   ]
  },
  {
   "cell_type": "code",
   "execution_count": null,
   "id": "436b0493",
   "metadata": {},
   "outputs": [],
   "source": []
  },
  {
   "cell_type": "markdown",
   "id": "b9ba0768",
   "metadata": {},
   "source": [
    "### La colonne \"item_price\" contient des strings à cause du symbole dollar. Essayons de transformer ça en `float`\n",
    "\n",
    "Nous avons besoin d'une fonction qui pour un prix exprimé sous la forme `\"$1.99\"` nous renvoie un nombre float `1.99`.\n",
    "\n",
    "Puis nous allons utiliser la méthode `.apply` sur la colonne des prix pour appliquer cette fonction à tous les éléments de la colonne.\n",
    "\n",
    "Pour pouvez écrire la petite fonction avant, ou l'écrire directement dans l’argument de la méthode .apply avec une lambda.\n",
    "\n",
    "Une fois qu'on a une méthode `apply(function)` qui nous renvoie une Series correcte, on s'en sert pour écraser la colonne `\"item_price\"`."
   ]
  },
  {
   "cell_type": "code",
   "execution_count": null,
   "id": "ecc3903b",
   "metadata": {},
   "outputs": [],
   "source": []
  },
  {
   "cell_type": "markdown",
   "id": "2786adc2",
   "metadata": {},
   "source": [
    "### Quel chiffre d'affaire a été fait dans ce jeu de données ?"
   ]
  },
  {
   "cell_type": "code",
   "execution_count": null,
   "id": "64a60f87",
   "metadata": {},
   "outputs": [],
   "source": []
  },
  {
   "cell_type": "markdown",
   "id": "8721f5e0",
   "metadata": {},
   "source": [
    "### Combien de commandes ont été passées ? Autrement dit combien y-a-t'il de valeurs uniques dans la colonne `order_id` ?"
   ]
  },
  {
   "cell_type": "code",
   "execution_count": null,
   "id": "e759b163",
   "metadata": {},
   "outputs": [],
   "source": []
  },
  {
   "cell_type": "markdown",
   "id": "5c84bad5",
   "metadata": {},
   "source": [
    "### Quelle est le chiffre d'affaires moyen par commande ?"
   ]
  },
  {
   "cell_type": "code",
   "execution_count": null,
   "id": "a4a4e12d",
   "metadata": {},
   "outputs": [],
   "source": []
  },
  {
   "cell_type": "code",
   "execution_count": null,
   "id": "5c6eb0f2",
   "metadata": {},
   "outputs": [],
   "source": []
  },
  {
   "cell_type": "markdown",
   "id": "35f734a4",
   "metadata": {},
   "source": [
    "### Combien d'items différents sont proposés ?"
   ]
  },
  {
   "cell_type": "code",
   "execution_count": null,
   "id": "d4796277",
   "metadata": {},
   "outputs": [],
   "source": []
  },
  {
   "cell_type": "markdown",
   "id": "38e8cc8f",
   "metadata": {},
   "source": [
    "## Classer et filtrer la donnée\n",
    "Cette fois nous allons lire nos données directement de puis un fichier csv situé dans le même dossier.\n",
    "\n",
    "Mais nous devons d'abord le télécharger."
   ]
  },
  {
   "cell_type": "code",
   "execution_count": null,
   "id": "18d20d39",
   "metadata": {},
   "outputs": [],
   "source": [
    "!curl https://raw.githubusercontent.com/guipsamora/pandas_exercises/master/02_Filtering_%26_Sorting/Euro12/Euro_2012_stats_TEAM.csv > euro.csv"
   ]
  },
  {
   "cell_type": "markdown",
   "id": "32f17fbc",
   "metadata": {},
   "source": [
    "### Chargez le fichier `euro.csv` que nous venons de télécharger dans une DataFrame appelée `euro12`"
   ]
  },
  {
   "cell_type": "code",
   "execution_count": null,
   "id": "99b793e4",
   "metadata": {},
   "outputs": [],
   "source": []
  },
  {
   "cell_type": "markdown",
   "id": "0d5c59aa",
   "metadata": {},
   "source": [
    "### Sélectionnez la colonne 'Goals'"
   ]
  },
  {
   "cell_type": "code",
   "execution_count": null,
   "id": "e3c54474",
   "metadata": {},
   "outputs": [],
   "source": []
  },
  {
   "cell_type": "markdown",
   "id": "47558cef",
   "metadata": {},
   "source": [
    "### Combien y a-t'il d’équipes ?"
   ]
  },
  {
   "cell_type": "code",
   "execution_count": null,
   "id": "def3d105",
   "metadata": {},
   "outputs": [],
   "source": []
  },
  {
   "cell_type": "markdown",
   "id": "27a82165",
   "metadata": {},
   "source": [
    "### Combien de colonnes ?"
   ]
  },
  {
   "cell_type": "code",
   "execution_count": null,
   "id": "96081953",
   "metadata": {},
   "outputs": [],
   "source": []
  },
  {
   "cell_type": "markdown",
   "id": "2b4da225",
   "metadata": {},
   "source": [
    "### Créer une  DataFrame  `discipline`  contenant les colonnes  `['Team', 'Yellow Cards', 'Red Cards']`"
   ]
  },
  {
   "cell_type": "code",
   "execution_count": null,
   "id": "25695b23",
   "metadata": {},
   "outputs": [],
   "source": []
  },
  {
   "cell_type": "markdown",
   "id": "39207c0b",
   "metadata": {},
   "source": [
    "### Dans `discipline`, classez les équipes par cartons rouges, puis par cartons jaunes, en décroissant."
   ]
  },
  {
   "cell_type": "code",
   "execution_count": null,
   "id": "72da094d",
   "metadata": {},
   "outputs": [],
   "source": []
  },
  {
   "cell_type": "code",
   "execution_count": null,
   "id": "651d8891",
   "metadata": {},
   "outputs": [],
   "source": []
  },
  {
   "cell_type": "markdown",
   "id": "37688f00",
   "metadata": {},
   "source": [
    "### Calculez le nombre moyen de Cartons jaunes reçus par équipe"
   ]
  },
  {
   "cell_type": "code",
   "execution_count": null,
   "id": "4be4f038",
   "metadata": {},
   "outputs": [],
   "source": []
  },
  {
   "cell_type": "markdown",
   "id": "c9340fb0",
   "metadata": {},
   "source": [
    "### Filtrez la DataFrame `euro12` sur les équipes ayant marqué plus de 6 buts"
   ]
  },
  {
   "cell_type": "code",
   "execution_count": null,
   "id": "e3cd055b",
   "metadata": {},
   "outputs": [],
   "source": []
  },
  {
   "cell_type": "markdown",
   "id": "d0ee958e",
   "metadata": {},
   "source": [
    "### Filtrez `euro12` sur les équipes qui commencent par `\"G\"`"
   ]
  },
  {
   "cell_type": "code",
   "execution_count": null,
   "id": "772e9c84",
   "metadata": {},
   "outputs": [],
   "source": []
  },
  {
   "cell_type": "markdown",
   "id": "00f5d232",
   "metadata": {},
   "source": [
    "### Sélectionnez les 7 premières colonnes"
   ]
  },
  {
   "cell_type": "code",
   "execution_count": null,
   "id": "7ccf729d",
   "metadata": {},
   "outputs": [],
   "source": []
  },
  {
   "cell_type": "markdown",
   "id": "4f318543",
   "metadata": {},
   "source": [
    "### Sélectionnez toutes les colonnes exceptées les 3 dernières"
   ]
  },
  {
   "cell_type": "code",
   "execution_count": null,
   "id": "0972a0b6",
   "metadata": {},
   "outputs": [],
   "source": []
  },
  {
   "cell_type": "markdown",
   "id": "ec352840",
   "metadata": {},
   "source": [
    "### Montrez  `[\"Team\", \"Shooting Accuracy\"]`  pour les équipes `['England', 'Italy', 'Russia']`."
   ]
  },
  {
   "cell_type": "code",
   "execution_count": null,
   "id": "b043e44b",
   "metadata": {},
   "outputs": [],
   "source": []
  }
 ],
 "metadata": {
  "kernelspec": {
   "display_name": "Python 3 (ipykernel)",
   "language": "python",
   "name": "python3"
  },
  "language_info": {
   "codemirror_mode": {
    "name": "ipython",
    "version": 3
   },
   "file_extension": ".py",
   "mimetype": "text/x-python",
   "name": "python",
   "nbconvert_exporter": "python",
   "pygments_lexer": "ipython3",
   "version": "3.10.0rc1"
  },
  "toc": {
   "base_numbering": 1,
   "nav_menu": {},
   "number_sections": true,
   "sideBar": true,
   "skip_h1_title": true,
   "title_cell": "Table des Matières",
   "title_sidebar": "Contents",
   "toc_cell": true,
   "toc_position": {
    "height": "calc(100% - 180px)",
    "left": "10px",
    "top": "150px",
    "width": "172.8px"
   },
   "toc_section_display": true,
   "toc_window_display": false
  }
 },
 "nbformat": 4,
 "nbformat_minor": 5
}
