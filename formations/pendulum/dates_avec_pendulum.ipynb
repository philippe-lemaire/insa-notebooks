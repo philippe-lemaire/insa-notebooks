{
 "cells": [
  {
   "cell_type": "markdown",
   "id": "e2ddff12-20f5-4890-bcc1-cac92c0e8ddc",
   "metadata": {},
   "source": [
    "# Mini tutoriel - Manipulation de dates avec `pendulum`"
   ]
  },
  {
   "cell_type": "markdown",
   "id": "693073ed-e402-49df-bd22-2e36832e9259",
   "metadata": {},
   "source": [
    "## Pourquoi Pendulum\n",
    "\n",
    "Python dispose dans les bibliothèques installées par défaut (la *standard library*) d'une bibliothèque utilitaire pour manipuler des dates, heures et des laps de temps : `datetime`.\n",
    "\n",
    "Cependant elle n'est pas super facile d’accès, aussi il existe plusieurs bibliothèques de remplacement ou extension de `datetime`.\n",
    "\n",
    "Nous allons regarder l’une d’entre elles, `pendulum`.\n",
    "\n",
    "La documentation complète du module est accessible ici : [https://pendulum.eustace.io/docs/](https://pendulum.eustace.io/docs/)."
   ]
  },
  {
   "cell_type": "markdown",
   "id": "bae85853-7f42-46b7-b451-3538f3cb2bce",
   "metadata": {},
   "source": [
    "## Installation et import"
   ]
  },
  {
   "cell_type": "markdown",
   "id": "7d15cd9a-a042-4265-9713-1a549113a4e2",
   "metadata": {},
   "source": [
    "### Installation sous anaconda (remettre la cellule suivante en mode `code`)"
   ]
  },
  {
   "cell_type": "raw",
   "id": "1e9ee4f7-3103-43fc-bba7-b813f14e144e",
   "metadata": {},
   "source": [
    "import os\n",
    "os.system(\"conda install -c conda-forge pendulum\")"
   ]
  },
  {
   "cell_type": "markdown",
   "id": "61987a96-94b0-4944-9134-5d2159e1b0d3",
   "metadata": {},
   "source": [
    "### Installation sans anaconda (remettre la cellule suivante en mode `code`)"
   ]
  },
  {
   "cell_type": "raw",
   "id": "51ce0b50-44a2-4d39-8347-a043d996f184",
   "metadata": {},
   "source": [
    "import os\n",
    "os.system(\"pip install pendulum\")"
   ]
  },
  {
   "cell_type": "markdown",
   "id": "1eed19e1-7411-4ffd-95e1-e430d921a79f",
   "metadata": {},
   "source": [
    "<div class='alert alert-success'>\n",
    "    \n",
    "Si l’installation est faite, l'import ci-dessous devrait fonctionner.\n",
    "    \n",
    "</div>"
   ]
  },
  {
   "cell_type": "code",
   "execution_count": null,
   "id": "8acaa909-ca87-4483-bdf5-f491b05b41ad",
   "metadata": {},
   "outputs": [],
   "source": [
    "import pendulum"
   ]
  },
  {
   "cell_type": "markdown",
   "id": "2d68e1e0-8c00-4ce8-87cd-dd381f5ee13e",
   "metadata": {},
   "source": [
    "## Création d’objets `pendulum.DateTime`\n",
    "\n",
    "Les objets `DateTime` représentent un point dans le temps, sous la forme d'une date et d'une heure.\n",
    "Optionnellement, ils sont enregistrés avec leur fuseau horaire."
   ]
  },
  {
   "cell_type": "code",
   "execution_count": null,
   "id": "2c707fdb-10fc-434e-a9e1-85e9b69ce3d1",
   "metadata": {},
   "outputs": [],
   "source": [
    "pendulum.DateTime(2022, 12, 31)"
   ]
  },
  {
   "cell_type": "code",
   "execution_count": null,
   "id": "1a917979-de23-421a-acd5-6566b198820f",
   "metadata": {},
   "outputs": [],
   "source": [
    "pendulum.datetime(2022, 12, 31, tz='Europe/Paris')"
   ]
  },
  {
   "cell_type": "markdown",
   "id": "eeb76d3e-b020-4228-b65a-9d8fd357bbab",
   "metadata": {},
   "source": [
    "Pour créer un objet `DateTime`, vous pouvez utiliser le constructeur de la classe ou la fonction `pendulum.datetime()` comme ci-dessus, ou bien utiliser une des fonctions suivantes pour créer une date spéciale.\n",
    "\n",
    "- `now()` crée un `DateTime` basé sur la date et l'heure actuelles\n",
    "- `today()` crée un `DateTime` du jour en cours, avec heures, minutes et secondes à **zéro**\n",
    "- `yesterday()` : comme `today()` mais le jour précédent\n",
    "- `tomorrow()` : comme `today()` mais le jour suivant"
   ]
  },
  {
   "cell_type": "code",
   "execution_count": null,
   "id": "ecdad973-f7dd-4080-b3fe-a6112af3a2af",
   "metadata": {},
   "outputs": [],
   "source": [
    "pendulum.now()"
   ]
  },
  {
   "cell_type": "code",
   "execution_count": null,
   "id": "38c58ef5-fd79-4337-869b-54e23ba69af5",
   "metadata": {},
   "outputs": [],
   "source": [
    "pendulum.today()"
   ]
  },
  {
   "cell_type": "code",
   "execution_count": null,
   "id": "795a4fe3-7176-4284-ae89-a7653ae6b067",
   "metadata": {},
   "outputs": [],
   "source": [
    "pendulum.tomorrow()"
   ]
  },
  {
   "cell_type": "code",
   "execution_count": null,
   "id": "a58e44b8-da2b-488d-8f3c-0b8f03857a2f",
   "metadata": {},
   "outputs": [],
   "source": [
    "pendulum.yesterday()"
   ]
  },
  {
   "cell_type": "markdown",
   "id": "b734b37a-bd51-4a4f-b99c-db5f7f50bef0",
   "metadata": {},
   "source": [
    "## À partir d'une chaîne\n",
    "\n",
    "On peut créer une date à partir d’une chaîne avec la fonction `pendulum.parse()`."
   ]
  },
  {
   "cell_type": "code",
   "execution_count": null,
   "id": "82ea460d-a1e8-4183-a85a-7f66f4258dee",
   "metadata": {},
   "outputs": [],
   "source": [
    "birth_day = '1981/04/26'\n",
    "\n",
    "bd = pendulum.parse(birth_day, exact=True)"
   ]
  },
  {
   "cell_type": "code",
   "execution_count": null,
   "id": "7a0758c0-ef64-45e4-b51e-bb7f59c0f821",
   "metadata": {},
   "outputs": [],
   "source": [
    "bd"
   ]
  },
  {
   "cell_type": "code",
   "execution_count": null,
   "id": "c9ee3a35-2c08-437d-b34e-67f098bcf911",
   "metadata": {},
   "outputs": [],
   "source": [
    "bd.age"
   ]
  },
  {
   "cell_type": "markdown",
   "id": "16134689-153e-48d1-95a0-aca34447bb37",
   "metadata": {},
   "source": [
    "## Ajouter ou retrancher du temps"
   ]
  },
  {
   "cell_type": "code",
   "execution_count": null,
   "id": "4cc43463-43d3-4fe9-9d29-f9ae9765d8e8",
   "metadata": {},
   "outputs": [],
   "source": [
    "tz = 'Europe/Paris'\n",
    "auj = pendulum.today(tz=tz)"
   ]
  },
  {
   "cell_type": "markdown",
   "id": "b0416414-0e19-4b24-b10f-ede4789f64c7",
   "metadata": {},
   "source": [
    "Les méthodes `.add()` et `.subtract()` renvoient un nouveau `DateTime` ajusté."
   ]
  },
  {
   "cell_type": "code",
   "execution_count": null,
   "id": "9643a712-8966-4d60-97d9-bd5c737c76a1",
   "metadata": {},
   "outputs": [],
   "source": [
    "auj.add(days=1, hours=10, weeks=2)"
   ]
  },
  {
   "cell_type": "code",
   "execution_count": null,
   "id": "488050b1-8081-4827-bbcc-659e489bc5c6",
   "metadata": {},
   "outputs": [],
   "source": [
    "auj.subtract(years=1000, seconds=1)"
   ]
  },
  {
   "cell_type": "markdown",
   "id": "ab1cac84-5dd9-4528-a0a0-75bf7bb2ce59",
   "metadata": {},
   "source": [
    "## Exprimer un laps de temps : `Duration`\n",
    "\n",
    "La classe `pendulum.Duration` représente un laps de temps. Elle dispose d'attributs et de méthodes pratiques."
   ]
  },
  {
   "cell_type": "code",
   "execution_count": null,
   "id": "7e67e50d-b094-4382-8e59-2d17520a6968",
   "metadata": {},
   "outputs": [],
   "source": [
    "dur = pendulum.duration(days=16, hours=1)\n",
    "type(dur)"
   ]
  },
  {
   "cell_type": "code",
   "execution_count": null,
   "id": "ef88def1-2401-4bb9-9e96-e1081b83bc45",
   "metadata": {},
   "outputs": [],
   "source": [
    "dur"
   ]
  },
  {
   "cell_type": "code",
   "execution_count": null,
   "id": "51d6348a-2494-4ffe-bf80-16a6efb5443f",
   "metadata": {},
   "outputs": [],
   "source": [
    "dur.days"
   ]
  },
  {
   "cell_type": "code",
   "execution_count": null,
   "id": "8848a7ae-0f17-44e0-b386-c8722472d94b",
   "metadata": {},
   "outputs": [],
   "source": [
    "dur.weeks"
   ]
  },
  {
   "cell_type": "code",
   "execution_count": null,
   "id": "9fdf6370-cf91-4a3f-bef1-f717e15728ff",
   "metadata": {},
   "outputs": [],
   "source": [
    "dur.hours"
   ]
  },
  {
   "cell_type": "code",
   "execution_count": null,
   "id": "a1260fe5-943f-440b-8b34-19ef1dabcc7f",
   "metadata": {},
   "outputs": [],
   "source": [
    "dur.in_hours()"
   ]
  },
  {
   "cell_type": "code",
   "execution_count": null,
   "id": "a64fd29e-e9dc-4aa1-beed-3740c1a74668",
   "metadata": {},
   "outputs": [],
   "source": [
    "dur.in_words(locale=\"fr\")"
   ]
  },
  {
   "cell_type": "markdown",
   "id": "73c98778-047a-4911-9169-b3a02a4c3161",
   "metadata": {},
   "source": [
    "L’objet `Period` est similaire à `Duration`, mais il contient également des informations liées aux horodatages qui l'ont créé.\n",
    "\n",
    "On crée généralement un objet `Period` par soustraction entre 2 `DateTime` ou par la méthode `.diff` sur un `DateTime`."
   ]
  },
  {
   "cell_type": "code",
   "execution_count": null,
   "id": "e1b4eae1-2285-4250-92a1-0708d99a8b90",
   "metadata": {},
   "outputs": [],
   "source": [
    "now2 = pendulum.now(tz=tz)"
   ]
  },
  {
   "cell_type": "code",
   "execution_count": null,
   "id": "da80093f-50c4-4329-bf5d-2a062d10f2f4",
   "metadata": {},
   "outputs": [],
   "source": [
    "period = now2 - now"
   ]
  },
  {
   "cell_type": "code",
   "execution_count": null,
   "id": "c08d3e79-305e-4483-bb9a-95dd745685a7",
   "metadata": {},
   "outputs": [],
   "source": [
    "type(period)"
   ]
  },
  {
   "cell_type": "code",
   "execution_count": null,
   "id": "c8cd260d-0602-48f1-a9e6-7228a63872cb",
   "metadata": {},
   "outputs": [],
   "source": [
    "period.in_words(locale=\"fr\")"
   ]
  },
  {
   "cell_type": "code",
   "execution_count": null,
   "id": "8069fa9b-33ca-43ef-84a2-ac9c882176a8",
   "metadata": {},
   "outputs": [],
   "source": [
    "period.minutes"
   ]
  },
  {
   "cell_type": "code",
   "execution_count": null,
   "id": "c2fe9747-860e-41bd-9fe3-b1ea070c4196",
   "metadata": {},
   "outputs": [],
   "source": [
    "period.seconds"
   ]
  },
  {
   "cell_type": "markdown",
   "id": "e20d3204-a3d4-4667-9c77-4125cc268e88",
   "metadata": {},
   "source": [
    "Si le fuseau horaire est bien précisé, les `Period` tiennent compte des changements d'heure qui ont lieu en cours d'année. \n",
    "\n",
    "Ainsi une période de 6 mois sur le fuseau `'Europe/Paris'` ne donnera pas un nombre d'heures multiple de 24, car un changement d'heure d'hiver à heure d'été (ou inversement) aura eu lieu."
   ]
  },
  {
   "cell_type": "code",
   "execution_count": null,
   "id": "8d0c7571-fb01-453e-b4a2-6d8114efd128",
   "metadata": {},
   "outputs": [],
   "source": [
    "début = pendulum.datetime(2022,7,1, tz=tz)\n",
    "fin = pendulum.datetime(2022,12,1, tz=tz)\n",
    "semestre = fin - début"
   ]
  },
  {
   "cell_type": "code",
   "execution_count": null,
   "id": "c6cfb3a7-05c4-4dc4-a214-42ce05a153a5",
   "metadata": {},
   "outputs": [],
   "source": [
    "semestre.in_hours()"
   ]
  },
  {
   "cell_type": "code",
   "execution_count": null,
   "id": "491f432b-93d6-4a16-9898-6972b8204e99",
   "metadata": {},
   "outputs": [],
   "source": [
    "semestre.in_hours() % 24"
   ]
  },
  {
   "cell_type": "code",
   "execution_count": null,
   "id": "28b5b7ad-cd41-4d11-be12-8f6b358d73f7",
   "metadata": {},
   "outputs": [],
   "source": [
    "year = 1981\n",
    "month = 4\n",
    "day = 26\n",
    "\n",
    "bd = pendulum.date(year, month, day)"
   ]
  },
  {
   "cell_type": "code",
   "execution_count": null,
   "id": "e59c0e32-66c4-4e12-acb8-06cc855a6afd",
   "metadata": {},
   "outputs": [],
   "source": [
    "f\"Vous avez {bd.age} ans.\""
   ]
  },
  {
   "cell_type": "markdown",
   "id": "ff0b1175-b5a1-41c0-95d0-da75f9562434",
   "metadata": {},
   "source": [
    "Alternativement, vous pouvez exprimer une date ou une date-heure sous la forme d'une chaîne de caractères."
   ]
  },
  {
   "cell_type": "code",
   "execution_count": null,
   "id": "74fa7088-5beb-4e22-8825-6019a4502bb3",
   "metadata": {},
   "outputs": [],
   "source": [
    "birth_day = '1981/04/26'\n",
    "\n",
    "bd = pendulum.parse(birth_day, exact=True)"
   ]
  },
  {
   "cell_type": "code",
   "execution_count": null,
   "id": "f9054cbc-21cc-4478-8602-979cc4704079",
   "metadata": {},
   "outputs": [],
   "source": [
    "bd.age"
   ]
  },
  {
   "cell_type": "code",
   "execution_count": null,
   "id": "b9c72e1d-b3af-414c-aba1-9769e68d576f",
   "metadata": {},
   "outputs": [],
   "source": [
    "bd"
   ]
  },
  {
   "cell_type": "code",
   "execution_count": null,
   "id": "4661d281-bad3-4808-b341-9f40e5aa40be",
   "metadata": {},
   "outputs": [],
   "source": [
    "pendulum.set_locale('fr')"
   ]
  },
  {
   "cell_type": "code",
   "execution_count": null,
   "id": "82cf7313-638c-41a0-b719-6def2863826d",
   "metadata": {},
   "outputs": [],
   "source": [
    "bd.format('dddd DD MMMM YYYY')"
   ]
  },
  {
   "cell_type": "code",
   "execution_count": null,
   "id": "5b33664a-d87f-4a01-8bda-723f04ea5e39",
   "metadata": {},
   "outputs": [],
   "source": [
    "bd.diff_for_humans()"
   ]
  },
  {
   "cell_type": "code",
   "execution_count": null,
   "id": "20076334-eeab-455b-b8c3-e7b2a648799b",
   "metadata": {},
   "outputs": [],
   "source": [
    "start = pendulum.date(2000, 11, 1)\n",
    "end = pendulum.date(2016, 11, 22)\n",
    "\n",
    "period = end - start"
   ]
  },
  {
   "cell_type": "code",
   "execution_count": null,
   "id": "d45ec21d-f6ee-4e7d-8c61-f62a720e3dda",
   "metadata": {},
   "outputs": [],
   "source": [
    "period.years"
   ]
  },
  {
   "cell_type": "code",
   "execution_count": null,
   "id": "a59c9c27-2f1d-44bb-a012-8e381a66ed6f",
   "metadata": {},
   "outputs": [],
   "source": [
    "period.months"
   ]
  },
  {
   "cell_type": "code",
   "execution_count": null,
   "id": "2307722c-577d-4930-a355-08e66ab8ed67",
   "metadata": {},
   "outputs": [],
   "source": [
    "period.in_years()"
   ]
  },
  {
   "cell_type": "code",
   "execution_count": null,
   "id": "ba856ab1-8414-41a0-82a5-8ff2462d0dc1",
   "metadata": {},
   "outputs": [],
   "source": [
    "period.in_months()"
   ]
  },
  {
   "cell_type": "code",
   "execution_count": null,
   "id": "239b2e78-f36c-4391-a6f7-48d8224619f0",
   "metadata": {},
   "outputs": [],
   "source": [
    "period.weeks"
   ]
  },
  {
   "cell_type": "code",
   "execution_count": null,
   "id": "a83e1097-982b-405f-88d7-d7db09668c61",
   "metadata": {},
   "outputs": [],
   "source": [
    "period.in_weeks()"
   ]
  },
  {
   "cell_type": "code",
   "execution_count": null,
   "id": "c06d0893-3a13-428f-b174-18ac1698ff57",
   "metadata": {},
   "outputs": [],
   "source": [
    "period.days"
   ]
  },
  {
   "cell_type": "code",
   "execution_count": null,
   "id": "0a9ed6b6-c2df-453e-a7a0-cc931c2ae2f4",
   "metadata": {},
   "outputs": [],
   "source": [
    "period.total_weeks()"
   ]
  },
  {
   "cell_type": "markdown",
   "id": "32280504-23aa-48a1-b962-d3148aecb36d",
   "metadata": {},
   "source": [
    "## Exercices"
   ]
  },
  {
   "cell_type": "markdown",
   "id": "916198ca-a416-428b-8028-071351a74877",
   "metadata": {},
   "source": [
    "### Aujourd'hui j'ai appris\n",
    "\n",
    "Avec `pendulum`, créez une variable `auj` contenant un objet de type `pendulum.Date` avec la date d’aujourd’hui."
   ]
  },
  {
   "cell_type": "code",
   "execution_count": null,
   "id": "eea32e2d-62d4-4b5f-b278-c2407fcbfb6d",
   "metadata": {},
   "outputs": [],
   "source": [
    "# votre code ici\n"
   ]
  },
  {
   "cell_type": "code",
   "execution_count": null,
   "id": "61dbb2a7-070f-4f04-a9f6-4ae2f23175da",
   "metadata": {},
   "outputs": [],
   "source": [
    "# Cellule de tests unitaire, pour valider votre solution à l'exercice\n",
    "import unittest\n",
    "import pendulum\n",
    "import datetime\n",
    "\n",
    "\n",
    "class TestNotebook(unittest.TestCase):\n",
    "    def test_today(self):\n",
    "        now = datetime.datetime.now()\n",
    "        self.assertEqual(now.day, auj.day)\n",
    "        self.assertEqual(now.month, auj.month)\n",
    "        self.assertEqual(now.year, auj.year)\n",
    "\n",
    "    def test_today_type(self):\n",
    "        self.assertIsInstance(auj, pendulum.Date)\n",
    "\n",
    "\n",
    "unittest.main(argv=[\"\"], verbosity=2, exit=False);"
   ]
  },
  {
   "cell_type": "markdown",
   "id": "37c05f65-e398-4a94-a9b7-fb5f72af52ef",
   "metadata": {},
   "source": [
    "### Date en chaîne\n",
    "\n",
    "Une date vous est fournie sous la forme d'une chaîne. Transformez-la en un objet `pendulum.Date`, en conservant le nom de variable `marignan`."
   ]
  },
  {
   "cell_type": "code",
   "execution_count": null,
   "id": "6b8345db-2895-4128-a551-00a3d2221eb8",
   "metadata": {},
   "outputs": [],
   "source": [
    "marignan = \"1515-09-15\""
   ]
  },
  {
   "cell_type": "code",
   "execution_count": null,
   "id": "7eb7c29f-baba-433b-a0c2-0cb27c6d4c84",
   "metadata": {},
   "outputs": [],
   "source": [
    "# votre code ici\n"
   ]
  },
  {
   "cell_type": "code",
   "execution_count": null,
   "id": "8a3b89dc-2278-4f0c-bcbc-7867ea4f3655",
   "metadata": {},
   "outputs": [],
   "source": [
    "# Cellule de tests unitaire, pour valider votre solution à l'exercice\n",
    "import unittest\n",
    "\n",
    "\n",
    "class TestNotebook(unittest.TestCase):\n",
    "    \n",
    "    def test_marignan_type(self):\n",
    "        self.assertIsInstance(marignan, pendulum.Date)\n",
    "        \n",
    "        \n",
    "    def test_marignan(self):\n",
    "        self.assertEqual(marignan.day, 15)\n",
    "        self.assertEqual(marignan.month, 9)\n",
    "        self.assertEqual(marignan.year, 1515)\n",
    "\n",
    "\n",
    "\n",
    "\n",
    "unittest.main(argv=[\"\"], verbosity=2, exit=False);"
   ]
  },
  {
   "cell_type": "markdown",
   "id": "a07755c5-c122-4257-9066-67601aaf785f",
   "metadata": {},
   "source": [
    "### Un quart d'heure avant sa mort, il était encore en vie…\n",
    "\n",
    "Jacques II de Chabannes de La Palice est mort le 24 février 1525 (à 55 ans).\n",
    "\n",
    "Son épitaphe disait \n",
    ">S’il n’était pas mort, il ferait encore envie.\n",
    "\n",
    "Mais comme à l'époque, le f et le s avaient une graphie très proche, des esprits moqueurs lisaient :\n",
    "\n",
    "> S'il n’était pas mort, il serait encore en vie.\n",
    "\n",
    "Variante très populaire :\n",
    "\n",
    "> Un quart d'heure avant sa mort, il était encore en vie.\n",
    "\n",
    "Créez une variable `vivant` en retirant un quart d’heure à la variable donnée ci-dessous, `mort`."
   ]
  },
  {
   "cell_type": "code",
   "execution_count": null,
   "id": "f73a1bd1-1db1-4dd6-9e82-2ec56d618e0c",
   "metadata": {},
   "outputs": [],
   "source": [
    "mort = pendulum.datetime(1525, 2, 24)"
   ]
  },
  {
   "cell_type": "code",
   "execution_count": null,
   "id": "e48cc0a6-ada4-46fc-bf86-bdce42dfaf02",
   "metadata": {},
   "outputs": [],
   "source": [
    "# votre code ici\n"
   ]
  },
  {
   "cell_type": "code",
   "execution_count": null,
   "id": "a8bf9dcf-56a0-472e-b79c-c78d547b4851",
   "metadata": {},
   "outputs": [],
   "source": [
    "# Cellule de tests unitaire, pour valider votre solution à l'exercice\n",
    "import unittest\n",
    "\n",
    "\n",
    "class TestNotebook(unittest.TestCase):\n",
    "    \n",
    "    def test_vivant_type(self):\n",
    "        self.assertIsInstance(vivant, pendulum.DateTime)\n",
    "        \n",
    "        \n",
    "    def test_vivant(self):\n",
    "        self.assertEqual(vivant.day, 23)\n",
    "        self.assertEqual(vivant.year, 1525)\n",
    "        self.assertEqual(vivant.minute, 45)\n",
    "        self.assertEqual(vivant.hour, 23)\n",
    "        \n",
    "\n",
    "\n",
    "\n",
    "\n",
    "unittest.main(argv=[\"\"], verbosity=2, exit=False);"
   ]
  },
  {
   "cell_type": "markdown",
   "id": "567af899-e503-4243-9fa7-dbdf8b9c67eb",
   "metadata": {},
   "source": [
    "### Des dates pour un csv\n",
    "\n",
    "Ces objets `Date`sont bien utiles, mais pour écrire une date dans un fichier csv, il vaut mieux la convertir en une chaîne toute simple, au format `\"AAAA-MM-JJ\"`.\n",
    "\n",
    "Essayez de le faire à partir de la variable `date_insa`, en stockant la bonne chaîne dans la variable `str_insa`.\n",
    "\n",
    "Astuce : cherchez dans les méthodes de l'objet date avec la touche Tab, l'une d’entre elle va vous aider grandement."
   ]
  },
  {
   "cell_type": "code",
   "execution_count": null,
   "id": "145a50b2-4040-4e97-baaa-efc851277525",
   "metadata": {},
   "outputs": [],
   "source": [
    "date_insa = pendulum.datetime(1957, 3, 1)"
   ]
  },
  {
   "cell_type": "code",
   "execution_count": null,
   "id": "361f0787-a6e2-484e-a23e-8c18f2893887",
   "metadata": {},
   "outputs": [],
   "source": [
    "# votre code ici\n"
   ]
  },
  {
   "cell_type": "code",
   "execution_count": null,
   "id": "4490a485-769f-43ba-8341-44dca63c0920",
   "metadata": {},
   "outputs": [],
   "source": [
    "# Cellule de tests unitaire, pour valider votre solution à l'exercice\n",
    "import unittest\n",
    "\n",
    "\n",
    "class TestNotebook(unittest.TestCase):\n",
    "    \n",
    "    def test_type(self):\n",
    "        self.assertIsInstance(str_insa, str)\n",
    "        \n",
    "        \n",
    "    def test_values(self):\n",
    "        self.assertEqual(str_insa[:4], \"1957\")\n",
    "        self.assertEqual(str_insa[5:7], \"03\")\n",
    "        self.assertEqual(str_insa[8:], \"01\")\n",
    "        \n",
    "\n",
    "\n",
    "\n",
    "\n",
    "unittest.main(argv=[\"\"], verbosity=2, exit=False);"
   ]
  },
  {
   "cell_type": "markdown",
   "id": "5710d7b3-2ed0-4481-ba10-bae8bc8cefcf",
   "metadata": {},
   "source": [
    "### Quel jour de la semaine ?\n",
    "\n",
    "Isaac Newton a fait de grandes contributions à la science, mais il versait également dans le mysticisme et l’alchimie.\n",
    "\n",
    "Il a ainsi prophétisé que la fin du monde était pour l'année 2060, qui marquait la fin d'une période de corruption de l'Église entamée par le couronnement de Charlemagne, le jour de Noël en l'an 800.\n",
    "\n",
    "Mais du coup, ça tombe quel jour de la semaine, la fin du monde d'après Isaac Newton ? (en supposant que ce soit exactement 1260 ans après le couronnement de Charlemagne).\n",
    "\n",
    "Partez de la variable `couronnement_charlemagne` donnée.\n",
    "\n",
    "Stockez votre réponse dans la variable `dernier_jour`. Le résultat attendu est une chaîne, avec le nom du jour, en anglais, par exemple `\"Monday\"`.\n",
    "\n",
    "**Astuce :** sur un objet `Date`, vous pouvez utiliser la méthode `.strftime()` pour l'exprimer en chaîne de caractères, mais il faudra trouver le bon format pour extraire le jour de la semaine."
   ]
  },
  {
   "cell_type": "code",
   "execution_count": null,
   "id": "81687214-3213-45e0-a5ac-8784387cc5cc",
   "metadata": {},
   "outputs": [],
   "source": [
    "couronnement_charlemagne = pendulum.datetime(800, 12, 25)"
   ]
  },
  {
   "cell_type": "code",
   "execution_count": null,
   "id": "9e85bcc3-dffb-435f-97ac-6c5c59de7a7e",
   "metadata": {},
   "outputs": [],
   "source": [
    "# votre code ici\n"
   ]
  },
  {
   "cell_type": "code",
   "execution_count": null,
   "id": "d22c79ba-a774-42d9-bc7e-fcb34f086126",
   "metadata": {},
   "outputs": [],
   "source": [
    "# Cellule de tests unitaire, pour valider votre solution à l'exercice\n",
    "import unittest\n",
    "\n",
    "\n",
    "class TestNotebook(unittest.TestCase):\n",
    "    \n",
    "    def test_type(self):\n",
    "        self.assertIsInstance(dernier_jour, str)\n",
    "        \n",
    "        \n",
    "    def test_values(self):\n",
    "        self.assertEqual(dernier_jour[3], \"u\")\n",
    "\n",
    "\n",
    "\n",
    "unittest.main(argv=[\"\"], verbosity=2, exit=False);"
   ]
  },
  {
   "cell_type": "markdown",
   "id": "e38159a3-3330-46da-9263-68bd1b7a215d",
   "metadata": {},
   "source": [
    "### L’année de travail d'un stakhanoviste insomniaque\n",
    "\n",
    "Un stakhanoviste insomniaque a signé un contrat de travail particulièrement souple : il peut réaliser ses 47 semaines de travail annuelles à raison de 35 heures par semaine d'une seule traite, sans s'arrêter, puis prendre ses congés jusqu'à la fin de l'année.\n",
    "\n",
    "Il commence le travail le **2 janvier 2023**, à **9h**.\n",
    "\n",
    "À quelle date et heure pourra-t-il partir en vacances jusqu'à la fin de l'année ?\n",
    "\n",
    "Stockez votre réponse dans la variable `vacances`.  "
   ]
  },
  {
   "cell_type": "code",
   "execution_count": null,
   "id": "11cf18f3-4bec-4a2b-a5d2-afa3b9cf5a1f",
   "metadata": {},
   "outputs": [],
   "source": [
    "# votre code ici\n"
   ]
  },
  {
   "cell_type": "code",
   "execution_count": null,
   "id": "1d3b1bfe-6ccb-4d4f-b678-870c8adefba6",
   "metadata": {},
   "outputs": [],
   "source": [
    "# Cellule de tests unitaire, pour valider votre solution à l'exercice\n",
    "import unittest\n",
    "\n",
    "\n",
    "class TestNotebook(unittest.TestCase):\n",
    "    \n",
    "    def test_type(self):\n",
    "        self.assertIsInstance(vacances, pendulum.DateTime)\n",
    "        \n",
    "        \n",
    "    def test_values(self):\n",
    "        self.assertEqual(vacances.hour, 22)\n",
    "        self.assertEqual(vacances.month, 3)\n",
    "        self.assertEqual(vacances.day, 11)\n",
    "        self.assertEqual(vacances.year, 2023)\n",
    "\n",
    "\n",
    "unittest.main(argv=[\"\"], verbosity=2, exit=False);"
   ]
  },
  {
   "cell_type": "markdown",
   "id": "74c33d3e-38d8-42c3-86d9-0cb9f400c4e7",
   "metadata": {},
   "source": [
    "<div class=\"alert alert-success\">\n",
    "\n",
    "Voilà c'est tout pour ce petit module bien pratique.\n",
    "Si vous avez des questions ou des demandes, n’hésitez pas à me solliciter : philippe.lemaire@insa-lyon.fr\n",
    "    \n",
    "    \n",
    "</div>"
   ]
  }
 ],
 "metadata": {
  "kernelspec": {
   "display_name": "Python 3 (ipykernel)",
   "language": "python",
   "name": "python3"
  },
  "language_info": {
   "codemirror_mode": {
    "name": "ipython",
    "version": 3
   },
   "file_extension": ".py",
   "mimetype": "text/x-python",
   "name": "python",
   "nbconvert_exporter": "python",
   "pygments_lexer": "ipython3",
   "version": "3.10.3"
  }
 },
 "nbformat": 4,
 "nbformat_minor": 5
}
