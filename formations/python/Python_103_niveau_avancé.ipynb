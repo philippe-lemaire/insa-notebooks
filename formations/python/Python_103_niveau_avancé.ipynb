{
 "cells": [
  {
   "cell_type": "markdown",
   "id": "9f6a3eec",
   "metadata": {
    "ExecuteTime": {
     "end_time": "2022-01-17T16:26:08.455525Z",
     "start_time": "2022-01-17T16:26:08.450289Z"
    }
   },
   "source": [
    "# Python - Niveau Avancé - Programmation Orientée Objet"
   ]
  },
  {
   "cell_type": "markdown",
   "id": "9afd47c8",
   "metadata": {
    "toc": true
   },
   "source": [
    "<h1>Table des matières<span class=\"tocSkip\"></span></h1>\n",
    "<div class=\"toc\"><ul class=\"toc-item\"><li><span><a href=\"#Récapitulatif-des-notions-vues-dans-le-module-précédent\" data-toc-modified-id=\"Récapitulatif-des-notions-vues-dans-le-module-précédent-1\"><span class=\"toc-item-num\">1&nbsp;&nbsp;</span>Récapitulatif des notions vues dans le module précédent</a></span></li><li><span><a href=\"#Les-Bases-de-la-programmation-orientée-objet\" data-toc-modified-id=\"Les-Bases-de-la-programmation-orientée-objet-2\"><span class=\"toc-item-num\">2&nbsp;&nbsp;</span>Les Bases de la programmation orientée objet</a></span><ul class=\"toc-item\"><li><span><a href=\"#Un-peu-de-terminologie\" data-toc-modified-id=\"Un-peu-de-terminologie-2.1\"><span class=\"toc-item-num\">2.1&nbsp;&nbsp;</span>Un peu de terminologie</a></span></li><li><span><a href=\"#Exemple-simple-:-créer-une-carte-de-jeu\" data-toc-modified-id=\"Exemple-simple-:-créer-une-carte-de-jeu-2.2\"><span class=\"toc-item-num\">2.2&nbsp;&nbsp;</span>Exemple simple : créer une carte de jeu</a></span></li><li><span><a href=\"#Création-d'un-paquet-de-cartes\" data-toc-modified-id=\"Création-d'un-paquet-de-cartes-2.3\"><span class=\"toc-item-num\">2.3&nbsp;&nbsp;</span>Création d'un paquet de cartes</a></span></li><li><span><a href=\"#Héritage-de-classes\" data-toc-modified-id=\"Héritage-de-classes-2.4\"><span class=\"toc-item-num\">2.4&nbsp;&nbsp;</span>Héritage de classes</a></span></li></ul></li></ul></div>"
   ]
  },
  {
   "cell_type": "markdown",
   "id": "bccadeb4",
   "metadata": {
    "ExecuteTime": {
     "end_time": "2022-01-18T08:22:26.693572Z",
     "start_time": "2022-01-18T08:22:26.686858Z"
    }
   },
   "source": [
    "<div class=\"alert alert-success\">Ce document est un Notebook Jupyter. Il est concu pour que vous exécutiez les cellules pour faire apparaître leur résultat juste en dessous. \n",
    "Le raccourci clavier pour exécuter une cellule et passer le contrôle à la suivante est <b>Shift + Entrée</b></div>"
   ]
  },
  {
   "cell_type": "markdown",
   "id": "947f3e0d",
   "metadata": {},
   "source": [
    "## Récapitulatif des notions vues dans le module précédent"
   ]
  },
  {
   "cell_type": "markdown",
   "id": "7983b605",
   "metadata": {},
   "source": [
    "\n",
    "Dans les deux modules précédents, nous avons vu les notions suivantes :\n",
    "\n",
    "- [Partie 1 - Python 101](Python_101_niveau_debutant.ipynb)\n",
    "    - les variables\n",
    "    - les types de base : str, lst, tuple, dict, int, float, complex\n",
    "    - l’exécution conditionnelle\n",
    "    - les boucles for et while\n",
    "    - les fonctions\n",
    "    - les principales méthodes des types de base\n",
    "- [Partie 2 - Python 102](Python_102_niveau_intermediaire.ipynb)\n",
    "    - les fonctions \"jetables\" avec lambda\n",
    "    - les list comprehensions\n",
    "    - les dictionary comprehensions\n",
    "    - lire et écrire dans des fichiers\n",
    "    - importer des fonctions et objets à partir de modules et quelques exemples de modules utiles\n",
    "\n",
    "Dans ce dernier module, nous allons voir la notion suivante :\n",
    "\n",
    "- les bases de la programmation orientée objet\n",
    "\n"
   ]
  },
  {
   "cell_type": "markdown",
   "id": "d20991f1",
   "metadata": {},
   "source": [
    "## Les Bases de la programmation orientée objet"
   ]
  },
  {
   "cell_type": "markdown",
   "id": "14cbb6a6",
   "metadata": {},
   "source": [
    "<div class ='alert alert-info'>\n",
    "    \n",
    "La programmation orientée objet consiste à encapsuler dans des types d'objets personnalisés des données et des comportements, dans le but de simuler un objet (au sens très large du terme) de la vie réelle.\n",
    "\n",
    "</div>\n",
    "    \n",
    "### Un peu de terminologie\n",
    "\n",
    "<div class ='alert alert-info'>\n",
    "    \n",
    "- Les données internes d'un objet (ses variables internes) sont appelées les **attributs**.\n",
    "- Les comportements programmés dans un objet (ses fonctions internes) sont appelées les **méthodes**.\n",
    "- Une **classe** est la définition d’un objet. C’est dans la **classe** que nous allons définir les **attributs** et les **méthodes**.\n",
    "- Une **instance** est un objet en particulier issu de la **classe**.\n",
    "    \n",
    "Pour faire une analogie avec le monde de la pâtisserie, la **classe** est un moule à cake, et chaque cake qui en sort est une **instance** issue de cette classe. Chaque cake est unique, mais chaque cake partage sa structure avec les autres cakes issus du même moule.\n",
    "\n",
    "</div>"
   ]
  },
  {
   "cell_type": "markdown",
   "id": "68dce8c6",
   "metadata": {},
   "source": [
    "![](class_and_instances.png)"
   ]
  },
  {
   "cell_type": "markdown",
   "id": "f73eab34",
   "metadata": {},
   "source": [
    "### Exemple simple : créer une carte de jeu"
   ]
  },
  {
   "cell_type": "markdown",
   "id": "9c40ceca",
   "metadata": {},
   "source": [
    "<div class ='alert alert-info'>\n",
    "    \n",
    "Commençons par un exemple simple. Imaginons que je veuille représenter un paquet de 52 cartes classique.\n",
    "    \n",
    "Pour créer un paquet de cartes, il faut d’abord créer des cartes.\n",
    "\n",
    "</div>"
   ]
  },
  {
   "cell_type": "code",
   "execution_count": null,
   "id": "a9e8900d",
   "metadata": {
    "ExecuteTime": {
     "end_time": "2022-02-08T08:17:58.128508Z",
     "start_time": "2022-02-08T08:17:58.121735Z"
    }
   },
   "outputs": [],
   "source": [
    "class Card:\n",
    "    def __init__(self, rank, suit): # méthode utilisée à l'initialisation d'une instance\n",
    "        self.rank = rank\n",
    "        self.suit = suit\n",
    "    def __repr__(self): # cette méthode détermine comment une instance sera représentée par print()\n",
    "        return f\"Card('{self.rank}','{self.suit}')\""
   ]
  },
  {
   "cell_type": "code",
   "execution_count": null,
   "id": "d6a91842",
   "metadata": {
    "ExecuteTime": {
     "end_time": "2022-02-08T08:17:58.421393Z",
     "start_time": "2022-02-08T08:17:58.412956Z"
    }
   },
   "outputs": [],
   "source": [
    "as_de_pique = Card('As', 'Pique')\n",
    "as_de_pique"
   ]
  },
  {
   "cell_type": "markdown",
   "id": "9176f678",
   "metadata": {},
   "source": [
    "<div class ='alert alert-info'>\n",
    "    \n",
    "Le mot clé `class` sert à déclarer un nouveau type d'objet.\n",
    "    \n",
    "La convention est de leur donner un nom commençant par une majuscule, par opposition aux variables.\n",
    "    \n",
    "À l'intérieur de la classe, les fonctions internes permettent de définir le comportement.\n",
    "Toutes les fonctions interne de l'objet doivent avoir un premier argument qui représente l'instance de l'objet sur laquelle la méthode est appelée. Par convention, cet argument est toujours appelé `self`.\n",
    "\n",
    "</div>\n",
    "<div class ='alert alert-info'>\n",
    "Certaines méthodes sont dites magiques : \n",
    "    \n",
    "- leur nom commence et se termine par un double underscore (souvent appelé *dunder*)\n",
    "- si elles sont implémentées, elles ont un effet très particulier \n",
    "   \n",
    "La méthode `__init__()` est automatiquement appelée quand une instance de l'objet est initialisée. On l’utilise pour définir les différents attributs d’une instance de l'objet lors de sa création.\n",
    "    \n",
    "La méthode `__repr__()` détermine comment un objet est représenté quand on le passe à `print()`. Par convention, on fait en sorte qu’elle retourne une chaîne de caractères qui correspond à la commande passée pour créer l'objet.\n",
    "    \n",
    "\n",
    "</div>"
   ]
  },
  {
   "cell_type": "markdown",
   "id": "a4b9481a",
   "metadata": {},
   "source": [
    "<div class='alert alert-info'>\n",
    "\n",
    "On peut accéder aux attributs d’une instance avec la syntaxe `variable.attribut`\n",
    "\n",
    "</div>"
   ]
  },
  {
   "cell_type": "code",
   "execution_count": null,
   "id": "1cf72380",
   "metadata": {
    "ExecuteTime": {
     "end_time": "2022-02-08T08:18:00.291854Z",
     "start_time": "2022-02-08T08:18:00.286540Z"
    }
   },
   "outputs": [],
   "source": [
    "as_de_pique.rank"
   ]
  },
  {
   "cell_type": "code",
   "execution_count": null,
   "id": "7bfc9c65",
   "metadata": {
    "ExecuteTime": {
     "end_time": "2022-02-08T08:18:00.441857Z",
     "start_time": "2022-02-08T08:18:00.438279Z"
    },
    "scrolled": true
   },
   "outputs": [],
   "source": [
    "as_de_pique.suit"
   ]
  },
  {
   "cell_type": "markdown",
   "id": "d033dc40",
   "metadata": {},
   "source": [
    "### Création d'un paquet de cartes"
   ]
  },
  {
   "cell_type": "markdown",
   "id": "b79d50e0",
   "metadata": {
    "ExecuteTime": {
     "end_time": "2022-02-07T14:54:19.100865Z",
     "start_time": "2022-02-07T14:54:19.087713Z"
    }
   },
   "source": [
    "<div class = 'alert alert-info'>\n",
    "\n",
    "Maintenant que nous avons un objet `Card`, nous pouvons nous en servir pour créer un objet `Deck` qui va simuler un paquet de cartes.\n",
    "\n",
    "</div>"
   ]
  },
  {
   "cell_type": "code",
   "execution_count": null,
   "id": "182a067e",
   "metadata": {
    "ExecuteTime": {
     "end_time": "2022-02-08T08:18:02.152324Z",
     "start_time": "2022-02-08T08:18:02.144426Z"
    }
   },
   "outputs": [],
   "source": [
    "class Deck:\n",
    "    ranks = [str(n) for n in range(2,11)] + list('JQKA') # une liste des valeurs possibles\n",
    "    suits = 'spades hearts diamonds clubs'.split() # une liste des couleurs possibles\n",
    "    \n",
    "    def __init__(self):\n",
    "        \"\"\"double list comprehension pour créer une carte de chaque valeur pour chaque couleur\"\"\"\n",
    "        self.cards = [Card(rank, suit) for suit in self.suits for rank in self.ranks]\n",
    "\n",
    "    def __repr__(self):\n",
    "        \"\"\"Méthode qui contrôle comment une instance serait représentée par la fonction print()\"\"\"\n",
    "        return \"Deck()\""
   ]
  },
  {
   "cell_type": "code",
   "execution_count": null,
   "id": "903b57b5",
   "metadata": {
    "ExecuteTime": {
     "end_time": "2022-02-08T08:18:02.353684Z",
     "start_time": "2022-02-08T08:18:02.350867Z"
    }
   },
   "outputs": [],
   "source": [
    "deck = Deck()"
   ]
  },
  {
   "cell_type": "code",
   "execution_count": null,
   "id": "5c392373",
   "metadata": {
    "ExecuteTime": {
     "end_time": "2022-02-08T08:18:27.195044Z",
     "start_time": "2022-02-08T08:18:27.180061Z"
    },
    "scrolled": true
   },
   "outputs": [],
   "source": [
    "deck.cards # l'attribut .cards contient une liste d’objets issus de Card() pour chaque couleur et chaque valeur"
   ]
  },
  {
   "cell_type": "markdown",
   "id": "1ec5ec21",
   "metadata": {},
   "source": [
    "<div class='alert alert-info'>\n",
    "    \n",
    "Notre paquet contient bien nos 52 cartes, mais il lui manque quelques méthodes pour qu’il soit utile.\n",
    "\n",
    "Par exemple :\n",
    "\n",
    "- une méthode pour obtenir la taille du paquet de cartes\n",
    "- une méthode pour obtenir une carte à une position donnée\n",
    "- une méthode pour mélanger le paquet de cartes\n",
    "- une méthode pour piocher un certain nombre de cartes : obtenir une liste de cartes tout en les retirant du paquet.\n",
    "\n",
    "</div>"
   ]
  },
  {
   "cell_type": "markdown",
   "id": "fe309217",
   "metadata": {},
   "source": [
    "<div class='alert alert-info'>\n",
    "    \n",
    "Commençons par les deux premières :\n",
    "    \n",
    "- une méthode pour obtenir la taille du paquet de cartes\n",
    "- une méthode pour obtenir une carte à une position particulière\n",
    "\n",
    "</div>"
   ]
  },
  {
   "cell_type": "code",
   "execution_count": null,
   "id": "19020019",
   "metadata": {
    "ExecuteTime": {
     "end_time": "2022-02-08T08:19:29.378089Z",
     "start_time": "2022-02-08T08:19:29.370244Z"
    }
   },
   "outputs": [],
   "source": [
    "class Deck:\n",
    "    ranks = [str(n) for n in range(2, 11)] + list('JQKA')\n",
    "    suits = 'spades hearts diamonds clubs'.split()\n",
    "\n",
    "    def __init__(self):\n",
    "        self.cards = [Card(rank, suit) for suit in self.suits for rank in self.ranks]\n",
    "\n",
    "    def __repr__(self):\n",
    "        return \"Deck()\"\n",
    "\n",
    "    def __len__(self):\n",
    "        return len(self.cards)"
   ]
  },
  {
   "cell_type": "markdown",
   "id": "d2cca8c5",
   "metadata": {},
   "source": [
    "<div class='alert alert-info'>\n",
    "    \n",
    "La méthode magique `__len__()` permet de contrôler comment la fonction globale `len()` va se comporter avec notre objet.\n",
    "\n",
    "Comme notre paquet de cartes est essentiellement une liste de cartes, il suffit de renvoyer la longueur de la liste interne.\n",
    "\n",
    "</div>"
   ]
  },
  {
   "cell_type": "code",
   "execution_count": null,
   "id": "2b33ebca",
   "metadata": {
    "ExecuteTime": {
     "end_time": "2022-02-08T08:19:48.739593Z",
     "start_time": "2022-02-08T08:19:48.728871Z"
    }
   },
   "outputs": [],
   "source": [
    "deck = Deck()\n",
    "len(deck)"
   ]
  },
  {
   "cell_type": "markdown",
   "id": "5df4c118",
   "metadata": {},
   "source": [
    "<div class='alert alert-info'>\n",
    "    \n",
    "La méthode magique `__getitem__()` permet d’implémenter l'indexation pour notre objet.\n",
    "\n",
    "Comme notre paquet de cartes est essentiellement une liste de cartes, il suffit de renvoyer la carte à la position donnée dans la liste interne.\n",
    "\n",
    "\n",
    "</div>"
   ]
  },
  {
   "cell_type": "code",
   "execution_count": null,
   "id": "685c9f0e",
   "metadata": {
    "ExecuteTime": {
     "end_time": "2022-02-08T08:20:09.101723Z",
     "start_time": "2022-02-08T08:20:09.091584Z"
    }
   },
   "outputs": [],
   "source": [
    "class Deck:\n",
    "    ranks = [str(n) for n in range(2,11)] + list('JQKA')\n",
    "    suits = 'spades hearts diamonds clubs'.split()\n",
    "        \n",
    "    def __init__(self):\n",
    "        self.cards = [Card(rank, suit) for suit in self.suits for rank in self.ranks]\n",
    "\n",
    "    def __repr__(self):\n",
    "        return \"Deck()\"\n",
    "    \n",
    "    def __len__(self):\n",
    "        return len(self.cards)\n",
    "    \n",
    "    def __getitem__(self, position):\n",
    "        return self.cards[position]"
   ]
  },
  {
   "cell_type": "markdown",
   "id": "328047b4",
   "metadata": {},
   "source": [
    "<div class='alert alert-success'>\n",
    "\n",
    "Implémenter la méthode `__getitem__()` donne accès à l’indéxation de notre objet, mais aussi aux tranches, et à l'itération.\n",
    "\n",
    "</div>"
   ]
  },
  {
   "cell_type": "code",
   "execution_count": null,
   "id": "2e537480",
   "metadata": {
    "ExecuteTime": {
     "end_time": "2022-02-08T08:20:13.797391Z",
     "start_time": "2022-02-08T08:20:13.793604Z"
    }
   },
   "outputs": [],
   "source": [
    "deck = Deck()"
   ]
  },
  {
   "cell_type": "code",
   "execution_count": null,
   "id": "17204e2d",
   "metadata": {
    "ExecuteTime": {
     "end_time": "2022-02-08T08:20:14.211297Z",
     "start_time": "2022-02-08T08:20:14.204055Z"
    }
   },
   "outputs": [],
   "source": [
    "deck[0]"
   ]
  },
  {
   "cell_type": "code",
   "execution_count": null,
   "id": "7879d96a",
   "metadata": {
    "ExecuteTime": {
     "end_time": "2022-02-08T08:20:14.719002Z",
     "start_time": "2022-02-08T08:20:14.711599Z"
    }
   },
   "outputs": [],
   "source": [
    "deck[0:13]"
   ]
  },
  {
   "cell_type": "code",
   "execution_count": null,
   "id": "d123f76a",
   "metadata": {
    "ExecuteTime": {
     "end_time": "2022-02-08T08:20:22.410065Z",
     "start_time": "2022-02-08T08:20:22.396084Z"
    },
    "scrolled": true
   },
   "outputs": [],
   "source": [
    "for card in deck:\n",
    "    print(card)"
   ]
  },
  {
   "cell_type": "markdown",
   "id": "d486af3f",
   "metadata": {},
   "source": [
    "<div class='alert alert-info'>\n",
    "    \n",
    "Implémentons encore 2 méthodes :\n",
    "    \n",
    "- une méthode pour mélanger le paquet de cartes\n",
    "- une méthode pour piocher un certain nombre de cartes : obtenir une liste de cartes tout en les retirant du paquet.\n",
    "\n",
    "</div>"
   ]
  },
  {
   "cell_type": "code",
   "execution_count": null,
   "id": "04f1b5cb",
   "metadata": {
    "ExecuteTime": {
     "end_time": "2022-02-08T08:20:48.515490Z",
     "start_time": "2022-02-08T08:20:48.506540Z"
    }
   },
   "outputs": [],
   "source": [
    "import random \n",
    "\n",
    "class Deck:\n",
    "    ranks = [str(n) for n in range(2,11)] + list('JQKA')\n",
    "    suits = 'spades hearts diamonds clubs'.split()\n",
    "        \n",
    "    def __init__(self):\n",
    "        self.cards = [Card(rank, suit) for suit in self.suits for rank in self.ranks]\n",
    "\n",
    "    def __repr__(self):\n",
    "        return \"Deck()\"\n",
    "       \n",
    "    def __len__(self):\n",
    "        return len(self.cards)\n",
    "    \n",
    "    def __getitem__(self, position):\n",
    "        return self.cards[position]\n",
    "\n",
    "    def shuffle(self):\n",
    "        random.shuffle(self.cards)"
   ]
  },
  {
   "cell_type": "code",
   "execution_count": null,
   "id": "780311da",
   "metadata": {
    "ExecuteTime": {
     "end_time": "2022-02-08T08:21:16.595179Z",
     "start_time": "2022-02-08T08:21:16.587722Z"
    }
   },
   "outputs": [],
   "source": [
    "deck = Deck() # initialisation du paquet\n",
    "deck.shuffle() # mélange du paquet\n",
    "deck[:5] # affichage des 5 premiers éléments du paquet"
   ]
  },
  {
   "cell_type": "markdown",
   "id": "0bb53400",
   "metadata": {},
   "source": [
    "<div class='alert alert-success'>\n",
    "    \n",
    "Mélanger notre paquet de cartes revient à mélanger la liste des cartes qui le compose, ce que random.shuffle() peut faire pour nous.\n",
    "\n",
    "</div>"
   ]
  },
  {
   "cell_type": "markdown",
   "id": "02432a63",
   "metadata": {},
   "source": [
    "<div class='alert alert-info'>\n",
    "    \n",
    "Il nous manque notre dernière méthode, celle qui permettra de piocher des cartes et de les ajouter à la main de joueurs, dans un programme plus complet.\n",
    "\n",
    "</div>"
   ]
  },
  {
   "cell_type": "code",
   "execution_count": null,
   "id": "2be68200",
   "metadata": {
    "ExecuteTime": {
     "end_time": "2022-02-08T08:23:59.955408Z",
     "start_time": "2022-02-08T08:23:59.942094Z"
    }
   },
   "outputs": [],
   "source": [
    "import random \n",
    "\n",
    "class Deck:\n",
    "    ranks = [str(n) for n in range(2,11)] + list('JQKA')\n",
    "    suits = 'spades hearts diamonds clubs'.split()\n",
    "        \n",
    "    def __init__(self):\n",
    "        self.cards = [Card(rank, suit) for suit in self.suits for rank in self.ranks]\n",
    "    \n",
    "    def __repr__(self):\n",
    "        return \"Deck()\"\n",
    "    \n",
    "    def __len__(self):\n",
    "        return len(self.cards)\n",
    "    \n",
    "    def __getitem__(self, position):\n",
    "        return self.cards[position]\n",
    "\n",
    "\n",
    "    def shuffle(self):\n",
    "        random.shuffle(self.cards)\n",
    "    \n",
    "    def draw(self, n):\n",
    "        \"\"\"Retire les n premières cartes du paquet, et renvoie ces cartes dans une liste.\"\"\"\n",
    "        cards_drawn = self[:n]\n",
    "        self.cards = self[n:]\n",
    "        \n",
    "        return cards_drawn"
   ]
  },
  {
   "cell_type": "markdown",
   "id": "45e220c7",
   "metadata": {},
   "source": [
    "<div class='alert alert-success'>\n",
    "    \n",
    "La méthode `draw()` fait 2 choses : elle retire n  cartes du sommet du paquet, et renvoie une liste de ces cartes (pour l'ajouter à la main d'un joueur dans un programme complet).\n",
    "\n",
    "Le slicing `self[:n]` nous permet de récupérer une copie des n premières cartes du paquet.\n",
    "\n",
    "Ensuite on réassigne la liste de cartes interne par `self[n:]` c’est-à-dire l’état du paquet moins les n premières cartes.\n",
    "    \n",
    "</div>"
   ]
  },
  {
   "cell_type": "code",
   "execution_count": null,
   "id": "f8102b4d",
   "metadata": {
    "ExecuteTime": {
     "end_time": "2022-02-08T08:25:59.903644Z",
     "start_time": "2022-02-08T08:25:59.897630Z"
    }
   },
   "outputs": [],
   "source": [
    "deck = Deck()\n",
    "deck.shuffle() # mélangeons le paquet"
   ]
  },
  {
   "cell_type": "code",
   "execution_count": null,
   "id": "92945e5c",
   "metadata": {
    "ExecuteTime": {
     "end_time": "2022-02-08T08:26:00.829077Z",
     "start_time": "2022-02-08T08:26:00.824497Z"
    }
   },
   "outputs": [],
   "source": [
    "hand = deck.draw(5) # on pioche 5 cartes"
   ]
  },
  {
   "cell_type": "code",
   "execution_count": null,
   "id": "d691a54a",
   "metadata": {
    "ExecuteTime": {
     "end_time": "2022-02-08T08:26:01.590212Z",
     "start_time": "2022-02-08T08:26:01.584175Z"
    }
   },
   "outputs": [],
   "source": [
    "hand # on a bien récupéré 5 cartes"
   ]
  },
  {
   "cell_type": "code",
   "execution_count": null,
   "id": "4019bda7",
   "metadata": {
    "ExecuteTime": {
     "end_time": "2022-02-08T08:26:15.863684Z",
     "start_time": "2022-02-08T08:26:15.856259Z"
    }
   },
   "outputs": [],
   "source": [
    "len(deck) # le paquet a bien 5 cartes de moins"
   ]
  },
  {
   "cell_type": "code",
   "execution_count": null,
   "id": "3d5ff2a0",
   "metadata": {
    "ExecuteTime": {
     "end_time": "2022-02-08T08:26:18.024120Z",
     "start_time": "2022-02-08T08:26:18.016951Z"
    }
   },
   "outputs": [],
   "source": [
    "len(deck) + len(hand)"
   ]
  },
  {
   "cell_type": "markdown",
   "id": "7fd19e33",
   "metadata": {},
   "source": [
    "<div class='alert alert-success'>\n",
    "    \n",
    "Pour aller plus loin, dans un programme simulant un jeu comme le Poker, nous pourrions ajouter d'autres méthodes à nos objets `Card` et `Deck`, pour les rendre encore plus utiles. Par exemple :\n",
    "    \n",
    "- une méthode pour ordonner des instances de `Card` permettrait de classer la main d'un joueur.\n",
    "- des méthodes `flop`, `turn`, `river` permettraient de simuler le déroulement d’une manche de Texas hold'em Poker\n",
    "- une nouvelle classe `Player` pourrait représenter les joueurs et contenir leur main, leurs jetons, plus des méthodes pour enchérir, se retirer d’une manche, et comparer la force des mains des différents joueurs, en testant les combinaisons possibles de leurs cartes en main et des cartes sur la table.\n",
    "\n",
    "</div>\n",
    "\n",
    "<div class='alert alert-info'>\n",
    "    \n",
    "Pour un tour d'horizon complet des méthodes magiques, vous pouvez consulter [ce guide (en anglais)…](https://rszalski.github.io/magicmethods/)\n",
    "    \n",
    "</div>"
   ]
  },
  {
   "cell_type": "markdown",
   "id": "07c1eeb6",
   "metadata": {},
   "source": [
    "### Héritage de classes"
   ]
  },
  {
   "cell_type": "markdown",
   "id": "a0b6ca32",
   "metadata": {},
   "source": [
    "Une classe peut hériter des attributs et méthodes d’une autre classe.\n",
    "\n",
    "Il suffit de l’indiquer dès le début de la définition de la classe fille :\n",
    "\n",
    "    class Daughter(Mother):\n",
    "        …"
   ]
  },
  {
   "cell_type": "markdown",
   "id": "8272cf62",
   "metadata": {},
   "source": [
    "Cet héritage permet de créer de nouveaux objets partageant une partie des attributs et méthodes d’un autre objet, en ajoutant de nouveaux attributs et méthode ou bien en écrasant une partie des attributs et méthodes hérités.\n",
    "\n",
    "Cela permet de créer un nombre limité de classes contenant un noyaux de comportements et de les combiner ensuite par héritage pour créer des objets ayant différentes combinaisons d’attributs et de comportements.\n",
    "\n",
    "Des classes conçues pour être uniquement sous-classées et combinées par héritage sont  appelées des `Mixin`."
   ]
  },
  {
   "cell_type": "code",
   "execution_count": null,
   "id": "57c61266",
   "metadata": {},
   "outputs": [],
   "source": [
    "class Vertebrae_Mixin:\n",
    "    skeleton = 'inner'\n",
    "\n",
    "\n",
    "class Mammal_Mixin:\n",
    "    blood = 'hot'\n",
    "\n",
    "    def feed_offspring(self):\n",
    "        return \"milk\"\n",
    "\n",
    "\n",
    "class Feline(Vertebrae_Mixin, Mammal_Mixin):\n",
    "    family = 'Felidae'"
   ]
  },
  {
   "cell_type": "code",
   "execution_count": null,
   "id": "1eb0db68",
   "metadata": {},
   "outputs": [],
   "source": [
    "cat = Feline()\n",
    "f\"{cat.skeleton=}, {cat.blood=}, {cat.family=}.\""
   ]
  },
  {
   "cell_type": "markdown",
   "id": "61330118",
   "metadata": {},
   "source": [
    "<div class='alert alert-success'>\n",
    "    \n",
    "Notre instance de `Feline` a bien hérité des attributs des deux classes Mixin, tout en ayant son propre attribut `.family`.\n",
    "\n",
    "</div>\n"
   ]
  },
  {
   "cell_type": "code",
   "execution_count": null,
   "id": "e72c0bc5",
   "metadata": {},
   "outputs": [],
   "source": [
    "cat.feed_offspring() # cette méthode a été héritée de Mammal_Mixin"
   ]
  },
  {
   "cell_type": "markdown",
   "id": "5362392f",
   "metadata": {},
   "source": [
    "<div class='alert alert-success'>\n",
    "    \n",
    "La méthode `feed_offspring()` est héritée de `Mammal_Mixin`.\n",
    "\n",
    "</div>\n"
   ]
  },
  {
   "cell_type": "markdown",
   "id": "739223ad",
   "metadata": {},
   "source": [
    "<div class='alert alert-info'>\n",
    "    \n",
    "Je souhaite modifier légèrement `feed_offspring()` mais uniquement dans la classe `Feline`.\n",
    "\n",
    "Je vais donc la redéfinir dans `Feline`. Pour ne pas totalement la réécrire, je peux utiliser la fonction `super()` pour appeler la méthode dans la classe mère, et m’en servir dans le `Return` de la méthode réécrite.\n",
    "\n",
    "</div>\n"
   ]
  },
  {
   "cell_type": "code",
   "execution_count": null,
   "id": "fc62fa3f",
   "metadata": {},
   "outputs": [],
   "source": [
    "class Feline(Vertebrae_Mixin, Mammal_Mixin):\n",
    "    family = 'Felidae'\n",
    "\n",
    "    def feed_offspring(self):\n",
    "        # nous allons écraser la méthode feed_offspring() tout en réutilisant la méthode héritée dans\n",
    "        # cette nouvelle définition\n",
    "        # la fonction super() permet d'accéder aux méthodes et attributs de la classe mère\n",
    "        return super().feed_offspring() + ' and meat.'"
   ]
  },
  {
   "cell_type": "code",
   "execution_count": null,
   "id": "d00f8655",
   "metadata": {},
   "outputs": [],
   "source": [
    "cat2 = Feline()\n",
    "cat2.feed_offspring()"
   ]
  },
  {
   "cell_type": "markdown",
   "id": "77263c18",
   "metadata": {},
   "source": [
    "<div class='alert alert-success'>\n",
    "    \n",
    "Ma méthode `.feed_offspring()` fonctionne ! La modification apportée ne concerne que la classe `Feline`, la méthode de la classe `Mammal_Mixin` reste inchangée.\n",
    "\n",
    "</div>"
   ]
  },
  {
   "cell_type": "markdown",
   "id": "e4a3e11d",
   "metadata": {},
   "source": [
    "<div class='alert alert-success'>\n",
    "    \n",
    "🎉 Vous êtes arrivé·e au bout de ce module, félicitations ! 🎉\n",
    "\n",
    "</div>"
   ]
  },
  {
   "cell_type": "markdown",
   "id": "7f48a393",
   "metadata": {},
   "source": [
    "<div class='alert alert-success'>\n",
    "    \n",
    "Non pas **1** mais **2** notebooks d'exercices différents pour célébrer votre nouvelle maîtrise de Python :\n",
    "    \n",
    "1.  [notebook d'exercices POO](exercices/exercices_niveau_avance.ipynb) pour mettre vos nouvelles connaissances sur les classes en pratique\n",
    "1. [un exercice guidé qui fait manipuler des fichiers, des strings et des dictionnaires](mots-anglais-dans-le-proteome-humain.ipynb)\n",
    "    \n",
    "</div>"
   ]
  }
 ],
 "metadata": {
  "kernelspec": {
   "display_name": "Python 3 (ipykernel)",
   "language": "python",
   "name": "python3"
  },
  "language_info": {
   "codemirror_mode": {
    "name": "ipython",
    "version": 3
   },
   "file_extension": ".py",
   "mimetype": "text/x-python",
   "name": "python",
   "nbconvert_exporter": "python",
   "pygments_lexer": "ipython3",
   "version": "3.10.0rc1"
  },
  "toc": {
   "base_numbering": 1,
   "nav_menu": {},
   "number_sections": true,
   "sideBar": true,
   "skip_h1_title": true,
   "title_cell": "Table des matières",
   "title_sidebar": "Contenu",
   "toc_cell": true,
   "toc_position": {
    "height": "calc(100% - 180px)",
    "left": "10px",
    "top": "150px",
    "width": "225.2px"
   },
   "toc_section_display": true,
   "toc_window_display": true
  }
 },
 "nbformat": 4,
 "nbformat_minor": 5
}
