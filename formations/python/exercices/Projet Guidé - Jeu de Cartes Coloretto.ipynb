{
 "cells": [
  {
   "cell_type": "markdown",
   "id": "aa75774c",
   "metadata": {},
   "source": [
    "# Projet guidé - Jeu de cartes Coloretto"
   ]
  },
  {
   "cell_type": "markdown",
   "id": "ea48409f",
   "metadata": {},
   "source": [
    "Ce projet guidé va vous faire utiliser la plupart des concepts vus jusqu’à présent.\n",
    "\n",
    "Nous allons implémenter ensemble un jeu de cartes appelé Coloretto.\n",
    "\n",
    "Les règles du jeu :\n",
    "\n",
    "- [en français](https://ludos.brussels/ludo-cocof/opac_css/doc_num.php?explnum_id=105)\n",
    "- [en anglais](https://www.riograndegames.com/wp-content/uploads/2013/02/Coloretto-Rules.pdf)"
   ]
  },
  {
   "cell_type": "markdown",
   "id": "ff98de88",
   "metadata": {},
   "source": [
    "## Créer une classe représentant un joueur"
   ]
  },
  {
   "cell_type": "code",
   "execution_count": 93,
   "id": "1fa37f84",
   "metadata": {
    "ExecuteTime": {
     "end_time": "2022-02-04T16:27:47.743996Z",
     "start_time": "2022-02-04T16:27:47.726985Z"
    }
   },
   "outputs": [],
   "source": [
    "from collections import Counter\n",
    "\n",
    "\n",
    "class Player:\n",
    "    def __init__(self, name, cpu=True):\n",
    "        self.name = name\n",
    "        self.cpu = cpu\n",
    "        self.cards = []\n",
    "\n",
    "    def take(self, cards):\n",
    "        \"\"\"method to take a card stack and add them to the player's cards\"\"\"\n",
    "        self.cards.extend(cards)\n",
    "\n",
    "    def score(self, cards):\n",
    "        \"\"\"With a list of cards, compute the score.\"\"\"\n",
    "        # build a score table based on quantities gathered\n",
    "        quantities = range(1, 7)\n",
    "        scores = [1, 3, 6, 10, 15, 21]\n",
    "        score_table = dict(zip(quantities, scores))\n",
    "\n",
    "        # initialise score with +2 cards\n",
    "        score = cards.count(\"+2\") * 2\n",
    "\n",
    "        # count the jokers\n",
    "        jokers = cards.count(\"Joker\")\n",
    "\n",
    "        # create a new list with only the normal cards to evaluate\n",
    "        cards_to_score = [card for card in cards if card != \"+2\" and card != \"Joker\"]\n",
    "\n",
    "        # Count each color\n",
    "        counter = Counter(cards_to_score)\n",
    "\n",
    "        # trim quantities above 6, they bring nothing extra\n",
    "        for color, qty in counter.most_common():\n",
    "            if qty > 6:\n",
    "                counter[color] = 6\n",
    "\n",
    "        # add jokers where they help the most\n",
    "        for j in range(jokers):\n",
    "            for color, qty in counter.most_common():\n",
    "                if qty < 6:\n",
    "                    counter[color] += 1\n",
    "                    break\n",
    "        # set positives and negatives\n",
    "        if len(counter) >= 3:\n",
    "            positives = counter.most_common()[:3]\n",
    "        else:\n",
    "            positives = counter.most_common()\n",
    "\n",
    "        if len(counter) > 3:\n",
    "            negatives = counter.most_common()[3:]\n",
    "        else:\n",
    "            negatives = []\n",
    "\n",
    "        ##print(f\"{counter=}\")\n",
    "        # compute positives and negatives contribution\n",
    "        #print(f\"{score=}\")\n",
    "        #print(f\"{positives=}\")\n",
    "        for color, qty in positives:\n",
    "            score += score_table.get(qty)\n",
    "        #print(f\"Après compte des positifs, {score=}\")\n",
    "        #print(f\"{negatives=}\")\n",
    "        for color, qty in negatives:\n",
    "            score -= score_table.get(qty)\n",
    "        #print(f\"Après déccompte des négatifs, {score=}\")\n",
    "        return score\n",
    "    \n",
    "    def score_current_cards(self):\n",
    "        return self.score(self.cards)\n",
    "\n",
    "    def __repr__(self):\n",
    "        return f\"Player('{self.name}')\""
   ]
  },
  {
   "cell_type": "code",
   "execution_count": 78,
   "id": "d502d2e1",
   "metadata": {
    "ExecuteTime": {
     "end_time": "2022-02-04T16:27:48.212656Z",
     "start_time": "2022-02-04T16:27:48.207631Z"
    }
   },
   "outputs": [],
   "source": [
    "p1 = Player(name=\"Phil\")"
   ]
  },
  {
   "cell_type": "code",
   "execution_count": 79,
   "id": "4af40286",
   "metadata": {
    "ExecuteTime": {
     "end_time": "2022-02-04T16:27:48.441271Z",
     "start_time": "2022-02-04T16:27:48.434682Z"
    }
   },
   "outputs": [],
   "source": [
    "p1.cards = (\n",
    "    [\"Red\"] * 3\n",
    "    + [\"Orange\"] * 12\n",
    "    + [\"Blue\"] * 2\n",
    "    + [\"Yellow\"] * 4\n",
    "    + [\"Purple\"] * 1\n",
    "    + [\"Joker\"] * 2\n",
    ")"
   ]
  },
  {
   "cell_type": "code",
   "execution_count": 80,
   "id": "7b30a487",
   "metadata": {
    "ExecuteTime": {
     "end_time": "2022-02-04T16:27:49.089124Z",
     "start_time": "2022-02-04T16:27:49.082663Z"
    }
   },
   "outputs": [
    {
     "data": {
      "text/plain": [
       "['Red',\n",
       " 'Red',\n",
       " 'Red',\n",
       " 'Orange',\n",
       " 'Orange',\n",
       " 'Orange',\n",
       " 'Orange',\n",
       " 'Orange',\n",
       " 'Orange',\n",
       " 'Orange',\n",
       " 'Orange',\n",
       " 'Orange',\n",
       " 'Orange',\n",
       " 'Orange',\n",
       " 'Orange',\n",
       " 'Blue',\n",
       " 'Blue',\n",
       " 'Yellow',\n",
       " 'Yellow',\n",
       " 'Yellow',\n",
       " 'Yellow',\n",
       " 'Purple',\n",
       " 'Joker',\n",
       " 'Joker']"
      ]
     },
     "execution_count": 80,
     "metadata": {},
     "output_type": "execute_result"
    }
   ],
   "source": [
    "p1.cards"
   ]
  },
  {
   "cell_type": "code",
   "execution_count": 81,
   "id": "ab0e391f",
   "metadata": {
    "ExecuteTime": {
     "end_time": "2022-02-04T16:27:49.347750Z",
     "start_time": "2022-02-04T16:27:49.341553Z"
    }
   },
   "outputs": [
    {
     "name": "stdout",
     "output_type": "stream",
     "text": [
      "counter=Counter({'Orange': 6, 'Yellow': 6, 'Red': 3, 'Blue': 2, 'Purple': 1})\n",
      "score=0\n",
      "positives=[('Orange', 6), ('Yellow', 6), ('Red', 3)]\n",
      "Après compte des positifs, score=48\n",
      "negatives=[('Blue', 2), ('Purple', 1)]\n",
      "Après déccompte des négatifs, score=44\n"
     ]
    },
    {
     "data": {
      "text/plain": [
       "44"
      ]
     },
     "execution_count": 81,
     "metadata": {},
     "output_type": "execute_result"
    }
   ],
   "source": [
    "p1.score_current_cards()"
   ]
  },
  {
   "cell_type": "markdown",
   "id": "1edde555",
   "metadata": {},
   "source": [
    "## Demander au joueur le nombre de joueurs (entre 3 et 5)\n",
    "\n",
    "Nous allons demander à l’utilisateur le nombre de joueurs souhaités.\n",
    "\n",
    "Si le nombre de joueurs est de 3, nous retirons une des couleurs.\n",
    "\n",
    "Enfin nous allons constituer le paquet de cartes."
   ]
  },
  {
   "cell_type": "code",
   "execution_count": 82,
   "id": "32005e25",
   "metadata": {
    "ExecuteTime": {
     "end_time": "2022-02-04T15:28:29.977381Z",
     "start_time": "2022-02-04T15:28:28.610680Z"
    }
   },
   "outputs": [
    {
     "name": "stdin",
     "output_type": "stream",
     "text": [
      "Choisissez un nombre de joueurs entre 3 et 5…\n",
      " Phil\n"
     ]
    },
    {
     "name": "stdout",
     "output_type": "stream",
     "text": [
      "Votre réponse n’est pas valide.\n"
     ]
    },
    {
     "name": "stdin",
     "output_type": "stream",
     "text": [
      "Choisissez un nombre de joueurs entre 3 et 5…\n",
      " 5\n"
     ]
    }
   ],
   "source": [
    "num_players = 0\n",
    "while num_players not in range(3, 6):\n",
    "    answer = input(\"Choisissez un nombre de joueurs entre 3 et 5…\\n\")\n",
    "    try:\n",
    "        num_players = int(answer)\n",
    "        if num_players < 3:\n",
    "            print(\"Nombre de joueurs trop petit.\")\n",
    "        if num_players > 5:\n",
    "            print(\"Nombre de joueurs trop grand.\")\n",
    "    except:\n",
    "        print(\"Votre réponse n’est pas valide.\")\n",
    "        num_players = 0"
   ]
  },
  {
   "cell_type": "code",
   "execution_count": 60,
   "id": "5693af2a",
   "metadata": {
    "ExecuteTime": {
     "end_time": "2022-02-04T15:28:20.972825Z",
     "start_time": "2022-02-04T15:28:20.962724Z"
    }
   },
   "outputs": [],
   "source": [
    "import random"
   ]
  },
  {
   "cell_type": "code",
   "execution_count": 83,
   "id": "3ad2ed39",
   "metadata": {
    "ExecuteTime": {
     "end_time": "2022-02-04T15:29:05.884538Z",
     "start_time": "2022-02-04T15:29:05.880168Z"
    }
   },
   "outputs": [],
   "source": [
    "colors = [\"Red\", \"Green\", \"Blue\", \"Orange\", \"Yellow\", \"Gray\", \"Purple\"]\n",
    "\n",
    "if num_players == 3:\n",
    "    colors.remove(random.choice(colors))"
   ]
  },
  {
   "cell_type": "code",
   "execution_count": 84,
   "id": "4893ddfa",
   "metadata": {
    "ExecuteTime": {
     "end_time": "2022-02-04T15:29:06.234097Z",
     "start_time": "2022-02-04T15:29:06.229178Z"
    }
   },
   "outputs": [
    {
     "data": {
      "text/plain": [
       "['Red', 'Green', 'Blue', 'Orange', 'Yellow', 'Gray', 'Purple']"
      ]
     },
     "execution_count": 84,
     "metadata": {},
     "output_type": "execute_result"
    }
   ],
   "source": [
    "colors"
   ]
  },
  {
   "cell_type": "code",
   "execution_count": 85,
   "id": "96f5b258",
   "metadata": {
    "ExecuteTime": {
     "end_time": "2022-02-04T15:31:22.655953Z",
     "start_time": "2022-02-04T15:31:22.643584Z"
    }
   },
   "outputs": [
    {
     "data": {
      "text/plain": [
       "['Red', 'Purple', 'Joker', 'Yellow', '+2', 'Blue', 'Green', '+2', '+2', 'Red']"
      ]
     },
     "execution_count": 85,
     "metadata": {},
     "output_type": "execute_result"
    }
   ],
   "source": [
    "deck = colors * 9 + [\"+2\"] * 10 + [\"Joker\"] * 3\n",
    "random.shuffle(deck)\n",
    "deck[:10]"
   ]
  },
  {
   "cell_type": "markdown",
   "id": "9d9b4415-ae92-4915-872c-eb71ce6910ee",
   "metadata": {},
   "source": [
    "Créons les différents joueurs"
   ]
  },
  {
   "cell_type": "code",
   "execution_count": 86,
   "id": "f697479c-e57d-486f-873b-baae79cd35ea",
   "metadata": {},
   "outputs": [
    {
     "name": "stdin",
     "output_type": "stream",
     "text": [
      "What is your name?\n",
      " Phil\n"
     ]
    }
   ],
   "source": [
    "player_name = None\n",
    "while not player_name:\n",
    "    player_name = input('What is your name?\\n')\n",
    "    if not player_name:\n",
    "        print('invalid name, retry')"
   ]
  },
  {
   "cell_type": "code",
   "execution_count": 87,
   "id": "57e4c1c6-1281-4334-bda8-398b59af31f2",
   "metadata": {},
   "outputs": [],
   "source": [
    "bot_names = ['Mr Handy', 'Cylon', 'Astro', 'Bishop', 'Goldorak', 'Defect', 'Silica', 'Prospero']"
   ]
  },
  {
   "cell_type": "code",
   "execution_count": 95,
   "id": "22544c2f-7b42-4abf-8293-8bd8fe7a3ee8",
   "metadata": {},
   "outputs": [],
   "source": [
    "p1 = Player(name=player_name, cpu=False)"
   ]
  },
  {
   "cell_type": "code",
   "execution_count": 96,
   "id": "8b1c78e4-11ee-4397-b631-66475eb7887c",
   "metadata": {},
   "outputs": [],
   "source": [
    "cpus = [Player(name) for name in random.sample(bot_names, k=num_players - 1)]"
   ]
  },
  {
   "cell_type": "code",
   "execution_count": 97,
   "id": "8cab1481-f8a7-4cda-b7d3-5d99c031607e",
   "metadata": {},
   "outputs": [
    {
     "data": {
      "text/plain": [
       "[Player('Goldorak'), Player('Astro'), Player('Silica'), Player('Defect')]"
      ]
     },
     "execution_count": 97,
     "metadata": {},
     "output_type": "execute_result"
    }
   ],
   "source": [
    "cpus"
   ]
  },
  {
   "cell_type": "code",
   "execution_count": 100,
   "id": "879fe363-ccf0-4bef-a30d-f9eb1c20e8f2",
   "metadata": {},
   "outputs": [
    {
     "data": {
      "text/plain": [
       "[Player('Goldorak'),\n",
       " Player('Phil'),\n",
       " Player('Silica'),\n",
       " Player('Astro'),\n",
       " Player('Defect')]"
      ]
     },
     "execution_count": 100,
     "metadata": {},
     "output_type": "execute_result"
    }
   ],
   "source": [
    "players = [p1] + cpus\n",
    "random.shuffle(players)\n",
    "players"
   ]
  },
  {
   "cell_type": "markdown",
   "id": "16641b67-d8f2-4b76-ac5d-0a79f0f72cd9",
   "metadata": {},
   "source": [
    "Il est temps de créer la boucle principale de notre jeu.\n",
    "\n",
    "D’après les règles du jeu, on insère une carte une carte spéciale à la 16ème place à partir de la fin du paquet de cartes. Cet artifice n'est pas nécessaire dans notre programme, on continuera simplement à démarrer des rounds **tant que** notre paquet de carte est plus long que 15."
   ]
  },
  {
   "cell_type": "code",
   "execution_count": 101,
   "id": "adfe6951-9ad2-4e72-868d-346a4f29aac4",
   "metadata": {},
   "outputs": [
    {
     "name": "stdout",
     "output_type": "stream",
     "text": [
      "ROUND 1\n",
      "ROUND 2\n",
      "ROUND 3\n",
      "ROUND 4\n",
      "ROUND 5\n"
     ]
    }
   ],
   "source": [
    "round_counter = 0\n",
    "while len(deck) > 15:\n",
    "    round_counter += 1\n",
    "    print(f\"ROUND {round_counter}\")\n",
    "    deck = deck[15:]"
   ]
  },
  {
   "cell_type": "code",
   "execution_count": null,
   "id": "643b4cdc-6b06-4186-b457-579da94e46c8",
   "metadata": {},
   "outputs": [],
   "source": []
  }
 ],
 "metadata": {
  "kernelspec": {
   "display_name": "Python 3 (ipykernel)",
   "language": "python",
   "name": "python3"
  },
  "language_info": {
   "codemirror_mode": {
    "name": "ipython",
    "version": 3
   },
   "file_extension": ".py",
   "mimetype": "text/x-python",
   "name": "python",
   "nbconvert_exporter": "python",
   "pygments_lexer": "ipython3",
   "version": "3.10.0rc1"
  },
  "toc": {
   "base_numbering": 1,
   "nav_menu": {},
   "number_sections": true,
   "sideBar": true,
   "skip_h1_title": true,
   "title_cell": "Table of Contents",
   "title_sidebar": "Contents",
   "toc_cell": false,
   "toc_position": {},
   "toc_section_display": true,
   "toc_window_display": false
  }
 },
 "nbformat": 4,
 "nbformat_minor": 5
}
