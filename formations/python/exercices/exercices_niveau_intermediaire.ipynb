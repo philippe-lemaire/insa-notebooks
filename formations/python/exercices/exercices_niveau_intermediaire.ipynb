{
 "cells": [
  {
   "cell_type": "markdown",
   "id": "423b2e92",
   "metadata": {},
   "source": [
    "# Exercices Python niveau Intermédiaire"
   ]
  },
  {
   "cell_type": "markdown",
   "id": "6a1cf388",
   "metadata": {},
   "source": [
    "## Piecettes\n",
    "\n",
    "\n",
    "Bienvenue !\n",
    "\n",
    "Dans cet exercice nous allons créer une fonction `monnaie_rendue()` qui doit premettre d’exprimer un montant donné en cents américains ¢ en un <b>minimum</b> de petites pièces. \n",
    "\n",
    "Vous devez contruire un dictionnaire avec comme clés le noms des pièces, et comme valeur le nombre de pièces de ce type à utiliser, et renvoyer le dictionnaire.\n",
    "\n",
    "Les nom des pièces et leurs valeurs sont : Pennies (1¢), Nickels (5¢), Dimes (10¢) et Quarters (25¢).\n",
    "\n",
    "\n",
    "\n",
    "Notes:\n",
    "\n",
    "- Si on passe un nombre nul ou négatif à la fonction, retourner le dictionnaire complet avec les 4 valeurs à 0.\n",
    "- Si on passe un nombre à virgule à la fonction, l'arrondir à l'entier inférieur. Donner une fraction de piecette n'a pas de sens.\n",
    "\n",
    "Exemples de résultats attendus :\n",
    "```\n",
    "monnaie_rendue(56)    ==>  {'Nickels': 1, 'Pennies': 1, 'Dimes': 0, 'Quarters': 2}  \n",
    "monnaie_rendue(-435)  ==>  {'Nickels': 0, 'Pennies': 0, 'Dimes': 0, 'Quarters': 0}  \n",
    "monnaie_rendue(4.935) ==>  {'Nickels': 0, 'Pennies': 4, 'Dimes': 0, 'Quarters': 0}  \n",
    "``` \n",
    "\n",
    "NB : l'ordre des clés dans le dictionnaire est sans importance"
   ]
  },
  {
   "cell_type": "code",
   "execution_count": null,
   "id": "68df7d86",
   "metadata": {
    "ExecuteTime": {
     "end_time": "2022-02-03T09:52:00.645717Z",
     "start_time": "2022-02-03T09:52:00.641140Z"
    }
   },
   "outputs": [],
   "source": [
    "def monnaie_rendue(montant):\n",
    "\n",
    "    # à vous"
   ]
  },
  {
   "cell_type": "code",
   "execution_count": null,
   "id": "1ba62fb9",
   "metadata": {
    "ExecuteTime": {
     "end_time": "2022-02-03T09:52:00.681661Z",
     "start_time": "2022-02-03T09:52:00.655638Z"
    }
   },
   "outputs": [],
   "source": [
    "# Cellule de tests unitaires, exécutez-là et vérifiez que tous les tests sont ok.\n",
    "# Si un test échoue, retravaillez votre fonction, puis exécutez à nouveau la cellule\n",
    "# hébergeant la définition de votre fonction et cette cellule de tests\n",
    "\n",
    "import unittest\n",
    "\n",
    "\n",
    "class TestNotebook(unittest.TestCase):\n",
    "\n",
    "    def test_56(self):\n",
    "        self.assertEqual(monnaie_rendue(56), {\n",
    "            'Nickels': 1,\n",
    "            'Pennies': 1,\n",
    "            'Dimes': 0,\n",
    "            'Quarters': 2\n",
    "        })\n",
    "\n",
    "    def test_montant_negatif(self):\n",
    "        self.assertEqual(monnaie_rendue(-435), {\n",
    "            'Nickels': 0,\n",
    "            'Pennies': 0,\n",
    "            'Dimes': 0,\n",
    "            'Quarters': 0\n",
    "        })\n",
    "\n",
    "    def test_flottant(self):\n",
    "        self.assertEqual(monnaie_rendue(4.935), {\n",
    "            'Nickels': 0,\n",
    "            'Pennies': 4,\n",
    "            'Dimes': 0,\n",
    "            'Quarters': 0\n",
    "        })\n",
    "\n",
    "    def test_97(self):\n",
    "        self.assertEqual(monnaie_rendue(97), {\n",
    "            'Quarters': 3,\n",
    "            'Dimes': 2,\n",
    "            'Nickels': 0,\n",
    "            'Pennies': 2\n",
    "        })\n",
    "\n",
    "    def test_57(self):\n",
    "        self.assertEqual(monnaie_rendue(57), {\n",
    "            'Quarters': 2,\n",
    "            'Dimes': 0,\n",
    "            'Nickels': 1,\n",
    "            'Pennies': 2\n",
    "        })\n",
    "\n",
    "\n",
    "unittest.main(argv=[''], verbosity=2, exit=False)"
   ]
  },
  {
   "cell_type": "markdown",
   "id": "3095d342",
   "metadata": {},
   "source": [
    "## La file d'attente"
   ]
  },
  {
   "cell_type": "markdown",
   "id": "d5436651",
   "metadata": {},
   "source": [
    "Il y a du monde aux caisses automatiques du supermarché en ce samedi matin.\n",
    "\n",
    "Votre mission est d'écrire une fonction `temps_attente(paniers, caisses)` qui va calculer le temps nécessaire pour que tous les clients aient fini de payer, en fonction du temps nécessaire pour chaque panier de la file (une liste de nombres entiers) et du nombre total de caisses automatiques.\n",
    "\n",
    "**Entrées :**\n",
    "\n",
    "- paniers = une liste d’entiers positifs représentant la file d'attente. Chaque nombre représente le panier d'un client, sa valeur est le temps nécessaire pour qu'ils passent leurs articles et payent leurs courses.\n",
    "- caisses : un nombre entier positif : le nombre de caisses automatiques en fonctionnement\n",
    "\n",
    "**Sortie :**\n",
    "\n",
    "La fonction doit renvoyer un entier, le temps total requis pour que toutes les transactions soient finies.\n",
    "\n",
    "**Exemples :**\n",
    "\n",
    "`temps_attente([5,3,4], 1)`\n",
    "\n",
    "*Doit renvoyer 12.  \n",
    "Comme il n'y a qu'une seule caisse, le temps d'attente est simplement la somme des durées des paniers*\n",
    "\n",
    "`temps_attente([10,2,3,3], 2)`\n",
    "\n",
    "*Doit renvoyer 10.  \n",
    "Avec 2 caisses, les 3 derniers clients finissent avant que le premier client n'ait fini  \n",
    "son gros panier sur la première caisse*\n",
    "\n",
    "`temps_attente([2,3,10], 2)`\n",
    "\n",
    "*Le résultat trouvé doit être 12.  \n",
    "Les 2 premiers clients passent sur les 2 caisses, le troisième commence dès que \n",
    "le premier a fini*\n",
    "\n",
    "\n",
    "**Précisions**\n",
    "\n",
    "- Il y a une seule file pour toutes les caisses\n",
    "- Les clients ne souhaitent pas échanger leur place dans la file\n",
    "- Les personnes en tête de file avancent instantanément vers la première caisse disponible, dès qu’une caisse est libérée.\n",
    "\n"
   ]
  },
  {
   "cell_type": "code",
   "execution_count": null,
   "id": "2e4cf478",
   "metadata": {
    "ExecuteTime": {
     "end_time": "2022-02-03T09:52:00.686195Z",
     "start_time": "2022-02-03T09:52:00.682892Z"
    }
   },
   "outputs": [],
   "source": [
    "def temps_attente(paniers, caisses):\n",
    "    '''Calcul du temps d’attente.\n",
    "    paniers est une liste d’entiers représentant les clients et le temps que chacun prendra.\n",
    "    caisses est un entier, représentant le nombre de caisses en fonctionnement.\n",
    "    '''\n",
    "    \n",
    "    # à vous \n",
    "    pass"
   ]
  },
  {
   "cell_type": "code",
   "execution_count": null,
   "id": "2bc5793c",
   "metadata": {},
   "outputs": [],
   "source": []
  },
  {
   "cell_type": "code",
   "execution_count": null,
   "id": "05b92809",
   "metadata": {
    "ExecuteTime": {
     "end_time": "2022-02-03T09:52:00.720652Z",
     "start_time": "2022-02-03T09:52:00.688567Z"
    }
   },
   "outputs": [],
   "source": [
    "# Cellule de tests unitaires, exécutez-là et vérifier que tous les tests sont ok.\n",
    "# Si un test échoue, retravaillez votre fonction, puis exécutez à nouveau la cellule\n",
    "# hébergeant la définition de votre fonction et cette cellule de tests\n",
    "\n",
    "import unittest\n",
    "\n",
    "\n",
    "class TestNotebook(unittest.TestCase):\n",
    "\n",
    "    def test_exemple_1(self):\n",
    "        self.assertEqual(temps_attente([5, 3, 4], 1), 12)\n",
    "\n",
    "    def test_exemple_2(self):\n",
    "        self.assertEqual(temps_attente([10, 2, 3, 3], 2), 10)\n",
    "\n",
    "    def test_exemple_3(self):\n",
    "        self.assertEqual(temps_attente([2, 3, 10], 2), 12)\n",
    "\n",
    "    def test_empty_queue(self):\n",
    "        self.assertEqual(temps_attente([], 1), 0,\n",
    "                         \"Mauvaise réponse pour une file vide.\")\n",
    "\n",
    "    def test_one_person_one_till(self):\n",
    "        self.assertEqual(temps_attente([5], 1), 5,\n",
    "                         \"mauvaise réponse pour une seule personne dans la file\")\n",
    "\n",
    "    def test_one_person_many_tills(self):\n",
    "        self.assertEqual(temps_attente([2], 5), 2,\n",
    "                         \"mauvaise réponse pour une seule personne dans la file\")\n",
    "\n",
    "    def test_many_people_one_till(self):\n",
    "        self.assertEqual(temps_attente([1, 2, 3, 4, 5], 1), 15,\n",
    "                         \"mauvaise réponse pour une seule caisse\")\n",
    "\n",
    "    def test_many_tills(self):\n",
    "        self.assertEqual(\n",
    "            temps_attente([1, 2, 3, 4, 5], 100), 5,\n",
    "            \"mauvaise réponse pour un grand nombre de caisses\")\n",
    "\n",
    "    def test_many_people_2_tills(self):\n",
    "        self.assertEqual(temps_attente([2, 2, 3, 3, 4, 4], 2), 9,\n",
    "                         \"mauvaise réponse pour ce cas avec 2 caisses\")\n",
    "\n",
    "\n",
    "unittest.main(argv=[''], verbosity=2, exit=False)"
   ]
  },
  {
   "cell_type": "markdown",
   "id": "cb20d2ff",
   "metadata": {},
   "source": [
    "## Traduction de chiffres romains en décimal"
   ]
  },
  {
   "cell_type": "markdown",
   "id": "90ce2640",
   "metadata": {},
   "source": [
    "Utilisons les dictionnaires pour convertir rapidement des chiffres romains en entiers Python.\n",
    "\n",
    "Premièrement regardons cette table pour réviser les chiffres romains.\n",
    "\n",
    "![roman_numerals](roman-numerals.jpg)\n",
    "\n",
    "Avez-vous remarqué quelque régularité qui pourrait vous servir ?\n",
    "\n",
    "Écrivez une fonction `roman_to_int()`, qui prendra un argument, un nombre romain sous la forme d’une chaîne de caractères, et convertissez-le en integer.\n",
    "\n",
    "Par exemple :\n",
    "\n",
    "    roman_to_int('IV') #=> 4\n",
    "    roman_to_int('XVI') #=> 16\n",
    "    roman_to_int('MI') #=> 1001\n",
    "\n",
    "**Astuce :** vous pouvez envisager de traiter 4, 40, 400, 9, 90 et 900 comme des nombre à intégrer à votre dictionnaire  😉.\n"
   ]
  },
  {
   "cell_type": "code",
   "execution_count": null,
   "id": "4bebc113",
   "metadata": {
    "ExecuteTime": {
     "end_time": "2022-02-07T08:56:27.845581Z",
     "start_time": "2022-02-07T08:56:27.840039Z"
    }
   },
   "outputs": [],
   "source": [
    "def roman_to_int(roman):\n",
    "    \"\"\"\n",
    "    roman est une chaîne représentant un nombre romain tel que 'IV' ou 'XXIII'.\n",
    "    Retourne le nombre entier correspondant au nombre romain d’entrée.\n",
    "    roman_to_int('IV') #=> 4\n",
    "    \"\"\"\n",
    "    pass"
   ]
  },
  {
   "cell_type": "code",
   "execution_count": null,
   "id": "eea3415e",
   "metadata": {},
   "outputs": [],
   "source": []
  },
  {
   "cell_type": "code",
   "execution_count": null,
   "id": "8c1aacc9",
   "metadata": {
    "ExecuteTime": {
     "end_time": "2022-02-07T08:38:09.521627Z",
     "start_time": "2022-02-07T08:38:09.493226Z"
    }
   },
   "outputs": [],
   "source": [
    "# Cellule de tests unitaires, exécutez-là et vérifier que tous les tests sont ok.\n",
    "# Si un test échoue, retravaillez votre fonction, puis exécutez à nouveau la cellule\n",
    "# hébergeant la définition de votre fonction et cette cellule de tests\n",
    "\n",
    "import unittest\n",
    "\n",
    "\n",
    "class TestNotebook(unittest.TestCase):\n",
    "\n",
    "    def test_4(self):\n",
    "        self.assertEqual(roman_to_int('IV'), 4)\n",
    "\n",
    "    def test_14(self):\n",
    "        self.assertEqual(roman_to_int('XIV'), 14)\n",
    "\n",
    "    def test_16(self):\n",
    "        self.assertEqual(roman_to_int('XVI'), 16)\n",
    "\n",
    "    def test_19(self):\n",
    "        self.assertEqual(roman_to_int('XIX'), 19)\n",
    "\n",
    "    def test_2022(self):\n",
    "        self.assertEqual(roman_to_int('MMXXII'), 2022)\n",
    "        \n",
    "unittest.main(argv=[''], verbosity=2, exit=False);"
   ]
  },
  {
   "cell_type": "markdown",
   "id": "837464ef",
   "metadata": {},
   "source": [
    "## Multiplication de matrices"
   ]
  },
  {
   "cell_type": "markdown",
   "id": "3d751a4c",
   "metadata": {},
   "source": [
    "Le module de calcul numérique `numpy` contient une fonction pour multiplier 2 matrices.\n",
    "\n",
    "Mais pour cet exercice, nous allons réimplémenter nous même cette logique.\n",
    "\n",
    "1. Avec les objets python standard, quel type de structure de données serait adéquat pour représenter une matrice 2D ?\n",
    "3. Implémentez la fonction de multiplication `mat_mul(A, B)` où A et B sont des matrices sous forme de listes de listes de nombres. Assurez vous que votre algorithme fonctionne pour une paire de matrices de dimensions `m` lignes `n` colonnes pour A et `n` lignes `p` colonnes pour B\n",
    "\n",
    "Exemple de produit matriciel :\n",
    "\n",
    "![](https://wikimedia.org/api/rest_v1/media/math/render/svg/61465d1f92b38023b8652ca8d428fd305a763e90)![exemple de produit matriciel](https://wikimedia.org/api/rest_v1/media/math/render/svg/f20f1ff340301145d1812d388fb748e802b02831)"
   ]
  },
  {
   "cell_type": "code",
   "execution_count": null,
   "id": "844360e1",
   "metadata": {
    "ExecuteTime": {
     "end_time": "2022-02-07T12:16:26.080982Z",
     "start_time": "2022-02-07T12:16:26.076261Z"
    }
   },
   "outputs": [],
   "source": []
  },
  {
   "cell_type": "code",
   "execution_count": null,
   "id": "d60349f3",
   "metadata": {
    "ExecuteTime": {
     "end_time": "2022-02-07T12:14:29.721667Z",
     "start_time": "2022-02-07T12:14:29.702595Z"
    }
   },
   "outputs": [],
   "source": [
    "# Cellule de tests unitaires, exécutez-là et vérifier que tous les tests sont ok.\n",
    "# Si un test échoue, retravaillez votre fonction, puis exécutez à nouveau la cellule\n",
    "# hébergeant la définition de votre fonction et cette cellule de tests\n",
    "\n",
    "import unittest\n",
    "\n",
    "A = [[1, 0], [2,-1]]\n",
    "B = [[3,4], [-2, -3]]\n",
    "C = [[2, 3, 1], [-1, 7, -2]]\n",
    "D = [[2],[1], [-1]]\n",
    "\n",
    "\n",
    "class TestNotebook(unittest.TestCase):\n",
    "\n",
    "    def test_2_matrices_AdotB(self):\n",
    "        self.assertEqual(mat_mul(A,B), [[3, 4], [8, 11]])\n",
    "    def test_2_matrices_diff_dims_AdotB(self):\n",
    "        self.assertEqual(mat_mul(A, C), [[2, 3, 1], [5, -1, 4]])\n",
    "    def test_2_matrices_diff_dims_BdotC(self):\n",
    "        self.assertEqual(mat_mul(B, C), [[2, 37, -5], [-1, -27, 4]])\n",
    "    def test_AdotB_dotB(self):\n",
    "        self.assertEqual(mat_mul(mat_mul(A, B), B), [[1, 0], [2, -1]])\n",
    "    def test_CdotD(self):\n",
    "        self.assertEqual(mat_mul(C,D), [[6], [7]])\n",
    "        \n",
    "unittest.main(argv=[''], verbosity=2, exit=False);"
   ]
  },
  {
   "cell_type": "markdown",
   "id": "2e8b08ee",
   "metadata": {},
   "source": [
    "<div class='alert alert-success'>\n",
    "    \n",
    "🎉 Vous êtes arrivé·e au bout de ces exercices, j’espère qu’ils vous ont amusé·e ! 🎉\n",
    "    \n",
    "</div>"
   ]
  }
 ],
 "metadata": {
  "kernelspec": {
   "display_name": "Python 3 (ipykernel)",
   "language": "python",
   "name": "python3"
  },
  "language_info": {
   "codemirror_mode": {
    "name": "ipython",
    "version": 3
   },
   "file_extension": ".py",
   "mimetype": "text/x-python",
   "name": "python",
   "nbconvert_exporter": "python",
   "pygments_lexer": "ipython3",
   "version": "3.10.0rc1"
  },
  "toc": {
   "base_numbering": 1,
   "nav_menu": {},
   "number_sections": true,
   "sideBar": true,
   "skip_h1_title": true,
   "title_cell": "Table of Contents",
   "title_sidebar": "Contents",
   "toc_cell": false,
   "toc_position": {},
   "toc_section_display": true,
   "toc_window_display": false
  }
 },
 "nbformat": 4,
 "nbformat_minor": 5
}
