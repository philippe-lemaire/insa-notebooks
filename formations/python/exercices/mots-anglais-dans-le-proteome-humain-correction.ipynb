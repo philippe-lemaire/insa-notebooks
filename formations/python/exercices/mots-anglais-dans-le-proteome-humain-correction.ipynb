{
 "cells": [
  {
   "cell_type": "markdown",
   "id": "7997a847",
   "metadata": {},
   "source": [
    "# Mots anglais dans le protéome humain"
   ]
  },
  {
   "cell_type": "markdown",
   "id": "44782610",
   "metadata": {},
   "source": [
    "L'objectif de ce premier projet est de découvrir si des mots anglais peuvent se retrouver dans les séquences du protéome humain, c'est-à-dire dans les séquences de l'ensemble des protéines humaines.\n",
    "Composition aminée\n",
    "\n",
    "Dans un premier temps, composez 5 mots anglais avec les 20 acides aminés.\n",
    "\n",
    "## Des mots\n",
    "\n",
    "Téléchargez le fichier [english-common-words.txt](https://python.sdv.univ-paris-diderot.fr/data-files/english-common-words.txt). Ce fichier contient les 3000 mots anglais les plus fréquents, à raison d'1 mot par ligne.\n",
    "\n",
    "Dans ce notebook, écrivez la fonction `read_words()` qui va lire les mots contenus dans le fichier dont le nom est fourni en argument du script et renvoyer une liste contenant les mots convertis en majuscule et composés de 3 caractères ou plus.\n",
    "\n",
    "Dans le programme principal, affichez le nombre de mots sélectionnés.\n",
    "\n"
   ]
  },
  {
   "cell_type": "raw",
   "id": "4f84bbcb",
   "metadata": {},
   "source": [
    "# Transformez cette cellule en cellule de type code pour télécharger automatiquement le fichier (Linux et MacOS)\n",
    "!wget https://python.sdv.univ-paris-diderot.fr/data-files/english-common-words.txt"
   ]
  },
  {
   "cell_type": "code",
   "execution_count": null,
   "id": "5e4699e5",
   "metadata": {
    "ExecuteTime": {
     "end_time": "2022-02-03T09:56:21.780651Z",
     "start_time": "2022-02-03T09:56:21.776391Z"
    }
   },
   "outputs": [],
   "source": [
    "def read_words(file_path):\n",
    "    with open(file_path, 'r') as file:\n",
    "        words =  file.readlines()\n",
    "        return [word.upper().replace('\\n', '') for word in words if len(word) > 3] # supérieur strict à 3 à cause des \\n"
   ]
  },
  {
   "cell_type": "code",
   "execution_count": null,
   "id": "9ad0f0c0",
   "metadata": {
    "ExecuteTime": {
     "end_time": "2022-02-03T09:56:21.963606Z",
     "start_time": "2022-02-03T09:56:21.955671Z"
    }
   },
   "outputs": [],
   "source": [
    "file_path = 'english-common-words.txt'\n",
    "\n",
    "words = read_words(file_path)\n",
    "\n",
    "f\"{len(words)=}\"\n"
   ]
  },
  {
   "cell_type": "markdown",
   "id": "df71f297",
   "metadata": {},
   "source": [
    "## Des protéines\n",
    "\n",
    "Téléchargez maintenant le fichier [human-proteome.fasta](https://python.sdv.univ-paris-diderot.fr/data-files/human-proteome.fasta). Attention, ce fichier est assez gros. Ce fichier provient de la banque de données UniProt à partir de cette page.\n",
    "\n",
    "*NB : Le code dans la cellule ci-dessous télécharge directement le fichier dans le même dossier que ce notebook, si vous êtes sur GNU/Linux ou MacOS, et si wget est installé)*"
   ]
  },
  {
   "cell_type": "raw",
   "id": "c487eb76",
   "metadata": {},
   "source": [
    "# Transformez cette cellule en cellule de type code pour télécharger automatiquement le fichier (Linux et MacOS)\n",
    "!wget https://python.sdv.univ-paris-diderot.fr/data-files/human-proteome.fasta"
   ]
  },
  {
   "cell_type": "markdown",
   "id": "284396ae",
   "metadata": {},
   "source": [
    "Toujours dans ce notebook, écrivez la fonction `read_sequences()` qui va lire le protéome dans le fichier dont le nom est fourni en second argument du script. Cette fonction va renvoyer un dictionnaire dont les clefs sont les identifiants des protéines (par exemple, O95139, O75438, Q8N4C6) et dont les valeurs associées sont les séquences.\n",
    "\n",
    "Dans le programme principal, affichez le nombre de séquences lues. À des fins de test, affichez également la séquence associée à la protéine O95139."
   ]
  },
  {
   "cell_type": "code",
   "execution_count": null,
   "id": "6014ee71",
   "metadata": {
    "ExecuteTime": {
     "end_time": "2022-02-03T09:56:00.288348Z",
     "start_time": "2022-02-03T09:56:00.280040Z"
    }
   },
   "outputs": [],
   "source": [
    "def read_sequences(file_path):\n",
    "    with open(file_path) as file:\n",
    "        lines = file.readlines()\n",
    "        identifiants = []\n",
    "        seq = ''\n",
    "        sequences = []\n",
    "        for line in lines:\n",
    "            if line.startswith('>sp|'):\n",
    "                if seq:\n",
    "                    sequences.append(seq)\n",
    "                identifiants.append(line[4:10])\n",
    "                seq = ''\n",
    "            else:\n",
    "                seq += line.replace('\\n', '')\n",
    "        sequences.append(seq) # ajout de la dernière séquence du fichier\n",
    "        return dict(zip(identifiants, sequences))\n",
    "     \n",
    "        \n",
    "            "
   ]
  },
  {
   "cell_type": "code",
   "execution_count": null,
   "id": "7dff515c",
   "metadata": {
    "ExecuteTime": {
     "end_time": "2022-02-03T09:56:01.072883Z",
     "start_time": "2022-02-03T09:56:00.830166Z"
    }
   },
   "outputs": [],
   "source": [
    "proteome_path = \"human-proteome.fasta\"\n",
    "sequences = read_sequences(proteome_path)"
   ]
  },
  {
   "cell_type": "code",
   "execution_count": null,
   "id": "0c8ee9dc",
   "metadata": {
    "ExecuteTime": {
     "end_time": "2022-02-03T09:56:02.059734Z",
     "start_time": "2022-02-03T09:56:02.044822Z"
    }
   },
   "outputs": [],
   "source": [
    "len(sequences)"
   ]
  },
  {
   "cell_type": "code",
   "execution_count": null,
   "id": "60d052d7",
   "metadata": {
    "ExecuteTime": {
     "end_time": "2022-02-03T09:56:02.477575Z",
     "start_time": "2022-02-03T09:56:02.470752Z"
    }
   },
   "outputs": [],
   "source": [
    "sequences.get('O95139')"
   ]
  },
  {
   "cell_type": "markdown",
   "id": "35c68a2d",
   "metadata": {},
   "source": [
    "## À la pêche aux mots\n",
    "\n",
    "Écrivez maintenant la fonction `search_words_in_proteome()` qui prend en argument la liste de mots et le dictionnaire contenant les séquences des protéines et qui va compter le nombre de séquences dans lesquelles un mot est présent. Cette fonction renverra un dictionnaire dont les clefs sont les mots et les valeurs le nombre de séquences qui contiennent ces mots. La fonction affichera également le message suivant pour les mots trouvés dans le protéome :\n",
    "\n",
    "```\n",
    "ACCESS found in 1 sequences\n",
    "ACID found in 38 sequences\n",
    "ACT found in 805 sequences\n",
    "[...]\n",
    "```\n"
   ]
  },
  {
   "cell_type": "code",
   "execution_count": null,
   "id": "11db2441",
   "metadata": {
    "ExecuteTime": {
     "end_time": "2022-02-03T10:05:18.516430Z",
     "start_time": "2022-02-03T10:05:18.504401Z"
    }
   },
   "outputs": [],
   "source": [
    "def search_words_in_proteome(words, sequences):\n",
    "    print('Exécution longue, patientez au moins 20s…')\n",
    "    result_dict = {}\n",
    "    \n",
    "    for word in words:\n",
    "        #print(f\"Looking at {word}…\")\n",
    "        for seq in sequences.values():\n",
    "            if word in seq:\n",
    "                result_dict[word] = result_dict.get(word, 0) + 1\n",
    "    \n",
    "    \n",
    "    for word, num in result_dict.items():    \n",
    "        print(f\"{word} found in {num} sequences\")\n",
    "    \n",
    "    return result_dict"
   ]
  },
  {
   "cell_type": "code",
   "execution_count": null,
   "id": "66ea7ccb",
   "metadata": {
    "ExecuteTime": {
     "end_time": "2022-02-03T10:05:40.192794Z",
     "start_time": "2022-02-03T10:05:18.827964Z"
    }
   },
   "outputs": [],
   "source": [
    "rd = search_words_in_proteome(words, sequences)\n",
    "# l'exécution peut dépasser 20s, patienter"
   ]
  },
  {
   "cell_type": "markdown",
   "id": "0baecc36",
   "metadata": {},
   "source": [
    "## Et le mot le plus fréquent est...\n",
    "\n",
    "Pour terminer, écrivez maintenant la fonction `find_most_frequent_word()` qui prend en argument le dictionnaire renvoyé par la précédente fonction `search_words_in_proteome()` et qui affiche le mot trouvé dans le plus de protéines, ainsi que le nombre de séquences dans lesquelles il a été trouvé, sous la forme :\n",
    "\n",
    "`=> xxx found in yyy sequences`"
   ]
  },
  {
   "cell_type": "code",
   "execution_count": null,
   "id": "2a244e32",
   "metadata": {
    "ExecuteTime": {
     "end_time": "2022-02-03T10:01:16.830046Z",
     "start_time": "2022-02-03T10:01:16.824835Z"
    }
   },
   "outputs": [],
   "source": [
    "def find_most_frequent_word(rd):\n",
    "    # on cherche à identifier une clé en particulier, celle dont la valeur est la plus grande.\n",
    "    # l'astuce consiste à identifier cette valeur max\n",
    "    # créer un nouveau dico dont les clés et valeurs sont l’inversion des clés et valeurs du premier\n",
    "    # aller chercher dans ce dico inversé à quelle clé correspondant notre grande valeur\n",
    "    \n",
    "    # on cherche la valeur la plus grande dans les valeurs du dico\n",
    "    max_value = max(rd.values())\n",
    "    # on crée un dico inversé à partir du précédent\n",
    "    inv_dict = {v:k for k,v in rd.items()} \n",
    "    \n",
    "    # dans le dico inversé on se sert de la grande valeur comme clé pour trouver le mot \n",
    "    res = inv_dict.get(max_value)\n",
    "    return f\"{res} found in {max_value} sequences\""
   ]
  },
  {
   "cell_type": "code",
   "execution_count": null,
   "id": "64dfe70c",
   "metadata": {
    "ExecuteTime": {
     "end_time": "2022-02-03T10:01:18.082807Z",
     "start_time": "2022-02-03T10:01:18.076581Z"
    }
   },
   "outputs": [],
   "source": [
    "find_most_frequent_word(rd)"
   ]
  },
  {
   "cell_type": "markdown",
   "id": "f499bcc3",
   "metadata": {},
   "source": [
    "## Pour être plus complet\n",
    "\n",
    "Jusqu'à présent, nous avions déterminé, pour chaque mot, le nombre de séquences dans lesquelles il apparaissait. Nous pourrions aller plus loin et calculer aussi le nombre de fois que chaque mot apparaît dans les séquences.\n",
    "\n",
    "Pour cela modifier ci-dessous la fonction `search_words_in_proteome()` de façon à compter le nombre d’occurrences d'un mot dans les séquences. La méthode  `.count()` vous sera utile.\n",
    "\n",
    "Déterminez alors quel mot est le plus fréquent dans le protéome humain."
   ]
  },
  {
   "cell_type": "code",
   "execution_count": null,
   "id": "c5a233bf",
   "metadata": {
    "ExecuteTime": {
     "end_time": "2022-02-03T10:04:38.773909Z",
     "start_time": "2022-02-03T10:04:38.764008Z"
    }
   },
   "outputs": [],
   "source": [
    "def search_words_in_proteome(words, sequences):\n",
    "    print('Exécution longue, patientez au moins 20s…')\n",
    "    result_dict = {}\n",
    "    \n",
    "    for word in words:\n",
    "        #print(f\"Looking at {word}…\")\n",
    "        for seq in sequences.values():\n",
    "            if word in seq:\n",
    "                result_dict[word] = result_dict.get(word, 0) + seq.count(word)\n",
    "    \n",
    "    \n",
    "    for word, num in result_dict.items():    \n",
    "        print(f\"{word} found {num} times in sequences\")\n",
    "    \n",
    "    return result_dict"
   ]
  },
  {
   "cell_type": "code",
   "execution_count": null,
   "id": "6348c00f",
   "metadata": {
    "ExecuteTime": {
     "end_time": "2022-02-03T10:05:00.866278Z",
     "start_time": "2022-02-03T10:04:39.318189Z"
    }
   },
   "outputs": [],
   "source": [
    "rd = search_words_in_proteome(words, sequences)"
   ]
  },
  {
   "cell_type": "code",
   "execution_count": null,
   "id": "13f22054",
   "metadata": {
    "ExecuteTime": {
     "end_time": "2022-02-03T10:03:56.671846Z",
     "start_time": "2022-02-03T10:03:56.667060Z"
    }
   },
   "outputs": [],
   "source": [
    "def find_most_frequent_word(rd):\n",
    "    max_value = max(rd.values())\n",
    "    inv_dict = {v:k for k,v in rd.items()}\n",
    "    res = inv_dict.get(max_value)\n",
    "    return f\"{res} found {max_value} times\""
   ]
  },
  {
   "cell_type": "code",
   "execution_count": null,
   "id": "0c2c3f47",
   "metadata": {
    "ExecuteTime": {
     "end_time": "2022-02-03T10:03:56.689293Z",
     "start_time": "2022-02-03T10:03:56.674924Z"
    }
   },
   "outputs": [],
   "source": [
    "find_most_frequent_word(rd)"
   ]
  },
  {
   "cell_type": "code",
   "execution_count": null,
   "id": "7cd4fb46",
   "metadata": {},
   "outputs": [],
   "source": []
  }
 ],
 "metadata": {
  "kernelspec": {
   "display_name": "Python 3 (ipykernel)",
   "language": "python",
   "name": "python3"
  },
  "language_info": {
   "codemirror_mode": {
    "name": "ipython",
    "version": 3
   },
   "file_extension": ".py",
   "mimetype": "text/x-python",
   "name": "python",
   "nbconvert_exporter": "python",
   "pygments_lexer": "ipython3",
   "version": "3.10.0rc1"
  },
  "toc": {
   "base_numbering": 1,
   "nav_menu": {},
   "number_sections": true,
   "sideBar": true,
   "skip_h1_title": true,
   "title_cell": "Table of Contents",
   "title_sidebar": "Contents",
   "toc_cell": false,
   "toc_position": {},
   "toc_section_display": true,
   "toc_window_display": true
  }
 },
 "nbformat": 4,
 "nbformat_minor": 5
}
