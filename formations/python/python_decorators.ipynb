{
 "cells": [
  {
   "cell_type": "markdown",
   "id": "79114235",
   "metadata": {},
   "source": [
    "# Décorateurs de fonction python\n",
    "\n",
    "Un décorateur est un moyen d'ajouter une fonctionnalité standardisée à une ou plusieurs fonctions.\n",
    "\n",
    "À l’usage, cela prend la forme suivante :\n",
    "\n",
    "```\n",
    "@decorator_name\n",
    "def func(parameters):\n",
    "    return some_valeur\n",
    "    \n",
    "\n",
    "func(arguments)\n",
    ">>> résultat de la fonction, dont le comportement a été étendu par le décorateur\n",
    "```\n",
    "\n",
    "L'intérêt est de coder à un seul endroit un comportement que l’on souhaite pouvoir ajouter et enlever facilement à une ou plusieurs fonctions, typiquement leur faire enregistrer chaque appel dans un fichier journal (logging) et/ou chronométrer leur exécution pour comparer la vitesse d’algorithmes concurrents.\n",
    "\n",
    "Nous allons voir un exemple simple de chronométrage de fonctions."
   ]
  },
  {
   "cell_type": "code",
   "execution_count": null,
   "id": "0eba7aa4-8f04-4720-a428-38ab56d00970",
   "metadata": {
    "ExecuteTime": {
     "end_time": "2022-05-03T09:01:15.330429Z",
     "start_time": "2022-05-03T09:01:15.325763Z"
    }
   },
   "outputs": [],
   "source": [
    "import time"
   ]
  },
  {
   "cell_type": "markdown",
   "id": "80fd074e",
   "metadata": {
    "ExecuteTime": {
     "end_time": "2022-05-03T08:49:39.056895Z",
     "start_time": "2022-05-03T08:49:39.014714Z"
    }
   },
   "source": [
    "Nous allons nous servir du module de la bibliothèque standard `time` pour chronométrer l’exécution d’une fonction.\n",
    "\n",
    "L’idée est de :\n",
    "\n",
    "1. prendre l’heure avant l’exécution de notre fonction, \n",
    "2. d’exécuter notre fonction,\n",
    "3. de reprendre l’heure après l’exéuction, et faire la soustraction entre les deux mesures.\n",
    "\n",
    "On pourrait ajouter ces étapes à nos fonctions dans leur définitions, mais le faire via un décorateur est mieux pour plusieurs raisons :\n",
    "\n",
    "- pas de répétition du code entre les fonctions\n",
    "- comportement facile à ajouter et enlever aux fonctions, en une ligne une fois le décorateur défini."
   ]
  },
  {
   "cell_type": "markdown",
   "id": "85e0f28a",
   "metadata": {},
   "source": [
    "## Juste un petit essai du module `time`"
   ]
  },
  {
   "cell_type": "code",
   "execution_count": null,
   "id": "3beefe90-683b-4e0d-a317-123487a318c8",
   "metadata": {
    "ExecuteTime": {
     "end_time": "2022-05-03T09:01:15.352008Z",
     "start_time": "2022-05-03T09:01:15.348722Z"
    }
   },
   "outputs": [],
   "source": [
    "t1 = time.time()"
   ]
  },
  {
   "cell_type": "code",
   "execution_count": null,
   "id": "3f152e45-6d6e-4fbb-8261-80e75bde0b5f",
   "metadata": {
    "ExecuteTime": {
     "end_time": "2022-05-03T09:01:15.362800Z",
     "start_time": "2022-05-03T09:01:15.353399Z"
    }
   },
   "outputs": [],
   "source": [
    "t2 = time.time()\n",
    "t2 - t1"
   ]
  },
  {
   "cell_type": "markdown",
   "id": "88d8608e",
   "metadata": {},
   "source": [
    "`t1` et `t2` sont en secondes, avec  plus ou moins de précision après la virgule selon l’horloge de votre ordinateur"
   ]
  },
  {
   "cell_type": "markdown",
   "id": "e9be8e1e",
   "metadata": {},
   "source": [
    "## La définition du décorateur"
   ]
  },
  {
   "cell_type": "code",
   "execution_count": null,
   "id": "fe9e3b38-2325-4251-aa25-f09e91649e66",
   "metadata": {
    "ExecuteTime": {
     "end_time": "2022-05-03T09:02:01.598887Z",
     "start_time": "2022-05-03T09:02:01.592941Z"
    }
   },
   "outputs": [],
   "source": [
    "def timer(func):  # le décorateur prend une fonction comme paramètre\n",
    "    def wrapper(*args, **kwargs):\n",
    "        # on définit une fonction qui va \"entourer\" la fonction décorée.\n",
    "        # *args et **kwargs sont des \"attrape-tout\" pour récupérer les arguments par position et par mots-clés passés à la fonction.\n",
    "        # on prend l'heure\n",
    "        time_start = time.time()\n",
    "        # on exécute la fonction décorée appelée ici func, avec les *args et les **kwargs\n",
    "        value = func(*args, **kwargs)\n",
    "        # on stocke ce qui en sort dans une variable pour la renvoyer à la fin\n",
    "        # on reprend l'heure\n",
    "        time_end = time.time()\n",
    "        # on affiche le nom de la fonction et le temps écoulé entre le début et la fin\n",
    "        print(f\"{func} evaluated in {(time_end - time_start)} seconds.\")\n",
    "        # on renvoie la valeur de sortie de la fonction func\n",
    "        return value\n",
    "\n",
    "    # le décorateur renvoie la fonction qui \"entoure\" la fonction d'origine\n",
    "    return wrapper"
   ]
  },
  {
   "cell_type": "markdown",
   "id": "433571bf",
   "metadata": {},
   "source": [
    "## Définition de deux fonctions qui calculent la somme de 1 à n\n",
    "\n",
    "L'application du décorateur `timer` se fait juste avec `@timer` au dessus du `def` de la fonction."
   ]
  },
  {
   "cell_type": "code",
   "execution_count": null,
   "id": "7991a194-12a7-46f3-9d13-4e6b2f097cfc",
   "metadata": {
    "ExecuteTime": {
     "end_time": "2022-05-03T09:02:02.039731Z",
     "start_time": "2022-05-03T09:02:02.036040Z"
    }
   },
   "outputs": [],
   "source": [
    "@timer\n",
    "def simple_sum(n):\n",
    "    # somme de 1 à n, en sommant la liste des nombres générée par range(1, n+1)\n",
    "    return sum(range(1, n + 1))"
   ]
  },
  {
   "cell_type": "code",
   "execution_count": null,
   "id": "824e9ae7-df1e-472b-8675-bd6e5f303697",
   "metadata": {
    "ExecuteTime": {
     "end_time": "2022-05-03T09:02:02.335395Z",
     "start_time": "2022-05-03T09:02:02.332477Z"
    }
   },
   "outputs": [],
   "source": [
    "@timer\n",
    "def gaussian_sum(n):\n",
    "    # somme de 1 à n avec le raccourci de Gauss\n",
    "    return ((1 + n) * n) // 2"
   ]
  },
  {
   "cell_type": "markdown",
   "id": "1dec1a85-a97c-4a92-a78f-bfa7a5b9239e",
   "metadata": {},
   "source": [
    "Vous pouvez tester d'autres valeurs, mais `simple_sum` peut prendre près d'une minute dès $10^9$."
   ]
  },
  {
   "cell_type": "code",
   "execution_count": null,
   "id": "d3e68d50-9b45-4646-b50c-d6be5cf23f81",
   "metadata": {
    "ExecuteTime": {
     "end_time": "2022-05-03T09:02:02.875086Z",
     "start_time": "2022-05-03T09:02:02.729169Z"
    }
   },
   "outputs": [],
   "source": [
    "test_value = 10 ** 8\n",
    "\n",
    "simple_sum(test_value)\n",
    "gaussian_sum(test_value)"
   ]
  },
  {
   "cell_type": "code",
   "execution_count": null,
   "id": "85120fbf-5fa4-4312-a971-a65e00c24137",
   "metadata": {},
   "outputs": [],
   "source": []
  }
 ],
 "metadata": {
  "kernelspec": {
   "display_name": "Python 3 (ipykernel)",
   "language": "python",
   "name": "python3"
  },
  "language_info": {
   "codemirror_mode": {
    "name": "ipython",
    "version": 3
   },
   "file_extension": ".py",
   "mimetype": "text/x-python",
   "name": "python",
   "nbconvert_exporter": "python",
   "pygments_lexer": "ipython3",
   "version": "3.10.0rc1"
  },
  "toc": {
   "base_numbering": 1,
   "nav_menu": {},
   "number_sections": false,
   "sideBar": true,
   "skip_h1_title": true,
   "title_cell": "Table of Contents",
   "title_sidebar": "Contents",
   "toc_cell": false,
   "toc_position": {
    "height": "calc(100% - 180px)",
    "left": "10px",
    "top": "150px",
    "width": "384px"
   },
   "toc_section_display": true,
   "toc_window_display": true
  }
 },
 "nbformat": 4,
 "nbformat_minor": 5
}
