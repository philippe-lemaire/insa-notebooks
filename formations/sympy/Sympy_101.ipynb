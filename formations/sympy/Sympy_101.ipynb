{
 "cells": [
  {
   "cell_type": "markdown",
   "id": "5b3d6869",
   "metadata": {},
   "source": [
    "# Sympy - Calcul Formel en Python"
   ]
  },
  {
   "cell_type": "markdown",
   "id": "1b8c8e00",
   "metadata": {},
   "source": [
    "## C'est quoi le calcul formel ?"
   ]
  },
  {
   "cell_type": "markdown",
   "id": "ef1aecd2",
   "metadata": {},
   "source": [
    "Le calcul formel, c’est la manipulation d’objets mathématiques par leurs symboles, un peu comme on le ferait sur papier ou au tableau. \n",
    "\n",
    "Cela signifie que les objets mathématiques sont représentés exactements, et non pas approximativement, et que les expressions mathématiques avec des variables non évaluées sont laissées dans leur forme symbolique.\n",
    "\n",
    "Prenons un exemple. Imaginons que voulions travailler avec des racines carrées. Avec le module `math` de base dans Python, nous ferions ceci :\n",
    "\n"
   ]
  },
  {
   "cell_type": "code",
   "execution_count": null,
   "id": "fc9aa40e",
   "metadata": {},
   "outputs": [],
   "source": [
    "import math\n",
    "math.sqrt(9)"
   ]
  },
  {
   "cell_type": "markdown",
   "id": "c5dc957f",
   "metadata": {},
   "source": [
    "9 est un carré parfait, donc nous obtenons la réponse exacte, `3.0`.\n",
    "\n",
    "Mais si nous calculons la racine carrée d’un nombre qui n’est pas un carré parfait :"
   ]
  },
  {
   "cell_type": "code",
   "execution_count": null,
   "id": "a6b9fb18",
   "metadata": {},
   "outputs": [],
   "source": [
    "math.sqrt(8)"
   ]
  },
  {
   "cell_type": "markdown",
   "id": "aa3338eb",
   "metadata": {},
   "source": [
    "Nous obtenons une approximation. `2.8284271247461903` n’est pas exactement la racine carrée de 8 (qui ne peut pas être exactement représentée par un nombre décimal avec un nombre fini de chiffres après la virgule). Si tout ce qui nous importait était une forme décimale satisfaisante pour faire quelques calculs, le job serait fait.\n",
    "\n",
    "Mais supposons que nous voulons aller plus loin. Nous savons que  $\\sqrt{8} = \\sqrt{4\\cdot 2} = 2\\sqrt{2}$. \n",
    "\n",
    "Nous aurions le plus grand mal à déterminer ce fait à partir de l’approximation décimale. C’est là que le calcul formel arrive. Avec un système de calcul formel comme SymPy, les racines carrées de nombres qui ne sont pas des carrés parfaits restent dans leur forme symbolique, par défaut.\n"
   ]
  },
  {
   "cell_type": "code",
   "execution_count": null,
   "id": "72817c5a",
   "metadata": {},
   "outputs": [],
   "source": [
    "import sympy\n",
    "sympy.sqrt(3)"
   ]
  },
  {
   "cell_type": "markdown",
   "id": "2a66f9d7",
   "metadata": {},
   "source": [
    "De plus, les résultats peuvent être simplifiés, tout en restant symboliques et exacts\n"
   ]
  },
  {
   "cell_type": "code",
   "execution_count": null,
   "id": "5fd756b7",
   "metadata": {},
   "outputs": [],
   "source": [
    "sympy.sqrt(8) # appeler l'expression directement donne une représentation symbolique dans le notebook"
   ]
  },
  {
   "cell_type": "code",
   "execution_count": null,
   "id": "5ed2b8e2",
   "metadata": {},
   "outputs": [],
   "source": [
    "print(sympy.sqrt(8)) # print() de la même expression donne une représentation \"pythonique\" qui peut être réutilisée"
   ]
  },
  {
   "cell_type": "markdown",
   "id": "10d35110",
   "metadata": {},
   "source": [
    "## Un exemple un peu plus intéressant\n",
    "\n",
    "L’exemple ci-dessus commence à illustrer comment on peut manipuler des nombres irrationnels exactement grâce à `SymPy`. Mais ça peut aller beaucoup plus loin. Les systèmes de calcul formel (calcul symbolique) tels que `SymPy` sont capables de calculer des expressions symboliques contenant des variables.\n",
    "\n",
    "Comme nous allons le voir, dans `SymPy`, les variables sont définies avec des symboles. Contrairement à d’autres systèmes de calcul formel, les variables dans `SymPy`doivent être définies avant d’être utilisées (et nous allons voir pourquoi dans la prochaine section).\n",
    "\n",
    "Définissons une expression symbolique, représentant l’expression mathématique $(x + 2y)$."
   ]
  },
  {
   "cell_type": "code",
   "execution_count": null,
   "id": "af869e4e",
   "metadata": {},
   "outputs": [],
   "source": [
    "from sympy import symbols\n",
    "x, y = symbols('x y')\n",
    "expr = x + 2*y\n",
    "expr"
   ]
  },
  {
   "cell_type": "markdown",
   "id": "338a2f3b",
   "metadata": {},
   "source": [
    "Notez bien que nous avons écrit \n",
    "\n",
    " `x + 2*y` comme si  `x` et `y` étaient des variables Python classique, contenant des nombres. Mais comme ce sont des objets symboles de `SymPy`, au lieu de réaliser un calcul numérique, l’expression reste simplement $x + 2y$. Maintenant nous allons un peu jouer avec :"
   ]
  },
  {
   "cell_type": "code",
   "execution_count": null,
   "id": "5cc1d221",
   "metadata": {},
   "outputs": [],
   "source": [
    "expr + 1"
   ]
  },
  {
   "cell_type": "code",
   "execution_count": null,
   "id": "27867516",
   "metadata": {},
   "outputs": [],
   "source": [
    "expr - x"
   ]
  },
  {
   "cell_type": "markdown",
   "id": "e780a240",
   "metadata": {},
   "source": [
    "Notez bien que quand nous avons fait `expr - x`, nous n’avons pas obtenu $x + 2y - x$, mais bien simplement $2y$.\n",
    "\n",
    "Le $x$ et le $-x$ se sont annulés automatiquement. C’est la même chose que quand $\\sqrt 8$ s’est transformé automatiquement en $2\\sqrt 2$. Ce n’est pas toujours le cas dans `SymPy` cependant :"
   ]
  },
  {
   "cell_type": "code",
   "execution_count": null,
   "id": "3b7d34aa",
   "metadata": {},
   "outputs": [],
   "source": [
    "x*expr"
   ]
  },
  {
   "cell_type": "markdown",
   "id": "aaaaaf1b",
   "metadata": {},
   "source": [
    "Ici on pourrait s’attendre à ce  que $x(x + 2y)$ se change en $x^2 + 2xy$, mais nous voyons que l’expression est laissée telle quelle. C'est souvent le cas dans `SymPy`. \n",
    "\n",
    "À part les simplifications évidentes comme $x - x = 0$ et $\\sqrt{8} = 2\\sqrt{2}$, la plupart des simplifications ne sont pas faites automatiquement. \n",
    "\n",
    "C'est parce que nous pourrions préférer la forme factorisée $x(x + 2y)$, ou nous pourrions préférer au contraire la forme développée $x^2 + 2xy$. \n",
    "\n",
    "Les deux formes sont utiles, selon les circonstances. Dans `SymPy`, il y a des fonctions pour passer d’une forme à l’autre."
   ]
  },
  {
   "cell_type": "code",
   "execution_count": null,
   "id": "8ca78f58",
   "metadata": {},
   "outputs": [],
   "source": [
    "from sympy import expand, factor\n",
    "\n",
    "expanded_expr = expand(x * expr)\n",
    "expanded_expr"
   ]
  },
  {
   "cell_type": "code",
   "execution_count": null,
   "id": "18140e8c",
   "metadata": {},
   "outputs": [],
   "source": [
    "factor(expanded_expr)"
   ]
  },
  {
   "cell_type": "markdown",
   "id": "fb8428f6",
   "metadata": {},
   "source": [
    "## La force du calcul formel\n",
    "\n",
    "Tout l’intérêt d’un système de calcul formel comme `SymPy` est la possibilité de faire toutes sortes de calculs symboliques. `SymPy` peut déterminer des dérivées, des intégrales, des limites, résoudre des équations, travailler avec des matrices, et bien plus encore… `SymPy` inclut des modules pour tracer des courbes, afficher le code $\\LaTeX$ de formules mathématiques, des fonctions statitisques, pour la physique, la théorie des nombres, la géométrie, la logique et plus… \n",
    "\n",
    "Voici un petit aperçu, pour vous ouvrir l’appétit."
   ]
  },
  {
   "cell_type": "code",
   "execution_count": null,
   "id": "90e72969",
   "metadata": {},
   "outputs": [],
   "source": [
    "from sympy import *\n",
    "\n",
    "x, t, z, nu = symbols('x t z nu')"
   ]
  },
  {
   "cell_type": "markdown",
   "id": "57587940",
   "metadata": {},
   "source": [
    "- Cette commande va faire en sorte que tous les exemples suivants soient affichés en mode \"pretty\" avec des caractères unicode."
   ]
  },
  {
   "cell_type": "code",
   "execution_count": null,
   "id": "94e0e3d7",
   "metadata": {},
   "outputs": [],
   "source": [
    "init_printing(use_unicode=True)"
   ]
  },
  {
   "cell_type": "markdown",
   "id": "3acf67ab",
   "metadata": {},
   "source": [
    "- Trouver la dérivée de  $\\sin{(x)}e^x$."
   ]
  },
  {
   "cell_type": "code",
   "execution_count": null,
   "id": "e74ccc18",
   "metadata": {},
   "outputs": [],
   "source": [
    "diff(sin(x)*exp(x), x)"
   ]
  },
  {
   "cell_type": "markdown",
   "id": "9d44b7c9",
   "metadata": {},
   "source": [
    "- Calculer $\\int(e^x\\sin{(x)} + e^x\\cos{(x)}),dx)$."
   ]
  },
  {
   "cell_type": "code",
   "execution_count": null,
   "id": "bcafb9d6",
   "metadata": {},
   "outputs": [],
   "source": [
    "integrate(exp(x)*sin(x) + exp(x)*cos(x), x)"
   ]
  },
  {
   "cell_type": "markdown",
   "id": "bd5cf054",
   "metadata": {},
   "source": [
    "Calculer $(\\int_{-\\infty}^\\infty \\sin{(x^2)}\\,dx)$."
   ]
  },
  {
   "cell_type": "code",
   "execution_count": null,
   "id": "69176e92",
   "metadata": {},
   "outputs": [],
   "source": [
    "integrate(sin(x**2), (x, -oo, oo))"
   ]
  },
  {
   "cell_type": "markdown",
   "id": "ecfbbad2",
   "metadata": {},
   "source": [
    "- Trouver la limite $(\\lim_{x\\to 0}\\frac{\\sin{(x)}}{x})$."
   ]
  },
  {
   "cell_type": "code",
   "execution_count": null,
   "id": "14c9800c",
   "metadata": {},
   "outputs": [],
   "source": [
    "limit(sin(x)/x, x, 0)"
   ]
  },
  {
   "cell_type": "markdown",
   "id": "aaff4b13",
   "metadata": {},
   "source": [
    "- résoudre $(x^2 - 2 = 0)$"
   ]
  },
  {
   "cell_type": "code",
   "execution_count": null,
   "id": "4476e0ce",
   "metadata": {},
   "outputs": [],
   "source": [
    "solve(x**2 - 2, x)"
   ]
  },
  {
   "cell_type": "markdown",
   "id": "0f413224",
   "metadata": {},
   "source": [
    "- résoudre l’équation différentielle  $y'' - y = e^t$."
   ]
  },
  {
   "cell_type": "code",
   "execution_count": null,
   "id": "e729bc71",
   "metadata": {},
   "outputs": [],
   "source": [
    "y = Function('y')\n",
    "\n",
    "dsolve(Eq(y(t).diff(t, t) - y(t), exp(t)), y(t))"
   ]
  },
  {
   "cell_type": "markdown",
   "id": "4a225597",
   "metadata": {},
   "source": [
    "- Trouver les valeurs propres de $\\left[\\begin{smallmatrix}1 & 2\\\\2 & 2\\end{smallmatrix}\\right]$."
   ]
  },
  {
   "cell_type": "code",
   "execution_count": null,
   "id": "39871318",
   "metadata": {},
   "outputs": [],
   "source": [
    "Matrix([[1, 2], [2, 2]]).eigenvals()"
   ]
  },
  {
   "cell_type": "markdown",
   "id": "7b61e980",
   "metadata": {},
   "source": [
    "- Réécrire la fonction de Bessel $J_{\\nu}\\left(z\\right)$ en termes de la fonction de Bessel sphérique $j_\\nu(z)$."
   ]
  },
  {
   "cell_type": "code",
   "execution_count": null,
   "id": "019dd19a",
   "metadata": {},
   "outputs": [],
   "source": [
    "besselj(nu, z).rewrite(jn)"
   ]
  },
  {
   "cell_type": "markdown",
   "id": "fe23bc3f",
   "metadata": {},
   "source": [
    "- afficher $(\\int_{0}^{\\pi} \\cos^{2}{\\left (x \\right )}, dx)$ en $\\LaTeX$."
   ]
  },
  {
   "cell_type": "code",
   "execution_count": null,
   "id": "a268e117",
   "metadata": {},
   "outputs": [],
   "source": [
    "print(latex(Integral(cos(x)**2, (x, 0, pi))))"
   ]
  },
  {
   "cell_type": "markdown",
   "id": "392a66d1",
   "metadata": {},
   "source": [
    "<div class=\"alert alert-info\">\n",
    "\n",
    "**NB :** Dans une cellule notebook de type **Markdown** il suffit d'encadrer les formules $\\LaTeX$ par des `$` pour qu'elles soient bien affichées.\n",
    "\n",
    "</div>"
   ]
  },
  {
   "cell_type": "raw",
   "id": "f36be78e",
   "metadata": {},
   "source": [
    "$\\int\\limits_{0}^{\\pi} \\cos^{2}{\\left(x \\right)}\\, dx$"
   ]
  },
  {
   "cell_type": "markdown",
   "id": "f007298d",
   "metadata": {},
   "source": [
    "devient : \n",
    "\n",
    "$\\int\\limits_{0}^{\\pi} \\cos^{2}{\\left(x \\right)}\\, dx$"
   ]
  },
  {
   "cell_type": "markdown",
   "id": "8616c9e0",
   "metadata": {},
   "source": [
    "## Passer d’une expression `SymPy` à une fonction Python "
   ]
  },
  {
   "cell_type": "markdown",
   "id": "6bbb0af0",
   "metadata": {},
   "source": [
    "Parfois, une fois qu'on a manipulé une expression symbolique, on veut réaliser des calculs numériques avec.\n",
    "\n",
    "`SymPy` a une fonction `lambdify` qui crée une fonction `lambda` à partir d’une expression."
   ]
  },
  {
   "cell_type": "code",
   "execution_count": null,
   "id": "34c26391",
   "metadata": {
    "ExecuteTime": {
     "end_time": "2022-02-02T10:03:06.396582Z",
     "start_time": "2022-02-02T10:03:05.647553Z"
    }
   },
   "outputs": [],
   "source": [
    "from sympy import sin, cos, symbols, lambdify\n",
    "\n",
    "import numpy as np\n",
    "\n",
    "x = symbols('x')\n",
    "\n",
    "expr = sin(x) + cos(x)\n",
    "expr"
   ]
  },
  {
   "cell_type": "markdown",
   "id": "f8a967cd",
   "metadata": {},
   "source": [
    "Maintenant que notre expression $sin(x) + cos(x)$ est dans la variable `expr`, nous allons créer une fonction de calcul directement."
   ]
  },
  {
   "cell_type": "code",
   "execution_count": null,
   "id": "eeef295f",
   "metadata": {
    "ExecuteTime": {
     "end_time": "2022-02-02T10:03:06.410061Z",
     "start_time": "2022-02-02T10:03:06.398095Z"
    }
   },
   "outputs": [],
   "source": [
    "f = lambdify(x, expr, 'numpy')\n",
    "\n",
    "a = np.array([1, 2])\n",
    "\n",
    "f(a)\n"
   ]
  },
  {
   "cell_type": "code",
   "execution_count": null,
   "id": "0e89108d",
   "metadata": {
    "ExecuteTime": {
     "end_time": "2022-02-02T10:03:28.669370Z",
     "start_time": "2022-02-02T10:03:28.656960Z"
    }
   },
   "outputs": [],
   "source": [
    "f(np.pi)"
   ]
  },
  {
   "cell_type": "markdown",
   "id": "c6e194b9",
   "metadata": {},
   "source": [
    "La suite , dans un notebook différent : [SymPy - Les pièges à éviter](Sympy_102.ipynb)"
   ]
  }
 ],
 "metadata": {
  "kernelspec": {
   "display_name": "Python 3 (ipykernel)",
   "language": "python",
   "name": "python3"
  },
  "language_info": {
   "codemirror_mode": {
    "name": "ipython",
    "version": 3
   },
   "file_extension": ".py",
   "mimetype": "text/x-python",
   "name": "python",
   "nbconvert_exporter": "python",
   "pygments_lexer": "ipython3",
   "version": "3.10.0rc1"
  },
  "toc": {
   "base_numbering": 1,
   "nav_menu": {},
   "number_sections": true,
   "sideBar": true,
   "skip_h1_title": true,
   "title_cell": "Table of Contents",
   "title_sidebar": "Contents",
   "toc_cell": false,
   "toc_position": {},
   "toc_section_display": true,
   "toc_window_display": true
  }
 },
 "nbformat": 4,
 "nbformat_minor": 5
}
