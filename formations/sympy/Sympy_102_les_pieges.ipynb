{
 "cells": [
  {
   "cell_type": "markdown",
   "id": "e024eced",
   "metadata": {},
   "source": [
    "# SymPy, les Pièges à éviter"
   ]
  },
  {
   "cell_type": "markdown",
   "id": "f88b473f",
   "metadata": {},
   "source": [
    "Pour démarrer, il faut clarifier une chose à propos de `SymPy`. `SymPy` est une bibliothèque Python, ni plus, ni moins, tout comme `NumPy`, `Django`, et même comme les modules de la bibliothèque standard comme `math` ou `os`.\n",
    "\n",
    "Tout ça pour dire que `SymPy` n’ajoute rien au langage Python, et que les limitations de Python s’appliquent également à `SymPy`. Cela veut dire également que `SymPy` essaie d’utiliser des constructions pythoniques partout où c’est possible, ce qui facilite l’utilisation de `SymPy` à celles et ceux qui sont déjà familiers avec Python.\n",
    "\n",
    "Pour prendre un exemple simple, `SymPy` utilise la syntaxe Python pour construire des expressions.\n",
    "La multiplication implicite `3x` n’est pas autorisée en Python, et donc elle n’est pas autorisée non plus dans `SymPy`. Pour multiplier `3` et `x`, vous devez tapper `3*x`, avec le caractère étoile.\n",
    "\n",
    "### Symboles\n",
    "\n",
    "Une conséquence est que `SymPy` peut être utilisé partout où vous avez un environnement Python, comme pour toute bibliothèque Python."
   ]
  },
  {
   "cell_type": "code",
   "execution_count": null,
   "id": "b599cdcd",
   "metadata": {},
   "outputs": [],
   "source": [
    "from sympy import *"
   ]
  },
  {
   "cell_type": "markdown",
   "id": "b5af12df",
   "metadata": {},
   "source": [
    "Ceci importe toutes les fonctions et les classes de SymPy dans notre notebook. Maintenant supposons que nous voulions faire un petit calcul :"
   ]
  },
  {
   "cell_type": "code",
   "execution_count": null,
   "id": "c7a49de5",
   "metadata": {},
   "outputs": [],
   "source": [
    "x + 1"
   ]
  },
  {
   "cell_type": "markdown",
   "id": "a88297ae",
   "metadata": {},
   "source": [
    "Oups, que s’est-t-il passé ici ? \n",
    "On a essayé d’utiliser la variable `x`, mais Python nous dit que `x` n’est pas définie. Dans Python, les variables n’existent pas tant qu’elles ne sont pas définies. Cela s’applique aussi à `SymPy`. \n",
    "\n",
    "Contrairement à d’autres outils de calcul formel que vous avez peut-être utilisé dans le passé, dans `SymPy`, les variables ne sont pas définies automatiquement. Pour définir les variables (au sens mathématique du terme), nous créons des objets `Symbol` et les stockons dans des variables (au sens pythonique du terme)."
   ]
  },
  {
   "cell_type": "code",
   "execution_count": null,
   "id": "810157be",
   "metadata": {},
   "outputs": [],
   "source": [
    "x = symbols('x')\n",
    "x + 1"
   ]
  },
  {
   "cell_type": "markdown",
   "id": "3d74b7df",
   "metadata": {},
   "source": [
    "<div class='alert alert-info'>\n",
    "\n",
    "Il y a 2 manières de créer un objet **Symbol**. Vous pouvez créer une instance de la classe **Symbol** :\n",
    "</div>\n",
    "\n",
    "    y = Symbol('y')\n",
    "\n",
    "<div class='alert alert-info'>\n",
    "    \n",
    "ou vous pouvez utiliser la fonction **symbols()** pour créer plusieurs objets **Symbol** d’un coup. Si vous en créez plusieurs, passez un string à la fonction **symbols()** avec une espace entre chaque symbole à créer.\n",
    "\n",
    "</div>\n",
    "    \n",
    "    x, y, z = symbols('x y z')\n",
    "\n"
   ]
  },
  {
   "cell_type": "code",
   "execution_count": null,
   "id": "01bc6497",
   "metadata": {},
   "outputs": [],
   "source": [
    "x, y, z = symbols('x y z')"
   ]
  },
  {
   "cell_type": "markdown",
   "id": "cf81cbc2",
   "metadata": {},
   "source": [
    "<div class='alert alert-info'>\n",
    "\n",
    "Notez bien que conformément à la convention Python, les noms des classes comme **Symbol** commencent par une majuscule, tandis que le nom des fonctions et variables commencent par une minuscule.\n",
    "\n",
    "</div>"
   ]
  },
  {
   "cell_type": "markdown",
   "id": "50266b08",
   "metadata": {},
   "source": [
    "<div class='alert alert-warning'>\n",
    "    \n",
    "Un dernier mot sur les symboles : le nom d’un Symbol et le nom de la variable Python à laquelle le Symbol est assigné ne sont pas nécessairement les mêmes.\n",
    "    \n",
    "</div>"
   ]
  },
  {
   "cell_type": "code",
   "execution_count": null,
   "id": "e303c565-cf43-4aae-b748-605435252efd",
   "metadata": {},
   "outputs": [],
   "source": [
    "a, b = symbols('b a')"
   ]
  },
  {
   "cell_type": "code",
   "execution_count": null,
   "id": "2f41bcff-e576-46a3-9544-d599f9dfc0a4",
   "metadata": {},
   "outputs": [],
   "source": [
    "a"
   ]
  },
  {
   "cell_type": "code",
   "execution_count": null,
   "id": "40a6b39b-db62-4e23-9b6a-1dc8bb6f6cfa",
   "metadata": {},
   "outputs": [],
   "source": [
    "b"
   ]
  },
  {
   "cell_type": "markdown",
   "id": "60af3385-4e42-4375-be1e-3103bad8d21f",
   "metadata": {},
   "source": [
    "Ici nous avons volontairement créé une source de confusion : nous avons assigné un Symbol appelé `a`dans une variable Python appelée `b`, et vice-versa. Nous aurions pu également faire quelque-chose comme :"
   ]
  },
  {
   "cell_type": "code",
   "execution_count": null,
   "id": "9b192a24-aa02-45f4-92f1-017c4e56ceb3",
   "metadata": {},
   "outputs": [],
   "source": [
    "bizarre = symbols('étrange')\n",
    "bizarre + 1\n"
   ]
  },
  {
   "cell_type": "markdown",
   "id": "c0bb44c2-150a-4a96-a95e-c96b76125336",
   "metadata": {},
   "source": [
    "Cet exemple étrange démontre que les `Symbol` peuvent avoir des noms de plusieurs caractères si nous le souhaitons.\n",
    "\n",
    "Généralement, la bonne pratique est d’assigner des Symbols à des variables Python du même nom, mais il peut y avoir des exceptions à cette règle : \n",
    "\n",
    "- Le nom de Symbol que nous souhaitons peut contenir des caractères qui ne peuvent pas être utilisés comme nom de variable\n",
    "- Le nom de Symbol que nous voulons est un peu pénible à tapper (long, caractère grec) et nous souhaitons le définir dans une variable au nom court car c'est plus pratique à la longue\n",
    "\n",
    "Pour éviter toute confusion, dans tous les documents de cette formation, les noms de variables Python et de Symbol vont toujours correspondre. De plus, le terme \"Symbol\" ou \"symbole\" fera référence à un objet de la classe `Symbol` de `SymPy`, et le terme \"variable\" fera référence à une variable Python.\n",
    "\n",
    "Et enfin, pour vérifier que vous comprenez bien la différence entre une variable et un symbole, regardez bien la cellule suivante et essayez de deviner sa sortie **avant** de l’exécuter :"
   ]
  },
  {
   "cell_type": "code",
   "execution_count": null,
   "id": "cf8b1da8-2d37-46cd-8eda-4995a74c2064",
   "metadata": {},
   "outputs": [],
   "source": [
    "x = symbols('x')\n",
    "expr = x + 1\n",
    "x = 2\n",
    "expr"
   ]
  },
  {
   "cell_type": "markdown",
   "id": "a332fb93-8f38-483b-aea9-06a32c844c2e",
   "metadata": {},
   "source": [
    "Si vous avez imaginé que le résultat serait `3`, vous êtes probablement un peu surpris·e. \n",
    "\n",
    "Quand on a changé la variable `x` en lui assignant l’entier `2`, ça n’a eu aucun impact sur le contenu de la variable `expr`. En effet, au moment où elle a été assignée, la variable `x` contenait un objet `Symbol` nommé $x$, et changer le type et le contenu de la variable `x` après coup n’a pas d’effet sur `expr`. \n",
    "\n",
    "Si vous vouliez évaluer le contenu de l’expression avec $x = 2$, alors il fallait faire :"
   ]
  },
  {
   "cell_type": "code",
   "execution_count": null,
   "id": "baaf2bf9-ef6d-442d-9c97-63f8edf21aca",
   "metadata": {},
   "outputs": [],
   "source": [
    "x = symbols('x')\n",
    "expr = x + 1\n",
    "expr.subs(x, 2)"
   ]
  },
  {
   "cell_type": "markdown",
   "id": "ce018417-f181-48f1-a55f-d8efe3bacf33",
   "metadata": {},
   "source": [
    "## Signes `=`"
   ]
  },
  {
   "cell_type": "markdown",
   "id": "6b3a74d4-1d87-4343-b936-925abc8e7c17",
   "metadata": {},
   "source": [
    "Une autre conséquence importante du fait que `SymPy` ne modifie pas la syntaxe Python est que le signe `=` ne représente pas l’égalité dans `SymPy`. \n",
    "\n",
    "En fait, c’est le signe utilisé en Python pour assigner des variables. C’est comme ça en Python et `SymPy` ne tente absolument pas de changer cela.\n",
    "\n",
    "Vous pourriez penser, cependant que `==` qui est utilisé pour tester l’égalité en Python est également utilisé pour exprimer l’égalité dans `SymPy`. Ce n’est pas exact non plus. Regardons ce qui ce passe quand on utilise `==`."
   ]
  },
  {
   "cell_type": "code",
   "execution_count": null,
   "id": "cd30556d-b01d-4211-b880-e55811a7d659",
   "metadata": {},
   "outputs": [],
   "source": [
    "x + 1 == 4"
   ]
  },
  {
   "cell_type": "markdown",
   "id": "571f9daf-e307-41ed-bd93-d18fdd4e7349",
   "metadata": {},
   "source": [
    "Au lieu de traiter `x + 1 == 4` comme une équation symbolique, nous avons simplement obtenu `False`.\n",
    "\n",
    "En fait, nous avons demandé à Python : est-ce que `x + 1` (qui est une expression `SymPy`) a la même valeur que l’entier Python `4`. La réponse est non.\n",
    "\n",
    "Quand on utilise `==`, on obtient toujours `True` ou `False`.\n",
    "\n",
    "Il y a un autre objet `SymPy`, appelé `Eq` que nous allons utiliser pour créer des équations."
   ]
  },
  {
   "cell_type": "code",
   "execution_count": null,
   "id": "3385ea1f-b9b8-4207-910e-e00a130e8d2d",
   "metadata": {},
   "outputs": [],
   "source": [
    "Eq(x + 1, 4)"
   ]
  },
  {
   "cell_type": "markdown",
   "id": "0cded319-3c6e-483d-9c1a-2ef30c585d21",
   "metadata": {},
   "source": [
    "Il y a une dernière subtilité à propos de `==`. Supposons que nous souhaitions savoir si  \n",
    "\n",
    "$(x + 1)^2 = x^2 + 2x + 1$. \n",
    "\n",
    "Nous pourrions tenter quelque-chose comme ça :"
   ]
  },
  {
   "cell_type": "code",
   "execution_count": null,
   "id": "3ce58b9d-60db-4bc1-b28b-87f6be415fed",
   "metadata": {},
   "outputs": [],
   "source": [
    "(x + 1)**2 == x**2 + 2*x + 1"
   ]
  },
  {
   "cell_type": "markdown",
   "id": "b05e2f9c-b702-44ca-9379-9d59cd6ed7b1",
   "metadata": {},
   "source": [
    "Nous avons obtenu `False` à nouveau !\n",
    "\n",
    "Pourtant si mes souvenirs du collège sont exacts, $(x + 1)^2$ est bien égal à $x^2 + 2x + 1$.\n",
    "\n",
    "Quel est le problème ? A-t-on identifié un bug dans `SymPy`, ou bien est-ce que `SymPy` n’est pas assez avancé pour identifier cette identité certes remarquable, mais plutôt basique ?\n",
    "\n",
    "Souvenez-vous que `==` signifie un test d’égalité symbolique exacte. **Exacte** ici signifie que les expressions seront évaluées comme égales si et seulement si elles sont les mêmes symboliquement. Ici $(x + 1)^2$ et $x^2 + 2x$ ne sont pas identiques symboliquement. L’une est le carré d’une somme de deux termes, l’autre est la somme de 3 termes.\n",
    "\n",
    "Il s’avère qu’à l’usage, avoir ce comportement `==`, *ie* tester l’égalité symbolique exacte est beaucoup plus utile que le comportement qui consisterait à tester l’égalité mathématique.\n",
    "Mais en tant que nouvel utilisateur de `SymPy`, vous êtes sans doute plus intéressé par le test d’égalité mathématique entre deux expressions.\n",
    "\n",
    "Nous avons déjà vu une alternative pour tester si deux expressions étaient équivalentes. Il suffit de se rappeler que si $a = b$, alors $a - b = 0$.\n",
    "\n",
    "Par conséquent, le meilleur moyen de tester si effectivement $a = b$, c’est de prendre `a - b` puis de le simplifier, et de voir si on obtient $0$.\n",
    "Nous verrons plus tard que la fonction qui fait ça est appelée `simplify()`. Cette fonction n’est pas infaillible — en fait, il peut être démontré qu’il est impossible de déterminer si deux expressions symboliques sont équivalente en général — mais pour les expressions les plus communes, cela fonctionne très bien."
   ]
  },
  {
   "cell_type": "code",
   "execution_count": null,
   "id": "0148b1e0-fa6a-4510-a081-8170c365ceb7",
   "metadata": {},
   "outputs": [],
   "source": [
    "a = (x + 1)**2\n",
    "b = x**2 + 2*x + 1\n",
    "simplify(a - b)"
   ]
  },
  {
   "cell_type": "code",
   "execution_count": null,
   "id": "c8d5d7a9-a1c0-4347-a570-28c9a7f32b6f",
   "metadata": {},
   "outputs": [],
   "source": [
    "c = x**2 - 2*x + 1\n",
    "simplify(a -c)"
   ]
  },
  {
   "cell_type": "markdown",
   "id": "1e07464d-d927-45e2-bd57-270b43547186",
   "metadata": {},
   "source": [
    "## Deux dernières petites choses : `^` et `/`"
   ]
  },
  {
   "cell_type": "markdown",
   "id": "be85ef83-1438-46f4-895b-18787e42ea10",
   "metadata": {},
   "source": [
    "Vous avez peut-être remarqué que nous utilisons `**` pour l’exponentiation plutôt que le signe `^` comme en $\\LaTeX$. C’est parce que `SymPy` suit la convention Python sur ce point.\n",
    "\n",
    "Dans Python, le signe `^` représente le *ou exclusif*, aussi appelé *XOR* booléen.\n",
    "C'est également le sens de ce signe dans `SymPy` :"
   ]
  },
  {
   "cell_type": "code",
   "execution_count": null,
   "id": "163caec3-0107-4130-ae16-a24ff1dd1ae8",
   "metadata": {},
   "outputs": [],
   "source": [
    "True ^ False # une expression avec un  ou exclusif est vraie si un des éléments est vrai et l’autre faux"
   ]
  },
  {
   "cell_type": "code",
   "execution_count": null,
   "id": "1962fedd-6498-4a36-8e3c-01bc5d822a8b",
   "metadata": {},
   "outputs": [],
   "source": [
    "True ^ True # si les deux éléments sont vrais, l’expression est évaluée fausse"
   ]
  },
  {
   "cell_type": "code",
   "execution_count": null,
   "id": "41ff91c6-70bc-4778-8f0c-2ecef5ee1cca",
   "metadata": {},
   "outputs": [],
   "source": [
    "x^y # XOR appliqué à deux symboles SymPy"
   ]
  },
  {
   "cell_type": "markdown",
   "id": "d91d87c9-3939-4608-be03-c3ba2300e50c",
   "metadata": {},
   "source": [
    "Finalement, il est temps d’avoir une rapide discussion technique à propos du fonctionnement de `SymPy`.\n",
    "\n",
    "Quand vous faites quelque-chose comme `x + 1`, où `x` est une variable contenant un symbole `SymPy`, le symbole est ajouté à l’entier 1, qui sont des objets de types différents.\n",
    "\n",
    "Les règles de fonctionnement des opérateurs Python permettent à `SymPy` de dire à Python que les objets `SymPy` tels que les `Symbols` savent comment s’ajouter aux entiers, et le `int` 1 est automatiquement converti en objet `Integer` de `SymPy`.\n",
    "\n",
    "Ce genre de magie liée aux opérateurs se déclenche automatiquement sous le capot, et vous n’avez en général pas besoin d’y prêter attention. Cependant il y a une exception à ça.\n",
    "\n",
    "\n",
    "Quand vous combinez un objet `SymPy` avec un autre objet `SymPy`, ou un objet `SymPy` et un objet Python, vous obtenez un nouvel objet `SymPy`. Mais quand vous combinez deux objets Python, `SymPy` n’entre pas en jeu, et vous obtenez un object Python.\n"
   ]
  },
  {
   "cell_type": "code",
   "execution_count": null,
   "id": "6d109665-30e2-40f8-91e8-c0ede26d49f9",
   "metadata": {},
   "outputs": [],
   "source": [
    "type(Integer(1) + 1) # object SymPy + int Python  => object SymPy"
   ]
  },
  {
   "cell_type": "code",
   "execution_count": null,
   "id": "0de11189-358b-4908-a948-3f2646c0a06d",
   "metadata": {},
   "outputs": [],
   "source": [
    "type(1 + 1) # objet Python + objet Python => object Python"
   ]
  },
  {
   "cell_type": "markdown",
   "id": "f2a46952-0197-4eec-85dc-9b3cee079ae2",
   "metadata": {},
   "source": [
    "Généralement, peu  importe, les `ints` Python se comportent comme les `Integers` de SymPy, mais il y une exception importante, la division.\n",
    "\n",
    "Entre deux `Integers` de `SymPy`, la division donne un objet `Rational` :"
   ]
  },
  {
   "cell_type": "code",
   "execution_count": null,
   "id": "40de56a4-58b4-4409-b628-c8d77a7ec294",
   "metadata": {},
   "outputs": [],
   "source": [
    "un_tiers = Integer(1)/Integer(3)\n",
    "un_tiers"
   ]
  },
  {
   "cell_type": "code",
   "execution_count": null,
   "id": "48e61911-68b9-4b33-b5e8-b065c1144694",
   "metadata": {},
   "outputs": [],
   "source": [
    "type(un_tiers)"
   ]
  },
  {
   "cell_type": "markdown",
   "id": "b0823708-76be-4058-82e0-c6df32f6efbd",
   "metadata": {},
   "source": [
    "Mais entre 2 `ints` de Python, le même opérateur donne un résultat étant un `float` :"
   ]
  },
  {
   "cell_type": "code",
   "execution_count": null,
   "id": "d0db931b-9870-4140-b5f4-da6eadde7218",
   "metadata": {},
   "outputs": [],
   "source": [
    "1/3"
   ]
  },
  {
   "cell_type": "code",
   "execution_count": null,
   "id": "955da69e-d097-4fd4-bc4f-b8e596edd08f",
   "metadata": {},
   "outputs": [],
   "source": [
    "type(1/3)"
   ]
  },
  {
   "cell_type": "markdown",
   "id": "3bea7778-e05c-429e-b3d2-68e85e00a1c9",
   "metadata": {},
   "source": [
    "Si vous utilisez une division `int/int` pour construire une expression `SymPy`, vous risquez d’avoir un nombre à virgule alors que vous vouliez voir apparaître une fraction :"
   ]
  },
  {
   "cell_type": "code",
   "execution_count": null,
   "id": "d505e2b1-610f-4ef5-a69a-c1c089ac8d9d",
   "metadata": {},
   "outputs": [],
   "source": [
    "x + 1/2"
   ]
  },
  {
   "cell_type": "markdown",
   "id": "5bbb3151-2c43-4fc1-b48d-b43e8a20322a",
   "metadata": {},
   "source": [
    "Le problème vient du fait que Python évalue `1/2` **avant** de faire l’addition avec `x`, et donc la transformation du nombre en objet `SymPy` se produit avec `0.5` et pas $\\frac{1}{2}$.\n",
    "\n",
    "Pour éviter cela, construisez un `Rational` explicitement :"
   ]
  },
  {
   "cell_type": "code",
   "execution_count": null,
   "id": "ae4509a4-94cb-4bc0-9d29-730a3112703b",
   "metadata": {},
   "outputs": [],
   "source": [
    "x + Rational(1,2)"
   ]
  },
  {
   "cell_type": "markdown",
   "id": "8306758f-eec5-41f6-81e1-77a84e44442d",
   "metadata": {},
   "source": [
    "La suite dans le notebook [Opérations de Base de SymPy](Sympy_103_operations_de_base.ipynb)."
   ]
  }
 ],
 "metadata": {
  "kernelspec": {
   "display_name": "Python 3 (ipykernel)",
   "language": "python",
   "name": "python3"
  },
  "language_info": {
   "codemirror_mode": {
    "name": "ipython",
    "version": 3
   },
   "file_extension": ".py",
   "mimetype": "text/x-python",
   "name": "python",
   "nbconvert_exporter": "python",
   "pygments_lexer": "ipython3",
   "version": "3.10.0rc1"
  },
  "toc": {
   "base_numbering": 1,
   "nav_menu": {},
   "number_sections": true,
   "sideBar": true,
   "skip_h1_title": true,
   "title_cell": "Table of Contents",
   "title_sidebar": "Contents",
   "toc_cell": false,
   "toc_position": {},
   "toc_section_display": true,
   "toc_window_display": true
  }
 },
 "nbformat": 4,
 "nbformat_minor": 5
}
