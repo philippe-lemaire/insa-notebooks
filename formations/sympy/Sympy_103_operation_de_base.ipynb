{
 "cells": [
  {
   "cell_type": "markdown",
   "id": "830381fb-d416-4334-a259-b35f6f430ae0",
   "metadata": {},
   "source": [
    "# Opérations de base dans SymPy"
   ]
  },
  {
   "cell_type": "code",
   "execution_count": null,
   "id": "a697283c-2999-4cd4-a8e4-45ce76abd01a",
   "metadata": {},
   "outputs": [],
   "source": [
    "from sympy import *\n",
    "x, y, z = symbols(\"x y z\")"
   ]
  },
  {
   "cell_type": "markdown",
   "id": "10705bd7-f953-4ba2-a1ed-e61bf1eb84ee",
   "metadata": {},
   "source": [
    "## Substitution"
   ]
  },
  {
   "cell_type": "markdown",
   "id": "66993177-b5da-407c-aa99-60853e0413ff",
   "metadata": {},
   "source": [
    "Une des opérations les plus fréquente dans une expression mathématique est la substitution. La substitution remplace toutes les occurences d’un élément dans une expression avec autre chose.\n",
    "On le fait avec la méthode `.subs()`. Par exemple :"
   ]
  },
  {
   "cell_type": "code",
   "execution_count": null,
   "id": "9a43f3da-a51b-4e0a-a160-509e11cf1afb",
   "metadata": {},
   "outputs": [],
   "source": [
    "expr = cos(x) + 1\n",
    "expr.subs(x, y)"
   ]
  },
  {
   "cell_type": "markdown",
   "id": "76adf525-f3ba-488a-a1fb-7c0aef5c2af4",
   "metadata": {},
   "source": [
    "Substitution is usually done for one of two reasons:\n",
    "\n",
    "1. Évaluer une expression en un point donné. Par exemple, si notre expression est $cos(x) + 1$ et que nous voulons l’évaluer au point $x = 0$, et obtenir $cos(0) + 1$, soit $2$.\n",
    "1. Remplacer une sous-expression par une autre sous-expression. Il peut y avoir 2 raisons pour faire ça : \n",
    "    - la première est si nous essayons de construire une expression qui a une forme de symétrie, comme $x^{x^{x^x}}$. Pour construire cette petite tour de puissances, nous pourrions commencer par `x**y`, puis remplacer `y` par `x**y`. On obtiendrait ainsi `x**(x**y)`. Si on remplace encore une fois `y` par `x**x`, nous obtiendront `x**x**x**x`, l’expression désirée.\n",
    "    - la deuxième raison serait voiloir réaliser une simplification très localement, ou peut-être une simplification que SymPy n’arriverait pas à faire automatiquement. Par exemple, disons que nous avons $sin(2x) + cos(2x)$, et que nous voulons remplacer $sin(2x)$ par $2sin(x)cos(x)$. Comme nous le verrons plus tard, la fonction `expand_trig()` fait précisément ça. Mais cette fonction va aussi développer $cos(2x)$, ce qui ne nous arrange peut-être pas. Bien qu’il existe des manières de réaliser des simplifications aussi précises, nous les verrons dans la section sur les manipulations avancées. en attendant un moyen simple est juste de remplacer $sin(2x)$ par $2sin(x)cos(x)$.\n",
    "    \n",
    "    "
   ]
  },
  {
   "cell_type": "markdown",
   "id": "112f8a50-d376-49df-bd5e-60d53e8fa4c3",
   "metadata": {},
   "source": [
    "Illustration de la substitution pour évaluer en en point :"
   ]
  },
  {
   "cell_type": "code",
   "execution_count": null,
   "id": "c9206a45-56b9-4f18-92e6-d7905c88e20c",
   "metadata": {},
   "outputs": [],
   "source": [
    "expr"
   ]
  },
  {
   "cell_type": "code",
   "execution_count": null,
   "id": "2f624e40-8e12-47f0-80bc-5da0a5a6907b",
   "metadata": {},
   "outputs": [],
   "source": [
    "expr.subs(x, 0)"
   ]
  },
  {
   "cell_type": "markdown",
   "id": "3bb46829-798b-4f8f-9447-ee7be26db6e3",
   "metadata": {},
   "source": [
    "Illustration de la substitution pour construire une expression en exploitant sa symétrie :"
   ]
  },
  {
   "cell_type": "code",
   "execution_count": null,
   "id": "8003cde9-2510-4d7e-bcd6-d92b113917e0",
   "metadata": {},
   "outputs": [],
   "source": [
    "expr = x ** y\n",
    "expr = expr.subs(y, x ** y)\n",
    "expr = expr.subs(y, x ** x)"
   ]
  },
  {
   "cell_type": "code",
   "execution_count": null,
   "id": "a1d83d38-4c3d-4994-8ef6-c462374a49c4",
   "metadata": {},
   "outputs": [],
   "source": [
    "expr"
   ]
  },
  {
   "cell_type": "markdown",
   "id": "7b24b19b-c868-477e-b9f2-2ecc1dccdb4b",
   "metadata": {},
   "source": [
    "Illustration de la substitution pour simplifier partiellement une expression :"
   ]
  },
  {
   "cell_type": "code",
   "execution_count": null,
   "id": "ea6dad98-4d84-41f1-8941-3427e31814ad",
   "metadata": {},
   "outputs": [],
   "source": [
    "expr = sin(2*x) + cos(2*x)\n",
    "expr"
   ]
  },
  {
   "cell_type": "code",
   "execution_count": null,
   "id": "9e1fc5e5-56d8-4778-a93c-c8a50513745d",
   "metadata": {},
   "outputs": [],
   "source": [
    "new_expr = expr.subs(sin(2*x), 2*sin(x)*cos(x))\n",
    "new_expr"
   ]
  },
  {
   "cell_type": "markdown",
   "id": "b1d0e0ed-9c47-479e-be26-68ce5b5689e1",
   "metadata": {},
   "source": [
    "<div class=\"alert alert-info\">\n",
    "\n",
    "\n",
    "Il y a deux choses importantes à noter à propos de la méthode `.subs()`. \n",
    "\n",
    "Elle renvoie une nouvelle expression. Tout comme les strings Python, les expressions SymPy sont immuables. Cela signifie que `subs()` ne modifie pas en place.\n",
    "    \n",
    "En fait, toutes les fonctions et méthodes sur les expressions renvoient de nouvelles expressions, que vous pouvez capturer dans des variables.\n",
    "\n",
    "</div>"
   ]
  },
  {
   "cell_type": "code",
   "execution_count": null,
   "id": "825b0f1d-a021-4729-9468-06ee4960538c",
   "metadata": {},
   "outputs": [],
   "source": [
    "expr = cos(x)\n",
    "expr.subs(x, 0)"
   ]
  },
  {
   "cell_type": "code",
   "execution_count": null,
   "id": "02631769-3eea-4dc7-9901-bc4916882605",
   "metadata": {},
   "outputs": [],
   "source": [
    "expr # expr n’a pas été modifiée par subs. subs a renvoyé une valeur, mais pas changé l’expression"
   ]
  },
  {
   "cell_type": "code",
   "execution_count": null,
   "id": "6f696bf5-87ae-42fe-a3a7-a44cabb0c19a",
   "metadata": {},
   "outputs": [],
   "source": [
    "x # subs n’a pas changé le symbole non plus."
   ]
  },
  {
   "cell_type": "markdown",
   "id": "b2f4518b-4d38-4247-81c4-d41ccb08bfd3",
   "metadata": {},
   "source": [
    "<div class='alert alert-info'>\n",
    "\n",
    "Pour réaliser plusieurs substitutions à la fois, passez une liste de paires (ancien, nouveau) à la méthode `.subs()`\n",
    "    \n",
    "</div>"
   ]
  },
  {
   "cell_type": "code",
   "execution_count": null,
   "id": "058d3ebc-5e1d-4c6f-be5f-403cd96da187",
   "metadata": {},
   "outputs": [],
   "source": [
    "expr = x**3 + 4*x*y - z\n",
    "expr.subs([(x, 2), (y, 4), (z, 0)])"
   ]
  },
  {
   "cell_type": "markdown",
   "id": "0a1c3b62-a6f2-45bd-b7fb-5cdee741856a",
   "metadata": {},
   "source": [
    "C'est souvent utile de combiner cette technique avec une list comprehension pour faire plusieurs substitutions similaires d’un coup.\n",
    "\n",
    "Par exemple, disons que nous avons $x^4 - 4x^3 + 4x^2 - 2x + 3$ et que nous voulions remplacer tous les $x$ avec un exposant pair par des $y$, pour obtenir $y^4 - 4x^3 + 4y^2 - 2x + 3$ :"
   ]
  },
  {
   "cell_type": "code",
   "execution_count": null,
   "id": "4074d0b4-96a2-4f05-a29a-d9b3cf2996bc",
   "metadata": {},
   "outputs": [],
   "source": [
    "expr = x**4 - 4*x**3 + 4*x**2 - 2*x + 3\n",
    "replacements = [(x**i, y**i) for i in range(1, 5) if i % 2 == 0]\n",
    "expr.subs(replacements)"
   ]
  },
  {
   "cell_type": "markdown",
   "id": "0ca5b05a-7b65-49ba-840d-f75bc8ecbde7",
   "metadata": {},
   "source": [
    "## Convertir des strings en expression SymPy"
   ]
  },
  {
   "cell_type": "markdown",
   "id": "99b0ae7c-e190-4d24-9438-74d12ba275e8",
   "metadata": {},
   "source": [
    "La fonction `sympify()`, à ne pas confondre avec `simplify()` peut être utilisée pour convertir un `string` en une expression `SymPy`.\n",
    "\n",
    "\n",
    "Par exemple :"
   ]
  },
  {
   "cell_type": "code",
   "execution_count": null,
   "id": "c2a53e21-84c1-449f-9c22-600d918aa144",
   "metadata": {},
   "outputs": [],
   "source": [
    "str_expr = \"x**2 + 3*x - 1/2\"\n",
    "expr = sympify(str_expr)\n",
    "expr"
   ]
  },
  {
   "cell_type": "code",
   "execution_count": null,
   "id": "9e7a59c9-b47e-443c-a837-3aea3c610f6b",
   "metadata": {},
   "outputs": [],
   "source": [
    "expr.subs(x, 2)"
   ]
  },
  {
   "cell_type": "markdown",
   "id": "16ccb980-351a-4b07-b33f-ba43e44b855d",
   "metadata": {},
   "source": [
    "### `evalf()`"
   ]
  },
  {
   "cell_type": "markdown",
   "id": "00354ed7-b108-4e14-9fd9-cd308111d4a8",
   "metadata": {},
   "source": [
    "Pour évaluer une expression `SymPy` numérique, il y a la méthode `.evalf()`."
   ]
  },
  {
   "cell_type": "code",
   "execution_count": null,
   "id": "9980cf42-2718-4326-a52e-9094c6c26270",
   "metadata": {},
   "outputs": [],
   "source": [
    "sqrt(8).evalf()"
   ]
  },
  {
   "cell_type": "markdown",
   "id": "ff72dee7-58bd-45e2-b991-ea253418659e",
   "metadata": {},
   "source": [
    "`SymPy` peut évaluer une expression en nombre à virgule avec le niveau de précision que vous voulez. Par défaut, 15 chiffres après la virgule sont calculés, mais vous pouvez passer le nombre voulu en argument de `.evalf()`. \n",
    "\n",
    "Calculons les 100 premiers chiffres après la virgule de $\\pi$"
   ]
  },
  {
   "cell_type": "code",
   "execution_count": null,
   "id": "b4b99a41-eac4-453c-84d0-f87786bf5596",
   "metadata": {},
   "outputs": [],
   "source": [
    "pi.evalf(100)"
   ]
  },
  {
   "cell_type": "markdown",
   "id": "a733b192-2516-4ba7-a256-3d363d0b9058",
   "metadata": {},
   "source": [
    "Pour évaluer numériquement une expression avec un `Symbol` à un certain point, nous pouvons utiliser `.subs()` suivi par `.evalf()`, mais il est plus efficace et précis numériquement\n",
    "de faire la substitution directement dans `.evalf()` en passant un dictionnaire de paires `Symbol: valeur`.\n"
   ]
  },
  {
   "cell_type": "code",
   "execution_count": null,
   "id": "b63eee3f-212c-4498-9e89-e889712b71d8",
   "metadata": {},
   "outputs": [],
   "source": [
    "expr = cos(2*x)\n",
    "expr.evalf(subs={x: 2.4})"
   ]
  },
  {
   "cell_type": "markdown",
   "id": "6c22f9f3-c964-4e91-a89f-f62292ae04c7",
   "metadata": {},
   "source": [
    "`.subs()` et `evalf()` sont adéquates pour des évaluations simples, mais si vous voulez évaluer une expression en de nombreux points, il y a plus efficace. Voir [SymPy 108 - calcul numérique avancé](Sympy_108.ipynb) pour plus de détails.\n",
    "\n",
    "La suite, en attendant : [SymPy 104 - Simplification](Sympy_104.ipynb)."
   ]
  }
 ],
 "metadata": {
  "kernelspec": {
   "display_name": "Python 3 (ipykernel)",
   "language": "python",
   "name": "python3"
  },
  "language_info": {
   "codemirror_mode": {
    "name": "ipython",
    "version": 3
   },
   "file_extension": ".py",
   "mimetype": "text/x-python",
   "name": "python",
   "nbconvert_exporter": "python",
   "pygments_lexer": "ipython3",
   "version": "3.10.0rc1"
  }
 },
 "nbformat": 4,
 "nbformat_minor": 5
}
