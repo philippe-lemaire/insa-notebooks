{
 "cells": [
  {
   "cell_type": "markdown",
   "id": "31e44475-1356-4da6-8443-b5af3924534c",
   "metadata": {},
   "source": [
    "# Simplification dans SymPy"
   ]
  },
  {
   "cell_type": "markdown",
   "id": "ccebd09b-b700-4433-93bd-c5da9ab77997",
   "metadata": {},
   "source": [
    "D’abord, un import complet de `SymPy` et la création des trois symboles $x, y, z$."
   ]
  },
  {
   "cell_type": "code",
   "execution_count": null,
   "id": "40f3fa33-430a-4854-9532-840a39214032",
   "metadata": {},
   "outputs": [],
   "source": [
    "from sympy import *\n",
    "x, y, z = symbols('x y z')"
   ]
  },
  {
   "cell_type": "markdown",
   "id": "7681cb71-d3f6-447d-a466-8c8b629a5c80",
   "metadata": {},
   "source": [
    "## La fonction `simplify()`"
   ]
  },
  {
   "cell_type": "markdown",
   "id": "5162dba4-c334-4d43-88b4-cb9c1f31b4ae",
   "metadata": {},
   "source": [
    "Il est temps de faire des mathématiques un peu plus intéressantes. Une des fonctions les plus utiles dans un système de calcul formel est la capacité de simplifier des expressions mathématiques. `SymPy`a des douzaines de fonctions pour réaliser différents types de simplification. Il existe également une fonction générale appelée `simplify()` qui essaie d’appliquer toutes ces différentes fonctions d’une manière intelligente pour arriver à la forme la plus simple d’une expression. Voici quelques exemples :"
   ]
  },
  {
   "cell_type": "code",
   "execution_count": null,
   "id": "19a6cb4e-8e85-4890-8eed-e8922b1bf889",
   "metadata": {},
   "outputs": [],
   "source": [
    "simplify(sin(x)**2 + cos(x)**2)"
   ]
  },
  {
   "cell_type": "code",
   "execution_count": null,
   "id": "67100cd2-e231-4bcb-9163-a22eb9aad0b3",
   "metadata": {},
   "outputs": [],
   "source": [
    "simplify((x**3 + x**2 - x - 1)/(x**2 + 2*x + 1))"
   ]
  },
  {
   "cell_type": "code",
   "execution_count": null,
   "id": "9fcfe415-9ed2-45c3-a73d-416ed972590d",
   "metadata": {},
   "outputs": [],
   "source": [
    "simplify(gamma(x)/gamma(x - 2))"
   ]
  },
  {
   "cell_type": "markdown",
   "id": "8377da69-a20d-415a-bb35-fa1a6636dc42",
   "metadata": {},
   "source": [
    "Ici, `gamma(x)` est $\\Gamma(x)$, [la fonction Gamma](https://fr.wikipedia.org/wiki/Fonction_gamma). \n",
    "\n",
    "Nous voyons que `simplify()` est capable de traiter un éventail d’expressions différentes.\n",
    "\n",
    "Mais `simplify()` a un défaut. Elle applique toutes les simplifications programmées dans `SymPy`, et utilise une certaine logique pour déterminer quel est le résultat le plus simple. Mais « le plus simple » peut être parfois très arbitraire.\n",
    "\n",
    "\n",
    "Par exemple, disons que nous voulons « simplifier » l’expression \n",
    "\n",
    "$x^2 + 2x + 1$ \n",
    "\n",
    "en \n",
    "\n",
    "$(x + 1)^2$"
   ]
  },
  {
   "cell_type": "code",
   "execution_count": null,
   "id": "f51b3d0e-4bb6-4d95-a04f-11fd266dbc37",
   "metadata": {},
   "outputs": [],
   "source": [
    "simplify(x**2 + 2*x + 1)"
   ]
  },
  {
   "cell_type": "markdown",
   "id": "0bc90787-8f6f-4aea-98aa-4ffb627ac6b5",
   "metadata": {},
   "source": [
    "Nous n’avons pas obtenu ce que nous voulions. Il y a pourtant une fonction qui réalise cette simplification, que nous allons voir bientôt.\n",
    "\n",
    "Un autre écueil de `simplify()`, c’est que la fonction peut être lente, puisqu’elle essaie toute une batterie de simplifications avant de choisir la meilleure. Si vous savez déjà exactement quel type de simplification vous voulez utiliser, il vaut mieux utiliser directement la fonction qui réalise la simplification voulue.\n",
    "\n",
    "Appliquer des fonctions de simplification spécifiques plutôt que `simplify()` a également l’avantage de vous donner certaines garanties sur la forme de l’expression en sortie.\n",
    "Nous en discuterons avec chaque fonction évoquée. Par exemple, `factor()` quand elle est appelée sur un polynome avec des coefficients rationnels, est garantie de factoriser le polynome en facteurs irréductibles. `simplify()` est sans garantie. Elle est entièrement heuristique, et comme vu plus tôt, elle peut très bien ne pas faire une simplification que `SymPy` est capable de faire, parce que l’expression est déjà dans une forme simplifiée différente de celle que l’on veut.\n",
    "\n",
    "`simplify()` est à utiliser en mode intéractif, dans un notebook par exemple, quand vous voulez rapidement simplifier une expression. Vous pouvez alors choisir d’appliquer une fonction de simplification particulière, une fois que vous avez vu que ce `simplify()` va faire, pour avoir un résultat particulier. `simplify()` est également utile quand vous n’avez pas idée de la forme qu’une expression va avoir, et que vous voulez une fonction \"attrape-tout\" qui va la simplifier."
   ]
  },
  {
   "cell_type": "markdown",
   "id": "5094b888-ad71-44ab-9cbe-3310f69877b3",
   "metadata": {},
   "source": [
    "## Simplification de fonctions polynomiales et rationnelles"
   ]
  },
  {
   "cell_type": "markdown",
   "id": "d68ca11d-2917-4563-8efe-25509eafde2b",
   "metadata": {},
   "source": [
    "### `expand()`"
   ]
  },
  {
   "cell_type": "markdown",
   "id": "6b0ec1b9-042f-4184-bd82-b4c070e93bf2",
   "metadata": {},
   "source": [
    "`expand()` est une des simplifications les plus courantes dans `SymPy`. Bien qu’elle ait beaucoup d’applications, pour le moment, nous allons considérer son usage pour développer une expression polynomiale. Par exemple :"
   ]
  },
  {
   "cell_type": "code",
   "execution_count": null,
   "id": "a4869da2-1ab7-4301-b987-14481d7e0ac0",
   "metadata": {},
   "outputs": [],
   "source": [
    "expand((x + 1)**2)"
   ]
  },
  {
   "cell_type": "code",
   "execution_count": null,
   "id": "45fda958-cea6-40e9-8213-f541bbf3829c",
   "metadata": {},
   "outputs": [],
   "source": [
    "expand((x + 2)*(x - 3))"
   ]
  },
  {
   "cell_type": "markdown",
   "id": "39d72629-7d2d-46b6-a036-aa73e5849ebe",
   "metadata": {},
   "source": [
    "Sur un polynôme donné, `expand()` va le mettre dans sous la forme classique d’une somme de monômes. \n",
    "\n",
    "Développer une expression comme le fait `expand()` peut vous sembler ne pas être une simplification. Après tout, ça rend l’expression plus longue de la développer. Souvent, mais pas toujours. Assez souvent, développer une expression va la rendre plus courte et plus simple en raison de termes qui s’annulent."
   ]
  },
  {
   "cell_type": "code",
   "execution_count": null,
   "id": "8dff443e-12f2-4e55-9789-2c02a26634ad",
   "metadata": {},
   "outputs": [],
   "source": [
    "expr = (x + 1)*(x - 2) - (x - 1)*x\n",
    "expr"
   ]
  },
  {
   "cell_type": "code",
   "execution_count": null,
   "id": "3035cdf4-fcb5-4d03-868c-9497a440d007",
   "metadata": {},
   "outputs": [],
   "source": [
    "expand(expr)"
   ]
  },
  {
   "cell_type": "markdown",
   "id": "b865b06f-e110-463a-9a8a-027f2d5483fb",
   "metadata": {},
   "source": [
    "### `factor()`"
   ]
  },
  {
   "cell_type": "markdown",
   "id": "7573f639-03ed-433f-8c91-c3fbaee78c8a",
   "metadata": {},
   "source": [
    "`factor()` prends un polynôme et le factorise. Par exemple :"
   ]
  },
  {
   "cell_type": "code",
   "execution_count": null,
   "id": "649cb519-89f9-4297-b66e-b78a6eec7e00",
   "metadata": {},
   "outputs": [],
   "source": [
    "expr1 = x**3 - x**2 + x - 1\n",
    "expr1"
   ]
  },
  {
   "cell_type": "code",
   "execution_count": null,
   "id": "5fff8745-aa03-4af3-8414-11733aca9297",
   "metadata": {},
   "outputs": [],
   "source": [
    "factor(expr1)"
   ]
  },
  {
   "cell_type": "code",
   "execution_count": null,
   "id": "6b8c33a9-67d4-4202-b670-748dd4efbf7c",
   "metadata": {},
   "outputs": [],
   "source": [
    "expr2 = x**2*z + 4*x*y*z + 4*y**2*z\n",
    "expr2"
   ]
  },
  {
   "cell_type": "code",
   "execution_count": null,
   "id": "2b7b2c03-f161-420b-b142-cc625a820012",
   "metadata": {},
   "outputs": [],
   "source": [
    "factor(expr2)"
   ]
  },
  {
   "cell_type": "markdown",
   "id": "9c6a64e7-b56a-43d4-bad7-85185ecdd963",
   "metadata": {},
   "source": [
    "Pour les polynômes, `factor()` est l’opposée de `expand()`. `factor()` utilise un algorithme de factorisation multivariable complète sur les nombres rationnels, ce qui veut dire que chaque facteur renvoyé est garanti irréductible.\n",
    "\n",
    "Si ce sont les facteurs eux-même qui vous intéressent, `factor_list()` renvoie une sortie plus structurée."
   ]
  },
  {
   "cell_type": "code",
   "execution_count": null,
   "id": "e8182ded-ffbe-4f2f-822d-d6d7380c0739",
   "metadata": {},
   "outputs": [],
   "source": [
    "factor_list(expr2)"
   ]
  },
  {
   "cell_type": "markdown",
   "id": "599a6405-fe26-4a09-a3b4-c0ec8a2650c3",
   "metadata": {},
   "source": [
    "Notez bien que l’entrée de `factor()` et d’`expand()` n’ont pas à être des polynômes *stricto sensu*. Ces fonctions factorisent et développent intelligemment tout type d’expression (mais les facteurs ne seront peut-être pas irréductibles si les données d’entrées ne sont pas un polynôme de rationnels)."
   ]
  },
  {
   "cell_type": "code",
   "execution_count": null,
   "id": "02dcf643-fe78-40bd-bd42-5b70b74472fb",
   "metadata": {},
   "outputs": [],
   "source": [
    "expr3 = (cos(x) + sin(x))**2\n",
    "expr3"
   ]
  },
  {
   "cell_type": "code",
   "execution_count": null,
   "id": "2e5e4bdb-e85b-40a2-b397-0d8ca46c4ed6",
   "metadata": {},
   "outputs": [],
   "source": [
    "expanded = expand(expr3)\n",
    "expanded"
   ]
  },
  {
   "cell_type": "code",
   "execution_count": null,
   "id": "0483ae09-00e0-464f-83f5-0974e4b687e6",
   "metadata": {},
   "outputs": [],
   "source": [
    "factor(expanded)"
   ]
  },
  {
   "cell_type": "markdown",
   "id": "48cab0a7-1d4b-485b-beac-ead20b77cd2b",
   "metadata": {},
   "source": [
    "### `collect()`"
   ]
  },
  {
   "cell_type": "markdown",
   "id": "79b33cd0-592a-4735-9982-a412b31d551b",
   "metadata": {},
   "source": [
    "`collect()` rassemble les puissances communes d’un terme dans une expression. Par exemple :"
   ]
  },
  {
   "cell_type": "code",
   "execution_count": null,
   "id": "f44749bc-2e67-48e2-95b3-5fa46bdd1938",
   "metadata": {},
   "outputs": [],
   "source": [
    "expr = x*y + x - 3 + 2*x**2 - z*x**2 + x**3\n",
    "expr"
   ]
  },
  {
   "cell_type": "code",
   "execution_count": null,
   "id": "f4cc9fd3-27e4-46bf-92ad-fc956ed3a46e",
   "metadata": {},
   "outputs": [],
   "source": [
    "collected_expr = collect(expr, x)\n",
    "collected_expr"
   ]
  },
  {
   "cell_type": "markdown",
   "id": "cd966e87-0ce9-45bc-baac-06774ead7e0b",
   "metadata": {},
   "source": [
    "`collect()` est particulièrement utile en conjonction avec la méthode `.coeff()`. \n",
    "\n",
    "`expr.coeff(x, n)` donne le coefficient de $x^n$ dans `expr` :"
   ]
  },
  {
   "cell_type": "code",
   "execution_count": null,
   "id": "9267d669-7470-4a52-9eb8-5773e2df0762",
   "metadata": {},
   "outputs": [],
   "source": [
    "collected_expr.coeff(x, 2)"
   ]
  },
  {
   "cell_type": "code",
   "execution_count": null,
   "id": "1d913037-a6ca-4b83-ae30-80861367b84b",
   "metadata": {},
   "outputs": [],
   "source": [
    "# de manière itérative, sur toutes les puissances du polynôme\n",
    "print(\"facteurs :\")\n",
    "for n in range(4):\n",
    "    print(f\"{x}^{n}: {collected_expr.coeff(x, n)}\")"
   ]
  },
  {
   "cell_type": "markdown",
   "id": "e6efeef8-9f37-4b09-9806-2b9d34c6c2b1",
   "metadata": {},
   "source": [
    "### `cancel()`"
   ]
  },
  {
   "cell_type": "markdown",
   "id": "380e75af-cd93-4bd0-b586-e288c894eaf8",
   "metadata": {},
   "source": [
    "`cancel()` prend n’importe quelle fonction rationnelle et la met dans sa forme canonique, $\\frac{p}{q}$, où $p$ et $q$ sont des polynômes développés sans facteurs communs et les coefficients de tête de $p$ et $q$ n’ont pas de dénominateurs (*ie* des entiers)."
   ]
  },
  {
   "cell_type": "code",
   "execution_count": null,
   "id": "33a38dec-17a6-4090-81ec-51485d90fde8",
   "metadata": {},
   "outputs": [],
   "source": [
    "expr4 = (x**2 + 2*x + 1)/(x**2 + x)\n",
    "expr4"
   ]
  },
  {
   "cell_type": "code",
   "execution_count": null,
   "id": "53125c0a-efd1-4005-9893-3eca49a756ae",
   "metadata": {},
   "outputs": [],
   "source": [
    "cancel(expr4)"
   ]
  },
  {
   "cell_type": "code",
   "execution_count": null,
   "id": "0c806f30-10f9-4ca7-9406-1ba7a7f58ca8",
   "metadata": {},
   "outputs": [],
   "source": [
    "expr5 = 1/x + (3*x/2 - 2)/(x - 4)\n",
    "expr5"
   ]
  },
  {
   "cell_type": "code",
   "execution_count": null,
   "id": "e91a4af3-2458-4bc1-bf3e-6b48b8c0b6a7",
   "metadata": {},
   "outputs": [],
   "source": [
    "cancel(expr5)"
   ]
  },
  {
   "cell_type": "code",
   "execution_count": null,
   "id": "f3d606e9-847a-46de-a991-8496786a67e6",
   "metadata": {},
   "outputs": [],
   "source": [
    "expr6 = (x*y**2 - 2*x*y*z + x*z**2 + y**2 - 2*y*z + z**2)/(x**2 - 1)\n",
    "expr6"
   ]
  },
  {
   "cell_type": "code",
   "execution_count": null,
   "id": "efc8014c-460c-4f67-93bd-c39a8e186db0",
   "metadata": {},
   "outputs": [],
   "source": [
    "cancel(expr6)"
   ]
  },
  {
   "cell_type": "markdown",
   "id": "41717b93-0d43-4bb3-add1-95e6e1ffd9aa",
   "metadata": {},
   "source": [
    "Notez bien que vu que `factor()` va complètement factoriser à la fois le numérateur et le dénominateur, elle peut aussi être utilisée pour faire la même chose :"
   ]
  },
  {
   "cell_type": "code",
   "execution_count": null,
   "id": "da3381f8-e16a-445a-8b3a-874bebe06dd7",
   "metadata": {},
   "outputs": [],
   "source": [
    "factor(expr6)"
   ]
  },
  {
   "cell_type": "markdown",
   "id": "cea6ed42-5026-437a-a304-076d2643864b",
   "metadata": {},
   "source": [
    "Cependant, si vous voulez être sûr·e que l’expression est dans sa forme annulée, `cancel()` est plus efficace que `factor()`."
   ]
  },
  {
   "cell_type": "markdown",
   "id": "ae335c81-ac93-43bd-815a-b19b81a8c2b9",
   "metadata": {},
   "source": [
    "### `apart()`\n",
    "\n",
    "`apart()` réalise une décomposition partielle de fraction sur une fonction rationnelle."
   ]
  },
  {
   "cell_type": "code",
   "execution_count": null,
   "id": "fb8f04b2-8261-482e-aebb-9dfdec6ac82b",
   "metadata": {},
   "outputs": [],
   "source": [
    "expr7 = (4*x**3 + 21*x**2 + 10*x + 12)/(x**4 + 5*x**3 + 5*x**2 + 4*x)\n",
    "expr7"
   ]
  },
  {
   "cell_type": "code",
   "execution_count": null,
   "id": "93cc7188-036d-4d93-be47-3c0ae6c085c0",
   "metadata": {},
   "outputs": [],
   "source": [
    "apart(expr7)"
   ]
  },
  {
   "cell_type": "markdown",
   "id": "84e3cc05-74f4-4f2e-9ff0-eba7b82da9f6",
   "metadata": {},
   "source": [
    "## Simplifications trigonométriques"
   ]
  },
  {
   "cell_type": "markdown",
   "id": "47875ec7-ef87-41ab-8124-be2d7d5430f3",
   "metadata": {},
   "source": [
    "\n",
    "SymPy suit la convention de Python pour nommer les réciproques des fonctions trigonométriques, qui est de préfixer le nom des fonctions par un `a`. Par exemple, la réciproque de cosinus, arc cosinus est appelée `acos`.\n",
    "    \n"
   ]
  },
  {
   "cell_type": "code",
   "execution_count": null,
   "id": "e01fa54a-4c48-47bd-9d0e-e80c14b4798e",
   "metadata": {},
   "outputs": [],
   "source": [
    "acos(x)"
   ]
  },
  {
   "cell_type": "code",
   "execution_count": null,
   "id": "8c50f7b2-b36c-458b-a633-162bd0453cda",
   "metadata": {},
   "outputs": [],
   "source": [
    "cos(acos(x))"
   ]
  },
  {
   "cell_type": "code",
   "execution_count": null,
   "id": "c2ba0fb3-d86b-4028-b053-0f1d473be89f",
   "metadata": {},
   "outputs": [],
   "source": [
    "asin(1)"
   ]
  },
  {
   "cell_type": "markdown",
   "id": "40faf119-d415-4772-bdac-598906c1a020",
   "metadata": {},
   "source": [
    "### `trigsimp()`\n",
    "\n",
    "Pour simplifier une expression utilisant des identités trigonométriques, utilisez `trigsimp()`."
   ]
  },
  {
   "cell_type": "code",
   "execution_count": null,
   "id": "71c60659-f3f5-4b6b-933e-aae0c6f25918",
   "metadata": {},
   "outputs": [],
   "source": [
    "trigsimp(sin(x)**2 + cos(x)**2)"
   ]
  },
  {
   "cell_type": "markdown",
   "id": "068cd25a-9748-4a36-bcfb-9a493ea94d53",
   "metadata": {},
   "source": [
    "Tout comme `simplify()`, `trigsimp()` applique différentes identiés trigonométriques sur l’expression en entrée, et utilise une heuristique pour renvoyer la « meilleure »."
   ]
  },
  {
   "cell_type": "markdown",
   "id": "4a5a0e02-8bf4-43c0-9f98-0b2f0c9c8bdd",
   "metadata": {},
   "source": [
    "### `expand_trig()`\n",
    "\n",
    "Pour développer des fonctions trigonométriques, *ie* appliquer les formules de l’addition ou de l’angle double, utilisez `expand_trig()`."
   ]
  },
  {
   "cell_type": "code",
   "execution_count": null,
   "id": "65606987-4809-4ef9-999a-03d5260a010f",
   "metadata": {},
   "outputs": [],
   "source": [
    "expand_trig(sin(x + y))"
   ]
  },
  {
   "cell_type": "code",
   "execution_count": null,
   "id": "29f6f0b3-11ec-4074-865e-1d300fab1185",
   "metadata": {},
   "outputs": [],
   "source": [
    "expand_trig(cos(2*x))"
   ]
  },
  {
   "cell_type": "markdown",
   "id": "9c317416-eabc-4ea8-a20b-3d61298b3468",
   "metadata": {},
   "source": [
    "## Puissances"
   ]
  },
  {
   "cell_type": "markdown",
   "id": "56491dfb-c93a-4999-82cd-4849aef52e76",
   "metadata": {},
   "source": [
    "Avant de présenter les fonctions de simplification des puissances, une discussion mathématique des identités des puissances est de rigueur.\n",
    "\n",
    "Il y a 3 types d’identités satisfaites par les exposants : \n",
    "\n",
    "- $x^ax^b = x^{a + b}$\n",
    "- $x^ay^a = (xy)^a$\n",
    "- $(x^a)^b = x^{ab}$\n",
    "\n",
    "\n",
    "La première identité est toujours vraie.\n",
    "\n",
    "La deuxième ($x^ay^a = (xy)^a$) n’est pas toujours vraie. Par exemple, si :\n",
    "\n",
    "- $x = y = -1$ et \n",
    "- $a=\\frac{1}{2}$, \n",
    "\n",
    "alors \n",
    "\n",
    "- $x^ay^a = \\sqrt{-1}\\sqrt{-1} = i\\cdot i = -1$, tandis que \n",
    "- $(xy)^a = \\sqrt{-1\\cdot-1} = \\sqrt{1} = 1$. \n",
    "\n",
    "Cependant, l’identité 2 est vraie si $x$ et $y$ sont non-négatifs et $a$ est un réel (elle peut être vraie dans d’autres conditions également). Une conséquence habituelle de l’échec de l’identité 2 est que $\\sqrt{x}\\sqrt{y} \\neq \\sqrt{xy}$\n",
    "\n",
    "La troisième identité ($(x^a)^b = x^{ab}$) n’est pas toujours vraie. Par exemple, si :\n",
    "\n",
    "- $x = -1$, \n",
    "- $a = 2$ et \n",
    "- $b = \\frac{1}{2}$, \n",
    "\n",
    "alors :\n",
    "\n",
    "- $(x^a)^b = {\\left ((-1)^2\\right )}^{1/2} = \\sqrt{1} = 1$ et \n",
    "- $x^{ab} = (-1)^{2\\cdot1/2} = (-1)^1 = -1$\n",
    "\n",
    "Cependant, cette 3ème identité est vraie si $b$ est un entier (à nouveau, elle peut aussi être vraie dans d’autres cas). 2 conséquences communes de l’échec de l’identité 3 sont que :\n",
    "\n",
    "- $\\sqrt(x^2) \\neq x$\n",
    "- $\\sqrt{\\frac{1}{x}} \\neq \\frac{1}{\\sqrt{x}}$\n",
    "\n",
    "En bref,\n",
    "\n",
    "| Identité | Conditions suffisantes | Contre exemple, quand les conditions ne sont pas réunies | Conséquences notables |\n",
    "|---|---|---|---|\n",
    "| $x^ax^b$ = $x^{a + b}$ | Toujours vraie | Aucun | Aucune |\n",
    "| $x^ay^a$ = $(xy)^a$ | $x, y \\geq 0$ et $a \\in \\mathbb{R}$ | $(-1)^{1/2}(-1)^{1/2} \\neq (-1\\cdot-1)^{1/2}$ | En général, $\\sqrt{x}\\sqrt{y} \\neq \\sqrt{xy}$ |\n",
    "| $(x^a)^b$ = $x^{ab}$ | $b \\in \\mathbb{Z}$ | ${\\left((-1)^2\\right)}^{1/2} \\neq (-1)^{2\\cdot1/2}$ | En général,   - $\\sqrt{x^2}\\neq x$ - $\\sqrt{\\frac{1}{x}}\\neq\\frac{1}{\\sqrt{x}}$ |"
   ]
  },
  {
   "cell_type": "markdown",
   "id": "61b60688-1899-4159-8a2d-d3b77d0afb7f",
   "metadata": {},
   "source": [
    "C’est important à garder en tête, parce que par défaut, `SymPy` ne réalisera pas de simplification si l’identité n’est pas vraie en général. \n",
    "\n",
    "Si l’on veut que `SymPy` exécute des simplifications impliquant des identités qui ne sont vraies que dans certaines conditions, nous devons inclure ces conditions dans nos `Symbols`. Nous verrons le système de suppositions plus en détail un peu plus tard, mais pour le moment, tout ce que nous devons savoir est que :\n",
    "\n",
    "- par défaut, les `Symbols` sont présumés complexes (appartenant à $\\mathbb{C}$). Ce qui implique que seules les simplifications vraies pour tout membre de $\\mathbb{C}$ s’appliquent par défaut.\n",
    "- les `Symbols` peuvent être réglés lors de leur création pour avoir des suppositions différentes, avec des paramètres passés à la fonction `symbols()`. Pour le reste de cette section, nous allons supposer que $x$ et $y$ sont positifs, et que $a$ et $b$ sont réels. Nous laisserons $z$, $t$ et $c$ en tant que symboles par défaut (nombre complexe) pour illustrer le comportement dans ce cas."
   ]
  },
  {
   "cell_type": "code",
   "execution_count": null,
   "id": "982a8511-355a-407c-b82b-0cf65836e573",
   "metadata": {},
   "outputs": [],
   "source": [
    "x, y = symbols('x y', positive=True)\n",
    "\n",
    "a, b = symbols('a b', real=True)\n",
    "\n",
    "z, t, c = symbols('z t c')"
   ]
  },
  {
   "cell_type": "markdown",
   "id": "bc545dae-0554-46aa-9533-77ae9c9ffeff",
   "metadata": {},
   "source": [
    "### `powsimp()`\n",
    "\n",
    "`powsimp()` applique les identités 1 et 2 vues plus haut, de gauche à droite."
   ]
  },
  {
   "cell_type": "code",
   "execution_count": null,
   "id": "df45935f-83ed-4937-a845-91703df7731d",
   "metadata": {},
   "outputs": [],
   "source": [
    "powsimp(x**a*x**b)"
   ]
  },
  {
   "cell_type": "code",
   "execution_count": null,
   "id": "8f1b74ad-06fe-4ad3-a095-e5a76721af9d",
   "metadata": {},
   "outputs": [],
   "source": [
    "powsimp(x**a*y**a)"
   ]
  },
  {
   "cell_type": "markdown",
   "id": "bffc84e6-069c-4567-84cc-a07595a77d7f",
   "metadata": {},
   "source": [
    "Notez bien que `powsimp()` ne fera pas la simplification si elle n’est pas valide."
   ]
  },
  {
   "cell_type": "code",
   "execution_count": null,
   "id": "3c11ea6a-d48d-4438-b0dd-050392b1a73a",
   "metadata": {},
   "outputs": [],
   "source": [
    "powsimp(t**c*z**c)"
   ]
  },
  {
   "cell_type": "markdown",
   "id": "70dab3e7-d08f-44cd-a986-96dd61dc3de1",
   "metadata": {},
   "source": [
    "Si vous voulez faire la simplification mais vous ne voulez pas modifier les suppositions de vos symboles, vous pouvez passer l’argument `force=True` à `powsimp()`."
   ]
  },
  {
   "cell_type": "code",
   "execution_count": null,
   "id": "610be868-1c86-4896-a259-f755467f5061",
   "metadata": {},
   "outputs": [],
   "source": [
    "powsimp(t**c*z**c, force=True)"
   ]
  },
  {
   "cell_type": "markdown",
   "id": "a60d59ec-1b73-4007-a82e-66ee89b28cfe",
   "metadata": {},
   "source": [
    "Dans certains cas, notamment quand les exposants sont des entiers ou des rationnels, et que l’identité 2 est valide, la simplification est appliquée automatiquement."
   ]
  },
  {
   "cell_type": "code",
   "execution_count": null,
   "id": "95e73963-9aa0-4e4f-888c-1c0ef6073818",
   "metadata": {},
   "outputs": [],
   "source": [
    "(z*t)**2"
   ]
  },
  {
   "cell_type": "code",
   "execution_count": null,
   "id": "1d1b4354-2115-4a7b-9dda-8e4720dc12f5",
   "metadata": {},
   "outputs": [],
   "source": [
    "sqrt(x*y)"
   ]
  },
  {
   "cell_type": "markdown",
   "id": "2a89be8c-d4fd-4b99-af5d-f230b8e873d3",
   "metadata": {},
   "source": [
    "### `expand_power_exp()` / `expand_power_base()`"
   ]
  },
  {
   "cell_type": "markdown",
   "id": "53b6569c-a563-423b-9f67-7df248d72341",
   "metadata": {},
   "source": [
    "`expand_power_exp()` et `expand_power_base()` appliquent les identités 1 et 2 de droite à gauche, respectivement."
   ]
  },
  {
   "cell_type": "code",
   "execution_count": null,
   "id": "f51c7175-0046-4894-a2c2-ac3b050113f4",
   "metadata": {},
   "outputs": [],
   "source": [
    "expr = x**(a+b)\n",
    "expr"
   ]
  },
  {
   "cell_type": "code",
   "execution_count": null,
   "id": "1a81b7f4-79a2-4f47-a595-874b92a1de1d",
   "metadata": {},
   "outputs": [],
   "source": [
    "expand_power_exp(expr)"
   ]
  },
  {
   "cell_type": "code",
   "execution_count": null,
   "id": "8b1b4738-e9c7-4e1a-a812-ebe949a697f4",
   "metadata": {},
   "outputs": [],
   "source": [
    "expr = (x*y)**a\n",
    "expr"
   ]
  },
  {
   "cell_type": "code",
   "execution_count": null,
   "id": "84426d3a-c382-409a-af97-0cdfe3a65470",
   "metadata": {},
   "outputs": [],
   "source": [
    "expand_power_base(expr)"
   ]
  },
  {
   "cell_type": "markdown",
   "id": "c3c937fc-ccf0-4902-bdd1-254bc6d0b7a4",
   "metadata": {},
   "source": [
    "Comme pour `powsimp()`, l’identité 2 n’est pas appliquée si elle n’est pas valide."
   ]
  },
  {
   "cell_type": "code",
   "execution_count": null,
   "id": "6bca3dde-3448-477a-bd9f-e3530d9cd65c",
   "metadata": {},
   "outputs": [],
   "source": [
    "expr = (z*t)**c\n",
    "expr"
   ]
  },
  {
   "cell_type": "code",
   "execution_count": null,
   "id": "d875b679-a8f0-4bd7-b1e4-46cf7d0ff95e",
   "metadata": {},
   "outputs": [],
   "source": [
    "expand_power_base(expr)"
   ]
  },
  {
   "cell_type": "markdown",
   "id": "0e92dde9-b541-41c7-a69f-e76d1095c8e9",
   "metadata": {},
   "source": [
    "Comme pour `powsimp()`, vous pouvez forcer l’application du développement sans modifier les symboles en utilisant l’argument `force=True`."
   ]
  },
  {
   "cell_type": "code",
   "execution_count": null,
   "id": "5be5c029-31ce-4e68-b8ac-d8687bc546a7",
   "metadata": {},
   "outputs": [],
   "source": [
    "expand_power_base(expr, force=True)"
   ]
  },
  {
   "cell_type": "markdown",
   "id": "53e4f98f-fe31-4343-b92d-1b6dcdacf7d9",
   "metadata": {},
   "source": [
    "Comme pour l’identité 2, l’identité est appliquée automatiquement si l’exposant est un nombre, et donc ne peut être annulée par `expand_power_exp()`"
   ]
  },
  {
   "cell_type": "code",
   "execution_count": null,
   "id": "1444e047-488f-4d86-aa24-243e961ce22d",
   "metadata": {},
   "outputs": [],
   "source": [
    "x**2*x**3"
   ]
  },
  {
   "cell_type": "code",
   "execution_count": null,
   "id": "3b9d7212-96c9-49e5-bd65-8f087980d89e",
   "metadata": {},
   "outputs": [],
   "source": [
    "expand_power_exp(x**5)"
   ]
  },
  {
   "cell_type": "markdown",
   "id": "294bd351-0de1-4194-878a-d825a4bc263b",
   "metadata": {},
   "source": [
    "### `powdenest()`\n",
    "`powdenest()` applique l’identité 3, de gauche à droite."
   ]
  },
  {
   "cell_type": "code",
   "execution_count": null,
   "id": "502ca934-6030-4033-b195-2fdb3349cd32",
   "metadata": {},
   "outputs": [],
   "source": [
    "powdenest((x**a)**b)"
   ]
  },
  {
   "cell_type": "markdown",
   "id": "04e4c4d1-ab98-4709-8fd6-92d12ad8fe7e",
   "metadata": {},
   "source": [
    "Comme précédemment, l’idendité n’est pas appliquée si elle n’est pas vraie selon les suppositions de base."
   ]
  },
  {
   "cell_type": "code",
   "execution_count": null,
   "id": "617cb5b2-4daf-4a48-9140-e50e026bfb64",
   "metadata": {},
   "outputs": [],
   "source": [
    "expr = (z**a)**b\n",
    "expr"
   ]
  },
  {
   "cell_type": "code",
   "execution_count": null,
   "id": "c143b2ea-f650-4348-81fa-f8c1ef6bdbfb",
   "metadata": {},
   "outputs": [],
   "source": [
    "powdenest(expr)"
   ]
  },
  {
   "cell_type": "markdown",
   "id": "23ddfaf1-037f-47cc-9f68-0feea46d1fe4",
   "metadata": {},
   "source": [
    "Et à nouveau, vous pouvez forcer l’application avec le paramètre `force=True`."
   ]
  },
  {
   "cell_type": "code",
   "execution_count": null,
   "id": "f444e9df-3696-49e4-a9e3-b4953385f3e0",
   "metadata": {},
   "outputs": [],
   "source": [
    "powdenest(expr, force=True)"
   ]
  },
  {
   "cell_type": "markdown",
   "id": "7eca7aab-c6a5-485b-b430-ae808943753b",
   "metadata": {},
   "source": [
    "## Exponetielles et logarithmes"
   ]
  },
  {
   "cell_type": "markdown",
   "id": "843e0d35-79f3-4061-ba1d-d29a7cf8839d",
   "metadata": {},
   "source": [
    "<div class='alert alert-info'>\n",
    "\n",
    "Dans `SymPy`, tout comme dans Python et la plupart des langages de programmation, la fonction `log()` est le logarithme naturel, souvent noté $\\ln$.\n",
    "`SymPy` a également un alias `ln()` qui renvoie à `log()` au cas où vous seriez distrait·e.\n",
    "\n",
    "</div>"
   ]
  },
  {
   "cell_type": "code",
   "execution_count": null,
   "id": "cbf2edbd-655e-4011-98d2-bd908ba2df69",
   "metadata": {},
   "outputs": [],
   "source": [
    "ln is log"
   ]
  },
  {
   "cell_type": "markdown",
   "id": "90cfa8e4-e51b-4a7d-a948-e064ab5739f7",
   "metadata": {},
   "source": [
    "Les logarithmes présentent les mêmes difficultés que les puissances. Il y a 2 identités principales :\n",
    "\n",
    "1. $\\log{(xy)} = \\log{(x)} + \\log{(y)}$\n",
    "1. $\\log{(x^n)} = n\\log{(x)}$\n",
    "\n",
    "Aucune de ces deux identités n’est vraie pour tous nombres complexes $x$ et $y$, en raison de discontinuité dans le logarithme complexe.\n",
    "\n",
    "Cependant les identités sont vraies si $x$ et $y$ sont positifs et si $n$ est réel."
   ]
  },
  {
   "cell_type": "code",
   "execution_count": null,
   "id": "d874e30f-8aea-41a7-877b-aeb0a3cd15ef",
   "metadata": {},
   "outputs": [],
   "source": [
    "x, y = symbols('x y', positive=True)\n",
    "\n",
    "n = symbols('n', real=True)"
   ]
  },
  {
   "cell_type": "markdown",
   "id": "509c9e63-f8a0-4ee2-8c1e-9d153d460c07",
   "metadata": {},
   "source": [
    "Comme avant, $z$ et $t$ resteront des `symbols` sans paramètres additionnels, donc présumés complexes.\n",
    "\n",
    "Notez bien que l’identité $\\log{(\\frac{x}{y})}$ = $\\log{(x)} - \\log{(y)} $est un cas particulier des identités 1 et 2 : \n",
    "\n",
    "- $\\log({\\frac{x}{y})}$ = $\\log{\\left(x\\cdot\\frac{1}{y}\\right)} =$ $\\log(x) + \\log{\\left(\n",
    "y^{-1}\\right)} =$ $\\log(x) - \\log(y)$\n",
    "\n",
    "et donc ceci fonctionne si $x$ et $y$ sont positifs, mais pas en général.\n",
    "\n",
    "Notons aussi que $\\log{\\left( e^x \\right)} = x$ vient de $\\log{\\left( e^x\\right)} = x\\log(e) = x$, et donc est valide quand $x$ est réel ( et on peut montrer que cela ne fonctionne pas en général pour tout complexe $x$, par exemple $\\log{\\left(e^{x + 2\\pi i}\\right)} = \\log{\\left(e^x\\right)} = x \\neq x + 2\\pi i$).\n",
    "\n",
    "### `expand_log()`"
   ]
  },
  {
   "cell_type": "markdown",
   "id": "b80fb7f5-7405-4a59-82f3-2afa0f56bd6f",
   "metadata": {},
   "source": [
    "Pour appliquer les identités 1 et 2 de gauche à droite, utilisez la fonction `expand_log()`. Comme toujours, les identités ne seront appliquées que si elles sont valides pour vos symboles."
   ]
  },
  {
   "cell_type": "code",
   "execution_count": null,
   "id": "87a483ef-da4b-471d-82da-a3af8db1e5c2",
   "metadata": {},
   "outputs": [],
   "source": [
    "expand_log(log(x*y))"
   ]
  },
  {
   "cell_type": "code",
   "execution_count": null,
   "id": "f73defd0-10d7-4b48-b658-b7d1090735ad",
   "metadata": {},
   "outputs": [],
   "source": [
    "expand_log(log(x/y))"
   ]
  },
  {
   "cell_type": "code",
   "execution_count": null,
   "id": "6c5d55db-1b53-4f62-9f5a-e7a7746fdea5",
   "metadata": {},
   "outputs": [],
   "source": [
    "expand_log(log(x**2))"
   ]
  },
  {
   "cell_type": "code",
   "execution_count": null,
   "id": "7af4e15d-7820-4623-a265-9da4870d1c03",
   "metadata": {},
   "outputs": [],
   "source": [
    "expand_log(log(x**n))"
   ]
  },
  {
   "cell_type": "code",
   "execution_count": null,
   "id": "d3542d8b-2024-42a1-895f-b384902d1a60",
   "metadata": {},
   "outputs": [],
   "source": [
    "expand_log(log(z*t)) # pas de développement, z et t sont complexes"
   ]
  },
  {
   "cell_type": "markdown",
   "id": "63fab2af-65e0-466e-bbac-4506c4a750d5",
   "metadata": {},
   "source": [
    "Comme pour `powsimp()` et `powdenest()`, `expand_log()` has un paramètre `force` qui peut être utilisé pour ignorer les  suppositions."
   ]
  },
  {
   "cell_type": "code",
   "execution_count": null,
   "id": "56fdf812-f54e-4144-9d79-7aad312d4985",
   "metadata": {},
   "outputs": [],
   "source": [
    "expr = log(z**2)\n",
    "expr"
   ]
  },
  {
   "cell_type": "code",
   "execution_count": null,
   "id": "bfe6df6f-44df-4938-b457-a44e7ee7a584",
   "metadata": {},
   "outputs": [],
   "source": [
    "expand_log(expr)"
   ]
  },
  {
   "cell_type": "code",
   "execution_count": null,
   "id": "52b3ff5a-ad57-47eb-803f-c2d9f10f91a5",
   "metadata": {},
   "outputs": [],
   "source": [
    "expand_log(expr, force=True)"
   ]
  },
  {
   "cell_type": "markdown",
   "id": "6eb69190-1549-4bfd-a23d-db311aa6b3ff",
   "metadata": {},
   "source": [
    "### `logcombine()`\n",
    "Pour appliquer les identités 1 et 2 de droite à gauche, utilisez la fonction `logcombine()`."
   ]
  },
  {
   "cell_type": "code",
   "execution_count": null,
   "id": "47a2f9b6-601d-4a77-88bc-c1ae83386b5b",
   "metadata": {},
   "outputs": [],
   "source": [
    "expr = n*log(z)\n",
    "logcombine(expr, force=True)"
   ]
  },
  {
   "cell_type": "markdown",
   "id": "c55d0edf-2773-43d3-8a7c-4bc6dd03208d",
   "metadata": {},
   "source": [
    "## Fonctions spéciales\n",
    "\n",
    "`SymPy` implémente des dizaines de fonctions spéciales, de la combinatoire à la physique.\n",
    "\n",
    "Une liste complète de ces fonctions spéciales incluses dans `SymPy` est leur documentation est accessible sur la page [Functions Module](https://docs.sympy.org/dev/modules/functions/index.html#functions-contents) (dans la langue d’Isaac Newton).\n",
    "                                                                                                   Pour ce didacticiel, regardons en juste quelques unes.\n",
    "                                                                                                   \n",
    "D’abord, définissons $x$, $y$ et $z$, en tant que symboles complexes, retirant toute supposition que nous avions mis sur certains d’entre eux dans la section précédente. Nous allons aussi définir $k$, $m$, et $n$."
   ]
  },
  {
   "cell_type": "code",
   "execution_count": null,
   "id": "48b4d51c-7243-4798-8582-6ff1b67ffcff",
   "metadata": {},
   "outputs": [],
   "source": [
    "x, y, z = symbols('x y z')\n",
    "\n",
    "k, m, n = symbols('k m n')"
   ]
  },
  {
   "cell_type": "markdown",
   "id": "7c0ddb07-0c32-48d2-96f6-25abcdaae917",
   "metadata": {},
   "source": [
    "La fonction factorielle s’appelle sans surprise `factorial()`, et représente le nombre de permutations de $n$ objects distincts."
   ]
  },
  {
   "cell_type": "code",
   "execution_count": null,
   "id": "1de8c521-1e7e-479e-8fac-fadbdde93579",
   "metadata": {},
   "outputs": [],
   "source": [
    "factorial(n)"
   ]
  },
  {
   "cell_type": "markdown",
   "id": "1e8f1e09-44a2-40d5-bf1a-b49e90c35069",
   "metadata": {},
   "source": [
    "Le coefficient binomial s'appelle `binomial()`. `binomial(n, k)` représente $\\binom{n}{k}$, le nombre de manières de choisir $k$ éléments d’un ensemble de $n$ éléments distincts."
   ]
  },
  {
   "cell_type": "code",
   "execution_count": null,
   "id": "74dfe487-596d-4a02-b4ff-c5300c5915b8",
   "metadata": {},
   "outputs": [],
   "source": [
    "binomial(n, k)"
   ]
  },
  {
   "cell_type": "markdown",
   "id": "8117888d-42ec-43be-b825-eb8a57df5322",
   "metadata": {},
   "source": [
    "La fonction factorielle est étroitement liée à la fonction [gamma](https://fr.wikipedia.org/wiki/Fonction_gamma). `gamma()` représente $\\Gamma(z) = \\int_0^\\infty t^{z - 1}e^{-t}\\,dt$, qui pour $z$ entier positif est la même chose que $(z - 1)!$."
   ]
  },
  {
   "cell_type": "code",
   "execution_count": null,
   "id": "2c4dc254-f2fd-4373-8775-e172b853ac6d",
   "metadata": {},
   "outputs": [],
   "source": [
    "gamma(z)"
   ]
  },
  {
   "cell_type": "markdown",
   "id": "db79beb8-5dfc-4996-802d-7ed634ff5df5",
   "metadata": {},
   "source": [
    "La fonction hypergéométrique généralisée s'appelle `hyper()`. \n",
    "\n",
    "`hyper([a_1, ..., a_p], [b_1, ..., b_q], z)` représente ${}_pF_q\\left(\\begin{matrix} a_1, \\cdots, a_p \\\\ b_1, \\cdots, b_q \\end{matrix}\\middle| z \\right)$.\n",
    "\n",
    "Le cas le plus fréquent est ${}_2F_1$, ce qui est souvent désigné comme [la fonction hypergéométrique](https://fr.wikipedia.org/wiki/Fonction_hyperg%C3%A9om%C3%A9trique)."
   ]
  },
  {
   "cell_type": "code",
   "execution_count": null,
   "id": "8ee68022-e198-4b39-b20b-d16c0c6457f7",
   "metadata": {},
   "outputs": [],
   "source": [
    "hyper([1, 2], [3], z)"
   ]
  },
  {
   "cell_type": "markdown",
   "id": "b9506c7f-ec79-4bea-ac62-cbe6da3ca8c1",
   "metadata": {},
   "source": [
    "### `rewrite()`\n",
    "\n",
    "Un usage classique des fonctions spéciales est de les réécrire en termes les unes des autres. Cela fonctionne pour toutes les fonctions de `SymPy`, et pas seulement les fonctions spéciales.\n",
    "\n",
    "Pour réécrire une expression en termes d’une fonction, utilisez la méthode `.rewrite(function)` sur une expression. Par exemple :"
   ]
  },
  {
   "cell_type": "code",
   "execution_count": null,
   "id": "94db63a0-4edc-4216-b784-bb890586a1be",
   "metadata": {},
   "outputs": [],
   "source": [
    "tan(x).rewrite(sin)"
   ]
  },
  {
   "cell_type": "code",
   "execution_count": null,
   "id": "5877cb3d-b852-410d-9926-7a2a5a882b36",
   "metadata": {},
   "outputs": [],
   "source": [
    "factorial(x).rewrite(gamma)"
   ]
  },
  {
   "cell_type": "markdown",
   "id": "debdae8d-dabe-4be6-9787-cdf4256a13c3",
   "metadata": {},
   "source": [
    "Pour des astuces supplémentaires sur des réécritures plus ciblées, voir le module [Sympy_108_calcul_numerique_avancé](Sympy_108_calcul_numerique_avance.ipynb)."
   ]
  },
  {
   "cell_type": "markdown",
   "id": "66dd3961-d1a6-4c73-842d-898e10dc3d5b",
   "metadata": {},
   "source": [
    "### `expand_func()`\n",
    "\n",
    "Pour développer une fonction spéciale en terme d’une identité, utilisez `expand_func()`. Par exemple :"
   ]
  },
  {
   "cell_type": "code",
   "execution_count": null,
   "id": "83f49767-4738-4e8f-aed3-19a6afa018d2",
   "metadata": {},
   "outputs": [],
   "source": [
    "expand_func(gamma(x + 3))"
   ]
  },
  {
   "cell_type": "markdown",
   "id": "041f3cc5-7cb4-4fa1-a774-468986db9141",
   "metadata": {},
   "source": [
    "### `hyperexpand()`\n",
    "\n",
    "Pour réécrire `hyper()` en terme de fonctions plus standard, utilisez `hyperexpand()`."
   ]
  },
  {
   "cell_type": "code",
   "execution_count": null,
   "id": "c0ce855f-b16f-4d06-b448-fbcadb2be4c7",
   "metadata": {},
   "outputs": [],
   "source": [
    "hyperexpand(hyper([1, 1], [2], z))"
   ]
  },
  {
   "cell_type": "markdown",
   "id": "7a88678b-b4d4-4aed-9943-786f6c328e3d",
   "metadata": {},
   "source": [
    "`hyperexpand()` fonctionne aussi  sur la fonction [G Meijer](https://en.wikipedia.org/wiki/Meijer_G-function) (voir [sa documentation](https://docs.sympy.org/dev/modules/functions/special.html#sympy.functions.special.hyper.meijerg) pour plus d’informations)."
   ]
  },
  {
   "cell_type": "code",
   "execution_count": null,
   "id": "cb13a339-d7d4-41e2-9d3a-39b424afc8a2",
   "metadata": {},
   "outputs": [],
   "source": [
    "expr = meijerg([[1],[1]], [[1],[]], -z)\n",
    "expr"
   ]
  },
  {
   "cell_type": "code",
   "execution_count": null,
   "id": "8132d12d-21c6-415b-9dc0-22010bcfd70b",
   "metadata": {},
   "outputs": [],
   "source": [
    "hyperexpand(expr)"
   ]
  },
  {
   "cell_type": "markdown",
   "id": "2b02e9ef-3a60-4b5e-8e89-a12fce6cdd09",
   "metadata": {},
   "source": [
    "### `combsimp()`\n",
    "\n",
    "Pour simplifier des expressions combinatoires, il y a `combsimp()`."
   ]
  },
  {
   "cell_type": "code",
   "execution_count": null,
   "id": "8278861d-21ac-48f8-9649-6ac71d362c05",
   "metadata": {},
   "outputs": [],
   "source": [
    "n, k = symbols('n k', integer = True)"
   ]
  },
  {
   "cell_type": "code",
   "execution_count": null,
   "id": "4e67c52b-09ad-40f0-9e95-76e4e0113ff8",
   "metadata": {},
   "outputs": [],
   "source": [
    "combsimp(factorial(n)/factorial(n - 3))"
   ]
  },
  {
   "cell_type": "code",
   "execution_count": null,
   "id": "b80581b5-d6a0-48ed-bad8-6253f17227dd",
   "metadata": {},
   "outputs": [],
   "source": [
    "combsimp(binomial(n+1, k+1)/binomial(n, k))"
   ]
  },
  {
   "cell_type": "markdown",
   "id": "476e1084-5914-44d8-8abe-e4d5b6f861e2",
   "metadata": {},
   "source": [
    "### `gammasimp()`\n",
    "\n",
    "Pour simplifier des expresion avec des fonctions gamma ou des combinatoires avec des arguments non-entiers, utilisez  `gammasimp()`."
   ]
  },
  {
   "cell_type": "code",
   "execution_count": null,
   "id": "6f2d5746-1012-4f78-8464-bbf6d8688862",
   "metadata": {},
   "outputs": [],
   "source": [
    "expr = gamma(x)*(gamma(1-x))\n",
    "expr"
   ]
  },
  {
   "cell_type": "code",
   "execution_count": null,
   "id": "f40a34ac-ec04-4462-ac55-d13389819e64",
   "metadata": {},
   "outputs": [],
   "source": [
    "gammasimp(expr)"
   ]
  },
  {
   "cell_type": "code",
   "execution_count": null,
   "id": "0655b266-0700-4c92-8238-9d3c70c180e9",
   "metadata": {},
   "outputs": [],
   "source": []
  }
 ],
 "metadata": {
  "kernelspec": {
   "display_name": "Python 3 (ipykernel)",
   "language": "python",
   "name": "python3"
  },
  "language_info": {
   "codemirror_mode": {
    "name": "ipython",
    "version": 3
   },
   "file_extension": ".py",
   "mimetype": "text/x-python",
   "name": "python",
   "nbconvert_exporter": "python",
   "pygments_lexer": "ipython3",
   "version": "3.10.0rc1"
  },
  "toc-autonumbering": false,
  "toc-showcode": false,
  "toc-showtags": false
 },
 "nbformat": 4,
 "nbformat_minor": 5
}
