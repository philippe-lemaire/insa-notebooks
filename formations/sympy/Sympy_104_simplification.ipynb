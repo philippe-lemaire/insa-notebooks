{
 "cells": [
  {
   "cell_type": "markdown",
   "id": "31e44475-1356-4da6-8443-b5af3924534c",
   "metadata": {},
   "source": [
    "# Simplification dans SymPy"
   ]
  },
  {
   "cell_type": "markdown",
   "id": "ccebd09b-b700-4433-93bd-c5da9ab77997",
   "metadata": {},
   "source": [
    "D’abord, un import complet et la création des trois symboles $x, y, z$."
   ]
  },
  {
   "cell_type": "code",
   "execution_count": null,
   "id": "40f3fa33-430a-4854-9532-840a39214032",
   "metadata": {},
   "outputs": [],
   "source": [
    "from sympy import *\n",
    "x, y, z = symbols('x y z')"
   ]
  },
  {
   "cell_type": "markdown",
   "id": "7681cb71-d3f6-447d-a466-8c8b629a5c80",
   "metadata": {},
   "source": [
    "## La fonction `simplify()`"
   ]
  },
  {
   "cell_type": "markdown",
   "id": "5162dba4-c334-4d43-88b4-cb9c1f31b4ae",
   "metadata": {},
   "source": [
    "Il est temps de faire des mathématiques un peu plus intéressantes. Une des fonctions les plus utiles dans un système de calcul formel est la capacité de simplifier des expressions mathématiques. `SymPy`a des douzaines de fonctions pour réaliser différents types de simplification. Il existe également une fonction générale appelée `simplify()` qui essaie d’appliquer toutes ces différentes fonctions d’une manière intelligente pour arriver à la forme la plus simple d’une expression. Voici quelques exemples :"
   ]
  },
  {
   "cell_type": "code",
   "execution_count": null,
   "id": "19a6cb4e-8e85-4890-8eed-e8922b1bf889",
   "metadata": {},
   "outputs": [],
   "source": [
    "simplify(sin(x)**2 + cos(x)**2)"
   ]
  },
  {
   "cell_type": "code",
   "execution_count": null,
   "id": "67100cd2-e231-4bcb-9163-a22eb9aad0b3",
   "metadata": {},
   "outputs": [],
   "source": [
    "simplify((x**3 + x**2 - x - 1)/(x**2 + 2*x + 1))"
   ]
  },
  {
   "cell_type": "code",
   "execution_count": null,
   "id": "9fcfe415-9ed2-45c3-a73d-416ed972590d",
   "metadata": {},
   "outputs": [],
   "source": [
    "simplify(gamma(x)/gamma(x - 2))"
   ]
  },
  {
   "cell_type": "markdown",
   "id": "8377da69-a20d-415a-bb35-fa1a6636dc42",
   "metadata": {},
   "source": [
    "Ici, `gamma(x)` est $\\Gamma(x)$, [la fonction Gamma](https://fr.wikipedia.org/wiki/Fonction_gamma). \n",
    "\n",
    "Nous voyons que `simplify()` est capable de traiter un éventail d’expressions différentes.\n",
    "\n",
    "Mais `simplify()` a un défaut. Elle applique toutes les simplifications programmées dans `SymPy`, et utilise une certaine logique pour déterminer quel est le résultat le plus simple. Mais « le plus simple » peut être parfois très arbitraire.\n",
    "\n",
    "\n",
    "Par exemple, disons que nous voulons « simplifier » l’expression \n",
    "\n",
    "$x^2 + 2x + 1$ \n",
    "\n",
    "en \n",
    "\n",
    "$(x + 1)^2$"
   ]
  },
  {
   "cell_type": "code",
   "execution_count": null,
   "id": "f51b3d0e-4bb6-4d95-a04f-11fd266dbc37",
   "metadata": {},
   "outputs": [],
   "source": [
    "simplify(x**2 + 2*x + 1)"
   ]
  },
  {
   "cell_type": "markdown",
   "id": "0bc90787-8f6f-4aea-98aa-4ffb627ac6b5",
   "metadata": {},
   "source": [
    "Nous n’avons pas obtenu ce que nous voulions. Il y a pourtant une fonction qui réalise cette simplification, que nous allons voir bientôt.\n",
    "\n",
    "Un autre écueil de `simplify()`, c’est que la fonction peut être lente, puisqu’elle essaie toute une batterie de simplifications avant de choisir la meilleure. Si vous savez déjà exactement quel type de simplification vous voulez utiliser, il vaut mieux utiliser directement la fonction qui réalise la simplification voulue.\n",
    "\n",
    "Appliquer des fonctions de simplification spécifiques plutôt que `simplify()` a également l’avantage de vous donner certaines garanties sur la forme de l’expression en sortie.\n",
    "Nous en discuterons avec chaque fonction évoquée. Par exemple, `factor()` quand elle est appelée sur un polynome avec des coefficients rationnels, est garantie de factoriser le polynome en facteurs irréductibles. `simplify()` est sans garantie. Elle est entièrement heuristique, et comme vu plus tôt, elle peut très bien ne pas faire une simplification que `SymPy` est capable de faire, parce que l’expression est déjà dans une forme simplifiée différente de celle que l’on veut.\n",
    "\n",
    "`simplify()` est à utiliser en mode intéractif, dans un notebook par exemple, quand vous voulez rapidement simplifier une expression. Vous pouvez alors choisir d’appliquer une fonction de simplification particulière, une fois que vous avez vu que ce `simplify()` va faire, pour avoir un résultat particulier. `simplify()` est également utile quand vous n’avez pas idée de la forme qu’une expression va avoir, et que vous voulez une fonction \"attrape-tout\" qui va la simplifier."
   ]
  },
  {
   "cell_type": "markdown",
   "id": "5094b888-ad71-44ab-9cbe-3310f69877b3",
   "metadata": {},
   "source": [
    "## Simplification de fonctions polynomiales et rationnelles"
   ]
  },
  {
   "cell_type": "markdown",
   "id": "d68ca11d-2917-4563-8efe-25509eafde2b",
   "metadata": {},
   "source": [
    "### `expand()`"
   ]
  },
  {
   "cell_type": "markdown",
   "id": "6b0ec1b9-042f-4184-bd82-b4c070e93bf2",
   "metadata": {},
   "source": [
    "`expand()` est une des simplifications les plus courantes dans `SymPy`. Bien qu’elle ait beaucoup d’applications, pour le moment, nous allons considérer son usage pour développer une expression polynomiale. Par exemple :"
   ]
  },
  {
   "cell_type": "code",
   "execution_count": null,
   "id": "a4869da2-1ab7-4301-b987-14481d7e0ac0",
   "metadata": {},
   "outputs": [],
   "source": [
    "expand((x + 1)**2)"
   ]
  },
  {
   "cell_type": "code",
   "execution_count": null,
   "id": "45fda958-cea6-40e9-8213-f541bbf3829c",
   "metadata": {},
   "outputs": [],
   "source": [
    "expand((x + 2)*(x - 3))"
   ]
  },
  {
   "cell_type": "markdown",
   "id": "39d72629-7d2d-46b6-a036-aa73e5849ebe",
   "metadata": {},
   "source": [
    "Sur un polynôme donné, `expand()` va le mettre dans sous la forme classique d’une somme de monômes. \n",
    "\n",
    "Développer une expression comme le fait `expand()` peut vous sembler ne pas être une simplification. Après tout, ça rend l’expression plus longue de la développer. Souvent, mais pas toujours. Assez souvent, développer une expression va la rendre plus courte et plus simple en raison de termes qui s’annulent."
   ]
  },
  {
   "cell_type": "code",
   "execution_count": null,
   "id": "8dff443e-12f2-4e55-9789-2c02a26634ad",
   "metadata": {},
   "outputs": [],
   "source": [
    "expr = (x + 1)*(x - 2) - (x - 1)*x\n",
    "expr"
   ]
  },
  {
   "cell_type": "code",
   "execution_count": null,
   "id": "3035cdf4-fcb5-4d03-868c-9497a440d007",
   "metadata": {},
   "outputs": [],
   "source": [
    "expand(expr)"
   ]
  },
  {
   "cell_type": "markdown",
   "id": "b865b06f-e110-463a-9a8a-027f2d5483fb",
   "metadata": {},
   "source": [
    "### `factor()`"
   ]
  },
  {
   "cell_type": "markdown",
   "id": "7573f639-03ed-433f-8c91-c3fbaee78c8a",
   "metadata": {},
   "source": [
    "`factor()` prends un polynôme et le factorise. Par exemple :"
   ]
  },
  {
   "cell_type": "code",
   "execution_count": null,
   "id": "649cb519-89f9-4297-b66e-b78a6eec7e00",
   "metadata": {},
   "outputs": [],
   "source": [
    "expr1 = x**3 - x**2 + x - 1\n",
    "expr1"
   ]
  },
  {
   "cell_type": "code",
   "execution_count": null,
   "id": "5fff8745-aa03-4af3-8414-11733aca9297",
   "metadata": {},
   "outputs": [],
   "source": [
    "factor(expr1)"
   ]
  },
  {
   "cell_type": "code",
   "execution_count": null,
   "id": "6b8c33a9-67d4-4202-b670-748dd4efbf7c",
   "metadata": {},
   "outputs": [],
   "source": [
    "expr2 = x**2*z + 4*x*y*z + 4*y**2*z\n",
    "expr2"
   ]
  },
  {
   "cell_type": "code",
   "execution_count": null,
   "id": "2b7b2c03-f161-420b-b142-cc625a820012",
   "metadata": {},
   "outputs": [],
   "source": [
    "factor(expr2)"
   ]
  },
  {
   "cell_type": "markdown",
   "id": "9c6a64e7-b56a-43d4-bad7-85185ecdd963",
   "metadata": {},
   "source": [
    "Pour les polynômes, `factor()` est l’opposée de `expand()`. `factor()` utilise un algorithme de factorisation multivariable complète sur les nombres rationnels, ce qui veut dire que chaque facteur renvoyé est garanti irréductible.\n",
    "\n",
    "Si ce sont les facteurs eux-même qui vous intéressent, `factor_list()` renvoie une sortie plus structurée."
   ]
  },
  {
   "cell_type": "code",
   "execution_count": null,
   "id": "e8182ded-ffbe-4f2f-822d-d6d7380c0739",
   "metadata": {},
   "outputs": [],
   "source": [
    "factor_list(expr2)"
   ]
  },
  {
   "cell_type": "markdown",
   "id": "599a6405-fe26-4a09-a3b4-c0ec8a2650c3",
   "metadata": {},
   "source": [
    "Notez bien que l’entrée de `factor()` et d’`expand()` n’ont pas à être des polynômes *stricto sensu*. Ces fonctions factorisent et développent intelligemment tout type d’expression (mais les facteurs ne seront peut-être pas irréductibles si les données d’entrées ne sont pas un polynôme de rationnels)."
   ]
  },
  {
   "cell_type": "code",
   "execution_count": null,
   "id": "02dcf643-fe78-40bd-bd42-5b70b74472fb",
   "metadata": {},
   "outputs": [],
   "source": [
    "expr3 = (cos(x) + sin(x))**2\n",
    "expr3"
   ]
  },
  {
   "cell_type": "code",
   "execution_count": null,
   "id": "2e5e4bdb-e85b-40a2-b397-0d8ca46c4ed6",
   "metadata": {},
   "outputs": [],
   "source": [
    "expanded = expand(expr3)\n",
    "expanded"
   ]
  },
  {
   "cell_type": "code",
   "execution_count": null,
   "id": "0483ae09-00e0-464f-83f5-0974e4b687e6",
   "metadata": {},
   "outputs": [],
   "source": [
    "factor(expanded)"
   ]
  },
  {
   "cell_type": "markdown",
   "id": "48cab0a7-1d4b-485b-beac-ead20b77cd2b",
   "metadata": {},
   "source": [
    "### `collect()`"
   ]
  },
  {
   "cell_type": "markdown",
   "id": "79b33cd0-592a-4735-9982-a412b31d551b",
   "metadata": {},
   "source": [
    "`collect()` rassemble les puissances communes d’un terme dans une expression. Par exemple :"
   ]
  },
  {
   "cell_type": "code",
   "execution_count": null,
   "id": "f44749bc-2e67-48e2-95b3-5fa46bdd1938",
   "metadata": {},
   "outputs": [],
   "source": [
    "expr = x*y + x - 3 + 2*x**2 - z*x**2 + x**3\n",
    "expr"
   ]
  },
  {
   "cell_type": "code",
   "execution_count": null,
   "id": "f4cc9fd3-27e4-46bf-92ad-fc956ed3a46e",
   "metadata": {},
   "outputs": [],
   "source": [
    "collected_expr = collect(expr, x)\n",
    "collected_expr"
   ]
  },
  {
   "cell_type": "markdown",
   "id": "cd966e87-0ce9-45bc-baac-06774ead7e0b",
   "metadata": {},
   "source": [
    "`collect()` est particulièrement utile en conjonction avec la méthode `.coeff()`. \n",
    "\n",
    "`expr.coeff(x, n)` donne le coefficient de $x^n$ dans `expr` :"
   ]
  },
  {
   "cell_type": "code",
   "execution_count": null,
   "id": "9267d669-7470-4a52-9eb8-5773e2df0762",
   "metadata": {},
   "outputs": [],
   "source": [
    "collected_expr.coeff(x, 2)"
   ]
  },
  {
   "cell_type": "code",
   "execution_count": null,
   "id": "1d913037-a6ca-4b83-ae30-80861367b84b",
   "metadata": {},
   "outputs": [],
   "source": [
    "# de manière itérative, sur toutes les puissances du polynôme\n",
    "print(\"facteurs :\")\n",
    "for n in range(4):\n",
    "    print(f\"{x}^{n}: {collected_expr.coeff(x, n)}\")"
   ]
  },
  {
   "cell_type": "markdown",
   "id": "e6efeef8-9f37-4b09-9806-2b9d34c6c2b1",
   "metadata": {},
   "source": [
    "### `cancel()`"
   ]
  },
  {
   "cell_type": "markdown",
   "id": "380e75af-cd93-4bd0-b586-e288c894eaf8",
   "metadata": {},
   "source": [
    "`cancel()` prend n’importe quelle fonction rationnelle et la met dans sa forme canonique, $\\frac{p}{q}$, où $p$ et $q$ sont des polynômes développés sans facteurs communs et les coefficients de tête de $p$ et $q$ n’ont pas de dénominateurs (*ie* des entiers)."
   ]
  },
  {
   "cell_type": "code",
   "execution_count": null,
   "id": "33a38dec-17a6-4090-81ec-51485d90fde8",
   "metadata": {},
   "outputs": [],
   "source": [
    "expr4 = (x**2 + 2*x + 1)/(x**2 + x)\n",
    "expr4"
   ]
  },
  {
   "cell_type": "code",
   "execution_count": null,
   "id": "53125c0a-efd1-4005-9893-3eca49a756ae",
   "metadata": {},
   "outputs": [],
   "source": [
    "cancel(expr4)"
   ]
  },
  {
   "cell_type": "code",
   "execution_count": null,
   "id": "0c806f30-10f9-4ca7-9406-1ba7a7f58ca8",
   "metadata": {},
   "outputs": [],
   "source": [
    "expr5 = 1/x + (3*x/2 - 2)/(x - 4)\n",
    "expr5"
   ]
  },
  {
   "cell_type": "code",
   "execution_count": null,
   "id": "e91a4af3-2458-4bc1-bf3e-6b48b8c0b6a7",
   "metadata": {},
   "outputs": [],
   "source": [
    "cancel(expr5)"
   ]
  },
  {
   "cell_type": "code",
   "execution_count": null,
   "id": "f3d606e9-847a-46de-a991-8496786a67e6",
   "metadata": {},
   "outputs": [],
   "source": [
    "expr6 = (x*y**2 - 2*x*y*z + x*z**2 + y**2 - 2*y*z + z**2)/(x**2 - 1)\n",
    "expr6"
   ]
  },
  {
   "cell_type": "code",
   "execution_count": null,
   "id": "efc8014c-460c-4f67-93bd-c39a8e186db0",
   "metadata": {},
   "outputs": [],
   "source": [
    "cancel(expr6)"
   ]
  },
  {
   "cell_type": "markdown",
   "id": "41717b93-0d43-4bb3-add1-95e6e1ffd9aa",
   "metadata": {},
   "source": [
    "Notez bien que vu que `factor()` va complètement factoriser à la fois le numérateur et le dénominateur, elle peut aussi être utilisée pour faire la même chose :"
   ]
  },
  {
   "cell_type": "code",
   "execution_count": null,
   "id": "da3381f8-e16a-445a-8b3a-874bebe06dd7",
   "metadata": {},
   "outputs": [],
   "source": [
    "factor(expr6)"
   ]
  },
  {
   "cell_type": "markdown",
   "id": "cea6ed42-5026-437a-a304-076d2643864b",
   "metadata": {},
   "source": [
    "Cependant, si vous voulez être sûr·e que l’expression est dans sa forme annulée, `cancel()` est plus efficace que `factor()`."
   ]
  },
  {
   "cell_type": "markdown",
   "id": "ae335c81-ac93-43bd-815a-b19b81a8c2b9",
   "metadata": {},
   "source": [
    "### `apart()`\n",
    "\n",
    "`apart()` réalise une décomposition partielle de fraction sur une fonction rationnelle."
   ]
  },
  {
   "cell_type": "code",
   "execution_count": null,
   "id": "fb8f04b2-8261-482e-aebb-9dfdec6ac82b",
   "metadata": {},
   "outputs": [],
   "source": [
    "expr7 = (4*x**3 + 21*x**2 + 10*x + 12)/(x**4 + 5*x**3 + 5*x**2 + 4*x)\n",
    "expr7"
   ]
  },
  {
   "cell_type": "code",
   "execution_count": null,
   "id": "93cc7188-036d-4d93-be47-3c0ae6c085c0",
   "metadata": {},
   "outputs": [],
   "source": [
    "apart(expr7)"
   ]
  },
  {
   "cell_type": "markdown",
   "id": "84e3cc05-74f4-4f2e-9ff0-eba7b82da9f6",
   "metadata": {},
   "source": [
    "## Simplifications trigonométriques"
   ]
  },
  {
   "cell_type": "markdown",
   "id": "47875ec7-ef87-41ab-8124-be2d7d5430f3",
   "metadata": {},
   "source": [
    "\n",
    "SymPy suit la convention de Python pour nommer les réciproques des fonctions trigonométriques, qui est de préfixer le nom des fonctions par un `a`. Par exemple, la réciproque de cosinus, arc cosinus est appelée `acos`.\n",
    "    \n"
   ]
  },
  {
   "cell_type": "code",
   "execution_count": null,
   "id": "e01fa54a-4c48-47bd-9d0e-e80c14b4798e",
   "metadata": {},
   "outputs": [],
   "source": [
    "acos(x)"
   ]
  },
  {
   "cell_type": "code",
   "execution_count": null,
   "id": "8c50f7b2-b36c-458b-a633-162bd0453cda",
   "metadata": {},
   "outputs": [],
   "source": [
    "cos(acos(x))"
   ]
  },
  {
   "cell_type": "code",
   "execution_count": null,
   "id": "c2ba0fb3-d86b-4028-b053-0f1d473be89f",
   "metadata": {},
   "outputs": [],
   "source": [
    "asin(1)"
   ]
  },
  {
   "cell_type": "markdown",
   "id": "40faf119-d415-4772-bdac-598906c1a020",
   "metadata": {},
   "source": [
    "### `trigsimp()`\n",
    "\n",
    "Pour simplifier une expression utilisant des identités trigonométriques, utilisez `trigsimp()`."
   ]
  },
  {
   "cell_type": "code",
   "execution_count": null,
   "id": "71c60659-f3f5-4b6b-933e-aae0c6f25918",
   "metadata": {},
   "outputs": [],
   "source": [
    "trigsimp(sin(x)**2 + cos(x)**2)"
   ]
  },
  {
   "cell_type": "markdown",
   "id": "068cd25a-9748-4a36-bcfb-9a493ea94d53",
   "metadata": {},
   "source": [
    "Tout comme `simplify()`, `trigsimp()` applique différentes identiés trigonométriques sur l’expression en entrée, et utilise une heuristique pour renvoyer la « meilleure »."
   ]
  },
  {
   "cell_type": "markdown",
   "id": "4a5a0e02-8bf4-43c0-9f98-0b2f0c9c8bdd",
   "metadata": {},
   "source": [
    "### `expand_trig()`\n",
    "\n",
    "Pour développer des fonctions trigonométriques, *ie* appliquer les formules de l’addition ou de l’angle double, utilisez `expand_trig()`."
   ]
  },
  {
   "cell_type": "code",
   "execution_count": null,
   "id": "65606987-4809-4ef9-999a-03d5260a010f",
   "metadata": {},
   "outputs": [],
   "source": [
    "expand_trig(sin(x + y))"
   ]
  },
  {
   "cell_type": "code",
   "execution_count": null,
   "id": "29f6f0b3-11ec-4074-865e-1d300fab1185",
   "metadata": {},
   "outputs": [],
   "source": [
    "expand_trig(cos(2*x))"
   ]
  },
  {
   "cell_type": "markdown",
   "id": "9c317416-eabc-4ea8-a20b-3d61298b3468",
   "metadata": {},
   "source": [
    "## Puissances"
   ]
  },
  {
   "cell_type": "markdown",
   "id": "56491dfb-c93a-4999-82cd-4849aef52e76",
   "metadata": {},
   "source": [
    "Avant de présenter les fonctions de simplification des puissances, une discussion mathématique des identités des puissances est de rigueur.\n",
    "\n",
    "Il y a 3 types d’identités satisfaites par les exposants : \n",
    "\n",
    "- $x^ax^b = x^{a + b}$\n",
    "- $x^ay^a = (xy)^a$\n",
    "- $(x^a)^b = x^{ab}$\n",
    "\n",
    "\n",
    "La première identité est toujours vraie.\n",
    "\n",
    "La deuxième ne l’est pas toujours.\n",
    "\n",
    "Identity 2 is not always true. For example, if \\(x = y = -1\\) and \\(a = \\frac{1}{2}\\), then \\(x^ay^a = \\sqrt{-1}\\sqrt{-1} = i\\cdot i = -1\\), whereas \\((xy)^a = \\sqrt{-1\\cdot-1} = \\sqrt{1} = 1\\). However, identity 2 is true at least if \\(x\\) and \\(y\\) are nonnegative and \\(a\\) is real (it may also be true under other conditions as well). A common consequence of the failure of identity 2 is that \\(\\sqrt{x}\\sqrt{y} \\neq \\sqrt{xy}\\).\n",
    "\n",
    "Identity 3 is not always true. For example, if \\(x = -1\\), \\(a = 2\\), and \\(b = \\frac{1}{2}\\), then \\((x^a)^b = {\\left ((-1)^2\\right )}^{1/2} = \\sqrt{1} = 1\\) and \\(x^{ab} = (-1)^{2\\cdot1/2} = (-1)^1 = -1\\). However, identity 3 is true at least if \\(x\\) is nonnegative or \\(b\\) is an integer (again, it may also hold in other cases as well). Two common consequences of the failure of identity 3 are that \\(\\sqrt{x^2}\\neq x\\) and that \\(\\sqrt{\\frac{1}{x}} \\neq \\frac{1}{\\sqrt{x}}\\)."
   ]
  },
  {
   "cell_type": "code",
   "execution_count": null,
   "id": "d0a22af1-7117-4ff6-b8ba-b90da04777f4",
   "metadata": {},
   "outputs": [],
   "source": []
  }
 ],
 "metadata": {
  "kernelspec": {
   "display_name": "Python 3 (ipykernel)",
   "language": "python",
   "name": "python3"
  },
  "language_info": {
   "codemirror_mode": {
    "name": "ipython",
    "version": 3
   },
   "file_extension": ".py",
   "mimetype": "text/x-python",
   "name": "python",
   "nbconvert_exporter": "python",
   "pygments_lexer": "ipython3",
   "version": "3.10.0rc1"
  },
  "toc-autonumbering": false,
  "toc-showcode": false,
  "toc-showtags": false
 },
 "nbformat": 4,
 "nbformat_minor": 5
}
