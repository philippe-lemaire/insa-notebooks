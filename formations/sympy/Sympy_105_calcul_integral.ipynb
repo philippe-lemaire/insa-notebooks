{
 "cells": [
  {
   "cell_type": "markdown",
   "id": "095fdd90-dcf6-43ad-8d8c-273537fc0735",
   "metadata": {},
   "source": [
    "# Calcul Intégral dans SymPy\n",
    "\n",
    "doc à traduire : [https://docs.sympy.org/latest/tutorial/calculus.html](https://docs.sympy.org/latest/tutorial/calculus.html)\n",
    "\n",
    "Cette section traite des tâche de base en calcul intégral comme déterminer des dérivées, des intégrales, des limites, et le développement de séries ave `SymPy`."
   ]
  },
  {
   "cell_type": "code",
   "execution_count": null,
   "id": "b8538666-c672-4a6f-85cc-4eb2eda488e9",
   "metadata": {},
   "outputs": [],
   "source": [
    "# import complet de SymPy et initialisation de 3 symboles et du printing\n",
    "from sympy import *\n",
    "x, y, z = symbols('x y z')\n",
    "init_printing(use_unicode=True)"
   ]
  },
  {
   "cell_type": "markdown",
   "id": "6370cce6-c97c-4841-9b2e-3303a6d78ef0",
   "metadata": {},
   "source": [
    "## Les dérivées"
   ]
  },
  {
   "cell_type": "markdown",
   "id": "552be2f4-0847-452c-bbcd-41231e1b7b95",
   "metadata": {},
   "source": [
    "Pour trouver les dérivées, utilisez la fonction `diff()`."
   ]
  },
  {
   "cell_type": "code",
   "execution_count": null,
   "id": "3b697c93-368e-413e-adc1-b33da5e585b1",
   "metadata": {},
   "outputs": [],
   "source": [
    "diff(cos(x), x)"
   ]
  },
  {
   "cell_type": "code",
   "execution_count": null,
   "id": "90cce1e1-b3fc-4222-a404-d27804506082",
   "metadata": {},
   "outputs": [],
   "source": [
    "diff(exp(x**2), x)"
   ]
  },
  {
   "cell_type": "markdown",
   "id": "7638ffb4-009a-4feb-8a82-8da97f974675",
   "metadata": {},
   "source": [
    "`diff()` peut dériver plusieurs fois d’affilée. Pour cela, passez la variable autant de fois que vous voulez dériver, ou bien passez un entier juste après la variable. \n",
    "\n",
    "Par exemple, pour trouver la 3ème dérivée de $x^4$ :"
   ]
  },
  {
   "cell_type": "code",
   "execution_count": null,
   "id": "88f2d357-1eff-423b-9ba4-be054876d18f",
   "metadata": {},
   "outputs": [],
   "source": [
    "diff(x**4, x, x, x)"
   ]
  },
  {
   "cell_type": "markdown",
   "id": "f4dab41f-d749-49af-b60a-726e86b8ba53",
   "metadata": {},
   "source": [
    "équivalent à  "
   ]
  },
  {
   "cell_type": "code",
   "execution_count": null,
   "id": "031a8af5-7d37-4b43-9e8d-71fc2137ea53",
   "metadata": {},
   "outputs": [],
   "source": [
    "diff(x**4, x, 3)"
   ]
  },
  {
   "cell_type": "markdown",
   "id": "5a4b60b5-d69a-4242-a8fa-597d85620124",
   "metadata": {},
   "source": [
    "Vous pouvez aussi trouver la dérivée par rapport à plusieurs variables, d’un coup. Passez juste chaque variable dans l’ordre, en utilisant la même syntaxe que pour une dérivée d’une seule variable. Par exemple, chacune des cellules suivantes va calculer : $\\frac{\\partial^7}{\\partial x\\partial y^2\\partial z^4} e^{x y z}$ "
   ]
  },
  {
   "cell_type": "code",
   "execution_count": null,
   "id": "b46502fd-c2bb-4fe9-bbfd-b0e61c538449",
   "metadata": {},
   "outputs": [],
   "source": [
    "expr = exp(x*y*z)\n",
    "diff(expr, x,y,y,z,z,z,z)"
   ]
  },
  {
   "cell_type": "code",
   "execution_count": null,
   "id": "9b3009d7-d283-471e-ad92-de02b779f84b",
   "metadata": {},
   "outputs": [],
   "source": [
    "diff(expr, x, y, 2, z, 4)"
   ]
  },
  {
   "cell_type": "code",
   "execution_count": null,
   "id": "4e1a7221-c180-4a0c-9da1-c1066e40e1de",
   "metadata": {},
   "outputs": [],
   "source": [
    "diff(expr, x, y, y, z, 4)"
   ]
  },
  {
   "cell_type": "markdown",
   "id": "549ad038-11de-4dbc-8d27-5191babb6f0d",
   "metadata": {},
   "source": [
    "`diff()` peut aussi être appelé comme méthode sur une expression. Ces deux manières d’appeler `diff()` sont identiques, la méthode est fournie juste pour sa simplicité d’accès."
   ]
  },
  {
   "cell_type": "code",
   "execution_count": null,
   "id": "af90e8a2-df30-4f72-b591-56ed754bf2d0",
   "metadata": {},
   "outputs": [],
   "source": [
    "expr.diff(x, y, y, z, 4)"
   ]
  },
  {
   "cell_type": "markdown",
   "id": "72b6c87c-3771-4f4e-aa13-1255e5ff1965",
   "metadata": {},
   "source": [
    "Pour créer une dérivée non-évaluée, utilisez la classe `Derivative`. La syntaxe des arguments à passer est la même que pour `diff()`"
   ]
  },
  {
   "cell_type": "code",
   "execution_count": null,
   "id": "c36ae38e-1498-4bec-8713-dd86528022c7",
   "metadata": {},
   "outputs": [],
   "source": [
    "deriv = Derivative(expr, x, y, y, z, 4)\n",
    "deriv"
   ]
  },
  {
   "cell_type": "markdown",
   "id": "1a5a0db8-a62b-4ed6-adb8-6743b6601389",
   "metadata": {},
   "source": [
    "Pour évaluer une `Derivative`, utilisez la méthode `.doit()`."
   ]
  },
  {
   "cell_type": "code",
   "execution_count": null,
   "id": "fe1ee1f1-56b0-4827-b5fb-b4ab2f111732",
   "metadata": {},
   "outputs": [],
   "source": [
    "deriv.doit()"
   ]
  },
  {
   "cell_type": "markdown",
   "id": "547f1add-4561-456b-890b-8294c0df3ab2",
   "metadata": {},
   "source": [
    "Ces dérivées non-évaluées sont utiles lorsqu’on veut faire l’évaluation à un moment ultérieur, ou simplement pour leur affichage. Elles sont également utilisées quand `SymPy` ne sait pas comment dériver une expression (par exemple, quand elle contient une fonction non-définie, ce que nous verrons dans le prochain notebook [Sympy_106_solvers](Sympy_106_solvers.ipynb), en particulier pour les équations différentielles).\n",
    "\n",
    "Les dérivées d’un ordre non spécifié peuvent être créées avec un tuple `(x, n)` où `n` est l’ordre de la dérivée par rapport à `x`."
   ]
  },
  {
   "cell_type": "code",
   "execution_count": null,
   "id": "bffefa0f-03b6-4231-959a-d3d7ef3db6fb",
   "metadata": {},
   "outputs": [],
   "source": [
    "m, n, a, b = symbols('m n a b')\n",
    "expr = (a*x + b)**m\n",
    "expr.diff((x,n))"
   ]
  },
  {
   "cell_type": "markdown",
   "id": "218f30da-d295-4e01-bebf-269247ff3771",
   "metadata": {},
   "source": [
    "## Intégrales"
   ]
  },
  {
   "cell_type": "markdown",
   "id": "ce8f3740-cfbb-40e8-af35-3dc3fe740032",
   "metadata": {},
   "source": [
    "Pour calculer des intégrales, utilisez la fonction `integrate()`. Il y a deux sortes d’intégrales, définie et indéfinie.\n",
    "Pour calculer une intégrale indéfinie, *ie* une primitive, passez simplement la variable après l’expression à `integrate()`."
   ]
  },
  {
   "cell_type": "code",
   "execution_count": null,
   "id": "44d58a76-b55b-4b02-b55e-8209be419828",
   "metadata": {},
   "outputs": [],
   "source": [
    "integrate(cos(x), x)"
   ]
  },
  {
   "cell_type": "markdown",
   "id": "1ce398f2-cf8e-4bf6-ba78-f3c4e9615702",
   "metadata": {},
   "source": [
    "Notez que `SymPy` n’ajoute pas de constante d’intégration. Si vous en voulez une, vous pouvez l’ajouter vous-même, ou reformuler votre problème en une équation différentielle, puis utiliser `dsolve()`, qui ajoute une constante (voir le notebook suivant) [Sympy_106_solvers](Sympy_106_solvers.ipynb), section sur les équations différentielles).\n",
    "\n",
    "Pour calculer une intégrale définie sur un segment, passez les arguments `(variable_d_integration, borne_basse, borne_haute)`. Par exemple, pour calculer : \n",
    "\n",
    "$\\int_0^\\infty e^{-x}\\,dx,$ \n",
    "\n",
    "nous ferons"
   ]
  },
  {
   "cell_type": "code",
   "execution_count": null,
   "id": "630491eb-2f78-4167-bf07-c89d331a65d9",
   "metadata": {},
   "outputs": [],
   "source": [
    "integrate(exp(-x), (x, 0, oo))"
   ]
  },
  {
   "cell_type": "markdown",
   "id": "83037c17-2177-4a00-be01-b55443dafb0a",
   "metadata": {},
   "source": [
    "<div class=\"alert alert-info\">\n",
    "\n",
    "$\\infty$ dans `SymPy` est écrite `oo` (c'est un double o minuscule, comme dans cool). Ce choix a été fait pour la ressemblance avec $\\infty$ et parce que c’est facile à tapper.\n",
    "<div>"
   ]
  },
  {
   "cell_type": "markdown",
   "id": "ec680bea-3140-460f-a5b8-89d55daa618a",
   "metadata": {},
   "source": [
    "Comme dans les intégrales indéfinies, vous pouvez passer plusieurs tuples de bornes pour faire des intégrales multiples. Par exemple, pour calculer \n",
    "\n",
    "$\\int_{-\\infty}^{\\infty}\\int_{-\\infty}^{\\infty} e^{- x^{2} - y^{2}}\\, dx\\, dy,$\n",
    "\n",
    "faites :"
   ]
  },
  {
   "cell_type": "code",
   "execution_count": null,
   "id": "ebbe1237-1cd2-445d-8700-bc39d01fc2a8",
   "metadata": {},
   "outputs": [],
   "source": [
    "integrate(exp(-x**2 - y**2), (x, -oo, oo), (y, -oo, oo))"
   ]
  },
  {
   "cell_type": "markdown",
   "id": "d2b65cd6-e3f6-4078-ad3c-2b781ce01f94",
   "metadata": {},
   "source": [
    "Dans les cas où `integrate()` n’est pas en mesure de calculer l’intégrale, elle renvoie un objet `Integral` non-évalué."
   ]
  },
  {
   "cell_type": "code",
   "execution_count": null,
   "id": "43c51827-1514-4a3b-9c01-79bb14049c35",
   "metadata": {},
   "outputs": [],
   "source": [
    "expr = integrate(x**x, x)\n",
    "print(expr)"
   ]
  },
  {
   "cell_type": "code",
   "execution_count": null,
   "id": "e0d9aab7-988f-41c0-b359-4f22ca4e2c5a",
   "metadata": {},
   "outputs": [],
   "source": [
    "expr"
   ]
  },
  {
   "cell_type": "markdown",
   "id": "3e8fc79b-1e6b-4c8b-8d7b-747056d76d02",
   "metadata": {},
   "source": [
    "Comme pour l’objet `Derivative`, vous pouvez créer un objet `Integral` non-évaluée directement avec le constructeur de classe `Integral()`. Pour évaluer ensuite cette intégrale, utilisez la méthode `.doit()`."
   ]
  },
  {
   "cell_type": "code",
   "execution_count": null,
   "id": "f868721d-b036-4d27-be5b-b3a9c0bb6216",
   "metadata": {},
   "outputs": [],
   "source": [
    "expr = Integral(log(x)**2, x)\n",
    "expr"
   ]
  },
  {
   "cell_type": "code",
   "execution_count": null,
   "id": "a28f1e6f-2408-4ef2-ab86-3af70114d828",
   "metadata": {},
   "outputs": [],
   "source": [
    "expr.doit()"
   ]
  },
  {
   "cell_type": "markdown",
   "id": "7f31784b-b0d6-4f00-8666-5bc1f2617efe",
   "metadata": {},
   "source": [
    "`integrate()` utilise des algorithmes puissants qui sont affinés régulièrement pour calculer à la fois les intégrales définies et les primitives, avec à la fois une heuristique de reconnaissance de patterns, une implémentation partielle de l’[algorithme de Risch](https://fr.wikipedia.org/wiki/Algorithme_de_Risch), et une algorithme qui utilise la fonction [G Meijer](https://en.wikipedia.org/wiki/Meijer_G-function), qui est utile pour calculer des intégrales en termes de fonctions spéciales. \n",
    "\n",
    "Voici une démonstration des pouvoirs de `integrate()` :"
   ]
  },
  {
   "cell_type": "code",
   "execution_count": null,
   "id": "627d11fa-4724-406f-91f7-2384938913cb",
   "metadata": {},
   "outputs": [],
   "source": [
    "integ = Integral((x**4 + x**2*exp(x) - x**2 - 2*x*exp(x) - 2*x -\n",
    "exp(x))*exp(x)/((x - 1)**2*(x + 1)**2*(exp(x) + 1)), x)\n",
    "\n",
    "integ"
   ]
  },
  {
   "cell_type": "code",
   "execution_count": null,
   "id": "3fa094f8-ce57-4217-a648-bbb824a74b17",
   "metadata": {},
   "outputs": [],
   "source": [
    "integ.doit()"
   ]
  },
  {
   "cell_type": "code",
   "execution_count": null,
   "id": "3d1b3897-a4f0-425b-9ebb-d0b353a974ae",
   "metadata": {},
   "outputs": [],
   "source": [
    "integ = Integral(sin(x**2), x)\n",
    "integ"
   ]
  },
  {
   "cell_type": "code",
   "execution_count": null,
   "id": "af7173c3-7e19-433f-8d29-1f8a55353b58",
   "metadata": {},
   "outputs": [],
   "source": [
    "integ.doit()"
   ]
  },
  {
   "cell_type": "code",
   "execution_count": null,
   "id": "d7248c9a-0e25-409e-8454-5d986e0c40a1",
   "metadata": {},
   "outputs": [],
   "source": [
    "integ = Integral(x**y*exp(-x), (x, 0, oo))\n",
    "integ"
   ]
  },
  {
   "cell_type": "code",
   "execution_count": null,
   "id": "348bf1ee-1cde-419e-b194-f07adce5dfeb",
   "metadata": {},
   "outputs": [],
   "source": [
    "integ.doit()"
   ]
  },
  {
   "cell_type": "markdown",
   "id": "0a389d34-f314-4c64-8435-f95f0fc80143",
   "metadata": {},
   "source": [
    "Ce dernier exemple renvoie une expression `Piecewise`, car l’intégrale ne converge pas à moins que $\\Re(y) > 1$."
   ]
  },
  {
   "cell_type": "markdown",
   "id": "dfc3fc1e-0ea3-4157-9fac-17e610ce744c",
   "metadata": {},
   "source": [
    "## Limites\n",
    "\n",
    "`SymPy` peut calculer des limites avec la fonction `limit()`. \n",
    "\n",
    "La syntaxe pour calculer \n",
    "\n",
    "$\\lim_{x\\to x_0} f(x)$\n",
    "\n",
    "est\n",
    "\n",
    "`limit(f(x), x, x0)`"
   ]
  },
  {
   "cell_type": "code",
   "execution_count": null,
   "id": "e3884169-5957-4b41-9e8b-b75abb553e34",
   "metadata": {},
   "outputs": [],
   "source": [
    "limit(sin(x)/x, x, 0)"
   ]
  },
  {
   "cell_type": "markdown",
   "id": "ee4fe41d-fb3e-46da-8572-68e8b54145a6",
   "metadata": {},
   "source": [
    "Tout comme `Derivative` et `Integral`, `limit()` a un équivalent non-évalué, l’objet `Limit`. Et pour l’évaluer, comme d’habitude, utilisez la méthode `.doit()`."
   ]
  },
  {
   "cell_type": "code",
   "execution_count": null,
   "id": "a86c5b0b-7ea3-4f81-a4c0-76cfdee2163e",
   "metadata": {},
   "outputs": [],
   "source": [
    "expr = Limit((cos(x) - 1)/x, x, 0)\n",
    "expr"
   ]
  },
  {
   "cell_type": "code",
   "execution_count": null,
   "id": "458664c7-5b59-4643-a4ab-e96e6e42920f",
   "metadata": {},
   "outputs": [],
   "source": [
    "expr.doit()"
   ]
  },
  {
   "cell_type": "markdown",
   "id": "2c1e6b1c-f79a-4a74-a5c1-ff11d78725c7",
   "metadata": {},
   "source": [
    "Pour évaluer une limite seulement d’un côté, passez `'+'` ou `'-'` comme 4ème argument de `limit()`. Par exemple, pour calculer\n",
    "\n",
    "$\\lim_{x\\to 0^+}\\frac{1}{x},$\n",
    "\n",
    "faites"
   ]
  },
  {
   "cell_type": "code",
   "execution_count": null,
   "id": "69f87500-c4a6-429d-9d07-1cbb415e6c85",
   "metadata": {},
   "outputs": [],
   "source": [
    "limit(1/x, x, 0, '+')"
   ]
  },
  {
   "cell_type": "markdown",
   "id": "ca496205-19c2-4201-a6cc-628d15180047",
   "metadata": {},
   "source": [
    "par opposition à "
   ]
  },
  {
   "cell_type": "code",
   "execution_count": null,
   "id": "96c1bb75-e910-4d2a-95f0-6a93e502eeb4",
   "metadata": {},
   "outputs": [],
   "source": [
    "limit(1/x, x, 0, '-')"
   ]
  },
  {
   "cell_type": "markdown",
   "id": "4a53989a-d980-460d-b82e-6a5c571011e4",
   "metadata": {},
   "source": [
    "## Développement de Séries\n",
    "\n",
    "`SymPy` peut calculer le développement en séries asymptotiques de fonctions autour d’un point. Pour calculer le développement de $f(x)$ autour du point $x = x_0$ avec des termes d’ordre $x^n$, utiliser `f(x).series(x, x0, n)`.\n",
    "\n",
    "Les arguments `x0` et `n` peuvent être omis, dans ce cas les valeurs par défaut sont `x0 = 0` et `n=6`.\n"
   ]
  },
  {
   "cell_type": "code",
   "execution_count": null,
   "id": "56b04601-62eb-435f-81ce-e72e091e560e",
   "metadata": {},
   "outputs": [],
   "source": [
    "expr = exp(sin(x))\n",
    "expr"
   ]
  },
  {
   "cell_type": "code",
   "execution_count": null,
   "id": "67afe95f-1a98-4386-9dd1-b74cf60bc606",
   "metadata": {},
   "outputs": [],
   "source": [
    "expr.series(x, 0, 4)"
   ]
  },
  {
   "cell_type": "markdown",
   "id": "4d7a2e57-299b-4b97-99f0-2bc9d88d83db",
   "metadata": {},
   "source": [
    "Le terme $O\\left(x^4\\right)$ à la fin représente le terme d’ordre Landau en $x=0$ ( à ne pas confondre avec la notation O(n) utilisé en informatique pour quantifier le nombre d’instructions d’un algorithme).\n",
    "\n",
    "Il signifie que tous les $x$ avec une puissance de 4 ou plus sont omis.\n",
    "\n",
    "Le terme $O\\left(x^4\\right)$ absorbe automatiquement des termes où l'exposant serait plus gros."
   ]
  },
  {
   "cell_type": "code",
   "execution_count": null,
   "id": "5b1dff3f-acba-49d7-b14c-98fd77f59f41",
   "metadata": {},
   "outputs": [],
   "source": [
    "x + x**3 + x**6 + O(x**4)"
   ]
  },
  {
   "cell_type": "code",
   "execution_count": null,
   "id": "e2f49220-5c35-42e1-aff8-2471c537eddf",
   "metadata": {},
   "outputs": [],
   "source": [
    "x*O(1)"
   ]
  },
  {
   "cell_type": "markdown",
   "id": "4e7769bf-021e-4403-bd4f-621d03af4594",
   "metadata": {},
   "source": [
    "Si vous ne voulez pas de ce terme $O\\left(x^n\\right)$, utilisez la méthode `.removeO`."
   ]
  },
  {
   "cell_type": "code",
   "execution_count": null,
   "id": "fae8483d-7801-4c7a-88dd-39f5286558ee",
   "metadata": {},
   "outputs": [],
   "source": [
    "expr.series(x, 0, 4).removeO()"
   ]
  },
  {
   "cell_type": "markdown",
   "id": "b5d48e44-9395-4edf-b65f-cf5a8ccfc571",
   "metadata": {},
   "source": [
    "La notation `o` fonctionne avec des limites abitraires, pas seulement (0)"
   ]
  },
  {
   "cell_type": "code",
   "execution_count": null,
   "id": "ca628761-dba5-44c5-a3e9-df759e9e0ecf",
   "metadata": {},
   "outputs": [],
   "source": [
    "exp(x-6).series(x, x0=6)"
   ]
  },
  {
   "cell_type": "markdown",
   "id": "5845a23d-0c15-497d-b932-424f33e4469b",
   "metadata": {},
   "source": [
    "## Différences finies\n",
    "\n",
    "Jusqu’à présent nous nous sommes intéresés aux expressions avec des dérivées et primitives analytiques.\n",
    "\n",
    "Mais si nous voulions une expression pour estimer la dérivée d’ùne courbe pour laquelle nous n’avons pas de représentation formelle, ou pour laquelle nous ne connaissons pas encore les valeurs fonctionnelles ?\n",
    "\n",
    "Une approche serait d’utiliser les différences finies.\n",
    "\n",
    "Le plus simple est d’utiliser la fonction `differentiate_finite()` :"
   ]
  },
  {
   "cell_type": "code",
   "execution_count": null,
   "id": "77e8d3bd-f1d0-4323-9ca0-393d0764c65e",
   "metadata": {},
   "outputs": [],
   "source": [
    "f, g = symbols('f g', cls=Function)\n",
    "differentiate_finite(f(x)*g(x))"
   ]
  },
  {
   "cell_type": "markdown",
   "id": "909ba579-e172-4183-994c-18cf56f0fc22",
   "metadata": {},
   "source": [
    "Si vous avez déjà une instance de `Derivative`, vous pouvez utiliser la méthode `.as_finite_difference()` pour obtenir des approximations de la dérivée."
   ]
  },
  {
   "cell_type": "code",
   "execution_count": null,
   "id": "1ce9294d-89d5-4444-a2fb-8312120855d4",
   "metadata": {},
   "outputs": [],
   "source": [
    "f = Function('f')\n",
    "dfdx = f(x).diff(x)\n",
    "dfdx.as_finite_difference()"
   ]
  },
  {
   "cell_type": "markdown",
   "id": "20f1295d-e61e-4e13-9a22-7000bfe5e87f",
   "metadata": {},
   "source": [
    "Ici la dérivée de premier ordre a été approchée autour de x en utilisant le nombre de points minimal (2 pour une dérivée de 1er ordre), évaluée autour de 1, avec une taille de pas de 1.\n",
    "\n",
    "Nous pouvons spécifier l atailel des pas, potentiellement avec des symboles ou des expressions) :"
   ]
  },
  {
   "cell_type": "code",
   "execution_count": null,
   "id": "33e6dc64-f5ad-405f-9ec4-8b1939373fb0",
   "metadata": {},
   "outputs": [],
   "source": [
    "f = Function('f')\n",
    "d2fdx2 = f(x).diff(x, 2)\n",
    "h = Symbol('h')\n",
    "d2fdx2.as_finite_difference([-3*h, -h, 2*h])"
   ]
  },
  {
   "cell_type": "markdown",
   "id": "f70ca879-d2db-452d-8125-4b7ef5ffb536",
   "metadata": {},
   "source": [
    "Si vous voulez juste évaluer les poids, vous pouvez les obtenir ainsi :"
   ]
  },
  {
   "cell_type": "code",
   "execution_count": null,
   "id": "1d500357-adee-4d16-8d20-4c467f9a51b5",
   "metadata": {},
   "outputs": [],
   "source": [
    "finite_diff_weights(2, [-3, -1, 2], 0)[-1][-1]"
   ]
  },
  {
   "cell_type": "markdown",
   "id": "f5d09c8b-cb98-4661-ac5a-3df2484d5f87",
   "metadata": {},
   "source": [
    "Nous voulous seulement le dernier élément de la dernière sous-liste (d’où l’indexation par `[-1][-1]`).\n",
    "\n",
    "la raison est que la fonction `finite_diff_weights()` calcule aussi les poids pour des dérivées d’ordre inférieur, et en utilisant moins de points.\n",
    "\n",
    "Si la fonction `finite_diff_weights()` vous semble compliquée, et que la méthode `.as_finite_difference()` de la classe `Derivative` n’est pas assez flexible pour vous, vous pouvez utiliser `apply_finite_diff()` qui prend `order`, `x_list`, `y_list` et `x0` comme paramètres."
   ]
  },
  {
   "cell_type": "code",
   "execution_count": null,
   "id": "2be470b8-08b9-48d5-a14a-d8fd7d465944",
   "metadata": {},
   "outputs": [],
   "source": [
    "x_list = [-3, 1, 2]\n",
    "y_list = symbols('a b c')\n",
    "apply_finite_diff(1, x_list, y_list, 0)"
   ]
  },
  {
   "cell_type": "markdown",
   "id": "c5373e55-7144-45f4-b485-1cd6274d356a",
   "metadata": {},
   "source": [
    "La suite dans le prochain notebook : [Sympy_106_solvers](Sympy_106_solvers.ipynb)."
   ]
  }
 ],
 "metadata": {
  "kernelspec": {
   "display_name": "Python 3 (ipykernel)",
   "language": "python",
   "name": "python3"
  },
  "language_info": {
   "codemirror_mode": {
    "name": "ipython",
    "version": 3
   },
   "file_extension": ".py",
   "mimetype": "text/x-python",
   "name": "python",
   "nbconvert_exporter": "python",
   "pygments_lexer": "ipython3",
   "version": "3.10.0rc1"
  }
 },
 "nbformat": 4,
 "nbformat_minor": 5
}
