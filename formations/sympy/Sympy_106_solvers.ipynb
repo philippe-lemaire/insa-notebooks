{
 "cells": [
  {
   "cell_type": "markdown",
   "id": "47a02a6b-cd55-47f8-8a2c-af9af3043e41",
   "metadata": {},
   "source": [
    "# Les outils de résolution dans `SymPy`"
   ]
  },
  {
   "cell_type": "code",
   "execution_count": null,
   "id": "c0635c07-ee95-4be4-9880-9123ed5bfe4d",
   "metadata": {},
   "outputs": [],
   "source": [
    "# import complet de sympy et symboles x, y et z\n",
    "from sympy import *\n",
    "x, y, z = symbols('x y z')\n",
    "init_printing(use_unicode=True)"
   ]
  },
  {
   "cell_type": "markdown",
   "id": "d3e1a6df-1bbe-493c-a7f3-abcc4c591b50",
   "metadata": {},
   "source": [
    "## Un mot sur les Équations\n",
    "\n",
    "Souvenez-vous, dans le notebook [Sympy_102_les_pieges](Sympy_102_les_pieges.ipynb), nous avons vu que les équations dans `SymPy` ne sont pas établies avec le symbole `=` ou `==`, mais avec la classe `Eq`."
   ]
  },
  {
   "cell_type": "code",
   "execution_count": null,
   "id": "bb98e7cc-f537-416d-b44e-2fbfbdf4a383",
   "metadata": {},
   "outputs": [],
   "source": [
    "Eq(x, y)"
   ]
  },
  {
   "cell_type": "markdown",
   "id": "a2bed7e9-a308-4b98-84da-53fc49cc7c6c",
   "metadata": {},
   "source": [
    "Cependant il y a un moyen encore plus simple. Dans `SymPy`, toute expression qui n’est pas une `Eq` est supposée égale à zéro par les fonctions de résolution.\n",
    "\n",
    "Puisque $a = b$ si et seulement si $a - b = 0$, cela signifique que au lieu d’utiliser quelque-chose commem `x == y`, vous pouvez simplement utiliser `x - y`. Par exemple :"
   ]
  },
  {
   "cell_type": "code",
   "execution_count": null,
   "id": "4d8a80a8-e830-4f2f-b8ed-f3ea2b088505",
   "metadata": {},
   "outputs": [],
   "source": [
    "solveset(Eq(x**2, 1), x)"
   ]
  },
  {
   "cell_type": "code",
   "execution_count": null,
   "id": "4f5cfd38-64d5-465c-ae4a-9ce804e0a00c",
   "metadata": {},
   "outputs": [],
   "source": [
    "solveset(Eq(x**2 - 1, 0), x)"
   ]
  },
  {
   "cell_type": "code",
   "execution_count": null,
   "id": "3bd41071-9535-4c13-94ea-e752de6da2bf",
   "metadata": {},
   "outputs": [],
   "source": [
    "solveset(x**2 -1, x)"
   ]
  },
  {
   "cell_type": "markdown",
   "id": "21ad4130-af24-43e6-b3d4-fd0f6c126b4e",
   "metadata": {},
   "source": [
    "C’est particulièrement utile lorsque l’équation que vous voulez résoudre est déjà égale à 0, au lieu de tapper `solveset(Eq(expr, 0), x)`, vous pouvez vous contenter de `solveset(expr, x)`."
   ]
  },
  {
   "cell_type": "markdown",
   "id": "efb04e43-43f4-4b99-9508-324c6ce34406",
   "metadata": {},
   "source": [
    "## Résoudre des Équations par l’Algèbre\n",
    "\n",
    "La principale fonction pour résoudre des équations algébriques est `solveset()`. La syntaxe est `solveset(equation, variable=None, domain=S.Complexes)`. \n",
    "\n",
    "Ici `equation` est soit une instance de `Eq`, soit une expression, qui est présumée égale à 0.\n",
    "\n",
    "Veuillez noter qu’il existe une autre fonction appelée `solve()` qui peut aussi être utilisée pour résoudre des équations. Sa syntaxe est `solve(equations, variables)`. Cependant, il est recommandé d’utiliser plutôt `solveset()`.\n",
    "\n",
    "\n",
    "Quand on résout une seule équation, la sortie de `solveset()` est un `FiniteSet`, ou un `Interval` ou encore un `ImageSet` des solutions."
   ]
  },
  {
   "cell_type": "code",
   "execution_count": null,
   "id": "48a68eaa-e57d-4dc8-939f-fa88e613ff04",
   "metadata": {},
   "outputs": [],
   "source": [
    "solveset(x**2 - x, x)"
   ]
  },
  {
   "cell_type": "code",
   "execution_count": null,
   "id": "ac09972a-6118-49fc-9fc3-2d870b7c6454",
   "metadata": {},
   "outputs": [],
   "source": [
    "solveset(x -x, x, domain=S.Reals)"
   ]
  },
  {
   "cell_type": "code",
   "execution_count": null,
   "id": "82a91f29-c2c9-44bf-a87b-d7c9859ea663",
   "metadata": {},
   "outputs": [],
   "source": [
    "solveset(sin(x) -1, x, domain=S.Reals)"
   ]
  },
  {
   "cell_type": "markdown",
   "id": "3ec57743-42c6-4cc8-87b0-6ddd1c570c02",
   "metadata": {},
   "source": [
    "S’il n’y a pas de solutions, un `EmptySet` sera renvoyé et si `solveset()` n’est pas en mesure de trouver des solutions, alors un `ConditionSet` sera renvoyé."
   ]
  },
  {
   "cell_type": "code",
   "execution_count": null,
   "id": "f24f4466-5da8-4d41-9b26-f0854bcdff5e",
   "metadata": {},
   "outputs": [],
   "source": [
    "solveset(exp(x), x) # il n’y a pas de solution"
   ]
  },
  {
   "cell_type": "code",
   "execution_count": null,
   "id": "9ac0fe6e-ef4b-4324-af12-81ec1119cec5",
   "metadata": {},
   "outputs": [],
   "source": [
    "solveset(cos(x) - x, x) # cas où on ne peut pas trouver une solution "
   ]
  },
  {
   "cell_type": "markdown",
   "id": "158abd5f-cb1a-484c-ac2d-ebdcda10e750",
   "metadata": {},
   "source": [
    "## Résoudre des équations différencielles\n",
    "\n",
    "Pour résoudre des équations différencielles, utilisez `dsolve()`. \n",
    "Créons d’abord des fonctions non définies en passant l’argument `cls=Function` à la fonction `symbols()`."
   ]
  },
  {
   "cell_type": "code",
   "execution_count": null,
   "id": "bf4d90d9-6f9e-4178-94e6-8986b9f9bfdf",
   "metadata": {},
   "outputs": [],
   "source": [
    "f, g = symbols('f g', cls=Function)"
   ]
  },
  {
   "cell_type": "markdown",
   "id": "9d8e4ad1-38e6-4406-a077-ca71e4311b98",
   "metadata": {},
   "source": [
    "`f` et `g` sont maintenant des fonctions quelconques. On peut créer l’expression `f(x)`qui représentera une fonction non définie."
   ]
  },
  {
   "cell_type": "code",
   "execution_count": null,
   "id": "3cedf37a-8f4a-4699-9436-8bd28a68e322",
   "metadata": {},
   "outputs": [],
   "source": [
    "f(x)"
   ]
  },
  {
   "cell_type": "markdown",
   "id": "a6e0c8d2-a63d-47fa-8c19-8cff6dd0581e",
   "metadata": {},
   "source": [
    "Les dérivées de `f(x)` ne sont pas évaluées."
   ]
  },
  {
   "cell_type": "code",
   "execution_count": null,
   "id": "ced0e2ba-23e8-417d-920c-fb9485924853",
   "metadata": {},
   "outputs": [],
   "source": [
    "f(x).diff(x)"
   ]
  },
  {
   "cell_type": "markdown",
   "id": "b1fb7c99-6630-42d4-8f55-77fb16d881cf",
   "metadata": {},
   "source": [
    "Pour représenter l’équation différencielle \n",
    "\n",
    "$f''(x) - 2f'(x) + f(x) = \\sin(x)$\n",
    "\n",
    "nous ferons donc :"
   ]
  },
  {
   "cell_type": "code",
   "execution_count": null,
   "id": "ca033166-08ad-4397-ab7f-1737c53ca3b4",
   "metadata": {},
   "outputs": [],
   "source": [
    "diffeq = Eq(f(x).diff(x, x) -2*f(x).diff(x) + f(x), sin(x))\n",
    "diffeq"
   ]
  },
  {
   "cell_type": "markdown",
   "id": "0154939c-dc97-4e92-9a57-f9d2818e3cd1",
   "metadata": {},
   "source": [
    "Pour résoudre cette équation différencielle, il suffit de la passer avec la fonction à résoudre à `dsolve()`."
   ]
  },
  {
   "cell_type": "code",
   "execution_count": null,
   "id": "0c58199d-1028-45ae-9fa8-ae52f5d59299",
   "metadata": {},
   "outputs": [],
   "source": [
    "dsolve(diffeq, f(x))"
   ]
  },
  {
   "cell_type": "markdown",
   "id": "f2308e34-026e-4097-be0e-9c476c8f50a8",
   "metadata": {},
   "source": [
    "`dsolve()` renvoie une instance d’`Eq`. C'est parce qu’en général, les solutions des équations différencielles ne peuvent pas être trouvée explicitement pour une fonction."
   ]
  },
  {
   "cell_type": "code",
   "execution_count": null,
   "id": "79e5d270-1dbf-48ce-9f55-01b2bfb0fdf3",
   "metadata": {},
   "outputs": [],
   "source": [
    "dsolve(f(x).diff(x)*(1 - sin(f(x))) - 1, f(x))"
   ]
  },
  {
   "cell_type": "markdown",
   "id": "1a1c03f9-84b5-475d-813c-90c9fe90d968",
   "metadata": {},
   "source": [
    "Les constantes arbitraires dans les solutions issues de `dsolve()` sont des symboles de la forme `c1`, `c2`, `c3`, *etc*…\n",
    "\n",
    "La suite dans le notebook [Sympy_107_Matrices](Sympy_107_Matrices.ipynb)."
   ]
  }
 ],
 "metadata": {
  "kernelspec": {
   "display_name": "Python 3 (ipykernel)",
   "language": "python",
   "name": "python3"
  },
  "language_info": {
   "codemirror_mode": {
    "name": "ipython",
    "version": 3
   },
   "file_extension": ".py",
   "mimetype": "text/x-python",
   "name": "python",
   "nbconvert_exporter": "python",
   "pygments_lexer": "ipython3",
   "version": "3.10.0rc1"
  }
 },
 "nbformat": 4,
 "nbformat_minor": 5
}
