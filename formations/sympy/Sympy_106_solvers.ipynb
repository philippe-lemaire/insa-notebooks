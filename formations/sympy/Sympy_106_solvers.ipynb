{
 "cells": [
  {
   "cell_type": "markdown",
   "id": "47a02a6b-cd55-47f8-8a2c-af9af3043e41",
   "metadata": {},
   "source": [
    "# Les outils de résolution dans `SymPy`"
   ]
  },
  {
   "cell_type": "code",
   "execution_count": null,
   "id": "c0635c07-ee95-4be4-9880-9123ed5bfe4d",
   "metadata": {},
   "outputs": [],
   "source": []
  }
 ],
 "metadata": {
  "kernelspec": {
   "display_name": "Python 3 (ipykernel)",
   "language": "python",
   "name": "python3"
  },
  "language_info": {
   "codemirror_mode": {
    "name": "ipython",
    "version": 3
   },
   "file_extension": ".py",
   "mimetype": "text/x-python",
   "name": "python",
   "nbconvert_exporter": "python",
   "pygments_lexer": "ipython3",
   "version": "3.10.0rc1"
  }
 },
 "nbformat": 4,
 "nbformat_minor": 5
}
