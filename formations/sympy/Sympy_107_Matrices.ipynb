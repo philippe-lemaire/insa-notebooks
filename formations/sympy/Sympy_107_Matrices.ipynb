{
 "cells": [
  {
   "cell_type": "markdown",
   "id": "a2803afd-11a9-4a2d-9ff2-1ab2ce12b361",
   "metadata": {},
   "source": [
    "# Matrices avec `SymPy`"
   ]
  },
  {
   "cell_type": "code",
   "execution_count": 2,
   "id": "9eebd990-ced5-407f-942b-92d99393652b",
   "metadata": {},
   "outputs": [],
   "source": [
    "from sympy import *\n",
    "init_printing(use_unicode=True)"
   ]
  },
  {
   "cell_type": "code",
   "execution_count": null,
   "id": "7899b4ea-7f6a-401d-a851-f59f34e826fd",
   "metadata": {},
   "outputs": [],
   "source": []
  }
 ],
 "metadata": {
  "kernelspec": {
   "display_name": "Python 3 (ipykernel)",
   "language": "python",
   "name": "python3"
  },
  "language_info": {
   "codemirror_mode": {
    "name": "ipython",
    "version": 3
   },
   "file_extension": ".py",
   "mimetype": "text/x-python",
   "name": "python",
   "nbconvert_exporter": "python",
   "pygments_lexer": "ipython3",
   "version": "3.10.0rc1"
  }
 },
 "nbformat": 4,
 "nbformat_minor": 5
}
