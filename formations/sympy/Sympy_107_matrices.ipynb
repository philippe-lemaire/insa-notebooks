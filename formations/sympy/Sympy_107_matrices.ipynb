{
 "cells": [
  {
   "cell_type": "markdown",
   "id": "a2803afd-11a9-4a2d-9ff2-1ab2ce12b361",
   "metadata": {},
   "source": [
    "# Matrices avec `SymPy`"
   ]
  },
  {
   "cell_type": "code",
   "execution_count": null,
   "id": "9eebd990-ced5-407f-942b-92d99393652b",
   "metadata": {},
   "outputs": [],
   "source": [
    "from sympy import *\n",
    "init_printing(use_unicode=True)"
   ]
  },
  {
   "cell_type": "markdown",
   "id": "2c2b486e-df56-4765-853f-de103eefb354",
   "metadata": {},
   "source": [
    "Pour créer une matrice dans `SymPy`, on utilise la classe `Matrix`. Une matrice est construite en passant une liste de vecteur lignes (une liste de listes de nombres).\n",
    "\n",
    "Par exemple, pour construire la matrice \n",
    "\n",
    "\\begin{split}\\left[\\begin{array}{cc}1 & -1\\\\3 & 4\\\\0 & 2\\end{array}\\right]\\end{split}"
   ]
  },
  {
   "cell_type": "code",
   "execution_count": null,
   "id": "5cc0f88b-b7da-4c69-a2b0-ce97666dd4b4",
   "metadata": {},
   "outputs": [],
   "source": [
    "rows = [\n",
    "        [1,-1], \n",
    "        [3, 4],\n",
    "        [0, 4],\n",
    "]\n",
    "\n",
    "Matrix(rows)"
   ]
  },
  {
   "cell_type": "markdown",
   "id": "761a102c-6516-406b-ab05-d5fe62468cdf",
   "metadata": {},
   "source": [
    "Pour simplifier la création de vecteurs colonnes, une simple liste de nombre passée à `Matrix()` créera un vecteur colonne."
   ]
  },
  {
   "cell_type": "code",
   "execution_count": null,
   "id": "4381b63b-b868-4c9f-ad6c-900a0a68a1b5",
   "metadata": {},
   "outputs": [],
   "source": [
    "v = [1, 2, 3]\n",
    "Matrix(v)"
   ]
  },
  {
   "cell_type": "markdown",
   "id": "877dcb02-a661-4811-85b6-d412bed64ff9",
   "metadata": {},
   "source": [
    "Les matrices sont manipulées comme tout objet `SymPy` ou Python."
   ]
  },
  {
   "cell_type": "code",
   "execution_count": null,
   "id": "db4b8205-9532-4f9d-93a7-b4932df5f5c6",
   "metadata": {},
   "outputs": [],
   "source": [
    "M = Matrix([[1, 2, 3], [3, 2, 1]])\n",
    "N = Matrix([0, 1, 1])\n",
    "M*N"
   ]
  },
  {
   "cell_type": "markdown",
   "id": "7c02d4e3-b746-4540-a415-d2631ed64da9",
   "metadata": {},
   "source": [
    "Une chose importante à remarquer à propos des matrices de `SymPy` est que, contrairement aux autres objets de `SymPy`, les matrices sont modifiables.\n",
    "\n",
    "L’inconvénient est que les objets `Matrix` ne peuvent pas être utilisées là ou l’immuabilité est requise, comme dans d’autres types d’expressions `SymPy` ou en tant que clés d’un dictionnaire Python. \n",
    "\n",
    "Si vous avez besoin d’une matrice immuable, créez une instance de `ImmutableMatrix`."
   ]
  },
  {
   "cell_type": "markdown",
   "id": "8ac63549-a3eb-4e36-9810-5c1e88e0d137",
   "metadata": {},
   "source": [
    "## Opérations de base\n",
    "\n",
    "Voici quelques opérations de base sur les objets `Matrix`.\n",
    "\n",
    "### Forme \n",
    "\n",
    "Pour obtenir la forme d’une matrice, utilisez la fonction `shape()`."
   ]
  },
  {
   "cell_type": "code",
   "execution_count": null,
   "id": "8b525836-c4e5-4e9d-a60b-3396b4035111",
   "metadata": {},
   "outputs": [],
   "source": [
    "rows = [\n",
    "        [1, 2, 3],\n",
    "        [-2, 0, 4],\n",
    "]\n",
    "\n",
    "M = Matrix(rows)\n",
    "M"
   ]
  },
  {
   "cell_type": "code",
   "execution_count": null,
   "id": "0540cae7-80b8-4f95-800b-3f8f10ea89a3",
   "metadata": {},
   "outputs": [],
   "source": [
    "shape(M)"
   ]
  },
  {
   "cell_type": "markdown",
   "id": "e32620ea-6687-4edc-9391-3d91eb93eabb",
   "metadata": {},
   "source": [
    "### Accéder aux lignes et colonnes\n",
    "\n",
    "Pour obtenir une ligne ou une colonne d’une matrice, utilisez les méthodes `.row()` ou `.col()`. Elles fonctionnent comme l’indexation dans Python : `m.row(0)` donne la première ligne, et `m.col(-1)` donne la dernière.\n",
    "\n"
   ]
  },
  {
   "cell_type": "code",
   "execution_count": null,
   "id": "e010f1bb-eb5f-4c60-9af8-75a174cd0eef",
   "metadata": {},
   "outputs": [],
   "source": [
    "M.row(1)"
   ]
  },
  {
   "cell_type": "code",
   "execution_count": null,
   "id": "fc913064-a739-4167-aa4c-64d16c6b84fa",
   "metadata": {},
   "outputs": [],
   "source": [
    "M.col(-1)"
   ]
  },
  {
   "cell_type": "markdown",
   "id": "2bb564de-f821-4485-9c7f-a840b1b42c66",
   "metadata": {},
   "source": [
    "### Effacer et insérer des Lignes et Colonnes\n",
    "\n",
    "Pour effacer une ligne ou colonne, utilisez les méthodes `.row_del()` ou `.col_del()`. Ces opérations modifient la matrice directement."
   ]
  },
  {
   "cell_type": "code",
   "execution_count": null,
   "id": "94787b98-b978-4507-b214-b962efb7e32c",
   "metadata": {},
   "outputs": [],
   "source": [
    "M.col_del(0)\n",
    "M"
   ]
  },
  {
   "cell_type": "code",
   "execution_count": null,
   "id": "df4c7fca-8e20-4632-a5a6-c4bda06408ca",
   "metadata": {},
   "outputs": [],
   "source": [
    "M.row_del(1)\n",
    "M"
   ]
  },
  {
   "cell_type": "markdown",
   "id": "807e5150-d08e-4a15-8169-a955c9923227",
   "metadata": {},
   "source": [
    "Pour insérer une ligne ou colonne, utilisez `.row_insert()` ou `col_insert()`.\n",
    "\n",
    "Ces opération **ne modifient pas directement** la matrice, mais en renvoient un nouvelle."
   ]
  },
  {
   "cell_type": "code",
   "execution_count": null,
   "id": "0bb914ad-3798-4775-9381-cc5406ac24cb",
   "metadata": {},
   "outputs": [],
   "source": [
    "M"
   ]
  },
  {
   "cell_type": "code",
   "execution_count": null,
   "id": "984dd7d0-42d5-49f9-94e4-e82fc6b44167",
   "metadata": {},
   "outputs": [],
   "source": [
    "M = M.row_insert(1, Matrix([[0,4]]))\n",
    "M"
   ]
  },
  {
   "cell_type": "code",
   "execution_count": null,
   "id": "891505ea-4f70-4aa6-b553-77640a1b6e9b",
   "metadata": {},
   "outputs": [],
   "source": [
    "M = M.col_insert(0, Matrix([1, -2]))\n",
    "M"
   ]
  },
  {
   "cell_type": "markdown",
   "id": "a8ba5721-df43-4f2b-b770-f6fd0bb9fffa",
   "metadata": {},
   "source": [
    "À moins que ce ne soit mentionné explicitement, les méthodes évoquées plus loin ne modifient pas **en place**.\n",
    "\n",
    "En règle générale, les méthodes qui ne modifient pas en place renvoient un nouvel objet `Matrix`, et celle qui modifient sur place renvoient `None`.\n",
    "\n",
    "### Méthodes de base\n",
    "\n",
    "Comme vu plus haut, les opérations simples comme l’addition et la multiplication sont faites en utilisant `+`, `*` et `**`. Pour trouver une matrice inverse, élevez votre matrice à la puissance `-1`."
   ]
  },
  {
   "cell_type": "code",
   "execution_count": null,
   "id": "5c72916c-9363-487e-bf44-bd0e942c46c3",
   "metadata": {},
   "outputs": [],
   "source": [
    "M = Matrix([[1, 3], [-2, 3]])\n",
    "N = Matrix([[0, 3], [0, 7]])"
   ]
  },
  {
   "cell_type": "code",
   "execution_count": null,
   "id": "eda41859-c178-4325-bc85-7de8012b761a",
   "metadata": {},
   "outputs": [],
   "source": [
    "M + N"
   ]
  },
  {
   "cell_type": "code",
   "execution_count": null,
   "id": "dd8f74d8-6ae2-437a-b1fe-d1540d64f97a",
   "metadata": {},
   "outputs": [],
   "source": [
    "M*N"
   ]
  },
  {
   "cell_type": "code",
   "execution_count": null,
   "id": "efe2cd44-5a87-4cce-b482-bb4f0ff0a03d",
   "metadata": {},
   "outputs": [],
   "source": [
    "3*M"
   ]
  },
  {
   "cell_type": "code",
   "execution_count": null,
   "id": "b3618c69-d70c-4a6e-b0d4-e7520da05088",
   "metadata": {},
   "outputs": [],
   "source": [
    "M**2"
   ]
  },
  {
   "cell_type": "code",
   "execution_count": null,
   "id": "1aa23c1c-931a-4f51-b5d0-28c597b3a98a",
   "metadata": {},
   "outputs": [],
   "source": [
    "M**-1"
   ]
  },
  {
   "cell_type": "code",
   "execution_count": null,
   "id": "1ca4db9d-19c8-406e-8ec3-6fa4b821a286",
   "metadata": {},
   "outputs": [],
   "source": [
    "N**-1\n",
    "# celle-ci n’est pas inversible, cette cellule  va déclencher des erreurs"
   ]
  },
  {
   "cell_type": "markdown",
   "id": "38f53024-f87c-42a6-a163-67a9f3a4b574",
   "metadata": {},
   "source": [
    "Pour transposer une matrice, utilisez l’attribut `.T`."
   ]
  },
  {
   "cell_type": "code",
   "execution_count": null,
   "id": "9bf1a0c2-0235-49ea-9151-a649e75f0fde",
   "metadata": {},
   "outputs": [],
   "source": [
    "rows = [\n",
    "        [1, 2, 3],\n",
    "        [4, 5, 6]\n",
    "]\n",
    "\n",
    "M = Matrix(rows)\n",
    "M"
   ]
  },
  {
   "cell_type": "code",
   "execution_count": null,
   "id": "8b8c4727-df09-4fd9-9b0a-bad918618f60",
   "metadata": {},
   "outputs": [],
   "source": [
    "M.T"
   ]
  },
  {
   "cell_type": "markdown",
   "id": "18f4c653-09bd-4c2e-b852-a6a73115eb0d",
   "metadata": {},
   "source": [
    "## Constructeurs de Matrices\n",
    "\n",
    "Il existe plusieurs constructeurs pour créer des matrices usuelles. \n",
    "Pour créer une matrice identité de forme $n \\times n$, utilisez `eye(n)`.\n",
    "\n",
    "NB : `I` existe déjà dans `SymPy` et représente $i$, d’où le nom `eye()`, phonétiquement équivalent, pour le constructeur de matrices identités."
   ]
  },
  {
   "cell_type": "code",
   "execution_count": null,
   "id": "da0c2c4d-2638-4b33-9e28-3523f7b0a80e",
   "metadata": {},
   "outputs": [],
   "source": [
    "eye(3)"
   ]
  },
  {
   "cell_type": "code",
   "execution_count": null,
   "id": "7cb7c7ad-5c6f-41ee-bca3-e65f97c3774d",
   "metadata": {},
   "outputs": [],
   "source": [
    "eye(5)"
   ]
  },
  {
   "cell_type": "markdown",
   "id": "1cc1ed48-87a7-40df-af63-75c92688312f",
   "metadata": {},
   "source": [
    "Pour créer une matrice $n \\times m$ remplie de zéros, utilisez `zeros(n, m)`."
   ]
  },
  {
   "cell_type": "code",
   "execution_count": null,
   "id": "aad709e8-a5fb-4e19-81f9-20cc92b22178",
   "metadata": {},
   "outputs": [],
   "source": [
    "zeros(2,3)"
   ]
  },
  {
   "cell_type": "markdown",
   "id": "9571ec24-3f44-45c7-bc58-84939873484d",
   "metadata": {},
   "source": [
    "Dans le même genre, pour une matrice $n \\times m$ remplie de 1, utilisez `ones(n, m)`."
   ]
  },
  {
   "cell_type": "code",
   "execution_count": null,
   "id": "fa18f3f2-2801-4df6-a60c-011462086559",
   "metadata": {},
   "outputs": [],
   "source": [
    "ones(3, 2)"
   ]
  },
  {
   "cell_type": "markdown",
   "id": "efaccd08-5334-421e-981d-281a754ef1b7",
   "metadata": {},
   "source": [
    "Pour une matrice diagonale, utilisez `diag()`. Les arguments de `diag()` peuvent être soit des nombres, soit des matrices. \n",
    "\n",
    "Un nombre sera interprété comme une matrice $1 \\times 1$. Les matrices sont empilées sur leur diagonale, le reste de la matrice résultante est rempli de zéros."
   ]
  },
  {
   "cell_type": "code",
   "execution_count": null,
   "id": "adc790a9-5bb0-43b4-90e6-62f1a424c732",
   "metadata": {},
   "outputs": [],
   "source": [
    "diag(1, 2, 3)"
   ]
  },
  {
   "cell_type": "code",
   "execution_count": null,
   "id": "6b145a52-3800-42f3-9830-b0a3ce326352",
   "metadata": {},
   "outputs": [],
   "source": [
    "diag(-1, ones(2,2), Matrix([5, 7, 5]))"
   ]
  },
  {
   "cell_type": "markdown",
   "id": "a7a026a5-a5e7-4792-bdcb-c0ea90c879c5",
   "metadata": {},
   "source": [
    "## Méthodes avancées\n",
    "\n",
    "### Déterminant\n",
    "\n",
    "Pour calculer le déterminant d’une matrice, utilisez la méthode `.det()`."
   ]
  },
  {
   "cell_type": "code",
   "execution_count": null,
   "id": "904db470-7fbb-4363-9900-129ee6b49534",
   "metadata": {},
   "outputs": [],
   "source": [
    "rows = [\n",
    "        [1, 0, 1],\n",
    "        [2, -1, 3],\n",
    "        [4, 3, 2]\n",
    "]\n",
    "M = Matrix(rows)\n",
    "M"
   ]
  },
  {
   "cell_type": "code",
   "execution_count": null,
   "id": "baeb7dcb-61a4-4d09-9f9f-f95832dc6518",
   "metadata": {},
   "outputs": [],
   "source": [
    "M.det()"
   ]
  },
  {
   "cell_type": "markdown",
   "id": "7457272e-8e33-4fc6-a367-c6f077a743e0",
   "metadata": {},
   "source": [
    "### RREF - Reduce Row Echelon Form -  Matrice échelonnée\n",
    "\n",
    "Pour mettre une matrice sous la forme échelonnée, utilisez `rref()`.\n",
    "\n",
    "Cette fonction `rref()` renvoie un tuple de deux éléments :\n",
    "\n",
    "1. La matrice réduite à sa forme échelonnée\n",
    "2. Un tuple d’indices des colonnes pivots"
   ]
  },
  {
   "cell_type": "code",
   "execution_count": null,
   "id": "42f92917-6c34-41ac-91cf-fc233832b699",
   "metadata": {},
   "outputs": [],
   "source": [
    "rows = [\n",
    "        [1, 0, 1, 3],\n",
    "        [2, 3, 4, 7],\n",
    "        [-1, -3, -3, -4],\n",
    "]\n",
    "M = Matrix(rows)\n",
    "M"
   ]
  },
  {
   "cell_type": "code",
   "execution_count": null,
   "id": "ded60019-8940-45e4-aa34-fda6f83787fe",
   "metadata": {},
   "outputs": [],
   "source": [
    "M.rref()"
   ]
  },
  {
   "cell_type": "code",
   "execution_count": null,
   "id": "f63cf6e9-1ade-40e7-8583-398612175cd0",
   "metadata": {},
   "outputs": [],
   "source": [
    "M.rref()[0]"
   ]
  },
  {
   "cell_type": "code",
   "execution_count": null,
   "id": "e9fcd58b-59be-40dd-968a-d23dc26bf3f6",
   "metadata": {},
   "outputs": [],
   "source": [
    "M.rref()[1]"
   ]
  },
  {
   "cell_type": "markdown",
   "id": "d5a78e71-cfde-418f-a65e-0add5de1e4b0",
   "metadata": {},
   "source": [
    "### Noyau - `Matrix.nullspace()`\n",
    "\n",
    "Pour trouver le noyau d’une matrice, utilisez la méthode `.nullspace()` sur la matrice. \n",
    "Cette méthode renvoie une liste de vecteurs colonnes du noyau de la matrice."
   ]
  },
  {
   "cell_type": "code",
   "execution_count": null,
   "id": "2350a40e-d2b0-4f5f-9e9e-dcc344f02e15",
   "metadata": {},
   "outputs": [],
   "source": [
    "rows = [\n",
    "        [1, 2, 3, 0, 0],\n",
    "        [4, 10, 0, 0, 1],\n",
    "]\n",
    "M = Matrix(rows)\n",
    "M"
   ]
  },
  {
   "cell_type": "code",
   "execution_count": null,
   "id": "ba185bb2-0997-4d65-a07d-813830b3b5f5",
   "metadata": {},
   "outputs": [],
   "source": [
    "M.nullspace()"
   ]
  },
  {
   "cell_type": "markdown",
   "id": "31c65f50-c21f-4ab6-b9b1-f7b3c9a1e61e",
   "metadata": {},
   "source": [
    "### Espace colonne - `Matrix.columnspace()`\n",
    "\n",
    "Pour trouver l’espace colonne d’une matrice, utilisez sa méthode `.columnspace()`, qui vous renvoie une liste de vecteurs colonne."
   ]
  },
  {
   "cell_type": "code",
   "execution_count": null,
   "id": "6f6a50dd-f879-4d66-b5f2-b8a95a5db3a1",
   "metadata": {},
   "outputs": [],
   "source": [
    "rows = [\n",
    "        [1, 1, 2],\n",
    "        [2, 1, 3],\n",
    "        [3, 1, 4],\n",
    "]\n",
    "M = Matrix(rows)\n",
    "\n",
    "M.columnspace()"
   ]
  },
  {
   "cell_type": "markdown",
   "id": "7cfa3363-559f-4e22-a20d-9b60ca2139b6",
   "metadata": {},
   "source": [
    "### Valeurs propres, vecteurs propres, diagonalisation\n",
    "\n",
    "Pour trouver les valeurs propres d’une matrice, utilisez sa méthode `.eigenvals()`, qui renvoie \n",
    "un dictionnaire de paires la forme `valeur_propre: facteur_de_modification_de_taille`.\n"
   ]
  },
  {
   "cell_type": "code",
   "execution_count": null,
   "id": "84137d29-a460-4613-b6cc-596bb6a10b1a",
   "metadata": {},
   "outputs": [],
   "source": [
    "rows = [\n",
    "        [3, -2, 4, -2],\n",
    "        [5, 3, -3, -2],\n",
    "        [5, -2, 2, -2],\n",
    "        [5, -2, -3, 3],\n",
    "]\n",
    "M = Matrix(rows)\n",
    "M"
   ]
  },
  {
   "cell_type": "code",
   "execution_count": null,
   "id": "dc1e3d41-dc44-43a4-b545-ceb6a4090529",
   "metadata": {},
   "outputs": [],
   "source": [
    "M.eigenvals()"
   ]
  },
  {
   "cell_type": "markdown",
   "id": "5ca6b423-fa3a-452f-b25e-44d278215c4a",
   "metadata": {},
   "source": [
    "Cela signifique que les valeurs propres sont -2, 3, et 5 (les clés du dictionnaire), et que les valeurs propres -2 et 3 ont pour facteur de modification 1, et la valeur propore 5 a pour facteur, 2.\n",
    "\n",
    "Pour trouver les vecteurs propres, utilisez la méthode `Matrix.eigenvects()`.  \n",
    "Elle renvoie une liste de tuples de la forme `(valeur_propre, facteur, [vecteurs_propres])`."
   ]
  },
  {
   "cell_type": "code",
   "execution_count": null,
   "id": "f964722f-2f82-4884-9a09-c175d8a24fad",
   "metadata": {},
   "outputs": [],
   "source": [
    "M.eigenvects()"
   ]
  },
  {
   "cell_type": "markdown",
   "id": "ac25730a-0779-4eaf-8c4b-bc7abea7d998",
   "metadata": {},
   "source": [
    "Cela nous montre que, par exemple, la valeur propre 5 a aussi une  facteur géométrique de 2, car elle a 2 vecteurs propres.\n",
    "\n",
    "Comme les facteurs algébriques et géométriques sont les mêmes pour toutes les valeurs propres, `M` est diagonalisable.\n",
    "\n",
    "Pour diagonaliser une matrice, utilisez la méthode `Matrix.diagonalize()`, qui renvoie un tuple $(P, D)$, où \n",
    "\n",
    "- $D$ est diagonale et \n",
    "- $M = PDP^-1$\n",
    "\n"
   ]
  },
  {
   "cell_type": "code",
   "execution_count": null,
   "id": "4360fc8f-1012-40d2-8c51-845ab230499b",
   "metadata": {},
   "outputs": [],
   "source": [
    "P, D = M.diagonalize()\n",
    "P"
   ]
  },
  {
   "cell_type": "code",
   "execution_count": null,
   "id": "ef1384fd-e5cc-48e4-97a2-a749b3624398",
   "metadata": {},
   "outputs": [],
   "source": [
    "D"
   ]
  },
  {
   "cell_type": "code",
   "execution_count": null,
   "id": "d435d568-9f38-49cb-9b4d-00267d987a56",
   "metadata": {},
   "outputs": [],
   "source": [
    "P*D*P**-1"
   ]
  },
  {
   "cell_type": "code",
   "execution_count": null,
   "id": "4d916535-1e67-4e90-9edf-5ea1fc8da01d",
   "metadata": {},
   "outputs": [],
   "source": [
    "P*D*P**-1 == M"
   ]
  },
  {
   "cell_type": "markdown",
   "id": "f56b7afd-71da-4eb1-aa3d-cac49e9934e6",
   "metadata": {},
   "source": [
    "Notez bien que puisque `.eigenvects()` renvoie aussi les valeurs propres, vous devriez l’utiliser plutôt que `.eigenvals()`si vous voulez avoir à les valeurs propres ET les vecteurs propres.\n",
    "\n",
    "À l’inverse, comme le calcul des vecteurs propres peut-être long, si vous ne voulez que les valeurs propres, utilisez plutôt `.eigenvals()`.\n",
    "\n",
    "Si vous voulez le polynôme caractéristique, utilisez `Matrix.charpoly()`. C'est plus efficace que `.eigenvals()`, car parfois les racines formelles coûtent cher à calculer."
   ]
  },
  {
   "cell_type": "code",
   "execution_count": null,
   "id": "400692ee-e62a-41c8-94e2-250b126e302b",
   "metadata": {},
   "outputs": [],
   "source": [
    "λ = symbols('lambda')\n",
    "p = M.charpoly(λ)\n",
    "factor(p.as_expr())"
   ]
  },
  {
   "cell_type": "markdown",
   "id": "592b0ffa-a52e-40c6-85e6-74e3727b0ccf",
   "metadata": {
    "tags": []
   },
   "source": [
    "## Difficultés éventuelles\n",
    "\n",
    "### Zero Testing\n",
    "\n",
    "Si vous opérations sur des matrices échouent ou renvoient des réponses erronées,\n",
    "la raison est probablement une question de *zero testing*.\n",
    "S’il y a une expression qui n’est pas correctement *zero-testée*, cela peut entraîner des\n",
    "des difficultés pour trouver des pivots de Gauss, ou décider si une matrice est inversible,\n",
    "ou toute autre fonction de plus haut niveau qui dépend de ces procédures.\n",
    "\n",
    "À l’heure actuelle, la méthode par défaut de `SymPy` pour le *zero-testing*, `_iszero()` \n",
    "n’est garantie exacte que dans certains domaines limités des nombres et symboles, et\n",
    "toute expression compliquée au delà de ce périmètre de décidabilité est traité comme `None`,\n",
    "qui se comporte comme `False` dans un contexte de logique booléenne.\n",
    "\n",
    "Voici la liste des méthodes utilisant le *zero-testing* :\n",
    "\n",
    "`echelon_form` , `is_echelon` , `rank` , `rref` , `nullspace` , `eigenvects` , `inverse_ADJ` , `inverse_GE` , `inverse_LU` , `LUdecomposition` , `LUdecomposition_Simple` , `LUsolve`\n",
    "\n"
   ]
  },
  {
   "cell_type": "markdown",
   "id": "c9fe7b37-b925-4492-91d3-fcab879550d3",
   "metadata": {},
   "source": [
    "Elles ont la propriété `iszerofunc` ouverte aux utilisateurs pour spécifier la méthode de *zero-testing*, et peut accepter n’importe quelle fonction qui prend une entrée et renvoie `True` ou `False`.\n",
    "\n",
    "Voici un exemple intéressant de résolution de cette difficulté causé par un zéro sous-testé. Bien que le rendu de cette matrice en particulier a été amélioré, la technique ci-dessous reste intéressante à connaître."
   ]
  },
  {
   "cell_type": "markdown",
   "id": "9adae601-277a-4918-96f2-461f12e59451",
   "metadata": {},
   "source": [
    "Suite et fin : [Sympy_108: Manipulation avancée d’expression](Sympy_108_manipulation_avancee_d_expression.ipynb)."
   ]
  }
 ],
 "metadata": {
  "kernelspec": {
   "display_name": "Python 3 (ipykernel)",
   "language": "python",
   "name": "python3"
  },
  "language_info": {
   "codemirror_mode": {
    "name": "ipython",
    "version": 3
   },
   "file_extension": ".py",
   "mimetype": "text/x-python",
   "name": "python",
   "nbconvert_exporter": "python",
   "pygments_lexer": "ipython3",
   "version": "3.10.0rc1"
  },
  "toc": {
   "base_numbering": 1,
   "nav_menu": {},
   "number_sections": true,
   "sideBar": true,
   "skip_h1_title": true,
   "title_cell": "Table of Contents",
   "title_sidebar": "Contents",
   "toc_cell": false,
   "toc_position": {},
   "toc_section_display": true,
   "toc_window_display": true
  }
 },
 "nbformat": 4,
 "nbformat_minor": 5
}
