{
 "cells": [
  {
   "cell_type": "markdown",
   "id": "674d9203-6eb4-46ba-bc97-9b3ee0ba85c0",
   "metadata": {},
   "source": [
    "# Calcul Numérique avancé avec `SymPy`"
   ]
  },
  {
   "cell_type": "code",
   "execution_count": null,
   "id": "aad544bf-d783-4ae6-95df-476488684ec7",
   "metadata": {},
   "outputs": [],
   "source": []
  }
 ],
 "metadata": {
  "kernelspec": {
   "display_name": "Python 3 (ipykernel)",
   "language": "python",
   "name": "python3"
  },
  "language_info": {
   "codemirror_mode": {
    "name": "ipython",
    "version": 3
   },
   "file_extension": ".py",
   "mimetype": "text/x-python",
   "name": "python",
   "nbconvert_exporter": "python",
   "pygments_lexer": "ipython3",
   "version": "3.10.0rc1"
  }
 },
 "nbformat": 4,
 "nbformat_minor": 5
}
