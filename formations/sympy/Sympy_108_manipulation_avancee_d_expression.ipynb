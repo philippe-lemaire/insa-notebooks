{
 "cells": [
  {
   "cell_type": "markdown",
   "id": "674d9203-6eb4-46ba-bc97-9b3ee0ba85c0",
   "metadata": {},
   "source": [
    "# Manipulation avancée d’expression avec `SymPy`\n",
    "\n",
    "Dans cette section, nous allons voir quelques techniques pour réaliser des manipulations d’expressions plus avancées.\n",
    "\n",
    "## Comprendre l’arbre des expressions\n",
    "\n",
    "Avant de rentrer dans le vif du sujet, nous devons comprendre comment les expressions sont représentées dans `SymPy`.\n",
    "Une expression mathématique est représentée par un arbre.\n",
    "\n",
    "Prenons par exemple $x^2+xy$, ie `x**2 + x*y`.\n",
    "\n",
    "Nous pouvons voir à quoi cette expression ressemble \"sous le capot\" en utilisant la fonction `srepr()`."
   ]
  },
  {
   "cell_type": "code",
   "execution_count": null,
   "id": "aad544bf-d783-4ae6-95df-476488684ec7",
   "metadata": {},
   "outputs": [],
   "source": [
    "from sympy import *\n",
    "x, y, z = symbols('x y z')"
   ]
  },
  {
   "cell_type": "code",
   "execution_count": null,
   "id": "7a9e2f00-b77b-40cd-a756-dc29e5dabeba",
   "metadata": {},
   "outputs": [],
   "source": [
    "expr = x**2 + x*y\n",
    "expr"
   ]
  },
  {
   "cell_type": "code",
   "execution_count": null,
   "id": "a0680275-317c-4818-b486-8436d3b23608",
   "metadata": {},
   "outputs": [],
   "source": [
    "srepr(expr)"
   ]
  },
  {
   "cell_type": "markdown",
   "id": "1b33a7dc-c556-48b4-a847-f58ff1d1d0db",
   "metadata": {},
   "source": [
    "Le plus simple pour décortiquer tout ça est de regarder ce diagramme de l’arbre de notre expression :\n",
    "\n",
    "![](https://docs.sympy.org/latest/_images/graphviz-d6cfeb1f975b9a36682b7d430767a2c103d8e138.svg)\n",
    "\n",
    "Tout d’abord, regardons les feuilles de notre arbre. Les symboles sont des instances de la classe `Symbol`. Qu’on utilise la fonction `symbols()` ou qu'on utilise le constructeur de classe `Symbol()`, cela revient au même.\n"
   ]
  },
  {
   "cell_type": "code",
   "execution_count": null,
   "id": "3f979ac3-852c-4247-ba80-7e47cf4cf5b5",
   "metadata": {},
   "outputs": [],
   "source": [
    "x = symbols('x')"
   ]
  },
  {
   "cell_type": "markdown",
   "id": "a84c6286-31ec-494e-98c0-f2bab883c238",
   "metadata": {},
   "source": [
    "idem que "
   ]
  },
  {
   "cell_type": "code",
   "execution_count": null,
   "id": "ea3974b7-57c8-4d64-bef8-3ba6e66caf8d",
   "metadata": {},
   "outputs": [],
   "source": [
    "x = Symbol('x')"
   ]
  },
  {
   "cell_type": "markdown",
   "id": "eddf6b28-ea07-4bc0-9f7d-6ec9dda495b3",
   "metadata": {},
   "source": [
    "Dans les deux cas, on obtient un objet `Symbol` avec le nom `'x'`. Pour le nombre dans notre expression, 2, il est devenu `Integer(2)`. `Integer` est la classe `SymPy` pour les entiers.\n",
    "Il est similaire au type de base Python `int`, mais il est conçu pour se combiner correctement avec les autres objets `SymPy`.\n",
    "\n",
    "Quand on a fait `x**2`, on a créé un objet de la classe `Pow`, soit une puissance."
   ]
  },
  {
   "cell_type": "code",
   "execution_count": null,
   "id": "c8a9b22a-a506-4461-b799-ed073007f22b",
   "metadata": {},
   "outputs": [],
   "source": [
    "srepr(x**2)"
   ]
  },
  {
   "cell_type": "markdown",
   "id": "c3f70c8c-084a-4b0b-a150-ae66e9bc7399",
   "metadata": {},
   "source": [
    "On aurait pu créer le même objet directement avec le constructeur de classe `Pow()`"
   ]
  },
  {
   "cell_type": "code",
   "execution_count": null,
   "id": "3aef9c91-b082-4cad-9f1e-dc5c21cf3ce2",
   "metadata": {},
   "outputs": [],
   "source": [
    "Pow(x, 2)"
   ]
  },
  {
   "cell_type": "markdown",
   "id": "6aa19a19-4228-4ddd-9e17-7b6e04a677b2",
   "metadata": {},
   "source": [
    "Notez que dans le résultat de `srepr(x**2)`, on voit `Integer(2)`, même si techniquement, c'est un 2 `int` Python qu'on tappe.\n",
    "\n",
    "De manière générale, quand on réalise des opérations entre des objets `SymPy` et des objets numériques basiques de Python, les objets basiques comme des `int` sont convertis automatiquement en objets `SymPy` avant de réaliser l’opération.\n",
    "\n",
    "La fonction qui fait ça sous le capot est `sympify()`."
   ]
  },
  {
   "cell_type": "code",
   "execution_count": null,
   "id": "7e50ae47-c2ae-40ab-bca4-1feb6fcfe835",
   "metadata": {},
   "outputs": [],
   "source": [
    "type(2)"
   ]
  },
  {
   "cell_type": "code",
   "execution_count": null,
   "id": "58fac9ff-ef81-43bc-9589-ff0f048244cc",
   "metadata": {},
   "outputs": [],
   "source": [
    "type(sympify(2))"
   ]
  },
  {
   "cell_type": "markdown",
   "id": "3c9d5e0e-498a-414b-8e6a-00bfeed71d92",
   "metadata": {},
   "source": [
    "Nous avons vu que `x**2` revient à l’objet issu de `Pow(x, 2)`. \n",
    "\n",
    "Et `x * y` ? La classe qui représente un produit dans `SymPy` est `Mul`."
   ]
  },
  {
   "cell_type": "code",
   "execution_count": null,
   "id": "5a4d4a28-78e2-4229-854b-674b7d4b2542",
   "metadata": {},
   "outputs": [],
   "source": [
    "srepr(x*y)"
   ]
  },
  {
   "cell_type": "markdown",
   "id": "1244b0f3-68e4-4a88-8095-e32132186eff",
   "metadata": {},
   "source": [
    "Et donc nous pourrions créer le même objet avec le constructeur de classe `Mul()`."
   ]
  },
  {
   "cell_type": "code",
   "execution_count": null,
   "id": "d1aa96d8-aac2-4110-a5d4-c7ed177f191f",
   "metadata": {},
   "outputs": [],
   "source": [
    "Mul(x, y)"
   ]
  },
  {
   "cell_type": "markdown",
   "id": "9070499b-8109-4eff-abe8-e4cc92b7a8e9",
   "metadata": {},
   "source": [
    "Enfin, nous arrivons à notre expression finale, `x**2 + x*y`. C'est la somme des deux objets précédents, `Pow(x, 2)` et `Mul(x, y)`.\n",
    "\n",
    "La classe `SymPy` pour l’addition est `Add`, et donc, comme vous pouvez le deviner, on peut créer un objet de cette classe avec le constructeur de classe `Add()`.\n",
    "\n",
    "L’expression complète revient à `Add(Pow(x, 2), Mul(x, y))`."
   ]
  },
  {
   "cell_type": "code",
   "execution_count": null,
   "id": "a4259cd4-5b16-4a7a-965b-60bee1683624",
   "metadata": {},
   "outputs": [],
   "source": [
    "Add(Pow(x, 2), Mul(x, y))"
   ]
  },
  {
   "cell_type": "markdown",
   "id": "c7b75398-0c16-451b-8f80-408f12a01c07",
   "metadata": {},
   "source": [
    "![](https://docs.sympy.org/latest/_images/graphviz-d6cfeb1f975b9a36682b7d430767a2c103d8e138.svg)"
   ]
  },
  {
   "cell_type": "markdown",
   "id": "706af457-3e21-40fc-98cd-8b0ce4f38fa9",
   "metadata": {},
   "source": [
    "Les arbres-expressions `SymPy` peuvent avoir de nombreuses branches, et être très large où très profond. Voici un exemple plus complexe."
   ]
  },
  {
   "cell_type": "code",
   "execution_count": null,
   "id": "aa849f54-6c56-4aa8-8915-a0cb6bf92004",
   "metadata": {},
   "outputs": [],
   "source": [
    "expr = sin(x*y)/2 - x**2 + 1/y\n",
    "expr"
   ]
  },
  {
   "cell_type": "code",
   "execution_count": null,
   "id": "3770d5f8-9168-4de4-b2a3-21e9fb795984",
   "metadata": {},
   "outputs": [],
   "source": [
    "srepr(expr)"
   ]
  },
  {
   "cell_type": "markdown",
   "id": "50f19c90-0deb-457d-b342-ea859698e8a8",
   "metadata": {},
   "source": [
    "Voici le diagramme correspondant :\n",
    "\n",
    "![](https://docs.sympy.org/latest/_images/graphviz-54ddf0a95326d32e84e72798288dc3762214049f.svg)\n",
    "\n",
    "Cette expression révèle des choses intéressantes à propos des expressions `SymPy` :\n",
    "\n",
    "Pour `x**2`, comme prévu, nous trouvons `Pow(x, 2)`. Un niveau plus haut, nous voyons que nous avons `Mul(-1, Pow(x, 2)`. Il n’y a pas de classe pour représenter la soustraction dans `SymPy`. $x -y$ est traité comme $x + -y$, ou plus précisément $x + -1 \\times y$, soit en terme de classes `SymPy` : `Add(x, Mul(-1, y))`."
   ]
  },
  {
   "cell_type": "code",
   "execution_count": null,
   "id": "69e8fbf0-90b8-4c57-b480-b51ff066b2a5",
   "metadata": {},
   "outputs": [],
   "source": [
    "srepr(x - y)"
   ]
  },
  {
   "cell_type": "markdown",
   "id": "6123276a-b2b4-4cdb-865c-c9b96602f230",
   "metadata": {},
   "source": [
    "![](https://docs.sympy.org/latest/_images/graphviz-5db6e084b5324a156050a50f98fd32d5de3830b5.svg)"
   ]
  },
  {
   "cell_type": "markdown",
   "id": "513b77a2-e670-462e-9bb4-3077a8859e53",
   "metadata": {},
   "source": [
    "Ensuite, intéressons-nous à `1/y`. On pourrait s’attendre à quelque chose comme `Div(1, y)`, mais comme pour la \n",
    "soustraction, il n’y a pas de classe `SymPy` représentant la division.\n",
    "\n",
    "À la place, la division est représentée par la puissance -1. D’où le `Pow(y, -1)`. \n",
    "\n",
    "Et si nous avions divisé autre chose que 1 par `y`, comme `x/y` ? "
   ]
  },
  {
   "cell_type": "code",
   "execution_count": null,
   "id": "4747a27a-78df-4dc8-bd41-c21438d9e991",
   "metadata": {},
   "outputs": [],
   "source": [
    "expr = x/y\n",
    "srepr(expr)"
   ]
  },
  {
   "cell_type": "markdown",
   "id": "e83babfa-2281-472a-863f-a9a327b5696d",
   "metadata": {},
   "source": [
    "![](https://docs.sympy.org/latest/_images/graphviz-bdb16b2f7e291438d35e7ae6af6ca802a803b28c.svg)"
   ]
  },
  {
   "cell_type": "markdown",
   "id": "a7570d59-9738-4014-8549-24fa360a505a",
   "metadata": {},
   "source": [
    "`x/y` est donc représenté comme `x*y**-1`, soit `Mul(x, Pow(y, -1))`.\n",
    "\n",
    "Enfin, regardons le terme `sin(x*y)/2`. Tout comme dans l’exemple précédent, on pourrait s'attendre à avoir\n",
    "`Mul(sin(x*y), Pow(Integer(2), -1))`. Mais à la place, nous avons `Mul(Rational(1, 2), sin(x*y))`.\n",
    "\n",
    "Les fractions sont toujours combinées à un terme unique dans une multiplication, ce qui fait que quand on divise par 2, c'est représenté par une multiplication par $\\frac{1}{2}$.\n",
    "\n",
    "Enfin, un dernier commentaire. Vous avez peut-être remarqué que l’ordre dans lequel nous avons saisi notre expression et l’ordre dans lequel elle est sortie de `srepr` ou dans le diagramme étaient différents. Vous avez peut-être constaté ce phénomène à un autre moment. Par exemple :"
   ]
  },
  {
   "cell_type": "code",
   "execution_count": null,
   "id": "73f2d4b2-36fd-466c-9bf3-a8e7b14a1be4",
   "metadata": {},
   "outputs": [],
   "source": [
    "1 + x"
   ]
  },
  {
   "cell_type": "markdown",
   "id": "e7aa7b72-8fa8-4eb4-894c-716630033c06",
   "metadata": {},
   "source": [
    "La raison est que les arguments d’une opération commutative comme l’addition ou la multiplication sont stockés dans un ordre arbitraire mais stable, indépendamment de l’ordre de saisie par l’utilisateur.\n",
    "\n",
    "Pour les multiplications non-commutatives, vous pouvez créer un symbole non-commutatif avec `Symbol('A', commutative=False)`, et dans ce cas l’ordre dans une multiplication respectera l’ordre de la saisie.\n",
    "\n",
    "De plus comme nous allons le voir dans la prochaine section, l’ordre d’affichage et l’ordre dans lequel les éléments sont stockés \"sous le capot\" ne sont pas nécessairement les mêmes.\n",
    "\n",
    "En général, une chose importante à retenir quand on travaille sur des arbres d’expressions est que la représentation interne d’une expression et son affichage ne sont pas les mêmes. Et c'est vrai aussi pour la version \"saisie\".\n",
    "Si un algorithme de manipulation ne fonctionne pas comme vous voulez, il est probable que la représentation interne de l’objet est différente de ce que vous pensiez."
   ]
  },
  {
   "cell_type": "markdown",
   "id": "5cd3ed13-d29d-406f-8c04-c0366eed1c0a",
   "metadata": {},
   "source": [
    "## Traverser un arbre d’expression par récurrence\n",
    "\n",
    "Maintenant que nous savons comment fonctionnent les arbres d’expression `SymPy`, regardons comment nous pouvons parcourir un tel arbre.\n",
    "\n",
    "Chaque objet `SymPy` a deux attributs importants : `.func` et `.args`.\n",
    "\n",
    "### `.func`\n",
    "\n",
    "`.func` est la tête d’un objet. Par exemple, `(x*y).func`, c'est `Mul`.  \n",
    "Généralement, c'est la classe d’un objet (mais il existe des exceptions à cette règle).\n",
    "\n",
    "Deux remarques à propos de `.func`.\n",
    "\n",
    "Premièrement, La classe d’un objet n’est pas forcément la classe qui a été utilisée pour l’instancier. Par exemple :"
   ]
  },
  {
   "cell_type": "code",
   "execution_count": null,
   "id": "5397e05b-4275-4233-bca0-3f3d529f11a4",
   "metadata": {},
   "outputs": [],
   "source": [
    "expr = Add(x, x)\n",
    "expr.func"
   ]
  },
  {
   "cell_type": "markdown",
   "id": "555ae5a7-15cd-41df-a010-f29b5b9e7fdf",
   "metadata": {},
   "source": [
    "Nous avons créé notre expression avec le constructeur de classe `Add()`, donc on pourrait s’attendre à ce que \n",
    "`expr.func` soit `Add`, mais à la place on a un `Mul`. Pourquoi ? Regardons ce qu’est devenue notre expression :"
   ]
  },
  {
   "cell_type": "code",
   "execution_count": null,
   "id": "8f7c963f-1bcb-4d5f-88d1-63dade5f89c8",
   "metadata": {},
   "outputs": [],
   "source": [
    "expr"
   ]
  },
  {
   "cell_type": "code",
   "execution_count": null,
   "id": "bdf83bdd-b348-4a79-9424-462661121e3e",
   "metadata": {},
   "outputs": [],
   "source": [
    "x + x"
   ]
  },
  {
   "cell_type": "markdown",
   "id": "e412cfb6-48a3-42f3-bce5-c18f3e9dfe1d",
   "metadata": {},
   "source": [
    "`Add(x, x)`, ou encore `x + x` sont automatiquement convertis en `Mul(2, x)`, donc un objet `Mul`. \n",
    "\n",
    "Pour les plus avancés en programmation orientée objet parmi vous, les classes `SymPy` utilisent beacoup le constructeur de classe `__new__`, qui contrairement à `__init__`, permet qu’une classe différente soit retournée par le contructeur.\n",
    "\n",
    "Deuxièmement, certaines classes ont des cas particuliers, généralement pour des raisons de performance et d’efficacité."
   ]
  },
  {
   "cell_type": "code",
   "execution_count": null,
   "id": "3669b3bb-42e5-425a-8292-6840af985248",
   "metadata": {},
   "outputs": [],
   "source": [
    "Integer(2).func # cas général Integer"
   ]
  },
  {
   "cell_type": "code",
   "execution_count": null,
   "id": "d0c6b933-3c5b-4141-90bc-e4c75dd89057",
   "metadata": {},
   "outputs": [],
   "source": [
    "Integer(0).func # cas particulier zéro"
   ]
  },
  {
   "cell_type": "code",
   "execution_count": null,
   "id": "9e91b75f-7b6e-48c5-9a39-944db9de5845",
   "metadata": {},
   "outputs": [],
   "source": [
    "Integer(1).func # cas particulier 1"
   ]
  },
  {
   "cell_type": "code",
   "execution_count": null,
   "id": "0f47a6c9-acdb-4449-be7d-6aab1d93e351",
   "metadata": {},
   "outputs": [],
   "source": [
    "Integer(-1).func # cas particulier -1"
   ]
  },
  {
   "cell_type": "markdown",
   "id": "a032eb3d-8335-4b3a-aa8f-e553a24bfddc",
   "metadata": {},
   "source": [
    "En général, ces cas particuliers ne vont pas nous gêner. Les cas particuliers comme `Zero`, `One`, `NegativeOne` etc sont des sous-classes de `Integer`, donc tant que nous utilisons `isinstance`, tout ira bien."
   ]
  },
  {
   "cell_type": "code",
   "execution_count": null,
   "id": "56acae69-6661-4be3-8cd8-5630c9d89da8",
   "metadata": {},
   "outputs": [],
   "source": [
    "zero = Integer(0)"
   ]
  },
  {
   "cell_type": "code",
   "execution_count": null,
   "id": "dcfb35b9-5826-4dac-81dd-3767377f7202",
   "metadata": {},
   "outputs": [],
   "source": [
    "zero.func"
   ]
  },
  {
   "cell_type": "code",
   "execution_count": null,
   "id": "96fe2361-c0a3-4a3d-a808-e2c361928dfd",
   "metadata": {},
   "outputs": [],
   "source": [
    "isinstance(zero, Integer)"
   ]
  },
  {
   "cell_type": "markdown",
   "id": "e8813876-ac40-470e-ac11-33f7c44a9bdc",
   "metadata": {},
   "source": [
    "### `.args`\n",
    "\n",
    "`.args` stocke les arguments de haut-niveau de l’objet. `(x*y).args` serait `(x, y)`. Regardons quelques exemples :\n"
   ]
  },
  {
   "cell_type": "code",
   "execution_count": null,
   "id": "239bb317-f7bd-487c-a4c0-c7b3d6e65caf",
   "metadata": {},
   "outputs": [],
   "source": [
    "expr = 3*y**2*x\n",
    "expr"
   ]
  },
  {
   "cell_type": "code",
   "execution_count": null,
   "id": "116070bd-4cc3-4727-a9d5-37b1d2960f8f",
   "metadata": {},
   "outputs": [],
   "source": [
    "expr.func"
   ]
  },
  {
   "cell_type": "code",
   "execution_count": null,
   "id": "227fa0a9-b00f-4867-b724-b059d52d5d04",
   "metadata": {},
   "outputs": [],
   "source": [
    "expr.args"
   ]
  },
  {
   "cell_type": "markdown",
   "id": "6123f843-f0e2-4e25-aaf4-f203de80485b",
   "metadata": {},
   "source": [
    "On peut en conclure que `expr == Mul(3, y**2, x)`.\n",
    "\n",
    "Plus généralement, nous pouvons complètement reconstruire une expression à partir de ses attributs `.func` et `.args`."
   ]
  },
  {
   "cell_type": "code",
   "execution_count": null,
   "id": "325083fb-3a66-47ef-9194-c330bea383ea",
   "metadata": {},
   "outputs": [],
   "source": [
    "expr.func(*expr.args)"
   ]
  },
  {
   "cell_type": "code",
   "execution_count": null,
   "id": "6bf17512-f35c-4c17-87f5-a8ade8d6e18f",
   "metadata": {},
   "outputs": [],
   "source": [
    "expr == expr.func(*expr.args)"
   ]
  },
  {
   "cell_type": "markdown",
   "id": "d7fad22d-416e-4ac7-9871-e19154f07e2e",
   "metadata": {},
   "source": [
    "Remarquez que, bien que nous ayons saisi `3*y**2*x`, l’attribut `.args` est `(3, x, y**2)`. Dans une `Mul`, le coefficient rationnel sera mis en premier dans `args`, mais à part ça, le reste n’a pas de règle particulière, mais il y a bien un ordre."
   ]
  },
  {
   "cell_type": "code",
   "execution_count": null,
   "id": "6b79c74d-3692-4c9a-8e7a-2c16d0197929",
   "metadata": {},
   "outputs": [],
   "source": [
    "expr = y**2*3*x\n",
    "expr.args"
   ]
  },
  {
   "cell_type": "markdown",
   "id": "26864f97-9a39-4228-8a8c-c00f90c228f6",
   "metadata": {},
   "source": [
    "Les `args` sont ordonnés, de manière à ce que des `Mul` équivalents aient les mêmes `args`.\n",
    "\n",
    "Cet ordre est basé sur des critères conçus pour rendre l’ordre unique et efficace, mais il n’a pas de signification mathématique.\n",
    "\n",
    "La forme donnée par `srepr()` à notre `expr` est `Mul(3, x, Pow(y, 2))`. Si nous voulons obtenir les `.args` de `Pow(y, 2)`, il suffit d’observer que `y**2` c'est retrouvé en troisième place dans `expr.args`, *ie* `expr.args[2]`, ou encore `expr.args[-1]`."
   ]
  },
  {
   "cell_type": "code",
   "execution_count": null,
   "id": "4c57913e-2eff-46a0-9d1e-820d526d9074",
   "metadata": {},
   "outputs": [],
   "source": [
    "expr.args[2].args"
   ]
  },
  {
   "cell_type": "code",
   "execution_count": null,
   "id": "fe1b7e72-b82f-4bf4-aec9-ac7bcf4098d9",
   "metadata": {},
   "outputs": [],
   "source": [
    "expr.args[-1].args"
   ]
  },
  {
   "cell_type": "markdown",
   "id": "51c97949-cbad-4b0d-ada7-cf9302c41d34",
   "metadata": {},
   "source": [
    "Creusons un peu plus loin. Quels sont les `.args` de `y` ? Ou de `2` ?"
   ]
  },
  {
   "cell_type": "code",
   "execution_count": null,
   "id": "a19c07be-b3cc-4c75-83c4-ff967e07ca73",
   "metadata": {},
   "outputs": [],
   "source": [
    "y.args"
   ]
  },
  {
   "cell_type": "code",
   "execution_count": null,
   "id": "7dd8f33e-b46d-476a-845a-86acef7c8d72",
   "metadata": {},
   "outputs": [],
   "source": [
    "Integer(2).args"
   ]
  },
  {
   "cell_type": "markdown",
   "id": "4d39cdd0-3d2f-4855-b932-38d69419fd0f",
   "metadata": {},
   "source": [
    "Les deux ont un `.args` vide. Dans `SymPy`, un `.args` vide nous indique que nous avons atteint une feuille de notre arbre d’expression.\n",
    "\n",
    "Donc il y a cas possibles pour une expression `SymPy`. \n",
    "\n",
    "1. `.args` vide, dans ce cas là c'est un feuille dans un arbre\n",
    "2. `.args` non-vide, et dans ce cas là c’est une branche d’un arbre\n",
    "\n",
    "Dans le cas 2, l’expression peut être reconstruite à partir de ses attributs `.func` et `.args`."
   ]
  },
  {
   "cell_type": "markdown",
   "id": "f710a340-04e1-406a-b96a-7cea5ae9fe58",
   "metadata": {},
   "source": [
    "<div class = 'alert alert-success'>\n",
    "    \n",
    "**La règle clé :**\n",
    "    \n",
    "Tout expression SymPy bien constituée doit soit :\n",
    "    \n",
    "- avoir un tuple vide dans sont attribut `.args`, ou bien\n",
    "- satisfaire `expr == expr.func(*expr.args)`\n",
    "\n",
    "\n",
    "</div>"
   ]
  },
  {
   "cell_type": "markdown",
   "id": "aff5bd14-a05a-4d8e-a315-dd5538456d5e",
   "metadata": {},
   "source": [
    "<div class = 'alert alert-info'>\n",
    "\n",
    "En Python, si `a` est un tuple, alors `f(*a)` signifie appelle la fonction `f` avec comme arguments les éléments de `a`,\n",
    "*ie* `f(*(1, 2, 3))` revient à `f(1, 2, 3)`.\n",
    "\n",
    "</div>"
   ]
  },
  {
   "cell_type": "markdown",
   "id": "02851bee-b4f0-490c-b957-d4a36388a29a",
   "metadata": {},
   "source": [
    "<div class = 'alert alert-success'>\n",
    "    \n",
    "Cette règle clé nous permet d’écrire des algorithmes simples qui traversent des arbres d’expression, les modifient, et  reconstruisent de nouvelles expressions.\n",
    "\n",
    "</div>"
   ]
  },
  {
   "cell_type": "markdown",
   "id": "9c8b6bff-81df-42d1-aa80-fb8ec6328441",
   "metadata": {},
   "source": [
    "### Traverser l’arbre\n",
    "\n",
    "Armés de ce savoir, regardons comment on peut itérer et traverser un arbre d’expression.\n",
    "\n",
    "La nature imbriquée des `.args` est parfaitement adaptée aux fonctions recurrentes.\n",
    "\n",
    "Le cas de base sera un `.args` vide. Écrivons une fonction qui traverse une expression et `print()` tous les `args` à chaque niveau."
   ]
  },
  {
   "cell_type": "code",
   "execution_count": null,
   "id": "ac912d6a-5a9a-4007-89ab-e376914f754d",
   "metadata": {},
   "outputs": [],
   "source": [
    "def pre(expr):\n",
    "    print(expr)\n",
    "    for arg in expr.args:\n",
    "        pre(arg) # appel à la fonction dans la fonction"
   ]
  },
  {
   "cell_type": "code",
   "execution_count": null,
   "id": "32eb1256-98ab-4759-8194-a2e72ff23d96",
   "metadata": {},
   "outputs": [],
   "source": [
    "expr = x*y + 1\n",
    "pre(expr)"
   ]
  },
  {
   "cell_type": "markdown",
   "id": "df13953c-d839-48a6-ad04-8268240dad80",
   "metadata": {},
   "source": [
    "Pouvez-vous deviner pourquoi nous avons appelé notre fonction `pre` ? \n",
    "\n",
    "Nous venons d’écrire une fonction qui traverse notre expression à l’endroit, `preorder` en anglais.\n",
    "\n",
    "Essayez de créer une fonction `post()` qui la traverse dans l’ordre inverse."
   ]
  },
  {
   "cell_type": "code",
   "execution_count": null,
   "id": "fadd084a-662c-4fc6-a5f1-70b6b0cf2fa2",
   "metadata": {},
   "outputs": [],
   "source": [
    "# à vous      "
   ]
  },
  {
   "cell_type": "markdown",
   "id": "23f83ab2-57ac-47e9-a45e-1cfc389bac55",
   "metadata": {},
   "source": [
    "Traverser une expression de la sorte est si commun dans `SymPy` que les fonctions `preorder_traversal()` et `postorder_traversal()` sont données pour rendre ces traversées plus simples. On aurait pu réécrire notre algorithme pour `pre()` ainsi :"
   ]
  },
  {
   "cell_type": "code",
   "execution_count": null,
   "id": "e69a118d-cd14-41d5-af0e-dad2f548efb9",
   "metadata": {},
   "outputs": [],
   "source": [
    "for arg in preorder_traversal(expr):\n",
    "    print(arg)"
   ]
  },
  {
   "cell_type": "markdown",
   "id": "4400c17b-5e7e-4523-b854-c70c00997eed",
   "metadata": {},
   "source": [
    "## Empêcher l’évaluation d’une expression\n",
    "\n",
    "Il y a 2 manières d’empêcher l’évaluation d’une expression :\n",
    "\n",
    "1. passer un argument `evaluate=False` quand vous construisez l’expression\n",
    "2. créer un stopper d’évaluation en entourant l’expression avec `UnevaluatedExpr`.\n",
    "\n",
    "Par exemple :"
   ]
  },
  {
   "cell_type": "code",
   "execution_count": null,
   "id": "d18a52b3-8e0a-40c1-a6c7-14bf60748ed8",
   "metadata": {},
   "outputs": [],
   "source": [
    "x + x"
   ]
  },
  {
   "cell_type": "code",
   "execution_count": null,
   "id": "d6e39aea-ecb6-40b1-ae37-5d910dab2148",
   "metadata": {},
   "outputs": [],
   "source": [
    "Add(x, x)"
   ]
  },
  {
   "cell_type": "code",
   "execution_count": null,
   "id": "196ad7fc-9c61-4499-926a-9caee0486c72",
   "metadata": {},
   "outputs": [],
   "source": [
    "Add(x, x, evaluate=False)"
   ]
  },
  {
   "cell_type": "markdown",
   "id": "ede67a54-3804-44cf-ae12-75e644849185",
   "metadata": {},
   "source": [
    "Si vous ne vous souvenez pas quelle classe correspond à l’expression que\n",
    "vous voulez construire, utilisez `sympify()` sur une string :"
   ]
  },
  {
   "cell_type": "code",
   "execution_count": null,
   "id": "c179a1ad-75a0-4860-980c-f48d012dfc4b",
   "metadata": {},
   "outputs": [],
   "source": [
    "sympify(\"x + x\", evaluate=False)"
   ]
  },
  {
   "cell_type": "markdown",
   "id": "09656a43-a026-4b04-99f9-6b1280407284",
   "metadata": {},
   "source": [
    "Notez que ce paramètre `evaluate=False` n’empêche pas l’évaluation d’expressions construites à partir de l’expression non-évaluée :"
   ]
  },
  {
   "cell_type": "code",
   "execution_count": null,
   "id": "04948274-84db-4b1a-b332-23df48228141",
   "metadata": {},
   "outputs": [],
   "source": [
    "expr = Add(x, x, evaluate=False)\n",
    "expr"
   ]
  },
  {
   "cell_type": "code",
   "execution_count": null,
   "id": "e9705ae6-92d2-43f9-bce1-3236fca48949",
   "metadata": {},
   "outputs": [],
   "source": [
    "expr + x"
   ]
  },
  {
   "cell_type": "markdown",
   "id": "4ef47b3d-8946-4ca3-ab8e-75086c16fb0b",
   "metadata": {},
   "source": [
    "C’est là que la classe `UnevaluatedExpr` entre en scène. `UnevaluatedExpr` est une classe qui vous permet de créer une expression qui restera non-évaluée. Par non-évaluée, comprenez que cette expression ne sera pas combinée à d’autres autour d’elle dans des simplifications.\n",
    "\n",
    "Exemple :"
   ]
  },
  {
   "cell_type": "code",
   "execution_count": null,
   "id": "8211c45a-b20b-4460-9433-6675af275420",
   "metadata": {},
   "outputs": [],
   "source": [
    "expr = x + UnevaluatedExpr(x)\n",
    "expr"
   ]
  },
  {
   "cell_type": "code",
   "execution_count": null,
   "id": "3a002a79-92c5-438e-9e81-bf27fade88ae",
   "metadata": {},
   "outputs": [],
   "source": [
    "x + expr"
   ]
  },
  {
   "cell_type": "markdown",
   "id": "8ef2002f-7203-4a21-b8a4-cb7796280df3",
   "metadata": {},
   "source": [
    "Le $x$ qui reste tout seul est celui qui est passé par `UnevaluatedExpr()`.\n",
    "\n",
    "Pour l’en libérer : `.doit()`"
   ]
  },
  {
   "cell_type": "code",
   "execution_count": null,
   "id": "190f28b0-2613-431e-8b5d-5e725a53efbf",
   "metadata": {},
   "outputs": [],
   "source": [
    "(x + expr).doit()"
   ]
  },
  {
   "cell_type": "markdown",
   "id": "14a6de86-4094-410f-96e2-b00906c2b4cd",
   "metadata": {},
   "source": [
    "Autres exemples :"
   ]
  },
  {
   "cell_type": "code",
   "execution_count": null,
   "id": "db1ff29a-2fde-4651-bb07-03b154839b59",
   "metadata": {},
   "outputs": [],
   "source": [
    "uexpr = UnevaluatedExpr(S.One*5/7)*UnevaluatedExpr(S.One*3/4)\n",
    "uexpr"
   ]
  },
  {
   "cell_type": "code",
   "execution_count": null,
   "id": "017e7ed4-4fea-4ac8-9b73-1773292fe76c",
   "metadata": {},
   "outputs": [],
   "source": [
    "x*UnevaluatedExpr(1/x)"
   ]
  },
  {
   "cell_type": "markdown",
   "id": "bd787333-670a-41f6-a4fe-c97d9d10d309",
   "metadata": {},
   "source": [
    "Notez bien que `UnevaluatedExpr` ne peut pas empêcher l’évaluation d’une expression qui est passée comme argument à une fonction."
   ]
  },
  {
   "cell_type": "code",
   "execution_count": null,
   "id": "392a4888-6c7e-4159-88e4-d98088cece0d",
   "metadata": {},
   "outputs": [],
   "source": [
    "expr1 = UnevaluatedExpr(x + x)\n",
    "expr1"
   ]
  },
  {
   "cell_type": "code",
   "execution_count": null,
   "id": "62e27fd1-2267-4d14-9e3b-612a8a460774",
   "metadata": {},
   "outputs": [],
   "source": [
    "expr2 = sympify('x + x', evaluate=False)\n",
    "expr2"
   ]
  },
  {
   "cell_type": "markdown",
   "id": "d00ff07c-acca-45e1-9d34-9c50f0cff1a5",
   "metadata": {},
   "source": [
    "Souvenez-vous que `expr2` sera évaluée si incluse dans une autre expression. \n",
    "\n",
    "Combinez les deux techniques pour empêcher l’évaluation interne et externe :"
   ]
  },
  {
   "cell_type": "code",
   "execution_count": null,
   "id": "c790a0aa-5807-4cf3-8caf-e8f48a7aabcf",
   "metadata": {},
   "outputs": [],
   "source": [
    "UnevaluatedExpr(sympify('x + x', evaluate=False)) + y"
   ]
  },
  {
   "cell_type": "markdown",
   "id": "9aa24eab-89f2-4338-b89c-bf8118294bb2",
   "metadata": {},
   "source": [
    "`UnevaluatedExpr` fonctionne avec les différents moteurs de rendu de `SymPy`, et peut être utilisée pour afficher le résultat sous différentes formes, par exemple en $LaTeX$ :"
   ]
  },
  {
   "cell_type": "code",
   "execution_count": null,
   "id": "4c3a32bf-ef4f-4016-995e-923546f32486",
   "metadata": {},
   "outputs": [],
   "source": [
    "uexpr = UnevaluatedExpr(S.One*5/7)*UnevaluatedExpr(S.One*3/4)\n",
    "\n",
    "print(latex(uexpr))"
   ]
  },
  {
   "cell_type": "markdown",
   "id": "1f5a4aa8-8e99-443d-ada7-9dc80139dedf",
   "metadata": {},
   "source": [
    "À nouveau, pour laisser l’expression s’évaluer, utilisez la méthode `.doit()` :"
   ]
  },
  {
   "cell_type": "code",
   "execution_count": null,
   "id": "c402f205-2e5d-4b5f-94cc-428b63d3494c",
   "metadata": {},
   "outputs": [],
   "source": [
    "print(latex(uexpr.doit()))"
   ]
  },
  {
   "cell_type": "markdown",
   "id": "b8008987-eb51-4c9d-be63-1edb523a9d9a",
   "metadata": {},
   "source": [
    "C’est la fin de cette série de notebooks sur `SymPy`.\n",
    "\n",
    "J’espère qu’ils vous ont été utiles."
   ]
  }
 ],
 "metadata": {
  "kernelspec": {
   "display_name": "Python 3 (ipykernel)",
   "language": "python",
   "name": "python3"
  },
  "language_info": {
   "codemirror_mode": {
    "name": "ipython",
    "version": 3
   },
   "file_extension": ".py",
   "mimetype": "text/x-python",
   "name": "python",
   "nbconvert_exporter": "python",
   "pygments_lexer": "ipython3",
   "version": "3.10.0rc1"
  },
  "toc": {
   "base_numbering": 1,
   "nav_menu": {},
   "number_sections": true,
   "sideBar": true,
   "skip_h1_title": true,
   "title_cell": "Table of Contents",
   "title_sidebar": "Contents",
   "toc_cell": false,
   "toc_position": {},
   "toc_section_display": true,
   "toc_window_display": true
  }
 },
 "nbformat": 4,
 "nbformat_minor": 5
}
