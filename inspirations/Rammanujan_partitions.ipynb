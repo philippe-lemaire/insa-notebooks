{
 "cells": [
  {
   "cell_type": "markdown",
   "id": "95f8655d-bfd2-4207-9f03-6cac44045436",
   "metadata": {},
   "source": [
    "# Calcul du nombre de partitions de n"
   ]
  },
  {
   "cell_type": "markdown",
   "id": "c78d3eba-86e4-4966-a734-7f60f71a69a1",
   "metadata": {},
   "source": [
    "## Calcul exact des partitions"
   ]
  },
  {
   "cell_type": "code",
   "execution_count": 25,
   "id": "3fb6ce31-925d-4a08-ba9c-81bbd847736d",
   "metadata": {},
   "outputs": [],
   "source": [
    "def partitions(n, I=1):\n",
    "    yield (n,)\n",
    "    for i in range(I, n//2 + 1):\n",
    "        for p in partitions(n-i, i):\n",
    "            yield (i,) + p"
   ]
  },
  {
   "cell_type": "code",
   "execution_count": 41,
   "id": "618b6b69-c446-4e08-8e5b-66203316102b",
   "metadata": {},
   "outputs": [
    {
     "data": {
      "text/plain": [
       "{(1, 1, 1, 1), (1, 1, 2), (1, 3), (2, 2), (4,)}"
      ]
     },
     "execution_count": 41,
     "metadata": {},
     "output_type": "execute_result"
    }
   ],
   "source": [
    "n = 4\n",
    "set(partitions(n))"
   ]
  },
  {
   "cell_type": "markdown",
   "id": "ca61b58e-415f-4947-a52a-7b36b65310ef",
   "metadata": {},
   "source": [
    "## Calcul approché par la formule de Ramanujan et Hardy"
   ]
  },
  {
   "cell_type": "code",
   "execution_count": 3,
   "id": "7f6780c6-58e5-4205-8bb6-a4748615000e",
   "metadata": {},
   "outputs": [],
   "source": [
    "import numpy as np"
   ]
  },
  {
   "cell_type": "code",
   "execution_count": 42,
   "id": "f49f765a-0571-4d38-beb5-45431b85e4c7",
   "metadata": {},
   "outputs": [],
   "source": [
    "def rama_hardy_p(n):\n",
    "    return int(1/(4*n*np.sqrt(3)) * np.exp(np.pi*np.sqrt(2*n/3)))"
   ]
  },
  {
   "cell_type": "code",
   "execution_count": 43,
   "id": "18ab70b4-d7a8-4a26-9ae6-a1e1bb330d10",
   "metadata": {},
   "outputs": [
    {
     "data": {
      "text/plain": [
       "217590"
      ]
     },
     "execution_count": 43,
     "metadata": {},
     "output_type": "execute_result"
    }
   ],
   "source": [
    "rama_hardy_p(50)"
   ]
  },
  {
   "cell_type": "code",
   "execution_count": 44,
   "id": "229756e3-d383-4d95-a318-e2a8845ea009",
   "metadata": {},
   "outputs": [
    {
     "data": {
      "text/plain": [
       "6"
      ]
     },
     "execution_count": 44,
     "metadata": {},
     "output_type": "execute_result"
    }
   ],
   "source": [
    "rama_hardy_p(4)"
   ]
  },
  {
   "cell_type": "markdown",
   "id": "ea10d34b-8a6e-4c78-a88e-c160a5948083",
   "metadata": {},
   "source": [
    "L'approximation de Ramanujan et Hardy n'est pas très précise pour un petit n, mais elle est asymptotique : elle est de plus en plus proche de la bonne valeur quand n grandit."
   ]
  },
  {
   "cell_type": "code",
   "execution_count": 47,
   "id": "dc8db2e6-a90f-43df-88ad-35d094e308cc",
   "metadata": {},
   "outputs": [],
   "source": [
    "n = 40"
   ]
  },
  {
   "cell_type": "code",
   "execution_count": 48,
   "id": "e66cac58-3b78-4422-a825-739a2c918e6a",
   "metadata": {},
   "outputs": [
    {
     "data": {
      "text/plain": [
       "37338"
      ]
     },
     "execution_count": 48,
     "metadata": {},
     "output_type": "execute_result"
    }
   ],
   "source": [
    "len(set(partitions(n)))"
   ]
  },
  {
   "cell_type": "code",
   "execution_count": 49,
   "id": "ef63f7fd-309f-430f-8d28-6302dd267b74",
   "metadata": {},
   "outputs": [
    {
     "data": {
      "text/plain": [
       "40080"
      ]
     },
     "execution_count": 49,
     "metadata": {},
     "output_type": "execute_result"
    }
   ],
   "source": [
    "rama_hardy_p(n)"
   ]
  },
  {
   "cell_type": "code",
   "execution_count": 50,
   "id": "501c4274-fbb4-40f4-94ab-884ef7463b7e",
   "metadata": {},
   "outputs": [
    {
     "data": {
      "text/plain": [
       "204226"
      ]
     },
     "execution_count": 50,
     "metadata": {},
     "output_type": "execute_result"
    }
   ],
   "source": [
    "n = 50\n",
    "len(set(partitions(n)))"
   ]
  },
  {
   "cell_type": "code",
   "execution_count": 51,
   "id": "3c44d54a-99e7-46f0-a75d-29b16a091f51",
   "metadata": {},
   "outputs": [
    {
     "data": {
      "text/plain": [
       "217590"
      ]
     },
     "execution_count": 51,
     "metadata": {},
     "output_type": "execute_result"
    }
   ],
   "source": [
    "rama_hardy_p(n)"
   ]
  },
  {
   "cell_type": "code",
   "execution_count": 84,
   "id": "b0964093-abc7-483c-9835-cd6155c68d67",
   "metadata": {},
   "outputs": [],
   "source": [
    "n = 70"
   ]
  },
  {
   "cell_type": "code",
   "execution_count": 85,
   "id": "958290d9-f662-42ca-9297-65b7f205fdc6",
   "metadata": {},
   "outputs": [
    {
     "data": {
      "text/plain": [
       "4087968"
      ]
     },
     "execution_count": 85,
     "metadata": {},
     "output_type": "execute_result"
    }
   ],
   "source": [
    "reel = len(set(partitions(n)))\n",
    "reel"
   ]
  },
  {
   "cell_type": "code",
   "execution_count": 86,
   "id": "a04e27de-efbb-497f-8831-602c8b7e2b2e",
   "metadata": {},
   "outputs": [
    {
     "data": {
      "text/plain": [
       "4312669"
      ]
     },
     "execution_count": 86,
     "metadata": {},
     "output_type": "execute_result"
    }
   ],
   "source": [
    "approx = rama_hardy_p(n)\n",
    "approx"
   ]
  },
  {
   "cell_type": "code",
   "execution_count": 87,
   "id": "7797498d-fdaf-4255-babf-c623d4d7ee7b",
   "metadata": {},
   "outputs": [
    {
     "data": {
      "text/plain": [
       "5.496642830863647"
      ]
     },
     "execution_count": 87,
     "metadata": {},
     "output_type": "execute_result"
    }
   ],
   "source": [
    "ecart = abs(approx-reel)/reel\n",
    "ecart * 100"
   ]
  },
  {
   "cell_type": "code",
   "execution_count": null,
   "id": "894b686a-9ba4-42e1-a781-f4e6036f9152",
   "metadata": {},
   "outputs": [],
   "source": []
  }
 ],
 "metadata": {
  "kernelspec": {
   "display_name": "Python 3 (ipykernel)",
   "language": "python",
   "name": "python3"
  },
  "language_info": {
   "codemirror_mode": {
    "name": "ipython",
    "version": 3
   },
   "file_extension": ".py",
   "mimetype": "text/x-python",
   "name": "python",
   "nbconvert_exporter": "python",
   "pygments_lexer": "ipython3",
   "version": "3.10.0rc1"
  }
 },
 "nbformat": 4,
 "nbformat_minor": 5
}
