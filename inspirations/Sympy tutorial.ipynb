{
 "cells": [
  {
   "cell_type": "markdown",
   "id": "5b3d6869",
   "metadata": {},
   "source": [
    "# Tutoriel Sympy"
   ]
  },
  {
   "cell_type": "markdown",
   "id": "9ab8035b",
   "metadata": {},
   "source": [
    "## What is Symbolic Computation?"
   ]
  },
  {
   "cell_type": "markdown",
   "id": "ef1aecd2",
   "metadata": {},
   "source": [
    "Symbolic computation deals with the computation of mathematical objects symbolically. This means that the mathematical objects are represented exactly, not approximately, and mathematical expressions with unevaluated variables are left in symbolic form.\n",
    "\n",
    "Let’s take an example. Say we wanted to use the built-in Python functions to compute square roots. We might do something like this\n",
    "\n"
   ]
  },
  {
   "cell_type": "code",
   "execution_count": null,
   "id": "fc9aa40e",
   "metadata": {},
   "outputs": [],
   "source": [
    "import math\n",
    "math.sqrt(9)"
   ]
  },
  {
   "cell_type": "markdown",
   "id": "c5dc957f",
   "metadata": {},
   "source": [
    "9 is a perfect square, so we got the exact answer, 3. But suppose we computed the square root of a number that isn’t a perfect square\n"
   ]
  },
  {
   "cell_type": "code",
   "execution_count": null,
   "id": "a6b9fb18",
   "metadata": {},
   "outputs": [],
   "source": [
    "math.sqrt(8)\n",
    "2.82842712475"
   ]
  },
  {
   "cell_type": "markdown",
   "id": "aa3338eb",
   "metadata": {},
   "source": [
    "Here we got an approximate result. 2.82842712475 is not the exact square root of 8 (indeed, the actual square root of 8 cannot be represented by a finite decimal, since it is an irrational number). If all we cared about was the decimal form of the square root of 8, we would be done.\n",
    "\n",
    "But suppose we want to go further. Recall that $(\\sqrt{8} = \\sqrt{4\\cdot 2} = 2\\sqrt{2})$. We would have a hard time deducing this from the above result. This is where symbolic computation comes in. With a symbolic computation system like SymPy, square roots of numbers that are not perfect squares are left unevaluated by default\n"
   ]
  },
  {
   "cell_type": "code",
   "execution_count": null,
   "id": "72817c5a",
   "metadata": {},
   "outputs": [],
   "source": [
    "import sympy\n",
    "sympy.sqrt(3)"
   ]
  },
  {
   "cell_type": "markdown",
   "id": "2a66f9d7",
   "metadata": {},
   "source": [
    "Furthermore—and this is where we start to see the real power of symbolic computation—symbolic results can be symbolically simplified.\n"
   ]
  },
  {
   "cell_type": "code",
   "execution_count": null,
   "id": "5fd756b7",
   "metadata": {},
   "outputs": [],
   "source": [
    "sympy.sqrt(8) # appeler l'expression directement donne une représentation symbolique dans le notebook"
   ]
  },
  {
   "cell_type": "code",
   "execution_count": null,
   "id": "5ed2b8e2",
   "metadata": {},
   "outputs": [],
   "source": [
    "print(sympy.sqrt(8)) # print() de la même expression donne une représentation \"pythonique\" qui peut être réutilisée"
   ]
  },
  {
   "cell_type": "markdown",
   "id": "10d35110",
   "metadata": {},
   "source": [
    "## A More Interesting Example"
   ]
  },
  {
   "cell_type": "markdown",
   "id": "f4990939",
   "metadata": {},
   "source": [
    "The above example starts to show how we can manipulate irrational numbers exactly using `SymPy`. But it is much more powerful than that. Symbolic computation systems (which by the way, are also often called computer algebra systems, or just CASs) such as `SymPy` are capable of computing symbolic expressions with variables.\n",
    "\n",
    "As we will see later, in `SymPy`, variables are defined using symbols. Unlike many symbolic manipulation systems, variables in `SymPy` must be defined before they are used (the reason for this will be discussed in the next section).\n",
    "\n",
    "Let us define a symbolic expression, representing the mathematical expression $(x + 2y)$."
   ]
  },
  {
   "cell_type": "code",
   "execution_count": null,
   "id": "af869e4e",
   "metadata": {},
   "outputs": [],
   "source": [
    "from sympy import symbols\n",
    "x, y = symbols('x y')\n",
    "expr = x + 2*y\n",
    "expr"
   ]
  },
  {
   "cell_type": "markdown",
   "id": "338a2f3b",
   "metadata": {},
   "source": [
    "Note that we wrote `x + 2*y` just as we would if `x` and `y` were ordinary Python variables. But in this case, instead of evaluating to something, the expression remains as just `x + 2*y`. Now let us play around with it:"
   ]
  },
  {
   "cell_type": "code",
   "execution_count": null,
   "id": "5cc1d221",
   "metadata": {},
   "outputs": [],
   "source": [
    "expr + 1"
   ]
  },
  {
   "cell_type": "code",
   "execution_count": null,
   "id": "27867516",
   "metadata": {},
   "outputs": [],
   "source": [
    "expr - x"
   ]
  },
  {
   "cell_type": "markdown",
   "id": "e780a240",
   "metadata": {},
   "source": [
    "Notice something in the above example. When we typed `expr - x`, we did not get `x + 2*y - x`, but rather just `2y`. The `x` and the `-x` automatically canceled one another. This is similar to how `sqrt(8)` automatically turned into `2*sqrt(2)` above. This isn’t always the case in `SymPy`, however:"
   ]
  },
  {
   "cell_type": "code",
   "execution_count": null,
   "id": "3b7d34aa",
   "metadata": {},
   "outputs": [],
   "source": [
    "x*expr"
   ]
  },
  {
   "cell_type": "markdown",
   "id": "aaaaaf1b",
   "metadata": {},
   "source": [
    "Here, we might have expected $(x(x + 2y))$ to transform into $(x^2 + 2xy)$, but instead we see that the expression was left alone. This is a common theme in SymPy. Aside from obvious simplifications like $(x - x = 0)$ and $(\\sqrt{8} = 2\\sqrt{2})$, most simplifications are not performed automatically. This is because we might prefer the factored form $(x(x + 2y))$, or we might prefer the expanded form $(x^2 + 2xy)$. Both forms are useful in different circumstances. In SymPy, there are functions to go from one form to the other.\n"
   ]
  },
  {
   "cell_type": "code",
   "execution_count": null,
   "id": "8ca78f58",
   "metadata": {},
   "outputs": [],
   "source": [
    "from sympy import expand, factor\n",
    "\n",
    "expanded_expr = expand(x * expr)\n",
    "expanded_expr"
   ]
  },
  {
   "cell_type": "code",
   "execution_count": null,
   "id": "18140e8c",
   "metadata": {},
   "outputs": [],
   "source": [
    "factor(expanded_expr)"
   ]
  },
  {
   "cell_type": "markdown",
   "id": "fb8428f6",
   "metadata": {},
   "source": [
    "## The Power of Symbolic Computation\n",
    "\n",
    "The real power of a symbolic computation system such as `SymPy` is the ability to do all sorts of computations symbolically. `SymPy` can compute derivatives, integrals, and limits, solve equations, work with matrices, and much, much more, and do it all symbolically. It includes modules for plotting, printing (like 2D pretty printed output of math formulas, or $\\LaTeX$, code generation, physics, statistics, combinatorics, number theory, geometry, logic, and more. Here is a small sampling of the sort of symbolic power `SymPy` is capable of, to whet your appetite."
   ]
  },
  {
   "cell_type": "code",
   "execution_count": null,
   "id": "90e72969",
   "metadata": {},
   "outputs": [],
   "source": [
    "from sympy import *\n",
    "x, t, z, nu = symbols('x t z nu')"
   ]
  },
  {
   "cell_type": "markdown",
   "id": "57587940",
   "metadata": {},
   "source": [
    "- This will make all further example pretty print with unicode characters."
   ]
  },
  {
   "cell_type": "code",
   "execution_count": null,
   "id": "8f3066af",
   "metadata": {},
   "outputs": [],
   "source": [
    "init_printing(use_unicode=True)"
   ]
  },
  {
   "cell_type": "markdown",
   "id": "3acf67ab",
   "metadata": {},
   "source": [
    "- Take the derivative of $\\sin{(x)}e^x$."
   ]
  },
  {
   "cell_type": "code",
   "execution_count": null,
   "id": "e74ccc18",
   "metadata": {},
   "outputs": [],
   "source": [
    "diff(sin(x)*exp(x), x)"
   ]
  },
  {
   "cell_type": "markdown",
   "id": "9d44b7c9",
   "metadata": {},
   "source": [
    "- Compute $\\int(e^x\\sin{(x)} + e^x\\cos{(x)}),dx)$."
   ]
  },
  {
   "cell_type": "code",
   "execution_count": null,
   "id": "bcafb9d6",
   "metadata": {},
   "outputs": [],
   "source": [
    "integrate(exp(x)*sin(x) + exp(x)*cos(x), x)"
   ]
  },
  {
   "cell_type": "markdown",
   "id": "bd5cf054",
   "metadata": {},
   "source": [
    "Compute $(\\int_{-\\infty}^\\infty \\sin{(x^2)}\\,dx)$."
   ]
  },
  {
   "cell_type": "code",
   "execution_count": null,
   "id": "69176e92",
   "metadata": {},
   "outputs": [],
   "source": [
    "integrate(sin(x**2), (x, -oo, oo))"
   ]
  },
  {
   "cell_type": "markdown",
   "id": "ecfbbad2",
   "metadata": {},
   "source": [
    "- Find $(\\lim_{x\\to 0}\\frac{\\sin{(x)}}{x})$."
   ]
  },
  {
   "cell_type": "code",
   "execution_count": null,
   "id": "14c9800c",
   "metadata": {},
   "outputs": [],
   "source": [
    "limit(sin(x)/x, x, 0)"
   ]
  },
  {
   "cell_type": "markdown",
   "id": "aaff4b13",
   "metadata": {},
   "source": [
    "- Solve $(x^2 - 2 = 0)$"
   ]
  },
  {
   "cell_type": "code",
   "execution_count": null,
   "id": "4476e0ce",
   "metadata": {},
   "outputs": [],
   "source": [
    "solve(x**2 - 2, x)"
   ]
  },
  {
   "cell_type": "markdown",
   "id": "0f413224",
   "metadata": {},
   "source": [
    "- Solve the differential equation $y'' - y = e^t$."
   ]
  },
  {
   "cell_type": "code",
   "execution_count": null,
   "id": "e729bc71",
   "metadata": {},
   "outputs": [],
   "source": [
    "y = Function('y')\n",
    "dsolve(Eq(y(t).diff(t, t) - y(t), exp(t)), y(t))"
   ]
  },
  {
   "cell_type": "markdown",
   "id": "4a225597",
   "metadata": {},
   "source": [
    "- Find the eigenvalues of $\\left[\\begin{smallmatrix}1 & 2\\\\2 & 2\\end{smallmatrix}\\right]$."
   ]
  },
  {
   "cell_type": "code",
   "execution_count": null,
   "id": "39871318",
   "metadata": {},
   "outputs": [],
   "source": [
    "Matrix([[1, 2], [2, 2]]).eigenvals()"
   ]
  },
  {
   "cell_type": "markdown",
   "id": "7b61e980",
   "metadata": {},
   "source": [
    "- Rewrite the Bessel function $J_{\\nu}\\left(z\\right)$ in terms of the spherical Bessel function $j_\\nu(z)$."
   ]
  },
  {
   "cell_type": "code",
   "execution_count": null,
   "id": "019dd19a",
   "metadata": {},
   "outputs": [],
   "source": [
    "besselj(nu, z).rewrite(jn)"
   ]
  },
  {
   "cell_type": "markdown",
   "id": "fe23bc3f",
   "metadata": {},
   "source": [
    "- Print $(\\int_{0}^{\\pi} \\cos^{2}{\\left (x \\right )}, dx)$ using $\\LaTeX$."
   ]
  },
  {
   "cell_type": "code",
   "execution_count": null,
   "id": "a268e117",
   "metadata": {},
   "outputs": [],
   "source": [
    "print(latex(Integral(cos(x)**2, (x, 0, pi))))"
   ]
  },
  {
   "cell_type": "markdown",
   "id": "392a66d1",
   "metadata": {},
   "source": [
    "Dans une cellule notebook il suffit d'encadrer les formules $\\LaTeX$ par des $.\n",
    "\n",
    "$\\int\\limits_{0}^{\\pi} \\cos^{2}{\\left(x \\right)}\\, dx$"
   ]
  },
  {
   "cell_type": "markdown",
   "id": "77c56cc4",
   "metadata": {},
   "source": [
    "## Why SymPy?"
   ]
  },
  {
   "cell_type": "markdown",
   "id": "1c354004",
   "metadata": {},
   "source": [
    "There are many computer algebra systems out there. [This Wikipedia article](http://en.wikipedia.org/wiki/List_of_computer_algebra_systems) lists many of them. What makes `SymPy` a better choice than the alternatives?\n",
    "\n",
    "First off, `SymPy` is completely free. It is open source, and licensed under the liberal BSD license, so you can even modify the source code and sell if you want to. This contrasts with popular commercial systems like Maple or Mathematica that cost hundreds of dollars in licenses.\n",
    "\n",
    "Second, `SymPy` uses Python. Most computer algebra systems invent their own language. Not `SymPy`. `SymPy` is written entirely in Python, and is executed entirely in Python. This means that if you already know Python, it is much easier to get started with `SymPy`, because you already know the syntax (and if you don’t know Python, it is really easy to learn). Plus, we already know that Python is a well-designed, battle-tested language. The `SymPy` developers are confident in their abilities in writing mathematical software, but inventing a whole new programming language is a completely different thing. By reusing an existing language, we are able to focus on those things that matter, the mathematics.\n",
    "\n",
    "Another computer algebra system, Sage also uses Python as its language. But Sage is large, with a download of over a gigabyte. An advantage of `SymPy` is that it is lightweight. In addition to being relatively small, it has no dependencies other than Python, so it can be used almost anywhere easily. Furthermore, the goals of Sage and the goals of `SymPy` are different. Sage aims to be a full featured system for mathematics, and aims to do so by compiling all the major open source mathematical systems together into one. When you call some function in Sage, such as integrate, it calls out to one of the open source packages that it includes. In fact, `SymPy` is included in Sage. `SymPy` on the other hand aims to be an independent system, with all the features implemented in `SymPy` itself.\n",
    "\n",
    "A final important feature of `SymPy` is that it can be used as a library. Many computer algebra systems focus on being usable in interactive environments, but if you wish to automate or extend them, it is difficult to do. With `SymPy`, you can just as easily use it in an interactive Python environment or import it in your own Python application. `SymPy` also provides APIs to make it easy to extend it with your own custom functions."
   ]
  },
  {
   "cell_type": "markdown",
   "id": "8616c9e0",
   "metadata": {},
   "source": [
    "## Comment transformer une expression sympy en une fonction python"
   ]
  },
  {
   "cell_type": "code",
   "execution_count": null,
   "id": "34c26391",
   "metadata": {
    "ExecuteTime": {
     "end_time": "2022-02-02T10:03:06.396582Z",
     "start_time": "2022-02-02T10:03:05.647553Z"
    }
   },
   "outputs": [],
   "source": [
    "from sympy import sin, cos, symbols, lambdify\n",
    "\n",
    "import numpy as np\n",
    "\n",
    "x = symbols('x')\n",
    "\n",
    "expr = sin(x) + cos(x)\n",
    "expr"
   ]
  },
  {
   "cell_type": "code",
   "execution_count": null,
   "id": "eeef295f",
   "metadata": {
    "ExecuteTime": {
     "end_time": "2022-02-02T10:03:06.410061Z",
     "start_time": "2022-02-02T10:03:06.398095Z"
    }
   },
   "outputs": [],
   "source": [
    "f = lambdify(x, expr, 'numpy')\n",
    "\n",
    "a = np.array([1, 2])\n",
    "\n",
    "f(a)\n"
   ]
  },
  {
   "cell_type": "code",
   "execution_count": null,
   "id": "0e89108d",
   "metadata": {
    "ExecuteTime": {
     "end_time": "2022-02-02T10:03:28.669370Z",
     "start_time": "2022-02-02T10:03:28.656960Z"
    }
   },
   "outputs": [],
   "source": [
    "f(np.pi)"
   ]
  },
  {
   "cell_type": "code",
   "execution_count": null,
   "id": "445472ab",
   "metadata": {},
   "outputs": [],
   "source": []
  }
 ],
 "metadata": {
  "kernelspec": {
   "display_name": "Python 3 (ipykernel)",
   "language": "python",
   "name": "python3"
  },
  "language_info": {
   "codemirror_mode": {
    "name": "ipython",
    "version": 3
   },
   "file_extension": ".py",
   "mimetype": "text/x-python",
   "name": "python",
   "nbconvert_exporter": "python",
   "pygments_lexer": "ipython3",
   "version": "3.10.0rc1"
  },
  "toc": {
   "base_numbering": 1,
   "nav_menu": {},
   "number_sections": true,
   "sideBar": true,
   "skip_h1_title": true,
   "title_cell": "Table of Contents",
   "title_sidebar": "Contents",
   "toc_cell": false,
   "toc_position": {},
   "toc_section_display": true,
   "toc_window_display": true
  }
 },
 "nbformat": 4,
 "nbformat_minor": 5
}
