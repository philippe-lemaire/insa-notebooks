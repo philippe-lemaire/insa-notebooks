{
 "cells": [
  {
   "cell_type": "markdown",
   "id": "bb9a0fa6-b0eb-4f38-86ef-50dce42f9d80",
   "metadata": {},
   "source": [
    "# Puzzles probabilistes\n",
    "\n",
    "Ce notebook présente des petits puzzles basés sur les probabilités, qui sont parfois contre intuitives.\n",
    "\n",
    "## Le Problème de Mounty Hall\n",
    "\n",
    "<img width=50% src='https://upload.wikimedia.org/wikipedia/commons/thumb/3/3f/Monty_open_door.svg/1920px-Monty_open_door.svg.png'/>\n",
    "\n",
    "Dans le jeu télévisé **Let's Make Deal**, le présentateur Mounty Hall vous présente 3 portes.\n",
    "\n",
    "Derrière une des portes, il y a le gros lot. Derrière chacune des 2 autres, il y a une chèvre.\n",
    "\n",
    "Le jeu se déroule toujours ainsi :\n",
    "\n",
    "1. Vous choisissez une des 3 portes.\n",
    "2. Mounty Hall vous révèle une chèvre derrière une des portes non-choisies.\n",
    "3. Mounty Hall vous propose de changer votre choix. Vous acceptez, ou refusez.\n",
    "4. Vous gagnez si vous avez choisi la porte qui mène au gros lot.\n",
    "\n",
    "### La question est : avez-vous intérêt à changer votre choix ?\n",
    "\n",
    "Intuitivement, on ressent que lorsqu'on nous propose de changer notre choix initial, il reste 2 portes, et que donc c'est du 50 / 50.\n",
    "Mais faisons une expérience répétée plusieurs fois pour voir comment on s'en sort lorsqu'on ne change pas de porte, et lorsqu'on change systématiquement son choix."
   ]
  },
  {
   "cell_type": "code",
   "execution_count": null,
   "id": "eff5b45c-5f01-4100-8b5f-1b5d4f446a8b",
   "metadata": {},
   "outputs": [],
   "source": [
    "import random"
   ]
  },
  {
   "cell_type": "code",
   "execution_count": null,
   "id": "25df6c69-389f-4b21-b3b3-542a8be7e964",
   "metadata": {},
   "outputs": [],
   "source": [
    "# création des trois portes\n",
    "doors = [\"chèvre\", \"chèvre\", \"gros lot\"]\n",
    "\n",
    "# mélange des portes\n",
    "random.shuffle(doors)\n",
    "\n",
    "# enregistrement du choix initial du joueur\n",
    "choice= None\n",
    "while choice not in range(3):\n",
    "    choice = input('Choisissez une porte, 1, 2 ou 3\\n')\n",
    "    try: # on essaie de convertir le résultat d'input en nombre. Si l'input n'est pas un chiffre, on aura une ValueError\n",
    "        choice = int(choice) - 1 # on stocke le choix donné -1 car on va s'en servir comme indice, et les indices commencent à 0\n",
    "    except ValueError: \n",
    "        choice = None\n",
    "\n",
    "# on va révéler une chèvre dans les portes non choisies.\n",
    "for i in range(3):\n",
    "    if i != choice and doors[i] == 'chèvre':\n",
    "        print(f\"Vous avez choisi la porte {choice + 1} et derrière la porte {i + 1}, il y avait une chèvre !\")\n",
    "        revealed_door = i\n",
    "        break # on ne révèle qu'une chèvre\n",
    "\n",
    "# enregistrement du choix de changer de porte ou non\n",
    "switch = None\n",
    "while switch not in ['O', 'N']:\n",
    "    switch = input('Voulez-vous changer de porte ?\\n [O]ui, [N]on')\n",
    "\n",
    "\n",
    "# On fait le switch, ou pas\n",
    "if switch == 'O':\n",
    "    choice = ({0, 1, 2} - {choice, revealed_door}).pop() \n",
    "    # pour choisir la porte vers laquelle changer, on fait la différence entre l’ensemble des portes \n",
    "    # et l'ensemble contenant la porte initialement choisie et celle révélée (qui est tjs perdante)\n",
    "\n",
    "## Conclusion du jeu\n",
    "\n",
    "if doors[choice] != 'chèvre':\n",
    "    print(f\"Félicitations, vous avez gagné {doors[choice]} !\")\n",
    "else:\n",
    "    print(\"Perdu !\")"
   ]
  },
  {
   "cell_type": "markdown",
   "id": "a9507351-b90c-4aca-b05d-291c0aae9e44",
   "metadata": {},
   "source": [
    "---\n",
    "Maintenant que nous avons établi comment réaliser les choix et déterminer si l'on a gagné ou pas, refactorisons ça en une fonction simple qui automatise le choix initial qui nous dit si on a gagné ou pas."
   ]
  },
  {
   "cell_type": "code",
   "execution_count": null,
   "id": "7fcc1ae2-e89a-42d2-a87b-646eba8c80f1",
   "metadata": {},
   "outputs": [],
   "source": [
    "def mounty_hall_game(switch=False):\n",
    "    \"\"\"Joue au jeu automatiquement et renvoie True si le jeu est gagné, False s'il est perdu.\"\"\"\n",
    "    # création des trois portes\n",
    "    doors = [\"chèvre\", \"chèvre\", \"gros lot\"]\n",
    "\n",
    "    # mélange des portes\n",
    "    random.shuffle(doors)\n",
    "\n",
    "    # enregistrement du choix initial, aléatoire\n",
    "    choice= random.randint(0, 2)\n",
    "\n",
    "\n",
    "    # on va révéler une chèvre dans les portes non choisies.\n",
    "    for i in range(3):\n",
    "        if i != choice and doors[i] == 'chèvre':\n",
    "            #print(f\"Vous avez choisi la porte {choice + 1} et derrière la porte {i + 1}, il y avait une chèvre !\")\n",
    "            revealed_door = i\n",
    "            break # on ne révèle qu'une chèvre\n",
    "\n",
    "   # le switch est devenu un paramètre de la fonction\n",
    "\n",
    "    # On fait le switch, ou pas\n",
    "    if switch:\n",
    "        choice = ({0, 1, 2} - {choice, revealed_door}).pop() \n",
    "        # pour choisir la porte vers laquelle changer, on fait la différence entre l’ensemble des portes \n",
    "        # et l'ensemble contenant la porte initialement choisie et celle révélée (qui est tjs perdante)\n",
    "\n",
    "    ## Conclusion du jeu\n",
    "\n",
    "    return doors[choice] != 'chèvre'"
   ]
  },
  {
   "cell_type": "code",
   "execution_count": null,
   "id": "0fc628db-22b7-425a-8e10-de1129faf2f1",
   "metadata": {},
   "outputs": [],
   "source": [
    "# simple test de la fonction\n",
    "mounty_hall_game()"
   ]
  },
  {
   "cell_type": "code",
   "execution_count": null,
   "id": "24fe7062-b1e3-40db-8ad8-a4d0380e9f83",
   "metadata": {},
   "outputs": [],
   "source": [
    "# autre test, avec le switch activé\n",
    "mounty_hall_game(switch=True)"
   ]
  },
  {
   "cell_type": "markdown",
   "id": "4b0f74ae-fbb0-4112-b42c-d85eb32d07b4",
   "metadata": {},
   "source": [
    "---\n",
    "Maintenant faisons une autre fonction qui répète la petite fonction de jeu n fois, et comptabilise le taux de succès."
   ]
  },
  {
   "cell_type": "code",
   "execution_count": null,
   "id": "b895f9a3-f44a-47f9-9c6e-e6ba4713180f",
   "metadata": {},
   "outputs": [],
   "source": [
    "def repeated_games(games, switch=False):\n",
    "    \"\"\"répète le jeu games fois, et renvoie le taux de succès. si switch est True, on change de porte à chaque fois, sinon on ne change pas de porte\"\"\"\n",
    "    results = []\n",
    "    for game in range(games):\n",
    "        results.append(mounty_hall_game(switch=switch))\n",
    "    successes = sum(results) # True = 1, False = 0\n",
    "    return f\"Taux de succès = {100*successes/games}%.\""
   ]
  },
  {
   "cell_type": "code",
   "execution_count": null,
   "id": "c9daa5cb-53cf-4b1b-876c-56e44b8e568f",
   "metadata": {},
   "outputs": [],
   "source": [
    "games = 10000\n",
    "\n",
    "print(f\"Sans changer de porte : {repeated_games(games)}\")\n",
    "\n",
    "print(f\"En changeant de porte : {repeated_games(games, switch=True)}\")"
   ]
  },
  {
   "cell_type": "markdown",
   "id": "3f2cc471-1536-48a1-bb76-cb8b5e8ecd7c",
   "metadata": {},
   "source": [
    "### Conclusion\n",
    "\n",
    "Changer de porte est la bonne stratégie. En effet, quand on choisi notre porte au début du jeu, on a une chance sur 3 d'avoir visé juste, et donc 2 chances sur 3 que le gros lot soit derrière l'une des deux autres portes.\n",
    "\n",
    "Quand le présentateur nous révèle une chèvre, ça ne change rien au fait qu’il y a 2 chances sur 3 qu'on ait choisi une mauvaise porte au départ. En changeant de porte, on a donc deux chances sur 3 de tomber sur le gros lot, même si on a l'impression que c'est 50 / 50 à ce stade du jeu."
   ]
  },
  {
   "cell_type": "markdown",
   "id": "5771a9f7-6f5f-47b3-aca1-f2e8e7d01d32",
   "metadata": {},
   "source": [
    "## Le paradoxe de la boule rouge\n",
    "\n",
    "Ce puzzle a été inventé par Lewis Caroll, le père d'Alice et du Lapin Blanc.\n",
    "\n",
    "<img width=40% src='https://upload.wikimedia.org/wikipedia/commons/a/ad/Lewis_Carroll_Self_Portrait_1856_circa.jpg' />\n",
    "\n",
    "Imaginez que j'ai un sac opaque. Dans ce sac, il y a une boule, qui peut être soit rouge, soit verte, avec une probabilité de 0.5 pour chaque couleur.\n",
    "\n",
    "J'introduis une deuxième boule dans le sac, qui est rouge.\n",
    "\n",
    "Puis je mélange les boules dans le sac et en retire une au hasard, **qui s'avère être rouge.**\n",
    "\n",
    "### Quelle est la probabilité que la boule restante dans le sac soit rouge ?\n",
    "\n"
   ]
  },
  {
   "cell_type": "code",
   "execution_count": null,
   "id": "4aca9e23-f3b5-429f-a1f0-576ea54d7cac",
   "metadata": {},
   "outputs": [],
   "source": [
    "import random"
   ]
  },
  {
   "cell_type": "code",
   "execution_count": null,
   "id": "7fd4aaa0-2199-457b-a6b6-8c6356325ce9",
   "metadata": {},
   "outputs": [],
   "source": [
    "bag = [random.choice(['green', 'red'])]\n",
    "bag"
   ]
  },
  {
   "cell_type": "code",
   "execution_count": null,
   "id": "483237f1-d7bd-4a90-8755-008c62418c48",
   "metadata": {},
   "outputs": [],
   "source": [
    "n = 1000\n",
    "res = []\n",
    "\n",
    "for game in range(n):\n",
    "    bag = [random.choice(['green', 'red'])]\n",
    "    bag.append('red')\n",
    "    random.shuffle(bag)\n",
    "    i = random.randint(0,1)\n",
    "    out = bag.pop(i)\n",
    "    if out == 'red': # la clé est là, on ne considère que ces événements, où la boule sortie était rouge.\n",
    "        res.append(bag[0])\n",
    "    \n",
    "res.count('red') / len(res)"
   ]
  },
  {
   "cell_type": "code",
   "execution_count": null,
   "id": "a7f66386-4ae4-4c63-9b2f-c00fbf1b4af1",
   "metadata": {},
   "outputs": [],
   "source": []
  }
 ],
 "metadata": {
  "kernelspec": {
   "display_name": "Python 3 (ipykernel)",
   "language": "python",
   "name": "python3"
  },
  "language_info": {
   "codemirror_mode": {
    "name": "ipython",
    "version": 3
   },
   "file_extension": ".py",
   "mimetype": "text/x-python",
   "name": "python",
   "nbconvert_exporter": "python",
   "pygments_lexer": "ipython3",
   "version": "3.10.0rc1"
  }
 },
 "nbformat": 4,
 "nbformat_minor": 5
}
