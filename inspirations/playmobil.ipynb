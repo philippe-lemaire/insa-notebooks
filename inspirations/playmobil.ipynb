{
 "cells": [
  {
   "cell_type": "markdown",
   "id": "2e883a3b",
   "metadata": {},
   "source": [
    "# Activité playmobil\n",
    "\n",
    "23/03/2022 (Francis Calmon, débutant python !)\n",
    " "
   ]
  },
  {
   "cell_type": "code",
   "execution_count": 1,
   "id": "17ad1d45",
   "metadata": {},
   "outputs": [],
   "source": [
    "X = 0.4        # distance du playmobil (m)"
   ]
  },
  {
   "cell_type": "markdown",
   "id": "1083e078",
   "metadata": {},
   "source": [
    "# Données"
   ]
  },
  {
   "cell_type": "code",
   "execution_count": 2,
   "id": "28fc6738",
   "metadata": {},
   "outputs": [],
   "source": [
    "g = 9.81         # accélération de la pesanteur (m.s^-2)\n",
    "Mbille = 0.032   # masse de la bille (Kg)\n",
    "Mpendule = 0.138 # masse pendule (Kg)\n",
    "L = 0.255        # longueur de la tige du pendule (m)\n",
    "h = 0.08        # hauteur de la bille (m)"
   ]
  },
  {
   "cell_type": "markdown",
   "id": "5c11a387",
   "metadata": {},
   "source": [
    "# Solution"
   ]
  },
  {
   "cell_type": "code",
   "execution_count": 3,
   "id": "3766e53d",
   "metadata": {},
   "outputs": [],
   "source": [
    "import numpy as np\n",
    "import math"
   ]
  },
  {
   "cell_type": "markdown",
   "id": "2f4bbe56",
   "metadata": {},
   "source": [
    "## Angle initial du pendule"
   ]
  },
  {
   "cell_type": "code",
   "execution_count": 4,
   "id": "ec3093a9",
   "metadata": {},
   "outputs": [
    {
     "name": "stdout",
     "output_type": "stream",
     "text": [
      "theta =1.3118018850676696 rd\n",
      "theta_d =75.16071157168295 degré\n"
     ]
    }
   ],
   "source": [
    "theta = np.arccos(1-(X*(Mbille+Mpendule))**2/(16*h*L*Mpendule**2) )      # angle initial du pendule\n",
    "print(f\"{theta =} rd\") \n",
    "theta_d = theta * 180 / math.pi\n",
    "print(f\"{theta_d =} degré\")"
   ]
  },
  {
   "cell_type": "markdown",
   "id": "f7460efe",
   "metadata": {},
   "source": [
    "## Vitesse du pendule avant l'impact sur la bille"
   ]
  },
  {
   "cell_type": "code",
   "execution_count": 5,
   "id": "5ffa6f13",
   "metadata": {},
   "outputs": [
    {
     "name": "stdout",
     "output_type": "stream",
     "text": [
      "Vpendule =1.9291870722986886 m/s\n"
     ]
    }
   ],
   "source": [
    "Vpendule = (2*g*L*(1-np.cos(theta)))**0.5  # vitesse du pendule avant l'impact sur la bille\n",
    "print(f\"{Vpendule =} m/s\")\n"
   ]
  },
  {
   "cell_type": "markdown",
   "id": "89f97875",
   "metadata": {},
   "source": [
    "## Vitesse initiale horizontale de la bille après impact"
   ]
  },
  {
   "cell_type": "code",
   "execution_count": 6,
   "id": "9861bffa",
   "metadata": {},
   "outputs": [
    {
     "name": "stdout",
     "output_type": "stream",
     "text": [
      "Vbille=3.132091952673165 m/s\n"
     ]
    }
   ],
   "source": [
    "Vbille = Vpendule * 2 * Mpendule /(Mbille+Mpendule)  # vitesse initiale horizontale de la bille après impact\n",
    "print(f\"{Vbille=} m/s\")"
   ]
  },
  {
   "cell_type": "markdown",
   "id": "39f6ab96",
   "metadata": {},
   "source": [
    "## Trajectoire de la bille"
   ]
  },
  {
   "cell_type": "code",
   "execution_count": 7,
   "id": "f492baaa",
   "metadata": {},
   "outputs": [],
   "source": [
    "tmax = 1          # temps max, l'ajuster au besoin\n",
    "steps = 200       # nombre de pas de temps \n",
    "t = np.linspace(0, tmax, steps) # tableau des valeurs de t (s)"
   ]
  },
  {
   "cell_type": "code",
   "execution_count": 8,
   "id": "1a70284d",
   "metadata": {},
   "outputs": [],
   "source": [
    "x = Vbille*t \n",
    "y = -g*(t**2)/2"
   ]
  },
  {
   "cell_type": "code",
   "execution_count": 9,
   "id": "0ffb0414",
   "metadata": {},
   "outputs": [],
   "source": [
    "import matplotlib.pyplot as plt\n",
    "import numpy as np"
   ]
  },
  {
   "cell_type": "code",
   "execution_count": 10,
   "id": "7feb31f7",
   "metadata": {},
   "outputs": [
    {
     "data": {
      "image/png": "[encoded data removed]",
      "text/plain": [
       "<Figure size 1080x432 with 1 Axes>"
      ]
     },
     "metadata": {
      "needs_background": "light"
     },
     "output_type": "display_data"
    }
   ],
   "source": [
    "fig , ax = plt.subplots(figsize=(15 , 6))\n",
    "ax.plot(x, y , color = 'green' , label='trajectoire de la bille')\n",
    "ax.legend()\n",
    "ax.grid(True)\n",
    "ax.set_xlabel('x (m)')\n",
    "ax.set_ylabel('y (m)')\n",
    "ax.set_title(\"Playmobil\")\n",
    "ax.set_xlim(0 , X)\n",
    "ax.set_ylim(-h , 0.01);"
   ]
  },
  {
   "cell_type": "code",
   "execution_count": null,
   "id": "71da87e0",
   "metadata": {},
   "outputs": [],
   "source": []
  },
  {
   "cell_type": "code",
   "execution_count": null,
   "id": "e42d1dc4",
   "metadata": {},
   "outputs": [],
   "source": []
  }
 ],
 "metadata": {
  "kernelspec": {
   "display_name": "Python 3 (ipykernel)",
   "language": "python",
   "name": "python3"
  },
  "language_info": {
   "codemirror_mode": {
    "name": "ipython",
    "version": 3
   },
   "file_extension": ".py",
   "mimetype": "text/x-python",
   "name": "python",
   "nbconvert_exporter": "python",
   "pygments_lexer": "ipython3",
   "version": "3.10.0rc1"
  }
 },
 "nbformat": 4,
 "nbformat_minor": 5
}
