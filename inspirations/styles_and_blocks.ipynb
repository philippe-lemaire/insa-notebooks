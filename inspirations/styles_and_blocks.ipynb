{
 "cells": [
  {
   "cell_type": "markdown",
   "metadata": {},
   "source": [
    "## Styles and Blocs"
   ]
  },
  {
   "cell_type": "markdown",
   "metadata": {},
   "source": [
    "Python formated text: ```python\n",
    "\n",
    "```python\n",
    "print(\"hello\")\n",
    "```"
   ]
  },
  {
   "cell_type": "markdown",
   "metadata": {},
   "source": [
    "Monospace text (output): ```\n",
    "\n",
    "```\n",
    "Hello world!\n",
    "```"
   ]
  },
  {
   "cell_type": "markdown",
   "metadata": {},
   "source": [
    "There will also be small exercises that ask you to write your own piece of code from scratch, or modify an example that is not finished yet; it might contain an error – often called a **bug**, or just not do exactly what we would like. These will be indicated with green boxes."
   ]
  },
  {
   "cell_type": "markdown",
   "metadata": {},
   "source": [
    "<div class=\"alert alert-info\"> \n",
    "<b>Bloc d’instructions en bleu</b> <span style=\"font-family:monospace;\">avec du texte monospace</span> pour donner des instructions.\n",
    "</div>"
   ]
  },
  {
   "cell_type": "markdown",
   "metadata": {},
   "source": [
    "<div class=\"alert alert-info\">\n",
    "Info bleue\n",
    "</div>"
   ]
  },
  {
   "cell_type": "markdown",
   "metadata": {},
   "source": [
    "<div class=\"alert alert-success\">\n",
    "Succès vert\n",
    "</div>"
   ]
  },
  {
   "cell_type": "markdown",
   "metadata": {},
   "source": [
    "<div class=\"alert alert-warning\">\n",
    "Alerte jaune\n",
    "</div>"
   ]
  },
  {
   "cell_type": "markdown",
   "metadata": {},
   "source": [
    "<div class=\"alert alert-danger\">\n",
    "Danger rouge \n",
    "</div>"
   ]
  },
  {
   "cell_type": "markdown",
   "metadata": {},
   "source": [
    "## Markdown Cells<a id=\"comments\"></a>\n",
    "Markdown in Jupyter Notebook [here](http://jupyter-notebook.readthedocs.io/en/latest/examples/Notebook/Working%20With%20Markdown%20Cells.html))."
   ]
  },
  {
   "cell_type": "markdown",
   "metadata": {
    "ExecuteTime": {
     "end_time": "2022-01-17T15:39:34.440605Z",
     "start_time": "2022-01-17T15:39:34.433050Z"
    }
   },
   "source": [
    "Markdown cells allow you to type longer text to explain what your code is doing.  \n",
    "Setting this cell to Markdown, and running it will format the text for clearer reading.  \n",
    "Markdown also provides shorthand for including other features such as [links][cheatsheet].\n",
    "\n",
    "[cheatsheet]:https://github.com/adam-p/markdown-here/wiki/Markdown-Cheatsheet"
   ]
  },
  {
   "cell_type": "markdown",
   "metadata": {},
   "source": [
    "To edit a Markdown cell after it has been run, double-click on it to see the raw Markdown code."
   ]
  },
  {
   "cell_type": "markdown",
   "metadata": {},
   "source": [
    "<div class=\"alert alert-success\">\n",
    "Double click on the Markdown output above that starts &ldquo;*Markdown cells allow you to type longer text&hellip;*&rdquo; and add the following Markdown code to it:<br/><br/><span style='font-family:monospace'># My favourite meals are<br/>\n",
    "- Breakfast<br/>\n",
    "- Lunch<br/>\n",
    "- Brunch\n",
    "</span><br/><br/>\n",
    "</div>\n",
    "\n",
    "Then re-run the cell to view the formatted output."
   ]
  },
  {
   "cell_type": "markdown",
   "metadata": {},
   "source": [
    "## LaTeX"
   ]
  },
  {
   "cell_type": "markdown",
   "metadata": {
    "ExecuteTime": {
     "end_time": "2022-01-17T15:43:22.700769Z",
     "start_time": "2022-01-17T15:43:22.696725Z"
    }
   },
   "source": [
    "### En plein dans une phrase"
   ]
  },
  {
   "cell_type": "markdown",
   "metadata": {},
   "source": [
    "Un peu comme ça, suffit d'entourer l’expression LaTeX avec des dollars:\n",
    "```$e^{i\\pi} = -1$``` =>\n",
    "$e^{i\\pi} = -1$"
   ]
  },
  {
   "cell_type": "markdown",
   "metadata": {},
   "source": [
    "### avec un bloc complet"
   ]
  },
  {
   "cell_type": "markdown",
   "metadata": {
    "ExecuteTime": {
     "end_time": "2022-01-17T15:44:52.768064Z",
     "start_time": "2022-01-17T15:44:52.759034Z"
    }
   },
   "source": [
    "```\n",
    "\\begin{equation}\n",
    "e^x=\\sum_{i=0}^\\infty \\frac{1}{i!}x^i\n",
    "\\end{equation}\n",
    "```\n",
    "\n",
    "\\begin{equation}\n",
    "e^x=\\sum_{i=0}^\\infty \\frac{1}{i!}x^i\n",
    "\\end{equation}"
   ]
  },
  {
   "cell_type": "markdown",
   "metadata": {},
   "source": [
    "## Using **<span style=\"color:#377d22; font-family:monospace\">assert</span>** Statements for Interactive Feedback<a id=\"assert_statements\"></a>\n",
    "\n",
    "The exercise notebooks contain code cells with **<span style=\"color:#377d22; font-family:monospace\">assert</span>** statements. These have been included so that you can test your code as you write it.  \n",
    "\n",
    "An **<span style=\"color:#377d22; font-family:monospace\">assert</span>** statement checks whether a particular condition is **true**, or **false**. If the specified condition is **false**, running the code will produce an <span style=\"color:#D64423; font-family:monospace\">AssertionError</span> error. If this happens, go back to your code, and figure out the source of the error before moving on. If an **<span style=\"color:#377d22; font-family:monospace\">assert</span>** statement runs without an error, your code works correctly and you can move on to the next part of the exercise.\n",
    "\n",
    "e.g. if this is given as a mini-exercise\n",
    "\n",
    "<div class=\"alert alert-success\"> \n",
    "Calculate two plus two.\n",
    "</div>\n",
    "\n",
    "and you mistype the solution in the code cell below:"
   ]
  },
  {
   "cell_type": "code",
   "execution_count": 6,
   "metadata": {
    "ExecuteTime": {
     "end_time": "2022-01-17T15:47:34.464944Z",
     "start_time": "2022-01-17T15:47:34.446500Z"
    }
   },
   "outputs": [
    {
     "data": {
      "text/plain": [
       "5"
      ]
     },
     "execution_count": 6,
     "metadata": {},
     "output_type": "execute_result"
    }
   ],
   "source": [
    "# enter your code in this cell\n",
    "2+3"
   ]
  },
  {
   "cell_type": "markdown",
   "metadata": {},
   "source": [
    "<div class=\"alert alert-warning\">\n",
    " Le code inclus dans la cellule suivante sert à tester ce que vous avez fait dans la cellule précédente. Merci de l'exécuter sans le modifier.\n",
    "</div>"
   ]
  },
  {
   "cell_type": "code",
   "execution_count": 10,
   "metadata": {
    "ExecuteTime": {
     "end_time": "2022-01-17T15:51:50.045156Z",
     "start_time": "2022-01-17T15:51:50.012689Z"
    }
   },
   "outputs": [
    {
     "ename": "AssertionError",
     "evalue": "",
     "output_type": "error",
     "traceback": [
      "\u001b[0;31m---------------------------------------------------------------------------\u001b[0m",
      "\u001b[0;31mAssertionError\u001b[0m                            Traceback (most recent call last)",
      "Input \u001b[0;32mIn [10]\u001b[0m, in \u001b[0;36m<module>\u001b[0;34m\u001b[0m\n\u001b[1;32m      1\u001b[0m \u001b[38;5;66;03m# this cell tests your code. You do not need to edit it.\u001b[39;00m\n\u001b[0;32m----> 2\u001b[0m \u001b[38;5;28;01massert\u001b[39;00m _ \u001b[38;5;241m==\u001b[39m \u001b[38;5;241m4\u001b[39m\n",
      "\u001b[0;31mAssertionError\u001b[0m: "
     ]
    }
   ],
   "source": [
    "# this cell tests your code. You do not need to edit it.\n",
    "assert _ == 4 \n",
    "# the _ character refers to the output from the previous cell."
   ]
  },
  {
   "cell_type": "markdown",
   "metadata": {},
   "source": [
    "<div class=\"alert alert-danger\">Because the calcualtion code gives the wrong result, the <b>assert</b> statement in the following cell fails, producing an <b><span style=\"color:#D64423; font-family:monospace\">AssertionError</span></b>.\n",
    "    </div>\n",
    "\n",
    "<div class=\"alert alert-info\"> \n",
    "Correct the code above, and check that the test passes.\n",
    "</div>"
   ]
  },
  {
   "cell_type": "code",
   "execution_count": null,
   "metadata": {},
   "outputs": [],
   "source": []
  }
 ],
 "metadata": {
  "kernelspec": {
   "display_name": "Python 3 (ipykernel)",
   "language": "python",
   "name": "python3"
  },
  "language_info": {
   "codemirror_mode": {
    "name": "ipython",
    "version": 3
   },
   "file_extension": ".py",
   "mimetype": "text/x-python",
   "name": "python",
   "nbconvert_exporter": "python",
   "pygments_lexer": "ipython3",
   "version": "3.10.0rc1"
  },
  "latex_envs": {
   "LaTeX_envs_menu_present": true,
   "autoclose": false,
   "autocomplete": true,
   "bibliofile": "biblio.bib",
   "cite_by": "apalike",
   "current_citInitial": 1,
   "eqLabelWithNumbers": true,
   "eqNumInitial": 1,
   "hotkeys": {
    "equation": "Ctrl-E",
    "itemize": "Ctrl-I"
   },
   "labels_anchors": false,
   "latex_user_defs": false,
   "report_style_numbering": false,
   "user_envs_cfg": false
  },
  "toc": {
   "base_numbering": 1,
   "nav_menu": {
    "height": "214.986px",
    "width": "447.997px"
   },
   "number_sections": true,
   "sideBar": true,
   "skip_h1_title": false,
   "title_cell": "Table of Contents",
   "title_sidebar": "Contents",
   "toc_cell": false,
   "toc_position": {},
   "toc_section_display": true,
   "toc_window_display": false
  }
 },
 "nbformat": 4,
 "nbformat_minor": 4
}
