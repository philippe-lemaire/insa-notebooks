{
 "cells": [
  {
   "cell_type": "markdown",
   "id": "3069cb2b",
   "metadata": {},
   "source": [
    "# TP1 OMSI - Visualisation de courbes et surfaces"
   ]
  },
  {
   "cell_type": "markdown",
   "id": "99efefaa",
   "metadata": {},
   "source": [
    "L'objectif de ce TP est de donner les commandes de base de {\\bf Python} pour tracer des courbes et surfaces en dimension $2$ et $3$. Il sert d'illustration aux chapitre 5 (courbes et surfaces paramétrée, coordonnées polaires, sphériques), et chapitre 7 (isoscalaires) du cours, et permet de comprendre à l'aide de l'outil graphique, la notion de courbe paramétrée. \n",
    "\n",
    "Lorsque l'on souhaite  tracer en  `Python`  une fonction  $f$ sur un intervalle donné $I= [a,b]$, l'idée consiste à \n",
    "\n",
    "\n",
    "1. Introduire un échantillonnage $ a = x_1 < x_2 < \\ldots < x_N = b $ de l'intervalle $[a,b]$ d'un grand nombre de points,\n",
    "1. Déterminer la valeur des images de ces points par la fonction $f$ :  $f(x_i)$ pour  $i=1,2,...,N$,\n",
    "1. Tracer le nuage de points reliés $\\{(x_i,f(x_i))\\}_{i=1:N}$.\n"
   ]
  },
  {
   "cell_type": "markdown",
   "id": "e81cc8e6",
   "metadata": {},
   "source": [
    "$\n",
    "\\def\\N{\\mathbb{N}}\n",
    "\\def\\Z{\\mathbb{Z}}\n",
    "\\def\\Q{\\mathbb{Q}}\n",
    "\\def\\R{\\mathbb{R}}\n",
    "\\def\\C{\\mathbb{C}}\n",
    "\\def\\K{\\mathbb{K}} \n",
    "\\def\\Rn{\\mathbb{R}^{n}}\n",
    "\\def\\Rd{\\mathbb{R}^{2}}\n",
    "\\def\\Rt{\\mathbb{R}^{3}}\n",
    "\\def\\Rx{\\mathbb{R}\\left[X\\right]}\n",
    "\\def\\Cx{\\mathbb{C}\\left[X\\right]}\n",
    "$"
   ]
  },
  {
   "cell_type": "markdown",
   "id": "6b4c2421",
   "metadata": {},
   "source": [
    "## Tracé de courbes en Python"
   ]
  },
  {
   "cell_type": "markdown",
   "id": "47c4d495",
   "metadata": {},
   "source": [
    "Nous allons construire un premier script permettant de tracer la courbe d'une fonction à une variable, puis une courbe paramétrée. Nous allons utiliser les librairies `numpy` et `matplotlib`.\n",
    "\n",
    "`numpy` est un module permettant de construire des tableaux, accéder à de nombreuses fonctions mathématiques, de travailler sur des problèmes d'algèbre  linéaire, ...\n",
    "\n",
    "`pyplot` de `matplotlib` est un module permettant de réaliser des représentations graphiques. \n",
    "\n",
    "On crée un script qui permet de taper plusieurs instructions à exécuter à la suite dans une cellule de ce notebook."
   ]
  },
  {
   "cell_type": "markdown",
   "id": "d6ba7627",
   "metadata": {},
   "source": [
    "### Exercice 1"
   ]
  },
  {
   "cell_type": "markdown",
   "id": "a8dec732",
   "metadata": {},
   "source": [
    "Exécutez la cellule code suivante et observer les commentaires de chaque ligne"
   ]
  },
  {
   "cell_type": "markdown",
   "id": "227d1198",
   "metadata": {},
   "source": [
    "#### Tracé d'une ligne brisée"
   ]
  },
  {
   "cell_type": "code",
   "execution_count": 1,
   "id": "8cfe0e6c",
   "metadata": {},
   "outputs": [
    {
     "data": {
      "text/plain": [
       "[<matplotlib.lines.Line2D at 0x7f47cb0b1750>]"
      ]
     },
     "execution_count": 1,
     "metadata": {},
     "output_type": "execute_result"
    },
    {
     "data": {
      "image/png": "[encoded data removed]",
      "text/plain": [
       "<Figure size 432x288 with 1 Axes>"
      ]
     },
     "metadata": {
      "needs_background": "light"
     },
     "output_type": "display_data"
    }
   ],
   "source": [
    "import numpy as np  # permet d’importer la librairie numpy abrégée en np\n",
    "import matplotlib.pyplot as plt  # permet d’importer la librairie matplotlib de pyplot abrégée en plt\n",
    "\n",
    "x = [1, 2, 3, 4]  # définit la liste des abscisses\n",
    "y = [2, 1, 3, 4]  # définit la liste des ordonnées\n",
    "plt.plot(x, y)  # représente une ligne brisée à partir des abscisses x et des ordonnées y."
   ]
  },
  {
   "cell_type": "markdown",
   "id": "60dc3cf0",
   "metadata": {},
   "source": [
    "#### Tracé de la courbe d’une fonction"
   ]
  },
  {
   "cell_type": "markdown",
   "id": "f74ab8ac",
   "metadata": {},
   "source": [
    "Les fonctions de numpy opèrent directement sur des tableaux (et pas des listes !), donc  à partir d'un tableau $x$, on peut créer le tableau $y$ dont les entrées `y[i]` sont les `x[i]**2` simplement via : `y=x**2`."
   ]
  },
  {
   "cell_type": "code",
   "execution_count": 2,
   "id": "565ff2b8",
   "metadata": {},
   "outputs": [
    {
     "data": {
      "text/plain": [
       "[<matplotlib.lines.Line2D at 0x7f47cb1ae350>]"
      ]
     },
     "execution_count": 2,
     "metadata": {},
     "output_type": "execute_result"
    },
    {
     "data": {
      "image/png": "[encoded data removed]",
      "text/plain": [
       "<Figure size 432x288 with 1 Axes>"
      ]
     },
     "metadata": {
      "needs_background": "light"
     },
     "output_type": "display_data"
    }
   ],
   "source": [
    "plt.clf() # efface tous les tracés de la fenêtre graphique (plusieurs tracés successifs se superposent)\n",
    "x=np.linspace(0,1,11) # crée un grand tableau x de 11 points régulièrement espacés\n",
    "y=x**2 #crée le tableau image de x par la fonction carrée\n",
    "plt.plot(x,y) # représente la fonction carré à partir des abscisses x et des ordonnées y."
   ]
  },
  {
   "cell_type": "markdown",
   "id": "ddce21a3",
   "metadata": {},
   "source": [
    "La fonction plot admet de nombreuses options de présentation:\n",
    "\n",
    "- Le paramètre `color` permet de choisir la couleur ('g' : vert, 'r' : rouge, 'b' : bleu).\n",
    "- Pour définir le style de la ligne, on utilise `linestyle`\n",
    " - '-' : ligne continue,\n",
    " - '- -' : ligne discontinue, \n",
    " - ':' : ligne pointillée\n",
    "- Si on veut marquer les points des listes, on utilise le paramètre `marker`, avec les différents symboles :\n",
    "  - '+', \n",
    "  - '.', \n",
    "  - 'o', \n",
    "  - 'v' \n",
    "\n"
   ]
  },
  {
   "cell_type": "markdown",
   "id": "236bbdbf",
   "metadata": {},
   "source": [
    "####  Essayer les commandes suivantes : quels sont leurs effets ? "
   ]
  },
  {
   "cell_type": "code",
   "execution_count": 3,
   "id": "22a78cb8",
   "metadata": {},
   "outputs": [
    {
     "data": {
      "text/plain": [
       "[<matplotlib.lines.Line2D at 0x7f47cb0216f0>]"
      ]
     },
     "execution_count": 3,
     "metadata": {},
     "output_type": "execute_result"
    },
    {
     "data": {
      "image/png": "[encoded data removed]",
      "text/plain": [
       "<Figure size 432x288 with 1 Axes>"
      ]
     },
     "metadata": {
      "needs_background": "light"
     },
     "output_type": "display_data"
    }
   ],
   "source": [
    "plt.plot(x,y,\"--g\")"
   ]
  },
  {
   "cell_type": "code",
   "execution_count": 4,
   "id": "359e286e",
   "metadata": {},
   "outputs": [
    {
     "data": {
      "text/plain": [
       "[<matplotlib.lines.Line2D at 0x7f47cb08c550>]"
      ]
     },
     "execution_count": 4,
     "metadata": {},
     "output_type": "execute_result"
    },
    {
     "data": {
      "image/png": "[encoded data removed]",
      "text/plain": [
       "<Figure size 432x288 with 1 Axes>"
      ]
     },
     "metadata": {
      "needs_background": "light"
     },
     "output_type": "display_data"
    }
   ],
   "source": [
    "plt.plot(x,y,\"*r\")"
   ]
  },
  {
   "cell_type": "code",
   "execution_count": 5,
   "id": "7a066bd9",
   "metadata": {},
   "outputs": [
    {
     "data": {
      "text/plain": [
       "[<matplotlib.lines.Line2D at 0x7f47caed7250>]"
      ]
     },
     "execution_count": 5,
     "metadata": {},
     "output_type": "execute_result"
    },
    {
     "data": {
      "image/png": "[encoded data removed]",
      "text/plain": [
       "<Figure size 432x288 with 1 Axes>"
      ]
     },
     "metadata": {
      "needs_background": "light"
     },
     "output_type": "display_data"
    }
   ],
   "source": [
    "plt.plot(x,y,\"-c\",linewidth=5)"
   ]
  },
  {
   "cell_type": "markdown",
   "id": "97f04891",
   "metadata": {},
   "source": [
    "#### Nouveau script"
   ]
  },
  {
   "cell_type": "markdown",
   "id": "378d76ca",
   "metadata": {},
   "source": [
    "Tracer la courbe représentative de la fonction $f(t)=A\\cos(\\omega t + \\phi)$ pour des paramètres de votre choix, avec le titre Oscillateur harmonique, et les libellés \"temps\" et \"tension\" sur chaque axe. \n"
   ]
  },
  {
   "cell_type": "markdown",
   "id": "83cf271e",
   "metadata": {},
   "source": [
    "\n",
    "|     Quelques commandes utiles                                            |                                                                     |\n",
    "|-------------------------------------------------|---------------------------------------------------------------------|\n",
    "| `np.linspace(a,b,n)`                            | subdivise le segment $[ a, b ]$ en $n$ points régulièrement espacés |\n",
    "| `plt.axis([x_min,x_max,y_min,y_max])` | spécifie la fenêtre graphique                                       |\n",
    "| `plt.axis('equal')`                             | donne la même échelle sur chaque axe                                |\n",
    "| `plt.grid()`                                    | affiche une grille                                                  |\n",
    "| `plt.clf()`                                     | efface tous les tracés de la fenêtre graphique                      |\n",
    "| `plt.close('all')`                              | ferme toutes les fenêtres graphiques précédentes                    |\n",
    "| `plt.xlabel(\"texte\")`                           | donne un libellé à l'axe $Ox$                                       |\n",
    "| `plt.ylabel(\"texte\")`                           | donne un libellé à l'axe $Oy$                                       |\n",
    "| `plt.title(\"texte\")`                            | donne un libellé à l'axe $Ox$                                       |\n",
    "| `np.pi`                                         | le nombre pi                                                        |\n",
    "| `np.sin, np.cos, np.exp...`                     | les fonctions usuelles qui agissent sur des tableaux de valeurs     |"
   ]
  },
  {
   "cell_type": "code",
   "execution_count": 6,
   "id": "539aa7c4",
   "metadata": {},
   "outputs": [
    {
     "data": {
      "image/png": "[encoded data removed]",
      "text/plain": [
       "<Figure size 432x288 with 1 Axes>"
      ]
     },
     "metadata": {
      "needs_background": "light"
     },
     "output_type": "display_data"
    }
   ],
   "source": [
    "## Solution\n",
    "import numpy as np\n",
    "import matplotlib.pyplot as plt\n",
    "\n",
    "\n",
    "def f(t, A=2, omega=3, phi=np.pi / 4):\n",
    "    return A * np.cos(omega * t)\n",
    "\n",
    "\n",
    "t = np.linspace(-np.pi, np.pi, 100)\n",
    "plt.title(\"Oscillateur harmonique\")\n",
    "plt.xlabel(\"temps\")\n",
    "plt.ylabel(\"tension\")\n",
    "plt.plot(t, f(t)); #Le ; final évite juste la représentation texte de l'objet graphe dans l'output"
   ]
  },
  {
   "cell_type": "markdown",
   "id": "5ae254bd",
   "metadata": {},
   "source": [
    "#### nouveau script:\n",
    "Sur un même graphique, tracer les parties régulières de différents développement limité en $0$ de la fonction $x\\mapsto \\sin(x)$ sur l'intervalle $[-2\\pi,2\\pi]$."
   ]
  },
  {
   "cell_type": "code",
   "execution_count": 10,
   "id": "53fb890b",
   "metadata": {},
   "outputs": [
    {
     "data": {
      "image/png": "[encoded data removed]",
      "text/plain": [
       "<Figure size 432x288 with 1 Axes>"
      ]
     },
     "metadata": {
      "needs_background": "light"
     },
     "output_type": "display_data"
    }
   ],
   "source": [
    "## Solution\n",
    "\n",
    "\n",
    "# somme (-1)^k x^(2k+1)/(2k+1)!\n",
    "x = np.linspace(-2*np.pi, 2*np.pi, 50)\n",
    "\n",
    "y1 = np.sin(x)\n",
    "y2 = x - x**3/np.math.factorial(3)\n",
    "y3 = x - x**3/np.math.factorial(3) + x**5/np.math.factorial(5)\n",
    "#y4 = x - x**3/np.math.factorial(3) + x**5/np.math.factorial(5) - x**7/np.math.factorial(7)\n",
    "\n",
    "plt.plot(x, y1, label='sin(x)')\n",
    "plt.plot(x, y2, label='developpement limité 2 termes')\n",
    "plt.plot(x, y3, label='developpement limité 3 termes')\n",
    "#plt.plot(x, y3, label='developpement limité 4 termes')\n",
    "\n",
    "plt.ylim(-3,3) #limiter les y à -2, 2 sinon les valeurs du développement limité vont loin\n",
    "plt.legend()\n",
    "plt.show()\n",
    "                          "
   ]
  },
  {
   "cell_type": "markdown",
   "id": "1c3f86f6",
   "metadata": {},
   "source": [
    "### Nouveau script\n",
    "\n",
    "Représenter sur un même graphique $f:t\\mapsto \\dfrac{2\\cos(2t)}{1+\\cos(2t)}$ en noir et $g:t\\mapsto \\tan^2(t)$ en rouge sur un intervalle bien choisi. En adaptant la fenêtre, conjecturer une relation entre $f$ et $g$ et la vérifier à l'aide de Python.\n",
    "\n",
    "Pour définir une fonction, on peut utiliser la syntaxe Python (attention l'indentation est obligatoire) :\n",
    "\n",
    "```\n",
    "def f(t):\n",
    "    return expression_de_la_fonction_en_t\n",
    "```\n"
   ]
  },
  {
   "cell_type": "code",
   "execution_count": null,
   "id": "a8afcdcb",
   "metadata": {},
   "outputs": [],
   "source": [
    "# Solution\n",
    "plt.close(\"all\")\n",
    "\n",
    "\n",
    "def f(t):\n",
    "    return 2 * np.cos(2 * t) / (1 + np.cos(2 * t))\n",
    "\n",
    "\n",
    "def g(t):\n",
    "    return np.tan(t)**2\n",
    "\n",
    "\n",
    "t = np.linspace(-np.pi / 2, np.pi / 2, 100)\n",
    "plt.axis([-np.pi / 2, np.pi / 2, -5, 5])\n",
    "plt.figure(1)\n",
    "plt.plot(t, f(t), label=\"f(t)\")\n",
    "plt.plot(t, g(t), label=\"g(t)\")\n",
    "plt.legend()  #il semble que f(t)=-g(t)+1. Vérification :\n",
    "plt.figure(2)\n",
    "plt.axis([-np.pi / 2, np.pi / 2, -5, 5])\n",
    "plt.plot(t, f(t), label=\"f(t)\")\n",
    "plt.plot(t, -g(t) + 1, label=\"-g(t)+1\")\n",
    "plt.legend()\n",
    "plt.show()\n",
    "# les deux courbes sont confondues"
   ]
  },
  {
   "cell_type": "markdown",
   "id": "223a1a43",
   "metadata": {},
   "source": [
    "## Coordonnées polaires"
   ]
  },
  {
   "cell_type": "markdown",
   "id": "3aa44b3c",
   "metadata": {},
   "source": [
    "### Exercice 2"
   ]
  },
  {
   "cell_type": "markdown",
   "id": "fadc1f74",
   "metadata": {},
   "source": [
    "En remplaçant la commande `plot` par `polar`, et en utilisant les coordonnées polaires d'un point de plan, tracer la courbe de l'exercice 5.11 page 94 d'équation $r=\\theta$ pour $\\theta\\in[0,6\\pi]$. "
   ]
  },
  {
   "cell_type": "code",
   "execution_count": null,
   "id": "6a0ea4b3",
   "metadata": {},
   "outputs": [],
   "source": []
  },
  {
   "cell_type": "code",
   "execution_count": null,
   "id": "d4c7449f",
   "metadata": {},
   "outputs": [],
   "source": [
    "## Solution\n",
    "theta = np.linspace(0, 6*np.pi, 100)\n",
    "r=theta\n",
    "\n",
    "plt.polar(r,theta);"
   ]
  },
  {
   "cell_type": "markdown",
   "id": "65b4ae28",
   "metadata": {},
   "source": [
    "## Courbes paramétrées"
   ]
  },
  {
   "cell_type": "markdown",
   "id": "38297e6d",
   "metadata": {},
   "source": [
    "Une courbe paramétrée du plan est la donnée d'une application $F :I\\to \\mathbb{R}^2$ où $I$ est une partie de $\\mathbb{R}$. On a donc $F(t)=(x(t);y(t))$ où $x:I\\to \\R$ et $y:I\\to \\R$ sont deux applications à valeurs réelles. \n",
    "\n",
    "Une courbe $\\mathcal{C}$ en $2D$ peut donc aussi être définie à l'aide d'une paramétrisation $\\mathcal{C} =  \\{(x(t),y(t))\\}_{t \\in I}$.\n",
    "\n",
    "La variable $t$ n'apparait pas sur la figure, on peut imaginer que c'est le temps (voir graphe animé). \n",
    "\n",
    "Exemple de paramétrage d'un cercle de rayon 1 centré en O : $\\begin{cases}x(t)=\\cos(t)\\\\y(t)=\\sin(t)\\end{cases}$, donc $F(t)=(\\cos(t),\\sin(t))$.  \\\\\n",
    "\n",
    "On définit d'abord la liste des valeurs du paramètre puis on construit la liste des abscisses et des ordonnées correspondantes. On effectue ensuite le tracé. Les librairies \\texttt{numpy} et \\texttt{matplotlib} sont bien sûr nécessaires pour les exemples qui suivent. "
   ]
  },
  {
   "cell_type": "markdown",
   "id": "9dcc94cb",
   "metadata": {},
   "source": [
    "Pour obtenir un cercle de rayon 1 centré à l'origine, on peut taper : \n",
    "\n",
    "``` \n",
    "t=np.linspace(0,2*np.pi,100)\n",
    "x=np.cos(t)\n",
    "y=np.sin(t)\n",
    "plt.axis('equal')\n",
    "plt.plot(x,y)\n",
    "plt.show()\n",
    "```"
   ]
  },
  {
   "cell_type": "markdown",
   "id": "56c0bb25",
   "metadata": {},
   "source": [
    "**NB :** Par convention en Python les majuscules ne sont pas utilisées dans les noms de variables numériques."
   ]
  },
  {
   "cell_type": "code",
   "execution_count": null,
   "id": "574e59de",
   "metadata": {},
   "outputs": [],
   "source": [
    "t=np.linspace(0,2*np.pi,100)\n",
    "x=np.cos(t)\n",
    "y=np.sin(t)\n",
    "plt.axis('equal')\n",
    "plt.plot(x,y)\n",
    "plt.show()"
   ]
  },
  {
   "cell_type": "markdown",
   "id": "2e139b5c",
   "metadata": {},
   "source": [
    "### Exercice 3 (Courbes paramétrées du plan)"
   ]
  },
  {
   "cell_type": "markdown",
   "id": "b76a844e",
   "metadata": {},
   "source": [
    "**Commandes utiles `axis equal`**\n",
    "\n",
    "En utilisant une représentation paramétrique, tracer dans le plan :\n",
    "\n",
    "1. le cercle centré en $(2,1)$ de rayon 3.\n",
    "1. la droite passant par le point $A(-1,2)$ de vecteur directeur ${\\bf u}(3,1)$.\n",
    "1. l'ellipse centrée au point $B(2,1)$ telle que $a=3$ et $b=2$.\n",
    "\n",
    "Le script suivant (copié de `courbe_param_progressif.py`) permet de tracer une courbe paramétrée dynamique. Voir l'exemple pour une courbe de Lissajous $x(t)=\\cos(3t), y(t)=\\sin(2t)$. "
   ]
  },
  {
   "cell_type": "code",
   "execution_count": null,
   "id": "f33751d2",
   "metadata": {
    "scrolled": true
   },
   "outputs": [],
   "source": [
    "%matplotlib notebook\n",
    "\n",
    "import numpy as np\n",
    "import matplotlib.pyplot as plt\n",
    "import matplotlib.animation as animation\n",
    "\n",
    "t = np.linspace(0, 2*np.pi, 160)\n",
    "x = np.cos(t)\n",
    "y = (1+np.cos(t))*np.sin(t)\n",
    "plt.plot(x, y)\n",
    "\n",
    "\n",
    "# Création de la figure et de l'axe\n",
    "\n",
    "fig, ax = plt.subplots()\n",
    "\n",
    "# Création de la ligne qui sera mise à jour au fur et à mesure\n",
    "line, = ax.plot([],[])\n",
    "point, = ax.plot([], [], ls=\"none\", marker=\"o\")\n",
    "\n",
    "#Gestion des limites de la fenêtre\n",
    "ax.set_xlim([1.05*np.min(x), 1.05*np.max(x)])\n",
    "ax.set_ylim([1.05*np.min(y), 1.05*np.max(y)])\n",
    "\n",
    "\n",
    "# Création de la function qui sera appelée à \"chaque nouvelle image\"\n",
    "def animate(k):\n",
    "    i = min(k, x.size)\n",
    "    line.set_data(x[:i], y[:i])\n",
    "    point.set_data(x[i], y[i])\n",
    "    return line, point\n",
    "\n",
    "# Génération de l'animation, frames précise les arguments numérique reçus par func (ici animate), \n",
    "# interval est la durée d'une image en ms, blit gère la mise à jour\n",
    "ani = animation.FuncAnimation(fig=fig, func=animate, frames=range(x.size), interval=50, blit=True)"
   ]
  },
  {
   "cell_type": "code",
   "execution_count": null,
   "id": "6e616c9e",
   "metadata": {},
   "outputs": [],
   "source": []
  },
  {
   "cell_type": "code",
   "execution_count": null,
   "id": "2b8c92ee",
   "metadata": {},
   "outputs": [],
   "source": []
  },
  {
   "cell_type": "code",
   "execution_count": null,
   "id": "5ef04025",
   "metadata": {},
   "outputs": [],
   "source": []
  },
  {
   "cell_type": "markdown",
   "id": "7dca0740",
   "metadata": {},
   "source": [
    "### Exercice 4\n",
    "\n",
    "Exécuter ce script et modifier les fonctions en $x$ et $y$ pour tracer les courbes param\\'etr\\'ees suivantes, conjecturer graphiquement les sym\\'etries v\\'erifi\\'ees par les courbes et les v\\'erifier par le calcul.\n",
    "\n",
    "\n",
    "1. $\\begin{cases} x(t)=\\cos(t) \\\\ y(t)=(1+\\cos(t))\\sin(t)\\end{cases},t\\in[-\\pi,\\pi]$\n",
    "1. $\\begin{cases} x(t)=2\\sin(t)+\\cos(t) \\\\ y(t)=\\sin^3(t)+2\\cos^3(t) \\end{cases}, t\\in[-\\pi,\\pi]$\n"
   ]
  },
  {
   "cell_type": "code",
   "execution_count": null,
   "id": "8e66722d",
   "metadata": {},
   "outputs": [],
   "source": [
    "%matplotlib notebook\n",
    "import numpy as np\n",
    "import matplotlib.pyplot as plt\n",
    "import matplotlib.animation as animation\n",
    "\n",
    "t = np.linspace(0, 2*np.pi, 160)\n",
    "x = np.cos(2*t)\n",
    "\n",
    "\n",
    "y = np.sin(3*t)\n",
    "plt.plot(x, y)\n",
    "# Création de la figure et de l’axe\n",
    "fig, ax = plt.subplots()\n",
    "# Création de la ligne qui sera mise à jour au fur et à mesure\n",
    "line, = ax.plot([],[])\n",
    "point, = ax.plot([], [], ls=\"none\", marker=\"o\")\n",
    "\n",
    "\n",
    "\n",
    "\n",
    "#Gestion des limites de la fenêtre\n",
    "ax.set_xlim([1.05*np.min(x), 1.05*np.max(x)])\n",
    "ax.set_ylim([1.05*np.min(y), 1.05*np.max(y)])\n",
    "\n",
    "# Création de la function qui sera appelée à ”chaque nouvelle image”\n",
    "def animate(k):\n",
    "    i = min(k, x.size)\n",
    "    line.set_data(x[:i], y[:i])\n",
    "    point.set_data(x[i], y[i])\n",
    "    return line, point\n",
    "# Génération de l’animation, frames précise les arguments numérique reçus par func (ici animate),\n",
    "# interval est la durée d’une image en ms, blit gère la mise à jour\n",
    "ani = animation.FuncAnimation(fig=fig, func=animate, frames=range(x.size), interval=50, blit=True)"
   ]
  },
  {
   "cell_type": "markdown",
   "id": "6115d9ce",
   "metadata": {},
   "source": [
    "### Exercice 5"
   ]
  },
  {
   "cell_type": "markdown",
   "id": "c904297e",
   "metadata": {},
   "source": [
    "Fabriquer un smiley comme celui-ci (ou, encore plus beau) à base de courbes paramétrées :\n",
    "\n",
    "\n",
    "<img src=\"smiley.png\" width=40%>"
   ]
  },
  {
   "cell_type": "code",
   "execution_count": null,
   "id": "2266b951",
   "metadata": {},
   "outputs": [],
   "source": []
  },
  {
   "cell_type": "markdown",
   "id": "05b2e5d5",
   "metadata": {},
   "source": [
    "### Exercice 6 Courbe paramétrée de l'espace - exercice 5.5 page 91"
   ]
  },
  {
   "cell_type": "markdown",
   "id": "c61000f6",
   "metadata": {},
   "source": [
    "Le script suivant permet de tracer un arc paramétré dans l'espace :\n",
    "\n",
    "```\n",
    "from mpl_toolkits.mplot3d import Axes3D\n",
    "ax = Axes3D(plt.figure())\n",
    "t = np.linspace(0, 2*np.pi, 100)\n",
    "x = np.cos(t)\n",
    "y = np.sin(t)\n",
    "z = t\n",
    "ax.plot(x, y, t)\n",
    "plt.show()\n",
    "```\n",
    "\n",
    "Utiliser ce script pour paramétrer :\n",
    "\n",
    "1. le segment $[AB]$ avec $A(1,-1,2)$ et $B(-5,0,2)$.\n",
    "1. le cercle de centre $A$, de rayon 2, situé dans le plan passant par $A$ parallèle à $(yOz)$. \n",
    "\n"
   ]
  },
  {
   "cell_type": "code",
   "execution_count": null,
   "id": "efddf56c",
   "metadata": {},
   "outputs": [],
   "source": [
    "%matplotlib notebook"
   ]
  },
  {
   "cell_type": "code",
   "execution_count": null,
   "id": "f9a78db1",
   "metadata": {},
   "outputs": [],
   "source": [
    "# Solution 1\n",
    "import matplotlib.pyplot as plt\n",
    "import numpy as np\n",
    "from mpl_toolkits.mplot3d import Axes3D\n",
    "\n",
    "fig = plt.figure()\n",
    "ax = Axes3D(fig, auto_add_to_figure=False)\n",
    "fig.add_axes(ax)\n",
    "\n",
    "#2 points suffisent pour le linspace ...\n",
    "t = np.linspace(0, 1, 2)\n",
    "x = t * 1 - 5 * (1 - t)\n",
    "y = t * (-1)\n",
    "z = 2 * t + 2 * (1 - t)\n",
    "# permet de mettre en évidence les extrémités\n",
    "ax.plot(x, y, z, \"-o\");"
   ]
  },
  {
   "cell_type": "code",
   "execution_count": null,
   "id": "ff789995",
   "metadata": {},
   "outputs": [],
   "source": [
    "# Solution 2\n",
    "\n",
    "fig = plt.figure()\n",
    "ax = Axes3D(fig, auto_add_to_figure=False)\n",
    "fig.add_axes(ax)\n",
    "\n",
    "t = np.linspace(0, 2*np.pi, 100)\n",
    "x = np.linspace(1,1,100)\n",
    "y=2*np.cos(t)-1\n",
    "z=2*np.sin(t)+2\n",
    "ax.plot(x, y, z)\n",
    "# on rajoute le centre\n",
    "ax.plot(1,-1,2,\"o\");"
   ]
  },
  {
   "cell_type": "markdown",
   "id": "beb8f1d0",
   "metadata": {},
   "source": [
    "## Exemples de fonctions à deux variables"
   ]
  },
  {
   "cell_type": "markdown",
   "id": "ad2ff0de",
   "metadata": {},
   "source": [
    "Nous  nous intéresserons maintenant à la représentation d'une fonction à deux variables définie sur un ensemble $I = [a,b]\\times [c,d]$.\n",
    "Comme précédemment, l'idée est d'afficher une interpolation de $f$ définie sur un échantillonnage de $I$. Pour ce faire, on va construire deux échantillonnages respectivement de $[a,b]$ et $[c,d]$, puis utiliser la commande `meshgrid` qui permet d'obtenir un échantillonnage de $I$ .\n",
    "\n",
    "Voici un exemple de script qui permet de tracer sur l'ensemble $I= [-2,2]\\times [-2,2]$ \n",
    "la fonction $$f : (x,y) \\mapsto {e}^{-x^2 - y^2}.$$"
   ]
  },
  {
   "cell_type": "code",
   "execution_count": null,
   "id": "7d7ebe4f",
   "metadata": {},
   "outputs": [],
   "source": [
    "import numpy as np\n",
    "import matplotlib.pyplot as plt\n",
    "from mpl_toolkits.mplot3d import Axes3D\n",
    "\n",
    "fig = plt.figure()\n",
    "ax = Axes3D(fig, auto_add_to_figure=False)\n",
    "fig.add_axes(ax)\n",
    "\n",
    "\n",
    "# définition de la fonction à 2 variables\n",
    "def f(x, y):\n",
    "    return np.exp(-x**2 - y**2)\n",
    "\n",
    "\n",
    "# création d'une grille\n",
    "X = np.linspace(-2, 2, 50)\n",
    "Y = np.linspace(-2, 2, 50)\n",
    "X, Y = np.meshgrid(X, Y)\n",
    "\n",
    "# création des valeurs en Z\n",
    "Z = f(X, Y)\n",
    "ax.plot_surface(X, Y, Z)\n",
    "plt.show()\n",
    "\n",
    "# avec un code couleur\n",
    "fig = plt.figure()\n",
    "ax = Axes3D(fig, auto_add_to_figure=False)\n",
    "fig.add_axes(ax)\n",
    "\n",
    "surf = ax.plot_surface(X, Y, Z, cmap=plt.cm.coolwarm)\n",
    "fig.colorbar(surf);"
   ]
  },
  {
   "cell_type": "markdown",
   "id": "ebc670ee",
   "metadata": {},
   "source": [
    "### Exercice 7"
   ]
  },
  {
   "cell_type": "markdown",
   "id": "52c14f9b",
   "metadata": {},
   "source": [
    "1. Tracer la fonction \"selle de cheval\" $f(x,y)=x^2-y^2$ et observer les familles de courbes obtenues par les fonctions partielles $f(x,)$ et $f(,y)$. Quel type de courbes bien connues obtient-on ?  \n",
    "On pourra utiliser les commandes suivantes qui permettent de tracer des points dans l'espace (en définissant correctement les tableaux `x,y,z` afin d'obtenir les courbes des applications partielles).\n",
    "```\n",
    "ax = plt.figure().gca(projection=\"3d\")\n",
    "ax.plot(x,y,z)\n",
    "``` \n",
    "1. Tracer la fonction abordée en **chapitre 4 page 59** : $f(x,y)=\\dfrac{xy}{x^2+y^2}$. Que pensez-vous de la continuité en $(0,0)$ ? On pourra tracer les courbes $z=f(x,x)$ et $z=f(x,0)$ qui sont dessinées sur la surface, et regarder la limite quand $x\\to 0$."
   ]
  },
  {
   "cell_type": "code",
   "execution_count": null,
   "id": "e8f9d0eb",
   "metadata": {},
   "outputs": [],
   "source": []
  },
  {
   "cell_type": "code",
   "execution_count": null,
   "id": "b1d88962",
   "metadata": {},
   "outputs": [],
   "source": [
    "# solution 1\n",
    "import numpy as np\n",
    "import matplotlib.pyplot as plt\n",
    "from mpl_toolkits.mplot3d import Axes3D\n",
    "\n",
    "fig = plt.figure()\n",
    "ax = Axes3D(fig, auto_add_to_figure=False)\n",
    "fig.add_axes(ax)\n",
    "\n",
    "\n",
    "# définition de la fonction à 2 variables\n",
    "def f(x, y):\n",
    "    return x**2 - y**2\n",
    "\n",
    "\n",
    "# création d'une grille\n",
    "X = np.linspace(-2, 2, 50)\n",
    "Y = np.linspace(-2, 2, 50)\n",
    "X, Y = np.meshgrid(X, Y)\n",
    "# création des valeurs en Z\n",
    "Z = f(X, Y)\n",
    "ax.plot_surface(X, Y, Z)\n",
    "plt.show()\n",
    "\n",
    "\n",
    "#application partielle pour y = 0\n",
    "ax = plt.figure(2).gca(projection=\"3d\")\n",
    "x = np.linspace(-2, 2, 50)\n",
    "y = np.linspace(0, 0, 50)\n",
    "z = f(x, y)\n",
    "ax.plot(x, y, z)\n",
    "\n",
    "#application partielle pour y = 1 sur la même figure\n",
    "ax = plt.figure(2).gca(projection=\"3d\")\n",
    "x = np.linspace(-2, 2, 50)\n",
    "y = np.linspace(1, 1, 50)\n",
    "z = f(x, y)\n",
    "ax.plot(x, y, z)\n",
    "\n",
    "#application partielle pour x = 0 sur la même figure\n",
    "ax = plt.figure(2).gca(projection=\"3d\")\n",
    "x = np.linspace(0, 0, 50)\n",
    "y = np.linspace(-2, 2, 50)\n",
    "z = f(x, y)\n",
    "ax.plot(x, y, z)\n",
    "\n",
    "#applications partielles en x et en y\n",
    "ax = plt.figure().gca(projection=\"3d\")\n",
    "for k in range(1, 10):\n",
    "    x = np.linspace(1, 10, 50)\n",
    "    y = np.linspace(k, k, 50)\n",
    "    z = f(x, y)\n",
    "    ax.plot(x, y, z)\n",
    "    x = np.linspace(k, k, 50)\n",
    "    y = np.linspace(1, 10, 50)\n",
    "    z = f(x, y)\n",
    "    ax.plot(x, y, z)"
   ]
  },
  {
   "cell_type": "code",
   "execution_count": null,
   "id": "ad44d169",
   "metadata": {},
   "outputs": [],
   "source": [
    "# solution 7-2 continuité\n",
    "\n",
    "### Solution : Pas de continuité en (0,0) car deux courbes qui ne passent pas par la même valeur.\n",
    "\n",
    "import numpy as np\n",
    "import matplotlib.pyplot as plt\n",
    "from mpl_toolkits.mplot3d import Axes3D\n",
    "\n",
    "\n",
    "# définition de la fonction à 2 variables\n",
    "def f(x, y):\n",
    "    return x * y / (x**2 + y**2)\n",
    "\n",
    "\n",
    "fig = plt.figure()\n",
    "ax = Axes3D(fig, auto_add_to_figure=False)\n",
    "fig.add_axes(ax)\n",
    "\n",
    "# création d'une grille\n",
    "X = np.linspace(-2, 2, 50)\n",
    "Y = np.linspace(-2, 2, 50)\n",
    "X, Y = np.meshgrid(X, Y)\n",
    "# création des valeurs en Z\n",
    "Z = f(X, Y)\n",
    "#avec un code couleur\n",
    "fig = plt.figure()\n",
    "ax = Axes3D(fig, auto_add_to_figure=False)\n",
    "fig.add_axes(ax)\n",
    "\n",
    "surf = ax.plot_surface(X, Y, Z, cmap=plt.cm.coolwarm)\n",
    "fig.colorbar(surf)\n",
    "\n",
    "#application partielle pour y = 0\n",
    "ax = plt.figure().gca(projection=\"3d\")\n",
    "x = np.linspace(-2, 2, 50)\n",
    "y = np.linspace(0, 0, 50)\n",
    "z = f(x, y)\n",
    "ax.plot(x, y, z)\n",
    "z = f(x, x)\n",
    "ax.plot(x, x, z)\n",
    "\n",
    "#applications partielles en x et en y\n",
    "ax = plt.figure().gca(projection=\"3d\")\n",
    "for k in range(1, 10):\n",
    "    x = np.linspace(1, 10, 50)\n",
    "    y = np.linspace(k, k, 50)\n",
    "    z = f(x, y)\n",
    "    ax.plot(x, y, z)\n",
    "    x = np.linspace(k, k, 50)\n",
    "    y = np.linspace(1, 10, 50)\n",
    "    z = f(x, y)\n",
    "    ax.plot(x, y, z)"
   ]
  },
  {
   "cell_type": "markdown",
   "id": "e7de24f4",
   "metadata": {},
   "source": [
    "## Surfaces paramétrées ou implicites en $3D$"
   ]
  },
  {
   "cell_type": "markdown",
   "id": "30bed3fe",
   "metadata": {},
   "source": [
    "Une surface en $3D$ peut être définie de manière **paramétrique**  ou de manière **implicite** à l'aide d'une équation cartésienne.\n",
    " \n",
    "Par exemple, dans le cas de la sphère $S$ de rayon $1$, celle-ci peut être définie à l'aide de coordonnée sphérique \n",
    "$$ S = \\left\\{ (\\sin(\\theta)\\cos(\\varphi),\\sin(\\theta)\\sin(\\varphi), \\cos(\\theta)) ;  (\\theta,\\varphi) \\in [0,\\pi] \\times [0,2\\pi] \\right\\}.$$\n",
    "\n",
    "ou encore par l'équation $$ x^2 + y^2 + z^2 = 1.$$\n",
    "\n",
    "Voici un premier script qui permet de tracer une sphère en mode paramétrique avec le script ci-dessous : "
   ]
  },
  {
   "cell_type": "code",
   "execution_count": null,
   "id": "4dd9e35b",
   "metadata": {},
   "outputs": [],
   "source": [
    "import numpy as np\n",
    "import matplotlib.pyplot as plt\n",
    "from mpl_toolkits import mplot3d\n",
    "from matplotlib.tri import Triangulation\n",
    "\n",
    "\n",
    "# Parameters:\n",
    "theta = np.linspace(0, 2*np.pi, 20)\n",
    "phi = np.linspace(0, np.pi, 20)\n",
    "theta, phi = np.meshgrid(theta, phi)\n",
    "rho = 1\n",
    "\n",
    "# Parametrization:\n",
    "x = np.ravel(rho*np.cos(theta)*np.sin(phi))\n",
    "y = np.ravel(rho*np.sin(theta)*np.sin(phi))\n",
    "z = np.ravel(rho*np.cos(phi))\n",
    "\n",
    "# Triangulation:\n",
    "tri = Triangulation(np.ravel(theta), np.ravel(phi))\n",
    "\n",
    "ax = plt.axes(projection='3d')\n",
    "ax.plot_trisurf(x, y, z, triangles=tri.triangles, cmap='jet', antialiased=True);"
   ]
  },
  {
   "cell_type": "markdown",
   "id": "5ca2b750",
   "metadata": {},
   "source": [
    "Et un deuxième script pour donner les lignes de niveau d'une surface"
   ]
  },
  {
   "cell_type": "code",
   "execution_count": null,
   "id": "d5b52109",
   "metadata": {},
   "outputs": [],
   "source": [
    "import matplotlib.pyplot as plt\n",
    "import numpy as np\n",
    "def f(x,y):\n",
    "    return x**2+y**2+x*y\n",
    "\n",
    "X=np.linspace(-1,1,50)\n",
    "Y=np.linspace(-1,1,50)\n",
    "X,Y=np.meshgrid(X,Y)\n",
    "Z=f(X,Y)\n",
    "plt.axis('equal')\n",
    "plt.contour(X,Y,Z,[0.1,0.4,0.5])\n",
    "plt.show()"
   ]
  },
  {
   "cell_type": "markdown",
   "id": "7220705e",
   "metadata": {},
   "source": [
    "### Exercice 8\n",
    "\n",
    "1. Représenter un cylindre puis un cône à l'aide de leur paramétrisation cylindrique **(voir poly page 80 pour retrouver ces paramétrages)**.\n",
    "1. Représenter les courbes isoscalaires du champ scalaire de l'**exercice 7.3 page 161** : $f(x,y)=x^2/2+y^2$ (défini dans $\\R^2$ et pas dans $\\R^3$).\n"
   ]
  },
  {
   "cell_type": "code",
   "execution_count": null,
   "id": "b976906e",
   "metadata": {},
   "outputs": [],
   "source": []
  },
  {
   "cell_type": "code",
   "execution_count": null,
   "id": "8c9fa492",
   "metadata": {},
   "outputs": [],
   "source": []
  },
  {
   "cell_type": "code",
   "execution_count": null,
   "id": "72d25599",
   "metadata": {},
   "outputs": [],
   "source": [
    "# Solution 1\n",
    "import numpy as np\n",
    "import matplotlib.pyplot as plt\n",
    "from matplotlib.tri import Triangulation\n",
    "\n",
    "\n",
    "theta = np.linspace(0, 2*np.pi, 20)\n",
    "rho = np.linspace(-2, 2, 20)\n",
    "theta, rho = np.meshgrid(theta, rho)\n",
    "\n",
    "x = np.ravel(rho*np.cos(theta))\n",
    "y = np.ravel(rho*np.sin(theta))\n",
    "z = np.ravel(rho)\n",
    "\n",
    "tri = Triangulation(np.ravel(theta), np.ravel(rho))\n",
    "\n",
    "ax = plt.axes(projection='3d')\n",
    "ax.plot_trisurf(x, y, z, triangles=tri.triangles, cmap='jet', antialiased=True) "
   ]
  },
  {
   "cell_type": "code",
   "execution_count": null,
   "id": "0c4265e2",
   "metadata": {},
   "outputs": [],
   "source": []
  }
 ],
 "metadata": {
  "kernelspec": {
   "display_name": "Python 3 (ipykernel)",
   "language": "python",
   "name": "python3"
  },
  "language_info": {
   "codemirror_mode": {
    "name": "ipython",
    "version": 3
   },
   "file_extension": ".py",
   "mimetype": "text/x-python",
   "name": "python",
   "nbconvert_exporter": "python",
   "pygments_lexer": "ipython3",
   "version": "3.10.0rc1"
  },
  "toc": {
   "base_numbering": 1,
   "nav_menu": {},
   "number_sections": true,
   "sideBar": true,
   "skip_h1_title": true,
   "title_cell": "Table of Contents",
   "title_sidebar": "Contents",
   "toc_cell": false,
   "toc_position": {},
   "toc_section_display": true,
   "toc_window_display": true
  }
 },
 "nbformat": 4,
 "nbformat_minor": 5
}
