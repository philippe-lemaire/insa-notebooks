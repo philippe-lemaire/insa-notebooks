{
 "cells": [
  {
   "cell_type": "markdown",
   "id": "ab7dc7bb",
   "metadata": {},
   "source": [
    "# TP Python 2 - Méthode d'Euler"
   ]
  },
  {
   "cell_type": "markdown",
   "id": "43c21a16",
   "metadata": {},
   "source": [
    "Parmi les équations différentielles suivantes, lesquelles savez-vous résoudre ? \n",
    "\n",
    "\n",
    "- $y'(t)=3y(t)$  \n",
    "- $y'(t)=y^2(t)$ \n",
    "- $ y'(t)=e^{-t}y(t)$ \n",
    "- $y'(t)=e^{-t^2}y(t)$\n",
    "- $y'(t)=-\\cos(t)y(t)$ \n",
    "- $y'(t)=-t\\sin(y^2(t))$ \n",
    "\n",
    "\n",
    "Il existe en pratique de nombreuses équations différentielles pour lesquelles on ne peut pas écrire une forme explicite des solutions. On cherche alors à calculer une approximation de la solution. \n",
    "\n",
    "L'objectif est ici d'étudier deux méthodes pour obtenir une solution approchée d'une équation différentielle du type \n",
    "\n",
    "\n",
    "\\begin{cases}\n",
    " y'(t) =  f(t,y(t)) & \\text{ pour }  t \\in [a,b] \\\\\n",
    " y(a) =  y_0\n",
    "\\end{cases}\n",
    "\n",
    "\n",
    "L'idée de ces $2$ méthodes est d'introduire une subdivision de l'intervalle $[a,b]$ équirépartie de la forme  \n",
    "$t_k = a+h k$, où $h$ représente un pas de temps et de construire une approximation de la solution en approchant sur chaque intervalle $[t_k,t_{k+1}]$ la solution par une fonction affine. "
   ]
  },
  {
   "cell_type": "markdown",
   "id": "0b46a590",
   "metadata": {},
   "source": [
    "## Le Principe de la méthode d'Euler"
   ]
  },
  {
   "cell_type": "markdown",
   "id": "a0f212ae",
   "metadata": {},
   "source": [
    "On cherche à résoudre l'équation différentielle avec condition initiale suivante :\n",
    "$$\n",
    "\\begin{cases}\n",
    " y'(t) =  f(t,y(t)) & \\text{ pour }  t \\in [a,b] \\\\\n",
    " y(a) =  y_0\n",
    "\\end{cases}\n",
    "$$\n",
    "\n",
    "On utilise une subdivision régulière de $n+1$ points de $[a,b]$ : $a=t_0<t_1<\\dots<t_{n-1}<t_n=b$, dont le pas est $h=\\frac{b-a}{n}$. \n",
    "\n",
    "\n",
    "On utilise sur chaque intervalle $[t_k,t_{k+1}]$, l'approximation affine du premier ordre pour une fonction dérivable : \n",
    "\n",
    "$y(t)\\underset{t\\to \\alpha}=y(\\alpha)+y'(\\alpha)(t-\\alpha)+o((t-\\alpha))$.\n",
    "\n",
    "En particulier : \n",
    "\n",
    "\n",
    "- Sur l'intervalle $[t_0,t_1]$, on approche $y$ par \n",
    "la fonction affine $t\\mapsto y(t_0)+f(t_0,y_0)(t-t_0)$. On obtient en particulier le point $(t_1,y_1)$ avec $y_1=y_0+f(t_0,y_0)(t_1-t_0)$.  \n",
    "Si $h$ est suffisamment petit, le point $(t_1,y_1)$ ne doit pas être \"trop loin\" du point $(t_1,y(t_1))$ qui est réellement sur la courbe solution.\n",
    "- Aux étapes suivantes, sur l'intervalle $[t_k,t_{k+1}]$, on approche la fonction $y$ par $t\\mapsto y_k+f(t_k,y_k)(t-t_k)$. On obtient ainsi un nouveau point $(t_{k+1},y_{k+1})$.\n",
    "\n",
    "Ainsi, la méthode d'Euler est définie par le schéma récursif suivant : \n",
    "\n",
    "$\\begin{cases}t_0=a\\\\y_0=y_0\\end{cases}$ conformément à la condition initiale $(a,y_0)$ \n",
    "- à l'étape $k\\in \\{1,...,n\\}$, puisque $y(t_k)=y(t_{k-1}+h)\\simeq y(t_{k-1})+hy'(t_{k-1})$ :\n",
    "\n",
    "$\\begin{cases}t_k=t_{k-1}+h\\\\\n",
    "y_k=y_{k-1}+hf(t_{k-1},y_{k-1})\n",
    "\\end{cases}$\n",
    "\n",
    "\n",
    "![](ecart_vraie_solution_solution_approchee.png)\n",
    "\n",
    "\n",
    "**Remarque.** Comme on repart à chaque étape d'une valeur approchée, les erreurs vont avoir tendance à s'accumuler ! "
   ]
  },
  {
   "cell_type": "markdown",
   "id": "fbcd747b",
   "metadata": {},
   "source": [
    "## Le module de calcul formel `sympy` de Python"
   ]
  },
  {
   "cell_type": "markdown",
   "id": "f14cf1f3",
   "metadata": {},
   "source": [
    "Python via `sympy` est capable de dériver des fonctions et de résoudre des équations différentielles linéaires."
   ]
  },
  {
   "cell_type": "markdown",
   "id": "254865c7",
   "metadata": {},
   "source": [
    "### Exercice 1"
   ]
  },
  {
   "cell_type": "markdown",
   "id": "309e5533",
   "metadata": {},
   "source": [
    "Voici le code du module sympy, qui permet d’entrer une fonction et de la dériver (ici avec la fonction sin de sympy).\n",
    "\n",
    "\n",
    "\n",
    "Tester ce code pour diverses fonctions usuelles."
   ]
  },
  {
   "cell_type": "code",
   "execution_count": 1,
   "id": "68715314",
   "metadata": {},
   "outputs": [
    {
     "data": {
      "text/latex": [
       "$\\displaystyle \\cos{\\left(x \\right)}$"
      ],
      "text/plain": [
       "cos(x)"
      ]
     },
     "execution_count": 1,
     "metadata": {},
     "output_type": "execute_result"
    }
   ],
   "source": [
    "import sympy as sp\n",
    "x = sp.Symbol('x') #Symbol permet de déclarer le nom de la variable. \n",
    "sp.diff(sp.sin(x),x)"
   ]
  },
  {
   "cell_type": "code",
   "execution_count": 2,
   "id": "eb25d393",
   "metadata": {},
   "outputs": [
    {
     "data": {
      "text/latex": [
       "$\\displaystyle \\frac{1}{x}$"
      ],
      "text/plain": [
       "1/x"
      ]
     },
     "execution_count": 2,
     "metadata": {},
     "output_type": "execute_result"
    }
   ],
   "source": [
    "sp.diff(sp.ln(x),x)"
   ]
  },
  {
   "cell_type": "markdown",
   "id": "17ca40a4",
   "metadata": {},
   "source": [
    "Voici un exemple de code qui permet de résoudre l'équation différentielle $y'+y=0$ (dans le code, le \"= 0\" de l'équation est sous-entendu et ne s'écrit pas) :"
   ]
  },
  {
   "cell_type": "code",
   "execution_count": 3,
   "id": "2bf1345e",
   "metadata": {},
   "outputs": [
    {
     "data": {
      "text/latex": [
       "$\\displaystyle f{\\left(x \\right)} = C_{1} e^{- x}$"
      ],
      "text/plain": [
       "Eq(f(x), C1*exp(-x))"
      ]
     },
     "execution_count": 3,
     "metadata": {},
     "output_type": "execute_result"
    }
   ],
   "source": [
    "import sympy as sp\n",
    "x = sp.Symbol('x')\n",
    "f = sp.Function('f')\n",
    "eq = sp.diff(f(x),x)+f(x)\n",
    "sp.dsolve(eq)"
   ]
  },
  {
   "cell_type": "markdown",
   "id": "98efcb80",
   "metadata": {},
   "source": [
    "On peut ajouter, s'il y a une condition initiale $f(0)=a$ : `sp.dsolve(eq,ics={f(0):a})`, par exemple"
   ]
  },
  {
   "cell_type": "code",
   "execution_count": 4,
   "id": "5fc2145d",
   "metadata": {},
   "outputs": [
    {
     "data": {
      "text/latex": [
       "$\\displaystyle f{\\left(x \\right)} = e^{- x}$"
      ],
      "text/plain": [
       "Eq(f(x), exp(-x))"
      ]
     },
     "execution_count": 4,
     "metadata": {},
     "output_type": "execute_result"
    }
   ],
   "source": [
    "sp.dsolve(eq,ics={f(0):1})"
   ]
  },
  {
   "cell_type": "markdown",
   "id": "9da833cc",
   "metadata": {},
   "source": [
    "En adaptant ce code, résoudre les équations différentielles où $\\lambda$ est un réel quelconque : \n",
    "\n",
    "1. $y'(t)+\\lambda y(t)=0$,\n",
    "1. $y'(t)+\\lambda y(t)=e^t$.\n"
   ]
  },
  {
   "cell_type": "code",
   "execution_count": 5,
   "id": "b128171c",
   "metadata": {},
   "outputs": [
    {
     "data": {
      "text/latex": [
       "$\\displaystyle y{\\left(t \\right)} = - \\frac{1}{C_{1} + t}$"
      ],
      "text/plain": [
       "Eq(y(t), -1/(C1 + t))"
      ]
     },
     "execution_count": 5,
     "metadata": {},
     "output_type": "execute_result"
    }
   ],
   "source": [
    "t = sp.Symbol('t')\n",
    "y = sp.Function('y')\n",
    "eq = sp.diff(y(t), t) - y(t)**2\n",
    "sp.dsolve(eq)"
   ]
  },
  {
   "cell_type": "code",
   "execution_count": 6,
   "id": "694287e3",
   "metadata": {},
   "outputs": [
    {
     "data": {
      "text/latex": [
       "$\\displaystyle 3 e^{3 t}$"
      ],
      "text/plain": [
       "3*exp(3*t)"
      ]
     },
     "execution_count": 6,
     "metadata": {},
     "output_type": "execute_result"
    }
   ],
   "source": [
    "sp.diff(sp.exp(3*t))"
   ]
  },
  {
   "cell_type": "code",
   "execution_count": 7,
   "id": "3d182309",
   "metadata": {},
   "outputs": [
    {
     "data": {
      "text/latex": [
       "$\\displaystyle y{\\left(t \\right)} = C_{1} - \\frac{t^{2} λ}{2}$"
      ],
      "text/plain": [
       "Eq(y(t), C1 - t**2*λ/2)"
      ]
     },
     "execution_count": 7,
     "metadata": {},
     "output_type": "execute_result"
    }
   ],
   "source": [
    "# 1\n",
    "t = sp.Symbol('t')\n",
    "y = sp.Function('y')\n",
    "λ = sp.Symbol('λ')\n",
    "eq = sp.diff(y(t),t)+λ*(t)\n",
    "\n",
    "sp.dsolve(eq)"
   ]
  },
  {
   "cell_type": "code",
   "execution_count": 8,
   "id": "fc69216f",
   "metadata": {},
   "outputs": [
    {
     "data": {
      "text/latex": [
       "$\\displaystyle y{\\left(t \\right)} = C_{1} - \\frac{t^{2} λ}{2} - e^{t}$"
      ],
      "text/plain": [
       "Eq(y(t), C1 - t**2*λ/2 - exp(t))"
      ]
     },
     "execution_count": 8,
     "metadata": {},
     "output_type": "execute_result"
    }
   ],
   "source": [
    "# 2\n",
    "t = sp.Symbol('t')\n",
    "y = sp.Function('y')\n",
    "λ = sp.Symbol('λ')\n",
    "eq = sp.diff(y(t),t)+λ*(t) + sp.exp(t)\n",
    "\n",
    "sp.dsolve(eq)"
   ]
  },
  {
   "cell_type": "markdown",
   "id": "1dd23a82",
   "metadata": {},
   "source": [
    "## Méthode d'Euler : mise en œuvre"
   ]
  },
  {
   "cell_type": "markdown",
   "id": "c1bd7260",
   "metadata": {},
   "source": [
    "On a vu que la méthode d'Euler permet de construire une solution approchée d'une équation différentielle de la forme \n",
    "\n",
    "$$\n",
    "\\begin{cases}\n",
    " y'(t) =  f(t,y(t)) & \\text{ pour }  t \\in [a,b] \\\\\n",
    " y(a) =  y_0\n",
    "\\end{cases}\n",
    "$$\n",
    "\n",
    "à l'aide du sch\\'ema suivant : \n",
    "\n",
    "\n",
    "- $\\begin{cases}t_0=a\\\\y_0=y_0\\end{cases}$ conformément à la condition initiale $(a,y_0)$ \n",
    "\n",
    "\n",
    "- à l'étape $k\\in \\{1,...,n\\}$, puisque $y(t_k)=y(t_{k-1}+h)\\simeq y(t_{k-1})+hy'(t_{k-1})$ :\n",
    "\n",
    "    $\\begin{cases}t_k=t_{k-1}+h\\\\\n",
    "y_k=y_{k-1}+hf(t_{k-1},y_{k-1})\n",
    "\\end{cases}$\n"
   ]
  },
  {
   "cell_type": "markdown",
   "id": "13d3c5bb",
   "metadata": {},
   "source": [
    "On s'intéresse à l'équation différentielle linéaire homogène du premier ordre $\n",
    "\\begin{cases}\n",
    " y'(t) + y(t)=0  \\\\\n",
    " y(0)=1\n",
    "\\end{cases}\n",
    "$ pour  $t \\in [0,5]$.\n",
    " \n",
    "\n",
    "1. Identifier la fonction $f$ de cet exemple.\n",
    "1. Pour $n=2$, calculer à la main les points de la suite : $(t_0,y_0), (t_1,y_1)$ et $(t_2,y_2)$.\n",
    "1. A l'aide d'une boucle `for`, programmer la méthode d'Euler dans un script `Euler.py` pour tracer la solution approchée d'une ED, en la testant avec la fonction $f$ de cet exemple.\n",
    " \n",
    " On fera attention de définir avant la boucle : \n",
    "\n",
    "- la fonction $f$ à deux variables de l'équation différentielle,\n",
    "- les points $a$ et $b$ de l'intervalle,\n",
    "- le nombre de points et le pas souhaité,\n",
    "- les vecteurs $t$ et $y$ de la suite d'Euler.\n"
   ]
  },
  {
   "cell_type": "code",
   "execution_count": 9,
   "id": "b33dfbe8",
   "metadata": {},
   "outputs": [
    {
     "data": {
      "text/latex": [
       "$\\displaystyle f{\\left(x \\right)} = e^{- x}$"
      ],
      "text/plain": [
       "Eq(f(x), exp(-x))"
      ]
     },
     "execution_count": 9,
     "metadata": {},
     "output_type": "execute_result"
    }
   ],
   "source": [
    "eq = sp.diff(f(x),x)+f(x)\n",
    "\n",
    "sp.dsolve(eq,ics={f(0):1})"
   ]
  },
  {
   "cell_type": "code",
   "execution_count": 10,
   "id": "2231ae7f",
   "metadata": {},
   "outputs": [],
   "source": [
    "t0, y0 = 0, 1\n",
    "h = 5/2\n",
    "t1 = t0 + h\n",
    "y1 = y0 +h*f(t0, y0)"
   ]
  },
  {
   "cell_type": "code",
   "execution_count": 11,
   "id": "775e52b4",
   "metadata": {},
   "outputs": [
    {
     "data": {
      "image/png": "[encoded data removed]",
      "text/plain": [
       "<Figure size 432x288 with 1 Axes>"
      ]
     },
     "metadata": {
      "needs_background": "light"
     },
     "output_type": "display_data"
    }
   ],
   "source": [
    "import matplotlib.pyplot as plt\n",
    "import numpy as np\n",
    "\n",
    "# Methode d'Euler\n",
    "def f(t,y):\n",
    "    return -y\n",
    "a=0\n",
    "b=5\n",
    "n=10 # nombre de points\n",
    "t=np.ones(n) * a # initialisation de t de taille n , de type array\n",
    "y=np.ones(n) * 1 # condition initiale\n",
    "h=(b-a)/n  # le pas de la subdivision\n",
    "\n",
    "for k in range(1,n):    #range va de 1 à n-1\n",
    "    t[k]=t[k-1]+h\n",
    "    y[k]=y[k-1]+h*f(t[k-1],y[k-1])\n",
    "    \n",
    "    \n",
    "plt.plot(t,y,'-*')\n",
    "plt.show()"
   ]
  },
  {
   "cell_type": "code",
   "execution_count": 12,
   "id": "3aa75995",
   "metadata": {},
   "outputs": [
    {
     "name": "stdout",
     "output_type": "stream",
     "text": [
      "Eq(f(x), exp(-x))\n"
     ]
    },
    {
     "data": {
      "image/png": "[encoded data removed]",
      "text/plain": [
       "<Figure size 432x288 with 1 Axes>"
      ]
     },
     "metadata": {
      "needs_background": "light"
     },
     "output_type": "display_data"
    }
   ],
   "source": [
    "# permet de définir la solution exacte (on la calcule à part puis on la définit\n",
    "# dans la fonction \"solution\")\n",
    "\n",
    "x=sp.Symbol('x')\n",
    "f=sp.Function('f')\n",
    "eq=sp.diff(f(x),x)+f(x)\n",
    "print(sp.dsolve(eq,ics={f(0):1}))\n",
    "def solution(x):\n",
    "    return np.exp(-x)\n",
    "\n",
    "# Methode d'Euler\n",
    "def f(t,y):\n",
    "    return -y\n",
    "a=0\n",
    "b=5\n",
    "n=10 # nombre de points\n",
    "t=np.ones(n) * a # initialisation de t de taille n , de type array\n",
    "y=np.ones(n) * 1 # condition initiale\n",
    "h=(b-a)/n  # le pas de la subdivision\n",
    "\n",
    "for k in range(1,n):    #range va de 1 à n-1\n",
    "    t[k]=t[k-1]+h\n",
    "    y[k]=y[k-1]+h*f(t[k-1],y[k-1])\n",
    "\n",
    "# Tracé des solutions exactes et approchées sur le même graphe. \n",
    "\n",
    "x = np.linspace(0,5)\n",
    "plt.plot(t,y,'-*',label=\"solution Euler\")\n",
    "plt.plot(x,solution(x),label = \"solution exacte\")\n",
    "plt.legend()\n",
    "plt.show()\n",
    "\n"
   ]
  },
  {
   "cell_type": "markdown",
   "id": "1f540957",
   "metadata": {},
   "source": [
    "Tester le programme sur une équation à coefficients non constants : $\\begin{cases}y'(t)=-\\cos(t)y(t)\\\\y(0)=1\\end{cases} \\text{ pour } t\\in[0,3]$, en comparant à la solution exacte que vous aurez préalablement calculée. \n",
    " "
   ]
  },
  {
   "cell_type": "code",
   "execution_count": 13,
   "id": "27910fd5",
   "metadata": {},
   "outputs": [
    {
     "name": "stdout",
     "output_type": "stream",
     "text": [
      "Eq(f(x), exp(-sin(x)))\n"
     ]
    },
    {
     "data": {
      "image/png": "[encoded data removed]",
      "text/plain": [
       "<Figure size 432x288 with 1 Axes>"
      ]
     },
     "metadata": {
      "needs_background": "light"
     },
     "output_type": "display_data"
    }
   ],
   "source": [
    "import matplotlib.pyplot as plt\n",
    "import numpy as np\n",
    "import sympy as sp\n",
    "\n",
    "# permet de définir la solution exacte (on la calcule à part puis on la définit\n",
    "# dans la fonction \"solution\")\n",
    "\n",
    "x=sp.Symbol('x')\n",
    "f=sp.Function('f')\n",
    "eq=sp.diff(f(x),x)+sp.cos(x)*f(x)\n",
    "print(sp.dsolve(eq,ics={f(0):1}))\n",
    "def solution(x):\n",
    "    return np.exp(-np.sin(x))\n",
    "\n",
    "# Methode d'Euler\n",
    "def f(t,y):\n",
    "    return -np.cos(t)*y\n",
    "a=0\n",
    "b=5\n",
    "n=10 # nombre de points\n",
    "t=np.ones(n) * a # initialisation de t de taille n , de type array\n",
    "y=np.ones(n) * 1 # condition initiale\n",
    "h=(b-a)/n  # le pas de la subdivision\n",
    "\n",
    "for k in range(1,n):    #range va de 1 à n-1\n",
    "    t[k]=t[k-1]+h\n",
    "    y[k]=y[k-1]+h*f(t[k-1],y[k-1])\n",
    "\n",
    "# Tracé des solutions exactes et approchées sur le même graphe. \n",
    "\n",
    "x = np.linspace(0,5)\n",
    "plt.plot(t,y,'-*',label=\"solution Euler\")\n",
    "plt.plot(x,solution(x),label = \"solution exacte\")\n",
    "plt.legend()\n",
    "plt.show()"
   ]
  },
  {
   "cell_type": "markdown",
   "id": "4282f754",
   "metadata": {},
   "source": [
    "- Tester le programme sur une équation non linéaire  : $\\begin{cases}y'(t)=-t\\sin(y^2(t))\\\\y(0)=1\\end{cases}\\text{ pour } t\\in[0,3] $. Expliquer la réponse obtenue pour la résolution exacte. \n",
    " \n",
    " \n",
    "La solution exacte n'est pas trouvée par Python. Le script qui suit présente juste la solution approchée par Euler\n"
   ]
  },
  {
   "cell_type": "code",
   "execution_count": 28,
   "id": "396040f2",
   "metadata": {},
   "outputs": [
    {
     "name": "stdout",
     "output_type": "stream",
     "text": [
      "Eq(f(x), -1/(x*cos(x) - sin(x) - 1))\n"
     ]
    },
    {
     "data": {
      "image/png": "[encoded data removed]",
      "text/plain": [
       "<Figure size 432x288 with 1 Axes>"
      ]
     },
     "metadata": {
      "needs_background": "light"
     },
     "output_type": "display_data"
    }
   ],
   "source": [
    "import matplotlib.pyplot as plt\n",
    "import numpy as np\n",
    "import sympy as sp\n",
    "\n",
    "# permet de définir la solution exacte (on la calcule à part puis on la définit\n",
    "# dans la fonction \"solution\")\n",
    "\n",
    "x=sp.Symbol('x')\n",
    "f=sp.Function('f')\n",
    "eq=sp.diff(f(x),x)+x*sp.sin(x)*(f(x))**2\n",
    "print(sp.dsolve(eq,ics={f(0):1}))\n",
    "\n",
    "def solution(x):\n",
    "    return -1/(x*np.cos(x) - np.sin(x) - 1)\n",
    "\n",
    "\n",
    "# Methode d'Euler\n",
    "def f(t,y):\n",
    "    return -t*np.sin(y**2)\n",
    "a=0\n",
    "b=5\n",
    "n=10 # nombre de points\n",
    "t=np.ones(n) * a # initialisation de t de taille n , de type array\n",
    "y=np.ones(n) * 1 # condition initiale\n",
    "h=(b-a)/n  # le pas de la subdivision\n",
    "\n",
    "for k in range(1,n):    #range va de 1 à n-1\n",
    "    t[k]=t[k-1]+h\n",
    "    y[k]=y[k-1]+h*f(t[k-1],y[k-1])\n",
    "\n",
    "# Tracé des solutions exactes et approchées sur le même graphe. \n",
    "\n",
    "x = np.linspace(0,5)\n",
    "plt.plot(t,y,'-*',label=\"solution Euler\")\n",
    "plt.plot(x,solution(x),label = \"solution exacte\")\n",
    "plt.legend()\n",
    "plt.show()"
   ]
  },
  {
   "cell_type": "markdown",
   "id": "d153d51a",
   "metadata": {},
   "source": [
    "## Un problème de physique"
   ]
  },
  {
   "cell_type": "markdown",
   "id": "844c220c",
   "metadata": {},
   "source": [
    "On se propose de résoudre le problème physique suivant par une méthode numérique.\n",
    "On considère un fil suffisamment fin pour considérer sa température comme homogène. Le fil est\n",
    "initialement chauffé à $500^{\\circ}C$ puis trempé dans de l'eau à $10^\\circ C$. On souhaite connaître la cinétique de\n",
    "refroidissement de ce fil. L'équation de la thermique est donnée par :\n",
    "\n",
    "$$\\dot T = -\\alpha(T - T_{eau}) \\qquad (1)$$\n",
    "où $T$ est la température actuelle du fil, $\\alpha$ une constante égale à $Sh/V \\rho C_p$ , où $S$ vaut $0,01\\, m^2$ ;\n",
    "$h =800\\, W/m^2 $; $V =0,000014\\, m^3$ ; $\\rho =7800\\, kg/m^3$ ; $C_p =500\\, J/kg$ ; $T_{eau}$ est la température de l'eau.\n",
    "\n",
    "\n",
    "1. Donner la solution analytique de ce problème.\n",
    "1. Proposer un schéma d'Euler pour le résoudre (algorithme).\n",
    "1. Implémenter cette résolution numérique et comparer à la solution théorique. Évaluer l'erreur en fonction du pas de calcul.\n"
   ]
  },
  {
   "cell_type": "markdown",
   "id": "c84554c7",
   "metadata": {},
   "source": [
    "## Calcul de l'erreur\n",
    "\n",
    "On s'intéresse dans ce paragraphe à l'équation différentielle $$\\begin{cases}y'(t)-y(t)=0\\\\y(0)=1\\end{cases}$$ dont la solution exacte est exp, et à l'erreur commise entre la solution approchée obtenue par la m\\'ethode d'Euler et la solution exacte. \n",
    "\n",
    "\n",
    "### Exercice 3\n",
    "\n",
    "1. Adaptez le script ci-dessous utilisé avec  $f(t,y)=y$,  pour qu'il calcule l'erreur maximale $\\mathrm{Err}(n)$ commise entre les valeurs $y_k$ et celles de $\\exp(t_k)$.\n",
    "On pourra utiliser la commande Python \\texttt{max(X)} qui renvoie pour un vecteur X, l'élément maximal du tableau de nombres X.\n",
    "1. La méthode d'Euler est dite \"d'ordre 1\" : cela signifie que pour un nombre de points $n$ assez grand, l'erreur est proportionnelle à $\\frac{1}{n}$ (sur des cas particuliers, l'erreur pourrait être plus petite (un $o(\\frac{1}{n})$), mais jamais plus grande). \n",
    "Vérifier que la méthode est bien d'ordre $1$, en traçant $\\frac{1}{\\mathrm{Err}(n)}$, pour $n$ compris entre $1$ et $100$. \n",
    "1. Montrer que si on double le nombre $n$ de points considérés, l'erreur est divisée par 2.\n",
    "\n",
    "\n",
    "\n"
   ]
  },
  {
   "cell_type": "code",
   "execution_count": 18,
   "id": "33ac1b6b",
   "metadata": {},
   "outputs": [
    {
     "data": {
      "text/plain": [
       "[<matplotlib.lines.Line2D at 0x7fb0fbde8970>]"
      ]
     },
     "execution_count": 18,
     "metadata": {},
     "output_type": "execute_result"
    },
    {
     "data": {
      "image/png": "[encoded data removed]",
      "text/plain": [
       "<Figure size 432x288 with 1 Axes>"
      ]
     },
     "metadata": {
      "needs_background": "light"
     },
     "output_type": "display_data"
    }
   ],
   "source": [
    "# script euler.py\n",
    "\n",
    "import matplotlib.pyplot as plt\n",
    "import numpy as np\n",
    "\n",
    "# Methode d'Euler\n",
    "def f(t,y):\n",
    "    return -y\n",
    "a=0\n",
    "b=5\n",
    "n=10 # nombre de points\n",
    "t=np.ones(n) * a # initialisation de t de taille n , de type array\n",
    "y=np.ones(n) * 1 # condition initiale\n",
    "h=(b-a)/n  # le pas de la subdivision\n",
    "\n",
    "for k in range(1,n):    #range va de 1 à n-1\n",
    "    t[k]=t[k-1]+h\n",
    "    y[k]=y[k-1]+h*f(t[k-1],y[k-1])\n",
    "    \n",
    "    \n",
    "plt.plot(t,y,'-*')    \n",
    "    \n"
   ]
  },
  {
   "cell_type": "code",
   "execution_count": 52,
   "id": "18d35077",
   "metadata": {},
   "outputs": [
    {
     "name": "stdout",
     "output_type": "stream",
     "text": [
      "erreur max= 51.57377192552181\n"
     ]
    }
   ],
   "source": [
    "## solution question 1\n",
    "import matplotlib.pyplot as plt\n",
    "import numpy as np\n",
    "# Methode d’Euler\n",
    "def f(t,y):\n",
    "    return y\n",
    "a=0;b=5\n",
    "n=10 # nombre de points\n",
    "t=np.ones(n) * a # initialisation de t de taille n , de type array\n",
    "y=np.ones(n) * 1 # condition initiale\n",
    "h=(b-a)/n # le pas de la subdivision\n",
    "for k in range(1,n): #range va de 1 `a n-1\n",
    "    t[k]=t[k-1]+h\n",
    "    y[k]=y[k-1]+h*f(t[k-1],y[k-1])\n",
    "print('erreur max=',max( abs(y-np.exp(t) ) ))"
   ]
  },
  {
   "cell_type": "code",
   "execution_count": 56,
   "id": "69efd28a",
   "metadata": {},
   "outputs": [
    {
     "data": {
      "image/png": "[encoded data removed]",
      "text/plain": [
       "<Figure size 432x288 with 1 Axes>"
      ]
     },
     "metadata": {
      "needs_background": "light"
     },
     "output_type": "display_data"
    }
   ],
   "source": [
    "import matplotlib.pyplot as plt\n",
    "import numpy as np\n",
    "\n",
    "\n",
    "# Methode d’Euler\n",
    "def f(t, y):\n",
    "    return y\n",
    "\n",
    "\n",
    "a = 0\n",
    "b = 5\n",
    "N = 100\n",
    "\n",
    "erreur = np.zeros(N + 1)  # [0..N]\n",
    "for n in range(1, N + 1):  # [1..N]\n",
    "    t = np.ones(n) * a  # [0..n-1]\n",
    "    y = np.ones(n) * 1  # [0..n-1]\n",
    "    h = (b - a) / n\n",
    "    for k in range(1, n - 1 + 1):  # [1..n-1]\n",
    "        t[k] = t[k - 1] + h\n",
    "        y[k] = y[k - 1] + h * f(t[k - 1], y[k - 1])\n",
    "    erreur[n] = max(abs(y - np.exp(t)))\n",
    "\n",
    "plt.plot(range(2, N + 1), 1 / erreur[2:]);\n",
    "# on  ́elimine la première erreur qui est nulle"
   ]
  },
  {
   "cell_type": "markdown",
   "id": "828f178c",
   "metadata": {},
   "source": [
    "## Optionnel : POUR ALLER PLUS LOIN : Amélioration de la méthode : Méthode de Runge Kutta"
   ]
  },
  {
   "cell_type": "markdown",
   "id": "d1a2d636",
   "metadata": {},
   "source": [
    "On se propose maintenant d'améliorer la méthode numérique en raffinant la valeur de la dérivée au\n",
    "point de paramètre $t$ : en effet la dérivée variant avec le temps, la prise de la dérivée au point $t$ considéré ne permet pas de prendre en compte sa variation sur le pas de temps considéré (méthode d'ordre 1).\n",
    "\n",
    "Pour réaliser cette amélioration, on va tenter d'extrapoler la valeur de la dérivée au temps $t + \\frac{h}{2}$ : c'est donc le point milieu entre $t_k$ et $t_{k+1}$. \n",
    "\n",
    "On va donc d'abord évaluer la fonction au temps $t + \\frac{h}{2}$ , puis calculer la dérivée correspondante par l'équation $y'(t)=f(t,y(t))$, puis utiliser cette dérivée au temps $t$ comme meilleur approximant et finalement calculer la valeur de la fonction au temps $t + \\frac{h}{2}$ par un schéma d'Euler classique.\n",
    "\n",
    "La méthode RK2 du point milieu est donc une composition de la méthode d'Euler par elle-même : on obtient la relation de récurrence  ${\\displaystyle y_{k+1}=y_{k}+hf\\left(t_{k}+{\\frac {h}{2}}\\,,\\,y_{k}+{\\frac {h}{2}}f\\left(t_{k},y_{k}\\right)\\right)}$ avec les étapes suivantes : \n",
    "\n",
    "- Estimation de la fonction à $t+\\frac h2$ avec Euler : $y(t+\\frac h2)\\simeq y_{(k+\\frac 12)} =y_{k}+{\\frac {h}{2}}f\\left(t_{k},y_{k}\\right)$ : on garde $y_{(k+\\frac 12)}$.\n",
    "- Estimation de la dérivée au milieu du pas d'intégration à partir de l'équation $y'(t)=f(t,y(t))$ :\n",
    "$y'(t+\\frac h2)\\simeq y'_{(k+\\frac {1}{2})}=f\\left(t_{k}+{\\frac {h}{2}}\\,,\\, y_{(k+\\frac {1}{2})}\\right)$. On garde $y'_{(k+\\frac {1}{2})}$. \n",
    "- Calcul de la valeur de la fonction à partir de cette estimation : $\\displaystyle y_{k+1}=y_{k}+hy'_{(k+\\frac {1}{2})}$\n",
    "\n",
    "\n",
    "\n",
    "\n"
   ]
  },
  {
   "cell_type": "markdown",
   "id": "73b281fd",
   "metadata": {},
   "source": [
    "\n",
    "Ce schéma est couramment appelé schéma prédicteur-correcteur explicite.\n",
    "\n",
    "Pour le coder, on remplace dans la boucle `for` de la méthode d'Euler les instructions par les suivantes :\n",
    "\n",
    "\n",
    "$\\begin{cases}t_k=t_{k-1}+h\\\\\n",
    "y_k=y_{k-1}+hf\\left(t_{k-1}+\\dfrac {h}{2}\\,,\\,y_{k-1}+\\dfrac {h}{2}f\\left(t_{k-1},y_{k-1}\\right)\\right)\n",
    "\\end{cases}$\n",
    "\n",
    "\n",
    "\n",
    "\n"
   ]
  },
  {
   "cell_type": "markdown",
   "id": "72f5c6df",
   "metadata": {},
   "source": [
    "1. Écrire un nouveau script ci-dessous à partir du script en Section 5.1.\n",
    "1. Cette méthode est d'ordre $2$ : c'est-à-dire, pour $n$ assez grand, l'erreur est proportionnelle à $\\frac{1}{n^2}$. Que pouvez-vous tracer pour le vérifier ? \n",
    "1. Si l'on double le nombre $n$ de points considérés, par combien est divisée l'erreur ? "
   ]
  },
  {
   "cell_type": "code",
   "execution_count": 73,
   "id": "cc816b11",
   "metadata": {},
   "outputs": [
    {
     "data": {
      "text/plain": [
       "<matplotlib.legend.Legend at 0x7fb0f7dbe2c0>"
      ]
     },
     "execution_count": 73,
     "metadata": {},
     "output_type": "execute_result"
    },
    {
     "data": {
      "image/png": "[encoded data removed]",
      "text/plain": [
       "<Figure size 432x288 with 1 Axes>"
      ]
     },
     "metadata": {
      "needs_background": "light"
     },
     "output_type": "display_data"
    }
   ],
   "source": [
    "import matplotlib.pyplot as plt\n",
    "import numpy as np\n",
    "\n",
    "\n",
    "# Methode d'Euler\n",
    "def f(t, y):\n",
    "    return -y\n",
    "\n",
    "\n",
    "a = 0\n",
    "b = 5\n",
    "n = 10  # nombre de points\n",
    "erreur = np.zeros(n + 1)  # [0..N]\n",
    "\n",
    "t = np.ones(n) * a  # initialisation de t de taille n , de type array\n",
    "y = np.ones(n) * 1  # condition initiale\n",
    "\n",
    "h = (b - a) / n  # le pas de la subdivision\n",
    "\n",
    "for k in range(1, n):  #range va de 1 à n-1\n",
    "    t[k] = t[k - 1] + h\n",
    "    y[k] = y[k - 1] + h * f(t[k - 1] + h / 2,\n",
    "                            y[k - 1] + h / 2 * f(t[k - 1], y[k - 1]))\n",
    "    erreur[k] = max(abs(y - np.exp(t)))\n",
    "\n",
    "plt.plot(1 / erreur[1:-1]**2, label='1/erreur²') # les deux valeurs au début et à la fin\n",
    "# de erreur sont nulles, on les retire par slicing\n",
    "\n",
    "plt.plot(1 / np.array(range(1, n))**2, label=\"1/n²\" )\n",
    "plt.legend()\n",
    "#plt.plot(t,y,'-*')"
   ]
  },
  {
   "cell_type": "code",
   "execution_count": null,
   "id": "3299e532",
   "metadata": {},
   "outputs": [],
   "source": []
  }
 ],
 "metadata": {
  "kernelspec": {
   "display_name": "Python 3 (ipykernel)",
   "language": "python",
   "name": "python3"
  },
  "language_info": {
   "codemirror_mode": {
    "name": "ipython",
    "version": 3
   },
   "file_extension": ".py",
   "mimetype": "text/x-python",
   "name": "python",
   "nbconvert_exporter": "python",
   "pygments_lexer": "ipython3",
   "version": "3.10.0rc1"
  },
  "toc": {
   "base_numbering": 1,
   "nav_menu": {},
   "number_sections": true,
   "sideBar": true,
   "skip_h1_title": true,
   "title_cell": "Table of Contents",
   "title_sidebar": "Contents",
   "toc_cell": false,
   "toc_position": {},
   "toc_section_display": true,
   "toc_window_display": false
  }
 },
 "nbformat": 4,
 "nbformat_minor": 5
}
