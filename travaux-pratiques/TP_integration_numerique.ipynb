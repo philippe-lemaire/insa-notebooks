{
 "cells": [
  {
   "cell_type": "markdown",
   "id": "7ed2bc53",
   "metadata": {},
   "source": [
    "# OMSI 2021-22 - TP/TD Intégration numérique\n",
    "# Programmation de sommes de Riemann avec Python"
   ]
  },
  {
   "cell_type": "markdown",
   "id": "0d565b52",
   "metadata": {},
   "source": [
    "## Introduction\n",
    "\n",
    "Ce TP s'inscrit dans le cadre de l'utilisation des outils numérique en OMSI et sert d'introduction\n",
    "au chapitre 6 du cours. Il consiste à approximer le calcul d'intégrales simples par la méthode de\n",
    "Riemann avec comme objectif pédagogique d'aider à mieux comprendre les notions de bornes\n",
    "d'intégration et de balayage d'un domaine. Ces bases seront utiles ensuite pour la résolution\n",
    "des intégrales multiples. Un autre aspect est d'aborder la problématique de la convergence des\n",
    "calculs numériques.\n",
    "\n",
    "Ce TP de 2 heures est à effectuer sur PC en utilisant le langage Python. Les scripts (ou programmes) sont très simples et ne font pas appel à un environnement graphique. Des connaissances de base en Python suffisent : définition de variables, affichage d'un résultat, boucles."
   ]
  },
  {
   "cell_type": "markdown",
   "id": "48c67b0f",
   "metadata": {},
   "source": [
    "## Intégrale simple en coordonnées cartésiennes : masse d’une barre inhomogène (premier exemple guidé)\n",
    "Une tige métallique de longueur `l` a une section non uniforme, elle est plus épaisse d'un côté que\n",
    "de l'autre. La masse linéique `λ` varie en fonction de la distance `x`, par rapport à une extrémité\n",
    "de la tige, selon la loi `λ = λ0 + kx²`, où `λ0` et `k` sont des constantes positives.\n",
    "\n",
    "1. Déterminer analytiquement la masse `m` de cette tige. Indication : `dm = λdx`\n",
    "1. Application numérique : calculer `m` pour `l` = 1,2 m, `λ0 = 0,625 kg * m⁻¹`, `k = 5,0 *10⁻³ kg * m⁻³`.\n",
    "1. Utiliser le script 1 qui donne une approximation de la valeur de m. Diminuer petit à petit\n",
    "le pas d'intégration dx : commencer par 1e − 1, par exemple, puis 5e − 2, 1e − 2, 1e − 3...\n",
    "jusqu'à 1e − 6. Dans un logiciel tableur, créer une colonne dx, une colonne m approchée,\n",
    "une colonne m exacte et une colonne dans laquelle vous calculerez l'écart relatif en pourcent\n",
    "entre la valeur approchée et la valeur exacte. Tracer l'évolution de m en fonction du pas\n",
    "d'intégration (utiliser une échelle logarithmique pour l'axe des abscisses). Conclusion ?\n",
    "1. Modifier le script pour utiliser une boucle for"
   ]
  },
  {
   "cell_type": "markdown",
   "id": "c945c96b",
   "metadata": {
    "ExecuteTime": {
     "end_time": "2022-01-18T13:13:50.061661Z",
     "start_time": "2022-01-18T13:13:50.057419Z"
    }
   },
   "source": [
    "### Déterminer analytiquement la masse `m` de cette tige. Indication : `dm = λdx`"
   ]
  },
  {
   "cell_type": "markdown",
   "id": "0a2f1f54",
   "metadata": {},
   "source": [
    ">votre réponse ici"
   ]
  },
  {
   "cell_type": "markdown",
   "id": "4b2c7515",
   "metadata": {
    "ExecuteTime": {
     "end_time": "2022-01-18T14:24:16.372299Z",
     "start_time": "2022-01-18T14:24:16.357691Z"
    }
   },
   "source": [
    ">m= λ0l + k \\* l³/3"
   ]
  },
  {
   "cell_type": "markdown",
   "id": "763544ef",
   "metadata": {
    "ExecuteTime": {
     "end_time": "2022-01-18T13:14:29.769858Z",
     "start_time": "2022-01-18T13:14:29.765884Z"
    }
   },
   "source": [
    "### Application numérique : calculer `m` pour `l=1,2 m`, `λ0=0,625 kg*m⁻¹`, `k=5,0*10⁻³kg*m⁻³`."
   ]
  },
  {
   "cell_type": "code",
   "execution_count": null,
   "id": "869eead3",
   "metadata": {
    "ExecuteTime": {
     "end_time": "2022-01-18T15:35:49.481910Z",
     "start_time": "2022-01-18T15:35:49.478697Z"
    }
   },
   "outputs": [],
   "source": [
    "# votre code ici, insérez des cellules au besoin"
   ]
  },
  {
   "cell_type": "code",
   "execution_count": 3,
   "id": "900eb947",
   "metadata": {
    "ExecuteTime": {
     "end_time": "2022-01-19T08:10:52.129734Z",
     "start_time": "2022-01-19T08:10:52.121548Z"
    }
   },
   "outputs": [
    {
     "data": {
      "text/plain": [
       "0.7788"
      ]
     },
     "execution_count": 3,
     "metadata": {},
     "output_type": "execute_result"
    }
   ],
   "source": [
    "l = 1.2\n",
    "λ0 = 0.625\n",
    "k = 5*10**-2\n",
    "m = λ0 * l + (k*l**3)/3\n",
    "m"
   ]
  },
  {
   "cell_type": "markdown",
   "id": "5f0bc148",
   "metadata": {},
   "source": [
    "### Utiliser le script ci-dessous qui donne une approximation de la valeur de m. \n",
    "<div class='alert alert-info'>\n",
    "\n",
    "- Diminuer petit à petit le pas d'intégration dx : commencer par 1e − 1, par exemple, puis 5e−2, 1e−2, 1e−3…\n",
    "jusqu'à 1e-6. \n",
    "- Créez une liste de valeurs pour dx, une liste des valeurs de m approchées correspondantes, une liste de valeurs exactes de m aussi longue, et une liste des écarts entre les valeurs approchées et les valeurs exactes. Créez une DataFrame pandas avec ces 4 listes en colonnes. \n",
    "- Tracer l'évolution de m en fonction du pas d'intégration (utiliser une échelle logarithmique pour l'axe des abscisses). \n",
    "- Conclusion \n",
    "</div>"
   ]
  },
  {
   "cell_type": "code",
   "execution_count": 4,
   "id": "46e682be",
   "metadata": {
    "ExecuteTime": {
     "end_time": "2022-01-19T08:10:52.721521Z",
     "start_time": "2022-01-19T08:10:52.711251Z"
    }
   },
   "outputs": [
    {
     "name": "stdout",
     "output_type": "stream",
     "text": [
      " Résultat par la méthode de Riemann : 0.775300 \n",
      " Résultat exact : 0.778800 \n"
     ]
    }
   ],
   "source": [
    "#Script 1\n",
    "l = 1.2  # longueur\n",
    "lambda_0 = 0.625\n",
    "k = 5.0e-2\n",
    "\n",
    "m = 0.0  # initialisation du résultat de l’intégrale\n",
    "dx = 1e-1  # pas d’intégration sur x\n",
    "x = 0.0  # initialisation de la variable x à la première borne\n",
    "\n",
    "while x < l:  # tant que x < l on répète les instructions suivantes\n",
    "    m = m + (lambda_0 + k * x**2) * dx  # mise à jour de m\n",
    "    x = x + dx  # mise à jour de x, on l’augmente de la valeur du pas\n",
    "\n",
    "print(\" Résultat par la méthode de Riemann : {0:f} \".format(m))\n",
    "print(\" Résultat exact : {0:f} \".format(lambda_0 * l + (k * l**3) / 3))"
   ]
  },
  {
   "cell_type": "code",
   "execution_count": null,
   "id": "66a21cd4",
   "metadata": {
    "ExecuteTime": {
     "end_time": "2022-01-18T15:35:49.529276Z",
     "start_time": "2022-01-18T15:35:49.523022Z"
    }
   },
   "outputs": [],
   "source": [
    "# refactorisation du script en fonction, pour faire varier dx et obtenir m_approx facilement\n",
    "def riemann_int(dx):\n",
    "    l = 1.2  # longueur\n",
    "    lambda_0 = 0.625\n",
    "    k = 5.0e-2\n",
    "    m = 0.0  # initialisation du résultat de l’intégrale\n",
    "    x = 0.0  # initialisation de la variable x à la première borne\n",
    "\n",
    "    while x < l:  # tant que x < l on répète les instructions suivantes\n",
    "        m += (lambda_0 + k * x**2) * dx  # mise à jour de m\n",
    "        x += dx  # mise à jour de x, on l’augmente de la valeur du pas\n",
    "\n",
    "    return m\n"
   ]
  },
  {
   "cell_type": "code",
   "execution_count": null,
   "id": "cbb3e23f",
   "metadata": {
    "ExecuteTime": {
     "end_time": "2022-01-18T15:35:49.542083Z",
     "start_time": "2022-01-18T15:35:49.537733Z"
    }
   },
   "outputs": [],
   "source": [
    "riemann_int(dx=0.1)"
   ]
  },
  {
   "cell_type": "code",
   "execution_count": null,
   "id": "0d8afe8a",
   "metadata": {
    "ExecuteTime": {
     "end_time": "2022-01-18T15:35:49.549851Z",
     "start_time": "2022-01-18T15:35:49.543680Z"
    }
   },
   "outputs": [],
   "source": [
    "dxs = [1/10**n for n in range(1, 7)] + [5/10**n for n in range(2, 6)] # Valeurs de dx par 2 list comprehensions\n",
    "dxs.sort(reverse=True) # classement des valeurs de dx , de 10⁻¹ à 10⁻⁶\n",
    "dxs"
   ]
  },
  {
   "cell_type": "code",
   "execution_count": null,
   "id": "ced4829c",
   "metadata": {
    "ExecuteTime": {
     "end_time": "2022-01-18T15:35:49.734994Z",
     "start_time": "2022-01-18T15:35:49.551895Z"
    }
   },
   "outputs": [],
   "source": [
    "m_approx = [riemann_int(dx) for dx in dxs] # list comprehension avec notre fonction\n",
    "m_approx"
   ]
  },
  {
   "cell_type": "code",
   "execution_count": null,
   "id": "f13e4fef",
   "metadata": {
    "ExecuteTime": {
     "end_time": "2022-01-18T15:35:49.741033Z",
     "start_time": "2022-01-18T15:35:49.737766Z"
    }
   },
   "outputs": [],
   "source": [
    "m_exacts = [lambda_0 * l + (k * l**3) / 3] * len(dxs)"
   ]
  },
  {
   "cell_type": "code",
   "execution_count": null,
   "id": "b707a3a6",
   "metadata": {
    "ExecuteTime": {
     "end_time": "2022-01-18T15:35:49.756289Z",
     "start_time": "2022-01-18T15:35:49.742659Z"
    }
   },
   "outputs": [],
   "source": [
    "ecarts = [(approx - exact)/exact for approx, exact in zip(m_approx, m_exacts)] \n",
    "# list comprehension sur le zip des deux autres listes"
   ]
  },
  {
   "cell_type": "code",
   "execution_count": null,
   "id": "96fbe110",
   "metadata": {
    "ExecuteTime": {
     "end_time": "2022-01-18T15:35:49.969163Z",
     "start_time": "2022-01-18T15:35:49.757910Z"
    }
   },
   "outputs": [],
   "source": [
    "import pandas as pd # pour faire un tableau dans le notebook plutôt que dans Excel"
   ]
  },
  {
   "cell_type": "code",
   "execution_count": null,
   "id": "178e8692",
   "metadata": {
    "ExecuteTime": {
     "end_time": "2022-01-18T15:35:49.986659Z",
     "start_time": "2022-01-18T15:35:49.971747Z"
    }
   },
   "outputs": [],
   "source": [
    "df = pd.DataFrame() # création du DataFrame qui remplacerait le tableau excel\n",
    "df['dx'] = dxs\n",
    "df['m_approchée'] = m_approx\n",
    "df['m_exacte'] = m_exacts\n",
    "df['écart relatif'] = ecarts\n",
    "df"
   ]
  },
  {
   "cell_type": "code",
   "execution_count": null,
   "id": "838c8a20",
   "metadata": {
    "ExecuteTime": {
     "end_time": "2022-01-18T15:35:50.623315Z",
     "start_time": "2022-01-18T15:35:49.988034Z"
    }
   },
   "outputs": [],
   "source": [
    "import numpy as np\n",
    "import matplotlib.pyplot as plt"
   ]
  },
  {
   "cell_type": "code",
   "execution_count": null,
   "id": "b8698b2c",
   "metadata": {
    "ExecuteTime": {
     "end_time": "2022-01-18T15:35:51.086264Z",
     "start_time": "2022-01-18T15:35:50.625066Z"
    }
   },
   "outputs": [],
   "source": [
    "plt.plot(df.dx.sort_values(), df.m_approchée, label='masse approchée')\n",
    "plt.plot(df.dx, df.m_exacte, label='masse exacte')\n",
    "plt.xlim(1.0e-6, 1.0e-1)\n",
    "plt.xscale('log') # echelle logarithmique pour les abscisses\n",
    "plt.legend()\n",
    "plt.show()"
   ]
  },
  {
   "cell_type": "markdown",
   "id": "779a4bdf",
   "metadata": {},
   "source": [
    "Conclusion : la somme de Riemann converge bien vers la valeur exacte, à condition que les pas soient assez petits."
   ]
  },
  {
   "cell_type": "markdown",
   "id": "22b5743b",
   "metadata": {},
   "source": [
    "### Modifier le script pour qu'il utilise une boucle for"
   ]
  },
  {
   "cell_type": "code",
   "execution_count": null,
   "id": "86bbe424",
   "metadata": {
    "ExecuteTime": {
     "end_time": "2022-01-18T15:35:51.091976Z",
     "start_time": "2022-01-18T15:35:51.087300Z"
    }
   },
   "outputs": [],
   "source": [
    "#Script 2\n",
    "l = 1.2  # longueur\n",
    "lambda_0 = 0.625\n",
    "k = 5.0e-2\n",
    "\n",
    "m = 0.0  # initialisation du résultat de l’intégrale\n",
    "dx = 1e-1  # pas d’intégration sur x\n",
    "x = 0.0  # initialisation de la variable x à la première borne\n",
    "\n",
    "num_steps = int(l / dx) +1\n",
    "\n",
    "for _ in range(num_steps):\n",
    "    m = m + (lambda_0 + k * x**2) * dx  # mise à jour de m\n",
    "    x = x + dx  # mise à jour de x, on l’augmente de la valeur du pas\n",
    "\n",
    "print(\" Résultat par la méthode de Riemann : {0:f} \".format(m))\n",
    "print(\" Résultat exact : {0:f} \".format(lambda_0 * l + (k * l**3) / 3))"
   ]
  },
  {
   "cell_type": "code",
   "execution_count": null,
   "id": "b19c01bb",
   "metadata": {},
   "outputs": [],
   "source": []
  }
 ],
 "metadata": {
  "kernelspec": {
   "display_name": "Python 3 (ipykernel)",
   "language": "python",
   "name": "python3"
  },
  "language_info": {
   "codemirror_mode": {
    "name": "ipython",
    "version": 3
   },
   "file_extension": ".py",
   "mimetype": "text/x-python",
   "name": "python",
   "nbconvert_exporter": "python",
   "pygments_lexer": "ipython3",
   "version": "3.10.0rc1"
  },
  "toc": {
   "base_numbering": 1,
   "nav_menu": {},
   "number_sections": true,
   "sideBar": true,
   "skip_h1_title": true,
   "title_cell": "Table of Contents",
   "title_sidebar": "Contents",
   "toc_cell": false,
   "toc_position": {},
   "toc_section_display": true,
   "toc_window_display": true
  }
 },
 "nbformat": 4,
 "nbformat_minor": 5
}
