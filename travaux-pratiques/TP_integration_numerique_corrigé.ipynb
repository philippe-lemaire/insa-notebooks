{
 "cells": [
  {
   "cell_type": "markdown",
   "id": "7ed2bc53",
   "metadata": {},
   "source": [
    "# OMSI 2021-22 - TP/TD Intégration numérique\n",
    "# Programmation de sommes de Riemann avec Python"
   ]
  },
  {
   "cell_type": "markdown",
   "id": "0d565b52",
   "metadata": {},
   "source": [
    "## Introduction\n",
    "\n",
    "Ce TP s'inscrit dans le cadre de l'utilisation des outils numérique en OMSI et sert d'introduction\n",
    "au chapitre 6 du cours. Il consiste à approximer le calcul d'intégrales simples par la méthode de\n",
    "Riemann avec comme objectif pédagogique d'aider à mieux comprendre les notions de bornes\n",
    "d'intégration et de balayage d'un domaine. Ces bases seront utiles ensuite pour la résolution\n",
    "des intégrales multiples. Un autre aspect est d'aborder la problématique de la convergence des\n",
    "calculs numériques.\n",
    "\n",
    "Ce TP de 2 heures est à effectuer sur PC en utilisant le langage Python. Les scripts (ou programmes) sont très simples et ne font pas appel à un environnement graphique. Des connaissances de base en Python suffisent : définition de variables, affichage d'un résultat, boucles."
   ]
  },
  {
   "cell_type": "markdown",
   "id": "48c67b0f",
   "metadata": {},
   "source": [
    "## Intégrale simple en coordonnées cartésiennes : masse d’une barre inhomogène (premier exemple guidé)\n",
    "Une tige métallique de longueur `l` a une section non uniforme, elle est plus épaisse d'un côté que\n",
    "de l'autre. La masse linéique `λ` varie en fonction de la distance `x`, par rapport à une extrémité\n",
    "de la tige, selon la loi `λ = λ0 + kx²`, où `λ0` et `k` sont des constantes positives.\n",
    "\n",
    "1. Déterminer analytiquement la masse `m` de cette tige. Indication : `dm = λdx`\n",
    "1. Application numérique : calculer `m` pour `l` = 1,2 m, `λ0 = 0,625 kg * m⁻¹`, `k = 5,0 *10⁻³ kg * m⁻³`.\n",
    "1. Utiliser le script 1 qui donne une approximation de la valeur de m. Diminuer petit à petit\n",
    "le pas d'intégration dx : commencer par 1e − 1, par exemple, puis 5e − 2, 1e − 2, 1e − 3...\n",
    "jusqu'à 1e − 6. Dans un logiciel tableur, créer une colonne dx, une colonne m approchée,\n",
    "une colonne m exacte et une colonne dans laquelle vous calculerez l'écart relatif en pourcent\n",
    "entre la valeur approchée et la valeur exacte. Tracer l'évolution de m en fonction du pas\n",
    "d'intégration (utiliser une échelle logarithmique pour l'axe des abscisses). Conclusion ?\n",
    "1. Modifier le script pour utiliser une boucle for"
   ]
  },
  {
   "cell_type": "markdown",
   "id": "c945c96b",
   "metadata": {
    "ExecuteTime": {
     "end_time": "2022-01-18T13:13:50.061661Z",
     "start_time": "2022-01-18T13:13:50.057419Z"
    }
   },
   "source": [
    "### Déterminer analytiquement la masse `m` de cette tige. Indication : `dm = λdx`"
   ]
  },
  {
   "cell_type": "markdown",
   "id": "4b2c7515",
   "metadata": {
    "ExecuteTime": {
     "end_time": "2022-01-18T14:24:16.372299Z",
     "start_time": "2022-01-18T14:24:16.357691Z"
    }
   },
   "source": [
    ">$m = λ_0 + \\frac{k l^3}{3}$"
   ]
  },
  {
   "cell_type": "markdown",
   "id": "763544ef",
   "metadata": {
    "ExecuteTime": {
     "end_time": "2022-01-18T13:14:29.769858Z",
     "start_time": "2022-01-18T13:14:29.765884Z"
    }
   },
   "source": [
    "### Application numérique : calculer `m` pour `l=1,2 m`, `λ0=0,625 kg*m⁻¹`, `k=5,0*10⁻³kg*m⁻³`."
   ]
  },
  {
   "cell_type": "code",
   "execution_count": null,
   "id": "869eead3",
   "metadata": {
    "ExecuteTime": {
     "end_time": "2022-01-19T08:29:40.393622Z",
     "start_time": "2022-01-19T08:29:40.389130Z"
    }
   },
   "outputs": [],
   "source": [
    "# votre code ici, insérez des cellules au besoin"
   ]
  },
  {
   "cell_type": "code",
   "execution_count": null,
   "id": "900eb947",
   "metadata": {
    "ExecuteTime": {
     "end_time": "2022-01-19T08:29:40.421056Z",
     "start_time": "2022-01-19T08:29:40.397515Z"
    }
   },
   "outputs": [],
   "source": [
    "l = 1.2\n",
    "λ0 = 0.625\n",
    "k = 5*10**-2\n",
    "m = λ0 * l + (k*l**3)/3\n",
    "m"
   ]
  },
  {
   "cell_type": "markdown",
   "id": "5f0bc148",
   "metadata": {},
   "source": [
    "### Utiliser le script ci-dessous qui donne une approximation de la valeur de m. \n",
    "<div class='alert alert-info'>\n",
    "\n",
    "- Diminuer petit à petit le pas d'intégration dx : commencer par 1e − 1, par exemple, puis 5e−2, 1e−2, 1e−3…\n",
    "jusqu'à 1e-6. \n",
    "- Créez une liste de valeurs pour dx, une liste des valeurs de m approchées correspondantes, une liste de valeurs exactes de m aussi longue, et une liste des écarts entre les valeurs approchées et les valeurs exactes. Créez une DataFrame pandas avec ces 4 listes en colonnes. \n",
    "- Tracer l'évolution de m en fonction du pas d'intégration (utiliser une échelle logarithmique pour l'axe des abscisses). \n",
    "- Conclusion \n",
    "</div>"
   ]
  },
  {
   "cell_type": "code",
   "execution_count": null,
   "id": "46e682be",
   "metadata": {
    "ExecuteTime": {
     "end_time": "2022-01-19T08:29:40.432020Z",
     "start_time": "2022-01-19T08:29:40.425050Z"
    }
   },
   "outputs": [],
   "source": [
    "#Script 1\n",
    "longueur = 1.2  # longueur\n",
    "lambda_0 = 0.625\n",
    "k = 5.0e-2\n",
    "\n",
    "m = 0.0  # initialisation du résultat de l’intégrale\n",
    "dx = 1e-1  # pas d’intégration sur x\n",
    "x = 0.0  # initialisation de la variable x à la première borne\n",
    "\n",
    "while x < longueur:  # tant que x < l on répète les instructions suivantes\n",
    "    m = m + (lambda_0 + k * x**2) * dx  # mise à jour de m\n",
    "    x = x + dx  # mise à jour de x, on l’augmente de la valeur du pas\n",
    "\n",
    "print(\" Résultat par la méthode de Riemann : {0:f} \".format(m))\n",
    "print(\" Résultat exact : {0:f} \".format(lambda_0 * l + (k * l**3) / 3))"
   ]
  },
  {
   "cell_type": "code",
   "execution_count": null,
   "id": "66a21cd4",
   "metadata": {
    "ExecuteTime": {
     "end_time": "2022-01-19T08:29:40.439358Z",
     "start_time": "2022-01-19T08:29:40.434527Z"
    }
   },
   "outputs": [],
   "source": [
    "# refactorisation du script en fonction, pour faire varier dx et obtenir m_approx facilement\n",
    "def riemann_int(dx):\n",
    "    longueur = 1.2  # longueur\n",
    "    lambda_0 = 0.625\n",
    "    k = 5.0e-2\n",
    "    m = 0.0  # initialisation du résultat de l’intégrale\n",
    "    x = 0.0  # initialisation de la variable x à la première borne\n",
    "\n",
    "    while x < longueur:  # tant que x < l on répète les instructions suivantes\n",
    "        m += (lambda_0 + k * x**2) * dx  # mise à jour de m\n",
    "        x += dx  # mise à jour de x, on l’augmente de la valeur du pas\n",
    "\n",
    "    return m\n"
   ]
  },
  {
   "cell_type": "code",
   "execution_count": null,
   "id": "cbb3e23f",
   "metadata": {
    "ExecuteTime": {
     "end_time": "2022-01-19T08:29:40.448813Z",
     "start_time": "2022-01-19T08:29:40.441794Z"
    }
   },
   "outputs": [],
   "source": [
    "riemann_int(dx=0.1)"
   ]
  },
  {
   "cell_type": "code",
   "execution_count": null,
   "id": "0d8afe8a",
   "metadata": {
    "ExecuteTime": {
     "end_time": "2022-01-19T08:29:40.455336Z",
     "start_time": "2022-01-19T08:29:40.451151Z"
    }
   },
   "outputs": [],
   "source": [
    "dxs = [1/10**n for n in range(1, 7)] + [5/10**n for n in range(2, 6)] # Valeurs de dx par 2 list comprehensions\n",
    "dxs.sort(reverse=True) # classement des valeurs de dx , de 10⁻¹ à 10⁻⁶\n",
    "dxs"
   ]
  },
  {
   "cell_type": "code",
   "execution_count": null,
   "id": "ced4829c",
   "metadata": {
    "ExecuteTime": {
     "end_time": "2022-01-19T08:29:40.639598Z",
     "start_time": "2022-01-19T08:29:40.456698Z"
    }
   },
   "outputs": [],
   "source": [
    "m_approx = [riemann_int(dx) for dx in dxs] # list comprehension avec notre fonction\n",
    "m_approx"
   ]
  },
  {
   "cell_type": "code",
   "execution_count": null,
   "id": "f13e4fef",
   "metadata": {
    "ExecuteTime": {
     "end_time": "2022-01-19T08:29:40.646409Z",
     "start_time": "2022-01-19T08:29:40.642228Z"
    }
   },
   "outputs": [],
   "source": [
    "m_exacts = [lambda_0 * l + (k * l**3) / 3] * len(dxs)"
   ]
  },
  {
   "cell_type": "code",
   "execution_count": null,
   "id": "b707a3a6",
   "metadata": {
    "ExecuteTime": {
     "end_time": "2022-01-19T08:31:24.738862Z",
     "start_time": "2022-01-19T08:31:24.729614Z"
    }
   },
   "outputs": [],
   "source": [
    "ecarts = [\"{:.2%}\".format((approx - exact)/exact) for approx, exact in zip(m_approx, m_exacts)] \n",
    "# list comprehension sur le zip des deux autres listes\n",
    "ecarts"
   ]
  },
  {
   "cell_type": "code",
   "execution_count": null,
   "id": "96fbe110",
   "metadata": {
    "ExecuteTime": {
     "end_time": "2022-01-19T08:31:51.097394Z",
     "start_time": "2022-01-19T08:31:51.089914Z"
    }
   },
   "outputs": [],
   "source": [
    "import pandas as pd # pour faire un tableau dans le notebook plutôt que dans Excel"
   ]
  },
  {
   "cell_type": "code",
   "execution_count": null,
   "id": "178e8692",
   "metadata": {
    "ExecuteTime": {
     "end_time": "2022-01-19T08:31:51.232633Z",
     "start_time": "2022-01-19T08:31:51.216271Z"
    }
   },
   "outputs": [],
   "source": [
    "df = pd.DataFrame() # création du DataFrame qui remplacerait le tableau excel\n",
    "df['dx'] = dxs\n",
    "df['m_approchée'] = m_approx\n",
    "df['m_exacte'] = m_exacts\n",
    "df['écart relatif'] = ecarts\n",
    "df"
   ]
  },
  {
   "cell_type": "code",
   "execution_count": null,
   "id": "838c8a20",
   "metadata": {
    "ExecuteTime": {
     "end_time": "2022-01-19T08:32:04.717927Z",
     "start_time": "2022-01-19T08:32:04.705785Z"
    }
   },
   "outputs": [],
   "source": [
    "import numpy as np\n",
    "import matplotlib.pyplot as plt"
   ]
  },
  {
   "cell_type": "code",
   "execution_count": null,
   "id": "b8698b2c",
   "metadata": {
    "ExecuteTime": {
     "end_time": "2022-01-19T08:34:20.584474Z",
     "start_time": "2022-01-19T08:34:20.155855Z"
    }
   },
   "outputs": [],
   "source": [
    "plt.plot(df.dx.sort_values(), df.m_approchée, label='masse approchée')\n",
    "plt.plot(df.m_exacte, label='masse exacte')\n",
    "#plt.xlim(1.0e-6, 1.0e-1)\n",
    "plt.xscale('log') # echelle logarithmique pour les abscisses\n",
    "plt.legend()\n",
    "plt.show()"
   ]
  },
  {
   "cell_type": "markdown",
   "id": "779a4bdf",
   "metadata": {},
   "source": [
    "Conclusion : la somme de Riemann converge bien vers la valeur exacte, à condition que les pas soient assez petits."
   ]
  },
  {
   "cell_type": "markdown",
   "id": "22b5743b",
   "metadata": {},
   "source": [
    "### Modifier le script pour qu'il utilise une boucle for"
   ]
  },
  {
   "cell_type": "code",
   "execution_count": null,
   "id": "86bbe424",
   "metadata": {
    "ExecuteTime": {
     "end_time": "2022-01-19T08:34:40.059134Z",
     "start_time": "2022-01-19T08:34:40.051500Z"
    }
   },
   "outputs": [],
   "source": [
    "#Script 2\n",
    "longueur = 1.2  # longueur\n",
    "lambda_0 = 0.625\n",
    "k = 5.0e-2\n",
    "\n",
    "m = 0.0  # initialisation du résultat de l’intégrale\n",
    "dx = 1e-1  # pas d’intégration sur x\n",
    "x = 0.0  # initialisation de la variable x à la première borne\n",
    "\n",
    "num_steps = int(longueur / dx) +1\n",
    "\n",
    "for _ in range(num_steps):\n",
    "    m = m + (lambda_0 + k * x**2) * dx  # mise à jour de m\n",
    "    x = x + dx  # mise à jour de x, on l’augmente de la valeur du pas\n",
    "\n",
    "print(\" Résultat par la méthode de Riemann : {0:f} \".format(m))\n",
    "print(\" Résultat exact : {0:f} \".format(lambda_0 * l + (k * l**3) / 3))"
   ]
  },
  {
   "cell_type": "markdown",
   "id": "530a2fba",
   "metadata": {},
   "source": [
    "## Intégrales doubles se ramenant à des intégrales simple en coordonnées cartésiennes et polaires (deuxième exemple guidé)"
   ]
  },
  {
   "cell_type": "markdown",
   "id": "55a72bac",
   "metadata": {
    "ExecuteTime": {
     "end_time": "2022-01-19T08:37:39.126627Z",
     "start_time": "2022-01-19T08:37:39.103877Z"
    }
   },
   "source": [
    "On propose de calculer l'aire A du domaine D dé\u001c",
    "ni par :\n",
    "D = {(x, y) ∈ R2 ∣ ∣ x2 + y2 ≤ 4, x ≥ 0, y ≥ 0 }\n",
    "\n",
    "1. Représenter ce domaine. Quel est le résultat attendu ?\n",
    "1. En choisissant judicieusement la surface élémentaire, montrer que l'intégrale permettant de\n",
    "calculer cette aire devient une intégrale simple et la résoudre analytiquement (un changement\n",
    "de variable sera nécessaire).\n",
    "1. Utiliser le script 2 et diminuer petit à petit le pas d'intégration dx. Conclusion ?\n",
    "1. Modifier le script pour utiliser une boucle for\n",
    "1. Réécrire l'intégrale en utilisant les coordonnées polaires. Montrer qu'en choisissant judicieusement la surface élémentaire, on peut ramener l'intégrale à une intégrale simple et la résoudre.\n",
    "1. Écrire un autre script, en vous inspirant du premier, pour calculer cette intégrale."
   ]
  },
  {
   "cell_type": "markdown",
   "id": "f8827a62",
   "metadata": {},
   "source": [
    "On propose de calculer l'aire A du domaine D défini par : \n",
    "    \n",
    "    \n",
    "$\\def\\R{{\\mathbb R}}$\n",
    "$D =\\Bigl\\{ (x,y) \\in \\R^2~\\big\\vert\\ x^{2}+y^{2} \\leq 4, x \\geq 0, y \\geq 0 \\Bigr\\}$\n"
   ]
  },
  {
   "cell_type": "markdown",
   "id": "92eb7860",
   "metadata": {
    "ExecuteTime": {
     "end_time": "2022-01-19T08:55:56.478562Z",
     "start_time": "2022-01-19T08:55:56.472057Z"
    }
   },
   "source": [
    "### Représenter ce domaine. Quel est le résultat attendu ?"
   ]
  },
  {
   "cell_type": "code",
   "execution_count": null,
   "id": "004b8f39",
   "metadata": {},
   "outputs": [],
   "source": []
  },
  {
   "cell_type": "code",
   "execution_count": null,
   "id": "eec098bf",
   "metadata": {},
   "outputs": [],
   "source": []
  },
  {
   "cell_type": "markdown",
   "id": "db5cbb70",
   "metadata": {
    "ExecuteTime": {
     "end_time": "2022-01-19T08:55:56.478562Z",
     "start_time": "2022-01-19T08:55:56.472057Z"
    }
   },
   "source": [
    "### En choisissant judicieusement la surface élémentaire, montrer que l'intégrale permettant de calculer cette aire devient une intégrale simple et la résoudre analytiquement (un changement de variable sera nécessaire)."
   ]
  },
  {
   "cell_type": "code",
   "execution_count": null,
   "id": "a09c1e0e",
   "metadata": {},
   "outputs": [],
   "source": []
  },
  {
   "cell_type": "code",
   "execution_count": null,
   "id": "72145b65",
   "metadata": {},
   "outputs": [],
   "source": []
  },
  {
   "cell_type": "markdown",
   "id": "1416002c",
   "metadata": {
    "ExecuteTime": {
     "end_time": "2022-01-19T08:55:56.478562Z",
     "start_time": "2022-01-19T08:55:56.472057Z"
    }
   },
   "source": [
    "### Utiliser le script 2 et diminuer petit à petit le pas d'intégration dx. Conclusion ?"
   ]
  },
  {
   "cell_type": "code",
   "execution_count": null,
   "id": "9a9aac78",
   "metadata": {},
   "outputs": [],
   "source": []
  },
  {
   "cell_type": "code",
   "execution_count": null,
   "id": "b8ea2855",
   "metadata": {},
   "outputs": [],
   "source": []
  },
  {
   "cell_type": "markdown",
   "id": "2e71d0df",
   "metadata": {
    "ExecuteTime": {
     "end_time": "2022-01-19T08:55:56.478562Z",
     "start_time": "2022-01-19T08:55:56.472057Z"
    }
   },
   "source": [
    "### Modifier le script pour utiliser une boucle for"
   ]
  },
  {
   "cell_type": "code",
   "execution_count": null,
   "id": "763aec3b",
   "metadata": {},
   "outputs": [],
   "source": []
  },
  {
   "cell_type": "code",
   "execution_count": null,
   "id": "5a2982d1",
   "metadata": {},
   "outputs": [],
   "source": []
  },
  {
   "cell_type": "markdown",
   "id": "e2add0ad",
   "metadata": {
    "ExecuteTime": {
     "end_time": "2022-01-19T08:55:56.478562Z",
     "start_time": "2022-01-19T08:55:56.472057Z"
    }
   },
   "source": [
    "### Réécrire l'intégrale en utilisant les coordonnées polaires. Montrer qu'en choisissant judicieusement la surface élémentaire, on peut ramener l'intégrale à une intégrale simple et la résoudre."
   ]
  },
  {
   "cell_type": "code",
   "execution_count": null,
   "id": "6c7f0ad5",
   "metadata": {},
   "outputs": [],
   "source": []
  },
  {
   "cell_type": "code",
   "execution_count": null,
   "id": "49092d6b",
   "metadata": {},
   "outputs": [],
   "source": []
  },
  {
   "cell_type": "markdown",
   "id": "01d7ced0",
   "metadata": {
    "ExecuteTime": {
     "end_time": "2022-01-19T08:55:56.478562Z",
     "start_time": "2022-01-19T08:55:56.472057Z"
    }
   },
   "source": [
    "### Écrire un autre script, en vous inspirant du premier, pour calculer cette intégrale."
   ]
  },
  {
   "cell_type": "code",
   "execution_count": null,
   "id": "7f4d1e68",
   "metadata": {},
   "outputs": [],
   "source": []
  },
  {
   "cell_type": "code",
   "execution_count": null,
   "id": "92199d40",
   "metadata": {},
   "outputs": [],
   "source": []
  },
  {
   "cell_type": "markdown",
   "id": "165c2249",
   "metadata": {},
   "source": [
    "## Extension au cas des intégrales multiples"
   ]
  },
  {
   "cell_type": "markdown",
   "id": "52b8582a",
   "metadata": {},
   "source": [
    "Reprendre l'exemple précédent du calcul de l'aire d'un quart de disque mais écrire cette fois le\n",
    "calcul de l'aire sous la forme d'une intégrale double, en cartésien et en polaire. Puis écrire les\n",
    "scripts correspondant. Indication : il faut écrire deux boucles imbriquées en faisant attention à\n",
    "l'initialisation des variables."
   ]
  },
  {
   "cell_type": "code",
   "execution_count": null,
   "id": "ce43af2e",
   "metadata": {},
   "outputs": [],
   "source": []
  },
  {
   "cell_type": "markdown",
   "id": "bd1d0e65",
   "metadata": {},
   "source": [
    "## Intégrale double quelconque à variables liées en coordonnées cartésiennes"
   ]
  },
  {
   "cell_type": "markdown",
   "id": "f127b338",
   "metadata": {},
   "source": [
    "Dans le plan $\\mathbb{R}^{2}$ muni d'un repère orthonormé, on considère le domaine $D$ défini par\n",
    "\n",
    " $D = \\left\\{ (x, y) \\in \\mathbb{R}^{2} / -2 \\leq y \\leq 2, \\displaystyle\\frac{1}{2}y - 1 \\leq x \\leq y^{2}\\right\\}$\n",
    "\n"
   ]
  },
  {
   "cell_type": "markdown",
   "id": "86100d99",
   "metadata": {},
   "source": [
    "### Dessiner ce domaine et calculer son aire. Peut-on inverser l'ordre d'intégration ? Peut-on séparer l'intégrale double en un produit de deux intégrales simples ?"
   ]
  },
  {
   "cell_type": "markdown",
   "id": "d3f2928b",
   "metadata": {},
   "source": [
    "### Écrire un script Python permettant d'approximer $S$."
   ]
  },
  {
   "cell_type": "markdown",
   "id": "b8b256aa",
   "metadata": {},
   "source": [
    "### Soit $f:D \\rightarrow \\mathbb{R}$ définie par $f(x,y) = x+y$. Soit l'intégrale $I = \\displaystyle\\iint_{D} {f(x,y) \\mathrm{d}x\\mathrm{d}y}$.\n",
    "\n",
    "Calculer $I$."
   ]
  },
  {
   "cell_type": "code",
   "execution_count": null,
   "id": "2f3b4aea",
   "metadata": {},
   "outputs": [],
   "source": []
  },
  {
   "cell_type": "markdown",
   "id": "b4163735",
   "metadata": {},
   "source": [
    "### Retrouver ce résultat à l'aide d'un script *Python*"
   ]
  },
  {
   "cell_type": "code",
   "execution_count": null,
   "id": "bb2bd57b",
   "metadata": {},
   "outputs": [],
   "source": []
  }
 ],
 "metadata": {
  "kernelspec": {
   "display_name": "Python 3 (ipykernel)",
   "language": "python",
   "name": "python3"
  },
  "language_info": {
   "codemirror_mode": {
    "name": "ipython",
    "version": 3
   },
   "file_extension": ".py",
   "mimetype": "text/x-python",
   "name": "python",
   "nbconvert_exporter": "python",
   "pygments_lexer": "ipython3",
   "version": "3.10.0rc1"
  },
  "toc": {
   "base_numbering": 1,
   "nav_menu": {},
   "number_sections": true,
   "sideBar": true,
   "skip_h1_title": true,
   "title_cell": "Table of Contents",
   "title_sidebar": "Contents",
   "toc_cell": false,
   "toc_position": {
    "height": "calc(100% - 180px)",
    "left": "10px",
    "top": "150px",
    "width": "165px"
   },
   "toc_section_display": true,
   "toc_window_display": false
  }
 },
 "nbformat": 4,
 "nbformat_minor": 5
}
