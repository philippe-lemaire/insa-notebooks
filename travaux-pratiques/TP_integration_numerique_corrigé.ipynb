{
 "cells": [
  {
   "cell_type": "markdown",
   "id": "7ed2bc53",
   "metadata": {},
   "source": [
    "# OMSI 2021-22 - TP/TD Intégration numérique\n",
    "# Programmation de sommes de Riemann avec Python"
   ]
  },
  {
   "cell_type": "markdown",
   "id": "0d565b52",
   "metadata": {},
   "source": [
    "## Introduction\n",
    "\n",
    "Ce TP s'inscrit dans le cadre de l'utilisation des outils numérique en OMSI et sert d'introduction\n",
    "au chapitre 6 du cours. Il consiste à approximer le calcul d'intégrales simples par la méthode de\n",
    "Riemann avec comme objectif pédagogique d'aider à mieux comprendre les notions de bornes\n",
    "d'intégration et de balayage d'un domaine. Ces bases seront utiles ensuite pour la résolution\n",
    "des intégrales multiples. Un autre aspect est d'aborder la problématique de la convergence des\n",
    "calculs numériques.\n",
    "\n",
    "Ce TP de 2 heures est à effectuer sur PC en utilisant le langage Python. Les scripts (ou programmes) sont très simples et ne font pas appel à un environnement graphique. Des connaissances de base en Python suffisent : définition de variables, affichage d'un résultat, boucles."
   ]
  },
  {
   "cell_type": "markdown",
   "id": "48c67b0f",
   "metadata": {},
   "source": [
    "## Intégrale simple en coordonnées cartésiennes : masse d’une barre inhomogène (premier exemple guidé)\n",
    "Une tige métallique de longueur `l` a une section non uniforme, elle est plus épaisse d'un côté que\n",
    "de l'autre. La masse linéique `λ` varie en fonction de la distance `x`, par rapport à une extrémité\n",
    "de la tige, selon la loi `λ = λ0 + kx²`, où `λ0` et `k` sont des constantes positives.\n",
    "\n",
    "1. Déterminer analytiquement la masse `m` de cette tige. Indication : `dm = λdx`\n",
    "1. Application numérique : calculer `m` pour `l` = 1,2 m, `λ0 = 0,625 kg * m⁻¹`, `k = 5,0 *10⁻³ kg * m⁻³`.\n",
    "1. Utiliser le script 1 qui donne une approximation de la valeur de m. Diminuer petit à petit\n",
    "le pas d'intégration dx : commencer par 1e − 1, par exemple, puis 5e − 2, 1e − 2, 1e − 3...\n",
    "jusqu'à 1e − 6. Dans un logiciel tableur, créer une colonne dx, une colonne m approchée,\n",
    "une colonne m exacte et une colonne dans laquelle vous calculerez l'écart relatif en pourcent\n",
    "entre la valeur approchée et la valeur exacte. Tracer l'évolution de m en fonction du pas\n",
    "d'intégration (utiliser une échelle logarithmique pour l'axe des abscisses). Conclusion ?\n",
    "1. Modifier le script pour utiliser une boucle for"
   ]
  },
  {
   "cell_type": "markdown",
   "id": "c945c96b",
   "metadata": {
    "ExecuteTime": {
     "end_time": "2022-01-18T13:13:50.061661Z",
     "start_time": "2022-01-18T13:13:50.057419Z"
    }
   },
   "source": [
    "### Déterminer analytiquement la masse `m` de cette tige. Indication : `dm = λdx`"
   ]
  },
  {
   "cell_type": "markdown",
   "id": "4b2c7515",
   "metadata": {
    "ExecuteTime": {
     "end_time": "2022-01-18T14:24:16.372299Z",
     "start_time": "2022-01-18T14:24:16.357691Z"
    }
   },
   "source": [
    ">$m = λ_0 + \\frac{k l^3}{3}$"
   ]
  },
  {
   "cell_type": "markdown",
   "id": "763544ef",
   "metadata": {
    "ExecuteTime": {
     "end_time": "2022-01-18T13:14:29.769858Z",
     "start_time": "2022-01-18T13:14:29.765884Z"
    }
   },
   "source": [
    "### Application numérique : calculer `m` pour `l=1,2 m`, `λ0=0,625 kg*m⁻¹`, `k=5,0*10⁻2kg*m⁻³`."
   ]
  },
  {
   "cell_type": "code",
   "execution_count": null,
   "id": "869eead3",
   "metadata": {
    "ExecuteTime": {
     "end_time": "2022-01-19T14:50:05.500546Z",
     "start_time": "2022-01-19T14:50:05.495370Z"
    }
   },
   "outputs": [],
   "source": [
    "# votre code ici, insérez des cellules au besoin"
   ]
  },
  {
   "cell_type": "code",
   "execution_count": null,
   "id": "900eb947",
   "metadata": {
    "ExecuteTime": {
     "end_time": "2022-01-19T14:50:05.622683Z",
     "start_time": "2022-01-19T14:50:05.616394Z"
    }
   },
   "outputs": [],
   "source": [
    "l = 1.2\n",
    "λ0 = 0.625\n",
    "k = 5*10**-2\n",
    "m = λ0 * l + (k*l**3)/3\n",
    "m"
   ]
  },
  {
   "cell_type": "markdown",
   "id": "5f0bc148",
   "metadata": {},
   "source": [
    "### Utiliser le script ci-dessous qui donne une approximation de la valeur de m. \n",
    "\n",
    "\n",
    "- Diminuer petit à petit le pas d'intégration dx : commencer par 1e − 1, par exemple, puis 5e−2, 1e−2, 1e−3…\n",
    "jusqu'à 1e-6. \n",
    "- Créez une liste de valeurs pour dx, une liste des valeurs de m approchées correspondantes, une liste de valeurs exactes de m aussi longue, et une liste des écarts entre les valeurs approchées et les valeurs exactes. Créez une DataFrame pandas avec ces 4 listes en colonnes. \n",
    "- Tracer l'évolution de m en fonction du pas d'intégration (utiliser une échelle logarithmique pour l'axe des abscisses). \n",
    "- Conclusion \n"
   ]
  },
  {
   "cell_type": "code",
   "execution_count": null,
   "id": "46e682be",
   "metadata": {
    "ExecuteTime": {
     "end_time": "2022-01-19T14:50:05.889131Z",
     "start_time": "2022-01-19T14:50:05.880681Z"
    }
   },
   "outputs": [],
   "source": [
    "#Script 1\n",
    "longueur = 1.2  # longueur\n",
    "lambda_0 = 0.625\n",
    "k = 5.0e-2\n",
    "\n",
    "m = 0.0  # initialisation du résultat de l’intégrale\n",
    "dx = 1e-1  # pas d’intégration sur x\n",
    "x = 0.0  # initialisation de la variable x à la première borne\n",
    "\n",
    "while x < longueur:  # tant que x < l on répète les instructions suivantes\n",
    "    m = m + (lambda_0 + k * x**2) * dx  # mise à jour de m\n",
    "    x = x + dx  # mise à jour de x, on l’augmente de la valeur du pas\n",
    "\n",
    "print(\" Résultat par la méthode de Riemann : {0:f} \".format(m))\n",
    "print(\" Résultat exact : {0:f} \".format(lambda_0 * l + (k * l**3) / 3))"
   ]
  },
  {
   "cell_type": "code",
   "execution_count": null,
   "id": "66a21cd4",
   "metadata": {
    "ExecuteTime": {
     "end_time": "2022-01-19T14:50:06.037868Z",
     "start_time": "2022-01-19T14:50:06.031616Z"
    }
   },
   "outputs": [],
   "source": [
    "# refactorisation du script en fonction, pour faire varier dx et obtenir m_approx facilement\n",
    "def riemann_int(dx):\n",
    "    longueur = 1.2  # longueur\n",
    "    lambda_0 = 0.625\n",
    "    k = 5.0e-2\n",
    "    m = 0.0  # initialisation du résultat de l’intégrale\n",
    "    x = 0.0  # initialisation de la variable x à la première borne\n",
    "\n",
    "    while x < longueur:  # tant que x < l on répète les instructions suivantes\n",
    "        m += (lambda_0 + k * x**2) * dx  # mise à jour de m\n",
    "        x += dx  # mise à jour de x, on l’augmente de la valeur du pas\n",
    "\n",
    "    return m\n"
   ]
  },
  {
   "cell_type": "code",
   "execution_count": null,
   "id": "cbb3e23f",
   "metadata": {
    "ExecuteTime": {
     "end_time": "2022-01-19T14:50:06.194099Z",
     "start_time": "2022-01-19T14:50:06.186225Z"
    }
   },
   "outputs": [],
   "source": [
    "riemann_int(dx=0.1)"
   ]
  },
  {
   "cell_type": "code",
   "execution_count": null,
   "id": "0d8afe8a",
   "metadata": {
    "ExecuteTime": {
     "end_time": "2022-01-19T14:50:06.337814Z",
     "start_time": "2022-01-19T14:50:06.328683Z"
    }
   },
   "outputs": [],
   "source": [
    "dxs = [1/10**n for n in range(1, 7)] + [5/10**n for n in range(2, 6)] # Valeurs de dx par 2 list comprehensions\n",
    "dxs.sort(reverse=True) # classement des valeurs de dx , de 10⁻¹ à 10⁻⁶\n",
    "dxs"
   ]
  },
  {
   "cell_type": "code",
   "execution_count": null,
   "id": "ced4829c",
   "metadata": {
    "ExecuteTime": {
     "end_time": "2022-01-19T14:50:13.610003Z",
     "start_time": "2022-01-19T14:50:13.380365Z"
    }
   },
   "outputs": [],
   "source": [
    "m_approx = [riemann_int(dx) for dx in dxs] # list comprehension avec notre fonction"
   ]
  },
  {
   "cell_type": "code",
   "execution_count": null,
   "id": "f13e4fef",
   "metadata": {
    "ExecuteTime": {
     "end_time": "2022-01-19T14:50:14.973251Z",
     "start_time": "2022-01-19T14:50:14.970339Z"
    }
   },
   "outputs": [],
   "source": [
    "m_exacts = [lambda_0 * l + (k * l**3) / 3] * len(dxs)"
   ]
  },
  {
   "cell_type": "code",
   "execution_count": null,
   "id": "b707a3a6",
   "metadata": {
    "ExecuteTime": {
     "end_time": "2022-01-19T14:50:15.545480Z",
     "start_time": "2022-01-19T14:50:15.539849Z"
    }
   },
   "outputs": [],
   "source": [
    "ecarts = [\"{:.2%}\".format((approx - exact)/exact) for approx, exact in zip(m_approx, m_exacts)] \n",
    "# list comprehension sur le zip des deux autres listes"
   ]
  },
  {
   "cell_type": "code",
   "execution_count": null,
   "id": "96fbe110",
   "metadata": {
    "ExecuteTime": {
     "end_time": "2022-01-19T14:50:15.999336Z",
     "start_time": "2022-01-19T14:50:15.995398Z"
    }
   },
   "outputs": [],
   "source": [
    "import pandas as pd # pour faire un tableau dans le notebook plutôt que dans Excel"
   ]
  },
  {
   "cell_type": "code",
   "execution_count": null,
   "id": "178e8692",
   "metadata": {
    "ExecuteTime": {
     "end_time": "2022-01-19T14:50:40.880431Z",
     "start_time": "2022-01-19T14:50:40.855222Z"
    }
   },
   "outputs": [],
   "source": [
    "df = pd.DataFrame() # création du DataFrame qui remplacerait le tableau excel\n",
    "df['dx'] = dxs\n",
    "df['m_approchée'] = m_approx\n",
    "df['m_exacte'] = m_exacts\n",
    "df['écart relatif'] = ecarts\n",
    "df['dx'] = df['dx'].apply(lambda x: \"{:.1e}\".format(x))\n",
    "df"
   ]
  },
  {
   "cell_type": "code",
   "execution_count": null,
   "id": "838c8a20",
   "metadata": {
    "ExecuteTime": {
     "end_time": "2022-01-19T14:48:07.972797Z",
     "start_time": "2022-01-19T14:48:07.264462Z"
    }
   },
   "outputs": [],
   "source": [
    "import numpy as np\n",
    "import matplotlib.pyplot as plt"
   ]
  },
  {
   "cell_type": "code",
   "execution_count": null,
   "id": "b8698b2c",
   "metadata": {
    "ExecuteTime": {
     "end_time": "2022-01-19T14:59:20.861012Z",
     "start_time": "2022-01-19T14:59:20.701258Z"
    }
   },
   "outputs": [],
   "source": [
    "figure, axes = plt.subplots(figsize=(12,6)) \n",
    "\n",
    "plt.plot(df.dx, df.m_approchée, label='masse approchée')\n",
    "plt.plot(df.m_exacte, label='masse exacte')\n",
    "plt.xlabel('dx', labelpad=15)\n",
    "plt.ylabel('m', rotation=0,labelpad=15)\n",
    "plt.legend()\n",
    "plt.show()"
   ]
  },
  {
   "cell_type": "markdown",
   "id": "779a4bdf",
   "metadata": {},
   "source": [
    "Conclusion : la somme de Riemann converge bien vers la valeur exacte, à condition que les pas soient assez petits."
   ]
  },
  {
   "cell_type": "markdown",
   "id": "22b5743b",
   "metadata": {},
   "source": [
    "### Modifier le script pour qu'il utilise une boucle for"
   ]
  },
  {
   "cell_type": "code",
   "execution_count": null,
   "id": "86bbe424",
   "metadata": {
    "ExecuteTime": {
     "end_time": "2022-01-19T14:48:08.562760Z",
     "start_time": "2022-01-19T14:48:08.556248Z"
    }
   },
   "outputs": [],
   "source": [
    "#Script 2\n",
    "longueur = 1.2  # longueur\n",
    "lambda_0 = 0.625\n",
    "k = 5.0e-2\n",
    "\n",
    "m = 0.0  # initialisation du résultat de l’intégrale\n",
    "dx = 1e-1  # pas d’intégration sur x\n",
    "x = 0.0  # initialisation de la variable x à la première borne\n",
    "\n",
    "num_steps = int(longueur / dx) +1\n",
    "\n",
    "for _ in range(num_steps):\n",
    "    m = m + (lambda_0 + k * x**2) * dx  # mise à jour de m\n",
    "    x = x + dx  # mise à jour de x, on l’augmente de la valeur du pas\n",
    "\n",
    "print(\" Résultat par la méthode de Riemann : {0:f} \".format(m))\n",
    "print(\" Résultat exact : {0:f} \".format(lambda_0 * l + (k * l**3) / 3))"
   ]
  },
  {
   "cell_type": "markdown",
   "id": "c4d0eebf",
   "metadata": {},
   "source": [
    "## Intégrales doubles se ramenant à des intégrales simple en coordonnées cartésiennes et polaires (deuxième exemple guidé)"
   ]
  },
  {
   "cell_type": "markdown",
   "id": "9ca6c2bd",
   "metadata": {
    "ExecuteTime": {
     "end_time": "2022-01-19T08:37:39.126627Z",
     "start_time": "2022-01-19T08:37:39.103877Z"
    }
   },
   "source": [
    "On propose de calculer l'aire A du domaine D dé\u001c",
    "ni par :\n",
    "D = {(x, y) ∈ R2 ∣ ∣ x2 + y2 ≤ 4, x ≥ 0, y ≥ 0 }\n",
    "\n",
    "1. Représenter ce domaine. Quel est le résultat attendu ?\n",
    "1. En choisissant judicieusement la surface élémentaire, montrer que l'intégrale permettant de\n",
    "calculer cette aire devient une intégrale simple et la résoudre analytiquement (un changement\n",
    "de variable sera nécessaire).\n",
    "1. Utiliser le script 2 et diminuer petit à petit le pas d'intégration dx. Conclusion ?\n",
    "1. Modifier le script pour utiliser une boucle for\n",
    "1. Réécrire l'intégrale en utilisant les coordonnées polaires. Montrer qu'en choisissant judicieusement la surface élémentaire, on peut ramener l'intégrale à une intégrale simple et la résoudre.\n",
    "1. Écrire un autre script, en vous inspirant du premier, pour calculer cette intégrale."
   ]
  },
  {
   "cell_type": "markdown",
   "id": "54f0744d",
   "metadata": {},
   "source": [
    "On propose de calculer l'aire A du domaine D défini par : \n",
    "    \n",
    "    \n",
    "$\\def\\R{{\\mathbb R}}$\n",
    "$D =\\Bigl\\{ (x,y) \\in \\R^2~\\big\\vert\\ x^{2}+y^{2} \\leq 4, x \\geq 0, y \\geq 0 \\Bigr\\}$\n"
   ]
  },
  {
   "cell_type": "markdown",
   "id": "03f45068",
   "metadata": {
    "ExecuteTime": {
     "end_time": "2022-01-19T08:55:56.478562Z",
     "start_time": "2022-01-19T08:55:56.472057Z"
    }
   },
   "source": [
    "### Représenter ce domaine. Quel est le résultat attendu ?"
   ]
  },
  {
   "cell_type": "code",
   "execution_count": null,
   "id": "98acd516",
   "metadata": {
    "ExecuteTime": {
     "end_time": "2022-01-19T15:11:29.300492Z",
     "start_time": "2022-01-19T15:11:29.296303Z"
    }
   },
   "outputs": [],
   "source": [
    "import matplotlib.pyplot as plt\n",
    "import matplotlib.patches as patches\n",
    "import numpy as np"
   ]
  },
  {
   "cell_type": "code",
   "execution_count": null,
   "id": "dd1bc828",
   "metadata": {
    "ExecuteTime": {
     "end_time": "2022-01-19T15:03:25.979808Z",
     "start_time": "2022-01-19T15:03:25.876053Z"
    }
   },
   "outputs": [],
   "source": [
    "figure, ax = plt.subplots(figsize=(6,6)) \n",
    "x = np.linspace(0, 2, 1000)\n",
    "y = np.sqrt(4-x**2)\n",
    "\n",
    "ax.fill_between(x,y) # remplit l'aire entre l'axe des abscisses et la courbe\n",
    "\n",
    "# paramétrage du plot\n",
    "## taille des bornes\n",
    "plt.xlim(0,2.5)\n",
    "plt.ylim(0, 2.5)\n",
    "## labels des axes\n",
    "plt.xlabel('x', loc='right')\n",
    "plt.ylabel('y', loc='top', rotation=0)\n",
    "## réduction du nombre de ticks\n",
    "plt.locator_params(axis='x', nbins=2)\n",
    "plt.locator_params(axis='y', nbins=2)\n",
    "## titre\n",
    "plt.title( 'x²+y² <= 4 avec x >= 0 et y >= 0')\n",
    "## lets's go\n",
    "plt.show()"
   ]
  },
  {
   "cell_type": "markdown",
   "id": "01838e7b",
   "metadata": {},
   "source": [
    "Il s'agit d'un quart de cercle de rayon 2 situé dans le premier quadrant. $A = \\pi$"
   ]
  },
  {
   "cell_type": "markdown",
   "id": "edbaf8b0",
   "metadata": {
    "ExecuteTime": {
     "end_time": "2022-01-19T08:55:56.478562Z",
     "start_time": "2022-01-19T08:55:56.472057Z"
    }
   },
   "source": [
    "### En choisissant judicieusement la surface élémentaire, montrer que l'intégrale permettant de calculer cette aire devient une intégrale simple et la résoudre analytiquement (un changement de variable sera nécessaire)."
   ]
  },
  {
   "cell_type": "markdown",
   "id": "ec0073c3",
   "metadata": {},
   "source": [
    "En cartésien, $\\mathrm{d}A = \\mathrm{d}x \\mathrm{d}y$ mais on peut prendre une surface élémentaire plus grande  : $\\mathrm{d}A = y \\mathrm{d}x = \\sqrt{4 - x^{2}} \\mathrm{d}x$ (ce qui revient pour une intégrale double à calculer la première intégrale sur $y$ entre $0$ et $\\sqrt{4 - x^{2}}$)."
   ]
  },
  {
   "cell_type": "code",
   "execution_count": null,
   "id": "94ab1270",
   "metadata": {
    "ExecuteTime": {
     "end_time": "2022-01-19T15:39:42.977742Z",
     "start_time": "2022-01-19T15:39:42.830029Z"
    }
   },
   "outputs": [],
   "source": [
    "figure, ax = plt.subplots(figsize=(10, 10))\n",
    "\n",
    "# plot de l'arc de cercle\n",
    "x = np.linspace(0, 2, 1000)\n",
    "y = np.sqrt(4 - x**2)\n",
    "plt.plot(x, y)\n",
    "\n",
    "# plot y1\n",
    "y1 = np.sqrt(4 - 1**2)\n",
    "plt.plot((1, 1), (0, y1), label='$y= \\sqrt{4 - x^{2}} $')\n",
    "\n",
    "\n",
    "# Rectangle dx * y\n",
    "xy = (1, 0)\n",
    "dx = 0.05\n",
    "rect = patches.Rectangle(xy,\n",
    "                         width=dx,\n",
    "                         height=y1,\n",
    "                         linewidth=1,\n",
    "                         edgecolor='gray',\n",
    "                         facecolor='gray',\n",
    "                         alpha=.5,\n",
    "                         label='dA = y·dx')\n",
    "ax.add_patch(rect)\n",
    "\n",
    "# plot dx\n",
    "plt.plot((1, 1+dx),(1,1), label=\"dx\", linewidth=2, color='green')\n",
    "\n",
    "# paramétrage du plot\n",
    "## taille des bornes\n",
    "plt.xlim(0,2.5)\n",
    "plt.ylim(0, 2.5)\n",
    "## labels des axes\n",
    "plt.xlabel('x', loc='right')\n",
    "plt.ylabel('y', loc='top', rotation=0)\n",
    "## réduction du nombre de ticks\n",
    "plt.locator_params(axis='x', nbins=2)\n",
    "plt.locator_params(axis='y', nbins=2)\n",
    "## titre\n",
    "plt.title('$y= \\sqrt{4 - x^{2}} $')\n",
    "# légende\n",
    "plt.legend()\n",
    "## lets's go\n",
    "plt.show()"
   ]
  },
  {
   "cell_type": "markdown",
   "id": "5a812025",
   "metadata": {},
   "source": [
    "\\begin{equation}\n",
    "A = \\displaystyle\\int_{0}^{2}{\\sqrt{4 - x^{2}} \\mathrm{d}x} = \\displaystyle\\int_{0}^{2}{2 \\sqrt{1 - \\left( \\frac{x}{2} \\right)^{2}} \\mathrm{d}x}\n",
    "\\end{equation}"
   ]
  },
  {
   "cell_type": "markdown",
   "id": "6a877ee8",
   "metadata": {},
   "source": [
    "On pose par exemple $\\displaystyle\\frac{x}{2} = \\sin \\alpha \\Rightarrow \\mathrm{d}x = 2 \\cos \\alpha \\mathrm{d}\\alpha$\n",
    "\n",
    "Et pour calculer les nouvelles bornes on utilise : $\\alpha = \\arcsin{\\displaystyle\\frac{x}{2}}$\n",
    "\n",
    "\\begin{equation}\n",
    "\\begin{split}\n",
    "A & = \\displaystyle 4 \\int_{0}^{\\frac{\\pi}{2}}{\\sqrt{1 - \\sin^{2} \\alpha} \\cos \\alpha \\mathrm{d}\\alpha} = \\displaystyle 4 \\int_{0}^{\\frac{\\pi}{2}}{ \\cos^{2} \\alpha \\mathrm{d}\\alpha} = \\displaystyle 2 \\int_{0}^{\\frac{\\pi}{2}}{ \\left( 1 + \\cos 2\\alpha \\right) \\mathrm{d}\\alpha}\\\\\n",
    "& = 2 \\bigg[ \\alpha + \\frac{1}{2} \\sin 2\\alpha \\bigg]_{0}^{\\frac{\\pi}{2}} = 2 \\left( \\frac{\\pi}{2} - 0\\right) = \\pi\n",
    "\\end{split}\n",
    "\\end{equation}"
   ]
  },
  {
   "cell_type": "markdown",
   "id": "f82908fb",
   "metadata": {
    "ExecuteTime": {
     "end_time": "2022-01-19T08:55:56.478562Z",
     "start_time": "2022-01-19T08:55:56.472057Z"
    }
   },
   "source": [
    "### Utiliser le script ci-dessous et diminuer petit à petit le pas d'intégration dx. Conclusion ?"
   ]
  },
  {
   "cell_type": "code",
   "execution_count": null,
   "id": "ed565402",
   "metadata": {
    "ExecuteTime": {
     "end_time": "2022-01-19T14:48:08.794107Z",
     "start_time": "2022-01-19T14:48:08.788006Z"
    }
   },
   "outputs": [],
   "source": [
    "# Aire d'un quart de disque de rayon 2 : intégrale simple en cartésien\n",
    "from math import pi, sqrt\n",
    "\n",
    "A = 0.0 # initialisation du résultat de l'intégrale\n",
    "dx = 1e-1 # pas d'intégration sur x\n",
    "x = 0.0 # initialisation de la variable x à la première borne\n",
    "\n",
    "while x < 2: # tant que x est inférieur à 2, on répète le bloc indenté ci-dessous\n",
    "    A = A + sqrt(4-x**2)*dx # mise à jour de A\n",
    "    x = x + dx # mise à jour de x, on l'augmente de la valeur du pas\n",
    "    \n",
    "print('Résultat par la méthode de Riemann : {0:f}'.format(A))\n",
    "print('Résultat par un calcul analytique (pi) : {0:f}'.format(pi))"
   ]
  },
  {
   "cell_type": "code",
   "execution_count": null,
   "id": "bd6cfd7b",
   "metadata": {
    "ExecuteTime": {
     "end_time": "2022-01-19T15:43:46.895283Z",
     "start_time": "2022-01-19T15:43:46.891197Z"
    }
   },
   "outputs": [],
   "source": [
    "# refactorisation du script en fonction de dx\n",
    "def riemann_quarter_circle(dx):\n",
    "    A = 0.0 # initialisation du résultat de l'intégrale\n",
    "    x = 0.0 # initialisation de la variable x à la première borne\n",
    "\n",
    "    while x < 2: # tant que x est inférieur à 2, on répète le bloc indenté ci-dessous\n",
    "        A = A + sqrt(4-x**2)*dx # mise à jour de A\n",
    "        x = x + dx # mise à jour de x, on l'augmente de la valeur du pas\n",
    "\n",
    "    return A"
   ]
  },
  {
   "cell_type": "code",
   "execution_count": null,
   "id": "a62fbbbc",
   "metadata": {
    "ExecuteTime": {
     "end_time": "2022-01-19T15:44:03.444123Z",
     "start_time": "2022-01-19T15:44:03.438167Z"
    }
   },
   "outputs": [],
   "source": [
    "riemann_quarter_circle(dx=0.1) # test de la fonction"
   ]
  },
  {
   "cell_type": "code",
   "execution_count": null,
   "id": "3a6a693f",
   "metadata": {
    "ExecuteTime": {
     "end_time": "2022-01-19T14:48:09.273737Z",
     "start_time": "2022-01-19T14:48:08.848153Z"
    }
   },
   "outputs": [],
   "source": [
    "dxs = [10**-i for i in range(1,7)] # liste de valeurs de dx, entre 10⁻1 et 10⁻6\n",
    "\n",
    "df = pd.DataFrame() # création d'une DataFrame pandas pour stocker et montrer les résultats\n",
    "df['dx'] = dxs # colonne dx\n",
    "\n",
    "df['A_approchée'] = [riemann_quarter_circle(dx) for dx in dxs] # Colonne des valeurs approchées, via notre fonction\n",
    "df['A_réelle']= [np.pi] * len(dxs) # colonne avec la valeur réelle\n",
    "df['Écarts relatifs'] = (df['A_approchée'] - df['A_réelle']) / df['A_réelle'] # colonne des écarts\n",
    "df['dx'] = df['dx'].apply(lambda x: \"{:.0e}\".format(x)) # formatage en notation scientifique de la colonne dx\n",
    "df['Écarts relatifs'] = df['Écarts relatifs'].apply(lambda x: \"{:.2e}\".format(x)) # idem pour colonne écarts\n",
    "df"
   ]
  },
  {
   "cell_type": "code",
   "execution_count": null,
   "id": "f3e7450b",
   "metadata": {
    "ExecuteTime": {
     "end_time": "2022-01-19T14:48:09.363179Z",
     "start_time": "2022-01-19T14:48:09.276189Z"
    }
   },
   "outputs": [],
   "source": [
    "figure, ax = plt.subplots(figsize=(16, 8))\n",
    "\n",
    "ax.plot(df.dx, df.A_approchée, label='Aire approchée')\n",
    "ax.plot(df.dx, [np.pi]*len(df.dx), label='Aire exacte = π')\n",
    "ax.xscale='log'\n",
    "\n",
    "\n",
    "#plt.title('$y= \\sqrt{4 - x^{2}} $')\n",
    "plt.xlabel('Taille du pas d’intégration')\n",
    "plt.ylabel('Aire', rotation=0)\n",
    "\n",
    "plt.legend()\n",
    "plt.show()\n",
    "\n"
   ]
  },
  {
   "cell_type": "markdown",
   "id": "b49dd5bb",
   "metadata": {
    "ExecuteTime": {
     "end_time": "2022-01-19T09:35:20.264451Z",
     "start_time": "2022-01-19T09:35:20.254475Z"
    }
   },
   "source": [
    "> Conclusion : La méthode de Riemann converge bien vers la vraie valeur, à mesure que la taille du pas diminue."
   ]
  },
  {
   "cell_type": "markdown",
   "id": "0ec8d4fd",
   "metadata": {
    "ExecuteTime": {
     "end_time": "2022-01-19T08:55:56.478562Z",
     "start_time": "2022-01-19T08:55:56.472057Z"
    }
   },
   "source": [
    "### Modifier le script pour utiliser une boucle for"
   ]
  },
  {
   "cell_type": "code",
   "execution_count": null,
   "id": "f02a9ccf",
   "metadata": {},
   "outputs": [],
   "source": [
    "# Aire d'un quart de disque de rayon 2 : intégrale simple en cartésien\n",
    "from math import pi, sqrt\n",
    "\n",
    "A = 0.0 # initialisation du résultat de l'intégrale\n",
    "dx = 1e-1 # pas d'intégration sur x\n",
    "x = 0.0 # initialisation de la variable x à la première borne\n",
    "\n",
    "for indice in range(0, round(2/dx)): # boucle de 0 à indice max-1 par pas de 1\n",
    "    A = A + sqrt(4-x**2)*dx # mise à jour de A\n",
    "    x = x + dx # mise à jour de x, on l'augmente de la valeur du pas\n",
    "    \n",
    "print('Résultat par la méthode de Riemann : {0:f}'.format(A))\n",
    "print('Résultat par un calcul analytique (pi) : {0:f}'.format(pi))"
   ]
  },
  {
   "cell_type": "code",
   "execution_count": null,
   "id": "ddc1f089",
   "metadata": {},
   "outputs": [],
   "source": []
  },
  {
   "cell_type": "markdown",
   "id": "d0ed3eb5",
   "metadata": {
    "ExecuteTime": {
     "end_time": "2022-01-19T08:55:56.478562Z",
     "start_time": "2022-01-19T08:55:56.472057Z"
    }
   },
   "source": [
    "### Réécrire l'intégrale en utilisant les coordonnées polaires. Montrer qu'en choisissant judicieusement la surface élémentaire, on peut ramener l'intégrale à une intégrale simple et la résoudre."
   ]
  },
  {
   "cell_type": "markdown",
   "id": "866131ee",
   "metadata": {},
   "source": [
    "En polaire on a $\\mathrm{d}A = r\\mathrm{d}r\\mathrm{d}\\theta$. On peut considérer un $\\mathrm{d}A$ plus grand représenté ci-dessous \n",
    "\n",
    "$\\mathrm{d}A = \\displaystyle\\frac{\\pi}{2}r\\mathrm{d}r$"
   ]
  },
  {
   "cell_type": "markdown",
   "id": "6021ee5d",
   "metadata": {},
   "source": [
    "\\begin{equation}\n",
    "A = \\displaystyle\\frac{\\pi}{2}\\displaystyle\\int_{0}^{2}{r\\mathrm{d}r} = \\frac{\\pi}{4} \\bigg[ r^{2} \\bigg]_{0}^{2} = \\pi\n",
    "\\end{equation}"
   ]
  },
  {
   "cell_type": "code",
   "execution_count": null,
   "id": "31ab2dfd",
   "metadata": {},
   "outputs": [],
   "source": [
    "figure, ax = plt.subplots(figsize=(6, 6))\n",
    "\n",
    "# plot de l'arc de cercle principal\n",
    "x = np.linspace(0, 2, 1000)\n",
    "y = np.sqrt(4 - x**2)\n",
    "plt.plot(x, y)\n",
    "\n",
    "\n",
    "# Plot des deux arcs de cercle représentant dr ( en réalité 2 cercles superposés de rayon 1+dr (gris) et 1 (blanc))\n",
    "dr = 0.08\n",
    "inner_arc = patches.Circle((0,0), radius=1, color='white')\n",
    "outer_arc = patches.Circle((0,0), radius=1+dr, color='#BBB', label='dA = π/2·rdr')\n",
    "ax.add_patch(outer_arc)\n",
    "ax.add_patch(inner_arc)\n",
    "\n",
    "\n",
    "# paramétrage du plot\n",
    "## taille des bornes\n",
    "plt.xlim(0,2.5)\n",
    "plt.ylim(0, 2.5)\n",
    "## labels des axes\n",
    "plt.xlabel('x', loc='right')\n",
    "plt.ylabel('y', loc='top', rotation=0)\n",
    "## réduction du nombre de ticks\n",
    "plt.locator_params(axis='x', nbins=2)\n",
    "plt.locator_params(axis='y', nbins=2)\n",
    "\n",
    "# légende\n",
    "plt.legend()\n",
    "## lets's go\n",
    "plt.show()"
   ]
  },
  {
   "cell_type": "markdown",
   "id": "746c27ad",
   "metadata": {
    "ExecuteTime": {
     "end_time": "2022-01-19T08:55:56.478562Z",
     "start_time": "2022-01-19T08:55:56.472057Z"
    }
   },
   "source": [
    "### Écrire un autre script, en vous inspirant du premier, pour calculer cette intégrale."
   ]
  },
  {
   "cell_type": "code",
   "execution_count": null,
   "id": "043f7127",
   "metadata": {},
   "outputs": [],
   "source": [
    "A = 0  # initialisation de l'aire à 0\n",
    "dr = 1e-1  # pas d'intégration\n",
    "r = 0  # initialisation de r à la première borne\n",
    "while r < 2:  # tant que r est inférieur à la borne de fin, on répète le bloc indenté\n",
    "    A += (np.pi / 2) * r * dr  # On incrémente l'aire de π/2·rdr\n",
    "    r += dr  # on incrémente r du pas d'intégration\n",
    "print('Résultat par la méthode de Riemann: {0:f}'.format(A))\n",
    "print('Résultat par la méthode de Riemann: {0:f}'.format(np.pi))"
   ]
  },
  {
   "cell_type": "markdown",
   "id": "69241eed",
   "metadata": {},
   "source": [
    "## Extension au cas des intégrales multiples"
   ]
  },
  {
   "cell_type": "markdown",
   "id": "de0aa716",
   "metadata": {},
   "source": [
    "Reprendre l'exemple précédent du calcul de l'aire d'un quart de disque mais écrire cette fois le\n",
    "calcul de l'aire sous la forme d'une intégrale double, en cartésien et en polaire. Puis écrire les\n",
    "scripts correspondant. Indication : il faut écrire deux boucles imbriquées en faisant attention à\n",
    "l'initialisation des variables."
   ]
  },
  {
   "cell_type": "markdown",
   "id": "9ff846a6-65d3-4d58-bdd3-dc95f96cd559",
   "metadata": {},
   "source": [
    "### Surface calculée par une intégrale double en coordonnées cartésiennes (à rédiger)"
   ]
  },
  {
   "cell_type": "code",
   "execution_count": null,
   "id": "4279ad0d-6409-4f68-acf2-247afd5cde38",
   "metadata": {},
   "outputs": [],
   "source": []
  },
  {
   "cell_type": "markdown",
   "id": "b208b503-342b-4685-8f53-311def3f8dce",
   "metadata": {},
   "source": [
    "### Surface calculée par une intégrale double en coordonnées polaires"
   ]
  },
  {
   "cell_type": "markdown",
   "id": "1da781b4-2276-4624-97c8-1ff60b2e4066",
   "metadata": {},
   "source": [
    "![img](quart_disque_intregration_double.png)"
   ]
  },
  {
   "cell_type": "markdown",
   "id": "4834ee37-08e3-4086-aaf1-24f4c1db1e9a",
   "metadata": {},
   "source": [
    "$S = \\displaystyle\\frac{\\pi}{4} \\approx 0,785398163$ \n",
    "\n",
    "$\\mathrm{d}S = r \\mathrm{d}r \\mathrm{d}\\theta$ en coordonnées polaires.\n",
    "\n",
    "$S = \\displaystyle\\int_{0}^{1}\\int_{0}^{\\frac{\\pi}{2}} {\\mathrm{d}\\theta r \\mathrm{d}r } = \\int_{0}^{\\frac{\\pi}{2}}\\displaystyle\\int_{0}^{1} {r \\mathrm{d}r \\mathrm{d}\\theta} = \\int_{0}^{\\frac{\\pi}{2}} {\\mathrm{d}\\theta} \\displaystyle\\int_{0}^{1} {r \\mathrm{d}r }$.\n",
    "\n",
    "Peut-on inverser l'ordre d'intégration ? Oui car les variables sont séparées\n",
    "\n",
    "Peut-on séparer l'intégrale double en un produit de deux intégrales simples ? Oui pour la même raison.\n",
    "\n",
    "Résolution : $S =\\displaystyle\\frac{\\pi}{2} \\int_{0}^{1} {r \\mathrm{d}r} = \\displaystyle\\frac{\\pi}{4} \\left[ r^{2} \\right]_{0}^{1} = \\displaystyle\\frac{\\pi}{4}$\n"
   ]
  },
  {
   "cell_type": "code",
   "execution_count": null,
   "id": "f648bcc3-de9c-451a-860a-b52a83101112",
   "metadata": {},
   "outputs": [],
   "source": [
    "# script Python double intégrale avec 2 boucles imbriquées\n",
    "from math import pi, sin, cos\n",
    "S1 = 0\n",
    "S2 = 0\n",
    "dr = 1e-3\n",
    "dt = 1e-3\n",
    "\n",
    "# Premier calcul par le produit des deux intégrales\n",
    "r = 0\n",
    "while r < 1:\n",
    "    S1 += r*dr # mise à jour de S1\n",
    "    r += dr # incrémentation de r par le pas\n",
    "\n",
    "t = 0\n",
    "while t < pi/2:\n",
    "    S2 += dt # mise à jour de S2\n",
    "    t += dt # mise à jour de t\n",
    "    \n",
    "# Second calcul par boucles imbriquées\n",
    "\n",
    "S = 0\n",
    "r = 0\n",
    "\n",
    "while r < 1:\n",
    "    t = 0 # initialisation de t à la première borne\n",
    "    while t < pi/2:\n",
    "        S += r*dr*dt # mise à jour de S\n",
    "        t += dt # on incrémente t de la valeur du pas\n",
    "    r += dr # incrémentation de r par la valeur de son pas\n",
    "    \n",
    "print('Résultat par le produit des deux intégrales : {0:f}'.format(S1*S2))\n",
    "print('Résultat intégrale double : {0:f}'.format(S))\n",
    "print('Résultat par le calcul analytique π/4 : {0:f}'.format(pi/4))\n",
    "\n",
    "      "
   ]
  },
  {
   "cell_type": "markdown",
   "id": "a5d98c7a-f931-4641-8ac9-b416e9e3b4b5",
   "metadata": {},
   "source": [
    "Influence des pas d'intégration : comme prévisible, plus les pas sont petits et meilleure est\n",
    "la convergence vers la solution exacte. Mais attention au temps de calcul ! Avec 1E − 5 ça\n",
    "prend déjà plusieurs secondes pour les deux boucles imbriquées."
   ]
  },
  {
   "cell_type": "markdown",
   "id": "cd208f72",
   "metadata": {},
   "source": [
    "## Intégrale double quelconque à variables liées en coordonnées cartésiennes"
   ]
  },
  {
   "cell_type": "markdown",
   "id": "43653afb",
   "metadata": {},
   "source": [
    "Dans le plan $\\mathbb{R}^{2}$ muni d'un repère orthonormé, on considère le domaine $D$ défini par\n",
    "\n",
    " $D = \\left\\{ (x, y) \\in \\mathbb{R}^{2} / -2 \\leq y \\leq 2, \\displaystyle\\frac{1}{2}y - 1 \\leq x \\leq y^{2}\\right\\}$\n",
    "\n"
   ]
  },
  {
   "cell_type": "markdown",
   "id": "2982ab02",
   "metadata": {},
   "source": [
    "### Dessiner ce domaine et calculer son aire. Peut-on inverser l'ordre d'intégration ? Peut-on séparer l'intégrale double en un produit de deux intégrales simples ?"
   ]
  },
  {
   "cell_type": "markdown",
   "id": "3bfef9b2-fecd-4b30-b36b-0b4636e2fb6d",
   "metadata": {},
   "source": [
    "\\begin{equation*}\n",
    "\\begin{split}\n",
    "S & = \\displaystyle\\int_{-2}^{2}\\int_{\\frac{1}{2}y-1}^{y^{2}} {\\mathrm{d}x \\mathrm{d}y}\\\\\n",
    "& = \\displaystyle\\int_{-2}^{2} \\left( y^{2} - \\frac{1}{2}y + 1 \\right)\\mathrm{d}y\\\\\n",
    "& = \\displaystyle \\bigg[ \\displaystyle\\frac{y^{3}}{3} - \\frac{y^{2}}{4} + y \\bigg]_{-2}^{2} = \\frac{28}{3}\\\\\n",
    "\\end{split}\n",
    "\\end{equation*}"
   ]
  },
  {
   "cell_type": "markdown",
   "id": "04975ea4-6a7b-4233-ba95-d5d19751827d",
   "metadata": {},
   "source": [
    "Oui on peut inverser l'ordre d'intégration mais c'est plus dur car il faut couper l'intégrale en plusieurs parties :\n",
    "\n",
    "$S = \\displaystyle\\int_{-2}^{0}\\int_{-2}^{2x+2} {\\mathrm{d}y \\mathrm{d}x} + \\displaystyle\\int_{0}^{4}\\int_{-2}^{-\\sqrt{x}} {\\mathrm{d}y \\mathrm{d}x} + \\displaystyle\\int_{0}^{4}\\int_{\\sqrt{x}}^{2} {\\mathrm{d}y \\mathrm{d}x}$\n"
   ]
  },
  {
   "cell_type": "markdown",
   "id": "d8cfb8f9-eb3d-4e31-b238-9659f6e4dd88",
   "metadata": {},
   "source": [
    "Et on ne peut pas séparer l'intégrale en un produit de deux intégrales simples car les variables\n",
    "sont liées."
   ]
  },
  {
   "cell_type": "markdown",
   "id": "9e334a8f-a5c1-49f9-a835-573c679a89b6",
   "metadata": {},
   "source": [
    "![](fig_exercice_32.jpg)"
   ]
  },
  {
   "cell_type": "markdown",
   "id": "bece798a",
   "metadata": {},
   "source": [
    "### Écrire un script Python permettant d'approximer $S$."
   ]
  },
  {
   "cell_type": "code",
   "execution_count": null,
   "id": "b8b4cece",
   "metadata": {},
   "outputs": [],
   "source": [
    "S = 0 # initialisation du résultat\n",
    "dx = 1e-3 # on ne peut pas prendre plus petit, le temps de calcul exploserait\n",
    "dy = 1e-3\n",
    "\n",
    "y = -2 # initialisation de y à sa première borne\n",
    "\n",
    "while y < 2:\n",
    "    x = 0.5*y-1 # initialisation de x à sa première borne\n",
    "    while x < y**2: # tant que x est inférieur à y² on répète le bloc indenté suivant\n",
    "        S += dx*dy # mise à jour de S\n",
    "        x += dx # mise à jour de x, incrémenté par son pas\n",
    "    y += dy # mise à jour de y, incrémenté de son pas\n",
    "    \n",
    "print('Résultat par intégrale double : {0:f}'.format(S))\n",
    "print('Résultat par calcul analytique (28/3) : {0:f}'.format(28/3))"
   ]
  },
  {
   "cell_type": "code",
   "execution_count": null,
   "id": "94c475d3",
   "metadata": {},
   "outputs": [],
   "source": []
  },
  {
   "cell_type": "markdown",
   "id": "97d6d1ba",
   "metadata": {},
   "source": [
    "### Soit $f:D \\rightarrow \\mathbb{R}$ définie par $f(x,y) = x+y$. Soit l'intégrale $I = \\displaystyle\\iint_{D} {f(x,y) \\mathrm{d}x\\mathrm{d}y}$.\n",
    "\n",
    "Calculer $I$."
   ]
  },
  {
   "cell_type": "markdown",
   "id": "5bb27735-87a0-4a49-9695-720c408cd33e",
   "metadata": {},
   "source": [
    "\\begin{equation*}\n",
    "\\begin{split}\n",
    "I & = \\displaystyle\\int_{-2}^{2}\\int_{\\frac{1}{2}y-1}^{y^{2}} {(x+y) \\mathrm{d}x\\mathrm{d}y}\\\\\n",
    "& = \\displaystyle\\int_{-2}^{2} \\bigg[ \\displaystyle\\frac{x^{2}}{2} +yx \\bigg]_{\\frac{1}{2}y-1}^{y^{2}}\\mathrm{d}y\\\\\n",
    "& = \\displaystyle\\int_{-2}^{2} \\left( \\displaystyle\\frac{y^{4}}{2} + y^{3} -  \\frac{1}{2} \\left( \\frac{1}{2}y-1 \\right)^{2}- \\frac{1}{2}y^{2}+y \\right) \\mathrm{d}y\\\\\n",
    "& = \\displaystyle\\int_{-2}^{2} \\left( \\displaystyle\\frac{y^{4}}{2} + y^{3} - \\frac{5}{8}y^{2} + \\frac{1}{2}y -  \\frac{1}{2} \\right) \\mathrm{d}y\\\\\n",
    "& = \\displaystyle \\bigg[ \\displaystyle\\frac{y^{5}}{10} + \\frac{y^{4}}{4} - \\frac{5}{24}y^{3} + \\frac{1}{4}y^{2} -  \\frac{1}{2}y \\bigg]_{-2}^{2} = \\frac{16}{15} \\approx 1,066666667\\\\\n",
    "\\end{split}\n",
    "\\end{equation*}"
   ]
  },
  {
   "cell_type": "code",
   "execution_count": null,
   "id": "e2f6169f",
   "metadata": {},
   "outputs": [],
   "source": []
  },
  {
   "cell_type": "markdown",
   "id": "e77336e8",
   "metadata": {},
   "source": [
    "### Retrouver ce résultat à l'aide d'un script *Python*"
   ]
  },
  {
   "cell_type": "code",
   "execution_count": null,
   "id": "d814d3f6",
   "metadata": {},
   "outputs": [],
   "source": [
    "I = 0 # initialisation du résultat\n",
    "dx = 1e-3 # on ne peut pas prendre plus petit, le temps de calcul exploserait\n",
    "dy = 1e-3\n",
    "\n",
    "y = -2 # initialisation de y à sa première borne\n",
    "\n",
    "while y < 2:\n",
    "    x = 0.5*y-1 # initialisation de x à sa première borne\n",
    "    while x < y**2: # tant que x est inférieur à y² on répète le bloc indenté suivant\n",
    "        I += (x+y)*dx*dy # mise à jour de I\n",
    "        x += dx # mise à jour de x, incrémenté par son pas\n",
    "    y += dy # mise à jour de y, incrémenté de son pas\n",
    "    \n",
    "print('Résultat par intégrale double : {0:f}'.format(I))\n",
    "print('Résultat par calcul analytique (16/15) : {0:f}'.format(16/15))"
   ]
  },
  {
   "cell_type": "code",
   "execution_count": null,
   "id": "83dbe44a-3d4d-48fa-b6d9-5455c9c292ee",
   "metadata": {},
   "outputs": [],
   "source": []
  }
 ],
 "metadata": {
  "kernelspec": {
   "display_name": "Python 3 (ipykernel)",
   "language": "python",
   "name": "python3"
  },
  "language_info": {
   "codemirror_mode": {
    "name": "ipython",
    "version": 3
   },
   "file_extension": ".py",
   "mimetype": "text/x-python",
   "name": "python",
   "nbconvert_exporter": "python",
   "pygments_lexer": "ipython3",
   "version": "3.10.0rc1"
  },
  "toc": {
   "base_numbering": 1,
   "nav_menu": {},
   "number_sections": true,
   "sideBar": true,
   "skip_h1_title": true,
   "title_cell": "Table of Contents",
   "title_sidebar": "Contents",
   "toc_cell": false,
   "toc_position": {
    "height": "calc(100% - 180px)",
    "left": "10px",
    "top": "150px",
    "width": "297px"
   },
   "toc_section_display": true,
   "toc_window_display": false
  }
 },
 "nbformat": 4,
 "nbformat_minor": 5
}
